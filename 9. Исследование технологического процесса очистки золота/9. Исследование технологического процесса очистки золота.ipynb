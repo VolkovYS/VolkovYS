{
 "cells": [
  {
   "cell_type": "markdown",
   "metadata": {
    "toc": true
   },
   "source": [
    "<h1>Содержание<span class=\"tocSkip\"></span></h1>\n",
    "<div class=\"toc\"><ul class=\"toc-item\"><li><span><a href=\"#Подготовка-данных\" data-toc-modified-id=\"Подготовка-данных-1\"><span class=\"toc-item-num\">1&nbsp;&nbsp;</span>Подготовка данных</a></span><ul class=\"toc-item\"><li><span><a href=\"#Вывод\" data-toc-modified-id=\"Вывод-1.1\"><span class=\"toc-item-num\">1.1&nbsp;&nbsp;</span>Вывод</a></span></li></ul></li><li><span><a href=\"#Анализ-данных\" data-toc-modified-id=\"Анализ-данных-2\"><span class=\"toc-item-num\">2&nbsp;&nbsp;</span>Анализ данных</a></span><ul class=\"toc-item\"><li><span><a href=\"#Вывод\" data-toc-modified-id=\"Вывод-2.1\"><span class=\"toc-item-num\">2.1&nbsp;&nbsp;</span>Вывод</a></span></li></ul></li><li><span><a href=\"#Модель\" data-toc-modified-id=\"Модель-3\"><span class=\"toc-item-num\">3&nbsp;&nbsp;</span>Модель</a></span><ul class=\"toc-item\"><li><span><a href=\"#Построение-модели-для-чернового-концентрата\" data-toc-modified-id=\"Построение-модели-для-чернового-концентрата-3.1\"><span class=\"toc-item-num\">3.1&nbsp;&nbsp;</span>Построение модели для чернового концентрата</a></span></li><li><span><a href=\"#Вывод\" data-toc-modified-id=\"Вывод-3.2\"><span class=\"toc-item-num\">3.2&nbsp;&nbsp;</span>Вывод</a></span></li><li><span><a href=\"#Построение-модели-финального-концентрата\" data-toc-modified-id=\"Построение-модели-финального-концентрата-3.3\"><span class=\"toc-item-num\">3.3&nbsp;&nbsp;</span>Построение модели финального концентрата</a></span></li><li><span><a href=\"#Вывод\" data-toc-modified-id=\"Вывод-3.4\"><span class=\"toc-item-num\">3.4&nbsp;&nbsp;</span>Вывод</a></span></li><li><span><a href=\"#Проверка-на-тестовой-выборке\" data-toc-modified-id=\"Проверка-на-тестовой-выборке-3.5\"><span class=\"toc-item-num\">3.5&nbsp;&nbsp;</span>Проверка на тестовой выборке</a></span></li><li><span><a href=\"#Вывод\" data-toc-modified-id=\"Вывод-3.6\"><span class=\"toc-item-num\">3.6&nbsp;&nbsp;</span>Вывод</a></span></li><li><span><a href=\"#Проверка-адекватности-модели\" data-toc-modified-id=\"Проверка-адекватности-модели-3.7\"><span class=\"toc-item-num\">3.7&nbsp;&nbsp;</span>Проверка адекватности модели</a></span></li><li><span><a href=\"#Вывод\" data-toc-modified-id=\"Вывод-3.8\"><span class=\"toc-item-num\">3.8&nbsp;&nbsp;</span>Вывод</a></span></li></ul></li><li><span><a href=\"#Общий-вывод\" data-toc-modified-id=\"Общий-вывод-4\"><span class=\"toc-item-num\">4&nbsp;&nbsp;</span>Общий вывод</a></span></li><li><span><a href=\"#Чек-лист-готовности-проекта\" data-toc-modified-id=\"Чек-лист-готовности-проекта-5\"><span class=\"toc-item-num\">5&nbsp;&nbsp;</span>Чек-лист готовности проекта</a></span></li></ul></div>"
   ]
  },
  {
   "cell_type": "markdown",
   "metadata": {},
   "source": [
    "# Восстановление золота из руды"
   ]
  },
  {
   "cell_type": "markdown",
   "metadata": {},
   "source": [
    "Подготовьте прототип модели машинного обучения для «Цифры». Компания разрабатывает решения для эффективной работы промышленных предприятий.\n",
    "\n",
    "Модель должна предсказать коэффициент восстановления золота из золотосодержащей руды. Используйте данные с параметрами добычи и очистки. \n",
    "\n",
    "Модель поможет оптимизировать производство, чтобы не запускать предприятие с убыточными характеристиками.\n",
    "\n",
    "Вам нужно:\n",
    "\n",
    "1. Подготовить данные;\n",
    "2. Провести исследовательский анализ данных;\n",
    "3. Построить и обучить модель.\n",
    "\n",
    "Чтобы выполнить проект, обращайтесь к библиотекам *pandas*, *matplotlib* и *sklearn.* Вам поможет их документация."
   ]
  },
  {
   "cell_type": "markdown",
   "metadata": {},
   "source": [
    "# Описание проекта"
   ]
  },
  {
   "cell_type": "markdown",
   "metadata": {},
   "source": [
    "Данные находятся в трёх файлах:\n",
    "<br> gold_recovery_train_new.csv — обучающая выборка;\n",
    "<br> gold_recovery_test_new.csv — тестовая выборка;\n",
    "<br> gold_recovery_full_new.csv — исходные данные.\n",
    "<br> Данные индексируются датой и временем получения информации (признак date). Соседние по времени параметры часто похожи.\n",
    "Некоторые параметры недоступны, потому что замеряются и/или рассчитываются значительно позже. Из-за этого в тестовой выборке отсутствуют некоторые признаки, которые могут быть в обучающей. Также в тестовом наборе нет целевых признаков.\n",
    "<br> Исходный датасет содержит обучающую и тестовую выборки со всеми признаками.\n",
    "<br> В вашем распоряжении сырые данные: их просто выгрузили из хранилища. Прежде чем приступить к построению модели, проверьте по нашей инструкции их на корректность."
   ]
  },
  {
   "cell_type": "markdown",
   "metadata": {},
   "source": [
    "### Описание данных <a class=\"tocSkip\">"
   ]
  },
  {
   "cell_type": "markdown",
   "metadata": {},
   "source": [
    "<div style=\"border:solid green 5px; padding: 16px; border-radius: 10px\">\n",
    "    \n",
    "**<font color=\"green\">Технологический процесс</font>**     \n",
    "    \n",
    "<br>Rougher feed — исходное сырье\n",
    "<br>Rougher additions (или reagent additions) — флотационные реагенты: Xanthate, Sulphate, Depressant\n",
    "<br>Xanthate **— ксантогенат (промотер, или активатор флотации);\n",
    "<br>Sulphate — сульфат (на данном производстве сульфид натрия);\n",
    "<br>Depressant — депрессант (силикат натрия).\n",
    "<br>Rougher process (англ. «грубый процесс») — флотация\n",
    "<br>Rougher tails — отвальные хвосты\n",
    "<br>Float banks — флотационная установка\n",
    "<br>Cleaner process — очистка\n",
    "<br>Rougher Au — черновой концентрат золота\n",
    "<br>Final Au — финальный концентрат золота\n",
    "    \n",
    "**<font color=\"green\">Параметры этапов</font>**     \n",
    "<br>air amount — объём воздуха\n",
    "<br>fluid levels — уровень жидкости\n",
    "<br>feed size — размер гранул сырья\n",
    "<br>feed rate — скорость подачи\n",
    "    \n",
    "**<font color=\"green\">Наименование признаков</font>** \n",
    "<br>Наименование признаков должно быть такое:\n",
    "<br>[этап].[тип_параметра].[название_параметра]\n",
    "<br>Пример: rougher.input.feed_ag\n",
    "    \n",
    "**<font color=\"green\">Возможные значения для блока [этап]:</font>** \n",
    "<br>rougher — флотация\n",
    "<br>primary_cleaner — первичная очистка\n",
    "<br>secondary_cleaner — вторичная очистка\n",
    "<br>final — финальные характеристики\n",
    "    \n",
    "**<font color=\"green\">Возможные значения для блока [тип_параметра]:</font>** \n",
    "<br>input — параметры сырья\n",
    "<br>output — параметры продукта\n",
    "<br>state — параметры, характеризующие текущее состояние этапа\n",
    "<br>calculation — расчётные характеристики"
   ]
  },
  {
   "cell_type": "markdown",
   "metadata": {},
   "source": [
    "## Подготовка данных"
   ]
  },
  {
   "cell_type": "code",
   "execution_count": 1,
   "metadata": {},
   "outputs": [],
   "source": [
    "import pandas as pd\n",
    "pd.set_option('display.max_columns', None) #выведем все столбцы таблицы на экран\n",
    "pd.set_option('display.max_rows', None)#выведем все строки таблицы на экран\n",
    "from sklearn.metrics import mean_absolute_error\n",
    "import seaborn as sns\n",
    "import matplotlib.pyplot as plt\n",
    "from matplotlib import style\n",
    "style.use('dark_background')\n",
    "import numpy as np\n",
    "from sklearn.ensemble import RandomForestRegressor\n",
    "from sklearn.tree import DecisionTreeRegressor\n",
    "from sklearn.linear_model import LinearRegression\n",
    "from sklearn.model_selection import cross_val_score\n",
    "from sklearn.metrics import make_scorer\n",
    "from tqdm import tqdm\n",
    "from sklearn.dummy import DummyRegressor"
   ]
  },
  {
   "cell_type": "code",
   "execution_count": 2,
   "metadata": {},
   "outputs": [],
   "source": [
    "train = pd.read_csv(\"/datasets/gold_recovery_train_new.csv\",index_col='date')\n",
    "test = pd.read_csv(\"/datasets/gold_recovery_test_new.csv\",index_col='date')\n",
    "full = pd.read_csv(\"/datasets/gold_recovery_full_new.csv\",index_col='date')"
   ]
  },
  {
   "cell_type": "markdown",
   "metadata": {},
   "source": [
    "<font color='blue'><b>Комментарий ревьюера: </b></font> ✔️\\\n",
    "<font color='green'> Отлично, что сразу индексируешь по дате.</font>"
   ]
  },
  {
   "cell_type": "code",
   "execution_count": 3,
   "metadata": {},
   "outputs": [],
   "source": [
    "#Дадим название таблицам\n",
    "train.name='Обучающая выборка'\n",
    "test.name = 'Тестовая выборка'\n",
    "full.name = 'Исходные данные'"
   ]
  },
  {
   "cell_type": "code",
   "execution_count": 4,
   "metadata": {},
   "outputs": [],
   "source": [
    "#Создадим функцию для отображения общей информации о таблице\n",
    "def describe_data(df):\n",
    "    print('Первые 10 строк таблицы:', df.name)\n",
    "    display(df.head(10))\n",
    "    print('Информация о таблице:', df.name)\n",
    "    print(df.info(memory_usage='deep'))\n",
    "    print('Количество пропусков в таблице:', df.name)\n",
    "    print(df.isna().mean())\n",
    "    print('Получение сводки по таблице:', df.name)\n",
    "    display(df.describe().T)\n",
    "    print('Количество дубликатов в таблице', df.name, ':', df.duplicated().sum()) \n",
    "#    print('Распределение по объему запасов в скважине:', df.name) \n",
    "#    sns.displot(df['product']) "
   ]
  },
  {
   "cell_type": "code",
   "execution_count": 5,
   "metadata": {
    "scrolled": false
   },
   "outputs": [
    {
     "name": "stdout",
     "output_type": "stream",
     "text": [
      "Первые 10 строк таблицы: Обучающая выборка\n"
     ]
    },
    {
     "data": {
      "text/html": [
       "<div>\n",
       "<style scoped>\n",
       "    .dataframe tbody tr th:only-of-type {\n",
       "        vertical-align: middle;\n",
       "    }\n",
       "\n",
       "    .dataframe tbody tr th {\n",
       "        vertical-align: top;\n",
       "    }\n",
       "\n",
       "    .dataframe thead th {\n",
       "        text-align: right;\n",
       "    }\n",
       "</style>\n",
       "<table border=\"1\" class=\"dataframe\">\n",
       "  <thead>\n",
       "    <tr style=\"text-align: right;\">\n",
       "      <th></th>\n",
       "      <th>final.output.concentrate_ag</th>\n",
       "      <th>final.output.concentrate_pb</th>\n",
       "      <th>final.output.concentrate_sol</th>\n",
       "      <th>final.output.concentrate_au</th>\n",
       "      <th>final.output.recovery</th>\n",
       "      <th>final.output.tail_ag</th>\n",
       "      <th>final.output.tail_pb</th>\n",
       "      <th>final.output.tail_sol</th>\n",
       "      <th>final.output.tail_au</th>\n",
       "      <th>primary_cleaner.input.sulfate</th>\n",
       "      <th>primary_cleaner.input.depressant</th>\n",
       "      <th>primary_cleaner.input.feed_size</th>\n",
       "      <th>primary_cleaner.input.xanthate</th>\n",
       "      <th>primary_cleaner.output.concentrate_ag</th>\n",
       "      <th>primary_cleaner.output.concentrate_pb</th>\n",
       "      <th>primary_cleaner.output.concentrate_sol</th>\n",
       "      <th>primary_cleaner.output.concentrate_au</th>\n",
       "      <th>primary_cleaner.output.tail_ag</th>\n",
       "      <th>primary_cleaner.output.tail_pb</th>\n",
       "      <th>primary_cleaner.output.tail_sol</th>\n",
       "      <th>primary_cleaner.output.tail_au</th>\n",
       "      <th>primary_cleaner.state.floatbank8_a_air</th>\n",
       "      <th>primary_cleaner.state.floatbank8_a_level</th>\n",
       "      <th>primary_cleaner.state.floatbank8_b_air</th>\n",
       "      <th>primary_cleaner.state.floatbank8_b_level</th>\n",
       "      <th>primary_cleaner.state.floatbank8_c_air</th>\n",
       "      <th>primary_cleaner.state.floatbank8_c_level</th>\n",
       "      <th>primary_cleaner.state.floatbank8_d_air</th>\n",
       "      <th>primary_cleaner.state.floatbank8_d_level</th>\n",
       "      <th>rougher.calculation.sulfate_to_au_concentrate</th>\n",
       "      <th>rougher.calculation.floatbank10_sulfate_to_au_feed</th>\n",
       "      <th>rougher.calculation.floatbank11_sulfate_to_au_feed</th>\n",
       "      <th>rougher.calculation.au_pb_ratio</th>\n",
       "      <th>rougher.input.feed_ag</th>\n",
       "      <th>rougher.input.feed_pb</th>\n",
       "      <th>rougher.input.feed_rate</th>\n",
       "      <th>rougher.input.feed_size</th>\n",
       "      <th>rougher.input.feed_sol</th>\n",
       "      <th>rougher.input.feed_au</th>\n",
       "      <th>rougher.input.floatbank10_sulfate</th>\n",
       "      <th>rougher.input.floatbank10_xanthate</th>\n",
       "      <th>rougher.input.floatbank11_sulfate</th>\n",
       "      <th>rougher.input.floatbank11_xanthate</th>\n",
       "      <th>rougher.output.concentrate_ag</th>\n",
       "      <th>rougher.output.concentrate_pb</th>\n",
       "      <th>rougher.output.concentrate_sol</th>\n",
       "      <th>rougher.output.concentrate_au</th>\n",
       "      <th>rougher.output.recovery</th>\n",
       "      <th>rougher.output.tail_ag</th>\n",
       "      <th>rougher.output.tail_pb</th>\n",
       "      <th>rougher.output.tail_sol</th>\n",
       "      <th>rougher.output.tail_au</th>\n",
       "      <th>rougher.state.floatbank10_a_air</th>\n",
       "      <th>rougher.state.floatbank10_a_level</th>\n",
       "      <th>rougher.state.floatbank10_b_air</th>\n",
       "      <th>rougher.state.floatbank10_b_level</th>\n",
       "      <th>rougher.state.floatbank10_c_air</th>\n",
       "      <th>rougher.state.floatbank10_c_level</th>\n",
       "      <th>rougher.state.floatbank10_d_air</th>\n",
       "      <th>rougher.state.floatbank10_d_level</th>\n",
       "      <th>rougher.state.floatbank10_e_air</th>\n",
       "      <th>rougher.state.floatbank10_e_level</th>\n",
       "      <th>rougher.state.floatbank10_f_air</th>\n",
       "      <th>rougher.state.floatbank10_f_level</th>\n",
       "      <th>secondary_cleaner.output.tail_ag</th>\n",
       "      <th>secondary_cleaner.output.tail_pb</th>\n",
       "      <th>secondary_cleaner.output.tail_sol</th>\n",
       "      <th>secondary_cleaner.output.tail_au</th>\n",
       "      <th>secondary_cleaner.state.floatbank2_a_air</th>\n",
       "      <th>secondary_cleaner.state.floatbank2_a_level</th>\n",
       "      <th>secondary_cleaner.state.floatbank2_b_air</th>\n",
       "      <th>secondary_cleaner.state.floatbank2_b_level</th>\n",
       "      <th>secondary_cleaner.state.floatbank3_a_air</th>\n",
       "      <th>secondary_cleaner.state.floatbank3_a_level</th>\n",
       "      <th>secondary_cleaner.state.floatbank3_b_air</th>\n",
       "      <th>secondary_cleaner.state.floatbank3_b_level</th>\n",
       "      <th>secondary_cleaner.state.floatbank4_a_air</th>\n",
       "      <th>secondary_cleaner.state.floatbank4_a_level</th>\n",
       "      <th>secondary_cleaner.state.floatbank4_b_air</th>\n",
       "      <th>secondary_cleaner.state.floatbank4_b_level</th>\n",
       "      <th>secondary_cleaner.state.floatbank5_a_air</th>\n",
       "      <th>secondary_cleaner.state.floatbank5_a_level</th>\n",
       "      <th>secondary_cleaner.state.floatbank5_b_air</th>\n",
       "      <th>secondary_cleaner.state.floatbank5_b_level</th>\n",
       "      <th>secondary_cleaner.state.floatbank6_a_air</th>\n",
       "      <th>secondary_cleaner.state.floatbank6_a_level</th>\n",
       "    </tr>\n",
       "    <tr>\n",
       "      <th>date</th>\n",
       "      <th></th>\n",
       "      <th></th>\n",
       "      <th></th>\n",
       "      <th></th>\n",
       "      <th></th>\n",
       "      <th></th>\n",
       "      <th></th>\n",
       "      <th></th>\n",
       "      <th></th>\n",
       "      <th></th>\n",
       "      <th></th>\n",
       "      <th></th>\n",
       "      <th></th>\n",
       "      <th></th>\n",
       "      <th></th>\n",
       "      <th></th>\n",
       "      <th></th>\n",
       "      <th></th>\n",
       "      <th></th>\n",
       "      <th></th>\n",
       "      <th></th>\n",
       "      <th></th>\n",
       "      <th></th>\n",
       "      <th></th>\n",
       "      <th></th>\n",
       "      <th></th>\n",
       "      <th></th>\n",
       "      <th></th>\n",
       "      <th></th>\n",
       "      <th></th>\n",
       "      <th></th>\n",
       "      <th></th>\n",
       "      <th></th>\n",
       "      <th></th>\n",
       "      <th></th>\n",
       "      <th></th>\n",
       "      <th></th>\n",
       "      <th></th>\n",
       "      <th></th>\n",
       "      <th></th>\n",
       "      <th></th>\n",
       "      <th></th>\n",
       "      <th></th>\n",
       "      <th></th>\n",
       "      <th></th>\n",
       "      <th></th>\n",
       "      <th></th>\n",
       "      <th></th>\n",
       "      <th></th>\n",
       "      <th></th>\n",
       "      <th></th>\n",
       "      <th></th>\n",
       "      <th></th>\n",
       "      <th></th>\n",
       "      <th></th>\n",
       "      <th></th>\n",
       "      <th></th>\n",
       "      <th></th>\n",
       "      <th></th>\n",
       "      <th></th>\n",
       "      <th></th>\n",
       "      <th></th>\n",
       "      <th></th>\n",
       "      <th></th>\n",
       "      <th></th>\n",
       "      <th></th>\n",
       "      <th></th>\n",
       "      <th></th>\n",
       "      <th></th>\n",
       "      <th></th>\n",
       "      <th></th>\n",
       "      <th></th>\n",
       "      <th></th>\n",
       "      <th></th>\n",
       "      <th></th>\n",
       "      <th></th>\n",
       "      <th></th>\n",
       "      <th></th>\n",
       "      <th></th>\n",
       "      <th></th>\n",
       "      <th></th>\n",
       "      <th></th>\n",
       "      <th></th>\n",
       "      <th></th>\n",
       "      <th></th>\n",
       "      <th></th>\n",
       "    </tr>\n",
       "  </thead>\n",
       "  <tbody>\n",
       "    <tr>\n",
       "      <th>2016-01-15 00:00:00</th>\n",
       "      <td>6.055403</td>\n",
       "      <td>9.889648</td>\n",
       "      <td>5.507324</td>\n",
       "      <td>42.192020</td>\n",
       "      <td>70.541216</td>\n",
       "      <td>10.411962</td>\n",
       "      <td>0.895447</td>\n",
       "      <td>16.904297</td>\n",
       "      <td>2.143149</td>\n",
       "      <td>127.092003</td>\n",
       "      <td>10.128295</td>\n",
       "      <td>7.25</td>\n",
       "      <td>0.988759</td>\n",
       "      <td>8.547551</td>\n",
       "      <td>10.389648</td>\n",
       "      <td>19.529297</td>\n",
       "      <td>34.174427</td>\n",
       "      <td>14.936526</td>\n",
       "      <td>2.534912</td>\n",
       "      <td>7.476074</td>\n",
       "      <td>2.106679</td>\n",
       "      <td>1549.775757</td>\n",
       "      <td>-498.912140</td>\n",
       "      <td>1551.434204</td>\n",
       "      <td>-516.403442</td>\n",
       "      <td>1549.873901</td>\n",
       "      <td>-498.666595</td>\n",
       "      <td>1554.367432</td>\n",
       "      <td>-493.428131</td>\n",
       "      <td>41885.707031</td>\n",
       "      <td>3481.779053</td>\n",
       "      <td>3520.337158</td>\n",
       "      <td>2.838687</td>\n",
       "      <td>6.100378</td>\n",
       "      <td>2.284912</td>\n",
       "      <td>523.546326</td>\n",
       "      <td>55.486599</td>\n",
       "      <td>36.808594</td>\n",
       "      <td>6.486150</td>\n",
       "      <td>11.986616</td>\n",
       "      <td>6.007990</td>\n",
       "      <td>11.836743</td>\n",
       "      <td>6.005818</td>\n",
       "      <td>11.500771</td>\n",
       "      <td>7.101074</td>\n",
       "      <td>28.029297</td>\n",
       "      <td>19.793808</td>\n",
       "      <td>87.107763</td>\n",
       "      <td>5.008018</td>\n",
       "      <td>0.508728</td>\n",
       "      <td>19.154297</td>\n",
       "      <td>1.170244</td>\n",
       "      <td>999.706909</td>\n",
       "      <td>-404.066986</td>\n",
       "      <td>1603.011353</td>\n",
       "      <td>-434.715027</td>\n",
       "      <td>1602.375000</td>\n",
       "      <td>-442.204468</td>\n",
       "      <td>1598.937256</td>\n",
       "      <td>-451.294128</td>\n",
       "      <td>1404.472046</td>\n",
       "      <td>-455.462982</td>\n",
       "      <td>1416.354980</td>\n",
       "      <td>-451.939636</td>\n",
       "      <td>14.500184</td>\n",
       "      <td>4.694824</td>\n",
       "      <td>8.764648</td>\n",
       "      <td>2.606185</td>\n",
       "      <td>25.853109</td>\n",
       "      <td>-498.526489</td>\n",
       "      <td>23.893660</td>\n",
       "      <td>-501.406281</td>\n",
       "      <td>23.961798</td>\n",
       "      <td>-495.262817</td>\n",
       "      <td>21.940409</td>\n",
       "      <td>-499.340973</td>\n",
       "      <td>14.016835</td>\n",
       "      <td>-502.488007</td>\n",
       "      <td>12.099931</td>\n",
       "      <td>-504.715942</td>\n",
       "      <td>9.925633</td>\n",
       "      <td>-498.310211</td>\n",
       "      <td>8.079666</td>\n",
       "      <td>-500.470978</td>\n",
       "      <td>14.151341</td>\n",
       "      <td>-605.841980</td>\n",
       "    </tr>\n",
       "    <tr>\n",
       "      <th>2016-01-15 01:00:00</th>\n",
       "      <td>6.029369</td>\n",
       "      <td>9.968944</td>\n",
       "      <td>5.257781</td>\n",
       "      <td>42.701629</td>\n",
       "      <td>69.266198</td>\n",
       "      <td>10.462676</td>\n",
       "      <td>0.927452</td>\n",
       "      <td>16.634514</td>\n",
       "      <td>2.224930</td>\n",
       "      <td>125.629232</td>\n",
       "      <td>10.296251</td>\n",
       "      <td>7.25</td>\n",
       "      <td>1.002663</td>\n",
       "      <td>8.558743</td>\n",
       "      <td>10.497069</td>\n",
       "      <td>19.369147</td>\n",
       "      <td>34.118526</td>\n",
       "      <td>16.250511</td>\n",
       "      <td>3.049646</td>\n",
       "      <td>6.733907</td>\n",
       "      <td>2.353017</td>\n",
       "      <td>1576.166671</td>\n",
       "      <td>-500.904965</td>\n",
       "      <td>1575.950626</td>\n",
       "      <td>-499.865889</td>\n",
       "      <td>1575.994189</td>\n",
       "      <td>-499.315107</td>\n",
       "      <td>1574.479259</td>\n",
       "      <td>-498.931665</td>\n",
       "      <td>42050.861809</td>\n",
       "      <td>3498.370979</td>\n",
       "      <td>3489.981857</td>\n",
       "      <td>2.858998</td>\n",
       "      <td>6.161113</td>\n",
       "      <td>2.266033</td>\n",
       "      <td>525.290581</td>\n",
       "      <td>57.278666</td>\n",
       "      <td>35.753385</td>\n",
       "      <td>6.478583</td>\n",
       "      <td>11.971193</td>\n",
       "      <td>6.005766</td>\n",
       "      <td>11.996163</td>\n",
       "      <td>6.012594</td>\n",
       "      <td>11.615865</td>\n",
       "      <td>7.278807</td>\n",
       "      <td>28.067063</td>\n",
       "      <td>20.050975</td>\n",
       "      <td>86.843261</td>\n",
       "      <td>4.955378</td>\n",
       "      <td>0.536689</td>\n",
       "      <td>18.965234</td>\n",
       "      <td>1.184827</td>\n",
       "      <td>1000.286398</td>\n",
       "      <td>-400.065196</td>\n",
       "      <td>1600.754587</td>\n",
       "      <td>-449.953435</td>\n",
       "      <td>1600.479580</td>\n",
       "      <td>-449.830646</td>\n",
       "      <td>1600.527589</td>\n",
       "      <td>-449.953649</td>\n",
       "      <td>1399.227084</td>\n",
       "      <td>-450.869848</td>\n",
       "      <td>1399.719514</td>\n",
       "      <td>-450.119001</td>\n",
       "      <td>14.265474</td>\n",
       "      <td>4.592547</td>\n",
       "      <td>9.001494</td>\n",
       "      <td>2.488248</td>\n",
       "      <td>25.880539</td>\n",
       "      <td>-499.989656</td>\n",
       "      <td>23.889530</td>\n",
       "      <td>-500.372428</td>\n",
       "      <td>23.970550</td>\n",
       "      <td>-500.085473</td>\n",
       "      <td>22.085714</td>\n",
       "      <td>-499.446897</td>\n",
       "      <td>13.992281</td>\n",
       "      <td>-505.503262</td>\n",
       "      <td>11.950531</td>\n",
       "      <td>-501.331529</td>\n",
       "      <td>10.039245</td>\n",
       "      <td>-500.169983</td>\n",
       "      <td>7.984757</td>\n",
       "      <td>-500.582168</td>\n",
       "      <td>13.998353</td>\n",
       "      <td>-599.787184</td>\n",
       "    </tr>\n",
       "    <tr>\n",
       "      <th>2016-01-15 02:00:00</th>\n",
       "      <td>6.055926</td>\n",
       "      <td>10.213995</td>\n",
       "      <td>5.383759</td>\n",
       "      <td>42.657501</td>\n",
       "      <td>68.116445</td>\n",
       "      <td>10.507046</td>\n",
       "      <td>0.953716</td>\n",
       "      <td>16.208849</td>\n",
       "      <td>2.257889</td>\n",
       "      <td>123.819808</td>\n",
       "      <td>11.316280</td>\n",
       "      <td>7.25</td>\n",
       "      <td>0.991265</td>\n",
       "      <td>8.603505</td>\n",
       "      <td>10.354494</td>\n",
       "      <td>19.167579</td>\n",
       "      <td>33.969464</td>\n",
       "      <td>16.491823</td>\n",
       "      <td>3.124664</td>\n",
       "      <td>6.471768</td>\n",
       "      <td>2.416800</td>\n",
       "      <td>1601.556163</td>\n",
       "      <td>-499.997791</td>\n",
       "      <td>1600.386685</td>\n",
       "      <td>-500.607762</td>\n",
       "      <td>1602.003542</td>\n",
       "      <td>-500.870069</td>\n",
       "      <td>1599.541515</td>\n",
       "      <td>-499.827444</td>\n",
       "      <td>42018.101184</td>\n",
       "      <td>3495.348910</td>\n",
       "      <td>3502.359819</td>\n",
       "      <td>2.945989</td>\n",
       "      <td>6.116455</td>\n",
       "      <td>2.159622</td>\n",
       "      <td>530.026610</td>\n",
       "      <td>57.510649</td>\n",
       "      <td>35.971630</td>\n",
       "      <td>6.362222</td>\n",
       "      <td>11.920603</td>\n",
       "      <td>6.197377</td>\n",
       "      <td>11.920305</td>\n",
       "      <td>6.204633</td>\n",
       "      <td>11.695753</td>\n",
       "      <td>7.216833</td>\n",
       "      <td>27.454037</td>\n",
       "      <td>19.737170</td>\n",
       "      <td>86.842308</td>\n",
       "      <td>4.843460</td>\n",
       "      <td>0.546416</td>\n",
       "      <td>18.808533</td>\n",
       "      <td>1.162562</td>\n",
       "      <td>999.719565</td>\n",
       "      <td>-400.074028</td>\n",
       "      <td>1599.337330</td>\n",
       "      <td>-450.008530</td>\n",
       "      <td>1599.672797</td>\n",
       "      <td>-449.954491</td>\n",
       "      <td>1599.849325</td>\n",
       "      <td>-449.954185</td>\n",
       "      <td>1399.180945</td>\n",
       "      <td>-449.937588</td>\n",
       "      <td>1400.316682</td>\n",
       "      <td>-450.527147</td>\n",
       "      <td>14.115662</td>\n",
       "      <td>4.624775</td>\n",
       "      <td>8.842896</td>\n",
       "      <td>2.458187</td>\n",
       "      <td>26.005245</td>\n",
       "      <td>-499.929616</td>\n",
       "      <td>23.886657</td>\n",
       "      <td>-499.951928</td>\n",
       "      <td>23.913535</td>\n",
       "      <td>-499.442343</td>\n",
       "      <td>23.957717</td>\n",
       "      <td>-499.901982</td>\n",
       "      <td>14.015015</td>\n",
       "      <td>-502.520901</td>\n",
       "      <td>11.912783</td>\n",
       "      <td>-501.133383</td>\n",
       "      <td>10.070913</td>\n",
       "      <td>-500.129135</td>\n",
       "      <td>8.013877</td>\n",
       "      <td>-500.517572</td>\n",
       "      <td>14.028663</td>\n",
       "      <td>-601.427363</td>\n",
       "    </tr>\n",
       "    <tr>\n",
       "      <th>2016-01-15 03:00:00</th>\n",
       "      <td>6.047977</td>\n",
       "      <td>9.977019</td>\n",
       "      <td>4.858634</td>\n",
       "      <td>42.689819</td>\n",
       "      <td>68.347543</td>\n",
       "      <td>10.422762</td>\n",
       "      <td>0.883763</td>\n",
       "      <td>16.532835</td>\n",
       "      <td>2.146849</td>\n",
       "      <td>122.270188</td>\n",
       "      <td>11.322140</td>\n",
       "      <td>7.25</td>\n",
       "      <td>0.996739</td>\n",
       "      <td>7.221879</td>\n",
       "      <td>8.496563</td>\n",
       "      <td>15.978538</td>\n",
       "      <td>28.260743</td>\n",
       "      <td>16.024359</td>\n",
       "      <td>2.960362</td>\n",
       "      <td>6.843791</td>\n",
       "      <td>2.262051</td>\n",
       "      <td>1599.968720</td>\n",
       "      <td>-500.951778</td>\n",
       "      <td>1600.659236</td>\n",
       "      <td>-499.677094</td>\n",
       "      <td>1600.304144</td>\n",
       "      <td>-500.727997</td>\n",
       "      <td>1600.449520</td>\n",
       "      <td>-500.052575</td>\n",
       "      <td>42029.447991</td>\n",
       "      <td>3498.578313</td>\n",
       "      <td>3499.162912</td>\n",
       "      <td>3.002340</td>\n",
       "      <td>6.043309</td>\n",
       "      <td>2.037807</td>\n",
       "      <td>542.590390</td>\n",
       "      <td>57.792734</td>\n",
       "      <td>36.862241</td>\n",
       "      <td>6.118189</td>\n",
       "      <td>11.630094</td>\n",
       "      <td>6.203177</td>\n",
       "      <td>11.692450</td>\n",
       "      <td>6.196578</td>\n",
       "      <td>11.915047</td>\n",
       "      <td>7.175616</td>\n",
       "      <td>27.341277</td>\n",
       "      <td>19.320810</td>\n",
       "      <td>87.226430</td>\n",
       "      <td>4.655288</td>\n",
       "      <td>0.542525</td>\n",
       "      <td>19.330200</td>\n",
       "      <td>1.079755</td>\n",
       "      <td>999.814770</td>\n",
       "      <td>-400.200179</td>\n",
       "      <td>1600.059442</td>\n",
       "      <td>-450.619948</td>\n",
       "      <td>1600.012842</td>\n",
       "      <td>-449.910497</td>\n",
       "      <td>1597.725177</td>\n",
       "      <td>-450.130127</td>\n",
       "      <td>1400.943157</td>\n",
       "      <td>-450.030142</td>\n",
       "      <td>1400.234743</td>\n",
       "      <td>-449.790835</td>\n",
       "      <td>13.732071</td>\n",
       "      <td>4.482453</td>\n",
       "      <td>9.122857</td>\n",
       "      <td>2.322062</td>\n",
       "      <td>25.942508</td>\n",
       "      <td>-499.176749</td>\n",
       "      <td>23.955516</td>\n",
       "      <td>-499.848796</td>\n",
       "      <td>23.966838</td>\n",
       "      <td>-500.008812</td>\n",
       "      <td>23.954443</td>\n",
       "      <td>-499.944710</td>\n",
       "      <td>14.036510</td>\n",
       "      <td>-500.857308</td>\n",
       "      <td>11.999550</td>\n",
       "      <td>-501.193686</td>\n",
       "      <td>9.970366</td>\n",
       "      <td>-499.201640</td>\n",
       "      <td>7.977324</td>\n",
       "      <td>-500.255908</td>\n",
       "      <td>14.005551</td>\n",
       "      <td>-599.996129</td>\n",
       "    </tr>\n",
       "    <tr>\n",
       "      <th>2016-01-15 04:00:00</th>\n",
       "      <td>6.148599</td>\n",
       "      <td>10.142511</td>\n",
       "      <td>4.939416</td>\n",
       "      <td>42.774141</td>\n",
       "      <td>66.927016</td>\n",
       "      <td>10.360302</td>\n",
       "      <td>0.792826</td>\n",
       "      <td>16.525686</td>\n",
       "      <td>2.055292</td>\n",
       "      <td>117.988169</td>\n",
       "      <td>11.913613</td>\n",
       "      <td>7.25</td>\n",
       "      <td>1.009869</td>\n",
       "      <td>9.089428</td>\n",
       "      <td>9.986786</td>\n",
       "      <td>19.199864</td>\n",
       "      <td>33.044932</td>\n",
       "      <td>16.480185</td>\n",
       "      <td>3.112100</td>\n",
       "      <td>6.550154</td>\n",
       "      <td>2.277073</td>\n",
       "      <td>1601.339707</td>\n",
       "      <td>-498.975456</td>\n",
       "      <td>1601.437854</td>\n",
       "      <td>-500.323246</td>\n",
       "      <td>1599.581894</td>\n",
       "      <td>-500.888152</td>\n",
       "      <td>1602.649541</td>\n",
       "      <td>-500.593010</td>\n",
       "      <td>42125.354245</td>\n",
       "      <td>3494.800771</td>\n",
       "      <td>3506.679315</td>\n",
       "      <td>3.169615</td>\n",
       "      <td>6.060915</td>\n",
       "      <td>1.786875</td>\n",
       "      <td>540.531893</td>\n",
       "      <td>56.047189</td>\n",
       "      <td>34.347666</td>\n",
       "      <td>5.663707</td>\n",
       "      <td>10.957755</td>\n",
       "      <td>6.198826</td>\n",
       "      <td>10.960521</td>\n",
       "      <td>6.194897</td>\n",
       "      <td>12.411054</td>\n",
       "      <td>7.240205</td>\n",
       "      <td>27.041023</td>\n",
       "      <td>19.216101</td>\n",
       "      <td>86.688794</td>\n",
       "      <td>4.552800</td>\n",
       "      <td>0.515438</td>\n",
       "      <td>19.267422</td>\n",
       "      <td>1.012642</td>\n",
       "      <td>999.678690</td>\n",
       "      <td>-399.752729</td>\n",
       "      <td>1600.208824</td>\n",
       "      <td>-449.599614</td>\n",
       "      <td>1600.357732</td>\n",
       "      <td>-450.034364</td>\n",
       "      <td>1599.759049</td>\n",
       "      <td>-449.909799</td>\n",
       "      <td>1401.560902</td>\n",
       "      <td>-448.877187</td>\n",
       "      <td>1401.160227</td>\n",
       "      <td>-450.407128</td>\n",
       "      <td>14.079996</td>\n",
       "      <td>4.470737</td>\n",
       "      <td>8.871028</td>\n",
       "      <td>2.330448</td>\n",
       "      <td>26.024787</td>\n",
       "      <td>-500.279091</td>\n",
       "      <td>23.955345</td>\n",
       "      <td>-500.593614</td>\n",
       "      <td>23.985703</td>\n",
       "      <td>-500.083811</td>\n",
       "      <td>23.958945</td>\n",
       "      <td>-499.990309</td>\n",
       "      <td>14.027298</td>\n",
       "      <td>-499.838632</td>\n",
       "      <td>11.953070</td>\n",
       "      <td>-501.053894</td>\n",
       "      <td>9.925709</td>\n",
       "      <td>-501.686727</td>\n",
       "      <td>7.894242</td>\n",
       "      <td>-500.356035</td>\n",
       "      <td>13.996647</td>\n",
       "      <td>-601.496691</td>\n",
       "    </tr>\n",
       "    <tr>\n",
       "      <th>2016-01-15 05:00:00</th>\n",
       "      <td>6.482968</td>\n",
       "      <td>10.049416</td>\n",
       "      <td>5.480257</td>\n",
       "      <td>41.633678</td>\n",
       "      <td>69.465816</td>\n",
       "      <td>10.182708</td>\n",
       "      <td>0.664118</td>\n",
       "      <td>16.999638</td>\n",
       "      <td>1.918586</td>\n",
       "      <td>115.581252</td>\n",
       "      <td>12.470773</td>\n",
       "      <td>7.25</td>\n",
       "      <td>0.965760</td>\n",
       "      <td>9.553724</td>\n",
       "      <td>9.816215</td>\n",
       "      <td>19.167328</td>\n",
       "      <td>32.070664</td>\n",
       "      <td>15.931540</td>\n",
       "      <td>2.844511</td>\n",
       "      <td>6.724197</td>\n",
       "      <td>2.114558</td>\n",
       "      <td>1602.964922</td>\n",
       "      <td>-498.090944</td>\n",
       "      <td>1602.074298</td>\n",
       "      <td>-500.179481</td>\n",
       "      <td>1602.154812</td>\n",
       "      <td>-498.642614</td>\n",
       "      <td>1605.020106</td>\n",
       "      <td>-500.538177</td>\n",
       "      <td>41973.280986</td>\n",
       "      <td>3501.916973</td>\n",
       "      <td>3499.527175</td>\n",
       "      <td>3.026134</td>\n",
       "      <td>5.801920</td>\n",
       "      <td>1.879351</td>\n",
       "      <td>546.173470</td>\n",
       "      <td>57.469578</td>\n",
       "      <td>35.470082</td>\n",
       "      <td>5.687168</td>\n",
       "      <td>11.072517</td>\n",
       "      <td>6.200383</td>\n",
       "      <td>11.075009</td>\n",
       "      <td>6.202362</td>\n",
       "      <td>11.985584</td>\n",
       "      <td>7.121903</td>\n",
       "      <td>26.898046</td>\n",
       "      <td>18.950385</td>\n",
       "      <td>88.156912</td>\n",
       "      <td>4.397415</td>\n",
       "      <td>0.491350</td>\n",
       "      <td>19.640269</td>\n",
       "      <td>0.915835</td>\n",
       "      <td>999.934134</td>\n",
       "      <td>-400.599524</td>\n",
       "      <td>1601.080554</td>\n",
       "      <td>-450.120760</td>\n",
       "      <td>1603.164805</td>\n",
       "      <td>-450.097732</td>\n",
       "      <td>1603.368371</td>\n",
       "      <td>-446.306150</td>\n",
       "      <td>1403.393100</td>\n",
       "      <td>-447.899904</td>\n",
       "      <td>1402.903175</td>\n",
       "      <td>-448.872321</td>\n",
       "      <td>13.615012</td>\n",
       "      <td>4.286817</td>\n",
       "      <td>9.302669</td>\n",
       "      <td>2.192127</td>\n",
       "      <td>26.014841</td>\n",
       "      <td>-498.864670</td>\n",
       "      <td>23.880214</td>\n",
       "      <td>-499.738447</td>\n",
       "      <td>23.982635</td>\n",
       "      <td>-500.495272</td>\n",
       "      <td>24.009749</td>\n",
       "      <td>-499.433825</td>\n",
       "      <td>13.938497</td>\n",
       "      <td>-500.970168</td>\n",
       "      <td>11.883350</td>\n",
       "      <td>-500.395298</td>\n",
       "      <td>10.054147</td>\n",
       "      <td>-496.374715</td>\n",
       "      <td>7.965083</td>\n",
       "      <td>-499.364752</td>\n",
       "      <td>14.017067</td>\n",
       "      <td>-599.707915</td>\n",
       "    </tr>\n",
       "    <tr>\n",
       "      <th>2016-01-15 06:00:00</th>\n",
       "      <td>6.533849</td>\n",
       "      <td>10.058141</td>\n",
       "      <td>4.569100</td>\n",
       "      <td>41.995316</td>\n",
       "      <td>69.300835</td>\n",
       "      <td>10.304598</td>\n",
       "      <td>0.807342</td>\n",
       "      <td>16.723575</td>\n",
       "      <td>2.058913</td>\n",
       "      <td>117.322323</td>\n",
       "      <td>12.469088</td>\n",
       "      <td>7.25</td>\n",
       "      <td>0.895207</td>\n",
       "      <td>8.968869</td>\n",
       "      <td>10.081306</td>\n",
       "      <td>18.930855</td>\n",
       "      <td>33.184823</td>\n",
       "      <td>16.078368</td>\n",
       "      <td>2.938979</td>\n",
       "      <td>6.623598</td>\n",
       "      <td>2.223152</td>\n",
       "      <td>1597.532455</td>\n",
       "      <td>-500.985364</td>\n",
       "      <td>1602.816321</td>\n",
       "      <td>-500.696736</td>\n",
       "      <td>1603.572091</td>\n",
       "      <td>-500.256955</td>\n",
       "      <td>1597.597437</td>\n",
       "      <td>-500.378192</td>\n",
       "      <td>41956.468979</td>\n",
       "      <td>3497.427365</td>\n",
       "      <td>3506.352790</td>\n",
       "      <td>2.867933</td>\n",
       "      <td>6.056253</td>\n",
       "      <td>2.105501</td>\n",
       "      <td>523.376439</td>\n",
       "      <td>56.674647</td>\n",
       "      <td>34.920570</td>\n",
       "      <td>6.038436</td>\n",
       "      <td>11.535899</td>\n",
       "      <td>6.204974</td>\n",
       "      <td>11.539227</td>\n",
       "      <td>6.200515</td>\n",
       "      <td>11.684307</td>\n",
       "      <td>7.304849</td>\n",
       "      <td>27.063672</td>\n",
       "      <td>19.319591</td>\n",
       "      <td>88.168065</td>\n",
       "      <td>4.478080</td>\n",
       "      <td>0.518266</td>\n",
       "      <td>19.262491</td>\n",
       "      <td>0.986248</td>\n",
       "      <td>999.832373</td>\n",
       "      <td>-399.353521</td>\n",
       "      <td>1600.753019</td>\n",
       "      <td>-450.050089</td>\n",
       "      <td>1599.019966</td>\n",
       "      <td>-449.848507</td>\n",
       "      <td>1600.298267</td>\n",
       "      <td>-453.102891</td>\n",
       "      <td>1397.853265</td>\n",
       "      <td>-451.306640</td>\n",
       "      <td>1397.973670</td>\n",
       "      <td>-451.355626</td>\n",
       "      <td>13.597056</td>\n",
       "      <td>4.487865</td>\n",
       "      <td>9.103047</td>\n",
       "      <td>2.316720</td>\n",
       "      <td>25.957594</td>\n",
       "      <td>-500.134472</td>\n",
       "      <td>24.077199</td>\n",
       "      <td>-500.089190</td>\n",
       "      <td>23.991710</td>\n",
       "      <td>-500.391528</td>\n",
       "      <td>23.954144</td>\n",
       "      <td>-501.872171</td>\n",
       "      <td>14.046819</td>\n",
       "      <td>-500.971133</td>\n",
       "      <td>12.091543</td>\n",
       "      <td>-500.501426</td>\n",
       "      <td>10.003247</td>\n",
       "      <td>-497.083180</td>\n",
       "      <td>8.010890</td>\n",
       "      <td>-500.002423</td>\n",
       "      <td>14.029649</td>\n",
       "      <td>-600.905470</td>\n",
       "    </tr>\n",
       "    <tr>\n",
       "      <th>2016-01-15 07:00:00</th>\n",
       "      <td>6.130823</td>\n",
       "      <td>9.935481</td>\n",
       "      <td>4.389813</td>\n",
       "      <td>42.452727</td>\n",
       "      <td>70.230976</td>\n",
       "      <td>10.443288</td>\n",
       "      <td>0.949346</td>\n",
       "      <td>16.689959</td>\n",
       "      <td>2.143437</td>\n",
       "      <td>124.592960</td>\n",
       "      <td>12.467403</td>\n",
       "      <td>7.25</td>\n",
       "      <td>0.901202</td>\n",
       "      <td>8.545238</td>\n",
       "      <td>10.224540</td>\n",
       "      <td>18.735813</td>\n",
       "      <td>34.027719</td>\n",
       "      <td>15.797720</td>\n",
       "      <td>2.881529</td>\n",
       "      <td>6.872033</td>\n",
       "      <td>2.112025</td>\n",
       "      <td>1597.946266</td>\n",
       "      <td>-501.592304</td>\n",
       "      <td>1601.078254</td>\n",
       "      <td>-499.494115</td>\n",
       "      <td>1602.630688</td>\n",
       "      <td>-500.173741</td>\n",
       "      <td>1595.937990</td>\n",
       "      <td>-498.929825</td>\n",
       "      <td>41812.416893</td>\n",
       "      <td>3497.275828</td>\n",
       "      <td>3501.000030</td>\n",
       "      <td>2.784698</td>\n",
       "      <td>5.955053</td>\n",
       "      <td>2.310432</td>\n",
       "      <td>549.842749</td>\n",
       "      <td>56.730325</td>\n",
       "      <td>36.091386</td>\n",
       "      <td>6.433854</td>\n",
       "      <td>12.557906</td>\n",
       "      <td>6.799275</td>\n",
       "      <td>12.583109</td>\n",
       "      <td>6.798354</td>\n",
       "      <td>11.182624</td>\n",
       "      <td>7.258496</td>\n",
       "      <td>27.231114</td>\n",
       "      <td>19.507897</td>\n",
       "      <td>87.668336</td>\n",
       "      <td>4.728325</td>\n",
       "      <td>0.548067</td>\n",
       "      <td>18.861866</td>\n",
       "      <td>1.116110</td>\n",
       "      <td>1000.166602</td>\n",
       "      <td>-400.556601</td>\n",
       "      <td>1598.877246</td>\n",
       "      <td>-450.070980</td>\n",
       "      <td>1598.108717</td>\n",
       "      <td>-449.211334</td>\n",
       "      <td>1592.872844</td>\n",
       "      <td>-449.806802</td>\n",
       "      <td>1396.580752</td>\n",
       "      <td>-453.548352</td>\n",
       "      <td>1397.289884</td>\n",
       "      <td>-450.221696</td>\n",
       "      <td>13.177237</td>\n",
       "      <td>4.432448</td>\n",
       "      <td>9.369209</td>\n",
       "      <td>2.192197</td>\n",
       "      <td>25.938026</td>\n",
       "      <td>-499.657795</td>\n",
       "      <td>24.020179</td>\n",
       "      <td>-499.798396</td>\n",
       "      <td>24.031555</td>\n",
       "      <td>-500.550436</td>\n",
       "      <td>23.968160</td>\n",
       "      <td>-499.836513</td>\n",
       "      <td>13.974691</td>\n",
       "      <td>-501.819696</td>\n",
       "      <td>12.101324</td>\n",
       "      <td>-500.583446</td>\n",
       "      <td>9.873169</td>\n",
       "      <td>-499.171928</td>\n",
       "      <td>7.993381</td>\n",
       "      <td>-499.794518</td>\n",
       "      <td>13.984498</td>\n",
       "      <td>-600.411070</td>\n",
       "    </tr>\n",
       "    <tr>\n",
       "      <th>2016-01-15 08:00:00</th>\n",
       "      <td>5.834140</td>\n",
       "      <td>10.071156</td>\n",
       "      <td>4.876389</td>\n",
       "      <td>43.404078</td>\n",
       "      <td>69.688595</td>\n",
       "      <td>10.420140</td>\n",
       "      <td>1.065453</td>\n",
       "      <td>17.201948</td>\n",
       "      <td>2.209881</td>\n",
       "      <td>131.781026</td>\n",
       "      <td>12.465718</td>\n",
       "      <td>7.25</td>\n",
       "      <td>0.885535</td>\n",
       "      <td>8.046686</td>\n",
       "      <td>10.500065</td>\n",
       "      <td>18.560288</td>\n",
       "      <td>34.964974</td>\n",
       "      <td>16.195420</td>\n",
       "      <td>3.089922</td>\n",
       "      <td>6.705633</td>\n",
       "      <td>2.243817</td>\n",
       "      <td>1601.670053</td>\n",
       "      <td>-499.548891</td>\n",
       "      <td>1598.804355</td>\n",
       "      <td>-499.689644</td>\n",
       "      <td>1601.689285</td>\n",
       "      <td>-500.484957</td>\n",
       "      <td>1602.431117</td>\n",
       "      <td>-500.650982</td>\n",
       "      <td>41905.757985</td>\n",
       "      <td>3498.332166</td>\n",
       "      <td>3498.120075</td>\n",
       "      <td>2.728844</td>\n",
       "      <td>5.878084</td>\n",
       "      <td>2.391713</td>\n",
       "      <td>560.115242</td>\n",
       "      <td>56.649893</td>\n",
       "      <td>35.753879</td>\n",
       "      <td>6.526612</td>\n",
       "      <td>13.166128</td>\n",
       "      <td>6.798659</td>\n",
       "      <td>13.184764</td>\n",
       "      <td>6.800021</td>\n",
       "      <td>11.051323</td>\n",
       "      <td>7.380043</td>\n",
       "      <td>27.404296</td>\n",
       "      <td>19.789465</td>\n",
       "      <td>87.035862</td>\n",
       "      <td>4.764300</td>\n",
       "      <td>0.599181</td>\n",
       "      <td>18.873082</td>\n",
       "      <td>1.186780</td>\n",
       "      <td>1000.026864</td>\n",
       "      <td>-399.968583</td>\n",
       "      <td>1599.813104</td>\n",
       "      <td>-450.481122</td>\n",
       "      <td>1600.024621</td>\n",
       "      <td>-450.365493</td>\n",
       "      <td>1594.448648</td>\n",
       "      <td>-449.882428</td>\n",
       "      <td>1402.033682</td>\n",
       "      <td>-448.545552</td>\n",
       "      <td>1400.748347</td>\n",
       "      <td>-450.303991</td>\n",
       "      <td>13.487870</td>\n",
       "      <td>4.608756</td>\n",
       "      <td>9.437044</td>\n",
       "      <td>2.212084</td>\n",
       "      <td>25.929511</td>\n",
       "      <td>-500.079889</td>\n",
       "      <td>23.977375</td>\n",
       "      <td>-500.005187</td>\n",
       "      <td>23.998809</td>\n",
       "      <td>-500.400133</td>\n",
       "      <td>23.982633</td>\n",
       "      <td>-499.826311</td>\n",
       "      <td>13.964030</td>\n",
       "      <td>-504.252450</td>\n",
       "      <td>12.060738</td>\n",
       "      <td>-501.174549</td>\n",
       "      <td>10.033838</td>\n",
       "      <td>-501.178133</td>\n",
       "      <td>7.881604</td>\n",
       "      <td>-499.729434</td>\n",
       "      <td>13.967135</td>\n",
       "      <td>-599.061188</td>\n",
       "    </tr>\n",
       "    <tr>\n",
       "      <th>2016-01-15 09:00:00</th>\n",
       "      <td>5.687063</td>\n",
       "      <td>9.980404</td>\n",
       "      <td>5.282514</td>\n",
       "      <td>43.235220</td>\n",
       "      <td>70.279619</td>\n",
       "      <td>10.487013</td>\n",
       "      <td>1.159805</td>\n",
       "      <td>17.483979</td>\n",
       "      <td>2.209593</td>\n",
       "      <td>138.120409</td>\n",
       "      <td>12.464032</td>\n",
       "      <td>7.25</td>\n",
       "      <td>0.898779</td>\n",
       "      <td>8.098985</td>\n",
       "      <td>10.525324</td>\n",
       "      <td>18.436589</td>\n",
       "      <td>34.826500</td>\n",
       "      <td>15.535214</td>\n",
       "      <td>2.866688</td>\n",
       "      <td>7.265906</td>\n",
       "      <td>2.025454</td>\n",
       "      <td>1603.436598</td>\n",
       "      <td>-499.864400</td>\n",
       "      <td>1597.455353</td>\n",
       "      <td>-500.266905</td>\n",
       "      <td>1600.747882</td>\n",
       "      <td>-500.541002</td>\n",
       "      <td>1599.754053</td>\n",
       "      <td>-499.216962</td>\n",
       "      <td>41882.126352</td>\n",
       "      <td>3499.915439</td>\n",
       "      <td>3519.952954</td>\n",
       "      <td>2.717442</td>\n",
       "      <td>5.908793</td>\n",
       "      <td>2.440899</td>\n",
       "      <td>573.076049</td>\n",
       "      <td>58.509262</td>\n",
       "      <td>36.958540</td>\n",
       "      <td>6.633002</td>\n",
       "      <td>13.707775</td>\n",
       "      <td>6.820245</td>\n",
       "      <td>13.812674</td>\n",
       "      <td>6.790624</td>\n",
       "      <td>11.116297</td>\n",
       "      <td>7.297363</td>\n",
       "      <td>27.497520</td>\n",
       "      <td>19.497669</td>\n",
       "      <td>87.650868</td>\n",
       "      <td>4.667157</td>\n",
       "      <td>0.615418</td>\n",
       "      <td>18.907179</td>\n",
       "      <td>1.167140</td>\n",
       "      <td>1000.589156</td>\n",
       "      <td>-398.879586</td>\n",
       "      <td>1598.975250</td>\n",
       "      <td>-451.238638</td>\n",
       "      <td>1600.058139</td>\n",
       "      <td>-451.271448</td>\n",
       "      <td>1610.182874</td>\n",
       "      <td>-450.460190</td>\n",
       "      <td>1399.194663</td>\n",
       "      <td>-450.332681</td>\n",
       "      <td>1399.638290</td>\n",
       "      <td>-450.198722</td>\n",
       "      <td>13.209191</td>\n",
       "      <td>4.550553</td>\n",
       "      <td>9.813732</td>\n",
       "      <td>2.073737</td>\n",
       "      <td>26.059510</td>\n",
       "      <td>-499.151646</td>\n",
       "      <td>23.934570</td>\n",
       "      <td>-499.351758</td>\n",
       "      <td>23.994184</td>\n",
       "      <td>-500.078566</td>\n",
       "      <td>23.924481</td>\n",
       "      <td>-499.989024</td>\n",
       "      <td>13.989632</td>\n",
       "      <td>-503.195299</td>\n",
       "      <td>12.052233</td>\n",
       "      <td>-500.928547</td>\n",
       "      <td>9.962574</td>\n",
       "      <td>-502.986357</td>\n",
       "      <td>7.979219</td>\n",
       "      <td>-500.146835</td>\n",
       "      <td>13.981614</td>\n",
       "      <td>-598.070855</td>\n",
       "    </tr>\n",
       "  </tbody>\n",
       "</table>\n",
       "</div>"
      ],
      "text/plain": [
       "                     final.output.concentrate_ag  final.output.concentrate_pb  \\\n",
       "date                                                                            \n",
       "2016-01-15 00:00:00                     6.055403                     9.889648   \n",
       "2016-01-15 01:00:00                     6.029369                     9.968944   \n",
       "2016-01-15 02:00:00                     6.055926                    10.213995   \n",
       "2016-01-15 03:00:00                     6.047977                     9.977019   \n",
       "2016-01-15 04:00:00                     6.148599                    10.142511   \n",
       "2016-01-15 05:00:00                     6.482968                    10.049416   \n",
       "2016-01-15 06:00:00                     6.533849                    10.058141   \n",
       "2016-01-15 07:00:00                     6.130823                     9.935481   \n",
       "2016-01-15 08:00:00                     5.834140                    10.071156   \n",
       "2016-01-15 09:00:00                     5.687063                     9.980404   \n",
       "\n",
       "                     final.output.concentrate_sol  \\\n",
       "date                                                \n",
       "2016-01-15 00:00:00                      5.507324   \n",
       "2016-01-15 01:00:00                      5.257781   \n",
       "2016-01-15 02:00:00                      5.383759   \n",
       "2016-01-15 03:00:00                      4.858634   \n",
       "2016-01-15 04:00:00                      4.939416   \n",
       "2016-01-15 05:00:00                      5.480257   \n",
       "2016-01-15 06:00:00                      4.569100   \n",
       "2016-01-15 07:00:00                      4.389813   \n",
       "2016-01-15 08:00:00                      4.876389   \n",
       "2016-01-15 09:00:00                      5.282514   \n",
       "\n",
       "                     final.output.concentrate_au  final.output.recovery  \\\n",
       "date                                                                      \n",
       "2016-01-15 00:00:00                    42.192020              70.541216   \n",
       "2016-01-15 01:00:00                    42.701629              69.266198   \n",
       "2016-01-15 02:00:00                    42.657501              68.116445   \n",
       "2016-01-15 03:00:00                    42.689819              68.347543   \n",
       "2016-01-15 04:00:00                    42.774141              66.927016   \n",
       "2016-01-15 05:00:00                    41.633678              69.465816   \n",
       "2016-01-15 06:00:00                    41.995316              69.300835   \n",
       "2016-01-15 07:00:00                    42.452727              70.230976   \n",
       "2016-01-15 08:00:00                    43.404078              69.688595   \n",
       "2016-01-15 09:00:00                    43.235220              70.279619   \n",
       "\n",
       "                     final.output.tail_ag  final.output.tail_pb  \\\n",
       "date                                                              \n",
       "2016-01-15 00:00:00             10.411962              0.895447   \n",
       "2016-01-15 01:00:00             10.462676              0.927452   \n",
       "2016-01-15 02:00:00             10.507046              0.953716   \n",
       "2016-01-15 03:00:00             10.422762              0.883763   \n",
       "2016-01-15 04:00:00             10.360302              0.792826   \n",
       "2016-01-15 05:00:00             10.182708              0.664118   \n",
       "2016-01-15 06:00:00             10.304598              0.807342   \n",
       "2016-01-15 07:00:00             10.443288              0.949346   \n",
       "2016-01-15 08:00:00             10.420140              1.065453   \n",
       "2016-01-15 09:00:00             10.487013              1.159805   \n",
       "\n",
       "                     final.output.tail_sol  final.output.tail_au  \\\n",
       "date                                                               \n",
       "2016-01-15 00:00:00              16.904297              2.143149   \n",
       "2016-01-15 01:00:00              16.634514              2.224930   \n",
       "2016-01-15 02:00:00              16.208849              2.257889   \n",
       "2016-01-15 03:00:00              16.532835              2.146849   \n",
       "2016-01-15 04:00:00              16.525686              2.055292   \n",
       "2016-01-15 05:00:00              16.999638              1.918586   \n",
       "2016-01-15 06:00:00              16.723575              2.058913   \n",
       "2016-01-15 07:00:00              16.689959              2.143437   \n",
       "2016-01-15 08:00:00              17.201948              2.209881   \n",
       "2016-01-15 09:00:00              17.483979              2.209593   \n",
       "\n",
       "                     primary_cleaner.input.sulfate  \\\n",
       "date                                                 \n",
       "2016-01-15 00:00:00                     127.092003   \n",
       "2016-01-15 01:00:00                     125.629232   \n",
       "2016-01-15 02:00:00                     123.819808   \n",
       "2016-01-15 03:00:00                     122.270188   \n",
       "2016-01-15 04:00:00                     117.988169   \n",
       "2016-01-15 05:00:00                     115.581252   \n",
       "2016-01-15 06:00:00                     117.322323   \n",
       "2016-01-15 07:00:00                     124.592960   \n",
       "2016-01-15 08:00:00                     131.781026   \n",
       "2016-01-15 09:00:00                     138.120409   \n",
       "\n",
       "                     primary_cleaner.input.depressant  \\\n",
       "date                                                    \n",
       "2016-01-15 00:00:00                         10.128295   \n",
       "2016-01-15 01:00:00                         10.296251   \n",
       "2016-01-15 02:00:00                         11.316280   \n",
       "2016-01-15 03:00:00                         11.322140   \n",
       "2016-01-15 04:00:00                         11.913613   \n",
       "2016-01-15 05:00:00                         12.470773   \n",
       "2016-01-15 06:00:00                         12.469088   \n",
       "2016-01-15 07:00:00                         12.467403   \n",
       "2016-01-15 08:00:00                         12.465718   \n",
       "2016-01-15 09:00:00                         12.464032   \n",
       "\n",
       "                     primary_cleaner.input.feed_size  \\\n",
       "date                                                   \n",
       "2016-01-15 00:00:00                             7.25   \n",
       "2016-01-15 01:00:00                             7.25   \n",
       "2016-01-15 02:00:00                             7.25   \n",
       "2016-01-15 03:00:00                             7.25   \n",
       "2016-01-15 04:00:00                             7.25   \n",
       "2016-01-15 05:00:00                             7.25   \n",
       "2016-01-15 06:00:00                             7.25   \n",
       "2016-01-15 07:00:00                             7.25   \n",
       "2016-01-15 08:00:00                             7.25   \n",
       "2016-01-15 09:00:00                             7.25   \n",
       "\n",
       "                     primary_cleaner.input.xanthate  \\\n",
       "date                                                  \n",
       "2016-01-15 00:00:00                        0.988759   \n",
       "2016-01-15 01:00:00                        1.002663   \n",
       "2016-01-15 02:00:00                        0.991265   \n",
       "2016-01-15 03:00:00                        0.996739   \n",
       "2016-01-15 04:00:00                        1.009869   \n",
       "2016-01-15 05:00:00                        0.965760   \n",
       "2016-01-15 06:00:00                        0.895207   \n",
       "2016-01-15 07:00:00                        0.901202   \n",
       "2016-01-15 08:00:00                        0.885535   \n",
       "2016-01-15 09:00:00                        0.898779   \n",
       "\n",
       "                     primary_cleaner.output.concentrate_ag  \\\n",
       "date                                                         \n",
       "2016-01-15 00:00:00                               8.547551   \n",
       "2016-01-15 01:00:00                               8.558743   \n",
       "2016-01-15 02:00:00                               8.603505   \n",
       "2016-01-15 03:00:00                               7.221879   \n",
       "2016-01-15 04:00:00                               9.089428   \n",
       "2016-01-15 05:00:00                               9.553724   \n",
       "2016-01-15 06:00:00                               8.968869   \n",
       "2016-01-15 07:00:00                               8.545238   \n",
       "2016-01-15 08:00:00                               8.046686   \n",
       "2016-01-15 09:00:00                               8.098985   \n",
       "\n",
       "                     primary_cleaner.output.concentrate_pb  \\\n",
       "date                                                         \n",
       "2016-01-15 00:00:00                              10.389648   \n",
       "2016-01-15 01:00:00                              10.497069   \n",
       "2016-01-15 02:00:00                              10.354494   \n",
       "2016-01-15 03:00:00                               8.496563   \n",
       "2016-01-15 04:00:00                               9.986786   \n",
       "2016-01-15 05:00:00                               9.816215   \n",
       "2016-01-15 06:00:00                              10.081306   \n",
       "2016-01-15 07:00:00                              10.224540   \n",
       "2016-01-15 08:00:00                              10.500065   \n",
       "2016-01-15 09:00:00                              10.525324   \n",
       "\n",
       "                     primary_cleaner.output.concentrate_sol  \\\n",
       "date                                                          \n",
       "2016-01-15 00:00:00                               19.529297   \n",
       "2016-01-15 01:00:00                               19.369147   \n",
       "2016-01-15 02:00:00                               19.167579   \n",
       "2016-01-15 03:00:00                               15.978538   \n",
       "2016-01-15 04:00:00                               19.199864   \n",
       "2016-01-15 05:00:00                               19.167328   \n",
       "2016-01-15 06:00:00                               18.930855   \n",
       "2016-01-15 07:00:00                               18.735813   \n",
       "2016-01-15 08:00:00                               18.560288   \n",
       "2016-01-15 09:00:00                               18.436589   \n",
       "\n",
       "                     primary_cleaner.output.concentrate_au  \\\n",
       "date                                                         \n",
       "2016-01-15 00:00:00                              34.174427   \n",
       "2016-01-15 01:00:00                              34.118526   \n",
       "2016-01-15 02:00:00                              33.969464   \n",
       "2016-01-15 03:00:00                              28.260743   \n",
       "2016-01-15 04:00:00                              33.044932   \n",
       "2016-01-15 05:00:00                              32.070664   \n",
       "2016-01-15 06:00:00                              33.184823   \n",
       "2016-01-15 07:00:00                              34.027719   \n",
       "2016-01-15 08:00:00                              34.964974   \n",
       "2016-01-15 09:00:00                              34.826500   \n",
       "\n",
       "                     primary_cleaner.output.tail_ag  \\\n",
       "date                                                  \n",
       "2016-01-15 00:00:00                       14.936526   \n",
       "2016-01-15 01:00:00                       16.250511   \n",
       "2016-01-15 02:00:00                       16.491823   \n",
       "2016-01-15 03:00:00                       16.024359   \n",
       "2016-01-15 04:00:00                       16.480185   \n",
       "2016-01-15 05:00:00                       15.931540   \n",
       "2016-01-15 06:00:00                       16.078368   \n",
       "2016-01-15 07:00:00                       15.797720   \n",
       "2016-01-15 08:00:00                       16.195420   \n",
       "2016-01-15 09:00:00                       15.535214   \n",
       "\n",
       "                     primary_cleaner.output.tail_pb  \\\n",
       "date                                                  \n",
       "2016-01-15 00:00:00                        2.534912   \n",
       "2016-01-15 01:00:00                        3.049646   \n",
       "2016-01-15 02:00:00                        3.124664   \n",
       "2016-01-15 03:00:00                        2.960362   \n",
       "2016-01-15 04:00:00                        3.112100   \n",
       "2016-01-15 05:00:00                        2.844511   \n",
       "2016-01-15 06:00:00                        2.938979   \n",
       "2016-01-15 07:00:00                        2.881529   \n",
       "2016-01-15 08:00:00                        3.089922   \n",
       "2016-01-15 09:00:00                        2.866688   \n",
       "\n",
       "                     primary_cleaner.output.tail_sol  \\\n",
       "date                                                   \n",
       "2016-01-15 00:00:00                         7.476074   \n",
       "2016-01-15 01:00:00                         6.733907   \n",
       "2016-01-15 02:00:00                         6.471768   \n",
       "2016-01-15 03:00:00                         6.843791   \n",
       "2016-01-15 04:00:00                         6.550154   \n",
       "2016-01-15 05:00:00                         6.724197   \n",
       "2016-01-15 06:00:00                         6.623598   \n",
       "2016-01-15 07:00:00                         6.872033   \n",
       "2016-01-15 08:00:00                         6.705633   \n",
       "2016-01-15 09:00:00                         7.265906   \n",
       "\n",
       "                     primary_cleaner.output.tail_au  \\\n",
       "date                                                  \n",
       "2016-01-15 00:00:00                        2.106679   \n",
       "2016-01-15 01:00:00                        2.353017   \n",
       "2016-01-15 02:00:00                        2.416800   \n",
       "2016-01-15 03:00:00                        2.262051   \n",
       "2016-01-15 04:00:00                        2.277073   \n",
       "2016-01-15 05:00:00                        2.114558   \n",
       "2016-01-15 06:00:00                        2.223152   \n",
       "2016-01-15 07:00:00                        2.112025   \n",
       "2016-01-15 08:00:00                        2.243817   \n",
       "2016-01-15 09:00:00                        2.025454   \n",
       "\n",
       "                     primary_cleaner.state.floatbank8_a_air  \\\n",
       "date                                                          \n",
       "2016-01-15 00:00:00                             1549.775757   \n",
       "2016-01-15 01:00:00                             1576.166671   \n",
       "2016-01-15 02:00:00                             1601.556163   \n",
       "2016-01-15 03:00:00                             1599.968720   \n",
       "2016-01-15 04:00:00                             1601.339707   \n",
       "2016-01-15 05:00:00                             1602.964922   \n",
       "2016-01-15 06:00:00                             1597.532455   \n",
       "2016-01-15 07:00:00                             1597.946266   \n",
       "2016-01-15 08:00:00                             1601.670053   \n",
       "2016-01-15 09:00:00                             1603.436598   \n",
       "\n",
       "                     primary_cleaner.state.floatbank8_a_level  \\\n",
       "date                                                            \n",
       "2016-01-15 00:00:00                               -498.912140   \n",
       "2016-01-15 01:00:00                               -500.904965   \n",
       "2016-01-15 02:00:00                               -499.997791   \n",
       "2016-01-15 03:00:00                               -500.951778   \n",
       "2016-01-15 04:00:00                               -498.975456   \n",
       "2016-01-15 05:00:00                               -498.090944   \n",
       "2016-01-15 06:00:00                               -500.985364   \n",
       "2016-01-15 07:00:00                               -501.592304   \n",
       "2016-01-15 08:00:00                               -499.548891   \n",
       "2016-01-15 09:00:00                               -499.864400   \n",
       "\n",
       "                     primary_cleaner.state.floatbank8_b_air  \\\n",
       "date                                                          \n",
       "2016-01-15 00:00:00                             1551.434204   \n",
       "2016-01-15 01:00:00                             1575.950626   \n",
       "2016-01-15 02:00:00                             1600.386685   \n",
       "2016-01-15 03:00:00                             1600.659236   \n",
       "2016-01-15 04:00:00                             1601.437854   \n",
       "2016-01-15 05:00:00                             1602.074298   \n",
       "2016-01-15 06:00:00                             1602.816321   \n",
       "2016-01-15 07:00:00                             1601.078254   \n",
       "2016-01-15 08:00:00                             1598.804355   \n",
       "2016-01-15 09:00:00                             1597.455353   \n",
       "\n",
       "                     primary_cleaner.state.floatbank8_b_level  \\\n",
       "date                                                            \n",
       "2016-01-15 00:00:00                               -516.403442   \n",
       "2016-01-15 01:00:00                               -499.865889   \n",
       "2016-01-15 02:00:00                               -500.607762   \n",
       "2016-01-15 03:00:00                               -499.677094   \n",
       "2016-01-15 04:00:00                               -500.323246   \n",
       "2016-01-15 05:00:00                               -500.179481   \n",
       "2016-01-15 06:00:00                               -500.696736   \n",
       "2016-01-15 07:00:00                               -499.494115   \n",
       "2016-01-15 08:00:00                               -499.689644   \n",
       "2016-01-15 09:00:00                               -500.266905   \n",
       "\n",
       "                     primary_cleaner.state.floatbank8_c_air  \\\n",
       "date                                                          \n",
       "2016-01-15 00:00:00                             1549.873901   \n",
       "2016-01-15 01:00:00                             1575.994189   \n",
       "2016-01-15 02:00:00                             1602.003542   \n",
       "2016-01-15 03:00:00                             1600.304144   \n",
       "2016-01-15 04:00:00                             1599.581894   \n",
       "2016-01-15 05:00:00                             1602.154812   \n",
       "2016-01-15 06:00:00                             1603.572091   \n",
       "2016-01-15 07:00:00                             1602.630688   \n",
       "2016-01-15 08:00:00                             1601.689285   \n",
       "2016-01-15 09:00:00                             1600.747882   \n",
       "\n",
       "                     primary_cleaner.state.floatbank8_c_level  \\\n",
       "date                                                            \n",
       "2016-01-15 00:00:00                               -498.666595   \n",
       "2016-01-15 01:00:00                               -499.315107   \n",
       "2016-01-15 02:00:00                               -500.870069   \n",
       "2016-01-15 03:00:00                               -500.727997   \n",
       "2016-01-15 04:00:00                               -500.888152   \n",
       "2016-01-15 05:00:00                               -498.642614   \n",
       "2016-01-15 06:00:00                               -500.256955   \n",
       "2016-01-15 07:00:00                               -500.173741   \n",
       "2016-01-15 08:00:00                               -500.484957   \n",
       "2016-01-15 09:00:00                               -500.541002   \n",
       "\n",
       "                     primary_cleaner.state.floatbank8_d_air  \\\n",
       "date                                                          \n",
       "2016-01-15 00:00:00                             1554.367432   \n",
       "2016-01-15 01:00:00                             1574.479259   \n",
       "2016-01-15 02:00:00                             1599.541515   \n",
       "2016-01-15 03:00:00                             1600.449520   \n",
       "2016-01-15 04:00:00                             1602.649541   \n",
       "2016-01-15 05:00:00                             1605.020106   \n",
       "2016-01-15 06:00:00                             1597.597437   \n",
       "2016-01-15 07:00:00                             1595.937990   \n",
       "2016-01-15 08:00:00                             1602.431117   \n",
       "2016-01-15 09:00:00                             1599.754053   \n",
       "\n",
       "                     primary_cleaner.state.floatbank8_d_level  \\\n",
       "date                                                            \n",
       "2016-01-15 00:00:00                               -493.428131   \n",
       "2016-01-15 01:00:00                               -498.931665   \n",
       "2016-01-15 02:00:00                               -499.827444   \n",
       "2016-01-15 03:00:00                               -500.052575   \n",
       "2016-01-15 04:00:00                               -500.593010   \n",
       "2016-01-15 05:00:00                               -500.538177   \n",
       "2016-01-15 06:00:00                               -500.378192   \n",
       "2016-01-15 07:00:00                               -498.929825   \n",
       "2016-01-15 08:00:00                               -500.650982   \n",
       "2016-01-15 09:00:00                               -499.216962   \n",
       "\n",
       "                     rougher.calculation.sulfate_to_au_concentrate  \\\n",
       "date                                                                 \n",
       "2016-01-15 00:00:00                                   41885.707031   \n",
       "2016-01-15 01:00:00                                   42050.861809   \n",
       "2016-01-15 02:00:00                                   42018.101184   \n",
       "2016-01-15 03:00:00                                   42029.447991   \n",
       "2016-01-15 04:00:00                                   42125.354245   \n",
       "2016-01-15 05:00:00                                   41973.280986   \n",
       "2016-01-15 06:00:00                                   41956.468979   \n",
       "2016-01-15 07:00:00                                   41812.416893   \n",
       "2016-01-15 08:00:00                                   41905.757985   \n",
       "2016-01-15 09:00:00                                   41882.126352   \n",
       "\n",
       "                     rougher.calculation.floatbank10_sulfate_to_au_feed  \\\n",
       "date                                                                      \n",
       "2016-01-15 00:00:00                                        3481.779053    \n",
       "2016-01-15 01:00:00                                        3498.370979    \n",
       "2016-01-15 02:00:00                                        3495.348910    \n",
       "2016-01-15 03:00:00                                        3498.578313    \n",
       "2016-01-15 04:00:00                                        3494.800771    \n",
       "2016-01-15 05:00:00                                        3501.916973    \n",
       "2016-01-15 06:00:00                                        3497.427365    \n",
       "2016-01-15 07:00:00                                        3497.275828    \n",
       "2016-01-15 08:00:00                                        3498.332166    \n",
       "2016-01-15 09:00:00                                        3499.915439    \n",
       "\n",
       "                     rougher.calculation.floatbank11_sulfate_to_au_feed  \\\n",
       "date                                                                      \n",
       "2016-01-15 00:00:00                                        3520.337158    \n",
       "2016-01-15 01:00:00                                        3489.981857    \n",
       "2016-01-15 02:00:00                                        3502.359819    \n",
       "2016-01-15 03:00:00                                        3499.162912    \n",
       "2016-01-15 04:00:00                                        3506.679315    \n",
       "2016-01-15 05:00:00                                        3499.527175    \n",
       "2016-01-15 06:00:00                                        3506.352790    \n",
       "2016-01-15 07:00:00                                        3501.000030    \n",
       "2016-01-15 08:00:00                                        3498.120075    \n",
       "2016-01-15 09:00:00                                        3519.952954    \n",
       "\n",
       "                     rougher.calculation.au_pb_ratio  rougher.input.feed_ag  \\\n",
       "date                                                                          \n",
       "2016-01-15 00:00:00                         2.838687               6.100378   \n",
       "2016-01-15 01:00:00                         2.858998               6.161113   \n",
       "2016-01-15 02:00:00                         2.945989               6.116455   \n",
       "2016-01-15 03:00:00                         3.002340               6.043309   \n",
       "2016-01-15 04:00:00                         3.169615               6.060915   \n",
       "2016-01-15 05:00:00                         3.026134               5.801920   \n",
       "2016-01-15 06:00:00                         2.867933               6.056253   \n",
       "2016-01-15 07:00:00                         2.784698               5.955053   \n",
       "2016-01-15 08:00:00                         2.728844               5.878084   \n",
       "2016-01-15 09:00:00                         2.717442               5.908793   \n",
       "\n",
       "                     rougher.input.feed_pb  rougher.input.feed_rate  \\\n",
       "date                                                                  \n",
       "2016-01-15 00:00:00               2.284912               523.546326   \n",
       "2016-01-15 01:00:00               2.266033               525.290581   \n",
       "2016-01-15 02:00:00               2.159622               530.026610   \n",
       "2016-01-15 03:00:00               2.037807               542.590390   \n",
       "2016-01-15 04:00:00               1.786875               540.531893   \n",
       "2016-01-15 05:00:00               1.879351               546.173470   \n",
       "2016-01-15 06:00:00               2.105501               523.376439   \n",
       "2016-01-15 07:00:00               2.310432               549.842749   \n",
       "2016-01-15 08:00:00               2.391713               560.115242   \n",
       "2016-01-15 09:00:00               2.440899               573.076049   \n",
       "\n",
       "                     rougher.input.feed_size  rougher.input.feed_sol  \\\n",
       "date                                                                   \n",
       "2016-01-15 00:00:00                55.486599               36.808594   \n",
       "2016-01-15 01:00:00                57.278666               35.753385   \n",
       "2016-01-15 02:00:00                57.510649               35.971630   \n",
       "2016-01-15 03:00:00                57.792734               36.862241   \n",
       "2016-01-15 04:00:00                56.047189               34.347666   \n",
       "2016-01-15 05:00:00                57.469578               35.470082   \n",
       "2016-01-15 06:00:00                56.674647               34.920570   \n",
       "2016-01-15 07:00:00                56.730325               36.091386   \n",
       "2016-01-15 08:00:00                56.649893               35.753879   \n",
       "2016-01-15 09:00:00                58.509262               36.958540   \n",
       "\n",
       "                     rougher.input.feed_au  rougher.input.floatbank10_sulfate  \\\n",
       "date                                                                            \n",
       "2016-01-15 00:00:00               6.486150                          11.986616   \n",
       "2016-01-15 01:00:00               6.478583                          11.971193   \n",
       "2016-01-15 02:00:00               6.362222                          11.920603   \n",
       "2016-01-15 03:00:00               6.118189                          11.630094   \n",
       "2016-01-15 04:00:00               5.663707                          10.957755   \n",
       "2016-01-15 05:00:00               5.687168                          11.072517   \n",
       "2016-01-15 06:00:00               6.038436                          11.535899   \n",
       "2016-01-15 07:00:00               6.433854                          12.557906   \n",
       "2016-01-15 08:00:00               6.526612                          13.166128   \n",
       "2016-01-15 09:00:00               6.633002                          13.707775   \n",
       "\n",
       "                     rougher.input.floatbank10_xanthate  \\\n",
       "date                                                      \n",
       "2016-01-15 00:00:00                            6.007990   \n",
       "2016-01-15 01:00:00                            6.005766   \n",
       "2016-01-15 02:00:00                            6.197377   \n",
       "2016-01-15 03:00:00                            6.203177   \n",
       "2016-01-15 04:00:00                            6.198826   \n",
       "2016-01-15 05:00:00                            6.200383   \n",
       "2016-01-15 06:00:00                            6.204974   \n",
       "2016-01-15 07:00:00                            6.799275   \n",
       "2016-01-15 08:00:00                            6.798659   \n",
       "2016-01-15 09:00:00                            6.820245   \n",
       "\n",
       "                     rougher.input.floatbank11_sulfate  \\\n",
       "date                                                     \n",
       "2016-01-15 00:00:00                          11.836743   \n",
       "2016-01-15 01:00:00                          11.996163   \n",
       "2016-01-15 02:00:00                          11.920305   \n",
       "2016-01-15 03:00:00                          11.692450   \n",
       "2016-01-15 04:00:00                          10.960521   \n",
       "2016-01-15 05:00:00                          11.075009   \n",
       "2016-01-15 06:00:00                          11.539227   \n",
       "2016-01-15 07:00:00                          12.583109   \n",
       "2016-01-15 08:00:00                          13.184764   \n",
       "2016-01-15 09:00:00                          13.812674   \n",
       "\n",
       "                     rougher.input.floatbank11_xanthate  \\\n",
       "date                                                      \n",
       "2016-01-15 00:00:00                            6.005818   \n",
       "2016-01-15 01:00:00                            6.012594   \n",
       "2016-01-15 02:00:00                            6.204633   \n",
       "2016-01-15 03:00:00                            6.196578   \n",
       "2016-01-15 04:00:00                            6.194897   \n",
       "2016-01-15 05:00:00                            6.202362   \n",
       "2016-01-15 06:00:00                            6.200515   \n",
       "2016-01-15 07:00:00                            6.798354   \n",
       "2016-01-15 08:00:00                            6.800021   \n",
       "2016-01-15 09:00:00                            6.790624   \n",
       "\n",
       "                     rougher.output.concentrate_ag  \\\n",
       "date                                                 \n",
       "2016-01-15 00:00:00                      11.500771   \n",
       "2016-01-15 01:00:00                      11.615865   \n",
       "2016-01-15 02:00:00                      11.695753   \n",
       "2016-01-15 03:00:00                      11.915047   \n",
       "2016-01-15 04:00:00                      12.411054   \n",
       "2016-01-15 05:00:00                      11.985584   \n",
       "2016-01-15 06:00:00                      11.684307   \n",
       "2016-01-15 07:00:00                      11.182624   \n",
       "2016-01-15 08:00:00                      11.051323   \n",
       "2016-01-15 09:00:00                      11.116297   \n",
       "\n",
       "                     rougher.output.concentrate_pb  \\\n",
       "date                                                 \n",
       "2016-01-15 00:00:00                       7.101074   \n",
       "2016-01-15 01:00:00                       7.278807   \n",
       "2016-01-15 02:00:00                       7.216833   \n",
       "2016-01-15 03:00:00                       7.175616   \n",
       "2016-01-15 04:00:00                       7.240205   \n",
       "2016-01-15 05:00:00                       7.121903   \n",
       "2016-01-15 06:00:00                       7.304849   \n",
       "2016-01-15 07:00:00                       7.258496   \n",
       "2016-01-15 08:00:00                       7.380043   \n",
       "2016-01-15 09:00:00                       7.297363   \n",
       "\n",
       "                     rougher.output.concentrate_sol  \\\n",
       "date                                                  \n",
       "2016-01-15 00:00:00                       28.029297   \n",
       "2016-01-15 01:00:00                       28.067063   \n",
       "2016-01-15 02:00:00                       27.454037   \n",
       "2016-01-15 03:00:00                       27.341277   \n",
       "2016-01-15 04:00:00                       27.041023   \n",
       "2016-01-15 05:00:00                       26.898046   \n",
       "2016-01-15 06:00:00                       27.063672   \n",
       "2016-01-15 07:00:00                       27.231114   \n",
       "2016-01-15 08:00:00                       27.404296   \n",
       "2016-01-15 09:00:00                       27.497520   \n",
       "\n",
       "                     rougher.output.concentrate_au  rougher.output.recovery  \\\n",
       "date                                                                          \n",
       "2016-01-15 00:00:00                      19.793808                87.107763   \n",
       "2016-01-15 01:00:00                      20.050975                86.843261   \n",
       "2016-01-15 02:00:00                      19.737170                86.842308   \n",
       "2016-01-15 03:00:00                      19.320810                87.226430   \n",
       "2016-01-15 04:00:00                      19.216101                86.688794   \n",
       "2016-01-15 05:00:00                      18.950385                88.156912   \n",
       "2016-01-15 06:00:00                      19.319591                88.168065   \n",
       "2016-01-15 07:00:00                      19.507897                87.668336   \n",
       "2016-01-15 08:00:00                      19.789465                87.035862   \n",
       "2016-01-15 09:00:00                      19.497669                87.650868   \n",
       "\n",
       "                     rougher.output.tail_ag  rougher.output.tail_pb  \\\n",
       "date                                                                  \n",
       "2016-01-15 00:00:00                5.008018                0.508728   \n",
       "2016-01-15 01:00:00                4.955378                0.536689   \n",
       "2016-01-15 02:00:00                4.843460                0.546416   \n",
       "2016-01-15 03:00:00                4.655288                0.542525   \n",
       "2016-01-15 04:00:00                4.552800                0.515438   \n",
       "2016-01-15 05:00:00                4.397415                0.491350   \n",
       "2016-01-15 06:00:00                4.478080                0.518266   \n",
       "2016-01-15 07:00:00                4.728325                0.548067   \n",
       "2016-01-15 08:00:00                4.764300                0.599181   \n",
       "2016-01-15 09:00:00                4.667157                0.615418   \n",
       "\n",
       "                     rougher.output.tail_sol  rougher.output.tail_au  \\\n",
       "date                                                                   \n",
       "2016-01-15 00:00:00                19.154297                1.170244   \n",
       "2016-01-15 01:00:00                18.965234                1.184827   \n",
       "2016-01-15 02:00:00                18.808533                1.162562   \n",
       "2016-01-15 03:00:00                19.330200                1.079755   \n",
       "2016-01-15 04:00:00                19.267422                1.012642   \n",
       "2016-01-15 05:00:00                19.640269                0.915835   \n",
       "2016-01-15 06:00:00                19.262491                0.986248   \n",
       "2016-01-15 07:00:00                18.861866                1.116110   \n",
       "2016-01-15 08:00:00                18.873082                1.186780   \n",
       "2016-01-15 09:00:00                18.907179                1.167140   \n",
       "\n",
       "                     rougher.state.floatbank10_a_air  \\\n",
       "date                                                   \n",
       "2016-01-15 00:00:00                       999.706909   \n",
       "2016-01-15 01:00:00                      1000.286398   \n",
       "2016-01-15 02:00:00                       999.719565   \n",
       "2016-01-15 03:00:00                       999.814770   \n",
       "2016-01-15 04:00:00                       999.678690   \n",
       "2016-01-15 05:00:00                       999.934134   \n",
       "2016-01-15 06:00:00                       999.832373   \n",
       "2016-01-15 07:00:00                      1000.166602   \n",
       "2016-01-15 08:00:00                      1000.026864   \n",
       "2016-01-15 09:00:00                      1000.589156   \n",
       "\n",
       "                     rougher.state.floatbank10_a_level  \\\n",
       "date                                                     \n",
       "2016-01-15 00:00:00                        -404.066986   \n",
       "2016-01-15 01:00:00                        -400.065196   \n",
       "2016-01-15 02:00:00                        -400.074028   \n",
       "2016-01-15 03:00:00                        -400.200179   \n",
       "2016-01-15 04:00:00                        -399.752729   \n",
       "2016-01-15 05:00:00                        -400.599524   \n",
       "2016-01-15 06:00:00                        -399.353521   \n",
       "2016-01-15 07:00:00                        -400.556601   \n",
       "2016-01-15 08:00:00                        -399.968583   \n",
       "2016-01-15 09:00:00                        -398.879586   \n",
       "\n",
       "                     rougher.state.floatbank10_b_air  \\\n",
       "date                                                   \n",
       "2016-01-15 00:00:00                      1603.011353   \n",
       "2016-01-15 01:00:00                      1600.754587   \n",
       "2016-01-15 02:00:00                      1599.337330   \n",
       "2016-01-15 03:00:00                      1600.059442   \n",
       "2016-01-15 04:00:00                      1600.208824   \n",
       "2016-01-15 05:00:00                      1601.080554   \n",
       "2016-01-15 06:00:00                      1600.753019   \n",
       "2016-01-15 07:00:00                      1598.877246   \n",
       "2016-01-15 08:00:00                      1599.813104   \n",
       "2016-01-15 09:00:00                      1598.975250   \n",
       "\n",
       "                     rougher.state.floatbank10_b_level  \\\n",
       "date                                                     \n",
       "2016-01-15 00:00:00                        -434.715027   \n",
       "2016-01-15 01:00:00                        -449.953435   \n",
       "2016-01-15 02:00:00                        -450.008530   \n",
       "2016-01-15 03:00:00                        -450.619948   \n",
       "2016-01-15 04:00:00                        -449.599614   \n",
       "2016-01-15 05:00:00                        -450.120760   \n",
       "2016-01-15 06:00:00                        -450.050089   \n",
       "2016-01-15 07:00:00                        -450.070980   \n",
       "2016-01-15 08:00:00                        -450.481122   \n",
       "2016-01-15 09:00:00                        -451.238638   \n",
       "\n",
       "                     rougher.state.floatbank10_c_air  \\\n",
       "date                                                   \n",
       "2016-01-15 00:00:00                      1602.375000   \n",
       "2016-01-15 01:00:00                      1600.479580   \n",
       "2016-01-15 02:00:00                      1599.672797   \n",
       "2016-01-15 03:00:00                      1600.012842   \n",
       "2016-01-15 04:00:00                      1600.357732   \n",
       "2016-01-15 05:00:00                      1603.164805   \n",
       "2016-01-15 06:00:00                      1599.019966   \n",
       "2016-01-15 07:00:00                      1598.108717   \n",
       "2016-01-15 08:00:00                      1600.024621   \n",
       "2016-01-15 09:00:00                      1600.058139   \n",
       "\n",
       "                     rougher.state.floatbank10_c_level  \\\n",
       "date                                                     \n",
       "2016-01-15 00:00:00                        -442.204468   \n",
       "2016-01-15 01:00:00                        -449.830646   \n",
       "2016-01-15 02:00:00                        -449.954491   \n",
       "2016-01-15 03:00:00                        -449.910497   \n",
       "2016-01-15 04:00:00                        -450.034364   \n",
       "2016-01-15 05:00:00                        -450.097732   \n",
       "2016-01-15 06:00:00                        -449.848507   \n",
       "2016-01-15 07:00:00                        -449.211334   \n",
       "2016-01-15 08:00:00                        -450.365493   \n",
       "2016-01-15 09:00:00                        -451.271448   \n",
       "\n",
       "                     rougher.state.floatbank10_d_air  \\\n",
       "date                                                   \n",
       "2016-01-15 00:00:00                      1598.937256   \n",
       "2016-01-15 01:00:00                      1600.527589   \n",
       "2016-01-15 02:00:00                      1599.849325   \n",
       "2016-01-15 03:00:00                      1597.725177   \n",
       "2016-01-15 04:00:00                      1599.759049   \n",
       "2016-01-15 05:00:00                      1603.368371   \n",
       "2016-01-15 06:00:00                      1600.298267   \n",
       "2016-01-15 07:00:00                      1592.872844   \n",
       "2016-01-15 08:00:00                      1594.448648   \n",
       "2016-01-15 09:00:00                      1610.182874   \n",
       "\n",
       "                     rougher.state.floatbank10_d_level  \\\n",
       "date                                                     \n",
       "2016-01-15 00:00:00                        -451.294128   \n",
       "2016-01-15 01:00:00                        -449.953649   \n",
       "2016-01-15 02:00:00                        -449.954185   \n",
       "2016-01-15 03:00:00                        -450.130127   \n",
       "2016-01-15 04:00:00                        -449.909799   \n",
       "2016-01-15 05:00:00                        -446.306150   \n",
       "2016-01-15 06:00:00                        -453.102891   \n",
       "2016-01-15 07:00:00                        -449.806802   \n",
       "2016-01-15 08:00:00                        -449.882428   \n",
       "2016-01-15 09:00:00                        -450.460190   \n",
       "\n",
       "                     rougher.state.floatbank10_e_air  \\\n",
       "date                                                   \n",
       "2016-01-15 00:00:00                      1404.472046   \n",
       "2016-01-15 01:00:00                      1399.227084   \n",
       "2016-01-15 02:00:00                      1399.180945   \n",
       "2016-01-15 03:00:00                      1400.943157   \n",
       "2016-01-15 04:00:00                      1401.560902   \n",
       "2016-01-15 05:00:00                      1403.393100   \n",
       "2016-01-15 06:00:00                      1397.853265   \n",
       "2016-01-15 07:00:00                      1396.580752   \n",
       "2016-01-15 08:00:00                      1402.033682   \n",
       "2016-01-15 09:00:00                      1399.194663   \n",
       "\n",
       "                     rougher.state.floatbank10_e_level  \\\n",
       "date                                                     \n",
       "2016-01-15 00:00:00                        -455.462982   \n",
       "2016-01-15 01:00:00                        -450.869848   \n",
       "2016-01-15 02:00:00                        -449.937588   \n",
       "2016-01-15 03:00:00                        -450.030142   \n",
       "2016-01-15 04:00:00                        -448.877187   \n",
       "2016-01-15 05:00:00                        -447.899904   \n",
       "2016-01-15 06:00:00                        -451.306640   \n",
       "2016-01-15 07:00:00                        -453.548352   \n",
       "2016-01-15 08:00:00                        -448.545552   \n",
       "2016-01-15 09:00:00                        -450.332681   \n",
       "\n",
       "                     rougher.state.floatbank10_f_air  \\\n",
       "date                                                   \n",
       "2016-01-15 00:00:00                      1416.354980   \n",
       "2016-01-15 01:00:00                      1399.719514   \n",
       "2016-01-15 02:00:00                      1400.316682   \n",
       "2016-01-15 03:00:00                      1400.234743   \n",
       "2016-01-15 04:00:00                      1401.160227   \n",
       "2016-01-15 05:00:00                      1402.903175   \n",
       "2016-01-15 06:00:00                      1397.973670   \n",
       "2016-01-15 07:00:00                      1397.289884   \n",
       "2016-01-15 08:00:00                      1400.748347   \n",
       "2016-01-15 09:00:00                      1399.638290   \n",
       "\n",
       "                     rougher.state.floatbank10_f_level  \\\n",
       "date                                                     \n",
       "2016-01-15 00:00:00                        -451.939636   \n",
       "2016-01-15 01:00:00                        -450.119001   \n",
       "2016-01-15 02:00:00                        -450.527147   \n",
       "2016-01-15 03:00:00                        -449.790835   \n",
       "2016-01-15 04:00:00                        -450.407128   \n",
       "2016-01-15 05:00:00                        -448.872321   \n",
       "2016-01-15 06:00:00                        -451.355626   \n",
       "2016-01-15 07:00:00                        -450.221696   \n",
       "2016-01-15 08:00:00                        -450.303991   \n",
       "2016-01-15 09:00:00                        -450.198722   \n",
       "\n",
       "                     secondary_cleaner.output.tail_ag  \\\n",
       "date                                                    \n",
       "2016-01-15 00:00:00                         14.500184   \n",
       "2016-01-15 01:00:00                         14.265474   \n",
       "2016-01-15 02:00:00                         14.115662   \n",
       "2016-01-15 03:00:00                         13.732071   \n",
       "2016-01-15 04:00:00                         14.079996   \n",
       "2016-01-15 05:00:00                         13.615012   \n",
       "2016-01-15 06:00:00                         13.597056   \n",
       "2016-01-15 07:00:00                         13.177237   \n",
       "2016-01-15 08:00:00                         13.487870   \n",
       "2016-01-15 09:00:00                         13.209191   \n",
       "\n",
       "                     secondary_cleaner.output.tail_pb  \\\n",
       "date                                                    \n",
       "2016-01-15 00:00:00                          4.694824   \n",
       "2016-01-15 01:00:00                          4.592547   \n",
       "2016-01-15 02:00:00                          4.624775   \n",
       "2016-01-15 03:00:00                          4.482453   \n",
       "2016-01-15 04:00:00                          4.470737   \n",
       "2016-01-15 05:00:00                          4.286817   \n",
       "2016-01-15 06:00:00                          4.487865   \n",
       "2016-01-15 07:00:00                          4.432448   \n",
       "2016-01-15 08:00:00                          4.608756   \n",
       "2016-01-15 09:00:00                          4.550553   \n",
       "\n",
       "                     secondary_cleaner.output.tail_sol  \\\n",
       "date                                                     \n",
       "2016-01-15 00:00:00                           8.764648   \n",
       "2016-01-15 01:00:00                           9.001494   \n",
       "2016-01-15 02:00:00                           8.842896   \n",
       "2016-01-15 03:00:00                           9.122857   \n",
       "2016-01-15 04:00:00                           8.871028   \n",
       "2016-01-15 05:00:00                           9.302669   \n",
       "2016-01-15 06:00:00                           9.103047   \n",
       "2016-01-15 07:00:00                           9.369209   \n",
       "2016-01-15 08:00:00                           9.437044   \n",
       "2016-01-15 09:00:00                           9.813732   \n",
       "\n",
       "                     secondary_cleaner.output.tail_au  \\\n",
       "date                                                    \n",
       "2016-01-15 00:00:00                          2.606185   \n",
       "2016-01-15 01:00:00                          2.488248   \n",
       "2016-01-15 02:00:00                          2.458187   \n",
       "2016-01-15 03:00:00                          2.322062   \n",
       "2016-01-15 04:00:00                          2.330448   \n",
       "2016-01-15 05:00:00                          2.192127   \n",
       "2016-01-15 06:00:00                          2.316720   \n",
       "2016-01-15 07:00:00                          2.192197   \n",
       "2016-01-15 08:00:00                          2.212084   \n",
       "2016-01-15 09:00:00                          2.073737   \n",
       "\n",
       "                     secondary_cleaner.state.floatbank2_a_air  \\\n",
       "date                                                            \n",
       "2016-01-15 00:00:00                                 25.853109   \n",
       "2016-01-15 01:00:00                                 25.880539   \n",
       "2016-01-15 02:00:00                                 26.005245   \n",
       "2016-01-15 03:00:00                                 25.942508   \n",
       "2016-01-15 04:00:00                                 26.024787   \n",
       "2016-01-15 05:00:00                                 26.014841   \n",
       "2016-01-15 06:00:00                                 25.957594   \n",
       "2016-01-15 07:00:00                                 25.938026   \n",
       "2016-01-15 08:00:00                                 25.929511   \n",
       "2016-01-15 09:00:00                                 26.059510   \n",
       "\n",
       "                     secondary_cleaner.state.floatbank2_a_level  \\\n",
       "date                                                              \n",
       "2016-01-15 00:00:00                                 -498.526489   \n",
       "2016-01-15 01:00:00                                 -499.989656   \n",
       "2016-01-15 02:00:00                                 -499.929616   \n",
       "2016-01-15 03:00:00                                 -499.176749   \n",
       "2016-01-15 04:00:00                                 -500.279091   \n",
       "2016-01-15 05:00:00                                 -498.864670   \n",
       "2016-01-15 06:00:00                                 -500.134472   \n",
       "2016-01-15 07:00:00                                 -499.657795   \n",
       "2016-01-15 08:00:00                                 -500.079889   \n",
       "2016-01-15 09:00:00                                 -499.151646   \n",
       "\n",
       "                     secondary_cleaner.state.floatbank2_b_air  \\\n",
       "date                                                            \n",
       "2016-01-15 00:00:00                                 23.893660   \n",
       "2016-01-15 01:00:00                                 23.889530   \n",
       "2016-01-15 02:00:00                                 23.886657   \n",
       "2016-01-15 03:00:00                                 23.955516   \n",
       "2016-01-15 04:00:00                                 23.955345   \n",
       "2016-01-15 05:00:00                                 23.880214   \n",
       "2016-01-15 06:00:00                                 24.077199   \n",
       "2016-01-15 07:00:00                                 24.020179   \n",
       "2016-01-15 08:00:00                                 23.977375   \n",
       "2016-01-15 09:00:00                                 23.934570   \n",
       "\n",
       "                     secondary_cleaner.state.floatbank2_b_level  \\\n",
       "date                                                              \n",
       "2016-01-15 00:00:00                                 -501.406281   \n",
       "2016-01-15 01:00:00                                 -500.372428   \n",
       "2016-01-15 02:00:00                                 -499.951928   \n",
       "2016-01-15 03:00:00                                 -499.848796   \n",
       "2016-01-15 04:00:00                                 -500.593614   \n",
       "2016-01-15 05:00:00                                 -499.738447   \n",
       "2016-01-15 06:00:00                                 -500.089190   \n",
       "2016-01-15 07:00:00                                 -499.798396   \n",
       "2016-01-15 08:00:00                                 -500.005187   \n",
       "2016-01-15 09:00:00                                 -499.351758   \n",
       "\n",
       "                     secondary_cleaner.state.floatbank3_a_air  \\\n",
       "date                                                            \n",
       "2016-01-15 00:00:00                                 23.961798   \n",
       "2016-01-15 01:00:00                                 23.970550   \n",
       "2016-01-15 02:00:00                                 23.913535   \n",
       "2016-01-15 03:00:00                                 23.966838   \n",
       "2016-01-15 04:00:00                                 23.985703   \n",
       "2016-01-15 05:00:00                                 23.982635   \n",
       "2016-01-15 06:00:00                                 23.991710   \n",
       "2016-01-15 07:00:00                                 24.031555   \n",
       "2016-01-15 08:00:00                                 23.998809   \n",
       "2016-01-15 09:00:00                                 23.994184   \n",
       "\n",
       "                     secondary_cleaner.state.floatbank3_a_level  \\\n",
       "date                                                              \n",
       "2016-01-15 00:00:00                                 -495.262817   \n",
       "2016-01-15 01:00:00                                 -500.085473   \n",
       "2016-01-15 02:00:00                                 -499.442343   \n",
       "2016-01-15 03:00:00                                 -500.008812   \n",
       "2016-01-15 04:00:00                                 -500.083811   \n",
       "2016-01-15 05:00:00                                 -500.495272   \n",
       "2016-01-15 06:00:00                                 -500.391528   \n",
       "2016-01-15 07:00:00                                 -500.550436   \n",
       "2016-01-15 08:00:00                                 -500.400133   \n",
       "2016-01-15 09:00:00                                 -500.078566   \n",
       "\n",
       "                     secondary_cleaner.state.floatbank3_b_air  \\\n",
       "date                                                            \n",
       "2016-01-15 00:00:00                                 21.940409   \n",
       "2016-01-15 01:00:00                                 22.085714   \n",
       "2016-01-15 02:00:00                                 23.957717   \n",
       "2016-01-15 03:00:00                                 23.954443   \n",
       "2016-01-15 04:00:00                                 23.958945   \n",
       "2016-01-15 05:00:00                                 24.009749   \n",
       "2016-01-15 06:00:00                                 23.954144   \n",
       "2016-01-15 07:00:00                                 23.968160   \n",
       "2016-01-15 08:00:00                                 23.982633   \n",
       "2016-01-15 09:00:00                                 23.924481   \n",
       "\n",
       "                     secondary_cleaner.state.floatbank3_b_level  \\\n",
       "date                                                              \n",
       "2016-01-15 00:00:00                                 -499.340973   \n",
       "2016-01-15 01:00:00                                 -499.446897   \n",
       "2016-01-15 02:00:00                                 -499.901982   \n",
       "2016-01-15 03:00:00                                 -499.944710   \n",
       "2016-01-15 04:00:00                                 -499.990309   \n",
       "2016-01-15 05:00:00                                 -499.433825   \n",
       "2016-01-15 06:00:00                                 -501.872171   \n",
       "2016-01-15 07:00:00                                 -499.836513   \n",
       "2016-01-15 08:00:00                                 -499.826311   \n",
       "2016-01-15 09:00:00                                 -499.989024   \n",
       "\n",
       "                     secondary_cleaner.state.floatbank4_a_air  \\\n",
       "date                                                            \n",
       "2016-01-15 00:00:00                                 14.016835   \n",
       "2016-01-15 01:00:00                                 13.992281   \n",
       "2016-01-15 02:00:00                                 14.015015   \n",
       "2016-01-15 03:00:00                                 14.036510   \n",
       "2016-01-15 04:00:00                                 14.027298   \n",
       "2016-01-15 05:00:00                                 13.938497   \n",
       "2016-01-15 06:00:00                                 14.046819   \n",
       "2016-01-15 07:00:00                                 13.974691   \n",
       "2016-01-15 08:00:00                                 13.964030   \n",
       "2016-01-15 09:00:00                                 13.989632   \n",
       "\n",
       "                     secondary_cleaner.state.floatbank4_a_level  \\\n",
       "date                                                              \n",
       "2016-01-15 00:00:00                                 -502.488007   \n",
       "2016-01-15 01:00:00                                 -505.503262   \n",
       "2016-01-15 02:00:00                                 -502.520901   \n",
       "2016-01-15 03:00:00                                 -500.857308   \n",
       "2016-01-15 04:00:00                                 -499.838632   \n",
       "2016-01-15 05:00:00                                 -500.970168   \n",
       "2016-01-15 06:00:00                                 -500.971133   \n",
       "2016-01-15 07:00:00                                 -501.819696   \n",
       "2016-01-15 08:00:00                                 -504.252450   \n",
       "2016-01-15 09:00:00                                 -503.195299   \n",
       "\n",
       "                     secondary_cleaner.state.floatbank4_b_air  \\\n",
       "date                                                            \n",
       "2016-01-15 00:00:00                                 12.099931   \n",
       "2016-01-15 01:00:00                                 11.950531   \n",
       "2016-01-15 02:00:00                                 11.912783   \n",
       "2016-01-15 03:00:00                                 11.999550   \n",
       "2016-01-15 04:00:00                                 11.953070   \n",
       "2016-01-15 05:00:00                                 11.883350   \n",
       "2016-01-15 06:00:00                                 12.091543   \n",
       "2016-01-15 07:00:00                                 12.101324   \n",
       "2016-01-15 08:00:00                                 12.060738   \n",
       "2016-01-15 09:00:00                                 12.052233   \n",
       "\n",
       "                     secondary_cleaner.state.floatbank4_b_level  \\\n",
       "date                                                              \n",
       "2016-01-15 00:00:00                                 -504.715942   \n",
       "2016-01-15 01:00:00                                 -501.331529   \n",
       "2016-01-15 02:00:00                                 -501.133383   \n",
       "2016-01-15 03:00:00                                 -501.193686   \n",
       "2016-01-15 04:00:00                                 -501.053894   \n",
       "2016-01-15 05:00:00                                 -500.395298   \n",
       "2016-01-15 06:00:00                                 -500.501426   \n",
       "2016-01-15 07:00:00                                 -500.583446   \n",
       "2016-01-15 08:00:00                                 -501.174549   \n",
       "2016-01-15 09:00:00                                 -500.928547   \n",
       "\n",
       "                     secondary_cleaner.state.floatbank5_a_air  \\\n",
       "date                                                            \n",
       "2016-01-15 00:00:00                                  9.925633   \n",
       "2016-01-15 01:00:00                                 10.039245   \n",
       "2016-01-15 02:00:00                                 10.070913   \n",
       "2016-01-15 03:00:00                                  9.970366   \n",
       "2016-01-15 04:00:00                                  9.925709   \n",
       "2016-01-15 05:00:00                                 10.054147   \n",
       "2016-01-15 06:00:00                                 10.003247   \n",
       "2016-01-15 07:00:00                                  9.873169   \n",
       "2016-01-15 08:00:00                                 10.033838   \n",
       "2016-01-15 09:00:00                                  9.962574   \n",
       "\n",
       "                     secondary_cleaner.state.floatbank5_a_level  \\\n",
       "date                                                              \n",
       "2016-01-15 00:00:00                                 -498.310211   \n",
       "2016-01-15 01:00:00                                 -500.169983   \n",
       "2016-01-15 02:00:00                                 -500.129135   \n",
       "2016-01-15 03:00:00                                 -499.201640   \n",
       "2016-01-15 04:00:00                                 -501.686727   \n",
       "2016-01-15 05:00:00                                 -496.374715   \n",
       "2016-01-15 06:00:00                                 -497.083180   \n",
       "2016-01-15 07:00:00                                 -499.171928   \n",
       "2016-01-15 08:00:00                                 -501.178133   \n",
       "2016-01-15 09:00:00                                 -502.986357   \n",
       "\n",
       "                     secondary_cleaner.state.floatbank5_b_air  \\\n",
       "date                                                            \n",
       "2016-01-15 00:00:00                                  8.079666   \n",
       "2016-01-15 01:00:00                                  7.984757   \n",
       "2016-01-15 02:00:00                                  8.013877   \n",
       "2016-01-15 03:00:00                                  7.977324   \n",
       "2016-01-15 04:00:00                                  7.894242   \n",
       "2016-01-15 05:00:00                                  7.965083   \n",
       "2016-01-15 06:00:00                                  8.010890   \n",
       "2016-01-15 07:00:00                                  7.993381   \n",
       "2016-01-15 08:00:00                                  7.881604   \n",
       "2016-01-15 09:00:00                                  7.979219   \n",
       "\n",
       "                     secondary_cleaner.state.floatbank5_b_level  \\\n",
       "date                                                              \n",
       "2016-01-15 00:00:00                                 -500.470978   \n",
       "2016-01-15 01:00:00                                 -500.582168   \n",
       "2016-01-15 02:00:00                                 -500.517572   \n",
       "2016-01-15 03:00:00                                 -500.255908   \n",
       "2016-01-15 04:00:00                                 -500.356035   \n",
       "2016-01-15 05:00:00                                 -499.364752   \n",
       "2016-01-15 06:00:00                                 -500.002423   \n",
       "2016-01-15 07:00:00                                 -499.794518   \n",
       "2016-01-15 08:00:00                                 -499.729434   \n",
       "2016-01-15 09:00:00                                 -500.146835   \n",
       "\n",
       "                     secondary_cleaner.state.floatbank6_a_air  \\\n",
       "date                                                            \n",
       "2016-01-15 00:00:00                                 14.151341   \n",
       "2016-01-15 01:00:00                                 13.998353   \n",
       "2016-01-15 02:00:00                                 14.028663   \n",
       "2016-01-15 03:00:00                                 14.005551   \n",
       "2016-01-15 04:00:00                                 13.996647   \n",
       "2016-01-15 05:00:00                                 14.017067   \n",
       "2016-01-15 06:00:00                                 14.029649   \n",
       "2016-01-15 07:00:00                                 13.984498   \n",
       "2016-01-15 08:00:00                                 13.967135   \n",
       "2016-01-15 09:00:00                                 13.981614   \n",
       "\n",
       "                     secondary_cleaner.state.floatbank6_a_level  \n",
       "date                                                             \n",
       "2016-01-15 00:00:00                                 -605.841980  \n",
       "2016-01-15 01:00:00                                 -599.787184  \n",
       "2016-01-15 02:00:00                                 -601.427363  \n",
       "2016-01-15 03:00:00                                 -599.996129  \n",
       "2016-01-15 04:00:00                                 -601.496691  \n",
       "2016-01-15 05:00:00                                 -599.707915  \n",
       "2016-01-15 06:00:00                                 -600.905470  \n",
       "2016-01-15 07:00:00                                 -600.411070  \n",
       "2016-01-15 08:00:00                                 -599.061188  \n",
       "2016-01-15 09:00:00                                 -598.070855  "
      ]
     },
     "metadata": {},
     "output_type": "display_data"
    },
    {
     "name": "stdout",
     "output_type": "stream",
     "text": [
      "Информация о таблице: Обучающая выборка\n",
      "<class 'pandas.core.frame.DataFrame'>\n",
      "Index: 14149 entries, 2016-01-15 00:00:00 to 2018-08-18 10:59:59\n",
      "Data columns (total 86 columns):\n",
      " #   Column                                              Non-Null Count  Dtype  \n",
      "---  ------                                              --------------  -----  \n",
      " 0   final.output.concentrate_ag                         14148 non-null  float64\n",
      " 1   final.output.concentrate_pb                         14148 non-null  float64\n",
      " 2   final.output.concentrate_sol                        13938 non-null  float64\n",
      " 3   final.output.concentrate_au                         14149 non-null  float64\n",
      " 4   final.output.recovery                               14149 non-null  float64\n",
      " 5   final.output.tail_ag                                14149 non-null  float64\n",
      " 6   final.output.tail_pb                                14049 non-null  float64\n",
      " 7   final.output.tail_sol                               14144 non-null  float64\n",
      " 8   final.output.tail_au                                14149 non-null  float64\n",
      " 9   primary_cleaner.input.sulfate                       14129 non-null  float64\n",
      " 10  primary_cleaner.input.depressant                    14117 non-null  float64\n",
      " 11  primary_cleaner.input.feed_size                     14149 non-null  float64\n",
      " 12  primary_cleaner.input.xanthate                      14049 non-null  float64\n",
      " 13  primary_cleaner.output.concentrate_ag               14149 non-null  float64\n",
      " 14  primary_cleaner.output.concentrate_pb               14063 non-null  float64\n",
      " 15  primary_cleaner.output.concentrate_sol              13863 non-null  float64\n",
      " 16  primary_cleaner.output.concentrate_au               14149 non-null  float64\n",
      " 17  primary_cleaner.output.tail_ag                      14148 non-null  float64\n",
      " 18  primary_cleaner.output.tail_pb                      14134 non-null  float64\n",
      " 19  primary_cleaner.output.tail_sol                     14103 non-null  float64\n",
      " 20  primary_cleaner.output.tail_au                      14149 non-null  float64\n",
      " 21  primary_cleaner.state.floatbank8_a_air              14145 non-null  float64\n",
      " 22  primary_cleaner.state.floatbank8_a_level            14148 non-null  float64\n",
      " 23  primary_cleaner.state.floatbank8_b_air              14145 non-null  float64\n",
      " 24  primary_cleaner.state.floatbank8_b_level            14148 non-null  float64\n",
      " 25  primary_cleaner.state.floatbank8_c_air              14147 non-null  float64\n",
      " 26  primary_cleaner.state.floatbank8_c_level            14148 non-null  float64\n",
      " 27  primary_cleaner.state.floatbank8_d_air              14146 non-null  float64\n",
      " 28  primary_cleaner.state.floatbank8_d_level            14148 non-null  float64\n",
      " 29  rougher.calculation.sulfate_to_au_concentrate       14148 non-null  float64\n",
      " 30  rougher.calculation.floatbank10_sulfate_to_au_feed  14148 non-null  float64\n",
      " 31  rougher.calculation.floatbank11_sulfate_to_au_feed  14148 non-null  float64\n",
      " 32  rougher.calculation.au_pb_ratio                     14149 non-null  float64\n",
      " 33  rougher.input.feed_ag                               14149 non-null  float64\n",
      " 34  rougher.input.feed_pb                               14049 non-null  float64\n",
      " 35  rougher.input.feed_rate                             14141 non-null  float64\n",
      " 36  rougher.input.feed_size                             14005 non-null  float64\n",
      " 37  rougher.input.feed_sol                              14071 non-null  float64\n",
      " 38  rougher.input.feed_au                               14149 non-null  float64\n",
      " 39  rougher.input.floatbank10_sulfate                   14120 non-null  float64\n",
      " 40  rougher.input.floatbank10_xanthate                  14141 non-null  float64\n",
      " 41  rougher.input.floatbank11_sulfate                   14113 non-null  float64\n",
      " 42  rougher.input.floatbank11_xanthate                  13721 non-null  float64\n",
      " 43  rougher.output.concentrate_ag                       14149 non-null  float64\n",
      " 44  rougher.output.concentrate_pb                       14149 non-null  float64\n",
      " 45  rougher.output.concentrate_sol                      14127 non-null  float64\n",
      " 46  rougher.output.concentrate_au                       14149 non-null  float64\n",
      " 47  rougher.output.recovery                             14149 non-null  float64\n",
      " 48  rougher.output.tail_ag                              14148 non-null  float64\n",
      " 49  rougher.output.tail_pb                              14149 non-null  float64\n",
      " 50  rougher.output.tail_sol                             14149 non-null  float64\n",
      " 51  rougher.output.tail_au                              14149 non-null  float64\n",
      " 52  rougher.state.floatbank10_a_air                     14148 non-null  float64\n",
      " 53  rougher.state.floatbank10_a_level                   14148 non-null  float64\n",
      " 54  rougher.state.floatbank10_b_air                     14148 non-null  float64\n",
      " 55  rougher.state.floatbank10_b_level                   14148 non-null  float64\n",
      " 56  rougher.state.floatbank10_c_air                     14148 non-null  float64\n",
      " 57  rougher.state.floatbank10_c_level                   14148 non-null  float64\n",
      " 58  rougher.state.floatbank10_d_air                     14149 non-null  float64\n",
      " 59  rougher.state.floatbank10_d_level                   14149 non-null  float64\n",
      " 60  rougher.state.floatbank10_e_air                     13713 non-null  float64\n",
      " 61  rougher.state.floatbank10_e_level                   14149 non-null  float64\n",
      " 62  rougher.state.floatbank10_f_air                     14149 non-null  float64\n",
      " 63  rougher.state.floatbank10_f_level                   14149 non-null  float64\n",
      " 64  secondary_cleaner.output.tail_ag                    14147 non-null  float64\n",
      " 65  secondary_cleaner.output.tail_pb                    14139 non-null  float64\n",
      " 66  secondary_cleaner.output.tail_sol                   12544 non-null  float64\n",
      " 67  secondary_cleaner.output.tail_au                    14149 non-null  float64\n",
      " 68  secondary_cleaner.state.floatbank2_a_air            13932 non-null  float64\n",
      " 69  secondary_cleaner.state.floatbank2_a_level          14148 non-null  float64\n",
      " 70  secondary_cleaner.state.floatbank2_b_air            14128 non-null  float64\n",
      " 71  secondary_cleaner.state.floatbank2_b_level          14148 non-null  float64\n",
      " 72  secondary_cleaner.state.floatbank3_a_air            14145 non-null  float64\n",
      " 73  secondary_cleaner.state.floatbank3_a_level          14148 non-null  float64\n",
      " 74  secondary_cleaner.state.floatbank3_b_air            14148 non-null  float64\n",
      " 75  secondary_cleaner.state.floatbank3_b_level          14148 non-null  float64\n",
      " 76  secondary_cleaner.state.floatbank4_a_air            14143 non-null  float64\n",
      " 77  secondary_cleaner.state.floatbank4_a_level          14148 non-null  float64\n",
      " 78  secondary_cleaner.state.floatbank4_b_air            14148 non-null  float64\n",
      " 79  secondary_cleaner.state.floatbank4_b_level          14148 non-null  float64\n",
      " 80  secondary_cleaner.state.floatbank5_a_air            14148 non-null  float64\n",
      " 81  secondary_cleaner.state.floatbank5_a_level          14148 non-null  float64\n",
      " 82  secondary_cleaner.state.floatbank5_b_air            14148 non-null  float64\n",
      " 83  secondary_cleaner.state.floatbank5_b_level          14148 non-null  float64\n",
      " 84  secondary_cleaner.state.floatbank6_a_air            14147 non-null  float64\n",
      " 85  secondary_cleaner.state.floatbank6_a_level          14148 non-null  float64\n",
      "dtypes: float64(86)\n",
      "memory usage: 10.3 MB\n",
      "None\n",
      "Количество пропусков в таблице: Обучающая выборка\n",
      "final.output.concentrate_ag                           0.000071\n",
      "final.output.concentrate_pb                           0.000071\n",
      "final.output.concentrate_sol                          0.014913\n",
      "final.output.concentrate_au                           0.000000\n",
      "final.output.recovery                                 0.000000\n",
      "final.output.tail_ag                                  0.000000\n",
      "final.output.tail_pb                                  0.007068\n",
      "final.output.tail_sol                                 0.000353\n",
      "final.output.tail_au                                  0.000000\n",
      "primary_cleaner.input.sulfate                         0.001414\n",
      "primary_cleaner.input.depressant                      0.002262\n",
      "primary_cleaner.input.feed_size                       0.000000\n",
      "primary_cleaner.input.xanthate                        0.007068\n",
      "primary_cleaner.output.concentrate_ag                 0.000000\n",
      "primary_cleaner.output.concentrate_pb                 0.006078\n",
      "primary_cleaner.output.concentrate_sol                0.020213\n",
      "primary_cleaner.output.concentrate_au                 0.000000\n",
      "primary_cleaner.output.tail_ag                        0.000071\n",
      "primary_cleaner.output.tail_pb                        0.001060\n",
      "primary_cleaner.output.tail_sol                       0.003251\n",
      "primary_cleaner.output.tail_au                        0.000000\n",
      "primary_cleaner.state.floatbank8_a_air                0.000283\n",
      "primary_cleaner.state.floatbank8_a_level              0.000071\n",
      "primary_cleaner.state.floatbank8_b_air                0.000283\n",
      "primary_cleaner.state.floatbank8_b_level              0.000071\n",
      "primary_cleaner.state.floatbank8_c_air                0.000141\n",
      "primary_cleaner.state.floatbank8_c_level              0.000071\n",
      "primary_cleaner.state.floatbank8_d_air                0.000212\n",
      "primary_cleaner.state.floatbank8_d_level              0.000071\n",
      "rougher.calculation.sulfate_to_au_concentrate         0.000071\n",
      "rougher.calculation.floatbank10_sulfate_to_au_feed    0.000071\n",
      "rougher.calculation.floatbank11_sulfate_to_au_feed    0.000071\n",
      "rougher.calculation.au_pb_ratio                       0.000000\n",
      "rougher.input.feed_ag                                 0.000000\n",
      "rougher.input.feed_pb                                 0.007068\n",
      "rougher.input.feed_rate                               0.000565\n",
      "rougher.input.feed_size                               0.010177\n",
      "rougher.input.feed_sol                                0.005513\n",
      "rougher.input.feed_au                                 0.000000\n",
      "rougher.input.floatbank10_sulfate                     0.002050\n",
      "rougher.input.floatbank10_xanthate                    0.000565\n",
      "rougher.input.floatbank11_sulfate                     0.002544\n",
      "rougher.input.floatbank11_xanthate                    0.030249\n",
      "rougher.output.concentrate_ag                         0.000000\n",
      "rougher.output.concentrate_pb                         0.000000\n",
      "rougher.output.concentrate_sol                        0.001555\n",
      "rougher.output.concentrate_au                         0.000000\n",
      "rougher.output.recovery                               0.000000\n",
      "rougher.output.tail_ag                                0.000071\n",
      "rougher.output.tail_pb                                0.000000\n",
      "rougher.output.tail_sol                               0.000000\n",
      "rougher.output.tail_au                                0.000000\n",
      "rougher.state.floatbank10_a_air                       0.000071\n",
      "rougher.state.floatbank10_a_level                     0.000071\n",
      "rougher.state.floatbank10_b_air                       0.000071\n",
      "rougher.state.floatbank10_b_level                     0.000071\n",
      "rougher.state.floatbank10_c_air                       0.000071\n",
      "rougher.state.floatbank10_c_level                     0.000071\n",
      "rougher.state.floatbank10_d_air                       0.000000\n",
      "rougher.state.floatbank10_d_level                     0.000000\n",
      "rougher.state.floatbank10_e_air                       0.030815\n",
      "rougher.state.floatbank10_e_level                     0.000000\n",
      "rougher.state.floatbank10_f_air                       0.000000\n",
      "rougher.state.floatbank10_f_level                     0.000000\n",
      "secondary_cleaner.output.tail_ag                      0.000141\n",
      "secondary_cleaner.output.tail_pb                      0.000707\n",
      "secondary_cleaner.output.tail_sol                     0.113436\n",
      "secondary_cleaner.output.tail_au                      0.000000\n",
      "secondary_cleaner.state.floatbank2_a_air              0.015337\n",
      "secondary_cleaner.state.floatbank2_a_level            0.000071\n",
      "secondary_cleaner.state.floatbank2_b_air              0.001484\n",
      "secondary_cleaner.state.floatbank2_b_level            0.000071\n",
      "secondary_cleaner.state.floatbank3_a_air              0.000283\n",
      "secondary_cleaner.state.floatbank3_a_level            0.000071\n",
      "secondary_cleaner.state.floatbank3_b_air              0.000071\n",
      "secondary_cleaner.state.floatbank3_b_level            0.000071\n",
      "secondary_cleaner.state.floatbank4_a_air              0.000424\n",
      "secondary_cleaner.state.floatbank4_a_level            0.000071\n",
      "secondary_cleaner.state.floatbank4_b_air              0.000071\n",
      "secondary_cleaner.state.floatbank4_b_level            0.000071\n",
      "secondary_cleaner.state.floatbank5_a_air              0.000071\n",
      "secondary_cleaner.state.floatbank5_a_level            0.000071\n",
      "secondary_cleaner.state.floatbank5_b_air              0.000071\n",
      "secondary_cleaner.state.floatbank5_b_level            0.000071\n",
      "secondary_cleaner.state.floatbank6_a_air              0.000141\n",
      "secondary_cleaner.state.floatbank6_a_level            0.000071\n",
      "dtype: float64\n",
      "Получение сводки по таблице: Обучающая выборка\n"
     ]
    },
    {
     "data": {
      "text/html": [
       "<div>\n",
       "<style scoped>\n",
       "    .dataframe tbody tr th:only-of-type {\n",
       "        vertical-align: middle;\n",
       "    }\n",
       "\n",
       "    .dataframe tbody tr th {\n",
       "        vertical-align: top;\n",
       "    }\n",
       "\n",
       "    .dataframe thead th {\n",
       "        text-align: right;\n",
       "    }\n",
       "</style>\n",
       "<table border=\"1\" class=\"dataframe\">\n",
       "  <thead>\n",
       "    <tr style=\"text-align: right;\">\n",
       "      <th></th>\n",
       "      <th>count</th>\n",
       "      <th>mean</th>\n",
       "      <th>std</th>\n",
       "      <th>min</th>\n",
       "      <th>25%</th>\n",
       "      <th>50%</th>\n",
       "      <th>75%</th>\n",
       "      <th>max</th>\n",
       "    </tr>\n",
       "  </thead>\n",
       "  <tbody>\n",
       "    <tr>\n",
       "      <th>final.output.concentrate_ag</th>\n",
       "      <td>14148.0</td>\n",
       "      <td>5.142034</td>\n",
       "      <td>1.369586</td>\n",
       "      <td>0.000000e+00</td>\n",
       "      <td>4.211620</td>\n",
       "      <td>4.994652</td>\n",
       "      <td>5.859540</td>\n",
       "      <td>1.600195e+01</td>\n",
       "    </tr>\n",
       "    <tr>\n",
       "      <th>final.output.concentrate_pb</th>\n",
       "      <td>14148.0</td>\n",
       "      <td>10.132960</td>\n",
       "      <td>1.654930</td>\n",
       "      <td>0.000000e+00</td>\n",
       "      <td>9.297355</td>\n",
       "      <td>10.297144</td>\n",
       "      <td>11.170603</td>\n",
       "      <td>1.703190e+01</td>\n",
       "    </tr>\n",
       "    <tr>\n",
       "      <th>final.output.concentrate_sol</th>\n",
       "      <td>13938.0</td>\n",
       "      <td>9.202849</td>\n",
       "      <td>2.790516</td>\n",
       "      <td>0.000000e+00</td>\n",
       "      <td>7.484645</td>\n",
       "      <td>8.845462</td>\n",
       "      <td>10.487508</td>\n",
       "      <td>1.812485e+01</td>\n",
       "    </tr>\n",
       "    <tr>\n",
       "      <th>final.output.concentrate_au</th>\n",
       "      <td>14149.0</td>\n",
       "      <td>44.003792</td>\n",
       "      <td>4.905261</td>\n",
       "      <td>0.000000e+00</td>\n",
       "      <td>43.276111</td>\n",
       "      <td>44.872436</td>\n",
       "      <td>46.166425</td>\n",
       "      <td>5.275664e+01</td>\n",
       "    </tr>\n",
       "    <tr>\n",
       "      <th>final.output.recovery</th>\n",
       "      <td>14149.0</td>\n",
       "      <td>66.518832</td>\n",
       "      <td>10.295402</td>\n",
       "      <td>0.000000e+00</td>\n",
       "      <td>62.545817</td>\n",
       "      <td>67.432775</td>\n",
       "      <td>72.346428</td>\n",
       "      <td>1.000000e+02</td>\n",
       "    </tr>\n",
       "    <tr>\n",
       "      <th>final.output.tail_ag</th>\n",
       "      <td>14149.0</td>\n",
       "      <td>9.607035</td>\n",
       "      <td>2.319069</td>\n",
       "      <td>0.000000e+00</td>\n",
       "      <td>7.997429</td>\n",
       "      <td>9.480270</td>\n",
       "      <td>11.003707</td>\n",
       "      <td>1.955215e+01</td>\n",
       "    </tr>\n",
       "    <tr>\n",
       "      <th>final.output.tail_pb</th>\n",
       "      <td>14049.0</td>\n",
       "      <td>2.597298</td>\n",
       "      <td>0.971843</td>\n",
       "      <td>0.000000e+00</td>\n",
       "      <td>1.905973</td>\n",
       "      <td>2.592022</td>\n",
       "      <td>3.241723</td>\n",
       "      <td>5.639565e+00</td>\n",
       "    </tr>\n",
       "    <tr>\n",
       "      <th>final.output.tail_sol</th>\n",
       "      <td>14144.0</td>\n",
       "      <td>10.512122</td>\n",
       "      <td>3.003617</td>\n",
       "      <td>0.000000e+00</td>\n",
       "      <td>8.811324</td>\n",
       "      <td>10.514621</td>\n",
       "      <td>11.933009</td>\n",
       "      <td>2.231773e+01</td>\n",
       "    </tr>\n",
       "    <tr>\n",
       "      <th>final.output.tail_au</th>\n",
       "      <td>14149.0</td>\n",
       "      <td>2.918421</td>\n",
       "      <td>0.903712</td>\n",
       "      <td>0.000000e+00</td>\n",
       "      <td>2.368607</td>\n",
       "      <td>2.851025</td>\n",
       "      <td>3.434764</td>\n",
       "      <td>8.197408e+00</td>\n",
       "    </tr>\n",
       "    <tr>\n",
       "      <th>primary_cleaner.input.sulfate</th>\n",
       "      <td>14129.0</td>\n",
       "      <td>133.320659</td>\n",
       "      <td>39.431659</td>\n",
       "      <td>3.111820e-03</td>\n",
       "      <td>107.006651</td>\n",
       "      <td>133.018328</td>\n",
       "      <td>159.825396</td>\n",
       "      <td>2.501278e+02</td>\n",
       "    </tr>\n",
       "    <tr>\n",
       "      <th>primary_cleaner.input.depressant</th>\n",
       "      <td>14117.0</td>\n",
       "      <td>8.866996</td>\n",
       "      <td>3.361589</td>\n",
       "      <td>0.000000e+00</td>\n",
       "      <td>6.040604</td>\n",
       "      <td>8.035811</td>\n",
       "      <td>11.522173</td>\n",
       "      <td>2.005226e+01</td>\n",
       "    </tr>\n",
       "    <tr>\n",
       "      <th>primary_cleaner.input.feed_size</th>\n",
       "      <td>14149.0</td>\n",
       "      <td>7.322310</td>\n",
       "      <td>0.614062</td>\n",
       "      <td>1.080000e+00</td>\n",
       "      <td>6.960000</td>\n",
       "      <td>7.290000</td>\n",
       "      <td>7.700000</td>\n",
       "      <td>1.047000e+01</td>\n",
       "    </tr>\n",
       "    <tr>\n",
       "      <th>primary_cleaner.input.xanthate</th>\n",
       "      <td>14049.0</td>\n",
       "      <td>0.885588</td>\n",
       "      <td>0.372714</td>\n",
       "      <td>4.632753e-06</td>\n",
       "      <td>0.607021</td>\n",
       "      <td>0.888749</td>\n",
       "      <td>1.100933</td>\n",
       "      <td>2.512968e+00</td>\n",
       "    </tr>\n",
       "    <tr>\n",
       "      <th>primary_cleaner.output.concentrate_ag</th>\n",
       "      <td>14149.0</td>\n",
       "      <td>8.200916</td>\n",
       "      <td>2.005185</td>\n",
       "      <td>0.000000e+00</td>\n",
       "      <td>7.107126</td>\n",
       "      <td>8.226247</td>\n",
       "      <td>9.504924</td>\n",
       "      <td>1.608163e+01</td>\n",
       "    </tr>\n",
       "    <tr>\n",
       "      <th>primary_cleaner.output.concentrate_pb</th>\n",
       "      <td>14063.0</td>\n",
       "      <td>9.588862</td>\n",
       "      <td>2.694296</td>\n",
       "      <td>0.000000e+00</td>\n",
       "      <td>8.333489</td>\n",
       "      <td>9.933520</td>\n",
       "      <td>11.310817</td>\n",
       "      <td>1.708128e+01</td>\n",
       "    </tr>\n",
       "    <tr>\n",
       "      <th>primary_cleaner.output.concentrate_sol</th>\n",
       "      <td>13863.0</td>\n",
       "      <td>10.114745</td>\n",
       "      <td>4.064076</td>\n",
       "      <td>0.000000e+00</td>\n",
       "      <td>7.488139</td>\n",
       "      <td>9.726566</td>\n",
       "      <td>13.052807</td>\n",
       "      <td>2.228085e+01</td>\n",
       "    </tr>\n",
       "    <tr>\n",
       "      <th>primary_cleaner.output.concentrate_au</th>\n",
       "      <td>14149.0</td>\n",
       "      <td>32.386836</td>\n",
       "      <td>5.798843</td>\n",
       "      <td>0.000000e+00</td>\n",
       "      <td>30.857764</td>\n",
       "      <td>33.225835</td>\n",
       "      <td>35.330145</td>\n",
       "      <td>4.593393e+01</td>\n",
       "    </tr>\n",
       "    <tr>\n",
       "      <th>primary_cleaner.output.tail_ag</th>\n",
       "      <td>14148.0</td>\n",
       "      <td>16.303929</td>\n",
       "      <td>3.739843</td>\n",
       "      <td>0.000000e+00</td>\n",
       "      <td>13.873147</td>\n",
       "      <td>15.800604</td>\n",
       "      <td>18.450109</td>\n",
       "      <td>2.945957e+01</td>\n",
       "    </tr>\n",
       "    <tr>\n",
       "      <th>primary_cleaner.output.tail_pb</th>\n",
       "      <td>14134.0</td>\n",
       "      <td>3.443398</td>\n",
       "      <td>1.490106</td>\n",
       "      <td>0.000000e+00</td>\n",
       "      <td>2.420259</td>\n",
       "      <td>3.218374</td>\n",
       "      <td>4.253218</td>\n",
       "      <td>9.634565e+00</td>\n",
       "    </tr>\n",
       "    <tr>\n",
       "      <th>primary_cleaner.output.tail_sol</th>\n",
       "      <td>14103.0</td>\n",
       "      <td>7.533566</td>\n",
       "      <td>2.133220</td>\n",
       "      <td>0.000000e+00</td>\n",
       "      <td>6.332548</td>\n",
       "      <td>7.714419</td>\n",
       "      <td>8.910664</td>\n",
       "      <td>2.062083e+01</td>\n",
       "    </tr>\n",
       "    <tr>\n",
       "      <th>primary_cleaner.output.tail_au</th>\n",
       "      <td>14149.0</td>\n",
       "      <td>3.839637</td>\n",
       "      <td>1.603544</td>\n",
       "      <td>0.000000e+00</td>\n",
       "      <td>2.867957</td>\n",
       "      <td>3.510337</td>\n",
       "      <td>4.492470</td>\n",
       "      <td>1.778892e+01</td>\n",
       "    </tr>\n",
       "    <tr>\n",
       "      <th>primary_cleaner.state.floatbank8_a_air</th>\n",
       "      <td>14145.0</td>\n",
       "      <td>1608.000064</td>\n",
       "      <td>128.394355</td>\n",
       "      <td>6.352155e-03</td>\n",
       "      <td>1595.695815</td>\n",
       "      <td>1601.824410</td>\n",
       "      <td>1699.716408</td>\n",
       "      <td>2.079531e+03</td>\n",
       "    </tr>\n",
       "    <tr>\n",
       "      <th>primary_cleaner.state.floatbank8_a_level</th>\n",
       "      <td>14148.0</td>\n",
       "      <td>-488.775525</td>\n",
       "      <td>35.704184</td>\n",
       "      <td>-7.986417e+02</td>\n",
       "      <td>-500.287952</td>\n",
       "      <td>-499.909375</td>\n",
       "      <td>-499.378551</td>\n",
       "      <td>-3.301342e+02</td>\n",
       "    </tr>\n",
       "    <tr>\n",
       "      <th>primary_cleaner.state.floatbank8_b_air</th>\n",
       "      <td>14145.0</td>\n",
       "      <td>1608.610983</td>\n",
       "      <td>131.112729</td>\n",
       "      <td>8.700416e-03</td>\n",
       "      <td>1558.959943</td>\n",
       "      <td>1601.818514</td>\n",
       "      <td>1700.215351</td>\n",
       "      <td>2.114907e+03</td>\n",
       "    </tr>\n",
       "    <tr>\n",
       "      <th>primary_cleaner.state.floatbank8_b_level</th>\n",
       "      <td>14148.0</td>\n",
       "      <td>-489.171786</td>\n",
       "      <td>33.604449</td>\n",
       "      <td>-7.401221e+02</td>\n",
       "      <td>-500.375645</td>\n",
       "      <td>-499.938003</td>\n",
       "      <td>-499.389658</td>\n",
       "      <td>-3.473544e+02</td>\n",
       "    </tr>\n",
       "    <tr>\n",
       "      <th>primary_cleaner.state.floatbank8_c_air</th>\n",
       "      <td>14147.0</td>\n",
       "      <td>1608.879407</td>\n",
       "      <td>134.266898</td>\n",
       "      <td>1.515882e-02</td>\n",
       "      <td>1549.871886</td>\n",
       "      <td>1601.574628</td>\n",
       "      <td>1700.464037</td>\n",
       "      <td>2.013156e+03</td>\n",
       "    </tr>\n",
       "    <tr>\n",
       "      <th>primary_cleaner.state.floatbank8_c_level</th>\n",
       "      <td>14148.0</td>\n",
       "      <td>-489.605549</td>\n",
       "      <td>35.624002</td>\n",
       "      <td>-7.998031e+02</td>\n",
       "      <td>-500.601718</td>\n",
       "      <td>-499.871346</td>\n",
       "      <td>-498.801774</td>\n",
       "      <td>-3.466534e+02</td>\n",
       "    </tr>\n",
       "    <tr>\n",
       "      <th>primary_cleaner.state.floatbank8_d_air</th>\n",
       "      <td>14146.0</td>\n",
       "      <td>1542.189963</td>\n",
       "      <td>278.316132</td>\n",
       "      <td>8.654609e-03</td>\n",
       "      <td>1452.678767</td>\n",
       "      <td>1600.168346</td>\n",
       "      <td>1699.358771</td>\n",
       "      <td>2.398904e+03</td>\n",
       "    </tr>\n",
       "    <tr>\n",
       "      <th>primary_cleaner.state.floatbank8_d_level</th>\n",
       "      <td>14148.0</td>\n",
       "      <td>-483.462423</td>\n",
       "      <td>47.100934</td>\n",
       "      <td>-7.997886e+02</td>\n",
       "      <td>-500.459917</td>\n",
       "      <td>-499.831833</td>\n",
       "      <td>-498.480341</td>\n",
       "      <td>-3.060183e+01</td>\n",
       "    </tr>\n",
       "    <tr>\n",
       "      <th>rougher.calculation.sulfate_to_au_concentrate</th>\n",
       "      <td>14148.0</td>\n",
       "      <td>40382.648631</td>\n",
       "      <td>380143.622167</td>\n",
       "      <td>-4.223520e+07</td>\n",
       "      <td>39994.296160</td>\n",
       "      <td>43684.308422</td>\n",
       "      <td>47760.406722</td>\n",
       "      <td>3.428099e+06</td>\n",
       "    </tr>\n",
       "    <tr>\n",
       "      <th>rougher.calculation.floatbank10_sulfate_to_au_feed</th>\n",
       "      <td>14148.0</td>\n",
       "      <td>3456.608298</td>\n",
       "      <td>5772.510248</td>\n",
       "      <td>-4.865987e+02</td>\n",
       "      <td>2527.093354</td>\n",
       "      <td>2975.892211</td>\n",
       "      <td>3716.360822</td>\n",
       "      <td>6.296390e+05</td>\n",
       "    </tr>\n",
       "    <tr>\n",
       "      <th>rougher.calculation.floatbank11_sulfate_to_au_feed</th>\n",
       "      <td>14148.0</td>\n",
       "      <td>3253.356387</td>\n",
       "      <td>6753.290662</td>\n",
       "      <td>-2.649828e+02</td>\n",
       "      <td>2512.200873</td>\n",
       "      <td>2899.807724</td>\n",
       "      <td>3596.534806</td>\n",
       "      <td>7.186850e+05</td>\n",
       "    </tr>\n",
       "    <tr>\n",
       "      <th>rougher.calculation.au_pb_ratio</th>\n",
       "      <td>14149.0</td>\n",
       "      <td>2.367314</td>\n",
       "      <td>0.873551</td>\n",
       "      <td>-1.054761e-02</td>\n",
       "      <td>1.999588</td>\n",
       "      <td>2.249275</td>\n",
       "      <td>2.660896</td>\n",
       "      <td>3.937927e+01</td>\n",
       "    </tr>\n",
       "    <tr>\n",
       "      <th>rougher.input.feed_ag</th>\n",
       "      <td>14149.0</td>\n",
       "      <td>8.579195</td>\n",
       "      <td>1.896284</td>\n",
       "      <td>1.000000e-02</td>\n",
       "      <td>7.132802</td>\n",
       "      <td>8.156092</td>\n",
       "      <td>9.918304</td>\n",
       "      <td>1.459603e+01</td>\n",
       "    </tr>\n",
       "    <tr>\n",
       "      <th>rougher.input.feed_pb</th>\n",
       "      <td>14049.0</td>\n",
       "      <td>3.522778</td>\n",
       "      <td>1.073394</td>\n",
       "      <td>1.000000e-02</td>\n",
       "      <td>2.780010</td>\n",
       "      <td>3.422677</td>\n",
       "      <td>4.226107</td>\n",
       "      <td>7.142594e+00</td>\n",
       "    </tr>\n",
       "    <tr>\n",
       "      <th>rougher.input.feed_rate</th>\n",
       "      <td>14141.0</td>\n",
       "      <td>474.027714</td>\n",
       "      <td>104.039838</td>\n",
       "      <td>1.278570e-02</td>\n",
       "      <td>420.781913</td>\n",
       "      <td>499.454777</td>\n",
       "      <td>547.334973</td>\n",
       "      <td>7.175088e+02</td>\n",
       "    </tr>\n",
       "    <tr>\n",
       "      <th>rougher.input.feed_size</th>\n",
       "      <td>14005.0</td>\n",
       "      <td>60.110518</td>\n",
       "      <td>22.418485</td>\n",
       "      <td>9.659576e+00</td>\n",
       "      <td>48.973027</td>\n",
       "      <td>55.373885</td>\n",
       "      <td>66.080172</td>\n",
       "      <td>4.849675e+02</td>\n",
       "    </tr>\n",
       "    <tr>\n",
       "      <th>rougher.input.feed_sol</th>\n",
       "      <td>14071.0</td>\n",
       "      <td>36.312593</td>\n",
       "      <td>4.956057</td>\n",
       "      <td>1.000000e-02</td>\n",
       "      <td>34.117635</td>\n",
       "      <td>37.020345</td>\n",
       "      <td>39.423265</td>\n",
       "      <td>4.836318e+01</td>\n",
       "    </tr>\n",
       "    <tr>\n",
       "      <th>rougher.input.feed_au</th>\n",
       "      <td>14149.0</td>\n",
       "      <td>7.866577</td>\n",
       "      <td>1.919506</td>\n",
       "      <td>1.000000e-02</td>\n",
       "      <td>6.596217</td>\n",
       "      <td>7.649138</td>\n",
       "      <td>9.066976</td>\n",
       "      <td>1.312604e+01</td>\n",
       "    </tr>\n",
       "    <tr>\n",
       "      <th>rougher.input.floatbank10_sulfate</th>\n",
       "      <td>14120.0</td>\n",
       "      <td>11.764931</td>\n",
       "      <td>3.278813</td>\n",
       "      <td>1.083112e-03</td>\n",
       "      <td>9.861100</td>\n",
       "      <td>11.688702</td>\n",
       "      <td>13.607115</td>\n",
       "      <td>3.611827e+01</td>\n",
       "    </tr>\n",
       "    <tr>\n",
       "      <th>rougher.input.floatbank10_xanthate</th>\n",
       "      <td>14141.0</td>\n",
       "      <td>5.854529</td>\n",
       "      <td>1.104263</td>\n",
       "      <td>1.427685e-03</td>\n",
       "      <td>5.117359</td>\n",
       "      <td>5.951071</td>\n",
       "      <td>6.602533</td>\n",
       "      <td>9.703448e+00</td>\n",
       "    </tr>\n",
       "    <tr>\n",
       "      <th>rougher.input.floatbank11_sulfate</th>\n",
       "      <td>14113.0</td>\n",
       "      <td>11.368685</td>\n",
       "      <td>3.743672</td>\n",
       "      <td>9.787336e-05</td>\n",
       "      <td>9.505507</td>\n",
       "      <td>11.384283</td>\n",
       "      <td>13.497134</td>\n",
       "      <td>3.798065e+01</td>\n",
       "    </tr>\n",
       "    <tr>\n",
       "      <th>rougher.input.floatbank11_xanthate</th>\n",
       "      <td>13721.0</td>\n",
       "      <td>5.894176</td>\n",
       "      <td>1.124233</td>\n",
       "      <td>2.904126e-04</td>\n",
       "      <td>5.199168</td>\n",
       "      <td>5.998460</td>\n",
       "      <td>6.699006</td>\n",
       "      <td>9.698407e+00</td>\n",
       "    </tr>\n",
       "    <tr>\n",
       "      <th>rougher.output.concentrate_ag</th>\n",
       "      <td>14149.0</td>\n",
       "      <td>11.775812</td>\n",
       "      <td>2.731747</td>\n",
       "      <td>0.000000e+00</td>\n",
       "      <td>10.486871</td>\n",
       "      <td>11.747362</td>\n",
       "      <td>13.426419</td>\n",
       "      <td>2.448027e+01</td>\n",
       "    </tr>\n",
       "    <tr>\n",
       "      <th>rougher.output.concentrate_pb</th>\n",
       "      <td>14149.0</td>\n",
       "      <td>7.664555</td>\n",
       "      <td>1.856279</td>\n",
       "      <td>0.000000e+00</td>\n",
       "      <td>6.850501</td>\n",
       "      <td>7.760435</td>\n",
       "      <td>8.601927</td>\n",
       "      <td>1.361707e+01</td>\n",
       "    </tr>\n",
       "    <tr>\n",
       "      <th>rougher.output.concentrate_sol</th>\n",
       "      <td>14127.0</td>\n",
       "      <td>28.302715</td>\n",
       "      <td>6.102982</td>\n",
       "      <td>0.000000e+00</td>\n",
       "      <td>26.703554</td>\n",
       "      <td>29.257545</td>\n",
       "      <td>31.743913</td>\n",
       "      <td>3.835119e+01</td>\n",
       "    </tr>\n",
       "    <tr>\n",
       "      <th>rougher.output.concentrate_au</th>\n",
       "      <td>14149.0</td>\n",
       "      <td>19.439958</td>\n",
       "      <td>3.765192</td>\n",
       "      <td>0.000000e+00</td>\n",
       "      <td>18.432161</td>\n",
       "      <td>19.947312</td>\n",
       "      <td>21.392714</td>\n",
       "      <td>2.814684e+01</td>\n",
       "    </tr>\n",
       "    <tr>\n",
       "      <th>rougher.output.recovery</th>\n",
       "      <td>14149.0</td>\n",
       "      <td>82.704502</td>\n",
       "      <td>14.479156</td>\n",
       "      <td>0.000000e+00</td>\n",
       "      <td>79.993067</td>\n",
       "      <td>85.299462</td>\n",
       "      <td>90.165021</td>\n",
       "      <td>1.000000e+02</td>\n",
       "    </tr>\n",
       "    <tr>\n",
       "      <th>rougher.output.tail_ag</th>\n",
       "      <td>14148.0</td>\n",
       "      <td>5.567124</td>\n",
       "      <td>1.039136</td>\n",
       "      <td>5.945623e-01</td>\n",
       "      <td>4.921647</td>\n",
       "      <td>5.722018</td>\n",
       "      <td>6.310633</td>\n",
       "      <td>1.271918e+01</td>\n",
       "    </tr>\n",
       "    <tr>\n",
       "      <th>rougher.output.tail_pb</th>\n",
       "      <td>14149.0</td>\n",
       "      <td>0.653277</td>\n",
       "      <td>0.263766</td>\n",
       "      <td>7.566066e-03</td>\n",
       "      <td>0.474047</td>\n",
       "      <td>0.625805</td>\n",
       "      <td>0.794326</td>\n",
       "      <td>3.778064e+00</td>\n",
       "    </tr>\n",
       "    <tr>\n",
       "      <th>rougher.output.tail_sol</th>\n",
       "      <td>14149.0</td>\n",
       "      <td>17.882853</td>\n",
       "      <td>3.432859</td>\n",
       "      <td>1.001465e+01</td>\n",
       "      <td>15.688727</td>\n",
       "      <td>18.015894</td>\n",
       "      <td>19.938672</td>\n",
       "      <td>6.611719e+01</td>\n",
       "    </tr>\n",
       "    <tr>\n",
       "      <th>rougher.output.tail_au</th>\n",
       "      <td>14149.0</td>\n",
       "      <td>1.757473</td>\n",
       "      <td>0.713187</td>\n",
       "      <td>2.067578e-02</td>\n",
       "      <td>1.310800</td>\n",
       "      <td>1.745513</td>\n",
       "      <td>2.186790</td>\n",
       "      <td>9.688980e+00</td>\n",
       "    </tr>\n",
       "    <tr>\n",
       "      <th>rougher.state.floatbank10_a_air</th>\n",
       "      <td>14148.0</td>\n",
       "      <td>1124.726280</td>\n",
       "      <td>169.310825</td>\n",
       "      <td>-4.107792e-02</td>\n",
       "      <td>999.799166</td>\n",
       "      <td>1001.685708</td>\n",
       "      <td>1299.505513</td>\n",
       "      <td>1.521980e+03</td>\n",
       "    </tr>\n",
       "    <tr>\n",
       "      <th>rougher.state.floatbank10_a_level</th>\n",
       "      <td>14148.0</td>\n",
       "      <td>-369.460950</td>\n",
       "      <td>93.952787</td>\n",
       "      <td>-6.502029e+02</td>\n",
       "      <td>-499.787867</td>\n",
       "      <td>-300.175125</td>\n",
       "      <td>-299.963153</td>\n",
       "      <td>-2.810393e+02</td>\n",
       "    </tr>\n",
       "    <tr>\n",
       "      <th>rougher.state.floatbank10_b_air</th>\n",
       "      <td>14148.0</td>\n",
       "      <td>1320.705069</td>\n",
       "      <td>183.155975</td>\n",
       "      <td>-6.533838e-01</td>\n",
       "      <td>1199.366448</td>\n",
       "      <td>1301.365123</td>\n",
       "      <td>1449.553689</td>\n",
       "      <td>1.809194e+03</td>\n",
       "    </tr>\n",
       "    <tr>\n",
       "      <th>rougher.state.floatbank10_b_level</th>\n",
       "      <td>14148.0</td>\n",
       "      <td>-464.258983</td>\n",
       "      <td>57.401954</td>\n",
       "      <td>-6.502600e+02</td>\n",
       "      <td>-500.183028</td>\n",
       "      <td>-499.764620</td>\n",
       "      <td>-400.425493</td>\n",
       "      <td>-2.963831e+02</td>\n",
       "    </tr>\n",
       "    <tr>\n",
       "      <th>rougher.state.floatbank10_c_air</th>\n",
       "      <td>14148.0</td>\n",
       "      <td>1299.360578</td>\n",
       "      <td>213.404094</td>\n",
       "      <td>-3.511233e-02</td>\n",
       "      <td>1103.095071</td>\n",
       "      <td>1300.213385</td>\n",
       "      <td>1450.350668</td>\n",
       "      <td>2.499129e+03</td>\n",
       "    </tr>\n",
       "    <tr>\n",
       "      <th>rougher.state.floatbank10_c_level</th>\n",
       "      <td>14148.0</td>\n",
       "      <td>-465.054849</td>\n",
       "      <td>55.904716</td>\n",
       "      <td>-6.409956e+02</td>\n",
       "      <td>-500.211863</td>\n",
       "      <td>-499.682528</td>\n",
       "      <td>-400.664736</td>\n",
       "      <td>-2.921555e+02</td>\n",
       "    </tr>\n",
       "    <tr>\n",
       "      <th>rougher.state.floatbank10_d_air</th>\n",
       "      <td>14149.0</td>\n",
       "      <td>1210.335236</td>\n",
       "      <td>210.431555</td>\n",
       "      <td>-5.542987e-01</td>\n",
       "      <td>1059.708509</td>\n",
       "      <td>1200.744308</td>\n",
       "      <td>1344.378462</td>\n",
       "      <td>1.817199e+03</td>\n",
       "    </tr>\n",
       "    <tr>\n",
       "      <th>rougher.state.floatbank10_d_level</th>\n",
       "      <td>14149.0</td>\n",
       "      <td>-465.457377</td>\n",
       "      <td>55.771393</td>\n",
       "      <td>-6.405190e+02</td>\n",
       "      <td>-500.359197</td>\n",
       "      <td>-499.465285</td>\n",
       "      <td>-401.052891</td>\n",
       "      <td>-2.083307e+02</td>\n",
       "    </tr>\n",
       "    <tr>\n",
       "      <th>rougher.state.floatbank10_e_air</th>\n",
       "      <td>13713.0</td>\n",
       "      <td>1090.213187</td>\n",
       "      <td>184.610118</td>\n",
       "      <td>-1.970275e+00</td>\n",
       "      <td>997.183864</td>\n",
       "      <td>1050.496363</td>\n",
       "      <td>1200.047746</td>\n",
       "      <td>1.922637e+03</td>\n",
       "    </tr>\n",
       "    <tr>\n",
       "      <th>rougher.state.floatbank10_e_level</th>\n",
       "      <td>14149.0</td>\n",
       "      <td>-464.919119</td>\n",
       "      <td>56.602962</td>\n",
       "      <td>-6.494439e+02</td>\n",
       "      <td>-500.250033</td>\n",
       "      <td>-499.611447</td>\n",
       "      <td>-400.596104</td>\n",
       "      <td>-2.721996e+02</td>\n",
       "    </tr>\n",
       "    <tr>\n",
       "      <th>rougher.state.floatbank10_f_air</th>\n",
       "      <td>14149.0</td>\n",
       "      <td>1035.490299</td>\n",
       "      <td>175.052279</td>\n",
       "      <td>-2.430587e+00</td>\n",
       "      <td>900.966986</td>\n",
       "      <td>1000.053757</td>\n",
       "      <td>1100.165435</td>\n",
       "      <td>1.706308e+03</td>\n",
       "    </tr>\n",
       "    <tr>\n",
       "      <th>rougher.state.floatbank10_f_level</th>\n",
       "      <td>14149.0</td>\n",
       "      <td>-464.688631</td>\n",
       "      <td>56.645965</td>\n",
       "      <td>-6.498810e+02</td>\n",
       "      <td>-500.476526</td>\n",
       "      <td>-499.364335</td>\n",
       "      <td>-401.014951</td>\n",
       "      <td>-1.917185e+02</td>\n",
       "    </tr>\n",
       "    <tr>\n",
       "      <th>secondary_cleaner.output.tail_ag</th>\n",
       "      <td>14147.0</td>\n",
       "      <td>14.281629</td>\n",
       "      <td>4.477126</td>\n",
       "      <td>0.000000e+00</td>\n",
       "      <td>12.177364</td>\n",
       "      <td>15.357951</td>\n",
       "      <td>17.230151</td>\n",
       "      <td>2.326474e+01</td>\n",
       "    </tr>\n",
       "    <tr>\n",
       "      <th>secondary_cleaner.output.tail_pb</th>\n",
       "      <td>14139.0</td>\n",
       "      <td>5.848863</td>\n",
       "      <td>2.861799</td>\n",
       "      <td>0.000000e+00</td>\n",
       "      <td>3.982298</td>\n",
       "      <td>5.442310</td>\n",
       "      <td>7.797948</td>\n",
       "      <td>1.704250e+01</td>\n",
       "    </tr>\n",
       "    <tr>\n",
       "      <th>secondary_cleaner.output.tail_sol</th>\n",
       "      <td>12544.0</td>\n",
       "      <td>6.938693</td>\n",
       "      <td>4.155487</td>\n",
       "      <td>0.000000e+00</td>\n",
       "      <td>3.225486</td>\n",
       "      <td>7.302639</td>\n",
       "      <td>10.547068</td>\n",
       "      <td>1.797617e+01</td>\n",
       "    </tr>\n",
       "    <tr>\n",
       "      <th>secondary_cleaner.output.tail_au</th>\n",
       "      <td>14149.0</td>\n",
       "      <td>4.246961</td>\n",
       "      <td>2.389060</td>\n",
       "      <td>0.000000e+00</td>\n",
       "      <td>3.153122</td>\n",
       "      <td>3.980210</td>\n",
       "      <td>4.883943</td>\n",
       "      <td>2.681164e+01</td>\n",
       "    </tr>\n",
       "    <tr>\n",
       "      <th>secondary_cleaner.state.floatbank2_a_air</th>\n",
       "      <td>13932.0</td>\n",
       "      <td>29.613649</td>\n",
       "      <td>5.800494</td>\n",
       "      <td>7.750256e-02</td>\n",
       "      <td>25.099584</td>\n",
       "      <td>30.027721</td>\n",
       "      <td>34.893057</td>\n",
       "      <td>5.265140e+01</td>\n",
       "    </tr>\n",
       "    <tr>\n",
       "      <th>secondary_cleaner.state.floatbank2_a_level</th>\n",
       "      <td>14148.0</td>\n",
       "      <td>-502.223914</td>\n",
       "      <td>60.281705</td>\n",
       "      <td>-7.996064e+02</td>\n",
       "      <td>-500.248814</td>\n",
       "      <td>-499.959206</td>\n",
       "      <td>-499.593198</td>\n",
       "      <td>-1.278756e+02</td>\n",
       "    </tr>\n",
       "    <tr>\n",
       "      <th>secondary_cleaner.state.floatbank2_b_air</th>\n",
       "      <td>14128.0</td>\n",
       "      <td>24.914403</td>\n",
       "      <td>5.994959</td>\n",
       "      <td>0.000000e+00</td>\n",
       "      <td>22.048294</td>\n",
       "      <td>27.022783</td>\n",
       "      <td>28.939454</td>\n",
       "      <td>3.515212e+01</td>\n",
       "    </tr>\n",
       "    <tr>\n",
       "      <th>secondary_cleaner.state.floatbank2_b_level</th>\n",
       "      <td>14148.0</td>\n",
       "      <td>-503.695706</td>\n",
       "      <td>62.837357</td>\n",
       "      <td>-7.998739e+02</td>\n",
       "      <td>-500.270997</td>\n",
       "      <td>-500.014092</td>\n",
       "      <td>-499.764112</td>\n",
       "      <td>-2.120647e+02</td>\n",
       "    </tr>\n",
       "    <tr>\n",
       "      <th>secondary_cleaner.state.floatbank3_a_air</th>\n",
       "      <td>14145.0</td>\n",
       "      <td>29.243372</td>\n",
       "      <td>5.637309</td>\n",
       "      <td>0.000000e+00</td>\n",
       "      <td>24.991662</td>\n",
       "      <td>28.016530</td>\n",
       "      <td>34.990095</td>\n",
       "      <td>4.426046e+01</td>\n",
       "    </tr>\n",
       "    <tr>\n",
       "      <th>secondary_cleaner.state.floatbank3_a_level</th>\n",
       "      <td>14148.0</td>\n",
       "      <td>-478.244059</td>\n",
       "      <td>54.655143</td>\n",
       "      <td>-7.996130e+02</td>\n",
       "      <td>-500.175065</td>\n",
       "      <td>-499.877837</td>\n",
       "      <td>-436.923166</td>\n",
       "      <td>-1.916788e+02</td>\n",
       "    </tr>\n",
       "    <tr>\n",
       "      <th>secondary_cleaner.state.floatbank3_b_air</th>\n",
       "      <td>14148.0</td>\n",
       "      <td>22.656261</td>\n",
       "      <td>4.996017</td>\n",
       "      <td>0.000000e+00</td>\n",
       "      <td>19.948436</td>\n",
       "      <td>22.037270</td>\n",
       "      <td>25.970365</td>\n",
       "      <td>3.507284e+01</td>\n",
       "    </tr>\n",
       "    <tr>\n",
       "      <th>secondary_cleaner.state.floatbank3_b_level</th>\n",
       "      <td>14148.0</td>\n",
       "      <td>-488.924046</td>\n",
       "      <td>41.928112</td>\n",
       "      <td>-7.591774e+02</td>\n",
       "      <td>-500.110581</td>\n",
       "      <td>-499.966809</td>\n",
       "      <td>-499.757501</td>\n",
       "      <td>-1.597423e+02</td>\n",
       "    </tr>\n",
       "    <tr>\n",
       "      <th>secondary_cleaner.state.floatbank4_a_air</th>\n",
       "      <td>14143.0</td>\n",
       "      <td>19.985454</td>\n",
       "      <td>5.657723</td>\n",
       "      <td>0.000000e+00</td>\n",
       "      <td>14.990775</td>\n",
       "      <td>20.001789</td>\n",
       "      <td>24.990826</td>\n",
       "      <td>3.011574e+01</td>\n",
       "    </tr>\n",
       "    <tr>\n",
       "      <th>secondary_cleaner.state.floatbank4_a_level</th>\n",
       "      <td>14148.0</td>\n",
       "      <td>-478.696836</td>\n",
       "      <td>50.736021</td>\n",
       "      <td>-7.997091e+02</td>\n",
       "      <td>-500.628656</td>\n",
       "      <td>-499.681450</td>\n",
       "      <td>-477.472413</td>\n",
       "      <td>-2.452392e+02</td>\n",
       "    </tr>\n",
       "    <tr>\n",
       "      <th>secondary_cleaner.state.floatbank4_b_air</th>\n",
       "      <td>14148.0</td>\n",
       "      <td>15.487065</td>\n",
       "      <td>5.255655</td>\n",
       "      <td>0.000000e+00</td>\n",
       "      <td>11.894558</td>\n",
       "      <td>14.975536</td>\n",
       "      <td>20.059375</td>\n",
       "      <td>2.400791e+01</td>\n",
       "    </tr>\n",
       "    <tr>\n",
       "      <th>secondary_cleaner.state.floatbank4_b_level</th>\n",
       "      <td>14148.0</td>\n",
       "      <td>-460.229416</td>\n",
       "      <td>58.843586</td>\n",
       "      <td>-7.998891e+02</td>\n",
       "      <td>-500.149000</td>\n",
       "      <td>-499.388738</td>\n",
       "      <td>-400.039008</td>\n",
       "      <td>-1.450711e+02</td>\n",
       "    </tr>\n",
       "    <tr>\n",
       "      <th>secondary_cleaner.state.floatbank5_a_air</th>\n",
       "      <td>14148.0</td>\n",
       "      <td>16.775136</td>\n",
       "      <td>5.831906</td>\n",
       "      <td>-3.720540e-01</td>\n",
       "      <td>11.083980</td>\n",
       "      <td>17.932223</td>\n",
       "      <td>21.346550</td>\n",
       "      <td>4.370993e+01</td>\n",
       "    </tr>\n",
       "    <tr>\n",
       "      <th>secondary_cleaner.state.floatbank5_a_level</th>\n",
       "      <td>14148.0</td>\n",
       "      <td>-483.956022</td>\n",
       "      <td>37.892788</td>\n",
       "      <td>-7.971425e+02</td>\n",
       "      <td>-500.363177</td>\n",
       "      <td>-499.702452</td>\n",
       "      <td>-487.712108</td>\n",
       "      <td>-2.750731e+02</td>\n",
       "    </tr>\n",
       "    <tr>\n",
       "      <th>secondary_cleaner.state.floatbank5_b_air</th>\n",
       "      <td>14148.0</td>\n",
       "      <td>13.064590</td>\n",
       "      <td>5.765617</td>\n",
       "      <td>6.462077e-01</td>\n",
       "      <td>8.994405</td>\n",
       "      <td>11.997547</td>\n",
       "      <td>17.982903</td>\n",
       "      <td>2.792600e+01</td>\n",
       "    </tr>\n",
       "    <tr>\n",
       "      <th>secondary_cleaner.state.floatbank5_b_level</th>\n",
       "      <td>14148.0</td>\n",
       "      <td>-483.966564</td>\n",
       "      <td>39.207913</td>\n",
       "      <td>-8.000062e+02</td>\n",
       "      <td>-500.105994</td>\n",
       "      <td>-499.914556</td>\n",
       "      <td>-453.186936</td>\n",
       "      <td>-1.573961e+02</td>\n",
       "    </tr>\n",
       "    <tr>\n",
       "      <th>secondary_cleaner.state.floatbank6_a_air</th>\n",
       "      <td>14147.0</td>\n",
       "      <td>19.577539</td>\n",
       "      <td>5.764417</td>\n",
       "      <td>1.953243e-01</td>\n",
       "      <td>14.989304</td>\n",
       "      <td>19.984175</td>\n",
       "      <td>24.991623</td>\n",
       "      <td>3.218891e+01</td>\n",
       "    </tr>\n",
       "    <tr>\n",
       "      <th>secondary_cleaner.state.floatbank6_a_level</th>\n",
       "      <td>14148.0</td>\n",
       "      <td>-506.798480</td>\n",
       "      <td>37.079249</td>\n",
       "      <td>-8.093987e+02</td>\n",
       "      <td>-500.745104</td>\n",
       "      <td>-500.061431</td>\n",
       "      <td>-499.536466</td>\n",
       "      <td>-1.044275e+02</td>\n",
       "    </tr>\n",
       "  </tbody>\n",
       "</table>\n",
       "</div>"
      ],
      "text/plain": [
       "                                                      count          mean  \\\n",
       "final.output.concentrate_ag                         14148.0      5.142034   \n",
       "final.output.concentrate_pb                         14148.0     10.132960   \n",
       "final.output.concentrate_sol                        13938.0      9.202849   \n",
       "final.output.concentrate_au                         14149.0     44.003792   \n",
       "final.output.recovery                               14149.0     66.518832   \n",
       "final.output.tail_ag                                14149.0      9.607035   \n",
       "final.output.tail_pb                                14049.0      2.597298   \n",
       "final.output.tail_sol                               14144.0     10.512122   \n",
       "final.output.tail_au                                14149.0      2.918421   \n",
       "primary_cleaner.input.sulfate                       14129.0    133.320659   \n",
       "primary_cleaner.input.depressant                    14117.0      8.866996   \n",
       "primary_cleaner.input.feed_size                     14149.0      7.322310   \n",
       "primary_cleaner.input.xanthate                      14049.0      0.885588   \n",
       "primary_cleaner.output.concentrate_ag               14149.0      8.200916   \n",
       "primary_cleaner.output.concentrate_pb               14063.0      9.588862   \n",
       "primary_cleaner.output.concentrate_sol              13863.0     10.114745   \n",
       "primary_cleaner.output.concentrate_au               14149.0     32.386836   \n",
       "primary_cleaner.output.tail_ag                      14148.0     16.303929   \n",
       "primary_cleaner.output.tail_pb                      14134.0      3.443398   \n",
       "primary_cleaner.output.tail_sol                     14103.0      7.533566   \n",
       "primary_cleaner.output.tail_au                      14149.0      3.839637   \n",
       "primary_cleaner.state.floatbank8_a_air              14145.0   1608.000064   \n",
       "primary_cleaner.state.floatbank8_a_level            14148.0   -488.775525   \n",
       "primary_cleaner.state.floatbank8_b_air              14145.0   1608.610983   \n",
       "primary_cleaner.state.floatbank8_b_level            14148.0   -489.171786   \n",
       "primary_cleaner.state.floatbank8_c_air              14147.0   1608.879407   \n",
       "primary_cleaner.state.floatbank8_c_level            14148.0   -489.605549   \n",
       "primary_cleaner.state.floatbank8_d_air              14146.0   1542.189963   \n",
       "primary_cleaner.state.floatbank8_d_level            14148.0   -483.462423   \n",
       "rougher.calculation.sulfate_to_au_concentrate       14148.0  40382.648631   \n",
       "rougher.calculation.floatbank10_sulfate_to_au_feed  14148.0   3456.608298   \n",
       "rougher.calculation.floatbank11_sulfate_to_au_feed  14148.0   3253.356387   \n",
       "rougher.calculation.au_pb_ratio                     14149.0      2.367314   \n",
       "rougher.input.feed_ag                               14149.0      8.579195   \n",
       "rougher.input.feed_pb                               14049.0      3.522778   \n",
       "rougher.input.feed_rate                             14141.0    474.027714   \n",
       "rougher.input.feed_size                             14005.0     60.110518   \n",
       "rougher.input.feed_sol                              14071.0     36.312593   \n",
       "rougher.input.feed_au                               14149.0      7.866577   \n",
       "rougher.input.floatbank10_sulfate                   14120.0     11.764931   \n",
       "rougher.input.floatbank10_xanthate                  14141.0      5.854529   \n",
       "rougher.input.floatbank11_sulfate                   14113.0     11.368685   \n",
       "rougher.input.floatbank11_xanthate                  13721.0      5.894176   \n",
       "rougher.output.concentrate_ag                       14149.0     11.775812   \n",
       "rougher.output.concentrate_pb                       14149.0      7.664555   \n",
       "rougher.output.concentrate_sol                      14127.0     28.302715   \n",
       "rougher.output.concentrate_au                       14149.0     19.439958   \n",
       "rougher.output.recovery                             14149.0     82.704502   \n",
       "rougher.output.tail_ag                              14148.0      5.567124   \n",
       "rougher.output.tail_pb                              14149.0      0.653277   \n",
       "rougher.output.tail_sol                             14149.0     17.882853   \n",
       "rougher.output.tail_au                              14149.0      1.757473   \n",
       "rougher.state.floatbank10_a_air                     14148.0   1124.726280   \n",
       "rougher.state.floatbank10_a_level                   14148.0   -369.460950   \n",
       "rougher.state.floatbank10_b_air                     14148.0   1320.705069   \n",
       "rougher.state.floatbank10_b_level                   14148.0   -464.258983   \n",
       "rougher.state.floatbank10_c_air                     14148.0   1299.360578   \n",
       "rougher.state.floatbank10_c_level                   14148.0   -465.054849   \n",
       "rougher.state.floatbank10_d_air                     14149.0   1210.335236   \n",
       "rougher.state.floatbank10_d_level                   14149.0   -465.457377   \n",
       "rougher.state.floatbank10_e_air                     13713.0   1090.213187   \n",
       "rougher.state.floatbank10_e_level                   14149.0   -464.919119   \n",
       "rougher.state.floatbank10_f_air                     14149.0   1035.490299   \n",
       "rougher.state.floatbank10_f_level                   14149.0   -464.688631   \n",
       "secondary_cleaner.output.tail_ag                    14147.0     14.281629   \n",
       "secondary_cleaner.output.tail_pb                    14139.0      5.848863   \n",
       "secondary_cleaner.output.tail_sol                   12544.0      6.938693   \n",
       "secondary_cleaner.output.tail_au                    14149.0      4.246961   \n",
       "secondary_cleaner.state.floatbank2_a_air            13932.0     29.613649   \n",
       "secondary_cleaner.state.floatbank2_a_level          14148.0   -502.223914   \n",
       "secondary_cleaner.state.floatbank2_b_air            14128.0     24.914403   \n",
       "secondary_cleaner.state.floatbank2_b_level          14148.0   -503.695706   \n",
       "secondary_cleaner.state.floatbank3_a_air            14145.0     29.243372   \n",
       "secondary_cleaner.state.floatbank3_a_level          14148.0   -478.244059   \n",
       "secondary_cleaner.state.floatbank3_b_air            14148.0     22.656261   \n",
       "secondary_cleaner.state.floatbank3_b_level          14148.0   -488.924046   \n",
       "secondary_cleaner.state.floatbank4_a_air            14143.0     19.985454   \n",
       "secondary_cleaner.state.floatbank4_a_level          14148.0   -478.696836   \n",
       "secondary_cleaner.state.floatbank4_b_air            14148.0     15.487065   \n",
       "secondary_cleaner.state.floatbank4_b_level          14148.0   -460.229416   \n",
       "secondary_cleaner.state.floatbank5_a_air            14148.0     16.775136   \n",
       "secondary_cleaner.state.floatbank5_a_level          14148.0   -483.956022   \n",
       "secondary_cleaner.state.floatbank5_b_air            14148.0     13.064590   \n",
       "secondary_cleaner.state.floatbank5_b_level          14148.0   -483.966564   \n",
       "secondary_cleaner.state.floatbank6_a_air            14147.0     19.577539   \n",
       "secondary_cleaner.state.floatbank6_a_level          14148.0   -506.798480   \n",
       "\n",
       "                                                              std  \\\n",
       "final.output.concentrate_ag                              1.369586   \n",
       "final.output.concentrate_pb                              1.654930   \n",
       "final.output.concentrate_sol                             2.790516   \n",
       "final.output.concentrate_au                              4.905261   \n",
       "final.output.recovery                                   10.295402   \n",
       "final.output.tail_ag                                     2.319069   \n",
       "final.output.tail_pb                                     0.971843   \n",
       "final.output.tail_sol                                    3.003617   \n",
       "final.output.tail_au                                     0.903712   \n",
       "primary_cleaner.input.sulfate                           39.431659   \n",
       "primary_cleaner.input.depressant                         3.361589   \n",
       "primary_cleaner.input.feed_size                          0.614062   \n",
       "primary_cleaner.input.xanthate                           0.372714   \n",
       "primary_cleaner.output.concentrate_ag                    2.005185   \n",
       "primary_cleaner.output.concentrate_pb                    2.694296   \n",
       "primary_cleaner.output.concentrate_sol                   4.064076   \n",
       "primary_cleaner.output.concentrate_au                    5.798843   \n",
       "primary_cleaner.output.tail_ag                           3.739843   \n",
       "primary_cleaner.output.tail_pb                           1.490106   \n",
       "primary_cleaner.output.tail_sol                          2.133220   \n",
       "primary_cleaner.output.tail_au                           1.603544   \n",
       "primary_cleaner.state.floatbank8_a_air                 128.394355   \n",
       "primary_cleaner.state.floatbank8_a_level                35.704184   \n",
       "primary_cleaner.state.floatbank8_b_air                 131.112729   \n",
       "primary_cleaner.state.floatbank8_b_level                33.604449   \n",
       "primary_cleaner.state.floatbank8_c_air                 134.266898   \n",
       "primary_cleaner.state.floatbank8_c_level                35.624002   \n",
       "primary_cleaner.state.floatbank8_d_air                 278.316132   \n",
       "primary_cleaner.state.floatbank8_d_level                47.100934   \n",
       "rougher.calculation.sulfate_to_au_concentrate       380143.622167   \n",
       "rougher.calculation.floatbank10_sulfate_to_au_feed    5772.510248   \n",
       "rougher.calculation.floatbank11_sulfate_to_au_feed    6753.290662   \n",
       "rougher.calculation.au_pb_ratio                          0.873551   \n",
       "rougher.input.feed_ag                                    1.896284   \n",
       "rougher.input.feed_pb                                    1.073394   \n",
       "rougher.input.feed_rate                                104.039838   \n",
       "rougher.input.feed_size                                 22.418485   \n",
       "rougher.input.feed_sol                                   4.956057   \n",
       "rougher.input.feed_au                                    1.919506   \n",
       "rougher.input.floatbank10_sulfate                        3.278813   \n",
       "rougher.input.floatbank10_xanthate                       1.104263   \n",
       "rougher.input.floatbank11_sulfate                        3.743672   \n",
       "rougher.input.floatbank11_xanthate                       1.124233   \n",
       "rougher.output.concentrate_ag                            2.731747   \n",
       "rougher.output.concentrate_pb                            1.856279   \n",
       "rougher.output.concentrate_sol                           6.102982   \n",
       "rougher.output.concentrate_au                            3.765192   \n",
       "rougher.output.recovery                                 14.479156   \n",
       "rougher.output.tail_ag                                   1.039136   \n",
       "rougher.output.tail_pb                                   0.263766   \n",
       "rougher.output.tail_sol                                  3.432859   \n",
       "rougher.output.tail_au                                   0.713187   \n",
       "rougher.state.floatbank10_a_air                        169.310825   \n",
       "rougher.state.floatbank10_a_level                       93.952787   \n",
       "rougher.state.floatbank10_b_air                        183.155975   \n",
       "rougher.state.floatbank10_b_level                       57.401954   \n",
       "rougher.state.floatbank10_c_air                        213.404094   \n",
       "rougher.state.floatbank10_c_level                       55.904716   \n",
       "rougher.state.floatbank10_d_air                        210.431555   \n",
       "rougher.state.floatbank10_d_level                       55.771393   \n",
       "rougher.state.floatbank10_e_air                        184.610118   \n",
       "rougher.state.floatbank10_e_level                       56.602962   \n",
       "rougher.state.floatbank10_f_air                        175.052279   \n",
       "rougher.state.floatbank10_f_level                       56.645965   \n",
       "secondary_cleaner.output.tail_ag                         4.477126   \n",
       "secondary_cleaner.output.tail_pb                         2.861799   \n",
       "secondary_cleaner.output.tail_sol                        4.155487   \n",
       "secondary_cleaner.output.tail_au                         2.389060   \n",
       "secondary_cleaner.state.floatbank2_a_air                 5.800494   \n",
       "secondary_cleaner.state.floatbank2_a_level              60.281705   \n",
       "secondary_cleaner.state.floatbank2_b_air                 5.994959   \n",
       "secondary_cleaner.state.floatbank2_b_level              62.837357   \n",
       "secondary_cleaner.state.floatbank3_a_air                 5.637309   \n",
       "secondary_cleaner.state.floatbank3_a_level              54.655143   \n",
       "secondary_cleaner.state.floatbank3_b_air                 4.996017   \n",
       "secondary_cleaner.state.floatbank3_b_level              41.928112   \n",
       "secondary_cleaner.state.floatbank4_a_air                 5.657723   \n",
       "secondary_cleaner.state.floatbank4_a_level              50.736021   \n",
       "secondary_cleaner.state.floatbank4_b_air                 5.255655   \n",
       "secondary_cleaner.state.floatbank4_b_level              58.843586   \n",
       "secondary_cleaner.state.floatbank5_a_air                 5.831906   \n",
       "secondary_cleaner.state.floatbank5_a_level              37.892788   \n",
       "secondary_cleaner.state.floatbank5_b_air                 5.765617   \n",
       "secondary_cleaner.state.floatbank5_b_level              39.207913   \n",
       "secondary_cleaner.state.floatbank6_a_air                 5.764417   \n",
       "secondary_cleaner.state.floatbank6_a_level              37.079249   \n",
       "\n",
       "                                                             min  \\\n",
       "final.output.concentrate_ag                         0.000000e+00   \n",
       "final.output.concentrate_pb                         0.000000e+00   \n",
       "final.output.concentrate_sol                        0.000000e+00   \n",
       "final.output.concentrate_au                         0.000000e+00   \n",
       "final.output.recovery                               0.000000e+00   \n",
       "final.output.tail_ag                                0.000000e+00   \n",
       "final.output.tail_pb                                0.000000e+00   \n",
       "final.output.tail_sol                               0.000000e+00   \n",
       "final.output.tail_au                                0.000000e+00   \n",
       "primary_cleaner.input.sulfate                       3.111820e-03   \n",
       "primary_cleaner.input.depressant                    0.000000e+00   \n",
       "primary_cleaner.input.feed_size                     1.080000e+00   \n",
       "primary_cleaner.input.xanthate                      4.632753e-06   \n",
       "primary_cleaner.output.concentrate_ag               0.000000e+00   \n",
       "primary_cleaner.output.concentrate_pb               0.000000e+00   \n",
       "primary_cleaner.output.concentrate_sol              0.000000e+00   \n",
       "primary_cleaner.output.concentrate_au               0.000000e+00   \n",
       "primary_cleaner.output.tail_ag                      0.000000e+00   \n",
       "primary_cleaner.output.tail_pb                      0.000000e+00   \n",
       "primary_cleaner.output.tail_sol                     0.000000e+00   \n",
       "primary_cleaner.output.tail_au                      0.000000e+00   \n",
       "primary_cleaner.state.floatbank8_a_air              6.352155e-03   \n",
       "primary_cleaner.state.floatbank8_a_level           -7.986417e+02   \n",
       "primary_cleaner.state.floatbank8_b_air              8.700416e-03   \n",
       "primary_cleaner.state.floatbank8_b_level           -7.401221e+02   \n",
       "primary_cleaner.state.floatbank8_c_air              1.515882e-02   \n",
       "primary_cleaner.state.floatbank8_c_level           -7.998031e+02   \n",
       "primary_cleaner.state.floatbank8_d_air              8.654609e-03   \n",
       "primary_cleaner.state.floatbank8_d_level           -7.997886e+02   \n",
       "rougher.calculation.sulfate_to_au_concentrate      -4.223520e+07   \n",
       "rougher.calculation.floatbank10_sulfate_to_au_feed -4.865987e+02   \n",
       "rougher.calculation.floatbank11_sulfate_to_au_feed -2.649828e+02   \n",
       "rougher.calculation.au_pb_ratio                    -1.054761e-02   \n",
       "rougher.input.feed_ag                               1.000000e-02   \n",
       "rougher.input.feed_pb                               1.000000e-02   \n",
       "rougher.input.feed_rate                             1.278570e-02   \n",
       "rougher.input.feed_size                             9.659576e+00   \n",
       "rougher.input.feed_sol                              1.000000e-02   \n",
       "rougher.input.feed_au                               1.000000e-02   \n",
       "rougher.input.floatbank10_sulfate                   1.083112e-03   \n",
       "rougher.input.floatbank10_xanthate                  1.427685e-03   \n",
       "rougher.input.floatbank11_sulfate                   9.787336e-05   \n",
       "rougher.input.floatbank11_xanthate                  2.904126e-04   \n",
       "rougher.output.concentrate_ag                       0.000000e+00   \n",
       "rougher.output.concentrate_pb                       0.000000e+00   \n",
       "rougher.output.concentrate_sol                      0.000000e+00   \n",
       "rougher.output.concentrate_au                       0.000000e+00   \n",
       "rougher.output.recovery                             0.000000e+00   \n",
       "rougher.output.tail_ag                              5.945623e-01   \n",
       "rougher.output.tail_pb                              7.566066e-03   \n",
       "rougher.output.tail_sol                             1.001465e+01   \n",
       "rougher.output.tail_au                              2.067578e-02   \n",
       "rougher.state.floatbank10_a_air                    -4.107792e-02   \n",
       "rougher.state.floatbank10_a_level                  -6.502029e+02   \n",
       "rougher.state.floatbank10_b_air                    -6.533838e-01   \n",
       "rougher.state.floatbank10_b_level                  -6.502600e+02   \n",
       "rougher.state.floatbank10_c_air                    -3.511233e-02   \n",
       "rougher.state.floatbank10_c_level                  -6.409956e+02   \n",
       "rougher.state.floatbank10_d_air                    -5.542987e-01   \n",
       "rougher.state.floatbank10_d_level                  -6.405190e+02   \n",
       "rougher.state.floatbank10_e_air                    -1.970275e+00   \n",
       "rougher.state.floatbank10_e_level                  -6.494439e+02   \n",
       "rougher.state.floatbank10_f_air                    -2.430587e+00   \n",
       "rougher.state.floatbank10_f_level                  -6.498810e+02   \n",
       "secondary_cleaner.output.tail_ag                    0.000000e+00   \n",
       "secondary_cleaner.output.tail_pb                    0.000000e+00   \n",
       "secondary_cleaner.output.tail_sol                   0.000000e+00   \n",
       "secondary_cleaner.output.tail_au                    0.000000e+00   \n",
       "secondary_cleaner.state.floatbank2_a_air            7.750256e-02   \n",
       "secondary_cleaner.state.floatbank2_a_level         -7.996064e+02   \n",
       "secondary_cleaner.state.floatbank2_b_air            0.000000e+00   \n",
       "secondary_cleaner.state.floatbank2_b_level         -7.998739e+02   \n",
       "secondary_cleaner.state.floatbank3_a_air            0.000000e+00   \n",
       "secondary_cleaner.state.floatbank3_a_level         -7.996130e+02   \n",
       "secondary_cleaner.state.floatbank3_b_air            0.000000e+00   \n",
       "secondary_cleaner.state.floatbank3_b_level         -7.591774e+02   \n",
       "secondary_cleaner.state.floatbank4_a_air            0.000000e+00   \n",
       "secondary_cleaner.state.floatbank4_a_level         -7.997091e+02   \n",
       "secondary_cleaner.state.floatbank4_b_air            0.000000e+00   \n",
       "secondary_cleaner.state.floatbank4_b_level         -7.998891e+02   \n",
       "secondary_cleaner.state.floatbank5_a_air           -3.720540e-01   \n",
       "secondary_cleaner.state.floatbank5_a_level         -7.971425e+02   \n",
       "secondary_cleaner.state.floatbank5_b_air            6.462077e-01   \n",
       "secondary_cleaner.state.floatbank5_b_level         -8.000062e+02   \n",
       "secondary_cleaner.state.floatbank6_a_air            1.953243e-01   \n",
       "secondary_cleaner.state.floatbank6_a_level         -8.093987e+02   \n",
       "\n",
       "                                                             25%  \\\n",
       "final.output.concentrate_ag                             4.211620   \n",
       "final.output.concentrate_pb                             9.297355   \n",
       "final.output.concentrate_sol                            7.484645   \n",
       "final.output.concentrate_au                            43.276111   \n",
       "final.output.recovery                                  62.545817   \n",
       "final.output.tail_ag                                    7.997429   \n",
       "final.output.tail_pb                                    1.905973   \n",
       "final.output.tail_sol                                   8.811324   \n",
       "final.output.tail_au                                    2.368607   \n",
       "primary_cleaner.input.sulfate                         107.006651   \n",
       "primary_cleaner.input.depressant                        6.040604   \n",
       "primary_cleaner.input.feed_size                         6.960000   \n",
       "primary_cleaner.input.xanthate                          0.607021   \n",
       "primary_cleaner.output.concentrate_ag                   7.107126   \n",
       "primary_cleaner.output.concentrate_pb                   8.333489   \n",
       "primary_cleaner.output.concentrate_sol                  7.488139   \n",
       "primary_cleaner.output.concentrate_au                  30.857764   \n",
       "primary_cleaner.output.tail_ag                         13.873147   \n",
       "primary_cleaner.output.tail_pb                          2.420259   \n",
       "primary_cleaner.output.tail_sol                         6.332548   \n",
       "primary_cleaner.output.tail_au                          2.867957   \n",
       "primary_cleaner.state.floatbank8_a_air               1595.695815   \n",
       "primary_cleaner.state.floatbank8_a_level             -500.287952   \n",
       "primary_cleaner.state.floatbank8_b_air               1558.959943   \n",
       "primary_cleaner.state.floatbank8_b_level             -500.375645   \n",
       "primary_cleaner.state.floatbank8_c_air               1549.871886   \n",
       "primary_cleaner.state.floatbank8_c_level             -500.601718   \n",
       "primary_cleaner.state.floatbank8_d_air               1452.678767   \n",
       "primary_cleaner.state.floatbank8_d_level             -500.459917   \n",
       "rougher.calculation.sulfate_to_au_concentrate       39994.296160   \n",
       "rougher.calculation.floatbank10_sulfate_to_au_feed   2527.093354   \n",
       "rougher.calculation.floatbank11_sulfate_to_au_feed   2512.200873   \n",
       "rougher.calculation.au_pb_ratio                         1.999588   \n",
       "rougher.input.feed_ag                                   7.132802   \n",
       "rougher.input.feed_pb                                   2.780010   \n",
       "rougher.input.feed_rate                               420.781913   \n",
       "rougher.input.feed_size                                48.973027   \n",
       "rougher.input.feed_sol                                 34.117635   \n",
       "rougher.input.feed_au                                   6.596217   \n",
       "rougher.input.floatbank10_sulfate                       9.861100   \n",
       "rougher.input.floatbank10_xanthate                      5.117359   \n",
       "rougher.input.floatbank11_sulfate                       9.505507   \n",
       "rougher.input.floatbank11_xanthate                      5.199168   \n",
       "rougher.output.concentrate_ag                          10.486871   \n",
       "rougher.output.concentrate_pb                           6.850501   \n",
       "rougher.output.concentrate_sol                         26.703554   \n",
       "rougher.output.concentrate_au                          18.432161   \n",
       "rougher.output.recovery                                79.993067   \n",
       "rougher.output.tail_ag                                  4.921647   \n",
       "rougher.output.tail_pb                                  0.474047   \n",
       "rougher.output.tail_sol                                15.688727   \n",
       "rougher.output.tail_au                                  1.310800   \n",
       "rougher.state.floatbank10_a_air                       999.799166   \n",
       "rougher.state.floatbank10_a_level                    -499.787867   \n",
       "rougher.state.floatbank10_b_air                      1199.366448   \n",
       "rougher.state.floatbank10_b_level                    -500.183028   \n",
       "rougher.state.floatbank10_c_air                      1103.095071   \n",
       "rougher.state.floatbank10_c_level                    -500.211863   \n",
       "rougher.state.floatbank10_d_air                      1059.708509   \n",
       "rougher.state.floatbank10_d_level                    -500.359197   \n",
       "rougher.state.floatbank10_e_air                       997.183864   \n",
       "rougher.state.floatbank10_e_level                    -500.250033   \n",
       "rougher.state.floatbank10_f_air                       900.966986   \n",
       "rougher.state.floatbank10_f_level                    -500.476526   \n",
       "secondary_cleaner.output.tail_ag                       12.177364   \n",
       "secondary_cleaner.output.tail_pb                        3.982298   \n",
       "secondary_cleaner.output.tail_sol                       3.225486   \n",
       "secondary_cleaner.output.tail_au                        3.153122   \n",
       "secondary_cleaner.state.floatbank2_a_air               25.099584   \n",
       "secondary_cleaner.state.floatbank2_a_level           -500.248814   \n",
       "secondary_cleaner.state.floatbank2_b_air               22.048294   \n",
       "secondary_cleaner.state.floatbank2_b_level           -500.270997   \n",
       "secondary_cleaner.state.floatbank3_a_air               24.991662   \n",
       "secondary_cleaner.state.floatbank3_a_level           -500.175065   \n",
       "secondary_cleaner.state.floatbank3_b_air               19.948436   \n",
       "secondary_cleaner.state.floatbank3_b_level           -500.110581   \n",
       "secondary_cleaner.state.floatbank4_a_air               14.990775   \n",
       "secondary_cleaner.state.floatbank4_a_level           -500.628656   \n",
       "secondary_cleaner.state.floatbank4_b_air               11.894558   \n",
       "secondary_cleaner.state.floatbank4_b_level           -500.149000   \n",
       "secondary_cleaner.state.floatbank5_a_air               11.083980   \n",
       "secondary_cleaner.state.floatbank5_a_level           -500.363177   \n",
       "secondary_cleaner.state.floatbank5_b_air                8.994405   \n",
       "secondary_cleaner.state.floatbank5_b_level           -500.105994   \n",
       "secondary_cleaner.state.floatbank6_a_air               14.989304   \n",
       "secondary_cleaner.state.floatbank6_a_level           -500.745104   \n",
       "\n",
       "                                                             50%  \\\n",
       "final.output.concentrate_ag                             4.994652   \n",
       "final.output.concentrate_pb                            10.297144   \n",
       "final.output.concentrate_sol                            8.845462   \n",
       "final.output.concentrate_au                            44.872436   \n",
       "final.output.recovery                                  67.432775   \n",
       "final.output.tail_ag                                    9.480270   \n",
       "final.output.tail_pb                                    2.592022   \n",
       "final.output.tail_sol                                  10.514621   \n",
       "final.output.tail_au                                    2.851025   \n",
       "primary_cleaner.input.sulfate                         133.018328   \n",
       "primary_cleaner.input.depressant                        8.035811   \n",
       "primary_cleaner.input.feed_size                         7.290000   \n",
       "primary_cleaner.input.xanthate                          0.888749   \n",
       "primary_cleaner.output.concentrate_ag                   8.226247   \n",
       "primary_cleaner.output.concentrate_pb                   9.933520   \n",
       "primary_cleaner.output.concentrate_sol                  9.726566   \n",
       "primary_cleaner.output.concentrate_au                  33.225835   \n",
       "primary_cleaner.output.tail_ag                         15.800604   \n",
       "primary_cleaner.output.tail_pb                          3.218374   \n",
       "primary_cleaner.output.tail_sol                         7.714419   \n",
       "primary_cleaner.output.tail_au                          3.510337   \n",
       "primary_cleaner.state.floatbank8_a_air               1601.824410   \n",
       "primary_cleaner.state.floatbank8_a_level             -499.909375   \n",
       "primary_cleaner.state.floatbank8_b_air               1601.818514   \n",
       "primary_cleaner.state.floatbank8_b_level             -499.938003   \n",
       "primary_cleaner.state.floatbank8_c_air               1601.574628   \n",
       "primary_cleaner.state.floatbank8_c_level             -499.871346   \n",
       "primary_cleaner.state.floatbank8_d_air               1600.168346   \n",
       "primary_cleaner.state.floatbank8_d_level             -499.831833   \n",
       "rougher.calculation.sulfate_to_au_concentrate       43684.308422   \n",
       "rougher.calculation.floatbank10_sulfate_to_au_feed   2975.892211   \n",
       "rougher.calculation.floatbank11_sulfate_to_au_feed   2899.807724   \n",
       "rougher.calculation.au_pb_ratio                         2.249275   \n",
       "rougher.input.feed_ag                                   8.156092   \n",
       "rougher.input.feed_pb                                   3.422677   \n",
       "rougher.input.feed_rate                               499.454777   \n",
       "rougher.input.feed_size                                55.373885   \n",
       "rougher.input.feed_sol                                 37.020345   \n",
       "rougher.input.feed_au                                   7.649138   \n",
       "rougher.input.floatbank10_sulfate                      11.688702   \n",
       "rougher.input.floatbank10_xanthate                      5.951071   \n",
       "rougher.input.floatbank11_sulfate                      11.384283   \n",
       "rougher.input.floatbank11_xanthate                      5.998460   \n",
       "rougher.output.concentrate_ag                          11.747362   \n",
       "rougher.output.concentrate_pb                           7.760435   \n",
       "rougher.output.concentrate_sol                         29.257545   \n",
       "rougher.output.concentrate_au                          19.947312   \n",
       "rougher.output.recovery                                85.299462   \n",
       "rougher.output.tail_ag                                  5.722018   \n",
       "rougher.output.tail_pb                                  0.625805   \n",
       "rougher.output.tail_sol                                18.015894   \n",
       "rougher.output.tail_au                                  1.745513   \n",
       "rougher.state.floatbank10_a_air                      1001.685708   \n",
       "rougher.state.floatbank10_a_level                    -300.175125   \n",
       "rougher.state.floatbank10_b_air                      1301.365123   \n",
       "rougher.state.floatbank10_b_level                    -499.764620   \n",
       "rougher.state.floatbank10_c_air                      1300.213385   \n",
       "rougher.state.floatbank10_c_level                    -499.682528   \n",
       "rougher.state.floatbank10_d_air                      1200.744308   \n",
       "rougher.state.floatbank10_d_level                    -499.465285   \n",
       "rougher.state.floatbank10_e_air                      1050.496363   \n",
       "rougher.state.floatbank10_e_level                    -499.611447   \n",
       "rougher.state.floatbank10_f_air                      1000.053757   \n",
       "rougher.state.floatbank10_f_level                    -499.364335   \n",
       "secondary_cleaner.output.tail_ag                       15.357951   \n",
       "secondary_cleaner.output.tail_pb                        5.442310   \n",
       "secondary_cleaner.output.tail_sol                       7.302639   \n",
       "secondary_cleaner.output.tail_au                        3.980210   \n",
       "secondary_cleaner.state.floatbank2_a_air               30.027721   \n",
       "secondary_cleaner.state.floatbank2_a_level           -499.959206   \n",
       "secondary_cleaner.state.floatbank2_b_air               27.022783   \n",
       "secondary_cleaner.state.floatbank2_b_level           -500.014092   \n",
       "secondary_cleaner.state.floatbank3_a_air               28.016530   \n",
       "secondary_cleaner.state.floatbank3_a_level           -499.877837   \n",
       "secondary_cleaner.state.floatbank3_b_air               22.037270   \n",
       "secondary_cleaner.state.floatbank3_b_level           -499.966809   \n",
       "secondary_cleaner.state.floatbank4_a_air               20.001789   \n",
       "secondary_cleaner.state.floatbank4_a_level           -499.681450   \n",
       "secondary_cleaner.state.floatbank4_b_air               14.975536   \n",
       "secondary_cleaner.state.floatbank4_b_level           -499.388738   \n",
       "secondary_cleaner.state.floatbank5_a_air               17.932223   \n",
       "secondary_cleaner.state.floatbank5_a_level           -499.702452   \n",
       "secondary_cleaner.state.floatbank5_b_air               11.997547   \n",
       "secondary_cleaner.state.floatbank5_b_level           -499.914556   \n",
       "secondary_cleaner.state.floatbank6_a_air               19.984175   \n",
       "secondary_cleaner.state.floatbank6_a_level           -500.061431   \n",
       "\n",
       "                                                             75%           max  \n",
       "final.output.concentrate_ag                             5.859540  1.600195e+01  \n",
       "final.output.concentrate_pb                            11.170603  1.703190e+01  \n",
       "final.output.concentrate_sol                           10.487508  1.812485e+01  \n",
       "final.output.concentrate_au                            46.166425  5.275664e+01  \n",
       "final.output.recovery                                  72.346428  1.000000e+02  \n",
       "final.output.tail_ag                                   11.003707  1.955215e+01  \n",
       "final.output.tail_pb                                    3.241723  5.639565e+00  \n",
       "final.output.tail_sol                                  11.933009  2.231773e+01  \n",
       "final.output.tail_au                                    3.434764  8.197408e+00  \n",
       "primary_cleaner.input.sulfate                         159.825396  2.501278e+02  \n",
       "primary_cleaner.input.depressant                       11.522173  2.005226e+01  \n",
       "primary_cleaner.input.feed_size                         7.700000  1.047000e+01  \n",
       "primary_cleaner.input.xanthate                          1.100933  2.512968e+00  \n",
       "primary_cleaner.output.concentrate_ag                   9.504924  1.608163e+01  \n",
       "primary_cleaner.output.concentrate_pb                  11.310817  1.708128e+01  \n",
       "primary_cleaner.output.concentrate_sol                 13.052807  2.228085e+01  \n",
       "primary_cleaner.output.concentrate_au                  35.330145  4.593393e+01  \n",
       "primary_cleaner.output.tail_ag                         18.450109  2.945957e+01  \n",
       "primary_cleaner.output.tail_pb                          4.253218  9.634565e+00  \n",
       "primary_cleaner.output.tail_sol                         8.910664  2.062083e+01  \n",
       "primary_cleaner.output.tail_au                          4.492470  1.778892e+01  \n",
       "primary_cleaner.state.floatbank8_a_air               1699.716408  2.079531e+03  \n",
       "primary_cleaner.state.floatbank8_a_level             -499.378551 -3.301342e+02  \n",
       "primary_cleaner.state.floatbank8_b_air               1700.215351  2.114907e+03  \n",
       "primary_cleaner.state.floatbank8_b_level             -499.389658 -3.473544e+02  \n",
       "primary_cleaner.state.floatbank8_c_air               1700.464037  2.013156e+03  \n",
       "primary_cleaner.state.floatbank8_c_level             -498.801774 -3.466534e+02  \n",
       "primary_cleaner.state.floatbank8_d_air               1699.358771  2.398904e+03  \n",
       "primary_cleaner.state.floatbank8_d_level             -498.480341 -3.060183e+01  \n",
       "rougher.calculation.sulfate_to_au_concentrate       47760.406722  3.428099e+06  \n",
       "rougher.calculation.floatbank10_sulfate_to_au_feed   3716.360822  6.296390e+05  \n",
       "rougher.calculation.floatbank11_sulfate_to_au_feed   3596.534806  7.186850e+05  \n",
       "rougher.calculation.au_pb_ratio                         2.660896  3.937927e+01  \n",
       "rougher.input.feed_ag                                   9.918304  1.459603e+01  \n",
       "rougher.input.feed_pb                                   4.226107  7.142594e+00  \n",
       "rougher.input.feed_rate                               547.334973  7.175088e+02  \n",
       "rougher.input.feed_size                                66.080172  4.849675e+02  \n",
       "rougher.input.feed_sol                                 39.423265  4.836318e+01  \n",
       "rougher.input.feed_au                                   9.066976  1.312604e+01  \n",
       "rougher.input.floatbank10_sulfate                      13.607115  3.611827e+01  \n",
       "rougher.input.floatbank10_xanthate                      6.602533  9.703448e+00  \n",
       "rougher.input.floatbank11_sulfate                      13.497134  3.798065e+01  \n",
       "rougher.input.floatbank11_xanthate                      6.699006  9.698407e+00  \n",
       "rougher.output.concentrate_ag                          13.426419  2.448027e+01  \n",
       "rougher.output.concentrate_pb                           8.601927  1.361707e+01  \n",
       "rougher.output.concentrate_sol                         31.743913  3.835119e+01  \n",
       "rougher.output.concentrate_au                          21.392714  2.814684e+01  \n",
       "rougher.output.recovery                                90.165021  1.000000e+02  \n",
       "rougher.output.tail_ag                                  6.310633  1.271918e+01  \n",
       "rougher.output.tail_pb                                  0.794326  3.778064e+00  \n",
       "rougher.output.tail_sol                                19.938672  6.611719e+01  \n",
       "rougher.output.tail_au                                  2.186790  9.688980e+00  \n",
       "rougher.state.floatbank10_a_air                      1299.505513  1.521980e+03  \n",
       "rougher.state.floatbank10_a_level                    -299.963153 -2.810393e+02  \n",
       "rougher.state.floatbank10_b_air                      1449.553689  1.809194e+03  \n",
       "rougher.state.floatbank10_b_level                    -400.425493 -2.963831e+02  \n",
       "rougher.state.floatbank10_c_air                      1450.350668  2.499129e+03  \n",
       "rougher.state.floatbank10_c_level                    -400.664736 -2.921555e+02  \n",
       "rougher.state.floatbank10_d_air                      1344.378462  1.817199e+03  \n",
       "rougher.state.floatbank10_d_level                    -401.052891 -2.083307e+02  \n",
       "rougher.state.floatbank10_e_air                      1200.047746  1.922637e+03  \n",
       "rougher.state.floatbank10_e_level                    -400.596104 -2.721996e+02  \n",
       "rougher.state.floatbank10_f_air                      1100.165435  1.706308e+03  \n",
       "rougher.state.floatbank10_f_level                    -401.014951 -1.917185e+02  \n",
       "secondary_cleaner.output.tail_ag                       17.230151  2.326474e+01  \n",
       "secondary_cleaner.output.tail_pb                        7.797948  1.704250e+01  \n",
       "secondary_cleaner.output.tail_sol                      10.547068  1.797617e+01  \n",
       "secondary_cleaner.output.tail_au                        4.883943  2.681164e+01  \n",
       "secondary_cleaner.state.floatbank2_a_air               34.893057  5.265140e+01  \n",
       "secondary_cleaner.state.floatbank2_a_level           -499.593198 -1.278756e+02  \n",
       "secondary_cleaner.state.floatbank2_b_air               28.939454  3.515212e+01  \n",
       "secondary_cleaner.state.floatbank2_b_level           -499.764112 -2.120647e+02  \n",
       "secondary_cleaner.state.floatbank3_a_air               34.990095  4.426046e+01  \n",
       "secondary_cleaner.state.floatbank3_a_level           -436.923166 -1.916788e+02  \n",
       "secondary_cleaner.state.floatbank3_b_air               25.970365  3.507284e+01  \n",
       "secondary_cleaner.state.floatbank3_b_level           -499.757501 -1.597423e+02  \n",
       "secondary_cleaner.state.floatbank4_a_air               24.990826  3.011574e+01  \n",
       "secondary_cleaner.state.floatbank4_a_level           -477.472413 -2.452392e+02  \n",
       "secondary_cleaner.state.floatbank4_b_air               20.059375  2.400791e+01  \n",
       "secondary_cleaner.state.floatbank4_b_level           -400.039008 -1.450711e+02  \n",
       "secondary_cleaner.state.floatbank5_a_air               21.346550  4.370993e+01  \n",
       "secondary_cleaner.state.floatbank5_a_level           -487.712108 -2.750731e+02  \n",
       "secondary_cleaner.state.floatbank5_b_air               17.982903  2.792600e+01  \n",
       "secondary_cleaner.state.floatbank5_b_level           -453.186936 -1.573961e+02  \n",
       "secondary_cleaner.state.floatbank6_a_air               24.991623  3.218891e+01  \n",
       "secondary_cleaner.state.floatbank6_a_level           -499.536466 -1.044275e+02  "
      ]
     },
     "metadata": {},
     "output_type": "display_data"
    },
    {
     "name": "stdout",
     "output_type": "stream",
     "text": [
      "Количество дубликатов в таблице Обучающая выборка : 0\n"
     ]
    }
   ],
   "source": [
    "describe_data(train)"
   ]
  },
  {
   "cell_type": "code",
   "execution_count": 6,
   "metadata": {
    "scrolled": false
   },
   "outputs": [
    {
     "name": "stdout",
     "output_type": "stream",
     "text": [
      "Первые 10 строк таблицы: Тестовая выборка\n"
     ]
    },
    {
     "data": {
      "text/html": [
       "<div>\n",
       "<style scoped>\n",
       "    .dataframe tbody tr th:only-of-type {\n",
       "        vertical-align: middle;\n",
       "    }\n",
       "\n",
       "    .dataframe tbody tr th {\n",
       "        vertical-align: top;\n",
       "    }\n",
       "\n",
       "    .dataframe thead th {\n",
       "        text-align: right;\n",
       "    }\n",
       "</style>\n",
       "<table border=\"1\" class=\"dataframe\">\n",
       "  <thead>\n",
       "    <tr style=\"text-align: right;\">\n",
       "      <th></th>\n",
       "      <th>primary_cleaner.input.sulfate</th>\n",
       "      <th>primary_cleaner.input.depressant</th>\n",
       "      <th>primary_cleaner.input.feed_size</th>\n",
       "      <th>primary_cleaner.input.xanthate</th>\n",
       "      <th>primary_cleaner.state.floatbank8_a_air</th>\n",
       "      <th>primary_cleaner.state.floatbank8_a_level</th>\n",
       "      <th>primary_cleaner.state.floatbank8_b_air</th>\n",
       "      <th>primary_cleaner.state.floatbank8_b_level</th>\n",
       "      <th>primary_cleaner.state.floatbank8_c_air</th>\n",
       "      <th>primary_cleaner.state.floatbank8_c_level</th>\n",
       "      <th>primary_cleaner.state.floatbank8_d_air</th>\n",
       "      <th>primary_cleaner.state.floatbank8_d_level</th>\n",
       "      <th>rougher.input.feed_ag</th>\n",
       "      <th>rougher.input.feed_pb</th>\n",
       "      <th>rougher.input.feed_rate</th>\n",
       "      <th>rougher.input.feed_size</th>\n",
       "      <th>rougher.input.feed_sol</th>\n",
       "      <th>rougher.input.feed_au</th>\n",
       "      <th>rougher.input.floatbank10_sulfate</th>\n",
       "      <th>rougher.input.floatbank10_xanthate</th>\n",
       "      <th>rougher.input.floatbank11_sulfate</th>\n",
       "      <th>rougher.input.floatbank11_xanthate</th>\n",
       "      <th>rougher.state.floatbank10_a_air</th>\n",
       "      <th>rougher.state.floatbank10_a_level</th>\n",
       "      <th>rougher.state.floatbank10_b_air</th>\n",
       "      <th>rougher.state.floatbank10_b_level</th>\n",
       "      <th>rougher.state.floatbank10_c_air</th>\n",
       "      <th>rougher.state.floatbank10_c_level</th>\n",
       "      <th>rougher.state.floatbank10_d_air</th>\n",
       "      <th>rougher.state.floatbank10_d_level</th>\n",
       "      <th>rougher.state.floatbank10_e_air</th>\n",
       "      <th>rougher.state.floatbank10_e_level</th>\n",
       "      <th>rougher.state.floatbank10_f_air</th>\n",
       "      <th>rougher.state.floatbank10_f_level</th>\n",
       "      <th>secondary_cleaner.state.floatbank2_a_air</th>\n",
       "      <th>secondary_cleaner.state.floatbank2_a_level</th>\n",
       "      <th>secondary_cleaner.state.floatbank2_b_air</th>\n",
       "      <th>secondary_cleaner.state.floatbank2_b_level</th>\n",
       "      <th>secondary_cleaner.state.floatbank3_a_air</th>\n",
       "      <th>secondary_cleaner.state.floatbank3_a_level</th>\n",
       "      <th>secondary_cleaner.state.floatbank3_b_air</th>\n",
       "      <th>secondary_cleaner.state.floatbank3_b_level</th>\n",
       "      <th>secondary_cleaner.state.floatbank4_a_air</th>\n",
       "      <th>secondary_cleaner.state.floatbank4_a_level</th>\n",
       "      <th>secondary_cleaner.state.floatbank4_b_air</th>\n",
       "      <th>secondary_cleaner.state.floatbank4_b_level</th>\n",
       "      <th>secondary_cleaner.state.floatbank5_a_air</th>\n",
       "      <th>secondary_cleaner.state.floatbank5_a_level</th>\n",
       "      <th>secondary_cleaner.state.floatbank5_b_air</th>\n",
       "      <th>secondary_cleaner.state.floatbank5_b_level</th>\n",
       "      <th>secondary_cleaner.state.floatbank6_a_air</th>\n",
       "      <th>secondary_cleaner.state.floatbank6_a_level</th>\n",
       "    </tr>\n",
       "    <tr>\n",
       "      <th>date</th>\n",
       "      <th></th>\n",
       "      <th></th>\n",
       "      <th></th>\n",
       "      <th></th>\n",
       "      <th></th>\n",
       "      <th></th>\n",
       "      <th></th>\n",
       "      <th></th>\n",
       "      <th></th>\n",
       "      <th></th>\n",
       "      <th></th>\n",
       "      <th></th>\n",
       "      <th></th>\n",
       "      <th></th>\n",
       "      <th></th>\n",
       "      <th></th>\n",
       "      <th></th>\n",
       "      <th></th>\n",
       "      <th></th>\n",
       "      <th></th>\n",
       "      <th></th>\n",
       "      <th></th>\n",
       "      <th></th>\n",
       "      <th></th>\n",
       "      <th></th>\n",
       "      <th></th>\n",
       "      <th></th>\n",
       "      <th></th>\n",
       "      <th></th>\n",
       "      <th></th>\n",
       "      <th></th>\n",
       "      <th></th>\n",
       "      <th></th>\n",
       "      <th></th>\n",
       "      <th></th>\n",
       "      <th></th>\n",
       "      <th></th>\n",
       "      <th></th>\n",
       "      <th></th>\n",
       "      <th></th>\n",
       "      <th></th>\n",
       "      <th></th>\n",
       "      <th></th>\n",
       "      <th></th>\n",
       "      <th></th>\n",
       "      <th></th>\n",
       "      <th></th>\n",
       "      <th></th>\n",
       "      <th></th>\n",
       "      <th></th>\n",
       "      <th></th>\n",
       "      <th></th>\n",
       "    </tr>\n",
       "  </thead>\n",
       "  <tbody>\n",
       "    <tr>\n",
       "      <th>2016-09-01 00:59:59</th>\n",
       "      <td>210.800909</td>\n",
       "      <td>14.993118</td>\n",
       "      <td>8.080000</td>\n",
       "      <td>1.005021</td>\n",
       "      <td>1398.981301</td>\n",
       "      <td>-500.225577</td>\n",
       "      <td>1399.144926</td>\n",
       "      <td>-499.919735</td>\n",
       "      <td>1400.102998</td>\n",
       "      <td>-500.704369</td>\n",
       "      <td>1399.001695</td>\n",
       "      <td>-499.485144</td>\n",
       "      <td>13.128569</td>\n",
       "      <td>5.636710</td>\n",
       "      <td>489.793655</td>\n",
       "      <td>62.710452</td>\n",
       "      <td>42.022440</td>\n",
       "      <td>12.084103</td>\n",
       "      <td>16.922877</td>\n",
       "      <td>6.153479</td>\n",
       "      <td>16.867518</td>\n",
       "      <td>6.150709</td>\n",
       "      <td>1001.849317</td>\n",
       "      <td>-350.301265</td>\n",
       "      <td>1249.738612</td>\n",
       "      <td>-399.107531</td>\n",
       "      <td>1249.750520</td>\n",
       "      <td>-399.396730</td>\n",
       "      <td>1198.287855</td>\n",
       "      <td>-399.488594</td>\n",
       "      <td>999.472250</td>\n",
       "      <td>-399.530962</td>\n",
       "      <td>949.566189</td>\n",
       "      <td>-398.180807</td>\n",
       "      <td>24.938200</td>\n",
       "      <td>-500.490963</td>\n",
       "      <td>14.947607</td>\n",
       "      <td>-500.013837</td>\n",
       "      <td>20.018166</td>\n",
       "      <td>-450.395995</td>\n",
       "      <td>13.987058</td>\n",
       "      <td>-449.831513</td>\n",
       "      <td>12.023554</td>\n",
       "      <td>-497.795834</td>\n",
       "      <td>8.016656</td>\n",
       "      <td>-501.289139</td>\n",
       "      <td>7.946562</td>\n",
       "      <td>-432.317850</td>\n",
       "      <td>4.872511</td>\n",
       "      <td>-500.037437</td>\n",
       "      <td>26.705889</td>\n",
       "      <td>-499.709414</td>\n",
       "    </tr>\n",
       "    <tr>\n",
       "      <th>2016-09-01 01:59:59</th>\n",
       "      <td>215.392455</td>\n",
       "      <td>14.987471</td>\n",
       "      <td>8.080000</td>\n",
       "      <td>0.990469</td>\n",
       "      <td>1398.777912</td>\n",
       "      <td>-500.057435</td>\n",
       "      <td>1398.055362</td>\n",
       "      <td>-499.778182</td>\n",
       "      <td>1396.151033</td>\n",
       "      <td>-499.240168</td>\n",
       "      <td>1399.508091</td>\n",
       "      <td>-500.416324</td>\n",
       "      <td>13.036280</td>\n",
       "      <td>5.526065</td>\n",
       "      <td>490.104534</td>\n",
       "      <td>61.961163</td>\n",
       "      <td>41.187903</td>\n",
       "      <td>11.918977</td>\n",
       "      <td>17.002532</td>\n",
       "      <td>5.999043</td>\n",
       "      <td>16.996063</td>\n",
       "      <td>6.002315</td>\n",
       "      <td>998.690785</td>\n",
       "      <td>-350.425704</td>\n",
       "      <td>1248.395457</td>\n",
       "      <td>-399.946025</td>\n",
       "      <td>1249.514451</td>\n",
       "      <td>-399.630810</td>\n",
       "      <td>1200.506459</td>\n",
       "      <td>-399.942434</td>\n",
       "      <td>1000.002114</td>\n",
       "      <td>-399.491528</td>\n",
       "      <td>950.200009</td>\n",
       "      <td>-405.787514</td>\n",
       "      <td>24.923466</td>\n",
       "      <td>-499.813963</td>\n",
       "      <td>14.930873</td>\n",
       "      <td>-500.764452</td>\n",
       "      <td>19.988503</td>\n",
       "      <td>-450.114024</td>\n",
       "      <td>14.092981</td>\n",
       "      <td>-450.059163</td>\n",
       "      <td>12.058140</td>\n",
       "      <td>-498.695773</td>\n",
       "      <td>8.130979</td>\n",
       "      <td>-499.634209</td>\n",
       "      <td>7.958270</td>\n",
       "      <td>-525.839648</td>\n",
       "      <td>4.878850</td>\n",
       "      <td>-500.162375</td>\n",
       "      <td>25.019940</td>\n",
       "      <td>-499.819438</td>\n",
       "    </tr>\n",
       "    <tr>\n",
       "      <th>2016-09-01 02:59:59</th>\n",
       "      <td>215.259946</td>\n",
       "      <td>12.884934</td>\n",
       "      <td>7.786667</td>\n",
       "      <td>0.996043</td>\n",
       "      <td>1398.493666</td>\n",
       "      <td>-500.868360</td>\n",
       "      <td>1398.860436</td>\n",
       "      <td>-499.764529</td>\n",
       "      <td>1398.075709</td>\n",
       "      <td>-502.151509</td>\n",
       "      <td>1399.497088</td>\n",
       "      <td>-499.715479</td>\n",
       "      <td>13.138412</td>\n",
       "      <td>5.426561</td>\n",
       "      <td>489.617969</td>\n",
       "      <td>66.903807</td>\n",
       "      <td>42.546294</td>\n",
       "      <td>12.091332</td>\n",
       "      <td>16.992520</td>\n",
       "      <td>5.850632</td>\n",
       "      <td>16.982096</td>\n",
       "      <td>5.853594</td>\n",
       "      <td>998.516720</td>\n",
       "      <td>-349.783538</td>\n",
       "      <td>1247.440748</td>\n",
       "      <td>-400.264330</td>\n",
       "      <td>1248.207204</td>\n",
       "      <td>-401.074405</td>\n",
       "      <td>1199.770026</td>\n",
       "      <td>-400.790582</td>\n",
       "      <td>999.925519</td>\n",
       "      <td>-399.236999</td>\n",
       "      <td>950.320481</td>\n",
       "      <td>-400.864340</td>\n",
       "      <td>24.908732</td>\n",
       "      <td>-500.304035</td>\n",
       "      <td>14.996511</td>\n",
       "      <td>-500.993821</td>\n",
       "      <td>20.039689</td>\n",
       "      <td>-450.263164</td>\n",
       "      <td>14.077881</td>\n",
       "      <td>-449.660997</td>\n",
       "      <td>11.962366</td>\n",
       "      <td>-498.767484</td>\n",
       "      <td>8.096893</td>\n",
       "      <td>-500.827423</td>\n",
       "      <td>8.071056</td>\n",
       "      <td>-500.801673</td>\n",
       "      <td>4.905125</td>\n",
       "      <td>-499.828510</td>\n",
       "      <td>24.994862</td>\n",
       "      <td>-500.622559</td>\n",
       "    </tr>\n",
       "    <tr>\n",
       "      <th>2016-09-01 03:59:59</th>\n",
       "      <td>215.336236</td>\n",
       "      <td>12.006805</td>\n",
       "      <td>7.640000</td>\n",
       "      <td>0.863514</td>\n",
       "      <td>1399.618111</td>\n",
       "      <td>-498.863574</td>\n",
       "      <td>1397.440120</td>\n",
       "      <td>-499.211024</td>\n",
       "      <td>1400.129303</td>\n",
       "      <td>-498.355873</td>\n",
       "      <td>1401.065165</td>\n",
       "      <td>-501.038738</td>\n",
       "      <td>12.400507</td>\n",
       "      <td>5.114758</td>\n",
       "      <td>476.618130</td>\n",
       "      <td>59.865919</td>\n",
       "      <td>41.060195</td>\n",
       "      <td>12.181597</td>\n",
       "      <td>16.532144</td>\n",
       "      <td>5.801935</td>\n",
       "      <td>16.515277</td>\n",
       "      <td>5.803657</td>\n",
       "      <td>1000.276604</td>\n",
       "      <td>-350.172597</td>\n",
       "      <td>1251.322675</td>\n",
       "      <td>-398.655289</td>\n",
       "      <td>1250.493702</td>\n",
       "      <td>-399.746728</td>\n",
       "      <td>1199.398691</td>\n",
       "      <td>-397.503052</td>\n",
       "      <td>1001.930679</td>\n",
       "      <td>-400.437573</td>\n",
       "      <td>950.735324</td>\n",
       "      <td>-399.802986</td>\n",
       "      <td>24.893998</td>\n",
       "      <td>-499.382374</td>\n",
       "      <td>14.916674</td>\n",
       "      <td>-499.862299</td>\n",
       "      <td>20.031100</td>\n",
       "      <td>-449.372570</td>\n",
       "      <td>14.013968</td>\n",
       "      <td>-449.526900</td>\n",
       "      <td>12.033091</td>\n",
       "      <td>-498.350935</td>\n",
       "      <td>8.074946</td>\n",
       "      <td>-499.474407</td>\n",
       "      <td>7.897085</td>\n",
       "      <td>-500.868509</td>\n",
       "      <td>4.931400</td>\n",
       "      <td>-499.963623</td>\n",
       "      <td>24.948919</td>\n",
       "      <td>-498.709987</td>\n",
       "    </tr>\n",
       "    <tr>\n",
       "      <th>2016-09-01 04:59:59</th>\n",
       "      <td>199.099327</td>\n",
       "      <td>10.682530</td>\n",
       "      <td>7.530000</td>\n",
       "      <td>0.805575</td>\n",
       "      <td>1401.268123</td>\n",
       "      <td>-500.808305</td>\n",
       "      <td>1398.128818</td>\n",
       "      <td>-499.504543</td>\n",
       "      <td>1402.172226</td>\n",
       "      <td>-500.810606</td>\n",
       "      <td>1399.480508</td>\n",
       "      <td>-499.374053</td>\n",
       "      <td>11.327427</td>\n",
       "      <td>4.767383</td>\n",
       "      <td>488.248117</td>\n",
       "      <td>63.315324</td>\n",
       "      <td>41.269161</td>\n",
       "      <td>11.290425</td>\n",
       "      <td>13.607257</td>\n",
       "      <td>5.738081</td>\n",
       "      <td>13.650053</td>\n",
       "      <td>5.739634</td>\n",
       "      <td>996.541302</td>\n",
       "      <td>-350.562517</td>\n",
       "      <td>1304.658848</td>\n",
       "      <td>-399.511519</td>\n",
       "      <td>1306.455515</td>\n",
       "      <td>-399.050685</td>\n",
       "      <td>1248.699349</td>\n",
       "      <td>-400.876894</td>\n",
       "      <td>1058.839106</td>\n",
       "      <td>-398.988239</td>\n",
       "      <td>949.645313</td>\n",
       "      <td>-399.277632</td>\n",
       "      <td>24.886905</td>\n",
       "      <td>-499.357375</td>\n",
       "      <td>14.979233</td>\n",
       "      <td>-500.186804</td>\n",
       "      <td>19.962364</td>\n",
       "      <td>-450.638828</td>\n",
       "      <td>14.009245</td>\n",
       "      <td>-450.022259</td>\n",
       "      <td>12.025367</td>\n",
       "      <td>-500.786497</td>\n",
       "      <td>8.054678</td>\n",
       "      <td>-500.397500</td>\n",
       "      <td>8.107890</td>\n",
       "      <td>-509.526725</td>\n",
       "      <td>4.957674</td>\n",
       "      <td>-500.360026</td>\n",
       "      <td>25.003331</td>\n",
       "      <td>-500.856333</td>\n",
       "    </tr>\n",
       "    <tr>\n",
       "      <th>2016-09-01 05:59:59</th>\n",
       "      <td>168.485085</td>\n",
       "      <td>8.817007</td>\n",
       "      <td>7.420000</td>\n",
       "      <td>0.791191</td>\n",
       "      <td>1402.826803</td>\n",
       "      <td>-499.299521</td>\n",
       "      <td>1401.511119</td>\n",
       "      <td>-499.205357</td>\n",
       "      <td>1404.088107</td>\n",
       "      <td>-497.903666</td>\n",
       "      <td>1400.479070</td>\n",
       "      <td>-500.842752</td>\n",
       "      <td>9.658909</td>\n",
       "      <td>4.290008</td>\n",
       "      <td>490.908013</td>\n",
       "      <td>69.218255</td>\n",
       "      <td>41.515115</td>\n",
       "      <td>9.779850</td>\n",
       "      <td>10.696589</td>\n",
       "      <td>5.596642</td>\n",
       "      <td>10.699891</td>\n",
       "      <td>5.597860</td>\n",
       "      <td>998.650980</td>\n",
       "      <td>-349.659046</td>\n",
       "      <td>1349.964264</td>\n",
       "      <td>-399.393077</td>\n",
       "      <td>1349.764702</td>\n",
       "      <td>-399.233016</td>\n",
       "      <td>1302.258827</td>\n",
       "      <td>-399.946857</td>\n",
       "      <td>1100.278629</td>\n",
       "      <td>-399.742287</td>\n",
       "      <td>949.622431</td>\n",
       "      <td>-399.096175</td>\n",
       "      <td>24.920872</td>\n",
       "      <td>-500.006603</td>\n",
       "      <td>14.916602</td>\n",
       "      <td>-499.899348</td>\n",
       "      <td>20.019330</td>\n",
       "      <td>-449.836319</td>\n",
       "      <td>14.041691</td>\n",
       "      <td>-450.185369</td>\n",
       "      <td>12.029797</td>\n",
       "      <td>-499.814895</td>\n",
       "      <td>8.036586</td>\n",
       "      <td>-500.371492</td>\n",
       "      <td>8.041446</td>\n",
       "      <td>-510.037054</td>\n",
       "      <td>4.983949</td>\n",
       "      <td>-499.990990</td>\n",
       "      <td>24.978973</td>\n",
       "      <td>-500.475640</td>\n",
       "    </tr>\n",
       "    <tr>\n",
       "      <th>2016-09-01 06:59:59</th>\n",
       "      <td>144.133440</td>\n",
       "      <td>7.924610</td>\n",
       "      <td>7.420000</td>\n",
       "      <td>0.788838</td>\n",
       "      <td>1398.252401</td>\n",
       "      <td>-499.748672</td>\n",
       "      <td>1393.255503</td>\n",
       "      <td>-499.195380</td>\n",
       "      <td>1396.738566</td>\n",
       "      <td>-497.923683</td>\n",
       "      <td>1399.535678</td>\n",
       "      <td>-500.256895</td>\n",
       "      <td>8.902324</td>\n",
       "      <td>4.043502</td>\n",
       "      <td>490.081681</td>\n",
       "      <td>75.856243</td>\n",
       "      <td>43.157100</td>\n",
       "      <td>9.168984</td>\n",
       "      <td>10.004265</td>\n",
       "      <td>5.602029</td>\n",
       "      <td>10.004993</td>\n",
       "      <td>5.598335</td>\n",
       "      <td>999.686022</td>\n",
       "      <td>-350.086605</td>\n",
       "      <td>1349.452840</td>\n",
       "      <td>-400.372133</td>\n",
       "      <td>1349.739875</td>\n",
       "      <td>-400.045549</td>\n",
       "      <td>1299.687671</td>\n",
       "      <td>-399.981643</td>\n",
       "      <td>1099.813504</td>\n",
       "      <td>-400.249376</td>\n",
       "      <td>949.798421</td>\n",
       "      <td>-400.710664</td>\n",
       "      <td>24.966566</td>\n",
       "      <td>-500.375242</td>\n",
       "      <td>12.573283</td>\n",
       "      <td>-499.670366</td>\n",
       "      <td>19.959853</td>\n",
       "      <td>-485.725045</td>\n",
       "      <td>12.465845</td>\n",
       "      <td>-485.778583</td>\n",
       "      <td>12.026296</td>\n",
       "      <td>-499.473127</td>\n",
       "      <td>8.027984</td>\n",
       "      <td>-500.983079</td>\n",
       "      <td>7.907340</td>\n",
       "      <td>-507.964971</td>\n",
       "      <td>5.010224</td>\n",
       "      <td>-500.043697</td>\n",
       "      <td>25.040709</td>\n",
       "      <td>-499.501984</td>\n",
       "    </tr>\n",
       "    <tr>\n",
       "      <th>2016-09-01 07:59:59</th>\n",
       "      <td>133.513396</td>\n",
       "      <td>8.055252</td>\n",
       "      <td>6.988000</td>\n",
       "      <td>0.801871</td>\n",
       "      <td>1401.669677</td>\n",
       "      <td>-501.777839</td>\n",
       "      <td>1400.754446</td>\n",
       "      <td>-502.514024</td>\n",
       "      <td>1400.465244</td>\n",
       "      <td>-503.451306</td>\n",
       "      <td>1398.546641</td>\n",
       "      <td>-498.000544</td>\n",
       "      <td>8.759385</td>\n",
       "      <td>4.036795</td>\n",
       "      <td>489.121319</td>\n",
       "      <td>77.968131</td>\n",
       "      <td>44.392272</td>\n",
       "      <td>9.116535</td>\n",
       "      <td>9.999497</td>\n",
       "      <td>5.604636</td>\n",
       "      <td>9.998214</td>\n",
       "      <td>5.601708</td>\n",
       "      <td>999.888294</td>\n",
       "      <td>-350.889527</td>\n",
       "      <td>1350.425833</td>\n",
       "      <td>-400.665895</td>\n",
       "      <td>1347.736470</td>\n",
       "      <td>-401.850527</td>\n",
       "      <td>1295.059918</td>\n",
       "      <td>-404.880024</td>\n",
       "      <td>1097.116527</td>\n",
       "      <td>-399.280301</td>\n",
       "      <td>950.165809</td>\n",
       "      <td>-399.217640</td>\n",
       "      <td>25.057298</td>\n",
       "      <td>-500.516443</td>\n",
       "      <td>11.919993</td>\n",
       "      <td>-500.141295</td>\n",
       "      <td>20.091065</td>\n",
       "      <td>-500.162309</td>\n",
       "      <td>11.935898</td>\n",
       "      <td>-500.116649</td>\n",
       "      <td>12.040911</td>\n",
       "      <td>-501.293852</td>\n",
       "      <td>8.020490</td>\n",
       "      <td>-499.185229</td>\n",
       "      <td>8.116897</td>\n",
       "      <td>-511.927561</td>\n",
       "      <td>5.036498</td>\n",
       "      <td>-500.149615</td>\n",
       "      <td>25.032580</td>\n",
       "      <td>-503.970657</td>\n",
       "    </tr>\n",
       "    <tr>\n",
       "      <th>2016-09-01 08:59:59</th>\n",
       "      <td>133.735356</td>\n",
       "      <td>7.999618</td>\n",
       "      <td>6.935000</td>\n",
       "      <td>0.789329</td>\n",
       "      <td>1402.358981</td>\n",
       "      <td>-499.981597</td>\n",
       "      <td>1400.985954</td>\n",
       "      <td>-496.802968</td>\n",
       "      <td>1401.168584</td>\n",
       "      <td>-499.890350</td>\n",
       "      <td>1402.934656</td>\n",
       "      <td>-501.129108</td>\n",
       "      <td>8.603058</td>\n",
       "      <td>4.182064</td>\n",
       "      <td>489.860555</td>\n",
       "      <td>75.846999</td>\n",
       "      <td>45.022970</td>\n",
       "      <td>8.976052</td>\n",
       "      <td>10.002345</td>\n",
       "      <td>5.597465</td>\n",
       "      <td>9.992438</td>\n",
       "      <td>5.599358</td>\n",
       "      <td>1000.807159</td>\n",
       "      <td>-349.470811</td>\n",
       "      <td>1350.272285</td>\n",
       "      <td>-399.528520</td>\n",
       "      <td>1354.016617</td>\n",
       "      <td>-399.401157</td>\n",
       "      <td>1305.915847</td>\n",
       "      <td>-395.740836</td>\n",
       "      <td>1102.693258</td>\n",
       "      <td>-401.384425</td>\n",
       "      <td>950.082475</td>\n",
       "      <td>-400.682219</td>\n",
       "      <td>25.034680</td>\n",
       "      <td>-499.569715</td>\n",
       "      <td>11.988782</td>\n",
       "      <td>-499.838657</td>\n",
       "      <td>19.980559</td>\n",
       "      <td>-500.068733</td>\n",
       "      <td>12.079221</td>\n",
       "      <td>-499.983683</td>\n",
       "      <td>11.998184</td>\n",
       "      <td>-499.481608</td>\n",
       "      <td>8.012610</td>\n",
       "      <td>-500.896783</td>\n",
       "      <td>7.974422</td>\n",
       "      <td>-521.199104</td>\n",
       "      <td>5.061599</td>\n",
       "      <td>-499.791519</td>\n",
       "      <td>25.005063</td>\n",
       "      <td>-497.613716</td>\n",
       "    </tr>\n",
       "    <tr>\n",
       "      <th>2016-09-01 09:59:59</th>\n",
       "      <td>126.961069</td>\n",
       "      <td>8.017856</td>\n",
       "      <td>7.030000</td>\n",
       "      <td>0.805298</td>\n",
       "      <td>1400.816120</td>\n",
       "      <td>-499.014158</td>\n",
       "      <td>1399.975401</td>\n",
       "      <td>-499.570552</td>\n",
       "      <td>1401.871924</td>\n",
       "      <td>-499.577934</td>\n",
       "      <td>1402.758281</td>\n",
       "      <td>-500.120765</td>\n",
       "      <td>8.353697</td>\n",
       "      <td>4.013407</td>\n",
       "      <td>498.755837</td>\n",
       "      <td>72.476418</td>\n",
       "      <td>43.445836</td>\n",
       "      <td>8.345579</td>\n",
       "      <td>10.001816</td>\n",
       "      <td>5.597272</td>\n",
       "      <td>10.001796</td>\n",
       "      <td>5.611996</td>\n",
       "      <td>1000.429044</td>\n",
       "      <td>-350.050785</td>\n",
       "      <td>1349.662467</td>\n",
       "      <td>-399.820231</td>\n",
       "      <td>1350.121930</td>\n",
       "      <td>-399.334600</td>\n",
       "      <td>1297.578530</td>\n",
       "      <td>-398.095707</td>\n",
       "      <td>1102.301530</td>\n",
       "      <td>-399.421425</td>\n",
       "      <td>951.069653</td>\n",
       "      <td>-401.079692</td>\n",
       "      <td>25.100847</td>\n",
       "      <td>-500.700788</td>\n",
       "      <td>12.057571</td>\n",
       "      <td>-500.134346</td>\n",
       "      <td>19.973543</td>\n",
       "      <td>-498.635246</td>\n",
       "      <td>11.973403</td>\n",
       "      <td>-498.885523</td>\n",
       "      <td>12.040725</td>\n",
       "      <td>-499.987743</td>\n",
       "      <td>7.989503</td>\n",
       "      <td>-499.750625</td>\n",
       "      <td>7.989710</td>\n",
       "      <td>-509.946737</td>\n",
       "      <td>5.068811</td>\n",
       "      <td>-499.293900</td>\n",
       "      <td>24.992741</td>\n",
       "      <td>-499.272255</td>\n",
       "    </tr>\n",
       "  </tbody>\n",
       "</table>\n",
       "</div>"
      ],
      "text/plain": [
       "                     primary_cleaner.input.sulfate  \\\n",
       "date                                                 \n",
       "2016-09-01 00:59:59                     210.800909   \n",
       "2016-09-01 01:59:59                     215.392455   \n",
       "2016-09-01 02:59:59                     215.259946   \n",
       "2016-09-01 03:59:59                     215.336236   \n",
       "2016-09-01 04:59:59                     199.099327   \n",
       "2016-09-01 05:59:59                     168.485085   \n",
       "2016-09-01 06:59:59                     144.133440   \n",
       "2016-09-01 07:59:59                     133.513396   \n",
       "2016-09-01 08:59:59                     133.735356   \n",
       "2016-09-01 09:59:59                     126.961069   \n",
       "\n",
       "                     primary_cleaner.input.depressant  \\\n",
       "date                                                    \n",
       "2016-09-01 00:59:59                         14.993118   \n",
       "2016-09-01 01:59:59                         14.987471   \n",
       "2016-09-01 02:59:59                         12.884934   \n",
       "2016-09-01 03:59:59                         12.006805   \n",
       "2016-09-01 04:59:59                         10.682530   \n",
       "2016-09-01 05:59:59                          8.817007   \n",
       "2016-09-01 06:59:59                          7.924610   \n",
       "2016-09-01 07:59:59                          8.055252   \n",
       "2016-09-01 08:59:59                          7.999618   \n",
       "2016-09-01 09:59:59                          8.017856   \n",
       "\n",
       "                     primary_cleaner.input.feed_size  \\\n",
       "date                                                   \n",
       "2016-09-01 00:59:59                         8.080000   \n",
       "2016-09-01 01:59:59                         8.080000   \n",
       "2016-09-01 02:59:59                         7.786667   \n",
       "2016-09-01 03:59:59                         7.640000   \n",
       "2016-09-01 04:59:59                         7.530000   \n",
       "2016-09-01 05:59:59                         7.420000   \n",
       "2016-09-01 06:59:59                         7.420000   \n",
       "2016-09-01 07:59:59                         6.988000   \n",
       "2016-09-01 08:59:59                         6.935000   \n",
       "2016-09-01 09:59:59                         7.030000   \n",
       "\n",
       "                     primary_cleaner.input.xanthate  \\\n",
       "date                                                  \n",
       "2016-09-01 00:59:59                        1.005021   \n",
       "2016-09-01 01:59:59                        0.990469   \n",
       "2016-09-01 02:59:59                        0.996043   \n",
       "2016-09-01 03:59:59                        0.863514   \n",
       "2016-09-01 04:59:59                        0.805575   \n",
       "2016-09-01 05:59:59                        0.791191   \n",
       "2016-09-01 06:59:59                        0.788838   \n",
       "2016-09-01 07:59:59                        0.801871   \n",
       "2016-09-01 08:59:59                        0.789329   \n",
       "2016-09-01 09:59:59                        0.805298   \n",
       "\n",
       "                     primary_cleaner.state.floatbank8_a_air  \\\n",
       "date                                                          \n",
       "2016-09-01 00:59:59                             1398.981301   \n",
       "2016-09-01 01:59:59                             1398.777912   \n",
       "2016-09-01 02:59:59                             1398.493666   \n",
       "2016-09-01 03:59:59                             1399.618111   \n",
       "2016-09-01 04:59:59                             1401.268123   \n",
       "2016-09-01 05:59:59                             1402.826803   \n",
       "2016-09-01 06:59:59                             1398.252401   \n",
       "2016-09-01 07:59:59                             1401.669677   \n",
       "2016-09-01 08:59:59                             1402.358981   \n",
       "2016-09-01 09:59:59                             1400.816120   \n",
       "\n",
       "                     primary_cleaner.state.floatbank8_a_level  \\\n",
       "date                                                            \n",
       "2016-09-01 00:59:59                               -500.225577   \n",
       "2016-09-01 01:59:59                               -500.057435   \n",
       "2016-09-01 02:59:59                               -500.868360   \n",
       "2016-09-01 03:59:59                               -498.863574   \n",
       "2016-09-01 04:59:59                               -500.808305   \n",
       "2016-09-01 05:59:59                               -499.299521   \n",
       "2016-09-01 06:59:59                               -499.748672   \n",
       "2016-09-01 07:59:59                               -501.777839   \n",
       "2016-09-01 08:59:59                               -499.981597   \n",
       "2016-09-01 09:59:59                               -499.014158   \n",
       "\n",
       "                     primary_cleaner.state.floatbank8_b_air  \\\n",
       "date                                                          \n",
       "2016-09-01 00:59:59                             1399.144926   \n",
       "2016-09-01 01:59:59                             1398.055362   \n",
       "2016-09-01 02:59:59                             1398.860436   \n",
       "2016-09-01 03:59:59                             1397.440120   \n",
       "2016-09-01 04:59:59                             1398.128818   \n",
       "2016-09-01 05:59:59                             1401.511119   \n",
       "2016-09-01 06:59:59                             1393.255503   \n",
       "2016-09-01 07:59:59                             1400.754446   \n",
       "2016-09-01 08:59:59                             1400.985954   \n",
       "2016-09-01 09:59:59                             1399.975401   \n",
       "\n",
       "                     primary_cleaner.state.floatbank8_b_level  \\\n",
       "date                                                            \n",
       "2016-09-01 00:59:59                               -499.919735   \n",
       "2016-09-01 01:59:59                               -499.778182   \n",
       "2016-09-01 02:59:59                               -499.764529   \n",
       "2016-09-01 03:59:59                               -499.211024   \n",
       "2016-09-01 04:59:59                               -499.504543   \n",
       "2016-09-01 05:59:59                               -499.205357   \n",
       "2016-09-01 06:59:59                               -499.195380   \n",
       "2016-09-01 07:59:59                               -502.514024   \n",
       "2016-09-01 08:59:59                               -496.802968   \n",
       "2016-09-01 09:59:59                               -499.570552   \n",
       "\n",
       "                     primary_cleaner.state.floatbank8_c_air  \\\n",
       "date                                                          \n",
       "2016-09-01 00:59:59                             1400.102998   \n",
       "2016-09-01 01:59:59                             1396.151033   \n",
       "2016-09-01 02:59:59                             1398.075709   \n",
       "2016-09-01 03:59:59                             1400.129303   \n",
       "2016-09-01 04:59:59                             1402.172226   \n",
       "2016-09-01 05:59:59                             1404.088107   \n",
       "2016-09-01 06:59:59                             1396.738566   \n",
       "2016-09-01 07:59:59                             1400.465244   \n",
       "2016-09-01 08:59:59                             1401.168584   \n",
       "2016-09-01 09:59:59                             1401.871924   \n",
       "\n",
       "                     primary_cleaner.state.floatbank8_c_level  \\\n",
       "date                                                            \n",
       "2016-09-01 00:59:59                               -500.704369   \n",
       "2016-09-01 01:59:59                               -499.240168   \n",
       "2016-09-01 02:59:59                               -502.151509   \n",
       "2016-09-01 03:59:59                               -498.355873   \n",
       "2016-09-01 04:59:59                               -500.810606   \n",
       "2016-09-01 05:59:59                               -497.903666   \n",
       "2016-09-01 06:59:59                               -497.923683   \n",
       "2016-09-01 07:59:59                               -503.451306   \n",
       "2016-09-01 08:59:59                               -499.890350   \n",
       "2016-09-01 09:59:59                               -499.577934   \n",
       "\n",
       "                     primary_cleaner.state.floatbank8_d_air  \\\n",
       "date                                                          \n",
       "2016-09-01 00:59:59                             1399.001695   \n",
       "2016-09-01 01:59:59                             1399.508091   \n",
       "2016-09-01 02:59:59                             1399.497088   \n",
       "2016-09-01 03:59:59                             1401.065165   \n",
       "2016-09-01 04:59:59                             1399.480508   \n",
       "2016-09-01 05:59:59                             1400.479070   \n",
       "2016-09-01 06:59:59                             1399.535678   \n",
       "2016-09-01 07:59:59                             1398.546641   \n",
       "2016-09-01 08:59:59                             1402.934656   \n",
       "2016-09-01 09:59:59                             1402.758281   \n",
       "\n",
       "                     primary_cleaner.state.floatbank8_d_level  \\\n",
       "date                                                            \n",
       "2016-09-01 00:59:59                               -499.485144   \n",
       "2016-09-01 01:59:59                               -500.416324   \n",
       "2016-09-01 02:59:59                               -499.715479   \n",
       "2016-09-01 03:59:59                               -501.038738   \n",
       "2016-09-01 04:59:59                               -499.374053   \n",
       "2016-09-01 05:59:59                               -500.842752   \n",
       "2016-09-01 06:59:59                               -500.256895   \n",
       "2016-09-01 07:59:59                               -498.000544   \n",
       "2016-09-01 08:59:59                               -501.129108   \n",
       "2016-09-01 09:59:59                               -500.120765   \n",
       "\n",
       "                     rougher.input.feed_ag  rougher.input.feed_pb  \\\n",
       "date                                                                \n",
       "2016-09-01 00:59:59              13.128569               5.636710   \n",
       "2016-09-01 01:59:59              13.036280               5.526065   \n",
       "2016-09-01 02:59:59              13.138412               5.426561   \n",
       "2016-09-01 03:59:59              12.400507               5.114758   \n",
       "2016-09-01 04:59:59              11.327427               4.767383   \n",
       "2016-09-01 05:59:59               9.658909               4.290008   \n",
       "2016-09-01 06:59:59               8.902324               4.043502   \n",
       "2016-09-01 07:59:59               8.759385               4.036795   \n",
       "2016-09-01 08:59:59               8.603058               4.182064   \n",
       "2016-09-01 09:59:59               8.353697               4.013407   \n",
       "\n",
       "                     rougher.input.feed_rate  rougher.input.feed_size  \\\n",
       "date                                                                    \n",
       "2016-09-01 00:59:59               489.793655                62.710452   \n",
       "2016-09-01 01:59:59               490.104534                61.961163   \n",
       "2016-09-01 02:59:59               489.617969                66.903807   \n",
       "2016-09-01 03:59:59               476.618130                59.865919   \n",
       "2016-09-01 04:59:59               488.248117                63.315324   \n",
       "2016-09-01 05:59:59               490.908013                69.218255   \n",
       "2016-09-01 06:59:59               490.081681                75.856243   \n",
       "2016-09-01 07:59:59               489.121319                77.968131   \n",
       "2016-09-01 08:59:59               489.860555                75.846999   \n",
       "2016-09-01 09:59:59               498.755837                72.476418   \n",
       "\n",
       "                     rougher.input.feed_sol  rougher.input.feed_au  \\\n",
       "date                                                                 \n",
       "2016-09-01 00:59:59               42.022440              12.084103   \n",
       "2016-09-01 01:59:59               41.187903              11.918977   \n",
       "2016-09-01 02:59:59               42.546294              12.091332   \n",
       "2016-09-01 03:59:59               41.060195              12.181597   \n",
       "2016-09-01 04:59:59               41.269161              11.290425   \n",
       "2016-09-01 05:59:59               41.515115               9.779850   \n",
       "2016-09-01 06:59:59               43.157100               9.168984   \n",
       "2016-09-01 07:59:59               44.392272               9.116535   \n",
       "2016-09-01 08:59:59               45.022970               8.976052   \n",
       "2016-09-01 09:59:59               43.445836               8.345579   \n",
       "\n",
       "                     rougher.input.floatbank10_sulfate  \\\n",
       "date                                                     \n",
       "2016-09-01 00:59:59                          16.922877   \n",
       "2016-09-01 01:59:59                          17.002532   \n",
       "2016-09-01 02:59:59                          16.992520   \n",
       "2016-09-01 03:59:59                          16.532144   \n",
       "2016-09-01 04:59:59                          13.607257   \n",
       "2016-09-01 05:59:59                          10.696589   \n",
       "2016-09-01 06:59:59                          10.004265   \n",
       "2016-09-01 07:59:59                           9.999497   \n",
       "2016-09-01 08:59:59                          10.002345   \n",
       "2016-09-01 09:59:59                          10.001816   \n",
       "\n",
       "                     rougher.input.floatbank10_xanthate  \\\n",
       "date                                                      \n",
       "2016-09-01 00:59:59                            6.153479   \n",
       "2016-09-01 01:59:59                            5.999043   \n",
       "2016-09-01 02:59:59                            5.850632   \n",
       "2016-09-01 03:59:59                            5.801935   \n",
       "2016-09-01 04:59:59                            5.738081   \n",
       "2016-09-01 05:59:59                            5.596642   \n",
       "2016-09-01 06:59:59                            5.602029   \n",
       "2016-09-01 07:59:59                            5.604636   \n",
       "2016-09-01 08:59:59                            5.597465   \n",
       "2016-09-01 09:59:59                            5.597272   \n",
       "\n",
       "                     rougher.input.floatbank11_sulfate  \\\n",
       "date                                                     \n",
       "2016-09-01 00:59:59                          16.867518   \n",
       "2016-09-01 01:59:59                          16.996063   \n",
       "2016-09-01 02:59:59                          16.982096   \n",
       "2016-09-01 03:59:59                          16.515277   \n",
       "2016-09-01 04:59:59                          13.650053   \n",
       "2016-09-01 05:59:59                          10.699891   \n",
       "2016-09-01 06:59:59                          10.004993   \n",
       "2016-09-01 07:59:59                           9.998214   \n",
       "2016-09-01 08:59:59                           9.992438   \n",
       "2016-09-01 09:59:59                          10.001796   \n",
       "\n",
       "                     rougher.input.floatbank11_xanthate  \\\n",
       "date                                                      \n",
       "2016-09-01 00:59:59                            6.150709   \n",
       "2016-09-01 01:59:59                            6.002315   \n",
       "2016-09-01 02:59:59                            5.853594   \n",
       "2016-09-01 03:59:59                            5.803657   \n",
       "2016-09-01 04:59:59                            5.739634   \n",
       "2016-09-01 05:59:59                            5.597860   \n",
       "2016-09-01 06:59:59                            5.598335   \n",
       "2016-09-01 07:59:59                            5.601708   \n",
       "2016-09-01 08:59:59                            5.599358   \n",
       "2016-09-01 09:59:59                            5.611996   \n",
       "\n",
       "                     rougher.state.floatbank10_a_air  \\\n",
       "date                                                   \n",
       "2016-09-01 00:59:59                      1001.849317   \n",
       "2016-09-01 01:59:59                       998.690785   \n",
       "2016-09-01 02:59:59                       998.516720   \n",
       "2016-09-01 03:59:59                      1000.276604   \n",
       "2016-09-01 04:59:59                       996.541302   \n",
       "2016-09-01 05:59:59                       998.650980   \n",
       "2016-09-01 06:59:59                       999.686022   \n",
       "2016-09-01 07:59:59                       999.888294   \n",
       "2016-09-01 08:59:59                      1000.807159   \n",
       "2016-09-01 09:59:59                      1000.429044   \n",
       "\n",
       "                     rougher.state.floatbank10_a_level  \\\n",
       "date                                                     \n",
       "2016-09-01 00:59:59                        -350.301265   \n",
       "2016-09-01 01:59:59                        -350.425704   \n",
       "2016-09-01 02:59:59                        -349.783538   \n",
       "2016-09-01 03:59:59                        -350.172597   \n",
       "2016-09-01 04:59:59                        -350.562517   \n",
       "2016-09-01 05:59:59                        -349.659046   \n",
       "2016-09-01 06:59:59                        -350.086605   \n",
       "2016-09-01 07:59:59                        -350.889527   \n",
       "2016-09-01 08:59:59                        -349.470811   \n",
       "2016-09-01 09:59:59                        -350.050785   \n",
       "\n",
       "                     rougher.state.floatbank10_b_air  \\\n",
       "date                                                   \n",
       "2016-09-01 00:59:59                      1249.738612   \n",
       "2016-09-01 01:59:59                      1248.395457   \n",
       "2016-09-01 02:59:59                      1247.440748   \n",
       "2016-09-01 03:59:59                      1251.322675   \n",
       "2016-09-01 04:59:59                      1304.658848   \n",
       "2016-09-01 05:59:59                      1349.964264   \n",
       "2016-09-01 06:59:59                      1349.452840   \n",
       "2016-09-01 07:59:59                      1350.425833   \n",
       "2016-09-01 08:59:59                      1350.272285   \n",
       "2016-09-01 09:59:59                      1349.662467   \n",
       "\n",
       "                     rougher.state.floatbank10_b_level  \\\n",
       "date                                                     \n",
       "2016-09-01 00:59:59                        -399.107531   \n",
       "2016-09-01 01:59:59                        -399.946025   \n",
       "2016-09-01 02:59:59                        -400.264330   \n",
       "2016-09-01 03:59:59                        -398.655289   \n",
       "2016-09-01 04:59:59                        -399.511519   \n",
       "2016-09-01 05:59:59                        -399.393077   \n",
       "2016-09-01 06:59:59                        -400.372133   \n",
       "2016-09-01 07:59:59                        -400.665895   \n",
       "2016-09-01 08:59:59                        -399.528520   \n",
       "2016-09-01 09:59:59                        -399.820231   \n",
       "\n",
       "                     rougher.state.floatbank10_c_air  \\\n",
       "date                                                   \n",
       "2016-09-01 00:59:59                      1249.750520   \n",
       "2016-09-01 01:59:59                      1249.514451   \n",
       "2016-09-01 02:59:59                      1248.207204   \n",
       "2016-09-01 03:59:59                      1250.493702   \n",
       "2016-09-01 04:59:59                      1306.455515   \n",
       "2016-09-01 05:59:59                      1349.764702   \n",
       "2016-09-01 06:59:59                      1349.739875   \n",
       "2016-09-01 07:59:59                      1347.736470   \n",
       "2016-09-01 08:59:59                      1354.016617   \n",
       "2016-09-01 09:59:59                      1350.121930   \n",
       "\n",
       "                     rougher.state.floatbank10_c_level  \\\n",
       "date                                                     \n",
       "2016-09-01 00:59:59                        -399.396730   \n",
       "2016-09-01 01:59:59                        -399.630810   \n",
       "2016-09-01 02:59:59                        -401.074405   \n",
       "2016-09-01 03:59:59                        -399.746728   \n",
       "2016-09-01 04:59:59                        -399.050685   \n",
       "2016-09-01 05:59:59                        -399.233016   \n",
       "2016-09-01 06:59:59                        -400.045549   \n",
       "2016-09-01 07:59:59                        -401.850527   \n",
       "2016-09-01 08:59:59                        -399.401157   \n",
       "2016-09-01 09:59:59                        -399.334600   \n",
       "\n",
       "                     rougher.state.floatbank10_d_air  \\\n",
       "date                                                   \n",
       "2016-09-01 00:59:59                      1198.287855   \n",
       "2016-09-01 01:59:59                      1200.506459   \n",
       "2016-09-01 02:59:59                      1199.770026   \n",
       "2016-09-01 03:59:59                      1199.398691   \n",
       "2016-09-01 04:59:59                      1248.699349   \n",
       "2016-09-01 05:59:59                      1302.258827   \n",
       "2016-09-01 06:59:59                      1299.687671   \n",
       "2016-09-01 07:59:59                      1295.059918   \n",
       "2016-09-01 08:59:59                      1305.915847   \n",
       "2016-09-01 09:59:59                      1297.578530   \n",
       "\n",
       "                     rougher.state.floatbank10_d_level  \\\n",
       "date                                                     \n",
       "2016-09-01 00:59:59                        -399.488594   \n",
       "2016-09-01 01:59:59                        -399.942434   \n",
       "2016-09-01 02:59:59                        -400.790582   \n",
       "2016-09-01 03:59:59                        -397.503052   \n",
       "2016-09-01 04:59:59                        -400.876894   \n",
       "2016-09-01 05:59:59                        -399.946857   \n",
       "2016-09-01 06:59:59                        -399.981643   \n",
       "2016-09-01 07:59:59                        -404.880024   \n",
       "2016-09-01 08:59:59                        -395.740836   \n",
       "2016-09-01 09:59:59                        -398.095707   \n",
       "\n",
       "                     rougher.state.floatbank10_e_air  \\\n",
       "date                                                   \n",
       "2016-09-01 00:59:59                       999.472250   \n",
       "2016-09-01 01:59:59                      1000.002114   \n",
       "2016-09-01 02:59:59                       999.925519   \n",
       "2016-09-01 03:59:59                      1001.930679   \n",
       "2016-09-01 04:59:59                      1058.839106   \n",
       "2016-09-01 05:59:59                      1100.278629   \n",
       "2016-09-01 06:59:59                      1099.813504   \n",
       "2016-09-01 07:59:59                      1097.116527   \n",
       "2016-09-01 08:59:59                      1102.693258   \n",
       "2016-09-01 09:59:59                      1102.301530   \n",
       "\n",
       "                     rougher.state.floatbank10_e_level  \\\n",
       "date                                                     \n",
       "2016-09-01 00:59:59                        -399.530962   \n",
       "2016-09-01 01:59:59                        -399.491528   \n",
       "2016-09-01 02:59:59                        -399.236999   \n",
       "2016-09-01 03:59:59                        -400.437573   \n",
       "2016-09-01 04:59:59                        -398.988239   \n",
       "2016-09-01 05:59:59                        -399.742287   \n",
       "2016-09-01 06:59:59                        -400.249376   \n",
       "2016-09-01 07:59:59                        -399.280301   \n",
       "2016-09-01 08:59:59                        -401.384425   \n",
       "2016-09-01 09:59:59                        -399.421425   \n",
       "\n",
       "                     rougher.state.floatbank10_f_air  \\\n",
       "date                                                   \n",
       "2016-09-01 00:59:59                       949.566189   \n",
       "2016-09-01 01:59:59                       950.200009   \n",
       "2016-09-01 02:59:59                       950.320481   \n",
       "2016-09-01 03:59:59                       950.735324   \n",
       "2016-09-01 04:59:59                       949.645313   \n",
       "2016-09-01 05:59:59                       949.622431   \n",
       "2016-09-01 06:59:59                       949.798421   \n",
       "2016-09-01 07:59:59                       950.165809   \n",
       "2016-09-01 08:59:59                       950.082475   \n",
       "2016-09-01 09:59:59                       951.069653   \n",
       "\n",
       "                     rougher.state.floatbank10_f_level  \\\n",
       "date                                                     \n",
       "2016-09-01 00:59:59                        -398.180807   \n",
       "2016-09-01 01:59:59                        -405.787514   \n",
       "2016-09-01 02:59:59                        -400.864340   \n",
       "2016-09-01 03:59:59                        -399.802986   \n",
       "2016-09-01 04:59:59                        -399.277632   \n",
       "2016-09-01 05:59:59                        -399.096175   \n",
       "2016-09-01 06:59:59                        -400.710664   \n",
       "2016-09-01 07:59:59                        -399.217640   \n",
       "2016-09-01 08:59:59                        -400.682219   \n",
       "2016-09-01 09:59:59                        -401.079692   \n",
       "\n",
       "                     secondary_cleaner.state.floatbank2_a_air  \\\n",
       "date                                                            \n",
       "2016-09-01 00:59:59                                 24.938200   \n",
       "2016-09-01 01:59:59                                 24.923466   \n",
       "2016-09-01 02:59:59                                 24.908732   \n",
       "2016-09-01 03:59:59                                 24.893998   \n",
       "2016-09-01 04:59:59                                 24.886905   \n",
       "2016-09-01 05:59:59                                 24.920872   \n",
       "2016-09-01 06:59:59                                 24.966566   \n",
       "2016-09-01 07:59:59                                 25.057298   \n",
       "2016-09-01 08:59:59                                 25.034680   \n",
       "2016-09-01 09:59:59                                 25.100847   \n",
       "\n",
       "                     secondary_cleaner.state.floatbank2_a_level  \\\n",
       "date                                                              \n",
       "2016-09-01 00:59:59                                 -500.490963   \n",
       "2016-09-01 01:59:59                                 -499.813963   \n",
       "2016-09-01 02:59:59                                 -500.304035   \n",
       "2016-09-01 03:59:59                                 -499.382374   \n",
       "2016-09-01 04:59:59                                 -499.357375   \n",
       "2016-09-01 05:59:59                                 -500.006603   \n",
       "2016-09-01 06:59:59                                 -500.375242   \n",
       "2016-09-01 07:59:59                                 -500.516443   \n",
       "2016-09-01 08:59:59                                 -499.569715   \n",
       "2016-09-01 09:59:59                                 -500.700788   \n",
       "\n",
       "                     secondary_cleaner.state.floatbank2_b_air  \\\n",
       "date                                                            \n",
       "2016-09-01 00:59:59                                 14.947607   \n",
       "2016-09-01 01:59:59                                 14.930873   \n",
       "2016-09-01 02:59:59                                 14.996511   \n",
       "2016-09-01 03:59:59                                 14.916674   \n",
       "2016-09-01 04:59:59                                 14.979233   \n",
       "2016-09-01 05:59:59                                 14.916602   \n",
       "2016-09-01 06:59:59                                 12.573283   \n",
       "2016-09-01 07:59:59                                 11.919993   \n",
       "2016-09-01 08:59:59                                 11.988782   \n",
       "2016-09-01 09:59:59                                 12.057571   \n",
       "\n",
       "                     secondary_cleaner.state.floatbank2_b_level  \\\n",
       "date                                                              \n",
       "2016-09-01 00:59:59                                 -500.013837   \n",
       "2016-09-01 01:59:59                                 -500.764452   \n",
       "2016-09-01 02:59:59                                 -500.993821   \n",
       "2016-09-01 03:59:59                                 -499.862299   \n",
       "2016-09-01 04:59:59                                 -500.186804   \n",
       "2016-09-01 05:59:59                                 -499.899348   \n",
       "2016-09-01 06:59:59                                 -499.670366   \n",
       "2016-09-01 07:59:59                                 -500.141295   \n",
       "2016-09-01 08:59:59                                 -499.838657   \n",
       "2016-09-01 09:59:59                                 -500.134346   \n",
       "\n",
       "                     secondary_cleaner.state.floatbank3_a_air  \\\n",
       "date                                                            \n",
       "2016-09-01 00:59:59                                 20.018166   \n",
       "2016-09-01 01:59:59                                 19.988503   \n",
       "2016-09-01 02:59:59                                 20.039689   \n",
       "2016-09-01 03:59:59                                 20.031100   \n",
       "2016-09-01 04:59:59                                 19.962364   \n",
       "2016-09-01 05:59:59                                 20.019330   \n",
       "2016-09-01 06:59:59                                 19.959853   \n",
       "2016-09-01 07:59:59                                 20.091065   \n",
       "2016-09-01 08:59:59                                 19.980559   \n",
       "2016-09-01 09:59:59                                 19.973543   \n",
       "\n",
       "                     secondary_cleaner.state.floatbank3_a_level  \\\n",
       "date                                                              \n",
       "2016-09-01 00:59:59                                 -450.395995   \n",
       "2016-09-01 01:59:59                                 -450.114024   \n",
       "2016-09-01 02:59:59                                 -450.263164   \n",
       "2016-09-01 03:59:59                                 -449.372570   \n",
       "2016-09-01 04:59:59                                 -450.638828   \n",
       "2016-09-01 05:59:59                                 -449.836319   \n",
       "2016-09-01 06:59:59                                 -485.725045   \n",
       "2016-09-01 07:59:59                                 -500.162309   \n",
       "2016-09-01 08:59:59                                 -500.068733   \n",
       "2016-09-01 09:59:59                                 -498.635246   \n",
       "\n",
       "                     secondary_cleaner.state.floatbank3_b_air  \\\n",
       "date                                                            \n",
       "2016-09-01 00:59:59                                 13.987058   \n",
       "2016-09-01 01:59:59                                 14.092981   \n",
       "2016-09-01 02:59:59                                 14.077881   \n",
       "2016-09-01 03:59:59                                 14.013968   \n",
       "2016-09-01 04:59:59                                 14.009245   \n",
       "2016-09-01 05:59:59                                 14.041691   \n",
       "2016-09-01 06:59:59                                 12.465845   \n",
       "2016-09-01 07:59:59                                 11.935898   \n",
       "2016-09-01 08:59:59                                 12.079221   \n",
       "2016-09-01 09:59:59                                 11.973403   \n",
       "\n",
       "                     secondary_cleaner.state.floatbank3_b_level  \\\n",
       "date                                                              \n",
       "2016-09-01 00:59:59                                 -449.831513   \n",
       "2016-09-01 01:59:59                                 -450.059163   \n",
       "2016-09-01 02:59:59                                 -449.660997   \n",
       "2016-09-01 03:59:59                                 -449.526900   \n",
       "2016-09-01 04:59:59                                 -450.022259   \n",
       "2016-09-01 05:59:59                                 -450.185369   \n",
       "2016-09-01 06:59:59                                 -485.778583   \n",
       "2016-09-01 07:59:59                                 -500.116649   \n",
       "2016-09-01 08:59:59                                 -499.983683   \n",
       "2016-09-01 09:59:59                                 -498.885523   \n",
       "\n",
       "                     secondary_cleaner.state.floatbank4_a_air  \\\n",
       "date                                                            \n",
       "2016-09-01 00:59:59                                 12.023554   \n",
       "2016-09-01 01:59:59                                 12.058140   \n",
       "2016-09-01 02:59:59                                 11.962366   \n",
       "2016-09-01 03:59:59                                 12.033091   \n",
       "2016-09-01 04:59:59                                 12.025367   \n",
       "2016-09-01 05:59:59                                 12.029797   \n",
       "2016-09-01 06:59:59                                 12.026296   \n",
       "2016-09-01 07:59:59                                 12.040911   \n",
       "2016-09-01 08:59:59                                 11.998184   \n",
       "2016-09-01 09:59:59                                 12.040725   \n",
       "\n",
       "                     secondary_cleaner.state.floatbank4_a_level  \\\n",
       "date                                                              \n",
       "2016-09-01 00:59:59                                 -497.795834   \n",
       "2016-09-01 01:59:59                                 -498.695773   \n",
       "2016-09-01 02:59:59                                 -498.767484   \n",
       "2016-09-01 03:59:59                                 -498.350935   \n",
       "2016-09-01 04:59:59                                 -500.786497   \n",
       "2016-09-01 05:59:59                                 -499.814895   \n",
       "2016-09-01 06:59:59                                 -499.473127   \n",
       "2016-09-01 07:59:59                                 -501.293852   \n",
       "2016-09-01 08:59:59                                 -499.481608   \n",
       "2016-09-01 09:59:59                                 -499.987743   \n",
       "\n",
       "                     secondary_cleaner.state.floatbank4_b_air  \\\n",
       "date                                                            \n",
       "2016-09-01 00:59:59                                  8.016656   \n",
       "2016-09-01 01:59:59                                  8.130979   \n",
       "2016-09-01 02:59:59                                  8.096893   \n",
       "2016-09-01 03:59:59                                  8.074946   \n",
       "2016-09-01 04:59:59                                  8.054678   \n",
       "2016-09-01 05:59:59                                  8.036586   \n",
       "2016-09-01 06:59:59                                  8.027984   \n",
       "2016-09-01 07:59:59                                  8.020490   \n",
       "2016-09-01 08:59:59                                  8.012610   \n",
       "2016-09-01 09:59:59                                  7.989503   \n",
       "\n",
       "                     secondary_cleaner.state.floatbank4_b_level  \\\n",
       "date                                                              \n",
       "2016-09-01 00:59:59                                 -501.289139   \n",
       "2016-09-01 01:59:59                                 -499.634209   \n",
       "2016-09-01 02:59:59                                 -500.827423   \n",
       "2016-09-01 03:59:59                                 -499.474407   \n",
       "2016-09-01 04:59:59                                 -500.397500   \n",
       "2016-09-01 05:59:59                                 -500.371492   \n",
       "2016-09-01 06:59:59                                 -500.983079   \n",
       "2016-09-01 07:59:59                                 -499.185229   \n",
       "2016-09-01 08:59:59                                 -500.896783   \n",
       "2016-09-01 09:59:59                                 -499.750625   \n",
       "\n",
       "                     secondary_cleaner.state.floatbank5_a_air  \\\n",
       "date                                                            \n",
       "2016-09-01 00:59:59                                  7.946562   \n",
       "2016-09-01 01:59:59                                  7.958270   \n",
       "2016-09-01 02:59:59                                  8.071056   \n",
       "2016-09-01 03:59:59                                  7.897085   \n",
       "2016-09-01 04:59:59                                  8.107890   \n",
       "2016-09-01 05:59:59                                  8.041446   \n",
       "2016-09-01 06:59:59                                  7.907340   \n",
       "2016-09-01 07:59:59                                  8.116897   \n",
       "2016-09-01 08:59:59                                  7.974422   \n",
       "2016-09-01 09:59:59                                  7.989710   \n",
       "\n",
       "                     secondary_cleaner.state.floatbank5_a_level  \\\n",
       "date                                                              \n",
       "2016-09-01 00:59:59                                 -432.317850   \n",
       "2016-09-01 01:59:59                                 -525.839648   \n",
       "2016-09-01 02:59:59                                 -500.801673   \n",
       "2016-09-01 03:59:59                                 -500.868509   \n",
       "2016-09-01 04:59:59                                 -509.526725   \n",
       "2016-09-01 05:59:59                                 -510.037054   \n",
       "2016-09-01 06:59:59                                 -507.964971   \n",
       "2016-09-01 07:59:59                                 -511.927561   \n",
       "2016-09-01 08:59:59                                 -521.199104   \n",
       "2016-09-01 09:59:59                                 -509.946737   \n",
       "\n",
       "                     secondary_cleaner.state.floatbank5_b_air  \\\n",
       "date                                                            \n",
       "2016-09-01 00:59:59                                  4.872511   \n",
       "2016-09-01 01:59:59                                  4.878850   \n",
       "2016-09-01 02:59:59                                  4.905125   \n",
       "2016-09-01 03:59:59                                  4.931400   \n",
       "2016-09-01 04:59:59                                  4.957674   \n",
       "2016-09-01 05:59:59                                  4.983949   \n",
       "2016-09-01 06:59:59                                  5.010224   \n",
       "2016-09-01 07:59:59                                  5.036498   \n",
       "2016-09-01 08:59:59                                  5.061599   \n",
       "2016-09-01 09:59:59                                  5.068811   \n",
       "\n",
       "                     secondary_cleaner.state.floatbank5_b_level  \\\n",
       "date                                                              \n",
       "2016-09-01 00:59:59                                 -500.037437   \n",
       "2016-09-01 01:59:59                                 -500.162375   \n",
       "2016-09-01 02:59:59                                 -499.828510   \n",
       "2016-09-01 03:59:59                                 -499.963623   \n",
       "2016-09-01 04:59:59                                 -500.360026   \n",
       "2016-09-01 05:59:59                                 -499.990990   \n",
       "2016-09-01 06:59:59                                 -500.043697   \n",
       "2016-09-01 07:59:59                                 -500.149615   \n",
       "2016-09-01 08:59:59                                 -499.791519   \n",
       "2016-09-01 09:59:59                                 -499.293900   \n",
       "\n",
       "                     secondary_cleaner.state.floatbank6_a_air  \\\n",
       "date                                                            \n",
       "2016-09-01 00:59:59                                 26.705889   \n",
       "2016-09-01 01:59:59                                 25.019940   \n",
       "2016-09-01 02:59:59                                 24.994862   \n",
       "2016-09-01 03:59:59                                 24.948919   \n",
       "2016-09-01 04:59:59                                 25.003331   \n",
       "2016-09-01 05:59:59                                 24.978973   \n",
       "2016-09-01 06:59:59                                 25.040709   \n",
       "2016-09-01 07:59:59                                 25.032580   \n",
       "2016-09-01 08:59:59                                 25.005063   \n",
       "2016-09-01 09:59:59                                 24.992741   \n",
       "\n",
       "                     secondary_cleaner.state.floatbank6_a_level  \n",
       "date                                                             \n",
       "2016-09-01 00:59:59                                 -499.709414  \n",
       "2016-09-01 01:59:59                                 -499.819438  \n",
       "2016-09-01 02:59:59                                 -500.622559  \n",
       "2016-09-01 03:59:59                                 -498.709987  \n",
       "2016-09-01 04:59:59                                 -500.856333  \n",
       "2016-09-01 05:59:59                                 -500.475640  \n",
       "2016-09-01 06:59:59                                 -499.501984  \n",
       "2016-09-01 07:59:59                                 -503.970657  \n",
       "2016-09-01 08:59:59                                 -497.613716  \n",
       "2016-09-01 09:59:59                                 -499.272255  "
      ]
     },
     "metadata": {},
     "output_type": "display_data"
    },
    {
     "name": "stdout",
     "output_type": "stream",
     "text": [
      "Информация о таблице: Тестовая выборка\n",
      "<class 'pandas.core.frame.DataFrame'>\n",
      "Index: 5290 entries, 2016-09-01 00:59:59 to 2017-12-31 23:59:59\n",
      "Data columns (total 52 columns):\n",
      " #   Column                                      Non-Null Count  Dtype  \n",
      "---  ------                                      --------------  -----  \n",
      " 0   primary_cleaner.input.sulfate               5286 non-null   float64\n",
      " 1   primary_cleaner.input.depressant            5285 non-null   float64\n",
      " 2   primary_cleaner.input.feed_size             5290 non-null   float64\n",
      " 3   primary_cleaner.input.xanthate              5286 non-null   float64\n",
      " 4   primary_cleaner.state.floatbank8_a_air      5290 non-null   float64\n",
      " 5   primary_cleaner.state.floatbank8_a_level    5290 non-null   float64\n",
      " 6   primary_cleaner.state.floatbank8_b_air      5290 non-null   float64\n",
      " 7   primary_cleaner.state.floatbank8_b_level    5290 non-null   float64\n",
      " 8   primary_cleaner.state.floatbank8_c_air      5290 non-null   float64\n",
      " 9   primary_cleaner.state.floatbank8_c_level    5290 non-null   float64\n",
      " 10  primary_cleaner.state.floatbank8_d_air      5290 non-null   float64\n",
      " 11  primary_cleaner.state.floatbank8_d_level    5290 non-null   float64\n",
      " 12  rougher.input.feed_ag                       5290 non-null   float64\n",
      " 13  rougher.input.feed_pb                       5290 non-null   float64\n",
      " 14  rougher.input.feed_rate                     5287 non-null   float64\n",
      " 15  rougher.input.feed_size                     5289 non-null   float64\n",
      " 16  rougher.input.feed_sol                      5269 non-null   float64\n",
      " 17  rougher.input.feed_au                       5290 non-null   float64\n",
      " 18  rougher.input.floatbank10_sulfate           5285 non-null   float64\n",
      " 19  rougher.input.floatbank10_xanthate          5290 non-null   float64\n",
      " 20  rougher.input.floatbank11_sulfate           5282 non-null   float64\n",
      " 21  rougher.input.floatbank11_xanthate          5265 non-null   float64\n",
      " 22  rougher.state.floatbank10_a_air             5290 non-null   float64\n",
      " 23  rougher.state.floatbank10_a_level           5290 non-null   float64\n",
      " 24  rougher.state.floatbank10_b_air             5290 non-null   float64\n",
      " 25  rougher.state.floatbank10_b_level           5290 non-null   float64\n",
      " 26  rougher.state.floatbank10_c_air             5290 non-null   float64\n",
      " 27  rougher.state.floatbank10_c_level           5290 non-null   float64\n",
      " 28  rougher.state.floatbank10_d_air             5290 non-null   float64\n",
      " 29  rougher.state.floatbank10_d_level           5290 non-null   float64\n",
      " 30  rougher.state.floatbank10_e_air             5290 non-null   float64\n",
      " 31  rougher.state.floatbank10_e_level           5290 non-null   float64\n",
      " 32  rougher.state.floatbank10_f_air             5290 non-null   float64\n",
      " 33  rougher.state.floatbank10_f_level           5290 non-null   float64\n",
      " 34  secondary_cleaner.state.floatbank2_a_air    5287 non-null   float64\n",
      " 35  secondary_cleaner.state.floatbank2_a_level  5290 non-null   float64\n",
      " 36  secondary_cleaner.state.floatbank2_b_air    5288 non-null   float64\n",
      " 37  secondary_cleaner.state.floatbank2_b_level  5290 non-null   float64\n",
      " 38  secondary_cleaner.state.floatbank3_a_air    5281 non-null   float64\n",
      " 39  secondary_cleaner.state.floatbank3_a_level  5290 non-null   float64\n",
      " 40  secondary_cleaner.state.floatbank3_b_air    5290 non-null   float64\n",
      " 41  secondary_cleaner.state.floatbank3_b_level  5290 non-null   float64\n",
      " 42  secondary_cleaner.state.floatbank4_a_air    5290 non-null   float64\n",
      " 43  secondary_cleaner.state.floatbank4_a_level  5290 non-null   float64\n",
      " 44  secondary_cleaner.state.floatbank4_b_air    5290 non-null   float64\n",
      " 45  secondary_cleaner.state.floatbank4_b_level  5290 non-null   float64\n",
      " 46  secondary_cleaner.state.floatbank5_a_air    5290 non-null   float64\n",
      " 47  secondary_cleaner.state.floatbank5_a_level  5290 non-null   float64\n",
      " 48  secondary_cleaner.state.floatbank5_b_air    5290 non-null   float64\n",
      " 49  secondary_cleaner.state.floatbank5_b_level  5290 non-null   float64\n",
      " 50  secondary_cleaner.state.floatbank6_a_air    5290 non-null   float64\n",
      " 51  secondary_cleaner.state.floatbank6_a_level  5290 non-null   float64\n",
      "dtypes: float64(52)\n",
      "memory usage: 2.5 MB\n",
      "None\n",
      "Количество пропусков в таблице: Тестовая выборка\n",
      "primary_cleaner.input.sulfate                 0.000756\n",
      "primary_cleaner.input.depressant              0.000945\n",
      "primary_cleaner.input.feed_size               0.000000\n",
      "primary_cleaner.input.xanthate                0.000756\n",
      "primary_cleaner.state.floatbank8_a_air        0.000000\n",
      "primary_cleaner.state.floatbank8_a_level      0.000000\n",
      "primary_cleaner.state.floatbank8_b_air        0.000000\n",
      "primary_cleaner.state.floatbank8_b_level      0.000000\n",
      "primary_cleaner.state.floatbank8_c_air        0.000000\n",
      "primary_cleaner.state.floatbank8_c_level      0.000000\n",
      "primary_cleaner.state.floatbank8_d_air        0.000000\n",
      "primary_cleaner.state.floatbank8_d_level      0.000000\n",
      "rougher.input.feed_ag                         0.000000\n",
      "rougher.input.feed_pb                         0.000000\n",
      "rougher.input.feed_rate                       0.000567\n",
      "rougher.input.feed_size                       0.000189\n",
      "rougher.input.feed_sol                        0.003970\n",
      "rougher.input.feed_au                         0.000000\n",
      "rougher.input.floatbank10_sulfate             0.000945\n",
      "rougher.input.floatbank10_xanthate            0.000000\n",
      "rougher.input.floatbank11_sulfate             0.001512\n",
      "rougher.input.floatbank11_xanthate            0.004726\n",
      "rougher.state.floatbank10_a_air               0.000000\n",
      "rougher.state.floatbank10_a_level             0.000000\n",
      "rougher.state.floatbank10_b_air               0.000000\n",
      "rougher.state.floatbank10_b_level             0.000000\n",
      "rougher.state.floatbank10_c_air               0.000000\n",
      "rougher.state.floatbank10_c_level             0.000000\n",
      "rougher.state.floatbank10_d_air               0.000000\n",
      "rougher.state.floatbank10_d_level             0.000000\n",
      "rougher.state.floatbank10_e_air               0.000000\n",
      "rougher.state.floatbank10_e_level             0.000000\n",
      "rougher.state.floatbank10_f_air               0.000000\n",
      "rougher.state.floatbank10_f_level             0.000000\n",
      "secondary_cleaner.state.floatbank2_a_air      0.000567\n",
      "secondary_cleaner.state.floatbank2_a_level    0.000000\n",
      "secondary_cleaner.state.floatbank2_b_air      0.000378\n",
      "secondary_cleaner.state.floatbank2_b_level    0.000000\n",
      "secondary_cleaner.state.floatbank3_a_air      0.001701\n",
      "secondary_cleaner.state.floatbank3_a_level    0.000000\n",
      "secondary_cleaner.state.floatbank3_b_air      0.000000\n",
      "secondary_cleaner.state.floatbank3_b_level    0.000000\n",
      "secondary_cleaner.state.floatbank4_a_air      0.000000\n",
      "secondary_cleaner.state.floatbank4_a_level    0.000000\n",
      "secondary_cleaner.state.floatbank4_b_air      0.000000\n",
      "secondary_cleaner.state.floatbank4_b_level    0.000000\n",
      "secondary_cleaner.state.floatbank5_a_air      0.000000\n",
      "secondary_cleaner.state.floatbank5_a_level    0.000000\n",
      "secondary_cleaner.state.floatbank5_b_air      0.000000\n",
      "secondary_cleaner.state.floatbank5_b_level    0.000000\n",
      "secondary_cleaner.state.floatbank6_a_air      0.000000\n",
      "secondary_cleaner.state.floatbank6_a_level    0.000000\n",
      "dtype: float64\n",
      "Получение сводки по таблице: Тестовая выборка\n"
     ]
    },
    {
     "data": {
      "text/html": [
       "<div>\n",
       "<style scoped>\n",
       "    .dataframe tbody tr th:only-of-type {\n",
       "        vertical-align: middle;\n",
       "    }\n",
       "\n",
       "    .dataframe tbody tr th {\n",
       "        vertical-align: top;\n",
       "    }\n",
       "\n",
       "    .dataframe thead th {\n",
       "        text-align: right;\n",
       "    }\n",
       "</style>\n",
       "<table border=\"1\" class=\"dataframe\">\n",
       "  <thead>\n",
       "    <tr style=\"text-align: right;\">\n",
       "      <th></th>\n",
       "      <th>count</th>\n",
       "      <th>mean</th>\n",
       "      <th>std</th>\n",
       "      <th>min</th>\n",
       "      <th>25%</th>\n",
       "      <th>50%</th>\n",
       "      <th>75%</th>\n",
       "      <th>max</th>\n",
       "    </tr>\n",
       "  </thead>\n",
       "  <tbody>\n",
       "    <tr>\n",
       "      <th>primary_cleaner.input.sulfate</th>\n",
       "      <td>5286.0</td>\n",
       "      <td>174.839652</td>\n",
       "      <td>43.027080</td>\n",
       "      <td>2.566156e+00</td>\n",
       "      <td>147.121401</td>\n",
       "      <td>177.828489</td>\n",
       "      <td>208.125438</td>\n",
       "      <td>265.983123</td>\n",
       "    </tr>\n",
       "    <tr>\n",
       "      <th>primary_cleaner.input.depressant</th>\n",
       "      <td>5285.0</td>\n",
       "      <td>8.683596</td>\n",
       "      <td>3.072050</td>\n",
       "      <td>3.839482e-03</td>\n",
       "      <td>6.489555</td>\n",
       "      <td>8.052207</td>\n",
       "      <td>10.027764</td>\n",
       "      <td>40.000000</td>\n",
       "    </tr>\n",
       "    <tr>\n",
       "      <th>primary_cleaner.input.feed_size</th>\n",
       "      <td>5290.0</td>\n",
       "      <td>7.266339</td>\n",
       "      <td>0.610219</td>\n",
       "      <td>5.650000e+00</td>\n",
       "      <td>6.890000</td>\n",
       "      <td>7.250000</td>\n",
       "      <td>7.600000</td>\n",
       "      <td>15.500000</td>\n",
       "    </tr>\n",
       "    <tr>\n",
       "      <th>primary_cleaner.input.xanthate</th>\n",
       "      <td>5286.0</td>\n",
       "      <td>1.383803</td>\n",
       "      <td>0.643474</td>\n",
       "      <td>4.983673e-03</td>\n",
       "      <td>0.907623</td>\n",
       "      <td>1.197610</td>\n",
       "      <td>1.797819</td>\n",
       "      <td>4.102454</td>\n",
       "    </tr>\n",
       "    <tr>\n",
       "      <th>primary_cleaner.state.floatbank8_a_air</th>\n",
       "      <td>5290.0</td>\n",
       "      <td>1539.494325</td>\n",
       "      <td>116.797884</td>\n",
       "      <td>5.445860e-32</td>\n",
       "      <td>1498.935802</td>\n",
       "      <td>1585.129123</td>\n",
       "      <td>1602.076529</td>\n",
       "      <td>2103.103580</td>\n",
       "    </tr>\n",
       "    <tr>\n",
       "      <th>primary_cleaner.state.floatbank8_a_level</th>\n",
       "      <td>5290.0</td>\n",
       "      <td>-497.665883</td>\n",
       "      <td>19.952431</td>\n",
       "      <td>-7.953163e+02</td>\n",
       "      <td>-500.357298</td>\n",
       "      <td>-499.969164</td>\n",
       "      <td>-499.568951</td>\n",
       "      <td>-57.195404</td>\n",
       "    </tr>\n",
       "    <tr>\n",
       "      <th>primary_cleaner.state.floatbank8_b_air</th>\n",
       "      <td>5290.0</td>\n",
       "      <td>1545.174232</td>\n",
       "      <td>122.224588</td>\n",
       "      <td>6.647490e-32</td>\n",
       "      <td>1498.970993</td>\n",
       "      <td>1595.621798</td>\n",
       "      <td>1602.323545</td>\n",
       "      <td>1813.083671</td>\n",
       "    </tr>\n",
       "    <tr>\n",
       "      <th>primary_cleaner.state.floatbank8_b_level</th>\n",
       "      <td>5290.0</td>\n",
       "      <td>-500.273098</td>\n",
       "      <td>32.968307</td>\n",
       "      <td>-7.999970e+02</td>\n",
       "      <td>-500.703002</td>\n",
       "      <td>-500.028514</td>\n",
       "      <td>-499.293257</td>\n",
       "      <td>-142.527229</td>\n",
       "    </tr>\n",
       "    <tr>\n",
       "      <th>primary_cleaner.state.floatbank8_c_air</th>\n",
       "      <td>5290.0</td>\n",
       "      <td>1527.272362</td>\n",
       "      <td>122.538034</td>\n",
       "      <td>4.033736e-32</td>\n",
       "      <td>1473.229862</td>\n",
       "      <td>1549.594682</td>\n",
       "      <td>1601.143775</td>\n",
       "      <td>1715.053773</td>\n",
       "    </tr>\n",
       "    <tr>\n",
       "      <th>primary_cleaner.state.floatbank8_c_level</th>\n",
       "      <td>5290.0</td>\n",
       "      <td>-498.330680</td>\n",
       "      <td>21.964876</td>\n",
       "      <td>-7.999606e+02</td>\n",
       "      <td>-501.018117</td>\n",
       "      <td>-500.017711</td>\n",
       "      <td>-498.994130</td>\n",
       "      <td>-150.937035</td>\n",
       "    </tr>\n",
       "    <tr>\n",
       "      <th>primary_cleaner.state.floatbank8_d_air</th>\n",
       "      <td>5290.0</td>\n",
       "      <td>1544.844335</td>\n",
       "      <td>124.773081</td>\n",
       "      <td>4.039220e-32</td>\n",
       "      <td>1499.481404</td>\n",
       "      <td>1594.579112</td>\n",
       "      <td>1600.964772</td>\n",
       "      <td>1913.256561</td>\n",
       "    </tr>\n",
       "    <tr>\n",
       "      <th>primary_cleaner.state.floatbank8_d_level</th>\n",
       "      <td>5290.0</td>\n",
       "      <td>-500.199527</td>\n",
       "      <td>31.045257</td>\n",
       "      <td>-7.997943e+02</td>\n",
       "      <td>-500.452469</td>\n",
       "      <td>-500.023307</td>\n",
       "      <td>-499.607040</td>\n",
       "      <td>-158.950573</td>\n",
       "    </tr>\n",
       "    <tr>\n",
       "      <th>rougher.input.feed_ag</th>\n",
       "      <td>5290.0</td>\n",
       "      <td>9.371940</td>\n",
       "      <td>1.926264</td>\n",
       "      <td>5.684412e-01</td>\n",
       "      <td>8.112434</td>\n",
       "      <td>9.762654</td>\n",
       "      <td>10.652297</td>\n",
       "      <td>14.406130</td>\n",
       "    </tr>\n",
       "    <tr>\n",
       "      <th>rougher.input.feed_pb</th>\n",
       "      <td>5290.0</td>\n",
       "      <td>3.798082</td>\n",
       "      <td>0.954859</td>\n",
       "      <td>2.736769e-01</td>\n",
       "      <td>3.240251</td>\n",
       "      <td>3.740716</td>\n",
       "      <td>4.282634</td>\n",
       "      <td>6.905684</td>\n",
       "    </tr>\n",
       "    <tr>\n",
       "      <th>rougher.input.feed_rate</th>\n",
       "      <td>5287.0</td>\n",
       "      <td>489.800620</td>\n",
       "      <td>108.036326</td>\n",
       "      <td>2.985849e-03</td>\n",
       "      <td>407.020883</td>\n",
       "      <td>499.051440</td>\n",
       "      <td>575.307213</td>\n",
       "      <td>707.364020</td>\n",
       "    </tr>\n",
       "    <tr>\n",
       "      <th>rougher.input.feed_size</th>\n",
       "      <td>5289.0</td>\n",
       "      <td>55.951097</td>\n",
       "      <td>19.081758</td>\n",
       "      <td>4.636880e-02</td>\n",
       "      <td>43.906347</td>\n",
       "      <td>50.841029</td>\n",
       "      <td>62.431047</td>\n",
       "      <td>392.494040</td>\n",
       "    </tr>\n",
       "    <tr>\n",
       "      <th>rougher.input.feed_sol</th>\n",
       "      <td>5269.0</td>\n",
       "      <td>37.716648</td>\n",
       "      <td>5.491415</td>\n",
       "      <td>1.393488e+00</td>\n",
       "      <td>34.505576</td>\n",
       "      <td>37.980276</td>\n",
       "      <td>41.635385</td>\n",
       "      <td>53.477742</td>\n",
       "    </tr>\n",
       "    <tr>\n",
       "      <th>rougher.input.feed_au</th>\n",
       "      <td>5290.0</td>\n",
       "      <td>9.334682</td>\n",
       "      <td>1.619521</td>\n",
       "      <td>5.686322e-01</td>\n",
       "      <td>8.207814</td>\n",
       "      <td>9.593766</td>\n",
       "      <td>10.463538</td>\n",
       "      <td>13.731330</td>\n",
       "    </tr>\n",
       "    <tr>\n",
       "      <th>rougher.input.floatbank10_sulfate</th>\n",
       "      <td>5285.0</td>\n",
       "      <td>13.855759</td>\n",
       "      <td>3.350852</td>\n",
       "      <td>1.147460e-03</td>\n",
       "      <td>11.995006</td>\n",
       "      <td>14.003126</td>\n",
       "      <td>16.974284</td>\n",
       "      <td>24.280636</td>\n",
       "    </tr>\n",
       "    <tr>\n",
       "      <th>rougher.input.floatbank10_xanthate</th>\n",
       "      <td>5290.0</td>\n",
       "      <td>6.467745</td>\n",
       "      <td>1.065114</td>\n",
       "      <td>5.682328e-04</td>\n",
       "      <td>5.998779</td>\n",
       "      <td>6.498181</td>\n",
       "      <td>7.085457</td>\n",
       "      <td>8.910468</td>\n",
       "    </tr>\n",
       "    <tr>\n",
       "      <th>rougher.input.floatbank11_sulfate</th>\n",
       "      <td>5282.0</td>\n",
       "      <td>13.922328</td>\n",
       "      <td>3.223769</td>\n",
       "      <td>7.673764e-05</td>\n",
       "      <td>11.997200</td>\n",
       "      <td>14.004371</td>\n",
       "      <td>16.959671</td>\n",
       "      <td>24.280966</td>\n",
       "    </tr>\n",
       "    <tr>\n",
       "      <th>rougher.input.floatbank11_xanthate</th>\n",
       "      <td>5265.0</td>\n",
       "      <td>6.512103</td>\n",
       "      <td>0.886989</td>\n",
       "      <td>6.985269e-03</td>\n",
       "      <td>5.999157</td>\n",
       "      <td>6.498744</td>\n",
       "      <td>7.091808</td>\n",
       "      <td>8.621338</td>\n",
       "    </tr>\n",
       "    <tr>\n",
       "      <th>rougher.state.floatbank10_a_air</th>\n",
       "      <td>5290.0</td>\n",
       "      <td>1053.400166</td>\n",
       "      <td>121.139309</td>\n",
       "      <td>-4.206929e-02</td>\n",
       "      <td>999.205344</td>\n",
       "      <td>1000.472055</td>\n",
       "      <td>1006.254299</td>\n",
       "      <td>1423.274687</td>\n",
       "    </tr>\n",
       "    <tr>\n",
       "      <th>rougher.state.floatbank10_a_level</th>\n",
       "      <td>5290.0</td>\n",
       "      <td>-395.732530</td>\n",
       "      <td>91.085505</td>\n",
       "      <td>-6.579498e+02</td>\n",
       "      <td>-499.920565</td>\n",
       "      <td>-399.693363</td>\n",
       "      <td>-300.060056</td>\n",
       "      <td>-273.776101</td>\n",
       "    </tr>\n",
       "    <tr>\n",
       "      <th>rougher.state.floatbank10_b_air</th>\n",
       "      <td>5290.0</td>\n",
       "      <td>1318.926879</td>\n",
       "      <td>156.450366</td>\n",
       "      <td>-7.218064e-01</td>\n",
       "      <td>1200.871883</td>\n",
       "      <td>1302.254995</td>\n",
       "      <td>1433.955649</td>\n",
       "      <td>1706.640419</td>\n",
       "    </tr>\n",
       "    <tr>\n",
       "      <th>rougher.state.floatbank10_b_level</th>\n",
       "      <td>5290.0</td>\n",
       "      <td>-475.241428</td>\n",
       "      <td>45.649466</td>\n",
       "      <td>-6.502453e+02</td>\n",
       "      <td>-500.256114</td>\n",
       "      <td>-499.837803</td>\n",
       "      <td>-450.749619</td>\n",
       "      <td>-298.200051</td>\n",
       "    </tr>\n",
       "    <tr>\n",
       "      <th>rougher.state.floatbank10_c_air</th>\n",
       "      <td>5290.0</td>\n",
       "      <td>1301.595477</td>\n",
       "      <td>171.269667</td>\n",
       "      <td>-5.663551e-02</td>\n",
       "      <td>1199.651371</td>\n",
       "      <td>1300.202274</td>\n",
       "      <td>1406.594956</td>\n",
       "      <td>1731.017788</td>\n",
       "    </tr>\n",
       "    <tr>\n",
       "      <th>rougher.state.floatbank10_c_level</th>\n",
       "      <td>5290.0</td>\n",
       "      <td>-474.836671</td>\n",
       "      <td>45.859866</td>\n",
       "      <td>-6.475444e+02</td>\n",
       "      <td>-500.233831</td>\n",
       "      <td>-499.777222</td>\n",
       "      <td>-451.153188</td>\n",
       "      <td>-298.036852</td>\n",
       "    </tr>\n",
       "    <tr>\n",
       "      <th>rougher.state.floatbank10_d_air</th>\n",
       "      <td>5290.0</td>\n",
       "      <td>1214.847960</td>\n",
       "      <td>185.763319</td>\n",
       "      <td>-9.922190e-01</td>\n",
       "      <td>1093.368068</td>\n",
       "      <td>1207.014092</td>\n",
       "      <td>1391.497269</td>\n",
       "      <td>1775.218584</td>\n",
       "    </tr>\n",
       "    <tr>\n",
       "      <th>rougher.state.floatbank10_d_level</th>\n",
       "      <td>5290.0</td>\n",
       "      <td>-475.682272</td>\n",
       "      <td>47.844967</td>\n",
       "      <td>-6.483907e+02</td>\n",
       "      <td>-500.440610</td>\n",
       "      <td>-499.691917</td>\n",
       "      <td>-452.483463</td>\n",
       "      <td>-76.397327</td>\n",
       "    </tr>\n",
       "    <tr>\n",
       "      <th>rougher.state.floatbank10_e_air</th>\n",
       "      <td>5290.0</td>\n",
       "      <td>1056.648995</td>\n",
       "      <td>131.542839</td>\n",
       "      <td>-1.982295e+00</td>\n",
       "      <td>999.361403</td>\n",
       "      <td>1047.495449</td>\n",
       "      <td>1101.365315</td>\n",
       "      <td>1467.184843</td>\n",
       "    </tr>\n",
       "    <tr>\n",
       "      <th>rougher.state.floatbank10_e_level</th>\n",
       "      <td>5290.0</td>\n",
       "      <td>-469.029688</td>\n",
       "      <td>59.325990</td>\n",
       "      <td>-6.492675e+02</td>\n",
       "      <td>-500.190639</td>\n",
       "      <td>-499.765796</td>\n",
       "      <td>-450.957513</td>\n",
       "      <td>-139.753025</td>\n",
       "    </tr>\n",
       "    <tr>\n",
       "      <th>rougher.state.floatbank10_f_air</th>\n",
       "      <td>5290.0</td>\n",
       "      <td>997.949719</td>\n",
       "      <td>128.218869</td>\n",
       "      <td>-2.593390e+00</td>\n",
       "      <td>901.024994</td>\n",
       "      <td>999.441879</td>\n",
       "      <td>1050.433005</td>\n",
       "      <td>1476.588107</td>\n",
       "    </tr>\n",
       "    <tr>\n",
       "      <th>rougher.state.floatbank10_f_level</th>\n",
       "      <td>5290.0</td>\n",
       "      <td>-470.482465</td>\n",
       "      <td>60.759318</td>\n",
       "      <td>-6.499493e+02</td>\n",
       "      <td>-500.624783</td>\n",
       "      <td>-499.680986</td>\n",
       "      <td>-451.986460</td>\n",
       "      <td>-249.801043</td>\n",
       "    </tr>\n",
       "    <tr>\n",
       "      <th>secondary_cleaner.state.floatbank2_a_air</th>\n",
       "      <td>5287.0</td>\n",
       "      <td>26.312630</td>\n",
       "      <td>3.429852</td>\n",
       "      <td>2.053286e-01</td>\n",
       "      <td>24.942328</td>\n",
       "      <td>26.910569</td>\n",
       "      <td>28.091885</td>\n",
       "      <td>32.138727</td>\n",
       "    </tr>\n",
       "    <tr>\n",
       "      <th>secondary_cleaner.state.floatbank2_a_level</th>\n",
       "      <td>5290.0</td>\n",
       "      <td>-502.750897</td>\n",
       "      <td>28.756505</td>\n",
       "      <td>-7.840911e+02</td>\n",
       "      <td>-500.206517</td>\n",
       "      <td>-500.003902</td>\n",
       "      <td>-499.791639</td>\n",
       "      <td>-300.343670</td>\n",
       "    </tr>\n",
       "    <tr>\n",
       "      <th>secondary_cleaner.state.floatbank2_b_air</th>\n",
       "      <td>5288.0</td>\n",
       "      <td>21.949119</td>\n",
       "      <td>4.354961</td>\n",
       "      <td>6.063908e-03</td>\n",
       "      <td>20.002315</td>\n",
       "      <td>22.942603</td>\n",
       "      <td>24.985013</td>\n",
       "      <td>28.165864</td>\n",
       "    </tr>\n",
       "    <tr>\n",
       "      <th>secondary_cleaner.state.floatbank2_b_level</th>\n",
       "      <td>5290.0</td>\n",
       "      <td>-501.987097</td>\n",
       "      <td>34.582722</td>\n",
       "      <td>-7.977840e+02</td>\n",
       "      <td>-500.218030</td>\n",
       "      <td>-500.019058</td>\n",
       "      <td>-499.831532</td>\n",
       "      <td>-211.999273</td>\n",
       "    </tr>\n",
       "    <tr>\n",
       "      <th>secondary_cleaner.state.floatbank3_a_air</th>\n",
       "      <td>5281.0</td>\n",
       "      <td>25.402926</td>\n",
       "      <td>6.526457</td>\n",
       "      <td>0.000000e+00</td>\n",
       "      <td>22.982288</td>\n",
       "      <td>25.010105</td>\n",
       "      <td>30.002063</td>\n",
       "      <td>40.041997</td>\n",
       "    </tr>\n",
       "    <tr>\n",
       "      <th>secondary_cleaner.state.floatbank3_a_level</th>\n",
       "      <td>5290.0</td>\n",
       "      <td>-507.490314</td>\n",
       "      <td>47.620908</td>\n",
       "      <td>-7.997558e+02</td>\n",
       "      <td>-500.297951</td>\n",
       "      <td>-500.034578</td>\n",
       "      <td>-499.780163</td>\n",
       "      <td>-313.866425</td>\n",
       "    </tr>\n",
       "    <tr>\n",
       "      <th>secondary_cleaner.state.floatbank3_b_air</th>\n",
       "      <td>5290.0</td>\n",
       "      <td>20.982108</td>\n",
       "      <td>6.736179</td>\n",
       "      <td>1.521587e-17</td>\n",
       "      <td>17.967855</td>\n",
       "      <td>21.003164</td>\n",
       "      <td>26.976977</td>\n",
       "      <td>32.039365</td>\n",
       "    </tr>\n",
       "    <tr>\n",
       "      <th>secondary_cleaner.state.floatbank3_b_level</th>\n",
       "      <td>5290.0</td>\n",
       "      <td>-506.627916</td>\n",
       "      <td>44.528673</td>\n",
       "      <td>-8.093330e+02</td>\n",
       "      <td>-500.145128</td>\n",
       "      <td>-500.013819</td>\n",
       "      <td>-499.890608</td>\n",
       "      <td>-202.277366</td>\n",
       "    </tr>\n",
       "    <tr>\n",
       "      <th>secondary_cleaner.state.floatbank4_a_air</th>\n",
       "      <td>5290.0</td>\n",
       "      <td>16.320074</td>\n",
       "      <td>3.493583</td>\n",
       "      <td>1.079872e-16</td>\n",
       "      <td>14.036177</td>\n",
       "      <td>17.008468</td>\n",
       "      <td>18.038619</td>\n",
       "      <td>30.051797</td>\n",
       "    </tr>\n",
       "    <tr>\n",
       "      <th>secondary_cleaner.state.floatbank4_a_level</th>\n",
       "      <td>5290.0</td>\n",
       "      <td>-505.144570</td>\n",
       "      <td>31.427337</td>\n",
       "      <td>-7.997985e+02</td>\n",
       "      <td>-500.868258</td>\n",
       "      <td>-500.115727</td>\n",
       "      <td>-499.404224</td>\n",
       "      <td>-401.565212</td>\n",
       "    </tr>\n",
       "    <tr>\n",
       "      <th>secondary_cleaner.state.floatbank4_b_air</th>\n",
       "      <td>5290.0</td>\n",
       "      <td>13.735444</td>\n",
       "      <td>3.430484</td>\n",
       "      <td>2.489718e-17</td>\n",
       "      <td>12.028625</td>\n",
       "      <td>14.964860</td>\n",
       "      <td>15.962125</td>\n",
       "      <td>31.269706</td>\n",
       "    </tr>\n",
       "    <tr>\n",
       "      <th>secondary_cleaner.state.floatbank4_b_level</th>\n",
       "      <td>5290.0</td>\n",
       "      <td>-463.349858</td>\n",
       "      <td>86.189107</td>\n",
       "      <td>-8.008369e+02</td>\n",
       "      <td>-500.323028</td>\n",
       "      <td>-499.576513</td>\n",
       "      <td>-400.933805</td>\n",
       "      <td>-6.506986</td>\n",
       "    </tr>\n",
       "    <tr>\n",
       "      <th>secondary_cleaner.state.floatbank5_a_air</th>\n",
       "      <td>5290.0</td>\n",
       "      <td>12.804186</td>\n",
       "      <td>3.026591</td>\n",
       "      <td>6.922662e-02</td>\n",
       "      <td>10.914838</td>\n",
       "      <td>12.954182</td>\n",
       "      <td>15.097528</td>\n",
       "      <td>25.258848</td>\n",
       "    </tr>\n",
       "    <tr>\n",
       "      <th>secondary_cleaner.state.floatbank5_a_level</th>\n",
       "      <td>5290.0</td>\n",
       "      <td>-501.329122</td>\n",
       "      <td>17.951495</td>\n",
       "      <td>-7.973240e+02</td>\n",
       "      <td>-500.726841</td>\n",
       "      <td>-499.990332</td>\n",
       "      <td>-499.283191</td>\n",
       "      <td>-244.483566</td>\n",
       "    </tr>\n",
       "    <tr>\n",
       "      <th>secondary_cleaner.state.floatbank5_b_air</th>\n",
       "      <td>5290.0</td>\n",
       "      <td>9.881145</td>\n",
       "      <td>2.868205</td>\n",
       "      <td>5.280828e-01</td>\n",
       "      <td>8.036719</td>\n",
       "      <td>10.004301</td>\n",
       "      <td>11.997467</td>\n",
       "      <td>14.086866</td>\n",
       "    </tr>\n",
       "    <tr>\n",
       "      <th>secondary_cleaner.state.floatbank5_b_level</th>\n",
       "      <td>5290.0</td>\n",
       "      <td>-495.663398</td>\n",
       "      <td>34.535007</td>\n",
       "      <td>-8.002203e+02</td>\n",
       "      <td>-500.194668</td>\n",
       "      <td>-499.990535</td>\n",
       "      <td>-499.719913</td>\n",
       "      <td>-137.740004</td>\n",
       "    </tr>\n",
       "    <tr>\n",
       "      <th>secondary_cleaner.state.floatbank6_a_air</th>\n",
       "      <td>5290.0</td>\n",
       "      <td>17.304935</td>\n",
       "      <td>4.536544</td>\n",
       "      <td>-7.942623e-02</td>\n",
       "      <td>13.997317</td>\n",
       "      <td>16.014935</td>\n",
       "      <td>21.020013</td>\n",
       "      <td>26.705889</td>\n",
       "    </tr>\n",
       "    <tr>\n",
       "      <th>secondary_cleaner.state.floatbank6_a_level</th>\n",
       "      <td>5290.0</td>\n",
       "      <td>-501.793193</td>\n",
       "      <td>39.044215</td>\n",
       "      <td>-8.097415e+02</td>\n",
       "      <td>-500.690984</td>\n",
       "      <td>-500.007126</td>\n",
       "      <td>-499.373018</td>\n",
       "      <td>-123.307487</td>\n",
       "    </tr>\n",
       "  </tbody>\n",
       "</table>\n",
       "</div>"
      ],
      "text/plain": [
       "                                             count         mean         std  \\\n",
       "primary_cleaner.input.sulfate               5286.0   174.839652   43.027080   \n",
       "primary_cleaner.input.depressant            5285.0     8.683596    3.072050   \n",
       "primary_cleaner.input.feed_size             5290.0     7.266339    0.610219   \n",
       "primary_cleaner.input.xanthate              5286.0     1.383803    0.643474   \n",
       "primary_cleaner.state.floatbank8_a_air      5290.0  1539.494325  116.797884   \n",
       "primary_cleaner.state.floatbank8_a_level    5290.0  -497.665883   19.952431   \n",
       "primary_cleaner.state.floatbank8_b_air      5290.0  1545.174232  122.224588   \n",
       "primary_cleaner.state.floatbank8_b_level    5290.0  -500.273098   32.968307   \n",
       "primary_cleaner.state.floatbank8_c_air      5290.0  1527.272362  122.538034   \n",
       "primary_cleaner.state.floatbank8_c_level    5290.0  -498.330680   21.964876   \n",
       "primary_cleaner.state.floatbank8_d_air      5290.0  1544.844335  124.773081   \n",
       "primary_cleaner.state.floatbank8_d_level    5290.0  -500.199527   31.045257   \n",
       "rougher.input.feed_ag                       5290.0     9.371940    1.926264   \n",
       "rougher.input.feed_pb                       5290.0     3.798082    0.954859   \n",
       "rougher.input.feed_rate                     5287.0   489.800620  108.036326   \n",
       "rougher.input.feed_size                     5289.0    55.951097   19.081758   \n",
       "rougher.input.feed_sol                      5269.0    37.716648    5.491415   \n",
       "rougher.input.feed_au                       5290.0     9.334682    1.619521   \n",
       "rougher.input.floatbank10_sulfate           5285.0    13.855759    3.350852   \n",
       "rougher.input.floatbank10_xanthate          5290.0     6.467745    1.065114   \n",
       "rougher.input.floatbank11_sulfate           5282.0    13.922328    3.223769   \n",
       "rougher.input.floatbank11_xanthate          5265.0     6.512103    0.886989   \n",
       "rougher.state.floatbank10_a_air             5290.0  1053.400166  121.139309   \n",
       "rougher.state.floatbank10_a_level           5290.0  -395.732530   91.085505   \n",
       "rougher.state.floatbank10_b_air             5290.0  1318.926879  156.450366   \n",
       "rougher.state.floatbank10_b_level           5290.0  -475.241428   45.649466   \n",
       "rougher.state.floatbank10_c_air             5290.0  1301.595477  171.269667   \n",
       "rougher.state.floatbank10_c_level           5290.0  -474.836671   45.859866   \n",
       "rougher.state.floatbank10_d_air             5290.0  1214.847960  185.763319   \n",
       "rougher.state.floatbank10_d_level           5290.0  -475.682272   47.844967   \n",
       "rougher.state.floatbank10_e_air             5290.0  1056.648995  131.542839   \n",
       "rougher.state.floatbank10_e_level           5290.0  -469.029688   59.325990   \n",
       "rougher.state.floatbank10_f_air             5290.0   997.949719  128.218869   \n",
       "rougher.state.floatbank10_f_level           5290.0  -470.482465   60.759318   \n",
       "secondary_cleaner.state.floatbank2_a_air    5287.0    26.312630    3.429852   \n",
       "secondary_cleaner.state.floatbank2_a_level  5290.0  -502.750897   28.756505   \n",
       "secondary_cleaner.state.floatbank2_b_air    5288.0    21.949119    4.354961   \n",
       "secondary_cleaner.state.floatbank2_b_level  5290.0  -501.987097   34.582722   \n",
       "secondary_cleaner.state.floatbank3_a_air    5281.0    25.402926    6.526457   \n",
       "secondary_cleaner.state.floatbank3_a_level  5290.0  -507.490314   47.620908   \n",
       "secondary_cleaner.state.floatbank3_b_air    5290.0    20.982108    6.736179   \n",
       "secondary_cleaner.state.floatbank3_b_level  5290.0  -506.627916   44.528673   \n",
       "secondary_cleaner.state.floatbank4_a_air    5290.0    16.320074    3.493583   \n",
       "secondary_cleaner.state.floatbank4_a_level  5290.0  -505.144570   31.427337   \n",
       "secondary_cleaner.state.floatbank4_b_air    5290.0    13.735444    3.430484   \n",
       "secondary_cleaner.state.floatbank4_b_level  5290.0  -463.349858   86.189107   \n",
       "secondary_cleaner.state.floatbank5_a_air    5290.0    12.804186    3.026591   \n",
       "secondary_cleaner.state.floatbank5_a_level  5290.0  -501.329122   17.951495   \n",
       "secondary_cleaner.state.floatbank5_b_air    5290.0     9.881145    2.868205   \n",
       "secondary_cleaner.state.floatbank5_b_level  5290.0  -495.663398   34.535007   \n",
       "secondary_cleaner.state.floatbank6_a_air    5290.0    17.304935    4.536544   \n",
       "secondary_cleaner.state.floatbank6_a_level  5290.0  -501.793193   39.044215   \n",
       "\n",
       "                                                     min          25%  \\\n",
       "primary_cleaner.input.sulfate               2.566156e+00   147.121401   \n",
       "primary_cleaner.input.depressant            3.839482e-03     6.489555   \n",
       "primary_cleaner.input.feed_size             5.650000e+00     6.890000   \n",
       "primary_cleaner.input.xanthate              4.983673e-03     0.907623   \n",
       "primary_cleaner.state.floatbank8_a_air      5.445860e-32  1498.935802   \n",
       "primary_cleaner.state.floatbank8_a_level   -7.953163e+02  -500.357298   \n",
       "primary_cleaner.state.floatbank8_b_air      6.647490e-32  1498.970993   \n",
       "primary_cleaner.state.floatbank8_b_level   -7.999970e+02  -500.703002   \n",
       "primary_cleaner.state.floatbank8_c_air      4.033736e-32  1473.229862   \n",
       "primary_cleaner.state.floatbank8_c_level   -7.999606e+02  -501.018117   \n",
       "primary_cleaner.state.floatbank8_d_air      4.039220e-32  1499.481404   \n",
       "primary_cleaner.state.floatbank8_d_level   -7.997943e+02  -500.452469   \n",
       "rougher.input.feed_ag                       5.684412e-01     8.112434   \n",
       "rougher.input.feed_pb                       2.736769e-01     3.240251   \n",
       "rougher.input.feed_rate                     2.985849e-03   407.020883   \n",
       "rougher.input.feed_size                     4.636880e-02    43.906347   \n",
       "rougher.input.feed_sol                      1.393488e+00    34.505576   \n",
       "rougher.input.feed_au                       5.686322e-01     8.207814   \n",
       "rougher.input.floatbank10_sulfate           1.147460e-03    11.995006   \n",
       "rougher.input.floatbank10_xanthate          5.682328e-04     5.998779   \n",
       "rougher.input.floatbank11_sulfate           7.673764e-05    11.997200   \n",
       "rougher.input.floatbank11_xanthate          6.985269e-03     5.999157   \n",
       "rougher.state.floatbank10_a_air            -4.206929e-02   999.205344   \n",
       "rougher.state.floatbank10_a_level          -6.579498e+02  -499.920565   \n",
       "rougher.state.floatbank10_b_air            -7.218064e-01  1200.871883   \n",
       "rougher.state.floatbank10_b_level          -6.502453e+02  -500.256114   \n",
       "rougher.state.floatbank10_c_air            -5.663551e-02  1199.651371   \n",
       "rougher.state.floatbank10_c_level          -6.475444e+02  -500.233831   \n",
       "rougher.state.floatbank10_d_air            -9.922190e-01  1093.368068   \n",
       "rougher.state.floatbank10_d_level          -6.483907e+02  -500.440610   \n",
       "rougher.state.floatbank10_e_air            -1.982295e+00   999.361403   \n",
       "rougher.state.floatbank10_e_level          -6.492675e+02  -500.190639   \n",
       "rougher.state.floatbank10_f_air            -2.593390e+00   901.024994   \n",
       "rougher.state.floatbank10_f_level          -6.499493e+02  -500.624783   \n",
       "secondary_cleaner.state.floatbank2_a_air    2.053286e-01    24.942328   \n",
       "secondary_cleaner.state.floatbank2_a_level -7.840911e+02  -500.206517   \n",
       "secondary_cleaner.state.floatbank2_b_air    6.063908e-03    20.002315   \n",
       "secondary_cleaner.state.floatbank2_b_level -7.977840e+02  -500.218030   \n",
       "secondary_cleaner.state.floatbank3_a_air    0.000000e+00    22.982288   \n",
       "secondary_cleaner.state.floatbank3_a_level -7.997558e+02  -500.297951   \n",
       "secondary_cleaner.state.floatbank3_b_air    1.521587e-17    17.967855   \n",
       "secondary_cleaner.state.floatbank3_b_level -8.093330e+02  -500.145128   \n",
       "secondary_cleaner.state.floatbank4_a_air    1.079872e-16    14.036177   \n",
       "secondary_cleaner.state.floatbank4_a_level -7.997985e+02  -500.868258   \n",
       "secondary_cleaner.state.floatbank4_b_air    2.489718e-17    12.028625   \n",
       "secondary_cleaner.state.floatbank4_b_level -8.008369e+02  -500.323028   \n",
       "secondary_cleaner.state.floatbank5_a_air    6.922662e-02    10.914838   \n",
       "secondary_cleaner.state.floatbank5_a_level -7.973240e+02  -500.726841   \n",
       "secondary_cleaner.state.floatbank5_b_air    5.280828e-01     8.036719   \n",
       "secondary_cleaner.state.floatbank5_b_level -8.002203e+02  -500.194668   \n",
       "secondary_cleaner.state.floatbank6_a_air   -7.942623e-02    13.997317   \n",
       "secondary_cleaner.state.floatbank6_a_level -8.097415e+02  -500.690984   \n",
       "\n",
       "                                                    50%          75%  \\\n",
       "primary_cleaner.input.sulfate                177.828489   208.125438   \n",
       "primary_cleaner.input.depressant               8.052207    10.027764   \n",
       "primary_cleaner.input.feed_size                7.250000     7.600000   \n",
       "primary_cleaner.input.xanthate                 1.197610     1.797819   \n",
       "primary_cleaner.state.floatbank8_a_air      1585.129123  1602.076529   \n",
       "primary_cleaner.state.floatbank8_a_level    -499.969164  -499.568951   \n",
       "primary_cleaner.state.floatbank8_b_air      1595.621798  1602.323545   \n",
       "primary_cleaner.state.floatbank8_b_level    -500.028514  -499.293257   \n",
       "primary_cleaner.state.floatbank8_c_air      1549.594682  1601.143775   \n",
       "primary_cleaner.state.floatbank8_c_level    -500.017711  -498.994130   \n",
       "primary_cleaner.state.floatbank8_d_air      1594.579112  1600.964772   \n",
       "primary_cleaner.state.floatbank8_d_level    -500.023307  -499.607040   \n",
       "rougher.input.feed_ag                          9.762654    10.652297   \n",
       "rougher.input.feed_pb                          3.740716     4.282634   \n",
       "rougher.input.feed_rate                      499.051440   575.307213   \n",
       "rougher.input.feed_size                       50.841029    62.431047   \n",
       "rougher.input.feed_sol                        37.980276    41.635385   \n",
       "rougher.input.feed_au                          9.593766    10.463538   \n",
       "rougher.input.floatbank10_sulfate             14.003126    16.974284   \n",
       "rougher.input.floatbank10_xanthate             6.498181     7.085457   \n",
       "rougher.input.floatbank11_sulfate             14.004371    16.959671   \n",
       "rougher.input.floatbank11_xanthate             6.498744     7.091808   \n",
       "rougher.state.floatbank10_a_air             1000.472055  1006.254299   \n",
       "rougher.state.floatbank10_a_level           -399.693363  -300.060056   \n",
       "rougher.state.floatbank10_b_air             1302.254995  1433.955649   \n",
       "rougher.state.floatbank10_b_level           -499.837803  -450.749619   \n",
       "rougher.state.floatbank10_c_air             1300.202274  1406.594956   \n",
       "rougher.state.floatbank10_c_level           -499.777222  -451.153188   \n",
       "rougher.state.floatbank10_d_air             1207.014092  1391.497269   \n",
       "rougher.state.floatbank10_d_level           -499.691917  -452.483463   \n",
       "rougher.state.floatbank10_e_air             1047.495449  1101.365315   \n",
       "rougher.state.floatbank10_e_level           -499.765796  -450.957513   \n",
       "rougher.state.floatbank10_f_air              999.441879  1050.433005   \n",
       "rougher.state.floatbank10_f_level           -499.680986  -451.986460   \n",
       "secondary_cleaner.state.floatbank2_a_air      26.910569    28.091885   \n",
       "secondary_cleaner.state.floatbank2_a_level  -500.003902  -499.791639   \n",
       "secondary_cleaner.state.floatbank2_b_air      22.942603    24.985013   \n",
       "secondary_cleaner.state.floatbank2_b_level  -500.019058  -499.831532   \n",
       "secondary_cleaner.state.floatbank3_a_air      25.010105    30.002063   \n",
       "secondary_cleaner.state.floatbank3_a_level  -500.034578  -499.780163   \n",
       "secondary_cleaner.state.floatbank3_b_air      21.003164    26.976977   \n",
       "secondary_cleaner.state.floatbank3_b_level  -500.013819  -499.890608   \n",
       "secondary_cleaner.state.floatbank4_a_air      17.008468    18.038619   \n",
       "secondary_cleaner.state.floatbank4_a_level  -500.115727  -499.404224   \n",
       "secondary_cleaner.state.floatbank4_b_air      14.964860    15.962125   \n",
       "secondary_cleaner.state.floatbank4_b_level  -499.576513  -400.933805   \n",
       "secondary_cleaner.state.floatbank5_a_air      12.954182    15.097528   \n",
       "secondary_cleaner.state.floatbank5_a_level  -499.990332  -499.283191   \n",
       "secondary_cleaner.state.floatbank5_b_air      10.004301    11.997467   \n",
       "secondary_cleaner.state.floatbank5_b_level  -499.990535  -499.719913   \n",
       "secondary_cleaner.state.floatbank6_a_air      16.014935    21.020013   \n",
       "secondary_cleaner.state.floatbank6_a_level  -500.007126  -499.373018   \n",
       "\n",
       "                                                    max  \n",
       "primary_cleaner.input.sulfate                265.983123  \n",
       "primary_cleaner.input.depressant              40.000000  \n",
       "primary_cleaner.input.feed_size               15.500000  \n",
       "primary_cleaner.input.xanthate                 4.102454  \n",
       "primary_cleaner.state.floatbank8_a_air      2103.103580  \n",
       "primary_cleaner.state.floatbank8_a_level     -57.195404  \n",
       "primary_cleaner.state.floatbank8_b_air      1813.083671  \n",
       "primary_cleaner.state.floatbank8_b_level    -142.527229  \n",
       "primary_cleaner.state.floatbank8_c_air      1715.053773  \n",
       "primary_cleaner.state.floatbank8_c_level    -150.937035  \n",
       "primary_cleaner.state.floatbank8_d_air      1913.256561  \n",
       "primary_cleaner.state.floatbank8_d_level    -158.950573  \n",
       "rougher.input.feed_ag                         14.406130  \n",
       "rougher.input.feed_pb                          6.905684  \n",
       "rougher.input.feed_rate                      707.364020  \n",
       "rougher.input.feed_size                      392.494040  \n",
       "rougher.input.feed_sol                        53.477742  \n",
       "rougher.input.feed_au                         13.731330  \n",
       "rougher.input.floatbank10_sulfate             24.280636  \n",
       "rougher.input.floatbank10_xanthate             8.910468  \n",
       "rougher.input.floatbank11_sulfate             24.280966  \n",
       "rougher.input.floatbank11_xanthate             8.621338  \n",
       "rougher.state.floatbank10_a_air             1423.274687  \n",
       "rougher.state.floatbank10_a_level           -273.776101  \n",
       "rougher.state.floatbank10_b_air             1706.640419  \n",
       "rougher.state.floatbank10_b_level           -298.200051  \n",
       "rougher.state.floatbank10_c_air             1731.017788  \n",
       "rougher.state.floatbank10_c_level           -298.036852  \n",
       "rougher.state.floatbank10_d_air             1775.218584  \n",
       "rougher.state.floatbank10_d_level            -76.397327  \n",
       "rougher.state.floatbank10_e_air             1467.184843  \n",
       "rougher.state.floatbank10_e_level           -139.753025  \n",
       "rougher.state.floatbank10_f_air             1476.588107  \n",
       "rougher.state.floatbank10_f_level           -249.801043  \n",
       "secondary_cleaner.state.floatbank2_a_air      32.138727  \n",
       "secondary_cleaner.state.floatbank2_a_level  -300.343670  \n",
       "secondary_cleaner.state.floatbank2_b_air      28.165864  \n",
       "secondary_cleaner.state.floatbank2_b_level  -211.999273  \n",
       "secondary_cleaner.state.floatbank3_a_air      40.041997  \n",
       "secondary_cleaner.state.floatbank3_a_level  -313.866425  \n",
       "secondary_cleaner.state.floatbank3_b_air      32.039365  \n",
       "secondary_cleaner.state.floatbank3_b_level  -202.277366  \n",
       "secondary_cleaner.state.floatbank4_a_air      30.051797  \n",
       "secondary_cleaner.state.floatbank4_a_level  -401.565212  \n",
       "secondary_cleaner.state.floatbank4_b_air      31.269706  \n",
       "secondary_cleaner.state.floatbank4_b_level    -6.506986  \n",
       "secondary_cleaner.state.floatbank5_a_air      25.258848  \n",
       "secondary_cleaner.state.floatbank5_a_level  -244.483566  \n",
       "secondary_cleaner.state.floatbank5_b_air      14.086866  \n",
       "secondary_cleaner.state.floatbank5_b_level  -137.740004  \n",
       "secondary_cleaner.state.floatbank6_a_air      26.705889  \n",
       "secondary_cleaner.state.floatbank6_a_level  -123.307487  "
      ]
     },
     "metadata": {},
     "output_type": "display_data"
    },
    {
     "name": "stdout",
     "output_type": "stream",
     "text": [
      "Количество дубликатов в таблице Тестовая выборка : 0\n"
     ]
    }
   ],
   "source": [
    "describe_data(test)"
   ]
  },
  {
   "cell_type": "code",
   "execution_count": 7,
   "metadata": {
    "scrolled": true
   },
   "outputs": [
    {
     "name": "stdout",
     "output_type": "stream",
     "text": [
      "Первые 10 строк таблицы: Исходные данные\n"
     ]
    },
    {
     "data": {
      "text/html": [
       "<div>\n",
       "<style scoped>\n",
       "    .dataframe tbody tr th:only-of-type {\n",
       "        vertical-align: middle;\n",
       "    }\n",
       "\n",
       "    .dataframe tbody tr th {\n",
       "        vertical-align: top;\n",
       "    }\n",
       "\n",
       "    .dataframe thead th {\n",
       "        text-align: right;\n",
       "    }\n",
       "</style>\n",
       "<table border=\"1\" class=\"dataframe\">\n",
       "  <thead>\n",
       "    <tr style=\"text-align: right;\">\n",
       "      <th></th>\n",
       "      <th>final.output.concentrate_ag</th>\n",
       "      <th>final.output.concentrate_pb</th>\n",
       "      <th>final.output.concentrate_sol</th>\n",
       "      <th>final.output.concentrate_au</th>\n",
       "      <th>final.output.recovery</th>\n",
       "      <th>final.output.tail_ag</th>\n",
       "      <th>final.output.tail_pb</th>\n",
       "      <th>final.output.tail_sol</th>\n",
       "      <th>final.output.tail_au</th>\n",
       "      <th>primary_cleaner.input.sulfate</th>\n",
       "      <th>primary_cleaner.input.depressant</th>\n",
       "      <th>primary_cleaner.input.feed_size</th>\n",
       "      <th>primary_cleaner.input.xanthate</th>\n",
       "      <th>primary_cleaner.output.concentrate_ag</th>\n",
       "      <th>primary_cleaner.output.concentrate_pb</th>\n",
       "      <th>primary_cleaner.output.concentrate_sol</th>\n",
       "      <th>primary_cleaner.output.concentrate_au</th>\n",
       "      <th>primary_cleaner.output.tail_ag</th>\n",
       "      <th>primary_cleaner.output.tail_pb</th>\n",
       "      <th>primary_cleaner.output.tail_sol</th>\n",
       "      <th>primary_cleaner.output.tail_au</th>\n",
       "      <th>primary_cleaner.state.floatbank8_a_air</th>\n",
       "      <th>primary_cleaner.state.floatbank8_a_level</th>\n",
       "      <th>primary_cleaner.state.floatbank8_b_air</th>\n",
       "      <th>primary_cleaner.state.floatbank8_b_level</th>\n",
       "      <th>primary_cleaner.state.floatbank8_c_air</th>\n",
       "      <th>primary_cleaner.state.floatbank8_c_level</th>\n",
       "      <th>primary_cleaner.state.floatbank8_d_air</th>\n",
       "      <th>primary_cleaner.state.floatbank8_d_level</th>\n",
       "      <th>rougher.calculation.sulfate_to_au_concentrate</th>\n",
       "      <th>rougher.calculation.floatbank10_sulfate_to_au_feed</th>\n",
       "      <th>rougher.calculation.floatbank11_sulfate_to_au_feed</th>\n",
       "      <th>rougher.calculation.au_pb_ratio</th>\n",
       "      <th>rougher.input.feed_ag</th>\n",
       "      <th>rougher.input.feed_pb</th>\n",
       "      <th>rougher.input.feed_rate</th>\n",
       "      <th>rougher.input.feed_size</th>\n",
       "      <th>rougher.input.feed_sol</th>\n",
       "      <th>rougher.input.feed_au</th>\n",
       "      <th>rougher.input.floatbank10_sulfate</th>\n",
       "      <th>rougher.input.floatbank10_xanthate</th>\n",
       "      <th>rougher.input.floatbank11_sulfate</th>\n",
       "      <th>rougher.input.floatbank11_xanthate</th>\n",
       "      <th>rougher.output.concentrate_ag</th>\n",
       "      <th>rougher.output.concentrate_pb</th>\n",
       "      <th>rougher.output.concentrate_sol</th>\n",
       "      <th>rougher.output.concentrate_au</th>\n",
       "      <th>rougher.output.recovery</th>\n",
       "      <th>rougher.output.tail_ag</th>\n",
       "      <th>rougher.output.tail_pb</th>\n",
       "      <th>rougher.output.tail_sol</th>\n",
       "      <th>rougher.output.tail_au</th>\n",
       "      <th>rougher.state.floatbank10_a_air</th>\n",
       "      <th>rougher.state.floatbank10_a_level</th>\n",
       "      <th>rougher.state.floatbank10_b_air</th>\n",
       "      <th>rougher.state.floatbank10_b_level</th>\n",
       "      <th>rougher.state.floatbank10_c_air</th>\n",
       "      <th>rougher.state.floatbank10_c_level</th>\n",
       "      <th>rougher.state.floatbank10_d_air</th>\n",
       "      <th>rougher.state.floatbank10_d_level</th>\n",
       "      <th>rougher.state.floatbank10_e_air</th>\n",
       "      <th>rougher.state.floatbank10_e_level</th>\n",
       "      <th>rougher.state.floatbank10_f_air</th>\n",
       "      <th>rougher.state.floatbank10_f_level</th>\n",
       "      <th>secondary_cleaner.output.tail_ag</th>\n",
       "      <th>secondary_cleaner.output.tail_pb</th>\n",
       "      <th>secondary_cleaner.output.tail_sol</th>\n",
       "      <th>secondary_cleaner.output.tail_au</th>\n",
       "      <th>secondary_cleaner.state.floatbank2_a_air</th>\n",
       "      <th>secondary_cleaner.state.floatbank2_a_level</th>\n",
       "      <th>secondary_cleaner.state.floatbank2_b_air</th>\n",
       "      <th>secondary_cleaner.state.floatbank2_b_level</th>\n",
       "      <th>secondary_cleaner.state.floatbank3_a_air</th>\n",
       "      <th>secondary_cleaner.state.floatbank3_a_level</th>\n",
       "      <th>secondary_cleaner.state.floatbank3_b_air</th>\n",
       "      <th>secondary_cleaner.state.floatbank3_b_level</th>\n",
       "      <th>secondary_cleaner.state.floatbank4_a_air</th>\n",
       "      <th>secondary_cleaner.state.floatbank4_a_level</th>\n",
       "      <th>secondary_cleaner.state.floatbank4_b_air</th>\n",
       "      <th>secondary_cleaner.state.floatbank4_b_level</th>\n",
       "      <th>secondary_cleaner.state.floatbank5_a_air</th>\n",
       "      <th>secondary_cleaner.state.floatbank5_a_level</th>\n",
       "      <th>secondary_cleaner.state.floatbank5_b_air</th>\n",
       "      <th>secondary_cleaner.state.floatbank5_b_level</th>\n",
       "      <th>secondary_cleaner.state.floatbank6_a_air</th>\n",
       "      <th>secondary_cleaner.state.floatbank6_a_level</th>\n",
       "    </tr>\n",
       "    <tr>\n",
       "      <th>date</th>\n",
       "      <th></th>\n",
       "      <th></th>\n",
       "      <th></th>\n",
       "      <th></th>\n",
       "      <th></th>\n",
       "      <th></th>\n",
       "      <th></th>\n",
       "      <th></th>\n",
       "      <th></th>\n",
       "      <th></th>\n",
       "      <th></th>\n",
       "      <th></th>\n",
       "      <th></th>\n",
       "      <th></th>\n",
       "      <th></th>\n",
       "      <th></th>\n",
       "      <th></th>\n",
       "      <th></th>\n",
       "      <th></th>\n",
       "      <th></th>\n",
       "      <th></th>\n",
       "      <th></th>\n",
       "      <th></th>\n",
       "      <th></th>\n",
       "      <th></th>\n",
       "      <th></th>\n",
       "      <th></th>\n",
       "      <th></th>\n",
       "      <th></th>\n",
       "      <th></th>\n",
       "      <th></th>\n",
       "      <th></th>\n",
       "      <th></th>\n",
       "      <th></th>\n",
       "      <th></th>\n",
       "      <th></th>\n",
       "      <th></th>\n",
       "      <th></th>\n",
       "      <th></th>\n",
       "      <th></th>\n",
       "      <th></th>\n",
       "      <th></th>\n",
       "      <th></th>\n",
       "      <th></th>\n",
       "      <th></th>\n",
       "      <th></th>\n",
       "      <th></th>\n",
       "      <th></th>\n",
       "      <th></th>\n",
       "      <th></th>\n",
       "      <th></th>\n",
       "      <th></th>\n",
       "      <th></th>\n",
       "      <th></th>\n",
       "      <th></th>\n",
       "      <th></th>\n",
       "      <th></th>\n",
       "      <th></th>\n",
       "      <th></th>\n",
       "      <th></th>\n",
       "      <th></th>\n",
       "      <th></th>\n",
       "      <th></th>\n",
       "      <th></th>\n",
       "      <th></th>\n",
       "      <th></th>\n",
       "      <th></th>\n",
       "      <th></th>\n",
       "      <th></th>\n",
       "      <th></th>\n",
       "      <th></th>\n",
       "      <th></th>\n",
       "      <th></th>\n",
       "      <th></th>\n",
       "      <th></th>\n",
       "      <th></th>\n",
       "      <th></th>\n",
       "      <th></th>\n",
       "      <th></th>\n",
       "      <th></th>\n",
       "      <th></th>\n",
       "      <th></th>\n",
       "      <th></th>\n",
       "      <th></th>\n",
       "      <th></th>\n",
       "      <th></th>\n",
       "    </tr>\n",
       "  </thead>\n",
       "  <tbody>\n",
       "    <tr>\n",
       "      <th>2016-01-15 00:00:00</th>\n",
       "      <td>6.055403</td>\n",
       "      <td>9.889648</td>\n",
       "      <td>5.507324</td>\n",
       "      <td>42.192020</td>\n",
       "      <td>70.541216</td>\n",
       "      <td>10.411962</td>\n",
       "      <td>0.895447</td>\n",
       "      <td>16.904297</td>\n",
       "      <td>2.143149</td>\n",
       "      <td>127.092003</td>\n",
       "      <td>10.128295</td>\n",
       "      <td>7.25</td>\n",
       "      <td>0.988759</td>\n",
       "      <td>8.547551</td>\n",
       "      <td>10.389648</td>\n",
       "      <td>19.529297</td>\n",
       "      <td>34.174427</td>\n",
       "      <td>14.936526</td>\n",
       "      <td>2.534912</td>\n",
       "      <td>7.476074</td>\n",
       "      <td>2.106679</td>\n",
       "      <td>1549.775757</td>\n",
       "      <td>-498.912140</td>\n",
       "      <td>1551.434204</td>\n",
       "      <td>-516.403442</td>\n",
       "      <td>1549.873901</td>\n",
       "      <td>-498.666595</td>\n",
       "      <td>1554.367432</td>\n",
       "      <td>-493.428131</td>\n",
       "      <td>41885.707031</td>\n",
       "      <td>3481.779053</td>\n",
       "      <td>3520.337158</td>\n",
       "      <td>2.838687</td>\n",
       "      <td>6.100378</td>\n",
       "      <td>2.284912</td>\n",
       "      <td>523.546326</td>\n",
       "      <td>55.486599</td>\n",
       "      <td>36.808594</td>\n",
       "      <td>6.486150</td>\n",
       "      <td>11.986616</td>\n",
       "      <td>6.007990</td>\n",
       "      <td>11.836743</td>\n",
       "      <td>6.005818</td>\n",
       "      <td>11.500771</td>\n",
       "      <td>7.101074</td>\n",
       "      <td>28.029297</td>\n",
       "      <td>19.793808</td>\n",
       "      <td>87.107763</td>\n",
       "      <td>5.008018</td>\n",
       "      <td>0.508728</td>\n",
       "      <td>19.154297</td>\n",
       "      <td>1.170244</td>\n",
       "      <td>999.706909</td>\n",
       "      <td>-404.066986</td>\n",
       "      <td>1603.011353</td>\n",
       "      <td>-434.715027</td>\n",
       "      <td>1602.375000</td>\n",
       "      <td>-442.204468</td>\n",
       "      <td>1598.937256</td>\n",
       "      <td>-451.294128</td>\n",
       "      <td>1404.472046</td>\n",
       "      <td>-455.462982</td>\n",
       "      <td>1416.354980</td>\n",
       "      <td>-451.939636</td>\n",
       "      <td>14.500184</td>\n",
       "      <td>4.694824</td>\n",
       "      <td>8.764648</td>\n",
       "      <td>2.606185</td>\n",
       "      <td>25.853109</td>\n",
       "      <td>-498.526489</td>\n",
       "      <td>23.893660</td>\n",
       "      <td>-501.406281</td>\n",
       "      <td>23.961798</td>\n",
       "      <td>-495.262817</td>\n",
       "      <td>21.940409</td>\n",
       "      <td>-499.340973</td>\n",
       "      <td>14.016835</td>\n",
       "      <td>-502.488007</td>\n",
       "      <td>12.099931</td>\n",
       "      <td>-504.715942</td>\n",
       "      <td>9.925633</td>\n",
       "      <td>-498.310211</td>\n",
       "      <td>8.079666</td>\n",
       "      <td>-500.470978</td>\n",
       "      <td>14.151341</td>\n",
       "      <td>-605.841980</td>\n",
       "    </tr>\n",
       "    <tr>\n",
       "      <th>2016-01-15 01:00:00</th>\n",
       "      <td>6.029369</td>\n",
       "      <td>9.968944</td>\n",
       "      <td>5.257781</td>\n",
       "      <td>42.701629</td>\n",
       "      <td>69.266198</td>\n",
       "      <td>10.462676</td>\n",
       "      <td>0.927452</td>\n",
       "      <td>16.634514</td>\n",
       "      <td>2.224930</td>\n",
       "      <td>125.629232</td>\n",
       "      <td>10.296251</td>\n",
       "      <td>7.25</td>\n",
       "      <td>1.002663</td>\n",
       "      <td>8.558743</td>\n",
       "      <td>10.497069</td>\n",
       "      <td>19.369147</td>\n",
       "      <td>34.118526</td>\n",
       "      <td>16.250511</td>\n",
       "      <td>3.049646</td>\n",
       "      <td>6.733907</td>\n",
       "      <td>2.353017</td>\n",
       "      <td>1576.166671</td>\n",
       "      <td>-500.904965</td>\n",
       "      <td>1575.950626</td>\n",
       "      <td>-499.865889</td>\n",
       "      <td>1575.994189</td>\n",
       "      <td>-499.315107</td>\n",
       "      <td>1574.479259</td>\n",
       "      <td>-498.931665</td>\n",
       "      <td>42050.861809</td>\n",
       "      <td>3498.370979</td>\n",
       "      <td>3489.981857</td>\n",
       "      <td>2.858998</td>\n",
       "      <td>6.161113</td>\n",
       "      <td>2.266033</td>\n",
       "      <td>525.290581</td>\n",
       "      <td>57.278666</td>\n",
       "      <td>35.753385</td>\n",
       "      <td>6.478583</td>\n",
       "      <td>11.971193</td>\n",
       "      <td>6.005766</td>\n",
       "      <td>11.996163</td>\n",
       "      <td>6.012594</td>\n",
       "      <td>11.615865</td>\n",
       "      <td>7.278807</td>\n",
       "      <td>28.067063</td>\n",
       "      <td>20.050975</td>\n",
       "      <td>86.843261</td>\n",
       "      <td>4.955378</td>\n",
       "      <td>0.536689</td>\n",
       "      <td>18.965234</td>\n",
       "      <td>1.184827</td>\n",
       "      <td>1000.286398</td>\n",
       "      <td>-400.065196</td>\n",
       "      <td>1600.754587</td>\n",
       "      <td>-449.953435</td>\n",
       "      <td>1600.479580</td>\n",
       "      <td>-449.830646</td>\n",
       "      <td>1600.527589</td>\n",
       "      <td>-449.953649</td>\n",
       "      <td>1399.227084</td>\n",
       "      <td>-450.869848</td>\n",
       "      <td>1399.719514</td>\n",
       "      <td>-450.119001</td>\n",
       "      <td>14.265474</td>\n",
       "      <td>4.592547</td>\n",
       "      <td>9.001494</td>\n",
       "      <td>2.488248</td>\n",
       "      <td>25.880539</td>\n",
       "      <td>-499.989656</td>\n",
       "      <td>23.889530</td>\n",
       "      <td>-500.372428</td>\n",
       "      <td>23.970550</td>\n",
       "      <td>-500.085473</td>\n",
       "      <td>22.085714</td>\n",
       "      <td>-499.446897</td>\n",
       "      <td>13.992281</td>\n",
       "      <td>-505.503262</td>\n",
       "      <td>11.950531</td>\n",
       "      <td>-501.331529</td>\n",
       "      <td>10.039245</td>\n",
       "      <td>-500.169983</td>\n",
       "      <td>7.984757</td>\n",
       "      <td>-500.582168</td>\n",
       "      <td>13.998353</td>\n",
       "      <td>-599.787184</td>\n",
       "    </tr>\n",
       "    <tr>\n",
       "      <th>2016-01-15 02:00:00</th>\n",
       "      <td>6.055926</td>\n",
       "      <td>10.213995</td>\n",
       "      <td>5.383759</td>\n",
       "      <td>42.657501</td>\n",
       "      <td>68.116445</td>\n",
       "      <td>10.507046</td>\n",
       "      <td>0.953716</td>\n",
       "      <td>16.208849</td>\n",
       "      <td>2.257889</td>\n",
       "      <td>123.819808</td>\n",
       "      <td>11.316280</td>\n",
       "      <td>7.25</td>\n",
       "      <td>0.991265</td>\n",
       "      <td>8.603505</td>\n",
       "      <td>10.354494</td>\n",
       "      <td>19.167579</td>\n",
       "      <td>33.969464</td>\n",
       "      <td>16.491823</td>\n",
       "      <td>3.124664</td>\n",
       "      <td>6.471768</td>\n",
       "      <td>2.416800</td>\n",
       "      <td>1601.556163</td>\n",
       "      <td>-499.997791</td>\n",
       "      <td>1600.386685</td>\n",
       "      <td>-500.607762</td>\n",
       "      <td>1602.003542</td>\n",
       "      <td>-500.870069</td>\n",
       "      <td>1599.541515</td>\n",
       "      <td>-499.827444</td>\n",
       "      <td>42018.101184</td>\n",
       "      <td>3495.348910</td>\n",
       "      <td>3502.359819</td>\n",
       "      <td>2.945989</td>\n",
       "      <td>6.116455</td>\n",
       "      <td>2.159622</td>\n",
       "      <td>530.026610</td>\n",
       "      <td>57.510649</td>\n",
       "      <td>35.971630</td>\n",
       "      <td>6.362222</td>\n",
       "      <td>11.920603</td>\n",
       "      <td>6.197377</td>\n",
       "      <td>11.920305</td>\n",
       "      <td>6.204633</td>\n",
       "      <td>11.695753</td>\n",
       "      <td>7.216833</td>\n",
       "      <td>27.454037</td>\n",
       "      <td>19.737170</td>\n",
       "      <td>86.842308</td>\n",
       "      <td>4.843460</td>\n",
       "      <td>0.546416</td>\n",
       "      <td>18.808533</td>\n",
       "      <td>1.162562</td>\n",
       "      <td>999.719565</td>\n",
       "      <td>-400.074028</td>\n",
       "      <td>1599.337330</td>\n",
       "      <td>-450.008530</td>\n",
       "      <td>1599.672797</td>\n",
       "      <td>-449.954491</td>\n",
       "      <td>1599.849325</td>\n",
       "      <td>-449.954185</td>\n",
       "      <td>1399.180945</td>\n",
       "      <td>-449.937588</td>\n",
       "      <td>1400.316682</td>\n",
       "      <td>-450.527147</td>\n",
       "      <td>14.115662</td>\n",
       "      <td>4.624775</td>\n",
       "      <td>8.842896</td>\n",
       "      <td>2.458187</td>\n",
       "      <td>26.005245</td>\n",
       "      <td>-499.929616</td>\n",
       "      <td>23.886657</td>\n",
       "      <td>-499.951928</td>\n",
       "      <td>23.913535</td>\n",
       "      <td>-499.442343</td>\n",
       "      <td>23.957717</td>\n",
       "      <td>-499.901982</td>\n",
       "      <td>14.015015</td>\n",
       "      <td>-502.520901</td>\n",
       "      <td>11.912783</td>\n",
       "      <td>-501.133383</td>\n",
       "      <td>10.070913</td>\n",
       "      <td>-500.129135</td>\n",
       "      <td>8.013877</td>\n",
       "      <td>-500.517572</td>\n",
       "      <td>14.028663</td>\n",
       "      <td>-601.427363</td>\n",
       "    </tr>\n",
       "    <tr>\n",
       "      <th>2016-01-15 03:00:00</th>\n",
       "      <td>6.047977</td>\n",
       "      <td>9.977019</td>\n",
       "      <td>4.858634</td>\n",
       "      <td>42.689819</td>\n",
       "      <td>68.347543</td>\n",
       "      <td>10.422762</td>\n",
       "      <td>0.883763</td>\n",
       "      <td>16.532835</td>\n",
       "      <td>2.146849</td>\n",
       "      <td>122.270188</td>\n",
       "      <td>11.322140</td>\n",
       "      <td>7.25</td>\n",
       "      <td>0.996739</td>\n",
       "      <td>7.221879</td>\n",
       "      <td>8.496563</td>\n",
       "      <td>15.978538</td>\n",
       "      <td>28.260743</td>\n",
       "      <td>16.024359</td>\n",
       "      <td>2.960362</td>\n",
       "      <td>6.843791</td>\n",
       "      <td>2.262051</td>\n",
       "      <td>1599.968720</td>\n",
       "      <td>-500.951778</td>\n",
       "      <td>1600.659236</td>\n",
       "      <td>-499.677094</td>\n",
       "      <td>1600.304144</td>\n",
       "      <td>-500.727997</td>\n",
       "      <td>1600.449520</td>\n",
       "      <td>-500.052575</td>\n",
       "      <td>42029.447991</td>\n",
       "      <td>3498.578313</td>\n",
       "      <td>3499.162912</td>\n",
       "      <td>3.002340</td>\n",
       "      <td>6.043309</td>\n",
       "      <td>2.037807</td>\n",
       "      <td>542.590390</td>\n",
       "      <td>57.792734</td>\n",
       "      <td>36.862241</td>\n",
       "      <td>6.118189</td>\n",
       "      <td>11.630094</td>\n",
       "      <td>6.203177</td>\n",
       "      <td>11.692450</td>\n",
       "      <td>6.196578</td>\n",
       "      <td>11.915047</td>\n",
       "      <td>7.175616</td>\n",
       "      <td>27.341277</td>\n",
       "      <td>19.320810</td>\n",
       "      <td>87.226430</td>\n",
       "      <td>4.655288</td>\n",
       "      <td>0.542525</td>\n",
       "      <td>19.330200</td>\n",
       "      <td>1.079755</td>\n",
       "      <td>999.814770</td>\n",
       "      <td>-400.200179</td>\n",
       "      <td>1600.059442</td>\n",
       "      <td>-450.619948</td>\n",
       "      <td>1600.012842</td>\n",
       "      <td>-449.910497</td>\n",
       "      <td>1597.725177</td>\n",
       "      <td>-450.130127</td>\n",
       "      <td>1400.943157</td>\n",
       "      <td>-450.030142</td>\n",
       "      <td>1400.234743</td>\n",
       "      <td>-449.790835</td>\n",
       "      <td>13.732071</td>\n",
       "      <td>4.482453</td>\n",
       "      <td>9.122857</td>\n",
       "      <td>2.322062</td>\n",
       "      <td>25.942508</td>\n",
       "      <td>-499.176749</td>\n",
       "      <td>23.955516</td>\n",
       "      <td>-499.848796</td>\n",
       "      <td>23.966838</td>\n",
       "      <td>-500.008812</td>\n",
       "      <td>23.954443</td>\n",
       "      <td>-499.944710</td>\n",
       "      <td>14.036510</td>\n",
       "      <td>-500.857308</td>\n",
       "      <td>11.999550</td>\n",
       "      <td>-501.193686</td>\n",
       "      <td>9.970366</td>\n",
       "      <td>-499.201640</td>\n",
       "      <td>7.977324</td>\n",
       "      <td>-500.255908</td>\n",
       "      <td>14.005551</td>\n",
       "      <td>-599.996129</td>\n",
       "    </tr>\n",
       "    <tr>\n",
       "      <th>2016-01-15 04:00:00</th>\n",
       "      <td>6.148599</td>\n",
       "      <td>10.142511</td>\n",
       "      <td>4.939416</td>\n",
       "      <td>42.774141</td>\n",
       "      <td>66.927016</td>\n",
       "      <td>10.360302</td>\n",
       "      <td>0.792826</td>\n",
       "      <td>16.525686</td>\n",
       "      <td>2.055292</td>\n",
       "      <td>117.988169</td>\n",
       "      <td>11.913613</td>\n",
       "      <td>7.25</td>\n",
       "      <td>1.009869</td>\n",
       "      <td>9.089428</td>\n",
       "      <td>9.986786</td>\n",
       "      <td>19.199864</td>\n",
       "      <td>33.044932</td>\n",
       "      <td>16.480185</td>\n",
       "      <td>3.112100</td>\n",
       "      <td>6.550154</td>\n",
       "      <td>2.277073</td>\n",
       "      <td>1601.339707</td>\n",
       "      <td>-498.975456</td>\n",
       "      <td>1601.437854</td>\n",
       "      <td>-500.323246</td>\n",
       "      <td>1599.581894</td>\n",
       "      <td>-500.888152</td>\n",
       "      <td>1602.649541</td>\n",
       "      <td>-500.593010</td>\n",
       "      <td>42125.354245</td>\n",
       "      <td>3494.800771</td>\n",
       "      <td>3506.679315</td>\n",
       "      <td>3.169615</td>\n",
       "      <td>6.060915</td>\n",
       "      <td>1.786875</td>\n",
       "      <td>540.531893</td>\n",
       "      <td>56.047189</td>\n",
       "      <td>34.347666</td>\n",
       "      <td>5.663707</td>\n",
       "      <td>10.957755</td>\n",
       "      <td>6.198826</td>\n",
       "      <td>10.960521</td>\n",
       "      <td>6.194897</td>\n",
       "      <td>12.411054</td>\n",
       "      <td>7.240205</td>\n",
       "      <td>27.041023</td>\n",
       "      <td>19.216101</td>\n",
       "      <td>86.688794</td>\n",
       "      <td>4.552800</td>\n",
       "      <td>0.515438</td>\n",
       "      <td>19.267422</td>\n",
       "      <td>1.012642</td>\n",
       "      <td>999.678690</td>\n",
       "      <td>-399.752729</td>\n",
       "      <td>1600.208824</td>\n",
       "      <td>-449.599614</td>\n",
       "      <td>1600.357732</td>\n",
       "      <td>-450.034364</td>\n",
       "      <td>1599.759049</td>\n",
       "      <td>-449.909799</td>\n",
       "      <td>1401.560902</td>\n",
       "      <td>-448.877187</td>\n",
       "      <td>1401.160227</td>\n",
       "      <td>-450.407128</td>\n",
       "      <td>14.079996</td>\n",
       "      <td>4.470737</td>\n",
       "      <td>8.871028</td>\n",
       "      <td>2.330448</td>\n",
       "      <td>26.024787</td>\n",
       "      <td>-500.279091</td>\n",
       "      <td>23.955345</td>\n",
       "      <td>-500.593614</td>\n",
       "      <td>23.985703</td>\n",
       "      <td>-500.083811</td>\n",
       "      <td>23.958945</td>\n",
       "      <td>-499.990309</td>\n",
       "      <td>14.027298</td>\n",
       "      <td>-499.838632</td>\n",
       "      <td>11.953070</td>\n",
       "      <td>-501.053894</td>\n",
       "      <td>9.925709</td>\n",
       "      <td>-501.686727</td>\n",
       "      <td>7.894242</td>\n",
       "      <td>-500.356035</td>\n",
       "      <td>13.996647</td>\n",
       "      <td>-601.496691</td>\n",
       "    </tr>\n",
       "    <tr>\n",
       "      <th>2016-01-15 05:00:00</th>\n",
       "      <td>6.482968</td>\n",
       "      <td>10.049416</td>\n",
       "      <td>5.480257</td>\n",
       "      <td>41.633678</td>\n",
       "      <td>69.465816</td>\n",
       "      <td>10.182708</td>\n",
       "      <td>0.664118</td>\n",
       "      <td>16.999638</td>\n",
       "      <td>1.918586</td>\n",
       "      <td>115.581252</td>\n",
       "      <td>12.470773</td>\n",
       "      <td>7.25</td>\n",
       "      <td>0.965760</td>\n",
       "      <td>9.553724</td>\n",
       "      <td>9.816215</td>\n",
       "      <td>19.167328</td>\n",
       "      <td>32.070664</td>\n",
       "      <td>15.931540</td>\n",
       "      <td>2.844511</td>\n",
       "      <td>6.724197</td>\n",
       "      <td>2.114558</td>\n",
       "      <td>1602.964922</td>\n",
       "      <td>-498.090944</td>\n",
       "      <td>1602.074298</td>\n",
       "      <td>-500.179481</td>\n",
       "      <td>1602.154812</td>\n",
       "      <td>-498.642614</td>\n",
       "      <td>1605.020106</td>\n",
       "      <td>-500.538177</td>\n",
       "      <td>41973.280986</td>\n",
       "      <td>3501.916973</td>\n",
       "      <td>3499.527175</td>\n",
       "      <td>3.026134</td>\n",
       "      <td>5.801920</td>\n",
       "      <td>1.879351</td>\n",
       "      <td>546.173470</td>\n",
       "      <td>57.469578</td>\n",
       "      <td>35.470082</td>\n",
       "      <td>5.687168</td>\n",
       "      <td>11.072517</td>\n",
       "      <td>6.200383</td>\n",
       "      <td>11.075009</td>\n",
       "      <td>6.202362</td>\n",
       "      <td>11.985584</td>\n",
       "      <td>7.121903</td>\n",
       "      <td>26.898046</td>\n",
       "      <td>18.950385</td>\n",
       "      <td>88.156912</td>\n",
       "      <td>4.397415</td>\n",
       "      <td>0.491350</td>\n",
       "      <td>19.640269</td>\n",
       "      <td>0.915835</td>\n",
       "      <td>999.934134</td>\n",
       "      <td>-400.599524</td>\n",
       "      <td>1601.080554</td>\n",
       "      <td>-450.120760</td>\n",
       "      <td>1603.164805</td>\n",
       "      <td>-450.097732</td>\n",
       "      <td>1603.368371</td>\n",
       "      <td>-446.306150</td>\n",
       "      <td>1403.393100</td>\n",
       "      <td>-447.899904</td>\n",
       "      <td>1402.903175</td>\n",
       "      <td>-448.872321</td>\n",
       "      <td>13.615012</td>\n",
       "      <td>4.286817</td>\n",
       "      <td>9.302669</td>\n",
       "      <td>2.192127</td>\n",
       "      <td>26.014841</td>\n",
       "      <td>-498.864670</td>\n",
       "      <td>23.880214</td>\n",
       "      <td>-499.738447</td>\n",
       "      <td>23.982635</td>\n",
       "      <td>-500.495272</td>\n",
       "      <td>24.009749</td>\n",
       "      <td>-499.433825</td>\n",
       "      <td>13.938497</td>\n",
       "      <td>-500.970168</td>\n",
       "      <td>11.883350</td>\n",
       "      <td>-500.395298</td>\n",
       "      <td>10.054147</td>\n",
       "      <td>-496.374715</td>\n",
       "      <td>7.965083</td>\n",
       "      <td>-499.364752</td>\n",
       "      <td>14.017067</td>\n",
       "      <td>-599.707915</td>\n",
       "    </tr>\n",
       "    <tr>\n",
       "      <th>2016-01-15 06:00:00</th>\n",
       "      <td>6.533849</td>\n",
       "      <td>10.058141</td>\n",
       "      <td>4.569100</td>\n",
       "      <td>41.995316</td>\n",
       "      <td>69.300835</td>\n",
       "      <td>10.304598</td>\n",
       "      <td>0.807342</td>\n",
       "      <td>16.723575</td>\n",
       "      <td>2.058913</td>\n",
       "      <td>117.322323</td>\n",
       "      <td>12.469088</td>\n",
       "      <td>7.25</td>\n",
       "      <td>0.895207</td>\n",
       "      <td>8.968869</td>\n",
       "      <td>10.081306</td>\n",
       "      <td>18.930855</td>\n",
       "      <td>33.184823</td>\n",
       "      <td>16.078368</td>\n",
       "      <td>2.938979</td>\n",
       "      <td>6.623598</td>\n",
       "      <td>2.223152</td>\n",
       "      <td>1597.532455</td>\n",
       "      <td>-500.985364</td>\n",
       "      <td>1602.816321</td>\n",
       "      <td>-500.696736</td>\n",
       "      <td>1603.572091</td>\n",
       "      <td>-500.256955</td>\n",
       "      <td>1597.597437</td>\n",
       "      <td>-500.378192</td>\n",
       "      <td>41956.468979</td>\n",
       "      <td>3497.427365</td>\n",
       "      <td>3506.352790</td>\n",
       "      <td>2.867933</td>\n",
       "      <td>6.056253</td>\n",
       "      <td>2.105501</td>\n",
       "      <td>523.376439</td>\n",
       "      <td>56.674647</td>\n",
       "      <td>34.920570</td>\n",
       "      <td>6.038436</td>\n",
       "      <td>11.535899</td>\n",
       "      <td>6.204974</td>\n",
       "      <td>11.539227</td>\n",
       "      <td>6.200515</td>\n",
       "      <td>11.684307</td>\n",
       "      <td>7.304849</td>\n",
       "      <td>27.063672</td>\n",
       "      <td>19.319591</td>\n",
       "      <td>88.168065</td>\n",
       "      <td>4.478080</td>\n",
       "      <td>0.518266</td>\n",
       "      <td>19.262491</td>\n",
       "      <td>0.986248</td>\n",
       "      <td>999.832373</td>\n",
       "      <td>-399.353521</td>\n",
       "      <td>1600.753019</td>\n",
       "      <td>-450.050089</td>\n",
       "      <td>1599.019966</td>\n",
       "      <td>-449.848507</td>\n",
       "      <td>1600.298267</td>\n",
       "      <td>-453.102891</td>\n",
       "      <td>1397.853265</td>\n",
       "      <td>-451.306640</td>\n",
       "      <td>1397.973670</td>\n",
       "      <td>-451.355626</td>\n",
       "      <td>13.597056</td>\n",
       "      <td>4.487865</td>\n",
       "      <td>9.103047</td>\n",
       "      <td>2.316720</td>\n",
       "      <td>25.957594</td>\n",
       "      <td>-500.134472</td>\n",
       "      <td>24.077199</td>\n",
       "      <td>-500.089190</td>\n",
       "      <td>23.991710</td>\n",
       "      <td>-500.391528</td>\n",
       "      <td>23.954144</td>\n",
       "      <td>-501.872171</td>\n",
       "      <td>14.046819</td>\n",
       "      <td>-500.971133</td>\n",
       "      <td>12.091543</td>\n",
       "      <td>-500.501426</td>\n",
       "      <td>10.003247</td>\n",
       "      <td>-497.083180</td>\n",
       "      <td>8.010890</td>\n",
       "      <td>-500.002423</td>\n",
       "      <td>14.029649</td>\n",
       "      <td>-600.905470</td>\n",
       "    </tr>\n",
       "    <tr>\n",
       "      <th>2016-01-15 07:00:00</th>\n",
       "      <td>6.130823</td>\n",
       "      <td>9.935481</td>\n",
       "      <td>4.389813</td>\n",
       "      <td>42.452727</td>\n",
       "      <td>70.230976</td>\n",
       "      <td>10.443288</td>\n",
       "      <td>0.949346</td>\n",
       "      <td>16.689959</td>\n",
       "      <td>2.143437</td>\n",
       "      <td>124.592960</td>\n",
       "      <td>12.467403</td>\n",
       "      <td>7.25</td>\n",
       "      <td>0.901202</td>\n",
       "      <td>8.545238</td>\n",
       "      <td>10.224540</td>\n",
       "      <td>18.735813</td>\n",
       "      <td>34.027719</td>\n",
       "      <td>15.797720</td>\n",
       "      <td>2.881529</td>\n",
       "      <td>6.872033</td>\n",
       "      <td>2.112025</td>\n",
       "      <td>1597.946266</td>\n",
       "      <td>-501.592304</td>\n",
       "      <td>1601.078254</td>\n",
       "      <td>-499.494115</td>\n",
       "      <td>1602.630688</td>\n",
       "      <td>-500.173741</td>\n",
       "      <td>1595.937990</td>\n",
       "      <td>-498.929825</td>\n",
       "      <td>41812.416893</td>\n",
       "      <td>3497.275828</td>\n",
       "      <td>3501.000030</td>\n",
       "      <td>2.784698</td>\n",
       "      <td>5.955053</td>\n",
       "      <td>2.310432</td>\n",
       "      <td>549.842749</td>\n",
       "      <td>56.730325</td>\n",
       "      <td>36.091386</td>\n",
       "      <td>6.433854</td>\n",
       "      <td>12.557906</td>\n",
       "      <td>6.799275</td>\n",
       "      <td>12.583109</td>\n",
       "      <td>6.798354</td>\n",
       "      <td>11.182624</td>\n",
       "      <td>7.258496</td>\n",
       "      <td>27.231114</td>\n",
       "      <td>19.507897</td>\n",
       "      <td>87.668336</td>\n",
       "      <td>4.728325</td>\n",
       "      <td>0.548067</td>\n",
       "      <td>18.861866</td>\n",
       "      <td>1.116110</td>\n",
       "      <td>1000.166602</td>\n",
       "      <td>-400.556601</td>\n",
       "      <td>1598.877246</td>\n",
       "      <td>-450.070980</td>\n",
       "      <td>1598.108717</td>\n",
       "      <td>-449.211334</td>\n",
       "      <td>1592.872844</td>\n",
       "      <td>-449.806802</td>\n",
       "      <td>1396.580752</td>\n",
       "      <td>-453.548352</td>\n",
       "      <td>1397.289884</td>\n",
       "      <td>-450.221696</td>\n",
       "      <td>13.177237</td>\n",
       "      <td>4.432448</td>\n",
       "      <td>9.369209</td>\n",
       "      <td>2.192197</td>\n",
       "      <td>25.938026</td>\n",
       "      <td>-499.657795</td>\n",
       "      <td>24.020179</td>\n",
       "      <td>-499.798396</td>\n",
       "      <td>24.031555</td>\n",
       "      <td>-500.550436</td>\n",
       "      <td>23.968160</td>\n",
       "      <td>-499.836513</td>\n",
       "      <td>13.974691</td>\n",
       "      <td>-501.819696</td>\n",
       "      <td>12.101324</td>\n",
       "      <td>-500.583446</td>\n",
       "      <td>9.873169</td>\n",
       "      <td>-499.171928</td>\n",
       "      <td>7.993381</td>\n",
       "      <td>-499.794518</td>\n",
       "      <td>13.984498</td>\n",
       "      <td>-600.411070</td>\n",
       "    </tr>\n",
       "    <tr>\n",
       "      <th>2016-01-15 08:00:00</th>\n",
       "      <td>5.834140</td>\n",
       "      <td>10.071156</td>\n",
       "      <td>4.876389</td>\n",
       "      <td>43.404078</td>\n",
       "      <td>69.688595</td>\n",
       "      <td>10.420140</td>\n",
       "      <td>1.065453</td>\n",
       "      <td>17.201948</td>\n",
       "      <td>2.209881</td>\n",
       "      <td>131.781026</td>\n",
       "      <td>12.465718</td>\n",
       "      <td>7.25</td>\n",
       "      <td>0.885535</td>\n",
       "      <td>8.046686</td>\n",
       "      <td>10.500065</td>\n",
       "      <td>18.560288</td>\n",
       "      <td>34.964974</td>\n",
       "      <td>16.195420</td>\n",
       "      <td>3.089922</td>\n",
       "      <td>6.705633</td>\n",
       "      <td>2.243817</td>\n",
       "      <td>1601.670053</td>\n",
       "      <td>-499.548891</td>\n",
       "      <td>1598.804355</td>\n",
       "      <td>-499.689644</td>\n",
       "      <td>1601.689285</td>\n",
       "      <td>-500.484957</td>\n",
       "      <td>1602.431117</td>\n",
       "      <td>-500.650982</td>\n",
       "      <td>41905.757985</td>\n",
       "      <td>3498.332166</td>\n",
       "      <td>3498.120075</td>\n",
       "      <td>2.728844</td>\n",
       "      <td>5.878084</td>\n",
       "      <td>2.391713</td>\n",
       "      <td>560.115242</td>\n",
       "      <td>56.649893</td>\n",
       "      <td>35.753879</td>\n",
       "      <td>6.526612</td>\n",
       "      <td>13.166128</td>\n",
       "      <td>6.798659</td>\n",
       "      <td>13.184764</td>\n",
       "      <td>6.800021</td>\n",
       "      <td>11.051323</td>\n",
       "      <td>7.380043</td>\n",
       "      <td>27.404296</td>\n",
       "      <td>19.789465</td>\n",
       "      <td>87.035862</td>\n",
       "      <td>4.764300</td>\n",
       "      <td>0.599181</td>\n",
       "      <td>18.873082</td>\n",
       "      <td>1.186780</td>\n",
       "      <td>1000.026864</td>\n",
       "      <td>-399.968583</td>\n",
       "      <td>1599.813104</td>\n",
       "      <td>-450.481122</td>\n",
       "      <td>1600.024621</td>\n",
       "      <td>-450.365493</td>\n",
       "      <td>1594.448648</td>\n",
       "      <td>-449.882428</td>\n",
       "      <td>1402.033682</td>\n",
       "      <td>-448.545552</td>\n",
       "      <td>1400.748347</td>\n",
       "      <td>-450.303991</td>\n",
       "      <td>13.487870</td>\n",
       "      <td>4.608756</td>\n",
       "      <td>9.437044</td>\n",
       "      <td>2.212084</td>\n",
       "      <td>25.929511</td>\n",
       "      <td>-500.079889</td>\n",
       "      <td>23.977375</td>\n",
       "      <td>-500.005187</td>\n",
       "      <td>23.998809</td>\n",
       "      <td>-500.400133</td>\n",
       "      <td>23.982633</td>\n",
       "      <td>-499.826311</td>\n",
       "      <td>13.964030</td>\n",
       "      <td>-504.252450</td>\n",
       "      <td>12.060738</td>\n",
       "      <td>-501.174549</td>\n",
       "      <td>10.033838</td>\n",
       "      <td>-501.178133</td>\n",
       "      <td>7.881604</td>\n",
       "      <td>-499.729434</td>\n",
       "      <td>13.967135</td>\n",
       "      <td>-599.061188</td>\n",
       "    </tr>\n",
       "    <tr>\n",
       "      <th>2016-01-15 09:00:00</th>\n",
       "      <td>5.687063</td>\n",
       "      <td>9.980404</td>\n",
       "      <td>5.282514</td>\n",
       "      <td>43.235220</td>\n",
       "      <td>70.279619</td>\n",
       "      <td>10.487013</td>\n",
       "      <td>1.159805</td>\n",
       "      <td>17.483979</td>\n",
       "      <td>2.209593</td>\n",
       "      <td>138.120409</td>\n",
       "      <td>12.464032</td>\n",
       "      <td>7.25</td>\n",
       "      <td>0.898779</td>\n",
       "      <td>8.098985</td>\n",
       "      <td>10.525324</td>\n",
       "      <td>18.436589</td>\n",
       "      <td>34.826500</td>\n",
       "      <td>15.535214</td>\n",
       "      <td>2.866688</td>\n",
       "      <td>7.265906</td>\n",
       "      <td>2.025454</td>\n",
       "      <td>1603.436598</td>\n",
       "      <td>-499.864400</td>\n",
       "      <td>1597.455353</td>\n",
       "      <td>-500.266905</td>\n",
       "      <td>1600.747882</td>\n",
       "      <td>-500.541002</td>\n",
       "      <td>1599.754053</td>\n",
       "      <td>-499.216962</td>\n",
       "      <td>41882.126352</td>\n",
       "      <td>3499.915439</td>\n",
       "      <td>3519.952954</td>\n",
       "      <td>2.717442</td>\n",
       "      <td>5.908793</td>\n",
       "      <td>2.440899</td>\n",
       "      <td>573.076049</td>\n",
       "      <td>58.509262</td>\n",
       "      <td>36.958540</td>\n",
       "      <td>6.633002</td>\n",
       "      <td>13.707775</td>\n",
       "      <td>6.820245</td>\n",
       "      <td>13.812674</td>\n",
       "      <td>6.790624</td>\n",
       "      <td>11.116297</td>\n",
       "      <td>7.297363</td>\n",
       "      <td>27.497520</td>\n",
       "      <td>19.497669</td>\n",
       "      <td>87.650868</td>\n",
       "      <td>4.667157</td>\n",
       "      <td>0.615418</td>\n",
       "      <td>18.907179</td>\n",
       "      <td>1.167140</td>\n",
       "      <td>1000.589156</td>\n",
       "      <td>-398.879586</td>\n",
       "      <td>1598.975250</td>\n",
       "      <td>-451.238638</td>\n",
       "      <td>1600.058139</td>\n",
       "      <td>-451.271448</td>\n",
       "      <td>1610.182874</td>\n",
       "      <td>-450.460190</td>\n",
       "      <td>1399.194663</td>\n",
       "      <td>-450.332681</td>\n",
       "      <td>1399.638290</td>\n",
       "      <td>-450.198722</td>\n",
       "      <td>13.209191</td>\n",
       "      <td>4.550553</td>\n",
       "      <td>9.813732</td>\n",
       "      <td>2.073737</td>\n",
       "      <td>26.059510</td>\n",
       "      <td>-499.151646</td>\n",
       "      <td>23.934570</td>\n",
       "      <td>-499.351758</td>\n",
       "      <td>23.994184</td>\n",
       "      <td>-500.078566</td>\n",
       "      <td>23.924481</td>\n",
       "      <td>-499.989024</td>\n",
       "      <td>13.989632</td>\n",
       "      <td>-503.195299</td>\n",
       "      <td>12.052233</td>\n",
       "      <td>-500.928547</td>\n",
       "      <td>9.962574</td>\n",
       "      <td>-502.986357</td>\n",
       "      <td>7.979219</td>\n",
       "      <td>-500.146835</td>\n",
       "      <td>13.981614</td>\n",
       "      <td>-598.070855</td>\n",
       "    </tr>\n",
       "  </tbody>\n",
       "</table>\n",
       "</div>"
      ],
      "text/plain": [
       "                     final.output.concentrate_ag  final.output.concentrate_pb  \\\n",
       "date                                                                            \n",
       "2016-01-15 00:00:00                     6.055403                     9.889648   \n",
       "2016-01-15 01:00:00                     6.029369                     9.968944   \n",
       "2016-01-15 02:00:00                     6.055926                    10.213995   \n",
       "2016-01-15 03:00:00                     6.047977                     9.977019   \n",
       "2016-01-15 04:00:00                     6.148599                    10.142511   \n",
       "2016-01-15 05:00:00                     6.482968                    10.049416   \n",
       "2016-01-15 06:00:00                     6.533849                    10.058141   \n",
       "2016-01-15 07:00:00                     6.130823                     9.935481   \n",
       "2016-01-15 08:00:00                     5.834140                    10.071156   \n",
       "2016-01-15 09:00:00                     5.687063                     9.980404   \n",
       "\n",
       "                     final.output.concentrate_sol  \\\n",
       "date                                                \n",
       "2016-01-15 00:00:00                      5.507324   \n",
       "2016-01-15 01:00:00                      5.257781   \n",
       "2016-01-15 02:00:00                      5.383759   \n",
       "2016-01-15 03:00:00                      4.858634   \n",
       "2016-01-15 04:00:00                      4.939416   \n",
       "2016-01-15 05:00:00                      5.480257   \n",
       "2016-01-15 06:00:00                      4.569100   \n",
       "2016-01-15 07:00:00                      4.389813   \n",
       "2016-01-15 08:00:00                      4.876389   \n",
       "2016-01-15 09:00:00                      5.282514   \n",
       "\n",
       "                     final.output.concentrate_au  final.output.recovery  \\\n",
       "date                                                                      \n",
       "2016-01-15 00:00:00                    42.192020              70.541216   \n",
       "2016-01-15 01:00:00                    42.701629              69.266198   \n",
       "2016-01-15 02:00:00                    42.657501              68.116445   \n",
       "2016-01-15 03:00:00                    42.689819              68.347543   \n",
       "2016-01-15 04:00:00                    42.774141              66.927016   \n",
       "2016-01-15 05:00:00                    41.633678              69.465816   \n",
       "2016-01-15 06:00:00                    41.995316              69.300835   \n",
       "2016-01-15 07:00:00                    42.452727              70.230976   \n",
       "2016-01-15 08:00:00                    43.404078              69.688595   \n",
       "2016-01-15 09:00:00                    43.235220              70.279619   \n",
       "\n",
       "                     final.output.tail_ag  final.output.tail_pb  \\\n",
       "date                                                              \n",
       "2016-01-15 00:00:00             10.411962              0.895447   \n",
       "2016-01-15 01:00:00             10.462676              0.927452   \n",
       "2016-01-15 02:00:00             10.507046              0.953716   \n",
       "2016-01-15 03:00:00             10.422762              0.883763   \n",
       "2016-01-15 04:00:00             10.360302              0.792826   \n",
       "2016-01-15 05:00:00             10.182708              0.664118   \n",
       "2016-01-15 06:00:00             10.304598              0.807342   \n",
       "2016-01-15 07:00:00             10.443288              0.949346   \n",
       "2016-01-15 08:00:00             10.420140              1.065453   \n",
       "2016-01-15 09:00:00             10.487013              1.159805   \n",
       "\n",
       "                     final.output.tail_sol  final.output.tail_au  \\\n",
       "date                                                               \n",
       "2016-01-15 00:00:00              16.904297              2.143149   \n",
       "2016-01-15 01:00:00              16.634514              2.224930   \n",
       "2016-01-15 02:00:00              16.208849              2.257889   \n",
       "2016-01-15 03:00:00              16.532835              2.146849   \n",
       "2016-01-15 04:00:00              16.525686              2.055292   \n",
       "2016-01-15 05:00:00              16.999638              1.918586   \n",
       "2016-01-15 06:00:00              16.723575              2.058913   \n",
       "2016-01-15 07:00:00              16.689959              2.143437   \n",
       "2016-01-15 08:00:00              17.201948              2.209881   \n",
       "2016-01-15 09:00:00              17.483979              2.209593   \n",
       "\n",
       "                     primary_cleaner.input.sulfate  \\\n",
       "date                                                 \n",
       "2016-01-15 00:00:00                     127.092003   \n",
       "2016-01-15 01:00:00                     125.629232   \n",
       "2016-01-15 02:00:00                     123.819808   \n",
       "2016-01-15 03:00:00                     122.270188   \n",
       "2016-01-15 04:00:00                     117.988169   \n",
       "2016-01-15 05:00:00                     115.581252   \n",
       "2016-01-15 06:00:00                     117.322323   \n",
       "2016-01-15 07:00:00                     124.592960   \n",
       "2016-01-15 08:00:00                     131.781026   \n",
       "2016-01-15 09:00:00                     138.120409   \n",
       "\n",
       "                     primary_cleaner.input.depressant  \\\n",
       "date                                                    \n",
       "2016-01-15 00:00:00                         10.128295   \n",
       "2016-01-15 01:00:00                         10.296251   \n",
       "2016-01-15 02:00:00                         11.316280   \n",
       "2016-01-15 03:00:00                         11.322140   \n",
       "2016-01-15 04:00:00                         11.913613   \n",
       "2016-01-15 05:00:00                         12.470773   \n",
       "2016-01-15 06:00:00                         12.469088   \n",
       "2016-01-15 07:00:00                         12.467403   \n",
       "2016-01-15 08:00:00                         12.465718   \n",
       "2016-01-15 09:00:00                         12.464032   \n",
       "\n",
       "                     primary_cleaner.input.feed_size  \\\n",
       "date                                                   \n",
       "2016-01-15 00:00:00                             7.25   \n",
       "2016-01-15 01:00:00                             7.25   \n",
       "2016-01-15 02:00:00                             7.25   \n",
       "2016-01-15 03:00:00                             7.25   \n",
       "2016-01-15 04:00:00                             7.25   \n",
       "2016-01-15 05:00:00                             7.25   \n",
       "2016-01-15 06:00:00                             7.25   \n",
       "2016-01-15 07:00:00                             7.25   \n",
       "2016-01-15 08:00:00                             7.25   \n",
       "2016-01-15 09:00:00                             7.25   \n",
       "\n",
       "                     primary_cleaner.input.xanthate  \\\n",
       "date                                                  \n",
       "2016-01-15 00:00:00                        0.988759   \n",
       "2016-01-15 01:00:00                        1.002663   \n",
       "2016-01-15 02:00:00                        0.991265   \n",
       "2016-01-15 03:00:00                        0.996739   \n",
       "2016-01-15 04:00:00                        1.009869   \n",
       "2016-01-15 05:00:00                        0.965760   \n",
       "2016-01-15 06:00:00                        0.895207   \n",
       "2016-01-15 07:00:00                        0.901202   \n",
       "2016-01-15 08:00:00                        0.885535   \n",
       "2016-01-15 09:00:00                        0.898779   \n",
       "\n",
       "                     primary_cleaner.output.concentrate_ag  \\\n",
       "date                                                         \n",
       "2016-01-15 00:00:00                               8.547551   \n",
       "2016-01-15 01:00:00                               8.558743   \n",
       "2016-01-15 02:00:00                               8.603505   \n",
       "2016-01-15 03:00:00                               7.221879   \n",
       "2016-01-15 04:00:00                               9.089428   \n",
       "2016-01-15 05:00:00                               9.553724   \n",
       "2016-01-15 06:00:00                               8.968869   \n",
       "2016-01-15 07:00:00                               8.545238   \n",
       "2016-01-15 08:00:00                               8.046686   \n",
       "2016-01-15 09:00:00                               8.098985   \n",
       "\n",
       "                     primary_cleaner.output.concentrate_pb  \\\n",
       "date                                                         \n",
       "2016-01-15 00:00:00                              10.389648   \n",
       "2016-01-15 01:00:00                              10.497069   \n",
       "2016-01-15 02:00:00                              10.354494   \n",
       "2016-01-15 03:00:00                               8.496563   \n",
       "2016-01-15 04:00:00                               9.986786   \n",
       "2016-01-15 05:00:00                               9.816215   \n",
       "2016-01-15 06:00:00                              10.081306   \n",
       "2016-01-15 07:00:00                              10.224540   \n",
       "2016-01-15 08:00:00                              10.500065   \n",
       "2016-01-15 09:00:00                              10.525324   \n",
       "\n",
       "                     primary_cleaner.output.concentrate_sol  \\\n",
       "date                                                          \n",
       "2016-01-15 00:00:00                               19.529297   \n",
       "2016-01-15 01:00:00                               19.369147   \n",
       "2016-01-15 02:00:00                               19.167579   \n",
       "2016-01-15 03:00:00                               15.978538   \n",
       "2016-01-15 04:00:00                               19.199864   \n",
       "2016-01-15 05:00:00                               19.167328   \n",
       "2016-01-15 06:00:00                               18.930855   \n",
       "2016-01-15 07:00:00                               18.735813   \n",
       "2016-01-15 08:00:00                               18.560288   \n",
       "2016-01-15 09:00:00                               18.436589   \n",
       "\n",
       "                     primary_cleaner.output.concentrate_au  \\\n",
       "date                                                         \n",
       "2016-01-15 00:00:00                              34.174427   \n",
       "2016-01-15 01:00:00                              34.118526   \n",
       "2016-01-15 02:00:00                              33.969464   \n",
       "2016-01-15 03:00:00                              28.260743   \n",
       "2016-01-15 04:00:00                              33.044932   \n",
       "2016-01-15 05:00:00                              32.070664   \n",
       "2016-01-15 06:00:00                              33.184823   \n",
       "2016-01-15 07:00:00                              34.027719   \n",
       "2016-01-15 08:00:00                              34.964974   \n",
       "2016-01-15 09:00:00                              34.826500   \n",
       "\n",
       "                     primary_cleaner.output.tail_ag  \\\n",
       "date                                                  \n",
       "2016-01-15 00:00:00                       14.936526   \n",
       "2016-01-15 01:00:00                       16.250511   \n",
       "2016-01-15 02:00:00                       16.491823   \n",
       "2016-01-15 03:00:00                       16.024359   \n",
       "2016-01-15 04:00:00                       16.480185   \n",
       "2016-01-15 05:00:00                       15.931540   \n",
       "2016-01-15 06:00:00                       16.078368   \n",
       "2016-01-15 07:00:00                       15.797720   \n",
       "2016-01-15 08:00:00                       16.195420   \n",
       "2016-01-15 09:00:00                       15.535214   \n",
       "\n",
       "                     primary_cleaner.output.tail_pb  \\\n",
       "date                                                  \n",
       "2016-01-15 00:00:00                        2.534912   \n",
       "2016-01-15 01:00:00                        3.049646   \n",
       "2016-01-15 02:00:00                        3.124664   \n",
       "2016-01-15 03:00:00                        2.960362   \n",
       "2016-01-15 04:00:00                        3.112100   \n",
       "2016-01-15 05:00:00                        2.844511   \n",
       "2016-01-15 06:00:00                        2.938979   \n",
       "2016-01-15 07:00:00                        2.881529   \n",
       "2016-01-15 08:00:00                        3.089922   \n",
       "2016-01-15 09:00:00                        2.866688   \n",
       "\n",
       "                     primary_cleaner.output.tail_sol  \\\n",
       "date                                                   \n",
       "2016-01-15 00:00:00                         7.476074   \n",
       "2016-01-15 01:00:00                         6.733907   \n",
       "2016-01-15 02:00:00                         6.471768   \n",
       "2016-01-15 03:00:00                         6.843791   \n",
       "2016-01-15 04:00:00                         6.550154   \n",
       "2016-01-15 05:00:00                         6.724197   \n",
       "2016-01-15 06:00:00                         6.623598   \n",
       "2016-01-15 07:00:00                         6.872033   \n",
       "2016-01-15 08:00:00                         6.705633   \n",
       "2016-01-15 09:00:00                         7.265906   \n",
       "\n",
       "                     primary_cleaner.output.tail_au  \\\n",
       "date                                                  \n",
       "2016-01-15 00:00:00                        2.106679   \n",
       "2016-01-15 01:00:00                        2.353017   \n",
       "2016-01-15 02:00:00                        2.416800   \n",
       "2016-01-15 03:00:00                        2.262051   \n",
       "2016-01-15 04:00:00                        2.277073   \n",
       "2016-01-15 05:00:00                        2.114558   \n",
       "2016-01-15 06:00:00                        2.223152   \n",
       "2016-01-15 07:00:00                        2.112025   \n",
       "2016-01-15 08:00:00                        2.243817   \n",
       "2016-01-15 09:00:00                        2.025454   \n",
       "\n",
       "                     primary_cleaner.state.floatbank8_a_air  \\\n",
       "date                                                          \n",
       "2016-01-15 00:00:00                             1549.775757   \n",
       "2016-01-15 01:00:00                             1576.166671   \n",
       "2016-01-15 02:00:00                             1601.556163   \n",
       "2016-01-15 03:00:00                             1599.968720   \n",
       "2016-01-15 04:00:00                             1601.339707   \n",
       "2016-01-15 05:00:00                             1602.964922   \n",
       "2016-01-15 06:00:00                             1597.532455   \n",
       "2016-01-15 07:00:00                             1597.946266   \n",
       "2016-01-15 08:00:00                             1601.670053   \n",
       "2016-01-15 09:00:00                             1603.436598   \n",
       "\n",
       "                     primary_cleaner.state.floatbank8_a_level  \\\n",
       "date                                                            \n",
       "2016-01-15 00:00:00                               -498.912140   \n",
       "2016-01-15 01:00:00                               -500.904965   \n",
       "2016-01-15 02:00:00                               -499.997791   \n",
       "2016-01-15 03:00:00                               -500.951778   \n",
       "2016-01-15 04:00:00                               -498.975456   \n",
       "2016-01-15 05:00:00                               -498.090944   \n",
       "2016-01-15 06:00:00                               -500.985364   \n",
       "2016-01-15 07:00:00                               -501.592304   \n",
       "2016-01-15 08:00:00                               -499.548891   \n",
       "2016-01-15 09:00:00                               -499.864400   \n",
       "\n",
       "                     primary_cleaner.state.floatbank8_b_air  \\\n",
       "date                                                          \n",
       "2016-01-15 00:00:00                             1551.434204   \n",
       "2016-01-15 01:00:00                             1575.950626   \n",
       "2016-01-15 02:00:00                             1600.386685   \n",
       "2016-01-15 03:00:00                             1600.659236   \n",
       "2016-01-15 04:00:00                             1601.437854   \n",
       "2016-01-15 05:00:00                             1602.074298   \n",
       "2016-01-15 06:00:00                             1602.816321   \n",
       "2016-01-15 07:00:00                             1601.078254   \n",
       "2016-01-15 08:00:00                             1598.804355   \n",
       "2016-01-15 09:00:00                             1597.455353   \n",
       "\n",
       "                     primary_cleaner.state.floatbank8_b_level  \\\n",
       "date                                                            \n",
       "2016-01-15 00:00:00                               -516.403442   \n",
       "2016-01-15 01:00:00                               -499.865889   \n",
       "2016-01-15 02:00:00                               -500.607762   \n",
       "2016-01-15 03:00:00                               -499.677094   \n",
       "2016-01-15 04:00:00                               -500.323246   \n",
       "2016-01-15 05:00:00                               -500.179481   \n",
       "2016-01-15 06:00:00                               -500.696736   \n",
       "2016-01-15 07:00:00                               -499.494115   \n",
       "2016-01-15 08:00:00                               -499.689644   \n",
       "2016-01-15 09:00:00                               -500.266905   \n",
       "\n",
       "                     primary_cleaner.state.floatbank8_c_air  \\\n",
       "date                                                          \n",
       "2016-01-15 00:00:00                             1549.873901   \n",
       "2016-01-15 01:00:00                             1575.994189   \n",
       "2016-01-15 02:00:00                             1602.003542   \n",
       "2016-01-15 03:00:00                             1600.304144   \n",
       "2016-01-15 04:00:00                             1599.581894   \n",
       "2016-01-15 05:00:00                             1602.154812   \n",
       "2016-01-15 06:00:00                             1603.572091   \n",
       "2016-01-15 07:00:00                             1602.630688   \n",
       "2016-01-15 08:00:00                             1601.689285   \n",
       "2016-01-15 09:00:00                             1600.747882   \n",
       "\n",
       "                     primary_cleaner.state.floatbank8_c_level  \\\n",
       "date                                                            \n",
       "2016-01-15 00:00:00                               -498.666595   \n",
       "2016-01-15 01:00:00                               -499.315107   \n",
       "2016-01-15 02:00:00                               -500.870069   \n",
       "2016-01-15 03:00:00                               -500.727997   \n",
       "2016-01-15 04:00:00                               -500.888152   \n",
       "2016-01-15 05:00:00                               -498.642614   \n",
       "2016-01-15 06:00:00                               -500.256955   \n",
       "2016-01-15 07:00:00                               -500.173741   \n",
       "2016-01-15 08:00:00                               -500.484957   \n",
       "2016-01-15 09:00:00                               -500.541002   \n",
       "\n",
       "                     primary_cleaner.state.floatbank8_d_air  \\\n",
       "date                                                          \n",
       "2016-01-15 00:00:00                             1554.367432   \n",
       "2016-01-15 01:00:00                             1574.479259   \n",
       "2016-01-15 02:00:00                             1599.541515   \n",
       "2016-01-15 03:00:00                             1600.449520   \n",
       "2016-01-15 04:00:00                             1602.649541   \n",
       "2016-01-15 05:00:00                             1605.020106   \n",
       "2016-01-15 06:00:00                             1597.597437   \n",
       "2016-01-15 07:00:00                             1595.937990   \n",
       "2016-01-15 08:00:00                             1602.431117   \n",
       "2016-01-15 09:00:00                             1599.754053   \n",
       "\n",
       "                     primary_cleaner.state.floatbank8_d_level  \\\n",
       "date                                                            \n",
       "2016-01-15 00:00:00                               -493.428131   \n",
       "2016-01-15 01:00:00                               -498.931665   \n",
       "2016-01-15 02:00:00                               -499.827444   \n",
       "2016-01-15 03:00:00                               -500.052575   \n",
       "2016-01-15 04:00:00                               -500.593010   \n",
       "2016-01-15 05:00:00                               -500.538177   \n",
       "2016-01-15 06:00:00                               -500.378192   \n",
       "2016-01-15 07:00:00                               -498.929825   \n",
       "2016-01-15 08:00:00                               -500.650982   \n",
       "2016-01-15 09:00:00                               -499.216962   \n",
       "\n",
       "                     rougher.calculation.sulfate_to_au_concentrate  \\\n",
       "date                                                                 \n",
       "2016-01-15 00:00:00                                   41885.707031   \n",
       "2016-01-15 01:00:00                                   42050.861809   \n",
       "2016-01-15 02:00:00                                   42018.101184   \n",
       "2016-01-15 03:00:00                                   42029.447991   \n",
       "2016-01-15 04:00:00                                   42125.354245   \n",
       "2016-01-15 05:00:00                                   41973.280986   \n",
       "2016-01-15 06:00:00                                   41956.468979   \n",
       "2016-01-15 07:00:00                                   41812.416893   \n",
       "2016-01-15 08:00:00                                   41905.757985   \n",
       "2016-01-15 09:00:00                                   41882.126352   \n",
       "\n",
       "                     rougher.calculation.floatbank10_sulfate_to_au_feed  \\\n",
       "date                                                                      \n",
       "2016-01-15 00:00:00                                        3481.779053    \n",
       "2016-01-15 01:00:00                                        3498.370979    \n",
       "2016-01-15 02:00:00                                        3495.348910    \n",
       "2016-01-15 03:00:00                                        3498.578313    \n",
       "2016-01-15 04:00:00                                        3494.800771    \n",
       "2016-01-15 05:00:00                                        3501.916973    \n",
       "2016-01-15 06:00:00                                        3497.427365    \n",
       "2016-01-15 07:00:00                                        3497.275828    \n",
       "2016-01-15 08:00:00                                        3498.332166    \n",
       "2016-01-15 09:00:00                                        3499.915439    \n",
       "\n",
       "                     rougher.calculation.floatbank11_sulfate_to_au_feed  \\\n",
       "date                                                                      \n",
       "2016-01-15 00:00:00                                        3520.337158    \n",
       "2016-01-15 01:00:00                                        3489.981857    \n",
       "2016-01-15 02:00:00                                        3502.359819    \n",
       "2016-01-15 03:00:00                                        3499.162912    \n",
       "2016-01-15 04:00:00                                        3506.679315    \n",
       "2016-01-15 05:00:00                                        3499.527175    \n",
       "2016-01-15 06:00:00                                        3506.352790    \n",
       "2016-01-15 07:00:00                                        3501.000030    \n",
       "2016-01-15 08:00:00                                        3498.120075    \n",
       "2016-01-15 09:00:00                                        3519.952954    \n",
       "\n",
       "                     rougher.calculation.au_pb_ratio  rougher.input.feed_ag  \\\n",
       "date                                                                          \n",
       "2016-01-15 00:00:00                         2.838687               6.100378   \n",
       "2016-01-15 01:00:00                         2.858998               6.161113   \n",
       "2016-01-15 02:00:00                         2.945989               6.116455   \n",
       "2016-01-15 03:00:00                         3.002340               6.043309   \n",
       "2016-01-15 04:00:00                         3.169615               6.060915   \n",
       "2016-01-15 05:00:00                         3.026134               5.801920   \n",
       "2016-01-15 06:00:00                         2.867933               6.056253   \n",
       "2016-01-15 07:00:00                         2.784698               5.955053   \n",
       "2016-01-15 08:00:00                         2.728844               5.878084   \n",
       "2016-01-15 09:00:00                         2.717442               5.908793   \n",
       "\n",
       "                     rougher.input.feed_pb  rougher.input.feed_rate  \\\n",
       "date                                                                  \n",
       "2016-01-15 00:00:00               2.284912               523.546326   \n",
       "2016-01-15 01:00:00               2.266033               525.290581   \n",
       "2016-01-15 02:00:00               2.159622               530.026610   \n",
       "2016-01-15 03:00:00               2.037807               542.590390   \n",
       "2016-01-15 04:00:00               1.786875               540.531893   \n",
       "2016-01-15 05:00:00               1.879351               546.173470   \n",
       "2016-01-15 06:00:00               2.105501               523.376439   \n",
       "2016-01-15 07:00:00               2.310432               549.842749   \n",
       "2016-01-15 08:00:00               2.391713               560.115242   \n",
       "2016-01-15 09:00:00               2.440899               573.076049   \n",
       "\n",
       "                     rougher.input.feed_size  rougher.input.feed_sol  \\\n",
       "date                                                                   \n",
       "2016-01-15 00:00:00                55.486599               36.808594   \n",
       "2016-01-15 01:00:00                57.278666               35.753385   \n",
       "2016-01-15 02:00:00                57.510649               35.971630   \n",
       "2016-01-15 03:00:00                57.792734               36.862241   \n",
       "2016-01-15 04:00:00                56.047189               34.347666   \n",
       "2016-01-15 05:00:00                57.469578               35.470082   \n",
       "2016-01-15 06:00:00                56.674647               34.920570   \n",
       "2016-01-15 07:00:00                56.730325               36.091386   \n",
       "2016-01-15 08:00:00                56.649893               35.753879   \n",
       "2016-01-15 09:00:00                58.509262               36.958540   \n",
       "\n",
       "                     rougher.input.feed_au  rougher.input.floatbank10_sulfate  \\\n",
       "date                                                                            \n",
       "2016-01-15 00:00:00               6.486150                          11.986616   \n",
       "2016-01-15 01:00:00               6.478583                          11.971193   \n",
       "2016-01-15 02:00:00               6.362222                          11.920603   \n",
       "2016-01-15 03:00:00               6.118189                          11.630094   \n",
       "2016-01-15 04:00:00               5.663707                          10.957755   \n",
       "2016-01-15 05:00:00               5.687168                          11.072517   \n",
       "2016-01-15 06:00:00               6.038436                          11.535899   \n",
       "2016-01-15 07:00:00               6.433854                          12.557906   \n",
       "2016-01-15 08:00:00               6.526612                          13.166128   \n",
       "2016-01-15 09:00:00               6.633002                          13.707775   \n",
       "\n",
       "                     rougher.input.floatbank10_xanthate  \\\n",
       "date                                                      \n",
       "2016-01-15 00:00:00                            6.007990   \n",
       "2016-01-15 01:00:00                            6.005766   \n",
       "2016-01-15 02:00:00                            6.197377   \n",
       "2016-01-15 03:00:00                            6.203177   \n",
       "2016-01-15 04:00:00                            6.198826   \n",
       "2016-01-15 05:00:00                            6.200383   \n",
       "2016-01-15 06:00:00                            6.204974   \n",
       "2016-01-15 07:00:00                            6.799275   \n",
       "2016-01-15 08:00:00                            6.798659   \n",
       "2016-01-15 09:00:00                            6.820245   \n",
       "\n",
       "                     rougher.input.floatbank11_sulfate  \\\n",
       "date                                                     \n",
       "2016-01-15 00:00:00                          11.836743   \n",
       "2016-01-15 01:00:00                          11.996163   \n",
       "2016-01-15 02:00:00                          11.920305   \n",
       "2016-01-15 03:00:00                          11.692450   \n",
       "2016-01-15 04:00:00                          10.960521   \n",
       "2016-01-15 05:00:00                          11.075009   \n",
       "2016-01-15 06:00:00                          11.539227   \n",
       "2016-01-15 07:00:00                          12.583109   \n",
       "2016-01-15 08:00:00                          13.184764   \n",
       "2016-01-15 09:00:00                          13.812674   \n",
       "\n",
       "                     rougher.input.floatbank11_xanthate  \\\n",
       "date                                                      \n",
       "2016-01-15 00:00:00                            6.005818   \n",
       "2016-01-15 01:00:00                            6.012594   \n",
       "2016-01-15 02:00:00                            6.204633   \n",
       "2016-01-15 03:00:00                            6.196578   \n",
       "2016-01-15 04:00:00                            6.194897   \n",
       "2016-01-15 05:00:00                            6.202362   \n",
       "2016-01-15 06:00:00                            6.200515   \n",
       "2016-01-15 07:00:00                            6.798354   \n",
       "2016-01-15 08:00:00                            6.800021   \n",
       "2016-01-15 09:00:00                            6.790624   \n",
       "\n",
       "                     rougher.output.concentrate_ag  \\\n",
       "date                                                 \n",
       "2016-01-15 00:00:00                      11.500771   \n",
       "2016-01-15 01:00:00                      11.615865   \n",
       "2016-01-15 02:00:00                      11.695753   \n",
       "2016-01-15 03:00:00                      11.915047   \n",
       "2016-01-15 04:00:00                      12.411054   \n",
       "2016-01-15 05:00:00                      11.985584   \n",
       "2016-01-15 06:00:00                      11.684307   \n",
       "2016-01-15 07:00:00                      11.182624   \n",
       "2016-01-15 08:00:00                      11.051323   \n",
       "2016-01-15 09:00:00                      11.116297   \n",
       "\n",
       "                     rougher.output.concentrate_pb  \\\n",
       "date                                                 \n",
       "2016-01-15 00:00:00                       7.101074   \n",
       "2016-01-15 01:00:00                       7.278807   \n",
       "2016-01-15 02:00:00                       7.216833   \n",
       "2016-01-15 03:00:00                       7.175616   \n",
       "2016-01-15 04:00:00                       7.240205   \n",
       "2016-01-15 05:00:00                       7.121903   \n",
       "2016-01-15 06:00:00                       7.304849   \n",
       "2016-01-15 07:00:00                       7.258496   \n",
       "2016-01-15 08:00:00                       7.380043   \n",
       "2016-01-15 09:00:00                       7.297363   \n",
       "\n",
       "                     rougher.output.concentrate_sol  \\\n",
       "date                                                  \n",
       "2016-01-15 00:00:00                       28.029297   \n",
       "2016-01-15 01:00:00                       28.067063   \n",
       "2016-01-15 02:00:00                       27.454037   \n",
       "2016-01-15 03:00:00                       27.341277   \n",
       "2016-01-15 04:00:00                       27.041023   \n",
       "2016-01-15 05:00:00                       26.898046   \n",
       "2016-01-15 06:00:00                       27.063672   \n",
       "2016-01-15 07:00:00                       27.231114   \n",
       "2016-01-15 08:00:00                       27.404296   \n",
       "2016-01-15 09:00:00                       27.497520   \n",
       "\n",
       "                     rougher.output.concentrate_au  rougher.output.recovery  \\\n",
       "date                                                                          \n",
       "2016-01-15 00:00:00                      19.793808                87.107763   \n",
       "2016-01-15 01:00:00                      20.050975                86.843261   \n",
       "2016-01-15 02:00:00                      19.737170                86.842308   \n",
       "2016-01-15 03:00:00                      19.320810                87.226430   \n",
       "2016-01-15 04:00:00                      19.216101                86.688794   \n",
       "2016-01-15 05:00:00                      18.950385                88.156912   \n",
       "2016-01-15 06:00:00                      19.319591                88.168065   \n",
       "2016-01-15 07:00:00                      19.507897                87.668336   \n",
       "2016-01-15 08:00:00                      19.789465                87.035862   \n",
       "2016-01-15 09:00:00                      19.497669                87.650868   \n",
       "\n",
       "                     rougher.output.tail_ag  rougher.output.tail_pb  \\\n",
       "date                                                                  \n",
       "2016-01-15 00:00:00                5.008018                0.508728   \n",
       "2016-01-15 01:00:00                4.955378                0.536689   \n",
       "2016-01-15 02:00:00                4.843460                0.546416   \n",
       "2016-01-15 03:00:00                4.655288                0.542525   \n",
       "2016-01-15 04:00:00                4.552800                0.515438   \n",
       "2016-01-15 05:00:00                4.397415                0.491350   \n",
       "2016-01-15 06:00:00                4.478080                0.518266   \n",
       "2016-01-15 07:00:00                4.728325                0.548067   \n",
       "2016-01-15 08:00:00                4.764300                0.599181   \n",
       "2016-01-15 09:00:00                4.667157                0.615418   \n",
       "\n",
       "                     rougher.output.tail_sol  rougher.output.tail_au  \\\n",
       "date                                                                   \n",
       "2016-01-15 00:00:00                19.154297                1.170244   \n",
       "2016-01-15 01:00:00                18.965234                1.184827   \n",
       "2016-01-15 02:00:00                18.808533                1.162562   \n",
       "2016-01-15 03:00:00                19.330200                1.079755   \n",
       "2016-01-15 04:00:00                19.267422                1.012642   \n",
       "2016-01-15 05:00:00                19.640269                0.915835   \n",
       "2016-01-15 06:00:00                19.262491                0.986248   \n",
       "2016-01-15 07:00:00                18.861866                1.116110   \n",
       "2016-01-15 08:00:00                18.873082                1.186780   \n",
       "2016-01-15 09:00:00                18.907179                1.167140   \n",
       "\n",
       "                     rougher.state.floatbank10_a_air  \\\n",
       "date                                                   \n",
       "2016-01-15 00:00:00                       999.706909   \n",
       "2016-01-15 01:00:00                      1000.286398   \n",
       "2016-01-15 02:00:00                       999.719565   \n",
       "2016-01-15 03:00:00                       999.814770   \n",
       "2016-01-15 04:00:00                       999.678690   \n",
       "2016-01-15 05:00:00                       999.934134   \n",
       "2016-01-15 06:00:00                       999.832373   \n",
       "2016-01-15 07:00:00                      1000.166602   \n",
       "2016-01-15 08:00:00                      1000.026864   \n",
       "2016-01-15 09:00:00                      1000.589156   \n",
       "\n",
       "                     rougher.state.floatbank10_a_level  \\\n",
       "date                                                     \n",
       "2016-01-15 00:00:00                        -404.066986   \n",
       "2016-01-15 01:00:00                        -400.065196   \n",
       "2016-01-15 02:00:00                        -400.074028   \n",
       "2016-01-15 03:00:00                        -400.200179   \n",
       "2016-01-15 04:00:00                        -399.752729   \n",
       "2016-01-15 05:00:00                        -400.599524   \n",
       "2016-01-15 06:00:00                        -399.353521   \n",
       "2016-01-15 07:00:00                        -400.556601   \n",
       "2016-01-15 08:00:00                        -399.968583   \n",
       "2016-01-15 09:00:00                        -398.879586   \n",
       "\n",
       "                     rougher.state.floatbank10_b_air  \\\n",
       "date                                                   \n",
       "2016-01-15 00:00:00                      1603.011353   \n",
       "2016-01-15 01:00:00                      1600.754587   \n",
       "2016-01-15 02:00:00                      1599.337330   \n",
       "2016-01-15 03:00:00                      1600.059442   \n",
       "2016-01-15 04:00:00                      1600.208824   \n",
       "2016-01-15 05:00:00                      1601.080554   \n",
       "2016-01-15 06:00:00                      1600.753019   \n",
       "2016-01-15 07:00:00                      1598.877246   \n",
       "2016-01-15 08:00:00                      1599.813104   \n",
       "2016-01-15 09:00:00                      1598.975250   \n",
       "\n",
       "                     rougher.state.floatbank10_b_level  \\\n",
       "date                                                     \n",
       "2016-01-15 00:00:00                        -434.715027   \n",
       "2016-01-15 01:00:00                        -449.953435   \n",
       "2016-01-15 02:00:00                        -450.008530   \n",
       "2016-01-15 03:00:00                        -450.619948   \n",
       "2016-01-15 04:00:00                        -449.599614   \n",
       "2016-01-15 05:00:00                        -450.120760   \n",
       "2016-01-15 06:00:00                        -450.050089   \n",
       "2016-01-15 07:00:00                        -450.070980   \n",
       "2016-01-15 08:00:00                        -450.481122   \n",
       "2016-01-15 09:00:00                        -451.238638   \n",
       "\n",
       "                     rougher.state.floatbank10_c_air  \\\n",
       "date                                                   \n",
       "2016-01-15 00:00:00                      1602.375000   \n",
       "2016-01-15 01:00:00                      1600.479580   \n",
       "2016-01-15 02:00:00                      1599.672797   \n",
       "2016-01-15 03:00:00                      1600.012842   \n",
       "2016-01-15 04:00:00                      1600.357732   \n",
       "2016-01-15 05:00:00                      1603.164805   \n",
       "2016-01-15 06:00:00                      1599.019966   \n",
       "2016-01-15 07:00:00                      1598.108717   \n",
       "2016-01-15 08:00:00                      1600.024621   \n",
       "2016-01-15 09:00:00                      1600.058139   \n",
       "\n",
       "                     rougher.state.floatbank10_c_level  \\\n",
       "date                                                     \n",
       "2016-01-15 00:00:00                        -442.204468   \n",
       "2016-01-15 01:00:00                        -449.830646   \n",
       "2016-01-15 02:00:00                        -449.954491   \n",
       "2016-01-15 03:00:00                        -449.910497   \n",
       "2016-01-15 04:00:00                        -450.034364   \n",
       "2016-01-15 05:00:00                        -450.097732   \n",
       "2016-01-15 06:00:00                        -449.848507   \n",
       "2016-01-15 07:00:00                        -449.211334   \n",
       "2016-01-15 08:00:00                        -450.365493   \n",
       "2016-01-15 09:00:00                        -451.271448   \n",
       "\n",
       "                     rougher.state.floatbank10_d_air  \\\n",
       "date                                                   \n",
       "2016-01-15 00:00:00                      1598.937256   \n",
       "2016-01-15 01:00:00                      1600.527589   \n",
       "2016-01-15 02:00:00                      1599.849325   \n",
       "2016-01-15 03:00:00                      1597.725177   \n",
       "2016-01-15 04:00:00                      1599.759049   \n",
       "2016-01-15 05:00:00                      1603.368371   \n",
       "2016-01-15 06:00:00                      1600.298267   \n",
       "2016-01-15 07:00:00                      1592.872844   \n",
       "2016-01-15 08:00:00                      1594.448648   \n",
       "2016-01-15 09:00:00                      1610.182874   \n",
       "\n",
       "                     rougher.state.floatbank10_d_level  \\\n",
       "date                                                     \n",
       "2016-01-15 00:00:00                        -451.294128   \n",
       "2016-01-15 01:00:00                        -449.953649   \n",
       "2016-01-15 02:00:00                        -449.954185   \n",
       "2016-01-15 03:00:00                        -450.130127   \n",
       "2016-01-15 04:00:00                        -449.909799   \n",
       "2016-01-15 05:00:00                        -446.306150   \n",
       "2016-01-15 06:00:00                        -453.102891   \n",
       "2016-01-15 07:00:00                        -449.806802   \n",
       "2016-01-15 08:00:00                        -449.882428   \n",
       "2016-01-15 09:00:00                        -450.460190   \n",
       "\n",
       "                     rougher.state.floatbank10_e_air  \\\n",
       "date                                                   \n",
       "2016-01-15 00:00:00                      1404.472046   \n",
       "2016-01-15 01:00:00                      1399.227084   \n",
       "2016-01-15 02:00:00                      1399.180945   \n",
       "2016-01-15 03:00:00                      1400.943157   \n",
       "2016-01-15 04:00:00                      1401.560902   \n",
       "2016-01-15 05:00:00                      1403.393100   \n",
       "2016-01-15 06:00:00                      1397.853265   \n",
       "2016-01-15 07:00:00                      1396.580752   \n",
       "2016-01-15 08:00:00                      1402.033682   \n",
       "2016-01-15 09:00:00                      1399.194663   \n",
       "\n",
       "                     rougher.state.floatbank10_e_level  \\\n",
       "date                                                     \n",
       "2016-01-15 00:00:00                        -455.462982   \n",
       "2016-01-15 01:00:00                        -450.869848   \n",
       "2016-01-15 02:00:00                        -449.937588   \n",
       "2016-01-15 03:00:00                        -450.030142   \n",
       "2016-01-15 04:00:00                        -448.877187   \n",
       "2016-01-15 05:00:00                        -447.899904   \n",
       "2016-01-15 06:00:00                        -451.306640   \n",
       "2016-01-15 07:00:00                        -453.548352   \n",
       "2016-01-15 08:00:00                        -448.545552   \n",
       "2016-01-15 09:00:00                        -450.332681   \n",
       "\n",
       "                     rougher.state.floatbank10_f_air  \\\n",
       "date                                                   \n",
       "2016-01-15 00:00:00                      1416.354980   \n",
       "2016-01-15 01:00:00                      1399.719514   \n",
       "2016-01-15 02:00:00                      1400.316682   \n",
       "2016-01-15 03:00:00                      1400.234743   \n",
       "2016-01-15 04:00:00                      1401.160227   \n",
       "2016-01-15 05:00:00                      1402.903175   \n",
       "2016-01-15 06:00:00                      1397.973670   \n",
       "2016-01-15 07:00:00                      1397.289884   \n",
       "2016-01-15 08:00:00                      1400.748347   \n",
       "2016-01-15 09:00:00                      1399.638290   \n",
       "\n",
       "                     rougher.state.floatbank10_f_level  \\\n",
       "date                                                     \n",
       "2016-01-15 00:00:00                        -451.939636   \n",
       "2016-01-15 01:00:00                        -450.119001   \n",
       "2016-01-15 02:00:00                        -450.527147   \n",
       "2016-01-15 03:00:00                        -449.790835   \n",
       "2016-01-15 04:00:00                        -450.407128   \n",
       "2016-01-15 05:00:00                        -448.872321   \n",
       "2016-01-15 06:00:00                        -451.355626   \n",
       "2016-01-15 07:00:00                        -450.221696   \n",
       "2016-01-15 08:00:00                        -450.303991   \n",
       "2016-01-15 09:00:00                        -450.198722   \n",
       "\n",
       "                     secondary_cleaner.output.tail_ag  \\\n",
       "date                                                    \n",
       "2016-01-15 00:00:00                         14.500184   \n",
       "2016-01-15 01:00:00                         14.265474   \n",
       "2016-01-15 02:00:00                         14.115662   \n",
       "2016-01-15 03:00:00                         13.732071   \n",
       "2016-01-15 04:00:00                         14.079996   \n",
       "2016-01-15 05:00:00                         13.615012   \n",
       "2016-01-15 06:00:00                         13.597056   \n",
       "2016-01-15 07:00:00                         13.177237   \n",
       "2016-01-15 08:00:00                         13.487870   \n",
       "2016-01-15 09:00:00                         13.209191   \n",
       "\n",
       "                     secondary_cleaner.output.tail_pb  \\\n",
       "date                                                    \n",
       "2016-01-15 00:00:00                          4.694824   \n",
       "2016-01-15 01:00:00                          4.592547   \n",
       "2016-01-15 02:00:00                          4.624775   \n",
       "2016-01-15 03:00:00                          4.482453   \n",
       "2016-01-15 04:00:00                          4.470737   \n",
       "2016-01-15 05:00:00                          4.286817   \n",
       "2016-01-15 06:00:00                          4.487865   \n",
       "2016-01-15 07:00:00                          4.432448   \n",
       "2016-01-15 08:00:00                          4.608756   \n",
       "2016-01-15 09:00:00                          4.550553   \n",
       "\n",
       "                     secondary_cleaner.output.tail_sol  \\\n",
       "date                                                     \n",
       "2016-01-15 00:00:00                           8.764648   \n",
       "2016-01-15 01:00:00                           9.001494   \n",
       "2016-01-15 02:00:00                           8.842896   \n",
       "2016-01-15 03:00:00                           9.122857   \n",
       "2016-01-15 04:00:00                           8.871028   \n",
       "2016-01-15 05:00:00                           9.302669   \n",
       "2016-01-15 06:00:00                           9.103047   \n",
       "2016-01-15 07:00:00                           9.369209   \n",
       "2016-01-15 08:00:00                           9.437044   \n",
       "2016-01-15 09:00:00                           9.813732   \n",
       "\n",
       "                     secondary_cleaner.output.tail_au  \\\n",
       "date                                                    \n",
       "2016-01-15 00:00:00                          2.606185   \n",
       "2016-01-15 01:00:00                          2.488248   \n",
       "2016-01-15 02:00:00                          2.458187   \n",
       "2016-01-15 03:00:00                          2.322062   \n",
       "2016-01-15 04:00:00                          2.330448   \n",
       "2016-01-15 05:00:00                          2.192127   \n",
       "2016-01-15 06:00:00                          2.316720   \n",
       "2016-01-15 07:00:00                          2.192197   \n",
       "2016-01-15 08:00:00                          2.212084   \n",
       "2016-01-15 09:00:00                          2.073737   \n",
       "\n",
       "                     secondary_cleaner.state.floatbank2_a_air  \\\n",
       "date                                                            \n",
       "2016-01-15 00:00:00                                 25.853109   \n",
       "2016-01-15 01:00:00                                 25.880539   \n",
       "2016-01-15 02:00:00                                 26.005245   \n",
       "2016-01-15 03:00:00                                 25.942508   \n",
       "2016-01-15 04:00:00                                 26.024787   \n",
       "2016-01-15 05:00:00                                 26.014841   \n",
       "2016-01-15 06:00:00                                 25.957594   \n",
       "2016-01-15 07:00:00                                 25.938026   \n",
       "2016-01-15 08:00:00                                 25.929511   \n",
       "2016-01-15 09:00:00                                 26.059510   \n",
       "\n",
       "                     secondary_cleaner.state.floatbank2_a_level  \\\n",
       "date                                                              \n",
       "2016-01-15 00:00:00                                 -498.526489   \n",
       "2016-01-15 01:00:00                                 -499.989656   \n",
       "2016-01-15 02:00:00                                 -499.929616   \n",
       "2016-01-15 03:00:00                                 -499.176749   \n",
       "2016-01-15 04:00:00                                 -500.279091   \n",
       "2016-01-15 05:00:00                                 -498.864670   \n",
       "2016-01-15 06:00:00                                 -500.134472   \n",
       "2016-01-15 07:00:00                                 -499.657795   \n",
       "2016-01-15 08:00:00                                 -500.079889   \n",
       "2016-01-15 09:00:00                                 -499.151646   \n",
       "\n",
       "                     secondary_cleaner.state.floatbank2_b_air  \\\n",
       "date                                                            \n",
       "2016-01-15 00:00:00                                 23.893660   \n",
       "2016-01-15 01:00:00                                 23.889530   \n",
       "2016-01-15 02:00:00                                 23.886657   \n",
       "2016-01-15 03:00:00                                 23.955516   \n",
       "2016-01-15 04:00:00                                 23.955345   \n",
       "2016-01-15 05:00:00                                 23.880214   \n",
       "2016-01-15 06:00:00                                 24.077199   \n",
       "2016-01-15 07:00:00                                 24.020179   \n",
       "2016-01-15 08:00:00                                 23.977375   \n",
       "2016-01-15 09:00:00                                 23.934570   \n",
       "\n",
       "                     secondary_cleaner.state.floatbank2_b_level  \\\n",
       "date                                                              \n",
       "2016-01-15 00:00:00                                 -501.406281   \n",
       "2016-01-15 01:00:00                                 -500.372428   \n",
       "2016-01-15 02:00:00                                 -499.951928   \n",
       "2016-01-15 03:00:00                                 -499.848796   \n",
       "2016-01-15 04:00:00                                 -500.593614   \n",
       "2016-01-15 05:00:00                                 -499.738447   \n",
       "2016-01-15 06:00:00                                 -500.089190   \n",
       "2016-01-15 07:00:00                                 -499.798396   \n",
       "2016-01-15 08:00:00                                 -500.005187   \n",
       "2016-01-15 09:00:00                                 -499.351758   \n",
       "\n",
       "                     secondary_cleaner.state.floatbank3_a_air  \\\n",
       "date                                                            \n",
       "2016-01-15 00:00:00                                 23.961798   \n",
       "2016-01-15 01:00:00                                 23.970550   \n",
       "2016-01-15 02:00:00                                 23.913535   \n",
       "2016-01-15 03:00:00                                 23.966838   \n",
       "2016-01-15 04:00:00                                 23.985703   \n",
       "2016-01-15 05:00:00                                 23.982635   \n",
       "2016-01-15 06:00:00                                 23.991710   \n",
       "2016-01-15 07:00:00                                 24.031555   \n",
       "2016-01-15 08:00:00                                 23.998809   \n",
       "2016-01-15 09:00:00                                 23.994184   \n",
       "\n",
       "                     secondary_cleaner.state.floatbank3_a_level  \\\n",
       "date                                                              \n",
       "2016-01-15 00:00:00                                 -495.262817   \n",
       "2016-01-15 01:00:00                                 -500.085473   \n",
       "2016-01-15 02:00:00                                 -499.442343   \n",
       "2016-01-15 03:00:00                                 -500.008812   \n",
       "2016-01-15 04:00:00                                 -500.083811   \n",
       "2016-01-15 05:00:00                                 -500.495272   \n",
       "2016-01-15 06:00:00                                 -500.391528   \n",
       "2016-01-15 07:00:00                                 -500.550436   \n",
       "2016-01-15 08:00:00                                 -500.400133   \n",
       "2016-01-15 09:00:00                                 -500.078566   \n",
       "\n",
       "                     secondary_cleaner.state.floatbank3_b_air  \\\n",
       "date                                                            \n",
       "2016-01-15 00:00:00                                 21.940409   \n",
       "2016-01-15 01:00:00                                 22.085714   \n",
       "2016-01-15 02:00:00                                 23.957717   \n",
       "2016-01-15 03:00:00                                 23.954443   \n",
       "2016-01-15 04:00:00                                 23.958945   \n",
       "2016-01-15 05:00:00                                 24.009749   \n",
       "2016-01-15 06:00:00                                 23.954144   \n",
       "2016-01-15 07:00:00                                 23.968160   \n",
       "2016-01-15 08:00:00                                 23.982633   \n",
       "2016-01-15 09:00:00                                 23.924481   \n",
       "\n",
       "                     secondary_cleaner.state.floatbank3_b_level  \\\n",
       "date                                                              \n",
       "2016-01-15 00:00:00                                 -499.340973   \n",
       "2016-01-15 01:00:00                                 -499.446897   \n",
       "2016-01-15 02:00:00                                 -499.901982   \n",
       "2016-01-15 03:00:00                                 -499.944710   \n",
       "2016-01-15 04:00:00                                 -499.990309   \n",
       "2016-01-15 05:00:00                                 -499.433825   \n",
       "2016-01-15 06:00:00                                 -501.872171   \n",
       "2016-01-15 07:00:00                                 -499.836513   \n",
       "2016-01-15 08:00:00                                 -499.826311   \n",
       "2016-01-15 09:00:00                                 -499.989024   \n",
       "\n",
       "                     secondary_cleaner.state.floatbank4_a_air  \\\n",
       "date                                                            \n",
       "2016-01-15 00:00:00                                 14.016835   \n",
       "2016-01-15 01:00:00                                 13.992281   \n",
       "2016-01-15 02:00:00                                 14.015015   \n",
       "2016-01-15 03:00:00                                 14.036510   \n",
       "2016-01-15 04:00:00                                 14.027298   \n",
       "2016-01-15 05:00:00                                 13.938497   \n",
       "2016-01-15 06:00:00                                 14.046819   \n",
       "2016-01-15 07:00:00                                 13.974691   \n",
       "2016-01-15 08:00:00                                 13.964030   \n",
       "2016-01-15 09:00:00                                 13.989632   \n",
       "\n",
       "                     secondary_cleaner.state.floatbank4_a_level  \\\n",
       "date                                                              \n",
       "2016-01-15 00:00:00                                 -502.488007   \n",
       "2016-01-15 01:00:00                                 -505.503262   \n",
       "2016-01-15 02:00:00                                 -502.520901   \n",
       "2016-01-15 03:00:00                                 -500.857308   \n",
       "2016-01-15 04:00:00                                 -499.838632   \n",
       "2016-01-15 05:00:00                                 -500.970168   \n",
       "2016-01-15 06:00:00                                 -500.971133   \n",
       "2016-01-15 07:00:00                                 -501.819696   \n",
       "2016-01-15 08:00:00                                 -504.252450   \n",
       "2016-01-15 09:00:00                                 -503.195299   \n",
       "\n",
       "                     secondary_cleaner.state.floatbank4_b_air  \\\n",
       "date                                                            \n",
       "2016-01-15 00:00:00                                 12.099931   \n",
       "2016-01-15 01:00:00                                 11.950531   \n",
       "2016-01-15 02:00:00                                 11.912783   \n",
       "2016-01-15 03:00:00                                 11.999550   \n",
       "2016-01-15 04:00:00                                 11.953070   \n",
       "2016-01-15 05:00:00                                 11.883350   \n",
       "2016-01-15 06:00:00                                 12.091543   \n",
       "2016-01-15 07:00:00                                 12.101324   \n",
       "2016-01-15 08:00:00                                 12.060738   \n",
       "2016-01-15 09:00:00                                 12.052233   \n",
       "\n",
       "                     secondary_cleaner.state.floatbank4_b_level  \\\n",
       "date                                                              \n",
       "2016-01-15 00:00:00                                 -504.715942   \n",
       "2016-01-15 01:00:00                                 -501.331529   \n",
       "2016-01-15 02:00:00                                 -501.133383   \n",
       "2016-01-15 03:00:00                                 -501.193686   \n",
       "2016-01-15 04:00:00                                 -501.053894   \n",
       "2016-01-15 05:00:00                                 -500.395298   \n",
       "2016-01-15 06:00:00                                 -500.501426   \n",
       "2016-01-15 07:00:00                                 -500.583446   \n",
       "2016-01-15 08:00:00                                 -501.174549   \n",
       "2016-01-15 09:00:00                                 -500.928547   \n",
       "\n",
       "                     secondary_cleaner.state.floatbank5_a_air  \\\n",
       "date                                                            \n",
       "2016-01-15 00:00:00                                  9.925633   \n",
       "2016-01-15 01:00:00                                 10.039245   \n",
       "2016-01-15 02:00:00                                 10.070913   \n",
       "2016-01-15 03:00:00                                  9.970366   \n",
       "2016-01-15 04:00:00                                  9.925709   \n",
       "2016-01-15 05:00:00                                 10.054147   \n",
       "2016-01-15 06:00:00                                 10.003247   \n",
       "2016-01-15 07:00:00                                  9.873169   \n",
       "2016-01-15 08:00:00                                 10.033838   \n",
       "2016-01-15 09:00:00                                  9.962574   \n",
       "\n",
       "                     secondary_cleaner.state.floatbank5_a_level  \\\n",
       "date                                                              \n",
       "2016-01-15 00:00:00                                 -498.310211   \n",
       "2016-01-15 01:00:00                                 -500.169983   \n",
       "2016-01-15 02:00:00                                 -500.129135   \n",
       "2016-01-15 03:00:00                                 -499.201640   \n",
       "2016-01-15 04:00:00                                 -501.686727   \n",
       "2016-01-15 05:00:00                                 -496.374715   \n",
       "2016-01-15 06:00:00                                 -497.083180   \n",
       "2016-01-15 07:00:00                                 -499.171928   \n",
       "2016-01-15 08:00:00                                 -501.178133   \n",
       "2016-01-15 09:00:00                                 -502.986357   \n",
       "\n",
       "                     secondary_cleaner.state.floatbank5_b_air  \\\n",
       "date                                                            \n",
       "2016-01-15 00:00:00                                  8.079666   \n",
       "2016-01-15 01:00:00                                  7.984757   \n",
       "2016-01-15 02:00:00                                  8.013877   \n",
       "2016-01-15 03:00:00                                  7.977324   \n",
       "2016-01-15 04:00:00                                  7.894242   \n",
       "2016-01-15 05:00:00                                  7.965083   \n",
       "2016-01-15 06:00:00                                  8.010890   \n",
       "2016-01-15 07:00:00                                  7.993381   \n",
       "2016-01-15 08:00:00                                  7.881604   \n",
       "2016-01-15 09:00:00                                  7.979219   \n",
       "\n",
       "                     secondary_cleaner.state.floatbank5_b_level  \\\n",
       "date                                                              \n",
       "2016-01-15 00:00:00                                 -500.470978   \n",
       "2016-01-15 01:00:00                                 -500.582168   \n",
       "2016-01-15 02:00:00                                 -500.517572   \n",
       "2016-01-15 03:00:00                                 -500.255908   \n",
       "2016-01-15 04:00:00                                 -500.356035   \n",
       "2016-01-15 05:00:00                                 -499.364752   \n",
       "2016-01-15 06:00:00                                 -500.002423   \n",
       "2016-01-15 07:00:00                                 -499.794518   \n",
       "2016-01-15 08:00:00                                 -499.729434   \n",
       "2016-01-15 09:00:00                                 -500.146835   \n",
       "\n",
       "                     secondary_cleaner.state.floatbank6_a_air  \\\n",
       "date                                                            \n",
       "2016-01-15 00:00:00                                 14.151341   \n",
       "2016-01-15 01:00:00                                 13.998353   \n",
       "2016-01-15 02:00:00                                 14.028663   \n",
       "2016-01-15 03:00:00                                 14.005551   \n",
       "2016-01-15 04:00:00                                 13.996647   \n",
       "2016-01-15 05:00:00                                 14.017067   \n",
       "2016-01-15 06:00:00                                 14.029649   \n",
       "2016-01-15 07:00:00                                 13.984498   \n",
       "2016-01-15 08:00:00                                 13.967135   \n",
       "2016-01-15 09:00:00                                 13.981614   \n",
       "\n",
       "                     secondary_cleaner.state.floatbank6_a_level  \n",
       "date                                                             \n",
       "2016-01-15 00:00:00                                 -605.841980  \n",
       "2016-01-15 01:00:00                                 -599.787184  \n",
       "2016-01-15 02:00:00                                 -601.427363  \n",
       "2016-01-15 03:00:00                                 -599.996129  \n",
       "2016-01-15 04:00:00                                 -601.496691  \n",
       "2016-01-15 05:00:00                                 -599.707915  \n",
       "2016-01-15 06:00:00                                 -600.905470  \n",
       "2016-01-15 07:00:00                                 -600.411070  \n",
       "2016-01-15 08:00:00                                 -599.061188  \n",
       "2016-01-15 09:00:00                                 -598.070855  "
      ]
     },
     "metadata": {},
     "output_type": "display_data"
    },
    {
     "name": "stdout",
     "output_type": "stream",
     "text": [
      "Информация о таблице: Исходные данные\n",
      "<class 'pandas.core.frame.DataFrame'>\n",
      "Index: 19439 entries, 2016-01-15 00:00:00 to 2018-08-18 10:59:59\n",
      "Data columns (total 86 columns):\n",
      " #   Column                                              Non-Null Count  Dtype  \n",
      "---  ------                                              --------------  -----  \n",
      " 0   final.output.concentrate_ag                         19438 non-null  float64\n",
      " 1   final.output.concentrate_pb                         19438 non-null  float64\n",
      " 2   final.output.concentrate_sol                        19228 non-null  float64\n",
      " 3   final.output.concentrate_au                         19439 non-null  float64\n",
      " 4   final.output.recovery                               19439 non-null  float64\n",
      " 5   final.output.tail_ag                                19438 non-null  float64\n",
      " 6   final.output.tail_pb                                19338 non-null  float64\n",
      " 7   final.output.tail_sol                               19433 non-null  float64\n",
      " 8   final.output.tail_au                                19439 non-null  float64\n",
      " 9   primary_cleaner.input.sulfate                       19415 non-null  float64\n",
      " 10  primary_cleaner.input.depressant                    19402 non-null  float64\n",
      " 11  primary_cleaner.input.feed_size                     19439 non-null  float64\n",
      " 12  primary_cleaner.input.xanthate                      19335 non-null  float64\n",
      " 13  primary_cleaner.output.concentrate_ag               19439 non-null  float64\n",
      " 14  primary_cleaner.output.concentrate_pb               19323 non-null  float64\n",
      " 15  primary_cleaner.output.concentrate_sol              19069 non-null  float64\n",
      " 16  primary_cleaner.output.concentrate_au               19439 non-null  float64\n",
      " 17  primary_cleaner.output.tail_ag                      19435 non-null  float64\n",
      " 18  primary_cleaner.output.tail_pb                      19418 non-null  float64\n",
      " 19  primary_cleaner.output.tail_sol                     19377 non-null  float64\n",
      " 20  primary_cleaner.output.tail_au                      19439 non-null  float64\n",
      " 21  primary_cleaner.state.floatbank8_a_air              19435 non-null  float64\n",
      " 22  primary_cleaner.state.floatbank8_a_level            19438 non-null  float64\n",
      " 23  primary_cleaner.state.floatbank8_b_air              19435 non-null  float64\n",
      " 24  primary_cleaner.state.floatbank8_b_level            19438 non-null  float64\n",
      " 25  primary_cleaner.state.floatbank8_c_air              19437 non-null  float64\n",
      " 26  primary_cleaner.state.floatbank8_c_level            19438 non-null  float64\n",
      " 27  primary_cleaner.state.floatbank8_d_air              19436 non-null  float64\n",
      " 28  primary_cleaner.state.floatbank8_d_level            19438 non-null  float64\n",
      " 29  rougher.calculation.sulfate_to_au_concentrate       19437 non-null  float64\n",
      " 30  rougher.calculation.floatbank10_sulfate_to_au_feed  19437 non-null  float64\n",
      " 31  rougher.calculation.floatbank11_sulfate_to_au_feed  19437 non-null  float64\n",
      " 32  rougher.calculation.au_pb_ratio                     19439 non-null  float64\n",
      " 33  rougher.input.feed_ag                               19439 non-null  float64\n",
      " 34  rougher.input.feed_pb                               19339 non-null  float64\n",
      " 35  rougher.input.feed_rate                             19428 non-null  float64\n",
      " 36  rougher.input.feed_size                             19294 non-null  float64\n",
      " 37  rougher.input.feed_sol                              19340 non-null  float64\n",
      " 38  rougher.input.feed_au                               19439 non-null  float64\n",
      " 39  rougher.input.floatbank10_sulfate                   19405 non-null  float64\n",
      " 40  rougher.input.floatbank10_xanthate                  19431 non-null  float64\n",
      " 41  rougher.input.floatbank11_sulfate                   19395 non-null  float64\n",
      " 42  rougher.input.floatbank11_xanthate                  18986 non-null  float64\n",
      " 43  rougher.output.concentrate_ag                       19439 non-null  float64\n",
      " 44  rougher.output.concentrate_pb                       19439 non-null  float64\n",
      " 45  rougher.output.concentrate_sol                      19416 non-null  float64\n",
      " 46  rougher.output.concentrate_au                       19439 non-null  float64\n",
      " 47  rougher.output.recovery                             19439 non-null  float64\n",
      " 48  rougher.output.tail_ag                              19438 non-null  float64\n",
      " 49  rougher.output.tail_pb                              19439 non-null  float64\n",
      " 50  rougher.output.tail_sol                             19439 non-null  float64\n",
      " 51  rougher.output.tail_au                              19439 non-null  float64\n",
      " 52  rougher.state.floatbank10_a_air                     19438 non-null  float64\n",
      " 53  rougher.state.floatbank10_a_level                   19438 non-null  float64\n",
      " 54  rougher.state.floatbank10_b_air                     19438 non-null  float64\n",
      " 55  rougher.state.floatbank10_b_level                   19438 non-null  float64\n",
      " 56  rougher.state.floatbank10_c_air                     19438 non-null  float64\n",
      " 57  rougher.state.floatbank10_c_level                   19438 non-null  float64\n",
      " 58  rougher.state.floatbank10_d_air                     19439 non-null  float64\n",
      " 59  rougher.state.floatbank10_d_level                   19439 non-null  float64\n",
      " 60  rougher.state.floatbank10_e_air                     19003 non-null  float64\n",
      " 61  rougher.state.floatbank10_e_level                   19439 non-null  float64\n",
      " 62  rougher.state.floatbank10_f_air                     19439 non-null  float64\n",
      " 63  rougher.state.floatbank10_f_level                   19439 non-null  float64\n",
      " 64  secondary_cleaner.output.tail_ag                    19437 non-null  float64\n",
      " 65  secondary_cleaner.output.tail_pb                    19427 non-null  float64\n",
      " 66  secondary_cleaner.output.tail_sol                   17691 non-null  float64\n",
      " 67  secondary_cleaner.output.tail_au                    19439 non-null  float64\n",
      " 68  secondary_cleaner.state.floatbank2_a_air            19219 non-null  float64\n",
      " 69  secondary_cleaner.state.floatbank2_a_level          19438 non-null  float64\n",
      " 70  secondary_cleaner.state.floatbank2_b_air            19416 non-null  float64\n",
      " 71  secondary_cleaner.state.floatbank2_b_level          19438 non-null  float64\n",
      " 72  secondary_cleaner.state.floatbank3_a_air            19426 non-null  float64\n",
      " 73  secondary_cleaner.state.floatbank3_a_level          19438 non-null  float64\n",
      " 74  secondary_cleaner.state.floatbank3_b_air            19438 non-null  float64\n",
      " 75  secondary_cleaner.state.floatbank3_b_level          19438 non-null  float64\n",
      " 76  secondary_cleaner.state.floatbank4_a_air            19433 non-null  float64\n",
      " 77  secondary_cleaner.state.floatbank4_a_level          19438 non-null  float64\n",
      " 78  secondary_cleaner.state.floatbank4_b_air            19438 non-null  float64\n",
      " 79  secondary_cleaner.state.floatbank4_b_level          19438 non-null  float64\n",
      " 80  secondary_cleaner.state.floatbank5_a_air            19438 non-null  float64\n",
      " 81  secondary_cleaner.state.floatbank5_a_level          19438 non-null  float64\n",
      " 82  secondary_cleaner.state.floatbank5_b_air            19438 non-null  float64\n",
      " 83  secondary_cleaner.state.floatbank5_b_level          19438 non-null  float64\n",
      " 84  secondary_cleaner.state.floatbank6_a_air            19437 non-null  float64\n",
      " 85  secondary_cleaner.state.floatbank6_a_level          19438 non-null  float64\n",
      "dtypes: float64(86)\n",
      "memory usage: 14.2 MB\n",
      "None\n",
      "Количество пропусков в таблице: Исходные данные\n",
      "final.output.concentrate_ag                           0.000051\n",
      "final.output.concentrate_pb                           0.000051\n",
      "final.output.concentrate_sol                          0.010854\n",
      "final.output.concentrate_au                           0.000000\n",
      "final.output.recovery                                 0.000000\n",
      "final.output.tail_ag                                  0.000051\n",
      "final.output.tail_pb                                  0.005196\n",
      "final.output.tail_sol                                 0.000309\n",
      "final.output.tail_au                                  0.000000\n",
      "primary_cleaner.input.sulfate                         0.001235\n",
      "primary_cleaner.input.depressant                      0.001903\n",
      "primary_cleaner.input.feed_size                       0.000000\n",
      "primary_cleaner.input.xanthate                        0.005350\n",
      "primary_cleaner.output.concentrate_ag                 0.000000\n",
      "primary_cleaner.output.concentrate_pb                 0.005967\n",
      "primary_cleaner.output.concentrate_sol                0.019034\n",
      "primary_cleaner.output.concentrate_au                 0.000000\n",
      "primary_cleaner.output.tail_ag                        0.000206\n",
      "primary_cleaner.output.tail_pb                        0.001080\n",
      "primary_cleaner.output.tail_sol                       0.003189\n",
      "primary_cleaner.output.tail_au                        0.000000\n",
      "primary_cleaner.state.floatbank8_a_air                0.000206\n",
      "primary_cleaner.state.floatbank8_a_level              0.000051\n",
      "primary_cleaner.state.floatbank8_b_air                0.000206\n",
      "primary_cleaner.state.floatbank8_b_level              0.000051\n",
      "primary_cleaner.state.floatbank8_c_air                0.000103\n",
      "primary_cleaner.state.floatbank8_c_level              0.000051\n",
      "primary_cleaner.state.floatbank8_d_air                0.000154\n",
      "primary_cleaner.state.floatbank8_d_level              0.000051\n",
      "rougher.calculation.sulfate_to_au_concentrate         0.000103\n",
      "rougher.calculation.floatbank10_sulfate_to_au_feed    0.000103\n",
      "rougher.calculation.floatbank11_sulfate_to_au_feed    0.000103\n",
      "rougher.calculation.au_pb_ratio                       0.000000\n",
      "rougher.input.feed_ag                                 0.000000\n",
      "rougher.input.feed_pb                                 0.005144\n",
      "rougher.input.feed_rate                               0.000566\n",
      "rougher.input.feed_size                               0.007459\n",
      "rougher.input.feed_sol                                0.005093\n",
      "rougher.input.feed_au                                 0.000000\n",
      "rougher.input.floatbank10_sulfate                     0.001749\n",
      "rougher.input.floatbank10_xanthate                    0.000412\n",
      "rougher.input.floatbank11_sulfate                     0.002263\n",
      "rougher.input.floatbank11_xanthate                    0.023304\n",
      "rougher.output.concentrate_ag                         0.000000\n",
      "rougher.output.concentrate_pb                         0.000000\n",
      "rougher.output.concentrate_sol                        0.001183\n",
      "rougher.output.concentrate_au                         0.000000\n",
      "rougher.output.recovery                               0.000000\n",
      "rougher.output.tail_ag                                0.000051\n",
      "rougher.output.tail_pb                                0.000000\n",
      "rougher.output.tail_sol                               0.000000\n",
      "rougher.output.tail_au                                0.000000\n",
      "rougher.state.floatbank10_a_air                       0.000051\n",
      "rougher.state.floatbank10_a_level                     0.000051\n",
      "rougher.state.floatbank10_b_air                       0.000051\n",
      "rougher.state.floatbank10_b_level                     0.000051\n",
      "rougher.state.floatbank10_c_air                       0.000051\n",
      "rougher.state.floatbank10_c_level                     0.000051\n",
      "rougher.state.floatbank10_d_air                       0.000000\n",
      "rougher.state.floatbank10_d_level                     0.000000\n",
      "rougher.state.floatbank10_e_air                       0.022429\n",
      "rougher.state.floatbank10_e_level                     0.000000\n",
      "rougher.state.floatbank10_f_air                       0.000000\n",
      "rougher.state.floatbank10_f_level                     0.000000\n",
      "secondary_cleaner.output.tail_ag                      0.000103\n",
      "secondary_cleaner.output.tail_pb                      0.000617\n",
      "secondary_cleaner.output.tail_sol                     0.089922\n",
      "secondary_cleaner.output.tail_au                      0.000000\n",
      "secondary_cleaner.state.floatbank2_a_air              0.011317\n",
      "secondary_cleaner.state.floatbank2_a_level            0.000051\n",
      "secondary_cleaner.state.floatbank2_b_air              0.001183\n",
      "secondary_cleaner.state.floatbank2_b_level            0.000051\n",
      "secondary_cleaner.state.floatbank3_a_air              0.000669\n",
      "secondary_cleaner.state.floatbank3_a_level            0.000051\n",
      "secondary_cleaner.state.floatbank3_b_air              0.000051\n",
      "secondary_cleaner.state.floatbank3_b_level            0.000051\n",
      "secondary_cleaner.state.floatbank4_a_air              0.000309\n",
      "secondary_cleaner.state.floatbank4_a_level            0.000051\n",
      "secondary_cleaner.state.floatbank4_b_air              0.000051\n",
      "secondary_cleaner.state.floatbank4_b_level            0.000051\n",
      "secondary_cleaner.state.floatbank5_a_air              0.000051\n",
      "secondary_cleaner.state.floatbank5_a_level            0.000051\n",
      "secondary_cleaner.state.floatbank5_b_air              0.000051\n",
      "secondary_cleaner.state.floatbank5_b_level            0.000051\n",
      "secondary_cleaner.state.floatbank6_a_air              0.000103\n",
      "secondary_cleaner.state.floatbank6_a_level            0.000051\n",
      "dtype: float64\n",
      "Получение сводки по таблице: Исходные данные\n"
     ]
    },
    {
     "data": {
      "text/html": [
       "<div>\n",
       "<style scoped>\n",
       "    .dataframe tbody tr th:only-of-type {\n",
       "        vertical-align: middle;\n",
       "    }\n",
       "\n",
       "    .dataframe tbody tr th {\n",
       "        vertical-align: top;\n",
       "    }\n",
       "\n",
       "    .dataframe thead th {\n",
       "        text-align: right;\n",
       "    }\n",
       "</style>\n",
       "<table border=\"1\" class=\"dataframe\">\n",
       "  <thead>\n",
       "    <tr style=\"text-align: right;\">\n",
       "      <th></th>\n",
       "      <th>count</th>\n",
       "      <th>mean</th>\n",
       "      <th>std</th>\n",
       "      <th>min</th>\n",
       "      <th>25%</th>\n",
       "      <th>50%</th>\n",
       "      <th>75%</th>\n",
       "      <th>max</th>\n",
       "    </tr>\n",
       "  </thead>\n",
       "  <tbody>\n",
       "    <tr>\n",
       "      <th>final.output.concentrate_ag</th>\n",
       "      <td>19438.0</td>\n",
       "      <td>5.168470</td>\n",
       "      <td>1.372348</td>\n",
       "      <td>0.000000e+00</td>\n",
       "      <td>4.251240</td>\n",
       "      <td>5.066094</td>\n",
       "      <td>5.895527</td>\n",
       "      <td>1.600195e+01</td>\n",
       "    </tr>\n",
       "    <tr>\n",
       "      <th>final.output.concentrate_pb</th>\n",
       "      <td>19438.0</td>\n",
       "      <td>9.978895</td>\n",
       "      <td>1.669240</td>\n",
       "      <td>0.000000e+00</td>\n",
       "      <td>9.137262</td>\n",
       "      <td>10.102433</td>\n",
       "      <td>11.035769</td>\n",
       "      <td>1.703190e+01</td>\n",
       "    </tr>\n",
       "    <tr>\n",
       "      <th>final.output.concentrate_sol</th>\n",
       "      <td>19228.0</td>\n",
       "      <td>9.501224</td>\n",
       "      <td>2.787537</td>\n",
       "      <td>0.000000e+00</td>\n",
       "      <td>7.722820</td>\n",
       "      <td>9.218961</td>\n",
       "      <td>10.947813</td>\n",
       "      <td>1.961572e+01</td>\n",
       "    </tr>\n",
       "    <tr>\n",
       "      <th>final.output.concentrate_au</th>\n",
       "      <td>19439.0</td>\n",
       "      <td>44.076513</td>\n",
       "      <td>5.129784</td>\n",
       "      <td>0.000000e+00</td>\n",
       "      <td>43.402215</td>\n",
       "      <td>45.011244</td>\n",
       "      <td>46.275313</td>\n",
       "      <td>5.275664e+01</td>\n",
       "    </tr>\n",
       "    <tr>\n",
       "      <th>final.output.recovery</th>\n",
       "      <td>19439.0</td>\n",
       "      <td>67.050208</td>\n",
       "      <td>10.125840</td>\n",
       "      <td>0.000000e+00</td>\n",
       "      <td>63.299712</td>\n",
       "      <td>68.172738</td>\n",
       "      <td>72.686642</td>\n",
       "      <td>1.000000e+02</td>\n",
       "    </tr>\n",
       "    <tr>\n",
       "      <th>final.output.tail_ag</th>\n",
       "      <td>19438.0</td>\n",
       "      <td>9.688589</td>\n",
       "      <td>2.328642</td>\n",
       "      <td>0.000000e+00</td>\n",
       "      <td>8.062878</td>\n",
       "      <td>9.743623</td>\n",
       "      <td>11.134294</td>\n",
       "      <td>1.955215e+01</td>\n",
       "    </tr>\n",
       "    <tr>\n",
       "      <th>final.output.tail_pb</th>\n",
       "      <td>19338.0</td>\n",
       "      <td>2.705795</td>\n",
       "      <td>0.949077</td>\n",
       "      <td>0.000000e+00</td>\n",
       "      <td>2.040119</td>\n",
       "      <td>2.748730</td>\n",
       "      <td>3.333216</td>\n",
       "      <td>5.804178e+00</td>\n",
       "    </tr>\n",
       "    <tr>\n",
       "      <th>final.output.tail_sol</th>\n",
       "      <td>19433.0</td>\n",
       "      <td>10.583728</td>\n",
       "      <td>2.868782</td>\n",
       "      <td>0.000000e+00</td>\n",
       "      <td>8.938947</td>\n",
       "      <td>10.622456</td>\n",
       "      <td>12.104271</td>\n",
       "      <td>2.231773e+01</td>\n",
       "    </tr>\n",
       "    <tr>\n",
       "      <th>final.output.tail_au</th>\n",
       "      <td>19439.0</td>\n",
       "      <td>3.042467</td>\n",
       "      <td>0.922808</td>\n",
       "      <td>0.000000e+00</td>\n",
       "      <td>2.461138</td>\n",
       "      <td>2.984909</td>\n",
       "      <td>3.571351</td>\n",
       "      <td>8.245022e+00</td>\n",
       "    </tr>\n",
       "    <tr>\n",
       "      <th>primary_cleaner.input.sulfate</th>\n",
       "      <td>19415.0</td>\n",
       "      <td>144.624774</td>\n",
       "      <td>44.464071</td>\n",
       "      <td>3.111820e-03</td>\n",
       "      <td>114.107029</td>\n",
       "      <td>143.232103</td>\n",
       "      <td>175.075656</td>\n",
       "      <td>2.659831e+02</td>\n",
       "    </tr>\n",
       "    <tr>\n",
       "      <th>primary_cleaner.input.depressant</th>\n",
       "      <td>19402.0</td>\n",
       "      <td>8.817039</td>\n",
       "      <td>3.286186</td>\n",
       "      <td>0.000000e+00</td>\n",
       "      <td>6.076909</td>\n",
       "      <td>8.038311</td>\n",
       "      <td>11.013521</td>\n",
       "      <td>4.000000e+01</td>\n",
       "    </tr>\n",
       "    <tr>\n",
       "      <th>primary_cleaner.input.feed_size</th>\n",
       "      <td>19439.0</td>\n",
       "      <td>7.307078</td>\n",
       "      <td>0.613509</td>\n",
       "      <td>1.080000e+00</td>\n",
       "      <td>6.940000</td>\n",
       "      <td>7.280000</td>\n",
       "      <td>7.670000</td>\n",
       "      <td>1.550000e+01</td>\n",
       "    </tr>\n",
       "    <tr>\n",
       "      <th>primary_cleaner.input.xanthate</th>\n",
       "      <td>19335.0</td>\n",
       "      <td>1.021795</td>\n",
       "      <td>0.513254</td>\n",
       "      <td>4.632753e-06</td>\n",
       "      <td>0.697224</td>\n",
       "      <td>0.940863</td>\n",
       "      <td>1.210990</td>\n",
       "      <td>4.102454e+00</td>\n",
       "    </tr>\n",
       "    <tr>\n",
       "      <th>primary_cleaner.output.concentrate_ag</th>\n",
       "      <td>19439.0</td>\n",
       "      <td>8.442408</td>\n",
       "      <td>2.054465</td>\n",
       "      <td>0.000000e+00</td>\n",
       "      <td>7.263288</td>\n",
       "      <td>8.507298</td>\n",
       "      <td>9.809001</td>\n",
       "      <td>1.608163e+01</td>\n",
       "    </tr>\n",
       "    <tr>\n",
       "      <th>primary_cleaner.output.concentrate_pb</th>\n",
       "      <td>19323.0</td>\n",
       "      <td>9.829530</td>\n",
       "      <td>2.556843</td>\n",
       "      <td>0.000000e+00</td>\n",
       "      <td>8.702328</td>\n",
       "      <td>10.152433</td>\n",
       "      <td>11.424971</td>\n",
       "      <td>1.708128e+01</td>\n",
       "    </tr>\n",
       "    <tr>\n",
       "      <th>primary_cleaner.output.concentrate_sol</th>\n",
       "      <td>19069.0</td>\n",
       "      <td>10.489499</td>\n",
       "      <td>3.909639</td>\n",
       "      <td>0.000000e+00</td>\n",
       "      <td>7.893893</td>\n",
       "      <td>10.314632</td>\n",
       "      <td>13.446702</td>\n",
       "      <td>2.245811e+01</td>\n",
       "    </tr>\n",
       "    <tr>\n",
       "      <th>primary_cleaner.output.concentrate_au</th>\n",
       "      <td>19439.0</td>\n",
       "      <td>32.119400</td>\n",
       "      <td>5.627611</td>\n",
       "      <td>0.000000e+00</td>\n",
       "      <td>30.463140</td>\n",
       "      <td>32.841295</td>\n",
       "      <td>35.048006</td>\n",
       "      <td>4.593393e+01</td>\n",
       "    </tr>\n",
       "    <tr>\n",
       "      <th>primary_cleaner.output.tail_ag</th>\n",
       "      <td>19435.0</td>\n",
       "      <td>16.145826</td>\n",
       "      <td>3.548598</td>\n",
       "      <td>0.000000e+00</td>\n",
       "      <td>14.017742</td>\n",
       "      <td>15.842836</td>\n",
       "      <td>18.013975</td>\n",
       "      <td>2.945957e+01</td>\n",
       "    </tr>\n",
       "    <tr>\n",
       "      <th>primary_cleaner.output.tail_pb</th>\n",
       "      <td>19418.0</td>\n",
       "      <td>3.435656</td>\n",
       "      <td>1.392536</td>\n",
       "      <td>0.000000e+00</td>\n",
       "      <td>2.504365</td>\n",
       "      <td>3.271153</td>\n",
       "      <td>4.181748</td>\n",
       "      <td>9.634565e+00</td>\n",
       "    </tr>\n",
       "    <tr>\n",
       "      <th>primary_cleaner.output.tail_sol</th>\n",
       "      <td>19377.0</td>\n",
       "      <td>7.973209</td>\n",
       "      <td>2.212677</td>\n",
       "      <td>0.000000e+00</td>\n",
       "      <td>6.747483</td>\n",
       "      <td>8.183673</td>\n",
       "      <td>9.548586</td>\n",
       "      <td>2.227636e+01</td>\n",
       "    </tr>\n",
       "    <tr>\n",
       "      <th>primary_cleaner.output.tail_au</th>\n",
       "      <td>19439.0</td>\n",
       "      <td>3.914179</td>\n",
       "      <td>1.593034</td>\n",
       "      <td>0.000000e+00</td>\n",
       "      <td>2.924844</td>\n",
       "      <td>3.623234</td>\n",
       "      <td>4.585705</td>\n",
       "      <td>1.778892e+01</td>\n",
       "    </tr>\n",
       "    <tr>\n",
       "      <th>primary_cleaner.state.floatbank8_a_air</th>\n",
       "      <td>19435.0</td>\n",
       "      <td>1589.353532</td>\n",
       "      <td>128.996838</td>\n",
       "      <td>5.445860e-32</td>\n",
       "      <td>1505.063192</td>\n",
       "      <td>1600.596566</td>\n",
       "      <td>1697.657718</td>\n",
       "      <td>2.103104e+03</td>\n",
       "    </tr>\n",
       "    <tr>\n",
       "      <th>primary_cleaner.state.floatbank8_a_level</th>\n",
       "      <td>19438.0</td>\n",
       "      <td>-491.195012</td>\n",
       "      <td>32.431842</td>\n",
       "      <td>-7.986417e+02</td>\n",
       "      <td>-500.308544</td>\n",
       "      <td>-499.926134</td>\n",
       "      <td>-499.433950</td>\n",
       "      <td>-5.719540e+01</td>\n",
       "    </tr>\n",
       "    <tr>\n",
       "      <th>primary_cleaner.state.floatbank8_b_air</th>\n",
       "      <td>19435.0</td>\n",
       "      <td>1591.344175</td>\n",
       "      <td>131.810879</td>\n",
       "      <td>6.647490e-32</td>\n",
       "      <td>1503.629878</td>\n",
       "      <td>1600.520975</td>\n",
       "      <td>1699.217656</td>\n",
       "      <td>2.114907e+03</td>\n",
       "    </tr>\n",
       "    <tr>\n",
       "      <th>primary_cleaner.state.floatbank8_b_level</th>\n",
       "      <td>19438.0</td>\n",
       "      <td>-492.192978</td>\n",
       "      <td>33.794822</td>\n",
       "      <td>-7.999970e+02</td>\n",
       "      <td>-500.437171</td>\n",
       "      <td>-499.956767</td>\n",
       "      <td>-499.373336</td>\n",
       "      <td>-1.425272e+02</td>\n",
       "    </tr>\n",
       "    <tr>\n",
       "      <th>primary_cleaner.state.floatbank8_c_air</th>\n",
       "      <td>19437.0</td>\n",
       "      <td>1586.669124</td>\n",
       "      <td>136.111402</td>\n",
       "      <td>4.033736e-32</td>\n",
       "      <td>1500.926924</td>\n",
       "      <td>1600.253890</td>\n",
       "      <td>1699.482929</td>\n",
       "      <td>2.013156e+03</td>\n",
       "    </tr>\n",
       "    <tr>\n",
       "      <th>primary_cleaner.state.floatbank8_c_level</th>\n",
       "      <td>19438.0</td>\n",
       "      <td>-491.980070</td>\n",
       "      <td>32.711455</td>\n",
       "      <td>-7.999606e+02</td>\n",
       "      <td>-500.703932</td>\n",
       "      <td>-499.909524</td>\n",
       "      <td>-498.857643</td>\n",
       "      <td>-1.509370e+02</td>\n",
       "    </tr>\n",
       "    <tr>\n",
       "      <th>primary_cleaner.state.floatbank8_d_air</th>\n",
       "      <td>19436.0</td>\n",
       "      <td>1542.912418</td>\n",
       "      <td>246.199602</td>\n",
       "      <td>4.039220e-32</td>\n",
       "      <td>1494.219469</td>\n",
       "      <td>1599.447470</td>\n",
       "      <td>1698.524904</td>\n",
       "      <td>2.398904e+03</td>\n",
       "    </tr>\n",
       "    <tr>\n",
       "      <th>primary_cleaner.state.floatbank8_d_level</th>\n",
       "      <td>19438.0</td>\n",
       "      <td>-488.017382</td>\n",
       "      <td>43.959780</td>\n",
       "      <td>-7.997943e+02</td>\n",
       "      <td>-500.458365</td>\n",
       "      <td>-499.905974</td>\n",
       "      <td>-499.064695</td>\n",
       "      <td>-3.060183e+01</td>\n",
       "    </tr>\n",
       "    <tr>\n",
       "      <th>rougher.calculation.sulfate_to_au_concentrate</th>\n",
       "      <td>19437.0</td>\n",
       "      <td>42171.189025</td>\n",
       "      <td>324362.111569</td>\n",
       "      <td>-4.223520e+07</td>\n",
       "      <td>40700.946040</td>\n",
       "      <td>44696.480712</td>\n",
       "      <td>48168.210371</td>\n",
       "      <td>3.428099e+06</td>\n",
       "    </tr>\n",
       "    <tr>\n",
       "      <th>rougher.calculation.floatbank10_sulfate_to_au_feed</th>\n",
       "      <td>19437.0</td>\n",
       "      <td>3393.052498</td>\n",
       "      <td>4943.845943</td>\n",
       "      <td>-4.865987e+02</td>\n",
       "      <td>2611.425833</td>\n",
       "      <td>3018.353876</td>\n",
       "      <td>3676.769750</td>\n",
       "      <td>6.296390e+05</td>\n",
       "    </tr>\n",
       "    <tr>\n",
       "      <th>rougher.calculation.floatbank11_sulfate_to_au_feed</th>\n",
       "      <td>19437.0</td>\n",
       "      <td>3256.854171</td>\n",
       "      <td>5781.423659</td>\n",
       "      <td>-2.649828e+02</td>\n",
       "      <td>2551.437587</td>\n",
       "      <td>2997.218088</td>\n",
       "      <td>3601.998911</td>\n",
       "      <td>7.186850e+05</td>\n",
       "    </tr>\n",
       "    <tr>\n",
       "      <th>rougher.calculation.au_pb_ratio</th>\n",
       "      <td>19439.0</td>\n",
       "      <td>2.420119</td>\n",
       "      <td>0.814935</td>\n",
       "      <td>-1.054761e-02</td>\n",
       "      <td>2.035434</td>\n",
       "      <td>2.309665</td>\n",
       "      <td>2.731794</td>\n",
       "      <td>3.937927e+01</td>\n",
       "    </tr>\n",
       "    <tr>\n",
       "      <th>rougher.input.feed_ag</th>\n",
       "      <td>19439.0</td>\n",
       "      <td>8.794927</td>\n",
       "      <td>1.936847</td>\n",
       "      <td>1.000000e-02</td>\n",
       "      <td>7.237967</td>\n",
       "      <td>8.593574</td>\n",
       "      <td>10.213771</td>\n",
       "      <td>1.459603e+01</td>\n",
       "    </tr>\n",
       "    <tr>\n",
       "      <th>rougher.input.feed_pb</th>\n",
       "      <td>19339.0</td>\n",
       "      <td>3.598085</td>\n",
       "      <td>1.049486</td>\n",
       "      <td>1.000000e-02</td>\n",
       "      <td>2.887280</td>\n",
       "      <td>3.534895</td>\n",
       "      <td>4.244161</td>\n",
       "      <td>7.142594e+00</td>\n",
       "    </tr>\n",
       "    <tr>\n",
       "      <th>rougher.input.feed_rate</th>\n",
       "      <td>19428.0</td>\n",
       "      <td>478.320042</td>\n",
       "      <td>105.373758</td>\n",
       "      <td>2.985849e-03</td>\n",
       "      <td>416.525453</td>\n",
       "      <td>499.416120</td>\n",
       "      <td>550.172183</td>\n",
       "      <td>7.175088e+02</td>\n",
       "    </tr>\n",
       "    <tr>\n",
       "      <th>rougher.input.feed_size</th>\n",
       "      <td>19294.0</td>\n",
       "      <td>58.970310</td>\n",
       "      <td>21.634478</td>\n",
       "      <td>4.636880e-02</td>\n",
       "      <td>47.435103</td>\n",
       "      <td>54.610197</td>\n",
       "      <td>65.023044</td>\n",
       "      <td>4.849675e+02</td>\n",
       "    </tr>\n",
       "    <tr>\n",
       "      <th>rougher.input.feed_sol</th>\n",
       "      <td>19340.0</td>\n",
       "      <td>36.695114</td>\n",
       "      <td>5.145445</td>\n",
       "      <td>1.000000e-02</td>\n",
       "      <td>34.207799</td>\n",
       "      <td>37.202650</td>\n",
       "      <td>40.039133</td>\n",
       "      <td>5.347774e+01</td>\n",
       "    </tr>\n",
       "    <tr>\n",
       "      <th>rougher.input.feed_au</th>\n",
       "      <td>19439.0</td>\n",
       "      <td>8.266097</td>\n",
       "      <td>1.955092</td>\n",
       "      <td>1.000000e-02</td>\n",
       "      <td>6.854384</td>\n",
       "      <td>8.125839</td>\n",
       "      <td>9.769917</td>\n",
       "      <td>1.373133e+01</td>\n",
       "    </tr>\n",
       "    <tr>\n",
       "      <th>rougher.input.floatbank10_sulfate</th>\n",
       "      <td>19405.0</td>\n",
       "      <td>12.334373</td>\n",
       "      <td>3.427317</td>\n",
       "      <td>1.083112e-03</td>\n",
       "      <td>10.000362</td>\n",
       "      <td>12.001174</td>\n",
       "      <td>14.716595</td>\n",
       "      <td>3.611827e+01</td>\n",
       "    </tr>\n",
       "    <tr>\n",
       "      <th>rougher.input.floatbank10_xanthate</th>\n",
       "      <td>19431.0</td>\n",
       "      <td>6.021474</td>\n",
       "      <td>1.127263</td>\n",
       "      <td>5.682328e-04</td>\n",
       "      <td>5.398678</td>\n",
       "      <td>6.008273</td>\n",
       "      <td>6.798051</td>\n",
       "      <td>9.703448e+00</td>\n",
       "    </tr>\n",
       "    <tr>\n",
       "      <th>rougher.input.floatbank11_sulfate</th>\n",
       "      <td>19395.0</td>\n",
       "      <td>12.064140</td>\n",
       "      <td>3.784221</td>\n",
       "      <td>7.673764e-05</td>\n",
       "      <td>9.998460</td>\n",
       "      <td>12.000204</td>\n",
       "      <td>14.636766</td>\n",
       "      <td>3.798065e+01</td>\n",
       "    </tr>\n",
       "    <tr>\n",
       "      <th>rougher.input.floatbank11_xanthate</th>\n",
       "      <td>18986.0</td>\n",
       "      <td>6.065533</td>\n",
       "      <td>1.099118</td>\n",
       "      <td>2.904126e-04</td>\n",
       "      <td>5.402368</td>\n",
       "      <td>6.098580</td>\n",
       "      <td>6.801233</td>\n",
       "      <td>9.698407e+00</td>\n",
       "    </tr>\n",
       "    <tr>\n",
       "      <th>rougher.output.concentrate_ag</th>\n",
       "      <td>19439.0</td>\n",
       "      <td>11.994759</td>\n",
       "      <td>2.733862</td>\n",
       "      <td>0.000000e+00</td>\n",
       "      <td>10.628337</td>\n",
       "      <td>12.098115</td>\n",
       "      <td>13.736996</td>\n",
       "      <td>2.448027e+01</td>\n",
       "    </tr>\n",
       "    <tr>\n",
       "      <th>rougher.output.concentrate_pb</th>\n",
       "      <td>19439.0</td>\n",
       "      <td>7.606272</td>\n",
       "      <td>1.796757</td>\n",
       "      <td>0.000000e+00</td>\n",
       "      <td>6.725987</td>\n",
       "      <td>7.742580</td>\n",
       "      <td>8.565199</td>\n",
       "      <td>1.361707e+01</td>\n",
       "    </tr>\n",
       "    <tr>\n",
       "      <th>rougher.output.concentrate_sol</th>\n",
       "      <td>19416.0</td>\n",
       "      <td>28.805571</td>\n",
       "      <td>5.944207</td>\n",
       "      <td>0.000000e+00</td>\n",
       "      <td>27.224120</td>\n",
       "      <td>29.835345</td>\n",
       "      <td>32.189933</td>\n",
       "      <td>3.835119e+01</td>\n",
       "    </tr>\n",
       "    <tr>\n",
       "      <th>rougher.output.concentrate_au</th>\n",
       "      <td>19439.0</td>\n",
       "      <td>19.772000</td>\n",
       "      <td>3.753600</td>\n",
       "      <td>0.000000e+00</td>\n",
       "      <td>18.802523</td>\n",
       "      <td>20.280214</td>\n",
       "      <td>21.717843</td>\n",
       "      <td>2.882451e+01</td>\n",
       "    </tr>\n",
       "    <tr>\n",
       "      <th>rougher.output.recovery</th>\n",
       "      <td>19439.0</td>\n",
       "      <td>83.328587</td>\n",
       "      <td>14.148086</td>\n",
       "      <td>0.000000e+00</td>\n",
       "      <td>81.037957</td>\n",
       "      <td>86.188892</td>\n",
       "      <td>90.010670</td>\n",
       "      <td>1.000000e+02</td>\n",
       "    </tr>\n",
       "    <tr>\n",
       "      <th>rougher.output.tail_ag</th>\n",
       "      <td>19438.0</td>\n",
       "      <td>5.588982</td>\n",
       "      <td>1.111288</td>\n",
       "      <td>5.945623e-01</td>\n",
       "      <td>4.889892</td>\n",
       "      <td>5.765802</td>\n",
       "      <td>6.389234</td>\n",
       "      <td>1.271918e+01</td>\n",
       "    </tr>\n",
       "    <tr>\n",
       "      <th>rougher.output.tail_pb</th>\n",
       "      <td>19439.0</td>\n",
       "      <td>0.645782</td>\n",
       "      <td>0.251526</td>\n",
       "      <td>7.566066e-03</td>\n",
       "      <td>0.477728</td>\n",
       "      <td>0.617465</td>\n",
       "      <td>0.778271</td>\n",
       "      <td>3.778064e+00</td>\n",
       "    </tr>\n",
       "    <tr>\n",
       "      <th>rougher.output.tail_sol</th>\n",
       "      <td>19439.0</td>\n",
       "      <td>18.057106</td>\n",
       "      <td>3.449218</td>\n",
       "      <td>1.001465e+01</td>\n",
       "      <td>15.822525</td>\n",
       "      <td>18.106867</td>\n",
       "      <td>20.088151</td>\n",
       "      <td>6.611719e+01</td>\n",
       "    </tr>\n",
       "    <tr>\n",
       "      <th>rougher.output.tail_au</th>\n",
       "      <td>19439.0</td>\n",
       "      <td>1.816391</td>\n",
       "      <td>0.680046</td>\n",
       "      <td>2.067578e-02</td>\n",
       "      <td>1.404207</td>\n",
       "      <td>1.808170</td>\n",
       "      <td>2.211861</td>\n",
       "      <td>9.688980e+00</td>\n",
       "    </tr>\n",
       "    <tr>\n",
       "      <th>rougher.state.floatbank10_a_air</th>\n",
       "      <td>19438.0</td>\n",
       "      <td>1105.315068</td>\n",
       "      <td>160.826798</td>\n",
       "      <td>-4.206929e-02</td>\n",
       "      <td>999.661867</td>\n",
       "      <td>1001.072890</td>\n",
       "      <td>1205.620588</td>\n",
       "      <td>1.521980e+03</td>\n",
       "    </tr>\n",
       "    <tr>\n",
       "      <th>rougher.state.floatbank10_a_level</th>\n",
       "      <td>19438.0</td>\n",
       "      <td>-376.610690</td>\n",
       "      <td>93.909667</td>\n",
       "      <td>-6.579498e+02</td>\n",
       "      <td>-499.835165</td>\n",
       "      <td>-300.263994</td>\n",
       "      <td>-299.981998</td>\n",
       "      <td>-2.737761e+02</td>\n",
       "    </tr>\n",
       "    <tr>\n",
       "      <th>rougher.state.floatbank10_b_air</th>\n",
       "      <td>19438.0</td>\n",
       "      <td>1320.221139</td>\n",
       "      <td>176.287095</td>\n",
       "      <td>-7.218064e-01</td>\n",
       "      <td>1199.626115</td>\n",
       "      <td>1301.579988</td>\n",
       "      <td>1448.630789</td>\n",
       "      <td>1.809194e+03</td>\n",
       "    </tr>\n",
       "    <tr>\n",
       "      <th>rougher.state.floatbank10_b_level</th>\n",
       "      <td>19438.0</td>\n",
       "      <td>-467.247826</td>\n",
       "      <td>54.673142</td>\n",
       "      <td>-6.502600e+02</td>\n",
       "      <td>-500.201130</td>\n",
       "      <td>-499.784045</td>\n",
       "      <td>-400.615589</td>\n",
       "      <td>-2.963831e+02</td>\n",
       "    </tr>\n",
       "    <tr>\n",
       "      <th>rougher.state.floatbank10_c_air</th>\n",
       "      <td>19438.0</td>\n",
       "      <td>1299.968799</td>\n",
       "      <td>202.804325</td>\n",
       "      <td>-5.663551e-02</td>\n",
       "      <td>1151.076301</td>\n",
       "      <td>1300.211537</td>\n",
       "      <td>1449.464001</td>\n",
       "      <td>2.499129e+03</td>\n",
       "    </tr>\n",
       "    <tr>\n",
       "      <th>rougher.state.floatbank10_c_level</th>\n",
       "      <td>19438.0</td>\n",
       "      <td>-467.716946</td>\n",
       "      <td>53.534825</td>\n",
       "      <td>-6.475444e+02</td>\n",
       "      <td>-500.217218</td>\n",
       "      <td>-499.713364</td>\n",
       "      <td>-400.985743</td>\n",
       "      <td>-2.921555e+02</td>\n",
       "    </tr>\n",
       "    <tr>\n",
       "      <th>rougher.state.floatbank10_d_air</th>\n",
       "      <td>19439.0</td>\n",
       "      <td>1211.563299</td>\n",
       "      <td>204.019326</td>\n",
       "      <td>-9.922190e-01</td>\n",
       "      <td>1061.051788</td>\n",
       "      <td>1201.569141</td>\n",
       "      <td>1352.880320</td>\n",
       "      <td>1.817199e+03</td>\n",
       "    </tr>\n",
       "    <tr>\n",
       "      <th>rougher.state.floatbank10_d_level</th>\n",
       "      <td>19439.0</td>\n",
       "      <td>-468.239912</td>\n",
       "      <td>53.921458</td>\n",
       "      <td>-6.483907e+02</td>\n",
       "      <td>-500.386386</td>\n",
       "      <td>-499.532412</td>\n",
       "      <td>-401.638550</td>\n",
       "      <td>-7.639733e+01</td>\n",
       "    </tr>\n",
       "    <tr>\n",
       "      <th>rougher.state.floatbank10_e_air</th>\n",
       "      <td>19003.0</td>\n",
       "      <td>1080.869685</td>\n",
       "      <td>172.149992</td>\n",
       "      <td>-1.982295e+00</td>\n",
       "      <td>998.675263</td>\n",
       "      <td>1050.029461</td>\n",
       "      <td>1199.425140</td>\n",
       "      <td>1.922637e+03</td>\n",
       "    </tr>\n",
       "    <tr>\n",
       "      <th>rougher.state.floatbank10_e_level</th>\n",
       "      <td>19439.0</td>\n",
       "      <td>-466.037742</td>\n",
       "      <td>57.384424</td>\n",
       "      <td>-6.494439e+02</td>\n",
       "      <td>-500.232191</td>\n",
       "      <td>-499.663089</td>\n",
       "      <td>-401.161191</td>\n",
       "      <td>-1.397530e+02</td>\n",
       "    </tr>\n",
       "    <tr>\n",
       "      <th>rougher.state.floatbank10_f_air</th>\n",
       "      <td>19439.0</td>\n",
       "      <td>1025.274256</td>\n",
       "      <td>164.487837</td>\n",
       "      <td>-2.593390e+00</td>\n",
       "      <td>900.995511</td>\n",
       "      <td>999.924821</td>\n",
       "      <td>1099.719692</td>\n",
       "      <td>1.706308e+03</td>\n",
       "    </tr>\n",
       "    <tr>\n",
       "      <th>rougher.state.floatbank10_f_level</th>\n",
       "      <td>19439.0</td>\n",
       "      <td>-466.265327</td>\n",
       "      <td>57.850263</td>\n",
       "      <td>-6.499493e+02</td>\n",
       "      <td>-500.522553</td>\n",
       "      <td>-499.471777</td>\n",
       "      <td>-401.511042</td>\n",
       "      <td>-1.917185e+02</td>\n",
       "    </tr>\n",
       "    <tr>\n",
       "      <th>secondary_cleaner.output.tail_ag</th>\n",
       "      <td>19437.0</td>\n",
       "      <td>14.586833</td>\n",
       "      <td>4.265202</td>\n",
       "      <td>0.000000e+00</td>\n",
       "      <td>12.640239</td>\n",
       "      <td>15.641902</td>\n",
       "      <td>17.358217</td>\n",
       "      <td>2.326474e+01</td>\n",
       "    </tr>\n",
       "    <tr>\n",
       "      <th>secondary_cleaner.output.tail_pb</th>\n",
       "      <td>19427.0</td>\n",
       "      <td>5.777703</td>\n",
       "      <td>2.774598</td>\n",
       "      <td>0.000000e+00</td>\n",
       "      <td>3.864733</td>\n",
       "      <td>5.344073</td>\n",
       "      <td>7.788467</td>\n",
       "      <td>1.704250e+01</td>\n",
       "    </tr>\n",
       "    <tr>\n",
       "      <th>secondary_cleaner.output.tail_sol</th>\n",
       "      <td>17691.0</td>\n",
       "      <td>7.167247</td>\n",
       "      <td>3.916079</td>\n",
       "      <td>0.000000e+00</td>\n",
       "      <td>3.845475</td>\n",
       "      <td>7.685827</td>\n",
       "      <td>10.411296</td>\n",
       "      <td>2.600077e+01</td>\n",
       "    </tr>\n",
       "    <tr>\n",
       "      <th>secondary_cleaner.output.tail_au</th>\n",
       "      <td>19439.0</td>\n",
       "      <td>4.339625</td>\n",
       "      <td>2.326751</td>\n",
       "      <td>0.000000e+00</td>\n",
       "      <td>3.182770</td>\n",
       "      <td>4.072412</td>\n",
       "      <td>5.063081</td>\n",
       "      <td>2.681164e+01</td>\n",
       "    </tr>\n",
       "    <tr>\n",
       "      <th>secondary_cleaner.state.floatbank2_a_air</th>\n",
       "      <td>19219.0</td>\n",
       "      <td>28.705564</td>\n",
       "      <td>5.458789</td>\n",
       "      <td>7.750256e-02</td>\n",
       "      <td>25.048462</td>\n",
       "      <td>29.099943</td>\n",
       "      <td>33.012536</td>\n",
       "      <td>5.265140e+01</td>\n",
       "    </tr>\n",
       "    <tr>\n",
       "      <th>secondary_cleaner.state.floatbank2_a_level</th>\n",
       "      <td>19438.0</td>\n",
       "      <td>-502.367331</td>\n",
       "      <td>53.571950</td>\n",
       "      <td>-7.996064e+02</td>\n",
       "      <td>-500.233700</td>\n",
       "      <td>-499.973250</td>\n",
       "      <td>-499.671261</td>\n",
       "      <td>-1.278756e+02</td>\n",
       "    </tr>\n",
       "    <tr>\n",
       "      <th>secondary_cleaner.state.floatbank2_b_air</th>\n",
       "      <td>19416.0</td>\n",
       "      <td>24.106800</td>\n",
       "      <td>5.749616</td>\n",
       "      <td>0.000000e+00</td>\n",
       "      <td>20.919853</td>\n",
       "      <td>25.043289</td>\n",
       "      <td>28.008197</td>\n",
       "      <td>3.515212e+01</td>\n",
       "    </tr>\n",
       "    <tr>\n",
       "      <th>secondary_cleaner.state.floatbank2_b_level</th>\n",
       "      <td>19438.0</td>\n",
       "      <td>-503.230712</td>\n",
       "      <td>56.567724</td>\n",
       "      <td>-7.998739e+02</td>\n",
       "      <td>-500.253794</td>\n",
       "      <td>-500.015439</td>\n",
       "      <td>-499.785698</td>\n",
       "      <td>-2.119993e+02</td>\n",
       "    </tr>\n",
       "    <tr>\n",
       "      <th>secondary_cleaner.state.floatbank3_a_air</th>\n",
       "      <td>19426.0</td>\n",
       "      <td>28.199338</td>\n",
       "      <td>6.134908</td>\n",
       "      <td>0.000000e+00</td>\n",
       "      <td>24.949227</td>\n",
       "      <td>27.982129</td>\n",
       "      <td>33.002798</td>\n",
       "      <td>4.426046e+01</td>\n",
       "    </tr>\n",
       "    <tr>\n",
       "      <th>secondary_cleaner.state.floatbank3_a_level</th>\n",
       "      <td>19438.0</td>\n",
       "      <td>-486.203350</td>\n",
       "      <td>54.412349</td>\n",
       "      <td>-7.997558e+02</td>\n",
       "      <td>-500.213546</td>\n",
       "      <td>-499.930680</td>\n",
       "      <td>-499.325739</td>\n",
       "      <td>-1.916788e+02</td>\n",
       "    </tr>\n",
       "    <tr>\n",
       "      <th>secondary_cleaner.state.floatbank3_b_air</th>\n",
       "      <td>19438.0</td>\n",
       "      <td>22.200645</td>\n",
       "      <td>5.574001</td>\n",
       "      <td>0.000000e+00</td>\n",
       "      <td>18.995924</td>\n",
       "      <td>22.011231</td>\n",
       "      <td>25.998206</td>\n",
       "      <td>3.507284e+01</td>\n",
       "    </tr>\n",
       "    <tr>\n",
       "      <th>secondary_cleaner.state.floatbank3_b_level</th>\n",
       "      <td>19438.0</td>\n",
       "      <td>-493.742107</td>\n",
       "      <td>43.372158</td>\n",
       "      <td>-8.093330e+02</td>\n",
       "      <td>-500.123034</td>\n",
       "      <td>-499.981902</td>\n",
       "      <td>-499.812834</td>\n",
       "      <td>-1.597423e+02</td>\n",
       "    </tr>\n",
       "    <tr>\n",
       "      <th>secondary_cleaner.state.floatbank4_a_air</th>\n",
       "      <td>19433.0</td>\n",
       "      <td>18.987674</td>\n",
       "      <td>5.411058</td>\n",
       "      <td>0.000000e+00</td>\n",
       "      <td>14.975734</td>\n",
       "      <td>18.017481</td>\n",
       "      <td>23.012470</td>\n",
       "      <td>3.011574e+01</td>\n",
       "    </tr>\n",
       "    <tr>\n",
       "      <th>secondary_cleaner.state.floatbank4_a_level</th>\n",
       "      <td>19438.0</td>\n",
       "      <td>-485.894516</td>\n",
       "      <td>47.758570</td>\n",
       "      <td>-7.997985e+02</td>\n",
       "      <td>-500.704892</td>\n",
       "      <td>-499.837793</td>\n",
       "      <td>-498.249730</td>\n",
       "      <td>-2.452392e+02</td>\n",
       "    </tr>\n",
       "    <tr>\n",
       "      <th>secondary_cleaner.state.floatbank4_b_air</th>\n",
       "      <td>19438.0</td>\n",
       "      <td>15.010366</td>\n",
       "      <td>4.890228</td>\n",
       "      <td>0.000000e+00</td>\n",
       "      <td>11.940294</td>\n",
       "      <td>14.971014</td>\n",
       "      <td>19.034162</td>\n",
       "      <td>3.126971e+01</td>\n",
       "    </tr>\n",
       "    <tr>\n",
       "      <th>secondary_cleaner.state.floatbank4_b_level</th>\n",
       "      <td>19438.0</td>\n",
       "      <td>-461.078636</td>\n",
       "      <td>67.405524</td>\n",
       "      <td>-8.008369e+02</td>\n",
       "      <td>-500.187742</td>\n",
       "      <td>-499.459786</td>\n",
       "      <td>-400.118106</td>\n",
       "      <td>-6.506986e+00</td>\n",
       "    </tr>\n",
       "    <tr>\n",
       "      <th>secondary_cleaner.state.floatbank5_a_air</th>\n",
       "      <td>19438.0</td>\n",
       "      <td>15.694452</td>\n",
       "      <td>5.510974</td>\n",
       "      <td>-3.720540e-01</td>\n",
       "      <td>10.988606</td>\n",
       "      <td>15.000036</td>\n",
       "      <td>18.026190</td>\n",
       "      <td>4.370993e+01</td>\n",
       "    </tr>\n",
       "    <tr>\n",
       "      <th>secondary_cleaner.state.floatbank5_a_level</th>\n",
       "      <td>19438.0</td>\n",
       "      <td>-488.684065</td>\n",
       "      <td>34.533396</td>\n",
       "      <td>-7.973240e+02</td>\n",
       "      <td>-500.458467</td>\n",
       "      <td>-499.802605</td>\n",
       "      <td>-498.384187</td>\n",
       "      <td>-2.444836e+02</td>\n",
       "    </tr>\n",
       "    <tr>\n",
       "      <th>secondary_cleaner.state.floatbank5_b_air</th>\n",
       "      <td>19438.0</td>\n",
       "      <td>12.198224</td>\n",
       "      <td>5.333024</td>\n",
       "      <td>5.280828e-01</td>\n",
       "      <td>8.971105</td>\n",
       "      <td>11.019433</td>\n",
       "      <td>14.019088</td>\n",
       "      <td>2.792600e+01</td>\n",
       "    </tr>\n",
       "    <tr>\n",
       "      <th>secondary_cleaner.state.floatbank5_b_level</th>\n",
       "      <td>19438.0</td>\n",
       "      <td>-487.149827</td>\n",
       "      <td>38.347312</td>\n",
       "      <td>-8.002203e+02</td>\n",
       "      <td>-500.129462</td>\n",
       "      <td>-499.935317</td>\n",
       "      <td>-499.436708</td>\n",
       "      <td>-1.377400e+02</td>\n",
       "    </tr>\n",
       "    <tr>\n",
       "      <th>secondary_cleaner.state.floatbank6_a_air</th>\n",
       "      <td>19437.0</td>\n",
       "      <td>18.959024</td>\n",
       "      <td>5.550498</td>\n",
       "      <td>-7.942623e-02</td>\n",
       "      <td>14.983037</td>\n",
       "      <td>19.960541</td>\n",
       "      <td>24.003170</td>\n",
       "      <td>3.218891e+01</td>\n",
       "    </tr>\n",
       "    <tr>\n",
       "      <th>secondary_cleaner.state.floatbank6_a_level</th>\n",
       "      <td>19438.0</td>\n",
       "      <td>-505.436305</td>\n",
       "      <td>37.689057</td>\n",
       "      <td>-8.097415e+02</td>\n",
       "      <td>-500.728067</td>\n",
       "      <td>-500.048400</td>\n",
       "      <td>-499.495378</td>\n",
       "      <td>-1.044275e+02</td>\n",
       "    </tr>\n",
       "  </tbody>\n",
       "</table>\n",
       "</div>"
      ],
      "text/plain": [
       "                                                      count          mean  \\\n",
       "final.output.concentrate_ag                         19438.0      5.168470   \n",
       "final.output.concentrate_pb                         19438.0      9.978895   \n",
       "final.output.concentrate_sol                        19228.0      9.501224   \n",
       "final.output.concentrate_au                         19439.0     44.076513   \n",
       "final.output.recovery                               19439.0     67.050208   \n",
       "final.output.tail_ag                                19438.0      9.688589   \n",
       "final.output.tail_pb                                19338.0      2.705795   \n",
       "final.output.tail_sol                               19433.0     10.583728   \n",
       "final.output.tail_au                                19439.0      3.042467   \n",
       "primary_cleaner.input.sulfate                       19415.0    144.624774   \n",
       "primary_cleaner.input.depressant                    19402.0      8.817039   \n",
       "primary_cleaner.input.feed_size                     19439.0      7.307078   \n",
       "primary_cleaner.input.xanthate                      19335.0      1.021795   \n",
       "primary_cleaner.output.concentrate_ag               19439.0      8.442408   \n",
       "primary_cleaner.output.concentrate_pb               19323.0      9.829530   \n",
       "primary_cleaner.output.concentrate_sol              19069.0     10.489499   \n",
       "primary_cleaner.output.concentrate_au               19439.0     32.119400   \n",
       "primary_cleaner.output.tail_ag                      19435.0     16.145826   \n",
       "primary_cleaner.output.tail_pb                      19418.0      3.435656   \n",
       "primary_cleaner.output.tail_sol                     19377.0      7.973209   \n",
       "primary_cleaner.output.tail_au                      19439.0      3.914179   \n",
       "primary_cleaner.state.floatbank8_a_air              19435.0   1589.353532   \n",
       "primary_cleaner.state.floatbank8_a_level            19438.0   -491.195012   \n",
       "primary_cleaner.state.floatbank8_b_air              19435.0   1591.344175   \n",
       "primary_cleaner.state.floatbank8_b_level            19438.0   -492.192978   \n",
       "primary_cleaner.state.floatbank8_c_air              19437.0   1586.669124   \n",
       "primary_cleaner.state.floatbank8_c_level            19438.0   -491.980070   \n",
       "primary_cleaner.state.floatbank8_d_air              19436.0   1542.912418   \n",
       "primary_cleaner.state.floatbank8_d_level            19438.0   -488.017382   \n",
       "rougher.calculation.sulfate_to_au_concentrate       19437.0  42171.189025   \n",
       "rougher.calculation.floatbank10_sulfate_to_au_feed  19437.0   3393.052498   \n",
       "rougher.calculation.floatbank11_sulfate_to_au_feed  19437.0   3256.854171   \n",
       "rougher.calculation.au_pb_ratio                     19439.0      2.420119   \n",
       "rougher.input.feed_ag                               19439.0      8.794927   \n",
       "rougher.input.feed_pb                               19339.0      3.598085   \n",
       "rougher.input.feed_rate                             19428.0    478.320042   \n",
       "rougher.input.feed_size                             19294.0     58.970310   \n",
       "rougher.input.feed_sol                              19340.0     36.695114   \n",
       "rougher.input.feed_au                               19439.0      8.266097   \n",
       "rougher.input.floatbank10_sulfate                   19405.0     12.334373   \n",
       "rougher.input.floatbank10_xanthate                  19431.0      6.021474   \n",
       "rougher.input.floatbank11_sulfate                   19395.0     12.064140   \n",
       "rougher.input.floatbank11_xanthate                  18986.0      6.065533   \n",
       "rougher.output.concentrate_ag                       19439.0     11.994759   \n",
       "rougher.output.concentrate_pb                       19439.0      7.606272   \n",
       "rougher.output.concentrate_sol                      19416.0     28.805571   \n",
       "rougher.output.concentrate_au                       19439.0     19.772000   \n",
       "rougher.output.recovery                             19439.0     83.328587   \n",
       "rougher.output.tail_ag                              19438.0      5.588982   \n",
       "rougher.output.tail_pb                              19439.0      0.645782   \n",
       "rougher.output.tail_sol                             19439.0     18.057106   \n",
       "rougher.output.tail_au                              19439.0      1.816391   \n",
       "rougher.state.floatbank10_a_air                     19438.0   1105.315068   \n",
       "rougher.state.floatbank10_a_level                   19438.0   -376.610690   \n",
       "rougher.state.floatbank10_b_air                     19438.0   1320.221139   \n",
       "rougher.state.floatbank10_b_level                   19438.0   -467.247826   \n",
       "rougher.state.floatbank10_c_air                     19438.0   1299.968799   \n",
       "rougher.state.floatbank10_c_level                   19438.0   -467.716946   \n",
       "rougher.state.floatbank10_d_air                     19439.0   1211.563299   \n",
       "rougher.state.floatbank10_d_level                   19439.0   -468.239912   \n",
       "rougher.state.floatbank10_e_air                     19003.0   1080.869685   \n",
       "rougher.state.floatbank10_e_level                   19439.0   -466.037742   \n",
       "rougher.state.floatbank10_f_air                     19439.0   1025.274256   \n",
       "rougher.state.floatbank10_f_level                   19439.0   -466.265327   \n",
       "secondary_cleaner.output.tail_ag                    19437.0     14.586833   \n",
       "secondary_cleaner.output.tail_pb                    19427.0      5.777703   \n",
       "secondary_cleaner.output.tail_sol                   17691.0      7.167247   \n",
       "secondary_cleaner.output.tail_au                    19439.0      4.339625   \n",
       "secondary_cleaner.state.floatbank2_a_air            19219.0     28.705564   \n",
       "secondary_cleaner.state.floatbank2_a_level          19438.0   -502.367331   \n",
       "secondary_cleaner.state.floatbank2_b_air            19416.0     24.106800   \n",
       "secondary_cleaner.state.floatbank2_b_level          19438.0   -503.230712   \n",
       "secondary_cleaner.state.floatbank3_a_air            19426.0     28.199338   \n",
       "secondary_cleaner.state.floatbank3_a_level          19438.0   -486.203350   \n",
       "secondary_cleaner.state.floatbank3_b_air            19438.0     22.200645   \n",
       "secondary_cleaner.state.floatbank3_b_level          19438.0   -493.742107   \n",
       "secondary_cleaner.state.floatbank4_a_air            19433.0     18.987674   \n",
       "secondary_cleaner.state.floatbank4_a_level          19438.0   -485.894516   \n",
       "secondary_cleaner.state.floatbank4_b_air            19438.0     15.010366   \n",
       "secondary_cleaner.state.floatbank4_b_level          19438.0   -461.078636   \n",
       "secondary_cleaner.state.floatbank5_a_air            19438.0     15.694452   \n",
       "secondary_cleaner.state.floatbank5_a_level          19438.0   -488.684065   \n",
       "secondary_cleaner.state.floatbank5_b_air            19438.0     12.198224   \n",
       "secondary_cleaner.state.floatbank5_b_level          19438.0   -487.149827   \n",
       "secondary_cleaner.state.floatbank6_a_air            19437.0     18.959024   \n",
       "secondary_cleaner.state.floatbank6_a_level          19438.0   -505.436305   \n",
       "\n",
       "                                                              std  \\\n",
       "final.output.concentrate_ag                              1.372348   \n",
       "final.output.concentrate_pb                              1.669240   \n",
       "final.output.concentrate_sol                             2.787537   \n",
       "final.output.concentrate_au                              5.129784   \n",
       "final.output.recovery                                   10.125840   \n",
       "final.output.tail_ag                                     2.328642   \n",
       "final.output.tail_pb                                     0.949077   \n",
       "final.output.tail_sol                                    2.868782   \n",
       "final.output.tail_au                                     0.922808   \n",
       "primary_cleaner.input.sulfate                           44.464071   \n",
       "primary_cleaner.input.depressant                         3.286186   \n",
       "primary_cleaner.input.feed_size                          0.613509   \n",
       "primary_cleaner.input.xanthate                           0.513254   \n",
       "primary_cleaner.output.concentrate_ag                    2.054465   \n",
       "primary_cleaner.output.concentrate_pb                    2.556843   \n",
       "primary_cleaner.output.concentrate_sol                   3.909639   \n",
       "primary_cleaner.output.concentrate_au                    5.627611   \n",
       "primary_cleaner.output.tail_ag                           3.548598   \n",
       "primary_cleaner.output.tail_pb                           1.392536   \n",
       "primary_cleaner.output.tail_sol                          2.212677   \n",
       "primary_cleaner.output.tail_au                           1.593034   \n",
       "primary_cleaner.state.floatbank8_a_air                 128.996838   \n",
       "primary_cleaner.state.floatbank8_a_level                32.431842   \n",
       "primary_cleaner.state.floatbank8_b_air                 131.810879   \n",
       "primary_cleaner.state.floatbank8_b_level                33.794822   \n",
       "primary_cleaner.state.floatbank8_c_air                 136.111402   \n",
       "primary_cleaner.state.floatbank8_c_level                32.711455   \n",
       "primary_cleaner.state.floatbank8_d_air                 246.199602   \n",
       "primary_cleaner.state.floatbank8_d_level                43.959780   \n",
       "rougher.calculation.sulfate_to_au_concentrate       324362.111569   \n",
       "rougher.calculation.floatbank10_sulfate_to_au_feed    4943.845943   \n",
       "rougher.calculation.floatbank11_sulfate_to_au_feed    5781.423659   \n",
       "rougher.calculation.au_pb_ratio                          0.814935   \n",
       "rougher.input.feed_ag                                    1.936847   \n",
       "rougher.input.feed_pb                                    1.049486   \n",
       "rougher.input.feed_rate                                105.373758   \n",
       "rougher.input.feed_size                                 21.634478   \n",
       "rougher.input.feed_sol                                   5.145445   \n",
       "rougher.input.feed_au                                    1.955092   \n",
       "rougher.input.floatbank10_sulfate                        3.427317   \n",
       "rougher.input.floatbank10_xanthate                       1.127263   \n",
       "rougher.input.floatbank11_sulfate                        3.784221   \n",
       "rougher.input.floatbank11_xanthate                       1.099118   \n",
       "rougher.output.concentrate_ag                            2.733862   \n",
       "rougher.output.concentrate_pb                            1.796757   \n",
       "rougher.output.concentrate_sol                           5.944207   \n",
       "rougher.output.concentrate_au                            3.753600   \n",
       "rougher.output.recovery                                 14.148086   \n",
       "rougher.output.tail_ag                                   1.111288   \n",
       "rougher.output.tail_pb                                   0.251526   \n",
       "rougher.output.tail_sol                                  3.449218   \n",
       "rougher.output.tail_au                                   0.680046   \n",
       "rougher.state.floatbank10_a_air                        160.826798   \n",
       "rougher.state.floatbank10_a_level                       93.909667   \n",
       "rougher.state.floatbank10_b_air                        176.287095   \n",
       "rougher.state.floatbank10_b_level                       54.673142   \n",
       "rougher.state.floatbank10_c_air                        202.804325   \n",
       "rougher.state.floatbank10_c_level                       53.534825   \n",
       "rougher.state.floatbank10_d_air                        204.019326   \n",
       "rougher.state.floatbank10_d_level                       53.921458   \n",
       "rougher.state.floatbank10_e_air                        172.149992   \n",
       "rougher.state.floatbank10_e_level                       57.384424   \n",
       "rougher.state.floatbank10_f_air                        164.487837   \n",
       "rougher.state.floatbank10_f_level                       57.850263   \n",
       "secondary_cleaner.output.tail_ag                         4.265202   \n",
       "secondary_cleaner.output.tail_pb                         2.774598   \n",
       "secondary_cleaner.output.tail_sol                        3.916079   \n",
       "secondary_cleaner.output.tail_au                         2.326751   \n",
       "secondary_cleaner.state.floatbank2_a_air                 5.458789   \n",
       "secondary_cleaner.state.floatbank2_a_level              53.571950   \n",
       "secondary_cleaner.state.floatbank2_b_air                 5.749616   \n",
       "secondary_cleaner.state.floatbank2_b_level              56.567724   \n",
       "secondary_cleaner.state.floatbank3_a_air                 6.134908   \n",
       "secondary_cleaner.state.floatbank3_a_level              54.412349   \n",
       "secondary_cleaner.state.floatbank3_b_air                 5.574001   \n",
       "secondary_cleaner.state.floatbank3_b_level              43.372158   \n",
       "secondary_cleaner.state.floatbank4_a_air                 5.411058   \n",
       "secondary_cleaner.state.floatbank4_a_level              47.758570   \n",
       "secondary_cleaner.state.floatbank4_b_air                 4.890228   \n",
       "secondary_cleaner.state.floatbank4_b_level              67.405524   \n",
       "secondary_cleaner.state.floatbank5_a_air                 5.510974   \n",
       "secondary_cleaner.state.floatbank5_a_level              34.533396   \n",
       "secondary_cleaner.state.floatbank5_b_air                 5.333024   \n",
       "secondary_cleaner.state.floatbank5_b_level              38.347312   \n",
       "secondary_cleaner.state.floatbank6_a_air                 5.550498   \n",
       "secondary_cleaner.state.floatbank6_a_level              37.689057   \n",
       "\n",
       "                                                             min  \\\n",
       "final.output.concentrate_ag                         0.000000e+00   \n",
       "final.output.concentrate_pb                         0.000000e+00   \n",
       "final.output.concentrate_sol                        0.000000e+00   \n",
       "final.output.concentrate_au                         0.000000e+00   \n",
       "final.output.recovery                               0.000000e+00   \n",
       "final.output.tail_ag                                0.000000e+00   \n",
       "final.output.tail_pb                                0.000000e+00   \n",
       "final.output.tail_sol                               0.000000e+00   \n",
       "final.output.tail_au                                0.000000e+00   \n",
       "primary_cleaner.input.sulfate                       3.111820e-03   \n",
       "primary_cleaner.input.depressant                    0.000000e+00   \n",
       "primary_cleaner.input.feed_size                     1.080000e+00   \n",
       "primary_cleaner.input.xanthate                      4.632753e-06   \n",
       "primary_cleaner.output.concentrate_ag               0.000000e+00   \n",
       "primary_cleaner.output.concentrate_pb               0.000000e+00   \n",
       "primary_cleaner.output.concentrate_sol              0.000000e+00   \n",
       "primary_cleaner.output.concentrate_au               0.000000e+00   \n",
       "primary_cleaner.output.tail_ag                      0.000000e+00   \n",
       "primary_cleaner.output.tail_pb                      0.000000e+00   \n",
       "primary_cleaner.output.tail_sol                     0.000000e+00   \n",
       "primary_cleaner.output.tail_au                      0.000000e+00   \n",
       "primary_cleaner.state.floatbank8_a_air              5.445860e-32   \n",
       "primary_cleaner.state.floatbank8_a_level           -7.986417e+02   \n",
       "primary_cleaner.state.floatbank8_b_air              6.647490e-32   \n",
       "primary_cleaner.state.floatbank8_b_level           -7.999970e+02   \n",
       "primary_cleaner.state.floatbank8_c_air              4.033736e-32   \n",
       "primary_cleaner.state.floatbank8_c_level           -7.999606e+02   \n",
       "primary_cleaner.state.floatbank8_d_air              4.039220e-32   \n",
       "primary_cleaner.state.floatbank8_d_level           -7.997943e+02   \n",
       "rougher.calculation.sulfate_to_au_concentrate      -4.223520e+07   \n",
       "rougher.calculation.floatbank10_sulfate_to_au_feed -4.865987e+02   \n",
       "rougher.calculation.floatbank11_sulfate_to_au_feed -2.649828e+02   \n",
       "rougher.calculation.au_pb_ratio                    -1.054761e-02   \n",
       "rougher.input.feed_ag                               1.000000e-02   \n",
       "rougher.input.feed_pb                               1.000000e-02   \n",
       "rougher.input.feed_rate                             2.985849e-03   \n",
       "rougher.input.feed_size                             4.636880e-02   \n",
       "rougher.input.feed_sol                              1.000000e-02   \n",
       "rougher.input.feed_au                               1.000000e-02   \n",
       "rougher.input.floatbank10_sulfate                   1.083112e-03   \n",
       "rougher.input.floatbank10_xanthate                  5.682328e-04   \n",
       "rougher.input.floatbank11_sulfate                   7.673764e-05   \n",
       "rougher.input.floatbank11_xanthate                  2.904126e-04   \n",
       "rougher.output.concentrate_ag                       0.000000e+00   \n",
       "rougher.output.concentrate_pb                       0.000000e+00   \n",
       "rougher.output.concentrate_sol                      0.000000e+00   \n",
       "rougher.output.concentrate_au                       0.000000e+00   \n",
       "rougher.output.recovery                             0.000000e+00   \n",
       "rougher.output.tail_ag                              5.945623e-01   \n",
       "rougher.output.tail_pb                              7.566066e-03   \n",
       "rougher.output.tail_sol                             1.001465e+01   \n",
       "rougher.output.tail_au                              2.067578e-02   \n",
       "rougher.state.floatbank10_a_air                    -4.206929e-02   \n",
       "rougher.state.floatbank10_a_level                  -6.579498e+02   \n",
       "rougher.state.floatbank10_b_air                    -7.218064e-01   \n",
       "rougher.state.floatbank10_b_level                  -6.502600e+02   \n",
       "rougher.state.floatbank10_c_air                    -5.663551e-02   \n",
       "rougher.state.floatbank10_c_level                  -6.475444e+02   \n",
       "rougher.state.floatbank10_d_air                    -9.922190e-01   \n",
       "rougher.state.floatbank10_d_level                  -6.483907e+02   \n",
       "rougher.state.floatbank10_e_air                    -1.982295e+00   \n",
       "rougher.state.floatbank10_e_level                  -6.494439e+02   \n",
       "rougher.state.floatbank10_f_air                    -2.593390e+00   \n",
       "rougher.state.floatbank10_f_level                  -6.499493e+02   \n",
       "secondary_cleaner.output.tail_ag                    0.000000e+00   \n",
       "secondary_cleaner.output.tail_pb                    0.000000e+00   \n",
       "secondary_cleaner.output.tail_sol                   0.000000e+00   \n",
       "secondary_cleaner.output.tail_au                    0.000000e+00   \n",
       "secondary_cleaner.state.floatbank2_a_air            7.750256e-02   \n",
       "secondary_cleaner.state.floatbank2_a_level         -7.996064e+02   \n",
       "secondary_cleaner.state.floatbank2_b_air            0.000000e+00   \n",
       "secondary_cleaner.state.floatbank2_b_level         -7.998739e+02   \n",
       "secondary_cleaner.state.floatbank3_a_air            0.000000e+00   \n",
       "secondary_cleaner.state.floatbank3_a_level         -7.997558e+02   \n",
       "secondary_cleaner.state.floatbank3_b_air            0.000000e+00   \n",
       "secondary_cleaner.state.floatbank3_b_level         -8.093330e+02   \n",
       "secondary_cleaner.state.floatbank4_a_air            0.000000e+00   \n",
       "secondary_cleaner.state.floatbank4_a_level         -7.997985e+02   \n",
       "secondary_cleaner.state.floatbank4_b_air            0.000000e+00   \n",
       "secondary_cleaner.state.floatbank4_b_level         -8.008369e+02   \n",
       "secondary_cleaner.state.floatbank5_a_air           -3.720540e-01   \n",
       "secondary_cleaner.state.floatbank5_a_level         -7.973240e+02   \n",
       "secondary_cleaner.state.floatbank5_b_air            5.280828e-01   \n",
       "secondary_cleaner.state.floatbank5_b_level         -8.002203e+02   \n",
       "secondary_cleaner.state.floatbank6_a_air           -7.942623e-02   \n",
       "secondary_cleaner.state.floatbank6_a_level         -8.097415e+02   \n",
       "\n",
       "                                                             25%  \\\n",
       "final.output.concentrate_ag                             4.251240   \n",
       "final.output.concentrate_pb                             9.137262   \n",
       "final.output.concentrate_sol                            7.722820   \n",
       "final.output.concentrate_au                            43.402215   \n",
       "final.output.recovery                                  63.299712   \n",
       "final.output.tail_ag                                    8.062878   \n",
       "final.output.tail_pb                                    2.040119   \n",
       "final.output.tail_sol                                   8.938947   \n",
       "final.output.tail_au                                    2.461138   \n",
       "primary_cleaner.input.sulfate                         114.107029   \n",
       "primary_cleaner.input.depressant                        6.076909   \n",
       "primary_cleaner.input.feed_size                         6.940000   \n",
       "primary_cleaner.input.xanthate                          0.697224   \n",
       "primary_cleaner.output.concentrate_ag                   7.263288   \n",
       "primary_cleaner.output.concentrate_pb                   8.702328   \n",
       "primary_cleaner.output.concentrate_sol                  7.893893   \n",
       "primary_cleaner.output.concentrate_au                  30.463140   \n",
       "primary_cleaner.output.tail_ag                         14.017742   \n",
       "primary_cleaner.output.tail_pb                          2.504365   \n",
       "primary_cleaner.output.tail_sol                         6.747483   \n",
       "primary_cleaner.output.tail_au                          2.924844   \n",
       "primary_cleaner.state.floatbank8_a_air               1505.063192   \n",
       "primary_cleaner.state.floatbank8_a_level             -500.308544   \n",
       "primary_cleaner.state.floatbank8_b_air               1503.629878   \n",
       "primary_cleaner.state.floatbank8_b_level             -500.437171   \n",
       "primary_cleaner.state.floatbank8_c_air               1500.926924   \n",
       "primary_cleaner.state.floatbank8_c_level             -500.703932   \n",
       "primary_cleaner.state.floatbank8_d_air               1494.219469   \n",
       "primary_cleaner.state.floatbank8_d_level             -500.458365   \n",
       "rougher.calculation.sulfate_to_au_concentrate       40700.946040   \n",
       "rougher.calculation.floatbank10_sulfate_to_au_feed   2611.425833   \n",
       "rougher.calculation.floatbank11_sulfate_to_au_feed   2551.437587   \n",
       "rougher.calculation.au_pb_ratio                         2.035434   \n",
       "rougher.input.feed_ag                                   7.237967   \n",
       "rougher.input.feed_pb                                   2.887280   \n",
       "rougher.input.feed_rate                               416.525453   \n",
       "rougher.input.feed_size                                47.435103   \n",
       "rougher.input.feed_sol                                 34.207799   \n",
       "rougher.input.feed_au                                   6.854384   \n",
       "rougher.input.floatbank10_sulfate                      10.000362   \n",
       "rougher.input.floatbank10_xanthate                      5.398678   \n",
       "rougher.input.floatbank11_sulfate                       9.998460   \n",
       "rougher.input.floatbank11_xanthate                      5.402368   \n",
       "rougher.output.concentrate_ag                          10.628337   \n",
       "rougher.output.concentrate_pb                           6.725987   \n",
       "rougher.output.concentrate_sol                         27.224120   \n",
       "rougher.output.concentrate_au                          18.802523   \n",
       "rougher.output.recovery                                81.037957   \n",
       "rougher.output.tail_ag                                  4.889892   \n",
       "rougher.output.tail_pb                                  0.477728   \n",
       "rougher.output.tail_sol                                15.822525   \n",
       "rougher.output.tail_au                                  1.404207   \n",
       "rougher.state.floatbank10_a_air                       999.661867   \n",
       "rougher.state.floatbank10_a_level                    -499.835165   \n",
       "rougher.state.floatbank10_b_air                      1199.626115   \n",
       "rougher.state.floatbank10_b_level                    -500.201130   \n",
       "rougher.state.floatbank10_c_air                      1151.076301   \n",
       "rougher.state.floatbank10_c_level                    -500.217218   \n",
       "rougher.state.floatbank10_d_air                      1061.051788   \n",
       "rougher.state.floatbank10_d_level                    -500.386386   \n",
       "rougher.state.floatbank10_e_air                       998.675263   \n",
       "rougher.state.floatbank10_e_level                    -500.232191   \n",
       "rougher.state.floatbank10_f_air                       900.995511   \n",
       "rougher.state.floatbank10_f_level                    -500.522553   \n",
       "secondary_cleaner.output.tail_ag                       12.640239   \n",
       "secondary_cleaner.output.tail_pb                        3.864733   \n",
       "secondary_cleaner.output.tail_sol                       3.845475   \n",
       "secondary_cleaner.output.tail_au                        3.182770   \n",
       "secondary_cleaner.state.floatbank2_a_air               25.048462   \n",
       "secondary_cleaner.state.floatbank2_a_level           -500.233700   \n",
       "secondary_cleaner.state.floatbank2_b_air               20.919853   \n",
       "secondary_cleaner.state.floatbank2_b_level           -500.253794   \n",
       "secondary_cleaner.state.floatbank3_a_air               24.949227   \n",
       "secondary_cleaner.state.floatbank3_a_level           -500.213546   \n",
       "secondary_cleaner.state.floatbank3_b_air               18.995924   \n",
       "secondary_cleaner.state.floatbank3_b_level           -500.123034   \n",
       "secondary_cleaner.state.floatbank4_a_air               14.975734   \n",
       "secondary_cleaner.state.floatbank4_a_level           -500.704892   \n",
       "secondary_cleaner.state.floatbank4_b_air               11.940294   \n",
       "secondary_cleaner.state.floatbank4_b_level           -500.187742   \n",
       "secondary_cleaner.state.floatbank5_a_air               10.988606   \n",
       "secondary_cleaner.state.floatbank5_a_level           -500.458467   \n",
       "secondary_cleaner.state.floatbank5_b_air                8.971105   \n",
       "secondary_cleaner.state.floatbank5_b_level           -500.129462   \n",
       "secondary_cleaner.state.floatbank6_a_air               14.983037   \n",
       "secondary_cleaner.state.floatbank6_a_level           -500.728067   \n",
       "\n",
       "                                                             50%  \\\n",
       "final.output.concentrate_ag                             5.066094   \n",
       "final.output.concentrate_pb                            10.102433   \n",
       "final.output.concentrate_sol                            9.218961   \n",
       "final.output.concentrate_au                            45.011244   \n",
       "final.output.recovery                                  68.172738   \n",
       "final.output.tail_ag                                    9.743623   \n",
       "final.output.tail_pb                                    2.748730   \n",
       "final.output.tail_sol                                  10.622456   \n",
       "final.output.tail_au                                    2.984909   \n",
       "primary_cleaner.input.sulfate                         143.232103   \n",
       "primary_cleaner.input.depressant                        8.038311   \n",
       "primary_cleaner.input.feed_size                         7.280000   \n",
       "primary_cleaner.input.xanthate                          0.940863   \n",
       "primary_cleaner.output.concentrate_ag                   8.507298   \n",
       "primary_cleaner.output.concentrate_pb                  10.152433   \n",
       "primary_cleaner.output.concentrate_sol                 10.314632   \n",
       "primary_cleaner.output.concentrate_au                  32.841295   \n",
       "primary_cleaner.output.tail_ag                         15.842836   \n",
       "primary_cleaner.output.tail_pb                          3.271153   \n",
       "primary_cleaner.output.tail_sol                         8.183673   \n",
       "primary_cleaner.output.tail_au                          3.623234   \n",
       "primary_cleaner.state.floatbank8_a_air               1600.596566   \n",
       "primary_cleaner.state.floatbank8_a_level             -499.926134   \n",
       "primary_cleaner.state.floatbank8_b_air               1600.520975   \n",
       "primary_cleaner.state.floatbank8_b_level             -499.956767   \n",
       "primary_cleaner.state.floatbank8_c_air               1600.253890   \n",
       "primary_cleaner.state.floatbank8_c_level             -499.909524   \n",
       "primary_cleaner.state.floatbank8_d_air               1599.447470   \n",
       "primary_cleaner.state.floatbank8_d_level             -499.905974   \n",
       "rougher.calculation.sulfate_to_au_concentrate       44696.480712   \n",
       "rougher.calculation.floatbank10_sulfate_to_au_feed   3018.353876   \n",
       "rougher.calculation.floatbank11_sulfate_to_au_feed   2997.218088   \n",
       "rougher.calculation.au_pb_ratio                         2.309665   \n",
       "rougher.input.feed_ag                                   8.593574   \n",
       "rougher.input.feed_pb                                   3.534895   \n",
       "rougher.input.feed_rate                               499.416120   \n",
       "rougher.input.feed_size                                54.610197   \n",
       "rougher.input.feed_sol                                 37.202650   \n",
       "rougher.input.feed_au                                   8.125839   \n",
       "rougher.input.floatbank10_sulfate                      12.001174   \n",
       "rougher.input.floatbank10_xanthate                      6.008273   \n",
       "rougher.input.floatbank11_sulfate                      12.000204   \n",
       "rougher.input.floatbank11_xanthate                      6.098580   \n",
       "rougher.output.concentrate_ag                          12.098115   \n",
       "rougher.output.concentrate_pb                           7.742580   \n",
       "rougher.output.concentrate_sol                         29.835345   \n",
       "rougher.output.concentrate_au                          20.280214   \n",
       "rougher.output.recovery                                86.188892   \n",
       "rougher.output.tail_ag                                  5.765802   \n",
       "rougher.output.tail_pb                                  0.617465   \n",
       "rougher.output.tail_sol                                18.106867   \n",
       "rougher.output.tail_au                                  1.808170   \n",
       "rougher.state.floatbank10_a_air                      1001.072890   \n",
       "rougher.state.floatbank10_a_level                    -300.263994   \n",
       "rougher.state.floatbank10_b_air                      1301.579988   \n",
       "rougher.state.floatbank10_b_level                    -499.784045   \n",
       "rougher.state.floatbank10_c_air                      1300.211537   \n",
       "rougher.state.floatbank10_c_level                    -499.713364   \n",
       "rougher.state.floatbank10_d_air                      1201.569141   \n",
       "rougher.state.floatbank10_d_level                    -499.532412   \n",
       "rougher.state.floatbank10_e_air                      1050.029461   \n",
       "rougher.state.floatbank10_e_level                    -499.663089   \n",
       "rougher.state.floatbank10_f_air                       999.924821   \n",
       "rougher.state.floatbank10_f_level                    -499.471777   \n",
       "secondary_cleaner.output.tail_ag                       15.641902   \n",
       "secondary_cleaner.output.tail_pb                        5.344073   \n",
       "secondary_cleaner.output.tail_sol                       7.685827   \n",
       "secondary_cleaner.output.tail_au                        4.072412   \n",
       "secondary_cleaner.state.floatbank2_a_air               29.099943   \n",
       "secondary_cleaner.state.floatbank2_a_level           -499.973250   \n",
       "secondary_cleaner.state.floatbank2_b_air               25.043289   \n",
       "secondary_cleaner.state.floatbank2_b_level           -500.015439   \n",
       "secondary_cleaner.state.floatbank3_a_air               27.982129   \n",
       "secondary_cleaner.state.floatbank3_a_level           -499.930680   \n",
       "secondary_cleaner.state.floatbank3_b_air               22.011231   \n",
       "secondary_cleaner.state.floatbank3_b_level           -499.981902   \n",
       "secondary_cleaner.state.floatbank4_a_air               18.017481   \n",
       "secondary_cleaner.state.floatbank4_a_level           -499.837793   \n",
       "secondary_cleaner.state.floatbank4_b_air               14.971014   \n",
       "secondary_cleaner.state.floatbank4_b_level           -499.459786   \n",
       "secondary_cleaner.state.floatbank5_a_air               15.000036   \n",
       "secondary_cleaner.state.floatbank5_a_level           -499.802605   \n",
       "secondary_cleaner.state.floatbank5_b_air               11.019433   \n",
       "secondary_cleaner.state.floatbank5_b_level           -499.935317   \n",
       "secondary_cleaner.state.floatbank6_a_air               19.960541   \n",
       "secondary_cleaner.state.floatbank6_a_level           -500.048400   \n",
       "\n",
       "                                                             75%           max  \n",
       "final.output.concentrate_ag                             5.895527  1.600195e+01  \n",
       "final.output.concentrate_pb                            11.035769  1.703190e+01  \n",
       "final.output.concentrate_sol                           10.947813  1.961572e+01  \n",
       "final.output.concentrate_au                            46.275313  5.275664e+01  \n",
       "final.output.recovery                                  72.686642  1.000000e+02  \n",
       "final.output.tail_ag                                   11.134294  1.955215e+01  \n",
       "final.output.tail_pb                                    3.333216  5.804178e+00  \n",
       "final.output.tail_sol                                  12.104271  2.231773e+01  \n",
       "final.output.tail_au                                    3.571351  8.245022e+00  \n",
       "primary_cleaner.input.sulfate                         175.075656  2.659831e+02  \n",
       "primary_cleaner.input.depressant                       11.013521  4.000000e+01  \n",
       "primary_cleaner.input.feed_size                         7.670000  1.550000e+01  \n",
       "primary_cleaner.input.xanthate                          1.210990  4.102454e+00  \n",
       "primary_cleaner.output.concentrate_ag                   9.809001  1.608163e+01  \n",
       "primary_cleaner.output.concentrate_pb                  11.424971  1.708128e+01  \n",
       "primary_cleaner.output.concentrate_sol                 13.446702  2.245811e+01  \n",
       "primary_cleaner.output.concentrate_au                  35.048006  4.593393e+01  \n",
       "primary_cleaner.output.tail_ag                         18.013975  2.945957e+01  \n",
       "primary_cleaner.output.tail_pb                          4.181748  9.634565e+00  \n",
       "primary_cleaner.output.tail_sol                         9.548586  2.227636e+01  \n",
       "primary_cleaner.output.tail_au                          4.585705  1.778892e+01  \n",
       "primary_cleaner.state.floatbank8_a_air               1697.657718  2.103104e+03  \n",
       "primary_cleaner.state.floatbank8_a_level             -499.433950 -5.719540e+01  \n",
       "primary_cleaner.state.floatbank8_b_air               1699.217656  2.114907e+03  \n",
       "primary_cleaner.state.floatbank8_b_level             -499.373336 -1.425272e+02  \n",
       "primary_cleaner.state.floatbank8_c_air               1699.482929  2.013156e+03  \n",
       "primary_cleaner.state.floatbank8_c_level             -498.857643 -1.509370e+02  \n",
       "primary_cleaner.state.floatbank8_d_air               1698.524904  2.398904e+03  \n",
       "primary_cleaner.state.floatbank8_d_level             -499.064695 -3.060183e+01  \n",
       "rougher.calculation.sulfate_to_au_concentrate       48168.210371  3.428099e+06  \n",
       "rougher.calculation.floatbank10_sulfate_to_au_feed   3676.769750  6.296390e+05  \n",
       "rougher.calculation.floatbank11_sulfate_to_au_feed   3601.998911  7.186850e+05  \n",
       "rougher.calculation.au_pb_ratio                         2.731794  3.937927e+01  \n",
       "rougher.input.feed_ag                                  10.213771  1.459603e+01  \n",
       "rougher.input.feed_pb                                   4.244161  7.142594e+00  \n",
       "rougher.input.feed_rate                               550.172183  7.175088e+02  \n",
       "rougher.input.feed_size                                65.023044  4.849675e+02  \n",
       "rougher.input.feed_sol                                 40.039133  5.347774e+01  \n",
       "rougher.input.feed_au                                   9.769917  1.373133e+01  \n",
       "rougher.input.floatbank10_sulfate                      14.716595  3.611827e+01  \n",
       "rougher.input.floatbank10_xanthate                      6.798051  9.703448e+00  \n",
       "rougher.input.floatbank11_sulfate                      14.636766  3.798065e+01  \n",
       "rougher.input.floatbank11_xanthate                      6.801233  9.698407e+00  \n",
       "rougher.output.concentrate_ag                          13.736996  2.448027e+01  \n",
       "rougher.output.concentrate_pb                           8.565199  1.361707e+01  \n",
       "rougher.output.concentrate_sol                         32.189933  3.835119e+01  \n",
       "rougher.output.concentrate_au                          21.717843  2.882451e+01  \n",
       "rougher.output.recovery                                90.010670  1.000000e+02  \n",
       "rougher.output.tail_ag                                  6.389234  1.271918e+01  \n",
       "rougher.output.tail_pb                                  0.778271  3.778064e+00  \n",
       "rougher.output.tail_sol                                20.088151  6.611719e+01  \n",
       "rougher.output.tail_au                                  2.211861  9.688980e+00  \n",
       "rougher.state.floatbank10_a_air                      1205.620588  1.521980e+03  \n",
       "rougher.state.floatbank10_a_level                    -299.981998 -2.737761e+02  \n",
       "rougher.state.floatbank10_b_air                      1448.630789  1.809194e+03  \n",
       "rougher.state.floatbank10_b_level                    -400.615589 -2.963831e+02  \n",
       "rougher.state.floatbank10_c_air                      1449.464001  2.499129e+03  \n",
       "rougher.state.floatbank10_c_level                    -400.985743 -2.921555e+02  \n",
       "rougher.state.floatbank10_d_air                      1352.880320  1.817199e+03  \n",
       "rougher.state.floatbank10_d_level                    -401.638550 -7.639733e+01  \n",
       "rougher.state.floatbank10_e_air                      1199.425140  1.922637e+03  \n",
       "rougher.state.floatbank10_e_level                    -401.161191 -1.397530e+02  \n",
       "rougher.state.floatbank10_f_air                      1099.719692  1.706308e+03  \n",
       "rougher.state.floatbank10_f_level                    -401.511042 -1.917185e+02  \n",
       "secondary_cleaner.output.tail_ag                       17.358217  2.326474e+01  \n",
       "secondary_cleaner.output.tail_pb                        7.788467  1.704250e+01  \n",
       "secondary_cleaner.output.tail_sol                      10.411296  2.600077e+01  \n",
       "secondary_cleaner.output.tail_au                        5.063081  2.681164e+01  \n",
       "secondary_cleaner.state.floatbank2_a_air               33.012536  5.265140e+01  \n",
       "secondary_cleaner.state.floatbank2_a_level           -499.671261 -1.278756e+02  \n",
       "secondary_cleaner.state.floatbank2_b_air               28.008197  3.515212e+01  \n",
       "secondary_cleaner.state.floatbank2_b_level           -499.785698 -2.119993e+02  \n",
       "secondary_cleaner.state.floatbank3_a_air               33.002798  4.426046e+01  \n",
       "secondary_cleaner.state.floatbank3_a_level           -499.325739 -1.916788e+02  \n",
       "secondary_cleaner.state.floatbank3_b_air               25.998206  3.507284e+01  \n",
       "secondary_cleaner.state.floatbank3_b_level           -499.812834 -1.597423e+02  \n",
       "secondary_cleaner.state.floatbank4_a_air               23.012470  3.011574e+01  \n",
       "secondary_cleaner.state.floatbank4_a_level           -498.249730 -2.452392e+02  \n",
       "secondary_cleaner.state.floatbank4_b_air               19.034162  3.126971e+01  \n",
       "secondary_cleaner.state.floatbank4_b_level           -400.118106 -6.506986e+00  \n",
       "secondary_cleaner.state.floatbank5_a_air               18.026190  4.370993e+01  \n",
       "secondary_cleaner.state.floatbank5_a_level           -498.384187 -2.444836e+02  \n",
       "secondary_cleaner.state.floatbank5_b_air               14.019088  2.792600e+01  \n",
       "secondary_cleaner.state.floatbank5_b_level           -499.436708 -1.377400e+02  \n",
       "secondary_cleaner.state.floatbank6_a_air               24.003170  3.218891e+01  \n",
       "secondary_cleaner.state.floatbank6_a_level           -499.495378 -1.044275e+02  "
      ]
     },
     "metadata": {},
     "output_type": "display_data"
    },
    {
     "name": "stdout",
     "output_type": "stream",
     "text": [
      "Количество дубликатов в таблице Исходные данные : 0\n"
     ]
    }
   ],
   "source": [
    "describe_data(full)"
   ]
  },
  {
   "cell_type": "code",
   "execution_count": 8,
   "metadata": {},
   "outputs": [],
   "source": [
    "#Поскольку соседние по дате и времени часто похожи, заполним данные предыдущими значениями\n",
    "test = test.fillna(method='ffill')\n",
    "train = train.fillna(method='ffill')\n",
    "full = full.fillna(method='ffill')"
   ]
  },
  {
   "cell_type": "code",
   "execution_count": 9,
   "metadata": {},
   "outputs": [],
   "source": [
    "train_mae=train"
   ]
  },
  {
   "cell_type": "code",
   "execution_count": 10,
   "metadata": {},
   "outputs": [
    {
     "name": "stdout",
     "output_type": "stream",
     "text": [
      "Средняя абсолютная ошибка (MAE): 9.73512347450521e-15\n"
     ]
    }
   ],
   "source": [
    "# Проверим правильность расчета эффективности обогащения\n",
    "C=train_mae['rougher.output.concentrate_au'] #Доля золота в концентрате после флотации\n",
    "\n",
    "F=train_mae['rougher.input.feed_au'] # Доля золота в сырье до флотации\n",
    "\n",
    "T=train_mae['rougher.output.tail_au'] # Доля золота в отвальных хвостах после флотации\n",
    "\n",
    "A=C*(F-T)\n",
    "B=F*(C-T)\n",
    "train_mae['rougher_recovery']=(A/B)*100 # Формула расчета эффективности обоащения\n",
    "\n",
    "print('Средняя абсолютная ошибка (MAE):',mean_absolute_error(train_mae['rougher.output.recovery'], train_mae['rougher_recovery']))"
   ]
  },
  {
   "cell_type": "code",
   "execution_count": 11,
   "metadata": {
    "scrolled": false
   },
   "outputs": [
    {
     "data": {
      "text/plain": [
       "7                           final.output.concentrate_ag\n",
       "24                          final.output.concentrate_au\n",
       "21                          final.output.concentrate_pb\n",
       "32                         final.output.concentrate_sol\n",
       "0                                 final.output.recovery\n",
       "25                                 final.output.tail_ag\n",
       "4                                  final.output.tail_au\n",
       "12                                 final.output.tail_pb\n",
       "11                                final.output.tail_sol\n",
       "23                primary_cleaner.output.concentrate_ag\n",
       "33                primary_cleaner.output.concentrate_au\n",
       "16                primary_cleaner.output.concentrate_pb\n",
       "30               primary_cleaner.output.concentrate_sol\n",
       "18                       primary_cleaner.output.tail_ag\n",
       "22                       primary_cleaner.output.tail_au\n",
       "2                        primary_cleaner.output.tail_pb\n",
       "31                      primary_cleaner.output.tail_sol\n",
       "27                      rougher.calculation.au_pb_ratio\n",
       "9     rougher.calculation.floatbank10_sulfate_to_au_...\n",
       "13    rougher.calculation.floatbank11_sulfate_to_au_...\n",
       "5         rougher.calculation.sulfate_to_au_concentrate\n",
       "15                        rougher.output.concentrate_ag\n",
       "19                        rougher.output.concentrate_au\n",
       "29                        rougher.output.concentrate_pb\n",
       "3                        rougher.output.concentrate_sol\n",
       "28                              rougher.output.recovery\n",
       "17                               rougher.output.tail_ag\n",
       "14                               rougher.output.tail_au\n",
       "8                                rougher.output.tail_pb\n",
       "26                              rougher.output.tail_sol\n",
       "1                      secondary_cleaner.output.tail_ag\n",
       "6                      secondary_cleaner.output.tail_au\n",
       "10                     secondary_cleaner.output.tail_pb\n",
       "20                    secondary_cleaner.output.tail_sol\n",
       "dtype: object"
      ]
     },
     "execution_count": 11,
     "metadata": {},
     "output_type": "execute_result"
    }
   ],
   "source": [
    "# Выведем признаки которых нет в тестовой выборке.\n",
    "test_col=test.columns\n",
    "full_col=full.columns\n",
    "main_list=list(set(full_col)-set(test_col))\n",
    "main_list=pd.Series(main_list)\n",
    "main_list.sort_values()"
   ]
  },
  {
   "cell_type": "markdown",
   "metadata": {},
   "source": [
    "### Вывод"
   ]
  },
  {
   "cell_type": "markdown",
   "metadata": {},
   "source": [
    "<br>Обучающая выборка - 87 столбцов, 14149 строк\n",
    "<br>Тестовая выборка - 53 столбца, 5290 строк\n",
    "<br>Исходные данные - 87 столбцов, 19439 строк\n",
    "<br>Дубликатов в данных нет\n",
    "<br>Провели замену пропущенных значений предыдущими значениями\n",
    "<br>Проверили правильность расчета эффективности обогащения на обучающей выборке - (MAE): 9.73512347450521e-15. Это значение на столько мало, что мы можем говорить о правильности расчета.\n",
    "<br>В тестовой выборке отсутствует 34 столбца - это выходные параметры продукта после каждого этапа обработки."
   ]
  },
  {
   "cell_type": "markdown",
   "metadata": {},
   "source": [
    "## Анализ данных"
   ]
  },
  {
   "cell_type": "code",
   "execution_count": 12,
   "metadata": {
    "scrolled": false
   },
   "outputs": [
    {
     "data": {
      "image/png": "[encoded data removed]",
      "text/plain": [
       "<Figure size 864x288 with 1 Axes>"
      ]
     },
     "metadata": {},
     "output_type": "display_data"
    },
    {
     "data": {
      "image/png": "[encoded data removed]",
      "text/plain": [
       "<Figure size 864x360 with 1 Axes>"
      ]
     },
     "metadata": {},
     "output_type": "display_data"
    },
    {
     "data": {
      "image/png": "[encoded data removed]",
      "text/plain": [
       "<Figure size 864x360 with 1 Axes>"
      ]
     },
     "metadata": {},
     "output_type": "display_data"
    }
   ],
   "source": [
    "#Рассмотрим как меняется концентрация металлов на различных этапах очистки\n",
    "\n",
    "plt.figure(figsize=(12, 4))\n",
    "plt.title('Распределение концетрации Au', fontweight='bold')\n",
    "plt.xlabel('Концентрация')\n",
    "plt.ylabel('Количество')\n",
    "fig = sns.kdeplot(full['rougher.input.feed_au'],color='w', legend=True,shade=True)\n",
    "fig = sns.kdeplot(full['rougher.output.concentrate_au'],color='r', legend=True,shade=True)\n",
    "fig = sns.kdeplot(full['primary_cleaner.output.concentrate_au'],color='g', legend=True,shade=True)\n",
    "fig = sns.kdeplot(full['final.output.concentrate_au'],color='b', legend=True,shade=True)\n",
    "plt.legend(['До флотации', 'Флотация', 'Первичная очистка', 'Финал' ],bbox_to_anchor=(1.1, 1))     \n",
    "plt.grid()\n",
    "\n",
    "\n",
    "plt.figure(figsize=(12, 5))\n",
    "plt.title('Распределение концетрации Ag', fontweight='bold')\n",
    "plt.xlabel('Концентрация')\n",
    "plt.ylabel('Количество')\n",
    "fig = sns.kdeplot(full['rougher.input.feed_ag'],color='w', legend=True,shade=True)\n",
    "fig = sns.kdeplot(full['rougher.output.concentrate_ag'],color='r', legend=True,shade=True)\n",
    "fig = sns.kdeplot(full['primary_cleaner.output.concentrate_ag'],color='g', legend=True,shade=True)\n",
    "fig = sns.kdeplot(full['final.output.concentrate_ag'],color='b', legend=True,shade=True)\n",
    "plt.legend(['До флотации', 'Флотация', 'Первичная очистка', 'Финал' ],bbox_to_anchor=(1.1, 1))    \n",
    "plt.grid()\n",
    "\n",
    "\n",
    "plt.figure(figsize=(12, 5))\n",
    "plt.title('Распределение концетрации Pb', fontweight='bold')\n",
    "plt.xlabel('Концентрация')\n",
    "plt.ylabel('Количество')\n",
    "fig = sns.kdeplot(full['rougher.input.feed_pb'],color='w', legend=True,shade=True)\n",
    "fig = sns.kdeplot(full['rougher.output.concentrate_pb'],color='r', legend=True,shade=True)\n",
    "fig = sns.kdeplot(full['primary_cleaner.output.concentrate_pb'],color='g', legend=True,shade=True)\n",
    "fig = sns.kdeplot(full['final.output.concentrate_pb'],color='b', legend=True,shade=True)\n",
    "plt.legend(['До флотации', 'Флотация', 'Первичная очистка', 'Финал' ],bbox_to_anchor=(1.1, 1))  \n",
    "plt.grid()\n",
    "plt.show();"
   ]
  },
  {
   "cell_type": "markdown",
   "metadata": {},
   "source": [
    "<div style=\"border:solid green 5px; padding: 20px\">\n",
    "    Из представленных графиков видно, что на каждом этапе очистки увеличивается доля содержания Золота (Au) и Свинца(Pb). Доля содержания серебра уменьшается(Ag)."
   ]
  },
  {
   "cell_type": "code",
   "execution_count": 13,
   "metadata": {},
   "outputs": [
    {
     "data": {
      "image/png": "[encoded data removed]",
      "text/plain": [
       "<Figure size 1080x576 with 1 Axes>"
      ]
     },
     "metadata": {},
     "output_type": "display_data"
    }
   ],
   "source": [
    "#Сравним распредление размеров гранул сырья на обучающей и тестовой выборках\n",
    "plt.figure(figsize=(15,8))\n",
    "sns.kdeplot(train['rougher.input.feed_size'],color='w', legend=True,shade=True)\n",
    "sns.kdeplot(test['rougher.input.feed_size'],color='r', legend=True,shade=True)\n",
    "plt.title('Распределение размеров гранул сырья на обучающей и тестовой выборках')\n",
    "plt.grid()\n",
    "plt.legend(['Обучающая выборка', 'Тестовая выборка'],bbox_to_anchor=(0.5, 1))  \n",
    "plt.xlabel('Размер гранул')\n",
    "plt.ylabel('Количество')\n",
    "plt.show();"
   ]
  },
  {
   "cell_type": "markdown",
   "metadata": {},
   "source": [
    "<div style=\"border:solid green 5px; padding: 20px\">\n",
    "    Распределение размеров гранул сырья практически идентично, можно строить модель."
   ]
  },
  {
   "cell_type": "code",
   "execution_count": 14,
   "metadata": {},
   "outputs": [
    {
     "data": {
      "image/png": "[encoded data removed]",
      "text/plain": [
       "<Figure size 864x360 with 1 Axes>"
      ]
     },
     "metadata": {},
     "output_type": "display_data"
    },
    {
     "data": {
      "image/png": "[encoded data removed]",
      "text/plain": [
       "<Figure size 864x360 with 1 Axes>"
      ]
     },
     "metadata": {},
     "output_type": "display_data"
    },
    {
     "data": {
      "image/png": "[encoded data removed]",
      "text/plain": [
       "<Figure size 864x360 with 1 Axes>"
      ]
     },
     "metadata": {},
     "output_type": "display_data"
    }
   ],
   "source": [
    "# Исследуем суммарную концентрацию всех веществ на разных стадиях \n",
    "\n",
    "rougher_sum = (\n",
    "    full['rougher.output.concentrate_ag'] +\n",
    "    full['rougher.output.concentrate_pb'] +\n",
    "    full['rougher.output.concentrate_sol'] +\n",
    "    full['rougher.output.concentrate_au']\n",
    ")\n",
    "\n",
    "ax = rougher_sum.hist(figsize=(12,5), range=(0,90), bins=100)\n",
    "ax.grid()\n",
    "ax.set_xlabel('Концентрация')\n",
    "ax.set_ylabel('Количество')\n",
    "plt.title('Распределение суммарной концентрации веществ на этапе Флотации')\n",
    "plt.grid(True)\n",
    "plt.show()\n",
    "\n",
    "\n",
    "\n",
    "primary_cleaner_sum = (\n",
    "    full['primary_cleaner.output.concentrate_ag'] +\n",
    "    full['primary_cleaner.output.concentrate_pb'] +\n",
    "    full['primary_cleaner.output.concentrate_sol'] +\n",
    "    full['primary_cleaner.output.concentrate_au']\n",
    ")\n",
    "\n",
    "ax = primary_cleaner_sum.hist(figsize=(12,5), range=(0,90), bins=100)\n",
    "ax.grid()\n",
    "ax.set_xlabel('Концентрация')\n",
    "ax.set_ylabel('Количество')\n",
    "plt.title('Распределение суммарной концентрации веществ на этапе Первичной очистки')\n",
    "plt.grid(True)\n",
    "plt.show()\n",
    "\n",
    "\n",
    "\n",
    "final_concentrate_sum = (\n",
    "    full['final.output.concentrate_ag'] +\n",
    "    full['final.output.concentrate_pb'] + \n",
    "    full['final.output.concentrate_sol'] + \n",
    "    full['final.output.concentrate_au']\n",
    ")\n",
    "\n",
    "ax = final_concentrate_sum.hist(figsize=(12,5), range=(0,90), bins=100)\n",
    "\n",
    "ax.set_xlabel('Концентрация')\n",
    "ax.set_ylabel('Количество')\n",
    "plt.title('Распределение суммарной концентрации веществ на Финальном этапе')\n",
    "plt.grid(True)\n",
    "plt.show()"
   ]
  },
  {
   "cell_type": "markdown",
   "metadata": {},
   "source": [
    "<div style=\"border:solid green 5px; padding: 20px\">\n",
    "Можем увидеть выбросы около нулевых значений От начального этапа суммарная концентрация веществ стремится к 70."
   ]
  },
  {
   "cell_type": "code",
   "execution_count": 15,
   "metadata": {},
   "outputs": [],
   "source": [
    "#Избавимся от околонулевых значений в train \n",
    "train1 = train[(train['rougher.output.concentrate_ag'] >= 1) & (train['rougher.output.concentrate_pb'] >= 1)\n",
    "               & (train['rougher.output.concentrate_sol'] >= 1) & (train['rougher.output.concentrate_au'] >= 1)\n",
    "              & (train['primary_cleaner.output.concentrate_ag'] >= 1) & (train['primary_cleaner.output.concentrate_pb'] >= 1)\n",
    "               & (train['primary_cleaner.output.concentrate_sol'] >= 1) & (train['primary_cleaner.output.concentrate_au'] >= 1)\n",
    "              & (train['final.output.concentrate_ag'] >= 1) & (train['final.output.concentrate_pb'] >= 1)\n",
    "               & (train['final.output.concentrate_sol'] >= 1) & (train['final.output.concentrate_au'] >= 1)]"
   ]
  },
  {
   "cell_type": "markdown",
   "metadata": {},
   "source": [
    "### Вывод"
   ]
  },
  {
   "cell_type": "markdown",
   "metadata": {},
   "source": [
    "1. На каждом этапе очистки увеличивается доля содержания Золота (Au) и Свинца(Pb). Доля содержания серебра уменьшается(Ag).\n",
    "2. Распределение размеров гранул сырья на обучающей и тестовой выборках практически идентично.\n",
    "3. На графиках распределения суммарной концентрации веществ на разных стадия можем увидеть выбросы около нулевых значений. От начального этапа и до финального суммарная концентрация веществ стремится к 70."
   ]
  },
  {
   "cell_type": "markdown",
   "metadata": {},
   "source": [
    "## Модель"
   ]
  },
  {
   "cell_type": "code",
   "execution_count": 16,
   "metadata": {},
   "outputs": [],
   "source": [
    "# Функция для вычисления эффективности обогащения sMAPE\n",
    "def sMAPE(y_true,y_pred):\n",
    "    error = 100/len(y_true)*np.sum(np.abs(y_true - y_pred)/((np.abs(y_true) + np.abs(y_pred))/2))\n",
    "    return error"
   ]
  },
  {
   "cell_type": "code",
   "execution_count": 17,
   "metadata": {},
   "outputs": [],
   "source": [
    "# Функция для вычисления итоговой sMAPE\n",
    "def final_sMAPE(sMAPE_rougher,sMAPE_final):\n",
    "    return (0.25*sMAPE_rougher + 0.75*sMAPE_final)"
   ]
  },
  {
   "cell_type": "markdown",
   "metadata": {},
   "source": [
    "<font color='red'><b>Комментарий студента: </b></font> ❌\\\n",
    "<font color='red'> Нашел у себя ошибку в расчете формалы`sMAPE`. В знаменателе забыл скобки.\n",
    "\n",
    "Было error = 100/len(y_true)*np.sum(np.abs(y_true - y_pred)/(np.abs(y_true) + np.abs(y_pred)/2)). \n",
    "    \n",
    "И получалось мы делим на 2 только np.abs(y_pred)</font>"
   ]
  },
  {
   "cell_type": "markdown",
   "metadata": {},
   "source": [
    "<div style=\"border:solid green 5px; padding: 20px\">\n",
    "    Так как обогащение золота это длительный процесс, то мы преполагаем, что для решения задачи нужно сначала спрогнозировать на одной модели объём золота которое у нас получится при черновом обогащении (чтобы планировать какой объём ресурсов потребуется на следующих стадиях), а затем спрогнозировать на другой модели объём золота которое у нас получится при финальном обогащении. Модель чернового обогащения не обязательно будет подходить модели финального обогащения. Поэтому разделим задачу на 2 части."
   ]
  },
  {
   "cell_type": "markdown",
   "metadata": {},
   "source": [
    "### Построение модели для чернового концентрата"
   ]
  },
  {
   "cell_type": "code",
   "execution_count": 18,
   "metadata": {},
   "outputs": [],
   "source": [
    "#Подготовим выборку обогащения чернового концентрата\n",
    "#Поскольку на этапе обогащения чернового концентрата мы знаем данные только rougher стадии, оставим только их\n",
    "#Разделим на целевой признак и признаки\n",
    "rougher_target_train = train[['rougher.output.recovery']] \n",
    "rougher_target_train = rougher_target_train.values.ravel() #Сделаем массивом данных (без этого модели почему-то не хотят работать)\n",
    "rougher_features_train = train[list(set(test.loc[:,test.columns.str.contains('rougher')].columns))]"
   ]
  },
  {
   "cell_type": "code",
   "execution_count": 19,
   "metadata": {},
   "outputs": [
    {
     "name": "stdout",
     "output_type": "stream",
     "text": [
      "(14149,)\n",
      "(14149, 22)\n"
     ]
    }
   ],
   "source": [
    "#Проверим длину и количество столбцов\n",
    "print(rougher_target_train.shape)\n",
    "print(rougher_features_train.shape)"
   ]
  },
  {
   "cell_type": "code",
   "execution_count": 20,
   "metadata": {},
   "outputs": [],
   "source": [
    "# Скоринг для определения качеества модели\n",
    "score = make_scorer(sMAPE)"
   ]
  },
  {
   "cell_type": "code",
   "execution_count": 21,
   "metadata": {},
   "outputs": [
    {
     "data": {
      "text/plain": [
       "12.472324262880544"
      ]
     },
     "execution_count": 21,
     "metadata": {},
     "output_type": "execute_result"
    }
   ],
   "source": [
    "# Линейная регрессия с кросс-валидацией делящей выборку на 5 частей\n",
    "modelLR = LinearRegression()\n",
    "scoreLR = cross_val_score(modelLR, rougher_features_train, rougher_target_train, cv=5, scoring=score)\n",
    "scoreLR.mean()"
   ]
  },
  {
   "cell_type": "code",
   "execution_count": 22,
   "metadata": {
    "scrolled": false
   },
   "outputs": [
    {
     "name": "stderr",
     "output_type": "stream",
     "text": [
      "100%|██████████| 2/2 [00:36<00:00, 18.50s/it]"
     ]
    },
    {
     "name": "stdout",
     "output_type": "stream",
     "text": [
      "The best sMAPE for Random Forest: 11.526555031394924 with depth = 3 and estimators =  25\n"
     ]
    },
    {
     "name": "stderr",
     "output_type": "stream",
     "text": [
      "\n"
     ]
    }
   ],
   "source": [
    "np.seterr(invalid='ignore') #  скроем предупреждающее сообщение, содержащее недопустимое значение.\n",
    "#Случайный лес\n",
    "bestRFR = 1000\n",
    "d = 0\n",
    "e = 0\n",
    "for depth in tqdm(range(1,5,2)):\n",
    "    for estim in range(21,30,2):\n",
    "        modelRFR = RandomForestRegressor(max_depth = depth, n_estimators = estim, random_state = 42)\n",
    "        scoreRFR = cross_val_score(modelRFR, rougher_features_train, rougher_target_train, cv=5, scoring = score).mean()\n",
    "        if scoreRFR < bestRFR:\n",
    "            bestRFR = scoreRFR\n",
    "            d = depth\n",
    "            e = estim\n",
    "print('The best sMAPE for Random Forest:', bestRFR, 'with depth =', d, 'and estimators = ', e)\n"
   ]
  },
  {
   "cell_type": "code",
   "execution_count": 23,
   "metadata": {
    "scrolled": true
   },
   "outputs": [
    {
     "name": "stderr",
     "output_type": "stream",
     "text": [
      "100%|██████████| 2/2 [00:02<00:00,  1.32s/it]"
     ]
    },
    {
     "name": "stdout",
     "output_type": "stream",
     "text": [
      "The best sMAPE for Decision Tree: 11.752610484092525 with depth = 3 and samples =  15\n"
     ]
    },
    {
     "name": "stderr",
     "output_type": "stream",
     "text": [
      "\n"
     ]
    }
   ],
   "source": [
    "# Дерево решений \n",
    "bestDTR = 1000\n",
    "d = 0\n",
    "s = 0\n",
    "for depth in tqdm(range(1,5,2)):\n",
    "    for samples in range(11, 20,2):\n",
    "        modelDTR = DecisionTreeRegressor(max_depth = depth,min_samples_leaf = samples, random_state = 42)\n",
    "        scoreDTR = cross_val_score(modelDTR, rougher_features_train, rougher_target_train, cv=5, scoring = score).mean()\n",
    "        if scoreDTR < bestDTR:\n",
    "            bestDTR = scoreDTR\n",
    "            d = depth\n",
    "            s = samples\n",
    "print('The best sMAPE for Decision Tree:', bestDTR, 'with depth =', d, 'and samples = ', s)"
   ]
  },
  {
   "cell_type": "markdown",
   "metadata": {},
   "source": [
    "### Вывод"
   ]
  },
  {
   "cell_type": "markdown",
   "metadata": {},
   "source": [
    "Лучшая модель на черновом обогащении: Случаный лес - sMAPE = 11.529345389517974, с глубиной = 3 и количеством деревьем = 25"
   ]
  },
  {
   "cell_type": "markdown",
   "metadata": {},
   "source": [
    "### Построение модели финального концентрата"
   ]
  },
  {
   "cell_type": "code",
   "execution_count": 24,
   "metadata": {},
   "outputs": [],
   "source": [
    "#Подготовим выборку обогащения финального концентрата\n",
    "#Разделим на целевой признак и признаки\n",
    "final_target_train = train[['final.output.recovery']] \n",
    "final_target_train = final_target_train.values.ravel() #Сделаем массивом данных\n",
    "final_features_train = train[list(set(test.columns))]"
   ]
  },
  {
   "cell_type": "code",
   "execution_count": 25,
   "metadata": {},
   "outputs": [
    {
     "name": "stdout",
     "output_type": "stream",
     "text": [
      "(14149,)\n",
      "(14149, 52)\n"
     ]
    }
   ],
   "source": [
    "#Проверим длину и количество столбцов\n",
    "print(final_target_train.shape)\n",
    "print(final_features_train.shape)"
   ]
  },
  {
   "cell_type": "code",
   "execution_count": 26,
   "metadata": {},
   "outputs": [
    {
     "data": {
      "text/plain": [
       "12.245300320302318"
      ]
     },
     "execution_count": 26,
     "metadata": {},
     "output_type": "execute_result"
    }
   ],
   "source": [
    "# Линейная регрессия\n",
    "modelLR_f = LinearRegression()\n",
    "scoreLR_f = cross_val_score(modelLR_f, final_features_train, final_target_train, cv=5, scoring=score)\n",
    "scoreLR_f.mean()"
   ]
  },
  {
   "cell_type": "code",
   "execution_count": 38,
   "metadata": {},
   "outputs": [
    {
     "name": "stderr",
     "output_type": "stream",
     "text": [
      "100%|██████████| 3/3 [01:41<00:00, 33.93s/it]"
     ]
    },
    {
     "name": "stdout",
     "output_type": "stream",
     "text": [
      "The best sMAPE for Random Forest: -9.976406579703278 with depth = 1 and estimators =  19\n"
     ]
    },
    {
     "name": "stderr",
     "output_type": "stream",
     "text": [
      "\n"
     ]
    }
   ],
   "source": [
    "#Случайный лес\n",
    "bestRFR_f = 1000\n",
    "d = 0\n",
    "e = 0\n",
    "for depth in tqdm(range(1,6,2)):\n",
    "    for estim in range(11,20,2):\n",
    "        modelRFR_f = RandomForestRegressor(max_depth = depth, n_estimators = estim, random_state = 42)\n",
    "        scoreRFR_f = cross_val_score(modelRFR_f, final_features_train, final_target_train, cv=5, scoring = 'neg_root_mean_squared_error').mean()\n",
    "        if scoreRFR_f < bestRFR_f:\n",
    "            bestRFR_f = scoreRFR_f\n",
    "            d = depth\n",
    "            e = estim\n",
    "print('The best sMAPE for Random Forest:', bestRFR_f, 'with depth =', d, 'and estimators = ', e)"
   ]
  },
  {
   "cell_type": "code",
   "execution_count": 28,
   "metadata": {
    "scrolled": true
   },
   "outputs": [
    {
     "name": "stderr",
     "output_type": "stream",
     "text": [
      "100%|██████████| 3/3 [00:12<00:00,  4.03s/it]"
     ]
    },
    {
     "name": "stdout",
     "output_type": "stream",
     "text": [
      "The best sMAPE for Decision Tree: 10.739680595039484 with depth = 3 and samples =  29\n"
     ]
    },
    {
     "name": "stderr",
     "output_type": "stream",
     "text": [
      "\n"
     ]
    }
   ],
   "source": [
    "#Дерево решений\n",
    "bestDTR_f = 1000\n",
    "d = 0\n",
    "s = 0\n",
    "for depth in tqdm(range(1,6,2)):\n",
    "    for samples in range(21, 30,2):\n",
    "        modelDTR_f = DecisionTreeRegressor(max_depth = depth,min_samples_leaf = samples, random_state = 42)\n",
    "        scoreDTR_f = cross_val_score(modelDTR_f, final_features_train, final_target_train, cv=5, scoring = score).mean()\n",
    "        if scoreDTR_f < bestDTR_f:\n",
    "            bestDTR_f = scoreDTR_f\n",
    "            d = depth\n",
    "            s = samples\n",
    "print('The best sMAPE for Decision Tree:', bestDTR_f, 'with depth =', d, 'and samples = ', s)"
   ]
  },
  {
   "cell_type": "markdown",
   "metadata": {},
   "source": [
    "Лучшая модель на финальном обогащении: Случаный лес - sMAPE = 10.241596789334181, с глубиной = 5 и количеством деревьем = 15"
   ]
  },
  {
   "cell_type": "code",
   "execution_count": 29,
   "metadata": {},
   "outputs": [
    {
     "name": "stdout",
     "output_type": "stream",
     "text": [
      "Финальное симметричное среднее абсолютное процентное отклонение (sMAPE) на тренировочноый выборке  10.546000735998367\n"
     ]
    }
   ],
   "source": [
    "print('Финальное симметричное среднее абсолютное процентное отклонение (sMAPE) на тренировочноый выборке ', final_sMAPE(bestRFR,bestRFR_f))"
   ]
  },
  {
   "cell_type": "markdown",
   "metadata": {},
   "source": [
    "### Вывод"
   ]
  },
  {
   "cell_type": "markdown",
   "metadata": {},
   "source": [
    "Лучшая модель на финальном обогащении: Случаный лес - sMAPE = 10.241596789334181, с глубиной = 5 и количеством деревьем = 15\n",
    "\n",
    "Финальное симметричное среднее абсолютное процентное отклонение (sMAPE) на тренировочноый выборке  10.563533939380129"
   ]
  },
  {
   "cell_type": "markdown",
   "metadata": {},
   "source": [
    "### Проверка на тестовой выборке"
   ]
  },
  {
   "cell_type": "code",
   "execution_count": 30,
   "metadata": {},
   "outputs": [],
   "source": [
    "#Подготовим данные\n",
    "full_td=full[['rougher.output.recovery','final.output.recovery']] #Выберем целевые столбцы из исходных данных\n",
    "result = pd.concat([test, full_td], axis=1, join=\"inner\") #Добавим их к тестовой выборке"
   ]
  },
  {
   "cell_type": "code",
   "execution_count": 31,
   "metadata": {},
   "outputs": [
    {
     "name": "stdout",
     "output_type": "stream",
     "text": [
      "(5290, 52)\n",
      "(5290, 54)\n"
     ]
    }
   ],
   "source": [
    "print(test.shape)\n",
    "print(result.shape)"
   ]
  },
  {
   "cell_type": "code",
   "execution_count": 32,
   "metadata": {},
   "outputs": [],
   "source": [
    "#В тестовой выборке извлечем целевой признак в переменную target_test, а остальные — в features_test\n",
    "rougher_features_test=result[list(set(rougher_features_train.columns))] # Признаки rougher\n",
    "final_features_test=result[list(set(final_features_train.columns))] # Признаки final\n",
    "rougher_target_test=result['rougher.output.recovery'] # целевой признак rougher\n",
    "final_target_test=result['final.output.recovery'] # целевой признак final"
   ]
  },
  {
   "cell_type": "code",
   "execution_count": 33,
   "metadata": {},
   "outputs": [
    {
     "name": "stdout",
     "output_type": "stream",
     "text": [
      "Симметричное среднее абсолютное процентное отклонение на черновом обогащении(sMAPE): 9.432603338402643\n"
     ]
    }
   ],
   "source": [
    "modelRFR = RandomForestRegressor(max_depth = 3, n_estimators = 25, random_state = 42)\n",
    "modelRFR.fit(rougher_features_train, rougher_target_train)\n",
    "predictionRFR=modelRFR.predict(rougher_features_test)\n",
    "rougher_smape = sMAPE(rougher_target_test,predictionRFR)\n",
    "print('Симметричное среднее абсолютное процентное отклонение на черновом обогащении(sMAPE):',rougher_smape)"
   ]
  },
  {
   "cell_type": "code",
   "execution_count": 34,
   "metadata": {},
   "outputs": [
    {
     "name": "stdout",
     "output_type": "stream",
     "text": [
      "Симметричное среднее абсолютное процентное отклонение на финальном обогащении(sMAPE): 9.99220667692424\n"
     ]
    }
   ],
   "source": [
    "modelRFR_f = RandomForestRegressor(max_depth = 5, n_estimators = 15, random_state = 42)\n",
    "modelRFR_f.fit(final_features_train, final_target_train)\n",
    "predictionRFR_f=modelRFR_f.predict(final_features_test)\n",
    "final_smape = sMAPE(final_target_test,predictionRFR_f)\n",
    "print('Симметричное среднее абсолютное процентное отклонение на финальном обогащении(sMAPE):',final_smape)"
   ]
  },
  {
   "cell_type": "code",
   "execution_count": 35,
   "metadata": {},
   "outputs": [
    {
     "name": "stdout",
     "output_type": "stream",
     "text": [
      "Финальное симметричное среднее абсолютное процентное отклонение (sMAPE) на тестовой выборке  9.852305842293841\n"
     ]
    }
   ],
   "source": [
    "print('Финальное симметричное среднее абсолютное процентное отклонение (sMAPE) на тестовой выборке ', final_sMAPE(rougher_smape,final_smape))"
   ]
  },
  {
   "cell_type": "markdown",
   "metadata": {},
   "source": [
    "### Вывод"
   ]
  },
  {
   "cell_type": "markdown",
   "metadata": {},
   "source": [
    "Финальное симметричное среднее абсолютное процентное отклонение (sMAPE) на тестовой выборке  9.850781339615258"
   ]
  },
  {
   "cell_type": "markdown",
   "metadata": {},
   "source": [
    "### Проверка адекватности модели"
   ]
  },
  {
   "cell_type": "code",
   "execution_count": 36,
   "metadata": {},
   "outputs": [
    {
     "name": "stdout",
     "output_type": "stream",
     "text": [
      "Cимметричное среднее абсолютное процентное отклонение (sMAPE) на черновом обогащении 8.62772926793569\n",
      "Cимметричное среднее абсолютное процентное отклонение (sMAPE) на финальном обогащении 9.76398250818525\n",
      "Финальное симметричное среднее абсолютное процентное отклонение (sMAPE) константной модели 9.479919198122861\n"
     ]
    }
   ],
   "source": [
    "dummy_rougher = DummyRegressor(strategy=\"median\")\n",
    "dummy_final = DummyRegressor(strategy=\"median\")\n",
    "dummy_rougher.fit(rougher_features_train, rougher_target_train)\n",
    "dummy_final.fit(final_features_train, final_target_train)\n",
    "dummy_rougher_pred = dummy_rougher.predict(rougher_features_test)\n",
    "dummy_final_pred = dummy_final.predict(final_features_test)\n",
    "sMAPE_rougher = sMAPE(rougher_target_test,dummy_rougher_pred)\n",
    "sMAPE_final =sMAPE(final_target_test,dummy_final_pred)\n",
    "print('Cимметричное среднее абсолютное процентное отклонение (sMAPE) на черновом обогащении',sMAPE_rougher)\n",
    "print('Cимметричное среднее абсолютное процентное отклонение (sMAPE) на финальном обогащении',sMAPE_final)\n",
    "print('Финальное симметричное среднее абсолютное процентное отклонение (sMAPE) константной модели',final_sMAPE(sMAPE_rougher,sMAPE_final))"
   ]
  },
  {
   "cell_type": "markdown",
   "metadata": {},
   "source": [
    "### Вывод"
   ]
  },
  {
   "cell_type": "markdown",
   "metadata": {},
   "source": [
    "Поскльку значение метрики DummyRegressor ниже на 0,38 чем наша модель, мы не можем говорить об адекватности модели."
   ]
  },
  {
   "cell_type": "markdown",
   "metadata": {},
   "source": [
    "## Общий вывод"
   ]
  },
  {
   "cell_type": "markdown",
   "metadata": {},
   "source": [
    "<div style=\"border:solid green 5px; padding: 20px\">\n",
    "    \n",
    "**<font color=\"green\">Подготовка данных</font>**    \n",
    "<br><br>Обучающая выборка - 87 столбцов, 14149 строк\n",
    "<br>Тестовая выборка - 53 столбца, 5290 строк\n",
    "<br>Исходные данные - 87 столбцов, 19439 строк\n",
    "<br>Дубликатов в данных нет\n",
    "<br>Провели замену пропущенных значений предыдущими значениями\n",
    "<br>Проверили правильность расчета эффективности обогащения на обучающей выборке - (MAE): 9.73512347450521e-15. Это значение на столько мало, что мы можем говорить о правильности расчета.\n",
    "<br>В тестовой выборке отсутствует 34 столбца - это выходные параметры продукта после каждого этапа обработки.\n",
    "    \n",
    "**<font color=\"green\">Анализ данных</font>**   \n",
    "<br>1. На каждом этапе очистки увеличивается доля содержания Золота (Au) и Свинца(Pb). Доля содержания серебра уменьшается(Ag).\n",
    "2. Распределение размеров гранул сырья на обучающей и тестовой выборках практически идентично.\n",
    "3. На графиках распределения суммарной концентрации веществ на разных стадия можем увидеть выбросы около нулевых значений. От начального этапа и до финального суммарная концентрация веществ стремится к 70.\n",
    "    \n",
    "**<font color=\"green\">Модель</font>**  \n",
    "<br>Так как обогащение золота это длительный процесс, то мы приняли решение, что для решения задачи нужно сначала спрогнозировать на одной модели объём золота которое у нас получится при черновом обогащении (чтобы планировать какой объём ресурсов потребуется на следующих стадиях), а затем спрогнозировать на другой модели объём золота которое у нас получится при финальном обогащении. Модель чернового обогащения не обязательно будет подходить модели финального обогащения. \n",
    "    \n",
    "<br>Лучшая модель на черновом обогащении: Случаный лес - sMAPE = 11,52% с глубиной = 3 и количеством деревьем = 25\n",
    "<br>Лучшая модель на финальном обогащении: Случаный лес - sMAPE = 10,24%, с глубиной = 5 и количеством деревьем = 15\n",
    "<br>Финальное симметричное среднее абсолютное процентное отклонение (sMAPE) на тренировочноый выборке  10,56%\n",
    "<br>Финальное симметричное среднее абсолютное процентное отклонение (sMAPE) на тестовой выборке 9,85%\n",
    "    \n",
    "<br>Поскльку значение метрики DummyRegressor ниже на 0,38 чем наша модель, мы не можем говорить об адекватности модели."
   ]
  }
 ],
 "metadata": {
  "ExecuteTimeLog": [
   {
    "duration": 404,
    "start_time": "2022-05-09T10:37:30.551Z"
   },
   {
    "duration": 167,
    "start_time": "2022-05-09T10:38:10.049Z"
   },
   {
    "duration": 11,
    "start_time": "2022-05-09T10:38:17.498Z"
   },
   {
    "duration": 250,
    "start_time": "2022-05-09T10:38:24.949Z"
   },
   {
    "duration": 10,
    "start_time": "2022-05-09T10:38:44.997Z"
   },
   {
    "duration": 3,
    "start_time": "2022-05-09T10:39:15.517Z"
   },
   {
    "duration": 797,
    "start_time": "2022-05-09T10:39:53.807Z"
   },
   {
    "duration": 3,
    "start_time": "2022-05-09T10:40:49.956Z"
   },
   {
    "duration": 4,
    "start_time": "2022-05-09T10:41:21.821Z"
   },
   {
    "duration": 431,
    "start_time": "2022-05-09T10:41:51.253Z"
   },
   {
    "duration": 185,
    "start_time": "2022-05-09T10:41:52.142Z"
   },
   {
    "duration": 402,
    "start_time": "2022-05-09T10:41:52.882Z"
   },
   {
    "duration": 3,
    "start_time": "2022-05-09T10:45:23.398Z"
   },
   {
    "duration": 404,
    "start_time": "2022-05-09T10:45:27.783Z"
   },
   {
    "duration": 402,
    "start_time": "2022-05-09T10:45:37.245Z"
   },
   {
    "duration": 424,
    "start_time": "2022-05-09T10:46:02.804Z"
   },
   {
    "duration": 648,
    "start_time": "2022-05-09T10:46:03.230Z"
   },
   {
    "duration": 3,
    "start_time": "2022-05-09T10:46:03.880Z"
   },
   {
    "duration": 6,
    "start_time": "2022-05-09T10:46:03.884Z"
   },
   {
    "duration": 458,
    "start_time": "2022-05-09T10:46:03.892Z"
   },
   {
    "duration": 211,
    "start_time": "2022-05-09T10:46:04.352Z"
   },
   {
    "duration": 495,
    "start_time": "2022-05-09T10:46:04.565Z"
   },
   {
    "duration": 108,
    "start_time": "2022-05-10T12:04:51.840Z"
   },
   {
    "duration": 29,
    "start_time": "2022-05-10T12:05:02.015Z"
   },
   {
    "duration": 14,
    "start_time": "2022-05-10T12:05:14.397Z"
   },
   {
    "duration": 24,
    "start_time": "2022-05-10T12:05:17.996Z"
   },
   {
    "duration": 56,
    "start_time": "2022-05-10T12:05:26.928Z"
   },
   {
    "duration": 3,
    "start_time": "2022-05-10T12:08:18.233Z"
   },
   {
    "duration": 20,
    "start_time": "2022-05-10T12:08:52.623Z"
   },
   {
    "duration": 1099,
    "start_time": "2022-05-10T12:09:30.271Z"
   },
   {
    "duration": 18,
    "start_time": "2022-05-10T12:09:37.939Z"
   },
   {
    "duration": 40,
    "start_time": "2022-05-10T12:12:29.954Z"
   },
   {
    "duration": 3,
    "start_time": "2022-05-10T12:12:33.201Z"
   },
   {
    "duration": 15,
    "start_time": "2022-05-10T12:12:35.257Z"
   },
   {
    "duration": 19,
    "start_time": "2022-05-10T12:13:23.212Z"
   },
   {
    "duration": 18,
    "start_time": "2022-05-10T12:13:28.567Z"
   },
   {
    "duration": 10,
    "start_time": "2022-05-10T12:20:24.369Z"
   },
   {
    "duration": 9,
    "start_time": "2022-05-10T12:20:53.148Z"
   },
   {
    "duration": 11,
    "start_time": "2022-05-10T12:22:30.400Z"
   },
   {
    "duration": 8,
    "start_time": "2022-05-10T12:22:36.444Z"
   },
   {
    "duration": 138,
    "start_time": "2022-05-10T12:24:56.733Z"
   },
   {
    "duration": 6,
    "start_time": "2022-05-10T12:25:23.796Z"
   },
   {
    "duration": 3,
    "start_time": "2022-05-10T12:30:25.207Z"
   },
   {
    "duration": 5,
    "start_time": "2022-05-10T12:30:31.222Z"
   },
   {
    "duration": 3,
    "start_time": "2022-05-10T12:30:45.443Z"
   },
   {
    "duration": 5,
    "start_time": "2022-05-10T12:31:15.476Z"
   },
   {
    "duration": 3,
    "start_time": "2022-05-10T12:31:22.492Z"
   },
   {
    "duration": 3,
    "start_time": "2022-05-10T12:31:23.948Z"
   },
   {
    "duration": 237,
    "start_time": "2022-05-10T12:31:34.013Z"
   },
   {
    "duration": 5,
    "start_time": "2022-05-10T12:31:37.515Z"
   },
   {
    "duration": 5,
    "start_time": "2022-05-10T12:31:45.016Z"
   },
   {
    "duration": 3,
    "start_time": "2022-05-10T12:31:49.038Z"
   },
   {
    "duration": 4,
    "start_time": "2022-05-10T12:31:54.350Z"
   },
   {
    "duration": 14,
    "start_time": "2022-05-10T12:32:58.162Z"
   },
   {
    "duration": 11,
    "start_time": "2022-05-10T12:33:06.120Z"
   },
   {
    "duration": 4,
    "start_time": "2022-05-10T12:33:18.251Z"
   },
   {
    "duration": 12,
    "start_time": "2022-05-10T12:35:22.551Z"
   },
   {
    "duration": 2419,
    "start_time": "2022-05-10T12:35:43.644Z"
   },
   {
    "duration": 13,
    "start_time": "2022-05-10T12:35:49.737Z"
   },
   {
    "duration": 5,
    "start_time": "2022-05-10T12:36:03.955Z"
   },
   {
    "duration": 13,
    "start_time": "2022-05-10T12:36:17.053Z"
   },
   {
    "duration": 275,
    "start_time": "2022-05-10T12:36:23.038Z"
   },
   {
    "duration": 2595,
    "start_time": "2022-05-10T12:36:26.390Z"
   },
   {
    "duration": 9,
    "start_time": "2022-05-10T12:38:26.808Z"
   },
   {
    "duration": 91,
    "start_time": "2022-05-10T12:38:32.573Z"
   },
   {
    "duration": 9,
    "start_time": "2022-05-10T12:38:45.600Z"
   },
   {
    "duration": 8,
    "start_time": "2022-05-10T12:38:53.340Z"
   },
   {
    "duration": 4,
    "start_time": "2022-05-10T12:39:10.855Z"
   },
   {
    "duration": 12,
    "start_time": "2022-05-10T12:39:19.224Z"
   },
   {
    "duration": 9,
    "start_time": "2022-05-10T12:39:23.650Z"
   },
   {
    "duration": 8,
    "start_time": "2022-05-10T12:39:28.999Z"
   },
   {
    "duration": 91,
    "start_time": "2022-05-10T12:41:50.704Z"
   },
   {
    "duration": 11,
    "start_time": "2022-05-10T12:42:04.826Z"
   },
   {
    "duration": 10,
    "start_time": "2022-05-10T12:42:56.630Z"
   },
   {
    "duration": 8,
    "start_time": "2022-05-10T12:43:03.061Z"
   },
   {
    "duration": 10,
    "start_time": "2022-05-10T12:43:12.178Z"
   },
   {
    "duration": 16,
    "start_time": "2022-05-10T12:44:16.326Z"
   },
   {
    "duration": 9,
    "start_time": "2022-05-10T12:44:23.835Z"
   },
   {
    "duration": 246,
    "start_time": "2022-05-10T12:47:20.493Z"
   },
   {
    "duration": 8,
    "start_time": "2022-05-10T12:47:23.490Z"
   },
   {
    "duration": 4,
    "start_time": "2022-05-10T12:48:42.053Z"
   },
   {
    "duration": 9,
    "start_time": "2022-05-10T12:48:58.270Z"
   },
   {
    "duration": 3335,
    "start_time": "2022-05-10T12:49:08.125Z"
   },
   {
    "duration": 284,
    "start_time": "2022-05-10T12:49:25.518Z"
   },
   {
    "duration": 4,
    "start_time": "2022-05-10T12:53:18.484Z"
   },
   {
    "duration": 5,
    "start_time": "2022-05-10T12:53:24.988Z"
   },
   {
    "duration": 5,
    "start_time": "2022-05-10T12:53:33.849Z"
   },
   {
    "duration": 8,
    "start_time": "2022-05-10T12:53:51.946Z"
   },
   {
    "duration": 9,
    "start_time": "2022-05-10T12:53:55.602Z"
   },
   {
    "duration": 9,
    "start_time": "2022-05-10T12:53:58.987Z"
   },
   {
    "duration": 9,
    "start_time": "2022-05-10T12:54:04.055Z"
   },
   {
    "duration": 9,
    "start_time": "2022-05-10T12:54:18.787Z"
   },
   {
    "duration": 6,
    "start_time": "2022-05-10T12:54:22.810Z"
   },
   {
    "duration": 5,
    "start_time": "2022-05-10T12:54:35.498Z"
   },
   {
    "duration": 7,
    "start_time": "2022-05-10T12:54:37.926Z"
   },
   {
    "duration": 8,
    "start_time": "2022-05-10T12:54:57.833Z"
   },
   {
    "duration": 9,
    "start_time": "2022-05-10T12:55:08.530Z"
   },
   {
    "duration": 10,
    "start_time": "2022-05-10T12:55:27.477Z"
   },
   {
    "duration": 10,
    "start_time": "2022-05-10T12:55:35.710Z"
   },
   {
    "duration": 10,
    "start_time": "2022-05-10T12:55:40.987Z"
   },
   {
    "duration": 7,
    "start_time": "2022-05-10T12:55:46.074Z"
   },
   {
    "duration": 5,
    "start_time": "2022-05-10T13:08:56.494Z"
   },
   {
    "duration": 6,
    "start_time": "2022-05-10T13:16:55.249Z"
   },
   {
    "duration": 737,
    "start_time": "2022-05-10T13:51:32.791Z"
   },
   {
    "duration": 35,
    "start_time": "2022-05-10T13:52:24.412Z"
   },
   {
    "duration": 197,
    "start_time": "2022-05-10T13:53:15.957Z"
   },
   {
    "duration": 20,
    "start_time": "2022-05-10T13:53:29.334Z"
   },
   {
    "duration": 3,
    "start_time": "2022-05-10T13:53:53.883Z"
   },
   {
    "duration": 2885,
    "start_time": "2022-05-10T13:53:59.672Z"
   },
   {
    "duration": 3121,
    "start_time": "2022-05-10T13:54:33.639Z"
   },
   {
    "duration": 2707,
    "start_time": "2022-05-10T13:54:42.536Z"
   },
   {
    "duration": 4,
    "start_time": "2022-05-10T13:58:29.013Z"
   },
   {
    "duration": 3026,
    "start_time": "2022-05-10T13:58:36.216Z"
   },
   {
    "duration": 2903,
    "start_time": "2022-05-10T14:09:46.235Z"
   },
   {
    "duration": 2842,
    "start_time": "2022-05-10T14:12:10.714Z"
   },
   {
    "duration": 3300,
    "start_time": "2022-05-10T14:12:29.151Z"
   },
   {
    "duration": 2450,
    "start_time": "2022-05-10T14:14:29.103Z"
   },
   {
    "duration": 2618,
    "start_time": "2022-05-10T14:14:51.805Z"
   },
   {
    "duration": 3660,
    "start_time": "2022-05-10T14:15:28.906Z"
   },
   {
    "duration": 3198,
    "start_time": "2022-05-10T14:16:13.555Z"
   },
   {
    "duration": 3290,
    "start_time": "2022-05-10T14:17:34.561Z"
   },
   {
    "duration": 2763,
    "start_time": "2022-05-10T14:17:44.589Z"
   },
   {
    "duration": 2540,
    "start_time": "2022-05-10T14:17:52.808Z"
   },
   {
    "duration": 2792,
    "start_time": "2022-05-10T14:18:00.656Z"
   },
   {
    "duration": 2871,
    "start_time": "2022-05-10T14:18:20.205Z"
   },
   {
    "duration": 3329,
    "start_time": "2022-05-10T14:18:36.652Z"
   },
   {
    "duration": 2881,
    "start_time": "2022-05-10T14:18:46.903Z"
   },
   {
    "duration": 3166,
    "start_time": "2022-05-10T14:19:38.703Z"
   },
   {
    "duration": 2411,
    "start_time": "2022-05-10T14:19:48.559Z"
   },
   {
    "duration": 3354,
    "start_time": "2022-05-10T14:20:17.325Z"
   },
   {
    "duration": 2977,
    "start_time": "2022-05-10T14:20:32.517Z"
   },
   {
    "duration": 2774,
    "start_time": "2022-05-10T14:20:50.312Z"
   },
   {
    "duration": 3216,
    "start_time": "2022-05-10T14:23:15.974Z"
   },
   {
    "duration": 3442,
    "start_time": "2022-05-10T14:23:24.421Z"
   },
   {
    "duration": 2060,
    "start_time": "2022-05-10T14:23:34.745Z"
   },
   {
    "duration": 890,
    "start_time": "2022-05-10T14:23:36.808Z"
   },
   {
    "duration": 4,
    "start_time": "2022-05-10T14:23:37.700Z"
   },
   {
    "duration": 14,
    "start_time": "2022-05-10T14:23:37.707Z"
   },
   {
    "duration": 464,
    "start_time": "2022-05-10T14:23:37.726Z"
   },
   {
    "duration": 198,
    "start_time": "2022-05-10T14:23:38.192Z"
   },
   {
    "duration": 463,
    "start_time": "2022-05-10T14:23:38.391Z"
   },
   {
    "duration": 14,
    "start_time": "2022-05-10T14:23:38.856Z"
   },
   {
    "duration": 5,
    "start_time": "2022-05-10T14:23:38.872Z"
   },
   {
    "duration": 32,
    "start_time": "2022-05-10T14:23:38.879Z"
   },
   {
    "duration": 18,
    "start_time": "2022-05-10T14:23:38.913Z"
   },
   {
    "duration": 2416,
    "start_time": "2022-05-10T14:23:38.933Z"
   },
   {
    "duration": 2534,
    "start_time": "2022-05-10T14:25:49.204Z"
   },
   {
    "duration": 316,
    "start_time": "2022-05-10T14:26:37.842Z"
   },
   {
    "duration": 5,
    "start_time": "2022-05-10T14:26:43.313Z"
   },
   {
    "duration": 2642,
    "start_time": "2022-05-10T14:26:49.574Z"
   },
   {
    "duration": 435,
    "start_time": "2022-05-10T14:28:54.180Z"
   },
   {
    "duration": 2411,
    "start_time": "2022-05-10T14:28:59.643Z"
   },
   {
    "duration": 2776,
    "start_time": "2022-05-10T14:31:10.817Z"
   },
   {
    "duration": 3214,
    "start_time": "2022-05-10T14:31:24.523Z"
   },
   {
    "duration": 3426,
    "start_time": "2022-05-10T14:33:13.855Z"
   },
   {
    "duration": 3610,
    "start_time": "2022-05-10T14:33:21.247Z"
   },
   {
    "duration": 3216,
    "start_time": "2022-05-10T14:33:47.142Z"
   },
   {
    "duration": 3578,
    "start_time": "2022-05-10T14:34:11.711Z"
   },
   {
    "duration": 151,
    "start_time": "2022-05-10T14:40:07.593Z"
   },
   {
    "duration": 138,
    "start_time": "2022-05-10T14:40:33.240Z"
   },
   {
    "duration": 223,
    "start_time": "2022-05-10T14:40:49.014Z"
   },
   {
    "duration": 4583,
    "start_time": "2022-05-10T14:41:12.601Z"
   },
   {
    "duration": 199,
    "start_time": "2022-05-10T14:44:04.384Z"
   },
   {
    "duration": 145,
    "start_time": "2022-05-10T14:44:21.020Z"
   },
   {
    "duration": 4413,
    "start_time": "2022-05-10T14:44:31.763Z"
   },
   {
    "duration": 5629,
    "start_time": "2022-05-10T14:45:06.343Z"
   },
   {
    "duration": 199,
    "start_time": "2022-05-10T14:45:36.278Z"
   },
   {
    "duration": 3759,
    "start_time": "2022-05-10T14:45:44.100Z"
   },
   {
    "duration": 886,
    "start_time": "2022-05-10T15:32:10.861Z"
   },
   {
    "duration": 1058,
    "start_time": "2022-05-10T15:32:17.194Z"
   },
   {
    "duration": 927,
    "start_time": "2022-05-10T15:32:33.087Z"
   },
   {
    "duration": 1037,
    "start_time": "2022-05-10T15:32:38.781Z"
   },
   {
    "duration": 957,
    "start_time": "2022-05-10T15:32:48.075Z"
   },
   {
    "duration": 947,
    "start_time": "2022-05-10T15:32:53.209Z"
   },
   {
    "duration": 538,
    "start_time": "2022-05-10T15:33:15.434Z"
   },
   {
    "duration": 734,
    "start_time": "2022-05-10T15:35:04.621Z"
   },
   {
    "duration": 483,
    "start_time": "2022-05-10T15:35:26.243Z"
   },
   {
    "duration": 621,
    "start_time": "2022-05-10T15:35:37.983Z"
   },
   {
    "duration": 504,
    "start_time": "2022-05-10T15:36:34.982Z"
   },
   {
    "duration": 578,
    "start_time": "2022-05-10T15:37:51.014Z"
   },
   {
    "duration": 555,
    "start_time": "2022-05-10T15:38:12.859Z"
   },
   {
    "duration": 565,
    "start_time": "2022-05-10T15:39:44.798Z"
   },
   {
    "duration": 3282,
    "start_time": "2022-05-10T15:41:23.191Z"
   },
   {
    "duration": 3343,
    "start_time": "2022-05-10T15:41:40.654Z"
   },
   {
    "duration": 3325,
    "start_time": "2022-05-10T15:41:57.443Z"
   },
   {
    "duration": 3499,
    "start_time": "2022-05-10T15:42:08.615Z"
   },
   {
    "duration": 3402,
    "start_time": "2022-05-10T15:42:23.570Z"
   },
   {
    "duration": 508,
    "start_time": "2022-05-10T15:42:36.490Z"
   },
   {
    "duration": 451,
    "start_time": "2022-05-10T15:42:41.202Z"
   },
   {
    "duration": 3176,
    "start_time": "2022-05-10T15:44:49.508Z"
   },
   {
    "duration": 16,
    "start_time": "2022-05-10T15:56:15.838Z"
   },
   {
    "duration": 511,
    "start_time": "2022-05-10T15:56:38.804Z"
   },
   {
    "duration": 580,
    "start_time": "2022-05-10T15:57:36.402Z"
   },
   {
    "duration": 470,
    "start_time": "2022-05-10T15:57:50.379Z"
   },
   {
    "duration": 484,
    "start_time": "2022-05-10T15:58:06.874Z"
   },
   {
    "duration": 583,
    "start_time": "2022-05-10T15:58:18.616Z"
   },
   {
    "duration": 449,
    "start_time": "2022-05-10T15:58:29.158Z"
   },
   {
    "duration": 594,
    "start_time": "2022-05-10T15:59:12.552Z"
   },
   {
    "duration": 410,
    "start_time": "2022-05-10T15:59:41.266Z"
   },
   {
    "duration": 485,
    "start_time": "2022-05-10T16:03:36.065Z"
   },
   {
    "duration": 564,
    "start_time": "2022-05-10T16:04:24.435Z"
   },
   {
    "duration": 589,
    "start_time": "2022-05-10T16:05:07.962Z"
   },
   {
    "duration": 676,
    "start_time": "2022-05-10T16:05:21.201Z"
   },
   {
    "duration": 505,
    "start_time": "2022-05-10T16:05:36.033Z"
   },
   {
    "duration": 5,
    "start_time": "2022-05-10T17:01:09.199Z"
   },
   {
    "duration": 3,
    "start_time": "2022-05-10T17:01:15.194Z"
   },
   {
    "duration": 18,
    "start_time": "2022-05-10T17:46:06.777Z"
   },
   {
    "duration": 8,
    "start_time": "2022-05-10T17:49:55.943Z"
   },
   {
    "duration": 5,
    "start_time": "2022-05-10T18:28:27.168Z"
   },
   {
    "duration": 8,
    "start_time": "2022-05-10T18:29:49.122Z"
   },
   {
    "duration": 8,
    "start_time": "2022-05-10T18:30:04.224Z"
   },
   {
    "duration": 1663,
    "start_time": "2022-05-10T18:30:42.418Z"
   },
   {
    "duration": 683,
    "start_time": "2022-05-10T18:30:44.083Z"
   },
   {
    "duration": 3,
    "start_time": "2022-05-10T18:30:44.768Z"
   },
   {
    "duration": 7,
    "start_time": "2022-05-10T18:30:44.772Z"
   },
   {
    "duration": 461,
    "start_time": "2022-05-10T18:30:44.781Z"
   },
   {
    "duration": 218,
    "start_time": "2022-05-10T18:30:45.243Z"
   },
   {
    "duration": 448,
    "start_time": "2022-05-10T18:30:45.463Z"
   },
   {
    "duration": 22,
    "start_time": "2022-05-10T18:30:45.912Z"
   },
   {
    "duration": 3,
    "start_time": "2022-05-10T18:30:45.937Z"
   },
   {
    "duration": 11,
    "start_time": "2022-05-10T18:30:45.942Z"
   },
   {
    "duration": 6,
    "start_time": "2022-05-10T18:30:45.955Z"
   },
   {
    "duration": 3459,
    "start_time": "2022-05-10T18:30:45.963Z"
   },
   {
    "duration": 440,
    "start_time": "2022-05-10T18:30:49.425Z"
   },
   {
    "duration": 129,
    "start_time": "2022-05-10T18:30:49.868Z"
   },
   {
    "duration": 0,
    "start_time": "2022-05-10T18:30:49.999Z"
   },
   {
    "duration": 0,
    "start_time": "2022-05-10T18:30:50.000Z"
   },
   {
    "duration": 127,
    "start_time": "2022-05-10T18:38:39.506Z"
   },
   {
    "duration": 21,
    "start_time": "2022-05-10T18:38:47.287Z"
   },
   {
    "duration": 5,
    "start_time": "2022-05-10T18:38:50.899Z"
   },
   {
    "duration": 13,
    "start_time": "2022-05-10T18:41:56.533Z"
   },
   {
    "duration": 121,
    "start_time": "2022-05-10T18:42:06.348Z"
   },
   {
    "duration": 13,
    "start_time": "2022-05-10T18:42:07.927Z"
   },
   {
    "duration": 19,
    "start_time": "2022-05-10T18:42:22.811Z"
   },
   {
    "duration": 5421,
    "start_time": "2022-05-10T18:42:58.431Z"
   },
   {
    "duration": 13824,
    "start_time": "2022-05-10T18:43:03.855Z"
   },
   {
    "duration": 3,
    "start_time": "2022-05-10T18:43:17.682Z"
   },
   {
    "duration": 5,
    "start_time": "2022-05-10T18:43:17.687Z"
   },
   {
    "duration": 482,
    "start_time": "2022-05-10T18:43:17.693Z"
   },
   {
    "duration": 260,
    "start_time": "2022-05-10T18:43:18.177Z"
   },
   {
    "duration": 472,
    "start_time": "2022-05-10T18:43:18.439Z"
   },
   {
    "duration": 18,
    "start_time": "2022-05-10T18:43:18.922Z"
   },
   {
    "duration": 27,
    "start_time": "2022-05-10T18:43:18.942Z"
   },
   {
    "duration": 19,
    "start_time": "2022-05-10T18:43:18.973Z"
   },
   {
    "duration": 12,
    "start_time": "2022-05-10T18:43:18.995Z"
   },
   {
    "duration": 3386,
    "start_time": "2022-05-10T18:43:19.009Z"
   },
   {
    "duration": 455,
    "start_time": "2022-05-10T18:43:22.397Z"
   },
   {
    "duration": 129,
    "start_time": "2022-05-10T18:43:22.853Z"
   },
   {
    "duration": 0,
    "start_time": "2022-05-10T18:43:22.984Z"
   },
   {
    "duration": 0,
    "start_time": "2022-05-10T18:43:22.985Z"
   },
   {
    "duration": 0,
    "start_time": "2022-05-10T18:43:22.986Z"
   },
   {
    "duration": 0,
    "start_time": "2022-05-10T18:43:22.987Z"
   },
   {
    "duration": 15,
    "start_time": "2022-05-10T18:43:59.772Z"
   },
   {
    "duration": 598,
    "start_time": "2022-05-10T18:45:19.281Z"
   },
   {
    "duration": 492,
    "start_time": "2022-05-10T18:46:19.593Z"
   },
   {
    "duration": 19,
    "start_time": "2022-05-10T18:49:44.191Z"
   },
   {
    "duration": 549,
    "start_time": "2022-05-10T18:51:50.362Z"
   },
   {
    "duration": 453,
    "start_time": "2022-05-10T18:52:10.204Z"
   },
   {
    "duration": 582,
    "start_time": "2022-05-10T18:52:40.933Z"
   },
   {
    "duration": 313,
    "start_time": "2022-05-10T18:53:51.084Z"
   },
   {
    "duration": 163,
    "start_time": "2022-05-10T18:53:57.450Z"
   },
   {
    "duration": 461,
    "start_time": "2022-05-10T18:54:10.363Z"
   },
   {
    "duration": 464,
    "start_time": "2022-05-10T18:54:40.038Z"
   },
   {
    "duration": 587,
    "start_time": "2022-05-10T18:55:03.861Z"
   },
   {
    "duration": 474,
    "start_time": "2022-05-10T18:56:25.917Z"
   },
   {
    "duration": 489,
    "start_time": "2022-05-10T18:56:32.899Z"
   },
   {
    "duration": 767,
    "start_time": "2022-05-10T18:57:23.411Z"
   },
   {
    "duration": 576,
    "start_time": "2022-05-10T18:58:06.552Z"
   },
   {
    "duration": 468,
    "start_time": "2022-05-10T18:58:19.937Z"
   },
   {
    "duration": 591,
    "start_time": "2022-05-10T18:59:19.996Z"
   },
   {
    "duration": 856,
    "start_time": "2022-05-10T18:59:37.393Z"
   },
   {
    "duration": 855,
    "start_time": "2022-05-10T19:00:11.411Z"
   },
   {
    "duration": 19,
    "start_time": "2022-05-10T19:01:44.900Z"
   },
   {
    "duration": 926,
    "start_time": "2022-05-10T19:02:07.414Z"
   },
   {
    "duration": 850,
    "start_time": "2022-05-10T19:02:24.321Z"
   },
   {
    "duration": 722,
    "start_time": "2022-05-10T19:03:25.627Z"
   },
   {
    "duration": 847,
    "start_time": "2022-05-10T19:03:45.532Z"
   },
   {
    "duration": 1709,
    "start_time": "2022-05-10T19:04:00.056Z"
   },
   {
    "duration": 696,
    "start_time": "2022-05-10T19:04:01.768Z"
   },
   {
    "duration": 3,
    "start_time": "2022-05-10T19:04:02.466Z"
   },
   {
    "duration": 12,
    "start_time": "2022-05-10T19:04:02.470Z"
   },
   {
    "duration": 471,
    "start_time": "2022-05-10T19:04:02.485Z"
   },
   {
    "duration": 212,
    "start_time": "2022-05-10T19:04:02.957Z"
   },
   {
    "duration": 573,
    "start_time": "2022-05-10T19:04:03.171Z"
   },
   {
    "duration": 23,
    "start_time": "2022-05-10T19:04:03.746Z"
   },
   {
    "duration": 24,
    "start_time": "2022-05-10T19:04:03.771Z"
   },
   {
    "duration": 27,
    "start_time": "2022-05-10T19:04:03.797Z"
   },
   {
    "duration": 7,
    "start_time": "2022-05-10T19:04:03.826Z"
   },
   {
    "duration": 3289,
    "start_time": "2022-05-10T19:04:03.836Z"
   },
   {
    "duration": 441,
    "start_time": "2022-05-10T19:04:07.127Z"
   },
   {
    "duration": 1157,
    "start_time": "2022-05-10T19:04:07.572Z"
   },
   {
    "duration": 6,
    "start_time": "2022-05-10T19:04:08.731Z"
   },
   {
    "duration": 9,
    "start_time": "2022-05-10T19:04:08.739Z"
   },
   {
    "duration": 17,
    "start_time": "2022-05-10T19:04:08.750Z"
   },
   {
    "duration": 4,
    "start_time": "2022-05-10T19:04:08.769Z"
   },
   {
    "duration": 461,
    "start_time": "2022-05-10T19:05:23.409Z"
   },
   {
    "duration": 213,
    "start_time": "2022-05-10T19:05:59.445Z"
   },
   {
    "duration": 10,
    "start_time": "2022-05-10T19:06:42.686Z"
   },
   {
    "duration": 3,
    "start_time": "2022-05-10T19:06:43.996Z"
   },
   {
    "duration": 21,
    "start_time": "2022-05-10T19:06:47.399Z"
   },
   {
    "duration": 18,
    "start_time": "2022-05-10T19:17:32.687Z"
   },
   {
    "duration": 1650,
    "start_time": "2022-05-10T19:19:56.546Z"
   },
   {
    "duration": 742,
    "start_time": "2022-05-10T19:19:58.199Z"
   },
   {
    "duration": 3,
    "start_time": "2022-05-10T19:19:58.943Z"
   },
   {
    "duration": 5,
    "start_time": "2022-05-10T19:19:58.947Z"
   },
   {
    "duration": 449,
    "start_time": "2022-05-10T19:19:58.955Z"
   },
   {
    "duration": 197,
    "start_time": "2022-05-10T19:19:59.405Z"
   },
   {
    "duration": 455,
    "start_time": "2022-05-10T19:19:59.604Z"
   },
   {
    "duration": 14,
    "start_time": "2022-05-10T19:20:00.061Z"
   },
   {
    "duration": 24,
    "start_time": "2022-05-10T19:20:00.077Z"
   },
   {
    "duration": 120,
    "start_time": "2022-05-10T19:20:00.103Z"
   },
   {
    "duration": 0,
    "start_time": "2022-05-10T19:20:00.225Z"
   },
   {
    "duration": 0,
    "start_time": "2022-05-10T19:20:00.226Z"
   },
   {
    "duration": 0,
    "start_time": "2022-05-10T19:20:00.227Z"
   },
   {
    "duration": 0,
    "start_time": "2022-05-10T19:20:00.235Z"
   },
   {
    "duration": 0,
    "start_time": "2022-05-10T19:20:00.237Z"
   },
   {
    "duration": 0,
    "start_time": "2022-05-10T19:20:00.238Z"
   },
   {
    "duration": 0,
    "start_time": "2022-05-10T19:20:00.240Z"
   },
   {
    "duration": 0,
    "start_time": "2022-05-10T19:20:00.241Z"
   },
   {
    "duration": 0,
    "start_time": "2022-05-10T19:20:00.242Z"
   },
   {
    "duration": 0,
    "start_time": "2022-05-10T19:20:00.243Z"
   },
   {
    "duration": 0,
    "start_time": "2022-05-10T19:20:00.244Z"
   },
   {
    "duration": 1885,
    "start_time": "2022-05-10T19:20:25.141Z"
   },
   {
    "duration": 742,
    "start_time": "2022-05-10T19:20:27.030Z"
   },
   {
    "duration": 3,
    "start_time": "2022-05-10T19:20:27.774Z"
   },
   {
    "duration": 10,
    "start_time": "2022-05-10T19:20:27.779Z"
   },
   {
    "duration": 473,
    "start_time": "2022-05-10T19:20:27.790Z"
   },
   {
    "duration": 225,
    "start_time": "2022-05-10T19:20:28.265Z"
   },
   {
    "duration": 470,
    "start_time": "2022-05-10T19:20:28.492Z"
   },
   {
    "duration": 13,
    "start_time": "2022-05-10T19:20:28.964Z"
   },
   {
    "duration": 18,
    "start_time": "2022-05-10T19:20:28.979Z"
   },
   {
    "duration": 33,
    "start_time": "2022-05-10T19:20:29.000Z"
   },
   {
    "duration": 2,
    "start_time": "2022-05-10T19:20:29.036Z"
   },
   {
    "duration": 12,
    "start_time": "2022-05-10T19:20:29.040Z"
   },
   {
    "duration": 13,
    "start_time": "2022-05-10T19:20:29.053Z"
   },
   {
    "duration": 3455,
    "start_time": "2022-05-10T19:20:29.068Z"
   },
   {
    "duration": 531,
    "start_time": "2022-05-10T19:20:32.528Z"
   },
   {
    "duration": 865,
    "start_time": "2022-05-10T19:20:33.061Z"
   },
   {
    "duration": 6,
    "start_time": "2022-05-10T19:20:33.929Z"
   },
   {
    "duration": 10,
    "start_time": "2022-05-10T19:20:33.937Z"
   },
   {
    "duration": 16,
    "start_time": "2022-05-10T19:20:33.949Z"
   },
   {
    "duration": 2,
    "start_time": "2022-05-10T19:20:33.968Z"
   },
   {
    "duration": 4645,
    "start_time": "2022-05-10T19:20:33.971Z"
   },
   {
    "duration": 3600,
    "start_time": "2022-05-10T19:23:14.041Z"
   },
   {
    "duration": 4061,
    "start_time": "2022-05-10T19:23:54.978Z"
   },
   {
    "duration": 3,
    "start_time": "2022-05-10T19:25:52.841Z"
   },
   {
    "duration": 2878,
    "start_time": "2022-05-10T19:25:53.767Z"
   },
   {
    "duration": 2,
    "start_time": "2022-05-10T19:26:42.417Z"
   },
   {
    "duration": 3390,
    "start_time": "2022-05-10T19:27:37.040Z"
   },
   {
    "duration": 202836,
    "start_time": "2022-05-10T19:32:59.915Z"
   },
   {
    "duration": 4486644,
    "start_time": "2022-05-10T19:36:22.753Z"
   },
   {
    "duration": 9003,
    "start_time": "2022-05-10T21:01:41.714Z"
   },
   {
    "duration": 1826,
    "start_time": "2022-05-10T21:05:29.035Z"
   },
   {
    "duration": 824,
    "start_time": "2022-05-10T21:05:30.864Z"
   },
   {
    "duration": 4,
    "start_time": "2022-05-10T21:05:31.689Z"
   },
   {
    "duration": 11,
    "start_time": "2022-05-10T21:05:31.695Z"
   },
   {
    "duration": 516,
    "start_time": "2022-05-10T21:05:31.708Z"
   },
   {
    "duration": 259,
    "start_time": "2022-05-10T21:05:32.229Z"
   },
   {
    "duration": 493,
    "start_time": "2022-05-10T21:05:32.490Z"
   },
   {
    "duration": 22,
    "start_time": "2022-05-10T21:05:32.985Z"
   },
   {
    "duration": 23,
    "start_time": "2022-05-10T21:05:33.009Z"
   },
   {
    "duration": 2,
    "start_time": "2022-05-10T21:05:33.041Z"
   },
   {
    "duration": 20,
    "start_time": "2022-05-10T21:05:33.046Z"
   },
   {
    "duration": 7,
    "start_time": "2022-05-10T21:05:33.068Z"
   },
   {
    "duration": 4001,
    "start_time": "2022-05-10T21:05:33.078Z"
   },
   {
    "duration": 518,
    "start_time": "2022-05-10T21:05:37.080Z"
   },
   {
    "duration": 932,
    "start_time": "2022-05-10T21:05:37.600Z"
   },
   {
    "duration": 8,
    "start_time": "2022-05-10T21:05:38.537Z"
   },
   {
    "duration": 19,
    "start_time": "2022-05-10T21:05:38.548Z"
   },
   {
    "duration": 207,
    "start_time": "2022-05-10T21:05:38.570Z"
   },
   {
    "duration": 0,
    "start_time": "2022-05-10T21:05:38.779Z"
   },
   {
    "duration": 0,
    "start_time": "2022-05-10T21:05:38.781Z"
   },
   {
    "duration": 13,
    "start_time": "2022-05-10T21:11:03.363Z"
   },
   {
    "duration": 11,
    "start_time": "2022-05-10T21:11:42.645Z"
   },
   {
    "duration": 11,
    "start_time": "2022-05-10T21:13:22.051Z"
   },
   {
    "duration": 9,
    "start_time": "2022-05-10T21:14:01.560Z"
   },
   {
    "duration": 10,
    "start_time": "2022-05-10T21:14:10.350Z"
   },
   {
    "duration": 1661,
    "start_time": "2022-05-10T21:16:36.874Z"
   },
   {
    "duration": 787,
    "start_time": "2022-05-10T21:16:38.540Z"
   },
   {
    "duration": 5,
    "start_time": "2022-05-10T21:16:39.332Z"
   },
   {
    "duration": 10,
    "start_time": "2022-05-10T21:16:39.339Z"
   },
   {
    "duration": 454,
    "start_time": "2022-05-10T21:16:39.351Z"
   },
   {
    "duration": 207,
    "start_time": "2022-05-10T21:16:39.807Z"
   },
   {
    "duration": 452,
    "start_time": "2022-05-10T21:16:40.027Z"
   },
   {
    "duration": 20,
    "start_time": "2022-05-10T21:16:40.481Z"
   },
   {
    "duration": 28,
    "start_time": "2022-05-10T21:16:40.503Z"
   },
   {
    "duration": 3,
    "start_time": "2022-05-10T21:16:40.536Z"
   },
   {
    "duration": 13,
    "start_time": "2022-05-10T21:16:40.542Z"
   },
   {
    "duration": 6,
    "start_time": "2022-05-10T21:16:40.557Z"
   },
   {
    "duration": 3671,
    "start_time": "2022-05-10T21:16:40.565Z"
   },
   {
    "duration": 441,
    "start_time": "2022-05-10T21:16:44.239Z"
   },
   {
    "duration": 877,
    "start_time": "2022-05-10T21:16:44.683Z"
   },
   {
    "duration": 5,
    "start_time": "2022-05-10T21:16:45.562Z"
   },
   {
    "duration": 39,
    "start_time": "2022-05-10T21:16:45.569Z"
   },
   {
    "duration": 136,
    "start_time": "2022-05-10T21:16:45.610Z"
   },
   {
    "duration": 0,
    "start_time": "2022-05-10T21:16:45.748Z"
   },
   {
    "duration": 0,
    "start_time": "2022-05-10T21:16:45.750Z"
   },
   {
    "duration": 19961,
    "start_time": "2022-05-10T21:17:11.895Z"
   },
   {
    "duration": 5,
    "start_time": "2022-05-10T21:17:33.816Z"
   },
   {
    "duration": 4,
    "start_time": "2022-05-10T21:18:03.547Z"
   },
   {
    "duration": 5,
    "start_time": "2022-05-10T21:18:54.927Z"
   },
   {
    "duration": 5,
    "start_time": "2022-05-10T21:20:03.443Z"
   },
   {
    "duration": 11,
    "start_time": "2022-05-10T21:20:32.367Z"
   },
   {
    "duration": 6,
    "start_time": "2022-05-10T21:20:50.339Z"
   },
   {
    "duration": 22,
    "start_time": "2022-05-10T21:24:24.935Z"
   },
   {
    "duration": 1681,
    "start_time": "2022-05-10T21:24:31.933Z"
   },
   {
    "duration": 810,
    "start_time": "2022-05-10T21:24:33.616Z"
   },
   {
    "duration": 4,
    "start_time": "2022-05-10T21:24:34.430Z"
   },
   {
    "duration": 10,
    "start_time": "2022-05-10T21:24:34.440Z"
   },
   {
    "duration": 483,
    "start_time": "2022-05-10T21:24:34.452Z"
   },
   {
    "duration": 217,
    "start_time": "2022-05-10T21:24:34.937Z"
   },
   {
    "duration": 470,
    "start_time": "2022-05-10T21:24:35.156Z"
   },
   {
    "duration": 24,
    "start_time": "2022-05-10T21:24:35.628Z"
   },
   {
    "duration": 23,
    "start_time": "2022-05-10T21:24:35.653Z"
   },
   {
    "duration": 19,
    "start_time": "2022-05-10T21:24:35.678Z"
   },
   {
    "duration": 34,
    "start_time": "2022-05-10T21:24:35.699Z"
   },
   {
    "duration": 23,
    "start_time": "2022-05-10T21:24:35.735Z"
   },
   {
    "duration": 3588,
    "start_time": "2022-05-10T21:24:35.760Z"
   },
   {
    "duration": 530,
    "start_time": "2022-05-10T21:24:39.350Z"
   },
   {
    "duration": 889,
    "start_time": "2022-05-10T21:24:39.882Z"
   },
   {
    "duration": 4,
    "start_time": "2022-05-10T21:24:40.773Z"
   },
   {
    "duration": 29,
    "start_time": "2022-05-10T21:24:40.779Z"
   },
   {
    "duration": 140,
    "start_time": "2022-05-10T21:24:40.810Z"
   },
   {
    "duration": 0,
    "start_time": "2022-05-10T21:24:40.951Z"
   },
   {
    "duration": 0,
    "start_time": "2022-05-10T21:24:40.953Z"
   },
   {
    "duration": 0,
    "start_time": "2022-05-10T21:24:40.954Z"
   },
   {
    "duration": 0,
    "start_time": "2022-05-10T21:24:40.955Z"
   },
   {
    "duration": 5,
    "start_time": "2022-05-10T21:25:00.159Z"
   },
   {
    "duration": 5,
    "start_time": "2022-05-10T21:25:04.810Z"
   },
   {
    "duration": 8,
    "start_time": "2022-05-10T21:26:16.629Z"
   },
   {
    "duration": 1843,
    "start_time": "2022-05-10T21:27:24.213Z"
   },
   {
    "duration": 795,
    "start_time": "2022-05-10T21:27:26.058Z"
   },
   {
    "duration": 3,
    "start_time": "2022-05-10T21:27:26.855Z"
   },
   {
    "duration": 10,
    "start_time": "2022-05-10T21:27:26.859Z"
   },
   {
    "duration": 497,
    "start_time": "2022-05-10T21:27:26.871Z"
   },
   {
    "duration": 216,
    "start_time": "2022-05-10T21:27:27.370Z"
   },
   {
    "duration": 460,
    "start_time": "2022-05-10T21:27:27.588Z"
   },
   {
    "duration": 21,
    "start_time": "2022-05-10T21:27:28.052Z"
   },
   {
    "duration": 10,
    "start_time": "2022-05-10T21:27:28.075Z"
   },
   {
    "duration": 10,
    "start_time": "2022-05-10T21:27:28.086Z"
   },
   {
    "duration": 22,
    "start_time": "2022-05-10T21:27:28.098Z"
   },
   {
    "duration": 28,
    "start_time": "2022-05-10T21:27:28.126Z"
   },
   {
    "duration": 3497,
    "start_time": "2022-05-10T21:27:28.156Z"
   },
   {
    "duration": 510,
    "start_time": "2022-05-10T21:27:31.657Z"
   },
   {
    "duration": 847,
    "start_time": "2022-05-10T21:27:32.169Z"
   },
   {
    "duration": 11,
    "start_time": "2022-05-10T21:27:33.022Z"
   },
   {
    "duration": 129,
    "start_time": "2022-05-10T21:27:33.035Z"
   },
   {
    "duration": 0,
    "start_time": "2022-05-10T21:27:33.166Z"
   },
   {
    "duration": 0,
    "start_time": "2022-05-10T21:27:33.167Z"
   },
   {
    "duration": 0,
    "start_time": "2022-05-10T21:27:33.168Z"
   },
   {
    "duration": 0,
    "start_time": "2022-05-10T21:27:33.169Z"
   },
   {
    "duration": 12,
    "start_time": "2022-05-10T21:27:49.556Z"
   },
   {
    "duration": 3,
    "start_time": "2022-05-10T21:27:54.901Z"
   },
   {
    "duration": 5794,
    "start_time": "2022-05-10T21:27:55.954Z"
   },
   {
    "duration": 4,
    "start_time": "2022-05-10T21:28:32.761Z"
   },
   {
    "duration": 5,
    "start_time": "2022-05-10T21:28:44.445Z"
   },
   {
    "duration": 5,
    "start_time": "2022-05-10T21:29:06.440Z"
   },
   {
    "duration": 4,
    "start_time": "2022-05-10T21:29:28.051Z"
   },
   {
    "duration": 2809,
    "start_time": "2022-05-10T22:49:19.734Z"
   },
   {
    "duration": 893,
    "start_time": "2022-05-10T22:49:22.545Z"
   },
   {
    "duration": 885,
    "start_time": "2022-05-11T05:46:09.754Z"
   },
   {
    "duration": 27643,
    "start_time": "2022-05-11T05:46:39.217Z"
   },
   {
    "duration": 16,
    "start_time": "2022-05-11T05:47:09.060Z"
   },
   {
    "duration": 2200,
    "start_time": "2022-05-11T09:31:53.312Z"
   },
   {
    "duration": 758,
    "start_time": "2022-05-11T09:31:55.515Z"
   },
   {
    "duration": 4,
    "start_time": "2022-05-11T09:31:56.275Z"
   },
   {
    "duration": 10,
    "start_time": "2022-05-11T09:31:56.282Z"
   },
   {
    "duration": 667,
    "start_time": "2022-05-11T09:31:56.294Z"
   },
   {
    "duration": 310,
    "start_time": "2022-05-11T09:31:56.965Z"
   },
   {
    "duration": 644,
    "start_time": "2022-05-11T09:31:57.277Z"
   },
   {
    "duration": 4,
    "start_time": "2022-05-11T09:31:57.924Z"
   },
   {
    "duration": 32,
    "start_time": "2022-05-11T09:31:57.931Z"
   },
   {
    "duration": 10,
    "start_time": "2022-05-11T09:31:57.968Z"
   },
   {
    "duration": 4489,
    "start_time": "2022-05-11T09:31:57.981Z"
   },
   {
    "duration": 657,
    "start_time": "2022-05-11T09:32:02.472Z"
   },
   {
    "duration": 1208,
    "start_time": "2022-05-11T09:32:03.131Z"
   },
   {
    "duration": 15,
    "start_time": "2022-05-11T09:32:04.342Z"
   },
   {
    "duration": 21,
    "start_time": "2022-05-11T09:32:04.359Z"
   },
   {
    "duration": 5,
    "start_time": "2022-05-11T09:32:04.382Z"
   },
   {
    "duration": 9,
    "start_time": "2022-05-11T09:32:04.389Z"
   },
   {
    "duration": 6,
    "start_time": "2022-05-11T09:32:04.400Z"
   },
   {
    "duration": 219,
    "start_time": "2022-05-11T09:32:04.409Z"
   },
   {
    "duration": 0,
    "start_time": "2022-05-11T09:32:04.630Z"
   },
   {
    "duration": 1857,
    "start_time": "2022-05-11T09:32:55.996Z"
   },
   {
    "duration": 741,
    "start_time": "2022-05-11T09:32:57.856Z"
   },
   {
    "duration": 5,
    "start_time": "2022-05-11T09:32:58.599Z"
   },
   {
    "duration": 8,
    "start_time": "2022-05-11T09:32:58.607Z"
   },
   {
    "duration": 659,
    "start_time": "2022-05-11T09:32:58.617Z"
   },
   {
    "duration": 304,
    "start_time": "2022-05-11T09:32:59.278Z"
   },
   {
    "duration": 649,
    "start_time": "2022-05-11T09:32:59.584Z"
   },
   {
    "duration": 4,
    "start_time": "2022-05-11T09:33:00.235Z"
   },
   {
    "duration": 16,
    "start_time": "2022-05-11T09:33:00.252Z"
   },
   {
    "duration": 9,
    "start_time": "2022-05-11T09:33:00.271Z"
   },
   {
    "duration": 4379,
    "start_time": "2022-05-11T09:33:00.282Z"
   },
   {
    "duration": 659,
    "start_time": "2022-05-11T09:33:04.663Z"
   },
   {
    "duration": 1432,
    "start_time": "2022-05-11T09:33:05.325Z"
   },
   {
    "duration": 7,
    "start_time": "2022-05-11T09:33:06.759Z"
   },
   {
    "duration": 23,
    "start_time": "2022-05-11T09:33:06.768Z"
   },
   {
    "duration": 6,
    "start_time": "2022-05-11T09:33:06.793Z"
   },
   {
    "duration": 8,
    "start_time": "2022-05-11T09:33:06.801Z"
   },
   {
    "duration": 40,
    "start_time": "2022-05-11T09:33:06.811Z"
   },
   {
    "duration": 172,
    "start_time": "2022-05-11T09:33:06.854Z"
   },
   {
    "duration": 0,
    "start_time": "2022-05-11T09:33:07.028Z"
   },
   {
    "duration": 1864,
    "start_time": "2022-05-11T09:33:53.065Z"
   },
   {
    "duration": 740,
    "start_time": "2022-05-11T09:33:54.932Z"
   },
   {
    "duration": 4,
    "start_time": "2022-05-11T09:33:55.675Z"
   },
   {
    "duration": 9,
    "start_time": "2022-05-11T09:33:55.682Z"
   },
   {
    "duration": 683,
    "start_time": "2022-05-11T09:33:55.693Z"
   },
   {
    "duration": 322,
    "start_time": "2022-05-11T09:33:56.379Z"
   },
   {
    "duration": 684,
    "start_time": "2022-05-11T09:33:56.703Z"
   },
   {
    "duration": 4,
    "start_time": "2022-05-11T09:33:57.390Z"
   },
   {
    "duration": 19,
    "start_time": "2022-05-11T09:33:57.397Z"
   },
   {
    "duration": 34,
    "start_time": "2022-05-11T09:33:57.421Z"
   },
   {
    "duration": 4540,
    "start_time": "2022-05-11T09:33:57.458Z"
   },
   {
    "duration": 637,
    "start_time": "2022-05-11T09:34:02.001Z"
   },
   {
    "duration": 1326,
    "start_time": "2022-05-11T09:34:02.640Z"
   },
   {
    "duration": 9,
    "start_time": "2022-05-11T09:34:03.968Z"
   },
   {
    "duration": 36,
    "start_time": "2022-05-11T09:34:03.979Z"
   },
   {
    "duration": 7,
    "start_time": "2022-05-11T09:34:04.017Z"
   },
   {
    "duration": 27,
    "start_time": "2022-05-11T09:34:04.026Z"
   },
   {
    "duration": 8,
    "start_time": "2022-05-11T09:34:04.055Z"
   },
   {
    "duration": 205,
    "start_time": "2022-05-11T09:34:04.065Z"
   },
   {
    "duration": 0,
    "start_time": "2022-05-11T09:34:04.272Z"
   },
   {
    "duration": 1988,
    "start_time": "2022-05-11T09:41:10.229Z"
   },
   {
    "duration": 828,
    "start_time": "2022-05-11T09:41:12.220Z"
   },
   {
    "duration": 6,
    "start_time": "2022-05-11T09:41:13.052Z"
   },
   {
    "duration": 12,
    "start_time": "2022-05-11T09:41:13.061Z"
   },
   {
    "duration": 688,
    "start_time": "2022-05-11T09:41:13.075Z"
   },
   {
    "duration": 319,
    "start_time": "2022-05-11T09:41:13.765Z"
   },
   {
    "duration": 667,
    "start_time": "2022-05-11T09:41:14.086Z"
   },
   {
    "duration": 10,
    "start_time": "2022-05-11T09:41:14.755Z"
   },
   {
    "duration": 4,
    "start_time": "2022-05-11T09:41:14.767Z"
   },
   {
    "duration": 16,
    "start_time": "2022-05-11T09:41:14.774Z"
   },
   {
    "duration": 9,
    "start_time": "2022-05-11T09:41:14.793Z"
   },
   {
    "duration": 4455,
    "start_time": "2022-05-11T09:41:14.805Z"
   },
   {
    "duration": 670,
    "start_time": "2022-05-11T09:41:19.262Z"
   },
   {
    "duration": 1285,
    "start_time": "2022-05-11T09:41:19.934Z"
   },
   {
    "duration": 7,
    "start_time": "2022-05-11T09:41:21.222Z"
   },
   {
    "duration": 32,
    "start_time": "2022-05-11T09:41:21.231Z"
   },
   {
    "duration": 5,
    "start_time": "2022-05-11T09:41:21.265Z"
   },
   {
    "duration": 10,
    "start_time": "2022-05-11T09:41:21.273Z"
   },
   {
    "duration": 5,
    "start_time": "2022-05-11T09:41:21.285Z"
   },
   {
    "duration": 2863,
    "start_time": "2022-05-11T09:41:21.293Z"
   },
   {
    "duration": 107,
    "start_time": "2022-05-11T09:41:24.160Z"
   },
   {
    "duration": 1893,
    "start_time": "2022-05-11T09:41:49.284Z"
   },
   {
    "duration": 782,
    "start_time": "2022-05-11T09:41:51.180Z"
   },
   {
    "duration": 4,
    "start_time": "2022-05-11T09:41:51.964Z"
   },
   {
    "duration": 12,
    "start_time": "2022-05-11T09:41:51.971Z"
   },
   {
    "duration": 675,
    "start_time": "2022-05-11T09:41:51.985Z"
   },
   {
    "duration": 310,
    "start_time": "2022-05-11T09:41:52.662Z"
   },
   {
    "duration": 663,
    "start_time": "2022-05-11T09:41:52.974Z"
   },
   {
    "duration": 15,
    "start_time": "2022-05-11T09:41:53.639Z"
   },
   {
    "duration": 3,
    "start_time": "2022-05-11T09:41:53.656Z"
   },
   {
    "duration": 17,
    "start_time": "2022-05-11T09:41:53.663Z"
   },
   {
    "duration": 10,
    "start_time": "2022-05-11T09:41:53.682Z"
   },
   {
    "duration": 4447,
    "start_time": "2022-05-11T09:41:53.694Z"
   },
   {
    "duration": 589,
    "start_time": "2022-05-11T09:41:58.143Z"
   },
   {
    "duration": 1288,
    "start_time": "2022-05-11T09:41:58.734Z"
   },
   {
    "duration": 8,
    "start_time": "2022-05-11T09:42:00.024Z"
   },
   {
    "duration": 32,
    "start_time": "2022-05-11T09:42:00.034Z"
   },
   {
    "duration": 5,
    "start_time": "2022-05-11T09:42:00.069Z"
   },
   {
    "duration": 11,
    "start_time": "2022-05-11T09:42:00.076Z"
   },
   {
    "duration": 7,
    "start_time": "2022-05-11T09:42:00.089Z"
   },
   {
    "duration": 2780,
    "start_time": "2022-05-11T09:42:00.098Z"
   },
   {
    "duration": 22,
    "start_time": "2022-05-11T09:42:02.880Z"
   },
   {
    "duration": 2334,
    "start_time": "2022-05-11T09:45:36.620Z"
   },
   {
    "duration": 316,
    "start_time": "2022-05-11T09:45:50.988Z"
   },
   {
    "duration": 7,
    "start_time": "2022-05-11T09:50:35.116Z"
   },
   {
    "duration": 2595,
    "start_time": "2022-05-11T09:51:11.160Z"
   },
   {
    "duration": 2399,
    "start_time": "2022-05-11T09:52:19.756Z"
   },
   {
    "duration": 2553,
    "start_time": "2022-05-11T09:52:29.705Z"
   },
   {
    "duration": 1678,
    "start_time": "2022-05-11T17:11:37.457Z"
   },
   {
    "duration": 110,
    "start_time": "2022-05-11T17:12:55.100Z"
   },
   {
    "duration": 2199,
    "start_time": "2022-05-11T17:13:19.567Z"
   },
   {
    "duration": 712,
    "start_time": "2022-05-11T17:13:21.768Z"
   },
   {
    "duration": 6,
    "start_time": "2022-05-11T17:13:22.483Z"
   },
   {
    "duration": 6,
    "start_time": "2022-05-11T17:13:24.224Z"
   },
   {
    "duration": 471,
    "start_time": "2022-05-11T17:13:24.905Z"
   },
   {
    "duration": 227,
    "start_time": "2022-05-11T17:13:30.402Z"
   },
   {
    "duration": 468,
    "start_time": "2022-05-11T17:13:33.974Z"
   },
   {
    "duration": 11,
    "start_time": "2022-05-11T17:13:40.273Z"
   },
   {
    "duration": 5860,
    "start_time": "2022-05-11T17:13:41.281Z"
   },
   {
    "duration": 7,
    "start_time": "2022-05-11T17:14:10.145Z"
   },
   {
    "duration": 14,
    "start_time": "2022-05-11T17:14:26.888Z"
   },
   {
    "duration": 11,
    "start_time": "2022-05-11T17:19:32.830Z"
   },
   {
    "duration": 10,
    "start_time": "2022-05-11T17:20:00.902Z"
   },
   {
    "duration": 3,
    "start_time": "2022-05-11T17:20:19.983Z"
   },
   {
    "duration": 18,
    "start_time": "2022-05-11T17:20:20.696Z"
   },
   {
    "duration": 7,
    "start_time": "2022-05-11T17:20:25.239Z"
   },
   {
    "duration": 114,
    "start_time": "2022-05-11T17:20:46.320Z"
   },
   {
    "duration": 10,
    "start_time": "2022-05-11T17:20:52.477Z"
   },
   {
    "duration": 7,
    "start_time": "2022-05-11T17:21:01.509Z"
   },
   {
    "duration": 35,
    "start_time": "2022-05-11T17:21:32.857Z"
   },
   {
    "duration": 3,
    "start_time": "2022-05-11T17:21:38.051Z"
   },
   {
    "duration": 8,
    "start_time": "2022-05-11T17:21:38.410Z"
   },
   {
    "duration": 6,
    "start_time": "2022-05-11T17:21:39.126Z"
   },
   {
    "duration": 3871,
    "start_time": "2022-05-11T17:21:59.724Z"
   },
   {
    "duration": 506,
    "start_time": "2022-05-11T17:22:06.230Z"
   },
   {
    "duration": 858,
    "start_time": "2022-05-11T17:22:14.078Z"
   },
   {
    "duration": 5,
    "start_time": "2022-05-11T17:22:28.030Z"
   },
   {
    "duration": 3,
    "start_time": "2022-05-11T17:24:55.506Z"
   },
   {
    "duration": 3,
    "start_time": "2022-05-11T17:25:04.699Z"
   },
   {
    "duration": 4,
    "start_time": "2022-05-11T17:25:27.908Z"
   },
   {
    "duration": 2,
    "start_time": "2022-05-11T17:25:28.415Z"
   },
   {
    "duration": 8,
    "start_time": "2022-05-11T17:26:37.111Z"
   },
   {
    "duration": 3760,
    "start_time": "2022-05-11T17:34:01.142Z"
   },
   {
    "duration": 7,
    "start_time": "2022-05-11T17:34:26.567Z"
   },
   {
    "duration": 3744,
    "start_time": "2022-05-11T17:34:31.505Z"
   },
   {
    "duration": 1527,
    "start_time": "2022-05-11T17:35:32.787Z"
   },
   {
    "duration": 700,
    "start_time": "2022-05-11T17:35:34.317Z"
   },
   {
    "duration": 3,
    "start_time": "2022-05-11T17:35:35.019Z"
   },
   {
    "duration": 10,
    "start_time": "2022-05-11T17:35:35.024Z"
   },
   {
    "duration": 505,
    "start_time": "2022-05-11T17:35:35.035Z"
   },
   {
    "duration": 228,
    "start_time": "2022-05-11T17:35:35.542Z"
   },
   {
    "duration": 479,
    "start_time": "2022-05-11T17:35:35.771Z"
   },
   {
    "duration": 22,
    "start_time": "2022-05-11T17:35:36.252Z"
   },
   {
    "duration": 15,
    "start_time": "2022-05-11T17:35:36.276Z"
   },
   {
    "duration": 22,
    "start_time": "2022-05-11T17:35:36.294Z"
   },
   {
    "duration": 6,
    "start_time": "2022-05-11T17:35:36.318Z"
   },
   {
    "duration": 3253,
    "start_time": "2022-05-11T17:35:36.325Z"
   },
   {
    "duration": 455,
    "start_time": "2022-05-11T17:35:39.581Z"
   },
   {
    "duration": 881,
    "start_time": "2022-05-11T17:35:40.038Z"
   },
   {
    "duration": 119,
    "start_time": "2022-05-11T17:35:40.921Z"
   },
   {
    "duration": 0,
    "start_time": "2022-05-11T17:35:41.041Z"
   },
   {
    "duration": 0,
    "start_time": "2022-05-11T17:35:41.043Z"
   },
   {
    "duration": 0,
    "start_time": "2022-05-11T17:35:41.044Z"
   },
   {
    "duration": 0,
    "start_time": "2022-05-11T17:35:41.045Z"
   },
   {
    "duration": 4,
    "start_time": "2022-05-11T17:36:04.583Z"
   },
   {
    "duration": 3,
    "start_time": "2022-05-11T17:36:05.272Z"
   },
   {
    "duration": 5510,
    "start_time": "2022-05-11T17:36:05.900Z"
   },
   {
    "duration": 1709,
    "start_time": "2022-05-11T17:41:14.656Z"
   },
   {
    "duration": 874,
    "start_time": "2022-05-11T17:41:16.369Z"
   },
   {
    "duration": 3,
    "start_time": "2022-05-11T17:41:17.245Z"
   },
   {
    "duration": 6,
    "start_time": "2022-05-11T17:41:17.250Z"
   },
   {
    "duration": 578,
    "start_time": "2022-05-11T17:41:17.257Z"
   },
   {
    "duration": 232,
    "start_time": "2022-05-11T17:41:17.837Z"
   },
   {
    "duration": 628,
    "start_time": "2022-05-11T17:41:18.071Z"
   },
   {
    "duration": 33,
    "start_time": "2022-05-11T17:41:18.701Z"
   },
   {
    "duration": 3,
    "start_time": "2022-05-11T17:41:18.737Z"
   },
   {
    "duration": 17,
    "start_time": "2022-05-11T17:41:18.743Z"
   },
   {
    "duration": 9,
    "start_time": "2022-05-11T17:41:18.762Z"
   },
   {
    "duration": 3732,
    "start_time": "2022-05-11T17:41:18.773Z"
   },
   {
    "duration": 476,
    "start_time": "2022-05-11T17:41:22.508Z"
   },
   {
    "duration": 1061,
    "start_time": "2022-05-11T17:41:22.986Z"
   },
   {
    "duration": 3,
    "start_time": "2022-05-11T17:41:24.049Z"
   },
   {
    "duration": 6,
    "start_time": "2022-05-11T17:41:24.053Z"
   },
   {
    "duration": 1860,
    "start_time": "2022-05-11T17:41:54.579Z"
   },
   {
    "duration": 859,
    "start_time": "2022-05-11T17:41:56.441Z"
   },
   {
    "duration": 4,
    "start_time": "2022-05-11T17:41:57.302Z"
   },
   {
    "duration": 36,
    "start_time": "2022-05-11T17:41:57.309Z"
   },
   {
    "duration": 570,
    "start_time": "2022-05-11T17:41:57.347Z"
   },
   {
    "duration": 241,
    "start_time": "2022-05-11T17:41:57.919Z"
   },
   {
    "duration": 515,
    "start_time": "2022-05-11T17:41:58.162Z"
   },
   {
    "duration": 28,
    "start_time": "2022-05-11T17:41:58.687Z"
   },
   {
    "duration": 26,
    "start_time": "2022-05-11T17:41:58.718Z"
   },
   {
    "duration": 11,
    "start_time": "2022-05-11T17:41:58.747Z"
   },
   {
    "duration": 12,
    "start_time": "2022-05-11T17:41:58.760Z"
   },
   {
    "duration": 3584,
    "start_time": "2022-05-11T17:41:58.774Z"
   },
   {
    "duration": 521,
    "start_time": "2022-05-11T17:42:02.360Z"
   },
   {
    "duration": 1066,
    "start_time": "2022-05-11T17:42:02.883Z"
   },
   {
    "duration": 3,
    "start_time": "2022-05-11T17:42:03.951Z"
   },
   {
    "duration": 8,
    "start_time": "2022-05-11T17:42:03.955Z"
   },
   {
    "duration": 54,
    "start_time": "2022-05-11T17:43:09.031Z"
   },
   {
    "duration": 12,
    "start_time": "2022-05-11T17:43:26.196Z"
   },
   {
    "duration": 156,
    "start_time": "2022-05-11T17:58:49.677Z"
   },
   {
    "duration": 25,
    "start_time": "2022-05-11T17:59:23.373Z"
   },
   {
    "duration": 6,
    "start_time": "2022-05-11T18:00:31.173Z"
   },
   {
    "duration": 8,
    "start_time": "2022-05-11T18:01:28.862Z"
   },
   {
    "duration": 7,
    "start_time": "2022-05-11T18:01:56.459Z"
   },
   {
    "duration": 20,
    "start_time": "2022-05-11T18:13:39.098Z"
   },
   {
    "duration": 7,
    "start_time": "2022-05-11T18:14:07.652Z"
   },
   {
    "duration": 7,
    "start_time": "2022-05-11T18:22:14.091Z"
   },
   {
    "duration": 10,
    "start_time": "2022-05-11T18:22:57.329Z"
   },
   {
    "duration": 5,
    "start_time": "2022-05-11T18:24:03.161Z"
   },
   {
    "duration": 5,
    "start_time": "2022-05-11T18:24:16.209Z"
   },
   {
    "duration": 5,
    "start_time": "2022-05-11T18:24:28.172Z"
   },
   {
    "duration": 94,
    "start_time": "2022-05-11T18:24:52.532Z"
   },
   {
    "duration": 5,
    "start_time": "2022-05-11T18:25:19.259Z"
   },
   {
    "duration": 5,
    "start_time": "2022-05-11T18:25:21.659Z"
   },
   {
    "duration": 5,
    "start_time": "2022-05-11T18:25:24.418Z"
   },
   {
    "duration": 5,
    "start_time": "2022-05-11T18:25:50.676Z"
   },
   {
    "duration": 5,
    "start_time": "2022-05-11T18:25:53.129Z"
   },
   {
    "duration": 6,
    "start_time": "2022-05-11T18:28:17.795Z"
   },
   {
    "duration": 4,
    "start_time": "2022-05-11T18:28:20.761Z"
   },
   {
    "duration": 4,
    "start_time": "2022-05-11T18:28:21.828Z"
   },
   {
    "duration": 5,
    "start_time": "2022-05-11T18:29:02.638Z"
   },
   {
    "duration": 3,
    "start_time": "2022-05-11T18:31:54.135Z"
   },
   {
    "duration": 1466,
    "start_time": "2022-05-11T18:33:24.018Z"
   },
   {
    "duration": 670,
    "start_time": "2022-05-11T18:33:25.487Z"
   },
   {
    "duration": 4,
    "start_time": "2022-05-11T18:33:26.159Z"
   },
   {
    "duration": 7,
    "start_time": "2022-05-11T18:33:26.165Z"
   },
   {
    "duration": 508,
    "start_time": "2022-05-11T18:33:26.176Z"
   },
   {
    "duration": 218,
    "start_time": "2022-05-11T18:33:26.687Z"
   },
   {
    "duration": 465,
    "start_time": "2022-05-11T18:33:26.907Z"
   },
   {
    "duration": 31,
    "start_time": "2022-05-11T18:33:27.374Z"
   },
   {
    "duration": 3,
    "start_time": "2022-05-11T18:33:27.407Z"
   },
   {
    "duration": 14,
    "start_time": "2022-05-11T18:33:27.412Z"
   },
   {
    "duration": 8,
    "start_time": "2022-05-11T18:33:27.427Z"
   },
   {
    "duration": 3235,
    "start_time": "2022-05-11T18:33:27.437Z"
   },
   {
    "duration": 447,
    "start_time": "2022-05-11T18:33:30.674Z"
   },
   {
    "duration": 838,
    "start_time": "2022-05-11T18:33:31.124Z"
   },
   {
    "duration": 3,
    "start_time": "2022-05-11T18:33:31.964Z"
   },
   {
    "duration": 20,
    "start_time": "2022-05-11T18:33:31.969Z"
   },
   {
    "duration": 30,
    "start_time": "2022-05-11T18:33:31.992Z"
   },
   {
    "duration": 7,
    "start_time": "2022-05-11T18:33:32.025Z"
   },
   {
    "duration": 13,
    "start_time": "2022-05-11T18:33:32.034Z"
   },
   {
    "duration": 17,
    "start_time": "2022-05-11T18:33:32.049Z"
   },
   {
    "duration": 14,
    "start_time": "2022-05-11T18:33:32.068Z"
   },
   {
    "duration": 13,
    "start_time": "2022-05-11T18:33:32.084Z"
   },
   {
    "duration": 3,
    "start_time": "2022-05-11T18:50:08.509Z"
   },
   {
    "duration": 147,
    "start_time": "2022-05-11T18:50:11.185Z"
   },
   {
    "duration": 5,
    "start_time": "2022-05-11T18:50:33.769Z"
   },
   {
    "duration": 690,
    "start_time": "2022-05-11T18:50:41.219Z"
   },
   {
    "duration": 4,
    "start_time": "2022-05-11T18:50:48.428Z"
   },
   {
    "duration": 11,
    "start_time": "2022-05-11T18:51:43.179Z"
   },
   {
    "duration": 1081,
    "start_time": "2022-05-11T18:52:15.511Z"
   },
   {
    "duration": 1253,
    "start_time": "2022-05-11T18:53:02.046Z"
   },
   {
    "duration": 23,
    "start_time": "2022-05-11T19:09:55.824Z"
   },
   {
    "duration": 13,
    "start_time": "2022-05-11T19:10:29.954Z"
   },
   {
    "duration": 23,
    "start_time": "2022-05-11T19:10:36.934Z"
   },
   {
    "duration": 1472,
    "start_time": "2022-05-11T19:20:33.937Z"
   },
   {
    "duration": 671,
    "start_time": "2022-05-11T19:20:35.412Z"
   },
   {
    "duration": 5,
    "start_time": "2022-05-11T19:20:36.085Z"
   },
   {
    "duration": 5,
    "start_time": "2022-05-11T19:20:36.092Z"
   },
   {
    "duration": 474,
    "start_time": "2022-05-11T19:20:36.099Z"
   },
   {
    "duration": 225,
    "start_time": "2022-05-11T19:20:36.576Z"
   },
   {
    "duration": 444,
    "start_time": "2022-05-11T19:20:36.803Z"
   },
   {
    "duration": 22,
    "start_time": "2022-05-11T19:20:37.248Z"
   },
   {
    "duration": 16,
    "start_time": "2022-05-11T19:20:37.272Z"
   },
   {
    "duration": 13,
    "start_time": "2022-05-11T19:20:37.291Z"
   },
   {
    "duration": 7,
    "start_time": "2022-05-11T19:20:37.306Z"
   },
   {
    "duration": 3373,
    "start_time": "2022-05-11T19:20:37.315Z"
   },
   {
    "duration": 453,
    "start_time": "2022-05-11T19:20:40.690Z"
   },
   {
    "duration": 882,
    "start_time": "2022-05-11T19:20:41.144Z"
   },
   {
    "duration": 4,
    "start_time": "2022-05-11T19:20:42.028Z"
   },
   {
    "duration": 9,
    "start_time": "2022-05-11T19:20:42.033Z"
   },
   {
    "duration": 24,
    "start_time": "2022-05-11T19:20:42.044Z"
   },
   {
    "duration": 4,
    "start_time": "2022-05-11T19:20:42.071Z"
   },
   {
    "duration": 5,
    "start_time": "2022-05-11T19:20:42.089Z"
   },
   {
    "duration": 1095,
    "start_time": "2022-05-11T19:20:42.096Z"
   },
   {
    "duration": 1526,
    "start_time": "2022-05-11T19:21:14.988Z"
   },
   {
    "duration": 730,
    "start_time": "2022-05-11T19:21:16.516Z"
   },
   {
    "duration": 4,
    "start_time": "2022-05-11T19:21:17.248Z"
   },
   {
    "duration": 9,
    "start_time": "2022-05-11T19:21:17.254Z"
   },
   {
    "duration": 464,
    "start_time": "2022-05-11T19:21:17.265Z"
   },
   {
    "duration": 229,
    "start_time": "2022-05-11T19:21:17.730Z"
   },
   {
    "duration": 465,
    "start_time": "2022-05-11T19:21:17.961Z"
   },
   {
    "duration": 22,
    "start_time": "2022-05-11T19:21:18.428Z"
   },
   {
    "duration": 2,
    "start_time": "2022-05-11T19:21:18.452Z"
   },
   {
    "duration": 16,
    "start_time": "2022-05-11T19:21:18.457Z"
   },
   {
    "duration": 7,
    "start_time": "2022-05-11T19:21:18.489Z"
   },
   {
    "duration": 3375,
    "start_time": "2022-05-11T19:21:18.498Z"
   },
   {
    "duration": 456,
    "start_time": "2022-05-11T19:21:21.875Z"
   },
   {
    "duration": 845,
    "start_time": "2022-05-11T19:21:22.333Z"
   },
   {
    "duration": 3,
    "start_time": "2022-05-11T19:21:23.187Z"
   },
   {
    "duration": 9,
    "start_time": "2022-05-11T19:21:23.193Z"
   },
   {
    "duration": 31,
    "start_time": "2022-05-11T19:21:23.204Z"
   },
   {
    "duration": 4,
    "start_time": "2022-05-11T19:21:23.237Z"
   },
   {
    "duration": 8,
    "start_time": "2022-05-11T19:21:23.243Z"
   },
   {
    "duration": 1043,
    "start_time": "2022-05-11T19:21:23.253Z"
   },
   {
    "duration": 1498,
    "start_time": "2022-05-11T19:22:26.405Z"
   },
   {
    "duration": 679,
    "start_time": "2022-05-11T19:22:27.905Z"
   },
   {
    "duration": 3,
    "start_time": "2022-05-11T19:22:28.586Z"
   },
   {
    "duration": 11,
    "start_time": "2022-05-11T19:22:28.591Z"
   },
   {
    "duration": 450,
    "start_time": "2022-05-11T19:22:28.603Z"
   },
   {
    "duration": 215,
    "start_time": "2022-05-11T19:22:29.055Z"
   },
   {
    "duration": 463,
    "start_time": "2022-05-11T19:22:29.271Z"
   },
   {
    "duration": 27,
    "start_time": "2022-05-11T19:22:29.736Z"
   },
   {
    "duration": 3,
    "start_time": "2022-05-11T19:22:29.766Z"
   },
   {
    "duration": 11,
    "start_time": "2022-05-11T19:22:29.789Z"
   },
   {
    "duration": 7,
    "start_time": "2022-05-11T19:22:29.802Z"
   },
   {
    "duration": 3258,
    "start_time": "2022-05-11T19:22:29.810Z"
   },
   {
    "duration": 451,
    "start_time": "2022-05-11T19:22:33.070Z"
   },
   {
    "duration": 854,
    "start_time": "2022-05-11T19:22:33.523Z"
   },
   {
    "duration": 10,
    "start_time": "2022-05-11T19:22:34.378Z"
   },
   {
    "duration": 3,
    "start_time": "2022-05-11T19:22:34.390Z"
   },
   {
    "duration": 22,
    "start_time": "2022-05-11T19:22:34.395Z"
   },
   {
    "duration": 3,
    "start_time": "2022-05-11T19:22:34.419Z"
   },
   {
    "duration": 11,
    "start_time": "2022-05-11T19:22:34.424Z"
   },
   {
    "duration": 854,
    "start_time": "2022-05-11T19:22:34.436Z"
   },
   {
    "duration": 1512,
    "start_time": "2022-05-11T19:26:39.180Z"
   },
   {
    "duration": 685,
    "start_time": "2022-05-11T19:26:40.694Z"
   },
   {
    "duration": 3,
    "start_time": "2022-05-11T19:26:41.380Z"
   },
   {
    "duration": 7,
    "start_time": "2022-05-11T19:26:41.389Z"
   },
   {
    "duration": 470,
    "start_time": "2022-05-11T19:26:41.398Z"
   },
   {
    "duration": 218,
    "start_time": "2022-05-11T19:26:41.870Z"
   },
   {
    "duration": 460,
    "start_time": "2022-05-11T19:26:42.090Z"
   },
   {
    "duration": 23,
    "start_time": "2022-05-11T19:26:42.552Z"
   },
   {
    "duration": 3,
    "start_time": "2022-05-11T19:26:42.588Z"
   },
   {
    "duration": 18,
    "start_time": "2022-05-11T19:26:42.593Z"
   },
   {
    "duration": 7,
    "start_time": "2022-05-11T19:26:42.612Z"
   },
   {
    "duration": 4076,
    "start_time": "2022-05-11T19:26:42.621Z"
   },
   {
    "duration": 538,
    "start_time": "2022-05-11T19:26:46.699Z"
   },
   {
    "duration": 876,
    "start_time": "2022-05-11T19:26:47.239Z"
   },
   {
    "duration": 4,
    "start_time": "2022-05-11T19:26:48.116Z"
   },
   {
    "duration": 6,
    "start_time": "2022-05-11T19:26:48.122Z"
   },
   {
    "duration": 24,
    "start_time": "2022-05-11T19:26:48.130Z"
   },
   {
    "duration": 4,
    "start_time": "2022-05-11T19:26:48.156Z"
   },
   {
    "duration": 27,
    "start_time": "2022-05-11T19:26:48.161Z"
   },
   {
    "duration": 605,
    "start_time": "2022-05-11T19:26:48.190Z"
   },
   {
    "duration": 477,
    "start_time": "2022-05-11T19:26:48.797Z"
   },
   {
    "duration": 158,
    "start_time": "2022-05-11T19:30:57.489Z"
   },
   {
    "duration": 153,
    "start_time": "2022-05-11T19:31:21.339Z"
   },
   {
    "duration": 1506,
    "start_time": "2022-05-11T19:35:06.571Z"
   },
   {
    "duration": 683,
    "start_time": "2022-05-11T19:35:08.079Z"
   },
   {
    "duration": 3,
    "start_time": "2022-05-11T19:35:08.764Z"
   },
   {
    "duration": 6,
    "start_time": "2022-05-11T19:35:08.769Z"
   },
   {
    "duration": 462,
    "start_time": "2022-05-11T19:35:08.777Z"
   },
   {
    "duration": 215,
    "start_time": "2022-05-11T19:35:09.241Z"
   },
   {
    "duration": 441,
    "start_time": "2022-05-11T19:35:09.459Z"
   },
   {
    "duration": 21,
    "start_time": "2022-05-11T19:35:09.902Z"
   },
   {
    "duration": 2,
    "start_time": "2022-05-11T19:35:09.925Z"
   },
   {
    "duration": 15,
    "start_time": "2022-05-11T19:35:09.930Z"
   },
   {
    "duration": 7,
    "start_time": "2022-05-11T19:35:09.946Z"
   },
   {
    "duration": 3415,
    "start_time": "2022-05-11T19:35:09.954Z"
   },
   {
    "duration": 441,
    "start_time": "2022-05-11T19:35:13.372Z"
   },
   {
    "duration": 840,
    "start_time": "2022-05-11T19:35:13.816Z"
   },
   {
    "duration": 4,
    "start_time": "2022-05-11T19:35:14.659Z"
   },
   {
    "duration": 6,
    "start_time": "2022-05-11T19:35:14.665Z"
   },
   {
    "duration": 17,
    "start_time": "2022-05-11T19:35:14.687Z"
   },
   {
    "duration": 4,
    "start_time": "2022-05-11T19:35:14.706Z"
   },
   {
    "duration": 4,
    "start_time": "2022-05-11T19:35:14.712Z"
   },
   {
    "duration": 972,
    "start_time": "2022-05-11T19:35:14.718Z"
   },
   {
    "duration": 297,
    "start_time": "2022-05-11T19:35:15.691Z"
   },
   {
    "duration": 137,
    "start_time": "2022-05-11T19:36:59.558Z"
   },
   {
    "duration": 138,
    "start_time": "2022-05-11T19:37:13.545Z"
   },
   {
    "duration": 142,
    "start_time": "2022-05-11T19:38:24.887Z"
   },
   {
    "duration": 6179,
    "start_time": "2022-05-11T19:38:55.196Z"
   },
   {
    "duration": 5,
    "start_time": "2022-05-11T19:39:37.609Z"
   },
   {
    "duration": 4,
    "start_time": "2022-05-11T19:39:46.897Z"
   },
   {
    "duration": 6823,
    "start_time": "2022-05-11T20:01:10.889Z"
   },
   {
    "duration": 6801,
    "start_time": "2022-05-11T20:01:47.692Z"
   },
   {
    "duration": 6472,
    "start_time": "2022-05-11T20:02:29.030Z"
   },
   {
    "duration": 7184,
    "start_time": "2022-05-11T20:02:51.572Z"
   },
   {
    "duration": 7003,
    "start_time": "2022-05-11T20:03:19.776Z"
   },
   {
    "duration": 648,
    "start_time": "2022-05-11T20:04:03.787Z"
   },
   {
    "duration": 6,
    "start_time": "2022-05-11T20:04:18.877Z"
   },
   {
    "duration": 105,
    "start_time": "2022-05-11T20:07:27.252Z"
   },
   {
    "duration": 104,
    "start_time": "2022-05-11T20:07:47.383Z"
   },
   {
    "duration": 1522,
    "start_time": "2022-05-11T20:11:55.505Z"
   },
   {
    "duration": 748,
    "start_time": "2022-05-11T20:11:57.029Z"
   },
   {
    "duration": 3,
    "start_time": "2022-05-11T20:11:57.778Z"
   },
   {
    "duration": 22,
    "start_time": "2022-05-11T20:11:57.783Z"
   },
   {
    "duration": 442,
    "start_time": "2022-05-11T20:11:57.808Z"
   },
   {
    "duration": 208,
    "start_time": "2022-05-11T20:11:58.252Z"
   },
   {
    "duration": 481,
    "start_time": "2022-05-11T20:11:58.462Z"
   },
   {
    "duration": 22,
    "start_time": "2022-05-11T20:11:58.946Z"
   },
   {
    "duration": 3,
    "start_time": "2022-05-11T20:11:58.969Z"
   },
   {
    "duration": 31,
    "start_time": "2022-05-11T20:11:58.974Z"
   },
   {
    "duration": 9,
    "start_time": "2022-05-11T20:11:59.007Z"
   },
   {
    "duration": 3688,
    "start_time": "2022-05-11T20:11:59.018Z"
   },
   {
    "duration": 441,
    "start_time": "2022-05-11T20:12:02.708Z"
   },
   {
    "duration": 903,
    "start_time": "2022-05-11T20:12:03.152Z"
   },
   {
    "duration": 3,
    "start_time": "2022-05-11T20:12:04.057Z"
   },
   {
    "duration": 10,
    "start_time": "2022-05-11T20:12:04.062Z"
   },
   {
    "duration": 51,
    "start_time": "2022-05-11T20:12:04.074Z"
   },
   {
    "duration": 4,
    "start_time": "2022-05-11T20:12:04.126Z"
   },
   {
    "duration": 5,
    "start_time": "2022-05-11T20:12:04.131Z"
   },
   {
    "duration": 775,
    "start_time": "2022-05-11T20:12:04.138Z"
   },
   {
    "duration": 735,
    "start_time": "2022-05-11T20:12:04.915Z"
   },
   {
    "duration": 4,
    "start_time": "2022-05-11T20:12:05.653Z"
   },
   {
    "duration": 7,
    "start_time": "2022-05-11T20:12:56.050Z"
   },
   {
    "duration": 3,
    "start_time": "2022-05-11T20:12:59.979Z"
   },
   {
    "duration": 3,
    "start_time": "2022-05-11T20:13:03.745Z"
   },
   {
    "duration": 898,
    "start_time": "2022-05-11T20:13:04.296Z"
   },
   {
    "duration": 777676,
    "start_time": "2022-05-11T20:13:13.048Z"
   },
   {
    "duration": 228,
    "start_time": "2022-05-11T20:32:40.417Z"
   },
   {
    "duration": 1652,
    "start_time": "2022-05-11T20:35:33.908Z"
   },
   {
    "duration": 701,
    "start_time": "2022-05-11T20:35:35.563Z"
   },
   {
    "duration": 4,
    "start_time": "2022-05-11T20:35:36.265Z"
   },
   {
    "duration": 14,
    "start_time": "2022-05-11T20:35:36.270Z"
   },
   {
    "duration": 507,
    "start_time": "2022-05-11T20:35:36.288Z"
   },
   {
    "duration": 232,
    "start_time": "2022-05-11T20:35:36.799Z"
   },
   {
    "duration": 502,
    "start_time": "2022-05-11T20:35:37.032Z"
   },
   {
    "duration": 22,
    "start_time": "2022-05-11T20:35:37.536Z"
   },
   {
    "duration": 2,
    "start_time": "2022-05-11T20:35:37.560Z"
   },
   {
    "duration": 13,
    "start_time": "2022-05-11T20:35:37.589Z"
   },
   {
    "duration": 14,
    "start_time": "2022-05-11T20:35:37.606Z"
   },
   {
    "duration": 3769,
    "start_time": "2022-05-11T20:35:37.622Z"
   },
   {
    "duration": 556,
    "start_time": "2022-05-11T20:35:41.393Z"
   },
   {
    "duration": 957,
    "start_time": "2022-05-11T20:35:41.952Z"
   },
   {
    "duration": 4,
    "start_time": "2022-05-11T20:35:42.911Z"
   },
   {
    "duration": 9,
    "start_time": "2022-05-11T20:35:42.916Z"
   },
   {
    "duration": 26,
    "start_time": "2022-05-11T20:35:42.927Z"
   },
   {
    "duration": 4,
    "start_time": "2022-05-11T20:35:42.955Z"
   },
   {
    "duration": 6,
    "start_time": "2022-05-11T20:35:42.961Z"
   },
   {
    "duration": 823,
    "start_time": "2022-05-11T20:35:42.968Z"
   },
   {
    "duration": 1537,
    "start_time": "2022-05-11T20:37:23.180Z"
   },
   {
    "duration": 681,
    "start_time": "2022-05-11T20:37:24.719Z"
   },
   {
    "duration": 5,
    "start_time": "2022-05-11T20:37:25.403Z"
   },
   {
    "duration": 25,
    "start_time": "2022-05-11T20:37:25.410Z"
   },
   {
    "duration": 466,
    "start_time": "2022-05-11T20:37:25.437Z"
   },
   {
    "duration": 221,
    "start_time": "2022-05-11T20:37:25.906Z"
   },
   {
    "duration": 482,
    "start_time": "2022-05-11T20:37:26.129Z"
   },
   {
    "duration": 21,
    "start_time": "2022-05-11T20:37:26.612Z"
   },
   {
    "duration": 4,
    "start_time": "2022-05-11T20:37:26.635Z"
   },
   {
    "duration": 14,
    "start_time": "2022-05-11T20:37:26.642Z"
   },
   {
    "duration": 39,
    "start_time": "2022-05-11T20:37:26.658Z"
   },
   {
    "duration": 3725,
    "start_time": "2022-05-11T20:37:26.699Z"
   },
   {
    "duration": 518,
    "start_time": "2022-05-11T20:37:30.425Z"
   },
   {
    "duration": 875,
    "start_time": "2022-05-11T20:37:30.945Z"
   },
   {
    "duration": 4,
    "start_time": "2022-05-11T20:37:31.822Z"
   },
   {
    "duration": 10,
    "start_time": "2022-05-11T20:37:31.828Z"
   },
   {
    "duration": 38,
    "start_time": "2022-05-11T20:37:31.841Z"
   },
   {
    "duration": 22,
    "start_time": "2022-05-11T20:37:31.881Z"
   },
   {
    "duration": 28,
    "start_time": "2022-05-11T20:37:31.904Z"
   },
   {
    "duration": 680,
    "start_time": "2022-05-11T20:37:31.934Z"
   },
   {
    "duration": 1466,
    "start_time": "2022-05-11T20:48:25.621Z"
   },
   {
    "duration": 673,
    "start_time": "2022-05-11T20:48:27.089Z"
   },
   {
    "duration": 3,
    "start_time": "2022-05-11T20:48:27.763Z"
   },
   {
    "duration": 10,
    "start_time": "2022-05-11T20:48:27.768Z"
   },
   {
    "duration": 441,
    "start_time": "2022-05-11T20:48:27.780Z"
   },
   {
    "duration": 195,
    "start_time": "2022-05-11T20:48:28.223Z"
   },
   {
    "duration": 436,
    "start_time": "2022-05-11T20:48:28.420Z"
   },
   {
    "duration": 32,
    "start_time": "2022-05-11T20:48:28.858Z"
   },
   {
    "duration": 3,
    "start_time": "2022-05-11T20:48:28.892Z"
   },
   {
    "duration": 14,
    "start_time": "2022-05-11T20:48:28.898Z"
   },
   {
    "duration": 7,
    "start_time": "2022-05-11T20:48:28.914Z"
   },
   {
    "duration": 3260,
    "start_time": "2022-05-11T20:48:28.923Z"
   },
   {
    "duration": 439,
    "start_time": "2022-05-11T20:48:32.186Z"
   },
   {
    "duration": 886,
    "start_time": "2022-05-11T20:48:32.627Z"
   },
   {
    "duration": 4,
    "start_time": "2022-05-11T20:48:33.514Z"
   },
   {
    "duration": 5,
    "start_time": "2022-05-11T20:48:33.520Z"
   },
   {
    "duration": 21,
    "start_time": "2022-05-11T20:48:33.526Z"
   },
   {
    "duration": 3,
    "start_time": "2022-05-11T20:48:33.549Z"
   },
   {
    "duration": 7,
    "start_time": "2022-05-11T20:48:33.554Z"
   },
   {
    "duration": 904,
    "start_time": "2022-05-11T20:48:33.588Z"
   },
   {
    "duration": 892205,
    "start_time": "2022-05-11T20:48:34.495Z"
   },
   {
    "duration": 91452,
    "start_time": "2022-05-11T21:03:26.702Z"
   },
   {
    "duration": 91271,
    "start_time": "2022-05-11T21:05:59.789Z"
   },
   {
    "duration": 5,
    "start_time": "2022-05-11T21:09:05.528Z"
   },
   {
    "duration": 5,
    "start_time": "2022-05-11T21:09:17.285Z"
   },
   {
    "duration": 55,
    "start_time": "2022-05-12T17:54:35.574Z"
   },
   {
    "duration": 1661,
    "start_time": "2022-05-12T17:55:48.561Z"
   },
   {
    "duration": 661,
    "start_time": "2022-05-12T17:55:50.224Z"
   },
   {
    "duration": 3,
    "start_time": "2022-05-12T17:55:50.887Z"
   },
   {
    "duration": 4,
    "start_time": "2022-05-12T17:55:50.900Z"
   },
   {
    "duration": 552,
    "start_time": "2022-05-12T17:55:50.906Z"
   },
   {
    "duration": 216,
    "start_time": "2022-05-12T17:55:51.460Z"
   },
   {
    "duration": 460,
    "start_time": "2022-05-12T17:55:51.677Z"
   },
   {
    "duration": 21,
    "start_time": "2022-05-12T17:55:52.138Z"
   },
   {
    "duration": 3,
    "start_time": "2022-05-12T17:55:52.161Z"
   },
   {
    "duration": 36,
    "start_time": "2022-05-12T17:55:52.167Z"
   },
   {
    "duration": 8,
    "start_time": "2022-05-12T17:55:52.210Z"
   },
   {
    "duration": 3919,
    "start_time": "2022-05-12T17:55:52.220Z"
   },
   {
    "duration": 687,
    "start_time": "2022-05-12T17:55:56.141Z"
   },
   {
    "duration": 700,
    "start_time": "2022-05-12T17:55:56.830Z"
   },
   {
    "duration": 2,
    "start_time": "2022-05-12T17:55:57.532Z"
   },
   {
    "duration": 5,
    "start_time": "2022-05-12T17:55:57.536Z"
   },
   {
    "duration": 20,
    "start_time": "2022-05-12T17:55:57.543Z"
   },
   {
    "duration": 4,
    "start_time": "2022-05-12T17:55:57.564Z"
   },
   {
    "duration": 10,
    "start_time": "2022-05-12T17:55:57.570Z"
   },
   {
    "duration": 1110,
    "start_time": "2022-05-12T17:55:57.599Z"
   },
   {
    "duration": 359148,
    "start_time": "2022-05-12T17:55:58.712Z"
   },
   {
    "duration": 0,
    "start_time": "2022-05-12T18:01:57.862Z"
   },
   {
    "duration": 9,
    "start_time": "2022-05-12T18:02:20.429Z"
   },
   {
    "duration": 6,
    "start_time": "2022-05-12T18:02:38.765Z"
   },
   {
    "duration": 7,
    "start_time": "2022-05-12T18:03:12.806Z"
   },
   {
    "duration": 8,
    "start_time": "2022-05-12T18:04:31.465Z"
   },
   {
    "duration": 4,
    "start_time": "2022-05-12T18:04:43.726Z"
   },
   {
    "duration": 351944,
    "start_time": "2022-05-12T18:04:54.520Z"
   },
   {
    "duration": 25195,
    "start_time": "2022-05-12T18:10:46.466Z"
   },
   {
    "duration": 25310,
    "start_time": "2022-05-12T18:11:27.853Z"
   },
   {
    "duration": 6,
    "start_time": "2022-05-12T18:28:08.081Z"
   },
   {
    "duration": 4,
    "start_time": "2022-05-12T18:28:21.116Z"
   },
   {
    "duration": 4,
    "start_time": "2022-05-12T18:28:28.197Z"
   },
   {
    "duration": 1067,
    "start_time": "2022-05-12T18:29:30.237Z"
   },
   {
    "duration": 1470664,
    "start_time": "2022-05-12T18:30:50.426Z"
   },
   {
    "duration": 1781,
    "start_time": "2022-05-12T18:58:09.964Z"
   },
   {
    "duration": 980,
    "start_time": "2022-05-12T18:58:11.747Z"
   },
   {
    "duration": 4,
    "start_time": "2022-05-12T18:58:12.729Z"
   },
   {
    "duration": 7,
    "start_time": "2022-05-12T18:58:12.735Z"
   },
   {
    "duration": 617,
    "start_time": "2022-05-12T18:58:12.743Z"
   },
   {
    "duration": 214,
    "start_time": "2022-05-12T18:58:13.362Z"
   },
   {
    "duration": 384,
    "start_time": "2022-05-12T18:58:13.577Z"
   },
   {
    "duration": 17,
    "start_time": "2022-05-12T18:58:13.963Z"
   },
   {
    "duration": 2,
    "start_time": "2022-05-12T18:58:13.982Z"
   },
   {
    "duration": 11,
    "start_time": "2022-05-12T18:58:14.000Z"
   },
   {
    "duration": 6,
    "start_time": "2022-05-12T18:58:14.013Z"
   },
   {
    "duration": 3092,
    "start_time": "2022-05-12T18:58:14.020Z"
   },
   {
    "duration": 409,
    "start_time": "2022-05-12T18:58:17.113Z"
   },
   {
    "duration": 747,
    "start_time": "2022-05-12T18:58:17.523Z"
   },
   {
    "duration": 3,
    "start_time": "2022-05-12T18:58:18.272Z"
   },
   {
    "duration": 7,
    "start_time": "2022-05-12T18:58:18.276Z"
   },
   {
    "duration": 26,
    "start_time": "2022-05-12T18:58:18.284Z"
   },
   {
    "duration": 3,
    "start_time": "2022-05-12T18:58:18.312Z"
   },
   {
    "duration": 7,
    "start_time": "2022-05-12T18:58:18.317Z"
   },
   {
    "duration": 881,
    "start_time": "2022-05-12T18:58:18.325Z"
   },
   {
    "duration": 392114,
    "start_time": "2022-05-12T18:58:19.208Z"
   },
   {
    "duration": 29287,
    "start_time": "2022-05-12T19:04:51.324Z"
   },
   {
    "duration": 7,
    "start_time": "2022-05-12T19:05:20.613Z"
   },
   {
    "duration": 1887,
    "start_time": "2022-05-12T19:05:20.622Z"
   },
   {
    "duration": 3294300,
    "start_time": "2022-05-12T19:05:22.511Z"
   },
   {
    "duration": 316494,
    "start_time": "2022-05-12T20:00:16.813Z"
   },
   {
    "duration": 4,
    "start_time": "2022-05-12T20:05:33.308Z"
   },
   {
    "duration": 191,
    "start_time": "2022-05-12T20:05:33.315Z"
   },
   {
    "duration": 6,
    "start_time": "2022-05-12T20:07:05.149Z"
   },
   {
    "duration": 4,
    "start_time": "2022-05-12T20:07:40.136Z"
   },
   {
    "duration": 1092,
    "start_time": "2022-05-12T20:07:47.712Z"
   },
   {
    "duration": 1606,
    "start_time": "2022-05-12T20:08:48.788Z"
   },
   {
    "duration": 684,
    "start_time": "2022-05-12T20:08:50.395Z"
   },
   {
    "duration": 3,
    "start_time": "2022-05-12T20:08:51.081Z"
   },
   {
    "duration": 5,
    "start_time": "2022-05-12T20:08:51.085Z"
   },
   {
    "duration": 428,
    "start_time": "2022-05-12T20:08:51.102Z"
   },
   {
    "duration": 183,
    "start_time": "2022-05-12T20:08:51.532Z"
   },
   {
    "duration": 422,
    "start_time": "2022-05-12T20:08:51.717Z"
   },
   {
    "duration": 16,
    "start_time": "2022-05-12T20:08:52.140Z"
   },
   {
    "duration": 3,
    "start_time": "2022-05-12T20:08:52.157Z"
   },
   {
    "duration": 13,
    "start_time": "2022-05-12T20:08:52.162Z"
   },
   {
    "duration": 6,
    "start_time": "2022-05-12T20:08:52.177Z"
   },
   {
    "duration": 3382,
    "start_time": "2022-05-12T20:08:52.184Z"
   },
   {
    "duration": 459,
    "start_time": "2022-05-12T20:08:55.568Z"
   },
   {
    "duration": 804,
    "start_time": "2022-05-12T20:08:56.029Z"
   },
   {
    "duration": 4,
    "start_time": "2022-05-12T20:08:56.835Z"
   },
   {
    "duration": 8,
    "start_time": "2022-05-12T20:08:56.840Z"
   },
   {
    "duration": 23,
    "start_time": "2022-05-12T20:08:56.850Z"
   },
   {
    "duration": 3,
    "start_time": "2022-05-12T20:08:56.874Z"
   },
   {
    "duration": 3,
    "start_time": "2022-05-12T20:08:56.879Z"
   },
   {
    "duration": 142,
    "start_time": "2022-05-12T20:08:56.884Z"
   },
   {
    "duration": 0,
    "start_time": "2022-05-12T20:08:57.028Z"
   },
   {
    "duration": 0,
    "start_time": "2022-05-12T20:08:57.029Z"
   },
   {
    "duration": 0,
    "start_time": "2022-05-12T20:08:57.030Z"
   },
   {
    "duration": 0,
    "start_time": "2022-05-12T20:08:57.032Z"
   },
   {
    "duration": 0,
    "start_time": "2022-05-12T20:08:57.032Z"
   },
   {
    "duration": 0,
    "start_time": "2022-05-12T20:08:57.033Z"
   },
   {
    "duration": 0,
    "start_time": "2022-05-12T20:08:57.034Z"
   },
   {
    "duration": 0,
    "start_time": "2022-05-12T20:08:57.035Z"
   },
   {
    "duration": 5,
    "start_time": "2022-05-12T20:09:32.157Z"
   },
   {
    "duration": 868,
    "start_time": "2022-05-12T20:09:33.756Z"
   },
   {
    "duration": 6,
    "start_time": "2022-05-12T20:09:46.774Z"
   },
   {
    "duration": 3166,
    "start_time": "2022-05-12T20:09:49.864Z"
   },
   {
    "duration": 1614,
    "start_time": "2022-05-12T20:10:35.525Z"
   },
   {
    "duration": 879,
    "start_time": "2022-05-12T20:10:37.141Z"
   },
   {
    "duration": 3,
    "start_time": "2022-05-12T20:10:38.022Z"
   },
   {
    "duration": 14,
    "start_time": "2022-05-12T20:10:38.028Z"
   },
   {
    "duration": 613,
    "start_time": "2022-05-12T20:10:38.044Z"
   },
   {
    "duration": 213,
    "start_time": "2022-05-12T20:10:38.659Z"
   },
   {
    "duration": 399,
    "start_time": "2022-05-12T20:10:38.874Z"
   },
   {
    "duration": 27,
    "start_time": "2022-05-12T20:10:39.274Z"
   },
   {
    "duration": 2,
    "start_time": "2022-05-12T20:10:39.303Z"
   },
   {
    "duration": 33,
    "start_time": "2022-05-12T20:10:39.308Z"
   },
   {
    "duration": 43,
    "start_time": "2022-05-12T20:10:39.343Z"
   },
   {
    "duration": 3267,
    "start_time": "2022-05-12T20:10:39.388Z"
   },
   {
    "duration": 479,
    "start_time": "2022-05-12T20:10:42.657Z"
   },
   {
    "duration": 757,
    "start_time": "2022-05-12T20:10:43.138Z"
   },
   {
    "duration": 3,
    "start_time": "2022-05-12T20:10:43.899Z"
   },
   {
    "duration": 15,
    "start_time": "2022-05-12T20:10:43.904Z"
   },
   {
    "duration": 22,
    "start_time": "2022-05-12T20:10:43.921Z"
   },
   {
    "duration": 3,
    "start_time": "2022-05-12T20:10:43.945Z"
   },
   {
    "duration": 5,
    "start_time": "2022-05-12T20:10:43.950Z"
   },
   {
    "duration": 476,
    "start_time": "2022-05-12T20:10:43.957Z"
   },
   {
    "duration": 279888,
    "start_time": "2022-05-12T20:10:44.501Z"
   },
   {
    "duration": 16749,
    "start_time": "2022-05-12T20:15:24.404Z"
   },
   {
    "duration": 6,
    "start_time": "2022-05-12T20:15:41.154Z"
   },
   {
    "duration": 7,
    "start_time": "2022-05-12T20:15:41.162Z"
   },
   {
    "duration": 2849,
    "start_time": "2022-05-12T20:15:41.170Z"
   },
   {
    "duration": 317988,
    "start_time": "2022-05-12T20:15:44.111Z"
   },
   {
    "duration": 319413,
    "start_time": "2022-05-12T20:21:02.103Z"
   },
   {
    "duration": 4,
    "start_time": "2022-05-12T20:26:21.520Z"
   },
   {
    "duration": 12,
    "start_time": "2022-05-12T20:40:04.175Z"
   },
   {
    "duration": 16,
    "start_time": "2022-05-12T20:41:31.572Z"
   },
   {
    "duration": 10,
    "start_time": "2022-05-12T20:41:37.071Z"
   },
   {
    "duration": 10,
    "start_time": "2022-05-12T20:41:47.484Z"
   },
   {
    "duration": 3,
    "start_time": "2022-05-12T20:43:05.355Z"
   },
   {
    "duration": 7,
    "start_time": "2022-05-12T20:43:15.495Z"
   },
   {
    "duration": 13,
    "start_time": "2022-05-12T20:43:25.876Z"
   },
   {
    "duration": 7,
    "start_time": "2022-05-12T20:43:55.544Z"
   },
   {
    "duration": 13,
    "start_time": "2022-05-12T20:43:56.371Z"
   },
   {
    "duration": 117,
    "start_time": "2022-05-12T20:44:14.664Z"
   },
   {
    "duration": 5,
    "start_time": "2022-05-12T20:44:22.921Z"
   },
   {
    "duration": 3,
    "start_time": "2022-05-12T20:44:31.595Z"
   },
   {
    "duration": 4,
    "start_time": "2022-05-12T20:44:51.954Z"
   },
   {
    "duration": 4,
    "start_time": "2022-05-12T20:45:15.168Z"
   },
   {
    "duration": 3,
    "start_time": "2022-05-12T20:45:47.930Z"
   },
   {
    "duration": 7,
    "start_time": "2022-05-12T20:52:21.172Z"
   },
   {
    "duration": 4,
    "start_time": "2022-05-12T20:52:59.420Z"
   },
   {
    "duration": 4,
    "start_time": "2022-05-12T20:59:35.954Z"
   },
   {
    "duration": 1434,
    "start_time": "2022-05-12T20:59:36.925Z"
   },
   {
    "duration": 2118,
    "start_time": "2022-05-12T21:01:25.634Z"
   },
   {
    "duration": 1409,
    "start_time": "2022-05-12T21:04:36.666Z"
   },
   {
    "duration": 4,
    "start_time": "2022-05-12T21:05:35.394Z"
   },
   {
    "duration": 1405,
    "start_time": "2022-05-12T21:05:37.546Z"
   },
   {
    "duration": 4,
    "start_time": "2022-05-12T21:07:20.021Z"
   },
   {
    "duration": 1893,
    "start_time": "2022-05-12T21:07:47.281Z"
   },
   {
    "duration": 6,
    "start_time": "2022-05-12T21:14:27.090Z"
   },
   {
    "duration": 1378,
    "start_time": "2022-05-12T21:14:27.776Z"
   },
   {
    "duration": 4,
    "start_time": "2022-05-12T21:14:54.991Z"
   },
   {
    "duration": 1390,
    "start_time": "2022-05-12T21:15:45.992Z"
   },
   {
    "duration": 4,
    "start_time": "2022-05-12T21:16:16.621Z"
   },
   {
    "duration": 1392,
    "start_time": "2022-05-12T21:18:00.743Z"
   },
   {
    "duration": 4220,
    "start_time": "2022-05-12T21:20:20.838Z"
   },
   {
    "duration": 3,
    "start_time": "2022-05-12T21:21:35.273Z"
   },
   {
    "duration": 10,
    "start_time": "2022-05-12T21:34:28.240Z"
   },
   {
    "duration": 5,
    "start_time": "2022-05-12T21:34:45.872Z"
   },
   {
    "duration": 2,
    "start_time": "2022-05-12T21:34:51.152Z"
   },
   {
    "duration": 7,
    "start_time": "2022-05-12T21:34:52.292Z"
   },
   {
    "duration": 4,
    "start_time": "2022-05-12T21:34:54.158Z"
   },
   {
    "duration": 8,
    "start_time": "2022-05-12T21:34:55.481Z"
   },
   {
    "duration": 9,
    "start_time": "2022-05-12T21:34:57.060Z"
   },
   {
    "duration": 3,
    "start_time": "2022-05-12T21:56:21.417Z"
   },
   {
    "duration": 6,
    "start_time": "2022-05-12T22:02:00.256Z"
   },
   {
    "duration": 2121,
    "start_time": "2022-05-12T22:20:22.122Z"
   },
   {
    "duration": 1087,
    "start_time": "2022-05-12T22:20:24.245Z"
   },
   {
    "duration": 4,
    "start_time": "2022-05-12T22:20:25.334Z"
   },
   {
    "duration": 5,
    "start_time": "2022-05-12T22:20:25.340Z"
   },
   {
    "duration": 625,
    "start_time": "2022-05-12T22:20:25.347Z"
   },
   {
    "duration": 286,
    "start_time": "2022-05-12T22:20:25.974Z"
   },
   {
    "duration": 612,
    "start_time": "2022-05-12T22:20:26.263Z"
   },
   {
    "duration": 32,
    "start_time": "2022-05-12T22:20:26.877Z"
   },
   {
    "duration": 2,
    "start_time": "2022-05-12T22:20:26.912Z"
   },
   {
    "duration": 15,
    "start_time": "2022-05-12T22:20:26.918Z"
   },
   {
    "duration": 8,
    "start_time": "2022-05-12T22:20:26.935Z"
   },
   {
    "duration": 4194,
    "start_time": "2022-05-12T22:20:26.945Z"
   },
   {
    "duration": 597,
    "start_time": "2022-05-12T22:20:31.141Z"
   },
   {
    "duration": 1228,
    "start_time": "2022-05-12T22:20:31.740Z"
   },
   {
    "duration": 3,
    "start_time": "2022-05-12T22:20:32.970Z"
   },
   {
    "duration": 11,
    "start_time": "2022-05-12T22:20:32.974Z"
   },
   {
    "duration": 27,
    "start_time": "2022-05-12T22:20:32.986Z"
   },
   {
    "duration": 12,
    "start_time": "2022-05-12T22:20:33.014Z"
   },
   {
    "duration": 13,
    "start_time": "2022-05-12T22:20:33.028Z"
   },
   {
    "duration": 562,
    "start_time": "2022-05-12T22:20:33.042Z"
   },
   {
    "duration": 250286,
    "start_time": "2022-05-12T22:20:33.606Z"
   },
   {
    "duration": 13753,
    "start_time": "2022-05-12T22:24:43.893Z"
   },
   {
    "duration": 6,
    "start_time": "2022-05-12T22:24:57.647Z"
   },
   {
    "duration": 7,
    "start_time": "2022-05-12T22:24:57.655Z"
   },
   {
    "duration": 1454,
    "start_time": "2022-05-12T22:24:57.664Z"
   },
   {
    "duration": 289088,
    "start_time": "2022-05-12T22:24:59.201Z"
   },
   {
    "duration": 305423,
    "start_time": "2022-05-12T22:29:48.301Z"
   },
   {
    "duration": 3,
    "start_time": "2022-05-12T22:34:53.727Z"
   },
   {
    "duration": 12,
    "start_time": "2022-05-12T22:34:53.731Z"
   },
   {
    "duration": 3,
    "start_time": "2022-05-12T22:34:53.744Z"
   },
   {
    "duration": 7,
    "start_time": "2022-05-12T22:34:53.748Z"
   },
   {
    "duration": 1416,
    "start_time": "2022-05-12T22:34:53.756Z"
   },
   {
    "duration": 2951,
    "start_time": "2022-05-12T22:34:55.174Z"
   },
   {
    "duration": 3,
    "start_time": "2022-05-12T22:34:58.126Z"
   },
   {
    "duration": 57,
    "start_time": "2022-05-13T06:35:31.476Z"
   },
   {
    "duration": 8,
    "start_time": "2022-05-13T09:58:29.110Z"
   },
   {
    "duration": 1606,
    "start_time": "2022-05-13T09:58:37.438Z"
   },
   {
    "duration": 642,
    "start_time": "2022-05-13T09:58:39.046Z"
   },
   {
    "duration": 3,
    "start_time": "2022-05-13T09:58:39.689Z"
   },
   {
    "duration": 4,
    "start_time": "2022-05-13T09:58:39.695Z"
   },
   {
    "duration": 483,
    "start_time": "2022-05-13T09:58:39.707Z"
   },
   {
    "duration": 225,
    "start_time": "2022-05-13T09:58:40.192Z"
   },
   {
    "duration": 450,
    "start_time": "2022-05-13T09:58:40.418Z"
   },
   {
    "duration": 19,
    "start_time": "2022-05-13T09:58:40.870Z"
   },
   {
    "duration": 16,
    "start_time": "2022-05-13T09:58:40.891Z"
   },
   {
    "duration": 11,
    "start_time": "2022-05-13T09:58:40.910Z"
   },
   {
    "duration": 6,
    "start_time": "2022-05-13T09:58:40.922Z"
   },
   {
    "duration": 3681,
    "start_time": "2022-05-13T09:58:40.930Z"
   },
   {
    "duration": 535,
    "start_time": "2022-05-13T09:58:44.613Z"
   },
   {
    "duration": 792,
    "start_time": "2022-05-13T09:58:45.150Z"
   },
   {
    "duration": 4,
    "start_time": "2022-05-13T09:58:45.944Z"
   },
   {
    "duration": 5,
    "start_time": "2022-05-13T09:58:45.950Z"
   },
   {
    "duration": 17,
    "start_time": "2022-05-13T09:58:45.957Z"
   },
   {
    "duration": 4,
    "start_time": "2022-05-13T09:58:45.976Z"
   },
   {
    "duration": 3,
    "start_time": "2022-05-13T09:58:46.007Z"
   },
   {
    "duration": 597,
    "start_time": "2022-05-13T09:58:46.012Z"
   },
   {
    "duration": 273103,
    "start_time": "2022-05-13T09:58:46.611Z"
   },
   {
    "duration": 15979,
    "start_time": "2022-05-13T10:03:19.716Z"
   },
   {
    "duration": 11,
    "start_time": "2022-05-13T10:03:35.697Z"
   },
   {
    "duration": 5,
    "start_time": "2022-05-13T10:03:35.710Z"
   },
   {
    "duration": 1893,
    "start_time": "2022-05-13T10:03:35.716Z"
   },
   {
    "duration": 317481,
    "start_time": "2022-05-13T10:03:37.611Z"
   },
   {
    "duration": 35224,
    "start_time": "2022-05-13T10:08:55.094Z"
   },
   {
    "duration": 3,
    "start_time": "2022-05-13T10:09:30.321Z"
   },
   {
    "duration": 14,
    "start_time": "2022-05-13T10:09:30.325Z"
   },
   {
    "duration": 3,
    "start_time": "2022-05-13T10:09:30.341Z"
   },
   {
    "duration": 9,
    "start_time": "2022-05-13T10:09:30.346Z"
   },
   {
    "duration": 1562,
    "start_time": "2022-05-13T10:09:30.356Z"
   },
   {
    "duration": 3353,
    "start_time": "2022-05-13T10:09:31.919Z"
   },
   {
    "duration": 3,
    "start_time": "2022-05-13T10:09:35.274Z"
   },
   {
    "duration": 1430,
    "start_time": "2022-05-13T10:16:30.323Z"
   },
   {
    "duration": 663,
    "start_time": "2022-05-13T10:16:31.755Z"
   },
   {
    "duration": 3,
    "start_time": "2022-05-13T10:16:32.420Z"
   },
   {
    "duration": 6,
    "start_time": "2022-05-13T10:16:32.424Z"
   },
   {
    "duration": 474,
    "start_time": "2022-05-13T10:16:32.431Z"
   },
   {
    "duration": 216,
    "start_time": "2022-05-13T10:16:32.907Z"
   },
   {
    "duration": 468,
    "start_time": "2022-05-13T10:16:33.124Z"
   },
   {
    "duration": 32,
    "start_time": "2022-05-13T10:16:33.593Z"
   },
   {
    "duration": 4,
    "start_time": "2022-05-13T10:16:33.627Z"
   },
   {
    "duration": 17,
    "start_time": "2022-05-13T10:16:33.634Z"
   },
   {
    "duration": 19,
    "start_time": "2022-05-13T10:16:33.653Z"
   },
   {
    "duration": 3553,
    "start_time": "2022-05-13T10:16:33.673Z"
   },
   {
    "duration": 421,
    "start_time": "2022-05-13T10:16:37.227Z"
   },
   {
    "duration": 851,
    "start_time": "2022-05-13T10:16:37.649Z"
   },
   {
    "duration": 6,
    "start_time": "2022-05-13T10:16:38.502Z"
   },
   {
    "duration": 6,
    "start_time": "2022-05-13T10:16:38.509Z"
   },
   {
    "duration": 18,
    "start_time": "2022-05-13T10:16:38.516Z"
   },
   {
    "duration": 3,
    "start_time": "2022-05-13T10:16:38.536Z"
   },
   {
    "duration": 3,
    "start_time": "2022-05-13T10:16:38.540Z"
   },
   {
    "duration": 868,
    "start_time": "2022-05-13T10:16:38.544Z"
   },
   {
    "duration": 272855,
    "start_time": "2022-05-13T10:16:39.415Z"
   },
   {
    "duration": 15611,
    "start_time": "2022-05-13T10:21:12.272Z"
   },
   {
    "duration": 6,
    "start_time": "2022-05-13T10:21:27.884Z"
   },
   {
    "duration": 16,
    "start_time": "2022-05-13T10:21:27.892Z"
   },
   {
    "duration": 1202,
    "start_time": "2022-05-13T10:21:27.910Z"
   },
   {
    "duration": 319331,
    "start_time": "2022-05-13T10:21:29.114Z"
   },
   {
    "duration": 34689,
    "start_time": "2022-05-13T10:26:48.446Z"
   },
   {
    "duration": 3,
    "start_time": "2022-05-13T10:27:23.138Z"
   },
   {
    "duration": 39,
    "start_time": "2022-05-13T10:27:23.143Z"
   },
   {
    "duration": 33,
    "start_time": "2022-05-13T10:27:23.184Z"
   },
   {
    "duration": 22,
    "start_time": "2022-05-13T10:27:23.219Z"
   },
   {
    "duration": 1616,
    "start_time": "2022-05-13T10:27:23.243Z"
   },
   {
    "duration": 3421,
    "start_time": "2022-05-13T10:27:24.860Z"
   },
   {
    "duration": 4,
    "start_time": "2022-05-13T10:27:28.282Z"
   },
   {
    "duration": 1467,
    "start_time": "2022-05-13T12:01:17.404Z"
   },
   {
    "duration": 677,
    "start_time": "2022-05-13T12:01:18.873Z"
   },
   {
    "duration": 4,
    "start_time": "2022-05-13T12:01:19.551Z"
   },
   {
    "duration": 5,
    "start_time": "2022-05-13T12:01:19.557Z"
   },
   {
    "duration": 488,
    "start_time": "2022-05-13T12:01:19.563Z"
   },
   {
    "duration": 222,
    "start_time": "2022-05-13T12:01:20.053Z"
   },
   {
    "duration": 476,
    "start_time": "2022-05-13T12:01:20.277Z"
   },
   {
    "duration": 20,
    "start_time": "2022-05-13T12:01:20.754Z"
   },
   {
    "duration": 2,
    "start_time": "2022-05-13T12:01:20.776Z"
   },
   {
    "duration": 27,
    "start_time": "2022-05-13T12:01:20.781Z"
   },
   {
    "duration": 7,
    "start_time": "2022-05-13T12:01:20.810Z"
   },
   {
    "duration": 3404,
    "start_time": "2022-05-13T12:01:20.819Z"
   },
   {
    "duration": 434,
    "start_time": "2022-05-13T12:01:24.225Z"
   },
   {
    "duration": 843,
    "start_time": "2022-05-13T12:01:24.661Z"
   },
   {
    "duration": 3,
    "start_time": "2022-05-13T12:01:25.507Z"
   },
   {
    "duration": 6,
    "start_time": "2022-05-13T12:01:25.512Z"
   },
   {
    "duration": 17,
    "start_time": "2022-05-13T12:01:25.520Z"
   },
   {
    "duration": 3,
    "start_time": "2022-05-13T12:01:25.538Z"
   },
   {
    "duration": 4,
    "start_time": "2022-05-13T12:01:25.543Z"
   },
   {
    "duration": 861,
    "start_time": "2022-05-13T12:01:25.548Z"
   },
   {
    "duration": 1435384,
    "start_time": "2022-05-13T12:01:26.412Z"
   },
   {
    "duration": 146187,
    "start_time": "2022-05-13T12:25:21.798Z"
   },
   {
    "duration": 6,
    "start_time": "2022-05-13T12:27:47.986Z"
   },
   {
    "duration": 13,
    "start_time": "2022-05-13T12:27:47.994Z"
   },
   {
    "duration": 1200,
    "start_time": "2022-05-13T12:27:48.009Z"
   },
   {
    "duration": 1401,
    "start_time": "2022-05-13T12:58:36.972Z"
   },
   {
    "duration": 662,
    "start_time": "2022-05-13T12:58:38.375Z"
   },
   {
    "duration": 3,
    "start_time": "2022-05-13T12:58:39.039Z"
   },
   {
    "duration": 7,
    "start_time": "2022-05-13T12:58:39.044Z"
   },
   {
    "duration": 487,
    "start_time": "2022-05-13T12:58:39.053Z"
   },
   {
    "duration": 219,
    "start_time": "2022-05-13T12:58:39.542Z"
   },
   {
    "duration": 472,
    "start_time": "2022-05-13T12:58:39.763Z"
   },
   {
    "duration": 20,
    "start_time": "2022-05-13T12:58:40.237Z"
   },
   {
    "duration": 3,
    "start_time": "2022-05-13T12:58:40.259Z"
   },
   {
    "duration": 10,
    "start_time": "2022-05-13T12:58:40.264Z"
   },
   {
    "duration": 33,
    "start_time": "2022-05-13T12:58:40.276Z"
   },
   {
    "duration": 3491,
    "start_time": "2022-05-13T12:58:40.311Z"
   },
   {
    "duration": 456,
    "start_time": "2022-05-13T12:58:43.803Z"
   },
   {
    "duration": 846,
    "start_time": "2022-05-13T12:58:44.261Z"
   },
   {
    "duration": 118,
    "start_time": "2022-05-13T12:58:45.109Z"
   },
   {
    "duration": 0,
    "start_time": "2022-05-13T12:58:45.229Z"
   },
   {
    "duration": 0,
    "start_time": "2022-05-13T12:58:45.230Z"
   },
   {
    "duration": 0,
    "start_time": "2022-05-13T12:58:45.231Z"
   },
   {
    "duration": 0,
    "start_time": "2022-05-13T12:58:45.232Z"
   },
   {
    "duration": 0,
    "start_time": "2022-05-13T12:58:45.233Z"
   },
   {
    "duration": 0,
    "start_time": "2022-05-13T12:58:45.234Z"
   },
   {
    "duration": 0,
    "start_time": "2022-05-13T12:58:45.235Z"
   },
   {
    "duration": 0,
    "start_time": "2022-05-13T12:58:45.237Z"
   },
   {
    "duration": 0,
    "start_time": "2022-05-13T12:58:45.238Z"
   },
   {
    "duration": 0,
    "start_time": "2022-05-13T12:58:45.239Z"
   },
   {
    "duration": 0,
    "start_time": "2022-05-13T12:58:45.240Z"
   },
   {
    "duration": 0,
    "start_time": "2022-05-13T12:58:45.242Z"
   },
   {
    "duration": 0,
    "start_time": "2022-05-13T12:58:45.243Z"
   },
   {
    "duration": 0,
    "start_time": "2022-05-13T12:58:45.244Z"
   },
   {
    "duration": 0,
    "start_time": "2022-05-13T12:58:45.245Z"
   },
   {
    "duration": 0,
    "start_time": "2022-05-13T12:58:45.247Z"
   },
   {
    "duration": 0,
    "start_time": "2022-05-13T12:58:45.248Z"
   },
   {
    "duration": 0,
    "start_time": "2022-05-13T12:58:45.249Z"
   },
   {
    "duration": 0,
    "start_time": "2022-05-13T12:58:45.250Z"
   },
   {
    "duration": 0,
    "start_time": "2022-05-13T12:58:45.251Z"
   },
   {
    "duration": 0,
    "start_time": "2022-05-13T12:58:45.253Z"
   },
   {
    "duration": 1429,
    "start_time": "2022-05-13T12:59:13.760Z"
   },
   {
    "duration": 685,
    "start_time": "2022-05-13T12:59:15.191Z"
   },
   {
    "duration": 3,
    "start_time": "2022-05-13T12:59:15.878Z"
   },
   {
    "duration": 4,
    "start_time": "2022-05-13T12:59:15.884Z"
   },
   {
    "duration": 490,
    "start_time": "2022-05-13T12:59:15.890Z"
   },
   {
    "duration": 225,
    "start_time": "2022-05-13T12:59:16.382Z"
   },
   {
    "duration": 473,
    "start_time": "2022-05-13T12:59:16.609Z"
   },
   {
    "duration": 33,
    "start_time": "2022-05-13T12:59:17.084Z"
   },
   {
    "duration": 2,
    "start_time": "2022-05-13T12:59:17.119Z"
   },
   {
    "duration": 11,
    "start_time": "2022-05-13T12:59:17.124Z"
   },
   {
    "duration": 7,
    "start_time": "2022-05-13T12:59:17.137Z"
   },
   {
    "duration": 3605,
    "start_time": "2022-05-13T12:59:17.146Z"
   },
   {
    "duration": 514,
    "start_time": "2022-05-13T12:59:20.753Z"
   },
   {
    "duration": 896,
    "start_time": "2022-05-13T12:59:21.269Z"
   },
   {
    "duration": 1424,
    "start_time": "2022-05-13T12:59:22.167Z"
   },
   {
    "duration": 0,
    "start_time": "2022-05-13T12:59:23.593Z"
   },
   {
    "duration": 0,
    "start_time": "2022-05-13T12:59:23.595Z"
   },
   {
    "duration": 0,
    "start_time": "2022-05-13T12:59:23.596Z"
   },
   {
    "duration": 0,
    "start_time": "2022-05-13T12:59:23.597Z"
   },
   {
    "duration": 0,
    "start_time": "2022-05-13T12:59:23.598Z"
   },
   {
    "duration": 0,
    "start_time": "2022-05-13T12:59:23.599Z"
   },
   {
    "duration": 0,
    "start_time": "2022-05-13T12:59:23.600Z"
   },
   {
    "duration": 0,
    "start_time": "2022-05-13T12:59:23.601Z"
   },
   {
    "duration": 0,
    "start_time": "2022-05-13T12:59:23.602Z"
   },
   {
    "duration": 0,
    "start_time": "2022-05-13T12:59:23.603Z"
   },
   {
    "duration": 0,
    "start_time": "2022-05-13T12:59:23.604Z"
   },
   {
    "duration": 0,
    "start_time": "2022-05-13T12:59:23.606Z"
   },
   {
    "duration": 0,
    "start_time": "2022-05-13T12:59:23.607Z"
   },
   {
    "duration": 0,
    "start_time": "2022-05-13T12:59:23.608Z"
   },
   {
    "duration": 0,
    "start_time": "2022-05-13T12:59:23.609Z"
   },
   {
    "duration": 0,
    "start_time": "2022-05-13T12:59:23.611Z"
   },
   {
    "duration": 0,
    "start_time": "2022-05-13T12:59:23.612Z"
   },
   {
    "duration": 0,
    "start_time": "2022-05-13T12:59:23.612Z"
   },
   {
    "duration": 0,
    "start_time": "2022-05-13T12:59:23.614Z"
   },
   {
    "duration": 0,
    "start_time": "2022-05-13T12:59:23.615Z"
   },
   {
    "duration": 0,
    "start_time": "2022-05-13T12:59:23.616Z"
   },
   {
    "duration": 10,
    "start_time": "2022-05-13T13:05:43.426Z"
   },
   {
    "duration": 18,
    "start_time": "2022-05-13T13:33:33.846Z"
   },
   {
    "duration": 3,
    "start_time": "2022-05-13T13:33:35.326Z"
   },
   {
    "duration": 9,
    "start_time": "2022-05-13T13:34:07.312Z"
   },
   {
    "duration": 3,
    "start_time": "2022-05-13T13:34:08.121Z"
   },
   {
    "duration": 4,
    "start_time": "2022-05-13T13:34:25.931Z"
   },
   {
    "duration": 3,
    "start_time": "2022-05-13T13:34:26.395Z"
   },
   {
    "duration": 2090,
    "start_time": "2022-05-13T13:34:54.834Z"
   },
   {
    "duration": 637,
    "start_time": "2022-05-13T13:34:56.926Z"
   },
   {
    "duration": 3,
    "start_time": "2022-05-13T13:34:57.565Z"
   },
   {
    "duration": 6,
    "start_time": "2022-05-13T13:34:57.571Z"
   },
   {
    "duration": 496,
    "start_time": "2022-05-13T13:34:57.579Z"
   },
   {
    "duration": 214,
    "start_time": "2022-05-13T13:34:58.076Z"
   },
   {
    "duration": 455,
    "start_time": "2022-05-13T13:34:58.291Z"
   },
   {
    "duration": 19,
    "start_time": "2022-05-13T13:34:58.748Z"
   },
   {
    "duration": 2,
    "start_time": "2022-05-13T13:34:58.769Z"
   },
   {
    "duration": 10,
    "start_time": "2022-05-13T13:34:58.774Z"
   },
   {
    "duration": 25,
    "start_time": "2022-05-13T13:34:58.786Z"
   },
   {
    "duration": 3544,
    "start_time": "2022-05-13T13:34:58.813Z"
   },
   {
    "duration": 500,
    "start_time": "2022-05-13T13:35:02.358Z"
   },
   {
    "duration": 878,
    "start_time": "2022-05-13T13:35:02.860Z"
   },
   {
    "duration": 12,
    "start_time": "2022-05-13T13:35:03.739Z"
   },
   {
    "duration": 3,
    "start_time": "2022-05-13T13:35:03.753Z"
   },
   {
    "duration": 138,
    "start_time": "2022-05-13T13:35:03.758Z"
   },
   {
    "duration": 0,
    "start_time": "2022-05-13T13:35:03.898Z"
   },
   {
    "duration": 0,
    "start_time": "2022-05-13T13:35:03.907Z"
   },
   {
    "duration": 0,
    "start_time": "2022-05-13T13:35:03.908Z"
   },
   {
    "duration": 0,
    "start_time": "2022-05-13T13:35:03.910Z"
   },
   {
    "duration": 0,
    "start_time": "2022-05-13T13:35:03.911Z"
   },
   {
    "duration": 0,
    "start_time": "2022-05-13T13:35:03.911Z"
   },
   {
    "duration": 0,
    "start_time": "2022-05-13T13:35:03.913Z"
   },
   {
    "duration": 0,
    "start_time": "2022-05-13T13:35:03.914Z"
   },
   {
    "duration": 0,
    "start_time": "2022-05-13T13:35:03.915Z"
   },
   {
    "duration": 0,
    "start_time": "2022-05-13T13:35:03.916Z"
   },
   {
    "duration": 0,
    "start_time": "2022-05-13T13:35:03.917Z"
   },
   {
    "duration": 0,
    "start_time": "2022-05-13T13:35:03.918Z"
   },
   {
    "duration": 0,
    "start_time": "2022-05-13T13:35:03.920Z"
   },
   {
    "duration": 0,
    "start_time": "2022-05-13T13:35:03.921Z"
   },
   {
    "duration": 0,
    "start_time": "2022-05-13T13:35:03.922Z"
   },
   {
    "duration": 0,
    "start_time": "2022-05-13T13:35:03.923Z"
   },
   {
    "duration": 0,
    "start_time": "2022-05-13T13:35:03.925Z"
   },
   {
    "duration": 0,
    "start_time": "2022-05-13T13:35:03.926Z"
   },
   {
    "duration": 0,
    "start_time": "2022-05-13T13:35:03.927Z"
   },
   {
    "duration": 0,
    "start_time": "2022-05-13T13:35:03.928Z"
   },
   {
    "duration": 4,
    "start_time": "2022-05-13T13:35:30.023Z"
   },
   {
    "duration": 3,
    "start_time": "2022-05-13T13:35:30.701Z"
   },
   {
    "duration": 1406,
    "start_time": "2022-05-13T13:35:38.001Z"
   },
   {
    "duration": 659,
    "start_time": "2022-05-13T13:35:39.408Z"
   },
   {
    "duration": 3,
    "start_time": "2022-05-13T13:35:40.069Z"
   },
   {
    "duration": 6,
    "start_time": "2022-05-13T13:35:40.074Z"
   },
   {
    "duration": 490,
    "start_time": "2022-05-13T13:35:40.081Z"
   },
   {
    "duration": 214,
    "start_time": "2022-05-13T13:35:40.573Z"
   },
   {
    "duration": 463,
    "start_time": "2022-05-13T13:35:40.788Z"
   },
   {
    "duration": 20,
    "start_time": "2022-05-13T13:35:41.253Z"
   },
   {
    "duration": 3,
    "start_time": "2022-05-13T13:35:41.275Z"
   },
   {
    "duration": 31,
    "start_time": "2022-05-13T13:35:41.281Z"
   },
   {
    "duration": 7,
    "start_time": "2022-05-13T13:35:41.314Z"
   },
   {
    "duration": 3673,
    "start_time": "2022-05-13T13:35:41.323Z"
   },
   {
    "duration": 455,
    "start_time": "2022-05-13T13:35:44.998Z"
   },
   {
    "duration": 857,
    "start_time": "2022-05-13T13:35:45.455Z"
   },
   {
    "duration": 14,
    "start_time": "2022-05-13T13:35:46.314Z"
   },
   {
    "duration": 3,
    "start_time": "2022-05-13T13:35:46.330Z"
   },
   {
    "duration": 129,
    "start_time": "2022-05-13T13:35:46.335Z"
   },
   {
    "duration": 0,
    "start_time": "2022-05-13T13:35:46.466Z"
   },
   {
    "duration": 0,
    "start_time": "2022-05-13T13:35:46.467Z"
   },
   {
    "duration": 0,
    "start_time": "2022-05-13T13:35:46.468Z"
   },
   {
    "duration": 0,
    "start_time": "2022-05-13T13:35:46.469Z"
   },
   {
    "duration": 0,
    "start_time": "2022-05-13T13:35:46.470Z"
   },
   {
    "duration": 0,
    "start_time": "2022-05-13T13:35:46.472Z"
   },
   {
    "duration": 0,
    "start_time": "2022-05-13T13:35:46.473Z"
   },
   {
    "duration": 0,
    "start_time": "2022-05-13T13:35:46.474Z"
   },
   {
    "duration": 0,
    "start_time": "2022-05-13T13:35:46.476Z"
   },
   {
    "duration": 0,
    "start_time": "2022-05-13T13:35:46.477Z"
   },
   {
    "duration": 0,
    "start_time": "2022-05-13T13:35:46.478Z"
   },
   {
    "duration": 0,
    "start_time": "2022-05-13T13:35:46.507Z"
   },
   {
    "duration": 0,
    "start_time": "2022-05-13T13:35:46.508Z"
   },
   {
    "duration": 0,
    "start_time": "2022-05-13T13:35:46.509Z"
   },
   {
    "duration": 0,
    "start_time": "2022-05-13T13:35:46.510Z"
   },
   {
    "duration": 0,
    "start_time": "2022-05-13T13:35:46.511Z"
   },
   {
    "duration": 0,
    "start_time": "2022-05-13T13:35:46.513Z"
   },
   {
    "duration": 0,
    "start_time": "2022-05-13T13:35:46.514Z"
   },
   {
    "duration": 0,
    "start_time": "2022-05-13T13:35:46.515Z"
   },
   {
    "duration": 0,
    "start_time": "2022-05-13T13:35:46.516Z"
   },
   {
    "duration": 1448,
    "start_time": "2022-05-13T13:36:59.821Z"
   },
   {
    "duration": 678,
    "start_time": "2022-05-13T13:37:01.270Z"
   },
   {
    "duration": 3,
    "start_time": "2022-05-13T13:37:01.950Z"
   },
   {
    "duration": 5,
    "start_time": "2022-05-13T13:37:01.955Z"
   },
   {
    "duration": 493,
    "start_time": "2022-05-13T13:37:01.961Z"
   },
   {
    "duration": 209,
    "start_time": "2022-05-13T13:37:02.455Z"
   },
   {
    "duration": 459,
    "start_time": "2022-05-13T13:37:02.666Z"
   },
   {
    "duration": 20,
    "start_time": "2022-05-13T13:37:03.126Z"
   },
   {
    "duration": 3,
    "start_time": "2022-05-13T13:37:03.148Z"
   },
   {
    "duration": 12,
    "start_time": "2022-05-13T13:37:03.153Z"
   },
   {
    "duration": 8,
    "start_time": "2022-05-13T13:37:03.166Z"
   },
   {
    "duration": 3566,
    "start_time": "2022-05-13T13:37:03.176Z"
   },
   {
    "duration": 511,
    "start_time": "2022-05-13T13:37:06.743Z"
   },
   {
    "duration": 862,
    "start_time": "2022-05-13T13:37:07.256Z"
   },
   {
    "duration": 15,
    "start_time": "2022-05-13T13:37:08.120Z"
   },
   {
    "duration": 3,
    "start_time": "2022-05-13T13:37:08.137Z"
   },
   {
    "duration": 133,
    "start_time": "2022-05-13T13:37:08.141Z"
   },
   {
    "duration": 0,
    "start_time": "2022-05-13T13:37:08.276Z"
   },
   {
    "duration": 0,
    "start_time": "2022-05-13T13:37:08.277Z"
   },
   {
    "duration": 0,
    "start_time": "2022-05-13T13:37:08.278Z"
   },
   {
    "duration": 0,
    "start_time": "2022-05-13T13:37:08.280Z"
   },
   {
    "duration": 0,
    "start_time": "2022-05-13T13:37:08.281Z"
   },
   {
    "duration": 0,
    "start_time": "2022-05-13T13:37:08.282Z"
   },
   {
    "duration": 0,
    "start_time": "2022-05-13T13:37:08.283Z"
   },
   {
    "duration": 0,
    "start_time": "2022-05-13T13:37:08.284Z"
   },
   {
    "duration": 0,
    "start_time": "2022-05-13T13:37:08.285Z"
   },
   {
    "duration": 0,
    "start_time": "2022-05-13T13:37:08.287Z"
   },
   {
    "duration": 0,
    "start_time": "2022-05-13T13:37:08.288Z"
   },
   {
    "duration": 0,
    "start_time": "2022-05-13T13:37:08.289Z"
   },
   {
    "duration": 0,
    "start_time": "2022-05-13T13:37:08.308Z"
   },
   {
    "duration": 0,
    "start_time": "2022-05-13T13:37:08.309Z"
   },
   {
    "duration": 0,
    "start_time": "2022-05-13T13:37:08.311Z"
   },
   {
    "duration": 0,
    "start_time": "2022-05-13T13:37:08.312Z"
   },
   {
    "duration": 0,
    "start_time": "2022-05-13T13:37:08.313Z"
   },
   {
    "duration": 0,
    "start_time": "2022-05-13T13:37:08.315Z"
   },
   {
    "duration": 0,
    "start_time": "2022-05-13T13:37:08.316Z"
   },
   {
    "duration": 0,
    "start_time": "2022-05-13T13:37:08.317Z"
   },
   {
    "duration": 11,
    "start_time": "2022-05-13T13:37:23.553Z"
   },
   {
    "duration": 4,
    "start_time": "2022-05-13T13:37:23.987Z"
   },
   {
    "duration": 8,
    "start_time": "2022-05-13T13:37:52.642Z"
   },
   {
    "duration": 4,
    "start_time": "2022-05-13T13:37:53.480Z"
   },
   {
    "duration": 4,
    "start_time": "2022-05-13T13:38:00.482Z"
   },
   {
    "duration": 9,
    "start_time": "2022-05-13T13:38:23.594Z"
   },
   {
    "duration": 3,
    "start_time": "2022-05-13T13:38:24.122Z"
   },
   {
    "duration": 8,
    "start_time": "2022-05-13T13:39:22.139Z"
   },
   {
    "duration": 3,
    "start_time": "2022-05-13T13:39:22.511Z"
   },
   {
    "duration": 16,
    "start_time": "2022-05-13T14:16:03.372Z"
   },
   {
    "duration": 3,
    "start_time": "2022-05-13T14:16:04.375Z"
   },
   {
    "duration": 1174,
    "start_time": "2022-05-13T14:16:54.357Z"
   },
   {
    "duration": 0,
    "start_time": "2022-05-13T14:16:55.532Z"
   },
   {
    "duration": 6,
    "start_time": "2022-05-13T14:17:43.408Z"
   },
   {
    "duration": 1125,
    "start_time": "2022-05-13T14:18:30.335Z"
   },
   {
    "duration": 1938,
    "start_time": "2022-05-13T14:18:46.204Z"
   },
   {
    "duration": 1242,
    "start_time": "2022-05-13T14:19:07.051Z"
   },
   {
    "duration": 1084,
    "start_time": "2022-05-13T14:19:15.670Z"
   },
   {
    "duration": 1170,
    "start_time": "2022-05-13T14:19:33.919Z"
   },
   {
    "duration": 1125,
    "start_time": "2022-05-13T14:19:53.553Z"
   },
   {
    "duration": 1298,
    "start_time": "2022-05-13T14:20:00.904Z"
   },
   {
    "duration": 1269,
    "start_time": "2022-05-13T14:20:09.400Z"
   },
   {
    "duration": 1099,
    "start_time": "2022-05-13T14:20:16.130Z"
   },
   {
    "duration": 1257,
    "start_time": "2022-05-13T14:20:26.882Z"
   },
   {
    "duration": 1413,
    "start_time": "2022-05-13T14:21:00.236Z"
   },
   {
    "duration": 10,
    "start_time": "2022-05-13T14:21:09.352Z"
   },
   {
    "duration": 10,
    "start_time": "2022-05-13T14:21:22.188Z"
   },
   {
    "duration": 3,
    "start_time": "2022-05-13T14:21:37.954Z"
   },
   {
    "duration": 1768,
    "start_time": "2022-05-14T09:34:37.705Z"
   },
   {
    "duration": 671,
    "start_time": "2022-05-14T09:34:39.475Z"
   },
   {
    "duration": 3,
    "start_time": "2022-05-14T09:34:40.147Z"
   },
   {
    "duration": 6,
    "start_time": "2022-05-14T09:34:40.152Z"
   },
   {
    "duration": 494,
    "start_time": "2022-05-14T09:34:40.159Z"
   },
   {
    "duration": 222,
    "start_time": "2022-05-14T09:34:40.655Z"
   },
   {
    "duration": 471,
    "start_time": "2022-05-14T09:34:40.879Z"
   },
   {
    "duration": 20,
    "start_time": "2022-05-14T09:34:41.351Z"
   },
   {
    "duration": 3,
    "start_time": "2022-05-14T09:34:41.373Z"
   },
   {
    "duration": 13,
    "start_time": "2022-05-14T09:34:41.378Z"
   },
   {
    "duration": 6,
    "start_time": "2022-05-14T09:34:41.393Z"
   },
   {
    "duration": 3476,
    "start_time": "2022-05-14T09:34:41.401Z"
   },
   {
    "duration": 511,
    "start_time": "2022-05-14T09:34:44.879Z"
   },
   {
    "duration": 820,
    "start_time": "2022-05-14T09:34:45.392Z"
   },
   {
    "duration": 29,
    "start_time": "2022-05-14T09:34:46.214Z"
   },
   {
    "duration": 4,
    "start_time": "2022-05-14T09:34:46.244Z"
   },
   {
    "duration": 6,
    "start_time": "2022-05-14T09:34:46.249Z"
   },
   {
    "duration": 10,
    "start_time": "2022-05-14T09:34:46.256Z"
   },
   {
    "duration": 6,
    "start_time": "2022-05-14T09:34:46.268Z"
   },
   {
    "duration": 7,
    "start_time": "2022-05-14T09:34:46.276Z"
   },
   {
    "duration": 650,
    "start_time": "2022-05-14T09:34:46.285Z"
   },
   {
    "duration": 1433396,
    "start_time": "2022-05-14T09:34:46.938Z"
   },
   {
    "duration": 147026,
    "start_time": "2022-05-14T09:58:40.335Z"
   },
   {
    "duration": 6,
    "start_time": "2022-05-14T10:01:07.363Z"
   },
   {
    "duration": 10,
    "start_time": "2022-05-14T10:01:07.371Z"
   },
   {
    "duration": 1162,
    "start_time": "2022-05-14T10:01:07.382Z"
   },
   {
    "duration": 3500350,
    "start_time": "2022-05-14T10:01:08.635Z"
   },
   {
    "duration": 370916,
    "start_time": "2022-05-14T10:59:28.988Z"
   },
   {
    "duration": 3,
    "start_time": "2022-05-14T11:05:39.906Z"
   },
   {
    "duration": 29,
    "start_time": "2022-05-14T11:05:39.911Z"
   },
   {
    "duration": 5,
    "start_time": "2022-05-14T11:05:39.943Z"
   },
   {
    "duration": 9,
    "start_time": "2022-05-14T11:05:39.950Z"
   },
   {
    "duration": 1778,
    "start_time": "2022-05-14T11:05:39.961Z"
   },
   {
    "duration": 3938,
    "start_time": "2022-05-14T11:05:41.742Z"
   },
   {
    "duration": 3,
    "start_time": "2022-05-14T11:05:45.682Z"
   },
   {
    "duration": 5,
    "start_time": "2022-05-14T18:11:44.301Z"
   },
   {
    "duration": 3,
    "start_time": "2022-05-14T18:12:52.378Z"
   },
   {
    "duration": 3,
    "start_time": "2022-05-14T18:14:04.026Z"
   },
   {
    "duration": 6,
    "start_time": "2022-05-14T18:15:17.182Z"
   },
   {
    "duration": 3,
    "start_time": "2022-05-14T18:18:41.437Z"
   },
   {
    "duration": 5,
    "start_time": "2022-05-14T18:18:46.420Z"
   },
   {
    "duration": 5,
    "start_time": "2022-05-14T18:18:48.443Z"
   },
   {
    "duration": 4,
    "start_time": "2022-05-14T18:18:49.921Z"
   },
   {
    "duration": 11,
    "start_time": "2022-05-14T18:21:51.949Z"
   },
   {
    "duration": 10,
    "start_time": "2022-05-14T18:22:44.629Z"
   },
   {
    "duration": 1329,
    "start_time": "2022-06-14T19:36:51.402Z"
   },
   {
    "duration": 1961,
    "start_time": "2022-06-14T19:36:52.733Z"
   },
   {
    "duration": 3,
    "start_time": "2022-06-14T19:36:54.699Z"
   },
   {
    "duration": 29,
    "start_time": "2022-06-14T19:36:54.704Z"
   },
   {
    "duration": 466,
    "start_time": "2022-06-14T19:36:54.735Z"
   },
   {
    "duration": 210,
    "start_time": "2022-06-14T19:36:55.203Z"
   },
   {
    "duration": 516,
    "start_time": "2022-06-14T19:36:55.414Z"
   },
   {
    "duration": 19,
    "start_time": "2022-06-14T19:36:55.932Z"
   },
   {
    "duration": 3,
    "start_time": "2022-06-14T19:36:55.953Z"
   },
   {
    "duration": 33,
    "start_time": "2022-06-14T19:36:55.958Z"
   },
   {
    "duration": 7,
    "start_time": "2022-06-14T19:36:55.993Z"
   },
   {
    "duration": 3528,
    "start_time": "2022-06-14T19:36:56.002Z"
   },
   {
    "duration": 470,
    "start_time": "2022-06-14T19:36:59.531Z"
   },
   {
    "duration": 920,
    "start_time": "2022-06-14T19:37:00.003Z"
   },
   {
    "duration": 17,
    "start_time": "2022-06-14T19:37:00.925Z"
   },
   {
    "duration": 3,
    "start_time": "2022-06-14T19:37:00.944Z"
   },
   {
    "duration": 7,
    "start_time": "2022-06-14T19:37:00.948Z"
   },
   {
    "duration": 14,
    "start_time": "2022-06-14T19:37:00.956Z"
   },
   {
    "duration": 26,
    "start_time": "2022-06-14T19:37:00.972Z"
   },
   {
    "duration": 39,
    "start_time": "2022-06-14T19:37:01.000Z"
   },
   {
    "duration": 1059,
    "start_time": "2022-06-14T19:37:01.041Z"
   },
   {
    "duration": 37083,
    "start_time": "2022-06-14T19:37:02.106Z"
   },
   {
    "duration": 2649,
    "start_time": "2022-06-14T19:37:39.207Z"
   },
   {
    "duration": 6,
    "start_time": "2022-06-14T19:37:41.857Z"
   },
   {
    "duration": 31,
    "start_time": "2022-06-14T19:37:41.865Z"
   },
   {
    "duration": 2322,
    "start_time": "2022-06-14T19:37:41.898Z"
   },
   {
    "duration": 108829,
    "start_time": "2022-06-14T19:37:44.224Z"
   },
   {
    "duration": 12106,
    "start_time": "2022-06-14T19:39:33.055Z"
   },
   {
    "duration": 4,
    "start_time": "2022-06-14T19:39:45.163Z"
   },
   {
    "duration": 38,
    "start_time": "2022-06-14T19:39:45.169Z"
   },
   {
    "duration": 3,
    "start_time": "2022-06-14T19:39:45.210Z"
   },
   {
    "duration": 9,
    "start_time": "2022-06-14T19:39:45.215Z"
   },
   {
    "duration": 1420,
    "start_time": "2022-06-14T19:39:45.226Z"
   },
   {
    "duration": 2921,
    "start_time": "2022-06-14T19:39:46.648Z"
   },
   {
    "duration": 3,
    "start_time": "2022-06-14T19:39:49.571Z"
   },
   {
    "duration": 21,
    "start_time": "2022-06-14T19:39:49.576Z"
   },
   {
    "duration": 99833,
    "start_time": "2022-06-14T19:50:29.148Z"
   },
   {
    "duration": 101786,
    "start_time": "2022-06-14T19:53:50.868Z"
   }
  ],
  "kernelspec": {
   "display_name": "Python 3 (ipykernel)",
   "language": "python",
   "name": "python3"
  },
  "language_info": {
   "codemirror_mode": {
    "name": "ipython",
    "version": 3
   },
   "file_extension": ".py",
   "mimetype": "text/x-python",
   "name": "python",
   "nbconvert_exporter": "python",
   "pygments_lexer": "ipython3",
   "version": "3.9.7"
  },
  "toc": {
   "base_numbering": 1,
   "nav_menu": {},
   "number_sections": true,
   "sideBar": true,
   "skip_h1_title": true,
   "title_cell": "Содержание",
   "title_sidebar": "Contents",
   "toc_cell": true,
   "toc_position": {
    "height": "calc(100% - 180px)",
    "left": "10px",
    "top": "150px",
    "width": "175.375px"
   },
   "toc_section_display": true,
   "toc_window_display": true
  }
 },
 "nbformat": 4,
 "nbformat_minor": 2
}
