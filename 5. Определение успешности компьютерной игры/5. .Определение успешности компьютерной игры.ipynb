{
 "cells": [
  {
   "cell_type": "markdown",
   "metadata": {
    "toc": true
   },
   "source": [
    "<h1>Оглавление<span class=\"tocSkip\"></span></h1>\n",
    "<div class=\"toc\"><ul class=\"toc-item\"><li><span><a href=\"#Изучение-данных-из-файла\" data-toc-modified-id=\"Изучение-данных-из-файла-1\"><span class=\"toc-item-num\">1&nbsp;&nbsp;</span>Изучение данных из файла</a></span><ul class=\"toc-item\"><li><span><a href=\"#Вывод\" data-toc-modified-id=\"Вывод-1.1\"><span class=\"toc-item-num\">1.1&nbsp;&nbsp;</span>Вывод</a></span></li></ul></li><li><span><a href=\"#Предобработка-данных\" data-toc-modified-id=\"Предобработка-данных-2\"><span class=\"toc-item-num\">2&nbsp;&nbsp;</span>Предобработка данных</a></span><ul class=\"toc-item\"><li><span><a href=\"#Вывод\" data-toc-modified-id=\"Вывод-2.1\"><span class=\"toc-item-num\">2.1&nbsp;&nbsp;</span>Вывод</a></span></li></ul></li><li><span><a href=\"#Расчёты-и-добавление-результатов-в-таблицу\" data-toc-modified-id=\"Расчёты-и-добавление-результатов-в-таблицу-3\"><span class=\"toc-item-num\">3&nbsp;&nbsp;</span>Расчёты и добавление результатов в таблицу</a></span><ul class=\"toc-item\"><li><span><a href=\"#Вывод\" data-toc-modified-id=\"Вывод-3.1\"><span class=\"toc-item-num\">3.1&nbsp;&nbsp;</span>Вывод</a></span></li></ul></li><li><span><a href=\"#Исследовательский-анализ-данных\" data-toc-modified-id=\"Исследовательский-анализ-данных-4\"><span class=\"toc-item-num\">4&nbsp;&nbsp;</span>Исследовательский анализ данных</a></span><ul class=\"toc-item\"><li><span><a href=\"#Вывод\" data-toc-modified-id=\"Вывод-4.1\"><span class=\"toc-item-num\">4.1&nbsp;&nbsp;</span>Вывод</a></span></li></ul></li><li><span><a href=\"#Портрет-пользователя-каждого-региона\" data-toc-modified-id=\"Портрет-пользователя-каждого-региона-5\"><span class=\"toc-item-num\">5&nbsp;&nbsp;</span>Портрет пользователя каждого региона</a></span><ul class=\"toc-item\"><li><span><a href=\"#Вывод\" data-toc-modified-id=\"Вывод-5.1\"><span class=\"toc-item-num\">5.1&nbsp;&nbsp;</span>Вывод</a></span></li></ul></li><li><span><a href=\"#Проверка-гипотез\" data-toc-modified-id=\"Проверка-гипотез-6\"><span class=\"toc-item-num\">6&nbsp;&nbsp;</span>Проверка гипотез</a></span><ul class=\"toc-item\"><li><ul class=\"toc-item\"><li><span><a href=\"#Гипотеза:-Средние-пользовательские-рейтинги-платформ-Xbox-One-и-PC-одинаковые\" data-toc-modified-id=\"Гипотеза:-Средние-пользовательские-рейтинги-платформ-Xbox-One-и-PC-одинаковые-6.0.1\"><span class=\"toc-item-num\">6.0.1&nbsp;&nbsp;</span>Гипотеза: Средние пользовательские рейтинги платформ Xbox One и PC одинаковые</a></span></li><li><span><a href=\"#Гипотеза:-Средние-пользовательские-рейтинги-жанров-Action-(англ.-«действие»,-экшен-игры)-и-Sports-(англ.-«спортивные-соревнования»)-разные\" data-toc-modified-id=\"Гипотеза:-Средние-пользовательские-рейтинги-жанров-Action-(англ.-«действие»,-экшен-игры)-и-Sports-(англ.-«спортивные-соревнования»)-разные-6.0.2\"><span class=\"toc-item-num\">6.0.2&nbsp;&nbsp;</span>Гипотеза: Средние пользовательские рейтинги жанров Action (англ. «действие», экшен-игры) и Sports (англ. «спортивные соревнования») разные</a></span></li></ul></li></ul></li><li><span><a href=\"#Общий-вывод\" data-toc-modified-id=\"Общий-вывод-7\"><span class=\"toc-item-num\">7&nbsp;&nbsp;</span>Общий вывод</a></span></li><li><span><a href=\"#Чек-лист-готовности-проекта\" data-toc-modified-id=\"Чек-лист-готовности-проекта-8\"><span class=\"toc-item-num\">8&nbsp;&nbsp;</span>Чек-лист готовности проекта</a></span></li></ul></div>"
   ]
  },
  {
   "cell_type": "markdown",
   "metadata": {},
   "source": [
    "# Анализ данных интернет-магазина компьютерных игр \"Стримчик\"\n",
    "\n",
    "Вы работаете в интернет-магазине «Стримчик», который продаёт по всему миру компьютерные игры. Из открытых источников доступны исторические данные о продажах игр, оценки пользователей и экспертов, жанры и платформы (например, Xbox или PlayStation). Вам нужно выявить определяющие успешность игры закономерности. Это позволит сделать ставку на потенциально популярный продукт и спланировать рекламные кампании.\n",
    "Перед вами данные до 2016 года. Представим, что сейчас декабрь 2016 г., и вы планируете кампанию на 2017-й. Нужно отработать принцип работы с данными. Неважно, прогнозируете ли вы продажи на 2017 год по данным 2016-го или же 2027-й — по данным 2026 года.\n",
    "В наборе данных попадается аббревиатура ESRB (Entertainment Software Rating Board) — это ассоциация, определяющая возрастной рейтинг компьютерных игр. ESRB оценивает игровой контент и присваивает ему подходящую возрастную категорию, например, «Для взрослых», «Для детей младшего возраста» или «Для подростков»."
   ]
  },
  {
   "cell_type": "markdown",
   "metadata": {},
   "source": [
    "### Описание данных <a class=\"tocSkip\">"
   ]
  },
  {
   "cell_type": "markdown",
   "metadata": {},
   "source": [
    "<div style=\"border:solid green 5px; padding: 16px; border-radius: 10px\">\n",
    "<br>Name — название игры\n",
    "<br>Platform — платформа\n",
    "<br>Year_of_Release — год выпуска\n",
    "<br>Genre — жанр игры\n",
    "<br>NA_sales — продажи в Северной Америке (миллионы проданных копий)\n",
    "<br>EU_sales — продажи в Европе (миллионы проданных копий)\n",
    "<br>JP_sales — продажи в Японии (миллионы проданных копий)\n",
    "<br>Other_sales — продажи в других странах (миллионы проданных копий)\n",
    "<br>Critic_Score — оценка критиков (максимум 100)\n",
    "<br>User_Score — оценка пользователей (максимум 10)\n",
    "<br>Rating — рейтинг от организации ESRB (англ. Entertainment Software Rating Board). Эта ассоциация определяет рейтинг компьютерных игр и присваивает им подходящую возрастную категорию.\n",
    "</div>"
   ]
  },
  {
   "cell_type": "markdown",
   "metadata": {},
   "source": [
    "## Изучение данных из файла"
   ]
  },
  {
   "cell_type": "code",
   "execution_count": 1,
   "metadata": {},
   "outputs": [],
   "source": [
    "import numpy as np\n",
    "import pandas as pd\n",
    "import matplotlib.pyplot as plt\n",
    "from scipy import stats as st\n",
    "pd.set_option('display.max_columns', None) #выведем все столбцы таблицы на экран\n",
    "import seaborn as sns"
   ]
  },
  {
   "cell_type": "code",
   "execution_count": 2,
   "metadata": {
    "scrolled": false
   },
   "outputs": [
    {
     "data": {
      "text/html": [
       "<div>\n",
       "<style scoped>\n",
       "    .dataframe tbody tr th:only-of-type {\n",
       "        vertical-align: middle;\n",
       "    }\n",
       "\n",
       "    .dataframe tbody tr th {\n",
       "        vertical-align: top;\n",
       "    }\n",
       "\n",
       "    .dataframe thead th {\n",
       "        text-align: right;\n",
       "    }\n",
       "</style>\n",
       "<table border=\"1\" class=\"dataframe\">\n",
       "  <thead>\n",
       "    <tr style=\"text-align: right;\">\n",
       "      <th></th>\n",
       "      <th>Name</th>\n",
       "      <th>Platform</th>\n",
       "      <th>Year_of_Release</th>\n",
       "      <th>Genre</th>\n",
       "      <th>NA_sales</th>\n",
       "      <th>EU_sales</th>\n",
       "      <th>JP_sales</th>\n",
       "      <th>Other_sales</th>\n",
       "      <th>Critic_Score</th>\n",
       "      <th>User_Score</th>\n",
       "      <th>Rating</th>\n",
       "    </tr>\n",
       "  </thead>\n",
       "  <tbody>\n",
       "    <tr>\n",
       "      <th>0</th>\n",
       "      <td>Wii Sports</td>\n",
       "      <td>Wii</td>\n",
       "      <td>2006.0</td>\n",
       "      <td>Sports</td>\n",
       "      <td>41.36</td>\n",
       "      <td>28.96</td>\n",
       "      <td>3.77</td>\n",
       "      <td>8.45</td>\n",
       "      <td>76.0</td>\n",
       "      <td>8</td>\n",
       "      <td>E</td>\n",
       "    </tr>\n",
       "    <tr>\n",
       "      <th>1</th>\n",
       "      <td>Super Mario Bros.</td>\n",
       "      <td>NES</td>\n",
       "      <td>1985.0</td>\n",
       "      <td>Platform</td>\n",
       "      <td>29.08</td>\n",
       "      <td>3.58</td>\n",
       "      <td>6.81</td>\n",
       "      <td>0.77</td>\n",
       "      <td>NaN</td>\n",
       "      <td>NaN</td>\n",
       "      <td>NaN</td>\n",
       "    </tr>\n",
       "    <tr>\n",
       "      <th>2</th>\n",
       "      <td>Mario Kart Wii</td>\n",
       "      <td>Wii</td>\n",
       "      <td>2008.0</td>\n",
       "      <td>Racing</td>\n",
       "      <td>15.68</td>\n",
       "      <td>12.76</td>\n",
       "      <td>3.79</td>\n",
       "      <td>3.29</td>\n",
       "      <td>82.0</td>\n",
       "      <td>8.3</td>\n",
       "      <td>E</td>\n",
       "    </tr>\n",
       "    <tr>\n",
       "      <th>3</th>\n",
       "      <td>Wii Sports Resort</td>\n",
       "      <td>Wii</td>\n",
       "      <td>2009.0</td>\n",
       "      <td>Sports</td>\n",
       "      <td>15.61</td>\n",
       "      <td>10.93</td>\n",
       "      <td>3.28</td>\n",
       "      <td>2.95</td>\n",
       "      <td>80.0</td>\n",
       "      <td>8</td>\n",
       "      <td>E</td>\n",
       "    </tr>\n",
       "    <tr>\n",
       "      <th>4</th>\n",
       "      <td>Pokemon Red/Pokemon Blue</td>\n",
       "      <td>GB</td>\n",
       "      <td>1996.0</td>\n",
       "      <td>Role-Playing</td>\n",
       "      <td>11.27</td>\n",
       "      <td>8.89</td>\n",
       "      <td>10.22</td>\n",
       "      <td>1.00</td>\n",
       "      <td>NaN</td>\n",
       "      <td>NaN</td>\n",
       "      <td>NaN</td>\n",
       "    </tr>\n",
       "    <tr>\n",
       "      <th>...</th>\n",
       "      <td>...</td>\n",
       "      <td>...</td>\n",
       "      <td>...</td>\n",
       "      <td>...</td>\n",
       "      <td>...</td>\n",
       "      <td>...</td>\n",
       "      <td>...</td>\n",
       "      <td>...</td>\n",
       "      <td>...</td>\n",
       "      <td>...</td>\n",
       "      <td>...</td>\n",
       "    </tr>\n",
       "    <tr>\n",
       "      <th>16710</th>\n",
       "      <td>Samurai Warriors: Sanada Maru</td>\n",
       "      <td>PS3</td>\n",
       "      <td>2016.0</td>\n",
       "      <td>Action</td>\n",
       "      <td>0.00</td>\n",
       "      <td>0.00</td>\n",
       "      <td>0.01</td>\n",
       "      <td>0.00</td>\n",
       "      <td>NaN</td>\n",
       "      <td>NaN</td>\n",
       "      <td>NaN</td>\n",
       "    </tr>\n",
       "    <tr>\n",
       "      <th>16711</th>\n",
       "      <td>LMA Manager 2007</td>\n",
       "      <td>X360</td>\n",
       "      <td>2006.0</td>\n",
       "      <td>Sports</td>\n",
       "      <td>0.00</td>\n",
       "      <td>0.01</td>\n",
       "      <td>0.00</td>\n",
       "      <td>0.00</td>\n",
       "      <td>NaN</td>\n",
       "      <td>NaN</td>\n",
       "      <td>NaN</td>\n",
       "    </tr>\n",
       "    <tr>\n",
       "      <th>16712</th>\n",
       "      <td>Haitaka no Psychedelica</td>\n",
       "      <td>PSV</td>\n",
       "      <td>2016.0</td>\n",
       "      <td>Adventure</td>\n",
       "      <td>0.00</td>\n",
       "      <td>0.00</td>\n",
       "      <td>0.01</td>\n",
       "      <td>0.00</td>\n",
       "      <td>NaN</td>\n",
       "      <td>NaN</td>\n",
       "      <td>NaN</td>\n",
       "    </tr>\n",
       "    <tr>\n",
       "      <th>16713</th>\n",
       "      <td>Spirits &amp; Spells</td>\n",
       "      <td>GBA</td>\n",
       "      <td>2003.0</td>\n",
       "      <td>Platform</td>\n",
       "      <td>0.01</td>\n",
       "      <td>0.00</td>\n",
       "      <td>0.00</td>\n",
       "      <td>0.00</td>\n",
       "      <td>NaN</td>\n",
       "      <td>NaN</td>\n",
       "      <td>NaN</td>\n",
       "    </tr>\n",
       "    <tr>\n",
       "      <th>16714</th>\n",
       "      <td>Winning Post 8 2016</td>\n",
       "      <td>PSV</td>\n",
       "      <td>2016.0</td>\n",
       "      <td>Simulation</td>\n",
       "      <td>0.00</td>\n",
       "      <td>0.00</td>\n",
       "      <td>0.01</td>\n",
       "      <td>0.00</td>\n",
       "      <td>NaN</td>\n",
       "      <td>NaN</td>\n",
       "      <td>NaN</td>\n",
       "    </tr>\n",
       "  </tbody>\n",
       "</table>\n",
       "<p>16715 rows × 11 columns</p>\n",
       "</div>"
      ],
      "text/plain": [
       "                                Name Platform  Year_of_Release         Genre  \\\n",
       "0                         Wii Sports      Wii           2006.0        Sports   \n",
       "1                  Super Mario Bros.      NES           1985.0      Platform   \n",
       "2                     Mario Kart Wii      Wii           2008.0        Racing   \n",
       "3                  Wii Sports Resort      Wii           2009.0        Sports   \n",
       "4           Pokemon Red/Pokemon Blue       GB           1996.0  Role-Playing   \n",
       "...                              ...      ...              ...           ...   \n",
       "16710  Samurai Warriors: Sanada Maru      PS3           2016.0        Action   \n",
       "16711               LMA Manager 2007     X360           2006.0        Sports   \n",
       "16712        Haitaka no Psychedelica      PSV           2016.0     Adventure   \n",
       "16713               Spirits & Spells      GBA           2003.0      Platform   \n",
       "16714            Winning Post 8 2016      PSV           2016.0    Simulation   \n",
       "\n",
       "       NA_sales  EU_sales  JP_sales  Other_sales  Critic_Score User_Score  \\\n",
       "0         41.36     28.96      3.77         8.45          76.0          8   \n",
       "1         29.08      3.58      6.81         0.77           NaN        NaN   \n",
       "2         15.68     12.76      3.79         3.29          82.0        8.3   \n",
       "3         15.61     10.93      3.28         2.95          80.0          8   \n",
       "4         11.27      8.89     10.22         1.00           NaN        NaN   \n",
       "...         ...       ...       ...          ...           ...        ...   \n",
       "16710      0.00      0.00      0.01         0.00           NaN        NaN   \n",
       "16711      0.00      0.01      0.00         0.00           NaN        NaN   \n",
       "16712      0.00      0.00      0.01         0.00           NaN        NaN   \n",
       "16713      0.01      0.00      0.00         0.00           NaN        NaN   \n",
       "16714      0.00      0.00      0.01         0.00           NaN        NaN   \n",
       "\n",
       "      Rating  \n",
       "0          E  \n",
       "1        NaN  \n",
       "2          E  \n",
       "3          E  \n",
       "4        NaN  \n",
       "...      ...  \n",
       "16710    NaN  \n",
       "16711    NaN  \n",
       "16712    NaN  \n",
       "16713    NaN  \n",
       "16714    NaN  \n",
       "\n",
       "[16715 rows x 11 columns]"
      ]
     },
     "execution_count": 2,
     "metadata": {},
     "output_type": "execute_result"
    }
   ],
   "source": [
    "data = pd.read_csv(\"/datasets/games.csv\") #Выведем таблицу на экран\n",
    "data"
   ]
  },
  {
   "cell_type": "markdown",
   "metadata": {},
   "source": [
    "<div style=\"border:solid green 5px; padding: 4px; border-radius: 10px\">\n",
    "<br> Нужно привести все столбцы к нижнему регистру \n"
   ]
  },
  {
   "cell_type": "code",
   "execution_count": 3,
   "metadata": {
    "scrolled": true
   },
   "outputs": [
    {
     "name": "stdout",
     "output_type": "stream",
     "text": [
      "<class 'pandas.core.frame.DataFrame'>\n",
      "RangeIndex: 16715 entries, 0 to 16714\n",
      "Data columns (total 11 columns):\n",
      " #   Column           Non-Null Count  Dtype  \n",
      "---  ------           --------------  -----  \n",
      " 0   Name             16713 non-null  object \n",
      " 1   Platform         16715 non-null  object \n",
      " 2   Year_of_Release  16446 non-null  float64\n",
      " 3   Genre            16713 non-null  object \n",
      " 4   NA_sales         16715 non-null  float64\n",
      " 5   EU_sales         16715 non-null  float64\n",
      " 6   JP_sales         16715 non-null  float64\n",
      " 7   Other_sales      16715 non-null  float64\n",
      " 8   Critic_Score     8137 non-null   float64\n",
      " 9   User_Score       10014 non-null  object \n",
      " 10  Rating           9949 non-null   object \n",
      "dtypes: float64(6), object(5)\n",
      "memory usage: 5.6 MB\n"
     ]
    }
   ],
   "source": [
    "data.info(memory_usage='deep') #Посмотрим общую информацию о таблице"
   ]
  },
  {
   "cell_type": "markdown",
   "metadata": {},
   "source": [
    "<div style=\"border:solid green 5px; padding: 16px; border-radius: 10px\">\n",
    "<br> Year_of_Release - перевести в формат int\n",
    "<br> User_Score - изменить тип данных на float64"
   ]
  },
  {
   "cell_type": "code",
   "execution_count": 4,
   "metadata": {
    "scrolled": false
   },
   "outputs": [
    {
     "data": {
      "text/plain": [
       "Name               0.000120\n",
       "Platform           0.000000\n",
       "Year_of_Release    0.016093\n",
       "Genre              0.000120\n",
       "NA_sales           0.000000\n",
       "EU_sales           0.000000\n",
       "JP_sales           0.000000\n",
       "Other_sales        0.000000\n",
       "Critic_Score       0.513192\n",
       "User_Score         0.400897\n",
       "Rating             0.404786\n",
       "dtype: float64"
      ]
     },
     "execution_count": 4,
     "metadata": {},
     "output_type": "execute_result"
    }
   ],
   "source": [
    "data.isna().mean() #Посмотрим количество пропусков"
   ]
  },
  {
   "cell_type": "markdown",
   "metadata": {},
   "source": [
    "<div style=\"border:solid green 5px; padding: 16px; border-radius: 10px\">\n",
    "<br> Name - меньше 1% пропусков\n",
    "<br> Year_of_Release - 1,6% пропусков\n",
    "<br> Genre - меньше 1% пропусков\n",
    "<br> Critic_Score - 51% пропусков\n",
    "<br> User_Score - 40% пропусков\n",
    "<br> Rating - 40,5%"
   ]
  },
  {
   "cell_type": "code",
   "execution_count": 5,
   "metadata": {},
   "outputs": [
    {
     "data": {
      "text/html": [
       "<div>\n",
       "<style scoped>\n",
       "    .dataframe tbody tr th:only-of-type {\n",
       "        vertical-align: middle;\n",
       "    }\n",
       "\n",
       "    .dataframe tbody tr th {\n",
       "        vertical-align: top;\n",
       "    }\n",
       "\n",
       "    .dataframe thead th {\n",
       "        text-align: right;\n",
       "    }\n",
       "</style>\n",
       "<table border=\"1\" class=\"dataframe\">\n",
       "  <thead>\n",
       "    <tr style=\"text-align: right;\">\n",
       "      <th></th>\n",
       "      <th>count</th>\n",
       "      <th>mean</th>\n",
       "      <th>std</th>\n",
       "      <th>min</th>\n",
       "      <th>25%</th>\n",
       "      <th>50%</th>\n",
       "      <th>75%</th>\n",
       "      <th>max</th>\n",
       "    </tr>\n",
       "  </thead>\n",
       "  <tbody>\n",
       "    <tr>\n",
       "      <th>Year_of_Release</th>\n",
       "      <td>16446.0</td>\n",
       "      <td>2006.484616</td>\n",
       "      <td>5.877050</td>\n",
       "      <td>1980.0</td>\n",
       "      <td>2003.0</td>\n",
       "      <td>2007.00</td>\n",
       "      <td>2010.00</td>\n",
       "      <td>2016.00</td>\n",
       "    </tr>\n",
       "    <tr>\n",
       "      <th>NA_sales</th>\n",
       "      <td>16715.0</td>\n",
       "      <td>0.263377</td>\n",
       "      <td>0.813604</td>\n",
       "      <td>0.0</td>\n",
       "      <td>0.0</td>\n",
       "      <td>0.08</td>\n",
       "      <td>0.24</td>\n",
       "      <td>41.36</td>\n",
       "    </tr>\n",
       "    <tr>\n",
       "      <th>EU_sales</th>\n",
       "      <td>16715.0</td>\n",
       "      <td>0.145060</td>\n",
       "      <td>0.503339</td>\n",
       "      <td>0.0</td>\n",
       "      <td>0.0</td>\n",
       "      <td>0.02</td>\n",
       "      <td>0.11</td>\n",
       "      <td>28.96</td>\n",
       "    </tr>\n",
       "    <tr>\n",
       "      <th>JP_sales</th>\n",
       "      <td>16715.0</td>\n",
       "      <td>0.077617</td>\n",
       "      <td>0.308853</td>\n",
       "      <td>0.0</td>\n",
       "      <td>0.0</td>\n",
       "      <td>0.00</td>\n",
       "      <td>0.04</td>\n",
       "      <td>10.22</td>\n",
       "    </tr>\n",
       "    <tr>\n",
       "      <th>Other_sales</th>\n",
       "      <td>16715.0</td>\n",
       "      <td>0.047342</td>\n",
       "      <td>0.186731</td>\n",
       "      <td>0.0</td>\n",
       "      <td>0.0</td>\n",
       "      <td>0.01</td>\n",
       "      <td>0.03</td>\n",
       "      <td>10.57</td>\n",
       "    </tr>\n",
       "    <tr>\n",
       "      <th>Critic_Score</th>\n",
       "      <td>8137.0</td>\n",
       "      <td>68.967679</td>\n",
       "      <td>13.938165</td>\n",
       "      <td>13.0</td>\n",
       "      <td>60.0</td>\n",
       "      <td>71.00</td>\n",
       "      <td>79.00</td>\n",
       "      <td>98.00</td>\n",
       "    </tr>\n",
       "  </tbody>\n",
       "</table>\n",
       "</div>"
      ],
      "text/plain": [
       "                   count         mean        std     min     25%      50%  \\\n",
       "Year_of_Release  16446.0  2006.484616   5.877050  1980.0  2003.0  2007.00   \n",
       "NA_sales         16715.0     0.263377   0.813604     0.0     0.0     0.08   \n",
       "EU_sales         16715.0     0.145060   0.503339     0.0     0.0     0.02   \n",
       "JP_sales         16715.0     0.077617   0.308853     0.0     0.0     0.00   \n",
       "Other_sales      16715.0     0.047342   0.186731     0.0     0.0     0.01   \n",
       "Critic_Score      8137.0    68.967679  13.938165    13.0    60.0    71.00   \n",
       "\n",
       "                     75%      max  \n",
       "Year_of_Release  2010.00  2016.00  \n",
       "NA_sales            0.24    41.36  \n",
       "EU_sales            0.11    28.96  \n",
       "JP_sales            0.04    10.22  \n",
       "Other_sales         0.03    10.57  \n",
       "Critic_Score       79.00    98.00  "
      ]
     },
     "execution_count": 5,
     "metadata": {},
     "output_type": "execute_result"
    }
   ],
   "source": [
    "data.describe().T #Посмотрим данные о таблице"
   ]
  },
  {
   "cell_type": "markdown",
   "metadata": {},
   "source": [
    "<div style=\"border:solid green 5px; padding: 16px; border-radius: 10px\">\n",
    "<br> NA_sales - большая разница между средним и медианным значениями, это говорит об имеющихся выбросах в данных.\n",
    "<br> EU_sales - большая разница между средним и медианным значениями, это говорит об имеющихся выбросах в данных.\n",
    "    <br> Все остальные данные выглядят хорошо"
   ]
  },
  {
   "cell_type": "markdown",
   "metadata": {},
   "source": [
    "### Вывод"
   ]
  },
  {
   "cell_type": "markdown",
   "metadata": {},
   "source": [
    "Основная проблема данных - большое количество пропусков, нужно будет подрбно рассмотреть проблемные столбцы и принять решение по замене пропущенных значений. Также нужно будет привести названия столбцов к нижнему регистру, частично заменить тип данных и внимательно рассмотреть NA_sales и EU_sales на выбросы."
   ]
  },
  {
   "cell_type": "markdown",
   "metadata": {},
   "source": [
    "## Предобработка данных"
   ]
  },
  {
   "cell_type": "code",
   "execution_count": 6,
   "metadata": {
    "scrolled": true
   },
   "outputs": [],
   "source": [
    "#Приведем все столбцы к нижнему регистру\n",
    "data.columns = data.columns.str.lower()"
   ]
  },
  {
   "cell_type": "code",
   "execution_count": 7,
   "metadata": {},
   "outputs": [
    {
     "data": {
      "text/plain": [
       "0"
      ]
     },
     "execution_count": 7,
     "metadata": {},
     "output_type": "execute_result"
    }
   ],
   "source": [
    "#Year_of_Release - рассмотрим пропуски в столбце и переведем в формат int\n",
    "data[data['year_of_release'].isna()] # 269 пропусков и нет никаких закономерностей. Заменим пропуски на 0 и переведем в формат int\n",
    "data['year_of_release'] = data['year_of_release'].fillna(0).astype('int')\n",
    "data[data['year_of_release'].isna()]['year_of_release'].count()\n",
    "#sorted(data['year_of_release'].unique())"
   ]
  },
  {
   "cell_type": "markdown",
   "metadata": {},
   "source": [
    "<div class=\"alert alert-block alert-warning\">\n",
    "<b> ⚠️ Совет: </b> Можно было удалить эти строки. 269 строчек не критичное значения для данных. Так же в таких случаях, когда ты ставишь заглушку, надо всегда помнить о ней, чтобы исключать при анализе.\n",
    "</div>"
   ]
  },
  {
   "cell_type": "markdown",
   "metadata": {},
   "source": [
    "<div class=\"alert alert-block alert-info\">\n",
    "<br>Я всегда исхожу из того, что если данные не мешают, то и не зачем их удалять. Дургие столбцы этих строк могут дать нужную информацию, а проект не настолько объемен, чтобы забыть об этой замене. \n",
    "</div>"
   ]
  },
  {
   "cell_type": "code",
   "execution_count": 8,
   "metadata": {},
   "outputs": [
    {
     "data": {
      "text/plain": [
       "array(['0', '0.2', '0.3', '0.5', '0.6', '0.7', '0.9', '1', '1.1', '1.2',\n",
       "       '1.3', '1.4', '1.5', '1.6', '1.7', '1.8', '1.9', '2', '2.1', '2.2',\n",
       "       '2.3', '2.4', '2.5', '2.6', '2.7', '2.8', '2.9', '3', '3.1', '3.2',\n",
       "       '3.3', '3.4', '3.5', '3.6', '3.7', '3.8', '3.9', '4', '4.1', '4.2',\n",
       "       '4.3', '4.4', '4.5', '4.6', '4.7', '4.8', '4.9', '5', '5.1', '5.2',\n",
       "       '5.3', '5.4', '5.5', '5.6', '5.7', '5.8', '5.9', '6', '6.1', '6.2',\n",
       "       '6.3', '6.4', '6.5', '6.6', '6.7', '6.8', '6.9', '7', '7.1', '7.2',\n",
       "       '7.3', '7.4', '7.5', '7.6', '7.7', '7.8', '7.9', '8', '8.1', '8.2',\n",
       "       '8.3', '8.4', '8.5', '8.6', '8.7', '8.8', '8.9', '9', '9.1', '9.2',\n",
       "       '9.3', '9.4', '9.5', '9.6', '9.7', 'tbd', nan], dtype=object)"
      ]
     },
     "execution_count": 8,
     "metadata": {},
     "output_type": "execute_result"
    }
   ],
   "source": [
    "#User_Score - изменить тип данных на float64\n",
    "#data['user_score'] = data['user_score'].astype('float64')\n",
    "data['user_score'].sort_values().unique()"
   ]
  },
  {
   "cell_type": "markdown",
   "metadata": {},
   "source": [
    "<div style=\"border:solid green 5px; padding: 16px; border-radius: 10px\">\n",
    "    Из того что я нашел в интернете:\n",
    "<br>TBD - аббревиатура от английского To Be Determined (будет определено) или To Be Decided (будет решено). Используется, если какая-то информация еще не определена или решение по вопросу не принято. Акроним служит для отметки неясностей или пропусков, которые надо заполнить, в информации требований.\n",
    "    <br>Получается оценки по игре еще нет, соответственно, заполняем ее 0"
   ]
  },
  {
   "cell_type": "code",
   "execution_count": 9,
   "metadata": {},
   "outputs": [
    {
     "data": {
      "text/plain": [
       "array([0. , 0.2, 0.3, 0.5, 0.6, 0.7, 0.9, 1. , 1.1, 1.2, 1.3, 1.4, 1.5,\n",
       "       1.6, 1.7, 1.8, 1.9, 2. , 2.1, 2.2, 2.3, 2.4, 2.5, 2.6, 2.7, 2.8,\n",
       "       2.9, 3. , 3.1, 3.2, 3.3, 3.4, 3.5, 3.6, 3.7, 3.8, 3.9, 4. , 4.1,\n",
       "       4.2, 4.3, 4.4, 4.5, 4.6, 4.7, 4.8, 4.9, 5. , 5.1, 5.2, 5.3, 5.4,\n",
       "       5.5, 5.6, 5.7, 5.8, 5.9, 6. , 6.1, 6.2, 6.3, 6.4, 6.5, 6.6, 6.7,\n",
       "       6.8, 6.9, 7. , 7.1, 7.2, 7.3, 7.4, 7.5, 7.6, 7.7, 7.8, 7.9, 8. ,\n",
       "       8.1, 8.2, 8.3, 8.4, 8.5, 8.6, 8.7, 8.8, 8.9, 9. , 9.1, 9.2, 9.3,\n",
       "       9.4, 9.5, 9.6, 9.7, nan])"
      ]
     },
     "execution_count": 9,
     "metadata": {},
     "output_type": "execute_result"
    }
   ],
   "source": [
    "data['user_score'] = data['user_score'].replace('tbd', np.nan)\n",
    "data['user_score'] = data['user_score'].astype('float64') #изменим тип данных на float64\n",
    "data['user_score'].sort_values().unique()"
   ]
  },
  {
   "cell_type": "code",
   "execution_count": 10,
   "metadata": {
    "scrolled": true
   },
   "outputs": [
    {
     "name": "stdout",
     "output_type": "stream",
     "text": [
      "Количество пропусков в столбце user_score: 9123\n",
      "Количество пропусков в столбце critic_score: 8576\n",
      "Количество пропусков в столбце rating: 6764\n",
      "Общее количество пропусков в столбцах user_score и critic_score: 8003\n",
      "Общее количество пропусков в столбцах user_score, critic_score и rating: 6665\n"
     ]
    }
   ],
   "source": [
    "#Теперь нужно изучить пропуски в этом же столбцах user_score, critic_score и rating\n",
    "print('Количество пропусков в столбце user_score:', data[data['user_score'].isna()]['name'].count())\n",
    "print('Количество пропусков в столбце critic_score:', data[data['critic_score'].isna()]['name'].count())\n",
    "print('Количество пропусков в столбце rating:', data[data['rating'].isna()]['name'].count())\n",
    "print('Общее количество пропусков в столбцах user_score и critic_score:', \n",
    "      data[ data['critic_score'].isna() & data['user_score'].isna()]['name'].count())\n",
    "print('Общее количество пропусков в столбцах user_score, critic_score и rating:', \n",
    "      data[ data['critic_score'].isna() & data['user_score'].isna() & data['rating'].isna()]['name'].count())"
   ]
  },
  {
   "cell_type": "markdown",
   "metadata": {},
   "source": [
    "<div style=\"border:solid green 5px; padding: 16px; border-radius: 10px\">   \n",
    "<br> Практически все пропуски по трем оценкам сопадают (6619 общих пропусков из 8576 возможных). При таких обстоятельствах, лучше оставить эти пропуски на своих местах. Любое изменение может исказить результаты исследования. Но будем иметь ввиду, что у нас такое количество значений пропущено и при необходимости произведем замену на нужную величину. Поскольку в столбце rating данные имеют тип object, в нем пропуски заменим на 'unknown'."
   ]
  },
  {
   "cell_type": "code",
   "execution_count": 11,
   "metadata": {},
   "outputs": [],
   "source": [
    "#Заменим пропуски на unknown\n",
    "data['rating']=data['rating'].fillna('unknown')"
   ]
  },
  {
   "cell_type": "code",
   "execution_count": 12,
   "metadata": {},
   "outputs": [
    {
     "data": {
      "text/html": [
       "<div>\n",
       "<style scoped>\n",
       "    .dataframe tbody tr th:only-of-type {\n",
       "        vertical-align: middle;\n",
       "    }\n",
       "\n",
       "    .dataframe tbody tr th {\n",
       "        vertical-align: top;\n",
       "    }\n",
       "\n",
       "    .dataframe thead th {\n",
       "        text-align: right;\n",
       "    }\n",
       "</style>\n",
       "<table border=\"1\" class=\"dataframe\">\n",
       "  <thead>\n",
       "    <tr style=\"text-align: right;\">\n",
       "      <th></th>\n",
       "      <th>name</th>\n",
       "      <th>platform</th>\n",
       "      <th>year_of_release</th>\n",
       "      <th>genre</th>\n",
       "      <th>na_sales</th>\n",
       "      <th>eu_sales</th>\n",
       "      <th>jp_sales</th>\n",
       "      <th>other_sales</th>\n",
       "      <th>critic_score</th>\n",
       "      <th>user_score</th>\n",
       "      <th>rating</th>\n",
       "    </tr>\n",
       "  </thead>\n",
       "  <tbody>\n",
       "    <tr>\n",
       "      <th>659</th>\n",
       "      <td>NaN</td>\n",
       "      <td>GEN</td>\n",
       "      <td>1993</td>\n",
       "      <td>NaN</td>\n",
       "      <td>1.78</td>\n",
       "      <td>0.53</td>\n",
       "      <td>0.00</td>\n",
       "      <td>0.08</td>\n",
       "      <td>NaN</td>\n",
       "      <td>NaN</td>\n",
       "      <td>unknown</td>\n",
       "    </tr>\n",
       "    <tr>\n",
       "      <th>14244</th>\n",
       "      <td>NaN</td>\n",
       "      <td>GEN</td>\n",
       "      <td>1993</td>\n",
       "      <td>NaN</td>\n",
       "      <td>0.00</td>\n",
       "      <td>0.00</td>\n",
       "      <td>0.03</td>\n",
       "      <td>0.00</td>\n",
       "      <td>NaN</td>\n",
       "      <td>NaN</td>\n",
       "      <td>unknown</td>\n",
       "    </tr>\n",
       "  </tbody>\n",
       "</table>\n",
       "</div>"
      ],
      "text/plain": [
       "      name platform  year_of_release genre  na_sales  eu_sales  jp_sales  \\\n",
       "659    NaN      GEN             1993   NaN      1.78      0.53      0.00   \n",
       "14244  NaN      GEN             1993   NaN      0.00      0.00      0.03   \n",
       "\n",
       "       other_sales  critic_score  user_score   rating  \n",
       "659           0.08           NaN         NaN  unknown  \n",
       "14244         0.00           NaN         NaN  unknown  "
      ]
     },
     "metadata": {},
     "output_type": "display_data"
    },
    {
     "data": {
      "text/plain": [
       "0"
      ]
     },
     "execution_count": 12,
     "metadata": {},
     "output_type": "execute_result"
    }
   ],
   "source": [
    "# Name - рассмотрим пропуски в столбце\n",
    "display(data[data['name'].isna()]) #Всего 2 строки и 1 одной из них практически нет продаж. Удалим их.\n",
    "data=data.dropna(subset=['name']).reset_index(drop=True)\n",
    "data[data['name'].isna()]['name'].count()"
   ]
  },
  {
   "cell_type": "code",
   "execution_count": 13,
   "metadata": {
    "scrolled": true
   },
   "outputs": [
    {
     "data": {
      "text/html": [
       "<div>\n",
       "<style scoped>\n",
       "    .dataframe tbody tr th:only-of-type {\n",
       "        vertical-align: middle;\n",
       "    }\n",
       "\n",
       "    .dataframe tbody tr th {\n",
       "        vertical-align: top;\n",
       "    }\n",
       "\n",
       "    .dataframe thead th {\n",
       "        text-align: right;\n",
       "    }\n",
       "</style>\n",
       "<table border=\"1\" class=\"dataframe\">\n",
       "  <thead>\n",
       "    <tr style=\"text-align: right;\">\n",
       "      <th></th>\n",
       "      <th>name</th>\n",
       "      <th>platform</th>\n",
       "      <th>year_of_release</th>\n",
       "      <th>genre</th>\n",
       "      <th>na_sales</th>\n",
       "      <th>eu_sales</th>\n",
       "      <th>jp_sales</th>\n",
       "      <th>other_sales</th>\n",
       "      <th>critic_score</th>\n",
       "      <th>user_score</th>\n",
       "      <th>rating</th>\n",
       "    </tr>\n",
       "  </thead>\n",
       "  <tbody>\n",
       "  </tbody>\n",
       "</table>\n",
       "</div>"
      ],
      "text/plain": [
       "Empty DataFrame\n",
       "Columns: [name, platform, year_of_release, genre, na_sales, eu_sales, jp_sales, other_sales, critic_score, user_score, rating]\n",
       "Index: []"
      ]
     },
     "metadata": {},
     "output_type": "display_data"
    }
   ],
   "source": [
    "#Genre - рассмотрим пропуски в столбце\n",
    "display(data[data['genre'].isna()])"
   ]
  },
  {
   "cell_type": "markdown",
   "metadata": {},
   "source": [
    "<div style=\"border:solid green 5px; padding: 16px; border-radius: 10px\">   \n",
    "<br> Когда убирали строки с пропусками в столбце\n",
    "    name, заодно и убрали все пропуски в столбце genre"
   ]
  },
  {
   "cell_type": "code",
   "execution_count": 14,
   "metadata": {},
   "outputs": [
    {
     "data": {
      "text/plain": [
       "0"
      ]
     },
     "execution_count": 14,
     "metadata": {},
     "output_type": "execute_result"
    }
   ],
   "source": [
    "# Посмотрим количество дубликатов и при необходимости удалим их.\n",
    "data.duplicated().sum() #Дубликатов нет"
   ]
  },
  {
   "cell_type": "markdown",
   "metadata": {},
   "source": [
    "### Вывод"
   ]
  },
  {
   "cell_type": "markdown",
   "metadata": {},
   "source": [
    "1. Преобразовали типы данных в стобцах year_of_release и user_score. \n",
    "2. Узанли, что TBD - это аббревиатура от английского To Be Determined (будет определено) или To Be Decided (будет решено). Значения TBD в столбце user_score заменили на 0.\n",
    "3. Строки с пропусками (2 строки) в столбцах genre и name удалили.\n",
    "4. Пропуски в столбцах user_score, critic_score оставили. При необходимости потом их заменим.\n",
    "5. Пропуски в столбце rating заменили на unknown."
   ]
  },
  {
   "cell_type": "markdown",
   "metadata": {},
   "source": [
    "## Расчёты и добавление результатов в таблицу"
   ]
  },
  {
   "cell_type": "code",
   "execution_count": 15,
   "metadata": {
    "scrolled": false
   },
   "outputs": [
    {
     "data": {
      "text/html": [
       "<div>\n",
       "<style scoped>\n",
       "    .dataframe tbody tr th:only-of-type {\n",
       "        vertical-align: middle;\n",
       "    }\n",
       "\n",
       "    .dataframe tbody tr th {\n",
       "        vertical-align: top;\n",
       "    }\n",
       "\n",
       "    .dataframe thead th {\n",
       "        text-align: right;\n",
       "    }\n",
       "</style>\n",
       "<table border=\"1\" class=\"dataframe\">\n",
       "  <thead>\n",
       "    <tr style=\"text-align: right;\">\n",
       "      <th></th>\n",
       "      <th>name</th>\n",
       "      <th>platform</th>\n",
       "      <th>year_of_release</th>\n",
       "      <th>genre</th>\n",
       "      <th>na_sales</th>\n",
       "      <th>eu_sales</th>\n",
       "      <th>jp_sales</th>\n",
       "      <th>other_sales</th>\n",
       "      <th>critic_score</th>\n",
       "      <th>user_score</th>\n",
       "      <th>rating</th>\n",
       "      <th>all_sales</th>\n",
       "    </tr>\n",
       "  </thead>\n",
       "  <tbody>\n",
       "    <tr>\n",
       "      <th>0</th>\n",
       "      <td>Wii Sports</td>\n",
       "      <td>Wii</td>\n",
       "      <td>2006</td>\n",
       "      <td>Sports</td>\n",
       "      <td>41.36</td>\n",
       "      <td>28.96</td>\n",
       "      <td>3.77</td>\n",
       "      <td>8.45</td>\n",
       "      <td>76.0</td>\n",
       "      <td>8.0</td>\n",
       "      <td>E</td>\n",
       "      <td>82.54</td>\n",
       "    </tr>\n",
       "    <tr>\n",
       "      <th>1</th>\n",
       "      <td>Super Mario Bros.</td>\n",
       "      <td>NES</td>\n",
       "      <td>1985</td>\n",
       "      <td>Platform</td>\n",
       "      <td>29.08</td>\n",
       "      <td>3.58</td>\n",
       "      <td>6.81</td>\n",
       "      <td>0.77</td>\n",
       "      <td>NaN</td>\n",
       "      <td>NaN</td>\n",
       "      <td>unknown</td>\n",
       "      <td>40.24</td>\n",
       "    </tr>\n",
       "    <tr>\n",
       "      <th>2</th>\n",
       "      <td>Mario Kart Wii</td>\n",
       "      <td>Wii</td>\n",
       "      <td>2008</td>\n",
       "      <td>Racing</td>\n",
       "      <td>15.68</td>\n",
       "      <td>12.76</td>\n",
       "      <td>3.79</td>\n",
       "      <td>3.29</td>\n",
       "      <td>82.0</td>\n",
       "      <td>8.3</td>\n",
       "      <td>E</td>\n",
       "      <td>35.52</td>\n",
       "    </tr>\n",
       "    <tr>\n",
       "      <th>3</th>\n",
       "      <td>Wii Sports Resort</td>\n",
       "      <td>Wii</td>\n",
       "      <td>2009</td>\n",
       "      <td>Sports</td>\n",
       "      <td>15.61</td>\n",
       "      <td>10.93</td>\n",
       "      <td>3.28</td>\n",
       "      <td>2.95</td>\n",
       "      <td>80.0</td>\n",
       "      <td>8.0</td>\n",
       "      <td>E</td>\n",
       "      <td>32.77</td>\n",
       "    </tr>\n",
       "    <tr>\n",
       "      <th>4</th>\n",
       "      <td>Pokemon Red/Pokemon Blue</td>\n",
       "      <td>GB</td>\n",
       "      <td>1996</td>\n",
       "      <td>Role-Playing</td>\n",
       "      <td>11.27</td>\n",
       "      <td>8.89</td>\n",
       "      <td>10.22</td>\n",
       "      <td>1.00</td>\n",
       "      <td>NaN</td>\n",
       "      <td>NaN</td>\n",
       "      <td>unknown</td>\n",
       "      <td>31.38</td>\n",
       "    </tr>\n",
       "    <tr>\n",
       "      <th>...</th>\n",
       "      <td>...</td>\n",
       "      <td>...</td>\n",
       "      <td>...</td>\n",
       "      <td>...</td>\n",
       "      <td>...</td>\n",
       "      <td>...</td>\n",
       "      <td>...</td>\n",
       "      <td>...</td>\n",
       "      <td>...</td>\n",
       "      <td>...</td>\n",
       "      <td>...</td>\n",
       "      <td>...</td>\n",
       "    </tr>\n",
       "    <tr>\n",
       "      <th>16708</th>\n",
       "      <td>Samurai Warriors: Sanada Maru</td>\n",
       "      <td>PS3</td>\n",
       "      <td>2016</td>\n",
       "      <td>Action</td>\n",
       "      <td>0.00</td>\n",
       "      <td>0.00</td>\n",
       "      <td>0.01</td>\n",
       "      <td>0.00</td>\n",
       "      <td>NaN</td>\n",
       "      <td>NaN</td>\n",
       "      <td>unknown</td>\n",
       "      <td>0.01</td>\n",
       "    </tr>\n",
       "    <tr>\n",
       "      <th>16709</th>\n",
       "      <td>LMA Manager 2007</td>\n",
       "      <td>X360</td>\n",
       "      <td>2006</td>\n",
       "      <td>Sports</td>\n",
       "      <td>0.00</td>\n",
       "      <td>0.01</td>\n",
       "      <td>0.00</td>\n",
       "      <td>0.00</td>\n",
       "      <td>NaN</td>\n",
       "      <td>NaN</td>\n",
       "      <td>unknown</td>\n",
       "      <td>0.01</td>\n",
       "    </tr>\n",
       "    <tr>\n",
       "      <th>16710</th>\n",
       "      <td>Haitaka no Psychedelica</td>\n",
       "      <td>PSV</td>\n",
       "      <td>2016</td>\n",
       "      <td>Adventure</td>\n",
       "      <td>0.00</td>\n",
       "      <td>0.00</td>\n",
       "      <td>0.01</td>\n",
       "      <td>0.00</td>\n",
       "      <td>NaN</td>\n",
       "      <td>NaN</td>\n",
       "      <td>unknown</td>\n",
       "      <td>0.01</td>\n",
       "    </tr>\n",
       "    <tr>\n",
       "      <th>16711</th>\n",
       "      <td>Spirits &amp; Spells</td>\n",
       "      <td>GBA</td>\n",
       "      <td>2003</td>\n",
       "      <td>Platform</td>\n",
       "      <td>0.01</td>\n",
       "      <td>0.00</td>\n",
       "      <td>0.00</td>\n",
       "      <td>0.00</td>\n",
       "      <td>NaN</td>\n",
       "      <td>NaN</td>\n",
       "      <td>unknown</td>\n",
       "      <td>0.01</td>\n",
       "    </tr>\n",
       "    <tr>\n",
       "      <th>16712</th>\n",
       "      <td>Winning Post 8 2016</td>\n",
       "      <td>PSV</td>\n",
       "      <td>2016</td>\n",
       "      <td>Simulation</td>\n",
       "      <td>0.00</td>\n",
       "      <td>0.00</td>\n",
       "      <td>0.01</td>\n",
       "      <td>0.00</td>\n",
       "      <td>NaN</td>\n",
       "      <td>NaN</td>\n",
       "      <td>unknown</td>\n",
       "      <td>0.01</td>\n",
       "    </tr>\n",
       "  </tbody>\n",
       "</table>\n",
       "<p>16713 rows × 12 columns</p>\n",
       "</div>"
      ],
      "text/plain": [
       "                                name platform  year_of_release         genre  \\\n",
       "0                         Wii Sports      Wii             2006        Sports   \n",
       "1                  Super Mario Bros.      NES             1985      Platform   \n",
       "2                     Mario Kart Wii      Wii             2008        Racing   \n",
       "3                  Wii Sports Resort      Wii             2009        Sports   \n",
       "4           Pokemon Red/Pokemon Blue       GB             1996  Role-Playing   \n",
       "...                              ...      ...              ...           ...   \n",
       "16708  Samurai Warriors: Sanada Maru      PS3             2016        Action   \n",
       "16709               LMA Manager 2007     X360             2006        Sports   \n",
       "16710        Haitaka no Psychedelica      PSV             2016     Adventure   \n",
       "16711               Spirits & Spells      GBA             2003      Platform   \n",
       "16712            Winning Post 8 2016      PSV             2016    Simulation   \n",
       "\n",
       "       na_sales  eu_sales  jp_sales  other_sales  critic_score  user_score  \\\n",
       "0         41.36     28.96      3.77         8.45          76.0         8.0   \n",
       "1         29.08      3.58      6.81         0.77           NaN         NaN   \n",
       "2         15.68     12.76      3.79         3.29          82.0         8.3   \n",
       "3         15.61     10.93      3.28         2.95          80.0         8.0   \n",
       "4         11.27      8.89     10.22         1.00           NaN         NaN   \n",
       "...         ...       ...       ...          ...           ...         ...   \n",
       "16708      0.00      0.00      0.01         0.00           NaN         NaN   \n",
       "16709      0.00      0.01      0.00         0.00           NaN         NaN   \n",
       "16710      0.00      0.00      0.01         0.00           NaN         NaN   \n",
       "16711      0.01      0.00      0.00         0.00           NaN         NaN   \n",
       "16712      0.00      0.00      0.01         0.00           NaN         NaN   \n",
       "\n",
       "        rating  all_sales  \n",
       "0            E      82.54  \n",
       "1      unknown      40.24  \n",
       "2            E      35.52  \n",
       "3            E      32.77  \n",
       "4      unknown      31.38  \n",
       "...        ...        ...  \n",
       "16708  unknown       0.01  \n",
       "16709  unknown       0.01  \n",
       "16710  unknown       0.01  \n",
       "16711  unknown       0.01  \n",
       "16712  unknown       0.01  \n",
       "\n",
       "[16713 rows x 12 columns]"
      ]
     },
     "execution_count": 15,
     "metadata": {},
     "output_type": "execute_result"
    }
   ],
   "source": [
    "# Посчитаем суммарные продажи во всех регионах и добавим их в отдельный столбец\n",
    "data['all_sales'] = data[['eu_sales','na_sales','jp_sales','other_sales']].sum(axis = 1)\n",
    "data"
   ]
  },
  {
   "cell_type": "code",
   "execution_count": 16,
   "metadata": {},
   "outputs": [
    {
     "name": "stdout",
     "output_type": "stream",
     "text": [
      "<class 'pandas.core.frame.DataFrame'>\n",
      "RangeIndex: 16713 entries, 0 to 16712\n",
      "Data columns (total 12 columns):\n",
      " #   Column           Non-Null Count  Dtype  \n",
      "---  ------           --------------  -----  \n",
      " 0   name             16713 non-null  object \n",
      " 1   platform         16713 non-null  object \n",
      " 2   year_of_release  16713 non-null  int64  \n",
      " 3   genre            16713 non-null  object \n",
      " 4   na_sales         16713 non-null  float64\n",
      " 5   eu_sales         16713 non-null  float64\n",
      " 6   jp_sales         16713 non-null  float64\n",
      " 7   other_sales      16713 non-null  float64\n",
      " 8   critic_score     8137 non-null   float64\n",
      " 9   user_score       7590 non-null   float64\n",
      " 10  rating           16713 non-null  object \n",
      " 11  all_sales        16713 non-null  float64\n",
      "dtypes: float64(7), int64(1), object(4)\n",
      "memory usage: 1.5+ MB\n"
     ]
    }
   ],
   "source": [
    "data.info() #Выведем информацию о таблице на экран"
   ]
  },
  {
   "cell_type": "code",
   "execution_count": 17,
   "metadata": {},
   "outputs": [
    {
     "data": {
      "text/html": [
       "<div>\n",
       "<style scoped>\n",
       "    .dataframe tbody tr th:only-of-type {\n",
       "        vertical-align: middle;\n",
       "    }\n",
       "\n",
       "    .dataframe tbody tr th {\n",
       "        vertical-align: top;\n",
       "    }\n",
       "\n",
       "    .dataframe thead th {\n",
       "        text-align: right;\n",
       "    }\n",
       "</style>\n",
       "<table border=\"1\" class=\"dataframe\">\n",
       "  <thead>\n",
       "    <tr style=\"text-align: right;\">\n",
       "      <th></th>\n",
       "      <th>count</th>\n",
       "      <th>mean</th>\n",
       "      <th>std</th>\n",
       "      <th>min</th>\n",
       "      <th>25%</th>\n",
       "      <th>50%</th>\n",
       "      <th>75%</th>\n",
       "      <th>max</th>\n",
       "    </tr>\n",
       "  </thead>\n",
       "  <tbody>\n",
       "    <tr>\n",
       "      <th>year_of_release</th>\n",
       "      <td>16713.0</td>\n",
       "      <td>1974.191348</td>\n",
       "      <td>252.574959</td>\n",
       "      <td>0.0</td>\n",
       "      <td>2003.00</td>\n",
       "      <td>2007.00</td>\n",
       "      <td>2010.00</td>\n",
       "      <td>2016.00</td>\n",
       "    </tr>\n",
       "    <tr>\n",
       "      <th>na_sales</th>\n",
       "      <td>16713.0</td>\n",
       "      <td>0.263302</td>\n",
       "      <td>0.813565</td>\n",
       "      <td>0.0</td>\n",
       "      <td>0.00</td>\n",
       "      <td>0.08</td>\n",
       "      <td>0.24</td>\n",
       "      <td>41.36</td>\n",
       "    </tr>\n",
       "    <tr>\n",
       "      <th>eu_sales</th>\n",
       "      <td>16713.0</td>\n",
       "      <td>0.145045</td>\n",
       "      <td>0.503359</td>\n",
       "      <td>0.0</td>\n",
       "      <td>0.00</td>\n",
       "      <td>0.02</td>\n",
       "      <td>0.11</td>\n",
       "      <td>28.96</td>\n",
       "    </tr>\n",
       "    <tr>\n",
       "      <th>jp_sales</th>\n",
       "      <td>16713.0</td>\n",
       "      <td>0.077625</td>\n",
       "      <td>0.308871</td>\n",
       "      <td>0.0</td>\n",
       "      <td>0.00</td>\n",
       "      <td>0.00</td>\n",
       "      <td>0.04</td>\n",
       "      <td>10.22</td>\n",
       "    </tr>\n",
       "    <tr>\n",
       "      <th>other_sales</th>\n",
       "      <td>16713.0</td>\n",
       "      <td>0.047343</td>\n",
       "      <td>0.186742</td>\n",
       "      <td>0.0</td>\n",
       "      <td>0.00</td>\n",
       "      <td>0.01</td>\n",
       "      <td>0.03</td>\n",
       "      <td>10.57</td>\n",
       "    </tr>\n",
       "    <tr>\n",
       "      <th>critic_score</th>\n",
       "      <td>8137.0</td>\n",
       "      <td>68.967679</td>\n",
       "      <td>13.938165</td>\n",
       "      <td>13.0</td>\n",
       "      <td>60.00</td>\n",
       "      <td>71.00</td>\n",
       "      <td>79.00</td>\n",
       "      <td>98.00</td>\n",
       "    </tr>\n",
       "    <tr>\n",
       "      <th>user_score</th>\n",
       "      <td>7590.0</td>\n",
       "      <td>7.125046</td>\n",
       "      <td>1.500006</td>\n",
       "      <td>0.0</td>\n",
       "      <td>6.40</td>\n",
       "      <td>7.50</td>\n",
       "      <td>8.20</td>\n",
       "      <td>9.70</td>\n",
       "    </tr>\n",
       "    <tr>\n",
       "      <th>all_sales</th>\n",
       "      <td>16713.0</td>\n",
       "      <td>0.533315</td>\n",
       "      <td>1.548282</td>\n",
       "      <td>0.0</td>\n",
       "      <td>0.06</td>\n",
       "      <td>0.17</td>\n",
       "      <td>0.47</td>\n",
       "      <td>82.54</td>\n",
       "    </tr>\n",
       "  </tbody>\n",
       "</table>\n",
       "</div>"
      ],
      "text/plain": [
       "                   count         mean         std   min      25%      50%  \\\n",
       "year_of_release  16713.0  1974.191348  252.574959   0.0  2003.00  2007.00   \n",
       "na_sales         16713.0     0.263302    0.813565   0.0     0.00     0.08   \n",
       "eu_sales         16713.0     0.145045    0.503359   0.0     0.00     0.02   \n",
       "jp_sales         16713.0     0.077625    0.308871   0.0     0.00     0.00   \n",
       "other_sales      16713.0     0.047343    0.186742   0.0     0.00     0.01   \n",
       "critic_score      8137.0    68.967679   13.938165  13.0    60.00    71.00   \n",
       "user_score        7590.0     7.125046    1.500006   0.0     6.40     7.50   \n",
       "all_sales        16713.0     0.533315    1.548282   0.0     0.06     0.17   \n",
       "\n",
       "                     75%      max  \n",
       "year_of_release  2010.00  2016.00  \n",
       "na_sales            0.24    41.36  \n",
       "eu_sales            0.11    28.96  \n",
       "jp_sales            0.04    10.22  \n",
       "other_sales         0.03    10.57  \n",
       "critic_score       79.00    98.00  \n",
       "user_score          8.20     9.70  \n",
       "all_sales           0.47    82.54  "
      ]
     },
     "execution_count": 17,
     "metadata": {},
     "output_type": "execute_result"
    }
   ],
   "source": [
    "data.describe().T #Посмотрим данные о таблице"
   ]
  },
  {
   "cell_type": "code",
   "execution_count": 18,
   "metadata": {
    "scrolled": true
   },
   "outputs": [
    {
     "name": "stdout",
     "output_type": "stream",
     "text": [
      "['2600' '3DO' '3DS' 'DC' 'DS' 'GB' 'GBA' 'GC' 'GEN' 'GG' 'N64' 'NES' 'NG'\n",
      " 'PC' 'PCFX' 'PS' 'PS2' 'PS3' 'PS4' 'PSP' 'PSV' 'SAT' 'SCD' 'SNES' 'TG16'\n",
      " 'WS' 'Wii' 'WiiU' 'X360' 'XB' 'XOne']\n",
      "Количество уникальных игровых платформ 31\n"
     ]
    }
   ],
   "source": [
    "#Посмотрим уникальные значения стобца platform\n",
    "print(data['platform'].sort_values().unique())\n",
    "print('Количество уникальных игровых платформ', len(data['platform'].sort_values().unique()))"
   ]
  },
  {
   "cell_type": "code",
   "execution_count": 19,
   "metadata": {
    "scrolled": false
   },
   "outputs": [
    {
     "name": "stdout",
     "output_type": "stream",
     "text": [
      "['AO' 'E' 'E10+' 'EC' 'K-A' 'M' 'RP' 'T' 'unknown']\n"
     ]
    }
   ],
   "source": [
    "#Посмотрим уникальные значения стобца rating\n",
    "print(data['rating'].sort_values().unique())"
   ]
  },
  {
   "cell_type": "markdown",
   "metadata": {},
   "source": [
    "<div style=\"border:solid green 5px; padding: 16px; border-radius: 10px\">   \n",
    "<br>Согласно данным из интернета рейтинг ESRB значит следующее:\n",
    "    <br>«EC» («Early childhood») — «Для детей младшего возраста»\n",
    "    <br>«E» («Everyone») — «Для всех»\n",
    "    <br>«E10+» («Everyone 10 and older») — «Для всех от 10 лет и старше»\n",
    "    <br>«T» («Teen») — «Подросткам»\n",
    "    <br>«M» («Mature») — «Для взрослых»\n",
    "    <br>«AO» («Adults Only 18+») — «Только для взрослых»\n",
    "    <br>«RP» («Rating Pending») — «Рейтинг ожидается»\n",
    "    <br>«K-A» — Тоже для всех возрастов, но использовался до 1998 года."
   ]
  },
  {
   "cell_type": "code",
   "execution_count": 20,
   "metadata": {},
   "outputs": [
    {
     "name": "stdout",
     "output_type": "stream",
     "text": [
      "Количество уникальных игр 11559\n"
     ]
    }
   ],
   "source": [
    "#Посмотрим уникальные значения стобца name\n",
    "print('Количество уникальных игр', len(data['name'].sort_values().unique()))"
   ]
  },
  {
   "cell_type": "markdown",
   "metadata": {},
   "source": [
    "### Вывод"
   ]
  },
  {
   "cell_type": "markdown",
   "metadata": {},
   "source": [
    "1. Добавили информацию по суммарным продажам во всех регионах\n",
    "2. В данных представлено 31 игровая платформа\n",
    "3. Определили значение каждого обозначения в столбце rating.\n",
    "4. В данных представлено 11559 уникальных игр."
   ]
  },
  {
   "cell_type": "markdown",
   "metadata": {},
   "source": [
    "## Исследовательский анализ данных"
   ]
  },
  {
   "cell_type": "code",
   "execution_count": 21,
   "metadata": {},
   "outputs": [
    {
     "data": {
      "image/png": "[encoded data removed]",
      "text/plain": [
       "<Figure size 1152x432 with 1 Axes>"
      ]
     },
     "metadata": {
      "needs_background": "light"
     },
     "output_type": "display_data"
    }
   ],
   "source": [
    "#Посмотрим сколько игр выпускалось по годам\n",
    "kx=(data[data['year_of_release']>0].pivot_table(index = 'year_of_release', values='name', aggfunc='count')\n",
    ".plot(style=\"-o\",figsize=(16,6),title='График зависимости появления игр от года релиза'))\n",
    "kx.set_xlabel('Годы')\n",
    "kx.set_ylabel('Кол-во игр');"
   ]
  },
  {
   "cell_type": "markdown",
   "metadata": {},
   "source": [
    "<div style=\"border:solid green 5px; padding: 16px; border-radius: 10px\">   \n",
    "<br> Мы видим, что в период с 1980 по 2008 год количество выпускаемых игр на разных платформах из года в год увеличивалось в разу ( от 9 игр в 1980 до 1427 игр в 2008). Затем начался спад и возможно это связано с тем, что начался кризис, который затронул и игровую индустрию. Некоторым игровым платформам пришлось закрыться и игры перестали на них выпускать. В период, с 2009 по 2016 количество выпускаемых игр опустилось с 1426 до 502. \n",
    "    <br> Выпуск новых игр для игровых платформ - это очень динамично меняющаяся индустрия. То что было актуально 10 лет назад, может вообще не иметь значения в текущих реалиях. Учитывая что платформы бывают на пике своей популярности плюс минус 3 года, то логично было бы взять период близкий к этому сроку. Период больше 5 лет смысла брать нет. По данным результатам, считаю, что нужно рассматривать период за последние 5 лет (2012-2016), и в эти годы количество выпускаемых игр держиться стабильно в пределах 550-650 игр."
   ]
  },
  {
   "cell_type": "code",
   "execution_count": 22,
   "metadata": {
    "scrolled": true
   },
   "outputs": [],
   "source": [
    "#Посмотрим как менялись продажи по платформам\n",
    "td = (data[data['year_of_release']>0]\n",
    ".pivot_table(index=\"platform\",columns='year_of_release',values='all_sales',aggfunc=('sum')))"
   ]
  },
  {
   "cell_type": "code",
   "execution_count": 23,
   "metadata": {
    "scrolled": false
   },
   "outputs": [
    {
     "data": {
      "image/png": "[encoded data removed]",
      "text/plain": [
       "<Figure size 1152x720 with 2 Axes>"
      ]
     },
     "metadata": {
      "needs_background": "light"
     },
     "output_type": "display_data"
    }
   ],
   "source": [
    "#Создадим тепловую карту продаваемости игр по платформам\n",
    "plt.figure(figsize=(16,10))\n",
    "sns.heatmap(td, cmap= 'coolwarm', linewidths=1, linecolor='black');"
   ]
  },
  {
   "cell_type": "code",
   "execution_count": 24,
   "metadata": {
    "scrolled": true
   },
   "outputs": [
    {
     "name": "stdout",
     "output_type": "stream",
     "text": [
      "   platform  all_sales\n",
      "21       PC     259.52\n",
      "22      PSP     294.05\n",
      "23      PS4     314.14\n",
      "24      GBA     317.85\n",
      "25       PS     730.86\n",
      "26       DS     806.12\n",
      "27      Wii     907.51\n",
      "28      PS3     939.65\n",
      "29     X360     971.42\n",
      "30      PS2    1255.77\n"
     ]
    }
   ],
   "source": [
    "#Посмотрим топ10 игровых платформ по продажам.\n",
    "top_10 = data.groupby('platform')['all_sales'].sum().sort_values().reset_index()\n",
    "top_10 = top_10[21:]\n",
    "print(top_10)\n",
    "top_10_plt = top_10.loc[21:, 'platform'].values"
   ]
  },
  {
   "cell_type": "code",
   "execution_count": 25,
   "metadata": {},
   "outputs": [
    {
     "data": {
      "text/plain": [
       "<AxesSubplot:xlabel='year_of_release', ylabel='platform'>"
      ]
     },
     "execution_count": 25,
     "metadata": {},
     "output_type": "execute_result"
    },
    {
     "data": {
      "image/png": "[encoded data removed]",
      "text/plain": [
       "<Figure size 1440x720 with 2 Axes>"
      ]
     },
     "metadata": {
      "needs_background": "light"
     },
     "output_type": "display_data"
    }
   ],
   "source": [
    "top_platform=td.query('platform in @top_10_plt')\n",
    "plt.figure(figsize=(20,10))\n",
    "sns.heatmap(top_platform, cmap= 'coolwarm', linewidths=1, linecolor='black')"
   ]
  },
  {
   "cell_type": "markdown",
   "metadata": {},
   "source": [
    "<div style=\"border:solid green 5px; padding: 16px; border-radius: 10px\">   \n",
    "<br> На 1 тепловой карте мы видим \"сменяемость\" платформ. Одни приходят на смену другим. Так-же видно, что срок существования игровой платформы 10-12 лет, но есть исключения (PC будет жить вечно).\n",
    "<br> На 2 тепловой карте распределение топ 10 игровых платформ по годам. Так же, срок существования игровой платформы 10-12 лет. Наибольшая продаваемость игр происходит на 3-5 год.\n",
    "<br> Лидер по продажам за все время является PS2 (1255,77 млн. копий), PS3 все еще не смог его обогнать (935,65 млн копий), но есть шанс у PS4 (311,14 млн копий) - он существует всего 4 года.\n",
    "<br> Как уже писал ранее: Выпуск новых игр для игровых платформ - это очень динамично меняющаяся индустрия. То что было актуально 10 лет назад, может вообще не иметь значения в текущих реалиях. Период больше 5 лет смысла брать нет. В эти 5 лет как раз не войдут игры платформ, которые вышли 10-12 лет назад и чья наибольшая продаваемость приходилась на 3-5 год."
   ]
  },
  {
   "cell_type": "code",
   "execution_count": 26,
   "metadata": {
    "scrolled": false
   },
   "outputs": [
    {
     "data": {
      "text/html": [
       "<div>\n",
       "<style scoped>\n",
       "    .dataframe tbody tr th:only-of-type {\n",
       "        vertical-align: middle;\n",
       "    }\n",
       "\n",
       "    .dataframe tbody tr th {\n",
       "        vertical-align: top;\n",
       "    }\n",
       "\n",
       "    .dataframe thead th {\n",
       "        text-align: right;\n",
       "    }\n",
       "</style>\n",
       "<table border=\"1\" class=\"dataframe\">\n",
       "  <thead>\n",
       "    <tr style=\"text-align: right;\">\n",
       "      <th></th>\n",
       "      <th>name</th>\n",
       "      <th>platform</th>\n",
       "      <th>year_of_release</th>\n",
       "      <th>genre</th>\n",
       "      <th>na_sales</th>\n",
       "      <th>eu_sales</th>\n",
       "      <th>jp_sales</th>\n",
       "      <th>other_sales</th>\n",
       "      <th>critic_score</th>\n",
       "      <th>user_score</th>\n",
       "      <th>rating</th>\n",
       "      <th>all_sales</th>\n",
       "    </tr>\n",
       "  </thead>\n",
       "  <tbody>\n",
       "    <tr>\n",
       "      <th>0</th>\n",
       "      <td>Grand Theft Auto V</td>\n",
       "      <td>PS3</td>\n",
       "      <td>2013</td>\n",
       "      <td>Action</td>\n",
       "      <td>7.02</td>\n",
       "      <td>9.09</td>\n",
       "      <td>0.98</td>\n",
       "      <td>3.96</td>\n",
       "      <td>97.0</td>\n",
       "      <td>8.2</td>\n",
       "      <td>M</td>\n",
       "      <td>21.05</td>\n",
       "    </tr>\n",
       "    <tr>\n",
       "      <th>1</th>\n",
       "      <td>Grand Theft Auto V</td>\n",
       "      <td>X360</td>\n",
       "      <td>2013</td>\n",
       "      <td>Action</td>\n",
       "      <td>9.66</td>\n",
       "      <td>5.14</td>\n",
       "      <td>0.06</td>\n",
       "      <td>1.41</td>\n",
       "      <td>97.0</td>\n",
       "      <td>8.1</td>\n",
       "      <td>M</td>\n",
       "      <td>16.27</td>\n",
       "    </tr>\n",
       "    <tr>\n",
       "      <th>2</th>\n",
       "      <td>Call of Duty: Black Ops 3</td>\n",
       "      <td>PS4</td>\n",
       "      <td>2015</td>\n",
       "      <td>Shooter</td>\n",
       "      <td>6.03</td>\n",
       "      <td>5.86</td>\n",
       "      <td>0.36</td>\n",
       "      <td>2.38</td>\n",
       "      <td>NaN</td>\n",
       "      <td>NaN</td>\n",
       "      <td>unknown</td>\n",
       "      <td>14.63</td>\n",
       "    </tr>\n",
       "    <tr>\n",
       "      <th>3</th>\n",
       "      <td>Pokemon X/Pokemon Y</td>\n",
       "      <td>3DS</td>\n",
       "      <td>2013</td>\n",
       "      <td>Role-Playing</td>\n",
       "      <td>5.28</td>\n",
       "      <td>4.19</td>\n",
       "      <td>4.35</td>\n",
       "      <td>0.78</td>\n",
       "      <td>NaN</td>\n",
       "      <td>NaN</td>\n",
       "      <td>unknown</td>\n",
       "      <td>14.60</td>\n",
       "    </tr>\n",
       "    <tr>\n",
       "      <th>4</th>\n",
       "      <td>Call of Duty: Black Ops II</td>\n",
       "      <td>PS3</td>\n",
       "      <td>2012</td>\n",
       "      <td>Shooter</td>\n",
       "      <td>4.99</td>\n",
       "      <td>5.73</td>\n",
       "      <td>0.65</td>\n",
       "      <td>2.42</td>\n",
       "      <td>83.0</td>\n",
       "      <td>5.3</td>\n",
       "      <td>M</td>\n",
       "      <td>13.79</td>\n",
       "    </tr>\n",
       "    <tr>\n",
       "      <th>...</th>\n",
       "      <td>...</td>\n",
       "      <td>...</td>\n",
       "      <td>...</td>\n",
       "      <td>...</td>\n",
       "      <td>...</td>\n",
       "      <td>...</td>\n",
       "      <td>...</td>\n",
       "      <td>...</td>\n",
       "      <td>...</td>\n",
       "      <td>...</td>\n",
       "      <td>...</td>\n",
       "      <td>...</td>\n",
       "    </tr>\n",
       "    <tr>\n",
       "      <th>2881</th>\n",
       "      <td>Strawberry Nauts</td>\n",
       "      <td>PSV</td>\n",
       "      <td>2016</td>\n",
       "      <td>Adventure</td>\n",
       "      <td>0.00</td>\n",
       "      <td>0.00</td>\n",
       "      <td>0.01</td>\n",
       "      <td>0.00</td>\n",
       "      <td>NaN</td>\n",
       "      <td>NaN</td>\n",
       "      <td>unknown</td>\n",
       "      <td>0.01</td>\n",
       "    </tr>\n",
       "    <tr>\n",
       "      <th>2882</th>\n",
       "      <td>Aiyoku no Eustia</td>\n",
       "      <td>PSV</td>\n",
       "      <td>2014</td>\n",
       "      <td>Misc</td>\n",
       "      <td>0.00</td>\n",
       "      <td>0.00</td>\n",
       "      <td>0.01</td>\n",
       "      <td>0.00</td>\n",
       "      <td>NaN</td>\n",
       "      <td>NaN</td>\n",
       "      <td>unknown</td>\n",
       "      <td>0.01</td>\n",
       "    </tr>\n",
       "    <tr>\n",
       "      <th>2883</th>\n",
       "      <td>Samurai Warriors: Sanada Maru</td>\n",
       "      <td>PS3</td>\n",
       "      <td>2016</td>\n",
       "      <td>Action</td>\n",
       "      <td>0.00</td>\n",
       "      <td>0.00</td>\n",
       "      <td>0.01</td>\n",
       "      <td>0.00</td>\n",
       "      <td>NaN</td>\n",
       "      <td>NaN</td>\n",
       "      <td>unknown</td>\n",
       "      <td>0.01</td>\n",
       "    </tr>\n",
       "    <tr>\n",
       "      <th>2884</th>\n",
       "      <td>Haitaka no Psychedelica</td>\n",
       "      <td>PSV</td>\n",
       "      <td>2016</td>\n",
       "      <td>Adventure</td>\n",
       "      <td>0.00</td>\n",
       "      <td>0.00</td>\n",
       "      <td>0.01</td>\n",
       "      <td>0.00</td>\n",
       "      <td>NaN</td>\n",
       "      <td>NaN</td>\n",
       "      <td>unknown</td>\n",
       "      <td>0.01</td>\n",
       "    </tr>\n",
       "    <tr>\n",
       "      <th>2885</th>\n",
       "      <td>Winning Post 8 2016</td>\n",
       "      <td>PSV</td>\n",
       "      <td>2016</td>\n",
       "      <td>Simulation</td>\n",
       "      <td>0.00</td>\n",
       "      <td>0.00</td>\n",
       "      <td>0.01</td>\n",
       "      <td>0.00</td>\n",
       "      <td>NaN</td>\n",
       "      <td>NaN</td>\n",
       "      <td>unknown</td>\n",
       "      <td>0.01</td>\n",
       "    </tr>\n",
       "  </tbody>\n",
       "</table>\n",
       "<p>2886 rows × 12 columns</p>\n",
       "</div>"
      ],
      "text/plain": [
       "                               name platform  year_of_release         genre  \\\n",
       "0                Grand Theft Auto V      PS3             2013        Action   \n",
       "1                Grand Theft Auto V     X360             2013        Action   \n",
       "2         Call of Duty: Black Ops 3      PS4             2015       Shooter   \n",
       "3               Pokemon X/Pokemon Y      3DS             2013  Role-Playing   \n",
       "4        Call of Duty: Black Ops II      PS3             2012       Shooter   \n",
       "...                             ...      ...              ...           ...   \n",
       "2881               Strawberry Nauts      PSV             2016     Adventure   \n",
       "2882               Aiyoku no Eustia      PSV             2014          Misc   \n",
       "2883  Samurai Warriors: Sanada Maru      PS3             2016        Action   \n",
       "2884        Haitaka no Psychedelica      PSV             2016     Adventure   \n",
       "2885            Winning Post 8 2016      PSV             2016    Simulation   \n",
       "\n",
       "      na_sales  eu_sales  jp_sales  other_sales  critic_score  user_score  \\\n",
       "0         7.02      9.09      0.98         3.96          97.0         8.2   \n",
       "1         9.66      5.14      0.06         1.41          97.0         8.1   \n",
       "2         6.03      5.86      0.36         2.38           NaN         NaN   \n",
       "3         5.28      4.19      4.35         0.78           NaN         NaN   \n",
       "4         4.99      5.73      0.65         2.42          83.0         5.3   \n",
       "...        ...       ...       ...          ...           ...         ...   \n",
       "2881      0.00      0.00      0.01         0.00           NaN         NaN   \n",
       "2882      0.00      0.00      0.01         0.00           NaN         NaN   \n",
       "2883      0.00      0.00      0.01         0.00           NaN         NaN   \n",
       "2884      0.00      0.00      0.01         0.00           NaN         NaN   \n",
       "2885      0.00      0.00      0.01         0.00           NaN         NaN   \n",
       "\n",
       "       rating  all_sales  \n",
       "0           M      21.05  \n",
       "1           M      16.27  \n",
       "2     unknown      14.63  \n",
       "3     unknown      14.60  \n",
       "4           M      13.79  \n",
       "...       ...        ...  \n",
       "2881  unknown       0.01  \n",
       "2882  unknown       0.01  \n",
       "2883  unknown       0.01  \n",
       "2884  unknown       0.01  \n",
       "2885  unknown       0.01  \n",
       "\n",
       "[2886 rows x 12 columns]"
      ]
     },
     "execution_count": 26,
     "metadata": {},
     "output_type": "execute_result"
    }
   ],
   "source": [
    "#Возьмем данные за последние 5 лет.\n",
    "data_act=data[data['year_of_release']>2011].reset_index(drop=True)\n",
    "data_act"
   ]
  },
  {
   "cell_type": "code",
   "execution_count": 27,
   "metadata": {
    "scrolled": false
   },
   "outputs": [
    {
     "data": {
      "text/plain": [
       "<AxesSubplot:xlabel='year_of_release', ylabel='platform'>"
      ]
     },
     "execution_count": 27,
     "metadata": {},
     "output_type": "execute_result"
    },
    {
     "data": {
      "image/png": "[encoded data removed]",
      "text/plain": [
       "<Figure size 720x720 with 2 Axes>"
      ]
     },
     "metadata": {
      "needs_background": "light"
     },
     "output_type": "display_data"
    }
   ],
   "source": [
    "#Посмотрим динамику количества продаж игр.\n",
    "td = data_act.pivot_table(index=\"platform\",columns='year_of_release',values='all_sales',aggfunc=('sum'))\n",
    "plt.figure(figsize=(10,10))\n",
    "sns.heatmap(td, annot = True, fmt='.3g', cmap= 'coolwarm', linewidths=1, linecolor='black')"
   ]
  },
  {
   "cell_type": "markdown",
   "metadata": {},
   "source": [
    "<div style=\"border:solid green 5px; padding: 16px; border-radius: 10px\">   \n",
    "<br> Мы видим, что динамика продаж по всем игровым платформам снижается. Абсолютным лидером в 2016 году является PS4 (69,3 млн продаж), ее и выпустили 4 года назад. Можно так-же выделить XOne - 26,2 млн продаж (ближайший конкурент PS4). Так же, можно выделить 3DS (15,1 млн продаж) как лидера среди портативных игровых платформ и PC (5,25 млн. продаж) как игровую платформу дольше всего существующую на рынке"
   ]
  },
  {
   "cell_type": "code",
   "execution_count": 28,
   "metadata": {},
   "outputs": [
    {
     "data": {
      "image/png": "[encoded data removed]",
      "text/plain": [
       "<Figure size 1080x720 with 1 Axes>"
      ]
     },
     "metadata": {
      "needs_background": "light"
     },
     "output_type": "display_data"
    }
   ],
   "source": [
    "#Построим ящик с усами по глобальным продажам игр в разбивке по платформам\n",
    "#list_platform=['PS4','XOne','3DS','PC']\n",
    "plt.figure(figsize=(15,10))\n",
    "plt.ylim(0,3)\n",
    "kx = sns.boxplot(x='platform',y='all_sales',data=data_act)\n",
    "kx.set_title('Диграмма размаха объема продаж игр по игровым платформам')\n",
    "kx.set_xlabel('Игровая платформа')\n",
    "kx.set_ylabel('Объем продаж игр (млн. копий)');"
   ]
  },
  {
   "cell_type": "markdown",
   "metadata": {},
   "source": [
    "<div style=\"border:solid green 5px; padding: 16px; border-radius: 10px\">   \n",
    "<br> На этих графиках \"ящик с усами\" выделяется платформа X360 (медиана около 0,4 млн , 3 квартиль заканчивается 0,9 млн) - можно сделать вывод, что игр для этой платформы выпущено меньше, но продаж по ним больше чем по другим платформам.\n",
    "    <br> Межквартальный размах очень похож у платфором PS3, PS4, XOne, Wii. И у них примерно одинаковая медиана, около 0,20 млн.\n",
    "    <br> Все распрадаления платформ скошены вправо. Можно сказать, что у всех ящиков медиана лежит левее среднего значения."
   ]
  },
  {
   "cell_type": "code",
   "execution_count": 29,
   "metadata": {},
   "outputs": [
    {
     "data": {
      "text/html": [
       "<div>\n",
       "<style scoped>\n",
       "    .dataframe tbody tr th:only-of-type {\n",
       "        vertical-align: middle;\n",
       "    }\n",
       "\n",
       "    .dataframe tbody tr th {\n",
       "        vertical-align: top;\n",
       "    }\n",
       "\n",
       "    .dataframe thead th {\n",
       "        text-align: right;\n",
       "    }\n",
       "</style>\n",
       "<table border=\"1\" class=\"dataframe\">\n",
       "  <thead>\n",
       "    <tr style=\"text-align: right;\">\n",
       "      <th></th>\n",
       "      <th>all_sales</th>\n",
       "      <th>critic_score</th>\n",
       "      <th>user_score</th>\n",
       "    </tr>\n",
       "  </thead>\n",
       "  <tbody>\n",
       "    <tr>\n",
       "      <th>0</th>\n",
       "      <td>1.79</td>\n",
       "      <td>75.0</td>\n",
       "      <td>7.3</td>\n",
       "    </tr>\n",
       "    <tr>\n",
       "      <th>1</th>\n",
       "      <td>1.74</td>\n",
       "      <td>82.0</td>\n",
       "      <td>4.9</td>\n",
       "    </tr>\n",
       "    <tr>\n",
       "      <th>2</th>\n",
       "      <td>1.72</td>\n",
       "      <td>63.0</td>\n",
       "      <td>6.6</td>\n",
       "    </tr>\n",
       "    <tr>\n",
       "      <th>3</th>\n",
       "      <td>1.73</td>\n",
       "      <td>54.0</td>\n",
       "      <td>6.5</td>\n",
       "    </tr>\n",
       "    <tr>\n",
       "      <th>4</th>\n",
       "      <td>1.72</td>\n",
       "      <td>61.0</td>\n",
       "      <td>5.4</td>\n",
       "    </tr>\n",
       "    <tr>\n",
       "      <th>...</th>\n",
       "      <td>...</td>\n",
       "      <td>...</td>\n",
       "      <td>...</td>\n",
       "    </tr>\n",
       "    <tr>\n",
       "      <th>199</th>\n",
       "      <td>0.01</td>\n",
       "      <td>42.0</td>\n",
       "      <td>2.3</td>\n",
       "    </tr>\n",
       "    <tr>\n",
       "      <th>200</th>\n",
       "      <td>0.01</td>\n",
       "      <td>70.0</td>\n",
       "      <td>6.8</td>\n",
       "    </tr>\n",
       "    <tr>\n",
       "      <th>201</th>\n",
       "      <td>0.01</td>\n",
       "      <td>69.0</td>\n",
       "      <td>7.5</td>\n",
       "    </tr>\n",
       "    <tr>\n",
       "      <th>202</th>\n",
       "      <td>0.01</td>\n",
       "      <td>61.0</td>\n",
       "      <td>7.9</td>\n",
       "    </tr>\n",
       "    <tr>\n",
       "      <th>203</th>\n",
       "      <td>0.01</td>\n",
       "      <td>51.0</td>\n",
       "      <td>5.5</td>\n",
       "    </tr>\n",
       "  </tbody>\n",
       "</table>\n",
       "<p>204 rows × 3 columns</p>\n",
       "</div>"
      ],
      "text/plain": [
       "     all_sales  critic_score  user_score\n",
       "0         1.79          75.0         7.3\n",
       "1         1.74          82.0         4.9\n",
       "2         1.72          63.0         6.6\n",
       "3         1.73          54.0         6.5\n",
       "4         1.72          61.0         5.4\n",
       "..         ...           ...         ...\n",
       "199       0.01          42.0         2.3\n",
       "200       0.01          70.0         6.8\n",
       "201       0.01          69.0         7.5\n",
       "202       0.01          61.0         7.9\n",
       "203       0.01          51.0         5.5\n",
       "\n",
       "[204 rows x 3 columns]"
      ]
     },
     "execution_count": 29,
     "metadata": {},
     "output_type": "execute_result"
    }
   ],
   "source": [
    "#Посмотрим как влияют на продажи плтаформы PS4 отзывы критиков и пользователей, исключив значения находящиеся за пределами \n",
    "# диаграммы размаха (выбросы)\n",
    "one_pl = data_act.query('platform == \"PS4\" and all_sales <= 1.8')[['all_sales', 'critic_score', 'user_score']].dropna().reset_index(drop=True)\n",
    "one_pl"
   ]
  },
  {
   "cell_type": "code",
   "execution_count": 30,
   "metadata": {},
   "outputs": [
    {
     "data": {
      "text/html": [
       "<div>\n",
       "<style scoped>\n",
       "    .dataframe tbody tr th:only-of-type {\n",
       "        vertical-align: middle;\n",
       "    }\n",
       "\n",
       "    .dataframe tbody tr th {\n",
       "        vertical-align: top;\n",
       "    }\n",
       "\n",
       "    .dataframe thead th {\n",
       "        text-align: right;\n",
       "    }\n",
       "</style>\n",
       "<table border=\"1\" class=\"dataframe\">\n",
       "  <thead>\n",
       "    <tr style=\"text-align: right;\">\n",
       "      <th></th>\n",
       "      <th>all_sales</th>\n",
       "      <th>critic_score</th>\n",
       "      <th>user_score</th>\n",
       "    </tr>\n",
       "  </thead>\n",
       "  <tbody>\n",
       "    <tr>\n",
       "      <th>all_sales</th>\n",
       "      <td>1.000000</td>\n",
       "      <td>0.272266</td>\n",
       "      <td>0.014711</td>\n",
       "    </tr>\n",
       "    <tr>\n",
       "      <th>critic_score</th>\n",
       "      <td>0.272266</td>\n",
       "      <td>1.000000</td>\n",
       "      <td>0.628755</td>\n",
       "    </tr>\n",
       "    <tr>\n",
       "      <th>user_score</th>\n",
       "      <td>0.014711</td>\n",
       "      <td>0.628755</td>\n",
       "      <td>1.000000</td>\n",
       "    </tr>\n",
       "  </tbody>\n",
       "</table>\n",
       "</div>"
      ],
      "text/plain": [
       "              all_sales  critic_score  user_score\n",
       "all_sales      1.000000      0.272266    0.014711\n",
       "critic_score   0.272266      1.000000    0.628755\n",
       "user_score     0.014711      0.628755    1.000000"
      ]
     },
     "execution_count": 30,
     "metadata": {},
     "output_type": "execute_result"
    }
   ],
   "source": [
    "one_pl.corr()"
   ]
  },
  {
   "cell_type": "code",
   "execution_count": 31,
   "metadata": {
    "scrolled": false
   },
   "outputs": [
    {
     "data": {
      "image/png": "[encoded data removed]",
      "text/plain": [
       "<Figure size 1080x360 with 1 Axes>"
      ]
     },
     "metadata": {
      "needs_background": "light"
     },
     "output_type": "display_data"
    },
    {
     "data": {
      "image/png": "[encoded data removed]",
      "text/plain": [
       "<Figure size 1080x360 with 1 Axes>"
      ]
     },
     "metadata": {
      "needs_background": "light"
     },
     "output_type": "display_data"
    },
    {
     "name": "stdout",
     "output_type": "stream",
     "text": [
      "Коэффициент Зависимости Продаж от отзывов критиков (PS4) = 0.27226623561967667\n",
      "Коэффициент Зависимости Продаж от отзывов пользователей (PS4) = 0.014711057950183326\n"
     ]
    }
   ],
   "source": [
    "kx = one_pl.plot(x='critic_score',y='all_sales',kind='scatter',figsize=(15,5), alpha=1)\n",
    "plt.title('Зависимость Продаж от отзывов критиков (PS4)')\n",
    "kx.set_xlabel('Оценка критиков')\n",
    "kx.set_ylabel('Объем продаж игр (млн. копий)');\n",
    "ax = one_pl.plot(x='user_score',y='all_sales',kind='scatter',figsize=(15,5), alpha=1)\n",
    "plt.title('Зависимость Продаж от отзывов пользователей (PS4)')\n",
    "ax.set_xlabel('Оценка пользователей')\n",
    "ax.set_ylabel('Объем продаж игр (млн. копий)');\n",
    "plt.show()\n",
    "print('Коэффициент Зависимости Продаж от отзывов критиков (PS4) =' ,one_pl['all_sales'].corr(one_pl['critic_score']))\n",
    "print('Коэффициент Зависимости Продаж от отзывов пользователей (PS4) =' ,one_pl['all_sales'].corr(one_pl['user_score']))"
   ]
  },
  {
   "cell_type": "code",
   "execution_count": 32,
   "metadata": {
    "scrolled": false
   },
   "outputs": [
    {
     "name": "stdout",
     "output_type": "stream",
     "text": [
      "XOne\n"
     ]
    },
    {
     "data": {
      "image/png": "[encoded data removed]",
      "text/plain": [
       "<Figure size 1080x360 with 1 Axes>"
      ]
     },
     "metadata": {
      "needs_background": "light"
     },
     "output_type": "display_data"
    },
    {
     "data": {
      "image/png": "[encoded data removed]",
      "text/plain": [
       "<Figure size 1080x360 with 1 Axes>"
      ]
     },
     "metadata": {
      "needs_background": "light"
     },
     "output_type": "display_data"
    },
    {
     "name": "stdout",
     "output_type": "stream",
     "text": [
      "Коэффициент Зависимости Продаж от отзывов критиков  XOne 0.4251684463136693\n",
      "Коэффициент Зависимости Продаж от отзывов пользователей  XOne 0.07062745903525228\n",
      "\n",
      "3DS\n"
     ]
    },
    {
     "data": {
      "image/png": "[encoded data removed]",
      "text/plain": [
       "<Figure size 1080x360 with 1 Axes>"
      ]
     },
     "metadata": {
      "needs_background": "light"
     },
     "output_type": "display_data"
    },
    {
     "data": {
      "image/png": "[encoded data removed]",
      "text/plain": [
       "<Figure size 1080x360 with 1 Axes>"
      ]
     },
     "metadata": {
      "needs_background": "light"
     },
     "output_type": "display_data"
    },
    {
     "name": "stdout",
     "output_type": "stream",
     "text": [
      "Коэффициент Зависимости Продаж от отзывов критиков  3DS 0.2163594750629903\n",
      "Коэффициент Зависимости Продаж от отзывов пользователей  3DS 0.18941648766420102\n",
      "\n",
      "PC\n"
     ]
    },
    {
     "data": {
      "image/png": "[encoded data removed]",
      "text/plain": [
       "<Figure size 1080x360 with 1 Axes>"
      ]
     },
     "metadata": {
      "needs_background": "light"
     },
     "output_type": "display_data"
    },
    {
     "data": {
      "image/png": "[encoded data removed]",
      "text/plain": [
       "<Figure size 1080x360 with 1 Axes>"
      ]
     },
     "metadata": {
      "needs_background": "light"
     },
     "output_type": "display_data"
    },
    {
     "name": "stdout",
     "output_type": "stream",
     "text": [
      "Коэффициент Зависимости Продаж от отзывов критиков  PC 0.28384604936174934\n",
      "Коэффициент Зависимости Продаж от отзывов пользователей  PC -0.04951728177781431\n",
      "\n"
     ]
    }
   ],
   "source": [
    "#Соотнесем данные с продажами других платформ\n",
    "list_platform=['XOne','3DS','PC']\n",
    "for i in list_platform:\n",
    "    td = data_act[(data_act['platform']==i)  & (data_act['all_sales'] <= 1.8)][['platform', 'all_sales', 'critic_score', 'user_score']].dropna().reset_index(drop=True)\n",
    "    print(td.at[0,'platform'])\n",
    "    kx = td.plot(x='critic_score',y='all_sales',kind='scatter',figsize=(15,5), alpha=1)\n",
    "    plt.title('Зависимость Продаж от отзывов критиков')\n",
    "    kx.set_xlabel('Оценка критиков')\n",
    "    kx.set_ylabel('Объем продаж игр (млн. копий)');\n",
    "    ax = td.plot(x='user_score',y='all_sales',kind='scatter',figsize=(15,5), alpha=1)\n",
    "    plt.title('Зависимость Продаж от отзывов пользователей');\n",
    "    ax.set_xlabel('Оценка пользователей')\n",
    "    ax.set_ylabel('Объем продаж игр (млн. копий)');\n",
    "    plt.show()\n",
    "    print('Коэффициент Зависимости Продаж от отзывов критиков ',td.at[0,'platform'] ,td['all_sales'].corr(td['critic_score']))\n",
    "    print('Коэффициент Зависимости Продаж от отзывов пользователей ',td.at[0,'platform'] ,td['all_sales'].corr(td['user_score']))\n",
    "    print()"
   ]
  },
  {
   "cell_type": "code",
   "execution_count": 33,
   "metadata": {},
   "outputs": [
    {
     "data": {
      "image/png": "[encoded data removed]",
      "text/plain": [
       "<Figure size 1080x1224 with 6 Axes>"
      ]
     },
     "metadata": {
      "needs_background": "light"
     },
     "output_type": "display_data"
    }
   ],
   "source": [
    "list_platform=['XOne','3DS','PC']\n",
    "\n",
    "fig, axs = plt.subplots(3, 2)\n",
    "for i,j in enumerate(list_platform):\n",
    "    td = data_act[(data_act['platform']==j)  & (data_act['all_sales'] <= 1.8)][['platform', 'all_sales', 'critic_score', 'user_score']].dropna().reset_index(drop=True)\n",
    "    td.plot(x='critic_score',y='all_sales',kind='scatter',figsize=(15,17), alpha=1,ax=axs[i,0],title='Критики'+' '+str(j))\n",
    "    td.plot(x='user_score',y='all_sales',kind='scatter',figsize=(15,17), alpha=1,ax=axs[i,1],title='Пользователи'+' '+str(j))"
   ]
  },
  {
   "cell_type": "code",
   "execution_count": 34,
   "metadata": {},
   "outputs": [],
   "source": [
    "#Посмотрим общее распределение игр по жанрам.\n",
    "sum_genre = data_act.groupby('genre')['all_sales'].sum().sort_values(ascending=False) #распределение по суммарным продажам игр\n",
    "count_genre = data_act.groupby('genre')['all_sales'].count().sort_values(ascending=False) #распределение по количеству игр\n",
    "median_genre = data_act.groupby('genre')['all_sales'].median().sort_values(ascending=False) #распределение по медианам продаж игр"
   ]
  },
  {
   "cell_type": "code",
   "execution_count": 35,
   "metadata": {
    "scrolled": false
   },
   "outputs": [
    {
     "data": {
      "image/png": "[encoded data removed]",
      "text/plain": [
       "<Figure size 720x432 with 1 Axes>"
      ]
     },
     "metadata": {
      "needs_background": "light"
     },
     "output_type": "display_data"
    }
   ],
   "source": [
    "kx=sum_genre.plot(y='genre',grid=True,figsize=(10,6),kind='bar',title='Распределение по жанрам и суммарным продажам игр (млн. копий)')\n",
    "kx.set_xlabel('Жанры')\n",
    "kx.set_ylabel('Суммарные продажи');"
   ]
  },
  {
   "cell_type": "code",
   "execution_count": 36,
   "metadata": {},
   "outputs": [
    {
     "data": {
      "image/png": "[encoded data removed]",
      "text/plain": [
       "<Figure size 720x432 with 1 Axes>"
      ]
     },
     "metadata": {
      "needs_background": "light"
     },
     "output_type": "display_data"
    }
   ],
   "source": [
    "kx=count_genre.plot(y='genre',grid=True,figsize=(10,6),kind='bar',title='Распределение по жанрам и количеству игр')\n",
    "kx.set_xlabel('Жанры')\n",
    "kx.set_ylabel('Кол-во игр (млн. копий)');"
   ]
  },
  {
   "cell_type": "code",
   "execution_count": 37,
   "metadata": {},
   "outputs": [
    {
     "data": {
      "image/png": "[encoded data removed]",
      "text/plain": [
       "<Figure size 720x432 with 1 Axes>"
      ]
     },
     "metadata": {
      "needs_background": "light"
     },
     "output_type": "display_data"
    }
   ],
   "source": [
    "kx=median_genre.plot(y='genre',grid=True,figsize=(10,6),kind='bar',title='Распределение по жанрам и медианам продаж игр (млн. копий)')\n",
    "kx.set_xlabel('Жанры')\n",
    "kx.set_ylabel('Мединные значения продаж игр (млн. копий)');"
   ]
  },
  {
   "cell_type": "markdown",
   "metadata": {},
   "source": [
    "<div style=\"border:solid green 5px; padding: 16px; border-radius: 10px\">   \n",
    "<br> Прекрасно видно, что жанр action лидирует как по количеству созданных игр, так и по общим продажам. А дальше данные разнятся. \n",
    "    <br>После action по количеству проданных игр выделяются shooter, role-playing, sports и эти 4 жанра сильно преобладают над остальными жанрами. \n",
    "    <br>А по количеству созданных игр после action идет: role-playing, adventure, sports. При чем, все жанры практически равномерно распределены после action по количеству созданных игр.\n",
    "    <br>На последних местах в обоих графиках: strategy, puzzle.\n",
    "    <br> А на графике 'Распределение по жанрам и медианам продаж игр (млн. копий)' картина совершенно отличается. На первых трех местах shooter, sport и platform. На последних местах: puzzle и adventure."
   ]
  },
  {
   "cell_type": "markdown",
   "metadata": {},
   "source": [
    "### Вывод"
   ]
  },
  {
   "cell_type": "markdown",
   "metadata": {},
   "source": [
    "<br> В период с 1980 по 2008 год количество выпускаемых игр на разных платформах из года в год увеличивалось в разы ( от 9 игр в 1980 до 1427 игр в 2008). Затем начался спад и возможно это связано с тем, что начался кризис, который затронул и игровую индустрию. Некоторым игровым платформам пришлось закрыться и игры перестали на них выпускать. В период, с 2009 по 2016 количество выпускаемых игр опустилось с 1426 до 502. \n",
    "\n",
    "<br> Выпуск новых игр для игровых платформ - это очень динамично меняющаяся индустрия. То что было актуально 10 лет назад, может вообще не иметь значения в текущих реалиях. Учитывая что платформы бывают на пике своей популярности плюс минус 3 года, было принято решение рассматривать период за последние 5 лет (2012-2016). В эти годы количество выпускаемых игр держиться стабильно в пределах 550-650 игр.\n",
    "    \n",
    "<br> На 1 тепловой карте (количества продаж игр по игровым платформам за весь период) заметна \"сменяемость\" платформ. Одни приходят на смену другим. Так-же видно, что срок существования игровой платформы 10-12 лет, но есть исключения (PC будет жить вечно).\n",
    "<br> На 2 тепловой карте количества распределения продаж игр топ 10 игровых платформ по годам, так же, срок существования игровой платформы 10-12 лет. Наибольшая продаваемость игр происходит на 3-5 год существования \n",
    "<br> Лидер по продажам за все время является PS2 (1255,77 млн. копий), PS3 все еще не смог его обогнать (935,65 млн копий), но есть шанс у PS4 (311,14 млн копий) - он существует всего 4 года.\n",
    "\n",
    "<br> Рассматривая период 2012-2016, мы видим, что динамика продаж по всем игровым платформам снижается. Абсолютным лидером в 2016 году является PS4 (69,3 млн продаж), ее и выпустили 4 года назад. Можно так-же выделить XOne - 26,2 млн продаж (ближайший конкурент PS4). Так же, можно выделить 3DS (15,1 млн продаж) как лидера среди портативных игровых платформ и PC (5,25 млн. продаж) как игровую платформу дольше всего существующую на рынке\n",
    "\n",
    "<br> На графиках \"ящик с усами\" выделяется платформа X360 (медиана около 0,4 млн , 3 квартиль заканчивается 0,9 млн) - можно сделать вывод, что игр для этой платформы выпущено меньше, но продаж по ним больше чем по другим платформам.\n",
    "<br> Межквартальный размах очень похож у платфором PS3, PS4, XOne, Wii. И у них примерно одинаковая медиана, около 0,20 млн.\n",
    "<br> Все распрадаления платформ скошены вправо. Можно сказать, что у всех ящиков медиана лежит левее среднего значения.\n",
    "    \n",
    "<br>По платформе PS4 заметили небольшую положительную связь продаж от отзывов критиков (27%). Зависимости продаж от отзывов пользователей практически нет (4%).<br> По платформам 'XOne','3DS','PC' практически аналогичные данные небольшая положительная зависомость от оценок критиков (25-43%) и меньшая положительная зависимость от оценок пользователей. Выделяется 3DS, у нее зависимость оценки пользователей и критиков практически равны (25-26%).\n",
    "    \n",
    "<br> Жанр action лидирует как по количеству созданных игр, так и по общим продажам. А дальше данные разнятся.\n",
    "<br>После action по суммарным продажам игр выделяются shooter, role-playing, sports и эти 4 жанра сильно преобладают над остальными жанрами. \n",
    "<br>А по количеству созданных игр после action идет: role-playing, adventure, sports. При чем, все жанры практически равномерно распределены после action по количеству созданных игр.\n",
    "<br>На последних местах в обоих графиках: strategy, puzzle.\n",
    "<br> А на распределение по жанрам и медианам продаж игр на первых трех местах shooter, sport и platform. На последних местах: puzzle и adventure."
   ]
  },
  {
   "cell_type": "markdown",
   "metadata": {},
   "source": [
    "## Портрет пользователя каждого региона"
   ]
  },
  {
   "cell_type": "code",
   "execution_count": 38,
   "metadata": {},
   "outputs": [
    {
     "data": {
      "text/plain": [
       "{'na_sales': platform\n",
       " X360    140.05\n",
       " PS4     108.74\n",
       " PS3     103.38\n",
       " XOne     93.12\n",
       " 3DS      55.31\n",
       " Name: na_sales, dtype: float64,\n",
       " 'eu_sales': platform\n",
       " PS4     141.09\n",
       " PS3     106.86\n",
       " X360     74.52\n",
       " XOne     51.59\n",
       " 3DS      42.64\n",
       " Name: eu_sales, dtype: float64,\n",
       " 'jp_sales': platform\n",
       " 3DS     87.79\n",
       " PS3     35.29\n",
       " PSV     21.04\n",
       " PS4     15.96\n",
       " WiiU    13.01\n",
       " Name: jp_sales, dtype: float64}"
      ]
     },
     "execution_count": 38,
     "metadata": {},
     "output_type": "execute_result"
    }
   ],
   "source": [
    "#самые популярные платформы (топ-5) в каждом в ргионе\n",
    "top5_pl_dict = {} #Запишем в словарь данные топ5 в регионе\n",
    "for region in ['na_sales', 'eu_sales', 'jp_sales']:\n",
    "    top5_pl_dict[region] = data_act.groupby('platform')[region].sum().sort_values(ascending=False).head(5)\n",
    "top5_pl_dict"
   ]
  },
  {
   "cell_type": "code",
   "execution_count": 39,
   "metadata": {},
   "outputs": [
    {
     "data": {
      "image/png": "[encoded data removed]",
      "text/plain": [
       "<Figure size 1152x432 with 3 Axes>"
      ]
     },
     "metadata": {},
     "output_type": "display_data"
    }
   ],
   "source": [
    "#Отобразим это все на графиках\n",
    "fig, (ax1, ax2, ax3) = plt.subplots(nrows=1, ncols=3, figsize=(16, 6))\n",
    "fig.autofmt_xdate();\n",
    "\n",
    "i = 0\n",
    "x = [ax1, ax2, ax3]\n",
    "region = ['na_sales', 'eu_sales', 'jp_sales']\n",
    "explode = (0.15, 0, 0, 0, 0)\n",
    "\n",
    "for i in [0,1,2]:\n",
    "    labels = top5_pl_dict[region[i]].index\n",
    "    sizes =top5_pl_dict[region[i]].values\n",
    "    ax = x[i]\n",
    "    ax.set_title(f'Продажи в {region[i]}')\n",
    "    ax.pie(sizes, labels=labels, autopct='%1.1f%%', shadow=True, explode=explode,startangle=90) \n",
    "    ax.axis('equal')  \n",
    "\n",
    "plt.show()"
   ]
  },
  {
   "cell_type": "markdown",
   "metadata": {},
   "source": [
    "<div style=\"border:solid green 5px; padding: 16px; border-radius: 10px\">   \n",
    "<br> В разных регионах разные лидеры по продажам. В Северной Америке лидер Х360 (28% доли рынка), в Европе лидер PS4 (33,9% доли рынка), в Японии лидер 3DS (50,7% доли рынка). При это PS3 занимает примерно одинаковые доли во всех регионах (20,4%-25,6%)."
   ]
  },
  {
   "cell_type": "code",
   "execution_count": 40,
   "metadata": {},
   "outputs": [
    {
     "data": {
      "text/plain": [
       "{'na_sales': genre\n",
       " Action          177.84\n",
       " Shooter         144.77\n",
       " Sports           81.53\n",
       " Role-Playing     64.00\n",
       " Misc             38.19\n",
       " Name: na_sales, dtype: float64,\n",
       " 'eu_sales': genre\n",
       " Action          159.34\n",
       " Shooter         113.47\n",
       " Sports           69.09\n",
       " Role-Playing     48.53\n",
       " Racing           27.29\n",
       " Name: eu_sales, dtype: float64,\n",
       " 'jp_sales': genre\n",
       " Role-Playing    65.44\n",
       " Action          52.80\n",
       " Misc            12.86\n",
       " Simulation      10.41\n",
       " Fighting         9.44\n",
       " Name: jp_sales, dtype: float64}"
      ]
     },
     "execution_count": 40,
     "metadata": {},
     "output_type": "execute_result"
    }
   ],
   "source": [
    "#самые популярные жанры (топ-5) в каждом в ргионе\n",
    "top5_gn_dict = {} #Запишем в словарь данные топ5 в регионе\n",
    "for region in ['na_sales', 'eu_sales', 'jp_sales']:\n",
    "    top5_gn_dict[region] = data_act.groupby('genre')[region].sum().sort_values(ascending=False).head(5)\n",
    "top5_gn_dict"
   ]
  },
  {
   "cell_type": "code",
   "execution_count": 41,
   "metadata": {
    "scrolled": false
   },
   "outputs": [
    {
     "data": {
      "image/png": "[encoded data removed]",
      "text/plain": [
       "<Figure size 1152x432 with 3 Axes>"
      ]
     },
     "metadata": {},
     "output_type": "display_data"
    }
   ],
   "source": [
    "#Отобразим это все на графиках\n",
    "fig, (ax1, ax2, ax3) = plt.subplots(nrows=1, ncols=3, figsize=(16, 6))\n",
    "fig.autofmt_xdate();\n",
    "\n",
    "i = 0\n",
    "x = [ax1, ax2, ax3]\n",
    "region = ['na_sales', 'eu_sales', 'jp_sales']\n",
    "explode = (0.15, 0, 0, 0, 0)\n",
    "\n",
    "for i in [0,1,2]:\n",
    "    labels = top5_gn_dict[region[i]].index\n",
    "    sizes =top5_gn_dict[region[i]].values\n",
    "    ax = x[i]\n",
    "    ax.set_title(f'Продажи в {region[i]}')\n",
    "    ax.pie(sizes, labels=labels, autopct='%1.1f%%', shadow=True, explode=explode,startangle=90) \n",
    "    ax.axis('equal')  \n",
    "\n",
    "plt.show()"
   ]
  },
  {
   "cell_type": "markdown",
   "metadata": {},
   "source": [
    "<div style=\"border:solid green 5px; padding: 16px; border-radius: 10px\">   \n",
    "<br> В Северной Америке и Европе топ5 жанров распределился одинаково: 1 место - Action (35%-38%), 2 место - Shooter (27%-28%), 3 место - Sports (16%), 4 место - Role-playing (11%-12%), 5 место - Misc (6%-7%).\n",
    "<br> В Японни практически половину доли рынка занимает Role-playing (43,4%). За ним идет Action (35%). 3 место - Misc (6%-7%), 4 место - Simulation (6,9%), 5 место - Fighting (6,3%)."
   ]
  },
  {
   "cell_type": "code",
   "execution_count": 42,
   "metadata": {
    "scrolled": true
   },
   "outputs": [
    {
     "data": {
      "text/html": [
       "<div>\n",
       "<style scoped>\n",
       "    .dataframe tbody tr th:only-of-type {\n",
       "        vertical-align: middle;\n",
       "    }\n",
       "\n",
       "    .dataframe tbody tr th {\n",
       "        vertical-align: top;\n",
       "    }\n",
       "\n",
       "    .dataframe thead th {\n",
       "        text-align: right;\n",
       "    }\n",
       "</style>\n",
       "<table border=\"1\" class=\"dataframe\">\n",
       "  <thead>\n",
       "    <tr style=\"text-align: right;\">\n",
       "      <th></th>\n",
       "      <th>rating</th>\n",
       "      <th>eu_sales</th>\n",
       "      <th>jp_sales</th>\n",
       "      <th>na_sales</th>\n",
       "    </tr>\n",
       "  </thead>\n",
       "  <tbody>\n",
       "    <tr>\n",
       "      <th>0</th>\n",
       "      <td>M</td>\n",
       "      <td>193.96</td>\n",
       "      <td>21.20</td>\n",
       "      <td>231.57</td>\n",
       "    </tr>\n",
       "    <tr>\n",
       "      <th>1</th>\n",
       "      <td>E</td>\n",
       "      <td>113.03</td>\n",
       "      <td>28.33</td>\n",
       "      <td>114.37</td>\n",
       "    </tr>\n",
       "    <tr>\n",
       "      <th>2</th>\n",
       "      <td>unknown</td>\n",
       "      <td>91.50</td>\n",
       "      <td>108.84</td>\n",
       "      <td>103.31</td>\n",
       "    </tr>\n",
       "    <tr>\n",
       "      <th>3</th>\n",
       "      <td>E10+</td>\n",
       "      <td>55.37</td>\n",
       "      <td>8.19</td>\n",
       "      <td>75.70</td>\n",
       "    </tr>\n",
       "    <tr>\n",
       "      <th>4</th>\n",
       "      <td>T</td>\n",
       "      <td>52.96</td>\n",
       "      <td>26.02</td>\n",
       "      <td>66.02</td>\n",
       "    </tr>\n",
       "  </tbody>\n",
       "</table>\n",
       "</div>"
      ],
      "text/plain": [
       "    rating  eu_sales  jp_sales  na_sales\n",
       "0        M    193.96     21.20    231.57\n",
       "1        E    113.03     28.33    114.37\n",
       "2  unknown     91.50    108.84    103.31\n",
       "3     E10+     55.37      8.19     75.70\n",
       "4        T     52.96     26.02     66.02"
      ]
     },
     "execution_count": 42,
     "metadata": {},
     "output_type": "execute_result"
    }
   ],
   "source": [
    "#Рассмотрим влияние рейтинга ESRB на продажи в регионе.\n",
    "esrb_sale = (data_act.pivot_table(index = 'rating', values=['na_sales', 'eu_sales', 'jp_sales'], aggfunc='sum')\n",
    ".sort_values(by='eu_sales', ascending=False).reset_index())\n",
    "esrb_sale"
   ]
  },
  {
   "cell_type": "code",
   "execution_count": 43,
   "metadata": {},
   "outputs": [
    {
     "data": {
      "text/plain": [
       "{'na_sales': rating\n",
       " M          231.57\n",
       " E          114.37\n",
       " unknown    103.31\n",
       " E10+        75.70\n",
       " T           66.02\n",
       " Name: na_sales, dtype: float64,\n",
       " 'eu_sales': rating\n",
       " M          193.96\n",
       " E          113.03\n",
       " unknown     91.50\n",
       " E10+        55.37\n",
       " T           52.96\n",
       " Name: eu_sales, dtype: float64,\n",
       " 'jp_sales': rating\n",
       " unknown    108.84\n",
       " E           28.33\n",
       " T           26.02\n",
       " M           21.20\n",
       " E10+         8.19\n",
       " Name: jp_sales, dtype: float64}"
      ]
     },
     "execution_count": 43,
     "metadata": {},
     "output_type": "execute_result"
    }
   ],
   "source": [
    "esrb_sale_dict = {} #Запишем в словарь данные esrb\n",
    "for region in ['na_sales', 'eu_sales', 'jp_sales']:\n",
    "    esrb_sale_dict[region] = data_act.groupby('rating')[region].sum().sort_values(ascending=False)\n",
    "esrb_sale_dict"
   ]
  },
  {
   "cell_type": "code",
   "execution_count": 44,
   "metadata": {},
   "outputs": [
    {
     "data": {
      "image/png": "[encoded data removed]",
      "text/plain": [
       "<Figure size 1152x432 with 3 Axes>"
      ]
     },
     "metadata": {},
     "output_type": "display_data"
    }
   ],
   "source": [
    "#Отобразим это все на графиках\n",
    "fig, (ax1, ax2, ax3) = plt.subplots(nrows=1, ncols=3, figsize=(16, 6))\n",
    "fig.autofmt_xdate();\n",
    "\n",
    "i = 0\n",
    "x = [ax1, ax2, ax3]\n",
    "region = ['na_sales', 'eu_sales', 'jp_sales']\n",
    "explode = (0.15, 0, 0, 0, 0)\n",
    "\n",
    "for i in [0,1,2]:\n",
    "    labels = esrb_sale_dict[region[i]].index\n",
    "    sizes =esrb_sale_dict[region[i]].values\n",
    "    ax = x[i]\n",
    "    ax.set_title(f'Рейтинг ESRB в {region[i]}')\n",
    "    ax.pie(sizes, labels=labels, autopct='%1.1f%%', shadow=True, explode=explode,startangle=90) \n",
    "    ax.axis('equal')  \n",
    "\n",
    "plt.show()"
   ]
  },
  {
   "cell_type": "markdown",
   "metadata": {},
   "source": [
    " <br>Согласно данным из интернета рейтинг ESRB значит следующее:\n",
    "    <br>«EC» («Early childhood») — «Для детей младшего возраста»\n",
    "    <br>«E» («Everyone») — «Для всех»\n",
    "    <br>«E10+» («Everyone 10 and older») — «Для всех от 10 лет и старше»\n",
    "    <br>«T» («Teen») — «Подросткам»\n",
    "    <br>«M» («Mature») — «Для взрослых»\n",
    "    <br>«AO» («Adults Only 18+») — «Только для взрослых»\n",
    "    <br>«RP» («Rating Pending») — «Рейтинг ожидается»\n",
    "    <br>«K-A» — Тоже для всех возрастов, но использовался до 1998 года."
   ]
  },
  {
   "cell_type": "markdown",
   "metadata": {},
   "source": [
    "<div style=\"border:solid green 5px; padding: 16px; border-radius: 10px\">   \n",
    "<br>Как видно из таблицы рейтинга ESRB у пользователей Северной Америки и Европы одинаковыепредпочтения в возрастной категории игр. На первом месте «Для взрослых», на последнем месте игры для подростков.\n",
    "    <br> Пользователи Японии предпочитают игры с возрастным рейтингом «Для всех». На последнем месте «Для всех от 10 лет и старше».\n",
    "    <br> Так же у нас есть большая доля игр с неизвестным рейтингом."
   ]
  },
  {
   "cell_type": "markdown",
   "metadata": {},
   "source": [
    "### Вывод"
   ]
  },
  {
   "cell_type": "markdown",
   "metadata": {},
   "source": [
    "<br> В разных регионах разные лидеры игровых платформ по продажам. В Северной Америке лидер Х360 (28% доли рынка), в Европе лидер PS4 (33,9% доли рынка), в Японии лидер 3DS (50,7% доли рынка). При это PS3 занимает примерно одинаковые доли во всех регионах (20,4%-25,6%).\n",
    "\n",
    "<br> В Северной Америке и Европе топ5 жанров игр распределился одинаково: 1 место - Action (35%-38%), 2 место - Shooter (27%-28%), 3 место - Sports (16%), 4 место - Role-playing (11%-12%), 5 место - Misc (6%-7%).\n",
    "<br> В Японни практически половину доли рынка занимает Role-playing (43,4%). За ним идет Action (35%). 3 место - Misc (6%-7%), 4 место - Simulation (6,9%), 5 место - Fighting (6,3%).\n",
    "\n",
    "<br>Как видно из таблицы рейтинга ESRB у пользователей Северной Америки и Европы одинаковыепредпочтения в возрастной категории игр. На первом месте «Для взрослых», на последнем месте игры для подростков.\n",
    "    <br> Пользователи Японии предпочитают игры с возрастным рейтингом «Для всех», на последнем месте «Для всех от 10 лет и старше».\n",
    "    <br> Так же у нас есть большая доля игр с неизвестным рейтингом."
   ]
  },
  {
   "cell_type": "markdown",
   "metadata": {},
   "source": [
    "## Проверка гипотез"
   ]
  },
  {
   "cell_type": "markdown",
   "metadata": {},
   "source": [
    "#### Гипотеза: Средние пользовательские рейтинги платформ Xbox One и PC одинаковые"
   ]
  },
  {
   "cell_type": "markdown",
   "metadata": {},
   "source": [
    "<br>Нулевая гипотеза: Средние пользовательские рейтинги платформ Xbox One и PC равны\n",
    "<br>Альтернативная гипотеза: Средние пользовательские рейтинги платформ Xbox One и PC не равны"
   ]
  },
  {
   "cell_type": "code",
   "execution_count": 45,
   "metadata": {},
   "outputs": [],
   "source": [
    "#Сформируем массивы для проверки гипотезы\n",
    "xone = data_act.query(' platform == \"XOne\" ')['user_score'].dropna()\n",
    "pc = data_act.query(' platform == \"PC\" ')['user_score'].dropna()"
   ]
  },
  {
   "cell_type": "code",
   "execution_count": 46,
   "metadata": {},
   "outputs": [
    {
     "name": "stdout",
     "output_type": "stream",
     "text": [
      "Дисперсия XOne = 1.8965188383045526 // Дисперсия PC = 2.7569952398906588\n"
     ]
    }
   ],
   "source": [
    "#Посчитаем диспресии\n",
    "print('Дисперсия XOne =', np.var(xone), '// Дисперсия PC =', np.var(pc))"
   ]
  },
  {
   "cell_type": "code",
   "execution_count": 47,
   "metadata": {},
   "outputs": [
    {
     "name": "stdout",
     "output_type": "stream",
     "text": [
      "p-значение: 0.5535080500643661\n",
      "Не получилось отвергнуть нулевую гипотезу\n"
     ]
    }
   ],
   "source": [
    "#Дисперсии практически одинаковые, поэтому equal_var=True\n",
    "alpha = 0.05 #Зададим значение альфа в 5% так как большая точность нам здесь не важна\n",
    "\n",
    "results = st.ttest_ind(xone, pc, equal_var = True)\n",
    "#equal_var = True поскольку диспресии практически одинаковы\n",
    "print('p-значение:', results.pvalue)\n",
    "\n",
    "if (results.pvalue < alpha):\n",
    "    print(\"Отвергаем нулевую гипотезу\")\n",
    "else:\n",
    "    print(\"Не получилось отвергнуть нулевую гипотезу\")"
   ]
  },
  {
   "cell_type": "markdown",
   "metadata": {},
   "source": [
    "<div style=\"border:solid green 5px; padding: 16px; border-radius: 10px\">   \n",
    "<br> Принимаем нулевую гипотезу и делаем вывод: Средние пользовательские рейтинги платформ Xbox One и PC одинаковые."
   ]
  },
  {
   "cell_type": "markdown",
   "metadata": {},
   "source": [
    "#### Гипотеза: Средние пользовательские рейтинги жанров Action (англ. «действие», экшен-игры) и Sports (англ. «спортивные соревнования») разные"
   ]
  },
  {
   "cell_type": "markdown",
   "metadata": {},
   "source": [
    "<br>Нулевая гипотеза: Средние пользовательские рейтинги жанров Action и Sports равны\n",
    "<br>Альтернативная гипотеза: Средние пользовательские рейтинги жанров Action и Sports не равны"
   ]
  },
  {
   "cell_type": "code",
   "execution_count": 48,
   "metadata": {},
   "outputs": [],
   "source": [
    "#Сформируем массивы для проверки гипотезы\n",
    "action = data_act.query(' genre == \"Action\" ')['user_score'].dropna()\n",
    "sport = data_act.query(' genre == \"Sports\" ')['user_score'].dropna()"
   ]
  },
  {
   "cell_type": "code",
   "execution_count": 49,
   "metadata": {},
   "outputs": [
    {
     "name": "stdout",
     "output_type": "stream",
     "text": [
      "Дисперсия action = 1.8854720340439224 // Дисперсия sport = 3.0073882971729127\n"
     ]
    }
   ],
   "source": [
    "#Посчитаем диспресии\n",
    "print('Дисперсия action =', np.var(action), '// Дисперсия sport =', np.var(sport))"
   ]
  },
  {
   "cell_type": "code",
   "execution_count": 50,
   "metadata": {},
   "outputs": [
    {
     "name": "stdout",
     "output_type": "stream",
     "text": [
      "p-значение: 3.7163089460934874e-26\n",
      "Отвергаем нулевую гипотезу\n"
     ]
    }
   ],
   "source": [
    "#Дисперсии практически одинаковые, поэтому equal_var=True\n",
    "alpha = 0.05 #Зададим значение альфа в 5% так как большая точность нам здесь не важна\n",
    "\n",
    "results = st.ttest_ind(action, sport, equal_var = True)\n",
    "#equal_var = True поскольку диспресии практически одинаковы\n",
    "print('p-значение:', results.pvalue)\n",
    "\n",
    "if (results.pvalue < alpha):\n",
    "    print(\"Отвергаем нулевую гипотезу\")\n",
    "else:\n",
    "    print(\"Не получилось отвергнуть нулевую гипотезу\")"
   ]
  },
  {
   "cell_type": "markdown",
   "metadata": {},
   "source": [
    "<div style=\"border:solid green 5px; padding: 16px; border-radius: 10px\">   \n",
    "<br> Отвергаем нулевую гипотезу и делаем вывод: Средние пользовательские рейтинги жанров Action и Sports разные"
   ]
  },
  {
   "cell_type": "markdown",
   "metadata": {},
   "source": [
    "## Общий вывод"
   ]
  },
  {
   "cell_type": "markdown",
   "metadata": {},
   "source": [
    "<div style=\"border:solid green 5px; padding: 20px\">\n",
    "    \n",
    "**<font color=\"green\">Общий анализ данных датасета</font>**\n",
    "<br>Основная проблема данных - большое количество пропусков в столбцах user_score, critic_score, rating. Нужно привести названия столбцов к нижнему регистру и изменить в некоторых столбцах тип данных.\n",
    "    \n",
    "**<font color=\"green\">Анализ данных после предобработки данных</font>**   \n",
    "<br>1. Преобразовали типы данных в стобцах year_of_release и user_score. \n",
    "<br>2. Узнали, что TBD - это аббревиатура от английского To Be Determined (будет определено) или To Be Decided (будет решено). Значения TBD в столбце user_score заменили на 0.\n",
    "<br>3. Строки с пропусками (2 строки) в столбцах genre и name удалили.\n",
    "<br>4. Пропуски в столбцах user_score, critic_score оставили. Замена другими значениями может исказить результаты.\n",
    "<br>5. Пропуски в столбце rating заменили на unknown.\n",
    "    \n",
    "**<font color=\"green\">Расчёты и добавление результатов в таблицу</font>**   \n",
    "<br>1. Добавили информацию по суммарным продажам во всех регионах\n",
    "<br>2. В данных представлено 31 игровая платформа\n",
    "<br>3. Определили значение каждого обозначения в столбце rating.\n",
    "<br>4. В данных представлено 11559 уникальных игр.\n",
    " \n",
    "**<font color=\"green\">Исследовательский анализ данных</font>**          \n",
    "<br> В период с 1980 по 2008 год количество выпускаемых игр на разных платформах из года в год увеличивалось в разы ( от 9 игр в 1980 до 1427 игр в 2008). Затем начался спад и возможно это связано с тем, что начался кризис, который затронул и игровую индустрию. Некоторым игровым платформам пришлось закрыться и игры перестали на них выпускать. В период, с 2009 по 2016 количество выпускаемых игр опустилось с 1426 до 502. \n",
    "\n",
    "<br> Выпуск новых игр для игровых платформ - это очень динамично меняющаяся индустрия. То что было актуально 10 лет назад, может вообще не иметь значения в текущих реалиях. Учитывая что платформы бывают на пике своей популярности плюс минус 3 года, было принято решение рассматривать период за последние 5 лет (2012-2016). В эти годы количество выпускаемых игр держиться стабильно в пределах 550-650 игр.\n",
    "    \n",
    "<br> На 1 тепловой карте (количества продаж игр по игровым платформам за весь период) заметна \"сменяемость\" платформ. Одни приходят на смену другим. Так-же видно, что срок существования игровой платформы 10-12 лет, но есть исключения (PC будет жить вечно).\n",
    "<br> На 2 тепловой карте количества распределения продаж игр топ 10 игровых платформ по годам, так же, срок существования игровой платформы 10-12 лет. Наибольшая продаваемость игр происходит на 3-5 год существования \n",
    "<br> Лидер по продажам за все время является PS2 (1255,77 млн. копий), PS3 все еще не смог его обогнать (935,65 млн копий), но есть шанс у PS4 (311,14 млн копий) - он существует всего 4 года.\n",
    "\n",
    "<br> Рассматривая период 2012-2016, мы видим, что динамика продаж по всем игровым платформам снижается. Абсолютным лидером в 2016 году является PS4 (69,3 млн продаж), ее и выпустили 4 года назад. Можно так-же выделить XOne - 26,2 млн продаж (ближайший конкурент PS4). Так же, можно выделить 3DS (15,1 млн продаж) как лидера среди портативных игровых платформ и PC (5,25 млн. продаж) как игровую платформу дольше всего существующую на рынке\n",
    "\n",
    "<br> На графиках \"ящик с усами\" выделяется платформа X360 (медиана около 0,4 млн , 3 квартиль заканчивается 0,9 млн) - можно сделать вывод, что игр для этой платформы выпущено меньше, но продаж по ним больше чем по другим платформам.\n",
    "<br> Межквартальный размах очень похож у платфором PS3, PS4, XOne, Wii. И у них примерно одинаковая медиана, около 0,20 млн.\n",
    "<br> Все распрадаления платформ скошены вправо. Можно сказать, что у всех ящиков медиана лежит левее среднего значения.\n",
    "    \n",
    "<br>По платформе PS4 заметили небольшую положительную связь продаж от отзывов критиков (27%). Зависимости продаж от отзывов пользователей практически нет (4%).\n",
    "    <br> По платформам 'XOne','3DS','PC' практически аналогичные данные небольшая положительная зависомость от оценок критиков (25-43%) и меньшая положительная зависимость от оценок пользователей. Выделяется 3DS, у нее зависимость оценки пользователей и критиков практически равны (25-26%).\n",
    "    \n",
    "<br> Жанр action лидирует как по количеству созданных игр, так и по общим продажам. А дальше данные разнятся.\n",
    "<br>После action по суммарным продажам игр выделяются shooter, role-playing, sports и эти 4 жанра сильно преобладают над остальными жанрами. \n",
    "<br>А по количеству созданных игр после action идет: role-playing, adventure, sports. При чем, все жанры практически равномерно распределены после action по количеству созданных игр.\n",
    "<br>На последних местах в обоих графиках: strategy, puzzle.\n",
    "<br> А на распределение по жанрам и медианам продаж игр на первых трех местах shooter, sport и platform. На последних местах: puzzle и adventure.\n",
    "    \n",
    "**<font color=\"green\">Портрет пользователя каждого региона</font>** \n",
    "<br> В разных регионах разные лидеры игровых платформ по продажам. В Северной Америке лидер Х360 (28% доли рынка), в Европе лидер PS4 (33,9% доли рынка), в Японии лидер 3DS (50,7% доли рынка). При это PS3 занимает примерно одинаковые доли во всех регионах (20,4%-25,6%).\n",
    "\n",
    "<br> В Северной Америке и Европе топ5 жанров игр распределился одинаково: 1 место - Action (35%-38%), 2 место - Shooter (27%-28%), 3 место - Sports (16%), 4 место - Role-playing (11%-12%), 5 место - Misc (6%-7%).\n",
    "<br> В Японни практически половину доли рынка занимает Role-playing (43,4%). За ним идет Action (35%). 3 место - Misc (6%-7%), 4 место - Simulation (6,9%), 5 место - Fighting (6,3%).\n",
    "\n",
    "<br>Как видно из таблицы рейтинга ESRB у пользователей Северной Америки и Европы одинаковыепредпочтения в возрастной категории игр. На первом месте «Для взрослых», на последнем месте игры для подростков.\n",
    "    <br> Пользователи Японии предпочитают игры с возрастным рейтингом «Для всех», на последнем месте «Для всех от 10 лет и старше».\n",
    "    <br> Так же у нас есть большая доля игр с неизвестным рейтингом.\n",
    "    \n",
    "**<font color=\"green\">Проверка гипотез</font>** \n",
    "    <br>Гипотеза 1. Принимаем нулевую гипотезу и делаем вывод: Средние пользовательские рейтинги платформ Xbox One и PC равны\n",
    "    <br>Гипотеза 2. Отвергаем нулевую гипотезу и делаем вывод: Средние пользовательские рейтинги жанров Action и Sports не равны\n",
    "    \n",
    "**<font color=\"green\">Итог</font>** \n",
    "    <br>По проведенному анализу, можем сделать вывод, что интернет-магазину \"Стримчик\" следует сделать упор по следующим направлениям:\n",
    "<br>1. В Северной Америке основную часть продаж должны занимать игры для Х360 с жанрами Action, Shooter, Sports с возрастной категорией «Для взрослых»;\n",
    "<br>2. В Европе основную часть продаж должны занимать игры для PS4 с жанрами Action, Shooter, Sports с возрастной категорией «Для взрослых»;\n",
    "<br>3. В Японии основную часть продаж должны занимать игры для 3DS с жанрами Action, Role-playing, Misc с возрастной категорией «Для всех»;"
   ]
  }
 ],
 "metadata": {
  "ExecuteTimeLog": [
   {
    "duration": 1338,
    "start_time": "2022-03-18T19:13:06.891Z"
   },
   {
    "duration": 133,
    "start_time": "2022-03-18T19:34:16.440Z"
   },
   {
    "duration": 62,
    "start_time": "2022-03-18T19:51:18.455Z"
   },
   {
    "duration": 52,
    "start_time": "2022-03-18T19:51:56.536Z"
   },
   {
    "duration": 51,
    "start_time": "2022-03-18T19:52:06.989Z"
   },
   {
    "duration": 4,
    "start_time": "2022-03-18T19:52:19.562Z"
   },
   {
    "duration": 58,
    "start_time": "2022-03-18T19:52:25.836Z"
   },
   {
    "duration": 4,
    "start_time": "2022-03-18T19:55:01.076Z"
   },
   {
    "duration": 20,
    "start_time": "2022-03-18T19:55:08.377Z"
   },
   {
    "duration": 90,
    "start_time": "2022-03-18T19:55:40.174Z"
   },
   {
    "duration": 11,
    "start_time": "2022-03-18T19:55:47.246Z"
   },
   {
    "duration": 31,
    "start_time": "2022-03-18T19:56:20.552Z"
   },
   {
    "duration": 50,
    "start_time": "2022-03-18T19:58:23.924Z"
   },
   {
    "duration": 28,
    "start_time": "2022-03-18T20:00:27.206Z"
   },
   {
    "duration": 11,
    "start_time": "2022-03-18T20:00:29.509Z"
   },
   {
    "duration": 19,
    "start_time": "2022-03-18T20:00:31.072Z"
   },
   {
    "duration": 53,
    "start_time": "2022-03-18T20:00:34.227Z"
   },
   {
    "duration": 69,
    "start_time": "2022-03-19T11:41:48.946Z"
   },
   {
    "duration": 10,
    "start_time": "2022-03-19T11:41:53.948Z"
   },
   {
    "duration": 1686,
    "start_time": "2022-03-19T11:42:08.222Z"
   },
   {
    "duration": 84,
    "start_time": "2022-03-19T11:42:09.911Z"
   },
   {
    "duration": 31,
    "start_time": "2022-03-19T11:42:09.997Z"
   },
   {
    "duration": 31,
    "start_time": "2022-03-19T11:42:10.032Z"
   },
   {
    "duration": 66,
    "start_time": "2022-03-19T11:42:10.081Z"
   },
   {
    "duration": 8,
    "start_time": "2022-03-19T11:42:10.150Z"
   },
   {
    "duration": 9,
    "start_time": "2022-03-19T11:42:23.544Z"
   },
   {
    "duration": 14,
    "start_time": "2022-03-19T11:46:02.827Z"
   },
   {
    "duration": 147,
    "start_time": "2022-03-19T11:48:02.143Z"
   },
   {
    "duration": 2905,
    "start_time": "2022-03-19T11:48:06.449Z"
   },
   {
    "duration": 2735,
    "start_time": "2022-03-19T11:49:26.331Z"
   },
   {
    "duration": 31,
    "start_time": "2022-03-19T11:49:48.771Z"
   },
   {
    "duration": 4,
    "start_time": "2022-03-19T11:49:58.752Z"
   },
   {
    "duration": 12,
    "start_time": "2022-03-19T11:50:02.580Z"
   },
   {
    "duration": 5,
    "start_time": "2022-03-19T11:50:07.621Z"
   },
   {
    "duration": 1440,
    "start_time": "2022-03-19T11:50:37.857Z"
   },
   {
    "duration": 75,
    "start_time": "2022-03-19T11:50:39.299Z"
   },
   {
    "duration": 29,
    "start_time": "2022-03-19T11:50:39.383Z"
   },
   {
    "duration": 13,
    "start_time": "2022-03-19T11:50:39.415Z"
   },
   {
    "duration": 69,
    "start_time": "2022-03-19T11:50:39.430Z"
   },
   {
    "duration": 3,
    "start_time": "2022-03-19T11:50:39.501Z"
   },
   {
    "duration": 50,
    "start_time": "2022-03-19T11:50:39.507Z"
   },
   {
    "duration": 45,
    "start_time": "2022-03-19T11:50:39.560Z"
   },
   {
    "duration": 165,
    "start_time": "2022-03-19T12:08:36.327Z"
   },
   {
    "duration": 149,
    "start_time": "2022-03-19T12:09:05.966Z"
   },
   {
    "duration": 152,
    "start_time": "2022-03-19T12:09:28.401Z"
   },
   {
    "duration": 6,
    "start_time": "2022-03-19T12:09:58.967Z"
   },
   {
    "duration": 8,
    "start_time": "2022-03-19T12:16:04.215Z"
   },
   {
    "duration": 6,
    "start_time": "2022-03-19T12:16:13.564Z"
   },
   {
    "duration": 30,
    "start_time": "2022-03-19T12:16:16.614Z"
   },
   {
    "duration": 16,
    "start_time": "2022-03-19T12:16:38.076Z"
   },
   {
    "duration": 35,
    "start_time": "2022-03-19T12:16:47.947Z"
   },
   {
    "duration": 21,
    "start_time": "2022-03-19T12:18:46.364Z"
   },
   {
    "duration": 12,
    "start_time": "2022-03-19T12:19:14.425Z"
   },
   {
    "duration": 13,
    "start_time": "2022-03-19T12:19:24.706Z"
   },
   {
    "duration": 11,
    "start_time": "2022-03-19T12:19:32.198Z"
   },
   {
    "duration": 10,
    "start_time": "2022-03-19T12:24:58.293Z"
   },
   {
    "duration": 12,
    "start_time": "2022-03-19T12:25:02.558Z"
   },
   {
    "duration": 12,
    "start_time": "2022-03-19T12:25:09.951Z"
   },
   {
    "duration": 22,
    "start_time": "2022-03-19T12:26:21.077Z"
   },
   {
    "duration": 7,
    "start_time": "2022-03-19T12:27:21.803Z"
   },
   {
    "duration": 13,
    "start_time": "2022-03-19T12:31:51.422Z"
   },
   {
    "duration": 19,
    "start_time": "2022-03-19T12:32:32.507Z"
   },
   {
    "duration": 12,
    "start_time": "2022-03-19T12:44:12.539Z"
   },
   {
    "duration": 10,
    "start_time": "2022-03-19T12:44:35.219Z"
   },
   {
    "duration": 12,
    "start_time": "2022-03-19T12:44:59.674Z"
   },
   {
    "duration": 7,
    "start_time": "2022-03-19T12:45:12.523Z"
   },
   {
    "duration": 10,
    "start_time": "2022-03-19T12:45:27.516Z"
   },
   {
    "duration": 13,
    "start_time": "2022-03-19T12:46:21.179Z"
   },
   {
    "duration": 13,
    "start_time": "2022-03-19T12:46:37.484Z"
   },
   {
    "duration": 12,
    "start_time": "2022-03-19T12:48:39.454Z"
   },
   {
    "duration": 13,
    "start_time": "2022-03-19T12:48:44.124Z"
   },
   {
    "duration": 7,
    "start_time": "2022-03-19T12:48:48.188Z"
   },
   {
    "duration": 16,
    "start_time": "2022-03-19T12:50:24.026Z"
   },
   {
    "duration": 7,
    "start_time": "2022-03-19T12:53:57.371Z"
   },
   {
    "duration": 19,
    "start_time": "2022-03-19T12:54:03.451Z"
   },
   {
    "duration": 12,
    "start_time": "2022-03-19T12:54:29.700Z"
   },
   {
    "duration": 15,
    "start_time": "2022-03-19T12:54:48.705Z"
   },
   {
    "duration": 13,
    "start_time": "2022-03-19T12:56:46.340Z"
   },
   {
    "duration": 12,
    "start_time": "2022-03-19T12:57:26.633Z"
   },
   {
    "duration": 11,
    "start_time": "2022-03-19T12:58:37.361Z"
   },
   {
    "duration": 11,
    "start_time": "2022-03-19T13:02:42.390Z"
   },
   {
    "duration": 30,
    "start_time": "2022-03-19T13:02:59.305Z"
   },
   {
    "duration": 27,
    "start_time": "2022-03-19T13:04:24.269Z"
   },
   {
    "duration": 33,
    "start_time": "2022-03-19T13:04:43.532Z"
   },
   {
    "duration": 14,
    "start_time": "2022-03-19T13:05:18.413Z"
   },
   {
    "duration": 20,
    "start_time": "2022-03-19T13:06:04.401Z"
   },
   {
    "duration": 12,
    "start_time": "2022-03-19T13:06:36.487Z"
   },
   {
    "duration": 33,
    "start_time": "2022-03-19T13:07:22.080Z"
   },
   {
    "duration": 15,
    "start_time": "2022-03-19T13:07:59.871Z"
   },
   {
    "duration": 37,
    "start_time": "2022-03-19T13:08:23.264Z"
   },
   {
    "duration": 19,
    "start_time": "2022-03-19T13:08:58.804Z"
   },
   {
    "duration": 155,
    "start_time": "2022-03-19T13:10:05.815Z"
   },
   {
    "duration": 18,
    "start_time": "2022-03-19T13:10:19.581Z"
   },
   {
    "duration": 16,
    "start_time": "2022-03-19T13:11:03.246Z"
   },
   {
    "duration": 16,
    "start_time": "2022-03-19T13:12:05.322Z"
   },
   {
    "duration": 30,
    "start_time": "2022-03-19T13:13:25.748Z"
   },
   {
    "duration": 20,
    "start_time": "2022-03-19T13:14:48.590Z"
   },
   {
    "duration": 24,
    "start_time": "2022-03-19T13:18:12.428Z"
   },
   {
    "duration": 2505,
    "start_time": "2022-03-19T14:40:10.087Z"
   },
   {
    "duration": 19,
    "start_time": "2022-03-19T14:40:25.346Z"
   },
   {
    "duration": 54,
    "start_time": "2022-03-19T14:40:45.236Z"
   },
   {
    "duration": 20,
    "start_time": "2022-03-19T14:41:59.547Z"
   },
   {
    "duration": 24,
    "start_time": "2022-03-19T14:43:50.752Z"
   },
   {
    "duration": 19,
    "start_time": "2022-03-19T14:43:57.910Z"
   },
   {
    "duration": 1395,
    "start_time": "2022-03-19T14:44:40.087Z"
   },
   {
    "duration": 76,
    "start_time": "2022-03-19T14:44:41.485Z"
   },
   {
    "duration": 39,
    "start_time": "2022-03-19T14:44:41.564Z"
   },
   {
    "duration": 13,
    "start_time": "2022-03-19T14:44:41.607Z"
   },
   {
    "duration": 68,
    "start_time": "2022-03-19T14:44:41.622Z"
   },
   {
    "duration": 5,
    "start_time": "2022-03-19T14:44:41.692Z"
   },
   {
    "duration": 11,
    "start_time": "2022-03-19T14:44:41.699Z"
   },
   {
    "duration": 14,
    "start_time": "2022-03-19T14:44:41.713Z"
   },
   {
    "duration": 14,
    "start_time": "2022-03-19T14:44:41.729Z"
   },
   {
    "duration": 24,
    "start_time": "2022-03-19T14:44:41.784Z"
   },
   {
    "duration": 27,
    "start_time": "2022-03-19T14:44:41.810Z"
   },
   {
    "duration": 1389,
    "start_time": "2022-03-19T14:45:03.307Z"
   },
   {
    "duration": 76,
    "start_time": "2022-03-19T14:45:04.699Z"
   },
   {
    "duration": 29,
    "start_time": "2022-03-19T14:45:04.782Z"
   },
   {
    "duration": 13,
    "start_time": "2022-03-19T14:45:04.814Z"
   },
   {
    "duration": 73,
    "start_time": "2022-03-19T14:45:04.829Z"
   },
   {
    "duration": 4,
    "start_time": "2022-03-19T14:45:04.904Z"
   },
   {
    "duration": 12,
    "start_time": "2022-03-19T14:45:04.910Z"
   },
   {
    "duration": 16,
    "start_time": "2022-03-19T14:45:04.924Z"
   },
   {
    "duration": 47,
    "start_time": "2022-03-19T14:45:04.943Z"
   },
   {
    "duration": 24,
    "start_time": "2022-03-19T14:45:04.993Z"
   },
   {
    "duration": 64,
    "start_time": "2022-03-19T14:45:05.019Z"
   },
   {
    "duration": 3126,
    "start_time": "2022-03-19T14:59:54.001Z"
   },
   {
    "duration": 13,
    "start_time": "2022-03-19T15:00:03.306Z"
   },
   {
    "duration": 1396,
    "start_time": "2022-03-19T15:05:15.172Z"
   },
   {
    "duration": 77,
    "start_time": "2022-03-19T15:05:17.514Z"
   },
   {
    "duration": 3057,
    "start_time": "2022-03-19T15:05:51.651Z"
   },
   {
    "duration": 19,
    "start_time": "2022-03-19T15:06:02.724Z"
   },
   {
    "duration": 19,
    "start_time": "2022-03-19T15:06:18.365Z"
   },
   {
    "duration": 1316,
    "start_time": "2022-03-19T15:06:48.020Z"
   },
   {
    "duration": 79,
    "start_time": "2022-03-19T15:06:49.339Z"
   },
   {
    "duration": 28,
    "start_time": "2022-03-19T15:06:49.421Z"
   },
   {
    "duration": 35,
    "start_time": "2022-03-19T15:06:49.453Z"
   },
   {
    "duration": 43,
    "start_time": "2022-03-19T15:06:49.491Z"
   },
   {
    "duration": 5,
    "start_time": "2022-03-19T15:06:49.536Z"
   },
   {
    "duration": 42,
    "start_time": "2022-03-19T15:06:49.544Z"
   },
   {
    "duration": 17,
    "start_time": "2022-03-19T15:06:49.588Z"
   },
   {
    "duration": 33,
    "start_time": "2022-03-19T15:06:49.607Z"
   },
   {
    "duration": 68,
    "start_time": "2022-03-19T15:06:49.646Z"
   },
   {
    "duration": 36,
    "start_time": "2022-03-19T15:06:49.717Z"
   },
   {
    "duration": 46,
    "start_time": "2022-03-19T15:06:49.755Z"
   },
   {
    "duration": 22,
    "start_time": "2022-03-19T15:08:15.824Z"
   },
   {
    "duration": 23,
    "start_time": "2022-03-19T15:08:34.710Z"
   },
   {
    "duration": 26,
    "start_time": "2022-03-19T15:59:35.741Z"
   },
   {
    "duration": 24,
    "start_time": "2022-03-19T16:00:16.222Z"
   },
   {
    "duration": 33,
    "start_time": "2022-03-19T16:02:35.379Z"
   },
   {
    "duration": 39,
    "start_time": "2022-03-19T16:04:44.201Z"
   },
   {
    "duration": 20,
    "start_time": "2022-03-19T16:05:09.988Z"
   },
   {
    "duration": 17,
    "start_time": "2022-03-19T16:07:15.018Z"
   },
   {
    "duration": 51,
    "start_time": "2022-03-19T16:07:36.808Z"
   },
   {
    "duration": 8,
    "start_time": "2022-03-19T16:14:52.684Z"
   },
   {
    "duration": 9,
    "start_time": "2022-03-19T16:15:13.330Z"
   },
   {
    "duration": 135,
    "start_time": "2022-03-19T16:15:30.811Z"
   },
   {
    "duration": 14,
    "start_time": "2022-03-19T16:15:42.679Z"
   },
   {
    "duration": 17,
    "start_time": "2022-03-19T16:16:22.121Z"
   },
   {
    "duration": 18,
    "start_time": "2022-03-19T16:16:30.084Z"
   },
   {
    "duration": 14,
    "start_time": "2022-03-19T16:18:20.041Z"
   },
   {
    "duration": 6,
    "start_time": "2022-03-19T16:21:57.723Z"
   },
   {
    "duration": 12,
    "start_time": "2022-03-19T16:22:18.275Z"
   },
   {
    "duration": 6,
    "start_time": "2022-03-19T16:22:27.665Z"
   },
   {
    "duration": 21,
    "start_time": "2022-03-19T16:23:03.745Z"
   },
   {
    "duration": 25,
    "start_time": "2022-03-19T16:32:19.307Z"
   },
   {
    "duration": 17,
    "start_time": "2022-03-19T16:32:41.422Z"
   },
   {
    "duration": 35,
    "start_time": "2022-03-19T16:34:05.686Z"
   },
   {
    "duration": 27,
    "start_time": "2022-03-19T16:35:32.532Z"
   },
   {
    "duration": 1375,
    "start_time": "2022-03-19T16:35:39.638Z"
   },
   {
    "duration": 84,
    "start_time": "2022-03-19T16:35:41.016Z"
   },
   {
    "duration": 43,
    "start_time": "2022-03-19T16:35:41.103Z"
   },
   {
    "duration": 39,
    "start_time": "2022-03-19T16:35:41.149Z"
   },
   {
    "duration": 50,
    "start_time": "2022-03-19T16:35:41.191Z"
   },
   {
    "duration": 6,
    "start_time": "2022-03-19T16:35:41.243Z"
   },
   {
    "duration": 38,
    "start_time": "2022-03-19T16:35:41.251Z"
   },
   {
    "duration": 17,
    "start_time": "2022-03-19T16:35:41.292Z"
   },
   {
    "duration": 26,
    "start_time": "2022-03-19T16:35:41.312Z"
   },
   {
    "duration": 68,
    "start_time": "2022-03-19T16:35:41.341Z"
   },
   {
    "duration": 71,
    "start_time": "2022-03-19T16:35:41.413Z"
   },
   {
    "duration": 14,
    "start_time": "2022-03-19T16:35:41.487Z"
   },
   {
    "duration": 34,
    "start_time": "2022-03-19T16:35:41.504Z"
   },
   {
    "duration": 72,
    "start_time": "2022-03-19T16:35:41.543Z"
   },
   {
    "duration": 31,
    "start_time": "2022-03-19T16:35:41.618Z"
   },
   {
    "duration": 76,
    "start_time": "2022-03-19T16:35:41.653Z"
   },
   {
    "duration": 175,
    "start_time": "2022-03-19T16:35:41.732Z"
   },
   {
    "duration": 11,
    "start_time": "2022-03-19T16:38:05.302Z"
   },
   {
    "duration": 27,
    "start_time": "2022-03-19T16:38:20.031Z"
   },
   {
    "duration": 144,
    "start_time": "2022-03-19T16:38:29.769Z"
   },
   {
    "duration": 24,
    "start_time": "2022-03-19T16:38:36.983Z"
   },
   {
    "duration": 23,
    "start_time": "2022-03-19T16:38:42.299Z"
   },
   {
    "duration": 24,
    "start_time": "2022-03-19T16:38:49.644Z"
   },
   {
    "duration": 25,
    "start_time": "2022-03-19T16:39:02.144Z"
   },
   {
    "duration": 27,
    "start_time": "2022-03-19T16:39:33.959Z"
   },
   {
    "duration": 18,
    "start_time": "2022-03-19T16:39:39.349Z"
   },
   {
    "duration": 27,
    "start_time": "2022-03-19T16:40:01.734Z"
   },
   {
    "duration": 27,
    "start_time": "2022-03-19T16:40:07.872Z"
   },
   {
    "duration": 21,
    "start_time": "2022-03-19T16:40:53.925Z"
   },
   {
    "duration": 18,
    "start_time": "2022-03-19T16:42:31.219Z"
   },
   {
    "duration": 29,
    "start_time": "2022-03-19T16:45:00.085Z"
   },
   {
    "duration": 13,
    "start_time": "2022-03-19T16:45:36.253Z"
   },
   {
    "duration": 5,
    "start_time": "2022-03-19T16:51:07.201Z"
   },
   {
    "duration": 1384,
    "start_time": "2022-03-19T16:51:19.604Z"
   },
   {
    "duration": 78,
    "start_time": "2022-03-19T16:51:20.992Z"
   },
   {
    "duration": 36,
    "start_time": "2022-03-19T16:51:21.073Z"
   },
   {
    "duration": 13,
    "start_time": "2022-03-19T16:51:21.111Z"
   },
   {
    "duration": 70,
    "start_time": "2022-03-19T16:51:21.127Z"
   },
   {
    "duration": 4,
    "start_time": "2022-03-19T16:51:21.199Z"
   },
   {
    "duration": 28,
    "start_time": "2022-03-19T16:51:21.205Z"
   },
   {
    "duration": 15,
    "start_time": "2022-03-19T16:51:21.235Z"
   },
   {
    "duration": 34,
    "start_time": "2022-03-19T16:51:21.252Z"
   },
   {
    "duration": 26,
    "start_time": "2022-03-19T16:51:21.288Z"
   },
   {
    "duration": 6,
    "start_time": "2022-03-19T16:51:21.316Z"
   },
   {
    "duration": 65,
    "start_time": "2022-03-19T16:51:21.324Z"
   },
   {
    "duration": 14,
    "start_time": "2022-03-19T16:51:21.391Z"
   },
   {
    "duration": 25,
    "start_time": "2022-03-19T16:51:21.409Z"
   },
   {
    "duration": 71,
    "start_time": "2022-03-19T16:51:21.436Z"
   },
   {
    "duration": 20,
    "start_time": "2022-03-19T16:51:21.509Z"
   },
   {
    "duration": 69,
    "start_time": "2022-03-19T16:51:21.532Z"
   },
   {
    "duration": 29,
    "start_time": "2022-03-19T16:51:21.603Z"
   },
   {
    "duration": 15,
    "start_time": "2022-03-19T16:51:21.634Z"
   },
   {
    "duration": 143,
    "start_time": "2022-03-19T16:51:53.097Z"
   },
   {
    "duration": 20,
    "start_time": "2022-03-19T17:37:41.309Z"
   },
   {
    "duration": 25,
    "start_time": "2022-03-19T17:43:43.163Z"
   },
   {
    "duration": 24,
    "start_time": "2022-03-19T17:44:56.440Z"
   },
   {
    "duration": 22,
    "start_time": "2022-03-19T17:50:20.792Z"
   },
   {
    "duration": 20,
    "start_time": "2022-03-19T17:50:34.491Z"
   },
   {
    "duration": 29,
    "start_time": "2022-03-19T17:50:48.770Z"
   },
   {
    "duration": 29,
    "start_time": "2022-03-19T17:51:25.738Z"
   },
   {
    "duration": 2825,
    "start_time": "2022-03-19T17:53:13.257Z"
   },
   {
    "duration": 2637,
    "start_time": "2022-03-19T17:54:05.079Z"
   },
   {
    "duration": 143,
    "start_time": "2022-03-19T17:54:16.761Z"
   },
   {
    "duration": 290,
    "start_time": "2022-03-19T17:54:21.995Z"
   },
   {
    "duration": 283,
    "start_time": "2022-03-19T17:55:14.239Z"
   },
   {
    "duration": 393,
    "start_time": "2022-03-19T17:55:37.607Z"
   },
   {
    "duration": 339,
    "start_time": "2022-03-19T17:55:43.558Z"
   },
   {
    "duration": 134,
    "start_time": "2022-03-19T17:55:55.352Z"
   },
   {
    "duration": 301,
    "start_time": "2022-03-19T17:56:05.507Z"
   },
   {
    "duration": 17,
    "start_time": "2022-03-19T17:59:05.348Z"
   },
   {
    "duration": 86,
    "start_time": "2022-03-19T17:59:29.174Z"
   },
   {
    "duration": 721,
    "start_time": "2022-03-19T17:59:40.239Z"
   },
   {
    "duration": 33,
    "start_time": "2022-03-19T18:00:22.913Z"
   },
   {
    "duration": 144,
    "start_time": "2022-03-19T18:01:29.590Z"
   },
   {
    "duration": 1510,
    "start_time": "2022-03-19T18:01:43.474Z"
   },
   {
    "duration": 1444,
    "start_time": "2022-03-19T18:02:07.242Z"
   },
   {
    "duration": 120,
    "start_time": "2022-03-19T18:04:38.002Z"
   },
   {
    "duration": 1395,
    "start_time": "2022-03-19T18:05:20.941Z"
   },
   {
    "duration": 1869,
    "start_time": "2022-03-19T18:05:39.860Z"
   },
   {
    "duration": 1248,
    "start_time": "2022-03-19T18:07:12.191Z"
   },
   {
    "duration": 20,
    "start_time": "2022-03-19T18:23:48.169Z"
   },
   {
    "duration": 19,
    "start_time": "2022-03-19T18:23:55.718Z"
   },
   {
    "duration": 17,
    "start_time": "2022-03-19T18:31:22.158Z"
   },
   {
    "duration": 18,
    "start_time": "2022-03-19T18:31:36.123Z"
   },
   {
    "duration": 25,
    "start_time": "2022-03-19T18:31:44.310Z"
   },
   {
    "duration": 16,
    "start_time": "2022-03-19T18:32:01.958Z"
   },
   {
    "duration": 18,
    "start_time": "2022-03-19T18:32:17.090Z"
   },
   {
    "duration": 1344,
    "start_time": "2022-03-19T18:34:01.462Z"
   },
   {
    "duration": 19,
    "start_time": "2022-03-19T18:34:15.192Z"
   },
   {
    "duration": 17,
    "start_time": "2022-03-19T18:34:33.112Z"
   },
   {
    "duration": 17,
    "start_time": "2022-03-19T18:34:39.835Z"
   },
   {
    "duration": 1353,
    "start_time": "2022-03-19T18:35:11.015Z"
   },
   {
    "duration": 1467,
    "start_time": "2022-03-19T18:35:17.422Z"
   },
   {
    "duration": 1291,
    "start_time": "2022-03-19T18:35:32.046Z"
   },
   {
    "duration": 17,
    "start_time": "2022-03-19T18:36:01.758Z"
   },
   {
    "duration": 13,
    "start_time": "2022-03-19T18:36:28.043Z"
   },
   {
    "duration": 1292,
    "start_time": "2022-03-19T18:37:51.939Z"
   },
   {
    "duration": 17,
    "start_time": "2022-03-19T18:41:10.043Z"
   },
   {
    "duration": 15,
    "start_time": "2022-03-19T18:42:38.042Z"
   },
   {
    "duration": 19,
    "start_time": "2022-03-19T18:42:43.934Z"
   },
   {
    "duration": 17,
    "start_time": "2022-03-19T18:43:07.119Z"
   },
   {
    "duration": 101,
    "start_time": "2022-03-19T18:44:19.228Z"
   },
   {
    "duration": 37,
    "start_time": "2022-03-19T18:44:28.644Z"
   },
   {
    "duration": 41,
    "start_time": "2022-03-19T18:44:54.196Z"
   },
   {
    "duration": 155,
    "start_time": "2022-03-19T18:45:12.904Z"
   },
   {
    "duration": 143,
    "start_time": "2022-03-19T18:45:40.615Z"
   },
   {
    "duration": 150,
    "start_time": "2022-03-19T18:45:50.147Z"
   },
   {
    "duration": 40,
    "start_time": "2022-03-19T18:45:52.401Z"
   },
   {
    "duration": 140,
    "start_time": "2022-03-19T18:45:56.429Z"
   },
   {
    "duration": 2584,
    "start_time": "2022-03-19T18:46:11.735Z"
   },
   {
    "duration": 13,
    "start_time": "2022-03-19T18:46:22.462Z"
   },
   {
    "duration": 132,
    "start_time": "2022-03-19T18:46:43.175Z"
   },
   {
    "duration": 12,
    "start_time": "2022-03-19T18:47:14.464Z"
   },
   {
    "duration": 22,
    "start_time": "2022-03-19T18:47:20.781Z"
   },
   {
    "duration": 21,
    "start_time": "2022-03-19T18:47:25.368Z"
   },
   {
    "duration": 13,
    "start_time": "2022-03-19T18:47:31.694Z"
   },
   {
    "duration": 20,
    "start_time": "2022-03-19T18:47:55.991Z"
   },
   {
    "duration": 17,
    "start_time": "2022-03-19T18:48:35.816Z"
   },
   {
    "duration": 16,
    "start_time": "2022-03-19T18:48:55.597Z"
   },
   {
    "duration": 11,
    "start_time": "2022-03-19T18:52:39.612Z"
   },
   {
    "duration": 1381,
    "start_time": "2022-03-19T18:52:54.373Z"
   },
   {
    "duration": 12,
    "start_time": "2022-03-19T18:54:00.957Z"
   },
   {
    "duration": 72,
    "start_time": "2022-03-19T18:54:17.392Z"
   },
   {
    "duration": 14,
    "start_time": "2022-03-19T18:54:50.669Z"
   },
   {
    "duration": 17,
    "start_time": "2022-03-19T18:54:58.762Z"
   },
   {
    "duration": 15,
    "start_time": "2022-03-19T18:55:28.112Z"
   },
   {
    "duration": 14,
    "start_time": "2022-03-19T18:56:09.434Z"
   },
   {
    "duration": 15,
    "start_time": "2022-03-19T18:56:23.344Z"
   },
   {
    "duration": 570,
    "start_time": "2022-03-19T18:57:09.434Z"
   },
   {
    "duration": 858,
    "start_time": "2022-03-19T18:57:19.460Z"
   },
   {
    "duration": 932,
    "start_time": "2022-03-19T18:57:38.070Z"
   },
   {
    "duration": 947,
    "start_time": "2022-03-19T18:57:46.676Z"
   },
   {
    "duration": 1213,
    "start_time": "2022-03-19T19:26:11.571Z"
   },
   {
    "duration": 1292,
    "start_time": "2022-03-19T19:26:26.229Z"
   },
   {
    "duration": 1384,
    "start_time": "2022-03-19T19:26:43.440Z"
   },
   {
    "duration": 25,
    "start_time": "2022-03-19T19:27:21.016Z"
   },
   {
    "duration": 1263,
    "start_time": "2022-03-19T19:27:22.724Z"
   },
   {
    "duration": 1754,
    "start_time": "2022-03-19T19:28:56.933Z"
   },
   {
    "duration": 958,
    "start_time": "2022-03-19T19:29:08.877Z"
   },
   {
    "duration": 69,
    "start_time": "2022-03-20T07:58:12.084Z"
   },
   {
    "duration": 1362,
    "start_time": "2022-03-20T07:58:28.517Z"
   },
   {
    "duration": 63,
    "start_time": "2022-03-20T07:58:29.881Z"
   },
   {
    "duration": 22,
    "start_time": "2022-03-20T07:58:29.946Z"
   },
   {
    "duration": 9,
    "start_time": "2022-03-20T07:58:29.971Z"
   },
   {
    "duration": 57,
    "start_time": "2022-03-20T07:58:29.981Z"
   },
   {
    "duration": 4,
    "start_time": "2022-03-20T07:58:30.040Z"
   },
   {
    "duration": 28,
    "start_time": "2022-03-20T07:58:30.046Z"
   },
   {
    "duration": 13,
    "start_time": "2022-03-20T07:58:30.075Z"
   },
   {
    "duration": 9,
    "start_time": "2022-03-20T07:58:30.090Z"
   },
   {
    "duration": 17,
    "start_time": "2022-03-20T07:58:30.102Z"
   },
   {
    "duration": 15,
    "start_time": "2022-03-20T07:58:30.120Z"
   },
   {
    "duration": 40,
    "start_time": "2022-03-20T07:58:30.137Z"
   },
   {
    "duration": 8,
    "start_time": "2022-03-20T07:58:30.179Z"
   },
   {
    "duration": 26,
    "start_time": "2022-03-20T07:58:30.189Z"
   },
   {
    "duration": 35,
    "start_time": "2022-03-20T07:58:30.217Z"
   },
   {
    "duration": 15,
    "start_time": "2022-03-20T07:58:30.253Z"
   },
   {
    "duration": 45,
    "start_time": "2022-03-20T07:58:30.270Z"
   },
   {
    "duration": 37,
    "start_time": "2022-03-20T07:58:30.317Z"
   },
   {
    "duration": 42,
    "start_time": "2022-03-20T07:58:30.356Z"
   },
   {
    "duration": 51,
    "start_time": "2022-03-20T07:58:30.400Z"
   },
   {
    "duration": 313,
    "start_time": "2022-03-20T07:58:30.452Z"
   },
   {
    "duration": 17,
    "start_time": "2022-03-20T07:58:30.767Z"
   },
   {
    "duration": 929,
    "start_time": "2022-03-20T07:58:30.785Z"
   },
   {
    "duration": 9,
    "start_time": "2022-03-20T07:58:31.716Z"
   },
   {
    "duration": 620,
    "start_time": "2022-03-20T07:58:31.732Z"
   },
   {
    "duration": 833,
    "start_time": "2022-03-20T07:58:50.986Z"
   },
   {
    "duration": 679,
    "start_time": "2022-03-20T07:59:35.688Z"
   },
   {
    "duration": 1163,
    "start_time": "2022-03-20T08:00:04.982Z"
   },
   {
    "duration": 617,
    "start_time": "2022-03-20T08:00:56.287Z"
   },
   {
    "duration": 21,
    "start_time": "2022-03-20T08:07:19.801Z"
   },
   {
    "duration": 21,
    "start_time": "2022-03-20T08:08:42.382Z"
   },
   {
    "duration": 20,
    "start_time": "2022-03-20T08:10:49.167Z"
   },
   {
    "duration": 355,
    "start_time": "2022-03-20T08:12:04.183Z"
   },
   {
    "duration": 308,
    "start_time": "2022-03-20T08:12:12.842Z"
   },
   {
    "duration": 538,
    "start_time": "2022-03-20T08:13:10.624Z"
   },
   {
    "duration": 11,
    "start_time": "2022-03-20T08:13:37.575Z"
   },
   {
    "duration": 633,
    "start_time": "2022-03-20T08:15:31.140Z"
   },
   {
    "duration": 529,
    "start_time": "2022-03-20T08:17:02.066Z"
   },
   {
    "duration": 575,
    "start_time": "2022-03-20T08:17:19.711Z"
   },
   {
    "duration": 519,
    "start_time": "2022-03-20T08:17:27.463Z"
   },
   {
    "duration": 22,
    "start_time": "2022-03-20T08:17:46.973Z"
   },
   {
    "duration": 5,
    "start_time": "2022-03-20T08:17:58.401Z"
   },
   {
    "duration": 22,
    "start_time": "2022-03-20T08:18:01.376Z"
   },
   {
    "duration": 1184,
    "start_time": "2022-03-20T08:52:48.821Z"
   },
   {
    "duration": 66,
    "start_time": "2022-03-20T08:52:50.008Z"
   },
   {
    "duration": 19,
    "start_time": "2022-03-20T08:52:50.078Z"
   },
   {
    "duration": 10,
    "start_time": "2022-03-20T08:52:50.099Z"
   },
   {
    "duration": 58,
    "start_time": "2022-03-20T08:52:50.110Z"
   },
   {
    "duration": 5,
    "start_time": "2022-03-20T08:52:50.170Z"
   },
   {
    "duration": 10,
    "start_time": "2022-03-20T08:52:50.176Z"
   },
   {
    "duration": 12,
    "start_time": "2022-03-20T08:52:50.187Z"
   },
   {
    "duration": 49,
    "start_time": "2022-03-20T08:52:50.201Z"
   },
   {
    "duration": 24,
    "start_time": "2022-03-20T08:52:50.252Z"
   },
   {
    "duration": 4,
    "start_time": "2022-03-20T08:52:50.278Z"
   },
   {
    "duration": 34,
    "start_time": "2022-03-20T08:52:50.284Z"
   },
   {
    "duration": 28,
    "start_time": "2022-03-20T08:52:50.319Z"
   },
   {
    "duration": 38,
    "start_time": "2022-03-20T08:52:50.349Z"
   },
   {
    "duration": 22,
    "start_time": "2022-03-20T08:52:50.389Z"
   },
   {
    "duration": 19,
    "start_time": "2022-03-20T08:52:50.412Z"
   },
   {
    "duration": 42,
    "start_time": "2022-03-20T08:52:50.432Z"
   },
   {
    "duration": 21,
    "start_time": "2022-03-20T08:52:50.476Z"
   },
   {
    "duration": 40,
    "start_time": "2022-03-20T08:52:50.499Z"
   },
   {
    "duration": 28,
    "start_time": "2022-03-20T08:52:50.540Z"
   },
   {
    "duration": 221,
    "start_time": "2022-03-20T08:52:50.570Z"
   },
   {
    "duration": 17,
    "start_time": "2022-03-20T08:52:50.793Z"
   },
   {
    "duration": 880,
    "start_time": "2022-03-20T08:52:50.811Z"
   },
   {
    "duration": 10,
    "start_time": "2022-03-20T08:52:51.694Z"
   },
   {
    "duration": 679,
    "start_time": "2022-03-20T08:52:51.706Z"
   },
   {
    "duration": 21,
    "start_time": "2022-03-20T08:52:52.387Z"
   },
   {
    "duration": 585,
    "start_time": "2022-03-20T08:52:52.411Z"
   },
   {
    "duration": 604,
    "start_time": "2022-03-20T08:53:09.671Z"
   },
   {
    "duration": 646,
    "start_time": "2022-03-20T08:53:14.672Z"
   },
   {
    "duration": 33,
    "start_time": "2022-03-20T09:33:27.823Z"
   },
   {
    "duration": 280,
    "start_time": "2022-03-20T09:36:04.122Z"
   },
   {
    "duration": 337,
    "start_time": "2022-03-20T09:37:29.115Z"
   },
   {
    "duration": 310,
    "start_time": "2022-03-20T09:41:00.107Z"
   },
   {
    "duration": 6,
    "start_time": "2022-03-20T09:41:34.274Z"
   },
   {
    "duration": 23,
    "start_time": "2022-03-20T09:41:38.353Z"
   },
   {
    "duration": 194,
    "start_time": "2022-03-20T09:42:12.780Z"
   },
   {
    "duration": 27,
    "start_time": "2022-03-20T09:53:44.029Z"
   },
   {
    "duration": 30,
    "start_time": "2022-03-20T09:54:10.415Z"
   },
   {
    "duration": 88,
    "start_time": "2022-03-20T10:11:53.084Z"
   },
   {
    "duration": 32,
    "start_time": "2022-03-20T10:12:07.346Z"
   },
   {
    "duration": 15,
    "start_time": "2022-03-20T10:12:48.316Z"
   },
   {
    "duration": 16,
    "start_time": "2022-03-20T10:13:06.362Z"
   },
   {
    "duration": 14,
    "start_time": "2022-03-20T10:13:18.784Z"
   },
   {
    "duration": 18,
    "start_time": "2022-03-20T10:13:27.356Z"
   },
   {
    "duration": 8,
    "start_time": "2022-03-20T10:13:56.217Z"
   },
   {
    "duration": 2357,
    "start_time": "2022-03-20T10:15:18.509Z"
   },
   {
    "duration": 142,
    "start_time": "2022-03-20T10:15:40.452Z"
   },
   {
    "duration": 18,
    "start_time": "2022-03-20T10:16:40.283Z"
   },
   {
    "duration": 17,
    "start_time": "2022-03-20T10:16:43.933Z"
   },
   {
    "duration": 252,
    "start_time": "2022-03-20T10:16:45.839Z"
   },
   {
    "duration": 16,
    "start_time": "2022-03-20T10:18:05.080Z"
   },
   {
    "duration": 14,
    "start_time": "2022-03-20T10:18:08.728Z"
   },
   {
    "duration": 342,
    "start_time": "2022-03-20T10:18:09.855Z"
   },
   {
    "duration": 161,
    "start_time": "2022-03-20T10:19:52.121Z"
   },
   {
    "duration": 152,
    "start_time": "2022-03-20T10:19:55.941Z"
   },
   {
    "duration": 165,
    "start_time": "2022-03-20T10:20:17.250Z"
   },
   {
    "duration": 159,
    "start_time": "2022-03-20T10:20:19.733Z"
   },
   {
    "duration": 235,
    "start_time": "2022-03-20T10:20:46.814Z"
   },
   {
    "duration": 23,
    "start_time": "2022-03-20T10:31:49.245Z"
   },
   {
    "duration": 150,
    "start_time": "2022-03-20T10:33:32.516Z"
   },
   {
    "duration": 25,
    "start_time": "2022-03-20T10:33:43.843Z"
   },
   {
    "duration": 17,
    "start_time": "2022-03-20T10:35:47.986Z"
   },
   {
    "duration": 3,
    "start_time": "2022-03-20T10:42:08.846Z"
   },
   {
    "duration": 28,
    "start_time": "2022-03-20T10:44:18.723Z"
   },
   {
    "duration": 12,
    "start_time": "2022-03-20T10:44:21.042Z"
   },
   {
    "duration": 168,
    "start_time": "2022-03-20T10:44:24.300Z"
   },
   {
    "duration": 257,
    "start_time": "2022-03-20T10:44:27.784Z"
   },
   {
    "duration": 144,
    "start_time": "2022-03-20T10:44:32.673Z"
   },
   {
    "duration": 46,
    "start_time": "2022-03-20T10:45:16.184Z"
   },
   {
    "duration": 3,
    "start_time": "2022-03-20T10:45:35.938Z"
   },
   {
    "duration": 4,
    "start_time": "2022-03-20T10:45:46.246Z"
   },
   {
    "duration": 44,
    "start_time": "2022-03-20T10:46:16.026Z"
   },
   {
    "duration": 111,
    "start_time": "2022-03-20T10:48:45.316Z"
   },
   {
    "duration": 102,
    "start_time": "2022-03-20T10:48:57.271Z"
   },
   {
    "duration": 18,
    "start_time": "2022-03-20T10:49:30.091Z"
   },
   {
    "duration": 14,
    "start_time": "2022-03-20T10:49:51.221Z"
   },
   {
    "duration": 12,
    "start_time": "2022-03-20T10:50:02.482Z"
   },
   {
    "duration": 12,
    "start_time": "2022-03-20T10:50:18.434Z"
   },
   {
    "duration": 21,
    "start_time": "2022-03-20T10:50:32.398Z"
   },
   {
    "duration": 5,
    "start_time": "2022-03-20T10:51:23.930Z"
   },
   {
    "duration": 124,
    "start_time": "2022-03-20T10:51:34.358Z"
   },
   {
    "duration": 11,
    "start_time": "2022-03-20T10:52:07.570Z"
   },
   {
    "duration": 10,
    "start_time": "2022-03-20T10:52:27.963Z"
   },
   {
    "duration": 20,
    "start_time": "2022-03-20T10:52:42.793Z"
   },
   {
    "duration": 11,
    "start_time": "2022-03-20T10:53:14.604Z"
   },
   {
    "duration": 22,
    "start_time": "2022-03-20T10:53:33.412Z"
   },
   {
    "duration": 475,
    "start_time": "2022-03-20T10:56:50.058Z"
   },
   {
    "duration": 11,
    "start_time": "2022-03-20T10:57:21.473Z"
   },
   {
    "duration": 733,
    "start_time": "2022-03-20T11:02:14.489Z"
   },
   {
    "duration": 577,
    "start_time": "2022-03-20T11:02:28.870Z"
   },
   {
    "duration": 480,
    "start_time": "2022-03-20T11:03:19.895Z"
   },
   {
    "duration": 479,
    "start_time": "2022-03-20T11:04:19.078Z"
   },
   {
    "duration": 2119,
    "start_time": "2022-03-20T11:05:08.974Z"
   },
   {
    "duration": 2241,
    "start_time": "2022-03-20T11:05:19.798Z"
   },
   {
    "duration": 472,
    "start_time": "2022-03-20T11:05:26.455Z"
   },
   {
    "duration": 19,
    "start_time": "2022-03-20T11:07:10.449Z"
   },
   {
    "duration": 20,
    "start_time": "2022-03-20T11:07:17.503Z"
   },
   {
    "duration": 2518,
    "start_time": "2022-03-20T11:10:00.943Z"
   },
   {
    "duration": 473,
    "start_time": "2022-03-20T11:11:06.485Z"
   },
   {
    "duration": 295,
    "start_time": "2022-03-20T11:12:44.463Z"
   },
   {
    "duration": 311,
    "start_time": "2022-03-20T11:12:59.748Z"
   },
   {
    "duration": 297,
    "start_time": "2022-03-20T11:13:18.024Z"
   },
   {
    "duration": 307,
    "start_time": "2022-03-20T11:14:01.861Z"
   },
   {
    "duration": 409,
    "start_time": "2022-03-20T11:14:21.294Z"
   },
   {
    "duration": 13,
    "start_time": "2022-03-20T11:27:27.838Z"
   },
   {
    "duration": 736,
    "start_time": "2022-03-20T11:28:28.156Z"
   },
   {
    "duration": 737,
    "start_time": "2022-03-20T11:28:44.473Z"
   },
   {
    "duration": 747,
    "start_time": "2022-03-20T11:29:08.740Z"
   },
   {
    "duration": 483,
    "start_time": "2022-03-20T11:29:29.594Z"
   },
   {
    "duration": 174,
    "start_time": "2022-03-20T11:29:52.361Z"
   },
   {
    "duration": 414,
    "start_time": "2022-03-20T11:30:28.549Z"
   },
   {
    "duration": 563,
    "start_time": "2022-03-20T11:30:44.051Z"
   },
   {
    "duration": 902,
    "start_time": "2022-03-20T11:32:22.259Z"
   },
   {
    "duration": 956,
    "start_time": "2022-03-20T11:33:03.337Z"
   },
   {
    "duration": 940,
    "start_time": "2022-03-20T11:33:22.795Z"
   },
   {
    "duration": 7,
    "start_time": "2022-03-20T11:46:14.826Z"
   },
   {
    "duration": 12,
    "start_time": "2022-03-20T11:46:33.765Z"
   },
   {
    "duration": 9,
    "start_time": "2022-03-20T11:46:56.578Z"
   },
   {
    "duration": 9,
    "start_time": "2022-03-20T11:47:03.907Z"
   },
   {
    "duration": 7,
    "start_time": "2022-03-20T11:47:09.678Z"
   },
   {
    "duration": 11,
    "start_time": "2022-03-20T11:47:14.186Z"
   },
   {
    "duration": 7,
    "start_time": "2022-03-20T11:47:25.796Z"
   },
   {
    "duration": 7,
    "start_time": "2022-03-20T11:47:33.949Z"
   },
   {
    "duration": 7,
    "start_time": "2022-03-20T11:48:15.703Z"
   },
   {
    "duration": 7,
    "start_time": "2022-03-20T11:48:50.739Z"
   },
   {
    "duration": 5,
    "start_time": "2022-03-20T11:53:37.182Z"
   },
   {
    "duration": 156,
    "start_time": "2022-03-20T11:53:38.856Z"
   },
   {
    "duration": 171,
    "start_time": "2022-03-20T11:54:25.547Z"
   },
   {
    "duration": 259,
    "start_time": "2022-03-20T11:54:38.591Z"
   },
   {
    "duration": 158,
    "start_time": "2022-03-20T12:37:47.312Z"
   },
   {
    "duration": 155,
    "start_time": "2022-03-20T12:38:50.941Z"
   },
   {
    "duration": 7,
    "start_time": "2022-03-20T12:39:06.951Z"
   },
   {
    "duration": 159,
    "start_time": "2022-03-20T12:39:07.752Z"
   },
   {
    "duration": 172,
    "start_time": "2022-03-20T12:39:08.827Z"
   },
   {
    "duration": 6,
    "start_time": "2022-03-20T12:39:31.225Z"
   },
   {
    "duration": 3,
    "start_time": "2022-03-20T13:05:26.065Z"
   },
   {
    "duration": 12,
    "start_time": "2022-03-20T13:09:43.510Z"
   },
   {
    "duration": 11,
    "start_time": "2022-03-20T13:09:54.108Z"
   },
   {
    "duration": 337,
    "start_time": "2022-03-20T13:12:52.185Z"
   },
   {
    "duration": 11,
    "start_time": "2022-03-20T13:22:42.697Z"
   },
   {
    "duration": 313,
    "start_time": "2022-03-20T13:25:14.708Z"
   },
   {
    "duration": 8,
    "start_time": "2022-03-20T13:56:02.972Z"
   },
   {
    "duration": 9,
    "start_time": "2022-03-20T13:56:12.040Z"
   },
   {
    "duration": 13,
    "start_time": "2022-03-20T13:56:41.771Z"
   },
   {
    "duration": 11,
    "start_time": "2022-03-20T13:59:19.389Z"
   },
   {
    "duration": 17,
    "start_time": "2022-03-20T13:59:25.740Z"
   },
   {
    "duration": 18,
    "start_time": "2022-03-20T14:00:42.970Z"
   },
   {
    "duration": 18,
    "start_time": "2022-03-20T14:04:37.250Z"
   },
   {
    "duration": 16,
    "start_time": "2022-03-20T14:06:33.549Z"
   },
   {
    "duration": 16,
    "start_time": "2022-03-20T14:06:58.626Z"
   },
   {
    "duration": 8,
    "start_time": "2022-03-20T14:24:51.570Z"
   },
   {
    "duration": 5,
    "start_time": "2022-03-20T14:24:56.211Z"
   },
   {
    "duration": 8,
    "start_time": "2022-03-20T14:25:06.347Z"
   },
   {
    "duration": 5,
    "start_time": "2022-03-20T14:25:08.433Z"
   },
   {
    "duration": 8,
    "start_time": "2022-03-20T14:28:24.223Z"
   },
   {
    "duration": 5,
    "start_time": "2022-03-20T14:28:29.441Z"
   },
   {
    "duration": 8,
    "start_time": "2022-03-20T14:29:12.169Z"
   },
   {
    "duration": 5,
    "start_time": "2022-03-20T14:29:31.399Z"
   },
   {
    "duration": 4,
    "start_time": "2022-03-20T14:29:46.822Z"
   },
   {
    "duration": 7,
    "start_time": "2022-03-20T14:35:22.814Z"
   },
   {
    "duration": 5,
    "start_time": "2022-03-20T14:35:23.981Z"
   },
   {
    "duration": 4,
    "start_time": "2022-03-20T14:35:26.318Z"
   },
   {
    "duration": 9,
    "start_time": "2022-03-20T14:39:32.167Z"
   },
   {
    "duration": 7,
    "start_time": "2022-03-20T14:39:38.800Z"
   },
   {
    "duration": 7,
    "start_time": "2022-03-20T14:39:49.190Z"
   },
   {
    "duration": 6,
    "start_time": "2022-03-20T14:40:05.299Z"
   },
   {
    "duration": 9,
    "start_time": "2022-03-20T14:43:03.542Z"
   },
   {
    "duration": 4,
    "start_time": "2022-03-20T14:43:37.707Z"
   },
   {
    "duration": 5,
    "start_time": "2022-03-20T14:46:16.752Z"
   },
   {
    "duration": 171,
    "start_time": "2022-03-20T14:48:48.522Z"
   },
   {
    "duration": 1188,
    "start_time": "2022-03-20T15:59:35.740Z"
   },
   {
    "duration": 78,
    "start_time": "2022-03-20T15:59:36.929Z"
   },
   {
    "duration": 18,
    "start_time": "2022-03-20T15:59:37.009Z"
   },
   {
    "duration": 9,
    "start_time": "2022-03-20T15:59:37.029Z"
   },
   {
    "duration": 28,
    "start_time": "2022-03-20T15:59:37.040Z"
   },
   {
    "duration": 3,
    "start_time": "2022-03-20T15:59:37.070Z"
   },
   {
    "duration": 9,
    "start_time": "2022-03-20T15:59:37.075Z"
   },
   {
    "duration": 11,
    "start_time": "2022-03-20T15:59:37.085Z"
   },
   {
    "duration": 42,
    "start_time": "2022-03-20T15:59:37.098Z"
   },
   {
    "duration": 17,
    "start_time": "2022-03-20T15:59:37.142Z"
   },
   {
    "duration": 4,
    "start_time": "2022-03-20T15:59:37.161Z"
   },
   {
    "duration": 24,
    "start_time": "2022-03-20T15:59:37.166Z"
   },
   {
    "duration": 8,
    "start_time": "2022-03-20T15:59:37.191Z"
   },
   {
    "duration": 14,
    "start_time": "2022-03-20T15:59:37.233Z"
   },
   {
    "duration": 20,
    "start_time": "2022-03-20T15:59:37.249Z"
   },
   {
    "duration": 12,
    "start_time": "2022-03-20T15:59:37.270Z"
   },
   {
    "duration": 61,
    "start_time": "2022-03-20T15:59:37.284Z"
   },
   {
    "duration": 20,
    "start_time": "2022-03-20T15:59:37.346Z"
   },
   {
    "duration": 11,
    "start_time": "2022-03-20T15:59:37.368Z"
   },
   {
    "duration": 18,
    "start_time": "2022-03-20T15:59:37.381Z"
   },
   {
    "duration": 214,
    "start_time": "2022-03-20T15:59:37.401Z"
   },
   {
    "duration": 24,
    "start_time": "2022-03-20T15:59:37.617Z"
   },
   {
    "duration": 804,
    "start_time": "2022-03-20T15:59:37.642Z"
   },
   {
    "duration": 9,
    "start_time": "2022-03-20T15:59:38.447Z"
   },
   {
    "duration": 584,
    "start_time": "2022-03-20T15:59:38.457Z"
   },
   {
    "duration": 21,
    "start_time": "2022-03-20T15:59:39.043Z"
   },
   {
    "duration": 530,
    "start_time": "2022-03-20T15:59:39.065Z"
   },
   {
    "duration": 329,
    "start_time": "2022-03-20T15:59:39.598Z"
   },
   {
    "duration": 16,
    "start_time": "2022-03-20T15:59:39.928Z"
   },
   {
    "duration": 10,
    "start_time": "2022-03-20T15:59:39.946Z"
   },
   {
    "duration": 328,
    "start_time": "2022-03-20T15:59:39.958Z"
   },
   {
    "duration": 911,
    "start_time": "2022-03-20T15:59:40.287Z"
   },
   {
    "duration": 6,
    "start_time": "2022-03-20T15:59:41.200Z"
   },
   {
    "duration": 167,
    "start_time": "2022-03-20T15:59:41.207Z"
   },
   {
    "duration": 169,
    "start_time": "2022-03-20T15:59:41.376Z"
   },
   {
    "duration": 11,
    "start_time": "2022-03-20T15:59:41.547Z"
   },
   {
    "duration": 338,
    "start_time": "2022-03-20T15:59:41.559Z"
   },
   {
    "duration": 10,
    "start_time": "2022-03-20T15:59:41.899Z"
   },
   {
    "duration": 324,
    "start_time": "2022-03-20T15:59:41.911Z"
   },
   {
    "duration": 16,
    "start_time": "2022-03-20T15:59:42.237Z"
   },
   {
    "duration": 7,
    "start_time": "2022-03-20T15:59:42.254Z"
   },
   {
    "duration": 7,
    "start_time": "2022-03-20T15:59:42.263Z"
   },
   {
    "duration": 5,
    "start_time": "2022-03-20T15:59:42.272Z"
   },
   {
    "duration": 9,
    "start_time": "2022-03-20T15:59:42.279Z"
   },
   {
    "duration": 4,
    "start_time": "2022-03-20T15:59:42.290Z"
   },
   {
    "duration": 39,
    "start_time": "2022-03-20T15:59:42.296Z"
   },
   {
    "duration": 1454,
    "start_time": "2022-03-31T08:36:46.487Z"
   },
   {
    "duration": 64,
    "start_time": "2022-03-31T08:36:47.943Z"
   },
   {
    "duration": 3,
    "start_time": "2022-03-31T08:36:57.487Z"
   },
   {
    "duration": 61,
    "start_time": "2022-03-31T08:36:57.863Z"
   },
   {
    "duration": 22,
    "start_time": "2022-03-31T08:37:03.975Z"
   },
   {
    "duration": 10,
    "start_time": "2022-03-31T08:37:08.807Z"
   },
   {
    "duration": 32,
    "start_time": "2022-03-31T08:37:14.908Z"
   },
   {
    "duration": 3,
    "start_time": "2022-03-31T08:37:51.639Z"
   },
   {
    "duration": 11,
    "start_time": "2022-03-31T08:39:12.064Z"
   },
   {
    "duration": 12,
    "start_time": "2022-03-31T08:43:00.307Z"
   },
   {
    "duration": 20,
    "start_time": "2022-03-31T08:43:05.971Z"
   },
   {
    "duration": 5,
    "start_time": "2022-03-31T08:44:01.457Z"
   },
   {
    "duration": 26,
    "start_time": "2022-03-31T08:44:01.965Z"
   },
   {
    "duration": 10,
    "start_time": "2022-03-31T08:44:05.307Z"
   },
   {
    "duration": 26,
    "start_time": "2022-03-31T08:46:06.142Z"
   },
   {
    "duration": 14,
    "start_time": "2022-03-31T08:46:47.182Z"
   },
   {
    "duration": 39,
    "start_time": "2022-03-31T08:46:48.326Z"
   },
   {
    "duration": 25,
    "start_time": "2022-03-31T08:46:50.966Z"
   },
   {
    "duration": 15,
    "start_time": "2022-03-31T08:46:52.725Z"
   },
   {
    "duration": 19,
    "start_time": "2022-03-31T08:47:23.148Z"
   },
   {
    "duration": 215,
    "start_time": "2022-03-31T08:47:53.470Z"
   },
   {
    "duration": 19,
    "start_time": "2022-03-31T08:48:36.014Z"
   },
   {
    "duration": 1035,
    "start_time": "2022-03-31T08:49:04.688Z"
   },
   {
    "duration": 9,
    "start_time": "2022-03-31T08:50:00.279Z"
   },
   {
    "duration": 11,
    "start_time": "2022-03-31T08:51:35.430Z"
   },
   {
    "duration": 9,
    "start_time": "2022-03-31T08:51:50.698Z"
   },
   {
    "duration": 696,
    "start_time": "2022-03-31T08:51:52.697Z"
   },
   {
    "duration": 26,
    "start_time": "2022-03-31T08:57:01.093Z"
   },
   {
    "duration": 622,
    "start_time": "2022-03-31T08:57:35.285Z"
   },
   {
    "duration": 357,
    "start_time": "2022-03-31T08:58:03.941Z"
   },
   {
    "duration": 19,
    "start_time": "2022-03-31T08:59:34.925Z"
   },
   {
    "duration": 11,
    "start_time": "2022-03-31T08:59:47.388Z"
   },
   {
    "duration": 344,
    "start_time": "2022-03-31T08:59:48.606Z"
   },
   {
    "duration": 1042,
    "start_time": "2022-03-31T09:36:36.236Z"
   },
   {
    "duration": 7,
    "start_time": "2022-03-31T09:39:59.256Z"
   },
   {
    "duration": 192,
    "start_time": "2022-03-31T09:40:00.080Z"
   },
   {
    "duration": 193,
    "start_time": "2022-03-31T09:40:01.893Z"
   },
   {
    "duration": 11,
    "start_time": "2022-03-31T09:42:56.288Z"
   },
   {
    "duration": 446,
    "start_time": "2022-03-31T09:43:01.906Z"
   },
   {
    "duration": 11,
    "start_time": "2022-03-31T09:43:11.512Z"
   },
   {
    "duration": 424,
    "start_time": "2022-03-31T09:43:12.913Z"
   },
   {
    "duration": 18,
    "start_time": "2022-03-31T09:43:17.243Z"
   },
   {
    "duration": 8,
    "start_time": "2022-03-31T09:44:21.722Z"
   },
   {
    "duration": 5,
    "start_time": "2022-03-31T09:44:23.263Z"
   },
   {
    "duration": 9,
    "start_time": "2022-03-31T09:45:23.960Z"
   },
   {
    "duration": 4,
    "start_time": "2022-03-31T09:45:25.125Z"
   },
   {
    "duration": 6,
    "start_time": "2022-03-31T09:45:26.064Z"
   },
   {
    "duration": 1291,
    "start_time": "2022-03-31T17:36:46.046Z"
   },
   {
    "duration": 62,
    "start_time": "2022-03-31T17:36:47.338Z"
   },
   {
    "duration": 22,
    "start_time": "2022-03-31T17:36:52.048Z"
   },
   {
    "duration": 9,
    "start_time": "2022-03-31T17:36:53.831Z"
   },
   {
    "duration": 30,
    "start_time": "2022-03-31T17:36:55.192Z"
   },
   {
    "duration": 3,
    "start_time": "2022-03-31T17:37:00.444Z"
   },
   {
    "duration": 8,
    "start_time": "2022-03-31T17:37:01.746Z"
   },
   {
    "duration": 11,
    "start_time": "2022-03-31T17:41:59.306Z"
   },
   {
    "duration": 96,
    "start_time": "2022-03-31T17:44:42.063Z"
   },
   {
    "duration": 10,
    "start_time": "2022-03-31T17:44:50.938Z"
   },
   {
    "duration": 1186,
    "start_time": "2022-03-31T17:45:38.963Z"
   },
   {
    "duration": 63,
    "start_time": "2022-03-31T17:45:40.151Z"
   },
   {
    "duration": 25,
    "start_time": "2022-03-31T17:45:40.216Z"
   },
   {
    "duration": 10,
    "start_time": "2022-03-31T17:45:41.058Z"
   },
   {
    "duration": 29,
    "start_time": "2022-03-31T17:45:41.773Z"
   },
   {
    "duration": 3,
    "start_time": "2022-03-31T17:45:45.543Z"
   },
   {
    "duration": 8,
    "start_time": "2022-03-31T17:45:46.185Z"
   },
   {
    "duration": 11,
    "start_time": "2022-03-31T17:45:50.369Z"
   },
   {
    "duration": 11,
    "start_time": "2022-03-31T17:45:54.114Z"
   },
   {
    "duration": 12,
    "start_time": "2022-03-31T17:46:41.102Z"
   },
   {
    "duration": 26,
    "start_time": "2022-03-31T17:46:43.442Z"
   },
   {
    "duration": 5,
    "start_time": "2022-03-31T17:46:47.619Z"
   },
   {
    "duration": 26,
    "start_time": "2022-03-31T17:46:48.107Z"
   },
   {
    "duration": 9,
    "start_time": "2022-03-31T17:46:48.855Z"
   },
   {
    "duration": 16,
    "start_time": "2022-03-31T17:46:51.211Z"
   },
   {
    "duration": 1031,
    "start_time": "2022-03-31T17:48:06.522Z"
   },
   {
    "duration": 938,
    "start_time": "2022-03-31T17:49:03.219Z"
   },
   {
    "duration": 1776,
    "start_time": "2022-03-31T17:49:57.664Z"
   },
   {
    "duration": 9,
    "start_time": "2022-03-31T17:50:20.833Z"
   },
   {
    "duration": 12,
    "start_time": "2022-03-31T17:50:49.257Z"
   },
   {
    "duration": 12,
    "start_time": "2022-03-31T17:51:42.258Z"
   },
   {
    "duration": 14,
    "start_time": "2022-03-31T17:51:49.612Z"
   },
   {
    "duration": 36,
    "start_time": "2022-03-31T17:52:07.278Z"
   },
   {
    "duration": 14,
    "start_time": "2022-03-31T17:52:27.934Z"
   },
   {
    "duration": 34,
    "start_time": "2022-03-31T17:52:28.633Z"
   },
   {
    "duration": 23,
    "start_time": "2022-03-31T17:52:30.164Z"
   },
   {
    "duration": 18,
    "start_time": "2022-03-31T17:52:33.688Z"
   },
   {
    "duration": 19,
    "start_time": "2022-03-31T17:52:43.762Z"
   },
   {
    "duration": 197,
    "start_time": "2022-03-31T17:53:06.777Z"
   },
   {
    "duration": 1826,
    "start_time": "2022-03-31T17:54:28.138Z"
   },
   {
    "duration": 184,
    "start_time": "2022-03-31T17:56:10.950Z"
   },
   {
    "duration": 179,
    "start_time": "2022-03-31T17:56:33.861Z"
   },
   {
    "duration": 19,
    "start_time": "2022-03-31T17:57:08.891Z"
   },
   {
    "duration": 808,
    "start_time": "2022-03-31T17:57:14.660Z"
   },
   {
    "duration": 825,
    "start_time": "2022-03-31T17:57:25.496Z"
   },
   {
    "duration": 10,
    "start_time": "2022-03-31T17:57:45.308Z"
   },
   {
    "duration": 661,
    "start_time": "2022-03-31T17:57:46.657Z"
   },
   {
    "duration": 22,
    "start_time": "2022-03-31T18:23:32.032Z"
   },
   {
    "duration": 564,
    "start_time": "2022-03-31T18:25:41.166Z"
   },
   {
    "duration": 428,
    "start_time": "2022-03-31T18:26:15.690Z"
   },
   {
    "duration": 231,
    "start_time": "2022-03-31T18:27:15.911Z"
   },
   {
    "duration": 425,
    "start_time": "2022-03-31T18:30:53.535Z"
   },
   {
    "duration": 446,
    "start_time": "2022-03-31T18:32:09.744Z"
   },
   {
    "duration": 366,
    "start_time": "2022-03-31T18:41:53.613Z"
   },
   {
    "duration": 17,
    "start_time": "2022-03-31T18:44:38.133Z"
   },
   {
    "duration": 9,
    "start_time": "2022-03-31T18:46:00.612Z"
   },
   {
    "duration": 333,
    "start_time": "2022-03-31T18:46:02.659Z"
   },
   {
    "duration": 325,
    "start_time": "2022-03-31T18:47:46.049Z"
   },
   {
    "duration": 273,
    "start_time": "2022-03-31T18:48:31.346Z"
   },
   {
    "duration": 179,
    "start_time": "2022-03-31T18:48:52.712Z"
   },
   {
    "duration": 295,
    "start_time": "2022-03-31T18:51:37.345Z"
   },
   {
    "duration": 326,
    "start_time": "2022-03-31T18:52:58.469Z"
   },
   {
    "duration": 332,
    "start_time": "2022-03-31T18:54:10.833Z"
   },
   {
    "duration": 168,
    "start_time": "2022-03-31T18:55:37.545Z"
   },
   {
    "duration": 1043,
    "start_time": "2022-03-31T18:55:57.617Z"
   },
   {
    "duration": 921,
    "start_time": "2022-03-31T18:56:35.801Z"
   },
   {
    "duration": 185,
    "start_time": "2022-03-31T18:57:18.189Z"
   },
   {
    "duration": 171,
    "start_time": "2022-03-31T18:57:40.874Z"
   },
   {
    "duration": 113,
    "start_time": "2022-03-31T18:58:09.624Z"
   },
   {
    "duration": 987,
    "start_time": "2022-03-31T18:58:20.984Z"
   },
   {
    "duration": 1073,
    "start_time": "2022-03-31T18:58:53.553Z"
   },
   {
    "duration": 997,
    "start_time": "2022-03-31T18:59:17.892Z"
   },
   {
    "duration": 7,
    "start_time": "2022-03-31T19:04:39.884Z"
   },
   {
    "duration": 186,
    "start_time": "2022-03-31T19:04:41.693Z"
   },
   {
    "duration": 190,
    "start_time": "2022-03-31T19:06:12.315Z"
   },
   {
    "duration": 8,
    "start_time": "2022-03-31T19:07:17.323Z"
   },
   {
    "duration": 189,
    "start_time": "2022-03-31T19:07:18.068Z"
   },
   {
    "duration": 186,
    "start_time": "2022-03-31T19:07:19.499Z"
   },
   {
    "duration": 213,
    "start_time": "2022-03-31T19:08:39.987Z"
   },
   {
    "duration": 158,
    "start_time": "2022-03-31T19:11:33.807Z"
   },
   {
    "duration": 173,
    "start_time": "2022-03-31T19:12:38.378Z"
   },
   {
    "duration": 280,
    "start_time": "2022-03-31T19:13:51.243Z"
   },
   {
    "duration": 177,
    "start_time": "2022-03-31T19:14:07.588Z"
   },
   {
    "duration": 170,
    "start_time": "2022-03-31T19:14:45.272Z"
   },
   {
    "duration": 171,
    "start_time": "2022-03-31T19:14:47.597Z"
   },
   {
    "duration": 13,
    "start_time": "2022-03-31T19:20:50.045Z"
   },
   {
    "duration": 338,
    "start_time": "2022-03-31T19:20:51.551Z"
   },
   {
    "duration": 11,
    "start_time": "2022-03-31T19:20:55.028Z"
   },
   {
    "duration": 318,
    "start_time": "2022-03-31T19:20:58.527Z"
   },
   {
    "duration": 16,
    "start_time": "2022-03-31T19:21:12.099Z"
   },
   {
    "duration": 320,
    "start_time": "2022-03-31T19:23:08.899Z"
   },
   {
    "duration": 7,
    "start_time": "2022-03-31T19:25:19.064Z"
   },
   {
    "duration": 420,
    "start_time": "2022-03-31T19:25:49.758Z"
   },
   {
    "duration": 314,
    "start_time": "2022-03-31T19:26:12.401Z"
   },
   {
    "duration": 328,
    "start_time": "2022-03-31T19:26:37.281Z"
   },
   {
    "duration": 369,
    "start_time": "2022-03-31T19:26:43.427Z"
   },
   {
    "duration": 317,
    "start_time": "2022-03-31T19:26:48.732Z"
   },
   {
    "duration": 247,
    "start_time": "2022-03-31T19:28:21.202Z"
   },
   {
    "duration": 418,
    "start_time": "2022-03-31T19:28:43.064Z"
   },
   {
    "duration": 240,
    "start_time": "2022-03-31T19:29:30.448Z"
   },
   {
    "duration": 246,
    "start_time": "2022-03-31T19:29:52.975Z"
   },
   {
    "duration": 262,
    "start_time": "2022-03-31T19:30:20.378Z"
   },
   {
    "duration": 249,
    "start_time": "2022-03-31T19:31:00.579Z"
   },
   {
    "duration": 243,
    "start_time": "2022-03-31T19:31:14.930Z"
   },
   {
    "duration": 239,
    "start_time": "2022-03-31T19:31:23.328Z"
   },
   {
    "duration": 231,
    "start_time": "2022-03-31T19:31:28.790Z"
   },
   {
    "duration": 356,
    "start_time": "2022-03-31T19:31:39.791Z"
   },
   {
    "duration": 304,
    "start_time": "2022-03-31T19:31:45.720Z"
   },
   {
    "duration": 246,
    "start_time": "2022-03-31T19:32:35.320Z"
   },
   {
    "duration": 298,
    "start_time": "2022-03-31T19:33:11.883Z"
   },
   {
    "duration": 11,
    "start_time": "2022-03-31T19:37:15.681Z"
   },
   {
    "duration": 10,
    "start_time": "2022-03-31T19:37:38.722Z"
   },
   {
    "duration": 314,
    "start_time": "2022-03-31T19:38:16.103Z"
   },
   {
    "duration": 425,
    "start_time": "2022-03-31T19:39:37.708Z"
   },
   {
    "duration": 1190,
    "start_time": "2022-04-01T12:14:36.634Z"
   },
   {
    "duration": 56,
    "start_time": "2022-04-01T12:14:37.826Z"
   },
   {
    "duration": 24,
    "start_time": "2022-04-01T12:14:39.258Z"
   },
   {
    "duration": 10,
    "start_time": "2022-04-01T12:14:40.441Z"
   },
   {
    "duration": 28,
    "start_time": "2022-04-01T12:14:42.434Z"
   },
   {
    "duration": 3,
    "start_time": "2022-04-01T12:14:46.188Z"
   },
   {
    "duration": 8,
    "start_time": "2022-04-01T12:14:46.497Z"
   },
   {
    "duration": 11,
    "start_time": "2022-04-01T12:14:48.430Z"
   },
   {
    "duration": 10,
    "start_time": "2022-04-01T12:16:25.620Z"
   },
   {
    "duration": 17,
    "start_time": "2022-04-01T12:16:27.725Z"
   },
   {
    "duration": 5,
    "start_time": "2022-04-01T12:16:30.450Z"
   },
   {
    "duration": 23,
    "start_time": "2022-04-01T12:16:30.816Z"
   },
   {
    "duration": 8,
    "start_time": "2022-04-01T12:16:31.620Z"
   },
   {
    "duration": 14,
    "start_time": "2022-04-01T12:16:32.421Z"
   },
   {
    "duration": 22,
    "start_time": "2022-04-01T12:16:34.230Z"
   },
   {
    "duration": 13,
    "start_time": "2022-04-01T12:16:44.119Z"
   },
   {
    "duration": 33,
    "start_time": "2022-04-01T12:16:49.159Z"
   },
   {
    "duration": 21,
    "start_time": "2022-04-01T12:16:49.469Z"
   },
   {
    "duration": 12,
    "start_time": "2022-04-01T12:16:50.674Z"
   },
   {
    "duration": 19,
    "start_time": "2022-04-01T12:17:20.984Z"
   },
   {
    "duration": 187,
    "start_time": "2022-04-01T12:17:26.104Z"
   },
   {
    "duration": 16,
    "start_time": "2022-04-01T12:17:34.059Z"
   },
   {
    "duration": 789,
    "start_time": "2022-04-01T12:17:41.583Z"
   },
   {
    "duration": 10,
    "start_time": "2022-04-01T12:17:42.888Z"
   },
   {
    "duration": 631,
    "start_time": "2022-04-01T12:17:43.296Z"
   },
   {
    "duration": 21,
    "start_time": "2022-04-01T12:20:15.450Z"
   },
   {
    "duration": 637,
    "start_time": "2022-04-01T12:25:23.788Z"
   },
   {
    "duration": 428,
    "start_time": "2022-04-01T12:25:27.532Z"
   },
   {
    "duration": 17,
    "start_time": "2022-04-01T12:25:32.767Z"
   },
   {
    "duration": 960,
    "start_time": "2022-04-01T12:28:36.828Z"
   },
   {
    "duration": 875,
    "start_time": "2022-04-01T12:30:23.313Z"
   },
   {
    "duration": 334,
    "start_time": "2022-04-01T12:37:19.219Z"
   },
   {
    "duration": 125,
    "start_time": "2022-04-01T12:39:15.417Z"
   },
   {
    "duration": 494,
    "start_time": "2022-04-01T12:39:19.603Z"
   },
   {
    "duration": 327,
    "start_time": "2022-04-01T12:39:31.909Z"
   },
   {
    "duration": 327,
    "start_time": "2022-04-01T12:40:24.441Z"
   },
   {
    "duration": 332,
    "start_time": "2022-04-01T12:40:31.705Z"
   },
   {
    "duration": 325,
    "start_time": "2022-04-01T12:41:03.976Z"
   },
   {
    "duration": 329,
    "start_time": "2022-04-01T12:41:39.978Z"
   },
   {
    "duration": 438,
    "start_time": "2022-04-01T12:41:49.422Z"
   },
   {
    "duration": 334,
    "start_time": "2022-04-01T12:41:55.456Z"
   },
   {
    "duration": 317,
    "start_time": "2022-04-01T12:43:11.564Z"
   },
   {
    "duration": 17,
    "start_time": "2022-04-01T12:43:26.807Z"
   },
   {
    "duration": 409,
    "start_time": "2022-04-01T12:43:44.387Z"
   },
   {
    "duration": 493,
    "start_time": "2022-04-01T12:44:10.785Z"
   },
   {
    "duration": 599,
    "start_time": "2022-04-01T12:44:53.036Z"
   },
   {
    "duration": 378,
    "start_time": "2022-04-01T12:45:09.473Z"
   },
   {
    "duration": 480,
    "start_time": "2022-04-01T12:45:14.884Z"
   },
   {
    "duration": 562,
    "start_time": "2022-04-01T12:45:25.960Z"
   },
   {
    "duration": 665,
    "start_time": "2022-04-01T12:45:35.849Z"
   },
   {
    "duration": 546,
    "start_time": "2022-04-01T12:46:11.495Z"
   },
   {
    "duration": 556,
    "start_time": "2022-04-01T12:46:29.141Z"
   },
   {
    "duration": 713,
    "start_time": "2022-04-01T12:46:37.339Z"
   },
   {
    "duration": 137,
    "start_time": "2022-04-01T12:48:30.108Z"
   },
   {
    "duration": 749,
    "start_time": "2022-04-01T12:48:42.441Z"
   },
   {
    "duration": 666,
    "start_time": "2022-04-01T12:48:54.281Z"
   },
   {
    "duration": 670,
    "start_time": "2022-04-01T12:49:31.471Z"
   },
   {
    "duration": 784,
    "start_time": "2022-04-01T12:49:59.551Z"
   },
   {
    "duration": 664,
    "start_time": "2022-04-01T12:50:59.278Z"
   },
   {
    "duration": 7,
    "start_time": "2022-04-01T12:51:07.626Z"
   },
   {
    "duration": 170,
    "start_time": "2022-04-01T12:51:08.553Z"
   },
   {
    "duration": 166,
    "start_time": "2022-04-01T12:51:09.802Z"
   },
   {
    "duration": 171,
    "start_time": "2022-04-01T12:51:11.808Z"
   },
   {
    "duration": 10,
    "start_time": "2022-04-01T12:52:55.358Z"
   },
   {
    "duration": 294,
    "start_time": "2022-04-01T12:52:55.569Z"
   },
   {
    "duration": 10,
    "start_time": "2022-04-01T12:52:57.527Z"
   },
   {
    "duration": 409,
    "start_time": "2022-04-01T12:52:58.565Z"
   },
   {
    "duration": 15,
    "start_time": "2022-04-01T12:52:59.839Z"
   },
   {
    "duration": 11,
    "start_time": "2022-04-01T12:53:00.120Z"
   },
   {
    "duration": 298,
    "start_time": "2022-04-01T12:53:00.375Z"
   },
   {
    "duration": 11,
    "start_time": "2022-04-01T12:53:15.966Z"
   },
   {
    "duration": 302,
    "start_time": "2022-04-01T12:53:16.264Z"
   },
   {
    "duration": 15,
    "start_time": "2022-04-01T12:53:18.633Z"
   },
   {
    "duration": 10,
    "start_time": "2022-04-01T12:53:19.707Z"
   },
   {
    "duration": 297,
    "start_time": "2022-04-01T12:53:20.729Z"
   },
   {
    "duration": 7,
    "start_time": "2022-04-01T12:53:29.102Z"
   },
   {
    "duration": 4,
    "start_time": "2022-04-01T12:53:29.751Z"
   },
   {
    "duration": 5,
    "start_time": "2022-04-01T12:53:32.275Z"
   },
   {
    "duration": 1334,
    "start_time": "2022-04-01T12:57:31.978Z"
   },
   {
    "duration": 64,
    "start_time": "2022-04-01T12:57:33.315Z"
   },
   {
    "duration": 21,
    "start_time": "2022-04-01T12:57:33.380Z"
   },
   {
    "duration": 33,
    "start_time": "2022-04-01T12:57:33.404Z"
   },
   {
    "duration": 44,
    "start_time": "2022-04-01T12:57:33.439Z"
   },
   {
    "duration": 4,
    "start_time": "2022-04-01T12:57:33.486Z"
   },
   {
    "duration": 16,
    "start_time": "2022-04-01T12:57:33.491Z"
   },
   {
    "duration": 34,
    "start_time": "2022-04-01T12:57:33.509Z"
   },
   {
    "duration": 12,
    "start_time": "2022-04-01T12:57:33.544Z"
   },
   {
    "duration": 20,
    "start_time": "2022-04-01T12:57:33.559Z"
   },
   {
    "duration": 6,
    "start_time": "2022-04-01T12:57:33.582Z"
   },
   {
    "duration": 67,
    "start_time": "2022-04-01T12:57:33.590Z"
   },
   {
    "duration": 12,
    "start_time": "2022-04-01T12:57:33.659Z"
   },
   {
    "duration": 20,
    "start_time": "2022-04-01T12:57:33.673Z"
   },
   {
    "duration": 48,
    "start_time": "2022-04-01T12:57:33.695Z"
   },
   {
    "duration": 15,
    "start_time": "2022-04-01T12:57:33.744Z"
   },
   {
    "duration": 49,
    "start_time": "2022-04-01T12:57:33.762Z"
   },
   {
    "duration": 35,
    "start_time": "2022-04-01T12:57:33.832Z"
   },
   {
    "duration": 19,
    "start_time": "2022-04-01T12:57:33.869Z"
   },
   {
    "duration": 50,
    "start_time": "2022-04-01T12:57:33.890Z"
   },
   {
    "duration": 260,
    "start_time": "2022-04-01T12:57:33.942Z"
   },
   {
    "duration": 17,
    "start_time": "2022-04-01T12:57:34.203Z"
   },
   {
    "duration": 874,
    "start_time": "2022-04-01T12:57:34.222Z"
   },
   {
    "duration": 10,
    "start_time": "2022-04-01T12:57:35.097Z"
   },
   {
    "duration": 631,
    "start_time": "2022-04-01T12:57:35.109Z"
   },
   {
    "duration": 22,
    "start_time": "2022-04-01T12:57:35.742Z"
   },
   {
    "duration": 823,
    "start_time": "2022-04-01T12:57:35.765Z"
   },
   {
    "duration": 412,
    "start_time": "2022-04-01T12:57:36.594Z"
   },
   {
    "duration": 26,
    "start_time": "2022-04-01T12:57:37.008Z"
   },
   {
    "duration": 10,
    "start_time": "2022-04-01T12:57:37.035Z"
   },
   {
    "duration": 331,
    "start_time": "2022-04-01T12:57:37.047Z"
   },
   {
    "duration": 953,
    "start_time": "2022-04-01T12:57:37.379Z"
   },
   {
    "duration": 685,
    "start_time": "2022-04-01T12:57:38.334Z"
   },
   {
    "duration": 14,
    "start_time": "2022-04-01T12:57:39.021Z"
   },
   {
    "duration": 174,
    "start_time": "2022-04-01T12:57:39.037Z"
   },
   {
    "duration": 190,
    "start_time": "2022-04-01T12:57:39.212Z"
   },
   {
    "duration": 274,
    "start_time": "2022-04-01T12:57:39.404Z"
   },
   {
    "duration": 11,
    "start_time": "2022-04-01T12:57:39.680Z"
   },
   {
    "duration": 334,
    "start_time": "2022-04-01T12:57:39.693Z"
   },
   {
    "duration": 15,
    "start_time": "2022-04-01T12:57:40.032Z"
   },
   {
    "duration": 522,
    "start_time": "2022-04-01T12:57:40.049Z"
   },
   {
    "duration": 20,
    "start_time": "2022-04-01T12:57:40.573Z"
   },
   {
    "duration": 12,
    "start_time": "2022-04-01T12:57:40.595Z"
   },
   {
    "duration": 328,
    "start_time": "2022-04-01T12:57:40.608Z"
   },
   {
    "duration": 9,
    "start_time": "2022-04-01T12:57:40.938Z"
   },
   {
    "duration": 14,
    "start_time": "2022-04-01T12:57:40.949Z"
   },
   {
    "duration": 6,
    "start_time": "2022-04-01T12:57:40.965Z"
   },
   {
    "duration": 9,
    "start_time": "2022-04-01T12:57:40.973Z"
   },
   {
    "duration": 4,
    "start_time": "2022-04-01T12:57:40.984Z"
   },
   {
    "duration": 10,
    "start_time": "2022-04-01T12:57:40.990Z"
   }
  ],
  "kernelspec": {
   "display_name": "Python 3 (ipykernel)",
   "language": "python",
   "name": "python3"
  },
  "language_info": {
   "codemirror_mode": {
    "name": "ipython",
    "version": 3
   },
   "file_extension": ".py",
   "mimetype": "text/x-python",
   "name": "python",
   "nbconvert_exporter": "python",
   "pygments_lexer": "ipython3",
   "version": "3.9.7"
  },
  "toc": {
   "base_numbering": 1,
   "nav_menu": {},
   "number_sections": true,
   "sideBar": true,
   "skip_h1_title": true,
   "title_cell": "Оглавление",
   "title_sidebar": "Contents",
   "toc_cell": true,
   "toc_position": {},
   "toc_section_display": true,
   "toc_window_display": true
  }
 },
 "nbformat": 4,
 "nbformat_minor": 2
}
