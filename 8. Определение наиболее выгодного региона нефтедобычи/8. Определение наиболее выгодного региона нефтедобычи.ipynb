{
 "cells": [
  {
   "cell_type": "markdown",
   "metadata": {
    "toc": true
   },
   "source": [
    "<h1>Оглавление<span class=\"tocSkip\"></span></h1>\n",
    "<div class=\"toc\"><ul class=\"toc-item\"><li><ul class=\"toc-item\"><li><span><a href=\"#Общее-впечатление\" data-toc-modified-id=\"Общее-впечатление-0.1\"><span class=\"toc-item-num\">0.1&nbsp;&nbsp;</span><font color=\"orange\">Общее впечатление</font></a></span></li><li><span><a href=\"#Общее-впечатление-(ревью-2)\" data-toc-modified-id=\"Общее-впечатление-(ревью-2)-0.2\"><span class=\"toc-item-num\">0.2&nbsp;&nbsp;</span><font color=\"orange\">Общее впечатление (ревью 2)</font></a></span></li></ul></li><li><span><a href=\"#Загрузка-и-подготовка-данных\" data-toc-modified-id=\"Загрузка-и-подготовка-данных-1\"><span class=\"toc-item-num\">1&nbsp;&nbsp;</span>Загрузка и подготовка данных</a></span><ul class=\"toc-item\"><li><span><a href=\"#Вывод\" data-toc-modified-id=\"Вывод-1.1\"><span class=\"toc-item-num\">1.1&nbsp;&nbsp;</span>Вывод</a></span></li></ul></li><li><span><a href=\"#Обучение-и-проверка-модели\" data-toc-modified-id=\"Обучение-и-проверка-модели-2\"><span class=\"toc-item-num\">2&nbsp;&nbsp;</span>Обучение и проверка модели</a></span><ul class=\"toc-item\"><li><span><a href=\"#Вывод\" data-toc-modified-id=\"Вывод-2.1\"><span class=\"toc-item-num\">2.1&nbsp;&nbsp;</span>Вывод</a></span></li></ul></li><li><span><a href=\"#Подготовка-к-расчёту-прибыли\" data-toc-modified-id=\"Подготовка-к-расчёту-прибыли-3\"><span class=\"toc-item-num\">3&nbsp;&nbsp;</span>Подготовка к расчёту прибыли</a></span><ul class=\"toc-item\"><li><span><a href=\"#Вывод\" data-toc-modified-id=\"Вывод-3.1\"><span class=\"toc-item-num\">3.1&nbsp;&nbsp;</span>Вывод</a></span></li></ul></li><li><span><a href=\"#Расчёт-прибыли-и-рисков\" data-toc-modified-id=\"Расчёт-прибыли-и-рисков-4\"><span class=\"toc-item-num\">4&nbsp;&nbsp;</span>Расчёт прибыли и рисков</a></span><ul class=\"toc-item\"><li><span><a href=\"#Вывод\" data-toc-modified-id=\"Вывод-4.1\"><span class=\"toc-item-num\">4.1&nbsp;&nbsp;</span>Вывод</a></span></li></ul></li><li><span><a href=\"#Общий-вывод\" data-toc-modified-id=\"Общий-вывод-5\"><span class=\"toc-item-num\">5&nbsp;&nbsp;</span>Общий вывод</a></span></li><li><span><a href=\"#Чек-лист-готовности-проекта\" data-toc-modified-id=\"Чек-лист-готовности-проекта-6\"><span class=\"toc-item-num\">6&nbsp;&nbsp;</span>Чек-лист готовности проекта</a></span></li></ul></div>"
   ]
  },
  {
   "cell_type": "markdown",
   "metadata": {},
   "source": [
    "# Выбор локации для скважины"
   ]
  },
  {
   "cell_type": "markdown",
   "metadata": {},
   "source": [
    "Допустим, вы работаете в добывающей компании «ГлавРосГосНефть». Нужно решить, где бурить новую скважину.\n",
    "\n",
    "Вам предоставлены пробы нефти в трёх регионах: в каждом 10 000 месторождений, где измерили качество нефти и объём её запасов. Постройте модель машинного обучения, которая поможет определить регион, где добыча принесёт наибольшую прибыль. Проанализируйте возможную прибыль и риски техникой *Bootstrap.*\n",
    "\n",
    "Шаги для выбора локации:\n",
    "\n",
    "- В избранном регионе ищут месторождения, для каждого определяют значения признаков;\n",
    "- Строят модель и оценивают объём запасов;\n",
    "- Выбирают месторождения с самым высокими оценками значений. Количество месторождений зависит от бюджета компании и стоимости разработки одной скважины;\n",
    "- Прибыль равна суммарной прибыли отобранных месторождений.\n",
    "\n",
    "Вам предоставлены пробы нефти в трёх регионах. Характеристики для каждой скважины в регионе уже известны. Постройте модель для определения региона, где добыча принесёт наибольшую прибыль. Проанализируйте возможную прибыль и риски техникой Bootstrap."
   ]
  },
  {
   "cell_type": "markdown",
   "metadata": {},
   "source": [
    "# Условия задачи:"
   ]
  },
  {
   "cell_type": "markdown",
   "metadata": {},
   "source": [
    " - Для обучения модели подходит только линейная регрессия (остальные — недостаточно предсказуемые).\n",
    " - При разведке региона исследуют 500 точек, из которых с помощью машинного обучения выбирают 200 лучших для разработки.\n",
    " - Бюджет на разработку скважин в регионе — 10 млрд рублей.\n",
    " - При нынешних ценах один баррель сырья приносит 450 рублей дохода. Доход с каждой единицы продукта составляет 450 тыс. рублей, поскольку объём указан в тысячах баррелей.\n",
    " - После оценки рисков нужно оставить лишь те регионы, в которых вероятность убытков меньше 2.5%. Среди них выбирают регион с наибольшей средней прибылью.\n",
    " \n",
    "Данные синтетические: детали контрактов и характеристики месторождений не разглашаются."
   ]
  },
  {
   "cell_type": "markdown",
   "metadata": {},
   "source": [
    "### Описание данных <a class=\"tocSkip\">"
   ]
  },
  {
   "cell_type": "markdown",
   "metadata": {},
   "source": [
    "<div style=\"border:solid green 5px; padding: 16px; border-radius: 10px\"> \n",
    "<br> id — уникальный идентификатор скважины;\n",
    "<br> f0, f1, f2 — три признака точек (неважно, что они означают, но сами признаки значимы);\n",
    "<br> product — объём запасов в скважине (тыс. баррелей)."
   ]
  },
  {
   "cell_type": "markdown",
   "metadata": {},
   "source": [
    "## Загрузка и подготовка данных"
   ]
  },
  {
   "cell_type": "code",
   "execution_count": 1,
   "metadata": {},
   "outputs": [],
   "source": [
    "import pandas as pd\n",
    "import seaborn as sns\n",
    "from sklearn.model_selection import train_test_split\n",
    "from sklearn.linear_model import LinearRegression\n",
    "import numpy as np\n",
    "from sklearn.metrics import mean_squared_error\n",
    "from sklearn.metrics import mean_absolute_error\n",
    "from scipy import stats\n",
    "pd.set_option('display.max_columns', None) #выведем все столбцы таблицы на экран"
   ]
  },
  {
   "cell_type": "code",
   "execution_count": 2,
   "metadata": {},
   "outputs": [],
   "source": [
    "data1 = pd.read_csv(\"/datasets/geo_data_0.csv\")\n",
    "data2 = pd.read_csv(\"/datasets/geo_data_1.csv\")\n",
    "data3 = pd.read_csv(\"/datasets/geo_data_2.csv\")"
   ]
  },
  {
   "cell_type": "code",
   "execution_count": 3,
   "metadata": {},
   "outputs": [],
   "source": [
    "#Дадим название таблицам\n",
    "data1.name='Регион 1'\n",
    "data2.name = 'Регион 2'\n",
    "data3.name = 'Регион 3'"
   ]
  },
  {
   "cell_type": "code",
   "execution_count": 4,
   "metadata": {},
   "outputs": [],
   "source": [
    "#Создадим функцию для отображения общей информации о таблице\n",
    "def describe_data(df):\n",
    "    print('Первые 10 строк таблицы:', df.name)\n",
    "    display(df.head(10))\n",
    "    print('Информация о таблице:', df.name)\n",
    "    print(df.info(memory_usage='deep'))\n",
    "    print('Количество пропусков в таблице:', df.name)\n",
    "    print(df.isna().mean())\n",
    "    print('Получение сводки по таблице:', df.name)\n",
    "    display(df.describe().T)\n",
    "    print('Количество дубликатов в таблице', df.name, ':', df.duplicated().sum()) \n",
    "    print('Распределение по объему запасов в скважине:', df.name) \n",
    "    sns.displot(df['product']) "
   ]
  },
  {
   "cell_type": "code",
   "execution_count": 5,
   "metadata": {
    "scrolled": false
   },
   "outputs": [
    {
     "name": "stdout",
     "output_type": "stream",
     "text": [
      "Первые 10 строк таблицы: Регион 1\n"
     ]
    },
    {
     "data": {
      "text/html": [
       "<div>\n",
       "<style scoped>\n",
       "    .dataframe tbody tr th:only-of-type {\n",
       "        vertical-align: middle;\n",
       "    }\n",
       "\n",
       "    .dataframe tbody tr th {\n",
       "        vertical-align: top;\n",
       "    }\n",
       "\n",
       "    .dataframe thead th {\n",
       "        text-align: right;\n",
       "    }\n",
       "</style>\n",
       "<table border=\"1\" class=\"dataframe\">\n",
       "  <thead>\n",
       "    <tr style=\"text-align: right;\">\n",
       "      <th></th>\n",
       "      <th>id</th>\n",
       "      <th>f0</th>\n",
       "      <th>f1</th>\n",
       "      <th>f2</th>\n",
       "      <th>product</th>\n",
       "    </tr>\n",
       "  </thead>\n",
       "  <tbody>\n",
       "    <tr>\n",
       "      <th>0</th>\n",
       "      <td>txEyH</td>\n",
       "      <td>0.705745</td>\n",
       "      <td>-0.497823</td>\n",
       "      <td>1.221170</td>\n",
       "      <td>105.280062</td>\n",
       "    </tr>\n",
       "    <tr>\n",
       "      <th>1</th>\n",
       "      <td>2acmU</td>\n",
       "      <td>1.334711</td>\n",
       "      <td>-0.340164</td>\n",
       "      <td>4.365080</td>\n",
       "      <td>73.037750</td>\n",
       "    </tr>\n",
       "    <tr>\n",
       "      <th>2</th>\n",
       "      <td>409Wp</td>\n",
       "      <td>1.022732</td>\n",
       "      <td>0.151990</td>\n",
       "      <td>1.419926</td>\n",
       "      <td>85.265647</td>\n",
       "    </tr>\n",
       "    <tr>\n",
       "      <th>3</th>\n",
       "      <td>iJLyR</td>\n",
       "      <td>-0.032172</td>\n",
       "      <td>0.139033</td>\n",
       "      <td>2.978566</td>\n",
       "      <td>168.620776</td>\n",
       "    </tr>\n",
       "    <tr>\n",
       "      <th>4</th>\n",
       "      <td>Xdl7t</td>\n",
       "      <td>1.988431</td>\n",
       "      <td>0.155413</td>\n",
       "      <td>4.751769</td>\n",
       "      <td>154.036647</td>\n",
       "    </tr>\n",
       "    <tr>\n",
       "      <th>5</th>\n",
       "      <td>wX4Hy</td>\n",
       "      <td>0.969570</td>\n",
       "      <td>0.489775</td>\n",
       "      <td>-0.735383</td>\n",
       "      <td>64.741541</td>\n",
       "    </tr>\n",
       "    <tr>\n",
       "      <th>6</th>\n",
       "      <td>tL6pL</td>\n",
       "      <td>0.645075</td>\n",
       "      <td>0.530656</td>\n",
       "      <td>1.780266</td>\n",
       "      <td>49.055285</td>\n",
       "    </tr>\n",
       "    <tr>\n",
       "      <th>7</th>\n",
       "      <td>BYPU6</td>\n",
       "      <td>-0.400648</td>\n",
       "      <td>0.808337</td>\n",
       "      <td>-5.624670</td>\n",
       "      <td>72.943292</td>\n",
       "    </tr>\n",
       "    <tr>\n",
       "      <th>8</th>\n",
       "      <td>j9Oui</td>\n",
       "      <td>0.643105</td>\n",
       "      <td>-0.551583</td>\n",
       "      <td>2.372141</td>\n",
       "      <td>113.356160</td>\n",
       "    </tr>\n",
       "    <tr>\n",
       "      <th>9</th>\n",
       "      <td>OLuZU</td>\n",
       "      <td>2.173381</td>\n",
       "      <td>0.563698</td>\n",
       "      <td>9.441852</td>\n",
       "      <td>127.910945</td>\n",
       "    </tr>\n",
       "  </tbody>\n",
       "</table>\n",
       "</div>"
      ],
      "text/plain": [
       "      id        f0        f1        f2     product\n",
       "0  txEyH  0.705745 -0.497823  1.221170  105.280062\n",
       "1  2acmU  1.334711 -0.340164  4.365080   73.037750\n",
       "2  409Wp  1.022732  0.151990  1.419926   85.265647\n",
       "3  iJLyR -0.032172  0.139033  2.978566  168.620776\n",
       "4  Xdl7t  1.988431  0.155413  4.751769  154.036647\n",
       "5  wX4Hy  0.969570  0.489775 -0.735383   64.741541\n",
       "6  tL6pL  0.645075  0.530656  1.780266   49.055285\n",
       "7  BYPU6 -0.400648  0.808337 -5.624670   72.943292\n",
       "8  j9Oui  0.643105 -0.551583  2.372141  113.356160\n",
       "9  OLuZU  2.173381  0.563698  9.441852  127.910945"
      ]
     },
     "metadata": {},
     "output_type": "display_data"
    },
    {
     "name": "stdout",
     "output_type": "stream",
     "text": [
      "Информация о таблице: Регион 1\n",
      "<class 'pandas.core.frame.DataFrame'>\n",
      "RangeIndex: 100000 entries, 0 to 99999\n",
      "Data columns (total 5 columns):\n",
      " #   Column   Non-Null Count   Dtype  \n",
      "---  ------   --------------   -----  \n",
      " 0   id       100000 non-null  object \n",
      " 1   f0       100000 non-null  float64\n",
      " 2   f1       100000 non-null  float64\n",
      " 3   f2       100000 non-null  float64\n",
      " 4   product  100000 non-null  float64\n",
      "dtypes: float64(4), object(1)\n",
      "memory usage: 9.0 MB\n",
      "None\n",
      "Количество пропусков в таблице: Регион 1\n",
      "id         0.0\n",
      "f0         0.0\n",
      "f1         0.0\n",
      "f2         0.0\n",
      "product    0.0\n",
      "dtype: float64\n",
      "Получение сводки по таблице: Регион 1\n"
     ]
    },
    {
     "data": {
      "text/html": [
       "<div>\n",
       "<style scoped>\n",
       "    .dataframe tbody tr th:only-of-type {\n",
       "        vertical-align: middle;\n",
       "    }\n",
       "\n",
       "    .dataframe tbody tr th {\n",
       "        vertical-align: top;\n",
       "    }\n",
       "\n",
       "    .dataframe thead th {\n",
       "        text-align: right;\n",
       "    }\n",
       "</style>\n",
       "<table border=\"1\" class=\"dataframe\">\n",
       "  <thead>\n",
       "    <tr style=\"text-align: right;\">\n",
       "      <th></th>\n",
       "      <th>count</th>\n",
       "      <th>mean</th>\n",
       "      <th>std</th>\n",
       "      <th>min</th>\n",
       "      <th>25%</th>\n",
       "      <th>50%</th>\n",
       "      <th>75%</th>\n",
       "      <th>max</th>\n",
       "    </tr>\n",
       "  </thead>\n",
       "  <tbody>\n",
       "    <tr>\n",
       "      <th>f0</th>\n",
       "      <td>100000.0</td>\n",
       "      <td>0.500419</td>\n",
       "      <td>0.871832</td>\n",
       "      <td>-1.408605</td>\n",
       "      <td>-0.072580</td>\n",
       "      <td>0.502360</td>\n",
       "      <td>1.073581</td>\n",
       "      <td>2.362331</td>\n",
       "    </tr>\n",
       "    <tr>\n",
       "      <th>f1</th>\n",
       "      <td>100000.0</td>\n",
       "      <td>0.250143</td>\n",
       "      <td>0.504433</td>\n",
       "      <td>-0.848218</td>\n",
       "      <td>-0.200881</td>\n",
       "      <td>0.250252</td>\n",
       "      <td>0.700646</td>\n",
       "      <td>1.343769</td>\n",
       "    </tr>\n",
       "    <tr>\n",
       "      <th>f2</th>\n",
       "      <td>100000.0</td>\n",
       "      <td>2.502647</td>\n",
       "      <td>3.248248</td>\n",
       "      <td>-12.088328</td>\n",
       "      <td>0.287748</td>\n",
       "      <td>2.515969</td>\n",
       "      <td>4.715088</td>\n",
       "      <td>16.003790</td>\n",
       "    </tr>\n",
       "    <tr>\n",
       "      <th>product</th>\n",
       "      <td>100000.0</td>\n",
       "      <td>92.500000</td>\n",
       "      <td>44.288691</td>\n",
       "      <td>0.000000</td>\n",
       "      <td>56.497507</td>\n",
       "      <td>91.849972</td>\n",
       "      <td>128.564089</td>\n",
       "      <td>185.364347</td>\n",
       "    </tr>\n",
       "  </tbody>\n",
       "</table>\n",
       "</div>"
      ],
      "text/plain": [
       "            count       mean        std        min        25%        50%  \\\n",
       "f0       100000.0   0.500419   0.871832  -1.408605  -0.072580   0.502360   \n",
       "f1       100000.0   0.250143   0.504433  -0.848218  -0.200881   0.250252   \n",
       "f2       100000.0   2.502647   3.248248 -12.088328   0.287748   2.515969   \n",
       "product  100000.0  92.500000  44.288691   0.000000  56.497507  91.849972   \n",
       "\n",
       "                75%         max  \n",
       "f0         1.073581    2.362331  \n",
       "f1         0.700646    1.343769  \n",
       "f2         4.715088   16.003790  \n",
       "product  128.564089  185.364347  "
      ]
     },
     "metadata": {},
     "output_type": "display_data"
    },
    {
     "name": "stdout",
     "output_type": "stream",
     "text": [
      "Количество дубликатов в таблице Регион 1 : 0\n",
      "Распределение по объему запасов в скважине: Регион 1\n"
     ]
    },
    {
     "data": {
      "image/png": "[encoded data removed]",
      "text/plain": [
       "<Figure size 360x360 with 1 Axes>"
      ]
     },
     "metadata": {
      "needs_background": "light"
     },
     "output_type": "display_data"
    }
   ],
   "source": [
    "describe_data(data1) #Выведем информацию о таблице"
   ]
  },
  {
   "cell_type": "code",
   "execution_count": 6,
   "metadata": {
    "scrolled": false
   },
   "outputs": [
    {
     "name": "stdout",
     "output_type": "stream",
     "text": [
      "Первые 10 строк таблицы: Регион 2\n"
     ]
    },
    {
     "data": {
      "text/html": [
       "<div>\n",
       "<style scoped>\n",
       "    .dataframe tbody tr th:only-of-type {\n",
       "        vertical-align: middle;\n",
       "    }\n",
       "\n",
       "    .dataframe tbody tr th {\n",
       "        vertical-align: top;\n",
       "    }\n",
       "\n",
       "    .dataframe thead th {\n",
       "        text-align: right;\n",
       "    }\n",
       "</style>\n",
       "<table border=\"1\" class=\"dataframe\">\n",
       "  <thead>\n",
       "    <tr style=\"text-align: right;\">\n",
       "      <th></th>\n",
       "      <th>id</th>\n",
       "      <th>f0</th>\n",
       "      <th>f1</th>\n",
       "      <th>f2</th>\n",
       "      <th>product</th>\n",
       "    </tr>\n",
       "  </thead>\n",
       "  <tbody>\n",
       "    <tr>\n",
       "      <th>0</th>\n",
       "      <td>kBEdx</td>\n",
       "      <td>-15.001348</td>\n",
       "      <td>-8.276000</td>\n",
       "      <td>-0.005876</td>\n",
       "      <td>3.179103</td>\n",
       "    </tr>\n",
       "    <tr>\n",
       "      <th>1</th>\n",
       "      <td>62mP7</td>\n",
       "      <td>14.272088</td>\n",
       "      <td>-3.475083</td>\n",
       "      <td>0.999183</td>\n",
       "      <td>26.953261</td>\n",
       "    </tr>\n",
       "    <tr>\n",
       "      <th>2</th>\n",
       "      <td>vyE1P</td>\n",
       "      <td>6.263187</td>\n",
       "      <td>-5.948386</td>\n",
       "      <td>5.001160</td>\n",
       "      <td>134.766305</td>\n",
       "    </tr>\n",
       "    <tr>\n",
       "      <th>3</th>\n",
       "      <td>KcrkZ</td>\n",
       "      <td>-13.081196</td>\n",
       "      <td>-11.506057</td>\n",
       "      <td>4.999415</td>\n",
       "      <td>137.945408</td>\n",
       "    </tr>\n",
       "    <tr>\n",
       "      <th>4</th>\n",
       "      <td>AHL4O</td>\n",
       "      <td>12.702195</td>\n",
       "      <td>-8.147433</td>\n",
       "      <td>5.004363</td>\n",
       "      <td>134.766305</td>\n",
       "    </tr>\n",
       "    <tr>\n",
       "      <th>5</th>\n",
       "      <td>HHckp</td>\n",
       "      <td>-3.327590</td>\n",
       "      <td>-2.205276</td>\n",
       "      <td>3.003647</td>\n",
       "      <td>84.038886</td>\n",
       "    </tr>\n",
       "    <tr>\n",
       "      <th>6</th>\n",
       "      <td>h5Ujo</td>\n",
       "      <td>-11.142655</td>\n",
       "      <td>-10.133399</td>\n",
       "      <td>4.002382</td>\n",
       "      <td>110.992147</td>\n",
       "    </tr>\n",
       "    <tr>\n",
       "      <th>7</th>\n",
       "      <td>muH9x</td>\n",
       "      <td>4.234715</td>\n",
       "      <td>-0.001354</td>\n",
       "      <td>2.004588</td>\n",
       "      <td>53.906522</td>\n",
       "    </tr>\n",
       "    <tr>\n",
       "      <th>8</th>\n",
       "      <td>YiRkx</td>\n",
       "      <td>13.355129</td>\n",
       "      <td>-0.332068</td>\n",
       "      <td>4.998647</td>\n",
       "      <td>134.766305</td>\n",
       "    </tr>\n",
       "    <tr>\n",
       "      <th>9</th>\n",
       "      <td>jG6Gi</td>\n",
       "      <td>1.069227</td>\n",
       "      <td>-11.025667</td>\n",
       "      <td>4.997844</td>\n",
       "      <td>137.945408</td>\n",
       "    </tr>\n",
       "  </tbody>\n",
       "</table>\n",
       "</div>"
      ],
      "text/plain": [
       "      id         f0         f1        f2     product\n",
       "0  kBEdx -15.001348  -8.276000 -0.005876    3.179103\n",
       "1  62mP7  14.272088  -3.475083  0.999183   26.953261\n",
       "2  vyE1P   6.263187  -5.948386  5.001160  134.766305\n",
       "3  KcrkZ -13.081196 -11.506057  4.999415  137.945408\n",
       "4  AHL4O  12.702195  -8.147433  5.004363  134.766305\n",
       "5  HHckp  -3.327590  -2.205276  3.003647   84.038886\n",
       "6  h5Ujo -11.142655 -10.133399  4.002382  110.992147\n",
       "7  muH9x   4.234715  -0.001354  2.004588   53.906522\n",
       "8  YiRkx  13.355129  -0.332068  4.998647  134.766305\n",
       "9  jG6Gi   1.069227 -11.025667  4.997844  137.945408"
      ]
     },
     "metadata": {},
     "output_type": "display_data"
    },
    {
     "name": "stdout",
     "output_type": "stream",
     "text": [
      "Информация о таблице: Регион 2\n",
      "<class 'pandas.core.frame.DataFrame'>\n",
      "RangeIndex: 100000 entries, 0 to 99999\n",
      "Data columns (total 5 columns):\n",
      " #   Column   Non-Null Count   Dtype  \n",
      "---  ------   --------------   -----  \n",
      " 0   id       100000 non-null  object \n",
      " 1   f0       100000 non-null  float64\n",
      " 2   f1       100000 non-null  float64\n",
      " 3   f2       100000 non-null  float64\n",
      " 4   product  100000 non-null  float64\n",
      "dtypes: float64(4), object(1)\n",
      "memory usage: 9.0 MB\n",
      "None\n",
      "Количество пропусков в таблице: Регион 2\n",
      "id         0.0\n",
      "f0         0.0\n",
      "f1         0.0\n",
      "f2         0.0\n",
      "product    0.0\n",
      "dtype: float64\n",
      "Получение сводки по таблице: Регион 2\n"
     ]
    },
    {
     "data": {
      "text/html": [
       "<div>\n",
       "<style scoped>\n",
       "    .dataframe tbody tr th:only-of-type {\n",
       "        vertical-align: middle;\n",
       "    }\n",
       "\n",
       "    .dataframe tbody tr th {\n",
       "        vertical-align: top;\n",
       "    }\n",
       "\n",
       "    .dataframe thead th {\n",
       "        text-align: right;\n",
       "    }\n",
       "</style>\n",
       "<table border=\"1\" class=\"dataframe\">\n",
       "  <thead>\n",
       "    <tr style=\"text-align: right;\">\n",
       "      <th></th>\n",
       "      <th>count</th>\n",
       "      <th>mean</th>\n",
       "      <th>std</th>\n",
       "      <th>min</th>\n",
       "      <th>25%</th>\n",
       "      <th>50%</th>\n",
       "      <th>75%</th>\n",
       "      <th>max</th>\n",
       "    </tr>\n",
       "  </thead>\n",
       "  <tbody>\n",
       "    <tr>\n",
       "      <th>f0</th>\n",
       "      <td>100000.0</td>\n",
       "      <td>1.141296</td>\n",
       "      <td>8.965932</td>\n",
       "      <td>-31.609576</td>\n",
       "      <td>-6.298551</td>\n",
       "      <td>1.153055</td>\n",
       "      <td>8.621015</td>\n",
       "      <td>29.421755</td>\n",
       "    </tr>\n",
       "    <tr>\n",
       "      <th>f1</th>\n",
       "      <td>100000.0</td>\n",
       "      <td>-4.796579</td>\n",
       "      <td>5.119872</td>\n",
       "      <td>-26.358598</td>\n",
       "      <td>-8.267985</td>\n",
       "      <td>-4.813172</td>\n",
       "      <td>-1.332816</td>\n",
       "      <td>18.734063</td>\n",
       "    </tr>\n",
       "    <tr>\n",
       "      <th>f2</th>\n",
       "      <td>100000.0</td>\n",
       "      <td>2.494541</td>\n",
       "      <td>1.703572</td>\n",
       "      <td>-0.018144</td>\n",
       "      <td>1.000021</td>\n",
       "      <td>2.011479</td>\n",
       "      <td>3.999904</td>\n",
       "      <td>5.019721</td>\n",
       "    </tr>\n",
       "    <tr>\n",
       "      <th>product</th>\n",
       "      <td>100000.0</td>\n",
       "      <td>68.825000</td>\n",
       "      <td>45.944423</td>\n",
       "      <td>0.000000</td>\n",
       "      <td>26.953261</td>\n",
       "      <td>57.085625</td>\n",
       "      <td>107.813044</td>\n",
       "      <td>137.945408</td>\n",
       "    </tr>\n",
       "  </tbody>\n",
       "</table>\n",
       "</div>"
      ],
      "text/plain": [
       "            count       mean        std        min        25%        50%  \\\n",
       "f0       100000.0   1.141296   8.965932 -31.609576  -6.298551   1.153055   \n",
       "f1       100000.0  -4.796579   5.119872 -26.358598  -8.267985  -4.813172   \n",
       "f2       100000.0   2.494541   1.703572  -0.018144   1.000021   2.011479   \n",
       "product  100000.0  68.825000  45.944423   0.000000  26.953261  57.085625   \n",
       "\n",
       "                75%         max  \n",
       "f0         8.621015   29.421755  \n",
       "f1        -1.332816   18.734063  \n",
       "f2         3.999904    5.019721  \n",
       "product  107.813044  137.945408  "
      ]
     },
     "metadata": {},
     "output_type": "display_data"
    },
    {
     "name": "stdout",
     "output_type": "stream",
     "text": [
      "Количество дубликатов в таблице Регион 2 : 0\n",
      "Распределение по объему запасов в скважине: Регион 2\n"
     ]
    },
    {
     "data": {
      "image/png": "[encoded data removed]",
      "text/plain": [
       "<Figure size 360x360 with 1 Axes>"
      ]
     },
     "metadata": {
      "needs_background": "light"
     },
     "output_type": "display_data"
    }
   ],
   "source": [
    "describe_data(data2) #Выведем информацию о таблице"
   ]
  },
  {
   "cell_type": "code",
   "execution_count": 7,
   "metadata": {
    "scrolled": false
   },
   "outputs": [
    {
     "name": "stdout",
     "output_type": "stream",
     "text": [
      "Первые 10 строк таблицы: Регион 3\n"
     ]
    },
    {
     "data": {
      "text/html": [
       "<div>\n",
       "<style scoped>\n",
       "    .dataframe tbody tr th:only-of-type {\n",
       "        vertical-align: middle;\n",
       "    }\n",
       "\n",
       "    .dataframe tbody tr th {\n",
       "        vertical-align: top;\n",
       "    }\n",
       "\n",
       "    .dataframe thead th {\n",
       "        text-align: right;\n",
       "    }\n",
       "</style>\n",
       "<table border=\"1\" class=\"dataframe\">\n",
       "  <thead>\n",
       "    <tr style=\"text-align: right;\">\n",
       "      <th></th>\n",
       "      <th>id</th>\n",
       "      <th>f0</th>\n",
       "      <th>f1</th>\n",
       "      <th>f2</th>\n",
       "      <th>product</th>\n",
       "    </tr>\n",
       "  </thead>\n",
       "  <tbody>\n",
       "    <tr>\n",
       "      <th>0</th>\n",
       "      <td>fwXo0</td>\n",
       "      <td>-1.146987</td>\n",
       "      <td>0.963328</td>\n",
       "      <td>-0.828965</td>\n",
       "      <td>27.758673</td>\n",
       "    </tr>\n",
       "    <tr>\n",
       "      <th>1</th>\n",
       "      <td>WJtFt</td>\n",
       "      <td>0.262778</td>\n",
       "      <td>0.269839</td>\n",
       "      <td>-2.530187</td>\n",
       "      <td>56.069697</td>\n",
       "    </tr>\n",
       "    <tr>\n",
       "      <th>2</th>\n",
       "      <td>ovLUW</td>\n",
       "      <td>0.194587</td>\n",
       "      <td>0.289035</td>\n",
       "      <td>-5.586433</td>\n",
       "      <td>62.871910</td>\n",
       "    </tr>\n",
       "    <tr>\n",
       "      <th>3</th>\n",
       "      <td>q6cA6</td>\n",
       "      <td>2.236060</td>\n",
       "      <td>-0.553760</td>\n",
       "      <td>0.930038</td>\n",
       "      <td>114.572842</td>\n",
       "    </tr>\n",
       "    <tr>\n",
       "      <th>4</th>\n",
       "      <td>WPMUX</td>\n",
       "      <td>-0.515993</td>\n",
       "      <td>1.716266</td>\n",
       "      <td>5.899011</td>\n",
       "      <td>149.600746</td>\n",
       "    </tr>\n",
       "    <tr>\n",
       "      <th>5</th>\n",
       "      <td>LzZXx</td>\n",
       "      <td>-0.758092</td>\n",
       "      <td>0.710691</td>\n",
       "      <td>2.585887</td>\n",
       "      <td>90.222465</td>\n",
       "    </tr>\n",
       "    <tr>\n",
       "      <th>6</th>\n",
       "      <td>WBHRv</td>\n",
       "      <td>-0.574891</td>\n",
       "      <td>0.317727</td>\n",
       "      <td>1.773745</td>\n",
       "      <td>45.641478</td>\n",
       "    </tr>\n",
       "    <tr>\n",
       "      <th>7</th>\n",
       "      <td>XO8fn</td>\n",
       "      <td>-1.906649</td>\n",
       "      <td>-2.458350</td>\n",
       "      <td>-0.177097</td>\n",
       "      <td>72.480640</td>\n",
       "    </tr>\n",
       "    <tr>\n",
       "      <th>8</th>\n",
       "      <td>ybmQ5</td>\n",
       "      <td>1.776292</td>\n",
       "      <td>-0.279356</td>\n",
       "      <td>3.004156</td>\n",
       "      <td>106.616832</td>\n",
       "    </tr>\n",
       "    <tr>\n",
       "      <th>9</th>\n",
       "      <td>OilcN</td>\n",
       "      <td>-1.214452</td>\n",
       "      <td>-0.439314</td>\n",
       "      <td>5.922514</td>\n",
       "      <td>52.954532</td>\n",
       "    </tr>\n",
       "  </tbody>\n",
       "</table>\n",
       "</div>"
      ],
      "text/plain": [
       "      id        f0        f1        f2     product\n",
       "0  fwXo0 -1.146987  0.963328 -0.828965   27.758673\n",
       "1  WJtFt  0.262778  0.269839 -2.530187   56.069697\n",
       "2  ovLUW  0.194587  0.289035 -5.586433   62.871910\n",
       "3  q6cA6  2.236060 -0.553760  0.930038  114.572842\n",
       "4  WPMUX -0.515993  1.716266  5.899011  149.600746\n",
       "5  LzZXx -0.758092  0.710691  2.585887   90.222465\n",
       "6  WBHRv -0.574891  0.317727  1.773745   45.641478\n",
       "7  XO8fn -1.906649 -2.458350 -0.177097   72.480640\n",
       "8  ybmQ5  1.776292 -0.279356  3.004156  106.616832\n",
       "9  OilcN -1.214452 -0.439314  5.922514   52.954532"
      ]
     },
     "metadata": {},
     "output_type": "display_data"
    },
    {
     "name": "stdout",
     "output_type": "stream",
     "text": [
      "Информация о таблице: Регион 3\n",
      "<class 'pandas.core.frame.DataFrame'>\n",
      "RangeIndex: 100000 entries, 0 to 99999\n",
      "Data columns (total 5 columns):\n",
      " #   Column   Non-Null Count   Dtype  \n",
      "---  ------   --------------   -----  \n",
      " 0   id       100000 non-null  object \n",
      " 1   f0       100000 non-null  float64\n",
      " 2   f1       100000 non-null  float64\n",
      " 3   f2       100000 non-null  float64\n",
      " 4   product  100000 non-null  float64\n",
      "dtypes: float64(4), object(1)\n",
      "memory usage: 9.0 MB\n",
      "None\n",
      "Количество пропусков в таблице: Регион 3\n",
      "id         0.0\n",
      "f0         0.0\n",
      "f1         0.0\n",
      "f2         0.0\n",
      "product    0.0\n",
      "dtype: float64\n",
      "Получение сводки по таблице: Регион 3\n"
     ]
    },
    {
     "data": {
      "text/html": [
       "<div>\n",
       "<style scoped>\n",
       "    .dataframe tbody tr th:only-of-type {\n",
       "        vertical-align: middle;\n",
       "    }\n",
       "\n",
       "    .dataframe tbody tr th {\n",
       "        vertical-align: top;\n",
       "    }\n",
       "\n",
       "    .dataframe thead th {\n",
       "        text-align: right;\n",
       "    }\n",
       "</style>\n",
       "<table border=\"1\" class=\"dataframe\">\n",
       "  <thead>\n",
       "    <tr style=\"text-align: right;\">\n",
       "      <th></th>\n",
       "      <th>count</th>\n",
       "      <th>mean</th>\n",
       "      <th>std</th>\n",
       "      <th>min</th>\n",
       "      <th>25%</th>\n",
       "      <th>50%</th>\n",
       "      <th>75%</th>\n",
       "      <th>max</th>\n",
       "    </tr>\n",
       "  </thead>\n",
       "  <tbody>\n",
       "    <tr>\n",
       "      <th>f0</th>\n",
       "      <td>100000.0</td>\n",
       "      <td>0.002023</td>\n",
       "      <td>1.732045</td>\n",
       "      <td>-8.760004</td>\n",
       "      <td>-1.162288</td>\n",
       "      <td>0.009424</td>\n",
       "      <td>1.158535</td>\n",
       "      <td>7.238262</td>\n",
       "    </tr>\n",
       "    <tr>\n",
       "      <th>f1</th>\n",
       "      <td>100000.0</td>\n",
       "      <td>-0.002081</td>\n",
       "      <td>1.730417</td>\n",
       "      <td>-7.084020</td>\n",
       "      <td>-1.174820</td>\n",
       "      <td>-0.009482</td>\n",
       "      <td>1.163678</td>\n",
       "      <td>7.844801</td>\n",
       "    </tr>\n",
       "    <tr>\n",
       "      <th>f2</th>\n",
       "      <td>100000.0</td>\n",
       "      <td>2.495128</td>\n",
       "      <td>3.473445</td>\n",
       "      <td>-11.970335</td>\n",
       "      <td>0.130359</td>\n",
       "      <td>2.484236</td>\n",
       "      <td>4.858794</td>\n",
       "      <td>16.739402</td>\n",
       "    </tr>\n",
       "    <tr>\n",
       "      <th>product</th>\n",
       "      <td>100000.0</td>\n",
       "      <td>95.000000</td>\n",
       "      <td>44.749921</td>\n",
       "      <td>0.000000</td>\n",
       "      <td>59.450441</td>\n",
       "      <td>94.925613</td>\n",
       "      <td>130.595027</td>\n",
       "      <td>190.029838</td>\n",
       "    </tr>\n",
       "  </tbody>\n",
       "</table>\n",
       "</div>"
      ],
      "text/plain": [
       "            count       mean        std        min        25%        50%  \\\n",
       "f0       100000.0   0.002023   1.732045  -8.760004  -1.162288   0.009424   \n",
       "f1       100000.0  -0.002081   1.730417  -7.084020  -1.174820  -0.009482   \n",
       "f2       100000.0   2.495128   3.473445 -11.970335   0.130359   2.484236   \n",
       "product  100000.0  95.000000  44.749921   0.000000  59.450441  94.925613   \n",
       "\n",
       "                75%         max  \n",
       "f0         1.158535    7.238262  \n",
       "f1         1.163678    7.844801  \n",
       "f2         4.858794   16.739402  \n",
       "product  130.595027  190.029838  "
      ]
     },
     "metadata": {},
     "output_type": "display_data"
    },
    {
     "name": "stdout",
     "output_type": "stream",
     "text": [
      "Количество дубликатов в таблице Регион 3 : 0\n",
      "Распределение по объему запасов в скважине: Регион 3\n"
     ]
    },
    {
     "data": {
      "image/png": "[encoded data removed]",
      "text/plain": [
       "<Figure size 360x360 with 1 Axes>"
      ]
     },
     "metadata": {
      "needs_background": "light"
     },
     "output_type": "display_data"
    }
   ],
   "source": [
    "describe_data(data3) #Выведем информацию о таблице"
   ]
  },
  {
   "cell_type": "code",
   "execution_count": 8,
   "metadata": {},
   "outputs": [],
   "source": [
    "# готовим выборки для обучения. Разбиваем на целевой признак и признаки\n",
    "features_1=data1.drop(['product','id'],axis=1)\n",
    "target_1=data1['product']\n",
    "\n",
    "features_2=data2.drop(['product','id'],axis=1)\n",
    "target_2=data2['product']\n",
    "\n",
    "features_3=data3.drop(['product','id'],axis=1)\n",
    "target_3=data3['product']"
   ]
  },
  {
   "cell_type": "code",
   "execution_count": 9,
   "metadata": {},
   "outputs": [],
   "source": [
    "# Разбиваю датасет на 2 выборки:обучающую, валидационную (75:25)\n",
    "features_train_1,features_valid_1,target_train_1,target_valid_1=train_test_split(features_1,target_1,test_size=.25,random_state=1234)\n",
    "features_train_2,features_valid_2,target_train_2,target_valid_2=train_test_split(features_2,target_2,test_size=.25,random_state=1234)\n",
    "features_train_3,features_valid_3,target_train_3,target_valid_3=train_test_split(features_3,target_3,test_size=.25,random_state=1234)"
   ]
  },
  {
   "cell_type": "code",
   "execution_count": 10,
   "metadata": {},
   "outputs": [
    {
     "name": "stdout",
     "output_type": "stream",
     "text": [
      "Количество элементов в обучающей выборке:\n",
      "Регион 1 (75000, 3) (75000,)\n",
      "Регион 1 (75000, 3) (75000,)\n",
      "Регион 1 (75000, 3) (75000,)\n",
      "Количество элементов в валидационной выборке:\n",
      "Регион 1 (25000, 3) (25000,)\n",
      "Регион 1 (25000, 3) (25000,)\n",
      "Регион 1 (25000, 3) (25000,)\n"
     ]
    }
   ],
   "source": [
    "# Выведем итнформацию о количестве элементов после разбивки\n",
    "print('Количество элементов в обучающей выборке:')\n",
    "print('Регион 1',features_train_1.shape , target_train_1.shape)\n",
    "print('Регион 1',features_train_2.shape , target_train_2.shape)\n",
    "print('Регион 1',features_train_3.shape , target_train_3.shape)\n",
    "print('Количество элементов в валидационной выборке:')\n",
    "print('Регион 1',features_valid_1.shape , target_valid_1.shape)\n",
    "print('Регион 1',features_valid_2.shape , target_valid_2.shape)\n",
    "print('Регион 1',features_valid_3.shape , target_valid_3.shape)"
   ]
  },
  {
   "cell_type": "markdown",
   "metadata": {},
   "source": [
    "### Вывод"
   ]
  },
  {
   "cell_type": "markdown",
   "metadata": {},
   "source": [
    "Данные загружены и подготовлены. В каждой таблице 100000 строк. Тип данных в каждом столбце подходит для анализа. Пропущенных значений и дубликатов нет. Судя по столбцу product (объем запасов в скважине) данные распределены не нормально (это исправим на этапе работы с Bootstrap). Больше замечаний к данным нет."
   ]
  },
  {
   "cell_type": "markdown",
   "metadata": {},
   "source": [
    "## Обучение и проверка модели"
   ]
  },
  {
   "cell_type": "code",
   "execution_count": 11,
   "metadata": {},
   "outputs": [
    {
     "name": "stdout",
     "output_type": "stream",
     "text": [
      "Регион 1:\n",
      "Средний запас фактического сырья: 92.57965325518721\n",
      "Средний запас предсказанного сырья: 92.43045952558441\n",
      "RMSE: 37.562394183637785\n",
      "MAE: 30.938765880476645\n"
     ]
    }
   ],
   "source": [
    "# Обучение и проверка модели (Регион 1)\n",
    "model_reg_1=LinearRegression() # инициализируем модель LinearRegression\n",
    "model_reg_1.fit(features_train_1,target_train_1) # обучим модель на тренировочной выборке\n",
    "predict_reg_1=model_reg_1.predict(features_valid_1) # получим предсказания модели на валидационной выборке\n",
    "print('Регион 1:')\n",
    "print('Средний запас фактического сырья:',target_valid_1.mean())\n",
    "print('Средний запас предсказанного сырья:',predict_reg_1.mean())\n",
    "print('RMSE:',np.sqrt(mean_squared_error(predict_reg_1,target_valid_1)))\n",
    "print('MAE:',mean_absolute_error(predict_reg_1,target_valid_1))"
   ]
  },
  {
   "cell_type": "code",
   "execution_count": 12,
   "metadata": {},
   "outputs": [
    {
     "name": "stdout",
     "output_type": "stream",
     "text": [
      "Регион 2:\n",
      "Средний запас фактического сырья: 68.80279604178406\n",
      "Средний запас предсказанного сырья: 68.80248249798365\n",
      "RMSE: 0.8939344738117704\n",
      "MAE: 0.7208749581371285\n"
     ]
    }
   ],
   "source": [
    "# Обучение и проверка модели (Регион 2)\n",
    "model_reg_2=LinearRegression() # инициализируем модель LinearRegression\n",
    "model_reg_2.fit(features_train_2,target_train_2) # обучим модель на тренировочной выборке\n",
    "predict_reg_2=model_reg_2.predict(features_valid_2) # получим предсказания модели на валидационной выборке\n",
    "print('Регион 2:')\n",
    "print('Средний запас фактического сырья:',target_valid_2.mean())\n",
    "print('Средний запас предсказанного сырья:',predict_reg_2.mean())\n",
    "print('RMSE:',np.sqrt(mean_squared_error(predict_reg_2,target_valid_2)))\n",
    "print('MAE:',mean_absolute_error(predict_reg_2,target_valid_2))"
   ]
  },
  {
   "cell_type": "code",
   "execution_count": 13,
   "metadata": {},
   "outputs": [
    {
     "name": "stdout",
     "output_type": "stream",
     "text": [
      "Регион 3:\n",
      "Средний запас фактического сырья: 94.97180046006052\n",
      "Средний запас предсказанного сырья: 94.91573817913459\n",
      "RMSE: 40.10318099258418\n",
      "MAE: 32.86813268581066\n"
     ]
    }
   ],
   "source": [
    "# Обучение и проверка модели (Регион 1)\n",
    "model_reg_3=LinearRegression() # инициализируем модель LinearRegression\n",
    "model_reg_3.fit(features_train_3,target_train_3) # обучим модель на тренировочной выборке\n",
    "predict_reg_3=model_reg_3.predict(features_valid_3) # получим предсказания модели на валидационной выборке\n",
    "print('Регион 3:')\n",
    "print('Средний запас фактического сырья:',target_valid_3.mean())\n",
    "print('Средний запас предсказанного сырья:',predict_reg_3.mean())\n",
    "print('RMSE:',np.sqrt(mean_squared_error(predict_reg_3,target_valid_3)))\n",
    "print('MAE:',mean_absolute_error(predict_reg_3,target_valid_3))"
   ]
  },
  {
   "cell_type": "markdown",
   "metadata": {},
   "source": [
    "### Вывод"
   ]
  },
  {
   "cell_type": "markdown",
   "metadata": {},
   "source": [
    "Регион 1: на втором месте по средним запасам сырья (факт - 92,57, предсказ - 92,43) и на втором месте по корню из средней вадратичной ошибки (37,53).\n",
    "\n",
    "Регион 2: на третьем месте по средним запасам сырья (факт - 68,80, предсказ - 68,80) и на первом месте по корню из средней вадратичной ошибки (0,89).\n",
    "\n",
    "Регион 3: на первом месте по средним запасам сырья (факт - 94,97, предсказ - 94,91) и на третьем месте по корню из средней вадратичной ошибки (40,10)."
   ]
  },
  {
   "cell_type": "markdown",
   "metadata": {},
   "source": [
    "## Подготовка к расчёту прибыли"
   ]
  },
  {
   "cell_type": "code",
   "execution_count": 14,
   "metadata": {},
   "outputs": [],
   "source": [
    "OIL_FIELD=500 # При разведке региона проводится исследование 500 точек.\n",
    "F_OIL_FIELD=200 # В итоге выбирают 200 лучших для разработки\n",
    "BUDGET_REGION=10*(10**9) # Бюджет на разработку месторождений — 10 млрд рублей\n",
    "COAST_ONE_WELL=BUDGET_REGION/F_OIL_FIELD # стоимость бурения одной скважины\n",
    "BURREL=450 # Один баррель сырья приносит 450 рублей дохода.\n",
    "NON_DAMAGE_POINT = COAST_ONE_WELL/(BURREL*1000) #умножаем на 1000, поскольку объемы указаны в тысячах баррелей"
   ]
  },
  {
   "cell_type": "code",
   "execution_count": 15,
   "metadata": {},
   "outputs": [
    {
     "name": "stdout",
     "output_type": "stream",
     "text": [
      "Достаточный объем добычи для безубыточной разработки: 111.11111111111111 тыс.бареллей\n"
     ]
    }
   ],
   "source": [
    "print(\"Достаточный объем добычи для безубыточной разработки:\",NON_DAMAGE_POINT ,'тыс.бареллей')"
   ]
  },
  {
   "cell_type": "code",
   "execution_count": 16,
   "metadata": {},
   "outputs": [
    {
     "name": "stdout",
     "output_type": "stream",
     "text": [
      "Кол-во месторождений в Регионе 1 где объем добычи нефти более достаточного 36583\n",
      "Кол-во месторождений в Регионе 2 где объем добычи нефти более достаточного 16537\n",
      "Кол-во месторождений в Регионе 3 где объем добычи нефти более достаточного 38178\n"
     ]
    }
   ],
   "source": [
    "print(\"Кол-во месторождений в Регионе 1 где объем добычи нефти более достаточного\", len(data1[data1['product']>=NON_DAMAGE_POINT]))\n",
    "print(\"Кол-во месторождений в Регионе 2 где объем добычи нефти более достаточного\", len(data2[data2['product']>=NON_DAMAGE_POINT]))\n",
    "print(\"Кол-во месторождений в Регионе 3 где объем добычи нефти более достаточного\", len(data3[data3['product']>=NON_DAMAGE_POINT]))"
   ]
  },
  {
   "cell_type": "markdown",
   "metadata": {},
   "source": [
    "### Вывод"
   ]
  },
  {
   "cell_type": "markdown",
   "metadata": {},
   "source": [
    "Минимальный объем добычи, для каждого месторождения из 200 лучших для разработки в регионе, должен составлять 111 тысяч баррелей нефти. В соответствии с данными, в каждом регионе имеется 16 до 38 тысяч подобных месторождений."
   ]
  },
  {
   "cell_type": "markdown",
   "metadata": {},
   "source": [
    "## Расчёт прибыли и рисков "
   ]
  },
  {
   "cell_type": "code",
   "execution_count": 17,
   "metadata": {},
   "outputs": [],
   "source": [
    "# Создадим функицию для расчета прибыли \n",
    "def profit(true_target, pred_target):\n",
    "    sort_series = pd.Series(pred_target).sort_values(ascending=False)[:F_OIL_FIELD]\n",
    "    true_target_sort = true_target.reset_index(drop = True)[sort_series.index]\n",
    "    sum_true = true_target_sort.sum() \n",
    "    return (sum_true * BURREL*1000) - BUDGET_REGION"
   ]
  },
  {
   "cell_type": "code",
   "execution_count": 18,
   "metadata": {},
   "outputs": [
    {
     "name": "stdout",
     "output_type": "stream",
     "text": [
      "Прибыль с лучших 200 скважин в Регионе 1: 3424026320.2475376\n",
      "Прибыль с лучших 200 скважин в Регионе 2: 2415086696.681513\n",
      "Прибыль с лучших 200 скважин в Регионе 3: 2554955424.433958\n"
     ]
    }
   ],
   "source": [
    "print('Прибыль с лучших 200 скважин в Регионе 1:', profit(target_valid_1, predict_reg_1))\n",
    "print('Прибыль с лучших 200 скважин в Регионе 2:', profit(target_valid_2, predict_reg_2))\n",
    "print('Прибыль с лучших 200 скважин в Регионе 3:', profit(target_valid_3, predict_reg_3))"
   ]
  },
  {
   "cell_type": "code",
   "execution_count": 19,
   "metadata": {},
   "outputs": [],
   "source": [
    "#Функция расчета рисков и прибыли\n",
    "def confidence_interval(true_target,pred_target, df):\n",
    "    state = np.random.RandomState(1234)\n",
    "    samples = []\n",
    "    for i in range(1000):\n",
    "        sample = pd.Series(pred_target).sample(n = OIL_FIELD, replace=True, random_state=state)\n",
    "        samples.append(profit(true_target,sample))\n",
    "    samples = pd.Series(samples)\n",
    "    print(df.name)\n",
    "    print('Средняя прибыль', samples.mean())\n",
    "#    print(samples.apply(lambda x: x < 0).sum()/len(samples)*100,\"%\") 2 способа нахождения процентиля\n",
    "#    print(samples[samples < 0].count()/len(samples)*100,\"%\")\n",
    "    print('Риск убытков',stats.percentileofscore(samples, 0),\"%\")\n",
    "    \n",
    "    lower = samples.quantile(0.025)\n",
    "    upper = samples.quantile(0.975)\n",
    "    return print('95% доверительный интервал:', round(lower,2), round(upper,2))"
   ]
  },
  {
   "cell_type": "code",
   "execution_count": 20,
   "metadata": {},
   "outputs": [
    {
     "name": "stdout",
     "output_type": "stream",
     "text": [
      "Регион 1\n",
      "Средняя прибыль 379402878.218449\n",
      "Риск убытков 7.2 %\n",
      "95% доверительный интервал: -107976792.26 918803441.6\n"
     ]
    }
   ],
   "source": [
    "confidence_interval(target_valid_1,pd.Series(predict_reg_1), data1) #Регион 1"
   ]
  },
  {
   "cell_type": "code",
   "execution_count": 21,
   "metadata": {},
   "outputs": [
    {
     "name": "stdout",
     "output_type": "stream",
     "text": [
      "Регион 2\n",
      "Средняя прибыль 429085147.9064184\n",
      "Риск убытков 1.9 %\n",
      "95% доверительный интервал: 32450558.07 847355452.1\n"
     ]
    }
   ],
   "source": [
    "confidence_interval(target_valid_2,pd.Series(predict_reg_2), data2) #Регион 2"
   ]
  },
  {
   "cell_type": "code",
   "execution_count": 22,
   "metadata": {},
   "outputs": [
    {
     "name": "stdout",
     "output_type": "stream",
     "text": [
      "Регион 3\n",
      "Средняя прибыль 353931385.934333\n",
      "Риск убытков 9.0 %\n",
      "95% доверительный интервал: -210845231.1 892073818.45\n"
     ]
    }
   ],
   "source": [
    "confidence_interval(target_valid_3,pd.Series(predict_reg_3), data3) #Регион 3"
   ]
  },
  {
   "cell_type": "markdown",
   "metadata": {},
   "source": [
    "### Вывод"
   ]
  },
  {
   "cell_type": "markdown",
   "metadata": {},
   "source": [
    "Предлагаем регион 2 в качастве разработки месторождений. В данном регионе минимальный риск убытков (1,9%), с 95% вероятностью прибыль будет от 32 млн до 847 млн рублей и в этом регионе самая высокая средняя прибыль - 429 млн рублей."
   ]
  },
  {
   "cell_type": "markdown",
   "metadata": {},
   "source": [
    "## Общий вывод"
   ]
  },
  {
   "cell_type": "markdown",
   "metadata": {},
   "source": [
    "<div style=\"border:solid green 5px; padding: 20px\">\n",
    "    \n",
    "**<font color=\"green\">Загрузка и подготовка данных</font>**    \n",
    "<br>Данные загружены и подготовлены. В каждой таблице 100000 строк. Тип данных в каждом столбце подходит для анализа. Пропущенных значений и дубликатов нет. Судя по столбцу product (объем запасов в скважине) данные распределены не нормально (это исправим на этапе работы с Bootstrap). Больше замечаний к данным нет.\n",
    "    \n",
    "**<font color=\"green\">Обучение и проверка модели</font>**      \n",
    "<br>Регион 1: на втором месте по средним запасам сырья (факт - 92,57, предсказ - 92,43) и на втором месте по корню из средней вадратичной ошибки (37,53).\n",
    "<br>Регион 2: на третьем месте по средним запасам сырья (факт - 68,80, предсказ - 68,80) и на первом месте по корню из средней вадратичной ошибки (0,89).\n",
    "<br>Регион 3: на первом месте по средним запасам сырья (факт - 94,97, предсказ - 94,91) и на третьем месте по корню из средней вадратичной ошибки (40,10).\n",
    "    \n",
    "**<font color=\"green\">Подготовка к расчёту прибыли</font>**      \n",
    "<br>Минимальный объем добычи, для каждого месторождения из 200 лучших для разработки в регионе, должен составлять 111 тысяч баррелей нефти. В соответствии с данными, в каждом регионе имеется 16 до 38 тысяч подобных месторождений.\n",
    "    \n",
    "**<font color=\"green\">Расчёт прибыли и рисков</font>**      \n",
    "<br>Предлагаем регион 2 в качастве разработки месторождений. В данном регионе минимальный риск убытков (1,9%), с 95% вероятностью прибыль будет от 32 млн до 847 млн рублей и в этом регионе самая высокая средняя прибыль - 429 млн рублей.\n",
    "    \n",
    "**<font color=\"green\">Общий вывод</font>**    \n",
    "<br> Не смотря на наименьшие средние запасы сырья и максимально возможный доход (2,4 млрд. рублей), Регион 2 показал наулучшие результаты в данной работе. Вероятно, это связано с наиболее точным предсказанием модели."
   ]
  }
 ],
 "metadata": {
  "ExecuteTimeLog": [
   {
    "duration": 47,
    "start_time": "2022-04-29T20:51:09.036Z"
   },
   {
    "duration": 7,
    "start_time": "2022-04-29T20:51:23.518Z"
   },
   {
    "duration": 7,
    "start_time": "2022-04-29T20:51:26.079Z"
   },
   {
    "duration": 402,
    "start_time": "2022-04-29T20:51:45.597Z"
   },
   {
    "duration": 363,
    "start_time": "2022-04-29T20:51:46.651Z"
   },
   {
    "duration": 19,
    "start_time": "2022-04-29T20:51:47.825Z"
   },
   {
    "duration": 14,
    "start_time": "2022-04-29T20:51:49.071Z"
   },
   {
    "duration": 12,
    "start_time": "2022-04-29T20:51:49.977Z"
   },
   {
    "duration": 397,
    "start_time": "2022-04-30T19:36:31.512Z"
   },
   {
    "duration": 353,
    "start_time": "2022-04-30T19:36:34.186Z"
   },
   {
    "duration": 3,
    "start_time": "2022-04-30T19:37:46.991Z"
   },
   {
    "duration": 4,
    "start_time": "2022-04-30T19:40:29.427Z"
   },
   {
    "duration": 338,
    "start_time": "2022-04-30T19:42:20.689Z"
   },
   {
    "duration": 3,
    "start_time": "2022-04-30T19:42:21.148Z"
   },
   {
    "duration": 4,
    "start_time": "2022-04-30T19:42:24.098Z"
   },
   {
    "duration": 102,
    "start_time": "2022-04-30T19:42:33.933Z"
   },
   {
    "duration": 5,
    "start_time": "2022-04-30T19:43:05.796Z"
   },
   {
    "duration": 105,
    "start_time": "2022-04-30T19:43:06.642Z"
   },
   {
    "duration": 5,
    "start_time": "2022-04-30T19:43:23.094Z"
   },
   {
    "duration": 117,
    "start_time": "2022-04-30T19:43:23.725Z"
   },
   {
    "duration": 4,
    "start_time": "2022-04-30T19:43:31.587Z"
   },
   {
    "duration": 100,
    "start_time": "2022-04-30T19:43:32.374Z"
   },
   {
    "duration": 4,
    "start_time": "2022-04-30T19:43:54.710Z"
   },
   {
    "duration": 114,
    "start_time": "2022-04-30T19:43:55.513Z"
   },
   {
    "duration": 4,
    "start_time": "2022-04-30T19:44:16.939Z"
   },
   {
    "duration": 119,
    "start_time": "2022-04-30T19:44:30.599Z"
   },
   {
    "duration": 101,
    "start_time": "2022-04-30T19:45:14.850Z"
   },
   {
    "duration": 149,
    "start_time": "2022-04-30T19:45:34.101Z"
   },
   {
    "duration": 105,
    "start_time": "2022-04-30T19:45:34.841Z"
   },
   {
    "duration": 1679,
    "start_time": "2022-05-03T13:12:15.044Z"
   },
   {
    "duration": 4,
    "start_time": "2022-05-03T13:14:00.137Z"
   },
   {
    "duration": 1167,
    "start_time": "2022-05-03T13:14:13.967Z"
   },
   {
    "duration": 373,
    "start_time": "2022-05-03T13:14:15.136Z"
   },
   {
    "duration": 3,
    "start_time": "2022-05-03T13:14:15.511Z"
   },
   {
    "duration": 13,
    "start_time": "2022-05-03T13:14:15.515Z"
   },
   {
    "duration": 987,
    "start_time": "2022-05-03T13:14:15.530Z"
   },
   {
    "duration": 967,
    "start_time": "2022-05-03T13:14:16.519Z"
   },
   {
    "duration": 734,
    "start_time": "2022-05-03T13:14:17.489Z"
   },
   {
    "duration": 4,
    "start_time": "2022-05-03T13:15:23.906Z"
   },
   {
    "duration": 494,
    "start_time": "2022-05-03T13:15:25.106Z"
   },
   {
    "duration": 1439,
    "start_time": "2022-05-03T13:15:38.383Z"
   },
   {
    "duration": 398,
    "start_time": "2022-05-03T13:15:39.825Z"
   },
   {
    "duration": 4,
    "start_time": "2022-05-03T13:15:40.225Z"
   },
   {
    "duration": 17,
    "start_time": "2022-05-03T13:15:40.231Z"
   },
   {
    "duration": 551,
    "start_time": "2022-05-03T13:15:40.250Z"
   },
   {
    "duration": 630,
    "start_time": "2022-05-03T13:15:40.804Z"
   },
   {
    "duration": 647,
    "start_time": "2022-05-03T13:15:41.436Z"
   },
   {
    "duration": 6,
    "start_time": "2022-05-03T13:16:06.446Z"
   },
   {
    "duration": 496,
    "start_time": "2022-05-03T13:16:06.987Z"
   },
   {
    "duration": 5,
    "start_time": "2022-05-03T13:16:30.861Z"
   },
   {
    "duration": 496,
    "start_time": "2022-05-03T13:16:31.644Z"
   },
   {
    "duration": 4,
    "start_time": "2022-05-03T13:16:52.076Z"
   },
   {
    "duration": 772,
    "start_time": "2022-05-03T13:16:52.822Z"
   },
   {
    "duration": 554,
    "start_time": "2022-05-03T13:17:02.232Z"
   },
   {
    "duration": 495,
    "start_time": "2022-05-03T13:17:16.220Z"
   },
   {
    "duration": 327,
    "start_time": "2022-05-03T13:21:01.756Z"
   },
   {
    "duration": 107,
    "start_time": "2022-05-03T13:48:16.983Z"
   },
   {
    "duration": 9,
    "start_time": "2022-05-03T13:48:36.165Z"
   },
   {
    "duration": 39,
    "start_time": "2022-05-03T13:49:11.441Z"
   },
   {
    "duration": 32,
    "start_time": "2022-05-03T13:57:56.561Z"
   },
   {
    "duration": 25,
    "start_time": "2022-05-03T13:59:27.147Z"
   },
   {
    "duration": 11,
    "start_time": "2022-05-03T14:00:02.785Z"
   },
   {
    "duration": 6,
    "start_time": "2022-05-03T14:00:33.115Z"
   },
   {
    "duration": 6,
    "start_time": "2022-05-03T14:01:18.004Z"
   },
   {
    "duration": 1787,
    "start_time": "2022-05-03T14:02:42.237Z"
   },
   {
    "duration": 482,
    "start_time": "2022-05-03T14:02:44.027Z"
   },
   {
    "duration": 3,
    "start_time": "2022-05-03T14:02:44.511Z"
   },
   {
    "duration": 4,
    "start_time": "2022-05-03T14:02:44.516Z"
   },
   {
    "duration": 476,
    "start_time": "2022-05-03T14:02:44.522Z"
   },
   {
    "duration": 465,
    "start_time": "2022-05-03T14:02:45.000Z"
   },
   {
    "duration": 724,
    "start_time": "2022-05-03T14:02:45.467Z"
   },
   {
    "duration": 12,
    "start_time": "2022-05-03T14:02:46.193Z"
   },
   {
    "duration": 40,
    "start_time": "2022-05-03T14:02:46.207Z"
   },
   {
    "duration": 7,
    "start_time": "2022-05-03T14:02:46.249Z"
   },
   {
    "duration": 165,
    "start_time": "2022-05-03T14:08:41.001Z"
   },
   {
    "duration": 29,
    "start_time": "2022-05-03T14:08:50.822Z"
   },
   {
    "duration": 5,
    "start_time": "2022-05-03T14:09:47.764Z"
   },
   {
    "duration": 20,
    "start_time": "2022-05-03T14:09:52.936Z"
   },
   {
    "duration": 16,
    "start_time": "2022-05-03T14:10:44.322Z"
   },
   {
    "duration": 19,
    "start_time": "2022-05-03T14:13:53.490Z"
   },
   {
    "duration": 15,
    "start_time": "2022-05-03T14:13:56.196Z"
   },
   {
    "duration": 17,
    "start_time": "2022-05-03T14:13:57.573Z"
   },
   {
    "duration": 94,
    "start_time": "2022-05-03T14:39:27.861Z"
   },
   {
    "duration": 18,
    "start_time": "2022-05-03T14:40:04.201Z"
   },
   {
    "duration": 19,
    "start_time": "2022-05-03T14:40:24.808Z"
   },
   {
    "duration": 15,
    "start_time": "2022-05-03T14:40:26.665Z"
   },
   {
    "duration": 16,
    "start_time": "2022-05-03T14:40:47.617Z"
   },
   {
    "duration": 3,
    "start_time": "2022-05-03T14:50:54.704Z"
   },
   {
    "duration": 4,
    "start_time": "2022-05-03T14:51:05.584Z"
   },
   {
    "duration": 6,
    "start_time": "2022-05-03T14:51:17.452Z"
   },
   {
    "duration": 4,
    "start_time": "2022-05-03T14:51:33.313Z"
   },
   {
    "duration": 3,
    "start_time": "2022-05-03T14:53:07.694Z"
   },
   {
    "duration": 3,
    "start_time": "2022-05-03T14:53:55.121Z"
   },
   {
    "duration": 3,
    "start_time": "2022-05-03T14:54:07.330Z"
   },
   {
    "duration": 3,
    "start_time": "2022-05-03T14:54:07.998Z"
   },
   {
    "duration": 4,
    "start_time": "2022-05-03T14:54:46.076Z"
   },
   {
    "duration": 4,
    "start_time": "2022-05-03T14:55:09.244Z"
   },
   {
    "duration": 4,
    "start_time": "2022-05-03T14:58:04.576Z"
   },
   {
    "duration": 4,
    "start_time": "2022-05-03T14:58:24.201Z"
   },
   {
    "duration": 3,
    "start_time": "2022-05-03T14:58:25.181Z"
   },
   {
    "duration": 4,
    "start_time": "2022-05-03T15:02:11.825Z"
   },
   {
    "duration": 3,
    "start_time": "2022-05-03T15:02:52.934Z"
   },
   {
    "duration": 5,
    "start_time": "2022-05-03T15:02:53.577Z"
   },
   {
    "duration": 5,
    "start_time": "2022-05-03T15:03:16.174Z"
   },
   {
    "duration": 4,
    "start_time": "2022-05-03T15:04:28.243Z"
   },
   {
    "duration": 4,
    "start_time": "2022-05-03T15:05:06.326Z"
   },
   {
    "duration": 4,
    "start_time": "2022-05-03T15:05:42.678Z"
   },
   {
    "duration": 4,
    "start_time": "2022-05-03T15:08:51.325Z"
   },
   {
    "duration": 4,
    "start_time": "2022-05-03T15:08:51.912Z"
   },
   {
    "duration": 3,
    "start_time": "2022-05-03T15:09:10.978Z"
   },
   {
    "duration": 3,
    "start_time": "2022-05-03T15:09:12.435Z"
   },
   {
    "duration": 3,
    "start_time": "2022-05-03T15:09:20.820Z"
   },
   {
    "duration": 3,
    "start_time": "2022-05-03T15:10:12.428Z"
   },
   {
    "duration": 5,
    "start_time": "2022-05-03T15:10:13.369Z"
   },
   {
    "duration": 4,
    "start_time": "2022-05-03T15:10:37.282Z"
   },
   {
    "duration": 5,
    "start_time": "2022-05-03T15:11:26.164Z"
   },
   {
    "duration": 5,
    "start_time": "2022-05-03T15:11:26.873Z"
   },
   {
    "duration": 10,
    "start_time": "2022-05-03T15:14:28.345Z"
   },
   {
    "duration": 3,
    "start_time": "2022-05-03T15:20:10.205Z"
   },
   {
    "duration": 4,
    "start_time": "2022-05-03T15:24:15.523Z"
   },
   {
    "duration": 4,
    "start_time": "2022-05-03T15:24:16.026Z"
   },
   {
    "duration": 4,
    "start_time": "2022-05-03T15:24:30.445Z"
   },
   {
    "duration": 3,
    "start_time": "2022-05-03T15:24:31.096Z"
   },
   {
    "duration": 3,
    "start_time": "2022-05-03T15:24:44.714Z"
   },
   {
    "duration": 3,
    "start_time": "2022-05-03T15:24:47.148Z"
   },
   {
    "duration": 3,
    "start_time": "2022-05-03T15:24:47.484Z"
   },
   {
    "duration": 4,
    "start_time": "2022-05-03T15:25:00.881Z"
   },
   {
    "duration": 4,
    "start_time": "2022-05-03T15:25:01.244Z"
   },
   {
    "duration": 3,
    "start_time": "2022-05-03T15:25:13.012Z"
   },
   {
    "duration": 3,
    "start_time": "2022-05-03T15:25:13.772Z"
   },
   {
    "duration": 3,
    "start_time": "2022-05-03T15:25:40.652Z"
   },
   {
    "duration": 19,
    "start_time": "2022-05-03T15:34:20.088Z"
   },
   {
    "duration": 15,
    "start_time": "2022-05-03T15:34:26.274Z"
   },
   {
    "duration": 18,
    "start_time": "2022-05-03T15:34:29.779Z"
   },
   {
    "duration": 11,
    "start_time": "2022-05-03T15:34:59.948Z"
   },
   {
    "duration": 8,
    "start_time": "2022-05-03T15:36:51.737Z"
   },
   {
    "duration": 20,
    "start_time": "2022-05-03T15:37:05.853Z"
   },
   {
    "duration": 16,
    "start_time": "2022-05-03T15:37:14.970Z"
   },
   {
    "duration": 20,
    "start_time": "2022-05-03T15:38:11.830Z"
   },
   {
    "duration": 5,
    "start_time": "2022-05-03T15:45:59.114Z"
   },
   {
    "duration": 25,
    "start_time": "2022-05-03T16:14:52.109Z"
   },
   {
    "duration": 24,
    "start_time": "2022-05-03T16:15:41.843Z"
   },
   {
    "duration": 21,
    "start_time": "2022-05-03T16:15:46.272Z"
   },
   {
    "duration": 15,
    "start_time": "2022-05-03T16:17:43.316Z"
   },
   {
    "duration": 15,
    "start_time": "2022-05-03T16:17:55.423Z"
   },
   {
    "duration": 23,
    "start_time": "2022-05-03T16:18:15.166Z"
   },
   {
    "duration": 17,
    "start_time": "2022-05-03T16:18:21.712Z"
   },
   {
    "duration": 20,
    "start_time": "2022-05-03T16:19:03.294Z"
   },
   {
    "duration": 19,
    "start_time": "2022-05-03T16:19:21.070Z"
   },
   {
    "duration": 16,
    "start_time": "2022-05-03T16:19:47.970Z"
   },
   {
    "duration": 4,
    "start_time": "2022-05-03T16:21:37.387Z"
   },
   {
    "duration": 2,
    "start_time": "2022-05-03T16:32:12.118Z"
   },
   {
    "duration": 4,
    "start_time": "2022-05-03T17:28:59.138Z"
   },
   {
    "duration": 5,
    "start_time": "2022-05-03T17:30:30.466Z"
   },
   {
    "duration": 3,
    "start_time": "2022-05-03T17:32:22.368Z"
   },
   {
    "duration": 18,
    "start_time": "2022-05-03T17:34:26.348Z"
   },
   {
    "duration": 13,
    "start_time": "2022-05-03T17:35:04.720Z"
   },
   {
    "duration": 5,
    "start_time": "2022-05-03T17:36:09.536Z"
   },
   {
    "duration": 3,
    "start_time": "2022-05-03T17:38:29.278Z"
   },
   {
    "duration": 22,
    "start_time": "2022-05-03T17:38:32.104Z"
   },
   {
    "duration": 3,
    "start_time": "2022-05-03T17:39:42.273Z"
   },
   {
    "duration": 3,
    "start_time": "2022-05-03T17:39:44.637Z"
   },
   {
    "duration": 9,
    "start_time": "2022-05-03T17:39:45.125Z"
   },
   {
    "duration": 24,
    "start_time": "2022-05-03T17:41:24.638Z"
   },
   {
    "duration": 20,
    "start_time": "2022-05-03T17:54:39.763Z"
   },
   {
    "duration": 1332,
    "start_time": "2022-05-03T17:54:54.821Z"
   },
   {
    "duration": 20,
    "start_time": "2022-05-03T17:56:24.577Z"
   },
   {
    "duration": 5,
    "start_time": "2022-05-03T17:58:25.482Z"
   },
   {
    "duration": 966,
    "start_time": "2022-05-03T17:58:59.596Z"
   },
   {
    "duration": 1330,
    "start_time": "2022-05-03T18:04:38.090Z"
   },
   {
    "duration": 343,
    "start_time": "2022-05-03T18:04:39.421Z"
   },
   {
    "duration": 2,
    "start_time": "2022-05-03T18:04:39.766Z"
   },
   {
    "duration": 5,
    "start_time": "2022-05-03T18:04:39.770Z"
   },
   {
    "duration": 512,
    "start_time": "2022-05-03T18:04:39.777Z"
   },
   {
    "duration": 476,
    "start_time": "2022-05-03T18:04:40.290Z"
   },
   {
    "duration": 522,
    "start_time": "2022-05-03T18:04:40.768Z"
   },
   {
    "duration": 9,
    "start_time": "2022-05-03T18:04:41.292Z"
   },
   {
    "duration": 44,
    "start_time": "2022-05-03T18:04:41.303Z"
   },
   {
    "duration": 9,
    "start_time": "2022-05-03T18:04:41.349Z"
   },
   {
    "duration": 23,
    "start_time": "2022-05-03T18:04:41.360Z"
   },
   {
    "duration": 110,
    "start_time": "2022-05-03T18:04:41.457Z"
   },
   {
    "duration": 197,
    "start_time": "2022-05-03T18:04:41.569Z"
   },
   {
    "duration": 84,
    "start_time": "2022-05-03T18:04:41.770Z"
   },
   {
    "duration": 110,
    "start_time": "2022-05-03T18:04:41.857Z"
   },
   {
    "duration": 14,
    "start_time": "2022-05-03T18:04:41.969Z"
   },
   {
    "duration": 3,
    "start_time": "2022-05-03T18:04:41.985Z"
   },
   {
    "duration": 9,
    "start_time": "2022-05-03T18:04:41.990Z"
   },
   {
    "duration": 108,
    "start_time": "2022-05-03T18:04:42.000Z"
   },
   {
    "duration": 0,
    "start_time": "2022-05-03T18:04:42.110Z"
   },
   {
    "duration": 10,
    "start_time": "2022-05-03T18:05:39.931Z"
   },
   {
    "duration": 6,
    "start_time": "2022-05-03T18:05:51.632Z"
   },
   {
    "duration": 11,
    "start_time": "2022-05-03T18:06:42.283Z"
   },
   {
    "duration": 7,
    "start_time": "2022-05-03T18:06:53.635Z"
   },
   {
    "duration": 7,
    "start_time": "2022-05-03T18:07:33.401Z"
   },
   {
    "duration": 5,
    "start_time": "2022-05-03T18:09:11.894Z"
   },
   {
    "duration": 1482,
    "start_time": "2022-05-03T18:09:53.952Z"
   },
   {
    "duration": 382,
    "start_time": "2022-05-03T18:09:55.436Z"
   },
   {
    "duration": 4,
    "start_time": "2022-05-03T18:09:55.820Z"
   },
   {
    "duration": 5,
    "start_time": "2022-05-03T18:09:55.826Z"
   },
   {
    "duration": 520,
    "start_time": "2022-05-03T18:09:55.833Z"
   },
   {
    "duration": 560,
    "start_time": "2022-05-03T18:09:56.355Z"
   },
   {
    "duration": 477,
    "start_time": "2022-05-03T18:09:56.917Z"
   },
   {
    "duration": 11,
    "start_time": "2022-05-03T18:09:57.395Z"
   },
   {
    "duration": 44,
    "start_time": "2022-05-03T18:09:57.407Z"
   },
   {
    "duration": 6,
    "start_time": "2022-05-03T18:09:57.453Z"
   },
   {
    "duration": 21,
    "start_time": "2022-05-03T18:09:57.461Z"
   },
   {
    "duration": 109,
    "start_time": "2022-05-03T18:09:57.549Z"
   },
   {
    "duration": 201,
    "start_time": "2022-05-03T18:09:57.660Z"
   },
   {
    "duration": 86,
    "start_time": "2022-05-03T18:09:57.864Z"
   },
   {
    "duration": 97,
    "start_time": "2022-05-03T18:09:57.952Z"
   },
   {
    "duration": 17,
    "start_time": "2022-05-03T18:09:58.051Z"
   },
   {
    "duration": 3,
    "start_time": "2022-05-03T18:09:58.070Z"
   },
   {
    "duration": 4,
    "start_time": "2022-05-03T18:09:58.075Z"
   },
   {
    "duration": 119,
    "start_time": "2022-05-03T18:09:58.080Z"
   },
   {
    "duration": 0,
    "start_time": "2022-05-03T18:09:58.201Z"
   },
   {
    "duration": 4,
    "start_time": "2022-05-03T18:11:50.536Z"
   },
   {
    "duration": 6,
    "start_time": "2022-05-03T18:18:38.709Z"
   },
   {
    "duration": 1326,
    "start_time": "2022-05-03T18:18:54.565Z"
   },
   {
    "duration": 11,
    "start_time": "2022-05-03T18:19:11.333Z"
   },
   {
    "duration": 367,
    "start_time": "2022-05-03T18:19:18.337Z"
   },
   {
    "duration": 2,
    "start_time": "2022-05-03T18:19:44.793Z"
   },
   {
    "duration": 279,
    "start_time": "2022-05-03T18:19:50.525Z"
   },
   {
    "duration": 9,
    "start_time": "2022-05-03T18:20:12.636Z"
   },
   {
    "duration": 14,
    "start_time": "2022-05-03T18:23:13.115Z"
   },
   {
    "duration": 4,
    "start_time": "2022-05-03T18:31:42.299Z"
   },
   {
    "duration": 11,
    "start_time": "2022-05-03T18:33:21.291Z"
   },
   {
    "duration": 12,
    "start_time": "2022-05-03T18:33:29.096Z"
   },
   {
    "duration": 5,
    "start_time": "2022-05-03T18:34:03.943Z"
   },
   {
    "duration": 4,
    "start_time": "2022-05-03T18:34:19.396Z"
   },
   {
    "duration": 12,
    "start_time": "2022-05-03T18:34:20.372Z"
   },
   {
    "duration": 4,
    "start_time": "2022-05-03T18:35:13.415Z"
   },
   {
    "duration": 10,
    "start_time": "2022-05-03T18:35:15.091Z"
   },
   {
    "duration": 11,
    "start_time": "2022-05-03T18:35:27.164Z"
   },
   {
    "duration": 21,
    "start_time": "2022-05-03T18:35:28.251Z"
   },
   {
    "duration": 4,
    "start_time": "2022-05-03T18:35:43.332Z"
   },
   {
    "duration": 11,
    "start_time": "2022-05-03T18:35:44.230Z"
   },
   {
    "duration": 316,
    "start_time": "2022-05-03T18:36:57.951Z"
   },
   {
    "duration": 1666,
    "start_time": "2022-05-03T18:37:27.774Z"
   },
   {
    "duration": 490,
    "start_time": "2022-05-03T18:37:29.442Z"
   },
   {
    "duration": 3,
    "start_time": "2022-05-03T18:37:29.933Z"
   },
   {
    "duration": 17,
    "start_time": "2022-05-03T18:37:29.938Z"
   },
   {
    "duration": 584,
    "start_time": "2022-05-03T18:37:29.957Z"
   },
   {
    "duration": 566,
    "start_time": "2022-05-03T18:37:30.543Z"
   },
   {
    "duration": 630,
    "start_time": "2022-05-03T18:37:31.111Z"
   },
   {
    "duration": 24,
    "start_time": "2022-05-03T18:37:31.744Z"
   },
   {
    "duration": 57,
    "start_time": "2022-05-03T18:37:31.770Z"
   },
   {
    "duration": 6,
    "start_time": "2022-05-03T18:37:31.830Z"
   },
   {
    "duration": 36,
    "start_time": "2022-05-03T18:37:31.838Z"
   },
   {
    "duration": 218,
    "start_time": "2022-05-03T18:37:31.877Z"
   },
   {
    "duration": 156,
    "start_time": "2022-05-03T18:37:32.097Z"
   },
   {
    "duration": 92,
    "start_time": "2022-05-03T18:37:32.260Z"
   },
   {
    "duration": 33,
    "start_time": "2022-05-03T18:37:32.354Z"
   },
   {
    "duration": 20,
    "start_time": "2022-05-03T18:37:32.389Z"
   },
   {
    "duration": 5,
    "start_time": "2022-05-03T18:37:32.411Z"
   },
   {
    "duration": 11,
    "start_time": "2022-05-03T18:37:32.418Z"
   },
   {
    "duration": 6,
    "start_time": "2022-05-03T18:37:32.431Z"
   },
   {
    "duration": 4,
    "start_time": "2022-05-03T18:37:32.440Z"
   },
   {
    "duration": 5,
    "start_time": "2022-05-03T18:44:08.758Z"
   },
   {
    "duration": 10,
    "start_time": "2022-05-03T18:44:29.868Z"
   },
   {
    "duration": 9,
    "start_time": "2022-05-03T18:44:50.204Z"
   },
   {
    "duration": 13,
    "start_time": "2022-05-03T18:45:19.449Z"
   },
   {
    "duration": 10,
    "start_time": "2022-05-03T18:45:23.281Z"
   },
   {
    "duration": 8,
    "start_time": "2022-05-03T18:47:16.069Z"
   },
   {
    "duration": 8,
    "start_time": "2022-05-03T18:48:19.643Z"
   },
   {
    "duration": 123,
    "start_time": "2022-05-03T18:49:07.873Z"
   },
   {
    "duration": 9,
    "start_time": "2022-05-03T18:49:26.081Z"
   },
   {
    "duration": 4,
    "start_time": "2022-05-03T18:50:47.501Z"
   },
   {
    "duration": 9,
    "start_time": "2022-05-03T18:50:50.079Z"
   },
   {
    "duration": 18,
    "start_time": "2022-05-03T18:54:23.228Z"
   },
   {
    "duration": 6,
    "start_time": "2022-05-03T18:58:03.443Z"
   },
   {
    "duration": 4,
    "start_time": "2022-05-03T18:58:43.769Z"
   },
   {
    "duration": 7,
    "start_time": "2022-05-03T18:58:46.275Z"
   },
   {
    "duration": 14,
    "start_time": "2022-05-03T19:00:07.068Z"
   },
   {
    "duration": 6,
    "start_time": "2022-05-03T19:00:19.671Z"
   },
   {
    "duration": 14,
    "start_time": "2022-05-03T19:00:21.143Z"
   },
   {
    "duration": 5,
    "start_time": "2022-05-03T19:01:40.881Z"
   },
   {
    "duration": 830,
    "start_time": "2022-05-03T19:01:41.717Z"
   },
   {
    "duration": 5,
    "start_time": "2022-05-03T19:01:55.608Z"
   },
   {
    "duration": 811,
    "start_time": "2022-05-03T19:01:56.891Z"
   },
   {
    "duration": 6,
    "start_time": "2022-05-03T19:02:38.067Z"
   },
   {
    "duration": 741,
    "start_time": "2022-05-03T19:02:40.000Z"
   },
   {
    "duration": 779,
    "start_time": "2022-05-03T19:16:01.799Z"
   },
   {
    "duration": 4,
    "start_time": "2022-05-03T19:20:34.144Z"
   },
   {
    "duration": 770,
    "start_time": "2022-05-03T19:20:35.232Z"
   },
   {
    "duration": 5,
    "start_time": "2022-05-03T19:26:30.423Z"
   },
   {
    "duration": 902,
    "start_time": "2022-05-03T19:26:31.912Z"
   },
   {
    "duration": 5,
    "start_time": "2022-05-03T19:26:39.038Z"
   },
   {
    "duration": 897,
    "start_time": "2022-05-03T19:26:41.240Z"
   },
   {
    "duration": 822,
    "start_time": "2022-05-03T19:26:47.635Z"
   },
   {
    "duration": 883,
    "start_time": "2022-05-03T19:26:50.391Z"
   },
   {
    "duration": 876,
    "start_time": "2022-05-03T19:26:53.449Z"
   },
   {
    "duration": 928,
    "start_time": "2022-05-03T19:27:20.398Z"
   },
   {
    "duration": 5,
    "start_time": "2022-05-03T19:27:22.206Z"
   },
   {
    "duration": 1038,
    "start_time": "2022-05-03T19:27:24.184Z"
   },
   {
    "duration": 925,
    "start_time": "2022-05-03T19:27:26.873Z"
   },
   {
    "duration": 1058,
    "start_time": "2022-05-03T19:27:32.204Z"
   },
   {
    "duration": 3,
    "start_time": "2022-05-03T19:29:23.474Z"
   },
   {
    "duration": 4,
    "start_time": "2022-05-03T19:29:28.612Z"
   },
   {
    "duration": 984,
    "start_time": "2022-05-03T19:29:29.820Z"
   },
   {
    "duration": 1041,
    "start_time": "2022-05-03T19:29:32.574Z"
   },
   {
    "duration": 957,
    "start_time": "2022-05-03T19:29:35.378Z"
   },
   {
    "duration": 889,
    "start_time": "2022-05-03T19:29:38.146Z"
   },
   {
    "duration": 935,
    "start_time": "2022-05-03T19:29:42.374Z"
   },
   {
    "duration": 1021,
    "start_time": "2022-05-03T19:32:15.909Z"
   },
   {
    "duration": 1082,
    "start_time": "2022-05-03T19:32:20.392Z"
   },
   {
    "duration": 994,
    "start_time": "2022-05-03T19:32:23.007Z"
   },
   {
    "duration": 1014,
    "start_time": "2022-05-03T19:32:26.182Z"
   },
   {
    "duration": 7,
    "start_time": "2022-05-03T19:32:40.550Z"
   },
   {
    "duration": 994,
    "start_time": "2022-05-03T19:32:46.388Z"
   },
   {
    "duration": 11,
    "start_time": "2022-05-03T19:42:26.628Z"
   },
   {
    "duration": 6,
    "start_time": "2022-05-03T19:44:23.049Z"
   },
   {
    "duration": 988,
    "start_time": "2022-05-03T19:44:25.507Z"
   },
   {
    "duration": 986,
    "start_time": "2022-05-03T19:44:28.097Z"
   },
   {
    "duration": 7,
    "start_time": "2022-05-03T19:44:38.186Z"
   },
   {
    "duration": 1026,
    "start_time": "2022-05-03T19:44:42.067Z"
   },
   {
    "duration": 1060,
    "start_time": "2022-05-03T19:44:46.428Z"
   },
   {
    "duration": 1084,
    "start_time": "2022-05-03T19:44:49.693Z"
   },
   {
    "duration": 967,
    "start_time": "2022-05-03T19:44:53.076Z"
   },
   {
    "duration": 1119,
    "start_time": "2022-05-03T19:44:56.120Z"
   },
   {
    "duration": 1061,
    "start_time": "2022-05-03T19:45:10.744Z"
   },
   {
    "duration": 5,
    "start_time": "2022-05-03T19:45:12.918Z"
   },
   {
    "duration": 1104,
    "start_time": "2022-05-03T19:45:14.520Z"
   },
   {
    "duration": 912,
    "start_time": "2022-05-03T19:45:16.812Z"
   },
   {
    "duration": 1024,
    "start_time": "2022-05-03T19:45:19.077Z"
   },
   {
    "duration": 1089,
    "start_time": "2022-05-03T19:45:21.315Z"
   },
   {
    "duration": 969,
    "start_time": "2022-05-03T19:45:28.027Z"
   },
   {
    "duration": 8,
    "start_time": "2022-05-03T19:51:18.842Z"
   },
   {
    "duration": 927,
    "start_time": "2022-05-03T19:51:20.475Z"
   },
   {
    "duration": 1031,
    "start_time": "2022-05-03T19:51:35.994Z"
   },
   {
    "duration": 934,
    "start_time": "2022-05-03T19:51:42.386Z"
   },
   {
    "duration": 1075,
    "start_time": "2022-05-03T19:51:45.042Z"
   },
   {
    "duration": 1018,
    "start_time": "2022-05-03T19:51:55.774Z"
   },
   {
    "duration": 1038,
    "start_time": "2022-05-03T19:51:58.139Z"
   },
   {
    "duration": 1069,
    "start_time": "2022-05-03T19:52:01.166Z"
   },
   {
    "duration": 6,
    "start_time": "2022-05-03T19:52:14.686Z"
   },
   {
    "duration": 911,
    "start_time": "2022-05-03T19:52:15.575Z"
   },
   {
    "duration": 9,
    "start_time": "2022-05-03T19:52:46.945Z"
   },
   {
    "duration": 1042,
    "start_time": "2022-05-03T19:52:47.784Z"
   },
   {
    "duration": 5,
    "start_time": "2022-05-03T19:52:56.739Z"
   },
   {
    "duration": 1033,
    "start_time": "2022-05-03T19:52:57.810Z"
   },
   {
    "duration": 4,
    "start_time": "2022-05-03T19:53:07.341Z"
   },
   {
    "duration": 958,
    "start_time": "2022-05-03T19:53:08.615Z"
   },
   {
    "duration": 8,
    "start_time": "2022-05-03T19:53:19.069Z"
   },
   {
    "duration": 986,
    "start_time": "2022-05-03T19:53:20.576Z"
   },
   {
    "duration": 6,
    "start_time": "2022-05-03T19:53:40.910Z"
   },
   {
    "duration": 1064,
    "start_time": "2022-05-03T19:53:41.566Z"
   },
   {
    "duration": 6,
    "start_time": "2022-05-03T19:53:46.699Z"
   },
   {
    "duration": 1019,
    "start_time": "2022-05-03T19:53:47.514Z"
   },
   {
    "duration": 5,
    "start_time": "2022-05-03T19:53:53.221Z"
   },
   {
    "duration": 942,
    "start_time": "2022-05-03T19:53:53.787Z"
   },
   {
    "duration": 10,
    "start_time": "2022-05-03T19:53:57.749Z"
   },
   {
    "duration": 1058,
    "start_time": "2022-05-03T19:53:58.187Z"
   },
   {
    "duration": 7,
    "start_time": "2022-05-03T19:54:02.996Z"
   },
   {
    "duration": 945,
    "start_time": "2022-05-03T19:54:03.705Z"
   },
   {
    "duration": 8,
    "start_time": "2022-05-03T19:54:18.787Z"
   },
   {
    "duration": 979,
    "start_time": "2022-05-03T19:54:19.315Z"
   },
   {
    "duration": 4,
    "start_time": "2022-05-03T19:54:30.542Z"
   },
   {
    "duration": 1086,
    "start_time": "2022-05-03T19:54:31.463Z"
   },
   {
    "duration": 7,
    "start_time": "2022-05-03T19:56:54.291Z"
   },
   {
    "duration": 1075,
    "start_time": "2022-05-03T19:56:55.728Z"
   },
   {
    "duration": 6,
    "start_time": "2022-05-03T20:03:11.873Z"
   },
   {
    "duration": 857,
    "start_time": "2022-05-03T20:03:12.628Z"
   },
   {
    "duration": 5,
    "start_time": "2022-05-03T20:04:38.641Z"
   },
   {
    "duration": 862,
    "start_time": "2022-05-03T20:04:39.557Z"
   },
   {
    "duration": 5,
    "start_time": "2022-05-03T20:04:49.160Z"
   },
   {
    "duration": 796,
    "start_time": "2022-05-03T20:04:51.164Z"
   },
   {
    "duration": 7,
    "start_time": "2022-05-03T20:10:03.179Z"
   },
   {
    "duration": 1095,
    "start_time": "2022-05-03T20:10:03.533Z"
   },
   {
    "duration": 6,
    "start_time": "2022-05-03T20:10:55.321Z"
   },
   {
    "duration": 840,
    "start_time": "2022-05-03T20:10:56.207Z"
   },
   {
    "duration": 5,
    "start_time": "2022-05-03T20:11:22.684Z"
   },
   {
    "duration": 810,
    "start_time": "2022-05-03T20:11:23.377Z"
   },
   {
    "duration": 11,
    "start_time": "2022-05-03T20:14:16.979Z"
   },
   {
    "duration": 5,
    "start_time": "2022-05-03T20:14:22.012Z"
   },
   {
    "duration": 1060,
    "start_time": "2022-05-03T20:14:22.699Z"
   },
   {
    "duration": 1108,
    "start_time": "2022-05-03T20:14:58.190Z"
   },
   {
    "duration": 5,
    "start_time": "2022-05-03T20:18:18.212Z"
   },
   {
    "duration": 1075,
    "start_time": "2022-05-03T20:18:19.739Z"
   },
   {
    "duration": 5,
    "start_time": "2022-05-03T20:18:49.840Z"
   },
   {
    "duration": 975,
    "start_time": "2022-05-03T20:18:51.039Z"
   },
   {
    "duration": 6,
    "start_time": "2022-05-03T20:19:24.446Z"
   },
   {
    "duration": 1153,
    "start_time": "2022-05-03T20:19:25.290Z"
   },
   {
    "duration": 166,
    "start_time": "2022-05-03T20:19:34.434Z"
   },
   {
    "duration": 146,
    "start_time": "2022-05-03T20:19:42.995Z"
   },
   {
    "duration": 5,
    "start_time": "2022-05-03T20:20:02.328Z"
   },
   {
    "duration": 1001,
    "start_time": "2022-05-03T20:20:44.530Z"
   },
   {
    "duration": 6,
    "start_time": "2022-05-03T20:23:32.747Z"
   },
   {
    "duration": 843,
    "start_time": "2022-05-03T20:23:33.195Z"
   },
   {
    "duration": 5,
    "start_time": "2022-05-03T20:23:39.914Z"
   },
   {
    "duration": 1069,
    "start_time": "2022-05-03T20:23:40.396Z"
   },
   {
    "duration": 4,
    "start_time": "2022-05-03T20:23:47.841Z"
   },
   {
    "duration": 978,
    "start_time": "2022-05-03T20:23:48.471Z"
   },
   {
    "duration": 766,
    "start_time": "2022-05-03T20:25:45.337Z"
   },
   {
    "duration": 737,
    "start_time": "2022-05-03T20:25:47.363Z"
   },
   {
    "duration": 1457,
    "start_time": "2022-05-03T20:48:08.441Z"
   },
   {
    "duration": 429,
    "start_time": "2022-05-03T20:48:09.900Z"
   },
   {
    "duration": 4,
    "start_time": "2022-05-03T20:48:10.331Z"
   },
   {
    "duration": 10,
    "start_time": "2022-05-03T20:48:10.337Z"
   },
   {
    "duration": 560,
    "start_time": "2022-05-03T20:48:10.349Z"
   },
   {
    "duration": 497,
    "start_time": "2022-05-03T20:48:10.911Z"
   },
   {
    "duration": 519,
    "start_time": "2022-05-03T20:48:11.410Z"
   },
   {
    "duration": 10,
    "start_time": "2022-05-03T20:48:11.931Z"
   },
   {
    "duration": 55,
    "start_time": "2022-05-03T20:48:11.949Z"
   },
   {
    "duration": 6,
    "start_time": "2022-05-03T20:48:12.007Z"
   },
   {
    "duration": 135,
    "start_time": "2022-05-03T20:48:12.015Z"
   },
   {
    "duration": 91,
    "start_time": "2022-05-03T20:48:12.158Z"
   },
   {
    "duration": 106,
    "start_time": "2022-05-03T20:48:12.260Z"
   },
   {
    "duration": 10,
    "start_time": "2022-05-03T20:48:12.368Z"
   },
   {
    "duration": 73,
    "start_time": "2022-05-03T20:48:12.380Z"
   },
   {
    "duration": 49,
    "start_time": "2022-05-03T20:48:12.455Z"
   },
   {
    "duration": 12,
    "start_time": "2022-05-03T20:48:12.506Z"
   },
   {
    "duration": 70,
    "start_time": "2022-05-03T20:48:12.519Z"
   },
   {
    "duration": 6,
    "start_time": "2022-05-03T20:48:12.592Z"
   },
   {
    "duration": 929,
    "start_time": "2022-05-03T20:48:12.600Z"
   },
   {
    "duration": 853,
    "start_time": "2022-05-03T20:48:13.532Z"
   },
   {
    "duration": 779,
    "start_time": "2022-05-03T20:48:14.387Z"
   }
  ],
  "kernelspec": {
   "display_name": "Python 3 (ipykernel)",
   "language": "python",
   "name": "python3"
  },
  "language_info": {
   "codemirror_mode": {
    "name": "ipython",
    "version": 3
   },
   "file_extension": ".py",
   "mimetype": "text/x-python",
   "name": "python",
   "nbconvert_exporter": "python",
   "pygments_lexer": "ipython3",
   "version": "3.9.7"
  },
  "toc": {
   "base_numbering": 1,
   "nav_menu": {},
   "number_sections": true,
   "sideBar": true,
   "skip_h1_title": true,
   "title_cell": "Оглавление",
   "title_sidebar": "Оглавление",
   "toc_cell": true,
   "toc_position": {
    "height": "calc(100% - 180px)",
    "left": "10px",
    "top": "150px",
    "width": "494.396px"
   },
   "toc_section_display": true,
   "toc_window_display": true
  }
 },
 "nbformat": 4,
 "nbformat_minor": 2
}
