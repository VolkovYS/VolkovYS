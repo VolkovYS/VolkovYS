{
 "cells": [
  {
   "cell_type": "markdown",
   "metadata": {
    "toc": true
   },
   "source": [
    "<h1>Содержание<span class=\"tocSkip\"></span></h1>\n",
    "<div class=\"toc\"><ul class=\"toc-item\"><li><span><a href=\"#Подготовка-данных\" data-toc-modified-id=\"Подготовка-данных-1\"><span class=\"toc-item-num\">1&nbsp;&nbsp;</span>Подготовка данных</a></span><ul class=\"toc-item\"><li><span><a href=\"#Вывод\" data-toc-modified-id=\"Вывод-1.1\"><span class=\"toc-item-num\">1.1&nbsp;&nbsp;</span>Вывод</a></span></li></ul></li><li><span><a href=\"#Исследование-задачи\" data-toc-modified-id=\"Исследование-задачи-2\"><span class=\"toc-item-num\">2&nbsp;&nbsp;</span>Исследование задачи</a></span><ul class=\"toc-item\"><li><span><a href=\"#Модель:-Дерево-решений\" data-toc-modified-id=\"Модель:-Дерево-решений-2.1\"><span class=\"toc-item-num\">2.1&nbsp;&nbsp;</span>Модель: Дерево решений</a></span></li><li><span><a href=\"#Модель:-Случайный-лес\" data-toc-modified-id=\"Модель:-Случайный-лес-2.2\"><span class=\"toc-item-num\">2.2&nbsp;&nbsp;</span>Модель: Случайный лес</a></span></li><li><span><a href=\"#Модель:-Логистическая-регрессия\" data-toc-modified-id=\"Модель:-Логистическая-регрессия-2.3\"><span class=\"toc-item-num\">2.3&nbsp;&nbsp;</span>Модель: Логистическая регрессия</a></span></li><li><span><a href=\"#Вывод\" data-toc-modified-id=\"Вывод-2.4\"><span class=\"toc-item-num\">2.4&nbsp;&nbsp;</span>Вывод</a></span></li></ul></li><li><span><a href=\"#Борьба-с-дисбалансом\" data-toc-modified-id=\"Борьба-с-дисбалансом-3\"><span class=\"toc-item-num\">3&nbsp;&nbsp;</span>Борьба с дисбалансом</a></span><ul class=\"toc-item\"><li><span><a href=\"#Модель:-Дерево-решений-(увеличение-выборки)\" data-toc-modified-id=\"Модель:-Дерево-решений-(увеличение-выборки)-3.1\"><span class=\"toc-item-num\">3.1&nbsp;&nbsp;</span>Модель: Дерево решений (увеличение выборки)</a></span></li><li><span><a href=\"#Модель:-Случайный-лес-(увеличение-выборки)\" data-toc-modified-id=\"Модель:-Случайный-лес-(увеличение-выборки)-3.2\"><span class=\"toc-item-num\">3.2&nbsp;&nbsp;</span>Модель: Случайный лес (увеличение выборки)</a></span></li><li><span><a href=\"#Модель:-Логистическая-регрессия-(увеличение-выборки)\" data-toc-modified-id=\"Модель:-Логистическая-регрессия-(увеличение-выборки)-3.3\"><span class=\"toc-item-num\">3.3&nbsp;&nbsp;</span>Модель: Логистическая регрессия (увеличение выборки)</a></span></li><li><span><a href=\"#Модель:-Дерево-решений-(взвешивание-классов)\" data-toc-modified-id=\"Модель:-Дерево-решений-(взвешивание-классов)-3.4\"><span class=\"toc-item-num\">3.4&nbsp;&nbsp;</span>Модель: Дерево решений (взвешивание классов)</a></span></li><li><span><a href=\"#Модель:-Случайный-лес-(взвешивание-классов)\" data-toc-modified-id=\"Модель:-Случайный-лес-(взвешивание-классов)-3.5\"><span class=\"toc-item-num\">3.5&nbsp;&nbsp;</span>Модель: Случайный лес (взвешивание классов)</a></span></li><li><span><a href=\"#Модель:-Логистическая-регрессия-(взвешивание-классов)\" data-toc-modified-id=\"Модель:-Логистическая-регрессия-(взвешивание-классов)-3.6\"><span class=\"toc-item-num\">3.6&nbsp;&nbsp;</span>Модель: Логистическая регрессия (взвешивание классов)</a></span></li><li><span><a href=\"#Вывод\" data-toc-modified-id=\"Вывод-3.7\"><span class=\"toc-item-num\">3.7&nbsp;&nbsp;</span>Вывод</a></span></li></ul></li><li><span><a href=\"#Тестирование-модели\" data-toc-modified-id=\"Тестирование-модели-4\"><span class=\"toc-item-num\">4&nbsp;&nbsp;</span>Тестирование модели</a></span><ul class=\"toc-item\"><li><span><a href=\"#Тестирование-модели-на-тестовой-выборке\" data-toc-modified-id=\"Тестирование-модели-на-тестовой-выборке-4.1\"><span class=\"toc-item-num\">4.1&nbsp;&nbsp;</span>Тестирование модели на тестовой выборке</a></span></li><li><span><a href=\"#Метрика-AUC-ROC\" data-toc-modified-id=\"Метрика-AUC-ROC-4.2\"><span class=\"toc-item-num\">4.2&nbsp;&nbsp;</span>Метрика AUC-ROC</a></span></li><li><span><a href=\"#Вывод\" data-toc-modified-id=\"Вывод-4.3\"><span class=\"toc-item-num\">4.3&nbsp;&nbsp;</span>Вывод</a></span></li></ul></li><li><span><a href=\"#Общий-вывод\" data-toc-modified-id=\"Общий-вывод-5\"><span class=\"toc-item-num\">5&nbsp;&nbsp;</span>Общий вывод</a></span></li><li><span><a href=\"#Чек-лист-готовности-проекта\" data-toc-modified-id=\"Чек-лист-готовности-проекта-6\"><span class=\"toc-item-num\">6&nbsp;&nbsp;</span>Чек-лист готовности проекта</a></span></li></ul></div>"
   ]
  },
  {
   "cell_type": "markdown",
   "metadata": {},
   "source": [
    "# Отток клиентов"
   ]
  },
  {
   "cell_type": "markdown",
   "metadata": {},
   "source": [
    "Из «Бета-Банка» стали уходить клиенты. Каждый месяц. Немного, но заметно. Банковские маркетологи посчитали: сохранять текущих клиентов дешевле, чем привлекать новых.\n",
    "\n",
    "Нужно спрогнозировать, уйдёт клиент из банка в ближайшее время или нет. Вам предоставлены исторические данные о поведении клиентов и расторжении договоров с банком. \n",
    "\n",
    "Постройте модель с предельно большим значением *F1*-меры. Чтобы сдать проект успешно, нужно довести метрику до 0.59. Проверьте *F1*-меру на тестовой выборке самостоятельно.\n",
    "\n",
    "Дополнительно измеряйте *AUC-ROC*, сравнивайте её значение с *F1*-мерой.\n",
    "\n",
    "Источник данных: [https://www.kaggle.com/barelydedicated/bank-customer-churn-modeling](https://www.kaggle.com/barelydedicated/bank-customer-churn-modeling)"
   ]
  },
  {
   "cell_type": "markdown",
   "metadata": {},
   "source": [
    "### Описание данных <a class=\"tocSkip\">\n",
    "    "
   ]
  },
  {
   "cell_type": "markdown",
   "metadata": {},
   "source": [
    "<div style=\"border:solid green 5px; padding: 16px; border-radius: 10px\">\n",
    "\n",
    "**<font color=\"green\">Признаки</font>** \n",
    "\n",
    "<br>RowNumber — индекс строки в данных\n",
    "<br>CustomerId — уникальный идентификатор клиента\n",
    "<br>Surname — фамилия\n",
    "<br>CreditScore — кредитный рейтинг\n",
    "<br>Geography — страна проживания\n",
    "<br>Gender — пол\n",
    "<br>Age — возраст\n",
    "<br>Tenure — сколько лет человек является клиентом банка\n",
    "<br>Balance — баланс на счёте\n",
    "<br>NumOfProducts — количество продуктов банка, используемых клиентом\n",
    "<br>HasCrCard — наличие кредитной карты\n",
    "<br>IsActiveMember — активность клиента\n",
    "<br>EstimatedSalary — предполагаемая зарплата\n",
    "    \n",
    "**<font color=\"green\">Целевой признак</font>**     \n",
    "    \n",
    "<br>Exited — факт ухода клиента"
   ]
  },
  {
   "cell_type": "markdown",
   "metadata": {},
   "source": [
    "## Подготовка данных"
   ]
  },
  {
   "cell_type": "code",
   "execution_count": 1,
   "metadata": {},
   "outputs": [],
   "source": [
    "import pandas as pd\n",
    "from sklearn.tree import DecisionTreeClassifier\n",
    "from sklearn.ensemble import RandomForestClassifier\n",
    "from sklearn.linear_model import LogisticRegression\n",
    "from sklearn.model_selection import train_test_split\n",
    "from tqdm import tqdm\n",
    "from sklearn.metrics import f1_score\n",
    "from sklearn.metrics import roc_auc_score\n",
    "from sklearn.preprocessing import StandardScaler \n",
    "from sklearn.utils import shuffle\n",
    "from sklearn.metrics import accuracy_score\n",
    "from sklearn.metrics import recall_score \n",
    "from sklearn.metrics import precision_score \n",
    "from sklearn.metrics import roc_curve \n",
    "import matplotlib.pyplot as plt\n",
    "from sklearn.metrics import confusion_matrix\n",
    "from sklearn.metrics import ConfusionMatrixDisplay\n",
    "pd.set_option('display.max_columns', None) #выведем все столбцы таблицы на экран"
   ]
  },
  {
   "cell_type": "code",
   "execution_count": 2,
   "metadata": {},
   "outputs": [
    {
     "data": {
      "text/html": [
       "<div>\n",
       "<style scoped>\n",
       "    .dataframe tbody tr th:only-of-type {\n",
       "        vertical-align: middle;\n",
       "    }\n",
       "\n",
       "    .dataframe tbody tr th {\n",
       "        vertical-align: top;\n",
       "    }\n",
       "\n",
       "    .dataframe thead th {\n",
       "        text-align: right;\n",
       "    }\n",
       "</style>\n",
       "<table border=\"1\" class=\"dataframe\">\n",
       "  <thead>\n",
       "    <tr style=\"text-align: right;\">\n",
       "      <th></th>\n",
       "      <th>RowNumber</th>\n",
       "      <th>CustomerId</th>\n",
       "      <th>Surname</th>\n",
       "      <th>CreditScore</th>\n",
       "      <th>Geography</th>\n",
       "      <th>Gender</th>\n",
       "      <th>Age</th>\n",
       "      <th>Tenure</th>\n",
       "      <th>Balance</th>\n",
       "      <th>NumOfProducts</th>\n",
       "      <th>HasCrCard</th>\n",
       "      <th>IsActiveMember</th>\n",
       "      <th>EstimatedSalary</th>\n",
       "      <th>Exited</th>\n",
       "    </tr>\n",
       "  </thead>\n",
       "  <tbody>\n",
       "    <tr>\n",
       "      <th>0</th>\n",
       "      <td>1</td>\n",
       "      <td>15634602</td>\n",
       "      <td>Hargrave</td>\n",
       "      <td>619</td>\n",
       "      <td>France</td>\n",
       "      <td>Female</td>\n",
       "      <td>42</td>\n",
       "      <td>2.0</td>\n",
       "      <td>0.00</td>\n",
       "      <td>1</td>\n",
       "      <td>1</td>\n",
       "      <td>1</td>\n",
       "      <td>101348.88</td>\n",
       "      <td>1</td>\n",
       "    </tr>\n",
       "    <tr>\n",
       "      <th>1</th>\n",
       "      <td>2</td>\n",
       "      <td>15647311</td>\n",
       "      <td>Hill</td>\n",
       "      <td>608</td>\n",
       "      <td>Spain</td>\n",
       "      <td>Female</td>\n",
       "      <td>41</td>\n",
       "      <td>1.0</td>\n",
       "      <td>83807.86</td>\n",
       "      <td>1</td>\n",
       "      <td>0</td>\n",
       "      <td>1</td>\n",
       "      <td>112542.58</td>\n",
       "      <td>0</td>\n",
       "    </tr>\n",
       "    <tr>\n",
       "      <th>2</th>\n",
       "      <td>3</td>\n",
       "      <td>15619304</td>\n",
       "      <td>Onio</td>\n",
       "      <td>502</td>\n",
       "      <td>France</td>\n",
       "      <td>Female</td>\n",
       "      <td>42</td>\n",
       "      <td>8.0</td>\n",
       "      <td>159660.80</td>\n",
       "      <td>3</td>\n",
       "      <td>1</td>\n",
       "      <td>0</td>\n",
       "      <td>113931.57</td>\n",
       "      <td>1</td>\n",
       "    </tr>\n",
       "    <tr>\n",
       "      <th>3</th>\n",
       "      <td>4</td>\n",
       "      <td>15701354</td>\n",
       "      <td>Boni</td>\n",
       "      <td>699</td>\n",
       "      <td>France</td>\n",
       "      <td>Female</td>\n",
       "      <td>39</td>\n",
       "      <td>1.0</td>\n",
       "      <td>0.00</td>\n",
       "      <td>2</td>\n",
       "      <td>0</td>\n",
       "      <td>0</td>\n",
       "      <td>93826.63</td>\n",
       "      <td>0</td>\n",
       "    </tr>\n",
       "    <tr>\n",
       "      <th>4</th>\n",
       "      <td>5</td>\n",
       "      <td>15737888</td>\n",
       "      <td>Mitchell</td>\n",
       "      <td>850</td>\n",
       "      <td>Spain</td>\n",
       "      <td>Female</td>\n",
       "      <td>43</td>\n",
       "      <td>2.0</td>\n",
       "      <td>125510.82</td>\n",
       "      <td>1</td>\n",
       "      <td>1</td>\n",
       "      <td>1</td>\n",
       "      <td>79084.10</td>\n",
       "      <td>0</td>\n",
       "    </tr>\n",
       "    <tr>\n",
       "      <th>...</th>\n",
       "      <td>...</td>\n",
       "      <td>...</td>\n",
       "      <td>...</td>\n",
       "      <td>...</td>\n",
       "      <td>...</td>\n",
       "      <td>...</td>\n",
       "      <td>...</td>\n",
       "      <td>...</td>\n",
       "      <td>...</td>\n",
       "      <td>...</td>\n",
       "      <td>...</td>\n",
       "      <td>...</td>\n",
       "      <td>...</td>\n",
       "      <td>...</td>\n",
       "    </tr>\n",
       "    <tr>\n",
       "      <th>9995</th>\n",
       "      <td>9996</td>\n",
       "      <td>15606229</td>\n",
       "      <td>Obijiaku</td>\n",
       "      <td>771</td>\n",
       "      <td>France</td>\n",
       "      <td>Male</td>\n",
       "      <td>39</td>\n",
       "      <td>5.0</td>\n",
       "      <td>0.00</td>\n",
       "      <td>2</td>\n",
       "      <td>1</td>\n",
       "      <td>0</td>\n",
       "      <td>96270.64</td>\n",
       "      <td>0</td>\n",
       "    </tr>\n",
       "    <tr>\n",
       "      <th>9996</th>\n",
       "      <td>9997</td>\n",
       "      <td>15569892</td>\n",
       "      <td>Johnstone</td>\n",
       "      <td>516</td>\n",
       "      <td>France</td>\n",
       "      <td>Male</td>\n",
       "      <td>35</td>\n",
       "      <td>10.0</td>\n",
       "      <td>57369.61</td>\n",
       "      <td>1</td>\n",
       "      <td>1</td>\n",
       "      <td>1</td>\n",
       "      <td>101699.77</td>\n",
       "      <td>0</td>\n",
       "    </tr>\n",
       "    <tr>\n",
       "      <th>9997</th>\n",
       "      <td>9998</td>\n",
       "      <td>15584532</td>\n",
       "      <td>Liu</td>\n",
       "      <td>709</td>\n",
       "      <td>France</td>\n",
       "      <td>Female</td>\n",
       "      <td>36</td>\n",
       "      <td>7.0</td>\n",
       "      <td>0.00</td>\n",
       "      <td>1</td>\n",
       "      <td>0</td>\n",
       "      <td>1</td>\n",
       "      <td>42085.58</td>\n",
       "      <td>1</td>\n",
       "    </tr>\n",
       "    <tr>\n",
       "      <th>9998</th>\n",
       "      <td>9999</td>\n",
       "      <td>15682355</td>\n",
       "      <td>Sabbatini</td>\n",
       "      <td>772</td>\n",
       "      <td>Germany</td>\n",
       "      <td>Male</td>\n",
       "      <td>42</td>\n",
       "      <td>3.0</td>\n",
       "      <td>75075.31</td>\n",
       "      <td>2</td>\n",
       "      <td>1</td>\n",
       "      <td>0</td>\n",
       "      <td>92888.52</td>\n",
       "      <td>1</td>\n",
       "    </tr>\n",
       "    <tr>\n",
       "      <th>9999</th>\n",
       "      <td>10000</td>\n",
       "      <td>15628319</td>\n",
       "      <td>Walker</td>\n",
       "      <td>792</td>\n",
       "      <td>France</td>\n",
       "      <td>Female</td>\n",
       "      <td>28</td>\n",
       "      <td>NaN</td>\n",
       "      <td>130142.79</td>\n",
       "      <td>1</td>\n",
       "      <td>1</td>\n",
       "      <td>0</td>\n",
       "      <td>38190.78</td>\n",
       "      <td>0</td>\n",
       "    </tr>\n",
       "  </tbody>\n",
       "</table>\n",
       "<p>10000 rows × 14 columns</p>\n",
       "</div>"
      ],
      "text/plain": [
       "      RowNumber  CustomerId    Surname  CreditScore Geography  Gender  Age  \\\n",
       "0             1    15634602   Hargrave          619    France  Female   42   \n",
       "1             2    15647311       Hill          608     Spain  Female   41   \n",
       "2             3    15619304       Onio          502    France  Female   42   \n",
       "3             4    15701354       Boni          699    France  Female   39   \n",
       "4             5    15737888   Mitchell          850     Spain  Female   43   \n",
       "...         ...         ...        ...          ...       ...     ...  ...   \n",
       "9995       9996    15606229   Obijiaku          771    France    Male   39   \n",
       "9996       9997    15569892  Johnstone          516    France    Male   35   \n",
       "9997       9998    15584532        Liu          709    France  Female   36   \n",
       "9998       9999    15682355  Sabbatini          772   Germany    Male   42   \n",
       "9999      10000    15628319     Walker          792    France  Female   28   \n",
       "\n",
       "      Tenure    Balance  NumOfProducts  HasCrCard  IsActiveMember  \\\n",
       "0        2.0       0.00              1          1               1   \n",
       "1        1.0   83807.86              1          0               1   \n",
       "2        8.0  159660.80              3          1               0   \n",
       "3        1.0       0.00              2          0               0   \n",
       "4        2.0  125510.82              1          1               1   \n",
       "...      ...        ...            ...        ...             ...   \n",
       "9995     5.0       0.00              2          1               0   \n",
       "9996    10.0   57369.61              1          1               1   \n",
       "9997     7.0       0.00              1          0               1   \n",
       "9998     3.0   75075.31              2          1               0   \n",
       "9999     NaN  130142.79              1          1               0   \n",
       "\n",
       "      EstimatedSalary  Exited  \n",
       "0           101348.88       1  \n",
       "1           112542.58       0  \n",
       "2           113931.57       1  \n",
       "3            93826.63       0  \n",
       "4            79084.10       0  \n",
       "...               ...     ...  \n",
       "9995         96270.64       0  \n",
       "9996        101699.77       0  \n",
       "9997         42085.58       1  \n",
       "9998         92888.52       1  \n",
       "9999         38190.78       0  \n",
       "\n",
       "[10000 rows x 14 columns]"
      ]
     },
     "execution_count": 2,
     "metadata": {},
     "output_type": "execute_result"
    }
   ],
   "source": [
    "data = pd.read_csv(\"/datasets/Churn.csv\") #Выведем таблицу на экран\n",
    "data"
   ]
  },
  {
   "cell_type": "code",
   "execution_count": 3,
   "metadata": {
    "scrolled": true
   },
   "outputs": [
    {
     "name": "stdout",
     "output_type": "stream",
     "text": [
      "<class 'pandas.core.frame.DataFrame'>\n",
      "RangeIndex: 10000 entries, 0 to 9999\n",
      "Data columns (total 14 columns):\n",
      " #   Column           Non-Null Count  Dtype  \n",
      "---  ------           --------------  -----  \n",
      " 0   RowNumber        10000 non-null  int64  \n",
      " 1   CustomerId       10000 non-null  int64  \n",
      " 2   Surname          10000 non-null  object \n",
      " 3   CreditScore      10000 non-null  int64  \n",
      " 4   Geography        10000 non-null  object \n",
      " 5   Gender           10000 non-null  object \n",
      " 6   Age              10000 non-null  int64  \n",
      " 7   Tenure           9091 non-null   float64\n",
      " 8   Balance          10000 non-null  float64\n",
      " 9   NumOfProducts    10000 non-null  int64  \n",
      " 10  HasCrCard        10000 non-null  int64  \n",
      " 11  IsActiveMember   10000 non-null  int64  \n",
      " 12  EstimatedSalary  10000 non-null  float64\n",
      " 13  Exited           10000 non-null  int64  \n",
      "dtypes: float64(3), int64(8), object(3)\n",
      "memory usage: 2.6 MB\n"
     ]
    }
   ],
   "source": [
    "data.info(memory_usage='deep') #Посмотрим общую информацию о таблице"
   ]
  },
  {
   "cell_type": "code",
   "execution_count": 4,
   "metadata": {
    "scrolled": false
   },
   "outputs": [
    {
     "data": {
      "text/plain": [
       "RowNumber          0.0000\n",
       "CustomerId         0.0000\n",
       "Surname            0.0000\n",
       "CreditScore        0.0000\n",
       "Geography          0.0000\n",
       "Gender             0.0000\n",
       "Age                0.0000\n",
       "Tenure             0.0909\n",
       "Balance            0.0000\n",
       "NumOfProducts      0.0000\n",
       "HasCrCard          0.0000\n",
       "IsActiveMember     0.0000\n",
       "EstimatedSalary    0.0000\n",
       "Exited             0.0000\n",
       "dtype: float64"
      ]
     },
     "execution_count": 4,
     "metadata": {},
     "output_type": "execute_result"
    }
   ],
   "source": [
    "data.isna().mean() #Посмотрим количество пропусков"
   ]
  },
  {
   "cell_type": "markdown",
   "metadata": {},
   "source": [
    "<div style=\"border:solid green 5px; padding: 16px; border-radius: 10px\">\n",
    "\n",
    "<br>Колонка Tenure — 9% пропусков. Рассмотрим пропущенные значения."
   ]
  },
  {
   "cell_type": "code",
   "execution_count": 5,
   "metadata": {
    "scrolled": false
   },
   "outputs": [
    {
     "data": {
      "text/html": [
       "<div>\n",
       "<style scoped>\n",
       "    .dataframe tbody tr th:only-of-type {\n",
       "        vertical-align: middle;\n",
       "    }\n",
       "\n",
       "    .dataframe tbody tr th {\n",
       "        vertical-align: top;\n",
       "    }\n",
       "\n",
       "    .dataframe thead th {\n",
       "        text-align: right;\n",
       "    }\n",
       "</style>\n",
       "<table border=\"1\" class=\"dataframe\">\n",
       "  <thead>\n",
       "    <tr style=\"text-align: right;\">\n",
       "      <th></th>\n",
       "      <th>RowNumber</th>\n",
       "      <th>CustomerId</th>\n",
       "      <th>Surname</th>\n",
       "      <th>CreditScore</th>\n",
       "      <th>Geography</th>\n",
       "      <th>Gender</th>\n",
       "      <th>Age</th>\n",
       "      <th>Tenure</th>\n",
       "      <th>Balance</th>\n",
       "      <th>NumOfProducts</th>\n",
       "      <th>HasCrCard</th>\n",
       "      <th>IsActiveMember</th>\n",
       "      <th>EstimatedSalary</th>\n",
       "      <th>Exited</th>\n",
       "    </tr>\n",
       "  </thead>\n",
       "  <tbody>\n",
       "    <tr>\n",
       "      <th>30</th>\n",
       "      <td>31</td>\n",
       "      <td>15589475</td>\n",
       "      <td>Azikiwe</td>\n",
       "      <td>591</td>\n",
       "      <td>Spain</td>\n",
       "      <td>Female</td>\n",
       "      <td>39</td>\n",
       "      <td>NaN</td>\n",
       "      <td>0.00</td>\n",
       "      <td>3</td>\n",
       "      <td>1</td>\n",
       "      <td>0</td>\n",
       "      <td>140469.38</td>\n",
       "      <td>1</td>\n",
       "    </tr>\n",
       "    <tr>\n",
       "      <th>48</th>\n",
       "      <td>49</td>\n",
       "      <td>15766205</td>\n",
       "      <td>Yin</td>\n",
       "      <td>550</td>\n",
       "      <td>Germany</td>\n",
       "      <td>Male</td>\n",
       "      <td>38</td>\n",
       "      <td>NaN</td>\n",
       "      <td>103391.38</td>\n",
       "      <td>1</td>\n",
       "      <td>0</td>\n",
       "      <td>1</td>\n",
       "      <td>90878.13</td>\n",
       "      <td>0</td>\n",
       "    </tr>\n",
       "    <tr>\n",
       "      <th>51</th>\n",
       "      <td>52</td>\n",
       "      <td>15768193</td>\n",
       "      <td>Trevisani</td>\n",
       "      <td>585</td>\n",
       "      <td>Germany</td>\n",
       "      <td>Male</td>\n",
       "      <td>36</td>\n",
       "      <td>NaN</td>\n",
       "      <td>146050.97</td>\n",
       "      <td>2</td>\n",
       "      <td>0</td>\n",
       "      <td>0</td>\n",
       "      <td>86424.57</td>\n",
       "      <td>0</td>\n",
       "    </tr>\n",
       "    <tr>\n",
       "      <th>53</th>\n",
       "      <td>54</td>\n",
       "      <td>15702298</td>\n",
       "      <td>Parkhill</td>\n",
       "      <td>655</td>\n",
       "      <td>Germany</td>\n",
       "      <td>Male</td>\n",
       "      <td>41</td>\n",
       "      <td>NaN</td>\n",
       "      <td>125561.97</td>\n",
       "      <td>1</td>\n",
       "      <td>0</td>\n",
       "      <td>0</td>\n",
       "      <td>164040.94</td>\n",
       "      <td>1</td>\n",
       "    </tr>\n",
       "    <tr>\n",
       "      <th>60</th>\n",
       "      <td>61</td>\n",
       "      <td>15651280</td>\n",
       "      <td>Hunter</td>\n",
       "      <td>742</td>\n",
       "      <td>Germany</td>\n",
       "      <td>Male</td>\n",
       "      <td>35</td>\n",
       "      <td>NaN</td>\n",
       "      <td>136857.00</td>\n",
       "      <td>1</td>\n",
       "      <td>0</td>\n",
       "      <td>0</td>\n",
       "      <td>84509.57</td>\n",
       "      <td>0</td>\n",
       "    </tr>\n",
       "    <tr>\n",
       "      <th>...</th>\n",
       "      <td>...</td>\n",
       "      <td>...</td>\n",
       "      <td>...</td>\n",
       "      <td>...</td>\n",
       "      <td>...</td>\n",
       "      <td>...</td>\n",
       "      <td>...</td>\n",
       "      <td>...</td>\n",
       "      <td>...</td>\n",
       "      <td>...</td>\n",
       "      <td>...</td>\n",
       "      <td>...</td>\n",
       "      <td>...</td>\n",
       "      <td>...</td>\n",
       "    </tr>\n",
       "    <tr>\n",
       "      <th>9944</th>\n",
       "      <td>9945</td>\n",
       "      <td>15703923</td>\n",
       "      <td>Cameron</td>\n",
       "      <td>744</td>\n",
       "      <td>Germany</td>\n",
       "      <td>Male</td>\n",
       "      <td>41</td>\n",
       "      <td>NaN</td>\n",
       "      <td>190409.34</td>\n",
       "      <td>2</td>\n",
       "      <td>1</td>\n",
       "      <td>1</td>\n",
       "      <td>138361.48</td>\n",
       "      <td>0</td>\n",
       "    </tr>\n",
       "    <tr>\n",
       "      <th>9956</th>\n",
       "      <td>9957</td>\n",
       "      <td>15707861</td>\n",
       "      <td>Nucci</td>\n",
       "      <td>520</td>\n",
       "      <td>France</td>\n",
       "      <td>Female</td>\n",
       "      <td>46</td>\n",
       "      <td>NaN</td>\n",
       "      <td>85216.61</td>\n",
       "      <td>1</td>\n",
       "      <td>1</td>\n",
       "      <td>0</td>\n",
       "      <td>117369.52</td>\n",
       "      <td>1</td>\n",
       "    </tr>\n",
       "    <tr>\n",
       "      <th>9964</th>\n",
       "      <td>9965</td>\n",
       "      <td>15642785</td>\n",
       "      <td>Douglas</td>\n",
       "      <td>479</td>\n",
       "      <td>France</td>\n",
       "      <td>Male</td>\n",
       "      <td>34</td>\n",
       "      <td>NaN</td>\n",
       "      <td>117593.48</td>\n",
       "      <td>2</td>\n",
       "      <td>0</td>\n",
       "      <td>0</td>\n",
       "      <td>113308.29</td>\n",
       "      <td>0</td>\n",
       "    </tr>\n",
       "    <tr>\n",
       "      <th>9985</th>\n",
       "      <td>9986</td>\n",
       "      <td>15586914</td>\n",
       "      <td>Nepean</td>\n",
       "      <td>659</td>\n",
       "      <td>France</td>\n",
       "      <td>Male</td>\n",
       "      <td>36</td>\n",
       "      <td>NaN</td>\n",
       "      <td>123841.49</td>\n",
       "      <td>2</td>\n",
       "      <td>1</td>\n",
       "      <td>0</td>\n",
       "      <td>96833.00</td>\n",
       "      <td>0</td>\n",
       "    </tr>\n",
       "    <tr>\n",
       "      <th>9999</th>\n",
       "      <td>10000</td>\n",
       "      <td>15628319</td>\n",
       "      <td>Walker</td>\n",
       "      <td>792</td>\n",
       "      <td>France</td>\n",
       "      <td>Female</td>\n",
       "      <td>28</td>\n",
       "      <td>NaN</td>\n",
       "      <td>130142.79</td>\n",
       "      <td>1</td>\n",
       "      <td>1</td>\n",
       "      <td>0</td>\n",
       "      <td>38190.78</td>\n",
       "      <td>0</td>\n",
       "    </tr>\n",
       "  </tbody>\n",
       "</table>\n",
       "<p>909 rows × 14 columns</p>\n",
       "</div>"
      ],
      "text/plain": [
       "      RowNumber  CustomerId    Surname  CreditScore Geography  Gender  Age  \\\n",
       "30           31    15589475    Azikiwe          591     Spain  Female   39   \n",
       "48           49    15766205        Yin          550   Germany    Male   38   \n",
       "51           52    15768193  Trevisani          585   Germany    Male   36   \n",
       "53           54    15702298   Parkhill          655   Germany    Male   41   \n",
       "60           61    15651280     Hunter          742   Germany    Male   35   \n",
       "...         ...         ...        ...          ...       ...     ...  ...   \n",
       "9944       9945    15703923    Cameron          744   Germany    Male   41   \n",
       "9956       9957    15707861      Nucci          520    France  Female   46   \n",
       "9964       9965    15642785    Douglas          479    France    Male   34   \n",
       "9985       9986    15586914     Nepean          659    France    Male   36   \n",
       "9999      10000    15628319     Walker          792    France  Female   28   \n",
       "\n",
       "      Tenure    Balance  NumOfProducts  HasCrCard  IsActiveMember  \\\n",
       "30       NaN       0.00              3          1               0   \n",
       "48       NaN  103391.38              1          0               1   \n",
       "51       NaN  146050.97              2          0               0   \n",
       "53       NaN  125561.97              1          0               0   \n",
       "60       NaN  136857.00              1          0               0   \n",
       "...      ...        ...            ...        ...             ...   \n",
       "9944     NaN  190409.34              2          1               1   \n",
       "9956     NaN   85216.61              1          1               0   \n",
       "9964     NaN  117593.48              2          0               0   \n",
       "9985     NaN  123841.49              2          1               0   \n",
       "9999     NaN  130142.79              1          1               0   \n",
       "\n",
       "      EstimatedSalary  Exited  \n",
       "30          140469.38       1  \n",
       "48           90878.13       0  \n",
       "51           86424.57       0  \n",
       "53          164040.94       1  \n",
       "60           84509.57       0  \n",
       "...               ...     ...  \n",
       "9944        138361.48       0  \n",
       "9956        117369.52       1  \n",
       "9964        113308.29       0  \n",
       "9985         96833.00       0  \n",
       "9999         38190.78       0  \n",
       "\n",
       "[909 rows x 14 columns]"
      ]
     },
     "execution_count": 5,
     "metadata": {},
     "output_type": "execute_result"
    }
   ],
   "source": [
    "data[data['Tenure'].isna()]"
   ]
  },
  {
   "cell_type": "markdown",
   "metadata": {},
   "source": [
    "<div style=\"border:solid green 5px; padding: 16px; border-radius: 10px\">\n",
    "\n",
    "<br>Клиенты банка с пропущенными значения в колонке Tenure (сколько лет является клиентом банка) - имеют разный доход, разным количеством услуг пользуются, у них разное количество кредитных карт и разный баланс. Более того, некоторые из них уже покинули банк. Замена пропусков на медианные значения или на 0 могуть исказить разульты модели, поэтому удалим эти строки."
   ]
  },
  {
   "cell_type": "code",
   "execution_count": 6,
   "metadata": {},
   "outputs": [],
   "source": [
    "data=data.dropna(subset=['Tenure']).reset_index(drop=True) #Удалим пропуски"
   ]
  },
  {
   "cell_type": "code",
   "execution_count": 7,
   "metadata": {},
   "outputs": [
    {
     "data": {
      "text/plain": [
       "0"
      ]
     },
     "execution_count": 7,
     "metadata": {},
     "output_type": "execute_result"
    }
   ],
   "source": [
    "data.duplicated().sum() #Посмотрим количество дубликатов"
   ]
  },
  {
   "cell_type": "code",
   "execution_count": 8,
   "metadata": {
    "scrolled": true
   },
   "outputs": [
    {
     "data": {
      "text/html": [
       "<div>\n",
       "<style scoped>\n",
       "    .dataframe tbody tr th:only-of-type {\n",
       "        vertical-align: middle;\n",
       "    }\n",
       "\n",
       "    .dataframe tbody tr th {\n",
       "        vertical-align: top;\n",
       "    }\n",
       "\n",
       "    .dataframe thead th {\n",
       "        text-align: right;\n",
       "    }\n",
       "</style>\n",
       "<table border=\"1\" class=\"dataframe\">\n",
       "  <thead>\n",
       "    <tr style=\"text-align: right;\">\n",
       "      <th></th>\n",
       "      <th>CreditScore</th>\n",
       "      <th>Geography</th>\n",
       "      <th>Gender</th>\n",
       "      <th>Age</th>\n",
       "      <th>Tenure</th>\n",
       "      <th>Balance</th>\n",
       "      <th>NumOfProducts</th>\n",
       "      <th>HasCrCard</th>\n",
       "      <th>IsActiveMember</th>\n",
       "      <th>EstimatedSalary</th>\n",
       "      <th>Exited</th>\n",
       "    </tr>\n",
       "  </thead>\n",
       "  <tbody>\n",
       "    <tr>\n",
       "      <th>0</th>\n",
       "      <td>619</td>\n",
       "      <td>France</td>\n",
       "      <td>Female</td>\n",
       "      <td>42</td>\n",
       "      <td>2.0</td>\n",
       "      <td>0.00</td>\n",
       "      <td>1</td>\n",
       "      <td>1</td>\n",
       "      <td>1</td>\n",
       "      <td>101348.88</td>\n",
       "      <td>1</td>\n",
       "    </tr>\n",
       "    <tr>\n",
       "      <th>1</th>\n",
       "      <td>608</td>\n",
       "      <td>Spain</td>\n",
       "      <td>Female</td>\n",
       "      <td>41</td>\n",
       "      <td>1.0</td>\n",
       "      <td>83807.86</td>\n",
       "      <td>1</td>\n",
       "      <td>0</td>\n",
       "      <td>1</td>\n",
       "      <td>112542.58</td>\n",
       "      <td>0</td>\n",
       "    </tr>\n",
       "    <tr>\n",
       "      <th>2</th>\n",
       "      <td>502</td>\n",
       "      <td>France</td>\n",
       "      <td>Female</td>\n",
       "      <td>42</td>\n",
       "      <td>8.0</td>\n",
       "      <td>159660.80</td>\n",
       "      <td>3</td>\n",
       "      <td>1</td>\n",
       "      <td>0</td>\n",
       "      <td>113931.57</td>\n",
       "      <td>1</td>\n",
       "    </tr>\n",
       "    <tr>\n",
       "      <th>3</th>\n",
       "      <td>699</td>\n",
       "      <td>France</td>\n",
       "      <td>Female</td>\n",
       "      <td>39</td>\n",
       "      <td>1.0</td>\n",
       "      <td>0.00</td>\n",
       "      <td>2</td>\n",
       "      <td>0</td>\n",
       "      <td>0</td>\n",
       "      <td>93826.63</td>\n",
       "      <td>0</td>\n",
       "    </tr>\n",
       "    <tr>\n",
       "      <th>4</th>\n",
       "      <td>850</td>\n",
       "      <td>Spain</td>\n",
       "      <td>Female</td>\n",
       "      <td>43</td>\n",
       "      <td>2.0</td>\n",
       "      <td>125510.82</td>\n",
       "      <td>1</td>\n",
       "      <td>1</td>\n",
       "      <td>1</td>\n",
       "      <td>79084.10</td>\n",
       "      <td>0</td>\n",
       "    </tr>\n",
       "    <tr>\n",
       "      <th>...</th>\n",
       "      <td>...</td>\n",
       "      <td>...</td>\n",
       "      <td>...</td>\n",
       "      <td>...</td>\n",
       "      <td>...</td>\n",
       "      <td>...</td>\n",
       "      <td>...</td>\n",
       "      <td>...</td>\n",
       "      <td>...</td>\n",
       "      <td>...</td>\n",
       "      <td>...</td>\n",
       "    </tr>\n",
       "    <tr>\n",
       "      <th>9086</th>\n",
       "      <td>800</td>\n",
       "      <td>France</td>\n",
       "      <td>Female</td>\n",
       "      <td>29</td>\n",
       "      <td>2.0</td>\n",
       "      <td>0.00</td>\n",
       "      <td>2</td>\n",
       "      <td>0</td>\n",
       "      <td>0</td>\n",
       "      <td>167773.55</td>\n",
       "      <td>0</td>\n",
       "    </tr>\n",
       "    <tr>\n",
       "      <th>9087</th>\n",
       "      <td>771</td>\n",
       "      <td>France</td>\n",
       "      <td>Male</td>\n",
       "      <td>39</td>\n",
       "      <td>5.0</td>\n",
       "      <td>0.00</td>\n",
       "      <td>2</td>\n",
       "      <td>1</td>\n",
       "      <td>0</td>\n",
       "      <td>96270.64</td>\n",
       "      <td>0</td>\n",
       "    </tr>\n",
       "    <tr>\n",
       "      <th>9088</th>\n",
       "      <td>516</td>\n",
       "      <td>France</td>\n",
       "      <td>Male</td>\n",
       "      <td>35</td>\n",
       "      <td>10.0</td>\n",
       "      <td>57369.61</td>\n",
       "      <td>1</td>\n",
       "      <td>1</td>\n",
       "      <td>1</td>\n",
       "      <td>101699.77</td>\n",
       "      <td>0</td>\n",
       "    </tr>\n",
       "    <tr>\n",
       "      <th>9089</th>\n",
       "      <td>709</td>\n",
       "      <td>France</td>\n",
       "      <td>Female</td>\n",
       "      <td>36</td>\n",
       "      <td>7.0</td>\n",
       "      <td>0.00</td>\n",
       "      <td>1</td>\n",
       "      <td>0</td>\n",
       "      <td>1</td>\n",
       "      <td>42085.58</td>\n",
       "      <td>1</td>\n",
       "    </tr>\n",
       "    <tr>\n",
       "      <th>9090</th>\n",
       "      <td>772</td>\n",
       "      <td>Germany</td>\n",
       "      <td>Male</td>\n",
       "      <td>42</td>\n",
       "      <td>3.0</td>\n",
       "      <td>75075.31</td>\n",
       "      <td>2</td>\n",
       "      <td>1</td>\n",
       "      <td>0</td>\n",
       "      <td>92888.52</td>\n",
       "      <td>1</td>\n",
       "    </tr>\n",
       "  </tbody>\n",
       "</table>\n",
       "<p>9091 rows × 11 columns</p>\n",
       "</div>"
      ],
      "text/plain": [
       "      CreditScore Geography  Gender  Age  Tenure    Balance  NumOfProducts  \\\n",
       "0             619    France  Female   42     2.0       0.00              1   \n",
       "1             608     Spain  Female   41     1.0   83807.86              1   \n",
       "2             502    France  Female   42     8.0  159660.80              3   \n",
       "3             699    France  Female   39     1.0       0.00              2   \n",
       "4             850     Spain  Female   43     2.0  125510.82              1   \n",
       "...           ...       ...     ...  ...     ...        ...            ...   \n",
       "9086          800    France  Female   29     2.0       0.00              2   \n",
       "9087          771    France    Male   39     5.0       0.00              2   \n",
       "9088          516    France    Male   35    10.0   57369.61              1   \n",
       "9089          709    France  Female   36     7.0       0.00              1   \n",
       "9090          772   Germany    Male   42     3.0   75075.31              2   \n",
       "\n",
       "      HasCrCard  IsActiveMember  EstimatedSalary  Exited  \n",
       "0             1               1        101348.88       1  \n",
       "1             0               1        112542.58       0  \n",
       "2             1               0        113931.57       1  \n",
       "3             0               0         93826.63       0  \n",
       "4             1               1         79084.10       0  \n",
       "...         ...             ...              ...     ...  \n",
       "9086          0               0        167773.55       0  \n",
       "9087          1               0         96270.64       0  \n",
       "9088          1               1        101699.77       0  \n",
       "9089          0               1         42085.58       1  \n",
       "9090          1               0         92888.52       1  \n",
       "\n",
       "[9091 rows x 11 columns]"
      ]
     },
     "execution_count": 8,
     "metadata": {},
     "output_type": "execute_result"
    }
   ],
   "source": [
    "#Уберем не нужные в исследовании данные\n",
    "data = data.drop([\"RowNumber\",\"CustomerId\",\"Surname\"], axis = 1)\n",
    "data"
   ]
  },
  {
   "cell_type": "markdown",
   "metadata": {},
   "source": [
    "### Вывод\n"
   ]
  },
  {
   "cell_type": "markdown",
   "metadata": {},
   "source": [
    "Удалили 9% строк с пропущенными значениями. В остальном замечаний к данным нет. "
   ]
  },
  {
   "cell_type": "markdown",
   "metadata": {},
   "source": [
    "## Исследование задачи"
   ]
  },
  {
   "cell_type": "code",
   "execution_count": 9,
   "metadata": {},
   "outputs": [
    {
     "data": {
      "text/plain": [
       "0    7237\n",
       "1    1854\n",
       "Name: Exited, dtype: int64"
      ]
     },
     "execution_count": 9,
     "metadata": {},
     "output_type": "execute_result"
    }
   ],
   "source": [
    "data['Exited'].value_counts()"
   ]
  },
  {
   "cell_type": "code",
   "execution_count": 10,
   "metadata": {},
   "outputs": [
    {
     "data": {
      "image/png": "[encoded data removed]",
      "text/plain": [
       "<Figure size 720x432 with 1 Axes>"
      ]
     },
     "metadata": {
      "needs_background": "light"
     },
     "output_type": "display_data"
    }
   ],
   "source": [
    "# Нарисуем гистограмму значений оттока и оставшихся клиентов\n",
    "data['Exited'].value_counts().plot(kind='bar',grid=True,figsize=(10,6),title='Гистограмма количества клиентов');"
   ]
  },
  {
   "cell_type": "markdown",
   "metadata": {},
   "source": [
    "<div style=\"border:solid green 5px; padding: 16px; border-radius: 10px\">\n",
    "\n",
    "<br>Наблюдается явный дисбаланс. Количество ушедших клиетов в 3,9 раза меньше тех кто остался в банке."
   ]
  },
  {
   "cell_type": "code",
   "execution_count": 11,
   "metadata": {},
   "outputs": [],
   "source": [
    "#При помощи One-Hot Encoding преобразуем данные из категоральных в численные\n",
    "data_ohe = pd.get_dummies(data, drop_first=True)"
   ]
  },
  {
   "cell_type": "code",
   "execution_count": 12,
   "metadata": {},
   "outputs": [],
   "source": [
    "# Разбиваю датасет на 3 выборки:обучающую, валидационную, тестовую\n",
    "df_train, df_valid_test=train_test_split(data_ohe,test_size=0.4,random_state=1234)\n",
    "df_valid,df_test=train_test_split(df_valid_test,test_size=0.5,random_state=1234)"
   ]
  },
  {
   "cell_type": "code",
   "execution_count": 13,
   "metadata": {},
   "outputs": [
    {
     "name": "stdout",
     "output_type": "stream",
     "text": [
      "Количество элементов в обучающей выборке: (5454, 12)\n",
      "Количество элементов в валидационной выборке: (1818, 12)\n",
      "Количество элементов в тестовой выборке: (1819, 12)\n"
     ]
    }
   ],
   "source": [
    "print('Количество элементов в обучающей выборке:',df_train.shape)\n",
    "print('Количество элементов в валидационной выборке:',df_valid.shape)\n",
    "print('Количество элементов в тестовой выборке:',df_test.shape)"
   ]
  },
  {
   "cell_type": "code",
   "execution_count": 14,
   "metadata": {},
   "outputs": [],
   "source": [
    "#В обучающей выборке извлечем целевой признак в переменную target_train, а остальные — в features_train\n",
    "target_train=df_train['Exited'] #Целевой признкак\n",
    "features_train=df_train.drop('Exited', axis=1) # признаки"
   ]
  },
  {
   "cell_type": "code",
   "execution_count": 15,
   "metadata": {},
   "outputs": [],
   "source": [
    "#В валидационной выборке извлечем целевой признак в переменную target_valid, а остальные — в features_valid\n",
    "features_valid=df_valid.drop(['Exited'],axis=1) # Признаки \n",
    "target_valid=df_valid['Exited'] # целевой признак"
   ]
  },
  {
   "cell_type": "code",
   "execution_count": 16,
   "metadata": {},
   "outputs": [],
   "source": [
    "#В тестовой выборке извлечем целевой признак в переменную target_test, а остальные — в features_test\n",
    "features_test=df_valid.drop(['Exited'],axis=1) # Признаки \n",
    "target_test=df_valid['Exited'] # целевой признак"
   ]
  },
  {
   "cell_type": "code",
   "execution_count": 17,
   "metadata": {},
   "outputs": [],
   "source": [
    "# Стандартизируем данные\n",
    "numeric = ['CreditScore', 'Age', 'Tenure', 'Balance', 'NumOfProducts', 'HasCrCard','IsActiveMember', 'EstimatedSalary']\n",
    "scaler = StandardScaler()\n",
    "scaler.fit(features_train[numeric])\n",
    "features_train[numeric] = scaler.transform(features_train[numeric])\n",
    "features_valid[numeric] = scaler.transform(features_valid[numeric])\n",
    "features_test[numeric] = scaler.transform(features_test[numeric])"
   ]
  },
  {
   "cell_type": "markdown",
   "metadata": {},
   "source": [
    "### Модель: Дерево решений"
   ]
  },
  {
   "cell_type": "code",
   "execution_count": 18,
   "metadata": {},
   "outputs": [
    {
     "name": "stdout",
     "output_type": "stream",
     "text": [
      "Максимальная глубина: 1 F1: 0.0\n",
      "Максимальная глубина: 2 F1: 0.5416666666666667\n",
      "Максимальная глубина: 3 F1: 0.4285714285714286\n",
      "Максимальная глубина: 4 F1: 0.5060658578856153\n",
      "Максимальная глубина: 5 F1: 0.5264900662251656\n",
      "Максимальная глубина: 6 F1: 0.5268456375838926\n",
      "Максимальная глубина: 7 F1: 0.56793893129771\n",
      "Максимальная глубина: 8 F1: 0.5596330275229356\n",
      "Максимальная глубина: 9 F1: 0.5475841874084919\n",
      "Максимальная глубина: 10 F1: 0.5284178187403994\n",
      "Максимальная глубина: 11 F1: 0.5392296718972895\n",
      "Максимальная глубина: 12 F1: 0.5235457063711911\n",
      "Максимальная глубина: 13 F1: 0.5060240963855421\n",
      "Максимальная глубина: 14 F1: 0.5141318977119785\n",
      "Максимальная глубина: 15 F1: 0.5104166666666666\n",
      "Максимальная глубина: 16 F1: 0.4973821989528796\n",
      "Максимальная глубина: 17 F1: 0.49870801033591733\n",
      "Максимальная глубина: 18 F1: 0.5268542199488491\n",
      "Максимальная глубина: 19 F1: 0.5057471264367817\n"
     ]
    }
   ],
   "source": [
    "for depth in range(1,20,1):\n",
    "    model_tree=DecisionTreeClassifier(random_state=12345, max_depth=depth) # инициализируем модель DecisionTreeRegressor \n",
    "    #с параметром random_state=12345 и max_depth=depth\n",
    "    model_tree.fit(features_train,target_train) # обучаем модель на тренировочной выборке\n",
    "    prediction_tree=model_tree.predict(features_valid) # получаем предсказания модели на валидационной выборке\n",
    "    print('Максимальная глубина:',depth,'F1:',f1_score(target_valid,prediction_tree))"
   ]
  },
  {
   "cell_type": "markdown",
   "metadata": {},
   "source": [
    "<div style=\"border:solid green 5px; padding: 16px; border-radius: 10px\">\n",
    "    \n",
    "**<font color=\"green\">Дерево решений</font>** \n",
    "<br>Лучшее значение при Максимальной глубине (max_depth) = 7, F1 = 0.5679\n",
    "    "
   ]
  },
  {
   "cell_type": "markdown",
   "metadata": {},
   "source": [
    "### Модель: Случайный лес"
   ]
  },
  {
   "cell_type": "code",
   "execution_count": 19,
   "metadata": {},
   "outputs": [
    {
     "name": "stderr",
     "output_type": "stream",
     "text": [
      "100%|██████████| 25/25 [00:52<00:00,  2.08s/it]"
     ]
    },
    {
     "name": "stdout",
     "output_type": "stream",
     "text": [
      "F1: 0.5899513776337115 Количество деревьев: 47 Максимальная глубина: 10\n"
     ]
    },
    {
     "name": "stderr",
     "output_type": "stream",
     "text": [
      "\n"
     ]
    }
   ],
   "source": [
    "best_model = None\n",
    "best_result = 0\n",
    "best_est = 0\n",
    "best_depth = 0\n",
    "for est in tqdm(range (1, 50, 2)):\n",
    "    for depth in range (1, 11):\n",
    "        model_forest = RandomForestClassifier(random_state=12345, n_estimators=est, max_depth=depth)\n",
    "        # инициализируем модель RandomForestClassifier с параметрами random_state=12345, n_estimators=est и max_depth=depth\n",
    "        model_forest.fit(features_train, target_train) # обучим модель на тренировочной выборке\n",
    "        predictions_forest = model_forest.predict(features_valid) # получим предсказания модели на валидационной выборке\n",
    "        result = f1_score(target_valid,predictions_forest)\n",
    "        if result > best_result:\n",
    "            best_model = model_forest\n",
    "            best_result = result\n",
    "            best_est = est\n",
    "            best_depth = depth\n",
    "\n",
    "print(\"F1:\", best_result, \"Количество деревьев:\", best_est, \"Максимальная глубина:\", depth)"
   ]
  },
  {
   "cell_type": "markdown",
   "metadata": {},
   "source": [
    "<div style=\"border:solid green 5px; padding: 16px; border-radius: 10px\">\n",
    "    \n",
    "**<font color=\"green\">Случайный лес</font>** \n",
    "<br>Лучшее значение при Максимальной глубине (max_depth) = 10, Количество деревьев = 47, F1 = 0.5899"
   ]
  },
  {
   "cell_type": "markdown",
   "metadata": {},
   "source": [
    "### Модель: Логистическая регрессия"
   ]
  },
  {
   "cell_type": "code",
   "execution_count": 20,
   "metadata": {},
   "outputs": [
    {
     "name": "stdout",
     "output_type": "stream",
     "text": [
      "F1: 0.2977941176470588\n"
     ]
    }
   ],
   "source": [
    "model_logistic_Reg=LogisticRegression() # инициализируем модель LogisticRegression\n",
    "model_logistic_Reg.fit(features_train,target_train) # обучим модель на тренировочной выборке\n",
    "predict_LogisticReg=model_logistic_Reg.predict(features_valid) # получим предсказания модели на валидационной выборке\n",
    "print('F1:',f1_score(target_valid, predict_LogisticReg))"
   ]
  },
  {
   "cell_type": "markdown",
   "metadata": {},
   "source": [
    "### Вывод"
   ]
  },
  {
   "cell_type": "markdown",
   "metadata": {},
   "source": [
    "На несбалансированных данных лучшая модель:\n",
    "Случайный лес при Максимальной глубине (max_depth) = 10, Количество деревьев = 47, F1 = 0.5899"
   ]
  },
  {
   "cell_type": "markdown",
   "metadata": {},
   "source": [
    "## Борьба с дисбалансом"
   ]
  },
  {
   "cell_type": "markdown",
   "metadata": {},
   "source": [
    "<div style=\"border:solid green 5px; padding: 16px; border-radius: 10px\">\n",
    "<br>Поскольку у нас не так много данных, вопспользуемся методом увеличения выборки upsampling"
   ]
  },
  {
   "cell_type": "code",
   "execution_count": 21,
   "metadata": {},
   "outputs": [
    {
     "data": {
      "text/plain": [
       "(1125, 4329, 3.848)"
      ]
     },
     "execution_count": 21,
     "metadata": {},
     "output_type": "execute_result"
    }
   ],
   "source": [
    "# Узнаем количество отрикательных и положительных объектов тренировочной выборки\n",
    "ones = (df_train['Exited'][df_train['Exited']==1].count())\n",
    "zeros = (df_train['Exited'][df_train['Exited']==0].count())\n",
    "t = zeros / ones\n",
    "ones, zeros, t"
   ]
  },
  {
   "cell_type": "code",
   "execution_count": 22,
   "metadata": {},
   "outputs": [],
   "source": [
    "# Напишем функцию для увеличения выборки upsample\n",
    "def upsample(features, target, repeat):\n",
    "    features_zeros = features[target == 0]\n",
    "    features_ones = features[target == 1]\n",
    "    target_zeros = target[target == 0]\n",
    "    target_ones = target[target == 1]\n",
    "\n",
    "    features_upsampled = pd.concat([features_zeros] + [features_ones] * repeat)\n",
    "    target_upsampled = pd.concat([target_zeros] + [target_ones] * repeat)\n",
    "    \n",
    "    features_upsampled, target_upsampled = shuffle(\n",
    "        features_upsampled, target_upsampled, random_state=12345)\n",
    "    \n",
    "    return features_upsampled, target_upsampled\n",
    "\n"
   ]
  },
  {
   "cell_type": "code",
   "execution_count": 23,
   "metadata": {},
   "outputs": [],
   "source": [
    "features_upsampled, target_upsampled = upsample(features_train, target_train, 4)"
   ]
  },
  {
   "cell_type": "markdown",
   "metadata": {},
   "source": [
    "### Модель: Дерево решений (увеличение выборки)"
   ]
  },
  {
   "cell_type": "code",
   "execution_count": 24,
   "metadata": {},
   "outputs": [
    {
     "name": "stdout",
     "output_type": "stream",
     "text": [
      "Максимальная глубина: 1 F1: 0.47320525783619816\n",
      "Максимальная глубина: 2 F1: 0.5103042198233563\n",
      "Максимальная глубина: 3 F1: 0.5312820512820513\n",
      "Максимальная глубина: 4 F1: 0.5427509293680298\n",
      "Максимальная глубина: 5 F1: 0.5787965616045846\n",
      "Максимальная глубина: 6 F1: 0.5788018433179724\n",
      "Максимальная глубина: 7 F1: 0.5722326454033771\n",
      "Максимальная глубина: 8 F1: 0.5461613216715258\n",
      "Максимальная глубина: 9 F1: 0.5470941883767535\n",
      "Максимальная глубина: 10 F1: 0.5383867832847424\n",
      "Максимальная глубина: 11 F1: 0.5381355932203391\n",
      "Максимальная глубина: 12 F1: 0.5490628445424476\n",
      "Максимальная глубина: 13 F1: 0.53496115427303\n",
      "Максимальная глубина: 14 F1: 0.5377574370709381\n",
      "Максимальная глубина: 15 F1: 0.5173210161662817\n",
      "Максимальная глубина: 16 F1: 0.5233644859813084\n",
      "Максимальная глубина: 17 F1: 0.524390243902439\n",
      "Максимальная глубина: 18 F1: 0.5211970074812967\n",
      "Максимальная глубина: 19 F1: 0.5243445692883895\n"
     ]
    }
   ],
   "source": [
    "for depth in range(1,20,1):\n",
    "    model_tree_b=DecisionTreeClassifier(random_state=12345, max_depth=depth) # инициализируем модель DecisionTreeRegressor \n",
    "    #с параметром random_state=12345 и max_depth=depth\n",
    "    model_tree_b.fit(features_upsampled,target_upsampled) # обучаем модель на тренировочной выборке\n",
    "    prediction_tree_b=model_tree_b.predict(features_valid) # получаем предсказания модели на валидационной выборке\n",
    "    print('Максимальная глубина:',depth,'F1:',f1_score(target_valid,prediction_tree_b))"
   ]
  },
  {
   "cell_type": "markdown",
   "metadata": {},
   "source": [
    "<div style=\"border:solid green 5px; padding: 16px; border-radius: 10px\">\n",
    "    \n",
    "**<font color=\"green\">Дерево решений</font>** \n",
    "<br>Лучшее значение при Максимальной глубине (max_depth) = 6, F1 = 0.5788\n",
    "  "
   ]
  },
  {
   "cell_type": "markdown",
   "metadata": {},
   "source": [
    "### Модель: Случайный лес (увеличение выборки)"
   ]
  },
  {
   "cell_type": "code",
   "execution_count": 25,
   "metadata": {
    "scrolled": true
   },
   "outputs": [
    {
     "name": "stderr",
     "output_type": "stream",
     "text": [
      "100%|██████████| 25/25 [01:02<00:00,  2.50s/it]"
     ]
    },
    {
     "name": "stdout",
     "output_type": "stream",
     "text": [
      "F1: 0.6225769669327252 Количество деревьев: 13 Максимальная глубина: 10\n"
     ]
    },
    {
     "name": "stderr",
     "output_type": "stream",
     "text": [
      "\n"
     ]
    }
   ],
   "source": [
    "best_model = None\n",
    "best_result = 0\n",
    "best_est = 0\n",
    "best_depth = 0\n",
    "for est in tqdm(range (1, 50, 2)):\n",
    "    for depth in range (1, 11):\n",
    "        model_forest_b = RandomForestClassifier(random_state=12345, n_estimators=est, max_depth=depth)\n",
    "        # инициализируем модель RandomForestClassifier с параметрами random_state=12345, n_estimators=est и max_depth=depth\n",
    "        model_forest_b.fit(features_upsampled,target_upsampled) # обучим модель на тренировочной выборке\n",
    "        predictions_forest_b = model_forest_b.predict(features_valid) # получим предсказания модели на валидационной выборке\n",
    "        result = f1_score(target_valid,predictions_forest_b)\n",
    "        if result > best_result:\n",
    "            best_model = model_forest\n",
    "            best_result = result\n",
    "            best_est = est\n",
    "            best_depth = depth\n",
    "\n",
    "print(\"F1:\", best_result, \"Количество деревьев:\", best_est, \"Максимальная глубина:\", depth)"
   ]
  },
  {
   "cell_type": "markdown",
   "metadata": {},
   "source": [
    "<div style=\"border:solid green 5px; padding: 16px; border-radius: 10px\">\n",
    "    \n",
    "**<font color=\"green\">Случайный лес</font>** \n",
    "<br>Лучшее значение при Максимальной глубине (max_depth) = 10, Количество деревьев = 13, F1 = 0.6225"
   ]
  },
  {
   "cell_type": "markdown",
   "metadata": {},
   "source": [
    "### Модель: Логистическая регрессия (увеличение выборки)"
   ]
  },
  {
   "cell_type": "code",
   "execution_count": 26,
   "metadata": {},
   "outputs": [
    {
     "name": "stdout",
     "output_type": "stream",
     "text": [
      "F1: 0.5\n"
     ]
    }
   ],
   "source": [
    "model_logistic_Reg_b=LogisticRegression() # инициализируем модель LogisticRegression\n",
    "model_logistic_Reg_b.fit(features_upsampled,target_upsampled) # обучим модель на тренировочной выборке\n",
    "predict_LogisticReg_b=model_logistic_Reg_b.predict(features_valid) # получим предсказания модели на валидационной выборке\n",
    "print('F1:',f1_score(target_valid, predict_LogisticReg_b))"
   ]
  },
  {
   "cell_type": "markdown",
   "metadata": {},
   "source": [
    "<div style=\"border:solid green 5px; padding: 16px; border-radius: 10px\">\n",
    "<br>Попробуем вопспользоваться методом взвешивания классов (class_weight='balanced') "
   ]
  },
  {
   "cell_type": "markdown",
   "metadata": {},
   "source": [
    "### Модель: Дерево решений (взвешивание классов)"
   ]
  },
  {
   "cell_type": "code",
   "execution_count": 27,
   "metadata": {},
   "outputs": [
    {
     "name": "stdout",
     "output_type": "stream",
     "text": [
      "Максимальная глубина: 1 F1: 0.47320525783619816\n",
      "Максимальная глубина: 2 F1: 0.5103042198233563\n",
      "Максимальная глубина: 3 F1: 0.5312820512820513\n",
      "Максимальная глубина: 4 F1: 0.5427509293680298\n",
      "Максимальная глубина: 5 F1: 0.5760456273764258\n",
      "Максимальная глубина: 6 F1: 0.5790934320074005\n",
      "Максимальная глубина: 7 F1: 0.575187969924812\n",
      "Максимальная глубина: 8 F1: 0.563350785340314\n",
      "Максимальная глубина: 9 F1: 0.5497435897435897\n",
      "Максимальная глубина: 10 F1: 0.5389930898321816\n",
      "Максимальная глубина: 11 F1: 0.5315126050420169\n",
      "Максимальная глубина: 12 F1: 0.5368536853685368\n",
      "Максимальная глубина: 13 F1: 0.5426356589147286\n",
      "Максимальная глубина: 14 F1: 0.5331807780320367\n",
      "Максимальная глубина: 15 F1: 0.5240893066980024\n",
      "Максимальная глубина: 16 F1: 0.5377358490566037\n",
      "Максимальная глубина: 17 F1: 0.5391095066185319\n",
      "Максимальная глубина: 18 F1: 0.527363184079602\n",
      "Максимальная глубина: 19 F1: 0.5202453987730061\n"
     ]
    }
   ],
   "source": [
    "for depth in range(1,20,1):\n",
    "    model_tree=DecisionTreeClassifier(random_state=12345, max_depth=depth, class_weight='balanced') # инициализируем модель DecisionTreeRegressor \n",
    "    #с параметром random_state=12345 и max_depth=depth\n",
    "    model_tree.fit(features_train,target_train) # обучаем модель на тренировочной выборке\n",
    "    prediction_tree=model_tree.predict(features_valid) # получаем предсказания модели на валидационной выборке\n",
    "    print('Максимальная глубина:',depth,'F1:',f1_score(target_valid,prediction_tree))"
   ]
  },
  {
   "cell_type": "markdown",
   "metadata": {},
   "source": [
    "<div style=\"border:solid green 5px; padding: 16px; border-radius: 10px\">\n",
    "    \n",
    "**<font color=\"green\">Дерево решений</font>** \n",
    "<br>Лучшее значение при Максимальной глубине (max_depth) = 6, F1 = 0.5790"
   ]
  },
  {
   "cell_type": "markdown",
   "metadata": {},
   "source": [
    "### Модель: Случайный лес (взвешивание классов)"
   ]
  },
  {
   "cell_type": "code",
   "execution_count": 28,
   "metadata": {},
   "outputs": [
    {
     "name": "stderr",
     "output_type": "stream",
     "text": [
      "100%|██████████| 25/25 [00:54<00:00,  2.19s/it]"
     ]
    },
    {
     "name": "stdout",
     "output_type": "stream",
     "text": [
      "F1: 0.623059866962306 Количество деревьев: 13 Максимальная глубина: 10\n"
     ]
    },
    {
     "name": "stderr",
     "output_type": "stream",
     "text": [
      "\n"
     ]
    }
   ],
   "source": [
    "best_model = None\n",
    "best_result = 0\n",
    "best_est = 0\n",
    "best_depth = 0\n",
    "for est in tqdm(range (1, 50, 2)):\n",
    "    for depth in range (1, 11):\n",
    "        model_forest = RandomForestClassifier(random_state=12345, n_estimators=est, max_depth=depth, class_weight='balanced')\n",
    "        # инициализируем модель RandomForestClassifier с параметрами random_state=12345, n_estimators=est и max_depth=depth\n",
    "        model_forest.fit(features_train, target_train) # обучим модель на тренировочной выборке\n",
    "        predictions_forest = model_forest.predict(features_valid) # получим предсказания модели на валидационной выборке\n",
    "        result = f1_score(target_valid,predictions_forest)\n",
    "        if result > best_result:\n",
    "            best_model = model_forest\n",
    "            best_result = result\n",
    "            best_est = est\n",
    "            best_depth = depth\n",
    "\n",
    "print(\"F1:\", best_result, \"Количество деревьев:\", best_est, \"Максимальная глубина:\", depth)"
   ]
  },
  {
   "cell_type": "markdown",
   "metadata": {},
   "source": [
    "<div style=\"border:solid green 5px; padding: 16px; border-radius: 10px\">\n",
    "    \n",
    "**<font color=\"green\">Случайный лес</font>** \n",
    "<br>Лучшее значение при Максимальной глубине (max_depth) = 10, Количество деревьев = 13, F1 = 0.6230"
   ]
  },
  {
   "cell_type": "markdown",
   "metadata": {},
   "source": [
    "### Модель: Логистическая регрессия (взвешивание классов)"
   ]
  },
  {
   "cell_type": "code",
   "execution_count": 29,
   "metadata": {},
   "outputs": [
    {
     "name": "stdout",
     "output_type": "stream",
     "text": [
      "F1: 0.4995458673932789\n"
     ]
    }
   ],
   "source": [
    "model_logistic_Reg=LogisticRegression(class_weight='balanced') # инициализируем модель LogisticRegression\n",
    "model_logistic_Reg.fit(features_train,target_train) # обучим модель на тренировочной выборке\n",
    "predict_LogisticReg=model_logistic_Reg.predict(features_valid) # получим предсказания модели на валидационной выборке\n",
    "print('F1:',f1_score(target_valid, predict_LogisticReg))"
   ]
  },
  {
   "cell_type": "markdown",
   "metadata": {},
   "source": [
    "### Вывод"
   ]
  },
  {
   "cell_type": "markdown",
   "metadata": {},
   "source": [
    "На всех моделях метрика F1 улучшилась. \n",
    "\n",
    "На сбалансированных данных лучшая модель:\n",
    "Случайный лес (метод взвешивания классов) при Максимальной глубине (max_depth) = 10, Количество деревьев = 13, F1 = 0.6230.\n",
    "\n",
    "Метод взвешивания классов показал лучший результат (F1 на 0,0005 больше чем на увеличенной выборке)."
   ]
  },
  {
   "cell_type": "markdown",
   "metadata": {},
   "source": [
    "## Тестирование модели"
   ]
  },
  {
   "cell_type": "markdown",
   "metadata": {},
   "source": [
    "### Тестирование модели на тестовой выборке"
   ]
  },
  {
   "cell_type": "code",
   "execution_count": 31,
   "metadata": {},
   "outputs": [],
   "source": [
    "#Проверим модель на тестовой выборке\n",
    "#Повысим точность модели путем увеличения размера выборки. \n",
    "#Обучим нашу модель на увеличенном наборе данных (валидация + обучение) и протестируем на тестовом наборе.\n",
    "features_df = pd.concat([features_upsampled, features_valid])\n",
    "target_df =pd.concat([target_upsampled, target_valid])"
   ]
  },
  {
   "cell_type": "code",
   "execution_count": 32,
   "metadata": {},
   "outputs": [
    {
     "name": "stdout",
     "output_type": "stream",
     "text": [
      "F1: 0.7226890756302521\n",
      "Доля правильных ответов: 0.8729372937293729\n",
      "Точность 0.7678571428571429\n",
      "Полнота 0.6825396825396826\n"
     ]
    }
   ],
   "source": [
    "model = RandomForestClassifier(random_state=12345, n_estimators=13, max_depth=10, class_weight='balanced')\n",
    "model.fit(features_df,target_df)\n",
    "prediction_valid=model.predict(features_test)\n",
    "print('F1:',f1_score(prediction_valid, target_test))\n",
    "print('Доля правильных ответов:',accuracy_score(prediction_valid,target_test))\n",
    "print('Точность',precision_score (prediction_valid,target_test))\n",
    "print ('Полнота',recall_score (prediction_valid,target_test))"
   ]
  },
  {
   "cell_type": "code",
   "execution_count": 33,
   "metadata": {},
   "outputs": [
    {
     "data": {
      "image/png": "[encoded data removed]",
      "text/plain": [
       "<Figure size 432x288 with 2 Axes>"
      ]
     },
     "metadata": {
      "needs_background": "light"
     },
     "output_type": "display_data"
    }
   ],
   "source": [
    "cm = confusion_matrix(target_test, prediction_valid, labels=model.classes_)\n",
    "disp = ConfusionMatrixDisplay(confusion_matrix=cm, display_labels=model.classes_)\n",
    "\n",
    "disp.plot();"
   ]
  },
  {
   "cell_type": "markdown",
   "metadata": {},
   "source": [
    "### Метрика AUC-ROC"
   ]
  },
  {
   "cell_type": "markdown",
   "metadata": {},
   "source": [
    "Определим площади кривой ошибок для наших моделей"
   ]
  },
  {
   "cell_type": "code",
   "execution_count": 34,
   "metadata": {},
   "outputs": [
    {
     "name": "stdout",
     "output_type": "stream",
     "text": [
      "Площадь кривой ошибок для дерева решений: 0.6990887168331568\n"
     ]
    }
   ],
   "source": [
    "probabilities_tree=model_tree.predict_proba(features_valid)\n",
    "probabilities_one_valid_tree=probabilities_tree[:,1]\n",
    "fpr_tree,tpr_tree,thresholds_tree=roc_curve(target_valid,probabilities_one_valid_tree)\n",
    "auc_roc_tree=roc_auc_score(target_valid,probabilities_one_valid_tree)\n",
    "print ('Площадь кривой ошибок для дерева решений:',auc_roc_tree)"
   ]
  },
  {
   "cell_type": "code",
   "execution_count": 35,
   "metadata": {},
   "outputs": [
    {
     "name": "stdout",
     "output_type": "stream",
     "text": [
      "Площадь кривой ошибок для случайного леса: 0.845888671036437\n"
     ]
    }
   ],
   "source": [
    "probabilities_forest=model_forest.predict_proba(features_valid)\n",
    "probabilities_one_valid_forest=probabilities_forest[:,1]\n",
    "fpr_forest,tpr_forest,thresholds_forest=roc_curve(target_valid,probabilities_one_valid_forest)\n",
    "auc_roc_forest=roc_auc_score(target_valid,probabilities_one_valid_forest)\n",
    "print ('Площадь кривой ошибок для случайного леса:',auc_roc_forest)"
   ]
  },
  {
   "cell_type": "code",
   "execution_count": 36,
   "metadata": {},
   "outputs": [
    {
     "name": "stdout",
     "output_type": "stream",
     "text": [
      "Площадь кривой ошибок для логистической регресии: 0.7553721699058304\n"
     ]
    }
   ],
   "source": [
    "probabilities_log=model_logistic_Reg.predict_proba(features_valid)\n",
    "probabilities_one_valid_log=probabilities_log[:,1]\n",
    "fpr_log,tpr_log,thresholds_log=roc_curve(target_valid,probabilities_one_valid_log)\n",
    "auc_roc_log=roc_auc_score(target_valid,probabilities_one_valid_log)\n",
    "print ('Площадь кривой ошибок для логистической регресии:',auc_roc_log)"
   ]
  },
  {
   "cell_type": "code",
   "execution_count": 37,
   "metadata": {},
   "outputs": [
    {
     "data": {
      "image/png": "[encoded data removed]",
      "text/plain": [
       "<Figure size 1152x648 with 1 Axes>"
      ]
     },
     "metadata": {
      "needs_background": "light"
     },
     "output_type": "display_data"
    }
   ],
   "source": [
    "#Отобразим кривые на графике\n",
    "\n",
    "\n",
    "plt.figure(figsize=(16,9))\n",
    "plt.plot([0, 1], [0, 1], linestyle='--')\n",
    "plt.xlim([0.0, 1.0])\n",
    "plt.ylim([0.0, 1.0])\n",
    "plt.plot(fpr_tree,tpr_tree)\n",
    "plt.plot(fpr_forest,tpr_forest)\n",
    "plt.plot(fpr_log,tpr_log)\n",
    "plt.xlabel('False Positive Rate')\n",
    "plt.ylabel('True Positive Rate')\n",
    "plt.title('ROC-кривая')\n",
    "plt.legend(('Случайная модель','Дерево решения - 0.6990','Случайный лес - 0.8458','Логистическая регрессия - 0.7553'),\n",
    "           loc= 'upper left') \n",
    "plt.show()"
   ]
  },
  {
   "cell_type": "markdown",
   "metadata": {},
   "source": [
    "<div style=\"border:solid green 5px; padding: 16px; border-radius: 10px\">    \n",
    "<br>Наилучший показатель площади кривой ошибок (ROC) у модели случайного леса - 0,8511 (показатель того как сильно наша модель отличается от случайной)."
   ]
  },
  {
   "cell_type": "markdown",
   "metadata": {},
   "source": [
    "### Вывод"
   ]
  },
  {
   "cell_type": "markdown",
   "metadata": {},
   "source": [
    "<br>При проверке на тестовой выборке, получили следующие метрики качества:\n",
    "1. F1: 0.7226890756302521\n",
    "2. Доля правильных ответов: 0.8729372937293729\n",
    "3. Точность 0.7678571428571429\n",
    "4. Полнота 0.6825396825396826\n",
    "\n",
    "<br>При рассмотрении площади кривой ошибок (ROC) лучший показатель у модели случайного леса - 0,8458 (показатель того как сильно наша модель отличается от случайной)."
   ]
  },
  {
   "cell_type": "markdown",
   "metadata": {},
   "source": [
    "## Общий вывод"
   ]
  },
  {
   "cell_type": "markdown",
   "metadata": {},
   "source": [
    "<div style=\"border:solid green 5px; padding: 20px\">\n",
    "    \n",
    "**<font color=\"green\">Подготовка данных</font>**    \n",
    "<br>На этапе подготовки данных приняли решение об удалении 9% строк с пропущенными значениями для того чтобы не искажать качество моделей замененными значениями. В остальном замечаний к данным нет.\n",
    "    \n",
    "**<font color=\"green\">Исследование задачи</font>**\n",
    "<br> Провели исследование на несбалансированных данных. Лучшая модель: Случайный лес при Максимальной глубине (max_depth) = 10, Количество деревьев = 47, F1 = 0.5899\n",
    "    \n",
    "**<font color=\"green\">Борьба с дисбалансом</font>**\n",
    "<br> При помощи метода увеличения выборки upsampling устранили проблему с дисбалансом. На всех моделях метрика F1 улучшилась. На сбалансированных данных лучшая модель: Случайный лес при Максимальной глубине (max_depth) = 10, Количество деревьев = 13, F1 = 0.6225\n",
    "    \n",
    "**<font color=\"green\">Тестирование модели</font>**    \n",
    "При проверке на тестовой выборке, получили следующие метрики качества:\n",
    "\n",
    "1. F1: 0.7212276214833759\n",
    "2. Доля правильных ответов: 0.8800880088008801\n",
    "3. Точность 0.7193877551020408\n",
    "4. Полнота 0.7230769230769231\n",
    "\n",
    "При рассмотрении площади кривой ошибок (ROC) лучший показатель у модели случайного леса - 0,8511 (показатель того как сильно наша модель отличается от случайной).    \n"
   ]
  }
 ],
 "metadata": {
  "ExecuteTimeLog": [
   {
    "duration": 1680,
    "start_time": "2022-04-17T12:36:03.628Z"
   },
   {
    "duration": 67,
    "start_time": "2022-04-17T12:36:46.352Z"
   },
   {
    "duration": 19,
    "start_time": "2022-04-17T12:50:39.037Z"
   },
   {
    "duration": 20,
    "start_time": "2022-04-17T12:51:51.904Z"
   },
   {
    "duration": 12,
    "start_time": "2022-04-17T12:52:30.381Z"
   },
   {
    "duration": 16,
    "start_time": "2022-04-17T12:54:14.660Z"
   },
   {
    "duration": 34,
    "start_time": "2022-04-17T12:57:28.503Z"
   },
   {
    "duration": 13,
    "start_time": "2022-04-17T13:23:24.280Z"
   },
   {
    "duration": 35,
    "start_time": "2022-04-17T13:23:37.357Z"
   },
   {
    "duration": 9,
    "start_time": "2022-04-17T13:24:18.243Z"
   },
   {
    "duration": 17,
    "start_time": "2022-04-17T13:28:41.633Z"
   },
   {
    "duration": 4,
    "start_time": "2022-04-17T13:28:43.634Z"
   },
   {
    "duration": 32,
    "start_time": "2022-04-17T13:28:51.436Z"
   },
   {
    "duration": 1593,
    "start_time": "2022-04-17T13:29:34.630Z"
   },
   {
    "duration": 69,
    "start_time": "2022-04-17T13:29:36.226Z"
   },
   {
    "duration": 22,
    "start_time": "2022-04-17T13:29:36.297Z"
   },
   {
    "duration": 31,
    "start_time": "2022-04-17T13:29:36.322Z"
   },
   {
    "duration": 33,
    "start_time": "2022-04-17T13:29:36.356Z"
   },
   {
    "duration": 15,
    "start_time": "2022-04-17T13:29:36.391Z"
   },
   {
    "duration": 48,
    "start_time": "2022-04-17T13:29:36.409Z"
   },
   {
    "duration": 31,
    "start_time": "2022-04-17T13:56:55.739Z"
   },
   {
    "duration": 836,
    "start_time": "2022-04-17T14:00:50.325Z"
   },
   {
    "duration": 205,
    "start_time": "2022-04-17T14:00:58.011Z"
   },
   {
    "duration": 203,
    "start_time": "2022-04-17T14:06:03.536Z"
   },
   {
    "duration": 230,
    "start_time": "2022-04-17T14:19:52.960Z"
   },
   {
    "duration": 1606,
    "start_time": "2022-04-17T14:19:53.956Z"
   },
   {
    "duration": 65,
    "start_time": "2022-04-17T14:20:16.715Z"
   },
   {
    "duration": 28,
    "start_time": "2022-04-17T14:20:54.289Z"
   },
   {
    "duration": 65,
    "start_time": "2022-04-17T14:21:57.144Z"
   },
   {
    "duration": 102,
    "start_time": "2022-04-17T14:22:19.975Z"
   },
   {
    "duration": 68,
    "start_time": "2022-04-17T14:22:28.522Z"
   },
   {
    "duration": 1598,
    "start_time": "2022-04-17T14:28:44.341Z"
   },
   {
    "duration": 70,
    "start_time": "2022-04-17T14:28:45.942Z"
   },
   {
    "duration": 21,
    "start_time": "2022-04-17T14:28:46.015Z"
   },
   {
    "duration": 13,
    "start_time": "2022-04-17T14:28:46.054Z"
   },
   {
    "duration": 34,
    "start_time": "2022-04-17T14:28:46.070Z"
   },
   {
    "duration": 52,
    "start_time": "2022-04-17T14:28:46.107Z"
   },
   {
    "duration": 20,
    "start_time": "2022-04-17T14:28:46.161Z"
   },
   {
    "duration": 69,
    "start_time": "2022-04-17T14:28:46.183Z"
   },
   {
    "duration": 550,
    "start_time": "2022-04-17T14:28:46.254Z"
   },
   {
    "duration": 250,
    "start_time": "2022-04-17T14:28:46.809Z"
   },
   {
    "duration": 145,
    "start_time": "2022-04-17T14:28:47.061Z"
   },
   {
    "duration": 25,
    "start_time": "2022-04-17T14:28:47.208Z"
   },
   {
    "duration": 7,
    "start_time": "2022-04-17T14:28:57.164Z"
   },
   {
    "duration": 2178,
    "start_time": "2022-04-17T14:29:10.588Z"
   },
   {
    "duration": 9,
    "start_time": "2022-04-17T14:31:38.361Z"
   },
   {
    "duration": 10,
    "start_time": "2022-04-17T14:31:39.451Z"
   },
   {
    "duration": 379,
    "start_time": "2022-04-17T14:49:46.021Z"
   },
   {
    "duration": 5,
    "start_time": "2022-04-17T14:50:14.309Z"
   },
   {
    "duration": 7875,
    "start_time": "2022-04-17T14:50:20.616Z"
   },
   {
    "duration": 29,
    "start_time": "2022-04-17T14:58:15.569Z"
   },
   {
    "duration": 1502,
    "start_time": "2022-04-17T14:58:26.278Z"
   },
   {
    "duration": 74,
    "start_time": "2022-04-17T14:58:27.782Z"
   },
   {
    "duration": 20,
    "start_time": "2022-04-17T14:58:27.858Z"
   },
   {
    "duration": 11,
    "start_time": "2022-04-17T14:58:27.882Z"
   },
   {
    "duration": 58,
    "start_time": "2022-04-17T14:58:27.895Z"
   },
   {
    "duration": 11,
    "start_time": "2022-04-17T14:58:27.955Z"
   },
   {
    "duration": 23,
    "start_time": "2022-04-17T14:58:27.968Z"
   },
   {
    "duration": 36,
    "start_time": "2022-04-17T14:58:27.993Z"
   },
   {
    "duration": 724,
    "start_time": "2022-04-17T14:58:28.031Z"
   },
   {
    "duration": 15,
    "start_time": "2022-04-17T14:58:28.759Z"
   },
   {
    "duration": 15,
    "start_time": "2022-04-17T14:58:28.776Z"
   },
   {
    "duration": 15,
    "start_time": "2022-04-17T14:58:28.793Z"
   },
   {
    "duration": 22,
    "start_time": "2022-04-17T14:58:28.810Z"
   },
   {
    "duration": 18,
    "start_time": "2022-04-17T14:58:28.834Z"
   },
   {
    "duration": 579,
    "start_time": "2022-04-17T14:58:28.854Z"
   },
   {
    "duration": 5,
    "start_time": "2022-04-17T14:59:31.203Z"
   },
   {
    "duration": 1600,
    "start_time": "2022-04-17T15:01:24.692Z"
   },
   {
    "duration": 69,
    "start_time": "2022-04-17T15:01:26.295Z"
   },
   {
    "duration": 21,
    "start_time": "2022-04-17T15:01:26.366Z"
   },
   {
    "duration": 14,
    "start_time": "2022-04-17T15:01:26.391Z"
   },
   {
    "duration": 56,
    "start_time": "2022-04-17T15:01:26.408Z"
   },
   {
    "duration": 13,
    "start_time": "2022-04-17T15:01:26.467Z"
   },
   {
    "duration": 33,
    "start_time": "2022-04-17T15:01:26.482Z"
   },
   {
    "duration": 43,
    "start_time": "2022-04-17T15:01:26.518Z"
   },
   {
    "duration": 563,
    "start_time": "2022-04-17T15:01:26.564Z"
   },
   {
    "duration": 22,
    "start_time": "2022-04-17T15:01:27.131Z"
   },
   {
    "duration": 10,
    "start_time": "2022-04-17T15:01:27.155Z"
   },
   {
    "duration": 5,
    "start_time": "2022-04-17T15:01:27.168Z"
   },
   {
    "duration": 6,
    "start_time": "2022-04-17T15:01:27.176Z"
   },
   {
    "duration": 7,
    "start_time": "2022-04-17T15:01:27.185Z"
   },
   {
    "duration": 81,
    "start_time": "2022-04-17T15:01:27.194Z"
   },
   {
    "duration": 538,
    "start_time": "2022-04-17T15:01:27.277Z"
   },
   {
    "duration": 656,
    "start_time": "2022-04-17T15:03:59.731Z"
   },
   {
    "duration": 593,
    "start_time": "2022-04-17T15:07:14.225Z"
   },
   {
    "duration": 36623,
    "start_time": "2022-04-17T15:11:42.349Z"
   },
   {
    "duration": 184,
    "start_time": "2022-04-17T15:16:44.679Z"
   },
   {
    "duration": 1824,
    "start_time": "2022-04-17T15:21:17.533Z"
   },
   {
    "duration": 142612,
    "start_time": "2022-04-17T15:21:28.656Z"
   },
   {
    "duration": 5,
    "start_time": "2022-04-17T15:34:13.590Z"
   },
   {
    "duration": 7,
    "start_time": "2022-04-17T15:39:03.252Z"
   },
   {
    "duration": 179,
    "start_time": "2022-04-17T15:48:56.990Z"
   },
   {
    "duration": 26,
    "start_time": "2022-04-17T15:51:45.606Z"
   },
   {
    "duration": 12,
    "start_time": "2022-04-17T15:51:53.319Z"
   },
   {
    "duration": 7,
    "start_time": "2022-04-17T15:52:12.188Z"
   },
   {
    "duration": 7,
    "start_time": "2022-04-17T15:52:47.082Z"
   },
   {
    "duration": 5,
    "start_time": "2022-04-17T15:53:12.261Z"
   },
   {
    "duration": 14,
    "start_time": "2022-04-17T15:53:20.413Z"
   },
   {
    "duration": 11,
    "start_time": "2022-04-17T15:53:34.638Z"
   },
   {
    "duration": 14,
    "start_time": "2022-04-17T15:53:41.416Z"
   },
   {
    "duration": 6,
    "start_time": "2022-04-17T15:58:42.606Z"
   },
   {
    "duration": 15,
    "start_time": "2022-04-17T15:58:48.527Z"
   },
   {
    "duration": 12,
    "start_time": "2022-04-17T15:59:35.871Z"
   },
   {
    "duration": 11,
    "start_time": "2022-04-17T16:00:03.076Z"
   },
   {
    "duration": 11,
    "start_time": "2022-04-17T16:02:44.693Z"
   },
   {
    "duration": 11,
    "start_time": "2022-04-17T16:02:58.706Z"
   },
   {
    "duration": 10,
    "start_time": "2022-04-17T16:03:39.584Z"
   },
   {
    "duration": 9,
    "start_time": "2022-04-17T16:06:24.618Z"
   },
   {
    "duration": 11,
    "start_time": "2022-04-17T16:07:33.187Z"
   },
   {
    "duration": 9,
    "start_time": "2022-04-17T16:08:47.193Z"
   },
   {
    "duration": 8,
    "start_time": "2022-04-17T16:09:01.133Z"
   },
   {
    "duration": 7,
    "start_time": "2022-04-17T16:13:33.739Z"
   },
   {
    "duration": 2410,
    "start_time": "2022-04-17T16:13:44.797Z"
   },
   {
    "duration": 1173,
    "start_time": "2022-04-17T16:15:04.963Z"
   },
   {
    "duration": 106,
    "start_time": "2022-04-17T16:15:27.752Z"
   },
   {
    "duration": 1286,
    "start_time": "2022-04-17T16:15:38.747Z"
   },
   {
    "duration": 8,
    "start_time": "2022-04-17T16:16:22.528Z"
   },
   {
    "duration": 23,
    "start_time": "2022-04-17T16:16:51.825Z"
   },
   {
    "duration": 1432,
    "start_time": "2022-04-17T16:17:30.380Z"
   },
   {
    "duration": 3,
    "start_time": "2022-04-17T16:19:08.651Z"
   },
   {
    "duration": 36,
    "start_time": "2022-04-17T16:20:48.885Z"
   },
   {
    "duration": 23,
    "start_time": "2022-04-17T16:20:50.640Z"
   },
   {
    "duration": 8,
    "start_time": "2022-04-17T16:20:52.384Z"
   },
   {
    "duration": 8,
    "start_time": "2022-04-17T16:20:54.206Z"
   },
   {
    "duration": 1502,
    "start_time": "2022-04-17T16:22:33.894Z"
   },
   {
    "duration": 70,
    "start_time": "2022-04-17T16:22:35.399Z"
   },
   {
    "duration": 20,
    "start_time": "2022-04-17T16:22:35.472Z"
   },
   {
    "duration": 11,
    "start_time": "2022-04-17T16:22:35.496Z"
   },
   {
    "duration": 63,
    "start_time": "2022-04-17T16:22:35.509Z"
   },
   {
    "duration": 11,
    "start_time": "2022-04-17T16:22:35.574Z"
   },
   {
    "duration": 27,
    "start_time": "2022-04-17T16:22:35.588Z"
   },
   {
    "duration": 45,
    "start_time": "2022-04-17T16:22:35.618Z"
   },
   {
    "duration": 9,
    "start_time": "2022-04-17T16:22:35.665Z"
   },
   {
    "duration": 551,
    "start_time": "2022-04-17T16:22:35.678Z"
   },
   {
    "duration": 23,
    "start_time": "2022-04-17T16:22:36.232Z"
   },
   {
    "duration": 10,
    "start_time": "2022-04-17T16:22:36.257Z"
   },
   {
    "duration": 6,
    "start_time": "2022-04-17T16:22:36.269Z"
   },
   {
    "duration": 7,
    "start_time": "2022-04-17T16:22:36.277Z"
   },
   {
    "duration": 14,
    "start_time": "2022-04-17T16:22:36.286Z"
   },
   {
    "duration": 68,
    "start_time": "2022-04-17T16:22:36.302Z"
   },
   {
    "duration": 613,
    "start_time": "2022-04-17T16:22:36.372Z"
   },
   {
    "duration": 142004,
    "start_time": "2022-04-17T16:22:36.988Z"
   },
   {
    "duration": 264,
    "start_time": "2022-04-17T16:24:58.994Z"
   },
   {
    "duration": 95,
    "start_time": "2022-04-17T16:24:59.262Z"
   },
   {
    "duration": 7,
    "start_time": "2022-04-17T16:24:59.359Z"
   },
   {
    "duration": 23,
    "start_time": "2022-04-17T16:24:59.368Z"
   },
   {
    "duration": 1562,
    "start_time": "2022-04-17T16:25:48.435Z"
   },
   {
    "duration": 72,
    "start_time": "2022-04-17T16:25:49.999Z"
   },
   {
    "duration": 20,
    "start_time": "2022-04-17T16:25:50.073Z"
   },
   {
    "duration": 10,
    "start_time": "2022-04-17T16:25:50.096Z"
   },
   {
    "duration": 63,
    "start_time": "2022-04-17T16:25:50.109Z"
   },
   {
    "duration": 10,
    "start_time": "2022-04-17T16:25:50.174Z"
   },
   {
    "duration": 16,
    "start_time": "2022-04-17T16:25:50.187Z"
   },
   {
    "duration": 61,
    "start_time": "2022-04-17T16:25:50.205Z"
   },
   {
    "duration": 7,
    "start_time": "2022-04-17T16:25:50.268Z"
   },
   {
    "duration": 630,
    "start_time": "2022-04-17T16:25:50.279Z"
   },
   {
    "duration": 14,
    "start_time": "2022-04-17T16:25:50.912Z"
   },
   {
    "duration": 26,
    "start_time": "2022-04-17T16:25:50.929Z"
   },
   {
    "duration": 6,
    "start_time": "2022-04-17T16:25:50.958Z"
   },
   {
    "duration": 16,
    "start_time": "2022-04-17T16:25:50.966Z"
   },
   {
    "duration": 8,
    "start_time": "2022-04-17T16:25:50.984Z"
   },
   {
    "duration": 37,
    "start_time": "2022-04-17T16:25:50.994Z"
   },
   {
    "duration": 736,
    "start_time": "2022-04-17T16:25:51.034Z"
   },
   {
    "duration": 35823,
    "start_time": "2022-04-17T16:25:51.772Z"
   },
   {
    "duration": 261,
    "start_time": "2022-04-17T16:26:27.598Z"
   },
   {
    "duration": 102,
    "start_time": "2022-04-17T16:26:27.951Z"
   },
   {
    "duration": 5,
    "start_time": "2022-04-17T16:26:28.056Z"
   },
   {
    "duration": 17,
    "start_time": "2022-04-17T16:26:28.063Z"
   },
   {
    "duration": 6,
    "start_time": "2022-04-17T16:27:03.373Z"
   },
   {
    "duration": 10,
    "start_time": "2022-04-17T16:27:21.304Z"
   },
   {
    "duration": 8,
    "start_time": "2022-04-17T16:27:28.013Z"
   },
   {
    "duration": 7,
    "start_time": "2022-04-17T16:27:31.919Z"
   },
   {
    "duration": 617,
    "start_time": "2022-04-17T16:28:45.270Z"
   },
   {
    "duration": 1049,
    "start_time": "2022-04-17T16:29:31.477Z"
   },
   {
    "duration": 759,
    "start_time": "2022-04-17T16:30:12.139Z"
   },
   {
    "duration": 48790,
    "start_time": "2022-04-17T16:32:57.808Z"
   },
   {
    "duration": 261,
    "start_time": "2022-04-17T16:38:38.506Z"
   },
   {
    "duration": 7,
    "start_time": "2022-04-17T18:09:35.862Z"
   },
   {
    "duration": 187,
    "start_time": "2022-04-17T18:09:37.498Z"
   },
   {
    "duration": 160,
    "start_time": "2022-04-17T18:11:32.736Z"
   },
   {
    "duration": 158,
    "start_time": "2022-04-17T18:12:39.023Z"
   },
   {
    "duration": 26,
    "start_time": "2022-04-17T18:13:03.779Z"
   },
   {
    "duration": 8,
    "start_time": "2022-04-17T18:13:25.723Z"
   },
   {
    "duration": 5,
    "start_time": "2022-04-17T18:13:37.610Z"
   },
   {
    "duration": 6,
    "start_time": "2022-04-17T18:14:12.721Z"
   },
   {
    "duration": 153,
    "start_time": "2022-04-17T18:14:35.180Z"
   },
   {
    "duration": 325,
    "start_time": "2022-04-17T18:28:25.416Z"
   },
   {
    "duration": 6,
    "start_time": "2022-04-17T18:28:45.287Z"
   },
   {
    "duration": 157,
    "start_time": "2022-04-17T18:28:50.905Z"
   },
   {
    "duration": 156,
    "start_time": "2022-04-17T18:29:07.703Z"
   },
   {
    "duration": 6,
    "start_time": "2022-04-17T18:32:01.639Z"
   },
   {
    "duration": 166,
    "start_time": "2022-04-17T18:32:42.415Z"
   },
   {
    "duration": 164,
    "start_time": "2022-04-17T18:33:19.506Z"
   },
   {
    "duration": 254,
    "start_time": "2022-04-17T18:34:57.979Z"
   },
   {
    "duration": 159,
    "start_time": "2022-04-17T18:35:15.261Z"
   },
   {
    "duration": 171,
    "start_time": "2022-04-17T18:35:55.230Z"
   },
   {
    "duration": 271,
    "start_time": "2022-04-17T18:38:22.172Z"
   },
   {
    "duration": 200,
    "start_time": "2022-04-17T18:40:13.584Z"
   },
   {
    "duration": 192,
    "start_time": "2022-04-17T18:43:17.053Z"
   },
   {
    "duration": 7,
    "start_time": "2022-04-17T18:43:38.217Z"
   },
   {
    "duration": 6,
    "start_time": "2022-04-17T18:43:50.523Z"
   },
   {
    "duration": 5,
    "start_time": "2022-04-17T18:43:57.093Z"
   },
   {
    "duration": 276,
    "start_time": "2022-04-17T18:48:09.976Z"
   },
   {
    "duration": 6,
    "start_time": "2022-04-17T18:50:31.089Z"
   },
   {
    "duration": 7,
    "start_time": "2022-04-17T18:51:14.189Z"
   },
   {
    "duration": 7,
    "start_time": "2022-04-17T18:51:20.709Z"
   },
   {
    "duration": 16,
    "start_time": "2022-04-17T18:51:30.855Z"
   },
   {
    "duration": 13,
    "start_time": "2022-04-17T18:51:36.482Z"
   },
   {
    "duration": 8,
    "start_time": "2022-04-17T18:51:40.325Z"
   },
   {
    "duration": 35,
    "start_time": "2022-04-17T18:52:10.385Z"
   },
   {
    "duration": 32,
    "start_time": "2022-04-17T18:52:32.453Z"
   },
   {
    "duration": 57,
    "start_time": "2022-04-17T18:53:44.766Z"
   },
   {
    "duration": 38,
    "start_time": "2022-04-17T18:54:08.095Z"
   },
   {
    "duration": 1671,
    "start_time": "2022-04-17T18:54:53.034Z"
   },
   {
    "duration": 73,
    "start_time": "2022-04-17T18:54:54.708Z"
   },
   {
    "duration": 30,
    "start_time": "2022-04-17T18:54:54.783Z"
   },
   {
    "duration": 39,
    "start_time": "2022-04-17T18:54:54.818Z"
   },
   {
    "duration": 35,
    "start_time": "2022-04-17T18:54:54.859Z"
   },
   {
    "duration": 12,
    "start_time": "2022-04-17T18:54:54.896Z"
   },
   {
    "duration": 53,
    "start_time": "2022-04-17T18:54:54.911Z"
   },
   {
    "duration": 30,
    "start_time": "2022-04-17T18:54:54.966Z"
   },
   {
    "duration": 12,
    "start_time": "2022-04-17T18:54:54.998Z"
   },
   {
    "duration": 589,
    "start_time": "2022-04-17T18:54:55.015Z"
   },
   {
    "duration": 14,
    "start_time": "2022-04-17T18:54:55.606Z"
   },
   {
    "duration": 30,
    "start_time": "2022-04-17T18:54:55.623Z"
   },
   {
    "duration": 5,
    "start_time": "2022-04-17T18:54:55.656Z"
   },
   {
    "duration": 7,
    "start_time": "2022-04-17T18:54:55.664Z"
   },
   {
    "duration": 7,
    "start_time": "2022-04-17T18:54:55.674Z"
   },
   {
    "duration": 69,
    "start_time": "2022-04-17T18:54:55.683Z"
   },
   {
    "duration": 827,
    "start_time": "2022-04-17T18:54:55.754Z"
   },
   {
    "duration": 36250,
    "start_time": "2022-04-17T18:54:56.583Z"
   },
   {
    "duration": 223,
    "start_time": "2022-04-17T18:55:32.835Z"
   },
   {
    "duration": 96,
    "start_time": "2022-04-17T18:55:33.062Z"
   },
   {
    "duration": 6,
    "start_time": "2022-04-17T18:55:33.160Z"
   },
   {
    "duration": 21,
    "start_time": "2022-04-17T18:55:33.168Z"
   },
   {
    "duration": 831,
    "start_time": "2022-04-17T18:55:33.192Z"
   },
   {
    "duration": 53064,
    "start_time": "2022-04-17T18:55:34.026Z"
   },
   {
    "duration": 268,
    "start_time": "2022-04-17T18:56:27.092Z"
   },
   {
    "duration": 93,
    "start_time": "2022-04-17T18:56:27.364Z"
   },
   {
    "duration": 204,
    "start_time": "2022-04-17T18:56:27.551Z"
   },
   {
    "duration": 3,
    "start_time": "2022-04-17T19:03:41.475Z"
   },
   {
    "duration": 258,
    "start_time": "2022-04-17T19:09:26.706Z"
   },
   {
    "duration": 8,
    "start_time": "2022-04-17T19:09:47.069Z"
   },
   {
    "duration": 16,
    "start_time": "2022-04-17T19:09:53.302Z"
   },
   {
    "duration": 12,
    "start_time": "2022-04-17T19:12:00.822Z"
   },
   {
    "duration": 12,
    "start_time": "2022-04-17T19:12:18.312Z"
   },
   {
    "duration": 7,
    "start_time": "2022-04-17T19:14:43.707Z"
   },
   {
    "duration": 43,
    "start_time": "2022-04-17T19:14:47.536Z"
   },
   {
    "duration": 14,
    "start_time": "2022-04-17T19:14:54.530Z"
   },
   {
    "duration": 13,
    "start_time": "2022-04-17T19:15:16.726Z"
   },
   {
    "duration": 18,
    "start_time": "2022-04-17T19:15:30.975Z"
   },
   {
    "duration": 48,
    "start_time": "2022-04-17T19:15:40.974Z"
   },
   {
    "duration": 35,
    "start_time": "2022-04-17T19:18:26.540Z"
   },
   {
    "duration": 21,
    "start_time": "2022-04-17T19:20:52.249Z"
   },
   {
    "duration": 15,
    "start_time": "2022-04-17T19:21:32.595Z"
   },
   {
    "duration": 15,
    "start_time": "2022-04-17T19:24:24.425Z"
   },
   {
    "duration": 7,
    "start_time": "2022-04-17T19:24:56.460Z"
   },
   {
    "duration": 292,
    "start_time": "2022-04-17T19:25:02.269Z"
   },
   {
    "duration": 308,
    "start_time": "2022-04-17T19:26:20.503Z"
   },
   {
    "duration": 371,
    "start_time": "2022-04-17T19:26:33.561Z"
   },
   {
    "duration": 510,
    "start_time": "2022-04-17T19:26:47.526Z"
   },
   {
    "duration": 357,
    "start_time": "2022-04-17T19:26:50.624Z"
   },
   {
    "duration": 366,
    "start_time": "2022-04-17T19:36:07.411Z"
   },
   {
    "duration": 810,
    "start_time": "2022-04-17T20:06:10.000Z"
   },
   {
    "duration": 49618,
    "start_time": "2022-04-17T20:06:43.710Z"
   },
   {
    "duration": 223,
    "start_time": "2022-04-17T20:07:33.331Z"
   },
   {
    "duration": 6,
    "start_time": "2022-04-17T20:19:13.768Z"
   },
   {
    "duration": 12,
    "start_time": "2022-04-17T20:20:27.329Z"
   },
   {
    "duration": 9,
    "start_time": "2022-04-17T20:24:36.207Z"
   },
   {
    "duration": 13,
    "start_time": "2022-04-17T20:28:49.617Z"
   },
   {
    "duration": 20,
    "start_time": "2022-04-17T20:30:28.867Z"
   },
   {
    "duration": 9266,
    "start_time": "2022-04-17T20:30:56.769Z"
   },
   {
    "duration": 6059,
    "start_time": "2022-04-17T20:31:58.464Z"
   },
   {
    "duration": 6039,
    "start_time": "2022-04-17T20:32:23.473Z"
   },
   {
    "duration": 8731,
    "start_time": "2022-04-17T20:36:10.190Z"
   },
   {
    "duration": 205,
    "start_time": "2022-04-17T20:37:01.634Z"
   },
   {
    "duration": 18,
    "start_time": "2022-04-17T20:37:40.699Z"
   },
   {
    "duration": 210,
    "start_time": "2022-04-17T20:38:41.920Z"
   },
   {
    "duration": 16,
    "start_time": "2022-04-17T20:40:50.271Z"
   },
   {
    "duration": 210,
    "start_time": "2022-04-17T20:41:01.898Z"
   },
   {
    "duration": 458,
    "start_time": "2022-04-17T20:44:09.098Z"
   },
   {
    "duration": 367,
    "start_time": "2022-04-17T20:44:17.128Z"
   },
   {
    "duration": 383,
    "start_time": "2022-04-17T20:44:31.947Z"
   },
   {
    "duration": 97,
    "start_time": "2022-04-17T20:44:53.868Z"
   },
   {
    "duration": 95,
    "start_time": "2022-04-17T20:45:11.048Z"
   },
   {
    "duration": 94,
    "start_time": "2022-04-17T20:45:27.303Z"
   },
   {
    "duration": 16,
    "start_time": "2022-04-17T20:45:39.775Z"
   },
   {
    "duration": 100,
    "start_time": "2022-04-17T20:46:01.784Z"
   },
   {
    "duration": 91,
    "start_time": "2022-04-17T20:46:11.935Z"
   },
   {
    "duration": 88,
    "start_time": "2022-04-17T20:46:15.707Z"
   },
   {
    "duration": 94,
    "start_time": "2022-04-17T20:46:31.693Z"
   },
   {
    "duration": 89,
    "start_time": "2022-04-17T20:46:44.222Z"
   },
   {
    "duration": 203,
    "start_time": "2022-04-17T20:46:57.320Z"
   },
   {
    "duration": 202,
    "start_time": "2022-04-17T20:47:09.618Z"
   },
   {
    "duration": 212,
    "start_time": "2022-04-17T20:47:17.971Z"
   },
   {
    "duration": 90,
    "start_time": "2022-04-17T20:47:28.923Z"
   },
   {
    "duration": 100,
    "start_time": "2022-04-17T20:47:34.932Z"
   },
   {
    "duration": 239,
    "start_time": "2022-04-17T20:47:40.919Z"
   },
   {
    "duration": 210,
    "start_time": "2022-04-17T20:48:55.323Z"
   },
   {
    "duration": 6,
    "start_time": "2022-04-17T20:49:46.564Z"
   },
   {
    "duration": 311,
    "start_time": "2022-04-17T20:49:52.837Z"
   },
   {
    "duration": 2012,
    "start_time": "2022-04-17T20:50:11.025Z"
   },
   {
    "duration": 68,
    "start_time": "2022-04-17T20:50:13.051Z"
   },
   {
    "duration": 30,
    "start_time": "2022-04-17T20:50:13.122Z"
   },
   {
    "duration": 10,
    "start_time": "2022-04-17T20:50:13.154Z"
   },
   {
    "duration": 48,
    "start_time": "2022-04-17T20:50:13.167Z"
   },
   {
    "duration": 32,
    "start_time": "2022-04-17T20:50:13.218Z"
   },
   {
    "duration": 26,
    "start_time": "2022-04-17T20:50:13.252Z"
   },
   {
    "duration": 35,
    "start_time": "2022-04-17T20:50:13.280Z"
   },
   {
    "duration": 21,
    "start_time": "2022-04-17T20:50:13.319Z"
   },
   {
    "duration": 228,
    "start_time": "2022-04-17T20:50:13.342Z"
   },
   {
    "duration": 13,
    "start_time": "2022-04-17T20:50:13.572Z"
   },
   {
    "duration": 15,
    "start_time": "2022-04-17T20:50:13.587Z"
   },
   {
    "duration": 16,
    "start_time": "2022-04-17T20:50:13.605Z"
   },
   {
    "duration": 23,
    "start_time": "2022-04-17T20:50:13.623Z"
   },
   {
    "duration": 12,
    "start_time": "2022-04-17T20:50:13.652Z"
   },
   {
    "duration": 54,
    "start_time": "2022-04-17T20:50:13.666Z"
   },
   {
    "duration": 619,
    "start_time": "2022-04-17T20:50:13.722Z"
   },
   {
    "duration": 38777,
    "start_time": "2022-04-17T20:50:14.344Z"
   },
   {
    "duration": 340,
    "start_time": "2022-04-17T20:50:53.124Z"
   },
   {
    "duration": 99,
    "start_time": "2022-04-17T20:50:53.467Z"
   },
   {
    "duration": 96,
    "start_time": "2022-04-17T20:50:53.569Z"
   },
   {
    "duration": 49,
    "start_time": "2022-04-17T20:50:53.668Z"
   },
   {
    "duration": 886,
    "start_time": "2022-04-17T20:50:53.721Z"
   },
   {
    "duration": 55967,
    "start_time": "2022-04-17T20:50:54.609Z"
   },
   {
    "duration": 184,
    "start_time": "2022-04-17T20:51:50.578Z"
   },
   {
    "duration": 93,
    "start_time": "2022-04-17T20:51:50.764Z"
   },
   {
    "duration": 395,
    "start_time": "2022-04-17T20:51:50.865Z"
   },
   {
    "duration": 181,
    "start_time": "2022-04-17T20:51:51.263Z"
   },
   {
    "duration": 0,
    "start_time": "2022-04-17T20:51:51.446Z"
   },
   {
    "duration": 1,
    "start_time": "2022-04-17T20:51:51.447Z"
   },
   {
    "duration": 0,
    "start_time": "2022-04-17T20:51:51.449Z"
   },
   {
    "duration": 0,
    "start_time": "2022-04-17T20:51:51.452Z"
   },
   {
    "duration": 72,
    "start_time": "2022-04-17T20:53:07.745Z"
   },
   {
    "duration": 6,
    "start_time": "2022-04-17T20:54:16.459Z"
   },
   {
    "duration": 214,
    "start_time": "2022-04-17T20:54:38.760Z"
   },
   {
    "duration": 17,
    "start_time": "2022-04-17T20:55:01.830Z"
   },
   {
    "duration": 208,
    "start_time": "2022-04-17T20:55:05.938Z"
   },
   {
    "duration": 294,
    "start_time": "2022-04-17T20:55:44.535Z"
   },
   {
    "duration": 197,
    "start_time": "2022-04-17T20:55:52.824Z"
   },
   {
    "duration": 212,
    "start_time": "2022-04-17T20:56:17.222Z"
   },
   {
    "duration": 275,
    "start_time": "2022-04-17T20:56:24.633Z"
   },
   {
    "duration": 178,
    "start_time": "2022-04-17T20:56:29.716Z"
   },
   {
    "duration": 88,
    "start_time": "2022-04-17T20:56:52.019Z"
   },
   {
    "duration": 15,
    "start_time": "2022-04-17T20:57:23.200Z"
   },
   {
    "duration": 17,
    "start_time": "2022-04-17T20:57:30.837Z"
   },
   {
    "duration": 222,
    "start_time": "2022-04-17T20:58:03.551Z"
   },
   {
    "duration": 18,
    "start_time": "2022-04-17T21:01:11.378Z"
   },
   {
    "duration": 214,
    "start_time": "2022-04-17T21:02:16.173Z"
   },
   {
    "duration": 209,
    "start_time": "2022-04-17T21:02:42.236Z"
   },
   {
    "duration": 217,
    "start_time": "2022-04-17T21:04:38.152Z"
   },
   {
    "duration": 1497,
    "start_time": "2022-04-18T17:44:22.095Z"
   },
   {
    "duration": 46,
    "start_time": "2022-04-18T17:44:23.594Z"
   },
   {
    "duration": 14,
    "start_time": "2022-04-18T17:44:23.642Z"
   },
   {
    "duration": 8,
    "start_time": "2022-04-18T17:44:23.658Z"
   },
   {
    "duration": 46,
    "start_time": "2022-04-18T17:44:23.668Z"
   },
   {
    "duration": 8,
    "start_time": "2022-04-18T17:44:23.716Z"
   },
   {
    "duration": 11,
    "start_time": "2022-04-18T17:44:23.726Z"
   },
   {
    "duration": 24,
    "start_time": "2022-04-18T17:44:23.739Z"
   },
   {
    "duration": 4,
    "start_time": "2022-04-18T17:44:23.765Z"
   },
   {
    "duration": 173,
    "start_time": "2022-04-18T17:44:23.772Z"
   },
   {
    "duration": 10,
    "start_time": "2022-04-18T17:44:23.947Z"
   },
   {
    "duration": 6,
    "start_time": "2022-04-18T17:44:23.959Z"
   },
   {
    "duration": 5,
    "start_time": "2022-04-18T17:44:23.967Z"
   },
   {
    "duration": 35,
    "start_time": "2022-04-18T17:44:23.973Z"
   },
   {
    "duration": 5,
    "start_time": "2022-04-18T17:44:24.010Z"
   },
   {
    "duration": 31,
    "start_time": "2022-04-18T17:44:24.017Z"
   },
   {
    "duration": 467,
    "start_time": "2022-04-18T17:44:24.050Z"
   },
   {
    "duration": 40631,
    "start_time": "2022-04-18T17:44:24.519Z"
   },
   {
    "duration": 502,
    "start_time": "2022-04-18T17:45:05.209Z"
   },
   {
    "duration": 95,
    "start_time": "2022-04-18T17:45:05.716Z"
   },
   {
    "duration": 7,
    "start_time": "2022-04-18T17:45:05.817Z"
   },
   {
    "duration": 9,
    "start_time": "2022-04-18T17:45:05.827Z"
   },
   {
    "duration": 1315,
    "start_time": "2022-04-18T17:45:05.838Z"
   },
   {
    "duration": 72760,
    "start_time": "2022-04-18T17:45:07.155Z"
   },
   {
    "duration": 201,
    "start_time": "2022-04-18T17:46:19.916Z"
   },
   {
    "duration": 6,
    "start_time": "2022-04-18T17:46:20.209Z"
   },
   {
    "duration": 408,
    "start_time": "2022-04-18T17:46:20.218Z"
   },
   {
    "duration": 322,
    "start_time": "2022-04-18T17:46:20.631Z"
   },
   {
    "duration": 59,
    "start_time": "2022-04-18T17:46:20.955Z"
   },
   {
    "duration": 90,
    "start_time": "2022-04-18T17:46:21.016Z"
   },
   {
    "duration": 200,
    "start_time": "2022-04-18T17:46:21.109Z"
   },
   {
    "duration": 439,
    "start_time": "2022-04-18T17:46:21.311Z"
   },
   {
    "duration": 71,
    "start_time": "2022-04-18T18:19:22.996Z"
   },
   {
    "duration": 46,
    "start_time": "2022-04-18T18:20:29.999Z"
   },
   {
    "duration": 1842,
    "start_time": "2022-04-18T18:20:52.362Z"
   },
   {
    "duration": 69,
    "start_time": "2022-04-18T18:20:54.205Z"
   },
   {
    "duration": 33,
    "start_time": "2022-04-18T18:20:54.276Z"
   },
   {
    "duration": 9,
    "start_time": "2022-04-18T18:20:56.100Z"
   },
   {
    "duration": 20,
    "start_time": "2022-04-18T18:20:58.158Z"
   },
   {
    "duration": 8,
    "start_time": "2022-04-18T18:20:59.753Z"
   },
   {
    "duration": 12,
    "start_time": "2022-04-18T18:21:01.393Z"
   },
   {
    "duration": 19,
    "start_time": "2022-04-18T18:21:01.885Z"
   },
   {
    "duration": 9,
    "start_time": "2022-04-18T18:21:05.311Z"
   },
   {
    "duration": 150,
    "start_time": "2022-04-18T18:21:09.049Z"
   },
   {
    "duration": 10,
    "start_time": "2022-04-18T18:21:12.633Z"
   },
   {
    "duration": 8,
    "start_time": "2022-04-18T18:21:14.473Z"
   },
   {
    "duration": 112,
    "start_time": "2022-04-18T18:21:15.797Z"
   },
   {
    "duration": 3,
    "start_time": "2022-04-18T18:21:28.037Z"
   },
   {
    "duration": 5,
    "start_time": "2022-04-18T18:22:16.923Z"
   },
   {
    "duration": 4,
    "start_time": "2022-04-18T18:22:29.404Z"
   },
   {
    "duration": 5,
    "start_time": "2022-04-18T18:22:29.887Z"
   },
   {
    "duration": 5,
    "start_time": "2022-04-18T18:22:30.728Z"
   },
   {
    "duration": 31,
    "start_time": "2022-04-18T18:22:31.943Z"
   },
   {
    "duration": 534,
    "start_time": "2022-04-18T18:22:50.374Z"
   },
   {
    "duration": 26872,
    "start_time": "2022-04-18T18:22:55.372Z"
   },
   {
    "duration": 45,
    "start_time": "2022-04-18T18:23:24.674Z"
   },
   {
    "duration": 7,
    "start_time": "2022-04-18T18:23:31.009Z"
   },
   {
    "duration": 5,
    "start_time": "2022-04-18T18:23:31.914Z"
   },
   {
    "duration": 4,
    "start_time": "2022-04-18T18:25:09.643Z"
   },
   {
    "duration": 13,
    "start_time": "2022-04-18T18:25:11.785Z"
   },
   {
    "duration": 556,
    "start_time": "2022-04-18T18:25:15.475Z"
   },
   {
    "duration": 36255,
    "start_time": "2022-04-18T18:25:18.944Z"
   },
   {
    "duration": 119,
    "start_time": "2022-04-18T18:25:59.796Z"
   },
   {
    "duration": 505,
    "start_time": "2022-04-18T18:40:47.978Z"
   },
   {
    "duration": 26889,
    "start_time": "2022-04-18T18:40:58.268Z"
   },
   {
    "duration": 260,
    "start_time": "2022-04-18T18:41:25.159Z"
   },
   {
    "duration": 240,
    "start_time": "2022-04-18T18:52:24.284Z"
   },
   {
    "duration": 5,
    "start_time": "2022-04-18T18:54:55.247Z"
   },
   {
    "duration": 124,
    "start_time": "2022-04-18T18:54:59.661Z"
   },
   {
    "duration": 129,
    "start_time": "2022-04-18T18:55:51.176Z"
   },
   {
    "duration": 138,
    "start_time": "2022-04-18T19:01:58.016Z"
   },
   {
    "duration": 8,
    "start_time": "2022-04-18T19:03:40.707Z"
   },
   {
    "duration": 25,
    "start_time": "2022-04-18T19:03:42.162Z"
   },
   {
    "duration": 15,
    "start_time": "2022-04-18T19:03:44.844Z"
   },
   {
    "duration": 209,
    "start_time": "2022-04-18T19:04:01.877Z"
   },
   {
    "duration": 193,
    "start_time": "2022-04-18T19:04:42.041Z"
   },
   {
    "duration": 45,
    "start_time": "2022-05-12T18:34:53.500Z"
   },
   {
    "duration": 3424,
    "start_time": "2022-05-12T18:35:01.400Z"
   },
   {
    "duration": 110,
    "start_time": "2022-05-12T18:35:04.826Z"
   },
   {
    "duration": 72,
    "start_time": "2022-05-12T18:35:04.938Z"
   },
   {
    "duration": 8,
    "start_time": "2022-05-12T18:35:05.012Z"
   },
   {
    "duration": 79,
    "start_time": "2022-05-12T18:35:05.022Z"
   },
   {
    "duration": 8,
    "start_time": "2022-05-12T18:35:05.103Z"
   },
   {
    "duration": 13,
    "start_time": "2022-05-12T18:35:05.112Z"
   },
   {
    "duration": 80,
    "start_time": "2022-05-12T18:35:05.126Z"
   },
   {
    "duration": 8,
    "start_time": "2022-05-12T18:35:05.207Z"
   },
   {
    "duration": 226,
    "start_time": "2022-05-12T18:35:05.217Z"
   },
   {
    "duration": 62,
    "start_time": "2022-05-12T18:35:05.445Z"
   },
   {
    "duration": 8,
    "start_time": "2022-05-12T18:35:05.508Z"
   },
   {
    "duration": 6,
    "start_time": "2022-05-12T18:35:05.517Z"
   },
   {
    "duration": 4,
    "start_time": "2022-05-12T18:35:05.525Z"
   },
   {
    "duration": 6,
    "start_time": "2022-05-12T18:35:05.530Z"
   },
   {
    "duration": 4,
    "start_time": "2022-05-12T18:35:05.600Z"
   },
   {
    "duration": 28,
    "start_time": "2022-05-12T18:35:05.605Z"
   },
   {
    "duration": 882,
    "start_time": "2022-05-12T18:35:05.634Z"
   },
   {
    "duration": 52100,
    "start_time": "2022-05-12T18:35:06.518Z"
   },
   {
    "duration": 191,
    "start_time": "2022-05-12T18:35:58.620Z"
   },
   {
    "duration": 93,
    "start_time": "2022-05-12T18:35:58.813Z"
   },
   {
    "duration": 98,
    "start_time": "2022-05-12T18:35:58.907Z"
   },
   {
    "duration": 15,
    "start_time": "2022-05-12T18:35:59.006Z"
   },
   {
    "duration": 1093,
    "start_time": "2022-05-12T18:35:59.023Z"
   },
   {
    "duration": 62515,
    "start_time": "2022-05-12T18:36:00.117Z"
   },
   {
    "duration": 176,
    "start_time": "2022-05-12T18:37:02.634Z"
   },
   {
    "duration": 904,
    "start_time": "2022-05-12T18:37:02.902Z"
   },
   {
    "duration": 54708,
    "start_time": "2022-05-12T18:37:03.810Z"
   },
   {
    "duration": 383,
    "start_time": "2022-05-12T18:37:58.520Z"
   },
   {
    "duration": 96,
    "start_time": "2022-05-12T18:37:58.907Z"
   },
   {
    "duration": 8,
    "start_time": "2022-05-12T18:37:59.005Z"
   },
   {
    "duration": 324,
    "start_time": "2022-05-12T18:37:59.015Z"
   },
   {
    "duration": 389,
    "start_time": "2022-05-12T18:37:59.341Z"
   },
   {
    "duration": 10,
    "start_time": "2022-05-12T18:37:59.732Z"
   },
   {
    "duration": 26,
    "start_time": "2022-05-12T18:37:59.799Z"
   },
   {
    "duration": 79,
    "start_time": "2022-05-12T18:37:59.826Z"
   },
   {
    "duration": 596,
    "start_time": "2022-05-12T18:37:59.907Z"
   },
   {
    "duration": 13,
    "start_time": "2022-05-12T18:38:00.506Z"
   }
  ],
  "kernelspec": {
   "display_name": "Python 3 (ipykernel)",
   "language": "python",
   "name": "python3"
  },
  "language_info": {
   "codemirror_mode": {
    "name": "ipython",
    "version": 3
   },
   "file_extension": ".py",
   "mimetype": "text/x-python",
   "name": "python",
   "nbconvert_exporter": "python",
   "pygments_lexer": "ipython3",
   "version": "3.9.7"
  },
  "toc": {
   "base_numbering": 1,
   "nav_menu": {},
   "number_sections": true,
   "sideBar": true,
   "skip_h1_title": true,
   "title_cell": "Содержание",
   "title_sidebar": "Contents",
   "toc_cell": true,
   "toc_position": {},
   "toc_section_display": true,
   "toc_window_display": true
  }
 },
 "nbformat": 4,
 "nbformat_minor": 2
}
