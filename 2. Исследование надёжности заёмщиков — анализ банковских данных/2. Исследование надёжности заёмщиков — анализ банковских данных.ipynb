{
 "cells": [
  {
   "cell_type": "markdown",
   "id": "0256d55c",
   "metadata": {},
   "source": [
    "# Исследование надежности заемщиков."
   ]
  },
  {
   "cell_type": "markdown",
   "id": "907e1ccc",
   "metadata": {},
   "source": [
    "**Цель проекта: \n",
    "Узнать влияние семейного положения и количества детей клиента на факт погашения кредита в срок.**"
   ]
  },
  {
   "cell_type": "markdown",
   "id": "48fbe523",
   "metadata": {},
   "source": [
    "### Шаг 1. Обзор данных"
   ]
  },
  {
   "cell_type": "code",
   "execution_count": 1,
   "id": "e25b1aac",
   "metadata": {
    "scrolled": true
   },
   "outputs": [
    {
     "data": {
      "text/html": [
       "<div>\n",
       "<style scoped>\n",
       "    .dataframe tbody tr th:only-of-type {\n",
       "        vertical-align: middle;\n",
       "    }\n",
       "\n",
       "    .dataframe tbody tr th {\n",
       "        vertical-align: top;\n",
       "    }\n",
       "\n",
       "    .dataframe thead th {\n",
       "        text-align: right;\n",
       "    }\n",
       "</style>\n",
       "<table border=\"1\" class=\"dataframe\">\n",
       "  <thead>\n",
       "    <tr style=\"text-align: right;\">\n",
       "      <th></th>\n",
       "      <th>children</th>\n",
       "      <th>days_employed</th>\n",
       "      <th>dob_years</th>\n",
       "      <th>education</th>\n",
       "      <th>education_id</th>\n",
       "      <th>family_status</th>\n",
       "      <th>family_status_id</th>\n",
       "      <th>gender</th>\n",
       "      <th>income_type</th>\n",
       "      <th>debt</th>\n",
       "      <th>total_income</th>\n",
       "      <th>purpose</th>\n",
       "    </tr>\n",
       "  </thead>\n",
       "  <tbody>\n",
       "    <tr>\n",
       "      <td>0</td>\n",
       "      <td>1</td>\n",
       "      <td>-8437.673028</td>\n",
       "      <td>42</td>\n",
       "      <td>высшее</td>\n",
       "      <td>0</td>\n",
       "      <td>женат / замужем</td>\n",
       "      <td>0</td>\n",
       "      <td>F</td>\n",
       "      <td>сотрудник</td>\n",
       "      <td>0</td>\n",
       "      <td>253875.639453</td>\n",
       "      <td>покупка жилья</td>\n",
       "    </tr>\n",
       "    <tr>\n",
       "      <td>1</td>\n",
       "      <td>1</td>\n",
       "      <td>-4024.803754</td>\n",
       "      <td>36</td>\n",
       "      <td>среднее</td>\n",
       "      <td>1</td>\n",
       "      <td>женат / замужем</td>\n",
       "      <td>0</td>\n",
       "      <td>F</td>\n",
       "      <td>сотрудник</td>\n",
       "      <td>0</td>\n",
       "      <td>112080.014102</td>\n",
       "      <td>приобретение автомобиля</td>\n",
       "    </tr>\n",
       "    <tr>\n",
       "      <td>2</td>\n",
       "      <td>0</td>\n",
       "      <td>-5623.422610</td>\n",
       "      <td>33</td>\n",
       "      <td>Среднее</td>\n",
       "      <td>1</td>\n",
       "      <td>женат / замужем</td>\n",
       "      <td>0</td>\n",
       "      <td>M</td>\n",
       "      <td>сотрудник</td>\n",
       "      <td>0</td>\n",
       "      <td>145885.952297</td>\n",
       "      <td>покупка жилья</td>\n",
       "    </tr>\n",
       "    <tr>\n",
       "      <td>3</td>\n",
       "      <td>3</td>\n",
       "      <td>-4124.747207</td>\n",
       "      <td>32</td>\n",
       "      <td>среднее</td>\n",
       "      <td>1</td>\n",
       "      <td>женат / замужем</td>\n",
       "      <td>0</td>\n",
       "      <td>M</td>\n",
       "      <td>сотрудник</td>\n",
       "      <td>0</td>\n",
       "      <td>267628.550329</td>\n",
       "      <td>дополнительное образование</td>\n",
       "    </tr>\n",
       "    <tr>\n",
       "      <td>4</td>\n",
       "      <td>0</td>\n",
       "      <td>340266.072047</td>\n",
       "      <td>53</td>\n",
       "      <td>среднее</td>\n",
       "      <td>1</td>\n",
       "      <td>гражданский брак</td>\n",
       "      <td>1</td>\n",
       "      <td>F</td>\n",
       "      <td>пенсионер</td>\n",
       "      <td>0</td>\n",
       "      <td>158616.077870</td>\n",
       "      <td>сыграть свадьбу</td>\n",
       "    </tr>\n",
       "    <tr>\n",
       "      <td>5</td>\n",
       "      <td>0</td>\n",
       "      <td>-926.185831</td>\n",
       "      <td>27</td>\n",
       "      <td>высшее</td>\n",
       "      <td>0</td>\n",
       "      <td>гражданский брак</td>\n",
       "      <td>1</td>\n",
       "      <td>M</td>\n",
       "      <td>компаньон</td>\n",
       "      <td>0</td>\n",
       "      <td>255763.565419</td>\n",
       "      <td>покупка жилья</td>\n",
       "    </tr>\n",
       "    <tr>\n",
       "      <td>6</td>\n",
       "      <td>0</td>\n",
       "      <td>-2879.202052</td>\n",
       "      <td>43</td>\n",
       "      <td>высшее</td>\n",
       "      <td>0</td>\n",
       "      <td>женат / замужем</td>\n",
       "      <td>0</td>\n",
       "      <td>F</td>\n",
       "      <td>компаньон</td>\n",
       "      <td>0</td>\n",
       "      <td>240525.971920</td>\n",
       "      <td>операции с жильем</td>\n",
       "    </tr>\n",
       "    <tr>\n",
       "      <td>7</td>\n",
       "      <td>0</td>\n",
       "      <td>-152.779569</td>\n",
       "      <td>50</td>\n",
       "      <td>СРЕДНЕЕ</td>\n",
       "      <td>1</td>\n",
       "      <td>женат / замужем</td>\n",
       "      <td>0</td>\n",
       "      <td>M</td>\n",
       "      <td>сотрудник</td>\n",
       "      <td>0</td>\n",
       "      <td>135823.934197</td>\n",
       "      <td>образование</td>\n",
       "    </tr>\n",
       "    <tr>\n",
       "      <td>8</td>\n",
       "      <td>2</td>\n",
       "      <td>-6929.865299</td>\n",
       "      <td>35</td>\n",
       "      <td>ВЫСШЕЕ</td>\n",
       "      <td>0</td>\n",
       "      <td>гражданский брак</td>\n",
       "      <td>1</td>\n",
       "      <td>F</td>\n",
       "      <td>сотрудник</td>\n",
       "      <td>0</td>\n",
       "      <td>95856.832424</td>\n",
       "      <td>на проведение свадьбы</td>\n",
       "    </tr>\n",
       "    <tr>\n",
       "      <td>9</td>\n",
       "      <td>0</td>\n",
       "      <td>-2188.756445</td>\n",
       "      <td>41</td>\n",
       "      <td>среднее</td>\n",
       "      <td>1</td>\n",
       "      <td>женат / замужем</td>\n",
       "      <td>0</td>\n",
       "      <td>M</td>\n",
       "      <td>сотрудник</td>\n",
       "      <td>0</td>\n",
       "      <td>144425.938277</td>\n",
       "      <td>покупка жилья для семьи</td>\n",
       "    </tr>\n",
       "  </tbody>\n",
       "</table>\n",
       "</div>"
      ],
      "text/plain": [
       "   children  days_employed  dob_years education  education_id  \\\n",
       "0         1   -8437.673028         42    высшее             0   \n",
       "1         1   -4024.803754         36   среднее             1   \n",
       "2         0   -5623.422610         33   Среднее             1   \n",
       "3         3   -4124.747207         32   среднее             1   \n",
       "4         0  340266.072047         53   среднее             1   \n",
       "5         0    -926.185831         27    высшее             0   \n",
       "6         0   -2879.202052         43    высшее             0   \n",
       "7         0    -152.779569         50   СРЕДНЕЕ             1   \n",
       "8         2   -6929.865299         35    ВЫСШЕЕ             0   \n",
       "9         0   -2188.756445         41   среднее             1   \n",
       "\n",
       "      family_status  family_status_id gender income_type  debt   total_income  \\\n",
       "0   женат / замужем                 0      F   сотрудник     0  253875.639453   \n",
       "1   женат / замужем                 0      F   сотрудник     0  112080.014102   \n",
       "2   женат / замужем                 0      M   сотрудник     0  145885.952297   \n",
       "3   женат / замужем                 0      M   сотрудник     0  267628.550329   \n",
       "4  гражданский брак                 1      F   пенсионер     0  158616.077870   \n",
       "5  гражданский брак                 1      M   компаньон     0  255763.565419   \n",
       "6   женат / замужем                 0      F   компаньон     0  240525.971920   \n",
       "7   женат / замужем                 0      M   сотрудник     0  135823.934197   \n",
       "8  гражданский брак                 1      F   сотрудник     0   95856.832424   \n",
       "9   женат / замужем                 0      M   сотрудник     0  144425.938277   \n",
       "\n",
       "                      purpose  \n",
       "0               покупка жилья  \n",
       "1     приобретение автомобиля  \n",
       "2               покупка жилья  \n",
       "3  дополнительное образование  \n",
       "4             сыграть свадьбу  \n",
       "5               покупка жилья  \n",
       "6           операции с жильем  \n",
       "7                 образование  \n",
       "8       на проведение свадьбы  \n",
       "9     покупка жилья для семьи  "
      ]
     },
     "execution_count": 1,
     "metadata": {},
     "output_type": "execute_result"
    }
   ],
   "source": [
    "# Прочитаем таблицу и выведем первые 10 строк на экран\n",
    "import pandas as pd\n",
    "data=pd.read_csv('/datasets/data.csv')\n",
    "data.head(10)"
   ]
  },
  {
   "cell_type": "markdown",
   "id": "c3fbebb9",
   "metadata": {},
   "source": [
    "**Проведя анализ таблицы, выявили следующие замечания:**\n",
    "<div style=\"border:solid green 5px; padding: 20px\">\n",
    "    \n",
    "1. В столбце education значения не приведены к единому регистру;   \n",
    "2. В столбце days_employed есть аномалия -  значения отрицательны и количество отработанных дней в 4 строке больше возраста человека и положительно. Вероятнее всего, отрицательные значения получились из-за того, что дату анкетирования вычли из даты начала стажа. \n",
    "    Причину высоких положительных значений выявить неудалось. Возможно эти данные приведены в часах или был неправильно указан формат даты при анкетировании."
   ]
  },
  {
   "cell_type": "code",
   "execution_count": 2,
   "id": "0c15a16d",
   "metadata": {},
   "outputs": [
    {
     "name": "stdout",
     "output_type": "stream",
     "text": [
      "<class 'pandas.core.frame.DataFrame'>\n",
      "RangeIndex: 21525 entries, 0 to 21524\n",
      "Data columns (total 12 columns):\n",
      "children            21525 non-null int64\n",
      "days_employed       19351 non-null float64\n",
      "dob_years           21525 non-null int64\n",
      "education           21525 non-null object\n",
      "education_id        21525 non-null int64\n",
      "family_status       21525 non-null object\n",
      "family_status_id    21525 non-null int64\n",
      "gender              21525 non-null object\n",
      "income_type         21525 non-null object\n",
      "debt                21525 non-null int64\n",
      "total_income        19351 non-null float64\n",
      "purpose             21525 non-null object\n",
      "dtypes: float64(2), int64(5), object(5)\n",
      "memory usage: 2.0+ MB\n"
     ]
    }
   ],
   "source": [
    "data.info() #просмотрим общую информаци по таблице"
   ]
  },
  {
   "cell_type": "code",
   "execution_count": 3,
   "id": "4f6ec905",
   "metadata": {},
   "outputs": [
    {
     "data": {
      "text/plain": [
       "children            0.000000\n",
       "days_employed       0.100999\n",
       "dob_years           0.000000\n",
       "education           0.000000\n",
       "education_id        0.000000\n",
       "family_status       0.000000\n",
       "family_status_id    0.000000\n",
       "gender              0.000000\n",
       "income_type         0.000000\n",
       "debt                0.000000\n",
       "total_income        0.100999\n",
       "purpose             0.000000\n",
       "dtype: float64"
      ]
     },
     "execution_count": 3,
     "metadata": {},
     "output_type": "execute_result"
    }
   ],
   "source": [
    "data.isna().mean() # узнаем долю пропусков в таблице"
   ]
  },
  {
   "cell_type": "code",
   "execution_count": 4,
   "id": "51e0f0cc",
   "metadata": {},
   "outputs": [
    {
     "data": {
      "text/html": [
       "<div>\n",
       "<style scoped>\n",
       "    .dataframe tbody tr th:only-of-type {\n",
       "        vertical-align: middle;\n",
       "    }\n",
       "\n",
       "    .dataframe tbody tr th {\n",
       "        vertical-align: top;\n",
       "    }\n",
       "\n",
       "    .dataframe thead th {\n",
       "        text-align: right;\n",
       "    }\n",
       "</style>\n",
       "<table border=\"1\" class=\"dataframe\">\n",
       "  <thead>\n",
       "    <tr style=\"text-align: right;\">\n",
       "      <th></th>\n",
       "      <th>children</th>\n",
       "      <th>days_employed</th>\n",
       "      <th>dob_years</th>\n",
       "      <th>education</th>\n",
       "      <th>education_id</th>\n",
       "      <th>family_status</th>\n",
       "      <th>family_status_id</th>\n",
       "      <th>gender</th>\n",
       "      <th>income_type</th>\n",
       "      <th>debt</th>\n",
       "      <th>total_income</th>\n",
       "      <th>purpose</th>\n",
       "    </tr>\n",
       "  </thead>\n",
       "  <tbody>\n",
       "    <tr>\n",
       "      <td>12</td>\n",
       "      <td>0</td>\n",
       "      <td>NaN</td>\n",
       "      <td>65</td>\n",
       "      <td>среднее</td>\n",
       "      <td>1</td>\n",
       "      <td>гражданский брак</td>\n",
       "      <td>1</td>\n",
       "      <td>M</td>\n",
       "      <td>пенсионер</td>\n",
       "      <td>0</td>\n",
       "      <td>NaN</td>\n",
       "      <td>сыграть свадьбу</td>\n",
       "    </tr>\n",
       "    <tr>\n",
       "      <td>26</td>\n",
       "      <td>0</td>\n",
       "      <td>NaN</td>\n",
       "      <td>41</td>\n",
       "      <td>среднее</td>\n",
       "      <td>1</td>\n",
       "      <td>женат / замужем</td>\n",
       "      <td>0</td>\n",
       "      <td>M</td>\n",
       "      <td>госслужащий</td>\n",
       "      <td>0</td>\n",
       "      <td>NaN</td>\n",
       "      <td>образование</td>\n",
       "    </tr>\n",
       "    <tr>\n",
       "      <td>29</td>\n",
       "      <td>0</td>\n",
       "      <td>NaN</td>\n",
       "      <td>63</td>\n",
       "      <td>среднее</td>\n",
       "      <td>1</td>\n",
       "      <td>Не женат / не замужем</td>\n",
       "      <td>4</td>\n",
       "      <td>F</td>\n",
       "      <td>пенсионер</td>\n",
       "      <td>0</td>\n",
       "      <td>NaN</td>\n",
       "      <td>строительство жилой недвижимости</td>\n",
       "    </tr>\n",
       "    <tr>\n",
       "      <td>41</td>\n",
       "      <td>0</td>\n",
       "      <td>NaN</td>\n",
       "      <td>50</td>\n",
       "      <td>среднее</td>\n",
       "      <td>1</td>\n",
       "      <td>женат / замужем</td>\n",
       "      <td>0</td>\n",
       "      <td>F</td>\n",
       "      <td>госслужащий</td>\n",
       "      <td>0</td>\n",
       "      <td>NaN</td>\n",
       "      <td>сделка с подержанным автомобилем</td>\n",
       "    </tr>\n",
       "    <tr>\n",
       "      <td>55</td>\n",
       "      <td>0</td>\n",
       "      <td>NaN</td>\n",
       "      <td>54</td>\n",
       "      <td>среднее</td>\n",
       "      <td>1</td>\n",
       "      <td>гражданский брак</td>\n",
       "      <td>1</td>\n",
       "      <td>F</td>\n",
       "      <td>пенсионер</td>\n",
       "      <td>1</td>\n",
       "      <td>NaN</td>\n",
       "      <td>сыграть свадьбу</td>\n",
       "    </tr>\n",
       "  </tbody>\n",
       "</table>\n",
       "</div>"
      ],
      "text/plain": [
       "    children  days_employed  dob_years education  education_id  \\\n",
       "12         0            NaN         65   среднее             1   \n",
       "26         0            NaN         41   среднее             1   \n",
       "29         0            NaN         63   среднее             1   \n",
       "41         0            NaN         50   среднее             1   \n",
       "55         0            NaN         54   среднее             1   \n",
       "\n",
       "            family_status  family_status_id gender  income_type  debt  \\\n",
       "12       гражданский брак                 1      M    пенсионер     0   \n",
       "26        женат / замужем                 0      M  госслужащий     0   \n",
       "29  Не женат / не замужем                 4      F    пенсионер     0   \n",
       "41        женат / замужем                 0      F  госслужащий     0   \n",
       "55       гражданский брак                 1      F    пенсионер     1   \n",
       "\n",
       "    total_income                           purpose  \n",
       "12           NaN                   сыграть свадьбу  \n",
       "26           NaN                       образование  \n",
       "29           NaN  строительство жилой недвижимости  \n",
       "41           NaN  сделка с подержанным автомобилем  \n",
       "55           NaN                   сыграть свадьбу  "
      ]
     },
     "execution_count": 4,
     "metadata": {},
     "output_type": "execute_result"
    }
   ],
   "source": [
    "data[data['days_employed'].isna()].head() # посмотрим первые 5 пропусков в столбце days_employed"
   ]
  },
  {
   "cell_type": "code",
   "execution_count": 5,
   "id": "2b89ec2a",
   "metadata": {},
   "outputs": [
    {
     "data": {
      "text/html": [
       "<div>\n",
       "<style scoped>\n",
       "    .dataframe tbody tr th:only-of-type {\n",
       "        vertical-align: middle;\n",
       "    }\n",
       "\n",
       "    .dataframe tbody tr th {\n",
       "        vertical-align: top;\n",
       "    }\n",
       "\n",
       "    .dataframe thead th {\n",
       "        text-align: right;\n",
       "    }\n",
       "</style>\n",
       "<table border=\"1\" class=\"dataframe\">\n",
       "  <thead>\n",
       "    <tr style=\"text-align: right;\">\n",
       "      <th></th>\n",
       "      <th>children</th>\n",
       "      <th>days_employed</th>\n",
       "      <th>dob_years</th>\n",
       "      <th>education</th>\n",
       "      <th>education_id</th>\n",
       "      <th>family_status</th>\n",
       "      <th>family_status_id</th>\n",
       "      <th>gender</th>\n",
       "      <th>income_type</th>\n",
       "      <th>debt</th>\n",
       "      <th>total_income</th>\n",
       "      <th>purpose</th>\n",
       "    </tr>\n",
       "  </thead>\n",
       "  <tbody>\n",
       "    <tr>\n",
       "      <td>12</td>\n",
       "      <td>0</td>\n",
       "      <td>NaN</td>\n",
       "      <td>65</td>\n",
       "      <td>среднее</td>\n",
       "      <td>1</td>\n",
       "      <td>гражданский брак</td>\n",
       "      <td>1</td>\n",
       "      <td>M</td>\n",
       "      <td>пенсионер</td>\n",
       "      <td>0</td>\n",
       "      <td>NaN</td>\n",
       "      <td>сыграть свадьбу</td>\n",
       "    </tr>\n",
       "    <tr>\n",
       "      <td>26</td>\n",
       "      <td>0</td>\n",
       "      <td>NaN</td>\n",
       "      <td>41</td>\n",
       "      <td>среднее</td>\n",
       "      <td>1</td>\n",
       "      <td>женат / замужем</td>\n",
       "      <td>0</td>\n",
       "      <td>M</td>\n",
       "      <td>госслужащий</td>\n",
       "      <td>0</td>\n",
       "      <td>NaN</td>\n",
       "      <td>образование</td>\n",
       "    </tr>\n",
       "    <tr>\n",
       "      <td>29</td>\n",
       "      <td>0</td>\n",
       "      <td>NaN</td>\n",
       "      <td>63</td>\n",
       "      <td>среднее</td>\n",
       "      <td>1</td>\n",
       "      <td>Не женат / не замужем</td>\n",
       "      <td>4</td>\n",
       "      <td>F</td>\n",
       "      <td>пенсионер</td>\n",
       "      <td>0</td>\n",
       "      <td>NaN</td>\n",
       "      <td>строительство жилой недвижимости</td>\n",
       "    </tr>\n",
       "    <tr>\n",
       "      <td>41</td>\n",
       "      <td>0</td>\n",
       "      <td>NaN</td>\n",
       "      <td>50</td>\n",
       "      <td>среднее</td>\n",
       "      <td>1</td>\n",
       "      <td>женат / замужем</td>\n",
       "      <td>0</td>\n",
       "      <td>F</td>\n",
       "      <td>госслужащий</td>\n",
       "      <td>0</td>\n",
       "      <td>NaN</td>\n",
       "      <td>сделка с подержанным автомобилем</td>\n",
       "    </tr>\n",
       "    <tr>\n",
       "      <td>55</td>\n",
       "      <td>0</td>\n",
       "      <td>NaN</td>\n",
       "      <td>54</td>\n",
       "      <td>среднее</td>\n",
       "      <td>1</td>\n",
       "      <td>гражданский брак</td>\n",
       "      <td>1</td>\n",
       "      <td>F</td>\n",
       "      <td>пенсионер</td>\n",
       "      <td>1</td>\n",
       "      <td>NaN</td>\n",
       "      <td>сыграть свадьбу</td>\n",
       "    </tr>\n",
       "  </tbody>\n",
       "</table>\n",
       "</div>"
      ],
      "text/plain": [
       "    children  days_employed  dob_years education  education_id  \\\n",
       "12         0            NaN         65   среднее             1   \n",
       "26         0            NaN         41   среднее             1   \n",
       "29         0            NaN         63   среднее             1   \n",
       "41         0            NaN         50   среднее             1   \n",
       "55         0            NaN         54   среднее             1   \n",
       "\n",
       "            family_status  family_status_id gender  income_type  debt  \\\n",
       "12       гражданский брак                 1      M    пенсионер     0   \n",
       "26        женат / замужем                 0      M  госслужащий     0   \n",
       "29  Не женат / не замужем                 4      F    пенсионер     0   \n",
       "41        женат / замужем                 0      F  госслужащий     0   \n",
       "55       гражданский брак                 1      F    пенсионер     1   \n",
       "\n",
       "    total_income                           purpose  \n",
       "12           NaN                   сыграть свадьбу  \n",
       "26           NaN                       образование  \n",
       "29           NaN  строительство жилой недвижимости  \n",
       "41           NaN  сделка с подержанным автомобилем  \n",
       "55           NaN                   сыграть свадьбу  "
      ]
     },
     "execution_count": 5,
     "metadata": {},
     "output_type": "execute_result"
    }
   ],
   "source": [
    "data[data['total_income'].isna()].head() # посмотрим первые 5 пропусков в столбце total_income"
   ]
  },
  {
   "cell_type": "markdown",
   "id": "8b94401a",
   "metadata": {},
   "source": [
    "<div style=\"border:solid green 5px; padding: 20px\">\n",
    "1. Имеются пропуски в столбцах days_employed и total_income - лучше всего заполнить медианным значением потому что некоторые значения могут сильно выделяться среди большинства. Все пропуски в таблице имеют тип float64 (Nan) и составляют не более 11%.Пропуски столбца total_income совпадают с пропусками стобца days_employed. Вероятнее всего пропуски не случайные и ежемесячный доход зависит от количества отработанных дней. Также в total_income нужно заменить вещественный тип данных на целочисленный."
   ]
  },
  {
   "cell_type": "code",
   "execution_count": 6,
   "id": "5c47fc28",
   "metadata": {},
   "outputs": [
    {
     "data": {
      "text/html": [
       "<div>\n",
       "<style scoped>\n",
       "    .dataframe tbody tr th:only-of-type {\n",
       "        vertical-align: middle;\n",
       "    }\n",
       "\n",
       "    .dataframe tbody tr th {\n",
       "        vertical-align: top;\n",
       "    }\n",
       "\n",
       "    .dataframe thead th {\n",
       "        text-align: right;\n",
       "    }\n",
       "</style>\n",
       "<table border=\"1\" class=\"dataframe\">\n",
       "  <thead>\n",
       "    <tr style=\"text-align: right;\">\n",
       "      <th></th>\n",
       "      <th>children</th>\n",
       "      <th>days_employed</th>\n",
       "      <th>dob_years</th>\n",
       "      <th>education_id</th>\n",
       "      <th>family_status_id</th>\n",
       "      <th>debt</th>\n",
       "      <th>total_income</th>\n",
       "    </tr>\n",
       "  </thead>\n",
       "  <tbody>\n",
       "    <tr>\n",
       "      <td>count</td>\n",
       "      <td>21525.000000</td>\n",
       "      <td>19351.000000</td>\n",
       "      <td>21525.000000</td>\n",
       "      <td>21525.000000</td>\n",
       "      <td>21525.000000</td>\n",
       "      <td>21525.000000</td>\n",
       "      <td>1.935100e+04</td>\n",
       "    </tr>\n",
       "    <tr>\n",
       "      <td>mean</td>\n",
       "      <td>0.538908</td>\n",
       "      <td>63046.497661</td>\n",
       "      <td>43.293380</td>\n",
       "      <td>0.817236</td>\n",
       "      <td>0.972544</td>\n",
       "      <td>0.080883</td>\n",
       "      <td>1.674223e+05</td>\n",
       "    </tr>\n",
       "    <tr>\n",
       "      <td>std</td>\n",
       "      <td>1.381587</td>\n",
       "      <td>140827.311974</td>\n",
       "      <td>12.574584</td>\n",
       "      <td>0.548138</td>\n",
       "      <td>1.420324</td>\n",
       "      <td>0.272661</td>\n",
       "      <td>1.029716e+05</td>\n",
       "    </tr>\n",
       "    <tr>\n",
       "      <td>min</td>\n",
       "      <td>-1.000000</td>\n",
       "      <td>-18388.949901</td>\n",
       "      <td>0.000000</td>\n",
       "      <td>0.000000</td>\n",
       "      <td>0.000000</td>\n",
       "      <td>0.000000</td>\n",
       "      <td>2.066726e+04</td>\n",
       "    </tr>\n",
       "    <tr>\n",
       "      <td>25%</td>\n",
       "      <td>0.000000</td>\n",
       "      <td>-2747.423625</td>\n",
       "      <td>33.000000</td>\n",
       "      <td>1.000000</td>\n",
       "      <td>0.000000</td>\n",
       "      <td>0.000000</td>\n",
       "      <td>1.030532e+05</td>\n",
       "    </tr>\n",
       "    <tr>\n",
       "      <td>50%</td>\n",
       "      <td>0.000000</td>\n",
       "      <td>-1203.369529</td>\n",
       "      <td>42.000000</td>\n",
       "      <td>1.000000</td>\n",
       "      <td>0.000000</td>\n",
       "      <td>0.000000</td>\n",
       "      <td>1.450179e+05</td>\n",
       "    </tr>\n",
       "    <tr>\n",
       "      <td>75%</td>\n",
       "      <td>1.000000</td>\n",
       "      <td>-291.095954</td>\n",
       "      <td>53.000000</td>\n",
       "      <td>1.000000</td>\n",
       "      <td>1.000000</td>\n",
       "      <td>0.000000</td>\n",
       "      <td>2.034351e+05</td>\n",
       "    </tr>\n",
       "    <tr>\n",
       "      <td>max</td>\n",
       "      <td>20.000000</td>\n",
       "      <td>401755.400475</td>\n",
       "      <td>75.000000</td>\n",
       "      <td>4.000000</td>\n",
       "      <td>4.000000</td>\n",
       "      <td>1.000000</td>\n",
       "      <td>2.265604e+06</td>\n",
       "    </tr>\n",
       "  </tbody>\n",
       "</table>\n",
       "</div>"
      ],
      "text/plain": [
       "           children  days_employed     dob_years  education_id  \\\n",
       "count  21525.000000   19351.000000  21525.000000  21525.000000   \n",
       "mean       0.538908   63046.497661     43.293380      0.817236   \n",
       "std        1.381587  140827.311974     12.574584      0.548138   \n",
       "min       -1.000000  -18388.949901      0.000000      0.000000   \n",
       "25%        0.000000   -2747.423625     33.000000      1.000000   \n",
       "50%        0.000000   -1203.369529     42.000000      1.000000   \n",
       "75%        1.000000    -291.095954     53.000000      1.000000   \n",
       "max       20.000000  401755.400475     75.000000      4.000000   \n",
       "\n",
       "       family_status_id          debt  total_income  \n",
       "count      21525.000000  21525.000000  1.935100e+04  \n",
       "mean           0.972544      0.080883  1.674223e+05  \n",
       "std            1.420324      0.272661  1.029716e+05  \n",
       "min            0.000000      0.000000  2.066726e+04  \n",
       "25%            0.000000      0.000000  1.030532e+05  \n",
       "50%            0.000000      0.000000  1.450179e+05  \n",
       "75%            1.000000      0.000000  2.034351e+05  \n",
       "max            4.000000      1.000000  2.265604e+06  "
      ]
     },
     "execution_count": 6,
     "metadata": {},
     "output_type": "execute_result"
    }
   ],
   "source": [
    "data.describe()"
   ]
  },
  {
   "cell_type": "markdown",
   "id": "1fd2d32b",
   "metadata": {},
   "source": [
    "### Шаг 2.1 Заполнение пропусков"
   ]
  },
  {
   "cell_type": "code",
   "execution_count": 7,
   "id": "d2d1386a",
   "metadata": {},
   "outputs": [
    {
     "name": "stdout",
     "output_type": "stream",
     "text": [
      "<class 'pandas.core.frame.DataFrame'>\n",
      "RangeIndex: 21525 entries, 0 to 21524\n",
      "Data columns (total 12 columns):\n",
      "children            21525 non-null int64\n",
      "days_employed       21525 non-null float64\n",
      "dob_years           21525 non-null int64\n",
      "education           21525 non-null object\n",
      "education_id        21525 non-null int64\n",
      "family_status       21525 non-null object\n",
      "family_status_id    21525 non-null int64\n",
      "gender              21525 non-null object\n",
      "income_type         21525 non-null object\n",
      "debt                21525 non-null int64\n",
      "total_income        21525 non-null float64\n",
      "purpose             21525 non-null object\n",
      "dtypes: float64(2), int64(5), object(5)\n",
      "memory usage: 2.0+ MB\n"
     ]
    }
   ],
   "source": [
    "# Найдем медиану столбцов days_employed и total_income и заменими пропуски в таблице\n",
    "data = data.fillna(data['days_employed'].mean())\n",
    "data = data.fillna(data['total_income'].mean())\n",
    "data.info()"
   ]
  },
  {
   "cell_type": "markdown",
   "id": "b76d68b3",
   "metadata": {},
   "source": [
    "**Все пропуски заменили на медианное значение**"
   ]
  },
  {
   "cell_type": "markdown",
   "id": "c8b83904",
   "metadata": {},
   "source": [
    "### Шаг 2.2 Проверка данных на аномалии и исправления."
   ]
  },
  {
   "cell_type": "markdown",
   "id": "556485c8",
   "metadata": {},
   "source": [
    "Пройдем по столбцам методом unique() и выявим аномльные значения"
   ]
  },
  {
   "cell_type": "code",
   "execution_count": 8,
   "id": "24827e13",
   "metadata": {},
   "outputs": [
    {
     "data": {
      "text/plain": [
       "['Не женат / не замужем',\n",
       " 'в разводе',\n",
       " 'вдовец / вдова',\n",
       " 'гражданский брак',\n",
       " 'женат / замужем']"
      ]
     },
     "execution_count": 8,
     "metadata": {},
     "output_type": "execute_result"
    }
   ],
   "source": [
    "#data['children'].unique()\n",
    "#sorted(data['dob_years'].unique())\n",
    "#sorted(data['education'].unique())\n",
    "#sorted(data['education_id'].unique())\n",
    "sorted(data['family_status'].unique())\n",
    "#sorted(data['family_status_id'].unique())\n",
    "#sorted(data['gender'].unique())\n",
    "#sorted(data['income_type'].unique())\n",
    "#sorted(data['debt'].unique())\n",
    "#data.sort_values(by='total_income')\n",
    "#sorted(data['purpose'].unique())\n",
    "#data.sort_values(by='days_employed')"
   ]
  },
  {
   "cell_type": "markdown",
   "id": "b73c8729",
   "metadata": {},
   "source": [
    "1. children - значения -1 и 20 (-1 лучше заменить на 0, цифру 20 оставить(может правда у кого-то 20 детей))\n",
    "2. dob_years - возраст некоторых клиентов равен нулю (нужно изменить на медианное значение)\n",
    "3. education - прописан в разном регистре\n",
    "4. gender - есть значения где гендер неопределен (XNA). Заменять не будем, на расчеты и выводы не повлияет.\n",
    "5. purpose - привести все значения в соответствии с категориями (автомобили, образование, недвижимость, свадьба)\n",
    "6. days_employed - стобец с самыми странными значениями. Отрицательные значения еще можно объяснить - нужно просто заменить на положительное значение (но тогда у некоторых клиентов стаж с 11 лет). А вот максимальные положительные значения объяснить очень сложно. В любом случае нужно перевести все значения в положительные.\n",
    "7. total_income - заменить вещественный тип данных на целочисленный\n",
    "8. family_status - привести стобец к одному регистру"
   ]
  },
  {
   "cell_type": "markdown",
   "id": "4aff26fb",
   "metadata": {},
   "source": [
    "### Шаг 2.3. Изменение типов данных."
   ]
  },
  {
   "cell_type": "code",
   "execution_count": 9,
   "id": "e372a127",
   "metadata": {},
   "outputs": [
    {
     "data": {
      "text/plain": [
       "array([ 1,  0,  3,  2,  4, 20,  5])"
      ]
     },
     "execution_count": 9,
     "metadata": {},
     "output_type": "execute_result"
    }
   ],
   "source": [
    "# заменим значения -1 в столбце children на 0\n",
    "data['children'] = data['children'].replace(-1, 0)\n",
    "data['children'].unique()"
   ]
  },
  {
   "cell_type": "code",
   "execution_count": 10,
   "id": "aa2f7ee5",
   "metadata": {},
   "outputs": [],
   "source": [
    "# заменим значения 0 в столбце dob_years на медианное\n",
    "data['dob_years'] = data['dob_years'].replace(0, data['dob_years'].mean()).astype(int)\n",
    "#sorted(data['dob_years'].unique())"
   ]
  },
  {
   "cell_type": "code",
   "execution_count": 11,
   "id": "e7db657f",
   "metadata": {
    "scrolled": true
   },
   "outputs": [
    {
     "data": {
      "text/plain": [
       "['высшее', 'начальное', 'неоконченное высшее', 'среднее', 'ученая степень']"
      ]
     },
     "execution_count": 11,
     "metadata": {},
     "output_type": "execute_result"
    }
   ],
   "source": [
    "# столбец education приведем к одному регистру\n",
    "data['education'] = data['education'].str.lower()\n",
    "sorted(data['education'].unique())"
   ]
  },
  {
   "cell_type": "code",
   "execution_count": 12,
   "id": "dadc59e6",
   "metadata": {},
   "outputs": [
    {
     "data": {
      "text/html": [
       "<div>\n",
       "<style scoped>\n",
       "    .dataframe tbody tr th:only-of-type {\n",
       "        vertical-align: middle;\n",
       "    }\n",
       "\n",
       "    .dataframe tbody tr th {\n",
       "        vertical-align: top;\n",
       "    }\n",
       "\n",
       "    .dataframe thead th {\n",
       "        text-align: right;\n",
       "    }\n",
       "</style>\n",
       "<table border=\"1\" class=\"dataframe\">\n",
       "  <thead>\n",
       "    <tr style=\"text-align: right;\">\n",
       "      <th></th>\n",
       "      <th>children</th>\n",
       "      <th>days_employed</th>\n",
       "      <th>dob_years</th>\n",
       "      <th>education</th>\n",
       "      <th>education_id</th>\n",
       "      <th>family_status</th>\n",
       "      <th>family_status_id</th>\n",
       "      <th>gender</th>\n",
       "      <th>income_type</th>\n",
       "      <th>debt</th>\n",
       "      <th>total_income</th>\n",
       "      <th>purpose</th>\n",
       "    </tr>\n",
       "  </thead>\n",
       "  <tbody>\n",
       "    <tr>\n",
       "      <td>0</td>\n",
       "      <td>1</td>\n",
       "      <td>8437.673028</td>\n",
       "      <td>42</td>\n",
       "      <td>высшее</td>\n",
       "      <td>0</td>\n",
       "      <td>женат / замужем</td>\n",
       "      <td>0</td>\n",
       "      <td>F</td>\n",
       "      <td>сотрудник</td>\n",
       "      <td>0</td>\n",
       "      <td>253875.639453</td>\n",
       "      <td>покупка жилья</td>\n",
       "    </tr>\n",
       "    <tr>\n",
       "      <td>1</td>\n",
       "      <td>1</td>\n",
       "      <td>4024.803754</td>\n",
       "      <td>36</td>\n",
       "      <td>среднее</td>\n",
       "      <td>1</td>\n",
       "      <td>женат / замужем</td>\n",
       "      <td>0</td>\n",
       "      <td>F</td>\n",
       "      <td>сотрудник</td>\n",
       "      <td>0</td>\n",
       "      <td>112080.014102</td>\n",
       "      <td>приобретение автомобиля</td>\n",
       "    </tr>\n",
       "    <tr>\n",
       "      <td>2</td>\n",
       "      <td>0</td>\n",
       "      <td>5623.422610</td>\n",
       "      <td>33</td>\n",
       "      <td>среднее</td>\n",
       "      <td>1</td>\n",
       "      <td>женат / замужем</td>\n",
       "      <td>0</td>\n",
       "      <td>M</td>\n",
       "      <td>сотрудник</td>\n",
       "      <td>0</td>\n",
       "      <td>145885.952297</td>\n",
       "      <td>покупка жилья</td>\n",
       "    </tr>\n",
       "    <tr>\n",
       "      <td>3</td>\n",
       "      <td>3</td>\n",
       "      <td>4124.747207</td>\n",
       "      <td>32</td>\n",
       "      <td>среднее</td>\n",
       "      <td>1</td>\n",
       "      <td>женат / замужем</td>\n",
       "      <td>0</td>\n",
       "      <td>M</td>\n",
       "      <td>сотрудник</td>\n",
       "      <td>0</td>\n",
       "      <td>267628.550329</td>\n",
       "      <td>дополнительное образование</td>\n",
       "    </tr>\n",
       "    <tr>\n",
       "      <td>4</td>\n",
       "      <td>0</td>\n",
       "      <td>340266.072047</td>\n",
       "      <td>53</td>\n",
       "      <td>среднее</td>\n",
       "      <td>1</td>\n",
       "      <td>гражданский брак</td>\n",
       "      <td>1</td>\n",
       "      <td>F</td>\n",
       "      <td>пенсионер</td>\n",
       "      <td>0</td>\n",
       "      <td>158616.077870</td>\n",
       "      <td>сыграть свадьбу</td>\n",
       "    </tr>\n",
       "    <tr>\n",
       "      <td>...</td>\n",
       "      <td>...</td>\n",
       "      <td>...</td>\n",
       "      <td>...</td>\n",
       "      <td>...</td>\n",
       "      <td>...</td>\n",
       "      <td>...</td>\n",
       "      <td>...</td>\n",
       "      <td>...</td>\n",
       "      <td>...</td>\n",
       "      <td>...</td>\n",
       "      <td>...</td>\n",
       "      <td>...</td>\n",
       "    </tr>\n",
       "    <tr>\n",
       "      <td>21520</td>\n",
       "      <td>1</td>\n",
       "      <td>4529.316663</td>\n",
       "      <td>43</td>\n",
       "      <td>среднее</td>\n",
       "      <td>1</td>\n",
       "      <td>гражданский брак</td>\n",
       "      <td>1</td>\n",
       "      <td>F</td>\n",
       "      <td>компаньон</td>\n",
       "      <td>0</td>\n",
       "      <td>224791.862382</td>\n",
       "      <td>операции с жильем</td>\n",
       "    </tr>\n",
       "    <tr>\n",
       "      <td>21521</td>\n",
       "      <td>0</td>\n",
       "      <td>343937.404131</td>\n",
       "      <td>67</td>\n",
       "      <td>среднее</td>\n",
       "      <td>1</td>\n",
       "      <td>женат / замужем</td>\n",
       "      <td>0</td>\n",
       "      <td>F</td>\n",
       "      <td>пенсионер</td>\n",
       "      <td>0</td>\n",
       "      <td>155999.806512</td>\n",
       "      <td>сделка с автомобилем</td>\n",
       "    </tr>\n",
       "    <tr>\n",
       "      <td>21522</td>\n",
       "      <td>1</td>\n",
       "      <td>2113.346888</td>\n",
       "      <td>38</td>\n",
       "      <td>среднее</td>\n",
       "      <td>1</td>\n",
       "      <td>гражданский брак</td>\n",
       "      <td>1</td>\n",
       "      <td>M</td>\n",
       "      <td>сотрудник</td>\n",
       "      <td>1</td>\n",
       "      <td>89672.561153</td>\n",
       "      <td>недвижимость</td>\n",
       "    </tr>\n",
       "    <tr>\n",
       "      <td>21523</td>\n",
       "      <td>3</td>\n",
       "      <td>3112.481705</td>\n",
       "      <td>38</td>\n",
       "      <td>среднее</td>\n",
       "      <td>1</td>\n",
       "      <td>женат / замужем</td>\n",
       "      <td>0</td>\n",
       "      <td>M</td>\n",
       "      <td>сотрудник</td>\n",
       "      <td>1</td>\n",
       "      <td>244093.050500</td>\n",
       "      <td>на покупку своего автомобиля</td>\n",
       "    </tr>\n",
       "    <tr>\n",
       "      <td>21524</td>\n",
       "      <td>2</td>\n",
       "      <td>1984.507589</td>\n",
       "      <td>40</td>\n",
       "      <td>среднее</td>\n",
       "      <td>1</td>\n",
       "      <td>женат / замужем</td>\n",
       "      <td>0</td>\n",
       "      <td>F</td>\n",
       "      <td>сотрудник</td>\n",
       "      <td>0</td>\n",
       "      <td>82047.418899</td>\n",
       "      <td>на покупку автомобиля</td>\n",
       "    </tr>\n",
       "  </tbody>\n",
       "</table>\n",
       "<p>21525 rows × 12 columns</p>\n",
       "</div>"
      ],
      "text/plain": [
       "       children  days_employed  dob_years education  education_id  \\\n",
       "0             1    8437.673028         42    высшее             0   \n",
       "1             1    4024.803754         36   среднее             1   \n",
       "2             0    5623.422610         33   среднее             1   \n",
       "3             3    4124.747207         32   среднее             1   \n",
       "4             0  340266.072047         53   среднее             1   \n",
       "...         ...            ...        ...       ...           ...   \n",
       "21520         1    4529.316663         43   среднее             1   \n",
       "21521         0  343937.404131         67   среднее             1   \n",
       "21522         1    2113.346888         38   среднее             1   \n",
       "21523         3    3112.481705         38   среднее             1   \n",
       "21524         2    1984.507589         40   среднее             1   \n",
       "\n",
       "          family_status  family_status_id gender income_type  debt  \\\n",
       "0       женат / замужем                 0      F   сотрудник     0   \n",
       "1       женат / замужем                 0      F   сотрудник     0   \n",
       "2       женат / замужем                 0      M   сотрудник     0   \n",
       "3       женат / замужем                 0      M   сотрудник     0   \n",
       "4      гражданский брак                 1      F   пенсионер     0   \n",
       "...                 ...               ...    ...         ...   ...   \n",
       "21520  гражданский брак                 1      F   компаньон     0   \n",
       "21521   женат / замужем                 0      F   пенсионер     0   \n",
       "21522  гражданский брак                 1      M   сотрудник     1   \n",
       "21523   женат / замужем                 0      M   сотрудник     1   \n",
       "21524   женат / замужем                 0      F   сотрудник     0   \n",
       "\n",
       "        total_income                       purpose  \n",
       "0      253875.639453                 покупка жилья  \n",
       "1      112080.014102       приобретение автомобиля  \n",
       "2      145885.952297                 покупка жилья  \n",
       "3      267628.550329    дополнительное образование  \n",
       "4      158616.077870               сыграть свадьбу  \n",
       "...              ...                           ...  \n",
       "21520  224791.862382             операции с жильем  \n",
       "21521  155999.806512          сделка с автомобилем  \n",
       "21522   89672.561153                  недвижимость  \n",
       "21523  244093.050500  на покупку своего автомобиля  \n",
       "21524   82047.418899         на покупку автомобиля  \n",
       "\n",
       "[21525 rows x 12 columns]"
      ]
     },
     "execution_count": 12,
     "metadata": {},
     "output_type": "execute_result"
    }
   ],
   "source": [
    "# сделаем все значения столбца days_employed положительнымпи\n",
    "days_employed_positive = []\n",
    "for day in data['days_employed']:\n",
    "    days_employed_positive.append(abs(day))\n",
    "data['days_employed']=days_employed_positive\n",
    "data"
   ]
  },
  {
   "cell_type": "markdown",
   "id": "97a78c2d",
   "metadata": {},
   "source": [
    "<div style=\"border:solid green 5px; padding: 20px\">\n",
    "    3. Заменим вещественный тип данных в столбце total_income на целочисленный при помощи astype()"
   ]
  },
  {
   "cell_type": "code",
   "execution_count": 13,
   "id": "48dc251b",
   "metadata": {},
   "outputs": [
    {
     "data": {
      "text/plain": [
       "dtype('int64')"
      ]
     },
     "execution_count": 13,
     "metadata": {},
     "output_type": "execute_result"
    }
   ],
   "source": [
    "# заменим тип данных в столбце total_income на целочисленный\n",
    "data['total_income']=data['total_income'].astype(int)\n",
    "data['total_income'].dtypes"
   ]
  },
  {
   "cell_type": "code",
   "execution_count": 14,
   "id": "c50911d5",
   "metadata": {},
   "outputs": [
    {
     "data": {
      "text/plain": [
       "['в разводе',\n",
       " 'вдовец / вдова',\n",
       " 'гражданский брак',\n",
       " 'женат / замужем',\n",
       " 'не женат / не замужем']"
      ]
     },
     "execution_count": 14,
     "metadata": {},
     "output_type": "execute_result"
    }
   ],
   "source": [
    "# приведем столбец family_status к одному регистру\n",
    "data['family_status'] = data['family_status'].str.lower()\n",
    "sorted(data['family_status'].unique())"
   ]
  },
  {
   "cell_type": "code",
   "execution_count": 15,
   "id": "76d0a513",
   "metadata": {},
   "outputs": [
    {
     "data": {
      "text/html": [
       "<div>\n",
       "<style scoped>\n",
       "    .dataframe tbody tr th:only-of-type {\n",
       "        vertical-align: middle;\n",
       "    }\n",
       "\n",
       "    .dataframe tbody tr th {\n",
       "        vertical-align: top;\n",
       "    }\n",
       "\n",
       "    .dataframe thead th {\n",
       "        text-align: right;\n",
       "    }\n",
       "</style>\n",
       "<table border=\"1\" class=\"dataframe\">\n",
       "  <thead>\n",
       "    <tr style=\"text-align: right;\">\n",
       "      <th></th>\n",
       "      <th>children</th>\n",
       "      <th>days_employed</th>\n",
       "      <th>dob_years</th>\n",
       "      <th>education</th>\n",
       "      <th>education_id</th>\n",
       "      <th>family_status</th>\n",
       "      <th>family_status_id</th>\n",
       "      <th>gender</th>\n",
       "      <th>income_type</th>\n",
       "      <th>debt</th>\n",
       "      <th>total_income</th>\n",
       "      <th>purpose</th>\n",
       "    </tr>\n",
       "  </thead>\n",
       "  <tbody>\n",
       "    <tr>\n",
       "      <td>0</td>\n",
       "      <td>1</td>\n",
       "      <td>8437.673028</td>\n",
       "      <td>42</td>\n",
       "      <td>высшее</td>\n",
       "      <td>0</td>\n",
       "      <td>женат / замужем</td>\n",
       "      <td>0</td>\n",
       "      <td>F</td>\n",
       "      <td>сотрудник</td>\n",
       "      <td>0</td>\n",
       "      <td>253875</td>\n",
       "      <td>покупка жилья</td>\n",
       "    </tr>\n",
       "    <tr>\n",
       "      <td>1</td>\n",
       "      <td>1</td>\n",
       "      <td>4024.803754</td>\n",
       "      <td>36</td>\n",
       "      <td>среднее</td>\n",
       "      <td>1</td>\n",
       "      <td>женат / замужем</td>\n",
       "      <td>0</td>\n",
       "      <td>F</td>\n",
       "      <td>сотрудник</td>\n",
       "      <td>0</td>\n",
       "      <td>112080</td>\n",
       "      <td>приобретение автомобиля</td>\n",
       "    </tr>\n",
       "    <tr>\n",
       "      <td>2</td>\n",
       "      <td>0</td>\n",
       "      <td>5623.422610</td>\n",
       "      <td>33</td>\n",
       "      <td>среднее</td>\n",
       "      <td>1</td>\n",
       "      <td>женат / замужем</td>\n",
       "      <td>0</td>\n",
       "      <td>M</td>\n",
       "      <td>сотрудник</td>\n",
       "      <td>0</td>\n",
       "      <td>145885</td>\n",
       "      <td>покупка жилья</td>\n",
       "    </tr>\n",
       "    <tr>\n",
       "      <td>3</td>\n",
       "      <td>3</td>\n",
       "      <td>4124.747207</td>\n",
       "      <td>32</td>\n",
       "      <td>среднее</td>\n",
       "      <td>1</td>\n",
       "      <td>женат / замужем</td>\n",
       "      <td>0</td>\n",
       "      <td>M</td>\n",
       "      <td>сотрудник</td>\n",
       "      <td>0</td>\n",
       "      <td>267628</td>\n",
       "      <td>дополнительное образование</td>\n",
       "    </tr>\n",
       "    <tr>\n",
       "      <td>4</td>\n",
       "      <td>0</td>\n",
       "      <td>340266.072047</td>\n",
       "      <td>53</td>\n",
       "      <td>среднее</td>\n",
       "      <td>1</td>\n",
       "      <td>гражданский брак</td>\n",
       "      <td>1</td>\n",
       "      <td>F</td>\n",
       "      <td>пенсионер</td>\n",
       "      <td>0</td>\n",
       "      <td>158616</td>\n",
       "      <td>сыграть свадьбу</td>\n",
       "    </tr>\n",
       "    <tr>\n",
       "      <td>...</td>\n",
       "      <td>...</td>\n",
       "      <td>...</td>\n",
       "      <td>...</td>\n",
       "      <td>...</td>\n",
       "      <td>...</td>\n",
       "      <td>...</td>\n",
       "      <td>...</td>\n",
       "      <td>...</td>\n",
       "      <td>...</td>\n",
       "      <td>...</td>\n",
       "      <td>...</td>\n",
       "      <td>...</td>\n",
       "    </tr>\n",
       "    <tr>\n",
       "      <td>21520</td>\n",
       "      <td>1</td>\n",
       "      <td>4529.316663</td>\n",
       "      <td>43</td>\n",
       "      <td>среднее</td>\n",
       "      <td>1</td>\n",
       "      <td>гражданский брак</td>\n",
       "      <td>1</td>\n",
       "      <td>F</td>\n",
       "      <td>компаньон</td>\n",
       "      <td>0</td>\n",
       "      <td>224791</td>\n",
       "      <td>операции с жильем</td>\n",
       "    </tr>\n",
       "    <tr>\n",
       "      <td>21521</td>\n",
       "      <td>0</td>\n",
       "      <td>343937.404131</td>\n",
       "      <td>67</td>\n",
       "      <td>среднее</td>\n",
       "      <td>1</td>\n",
       "      <td>женат / замужем</td>\n",
       "      <td>0</td>\n",
       "      <td>F</td>\n",
       "      <td>пенсионер</td>\n",
       "      <td>0</td>\n",
       "      <td>155999</td>\n",
       "      <td>сделка с автомобилем</td>\n",
       "    </tr>\n",
       "    <tr>\n",
       "      <td>21522</td>\n",
       "      <td>1</td>\n",
       "      <td>2113.346888</td>\n",
       "      <td>38</td>\n",
       "      <td>среднее</td>\n",
       "      <td>1</td>\n",
       "      <td>гражданский брак</td>\n",
       "      <td>1</td>\n",
       "      <td>M</td>\n",
       "      <td>сотрудник</td>\n",
       "      <td>1</td>\n",
       "      <td>89672</td>\n",
       "      <td>недвижимость</td>\n",
       "    </tr>\n",
       "    <tr>\n",
       "      <td>21523</td>\n",
       "      <td>3</td>\n",
       "      <td>3112.481705</td>\n",
       "      <td>38</td>\n",
       "      <td>среднее</td>\n",
       "      <td>1</td>\n",
       "      <td>женат / замужем</td>\n",
       "      <td>0</td>\n",
       "      <td>M</td>\n",
       "      <td>сотрудник</td>\n",
       "      <td>1</td>\n",
       "      <td>244093</td>\n",
       "      <td>на покупку своего автомобиля</td>\n",
       "    </tr>\n",
       "    <tr>\n",
       "      <td>21524</td>\n",
       "      <td>2</td>\n",
       "      <td>1984.507589</td>\n",
       "      <td>40</td>\n",
       "      <td>среднее</td>\n",
       "      <td>1</td>\n",
       "      <td>женат / замужем</td>\n",
       "      <td>0</td>\n",
       "      <td>F</td>\n",
       "      <td>сотрудник</td>\n",
       "      <td>0</td>\n",
       "      <td>82047</td>\n",
       "      <td>на покупку автомобиля</td>\n",
       "    </tr>\n",
       "  </tbody>\n",
       "</table>\n",
       "<p>21525 rows × 12 columns</p>\n",
       "</div>"
      ],
      "text/plain": [
       "       children  days_employed  dob_years education  education_id  \\\n",
       "0             1    8437.673028         42    высшее             0   \n",
       "1             1    4024.803754         36   среднее             1   \n",
       "2             0    5623.422610         33   среднее             1   \n",
       "3             3    4124.747207         32   среднее             1   \n",
       "4             0  340266.072047         53   среднее             1   \n",
       "...         ...            ...        ...       ...           ...   \n",
       "21520         1    4529.316663         43   среднее             1   \n",
       "21521         0  343937.404131         67   среднее             1   \n",
       "21522         1    2113.346888         38   среднее             1   \n",
       "21523         3    3112.481705         38   среднее             1   \n",
       "21524         2    1984.507589         40   среднее             1   \n",
       "\n",
       "          family_status  family_status_id gender income_type  debt  \\\n",
       "0       женат / замужем                 0      F   сотрудник     0   \n",
       "1       женат / замужем                 0      F   сотрудник     0   \n",
       "2       женат / замужем                 0      M   сотрудник     0   \n",
       "3       женат / замужем                 0      M   сотрудник     0   \n",
       "4      гражданский брак                 1      F   пенсионер     0   \n",
       "...                 ...               ...    ...         ...   ...   \n",
       "21520  гражданский брак                 1      F   компаньон     0   \n",
       "21521   женат / замужем                 0      F   пенсионер     0   \n",
       "21522  гражданский брак                 1      M   сотрудник     1   \n",
       "21523   женат / замужем                 0      M   сотрудник     1   \n",
       "21524   женат / замужем                 0      F   сотрудник     0   \n",
       "\n",
       "       total_income                       purpose  \n",
       "0            253875                 покупка жилья  \n",
       "1            112080       приобретение автомобиля  \n",
       "2            145885                 покупка жилья  \n",
       "3            267628    дополнительное образование  \n",
       "4            158616               сыграть свадьбу  \n",
       "...             ...                           ...  \n",
       "21520        224791             операции с жильем  \n",
       "21521        155999          сделка с автомобилем  \n",
       "21522         89672                  недвижимость  \n",
       "21523        244093  на покупку своего автомобиля  \n",
       "21524         82047         на покупку автомобиля  \n",
       "\n",
       "[21525 rows x 12 columns]"
      ]
     },
     "execution_count": 15,
     "metadata": {},
     "output_type": "execute_result"
    }
   ],
   "source": [
    "# выведем таблицу и информацию по ней на экран для проверки\n",
    "data"
   ]
  },
  {
   "cell_type": "code",
   "execution_count": 16,
   "id": "38d1b1cb",
   "metadata": {},
   "outputs": [
    {
     "name": "stdout",
     "output_type": "stream",
     "text": [
      "<class 'pandas.core.frame.DataFrame'>\n",
      "RangeIndex: 21525 entries, 0 to 21524\n",
      "Data columns (total 12 columns):\n",
      "children            21525 non-null int64\n",
      "days_employed       21525 non-null float64\n",
      "dob_years           21525 non-null int64\n",
      "education           21525 non-null object\n",
      "education_id        21525 non-null int64\n",
      "family_status       21525 non-null object\n",
      "family_status_id    21525 non-null int64\n",
      "gender              21525 non-null object\n",
      "income_type         21525 non-null object\n",
      "debt                21525 non-null int64\n",
      "total_income        21525 non-null int64\n",
      "purpose             21525 non-null object\n",
      "dtypes: float64(1), int64(6), object(5)\n",
      "memory usage: 2.0+ MB\n"
     ]
    }
   ],
   "source": [
    "data.info()"
   ]
  },
  {
   "cell_type": "markdown",
   "id": "767971a4",
   "metadata": {},
   "source": [
    "### Шаг 2.4. Удаление дубликатов."
   ]
  },
  {
   "cell_type": "markdown",
   "id": "032a1ad2",
   "metadata": {},
   "source": [
    "<div style=\"border:solid green 5px; padding: 20px\">\n",
    "    4.1 Предварительно обработали таблицу и выявили неявные дубликаты в стобцах education (прописан в разном регистре),\n",
    "purpose - (привели все значения к стандартным категориям).\n",
    "    Теперь выявим явные дубликаты и уберем их из таблицы при помощи метода drop_duplicates() и перезапишем индекс."
   ]
  },
  {
   "cell_type": "code",
   "execution_count": 17,
   "id": "5a65d317",
   "metadata": {},
   "outputs": [
    {
     "data": {
      "text/plain": [
       "71"
      ]
     },
     "execution_count": 17,
     "metadata": {},
     "output_type": "execute_result"
    }
   ],
   "source": [
    "# Найдем количество дубликатов\n",
    "data.duplicated().sum()"
   ]
  },
  {
   "cell_type": "code",
   "execution_count": 18,
   "id": "db5ff845",
   "metadata": {},
   "outputs": [],
   "source": [
    "#избавимся от дубликатов\n",
    "data = data.drop_duplicates().reset_index(drop = True)"
   ]
  },
  {
   "cell_type": "code",
   "execution_count": 19,
   "id": "5ffac3a7",
   "metadata": {},
   "outputs": [
    {
     "data": {
      "text/plain": [
       "0"
      ]
     },
     "execution_count": 19,
     "metadata": {},
     "output_type": "execute_result"
    }
   ],
   "source": [
    "#Проверим\n",
    "data.duplicated().sum()"
   ]
  },
  {
   "cell_type": "markdown",
   "id": "80cf2a63",
   "metadata": {},
   "source": [
    "<div style=\"border:solid green 5px; padding: 20px\">\n",
    "4.2 В таблице было 409 явных дубликата. Они могли появится по причине того, что клиенты повторно подавали заявки на кредиты. \n",
    "Теперь таблица предобработана и подготовлена к работе."
   ]
  },
  {
   "cell_type": "markdown",
   "id": "556691e0",
   "metadata": {},
   "source": [
    "### Шаг 2.5. Формирование дополнительных датафреймов словарей, декомпозиция исходного датафрейма."
   ]
  },
  {
   "cell_type": "markdown",
   "id": "82e38694",
   "metadata": {},
   "source": [
    "<div style=\"border:solid green 5px; padding: 20px\">\n",
    "    5. Создадим две новые таблицы education и family со столбцами: education и education_id в первом и family_status и family_status_id. Уберем столбцы education_id и family_status_id из исходной таблицы и выведем таблицы на экран."
   ]
  },
  {
   "cell_type": "code",
   "execution_count": 20,
   "id": "61f57365",
   "metadata": {},
   "outputs": [
    {
     "data": {
      "text/html": [
       "<div>\n",
       "<style scoped>\n",
       "    .dataframe tbody tr th:only-of-type {\n",
       "        vertical-align: middle;\n",
       "    }\n",
       "\n",
       "    .dataframe tbody tr th {\n",
       "        vertical-align: top;\n",
       "    }\n",
       "\n",
       "    .dataframe thead th {\n",
       "        text-align: right;\n",
       "    }\n",
       "</style>\n",
       "<table border=\"1\" class=\"dataframe\">\n",
       "  <thead>\n",
       "    <tr style=\"text-align: right;\">\n",
       "      <th></th>\n",
       "      <th>children</th>\n",
       "      <th>days_employed</th>\n",
       "      <th>dob_years</th>\n",
       "      <th>education</th>\n",
       "      <th>family_status</th>\n",
       "      <th>gender</th>\n",
       "      <th>income_type</th>\n",
       "      <th>debt</th>\n",
       "      <th>total_income</th>\n",
       "      <th>purpose</th>\n",
       "    </tr>\n",
       "  </thead>\n",
       "  <tbody>\n",
       "    <tr>\n",
       "      <td>0</td>\n",
       "      <td>1</td>\n",
       "      <td>8437.673028</td>\n",
       "      <td>42</td>\n",
       "      <td>высшее</td>\n",
       "      <td>женат / замужем</td>\n",
       "      <td>F</td>\n",
       "      <td>сотрудник</td>\n",
       "      <td>0</td>\n",
       "      <td>253875</td>\n",
       "      <td>покупка жилья</td>\n",
       "    </tr>\n",
       "    <tr>\n",
       "      <td>1</td>\n",
       "      <td>1</td>\n",
       "      <td>4024.803754</td>\n",
       "      <td>36</td>\n",
       "      <td>среднее</td>\n",
       "      <td>женат / замужем</td>\n",
       "      <td>F</td>\n",
       "      <td>сотрудник</td>\n",
       "      <td>0</td>\n",
       "      <td>112080</td>\n",
       "      <td>приобретение автомобиля</td>\n",
       "    </tr>\n",
       "    <tr>\n",
       "      <td>2</td>\n",
       "      <td>0</td>\n",
       "      <td>5623.422610</td>\n",
       "      <td>33</td>\n",
       "      <td>среднее</td>\n",
       "      <td>женат / замужем</td>\n",
       "      <td>M</td>\n",
       "      <td>сотрудник</td>\n",
       "      <td>0</td>\n",
       "      <td>145885</td>\n",
       "      <td>покупка жилья</td>\n",
       "    </tr>\n",
       "    <tr>\n",
       "      <td>3</td>\n",
       "      <td>3</td>\n",
       "      <td>4124.747207</td>\n",
       "      <td>32</td>\n",
       "      <td>среднее</td>\n",
       "      <td>женат / замужем</td>\n",
       "      <td>M</td>\n",
       "      <td>сотрудник</td>\n",
       "      <td>0</td>\n",
       "      <td>267628</td>\n",
       "      <td>дополнительное образование</td>\n",
       "    </tr>\n",
       "    <tr>\n",
       "      <td>4</td>\n",
       "      <td>0</td>\n",
       "      <td>340266.072047</td>\n",
       "      <td>53</td>\n",
       "      <td>среднее</td>\n",
       "      <td>гражданский брак</td>\n",
       "      <td>F</td>\n",
       "      <td>пенсионер</td>\n",
       "      <td>0</td>\n",
       "      <td>158616</td>\n",
       "      <td>сыграть свадьбу</td>\n",
       "    </tr>\n",
       "    <tr>\n",
       "      <td>...</td>\n",
       "      <td>...</td>\n",
       "      <td>...</td>\n",
       "      <td>...</td>\n",
       "      <td>...</td>\n",
       "      <td>...</td>\n",
       "      <td>...</td>\n",
       "      <td>...</td>\n",
       "      <td>...</td>\n",
       "      <td>...</td>\n",
       "      <td>...</td>\n",
       "    </tr>\n",
       "    <tr>\n",
       "      <td>21449</td>\n",
       "      <td>1</td>\n",
       "      <td>4529.316663</td>\n",
       "      <td>43</td>\n",
       "      <td>среднее</td>\n",
       "      <td>гражданский брак</td>\n",
       "      <td>F</td>\n",
       "      <td>компаньон</td>\n",
       "      <td>0</td>\n",
       "      <td>224791</td>\n",
       "      <td>операции с жильем</td>\n",
       "    </tr>\n",
       "    <tr>\n",
       "      <td>21450</td>\n",
       "      <td>0</td>\n",
       "      <td>343937.404131</td>\n",
       "      <td>67</td>\n",
       "      <td>среднее</td>\n",
       "      <td>женат / замужем</td>\n",
       "      <td>F</td>\n",
       "      <td>пенсионер</td>\n",
       "      <td>0</td>\n",
       "      <td>155999</td>\n",
       "      <td>сделка с автомобилем</td>\n",
       "    </tr>\n",
       "    <tr>\n",
       "      <td>21451</td>\n",
       "      <td>1</td>\n",
       "      <td>2113.346888</td>\n",
       "      <td>38</td>\n",
       "      <td>среднее</td>\n",
       "      <td>гражданский брак</td>\n",
       "      <td>M</td>\n",
       "      <td>сотрудник</td>\n",
       "      <td>1</td>\n",
       "      <td>89672</td>\n",
       "      <td>недвижимость</td>\n",
       "    </tr>\n",
       "    <tr>\n",
       "      <td>21452</td>\n",
       "      <td>3</td>\n",
       "      <td>3112.481705</td>\n",
       "      <td>38</td>\n",
       "      <td>среднее</td>\n",
       "      <td>женат / замужем</td>\n",
       "      <td>M</td>\n",
       "      <td>сотрудник</td>\n",
       "      <td>1</td>\n",
       "      <td>244093</td>\n",
       "      <td>на покупку своего автомобиля</td>\n",
       "    </tr>\n",
       "    <tr>\n",
       "      <td>21453</td>\n",
       "      <td>2</td>\n",
       "      <td>1984.507589</td>\n",
       "      <td>40</td>\n",
       "      <td>среднее</td>\n",
       "      <td>женат / замужем</td>\n",
       "      <td>F</td>\n",
       "      <td>сотрудник</td>\n",
       "      <td>0</td>\n",
       "      <td>82047</td>\n",
       "      <td>на покупку автомобиля</td>\n",
       "    </tr>\n",
       "  </tbody>\n",
       "</table>\n",
       "<p>21454 rows × 10 columns</p>\n",
       "</div>"
      ],
      "text/plain": [
       "       children  days_employed  dob_years education     family_status gender  \\\n",
       "0             1    8437.673028         42    высшее   женат / замужем      F   \n",
       "1             1    4024.803754         36   среднее   женат / замужем      F   \n",
       "2             0    5623.422610         33   среднее   женат / замужем      M   \n",
       "3             3    4124.747207         32   среднее   женат / замужем      M   \n",
       "4             0  340266.072047         53   среднее  гражданский брак      F   \n",
       "...         ...            ...        ...       ...               ...    ...   \n",
       "21449         1    4529.316663         43   среднее  гражданский брак      F   \n",
       "21450         0  343937.404131         67   среднее   женат / замужем      F   \n",
       "21451         1    2113.346888         38   среднее  гражданский брак      M   \n",
       "21452         3    3112.481705         38   среднее   женат / замужем      M   \n",
       "21453         2    1984.507589         40   среднее   женат / замужем      F   \n",
       "\n",
       "      income_type  debt  total_income                       purpose  \n",
       "0       сотрудник     0        253875                 покупка жилья  \n",
       "1       сотрудник     0        112080       приобретение автомобиля  \n",
       "2       сотрудник     0        145885                 покупка жилья  \n",
       "3       сотрудник     0        267628    дополнительное образование  \n",
       "4       пенсионер     0        158616               сыграть свадьбу  \n",
       "...           ...   ...           ...                           ...  \n",
       "21449   компаньон     0        224791             операции с жильем  \n",
       "21450   пенсионер     0        155999          сделка с автомобилем  \n",
       "21451   сотрудник     1         89672                  недвижимость  \n",
       "21452   сотрудник     1        244093  на покупку своего автомобиля  \n",
       "21453   сотрудник     0         82047         на покупку автомобиля  \n",
       "\n",
       "[21454 rows x 10 columns]"
      ]
     },
     "execution_count": 20,
     "metadata": {},
     "output_type": "execute_result"
    }
   ],
   "source": [
    "education_t = data[['education' , 'education_id']]\n",
    "family = data[['family_status' , 'family_status_id']]\n",
    "data = data.drop(['education_id', 'family_status_id'], axis=1)\n",
    "data"
   ]
  },
  {
   "cell_type": "code",
   "execution_count": 21,
   "id": "4eb2cb63",
   "metadata": {},
   "outputs": [
    {
     "data": {
      "text/html": [
       "<div>\n",
       "<style scoped>\n",
       "    .dataframe tbody tr th:only-of-type {\n",
       "        vertical-align: middle;\n",
       "    }\n",
       "\n",
       "    .dataframe tbody tr th {\n",
       "        vertical-align: top;\n",
       "    }\n",
       "\n",
       "    .dataframe thead th {\n",
       "        text-align: right;\n",
       "    }\n",
       "</style>\n",
       "<table border=\"1\" class=\"dataframe\">\n",
       "  <thead>\n",
       "    <tr style=\"text-align: right;\">\n",
       "      <th></th>\n",
       "      <th>family_status</th>\n",
       "      <th>family_status_id</th>\n",
       "    </tr>\n",
       "  </thead>\n",
       "  <tbody>\n",
       "    <tr>\n",
       "      <td>0</td>\n",
       "      <td>женат / замужем</td>\n",
       "      <td>0</td>\n",
       "    </tr>\n",
       "    <tr>\n",
       "      <td>1</td>\n",
       "      <td>женат / замужем</td>\n",
       "      <td>0</td>\n",
       "    </tr>\n",
       "    <tr>\n",
       "      <td>2</td>\n",
       "      <td>женат / замужем</td>\n",
       "      <td>0</td>\n",
       "    </tr>\n",
       "    <tr>\n",
       "      <td>3</td>\n",
       "      <td>женат / замужем</td>\n",
       "      <td>0</td>\n",
       "    </tr>\n",
       "    <tr>\n",
       "      <td>4</td>\n",
       "      <td>гражданский брак</td>\n",
       "      <td>1</td>\n",
       "    </tr>\n",
       "    <tr>\n",
       "      <td>...</td>\n",
       "      <td>...</td>\n",
       "      <td>...</td>\n",
       "    </tr>\n",
       "    <tr>\n",
       "      <td>21449</td>\n",
       "      <td>гражданский брак</td>\n",
       "      <td>1</td>\n",
       "    </tr>\n",
       "    <tr>\n",
       "      <td>21450</td>\n",
       "      <td>женат / замужем</td>\n",
       "      <td>0</td>\n",
       "    </tr>\n",
       "    <tr>\n",
       "      <td>21451</td>\n",
       "      <td>гражданский брак</td>\n",
       "      <td>1</td>\n",
       "    </tr>\n",
       "    <tr>\n",
       "      <td>21452</td>\n",
       "      <td>женат / замужем</td>\n",
       "      <td>0</td>\n",
       "    </tr>\n",
       "    <tr>\n",
       "      <td>21453</td>\n",
       "      <td>женат / замужем</td>\n",
       "      <td>0</td>\n",
       "    </tr>\n",
       "  </tbody>\n",
       "</table>\n",
       "<p>21454 rows × 2 columns</p>\n",
       "</div>"
      ],
      "text/plain": [
       "          family_status  family_status_id\n",
       "0       женат / замужем                 0\n",
       "1       женат / замужем                 0\n",
       "2       женат / замужем                 0\n",
       "3       женат / замужем                 0\n",
       "4      гражданский брак                 1\n",
       "...                 ...               ...\n",
       "21449  гражданский брак                 1\n",
       "21450   женат / замужем                 0\n",
       "21451  гражданский брак                 1\n",
       "21452   женат / замужем                 0\n",
       "21453   женат / замужем                 0\n",
       "\n",
       "[21454 rows x 2 columns]"
      ]
     },
     "execution_count": 21,
     "metadata": {},
     "output_type": "execute_result"
    }
   ],
   "source": [
    "family"
   ]
  },
  {
   "cell_type": "code",
   "execution_count": 22,
   "id": "5b1356b5",
   "metadata": {},
   "outputs": [
    {
     "data": {
      "text/html": [
       "<div>\n",
       "<style scoped>\n",
       "    .dataframe tbody tr th:only-of-type {\n",
       "        vertical-align: middle;\n",
       "    }\n",
       "\n",
       "    .dataframe tbody tr th {\n",
       "        vertical-align: top;\n",
       "    }\n",
       "\n",
       "    .dataframe thead th {\n",
       "        text-align: right;\n",
       "    }\n",
       "</style>\n",
       "<table border=\"1\" class=\"dataframe\">\n",
       "  <thead>\n",
       "    <tr style=\"text-align: right;\">\n",
       "      <th></th>\n",
       "      <th>education</th>\n",
       "      <th>education_id</th>\n",
       "    </tr>\n",
       "  </thead>\n",
       "  <tbody>\n",
       "    <tr>\n",
       "      <td>0</td>\n",
       "      <td>высшее</td>\n",
       "      <td>0</td>\n",
       "    </tr>\n",
       "    <tr>\n",
       "      <td>1</td>\n",
       "      <td>среднее</td>\n",
       "      <td>1</td>\n",
       "    </tr>\n",
       "    <tr>\n",
       "      <td>2</td>\n",
       "      <td>среднее</td>\n",
       "      <td>1</td>\n",
       "    </tr>\n",
       "    <tr>\n",
       "      <td>3</td>\n",
       "      <td>среднее</td>\n",
       "      <td>1</td>\n",
       "    </tr>\n",
       "    <tr>\n",
       "      <td>4</td>\n",
       "      <td>среднее</td>\n",
       "      <td>1</td>\n",
       "    </tr>\n",
       "    <tr>\n",
       "      <td>...</td>\n",
       "      <td>...</td>\n",
       "      <td>...</td>\n",
       "    </tr>\n",
       "    <tr>\n",
       "      <td>21449</td>\n",
       "      <td>среднее</td>\n",
       "      <td>1</td>\n",
       "    </tr>\n",
       "    <tr>\n",
       "      <td>21450</td>\n",
       "      <td>среднее</td>\n",
       "      <td>1</td>\n",
       "    </tr>\n",
       "    <tr>\n",
       "      <td>21451</td>\n",
       "      <td>среднее</td>\n",
       "      <td>1</td>\n",
       "    </tr>\n",
       "    <tr>\n",
       "      <td>21452</td>\n",
       "      <td>среднее</td>\n",
       "      <td>1</td>\n",
       "    </tr>\n",
       "    <tr>\n",
       "      <td>21453</td>\n",
       "      <td>среднее</td>\n",
       "      <td>1</td>\n",
       "    </tr>\n",
       "  </tbody>\n",
       "</table>\n",
       "<p>21454 rows × 2 columns</p>\n",
       "</div>"
      ],
      "text/plain": [
       "      education  education_id\n",
       "0        высшее             0\n",
       "1       среднее             1\n",
       "2       среднее             1\n",
       "3       среднее             1\n",
       "4       среднее             1\n",
       "...         ...           ...\n",
       "21449   среднее             1\n",
       "21450   среднее             1\n",
       "21451   среднее             1\n",
       "21452   среднее             1\n",
       "21453   среднее             1\n",
       "\n",
       "[21454 rows x 2 columns]"
      ]
     },
     "execution_count": 22,
     "metadata": {},
     "output_type": "execute_result"
    }
   ],
   "source": [
    "education_t"
   ]
  },
  {
   "cell_type": "markdown",
   "id": "78ad0b66",
   "metadata": {},
   "source": [
    "### Шаг 2.6. Категоризация дохода."
   ]
  },
  {
   "cell_type": "markdown",
   "id": "524113f9",
   "metadata": {},
   "source": [
    "<div style=\"border:solid green 5px; padding: 20px\">\n",
    "    6. Создадим функцию которая определит категорию для каждого клиента в соответствии с диапазонами"
   ]
  },
  {
   "cell_type": "code",
   "execution_count": 23,
   "id": "f4eaaf44",
   "metadata": {},
   "outputs": [
    {
     "data": {
      "text/plain": [
       "['A', 'B', 'C', 'D', 'E']"
      ]
     },
     "execution_count": 23,
     "metadata": {},
     "output_type": "execute_result"
    }
   ],
   "source": [
    "# Здесь проводим категоризацию\n",
    "   # и возвращаем категорию в зависимости\n",
    "   # значения содержащегося в row\n",
    "#data['purpose_category']\n",
    "def categorize_income(row):\n",
    "    if 0 <= row <= 30000:\n",
    "        return 'E'\n",
    "    elif 30001 <= row <= 50000:\n",
    "        return 'D'\n",
    "    elif 50001 <= row <= 200000:\n",
    "        return 'C'\n",
    "    elif 200001 <= row <= 1000000:\n",
    "        return 'B'\n",
    "    elif row >= 1000001:\n",
    "        return 'A'\n",
    "    return 'uncategorize'\n",
    "data['total_income_category'] = data['total_income'].apply(categorize_income)\n",
    "sorted(data['total_income_category'].unique())"
   ]
  },
  {
   "cell_type": "markdown",
   "id": "0f1b923e",
   "metadata": {},
   "source": [
    "### Шаг 2.7. Категоризация целей кредита."
   ]
  },
  {
   "cell_type": "markdown",
   "id": "714b55fc",
   "metadata": {},
   "source": [
    "<div style=\"border:solid green 5px; padding: 20px\">\n",
    "    7. Создадим функцию categorize_purpose(row) которая на основании данных столбца purpose создаст новый столбец со стандартизированными категорями."
   ]
  },
  {
   "cell_type": "code",
   "execution_count": 24,
   "id": "c87207d6",
   "metadata": {},
   "outputs": [
    {
     "data": {
      "text/plain": [
       "['операции с автомобилем',\n",
       " 'операции с недвижимостью',\n",
       " 'получение образования',\n",
       " 'проведение свадьбы']"
      ]
     },
     "execution_count": 24,
     "metadata": {},
     "output_type": "execute_result"
    }
   ],
   "source": [
    "# Здесь проводим категоризацию\n",
    "   # и возвращаем категорию в зависимости\n",
    "   # значения содержащегося в row\n",
    "#data['purpose_category']\n",
    "def categorize_purpose(row):\n",
    "    if 'автомоб' in row:\n",
    "        return 'операции с автомобилем'\n",
    "    elif 'жил' in row or 'недвиж' in row:\n",
    "        return 'операции с недвижимостью'\n",
    "    elif 'образов' in row:\n",
    "        return 'получение образования'\n",
    "    elif 'свад' in row:\n",
    "        return 'проведение свадьбы'\n",
    "    return 'uncategorize'\n",
    "data['purpose_category'] = data['purpose'].apply(categorize_purpose)\n",
    "sorted(data['purpose_category'].unique())"
   ]
  },
  {
   "cell_type": "markdown",
   "id": "4a5bfe0a",
   "metadata": {},
   "source": [
    "### Ответы на вопросы."
   ]
  },
  {
   "cell_type": "markdown",
   "id": "da29454e",
   "metadata": {},
   "source": [
    "##### Вопрос 1: Есть ли зависимость между количеством детей и возвратом кредита в срок?"
   ]
  },
  {
   "cell_type": "code",
   "execution_count": 25,
   "id": "2ae728aa",
   "metadata": {},
   "outputs": [
    {
     "data": {
      "text/html": [
       "<div>\n",
       "<style scoped>\n",
       "    .dataframe tbody tr th:only-of-type {\n",
       "        vertical-align: middle;\n",
       "    }\n",
       "\n",
       "    .dataframe tbody tr th {\n",
       "        vertical-align: top;\n",
       "    }\n",
       "\n",
       "    .dataframe thead tr th {\n",
       "        text-align: left;\n",
       "    }\n",
       "</style>\n",
       "<table border=\"1\" class=\"dataframe\">\n",
       "  <thead>\n",
       "    <tr>\n",
       "      <th></th>\n",
       "      <th>children</th>\n",
       "      <th>mean</th>\n",
       "      <th>count</th>\n",
       "    </tr>\n",
       "    <tr>\n",
       "      <th></th>\n",
       "      <th></th>\n",
       "      <th>debt</th>\n",
       "      <th>debt</th>\n",
       "    </tr>\n",
       "  </thead>\n",
       "  <tbody>\n",
       "    <tr>\n",
       "      <td>0</td>\n",
       "      <td>0</td>\n",
       "      <td>0.075258</td>\n",
       "      <td>14138</td>\n",
       "    </tr>\n",
       "    <tr>\n",
       "      <td>1</td>\n",
       "      <td>1</td>\n",
       "      <td>0.092346</td>\n",
       "      <td>4808</td>\n",
       "    </tr>\n",
       "    <tr>\n",
       "      <td>2</td>\n",
       "      <td>2</td>\n",
       "      <td>0.094542</td>\n",
       "      <td>2052</td>\n",
       "    </tr>\n",
       "    <tr>\n",
       "      <td>3</td>\n",
       "      <td>3</td>\n",
       "      <td>0.081818</td>\n",
       "      <td>330</td>\n",
       "    </tr>\n",
       "    <tr>\n",
       "      <td>4</td>\n",
       "      <td>4</td>\n",
       "      <td>0.097561</td>\n",
       "      <td>41</td>\n",
       "    </tr>\n",
       "    <tr>\n",
       "      <td>5</td>\n",
       "      <td>5</td>\n",
       "      <td>0.000000</td>\n",
       "      <td>9</td>\n",
       "    </tr>\n",
       "    <tr>\n",
       "      <td>6</td>\n",
       "      <td>20</td>\n",
       "      <td>0.105263</td>\n",
       "      <td>76</td>\n",
       "    </tr>\n",
       "    <tr>\n",
       "      <td>7</td>\n",
       "      <td>All</td>\n",
       "      <td>0.081150</td>\n",
       "      <td>21454</td>\n",
       "    </tr>\n",
       "  </tbody>\n",
       "</table>\n",
       "</div>"
      ],
      "text/plain": [
       "  children      mean  count\n",
       "                debt   debt\n",
       "0        0  0.075258  14138\n",
       "1        1  0.092346   4808\n",
       "2        2  0.094542   2052\n",
       "3        3  0.081818    330\n",
       "4        4  0.097561     41\n",
       "5        5  0.000000      9\n",
       "6       20  0.105263     76\n",
       "7      All  0.081150  21454"
      ]
     },
     "execution_count": 25,
     "metadata": {},
     "output_type": "execute_result"
    }
   ],
   "source": [
    "data.pivot_table(index='children',values='debt',aggfunc=['mean','count'],margins=True).reset_index()"
   ]
  },
  {
   "cell_type": "markdown",
   "id": "5c43ed29",
   "metadata": {},
   "source": [
    "##### Вывод 1: По сводной таблице мы можем увидеть, что чем больше детей тем сложнее клиентам возвращать кредиты. Существенее всего влияет появление первого ребенка ( на 2% меньше погашений кредитов). Данные по 5 детям не показательны, всего 9 наблюдений."
   ]
  },
  {
   "cell_type": "markdown",
   "id": "5f1f5078",
   "metadata": {},
   "source": [
    "##### Вопрос 2: Есть ли зависимость между семейным положением и возвратом кредита в срок?"
   ]
  },
  {
   "cell_type": "code",
   "execution_count": 26,
   "id": "bc18c76b",
   "metadata": {},
   "outputs": [
    {
     "data": {
      "text/html": [
       "<div>\n",
       "<style scoped>\n",
       "    .dataframe tbody tr th:only-of-type {\n",
       "        vertical-align: middle;\n",
       "    }\n",
       "\n",
       "    .dataframe tbody tr th {\n",
       "        vertical-align: top;\n",
       "    }\n",
       "\n",
       "    .dataframe thead tr th {\n",
       "        text-align: left;\n",
       "    }\n",
       "</style>\n",
       "<table border=\"1\" class=\"dataframe\">\n",
       "  <thead>\n",
       "    <tr>\n",
       "      <th></th>\n",
       "      <th>family_status</th>\n",
       "      <th>mean</th>\n",
       "      <th>count</th>\n",
       "    </tr>\n",
       "    <tr>\n",
       "      <th></th>\n",
       "      <th></th>\n",
       "      <th>debt</th>\n",
       "      <th>debt</th>\n",
       "    </tr>\n",
       "  </thead>\n",
       "  <tbody>\n",
       "    <tr>\n",
       "      <td>0</td>\n",
       "      <td>в разводе</td>\n",
       "      <td>0.071130</td>\n",
       "      <td>1195</td>\n",
       "    </tr>\n",
       "    <tr>\n",
       "      <td>1</td>\n",
       "      <td>вдовец / вдова</td>\n",
       "      <td>0.065693</td>\n",
       "      <td>959</td>\n",
       "    </tr>\n",
       "    <tr>\n",
       "      <td>2</td>\n",
       "      <td>гражданский брак</td>\n",
       "      <td>0.093471</td>\n",
       "      <td>4151</td>\n",
       "    </tr>\n",
       "    <tr>\n",
       "      <td>3</td>\n",
       "      <td>женат / замужем</td>\n",
       "      <td>0.075452</td>\n",
       "      <td>12339</td>\n",
       "    </tr>\n",
       "    <tr>\n",
       "      <td>4</td>\n",
       "      <td>не женат / не замужем</td>\n",
       "      <td>0.097509</td>\n",
       "      <td>2810</td>\n",
       "    </tr>\n",
       "    <tr>\n",
       "      <td>5</td>\n",
       "      <td>All</td>\n",
       "      <td>0.081150</td>\n",
       "      <td>21454</td>\n",
       "    </tr>\n",
       "  </tbody>\n",
       "</table>\n",
       "</div>"
      ],
      "text/plain": [
       "           family_status      mean  count\n",
       "                              debt   debt\n",
       "0              в разводе  0.071130   1195\n",
       "1         вдовец / вдова  0.065693    959\n",
       "2       гражданский брак  0.093471   4151\n",
       "3        женат / замужем  0.075452  12339\n",
       "4  не женат / не замужем  0.097509   2810\n",
       "5                    All  0.081150  21454"
      ]
     },
     "execution_count": 26,
     "metadata": {},
     "output_type": "execute_result"
    }
   ],
   "source": [
    "data.pivot_table(index='family_status',values='debt',aggfunc=['mean','count'],margins=True).reset_index()"
   ]
  },
  {
   "cell_type": "markdown",
   "id": "39cf0cdf",
   "metadata": {},
   "source": [
    "##### Вывод 2: Лучше всего возвращают кредиты клиенты которые состоят или состояли в официальном браке (93%-94% возвратов). Вероятно, эти люди более зрелые и ответственные. Клиенты которые не состоят в официальных отношениях, токой ответственности не имеют(91% возвратов) ."
   ]
  },
  {
   "cell_type": "markdown",
   "id": "829bc882",
   "metadata": {},
   "source": [
    "##### Вопрос 3: Есть ли зависимость между уровнем дохода и возвратом кредита в срок?"
   ]
  },
  {
   "cell_type": "code",
   "execution_count": 27,
   "id": "6831705e",
   "metadata": {},
   "outputs": [
    {
     "data": {
      "text/html": [
       "<div>\n",
       "<style scoped>\n",
       "    .dataframe tbody tr th:only-of-type {\n",
       "        vertical-align: middle;\n",
       "    }\n",
       "\n",
       "    .dataframe tbody tr th {\n",
       "        vertical-align: top;\n",
       "    }\n",
       "\n",
       "    .dataframe thead tr th {\n",
       "        text-align: left;\n",
       "    }\n",
       "</style>\n",
       "<table border=\"1\" class=\"dataframe\">\n",
       "  <thead>\n",
       "    <tr>\n",
       "      <th></th>\n",
       "      <th>total_income_category</th>\n",
       "      <th>mean</th>\n",
       "      <th>count</th>\n",
       "    </tr>\n",
       "    <tr>\n",
       "      <th></th>\n",
       "      <th></th>\n",
       "      <th>debt</th>\n",
       "      <th>debt</th>\n",
       "    </tr>\n",
       "  </thead>\n",
       "  <tbody>\n",
       "    <tr>\n",
       "      <td>0</td>\n",
       "      <td>A</td>\n",
       "      <td>0.080000</td>\n",
       "      <td>25</td>\n",
       "    </tr>\n",
       "    <tr>\n",
       "      <td>1</td>\n",
       "      <td>B</td>\n",
       "      <td>0.070621</td>\n",
       "      <td>5041</td>\n",
       "    </tr>\n",
       "    <tr>\n",
       "      <td>2</td>\n",
       "      <td>C</td>\n",
       "      <td>0.084915</td>\n",
       "      <td>16016</td>\n",
       "    </tr>\n",
       "    <tr>\n",
       "      <td>3</td>\n",
       "      <td>D</td>\n",
       "      <td>0.060000</td>\n",
       "      <td>350</td>\n",
       "    </tr>\n",
       "    <tr>\n",
       "      <td>4</td>\n",
       "      <td>E</td>\n",
       "      <td>0.090909</td>\n",
       "      <td>22</td>\n",
       "    </tr>\n",
       "    <tr>\n",
       "      <td>5</td>\n",
       "      <td>All</td>\n",
       "      <td>0.081150</td>\n",
       "      <td>21454</td>\n",
       "    </tr>\n",
       "  </tbody>\n",
       "</table>\n",
       "</div>"
      ],
      "text/plain": [
       "  total_income_category      mean  count\n",
       "                             debt   debt\n",
       "0                     A  0.080000     25\n",
       "1                     B  0.070621   5041\n",
       "2                     C  0.084915  16016\n",
       "3                     D  0.060000    350\n",
       "4                     E  0.090909     22\n",
       "5                   All  0.081150  21454"
      ]
     },
     "execution_count": 27,
     "metadata": {},
     "output_type": "execute_result"
    }
   ],
   "source": [
    "data.pivot_table(index='total_income_category',values='debt',aggfunc=['mean','count'],margins=True).reset_index()"
   ]
  },
  {
   "cell_type": "markdown",
   "id": "1b676652",
   "metadata": {},
   "source": [
    "##### Вывод 3: Зависимости между доходом и возврата кредита нет. Это связано с тем, что клиенты имеющие больший доход берут большую сумму кредитов. Из-за этого все находятся в равных условиях по погашению кредитов в срок (91-94% погашений)."
   ]
  },
  {
   "cell_type": "markdown",
   "id": "77c23f5c",
   "metadata": {},
   "source": [
    "##### Вопрос 4: Как разные цели кредита влияют на его возврат в срок?"
   ]
  },
  {
   "cell_type": "code",
   "execution_count": 28,
   "id": "2c0e1991",
   "metadata": {},
   "outputs": [
    {
     "data": {
      "text/html": [
       "<div>\n",
       "<style scoped>\n",
       "    .dataframe tbody tr th:only-of-type {\n",
       "        vertical-align: middle;\n",
       "    }\n",
       "\n",
       "    .dataframe tbody tr th {\n",
       "        vertical-align: top;\n",
       "    }\n",
       "\n",
       "    .dataframe thead tr th {\n",
       "        text-align: left;\n",
       "    }\n",
       "</style>\n",
       "<table border=\"1\" class=\"dataframe\">\n",
       "  <thead>\n",
       "    <tr>\n",
       "      <th></th>\n",
       "      <th>purpose_category</th>\n",
       "      <th>mean</th>\n",
       "      <th>count</th>\n",
       "    </tr>\n",
       "    <tr>\n",
       "      <th></th>\n",
       "      <th></th>\n",
       "      <th>debt</th>\n",
       "      <th>debt</th>\n",
       "    </tr>\n",
       "  </thead>\n",
       "  <tbody>\n",
       "    <tr>\n",
       "      <td>0</td>\n",
       "      <td>операции с автомобилем</td>\n",
       "      <td>0.093590</td>\n",
       "      <td>4306</td>\n",
       "    </tr>\n",
       "    <tr>\n",
       "      <td>1</td>\n",
       "      <td>операции с недвижимостью</td>\n",
       "      <td>0.072334</td>\n",
       "      <td>10811</td>\n",
       "    </tr>\n",
       "    <tr>\n",
       "      <td>2</td>\n",
       "      <td>получение образования</td>\n",
       "      <td>0.092200</td>\n",
       "      <td>4013</td>\n",
       "    </tr>\n",
       "    <tr>\n",
       "      <td>3</td>\n",
       "      <td>проведение свадьбы</td>\n",
       "      <td>0.080034</td>\n",
       "      <td>2324</td>\n",
       "    </tr>\n",
       "    <tr>\n",
       "      <td>4</td>\n",
       "      <td>All</td>\n",
       "      <td>0.081150</td>\n",
       "      <td>21454</td>\n",
       "    </tr>\n",
       "  </tbody>\n",
       "</table>\n",
       "</div>"
      ],
      "text/plain": [
       "           purpose_category      mean  count\n",
       "                                 debt   debt\n",
       "0    операции с автомобилем  0.093590   4306\n",
       "1  операции с недвижимостью  0.072334  10811\n",
       "2     получение образования  0.092200   4013\n",
       "3        проведение свадьбы  0.080034   2324\n",
       "4                       All  0.081150  21454"
      ]
     },
     "execution_count": 28,
     "metadata": {},
     "output_type": "execute_result"
    }
   ],
   "source": [
    "data.pivot_table(index='purpose_category',values='debt',aggfunc=['mean','count'],margins=True).reset_index()"
   ]
  },
  {
   "cell_type": "markdown",
   "id": "e17cc7db",
   "metadata": {},
   "source": [
    "##### Вывод 4: Наиболее благоприятной целью для выдачи кредита является \"операции с недвижимостью\" (93% возвратов), хуже всего обстоят дела с операциями с автомобилем и получением образования (91% возвратов)"
   ]
  },
  {
   "cell_type": "markdown",
   "id": "9a00b5ac",
   "metadata": {},
   "source": [
    "## Общий вывод:"
   ]
  },
  {
   "cell_type": "markdown",
   "id": "333ba3eb",
   "metadata": {},
   "source": [
    "**В рамках иследования, мы выяснили, что имеется зависимость между семейным положением и количеством клиента на факт погашения кредита в срок. Самыми благоприятными клиентам являются клиенты с наименьшим количеством детей и клиенты которые состоят или состояли в официальном браке. Цель кредита также имеет значение. Уровень дохода на возврат кредита в срок не влияет.**"
   ]
  }
 ],
 "metadata": {
  "ExecuteTimeLog": [
   {
    "duration": 870,
    "start_time": "2022-02-04T20:09:10.184Z"
   },
   {
    "duration": 81,
    "start_time": "2022-02-04T20:09:31.882Z"
   },
   {
    "duration": 75,
    "start_time": "2022-02-04T20:10:04.404Z"
   },
   {
    "duration": 79,
    "start_time": "2022-02-04T20:10:29.684Z"
   },
   {
    "duration": 14,
    "start_time": "2022-02-04T20:11:55.149Z"
   },
   {
    "duration": 120,
    "start_time": "2022-02-04T20:13:30.035Z"
   },
   {
    "duration": 81,
    "start_time": "2022-02-04T20:24:58.549Z"
   },
   {
    "duration": 81,
    "start_time": "2022-02-04T20:25:36.380Z"
   },
   {
    "duration": 831,
    "start_time": "2022-02-05T14:23:02.017Z"
   },
   {
    "duration": 76,
    "start_time": "2022-02-05T14:31:19.141Z"
   },
   {
    "duration": 77,
    "start_time": "2022-02-05T14:31:28.122Z"
   },
   {
    "duration": 91,
    "start_time": "2022-02-05T14:37:40.639Z"
   },
   {
    "duration": 88,
    "start_time": "2022-02-05T14:37:53.917Z"
   },
   {
    "duration": 98,
    "start_time": "2022-02-05T14:39:33.774Z"
   },
   {
    "duration": 15,
    "start_time": "2022-02-05T14:48:10.686Z"
   },
   {
    "duration": 14,
    "start_time": "2022-02-05T14:49:41.336Z"
   },
   {
    "duration": 82,
    "start_time": "2022-02-05T14:49:57.938Z"
   },
   {
    "duration": 16,
    "start_time": "2022-02-05T14:50:25.962Z"
   },
   {
    "duration": 73,
    "start_time": "2022-02-05T14:52:35.066Z"
   },
   {
    "duration": 346,
    "start_time": "2022-02-05T14:56:51.288Z"
   },
   {
    "duration": 12,
    "start_time": "2022-02-05T14:56:56.972Z"
   },
   {
    "duration": 15,
    "start_time": "2022-02-05T14:59:26.506Z"
   },
   {
    "duration": 13,
    "start_time": "2022-02-05T14:59:37.118Z"
   },
   {
    "duration": 21,
    "start_time": "2022-02-05T15:09:50.612Z"
   },
   {
    "duration": 19,
    "start_time": "2022-02-05T15:10:14.150Z"
   },
   {
    "duration": 7,
    "start_time": "2022-02-05T15:23:40.483Z"
   },
   {
    "duration": 7,
    "start_time": "2022-02-05T15:23:59.887Z"
   },
   {
    "duration": 38,
    "start_time": "2022-02-05T15:29:08.512Z"
   },
   {
    "duration": 35,
    "start_time": "2022-02-05T15:29:27.617Z"
   },
   {
    "duration": 7,
    "start_time": "2022-02-05T15:49:02.432Z"
   },
   {
    "duration": 8,
    "start_time": "2022-02-05T15:50:38.802Z"
   },
   {
    "duration": 62,
    "start_time": "2022-02-05T15:51:02.034Z"
   },
   {
    "duration": 283,
    "start_time": "2022-02-05T15:52:04.007Z"
   },
   {
    "duration": 287,
    "start_time": "2022-02-05T15:52:16.707Z"
   },
   {
    "duration": 272,
    "start_time": "2022-02-05T15:53:29.668Z"
   },
   {
    "duration": 275,
    "start_time": "2022-02-05T15:54:13.344Z"
   },
   {
    "duration": 275,
    "start_time": "2022-02-05T15:54:59.364Z"
   },
   {
    "duration": 35,
    "start_time": "2022-02-05T15:55:06.512Z"
   },
   {
    "duration": 7,
    "start_time": "2022-02-05T15:55:29.017Z"
   },
   {
    "duration": 7,
    "start_time": "2022-02-05T15:55:45.415Z"
   },
   {
    "duration": 7,
    "start_time": "2022-02-05T15:55:52.869Z"
   },
   {
    "duration": 259,
    "start_time": "2022-02-05T15:56:39.158Z"
   },
   {
    "duration": 296,
    "start_time": "2022-02-05T15:56:56.953Z"
   },
   {
    "duration": 267,
    "start_time": "2022-02-05T15:57:03.758Z"
   },
   {
    "duration": 289,
    "start_time": "2022-02-05T15:57:53.940Z"
   },
   {
    "duration": 38,
    "start_time": "2022-02-05T15:58:06.088Z"
   },
   {
    "duration": 6,
    "start_time": "2022-02-05T16:23:05.273Z"
   },
   {
    "duration": 261,
    "start_time": "2022-02-05T16:23:49.090Z"
   },
   {
    "duration": 39,
    "start_time": "2022-02-05T16:23:53.481Z"
   },
   {
    "duration": 44,
    "start_time": "2022-02-05T16:25:01.198Z"
   },
   {
    "duration": 290,
    "start_time": "2022-02-05T16:25:34.551Z"
   },
   {
    "duration": 6,
    "start_time": "2022-02-05T16:26:07.135Z"
   },
   {
    "duration": 9,
    "start_time": "2022-02-05T16:26:29.036Z"
   },
   {
    "duration": 7,
    "start_time": "2022-02-05T16:28:22.502Z"
   },
   {
    "duration": 6,
    "start_time": "2022-02-05T16:29:36.653Z"
   },
   {
    "duration": 7,
    "start_time": "2022-02-05T16:30:34.647Z"
   },
   {
    "duration": 7,
    "start_time": "2022-02-05T16:31:06.151Z"
   },
   {
    "duration": 7,
    "start_time": "2022-02-05T16:31:29.086Z"
   },
   {
    "duration": 8,
    "start_time": "2022-02-05T16:36:01.258Z"
   },
   {
    "duration": 6,
    "start_time": "2022-02-05T16:36:35.825Z"
   },
   {
    "duration": 39,
    "start_time": "2022-02-05T16:37:06.401Z"
   },
   {
    "duration": 8,
    "start_time": "2022-02-05T16:39:14.653Z"
   },
   {
    "duration": 39,
    "start_time": "2022-02-05T16:45:52.977Z"
   },
   {
    "duration": 3853,
    "start_time": "2022-02-05T16:58:02.735Z"
   },
   {
    "duration": 3319,
    "start_time": "2022-02-05T16:58:06.703Z"
   },
   {
    "duration": 4503,
    "start_time": "2022-02-05T16:59:06.673Z"
   },
   {
    "duration": 3418,
    "start_time": "2022-02-05T17:01:41.700Z"
   },
   {
    "duration": 3227,
    "start_time": "2022-02-05T17:02:04.202Z"
   },
   {
    "duration": 3366,
    "start_time": "2022-02-05T17:02:50.609Z"
   },
   {
    "duration": 9,
    "start_time": "2022-02-05T17:03:06.917Z"
   },
   {
    "duration": 261,
    "start_time": "2022-02-05T17:03:27.121Z"
   },
   {
    "duration": 907,
    "start_time": "2022-02-05T17:03:41.693Z"
   },
   {
    "duration": 15,
    "start_time": "2022-02-05T17:03:42.603Z"
   },
   {
    "duration": 12,
    "start_time": "2022-02-05T17:03:42.621Z"
   },
   {
    "duration": 45,
    "start_time": "2022-02-05T17:03:42.636Z"
   },
   {
    "duration": 21,
    "start_time": "2022-02-05T17:03:42.683Z"
   },
   {
    "duration": 63,
    "start_time": "2022-02-05T17:03:42.706Z"
   },
   {
    "duration": 43,
    "start_time": "2022-02-05T17:03:42.772Z"
   },
   {
    "duration": 54,
    "start_time": "2022-02-05T17:03:42.817Z"
   },
   {
    "duration": 8,
    "start_time": "2022-02-05T17:03:59.514Z"
   },
   {
    "duration": 21,
    "start_time": "2022-02-05T17:07:30.631Z"
   },
   {
    "duration": 13,
    "start_time": "2022-02-05T17:08:46.062Z"
   },
   {
    "duration": 381,
    "start_time": "2022-02-05T17:09:10.239Z"
   },
   {
    "duration": 8,
    "start_time": "2022-02-05T17:10:52.491Z"
   },
   {
    "duration": 8,
    "start_time": "2022-02-05T17:11:06.408Z"
   },
   {
    "duration": 11,
    "start_time": "2022-02-05T17:11:12.091Z"
   },
   {
    "duration": 6,
    "start_time": "2022-02-05T17:11:42.460Z"
   },
   {
    "duration": 3,
    "start_time": "2022-02-05T17:12:45.676Z"
   },
   {
    "duration": 23,
    "start_time": "2022-02-05T17:14:14.993Z"
   },
   {
    "duration": 46,
    "start_time": "2022-02-05T17:23:24.699Z"
   },
   {
    "duration": 46,
    "start_time": "2022-02-05T17:36:57.875Z"
   },
   {
    "duration": 43,
    "start_time": "2022-02-05T17:37:36.760Z"
   },
   {
    "duration": 89,
    "start_time": "2022-02-05T17:38:51.062Z"
   },
   {
    "duration": 83,
    "start_time": "2022-02-05T17:38:58.413Z"
   },
   {
    "duration": 85,
    "start_time": "2022-02-05T17:40:08.189Z"
   },
   {
    "duration": 83,
    "start_time": "2022-02-05T17:41:08.620Z"
   },
   {
    "duration": 98,
    "start_time": "2022-02-05T17:41:54.233Z"
   },
   {
    "duration": 44,
    "start_time": "2022-02-05T17:42:42.149Z"
   },
   {
    "duration": 44,
    "start_time": "2022-02-05T17:43:17.774Z"
   },
   {
    "duration": 17,
    "start_time": "2022-02-05T17:54:09.954Z"
   },
   {
    "duration": 3674,
    "start_time": "2022-02-05T17:56:14.485Z"
   },
   {
    "duration": 9,
    "start_time": "2022-02-05T18:22:27.524Z"
   },
   {
    "duration": 3,
    "start_time": "2022-02-05T18:25:08.881Z"
   },
   {
    "duration": 247,
    "start_time": "2022-02-05T18:31:45.778Z"
   },
   {
    "duration": 16,
    "start_time": "2022-02-05T18:32:14.272Z"
   },
   {
    "duration": 13,
    "start_time": "2022-02-05T18:32:44.552Z"
   },
   {
    "duration": 252,
    "start_time": "2022-02-05T18:36:39.506Z"
   },
   {
    "duration": 14,
    "start_time": "2022-02-05T18:37:15.266Z"
   },
   {
    "duration": 24,
    "start_time": "2022-02-05T18:37:50.640Z"
   },
   {
    "duration": 23,
    "start_time": "2022-02-05T18:38:23.547Z"
   },
   {
    "duration": 22,
    "start_time": "2022-02-05T18:38:54.662Z"
   },
   {
    "duration": 285,
    "start_time": "2022-02-05T18:39:28.420Z"
   },
   {
    "duration": 282,
    "start_time": "2022-02-05T18:39:48.947Z"
   },
   {
    "duration": 22,
    "start_time": "2022-02-05T18:40:23.065Z"
   },
   {
    "duration": 17,
    "start_time": "2022-02-05T18:40:32.217Z"
   },
   {
    "duration": 24,
    "start_time": "2022-02-05T18:41:29.492Z"
   },
   {
    "duration": 259,
    "start_time": "2022-02-05T18:42:24.233Z"
   },
   {
    "duration": 36,
    "start_time": "2022-02-05T18:42:39.693Z"
   },
   {
    "duration": 45,
    "start_time": "2022-02-05T18:42:57.071Z"
   },
   {
    "duration": 41,
    "start_time": "2022-02-05T18:43:19.496Z"
   },
   {
    "duration": 35,
    "start_time": "2022-02-05T18:43:27.218Z"
   },
   {
    "duration": 39,
    "start_time": "2022-02-05T18:44:38.343Z"
   },
   {
    "duration": 50,
    "start_time": "2022-02-05T18:47:48.677Z"
   },
   {
    "duration": 35,
    "start_time": "2022-02-05T18:48:03.899Z"
   },
   {
    "duration": 33,
    "start_time": "2022-02-05T18:48:11.059Z"
   },
   {
    "duration": 45,
    "start_time": "2022-02-05T18:53:41.930Z"
   },
   {
    "duration": 41,
    "start_time": "2022-02-05T18:54:12.081Z"
   },
   {
    "duration": 32,
    "start_time": "2022-02-05T18:54:31.286Z"
   },
   {
    "duration": 877,
    "start_time": "2022-02-05T18:54:45.148Z"
   },
   {
    "duration": 20,
    "start_time": "2022-02-05T18:54:46.029Z"
   },
   {
    "duration": 24,
    "start_time": "2022-02-05T18:54:46.051Z"
   },
   {
    "duration": 36,
    "start_time": "2022-02-05T18:54:46.078Z"
   },
   {
    "duration": 21,
    "start_time": "2022-02-05T18:54:46.116Z"
   },
   {
    "duration": 60,
    "start_time": "2022-02-05T18:54:46.140Z"
   },
   {
    "duration": 40,
    "start_time": "2022-02-05T18:54:46.202Z"
   },
   {
    "duration": 25,
    "start_time": "2022-02-05T18:54:46.245Z"
   },
   {
    "duration": 5,
    "start_time": "2022-02-05T18:54:46.273Z"
   },
   {
    "duration": 34,
    "start_time": "2022-02-05T18:54:46.281Z"
   },
   {
    "duration": 53,
    "start_time": "2022-02-05T18:54:46.318Z"
   },
   {
    "duration": 46,
    "start_time": "2022-02-05T19:03:16.808Z"
   },
   {
    "duration": 1086,
    "start_time": "2022-02-05T19:03:44.850Z"
   },
   {
    "duration": 46,
    "start_time": "2022-02-05T19:03:53.004Z"
   },
   {
    "duration": 270,
    "start_time": "2022-02-05T19:05:51.609Z"
   },
   {
    "duration": 46,
    "start_time": "2022-02-05T19:07:33.853Z"
   },
   {
    "duration": 5,
    "start_time": "2022-02-05T19:10:01.134Z"
   },
   {
    "duration": 31,
    "start_time": "2022-02-05T19:10:06.230Z"
   },
   {
    "duration": 46,
    "start_time": "2022-02-05T19:10:35.057Z"
   },
   {
    "duration": 860,
    "start_time": "2022-02-05T19:10:50.048Z"
   },
   {
    "duration": 18,
    "start_time": "2022-02-05T19:10:50.911Z"
   },
   {
    "duration": 40,
    "start_time": "2022-02-05T19:10:50.933Z"
   },
   {
    "duration": 23,
    "start_time": "2022-02-05T19:10:50.976Z"
   },
   {
    "duration": 23,
    "start_time": "2022-02-05T19:10:51.002Z"
   },
   {
    "duration": 74,
    "start_time": "2022-02-05T19:10:51.027Z"
   },
   {
    "duration": 39,
    "start_time": "2022-02-05T19:10:51.103Z"
   },
   {
    "duration": 7,
    "start_time": "2022-02-05T19:10:51.144Z"
   },
   {
    "duration": 6,
    "start_time": "2022-02-05T19:10:51.171Z"
   },
   {
    "duration": 24,
    "start_time": "2022-02-05T19:10:51.180Z"
   },
   {
    "duration": 73,
    "start_time": "2022-02-05T19:10:51.207Z"
   },
   {
    "duration": 47,
    "start_time": "2022-02-05T19:10:51.283Z"
   },
   {
    "duration": 58,
    "start_time": "2022-02-05T19:10:51.333Z"
   },
   {
    "duration": 17,
    "start_time": "2022-02-05T19:13:07.280Z"
   },
   {
    "duration": 8,
    "start_time": "2022-02-05T19:13:47.193Z"
   },
   {
    "duration": 25,
    "start_time": "2022-02-05T19:15:12.353Z"
   },
   {
    "duration": 3,
    "start_time": "2022-02-05T19:16:44.580Z"
   },
   {
    "duration": 16,
    "start_time": "2022-02-05T19:16:59.614Z"
   },
   {
    "duration": 30,
    "start_time": "2022-02-05T19:17:11.629Z"
   },
   {
    "duration": 15,
    "start_time": "2022-02-05T19:17:21.553Z"
   },
   {
    "duration": 349,
    "start_time": "2022-02-05T19:18:12.545Z"
   },
   {
    "duration": 279,
    "start_time": "2022-02-05T19:18:38.846Z"
   },
   {
    "duration": 7,
    "start_time": "2022-02-05T19:18:43.184Z"
   },
   {
    "duration": 6,
    "start_time": "2022-02-05T19:19:09.617Z"
   },
   {
    "duration": 25,
    "start_time": "2022-02-05T19:20:49.423Z"
   },
   {
    "duration": 27,
    "start_time": "2022-02-05T19:20:57.459Z"
   },
   {
    "duration": 50,
    "start_time": "2022-02-05T19:21:38.355Z"
   },
   {
    "duration": 6701,
    "start_time": "2022-02-05T19:23:09.891Z"
   },
   {
    "duration": 52,
    "start_time": "2022-02-05T19:25:14.762Z"
   },
   {
    "duration": 23,
    "start_time": "2022-02-05T19:26:08.075Z"
   },
   {
    "duration": 23,
    "start_time": "2022-02-05T19:26:17.497Z"
   },
   {
    "duration": 53,
    "start_time": "2022-02-05T19:29:11.996Z"
   },
   {
    "duration": 24,
    "start_time": "2022-02-05T19:30:01.462Z"
   },
   {
    "duration": 23,
    "start_time": "2022-02-05T19:30:10.920Z"
   },
   {
    "duration": 52,
    "start_time": "2022-02-05T19:30:11.816Z"
   },
   {
    "duration": 24,
    "start_time": "2022-02-05T19:30:12.655Z"
   },
   {
    "duration": 806,
    "start_time": "2022-02-05T19:30:21.410Z"
   },
   {
    "duration": 15,
    "start_time": "2022-02-05T19:30:22.219Z"
   },
   {
    "duration": 12,
    "start_time": "2022-02-05T19:30:22.237Z"
   },
   {
    "duration": 21,
    "start_time": "2022-02-05T19:30:22.271Z"
   },
   {
    "duration": 21,
    "start_time": "2022-02-05T19:30:22.294Z"
   },
   {
    "duration": 77,
    "start_time": "2022-02-05T19:30:22.317Z"
   },
   {
    "duration": 7,
    "start_time": "2022-02-05T19:30:22.396Z"
   },
   {
    "duration": 8,
    "start_time": "2022-02-05T19:30:22.407Z"
   },
   {
    "duration": 6,
    "start_time": "2022-02-05T19:30:22.417Z"
   },
   {
    "duration": 59,
    "start_time": "2022-02-05T19:30:22.425Z"
   },
   {
    "duration": 37,
    "start_time": "2022-02-05T19:30:22.486Z"
   },
   {
    "duration": 70,
    "start_time": "2022-02-05T19:30:22.526Z"
   },
   {
    "duration": 9,
    "start_time": "2022-02-05T19:30:22.599Z"
   },
   {
    "duration": 25,
    "start_time": "2022-02-05T19:30:22.610Z"
   },
   {
    "duration": 34,
    "start_time": "2022-02-05T19:30:22.670Z"
   },
   {
    "duration": 25,
    "start_time": "2022-02-05T19:30:22.706Z"
   },
   {
    "duration": 46,
    "start_time": "2022-02-05T19:30:22.734Z"
   },
   {
    "duration": 50,
    "start_time": "2022-02-05T19:30:22.782Z"
   },
   {
    "duration": 43,
    "start_time": "2022-02-05T19:30:22.835Z"
   },
   {
    "duration": 26,
    "start_time": "2022-02-05T19:30:51.164Z"
   },
   {
    "duration": 23,
    "start_time": "2022-02-05T19:30:54.972Z"
   },
   {
    "duration": 910,
    "start_time": "2022-02-05T20:04:54.860Z"
   },
   {
    "duration": 15,
    "start_time": "2022-02-05T20:04:55.773Z"
   },
   {
    "duration": 13,
    "start_time": "2022-02-05T20:04:55.791Z"
   },
   {
    "duration": 19,
    "start_time": "2022-02-05T20:04:55.807Z"
   },
   {
    "duration": 57,
    "start_time": "2022-02-05T20:04:55.828Z"
   },
   {
    "duration": 41,
    "start_time": "2022-02-05T20:04:55.888Z"
   },
   {
    "duration": 7,
    "start_time": "2022-02-05T20:04:55.932Z"
   },
   {
    "duration": 34,
    "start_time": "2022-02-05T20:04:55.941Z"
   },
   {
    "duration": 7,
    "start_time": "2022-02-05T20:04:55.979Z"
   },
   {
    "duration": 28,
    "start_time": "2022-02-05T20:04:55.989Z"
   },
   {
    "duration": 60,
    "start_time": "2022-02-05T20:04:56.019Z"
   },
   {
    "duration": 42,
    "start_time": "2022-02-05T20:04:56.081Z"
   },
   {
    "duration": 6,
    "start_time": "2022-02-05T20:04:56.126Z"
   },
   {
    "duration": 55,
    "start_time": "2022-02-05T20:04:56.134Z"
   },
   {
    "duration": 31,
    "start_time": "2022-02-05T20:04:56.192Z"
   },
   {
    "duration": 43,
    "start_time": "2022-02-05T20:04:56.226Z"
   },
   {
    "duration": 25,
    "start_time": "2022-02-05T20:04:56.272Z"
   },
   {
    "duration": 29,
    "start_time": "2022-02-05T20:04:56.300Z"
   },
   {
    "duration": 56,
    "start_time": "2022-02-05T20:04:56.332Z"
   },
   {
    "duration": 833,
    "start_time": "2022-02-05T20:28:00.029Z"
   },
   {
    "duration": 16,
    "start_time": "2022-02-05T20:28:00.865Z"
   },
   {
    "duration": 14,
    "start_time": "2022-02-05T20:28:00.884Z"
   },
   {
    "duration": 21,
    "start_time": "2022-02-05T20:28:00.901Z"
   },
   {
    "duration": 51,
    "start_time": "2022-02-05T20:28:00.926Z"
   },
   {
    "duration": 41,
    "start_time": "2022-02-05T20:28:00.981Z"
   },
   {
    "duration": 44,
    "start_time": "2022-02-05T20:28:01.025Z"
   },
   {
    "duration": 10,
    "start_time": "2022-02-05T20:28:01.074Z"
   },
   {
    "duration": 12,
    "start_time": "2022-02-05T20:28:01.088Z"
   },
   {
    "duration": 40,
    "start_time": "2022-02-05T20:28:01.103Z"
   },
   {
    "duration": 547,
    "start_time": "2022-02-05T20:28:01.171Z"
   },
   {
    "duration": -63,
    "start_time": "2022-02-05T20:28:01.785Z"
   },
   {
    "duration": -62,
    "start_time": "2022-02-05T20:28:01.786Z"
   },
   {
    "duration": -65,
    "start_time": "2022-02-05T20:28:01.791Z"
   },
   {
    "duration": -65,
    "start_time": "2022-02-05T20:28:01.793Z"
   },
   {
    "duration": -64,
    "start_time": "2022-02-05T20:28:01.795Z"
   },
   {
    "duration": -64,
    "start_time": "2022-02-05T20:28:01.797Z"
   },
   {
    "duration": -63,
    "start_time": "2022-02-05T20:28:01.799Z"
   },
   {
    "duration": -63,
    "start_time": "2022-02-05T20:28:01.801Z"
   },
   {
    "duration": -62,
    "start_time": "2022-02-05T20:28:01.802Z"
   },
   {
    "duration": 455,
    "start_time": "2022-02-05T20:28:14.358Z"
   },
   {
    "duration": 97,
    "start_time": "2022-02-05T20:30:30.414Z"
   },
   {
    "duration": 90,
    "start_time": "2022-02-05T20:30:56.705Z"
   },
   {
    "duration": 82,
    "start_time": "2022-02-05T20:31:07.640Z"
   },
   {
    "duration": 96,
    "start_time": "2022-02-05T20:32:02.317Z"
   },
   {
    "duration": 85,
    "start_time": "2022-02-05T20:32:12.173Z"
   },
   {
    "duration": 97,
    "start_time": "2022-02-05T20:32:16.820Z"
   },
   {
    "duration": 91,
    "start_time": "2022-02-05T20:32:22.973Z"
   },
   {
    "duration": 464,
    "start_time": "2022-02-05T20:32:33.927Z"
   },
   {
    "duration": 417,
    "start_time": "2022-02-05T20:32:49.354Z"
   },
   {
    "duration": 416,
    "start_time": "2022-02-05T20:33:32.471Z"
   },
   {
    "duration": 255,
    "start_time": "2022-02-05T20:35:26.231Z"
   },
   {
    "duration": 453,
    "start_time": "2022-02-05T20:35:42.416Z"
   },
   {
    "duration": 416,
    "start_time": "2022-02-05T20:36:06.867Z"
   },
   {
    "duration": 292,
    "start_time": "2022-02-05T20:44:16.309Z"
   },
   {
    "duration": 29,
    "start_time": "2022-02-05T20:44:59.018Z"
   },
   {
    "duration": 29,
    "start_time": "2022-02-05T20:45:47.130Z"
   },
   {
    "duration": 28,
    "start_time": "2022-02-05T20:46:35.408Z"
   },
   {
    "duration": 394,
    "start_time": "2022-02-05T20:47:16.335Z"
   },
   {
    "duration": 595,
    "start_time": "2022-02-05T20:49:09.565Z"
   },
   {
    "duration": 254,
    "start_time": "2022-02-05T20:49:49.485Z"
   },
   {
    "duration": 271,
    "start_time": "2022-02-05T20:50:00.869Z"
   },
   {
    "duration": 31,
    "start_time": "2022-02-05T20:50:14.931Z"
   },
   {
    "duration": 347,
    "start_time": "2022-02-05T20:50:59.532Z"
   },
   {
    "duration": 31,
    "start_time": "2022-02-05T20:51:33.307Z"
   },
   {
    "duration": 255,
    "start_time": "2022-02-05T20:52:02.080Z"
   },
   {
    "duration": 500,
    "start_time": "2022-02-05T21:03:15.337Z"
   },
   {
    "duration": 498,
    "start_time": "2022-02-05T21:05:13.275Z"
   },
   {
    "duration": 409,
    "start_time": "2022-02-05T21:05:24.378Z"
   },
   {
    "duration": 443,
    "start_time": "2022-02-05T21:07:01.782Z"
   },
   {
    "duration": 514,
    "start_time": "2022-02-05T21:07:30.145Z"
   },
   {
    "duration": 463,
    "start_time": "2022-02-05T21:09:10.926Z"
   },
   {
    "duration": 9,
    "start_time": "2022-02-05T21:09:45.948Z"
   },
   {
    "duration": 18,
    "start_time": "2022-02-05T21:09:57.109Z"
   },
   {
    "duration": 21,
    "start_time": "2022-02-05T21:10:01.859Z"
   },
   {
    "duration": 414,
    "start_time": "2022-02-05T21:10:05.109Z"
   },
   {
    "duration": 9,
    "start_time": "2022-02-05T21:10:21.786Z"
   },
   {
    "duration": 18,
    "start_time": "2022-02-05T21:10:26.574Z"
   },
   {
    "duration": 20,
    "start_time": "2022-02-05T21:11:01.538Z"
   },
   {
    "duration": 41,
    "start_time": "2022-02-05T21:11:07.728Z"
   },
   {
    "duration": 41,
    "start_time": "2022-02-05T21:12:31.771Z"
   },
   {
    "duration": 274,
    "start_time": "2022-02-05T21:12:57.818Z"
   },
   {
    "duration": 413,
    "start_time": "2022-02-06T08:27:39.952Z"
   },
   {
    "duration": 357,
    "start_time": "2022-02-06T08:28:06.745Z"
   },
   {
    "duration": 410,
    "start_time": "2022-02-06T08:30:51.653Z"
   },
   {
    "duration": 3,
    "start_time": "2022-02-06T08:31:07.052Z"
   },
   {
    "duration": 1064,
    "start_time": "2022-02-06T08:31:14.499Z"
   },
   {
    "duration": 15,
    "start_time": "2022-02-06T08:31:15.566Z"
   },
   {
    "duration": 13,
    "start_time": "2022-02-06T08:31:15.584Z"
   },
   {
    "duration": 20,
    "start_time": "2022-02-06T08:31:15.599Z"
   },
   {
    "duration": 51,
    "start_time": "2022-02-06T08:31:15.622Z"
   },
   {
    "duration": 37,
    "start_time": "2022-02-06T08:31:15.675Z"
   },
   {
    "duration": 7,
    "start_time": "2022-02-06T08:31:15.715Z"
   },
   {
    "duration": 39,
    "start_time": "2022-02-06T08:31:15.724Z"
   },
   {
    "duration": 6,
    "start_time": "2022-02-06T08:31:15.767Z"
   },
   {
    "duration": 22,
    "start_time": "2022-02-06T08:31:15.775Z"
   },
   {
    "duration": 18,
    "start_time": "2022-02-06T08:31:15.799Z"
   },
   {
    "duration": 41,
    "start_time": "2022-02-06T08:31:15.819Z"
   },
   {
    "duration": 41,
    "start_time": "2022-02-06T08:31:15.863Z"
   },
   {
    "duration": 6,
    "start_time": "2022-02-06T08:31:15.906Z"
   },
   {
    "duration": 56,
    "start_time": "2022-02-06T08:31:15.915Z"
   },
   {
    "duration": 32,
    "start_time": "2022-02-06T08:31:15.974Z"
   },
   {
    "duration": 15,
    "start_time": "2022-02-06T08:31:16.008Z"
   },
   {
    "duration": 53,
    "start_time": "2022-02-06T08:31:16.026Z"
   },
   {
    "duration": 27,
    "start_time": "2022-02-06T08:31:16.082Z"
   },
   {
    "duration": 54,
    "start_time": "2022-02-06T08:31:16.111Z"
   },
   {
    "duration": 13,
    "start_time": "2022-02-06T08:32:04.384Z"
   },
   {
    "duration": 17,
    "start_time": "2022-02-06T08:32:51.312Z"
   },
   {
    "duration": 41,
    "start_time": "2022-02-06T08:33:12.937Z"
   },
   {
    "duration": 26,
    "start_time": "2022-02-06T08:33:26.187Z"
   },
   {
    "duration": 851,
    "start_time": "2022-02-06T08:51:52.363Z"
   },
   {
    "duration": 16,
    "start_time": "2022-02-06T08:51:53.217Z"
   },
   {
    "duration": 29,
    "start_time": "2022-02-06T08:51:53.236Z"
   },
   {
    "duration": 19,
    "start_time": "2022-02-06T08:51:53.268Z"
   },
   {
    "duration": 19,
    "start_time": "2022-02-06T08:51:53.290Z"
   },
   {
    "duration": 69,
    "start_time": "2022-02-06T08:51:53.312Z"
   },
   {
    "duration": 7,
    "start_time": "2022-02-06T08:51:53.384Z"
   },
   {
    "duration": 7,
    "start_time": "2022-02-06T08:51:53.393Z"
   },
   {
    "duration": 5,
    "start_time": "2022-02-06T08:51:53.404Z"
   },
   {
    "duration": 63,
    "start_time": "2022-02-06T08:51:53.412Z"
   },
   {
    "duration": 18,
    "start_time": "2022-02-06T08:51:53.477Z"
   },
   {
    "duration": 3,
    "start_time": "2022-02-06T08:51:53.498Z"
   },
   {
    "duration": 83,
    "start_time": "2022-02-06T08:51:53.504Z"
   },
   {
    "duration": 6,
    "start_time": "2022-02-06T08:51:53.590Z"
   },
   {
    "duration": 25,
    "start_time": "2022-02-06T08:51:53.599Z"
   },
   {
    "duration": 38,
    "start_time": "2022-02-06T08:51:53.658Z"
   },
   {
    "duration": 16,
    "start_time": "2022-02-06T08:51:53.698Z"
   },
   {
    "duration": 50,
    "start_time": "2022-02-06T08:51:53.717Z"
   },
   {
    "duration": 23,
    "start_time": "2022-02-06T08:51:53.770Z"
   },
   {
    "duration": 22,
    "start_time": "2022-02-06T08:51:53.796Z"
   },
   {
    "duration": 40,
    "start_time": "2022-02-06T08:52:28.498Z"
   },
   {
    "duration": 146,
    "start_time": "2022-02-06T09:02:24.868Z"
   },
   {
    "duration": 19,
    "start_time": "2022-02-06T09:10:12.637Z"
   },
   {
    "duration": 865,
    "start_time": "2022-02-06T09:10:28.062Z"
   },
   {
    "duration": 15,
    "start_time": "2022-02-06T09:10:28.930Z"
   },
   {
    "duration": 21,
    "start_time": "2022-02-06T09:10:28.948Z"
   },
   {
    "duration": 21,
    "start_time": "2022-02-06T09:10:28.972Z"
   },
   {
    "duration": 26,
    "start_time": "2022-02-06T09:10:28.995Z"
   },
   {
    "duration": 68,
    "start_time": "2022-02-06T09:10:29.024Z"
   },
   {
    "duration": 7,
    "start_time": "2022-02-06T09:10:29.095Z"
   },
   {
    "duration": 8,
    "start_time": "2022-02-06T09:10:29.106Z"
   },
   {
    "duration": 46,
    "start_time": "2022-02-06T09:10:29.117Z"
   },
   {
    "duration": 21,
    "start_time": "2022-02-06T09:10:29.166Z"
   },
   {
    "duration": 19,
    "start_time": "2022-02-06T09:10:29.190Z"
   },
   {
    "duration": 47,
    "start_time": "2022-02-06T09:10:29.212Z"
   },
   {
    "duration": 49,
    "start_time": "2022-02-06T09:10:29.261Z"
   },
   {
    "duration": 7,
    "start_time": "2022-02-06T09:10:29.313Z"
   },
   {
    "duration": 51,
    "start_time": "2022-02-06T09:10:29.322Z"
   },
   {
    "duration": 32,
    "start_time": "2022-02-06T09:10:29.376Z"
   },
   {
    "duration": 18,
    "start_time": "2022-02-06T09:10:29.411Z"
   },
   {
    "duration": 24,
    "start_time": "2022-02-06T09:10:29.460Z"
   },
   {
    "duration": 29,
    "start_time": "2022-02-06T09:10:29.486Z"
   },
   {
    "duration": 57,
    "start_time": "2022-02-06T09:10:29.517Z"
   },
   {
    "duration": 25,
    "start_time": "2022-02-06T09:11:06.544Z"
   },
   {
    "duration": 19,
    "start_time": "2022-02-06T09:11:46.080Z"
   },
   {
    "duration": 846,
    "start_time": "2022-02-06T10:07:59.959Z"
   },
   {
    "duration": 8,
    "start_time": "2022-02-06T10:08:16.521Z"
   },
   {
    "duration": 340,
    "start_time": "2022-02-06T10:08:19.701Z"
   },
   {
    "duration": 353,
    "start_time": "2022-02-06T10:08:25.695Z"
   },
   {
    "duration": 5,
    "start_time": "2022-02-06T10:08:43.754Z"
   },
   {
    "duration": 8739,
    "start_time": "2022-02-06T10:11:50.915Z"
   },
   {
    "duration": 1397,
    "start_time": "2022-02-06T10:13:14.023Z"
   },
   {
    "duration": 1558,
    "start_time": "2022-02-06T10:13:38.392Z"
   },
   {
    "duration": 907,
    "start_time": "2022-02-06T10:14:10.241Z"
   },
   {
    "duration": 15,
    "start_time": "2022-02-06T10:14:11.151Z"
   },
   {
    "duration": 13,
    "start_time": "2022-02-06T10:14:11.169Z"
   },
   {
    "duration": 20,
    "start_time": "2022-02-06T10:14:11.184Z"
   },
   {
    "duration": 62,
    "start_time": "2022-02-06T10:14:11.207Z"
   },
   {
    "duration": 37,
    "start_time": "2022-02-06T10:14:11.272Z"
   },
   {
    "duration": 7,
    "start_time": "2022-02-06T10:14:11.312Z"
   },
   {
    "duration": 37,
    "start_time": "2022-02-06T10:14:11.322Z"
   },
   {
    "duration": 5,
    "start_time": "2022-02-06T10:14:11.362Z"
   },
   {
    "duration": 26,
    "start_time": "2022-02-06T10:14:11.370Z"
   },
   {
    "duration": 21,
    "start_time": "2022-02-06T10:14:11.398Z"
   },
   {
    "duration": 38,
    "start_time": "2022-02-06T10:14:11.421Z"
   },
   {
    "duration": 47,
    "start_time": "2022-02-06T10:14:11.462Z"
   },
   {
    "duration": 7,
    "start_time": "2022-02-06T10:14:11.512Z"
   },
   {
    "duration": 56,
    "start_time": "2022-02-06T10:14:11.521Z"
   },
   {
    "duration": 34,
    "start_time": "2022-02-06T10:14:11.579Z"
   },
   {
    "duration": 45,
    "start_time": "2022-02-06T10:14:11.616Z"
   },
   {
    "duration": 24,
    "start_time": "2022-02-06T10:14:11.663Z"
   },
   {
    "duration": 29,
    "start_time": "2022-02-06T10:14:11.689Z"
   },
   {
    "duration": 58,
    "start_time": "2022-02-06T10:14:11.720Z"
   },
   {
    "duration": 1567,
    "start_time": "2022-02-06T10:14:11.780Z"
   },
   {
    "duration": 11,
    "start_time": "2022-02-06T10:16:42.104Z"
   },
   {
    "duration": 357,
    "start_time": "2022-02-06T10:16:54.006Z"
   },
   {
    "duration": 897,
    "start_time": "2022-02-06T10:17:13.859Z"
   },
   {
    "duration": 18,
    "start_time": "2022-02-06T10:17:14.760Z"
   },
   {
    "duration": 13,
    "start_time": "2022-02-06T10:17:14.786Z"
   },
   {
    "duration": 58,
    "start_time": "2022-02-06T10:17:14.801Z"
   },
   {
    "duration": 21,
    "start_time": "2022-02-06T10:17:14.862Z"
   },
   {
    "duration": 39,
    "start_time": "2022-02-06T10:17:14.885Z"
   },
   {
    "duration": 33,
    "start_time": "2022-02-06T10:17:14.928Z"
   },
   {
    "duration": 7,
    "start_time": "2022-02-06T10:17:14.963Z"
   },
   {
    "duration": 6,
    "start_time": "2022-02-06T10:17:14.973Z"
   },
   {
    "duration": 33,
    "start_time": "2022-02-06T10:17:14.982Z"
   },
   {
    "duration": 53,
    "start_time": "2022-02-06T10:17:15.018Z"
   },
   {
    "duration": 3,
    "start_time": "2022-02-06T10:17:15.073Z"
   },
   {
    "duration": 49,
    "start_time": "2022-02-06T10:17:15.079Z"
   },
   {
    "duration": 31,
    "start_time": "2022-02-06T10:17:15.130Z"
   },
   {
    "duration": 24,
    "start_time": "2022-02-06T10:17:15.163Z"
   },
   {
    "duration": 33,
    "start_time": "2022-02-06T10:17:15.189Z"
   },
   {
    "duration": 49,
    "start_time": "2022-02-06T10:17:15.224Z"
   },
   {
    "duration": 23,
    "start_time": "2022-02-06T10:17:15.275Z"
   },
   {
    "duration": 27,
    "start_time": "2022-02-06T10:17:15.300Z"
   },
   {
    "duration": 56,
    "start_time": "2022-02-06T10:17:15.329Z"
   },
   {
    "duration": 36,
    "start_time": "2022-02-06T10:17:15.387Z"
   },
   {
    "duration": 494,
    "start_time": "2022-02-06T10:17:47.806Z"
   },
   {
    "duration": 884,
    "start_time": "2022-02-06T10:18:04.562Z"
   },
   {
    "duration": 17,
    "start_time": "2022-02-06T10:18:05.449Z"
   },
   {
    "duration": 13,
    "start_time": "2022-02-06T10:18:05.472Z"
   },
   {
    "duration": 18,
    "start_time": "2022-02-06T10:18:05.488Z"
   },
   {
    "duration": 55,
    "start_time": "2022-02-06T10:18:05.509Z"
   },
   {
    "duration": 36,
    "start_time": "2022-02-06T10:18:05.566Z"
   },
   {
    "duration": 6,
    "start_time": "2022-02-06T10:18:05.607Z"
   },
   {
    "duration": 7,
    "start_time": "2022-02-06T10:18:05.616Z"
   },
   {
    "duration": 39,
    "start_time": "2022-02-06T10:18:05.625Z"
   },
   {
    "duration": 22,
    "start_time": "2022-02-06T10:18:05.667Z"
   },
   {
    "duration": 19,
    "start_time": "2022-02-06T10:18:05.692Z"
   },
   {
    "duration": 3,
    "start_time": "2022-02-06T10:18:05.713Z"
   },
   {
    "duration": 79,
    "start_time": "2022-02-06T10:18:05.718Z"
   },
   {
    "duration": 6,
    "start_time": "2022-02-06T10:18:05.800Z"
   },
   {
    "duration": 53,
    "start_time": "2022-02-06T10:18:05.808Z"
   },
   {
    "duration": 35,
    "start_time": "2022-02-06T10:18:05.863Z"
   },
   {
    "duration": 20,
    "start_time": "2022-02-06T10:18:05.900Z"
   },
   {
    "duration": 54,
    "start_time": "2022-02-06T10:18:05.923Z"
   },
   {
    "duration": 34,
    "start_time": "2022-02-06T10:18:05.980Z"
   },
   {
    "duration": 60,
    "start_time": "2022-02-06T10:18:06.016Z"
   },
   {
    "duration": 20,
    "start_time": "2022-02-06T10:18:06.079Z"
   },
   {
    "duration": 461,
    "start_time": "2022-02-06T10:18:17.811Z"
   },
   {
    "duration": 832,
    "start_time": "2022-02-06T10:18:27.764Z"
   },
   {
    "duration": 14,
    "start_time": "2022-02-06T10:18:28.599Z"
   },
   {
    "duration": 11,
    "start_time": "2022-02-06T10:18:28.616Z"
   },
   {
    "duration": 43,
    "start_time": "2022-02-06T10:18:28.630Z"
   },
   {
    "duration": 19,
    "start_time": "2022-02-06T10:18:28.675Z"
   },
   {
    "duration": 63,
    "start_time": "2022-02-06T10:18:28.696Z"
   },
   {
    "duration": 8,
    "start_time": "2022-02-06T10:18:28.761Z"
   },
   {
    "duration": 8,
    "start_time": "2022-02-06T10:18:28.773Z"
   },
   {
    "duration": 8,
    "start_time": "2022-02-06T10:18:28.783Z"
   },
   {
    "duration": 19,
    "start_time": "2022-02-06T10:18:28.793Z"
   },
   {
    "duration": 59,
    "start_time": "2022-02-06T10:18:28.815Z"
   },
   {
    "duration": 3,
    "start_time": "2022-02-06T10:18:28.876Z"
   },
   {
    "duration": 46,
    "start_time": "2022-02-06T10:18:28.882Z"
   },
   {
    "duration": 32,
    "start_time": "2022-02-06T10:18:28.931Z"
   },
   {
    "duration": 24,
    "start_time": "2022-02-06T10:18:28.965Z"
   },
   {
    "duration": 33,
    "start_time": "2022-02-06T10:18:28.991Z"
   },
   {
    "duration": 54,
    "start_time": "2022-02-06T10:18:29.026Z"
   },
   {
    "duration": 24,
    "start_time": "2022-02-06T10:18:29.082Z"
   },
   {
    "duration": 58,
    "start_time": "2022-02-06T10:18:29.108Z"
   },
   {
    "duration": 28,
    "start_time": "2022-02-06T10:18:29.168Z"
   },
   {
    "duration": 21,
    "start_time": "2022-02-06T10:18:29.198Z"
   },
   {
    "duration": 462,
    "start_time": "2022-02-06T10:18:47.919Z"
   },
   {
    "duration": 372,
    "start_time": "2022-02-06T10:19:30.725Z"
   },
   {
    "duration": 831,
    "start_time": "2022-02-06T10:19:37.663Z"
   },
   {
    "duration": 15,
    "start_time": "2022-02-06T10:19:38.497Z"
   },
   {
    "duration": 11,
    "start_time": "2022-02-06T10:19:38.515Z"
   },
   {
    "duration": 47,
    "start_time": "2022-02-06T10:19:38.529Z"
   },
   {
    "duration": 22,
    "start_time": "2022-02-06T10:19:38.578Z"
   },
   {
    "duration": 57,
    "start_time": "2022-02-06T10:19:38.602Z"
   },
   {
    "duration": 6,
    "start_time": "2022-02-06T10:19:38.662Z"
   },
   {
    "duration": 6,
    "start_time": "2022-02-06T10:19:38.672Z"
   },
   {
    "duration": 7,
    "start_time": "2022-02-06T10:19:38.682Z"
   },
   {
    "duration": 25,
    "start_time": "2022-02-06T10:19:38.691Z"
   },
   {
    "duration": 27,
    "start_time": "2022-02-06T10:19:38.759Z"
   },
   {
    "duration": 3,
    "start_time": "2022-02-06T10:19:38.788Z"
   },
   {
    "duration": 70,
    "start_time": "2022-02-06T10:19:38.793Z"
   },
   {
    "duration": 7,
    "start_time": "2022-02-06T10:19:38.865Z"
   },
   {
    "duration": 27,
    "start_time": "2022-02-06T10:19:38.874Z"
   },
   {
    "duration": 65,
    "start_time": "2022-02-06T10:19:38.903Z"
   },
   {
    "duration": 21,
    "start_time": "2022-02-06T10:19:38.971Z"
   },
   {
    "duration": 22,
    "start_time": "2022-02-06T10:19:38.995Z"
   },
   {
    "duration": 58,
    "start_time": "2022-02-06T10:19:39.019Z"
   },
   {
    "duration": 25,
    "start_time": "2022-02-06T10:19:39.079Z"
   },
   {
    "duration": 55,
    "start_time": "2022-02-06T10:19:39.106Z"
   },
   {
    "duration": 477,
    "start_time": "2022-02-06T10:20:33.299Z"
   },
   {
    "duration": 825,
    "start_time": "2022-02-06T10:20:40.956Z"
   },
   {
    "duration": 16,
    "start_time": "2022-02-06T10:20:41.784Z"
   },
   {
    "duration": 12,
    "start_time": "2022-02-06T10:20:41.803Z"
   },
   {
    "duration": 48,
    "start_time": "2022-02-06T10:20:41.817Z"
   },
   {
    "duration": 20,
    "start_time": "2022-02-06T10:20:41.867Z"
   },
   {
    "duration": 36,
    "start_time": "2022-02-06T10:20:41.889Z"
   },
   {
    "duration": 35,
    "start_time": "2022-02-06T10:20:41.927Z"
   },
   {
    "duration": 7,
    "start_time": "2022-02-06T10:20:41.965Z"
   },
   {
    "duration": 6,
    "start_time": "2022-02-06T10:20:41.975Z"
   },
   {
    "duration": 20,
    "start_time": "2022-02-06T10:20:41.983Z"
   },
   {
    "duration": 60,
    "start_time": "2022-02-06T10:20:42.005Z"
   },
   {
    "duration": 3,
    "start_time": "2022-02-06T10:20:42.067Z"
   },
   {
    "duration": 45,
    "start_time": "2022-02-06T10:20:42.072Z"
   },
   {
    "duration": 6,
    "start_time": "2022-02-06T10:20:42.119Z"
   },
   {
    "duration": 54,
    "start_time": "2022-02-06T10:20:42.127Z"
   },
   {
    "duration": 33,
    "start_time": "2022-02-06T10:20:42.183Z"
   },
   {
    "duration": 47,
    "start_time": "2022-02-06T10:20:42.218Z"
   },
   {
    "duration": 24,
    "start_time": "2022-02-06T10:20:42.267Z"
   },
   {
    "duration": 29,
    "start_time": "2022-02-06T10:20:42.294Z"
   },
   {
    "duration": 58,
    "start_time": "2022-02-06T10:20:42.325Z"
   },
   {
    "duration": 35,
    "start_time": "2022-02-06T10:20:42.385Z"
   },
   {
    "duration": 39,
    "start_time": "2022-02-06T10:20:42.423Z"
   },
   {
    "duration": 12,
    "start_time": "2022-02-06T10:20:42.467Z"
   },
   {
    "duration": 131,
    "start_time": "2022-02-06T10:34:26.496Z"
   },
   {
    "duration": 27,
    "start_time": "2022-02-06T10:34:32.546Z"
   },
   {
    "duration": 41,
    "start_time": "2022-02-06T10:34:41.710Z"
   },
   {
    "duration": 21,
    "start_time": "2022-02-06T10:34:54.829Z"
   },
   {
    "duration": 878,
    "start_time": "2022-02-06T10:41:27.020Z"
   },
   {
    "duration": 16,
    "start_time": "2022-02-06T10:41:27.900Z"
   },
   {
    "duration": 12,
    "start_time": "2022-02-06T10:41:27.919Z"
   },
   {
    "duration": 44,
    "start_time": "2022-02-06T10:41:27.933Z"
   },
   {
    "duration": 19,
    "start_time": "2022-02-06T10:41:27.980Z"
   },
   {
    "duration": 63,
    "start_time": "2022-02-06T10:41:28.002Z"
   },
   {
    "duration": 6,
    "start_time": "2022-02-06T10:41:28.068Z"
   },
   {
    "duration": 7,
    "start_time": "2022-02-06T10:41:28.079Z"
   },
   {
    "duration": 11,
    "start_time": "2022-02-06T10:41:28.090Z"
   },
   {
    "duration": 29,
    "start_time": "2022-02-06T10:41:28.103Z"
   },
   {
    "duration": 72,
    "start_time": "2022-02-06T10:41:28.135Z"
   },
   {
    "duration": 6,
    "start_time": "2022-02-06T10:41:28.210Z"
   },
   {
    "duration": 47,
    "start_time": "2022-02-06T10:41:28.218Z"
   },
   {
    "duration": 30,
    "start_time": "2022-02-06T10:41:28.268Z"
   },
   {
    "duration": 15,
    "start_time": "2022-02-06T10:41:28.300Z"
   },
   {
    "duration": 48,
    "start_time": "2022-02-06T10:41:28.317Z"
   },
   {
    "duration": 26,
    "start_time": "2022-02-06T10:41:28.367Z"
   },
   {
    "duration": 24,
    "start_time": "2022-02-06T10:41:28.396Z"
   },
   {
    "duration": 67,
    "start_time": "2022-02-06T10:41:28.423Z"
   },
   {
    "duration": 14,
    "start_time": "2022-02-06T10:41:28.493Z"
   },
   {
    "duration": 17,
    "start_time": "2022-02-06T10:41:28.510Z"
   },
   {
    "duration": 22,
    "start_time": "2022-02-06T10:41:28.559Z"
   },
   {
    "duration": 22,
    "start_time": "2022-02-06T10:41:28.586Z"
   },
   {
    "duration": 28,
    "start_time": "2022-02-06T10:52:14.912Z"
   },
   {
    "duration": 31,
    "start_time": "2022-02-06T10:52:37.208Z"
   },
   {
    "duration": 39,
    "start_time": "2022-02-06T10:52:55.816Z"
   },
   {
    "duration": 46,
    "start_time": "2022-02-06T10:59:23.884Z"
   },
   {
    "duration": 55,
    "start_time": "2022-02-06T11:05:37.367Z"
   },
   {
    "duration": 54,
    "start_time": "2022-02-06T11:06:16.210Z"
   },
   {
    "duration": 54,
    "start_time": "2022-02-06T11:07:55.723Z"
   },
   {
    "duration": 1433,
    "start_time": "2022-02-06T11:35:12.004Z"
   },
   {
    "duration": 23,
    "start_time": "2022-02-06T11:35:13.439Z"
   },
   {
    "duration": 12,
    "start_time": "2022-02-06T11:35:13.467Z"
   },
   {
    "duration": 19,
    "start_time": "2022-02-06T11:35:13.481Z"
   },
   {
    "duration": 63,
    "start_time": "2022-02-06T11:35:13.502Z"
   },
   {
    "duration": 36,
    "start_time": "2022-02-06T11:35:13.568Z"
   },
   {
    "duration": 7,
    "start_time": "2022-02-06T11:35:13.608Z"
   },
   {
    "duration": 8,
    "start_time": "2022-02-06T11:35:13.658Z"
   },
   {
    "duration": 7,
    "start_time": "2022-02-06T11:35:13.669Z"
   },
   {
    "duration": 20,
    "start_time": "2022-02-06T11:35:13.679Z"
   },
   {
    "duration": 87,
    "start_time": "2022-02-06T11:35:13.702Z"
   },
   {
    "duration": 7,
    "start_time": "2022-02-06T11:35:13.791Z"
   },
   {
    "duration": 59,
    "start_time": "2022-02-06T11:35:13.800Z"
   },
   {
    "duration": 31,
    "start_time": "2022-02-06T11:35:13.861Z"
   },
   {
    "duration": 16,
    "start_time": "2022-02-06T11:35:13.895Z"
   },
   {
    "duration": 64,
    "start_time": "2022-02-06T11:35:13.914Z"
   },
   {
    "duration": 24,
    "start_time": "2022-02-06T11:35:13.981Z"
   },
   {
    "duration": 55,
    "start_time": "2022-02-06T11:35:14.007Z"
   },
   {
    "duration": 32,
    "start_time": "2022-02-06T11:35:14.065Z"
   },
   {
    "duration": 13,
    "start_time": "2022-02-06T11:35:14.099Z"
   },
   {
    "duration": 52,
    "start_time": "2022-02-06T11:35:14.114Z"
   },
   {
    "duration": 22,
    "start_time": "2022-02-06T11:35:14.170Z"
   },
   {
    "duration": 18,
    "start_time": "2022-02-06T11:35:14.194Z"
   },
   {
    "duration": 94,
    "start_time": "2022-02-06T11:35:14.214Z"
   },
   {
    "duration": 77,
    "start_time": "2022-02-06T11:35:14.310Z"
   },
   {
    "duration": 52,
    "start_time": "2022-02-06T11:35:14.389Z"
   },
   {
    "duration": 61,
    "start_time": "2022-02-06T11:35:14.459Z"
   },
   {
    "duration": 620,
    "start_time": "2022-02-13T06:17:22.138Z"
   },
   {
    "duration": 274,
    "start_time": "2022-02-13T06:17:45.018Z"
   },
   {
    "duration": 786,
    "start_time": "2022-02-13T06:17:57.505Z"
   },
   {
    "duration": 16,
    "start_time": "2022-02-13T06:17:58.293Z"
   },
   {
    "duration": 37,
    "start_time": "2022-02-13T06:17:58.312Z"
   },
   {
    "duration": 20,
    "start_time": "2022-02-13T06:17:58.352Z"
   },
   {
    "duration": 19,
    "start_time": "2022-02-13T06:17:58.374Z"
   },
   {
    "duration": 75,
    "start_time": "2022-02-13T06:17:58.396Z"
   },
   {
    "duration": 37,
    "start_time": "2022-02-13T06:17:58.473Z"
   },
   {
    "duration": 34,
    "start_time": "2022-02-13T06:17:58.514Z"
   },
   {
    "duration": 7,
    "start_time": "2022-02-13T06:17:58.551Z"
   },
   {
    "duration": 5,
    "start_time": "2022-02-13T06:17:58.561Z"
   },
   {
    "duration": 21,
    "start_time": "2022-02-13T06:17:58.569Z"
   },
   {
    "duration": 74,
    "start_time": "2022-02-13T06:17:58.592Z"
   },
   {
    "duration": 7,
    "start_time": "2022-02-13T06:17:58.669Z"
   },
   {
    "duration": 27,
    "start_time": "2022-02-13T06:17:58.678Z"
   },
   {
    "duration": 60,
    "start_time": "2022-02-13T06:17:58.707Z"
   },
   {
    "duration": 16,
    "start_time": "2022-02-13T06:17:58.769Z"
   },
   {
    "duration": 20,
    "start_time": "2022-02-13T06:17:58.787Z"
   },
   {
    "duration": 57,
    "start_time": "2022-02-13T06:17:58.810Z"
   },
   {
    "duration": 24,
    "start_time": "2022-02-13T06:17:58.869Z"
   },
   {
    "duration": 55,
    "start_time": "2022-02-13T06:17:58.895Z"
   },
   {
    "duration": 13,
    "start_time": "2022-02-13T06:17:58.952Z"
   },
   {
    "duration": 18,
    "start_time": "2022-02-13T06:17:58.967Z"
   },
   {
    "duration": 21,
    "start_time": "2022-02-13T06:17:58.989Z"
   },
   {
    "duration": 51,
    "start_time": "2022-02-13T06:17:59.012Z"
   },
   {
    "duration": 51,
    "start_time": "2022-02-13T06:17:59.066Z"
   },
   {
    "duration": 80,
    "start_time": "2022-02-13T06:17:59.120Z"
   },
   {
    "duration": 76,
    "start_time": "2022-02-13T06:17:59.203Z"
   },
   {
    "duration": 71,
    "start_time": "2022-02-13T06:17:59.282Z"
   }
  ],
  "kernelspec": {
   "display_name": "Python 3 (ipykernel)",
   "language": "python",
   "name": "python3"
  },
  "language_info": {
   "codemirror_mode": {
    "name": "ipython",
    "version": 3
   },
   "file_extension": ".py",
   "mimetype": "text/x-python",
   "name": "python",
   "nbconvert_exporter": "python",
   "pygments_lexer": "ipython3",
   "version": "3.9.7"
  },
  "toc": {
   "base_numbering": 1,
   "nav_menu": {},
   "number_sections": true,
   "sideBar": true,
   "skip_h1_title": true,
   "title_cell": "Table of Contents",
   "title_sidebar": "Contents",
   "toc_cell": false,
   "toc_position": {},
   "toc_section_display": true,
   "toc_window_display": false
  }
 },
 "nbformat": 4,
 "nbformat_minor": 5
}
