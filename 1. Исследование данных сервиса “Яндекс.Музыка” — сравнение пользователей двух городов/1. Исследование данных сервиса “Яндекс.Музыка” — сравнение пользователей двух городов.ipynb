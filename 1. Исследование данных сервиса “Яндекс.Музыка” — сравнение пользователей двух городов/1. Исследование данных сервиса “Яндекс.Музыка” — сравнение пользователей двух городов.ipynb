{
 "cells": [
  {
   "cell_type": "markdown",
   "metadata": {
    "toc": true
   },
   "source": [
    "<h1>Table of Contents<span class=\"tocSkip\"></span></h1>\n",
    "<div class=\"toc\"><ul class=\"toc-item\"><li><span><a href=\"#Обзор-данных\" data-toc-modified-id=\"Обзор-данных-1\"><span class=\"toc-item-num\">1&nbsp;&nbsp;</span>Обзор данных</a></span></li><li><span><a href=\"#Предобработка-данных\" data-toc-modified-id=\"Предобработка-данных-2\"><span class=\"toc-item-num\">2&nbsp;&nbsp;</span>Предобработка данных</a></span><ul class=\"toc-item\"><li><span><a href=\"#Стиль-заголовков\" data-toc-modified-id=\"Стиль-заголовков-2.1\"><span class=\"toc-item-num\">2.1&nbsp;&nbsp;</span>Стиль заголовков</a></span></li><li><span><a href=\"#Пропуски-значений\" data-toc-modified-id=\"Пропуски-значений-2.2\"><span class=\"toc-item-num\">2.2&nbsp;&nbsp;</span>Пропуски значений</a></span></li><li><span><a href=\"#Дубликаты\" data-toc-modified-id=\"Дубликаты-2.3\"><span class=\"toc-item-num\">2.3&nbsp;&nbsp;</span>Дубликаты</a></span></li></ul></li><li><span><a href=\"#Проверка-гипотез\" data-toc-modified-id=\"Проверка-гипотез-3\"><span class=\"toc-item-num\">3&nbsp;&nbsp;</span>Проверка гипотез</a></span><ul class=\"toc-item\"><li><span><a href=\"#Сравнение-поведения-пользователей-двух-столиц\" data-toc-modified-id=\"Сравнение-поведения-пользователей-двух-столиц-3.1\"><span class=\"toc-item-num\">3.1&nbsp;&nbsp;</span>Сравнение поведения пользователей двух столиц</a></span></li><li><span><a href=\"#Музыка-в-начале-и-в-конце-недели\" data-toc-modified-id=\"Музыка-в-начале-и-в-конце-недели-3.2\"><span class=\"toc-item-num\">3.2&nbsp;&nbsp;</span>Музыка в начале и в конце недели</a></span></li><li><span><a href=\"#Жанровые-предпочтения-в-Москве-и-Петербурге\" data-toc-modified-id=\"Жанровые-предпочтения-в-Москве-и-Петербурге-3.3\"><span class=\"toc-item-num\">3.3&nbsp;&nbsp;</span>Жанровые предпочтения в Москве и Петербурге</a></span></li></ul></li><li><span><a href=\"#Итоги-исследования\" data-toc-modified-id=\"Итоги-исследования-4\"><span class=\"toc-item-num\">4&nbsp;&nbsp;</span>Итоги исследования</a></span></li></ul></div>"
   ]
  },
  {
   "cell_type": "markdown",
   "metadata": {
    "id": "E0vqbgi9ay0H"
   },
   "source": [
    "# Яндекс.Музыка"
   ]
  },
  {
   "cell_type": "markdown",
   "metadata": {
    "id": "VUC88oWjTJw2"
   },
   "source": [
    "Сравнение Москвы и Петербурга окружено мифами. Например:\n",
    " * Москва — мегаполис, подчинённый жёсткому ритму рабочей недели;\n",
    " * Петербург — культурная столица, со своими вкусами.\n",
    "\n",
    "На данных Яндекс.Музыки вы сравните поведение пользователей двух столиц.\n",
    "\n",
    "**Цель исследования** — проверьте три гипотезы:\n",
    "1. Активность пользователей зависит от дня недели. Причём в Москве и Петербурге это проявляется по-разному.\n",
    "2. В понедельник утром в Москве преобладают одни жанры, а в Петербурге — другие. Так же и вечером пятницы преобладают разные жанры — в зависимости от города. \n",
    "3. Москва и Петербург предпочитают разные жанры музыки. В Москве чаще слушают поп-музыку, в Петербурге — русский рэп.\n",
    "\n",
    "**Ход исследования**\n",
    "\n",
    "Данные о поведении пользователей вы получите из файла `yandex_music_project.csv`. О качестве данных ничего не известно. Поэтому перед проверкой гипотез понадобится обзор данных. \n",
    "\n",
    "Вы проверите данные на ошибки и оцените их влияние на исследование. Затем, на этапе предобработки вы поищете возможность исправить самые критичные ошибки данных.\n",
    " \n",
    "Таким образом, исследование пройдёт в три этапа:\n",
    " 1. Обзор данных.\n",
    " 2. Предобработка данных.\n",
    " 3. Проверка гипотез.\n",
    "\n"
   ]
  },
  {
   "cell_type": "markdown",
   "metadata": {
    "id": "Ml1hmfXC_Zcs"
   },
   "source": [
    "## Обзор данных\n",
    "\n",
    "Составьте первое представление о данных Яндекс.Музыки.\n",
    "\n",
    "\n"
   ]
  },
  {
   "cell_type": "markdown",
   "metadata": {
    "id": "57eAOGIz_Zcs"
   },
   "source": [
    "Основной инструмент аналитика — `pandas`. Импортируйте эту библиотеку."
   ]
  },
  {
   "cell_type": "code",
   "execution_count": 1,
   "metadata": {
    "id": "AXN7PHPN_Zcs"
   },
   "outputs": [],
   "source": [
    "import pandas as pd # импорт библиотеки pandas"
   ]
  },
  {
   "cell_type": "markdown",
   "metadata": {
    "id": "SG23P8tt_Zcs"
   },
   "source": [
    "Прочитайте файл `yandex_music_project.csv` из папки `/datasets` и сохраните его в переменной `df`:"
   ]
  },
  {
   "cell_type": "code",
   "execution_count": 2,
   "metadata": {
    "id": "fFVu7vqh_Zct"
   },
   "outputs": [],
   "source": [
    "df=pd.read_csv('/datasets/yandex_music_project.csv') # чтение файла с данными и сохранение в df"
   ]
  },
  {
   "cell_type": "markdown",
   "metadata": {
    "id": "rDoOMd3uTqnZ"
   },
   "source": [
    "Выведите на экран первые десять строк таблицы:"
   ]
  },
  {
   "cell_type": "code",
   "execution_count": 3,
   "metadata": {
    "id": "oWTVX3gW_Zct"
   },
   "outputs": [
    {
     "data": {
      "text/html": [
       "<div>\n",
       "<style scoped>\n",
       "    .dataframe tbody tr th:only-of-type {\n",
       "        vertical-align: middle;\n",
       "    }\n",
       "\n",
       "    .dataframe tbody tr th {\n",
       "        vertical-align: top;\n",
       "    }\n",
       "\n",
       "    .dataframe thead th {\n",
       "        text-align: right;\n",
       "    }\n",
       "</style>\n",
       "<table border=\"1\" class=\"dataframe\">\n",
       "  <thead>\n",
       "    <tr style=\"text-align: right;\">\n",
       "      <th></th>\n",
       "      <th>userID</th>\n",
       "      <th>Track</th>\n",
       "      <th>artist</th>\n",
       "      <th>genre</th>\n",
       "      <th>City</th>\n",
       "      <th>time</th>\n",
       "      <th>Day</th>\n",
       "    </tr>\n",
       "  </thead>\n",
       "  <tbody>\n",
       "    <tr>\n",
       "      <td>0</td>\n",
       "      <td>FFB692EC</td>\n",
       "      <td>Kamigata To Boots</td>\n",
       "      <td>The Mass Missile</td>\n",
       "      <td>rock</td>\n",
       "      <td>Saint-Petersburg</td>\n",
       "      <td>20:28:33</td>\n",
       "      <td>Wednesday</td>\n",
       "    </tr>\n",
       "    <tr>\n",
       "      <td>1</td>\n",
       "      <td>55204538</td>\n",
       "      <td>Delayed Because of Accident</td>\n",
       "      <td>Andreas Rönnberg</td>\n",
       "      <td>rock</td>\n",
       "      <td>Moscow</td>\n",
       "      <td>14:07:09</td>\n",
       "      <td>Friday</td>\n",
       "    </tr>\n",
       "    <tr>\n",
       "      <td>2</td>\n",
       "      <td>20EC38</td>\n",
       "      <td>Funiculì funiculà</td>\n",
       "      <td>Mario Lanza</td>\n",
       "      <td>pop</td>\n",
       "      <td>Saint-Petersburg</td>\n",
       "      <td>20:58:07</td>\n",
       "      <td>Wednesday</td>\n",
       "    </tr>\n",
       "    <tr>\n",
       "      <td>3</td>\n",
       "      <td>A3DD03C9</td>\n",
       "      <td>Dragons in the Sunset</td>\n",
       "      <td>Fire + Ice</td>\n",
       "      <td>folk</td>\n",
       "      <td>Saint-Petersburg</td>\n",
       "      <td>08:37:09</td>\n",
       "      <td>Monday</td>\n",
       "    </tr>\n",
       "    <tr>\n",
       "      <td>4</td>\n",
       "      <td>E2DC1FAE</td>\n",
       "      <td>Soul People</td>\n",
       "      <td>Space Echo</td>\n",
       "      <td>dance</td>\n",
       "      <td>Moscow</td>\n",
       "      <td>08:34:34</td>\n",
       "      <td>Monday</td>\n",
       "    </tr>\n",
       "    <tr>\n",
       "      <td>5</td>\n",
       "      <td>842029A1</td>\n",
       "      <td>Преданная</td>\n",
       "      <td>IMPERVTOR</td>\n",
       "      <td>rusrap</td>\n",
       "      <td>Saint-Petersburg</td>\n",
       "      <td>13:09:41</td>\n",
       "      <td>Friday</td>\n",
       "    </tr>\n",
       "    <tr>\n",
       "      <td>6</td>\n",
       "      <td>4CB90AA5</td>\n",
       "      <td>True</td>\n",
       "      <td>Roman Messer</td>\n",
       "      <td>dance</td>\n",
       "      <td>Moscow</td>\n",
       "      <td>13:00:07</td>\n",
       "      <td>Wednesday</td>\n",
       "    </tr>\n",
       "    <tr>\n",
       "      <td>7</td>\n",
       "      <td>F03E1C1F</td>\n",
       "      <td>Feeling This Way</td>\n",
       "      <td>Polina Griffith</td>\n",
       "      <td>dance</td>\n",
       "      <td>Moscow</td>\n",
       "      <td>20:47:49</td>\n",
       "      <td>Wednesday</td>\n",
       "    </tr>\n",
       "    <tr>\n",
       "      <td>8</td>\n",
       "      <td>8FA1D3BE</td>\n",
       "      <td>И вновь продолжается бой</td>\n",
       "      <td>NaN</td>\n",
       "      <td>ruspop</td>\n",
       "      <td>Moscow</td>\n",
       "      <td>09:17:40</td>\n",
       "      <td>Friday</td>\n",
       "    </tr>\n",
       "    <tr>\n",
       "      <td>9</td>\n",
       "      <td>E772D5C0</td>\n",
       "      <td>Pessimist</td>\n",
       "      <td>NaN</td>\n",
       "      <td>dance</td>\n",
       "      <td>Saint-Petersburg</td>\n",
       "      <td>21:20:49</td>\n",
       "      <td>Wednesday</td>\n",
       "    </tr>\n",
       "  </tbody>\n",
       "</table>\n",
       "</div>"
      ],
      "text/plain": [
       "     userID                        Track            artist   genre  \\\n",
       "0  FFB692EC            Kamigata To Boots  The Mass Missile    rock   \n",
       "1  55204538  Delayed Because of Accident  Andreas Rönnberg    rock   \n",
       "2    20EC38            Funiculì funiculà       Mario Lanza     pop   \n",
       "3  A3DD03C9        Dragons in the Sunset        Fire + Ice    folk   \n",
       "4  E2DC1FAE                  Soul People        Space Echo   dance   \n",
       "5  842029A1                    Преданная         IMPERVTOR  rusrap   \n",
       "6  4CB90AA5                         True      Roman Messer   dance   \n",
       "7  F03E1C1F             Feeling This Way   Polina Griffith   dance   \n",
       "8  8FA1D3BE     И вновь продолжается бой               NaN  ruspop   \n",
       "9  E772D5C0                    Pessimist               NaN   dance   \n",
       "\n",
       "             City        time        Day  \n",
       "0  Saint-Petersburg  20:28:33  Wednesday  \n",
       "1            Moscow  14:07:09     Friday  \n",
       "2  Saint-Petersburg  20:58:07  Wednesday  \n",
       "3  Saint-Petersburg  08:37:09     Monday  \n",
       "4            Moscow  08:34:34     Monday  \n",
       "5  Saint-Petersburg  13:09:41     Friday  \n",
       "6            Moscow  13:00:07  Wednesday  \n",
       "7            Moscow  20:47:49  Wednesday  \n",
       "8            Moscow  09:17:40     Friday  \n",
       "9  Saint-Petersburg  21:20:49  Wednesday  "
      ]
     },
     "execution_count": 3,
     "metadata": {},
     "output_type": "execute_result"
    }
   ],
   "source": [
    "df.head(10)# получение первых 10 строк таблицы df"
   ]
  },
  {
   "cell_type": "markdown",
   "metadata": {
    "id": "EO73Kwic_Zct"
   },
   "source": [
    "Одной командой получить общую информацию о таблице:"
   ]
  },
  {
   "cell_type": "code",
   "execution_count": 4,
   "metadata": {
    "id": "DSf2kIb-_Zct"
   },
   "outputs": [
    {
     "name": "stdout",
     "output_type": "stream",
     "text": [
      "<class 'pandas.core.frame.DataFrame'>\n",
      "RangeIndex: 65079 entries, 0 to 65078\n",
      "Data columns (total 7 columns):\n",
      "  userID    65079 non-null object\n",
      "Track       63848 non-null object\n",
      "artist      57876 non-null object\n",
      "genre       63881 non-null object\n",
      "  City      65079 non-null object\n",
      "time        65079 non-null object\n",
      "Day         65079 non-null object\n",
      "dtypes: object(7)\n",
      "memory usage: 3.5+ MB\n"
     ]
    }
   ],
   "source": [
    "df.info()# получение общей информации о данных в таблице df"
   ]
  },
  {
   "cell_type": "markdown",
   "metadata": {
    "id": "TaQ2Iwbr_Zct"
   },
   "source": [
    "Итак, в таблице семь столбцов. Тип данных во всех столбцах — `object`.\n",
    "\n",
    "Согласно документации к данным:\n",
    "* `userID` — идентификатор пользователя;\n",
    "* `Track` — название трека;  \n",
    "* `artist` — имя исполнителя;\n",
    "* `genre` — название жанра;\n",
    "* `City` — город пользователя;\n",
    "* `time` — время начала прослушивания;\n",
    "* `Day` — день недели.\n",
    "\n",
    "В названиях колонок видны три нарушения стиля:\n",
    "1. Строчные буквы сочетаются с прописными.\n",
    "2. Встречаются пробелы.\n",
    "3. Найдите ещё одну проблему в названии колонок и опишите её в этом пункте. *( userID прописан не в змеином регистре)*\n",
    "\n",
    "\n",
    "\n",
    "Количество значений в столбцах различается. Значит, в данных есть пропущенные значения.\n"
   ]
  },
  {
   "cell_type": "markdown",
   "metadata": {
    "id": "MCB6-dXG_Zct"
   },
   "source": [
    "**Выводы**\n",
    "\n",
    "В каждой строке таблицы — данные о прослушанном треке. Часть колонок описывает саму композицию: название, исполнителя и жанр. Остальные данные рассказывают о пользователе: из какого он города, когда он слушал музыку. \n",
    "\n",
    "Предварительно можно утверждать, что, данных достаточно для проверки гипотез. Но встречаются пропуски в данных, а в названиях колонок — расхождения с хорошим стилем.\n",
    "\n",
    "Чтобы двигаться дальше, нужно устранить проблемы в данных."
   ]
  },
  {
   "cell_type": "markdown",
   "metadata": {
    "id": "SjYF6Ub9_Zct"
   },
   "source": [
    "## Предобработка данных\n",
    "Исправьте стиль в заголовках столбцов, исключите пропуски. Затем проверьте данные на дубликаты."
   ]
  },
  {
   "cell_type": "markdown",
   "metadata": {
    "id": "dIaKXr29_Zct"
   },
   "source": [
    "### Стиль заголовков\n",
    "Выведите на экран названия столбцов:"
   ]
  },
  {
   "cell_type": "code",
   "execution_count": 5,
   "metadata": {
    "id": "oKOTdF_Q_Zct"
   },
   "outputs": [
    {
     "data": {
      "text/plain": [
       "Index(['  userID', 'Track', 'artist', 'genre', '  City  ', 'time', 'Day'], dtype='object')"
      ]
     },
     "execution_count": 5,
     "metadata": {},
     "output_type": "execute_result"
    }
   ],
   "source": [
    "df.columns# перечень названий столбцов таблицы df"
   ]
  },
  {
   "cell_type": "markdown",
   "metadata": {
    "id": "zj5534cv_Zct"
   },
   "source": [
    "Приведите названия в соответствие с хорошим стилем:\n",
    "* несколько слов в названии запишите в «змеином_регистре»,\n",
    "* все символы сделайте строчными,\n",
    "* устраните пробелы.\n",
    "\n",
    "Для этого переименуйте колонки так:\n",
    "* `'  userID'` → `'user_id'`;\n",
    "* `'Track'` → `'track'`;\n",
    "* `'  City  '` → `'city'`;\n",
    "* `'Day'` → `'day'`."
   ]
  },
  {
   "cell_type": "code",
   "execution_count": 6,
   "metadata": {
    "id": "ISlFqs5y_Zct"
   },
   "outputs": [],
   "source": [
    "df=df.rename(columns={'  userID':'user_id', 'Track':'track', '  City  ':'city', 'Day':'day'})# переименование столбцов"
   ]
  },
  {
   "cell_type": "markdown",
   "metadata": {
    "id": "1dqbh00J_Zct"
   },
   "source": [
    "Проверьте результат. Для этого ещё раз выведите на экран названия столбцов:"
   ]
  },
  {
   "cell_type": "code",
   "execution_count": 7,
   "metadata": {
    "id": "d4NOAmTW_Zct"
   },
   "outputs": [
    {
     "name": "stdout",
     "output_type": "stream",
     "text": [
      "Index(['user_id', 'track', 'artist', 'genre', 'city', 'time', 'day'], dtype='object')\n"
     ]
    }
   ],
   "source": [
    "print(df.columns)# проверка результатов - перечень названий столбцов"
   ]
  },
  {
   "cell_type": "markdown",
   "metadata": {
    "id": "5ISfbcfY_Zct"
   },
   "source": [
    "### Пропуски значений\n",
    "Сначала посчитайте, сколько в таблице пропущенных значений. Для этого достаточно двух методов `pandas`:"
   ]
  },
  {
   "cell_type": "code",
   "execution_count": 8,
   "metadata": {
    "id": "RskX29qr_Zct"
   },
   "outputs": [
    {
     "name": "stdout",
     "output_type": "stream",
     "text": [
      "user_id       0\n",
      "track      1231\n",
      "artist     7203\n",
      "genre      1198\n",
      "city          0\n",
      "time          0\n",
      "day           0\n",
      "dtype: int64\n"
     ]
    }
   ],
   "source": [
    "print(df.isna().sum()) # подсчёт пропусков"
   ]
  },
  {
   "cell_type": "markdown",
   "metadata": {
    "id": "qubhgnlO_Zct"
   },
   "source": [
    "Не все пропущенные значения влияют на исследование. Так в `track` и `artist` пропуски не важны для вашей работы. Достаточно заменить их явными обозначениями.\n",
    "\n",
    "Но пропуски в `genre` могут помешать сравнению музыкальных вкусов в Москве и Санкт-Петербурге. На практике было бы правильно установить причину пропусков и восстановить данные. Такой возможности нет в учебном проекте. Придётся:\n",
    "* заполнить и эти пропуски явными обозначениями,\n",
    "* оценить, насколько они повредят расчётам. "
   ]
  },
  {
   "cell_type": "markdown",
   "metadata": {
    "id": "fSv2laPA_Zct"
   },
   "source": [
    "Замените пропущенные значения в столбцах `track`, `artist` и `genre` на строку `'unknown'`. Для этого создайте список `columns_to_replace`, переберите его элементы циклом `for` и для каждого столбца выполните замену пропущенных значений:"
   ]
  },
  {
   "cell_type": "code",
   "execution_count": 9,
   "metadata": {
    "id": "KplB5qWs_Zct"
   },
   "outputs": [],
   "source": [
    "columns_to_replace = ['track', 'artist', 'genre']\n",
    "for column in columns_to_replace:\n",
    "    df[column] = df[column].fillna('unknown')# перебор названий столбцов в цикле и замена пропущенных значений на 'unknown'"
   ]
  },
  {
   "cell_type": "markdown",
   "metadata": {
    "id": "Ilsm-MZo_Zct"
   },
   "source": [
    "Убедитесь, что в таблице не осталось пропусков. Для этого ещё раз посчитайте пропущенные значения."
   ]
  },
  {
   "cell_type": "code",
   "execution_count": 10,
   "metadata": {
    "id": "Tq4nYRX4_Zct"
   },
   "outputs": [
    {
     "name": "stdout",
     "output_type": "stream",
     "text": [
      "user_id    0\n",
      "track      0\n",
      "artist     0\n",
      "genre      0\n",
      "city       0\n",
      "time       0\n",
      "day        0\n",
      "dtype: int64\n"
     ]
    }
   ],
   "source": [
    "print(df.isna().sum())# подсчёт пропусков"
   ]
  },
  {
   "cell_type": "markdown",
   "metadata": {
    "id": "BWKRtBJ3_Zct"
   },
   "source": [
    "### Дубликаты\n",
    "Посчитайте явные дубликаты в таблице одной командой:"
   ]
  },
  {
   "cell_type": "code",
   "execution_count": 11,
   "metadata": {
    "id": "36eES_S0_Zct"
   },
   "outputs": [
    {
     "name": "stdout",
     "output_type": "stream",
     "text": [
      "3826\n"
     ]
    }
   ],
   "source": [
    "print(df.duplicated().sum()) # подсчёт явных дубликатов"
   ]
  },
  {
   "cell_type": "markdown",
   "metadata": {
    "id": "Ot25h6XR_Zct"
   },
   "source": [
    "Вызовите специальный метод `pandas`, чтобы удалить явные дубликаты:"
   ]
  },
  {
   "cell_type": "code",
   "execution_count": 12,
   "metadata": {
    "id": "exFHq6tt_Zct"
   },
   "outputs": [],
   "source": [
    "df = df.drop_duplicates().reset_index(drop=True)  # удаление явных дубликатов (с удалением старых индексов и формированием новых)"
   ]
  },
  {
   "cell_type": "markdown",
   "metadata": {
    "id": "Im2YwBEG_Zct"
   },
   "source": [
    "Ещё раз посчитайте явные дубликаты в таблице — убедитесь, что полностью от них избавились:"
   ]
  },
  {
   "cell_type": "code",
   "execution_count": 13,
   "metadata": {
    "id": "-8PuNWQ0_Zct"
   },
   "outputs": [
    {
     "name": "stdout",
     "output_type": "stream",
     "text": [
      "0\n"
     ]
    }
   ],
   "source": [
    "print(df.duplicated().sum())# проверка на отсутствие дубликатов"
   ]
  },
  {
   "cell_type": "markdown",
   "metadata": {
    "id": "QlFBsxAr_Zct"
   },
   "source": [
    "Теперь избавьтесь от неявных дубликатов в колонке `genre`. Например, название одного и того же жанра может быть записано немного по-разному. Такие ошибки тоже повлияют на результат исследования."
   ]
  },
  {
   "cell_type": "markdown",
   "metadata": {
    "id": "eSjWwsOh_Zct"
   },
   "source": [
    "Выведите на экран список уникальных названий жанров, отсортированный в алфавитном порядке. Для этого:\n",
    "* извлеките нужный столбец датафрейма, \n",
    "* примените к нему метод сортировки,\n",
    "* для отсортированного столбца вызовите метод, который вернёт уникальные значения из столбца."
   ]
  },
  {
   "cell_type": "code",
   "execution_count": 14,
   "metadata": {
    "id": "JIUcqzZN_Zct"
   },
   "outputs": [
    {
     "name": "stdout",
     "output_type": "stream",
     "text": [
      "['acid' 'acoustic' 'action' 'adult' 'africa' 'afrikaans' 'alternative'\n",
      " 'alternativepunk' 'ambient' 'americana' 'animated' 'anime' 'arabesk'\n",
      " 'arabic' 'arena' 'argentinetango' 'art' 'audiobook' 'author' 'avantgarde'\n",
      " 'axé' 'baile' 'balkan' 'beats' 'bigroom' 'black' 'bluegrass' 'blues'\n",
      " 'bollywood' 'bossa' 'brazilian' 'breakbeat' 'breaks' 'broadway'\n",
      " 'cantautori' 'cantopop' 'canzone' 'caribbean' 'caucasian' 'celtic'\n",
      " 'chamber' 'chanson' 'children' 'chill' 'chinese' 'choral' 'christian'\n",
      " 'christmas' 'classical' 'classicmetal' 'club' 'colombian' 'comedy'\n",
      " 'conjazz' 'contemporary' 'country' 'cuban' 'dance' 'dancehall' 'dancepop'\n",
      " 'dark' 'death' 'deep' 'deutschrock' 'deutschspr' 'dirty' 'disco' 'dnb'\n",
      " 'documentary' 'downbeat' 'downtempo' 'drum' 'dub' 'dubstep' 'eastern'\n",
      " 'easy' 'electronic' 'electropop' 'emo' 'entehno' 'epicmetal' 'estrada'\n",
      " 'ethnic' 'eurofolk' 'european' 'experimental' 'extrememetal' 'fado'\n",
      " 'fairytail' 'film' 'fitness' 'flamenco' 'folk' 'folklore' 'folkmetal'\n",
      " 'folkrock' 'folktronica' 'forró' 'frankreich' 'französisch' 'french'\n",
      " 'funk' 'future' 'gangsta' 'garage' 'german' 'ghazal' 'gitarre' 'glitch'\n",
      " 'gospel' 'gothic' 'grime' 'grunge' 'gypsy' 'handsup' \"hard'n'heavy\"\n",
      " 'hardcore' 'hardstyle' 'hardtechno' 'hip' 'hip-hop' 'hiphop' 'historisch'\n",
      " 'holiday' 'hop' 'horror' 'house' 'hymn' 'idm' 'independent' 'indian'\n",
      " 'indie' 'indipop' 'industrial' 'inspirational' 'instrumental'\n",
      " 'international' 'irish' 'jam' 'japanese' 'jazz' 'jewish' 'jpop' 'jungle'\n",
      " 'k-pop' 'karadeniz' 'karaoke' 'kayokyoku' 'korean' 'laiko' 'latin'\n",
      " 'latino' 'leftfield' 'local' 'lounge' 'loungeelectronic' 'lovers'\n",
      " 'malaysian' 'mandopop' 'marschmusik' 'meditative' 'mediterranean'\n",
      " 'melodic' 'metal' 'metalcore' 'mexican' 'middle' 'minimal'\n",
      " 'miscellaneous' 'modern' 'mood' 'mpb' 'muslim' 'native' 'neoklassik'\n",
      " 'neue' 'new' 'newage' 'newwave' 'nu' 'nujazz' 'numetal' 'oceania' 'old'\n",
      " 'opera' 'orchestral' 'other' 'piano' 'podcasts' 'pop' 'popdance'\n",
      " 'popelectronic' 'popeurodance' 'poprussian' 'post' 'posthardcore'\n",
      " 'postrock' 'power' 'progmetal' 'progressive' 'psychedelic' 'punjabi'\n",
      " 'punk' 'quebecois' 'ragga' 'ram' 'rancheras' 'rap' 'rave' 'reggae'\n",
      " 'reggaeton' 'regional' 'relax' 'religious' 'retro' 'rhythm' 'rnb' 'rnr'\n",
      " 'rock' 'rockabilly' 'rockalternative' 'rockindie' 'rockother' 'romance'\n",
      " 'roots' 'ruspop' 'rusrap' 'rusrock' 'russian' 'salsa' 'samba' 'scenic'\n",
      " 'schlager' 'self' 'sertanejo' 'shanson' 'shoegazing' 'showtunes' 'singer'\n",
      " 'ska' 'skarock' 'slow' 'smooth' 'soft' 'soul' 'soulful' 'sound'\n",
      " 'soundtrack' 'southern' 'specialty' 'speech' 'spiritual' 'sport'\n",
      " 'stonerrock' 'surf' 'swing' 'synthpop' 'synthrock' 'sängerportrait'\n",
      " 'tango' 'tanzorchester' 'taraftar' 'tatar' 'tech' 'techno' 'teen'\n",
      " 'thrash' 'top' 'traditional' 'tradjazz' 'trance' 'tribal' 'trip'\n",
      " 'triphop' 'tropical' 'türk' 'türkçe' 'ukrrock' 'unknown' 'urban' 'uzbek'\n",
      " 'variété' 'vi' 'videogame' 'vocal' 'western' 'world' 'worldbeat' 'ïîï'\n",
      " 'электроника']\n"
     ]
    }
   ],
   "source": [
    "print(df['genre'].sort_values().unique())# Просмотр уникальных названий жанров"
   ]
  },
  {
   "cell_type": "markdown",
   "metadata": {
    "id": "qej-Qmuo_Zct"
   },
   "source": [
    "Просмотрите список и найдите неявные дубликаты названия `hiphop`. Это могут быть названия с ошибками или альтернативные названия того же жанра.\n",
    "\n",
    "Вы увидите следующие неявные дубликаты:\n",
    "* *hip*,\n",
    "* *hop*,\n",
    "* *hip-hop*.\n",
    "\n",
    "Чтобы очистить от них таблицу, напишите функцию `replace_wrong_genres()` с двумя параметрами: \n",
    "* `wrong_genres` — список дубликатов,\n",
    "* `correct_genre` — строка с правильным значением.\n",
    "\n",
    "Функция должна исправить колонку `genre` в таблице `df`: заменить каждое значение из списка `wrong_genres` на значение из `correct_genre`."
   ]
  },
  {
   "cell_type": "code",
   "execution_count": 15,
   "metadata": {
    "id": "ErNDkmns_Zct"
   },
   "outputs": [],
   "source": [
    "def replace_wrong_genres(wrong_genres,correct_genre):# Функция для замены неявных дубликатов\n",
    "    for wrong_genre in wrong_genres: # перебираем неправильные имена\n",
    "        df['genre'] = df['genre'].replace(wrong_genre, correct_genre)"
   ]
  },
  {
   "cell_type": "markdown",
   "metadata": {
    "id": "aDoBJxbA_Zct"
   },
   "source": [
    "Вызовите `replace_wrong_genres()` и передайте ей такие аргументы, чтобы она устранила неявные дубликаты: вместо `hip`, `hop` и `hip-hop` в таблице должно быть значение `hiphop`:"
   ]
  },
  {
   "cell_type": "code",
   "execution_count": 16,
   "metadata": {
    "id": "YN5i2hpmSo09"
   },
   "outputs": [],
   "source": [
    "# Устранение неявных дубликатов\n",
    "#duplicates = ['hip', 'hop', 'hip-hop'] # список неправильных жанров\n",
    "#true_genre = 'hiphop' # правильный жанр\n",
    "#replace_wrong_genres(duplicates, true_genre)\n",
    "replace_wrong_genres(['hip', 'hop', 'hip-hop'], 'hiphop')"
   ]
  },
  {
   "cell_type": "markdown",
   "metadata": {
    "id": "zQKF16_RG15m"
   },
   "source": [
    "Проверьте, что заменили неправильные названия:\n",
    "\n",
    "*   hip\n",
    "*   hop\n",
    "*   hip-hop\n",
    "\n",
    "Выведите отсортированный список уникальных значений столбца `genre`:"
   ]
  },
  {
   "cell_type": "code",
   "execution_count": 17,
   "metadata": {
    "id": "wvixALnFG15m"
   },
   "outputs": [
    {
     "name": "stdout",
     "output_type": "stream",
     "text": [
      "['acid', 'acoustic', 'action', 'adult', 'africa', 'afrikaans', 'alternative', 'alternativepunk', 'ambient', 'americana', 'animated', 'anime', 'arabesk', 'arabic', 'arena', 'argentinetango', 'art', 'audiobook', 'author', 'avantgarde', 'axé', 'baile', 'balkan', 'beats', 'bigroom', 'black', 'bluegrass', 'blues', 'bollywood', 'bossa', 'brazilian', 'breakbeat', 'breaks', 'broadway', 'cantautori', 'cantopop', 'canzone', 'caribbean', 'caucasian', 'celtic', 'chamber', 'chanson', 'children', 'chill', 'chinese', 'choral', 'christian', 'christmas', 'classical', 'classicmetal', 'club', 'colombian', 'comedy', 'conjazz', 'contemporary', 'country', 'cuban', 'dance', 'dancehall', 'dancepop', 'dark', 'death', 'deep', 'deutschrock', 'deutschspr', 'dirty', 'disco', 'dnb', 'documentary', 'downbeat', 'downtempo', 'drum', 'dub', 'dubstep', 'eastern', 'easy', 'electronic', 'electropop', 'emo', 'entehno', 'epicmetal', 'estrada', 'ethnic', 'eurofolk', 'european', 'experimental', 'extrememetal', 'fado', 'fairytail', 'film', 'fitness', 'flamenco', 'folk', 'folklore', 'folkmetal', 'folkrock', 'folktronica', 'forró', 'frankreich', 'französisch', 'french', 'funk', 'future', 'gangsta', 'garage', 'german', 'ghazal', 'gitarre', 'glitch', 'gospel', 'gothic', 'grime', 'grunge', 'gypsy', 'handsup', \"hard'n'heavy\", 'hardcore', 'hardstyle', 'hardtechno', 'hiphop', 'historisch', 'holiday', 'horror', 'house', 'hymn', 'idm', 'independent', 'indian', 'indie', 'indipop', 'industrial', 'inspirational', 'instrumental', 'international', 'irish', 'jam', 'japanese', 'jazz', 'jewish', 'jpop', 'jungle', 'k-pop', 'karadeniz', 'karaoke', 'kayokyoku', 'korean', 'laiko', 'latin', 'latino', 'leftfield', 'local', 'lounge', 'loungeelectronic', 'lovers', 'malaysian', 'mandopop', 'marschmusik', 'meditative', 'mediterranean', 'melodic', 'metal', 'metalcore', 'mexican', 'middle', 'minimal', 'miscellaneous', 'modern', 'mood', 'mpb', 'muslim', 'native', 'neoklassik', 'neue', 'new', 'newage', 'newwave', 'nu', 'nujazz', 'numetal', 'oceania', 'old', 'opera', 'orchestral', 'other', 'piano', 'podcasts', 'pop', 'popdance', 'popelectronic', 'popeurodance', 'poprussian', 'post', 'posthardcore', 'postrock', 'power', 'progmetal', 'progressive', 'psychedelic', 'punjabi', 'punk', 'quebecois', 'ragga', 'ram', 'rancheras', 'rap', 'rave', 'reggae', 'reggaeton', 'regional', 'relax', 'religious', 'retro', 'rhythm', 'rnb', 'rnr', 'rock', 'rockabilly', 'rockalternative', 'rockindie', 'rockother', 'romance', 'roots', 'ruspop', 'rusrap', 'rusrock', 'russian', 'salsa', 'samba', 'scenic', 'schlager', 'self', 'sertanejo', 'shanson', 'shoegazing', 'showtunes', 'singer', 'ska', 'skarock', 'slow', 'smooth', 'soft', 'soul', 'soulful', 'sound', 'soundtrack', 'southern', 'specialty', 'speech', 'spiritual', 'sport', 'stonerrock', 'surf', 'swing', 'synthpop', 'synthrock', 'sängerportrait', 'tango', 'tanzorchester', 'taraftar', 'tatar', 'tech', 'techno', 'teen', 'thrash', 'top', 'traditional', 'tradjazz', 'trance', 'tribal', 'trip', 'triphop', 'tropical', 'türk', 'türkçe', 'ukrrock', 'unknown', 'urban', 'uzbek', 'variété', 'vi', 'videogame', 'vocal', 'western', 'world', 'worldbeat', 'ïîï', 'электроника']\n"
     ]
    }
   ],
   "source": [
    "print(sorted(df['genre'].unique()))# Проверка на неявные дубликаты"
   ]
  },
  {
   "cell_type": "markdown",
   "metadata": {
    "id": "jz6a9-7HQUDd"
   },
   "source": [
    "**Выводы**\n",
    "\n",
    "Предобработка обнаружила три проблемы в данных:\n",
    "\n",
    "- нарушения в стиле заголовков,\n",
    "- пропущенные значения,\n",
    "- дубликаты — явные и неявные.\n",
    "\n",
    "Вы исправили заголовки, чтобы упростить работу с таблицей. Без дубликатов исследование станет более точным.\n",
    "\n",
    "Пропущенные значения вы заменили на `'unknown'`. Ещё предстоит увидеть, не повредят ли исследованию пропуски в колонке `genre`.\n",
    "\n",
    "Теперь можно перейти к проверке гипотез. "
   ]
  },
  {
   "cell_type": "markdown",
   "metadata": {
    "id": "WttZHXH0SqKk"
   },
   "source": [
    "## Проверка гипотез"
   ]
  },
  {
   "cell_type": "markdown",
   "metadata": {
    "id": "Im936VVi_Zcu"
   },
   "source": [
    "### Сравнение поведения пользователей двух столиц"
   ]
  },
  {
   "cell_type": "markdown",
   "metadata": {
    "id": "nwt_MuaL_Zcu"
   },
   "source": [
    "Первая гипотеза утверждает, что пользователи по-разному слушают музыку в Москве и Санкт-Петербурге. Проверьте это предположение по данным о трёх днях недели — понедельнике, среде и пятнице. Для этого:\n",
    "\n",
    "* Разделите пользователей Москвы и Санкт-Петербурга\n",
    "* Сравните, сколько треков послушала каждая группа пользователей в понедельник, среду и пятницу.\n"
   ]
  },
  {
   "cell_type": "markdown",
   "metadata": {
    "id": "8Dw_YMmT_Zcu"
   },
   "source": [
    "Для тренировки сначала выполните каждый из расчётов по отдельности. \n",
    "\n",
    "Оцените активность пользователей в каждом городе. Сгруппируйте данные по городу и посчитайте прослушивания в каждой группе.\n",
    "\n"
   ]
  },
  {
   "cell_type": "code",
   "execution_count": 18,
   "metadata": {
    "id": "0_Qs96oh_Zcu"
   },
   "outputs": [
    {
     "name": "stdout",
     "output_type": "stream",
     "text": [
      "city\n",
      "Moscow              42741\n",
      "Saint-Petersburg    18512\n",
      "Name: track, dtype: int64\n"
     ]
    }
   ],
   "source": [
    "print(df.groupby('city')['track'].count()) # Подсчёт прослушиваний в каждом городе"
   ]
  },
  {
   "cell_type": "markdown",
   "metadata": {
    "id": "dzli3w8o_Zcu"
   },
   "source": [
    "В Москве прослушиваний больше, чем в Петербурге. Из этого не следует, что московские пользователи чаще слушают музыку. Просто самих пользователей в Москве больше.\n",
    "\n",
    "Теперь сгруппируйте данные по дню недели и подсчитайте прослушивания в понедельник, среду и пятницу. Учтите, что в данных есть информация только о прослушиваниях только за эти дни.\n"
   ]
  },
  {
   "cell_type": "code",
   "execution_count": 19,
   "metadata": {
    "id": "uZMKjiJz_Zcu"
   },
   "outputs": [
    {
     "name": "stdout",
     "output_type": "stream",
     "text": [
      "day\n",
      "Friday       21840\n",
      "Monday       21354\n",
      "Wednesday    18059\n",
      "Name: track, dtype: int64\n"
     ]
    }
   ],
   "source": [
    "print(df.groupby('day')['track'].count())# Подсчёт прослушиваний в каждый из трёх дней"
   ]
  },
  {
   "cell_type": "markdown",
   "metadata": {
    "id": "cC2tNrlL_Zcu"
   },
   "source": [
    "В среднем пользователи из двух городов менее активны по средам. Но картина может измениться, если рассмотреть каждый город в отдельности."
   ]
  },
  {
   "cell_type": "markdown",
   "metadata": {
    "id": "POzs8bGa_Zcu"
   },
   "source": [
    "Вы видели, как работает группировка по городу и по дням недели. Теперь напишите функцию, которая объединит два эти расчёта.\n",
    "\n",
    "Создайте функцию `number_tracks()`, которая посчитает прослушивания для заданного дня и города. Ей понадобятся два параметра:\n",
    "* день недели,\n",
    "* название города.\n",
    "\n",
    "В функции сохраните в переменную строки исходной таблицы, у которых значение:\n",
    "  * в колонке `day` равно параметру `day`,\n",
    "  * в колонке `city` равно параметру `city`.\n",
    "\n",
    "Для этого примените последовательную фильтрацию с логической индексацией.\n",
    "\n",
    "Затем посчитайте значения в столбце `user_id` получившейся таблицы. Результат сохраните в новую переменную. Верните эту переменную из функции."
   ]
  },
  {
   "cell_type": "code",
   "execution_count": 20,
   "metadata": {
    "id": "Nz3GdQB1_Zcu"
   },
   "outputs": [],
   "source": [
    "# <создание функции number_tracks()>\n",
    "# Объявляется функция с двумя параметрами: day, city.\n",
    "# В переменной track_list сохраняются те строки таблицы df, для которых \n",
    "# значение в столбце 'day' равно параметру day и одновременно значение\n",
    "# в столбце 'city' равно параметру city (используйте последовательную фильтрацию\n",
    "# с помощью логической индексации).\n",
    "# В переменной track_list_count сохраняется число значений столбца 'user_id',\n",
    "# рассчитанное методом count() для таблицы track_list.\n",
    "def number_tracks(day, city):\n",
    "    track_list=df[(df['day']==day) & (df['city']==city)]\n",
    "    track_list_count = track_list['user_id'].count()\n",
    "    return track_list_count# Функция возвращает число - значение track_list_count.\n",
    "\n",
    "# Функция для подсчёта прослушиваний для конкретного города и дня.\n",
    "# С помощью последовательной фильтрации с логической индексацией она \n",
    "# сначала получит из исходной таблицы строки с нужным днём,\n",
    "# затем из результата отфильтрует строки с нужным городом,\n",
    "# методом count() посчитает количество значений в колонке user_id. \n",
    "# Это количество функция вернёт в качестве результата"
   ]
  },
  {
   "cell_type": "markdown",
   "metadata": {
    "id": "ytf7xFrFJQ2r"
   },
   "source": [
    "Вызовите `number_tracks()` шесть раз, меняя значение параметров — так, чтобы получить данные для каждого города в каждый из трёх дней."
   ]
  },
  {
   "cell_type": "code",
   "execution_count": 21,
   "metadata": {
    "id": "rJcRATNQ_Zcu"
   },
   "outputs": [
    {
     "data": {
      "text/plain": [
       "15740"
      ]
     },
     "execution_count": 21,
     "metadata": {},
     "output_type": "execute_result"
    }
   ],
   "source": [
    "number_tracks('Monday', 'Moscow')# количество прослушиваний в Москве по понедельникам"
   ]
  },
  {
   "cell_type": "code",
   "execution_count": 22,
   "metadata": {
    "id": "hq_ncZ5T_Zcu"
   },
   "outputs": [
    {
     "data": {
      "text/plain": [
       "5614"
      ]
     },
     "execution_count": 22,
     "metadata": {},
     "output_type": "execute_result"
    }
   ],
   "source": [
    "number_tracks('Monday', 'Saint-Petersburg')# количество прослушиваний в Санкт-Петербурге по понедельникам"
   ]
  },
  {
   "cell_type": "code",
   "execution_count": 23,
   "metadata": {
    "id": "_NTy2VPU_Zcu"
   },
   "outputs": [
    {
     "data": {
      "text/plain": [
       "11056"
      ]
     },
     "execution_count": 23,
     "metadata": {},
     "output_type": "execute_result"
    }
   ],
   "source": [
    "number_tracks('Wednesday', 'Moscow')# количество прослушиваний в Москве по средам"
   ]
  },
  {
   "cell_type": "code",
   "execution_count": 24,
   "metadata": {
    "id": "j2y3TAwo_Zcu"
   },
   "outputs": [
    {
     "data": {
      "text/plain": [
       "7003"
      ]
     },
     "execution_count": 24,
     "metadata": {},
     "output_type": "execute_result"
    }
   ],
   "source": [
    "number_tracks('Wednesday', 'Saint-Petersburg')# количество прослушиваний в Санкт-Петербурге по средам"
   ]
  },
  {
   "cell_type": "code",
   "execution_count": 25,
   "metadata": {
    "id": "vYDw5u_K_Zcu"
   },
   "outputs": [
    {
     "data": {
      "text/plain": [
       "15945"
      ]
     },
     "execution_count": 25,
     "metadata": {},
     "output_type": "execute_result"
    }
   ],
   "source": [
    "number_tracks('Friday', 'Moscow')# количество прослушиваний в Москве по пятницам"
   ]
  },
  {
   "cell_type": "code",
   "execution_count": 26,
   "metadata": {
    "id": "8_yzFtW3_Zcu"
   },
   "outputs": [
    {
     "data": {
      "text/plain": [
       "5895"
      ]
     },
     "execution_count": 26,
     "metadata": {},
     "output_type": "execute_result"
    }
   ],
   "source": [
    "number_tracks('Friday', 'Saint-Petersburg')# количество прослушиваний в Санкт-Петербурге по пятницам"
   ]
  },
  {
   "cell_type": "markdown",
   "metadata": {
    "id": "7QXffbO-_Zcu"
   },
   "source": [
    "Создайте c помощью конструктора `pd.DataFrame` таблицу, где\n",
    "* названия колонок — `['city', 'monday', 'wednesday', 'friday']`;\n",
    "* данные — результаты, которые вы получили с помощью `number_tracks`."
   ]
  },
  {
   "cell_type": "code",
   "execution_count": 27,
   "metadata": {
    "id": "APAcLpOr_Zcu"
   },
   "outputs": [
    {
     "data": {
      "text/html": [
       "<div>\n",
       "<style scoped>\n",
       "    .dataframe tbody tr th:only-of-type {\n",
       "        vertical-align: middle;\n",
       "    }\n",
       "\n",
       "    .dataframe tbody tr th {\n",
       "        vertical-align: top;\n",
       "    }\n",
       "\n",
       "    .dataframe thead th {\n",
       "        text-align: right;\n",
       "    }\n",
       "</style>\n",
       "<table border=\"1\" class=\"dataframe\">\n",
       "  <thead>\n",
       "    <tr style=\"text-align: right;\">\n",
       "      <th></th>\n",
       "      <th>city</th>\n",
       "      <th>monday</th>\n",
       "      <th>wednesday</th>\n",
       "      <th>friday</th>\n",
       "    </tr>\n",
       "  </thead>\n",
       "  <tbody>\n",
       "    <tr>\n",
       "      <td>0</td>\n",
       "      <td>Moscow</td>\n",
       "      <td>15740</td>\n",
       "      <td>11056</td>\n",
       "      <td>15945</td>\n",
       "    </tr>\n",
       "    <tr>\n",
       "      <td>1</td>\n",
       "      <td>Saint-Petersburg</td>\n",
       "      <td>5614</td>\n",
       "      <td>7003</td>\n",
       "      <td>5895</td>\n",
       "    </tr>\n",
       "  </tbody>\n",
       "</table>\n",
       "</div>"
      ],
      "text/plain": [
       "               city  monday  wednesday  friday\n",
       "0            Moscow   15740      11056   15945\n",
       "1  Saint-Petersburg    5614       7003    5895"
      ]
     },
     "metadata": {},
     "output_type": "display_data"
    }
   ],
   "source": [
    "data = [['Moscow', 15740, 11056, 15945],\n",
    "       ['Saint-Petersburg', 5614, 7003, 5895]]\n",
    "columns = ['city', 'monday', 'wednesday', 'friday']\n",
    "research_city_result=pd.DataFrame(data=data,columns=columns)\n",
    "display(research_city_result)# Таблица с результатами"
   ]
  },
  {
   "cell_type": "markdown",
   "metadata": {
    "id": "-EgPIHYu_Zcu"
   },
   "source": [
    "**Выводы**\n",
    "\n",
    "Данные показывают разницу поведения пользователей:\n",
    "\n",
    "- В Москве пик прослушиваний приходится на понедельник и пятницу, а в среду заметен спад.\n",
    "- В Петербурге, наоборот, больше слушают музыку по средам. Активность в понедельник и пятницу здесь почти в равной мере уступает среде.\n",
    "\n",
    "Значит, данные говорят в пользу первой гипотезы."
   ]
  },
  {
   "cell_type": "markdown",
   "metadata": {
    "id": "atZAxtq4_Zcu"
   },
   "source": [
    "### Музыка в начале и в конце недели"
   ]
  },
  {
   "cell_type": "markdown",
   "metadata": {
    "id": "eXrQqXFH_Zcu"
   },
   "source": [
    "Согласно второй гипотезе, утром в понедельник в Москве преобладают одни жанры, а в Петербурге — другие. Так же и вечером пятницы преобладают разные жанры — в зависимости от города."
   ]
  },
  {
   "cell_type": "markdown",
   "metadata": {
    "id": "S8UcW6Hw_Zcu"
   },
   "source": [
    "Сохраните таблицы с данными в две переменные:\n",
    "* по Москве — в `moscow_general`;\n",
    "* по Санкт-Петербургу — в `spb_general`."
   ]
  },
  {
   "cell_type": "code",
   "execution_count": 28,
   "metadata": {
    "id": "qeaFfM_P_Zcu"
   },
   "outputs": [],
   "source": [
    "# получение таблицы moscow_general из тех строк таблицы df, \n",
    "# для которых значение в столбце 'city' равно 'Moscow'\n",
    "moscow_general = df[df['city']=='Moscow']\n",
    "#display(moscow_general)"
   ]
  },
  {
   "cell_type": "code",
   "execution_count": 29,
   "metadata": {
    "id": "ORaVRKto_Zcu"
   },
   "outputs": [],
   "source": [
    "# получение таблицы spb_general из тех строк таблицы df,\n",
    "# для которых значение в столбце 'city' равно 'Saint-Petersburg'\n",
    "spb_general = df[df['city']=='Saint-Petersburg']"
   ]
  },
  {
   "cell_type": "markdown",
   "metadata": {
    "id": "MEJV-CX2_Zcu"
   },
   "source": [
    "Создайте функцию `genre_weekday()` с четырьмя параметрами:\n",
    "* таблица (датафрейм) с данными,\n",
    "* день недели,\n",
    "* начальная временная метка в формате 'hh:mm', \n",
    "* последняя временная метка в формате 'hh:mm'.\n",
    "\n",
    "Функция должна вернуть информацию о топ-10 жанров тех треков, которые прослушивали в указанный день, в промежутке между двумя отметками времени."
   ]
  },
  {
   "cell_type": "code",
   "execution_count": 30,
   "metadata": {
    "id": "laJT9BYl_Zcu"
   },
   "outputs": [],
   "source": [
    "# Объявление функции genre_weekday() с параметрами table, day, time1, time2,\n",
    "# которая возвращает информацию о самых популярных жанрах в указанный день в\n",
    "# заданное время:\n",
    "# 1) в переменную genre_df сохраняются те строки переданного датафрейма table, для\n",
    "#    которых одновременно:\n",
    "#    - значение в столбце day равно значению аргумента day\n",
    "#    - значение в столбце time больше значения аргумента time1\n",
    "#    - значение в столбце time меньше значения аргумента time2\n",
    "#    Используйте последовательную фильтрацию с помощью логической индексации.\n",
    "# 2) сгруппировать датафрейм genre_df по столбцу genre, взять один из его\n",
    "#    столбцов и посчитать методом count() количество записей для каждого из\n",
    "#    присутствующих жанров, получившийся Series записать в переменную\n",
    "#    genre_df_count\n",
    "# 3) отсортировать genre_df_count по убыванию встречаемости и сохранить\n",
    "#    в переменную genre_df_sorted\n",
    "# 4) вернуть Series из 10 первых значений genre_df_sorted, это будут топ-10\n",
    "#    популярных жанров (в указанный день, в заданное время)"
   ]
  },
  {
   "cell_type": "code",
   "execution_count": 31,
   "metadata": {},
   "outputs": [],
   "source": [
    "#Перенес функцию ниже, а то путаюсь\n",
    "def genre_weekday(table, day, time1, time2):\n",
    "    genre_df = table[(table['day'] == day)&(table['time'] > time1)&(table['time'] < time2)]\n",
    "    genre_df_count = genre_df.groupby('genre')['track'].count()\n",
    "    genre_df_sorted = genre_df_count.sort_values(ascending=False)\n",
    "    return genre_df_sorted.head(10)"
   ]
  },
  {
   "cell_type": "markdown",
   "metadata": {
    "id": "la2s2_PF_Zcu"
   },
   "source": [
    "Cравните результаты функции `genre_weekday()` для Москвы и Санкт-Петербурга в понедельник утром (с 7:00 до 11:00) и в пятницу вечером (с 17:00 до 23:00):"
   ]
  },
  {
   "cell_type": "code",
   "execution_count": 32,
   "metadata": {
    "id": "yz7itPUQ_Zcu"
   },
   "outputs": [
    {
     "data": {
      "text/plain": [
       "genre\n",
       "pop            781\n",
       "dance          549\n",
       "electronic     480\n",
       "rock           474\n",
       "hiphop         286\n",
       "ruspop         186\n",
       "world          181\n",
       "rusrap         175\n",
       "alternative    164\n",
       "unknown        161\n",
       "Name: track, dtype: int64"
      ]
     },
     "execution_count": 32,
     "metadata": {},
     "output_type": "execute_result"
    }
   ],
   "source": [
    "# вызов функции для утра понедельника в Москве (вместо df — таблица moscow_general)\n",
    "# объекты, хранящие время, являются строками и сравниваются как строки\n",
    "# пример вызова: genre_weekday(moscow_general, 'Monday', '07:00', '11:00')\n",
    "genre_weekday(moscow_general, 'Monday', '07:00', '11:00')"
   ]
  },
  {
   "cell_type": "code",
   "execution_count": 33,
   "metadata": {
    "id": "kwUcHPdy_Zcu"
   },
   "outputs": [
    {
     "data": {
      "text/plain": [
       "genre\n",
       "pop            218\n",
       "dance          182\n",
       "rock           162\n",
       "electronic     147\n",
       "hiphop          80\n",
       "ruspop          64\n",
       "alternative     58\n",
       "rusrap          55\n",
       "jazz            44\n",
       "classical       40\n",
       "Name: track, dtype: int64"
      ]
     },
     "execution_count": 33,
     "metadata": {},
     "output_type": "execute_result"
    }
   ],
   "source": [
    "# вызов функции для утра понедельника в Петербурге (вместо df — таблица spb_general)\n",
    "genre_weekday(spb_general, 'Monday', '07:00', '11:00')"
   ]
  },
  {
   "cell_type": "code",
   "execution_count": 34,
   "metadata": {
    "id": "EzXVRE1o_Zcu"
   },
   "outputs": [
    {
     "data": {
      "text/plain": [
       "genre\n",
       "pop            713\n",
       "rock           517\n",
       "dance          495\n",
       "electronic     482\n",
       "hiphop         273\n",
       "world          208\n",
       "ruspop         170\n",
       "alternative    163\n",
       "classical      163\n",
       "rusrap         142\n",
       "Name: track, dtype: int64"
      ]
     },
     "execution_count": 34,
     "metadata": {},
     "output_type": "execute_result"
    }
   ],
   "source": [
    "# вызов функции для вечера пятницы в Москве\n",
    "genre_weekday(moscow_general, 'Friday', '17:00', '23:00')"
   ]
  },
  {
   "cell_type": "code",
   "execution_count": 35,
   "metadata": {
    "id": "JZaEKu5v_Zcu"
   },
   "outputs": [
    {
     "data": {
      "text/plain": [
       "genre\n",
       "pop            256\n",
       "rock           216\n",
       "electronic     216\n",
       "dance          210\n",
       "hiphop          97\n",
       "alternative     63\n",
       "jazz            61\n",
       "classical       60\n",
       "rusrap          59\n",
       "world           54\n",
       "Name: track, dtype: int64"
      ]
     },
     "execution_count": 35,
     "metadata": {},
     "output_type": "execute_result"
    }
   ],
   "source": [
    "# вызов функции для вечера пятницы в Петербурге\n",
    "genre_weekday(spb_general, 'Friday', '17:00', '23:00')"
   ]
  },
  {
   "cell_type": "markdown",
   "metadata": {
    "id": "wrCe4MNX_Zcu"
   },
   "source": [
    "**Выводы**\n",
    "\n",
    "Если сравнить топ-10 жанров в понедельник утром, можно сделать такие выводы:\n",
    "\n",
    "1. В Москве и Петербурге слушают похожую музыку. Единственное отличие — в московский рейтинг вошёл жанр “world”, а в петербургский — джаз и классика.\n",
    "\n",
    "2. В Москве пропущенных значений оказалось так много, что значение `'unknown'` заняло десятое место среди самых популярных жанров. Значит, пропущенные значения занимают существенную долю в данных и угрожают достоверности исследования.\n",
    "\n",
    "Вечер пятницы не меняет эту картину. Некоторые жанры поднимаются немного выше, другие спускаются, но в целом топ-10 остаётся тем же самым.\n",
    "\n",
    "Таким образом, вторая гипотеза подтвердилась лишь частично:\n",
    "* Пользователи слушают похожую музыку в начале недели и в конце.\n",
    "* Разница между Москвой и Петербургом не слишком выражена. В Москве чаще слушают русскую популярную музыку, в Петербурге — джаз.\n",
    "\n",
    "Однако пропуски в данных ставят под сомнение этот результат. В Москве их так много, что рейтинг топ-10 мог бы выглядеть иначе, если бы не утерянные  данные о жанрах."
   ]
  },
  {
   "cell_type": "markdown",
   "metadata": {
    "id": "JolODAqr_Zcu"
   },
   "source": [
    "### Жанровые предпочтения в Москве и Петербурге\n",
    "\n",
    "Гипотеза: Петербург — столица рэпа, музыку этого жанра там слушают чаще, чем в Москве.  А Москва — город контрастов, в котором, тем не менее, преобладает поп-музыка."
   ]
  },
  {
   "cell_type": "markdown",
   "metadata": {
    "id": "DlegSvaT_Zcu"
   },
   "source": [
    "Сгруппируйте таблицу `moscow_general` по жанру и посчитайте прослушивания треков каждого жанра методом `count()`. Затем отсортируйте результат в порядке убывания и сохраните его в таблице `moscow_genres`."
   ]
  },
  {
   "cell_type": "code",
   "execution_count": 36,
   "metadata": {
    "id": "r19lIPke_Zcu"
   },
   "outputs": [],
   "source": [
    "# одной строкой: группировка таблицы moscow_general по столбцу 'genre', \n",
    "# подсчёт числа значений 'genre' в этой группировке методом count(), \n",
    "# сортировка получившегося Series в порядке убывания и сохранение в moscow_genres\n",
    "moscow_genres = moscow_general.groupby('genre')['track'].count().sort_values(ascending=False)"
   ]
  },
  {
   "cell_type": "markdown",
   "metadata": {
    "id": "6kMuomxTiIr8"
   },
   "source": [
    "Выведите на экран первые десять строк `moscow_genres`:"
   ]
  },
  {
   "cell_type": "code",
   "execution_count": 37,
   "metadata": {
    "id": "WhCSooF8_Zcv"
   },
   "outputs": [
    {
     "data": {
      "text/plain": [
       "genre\n",
       "pop            5892\n",
       "dance          4435\n",
       "rock           3965\n",
       "electronic     3786\n",
       "hiphop         2096\n",
       "classical      1616\n",
       "world          1432\n",
       "alternative    1379\n",
       "ruspop         1372\n",
       "rusrap         1161\n",
       "Name: track, dtype: int64"
      ]
     },
     "execution_count": 37,
     "metadata": {},
     "output_type": "execute_result"
    }
   ],
   "source": [
    "moscow_genres.head(10)# просмотр первых 10 строк moscow_genres"
   ]
  },
  {
   "cell_type": "markdown",
   "metadata": {
    "id": "cnPG2vnN_Zcv"
   },
   "source": [
    "Теперь повторите то же и для Петербурга.\n",
    "\n",
    "Сгруппируйте таблицу `spb_general` по жанру. Посчитайте прослушивания треков каждого жанра. Результат отсортируйте в порядке убывания и сохраните в таблице `spb_genres`:\n"
   ]
  },
  {
   "cell_type": "code",
   "execution_count": 38,
   "metadata": {
    "id": "gluLIpE7_Zcv"
   },
   "outputs": [],
   "source": [
    "# одной строкой: группировка таблицы spb_general по столбцу 'genre', \n",
    "# подсчёт числа значений 'genre' в этой группировке методом count(), \n",
    "# сортировка получившегося Series в порядке убывания и сохранение в spb_genres\n",
    "spb_genres = spb_general.groupby('genre')['track'].count().sort_values(ascending=False)"
   ]
  },
  {
   "cell_type": "markdown",
   "metadata": {
    "id": "5Doha_ODgyQ8"
   },
   "source": [
    "Выведите на экран первые десять строк `spb_genres`:"
   ]
  },
  {
   "cell_type": "code",
   "execution_count": 39,
   "metadata": {
    "id": "uaGJHjVU_Zcv"
   },
   "outputs": [
    {
     "data": {
      "text/plain": [
       "genre\n",
       "pop            2431\n",
       "dance          1932\n",
       "rock           1879\n",
       "electronic     1736\n",
       "hiphop          960\n",
       "alternative     649\n",
       "classical       646\n",
       "rusrap          564\n",
       "ruspop          538\n",
       "world           515\n",
       "Name: track, dtype: int64"
      ]
     },
     "execution_count": 39,
     "metadata": {},
     "output_type": "execute_result"
    }
   ],
   "source": [
    "spb_genres.head(10)# просмотр первых 10 строк spb_genres"
   ]
  },
  {
   "cell_type": "markdown",
   "metadata": {
    "id": "RY51YJYu_Zcv"
   },
   "source": [
    "**Выводы**"
   ]
  },
  {
   "cell_type": "markdown",
   "metadata": {
    "id": "nVhnJEm__Zcv"
   },
   "source": [
    "Гипотеза частично подтвердилась:\n",
    "* Поп-музыка — самый популярный жанр в Москве, как и предполагала гипотеза. Более того, в топ-10 жанров встречается близкий жанр — русская популярная музыка.\n",
    "* Вопреки ожиданиям, рэп одинаково популярен в Москве и Петербурге. \n"
   ]
  },
  {
   "cell_type": "markdown",
   "metadata": {
    "id": "ykKQ0N65_Zcv"
   },
   "source": [
    "## Итоги исследования"
   ]
  },
  {
   "cell_type": "markdown",
   "metadata": {
    "id": "tjUwbHb3_Zcv"
   },
   "source": [
    "Вы проверили три гипотезы и установили:\n",
    "\n",
    "1. День недели по-разному влияет на активность пользователей в Москве и Петербурге. \n",
    "\n",
    "Первая гипотеза полностью подтвердилась.\n",
    "\n",
    "2. Музыкальные предпочтения не сильно меняются в течение недели — будь то Москва или Петербург. Небольшие различия заметны в начале недели, по понедельникам:\n",
    "* в Москве слушают музыку жанра “world”,\n",
    "* в Петербурге — джаз и классику.\n",
    "\n",
    "Таким образом, вторая гипотеза подтвердилась лишь отчасти. Этот результат мог оказаться иным, если бы не пропуски в данных.\n",
    "\n",
    "3. Во вкусах пользователей Москвы и Петербурга больше общего чем различий. Вопреки ожиданиям, предпочтения жанров в Петербурге напоминают московские.\n",
    "\n",
    "Третья гипотеза не подтвердилась. Если различия в предпочтениях и существуют, на основной массе пользователей они незаметны.\n",
    "\n",
    "**На практике исследования содержат проверки статистических гипотез.**\n",
    "Из данных одного сервиса не всегда можно сделать вывод о всех жителях города.\n",
    "Проверки статистических гипотез покажут, насколько они достоверны, исходя из имеющихся данных. \n",
    "С методами проверок гипотез вы ещё познакомитесь в следующих темах."
   ]
  }
 ],
 "metadata": {
  "ExecuteTimeLog": [
   {
    "duration": 581,
    "start_time": "2022-01-23T10:20:28.838Z"
   },
   {
    "duration": 2674,
    "start_time": "2022-01-23T10:21:22.307Z"
   },
   {
    "duration": 118,
    "start_time": "2022-01-23T10:22:12.806Z"
   },
   {
    "duration": 19,
    "start_time": "2022-01-23T10:22:31.598Z"
   },
   {
    "duration": 108,
    "start_time": "2022-01-23T10:22:58.892Z"
   },
   {
    "duration": 24,
    "start_time": "2022-01-23T10:23:02.644Z"
   },
   {
    "duration": 408,
    "start_time": "2022-01-23T10:34:00.724Z"
   },
   {
    "duration": 104,
    "start_time": "2022-01-23T10:34:07.421Z"
   },
   {
    "duration": 3,
    "start_time": "2022-01-23T10:34:47.698Z"
   },
   {
    "duration": 3,
    "start_time": "2022-01-23T10:36:59.271Z"
   },
   {
    "duration": 21,
    "start_time": "2022-01-23T10:37:04.315Z"
   },
   {
    "duration": 3,
    "start_time": "2022-01-23T10:37:07.546Z"
   },
   {
    "duration": 20,
    "start_time": "2022-01-23T10:38:15.074Z"
   },
   {
    "duration": 20,
    "start_time": "2022-01-23T10:44:33.384Z"
   },
   {
    "duration": 16,
    "start_time": "2022-01-23T10:44:37.995Z"
   },
   {
    "duration": 21,
    "start_time": "2022-01-23T10:44:40.631Z"
   },
   {
    "duration": 53,
    "start_time": "2022-01-23T10:45:17.000Z"
   },
   {
    "duration": 58,
    "start_time": "2022-01-23T10:45:49.154Z"
   },
   {
    "duration": 58,
    "start_time": "2022-01-23T10:46:01.609Z"
   },
   {
    "duration": 6,
    "start_time": "2022-01-23T10:47:44.728Z"
   },
   {
    "duration": 114,
    "start_time": "2022-01-23T10:48:09.656Z"
   },
   {
    "duration": 6,
    "start_time": "2022-01-23T10:48:22.786Z"
   },
   {
    "duration": 2,
    "start_time": "2022-01-23T10:56:25.115Z"
   },
   {
    "duration": 339,
    "start_time": "2022-01-23T10:56:28.826Z"
   },
   {
    "duration": 10,
    "start_time": "2022-01-23T10:56:45.168Z"
   },
   {
    "duration": 5,
    "start_time": "2022-01-23T10:57:06.112Z"
   },
   {
    "duration": 27,
    "start_time": "2022-01-23T11:00:26.404Z"
   },
   {
    "duration": 9,
    "start_time": "2022-01-23T11:02:02.420Z"
   },
   {
    "duration": 9,
    "start_time": "2022-01-23T11:02:24.826Z"
   },
   {
    "duration": 25,
    "start_time": "2022-01-23T11:03:48.507Z"
   },
   {
    "duration": 9,
    "start_time": "2022-01-23T11:04:44.594Z"
   },
   {
    "duration": 10,
    "start_time": "2022-01-23T11:05:01.423Z"
   },
   {
    "duration": 3,
    "start_time": "2022-01-23T11:46:21.501Z"
   },
   {
    "duration": 702,
    "start_time": "2022-01-23T11:46:27.504Z"
   },
   {
    "duration": 117,
    "start_time": "2022-01-23T11:47:41.733Z"
   },
   {
    "duration": 3,
    "start_time": "2022-01-23T11:51:09.985Z"
   },
   {
    "duration": 664,
    "start_time": "2022-01-23T11:51:24.411Z"
   },
   {
    "duration": 3,
    "start_time": "2022-01-23T11:51:53.833Z"
   },
   {
    "duration": 15,
    "start_time": "2022-01-23T11:51:58.821Z"
   },
   {
    "duration": 14,
    "start_time": "2022-01-23T11:52:39.655Z"
   },
   {
    "duration": 20,
    "start_time": "2022-01-23T11:53:27.759Z"
   },
   {
    "duration": 12,
    "start_time": "2022-01-23T11:53:29.001Z"
   },
   {
    "duration": 15,
    "start_time": "2022-01-23T11:53:30.025Z"
   },
   {
    "duration": 13,
    "start_time": "2022-01-23T11:53:31.267Z"
   },
   {
    "duration": 11,
    "start_time": "2022-01-23T11:57:11.652Z"
   },
   {
    "duration": 10,
    "start_time": "2022-01-23T11:59:31.501Z"
   },
   {
    "duration": 22,
    "start_time": "2022-01-23T11:59:54.068Z"
   },
   {
    "duration": 12,
    "start_time": "2022-01-23T12:00:01.974Z"
   },
   {
    "duration": 3,
    "start_time": "2022-01-23T12:01:51.544Z"
   },
   {
    "duration": 20,
    "start_time": "2022-01-23T12:01:54.304Z"
   },
   {
    "duration": 3,
    "start_time": "2022-01-23T12:02:38.997Z"
   },
   {
    "duration": 21,
    "start_time": "2022-01-23T12:02:41.579Z"
   },
   {
    "duration": 4,
    "start_time": "2022-01-23T12:19:58.545Z"
   },
   {
    "duration": 17,
    "start_time": "2022-01-23T12:20:43.370Z"
   },
   {
    "duration": 3,
    "start_time": "2022-01-23T12:21:27.533Z"
   },
   {
    "duration": 16,
    "start_time": "2022-01-23T12:21:30.788Z"
   },
   {
    "duration": 117,
    "start_time": "2022-01-23T12:22:12.870Z"
   },
   {
    "duration": 128,
    "start_time": "2022-01-23T12:22:20.553Z"
   },
   {
    "duration": 3,
    "start_time": "2022-01-23T12:22:24.539Z"
   },
   {
    "duration": 17,
    "start_time": "2022-01-23T12:22:26.679Z"
   },
   {
    "duration": 13,
    "start_time": "2022-01-23T12:25:51.050Z"
   },
   {
    "duration": 8,
    "start_time": "2022-01-23T12:25:52.478Z"
   },
   {
    "duration": 3,
    "start_time": "2022-01-23T12:25:54.590Z"
   },
   {
    "duration": 4,
    "start_time": "2022-01-23T12:25:55.816Z"
   },
   {
    "duration": 16,
    "start_time": "2022-01-23T12:25:58.361Z"
   },
   {
    "duration": 321,
    "start_time": "2022-01-23T12:26:27.992Z"
   },
   {
    "duration": 11,
    "start_time": "2022-01-23T12:26:36.605Z"
   },
   {
    "duration": 13,
    "start_time": "2022-01-23T12:27:40.912Z"
   },
   {
    "duration": 16,
    "start_time": "2022-01-23T12:27:43.919Z"
   },
   {
    "duration": 165,
    "start_time": "2022-01-23T12:30:05.629Z"
   },
   {
    "duration": 23,
    "start_time": "2022-01-23T12:31:09.977Z"
   },
   {
    "duration": 41,
    "start_time": "2022-01-23T12:31:50.985Z"
   },
   {
    "duration": 20,
    "start_time": "2022-01-23T12:34:29.564Z"
   },
   {
    "duration": 20,
    "start_time": "2022-01-23T12:34:39.435Z"
   },
   {
    "duration": 11,
    "start_time": "2022-01-23T12:35:01.794Z"
   },
   {
    "duration": 11,
    "start_time": "2022-01-23T12:35:37.065Z"
   },
   {
    "duration": 6,
    "start_time": "2022-01-23T12:35:39.770Z"
   },
   {
    "duration": 8,
    "start_time": "2022-01-23T12:36:22.256Z"
   },
   {
    "duration": 4,
    "start_time": "2022-01-23T12:36:24.365Z"
   },
   {
    "duration": 7,
    "start_time": "2022-01-23T12:37:25.322Z"
   },
   {
    "duration": 5,
    "start_time": "2022-01-23T12:37:26.527Z"
   },
   {
    "duration": 146,
    "start_time": "2022-01-23T12:43:22.033Z"
   },
   {
    "duration": 602,
    "start_time": "2022-01-29T15:25:14.757Z"
   },
   {
    "duration": 153,
    "start_time": "2022-01-29T15:25:15.361Z"
   },
   {
    "duration": 21,
    "start_time": "2022-01-29T15:25:15.517Z"
   },
   {
    "duration": 37,
    "start_time": "2022-01-29T15:25:15.540Z"
   },
   {
    "duration": 20,
    "start_time": "2022-01-29T15:25:15.578Z"
   },
   {
    "duration": 38,
    "start_time": "2022-01-29T15:25:15.600Z"
   },
   {
    "duration": 14,
    "start_time": "2022-01-29T15:25:15.640Z"
   },
   {
    "duration": 49,
    "start_time": "2022-01-29T15:25:15.657Z"
   },
   {
    "duration": 21,
    "start_time": "2022-01-29T15:25:15.709Z"
   },
   {
    "duration": 32,
    "start_time": "2022-01-29T15:25:15.733Z"
   },
   {
    "duration": 90,
    "start_time": "2022-01-29T15:25:15.767Z"
   },
   {
    "duration": 87,
    "start_time": "2022-01-29T15:25:15.859Z"
   },
   {
    "duration": 71,
    "start_time": "2022-01-29T15:25:15.948Z"
   },
   {
    "duration": 9,
    "start_time": "2022-01-29T15:25:16.021Z"
   },
   {
    "duration": 11,
    "start_time": "2022-01-29T15:25:16.032Z"
   },
   {
    "duration": 17,
    "start_time": "2022-01-29T15:25:16.045Z"
   },
   {
    "duration": 13,
    "start_time": "2022-01-29T15:25:16.064Z"
   },
   {
    "duration": 41,
    "start_time": "2022-01-29T15:25:16.079Z"
   },
   {
    "duration": 20,
    "start_time": "2022-01-29T15:25:16.123Z"
   },
   {
    "duration": 4,
    "start_time": "2022-01-29T15:25:16.145Z"
   },
   {
    "duration": 48,
    "start_time": "2022-01-29T15:25:16.151Z"
   },
   {
    "duration": 23,
    "start_time": "2022-01-29T15:25:16.202Z"
   },
   {
    "duration": 23,
    "start_time": "2022-01-29T15:25:16.227Z"
   },
   {
    "duration": 54,
    "start_time": "2022-01-29T15:25:16.252Z"
   },
   {
    "duration": 27,
    "start_time": "2022-01-29T15:25:16.309Z"
   },
   {
    "duration": 24,
    "start_time": "2022-01-29T15:25:16.338Z"
   },
   {
    "duration": 37,
    "start_time": "2022-01-29T15:25:16.366Z"
   },
   {
    "duration": 15,
    "start_time": "2022-01-29T15:25:16.406Z"
   },
   {
    "duration": 11,
    "start_time": "2022-01-29T15:25:16.424Z"
   },
   {
    "duration": 11,
    "start_time": "2022-01-29T15:25:16.437Z"
   },
   {
    "duration": 13,
    "start_time": "2022-01-29T15:25:16.450Z"
   },
   {
    "duration": 41,
    "start_time": "2022-01-29T15:25:16.465Z"
   },
   {
    "duration": 16,
    "start_time": "2022-01-29T15:25:16.509Z"
   },
   {
    "duration": 33,
    "start_time": "2022-01-29T15:25:16.528Z"
   },
   {
    "duration": 47,
    "start_time": "2022-01-29T15:25:16.563Z"
   },
   {
    "duration": 12,
    "start_time": "2022-01-29T15:25:16.612Z"
   },
   {
    "duration": 5,
    "start_time": "2022-01-29T15:25:16.626Z"
   },
   {
    "duration": 10,
    "start_time": "2022-01-29T15:25:16.632Z"
   },
   {
    "duration": 9,
    "start_time": "2022-01-29T15:25:16.644Z"
   },
   {
    "duration": 103,
    "start_time": "2022-01-30T17:19:04.617Z"
   },
   {
    "duration": 288,
    "start_time": "2022-01-30T17:21:08.350Z"
   },
   {
    "duration": 782,
    "start_time": "2022-01-30T17:21:25.452Z"
   },
   {
    "duration": 130,
    "start_time": "2022-01-30T17:21:27.556Z"
   },
   {
    "duration": 16,
    "start_time": "2022-01-30T17:21:29.241Z"
   },
   {
    "duration": 23,
    "start_time": "2022-01-30T17:21:37.342Z"
   },
   {
    "duration": 4,
    "start_time": "2022-01-30T17:21:49.286Z"
   },
   {
    "duration": 4,
    "start_time": "2022-01-30T17:21:58.859Z"
   },
   {
    "duration": 4,
    "start_time": "2022-01-30T17:22:08.791Z"
   },
   {
    "duration": 533,
    "start_time": "2022-01-30T17:22:45.126Z"
   },
   {
    "duration": 19,
    "start_time": "2022-01-30T17:23:46.237Z"
   },
   {
    "duration": 4,
    "start_time": "2022-01-30T17:23:49.329Z"
   },
   {
    "duration": 35,
    "start_time": "2022-01-30T17:23:54.702Z"
   },
   {
    "duration": 17,
    "start_time": "2022-01-30T17:23:59.186Z"
   },
   {
    "duration": 22,
    "start_time": "2022-01-30T17:24:01.466Z"
   },
   {
    "duration": 60,
    "start_time": "2022-01-30T17:24:05.506Z"
   },
   {
    "duration": 71,
    "start_time": "2022-01-30T17:26:15.882Z"
   },
   {
    "duration": 55,
    "start_time": "2022-01-30T17:26:51.963Z"
   },
   {
    "duration": 6,
    "start_time": "2022-01-30T17:26:56.708Z"
   },
   {
    "duration": 38,
    "start_time": "2022-01-30T17:27:42.962Z"
   },
   {
    "duration": 3,
    "start_time": "2022-01-30T17:28:38.756Z"
   },
   {
    "duration": 10,
    "start_time": "2022-01-30T17:28:40.386Z"
   },
   {
    "duration": 9,
    "start_time": "2022-01-30T17:29:42.715Z"
   },
   {
    "duration": 6,
    "start_time": "2022-01-30T17:30:04.907Z"
   },
   {
    "duration": 11,
    "start_time": "2022-01-30T17:30:21.936Z"
   },
   {
    "duration": 10,
    "start_time": "2022-01-30T17:30:23.973Z"
   },
   {
    "duration": 3,
    "start_time": "2022-01-30T17:30:29.385Z"
   },
   {
    "duration": 16,
    "start_time": "2022-01-30T17:30:48.436Z"
   },
   {
    "duration": 15,
    "start_time": "2022-01-30T17:30:49.665Z"
   },
   {
    "duration": 15,
    "start_time": "2022-01-30T17:30:50.890Z"
   },
   {
    "duration": 14,
    "start_time": "2022-01-30T17:30:52.153Z"
   },
   {
    "duration": 16,
    "start_time": "2022-01-30T17:30:53.242Z"
   },
   {
    "duration": 14,
    "start_time": "2022-01-30T17:30:54.299Z"
   },
   {
    "duration": 8,
    "start_time": "2022-01-30T17:30:57.654Z"
   },
   {
    "duration": 12,
    "start_time": "2022-01-30T17:32:51.745Z"
   },
   {
    "duration": 10,
    "start_time": "2022-01-30T17:32:53.811Z"
   },
   {
    "duration": 4,
    "start_time": "2022-01-30T17:33:01.080Z"
   },
   {
    "duration": 25,
    "start_time": "2022-01-30T17:34:36.962Z"
   },
   {
    "duration": 12,
    "start_time": "2022-01-30T17:34:43.421Z"
   },
   {
    "duration": 17,
    "start_time": "2022-01-30T17:34:58.830Z"
   },
   {
    "duration": 18,
    "start_time": "2022-01-30T17:35:14.752Z"
   },
   {
    "duration": 10,
    "start_time": "2022-01-30T17:38:04.724Z"
   },
   {
    "duration": 5,
    "start_time": "2022-01-30T17:38:06.570Z"
   },
   {
    "duration": 8,
    "start_time": "2022-01-30T17:38:09.794Z"
   },
   {
    "duration": 6,
    "start_time": "2022-01-30T17:38:11.227Z"
   },
   {
    "duration": 677,
    "start_time": "2022-01-30T17:41:34.539Z"
   },
   {
    "duration": 133,
    "start_time": "2022-01-30T17:41:35.218Z"
   },
   {
    "duration": 16,
    "start_time": "2022-01-30T17:41:35.353Z"
   },
   {
    "duration": 28,
    "start_time": "2022-01-30T17:41:35.371Z"
   },
   {
    "duration": 4,
    "start_time": "2022-01-30T17:41:35.400Z"
   },
   {
    "duration": 20,
    "start_time": "2022-01-30T17:41:35.406Z"
   },
   {
    "duration": 9,
    "start_time": "2022-01-30T17:41:35.428Z"
   },
   {
    "duration": 36,
    "start_time": "2022-01-30T17:41:35.440Z"
   },
   {
    "duration": 18,
    "start_time": "2022-01-30T17:41:35.478Z"
   },
   {
    "duration": 21,
    "start_time": "2022-01-30T17:41:35.498Z"
   },
   {
    "duration": 79,
    "start_time": "2022-01-30T17:41:35.521Z"
   },
   {
    "duration": 85,
    "start_time": "2022-01-30T17:41:35.602Z"
   },
   {
    "duration": 49,
    "start_time": "2022-01-30T17:41:35.688Z"
   },
   {
    "duration": 48,
    "start_time": "2022-01-30T17:41:35.738Z"
   },
   {
    "duration": 4,
    "start_time": "2022-01-30T17:41:35.788Z"
   },
   {
    "duration": 13,
    "start_time": "2022-01-30T17:41:35.794Z"
   },
   {
    "duration": 12,
    "start_time": "2022-01-30T17:41:35.809Z"
   },
   {
    "duration": 13,
    "start_time": "2022-01-30T17:41:35.823Z"
   },
   {
    "duration": 27,
    "start_time": "2022-01-30T17:41:35.837Z"
   },
   {
    "duration": 4,
    "start_time": "2022-01-30T17:41:35.865Z"
   },
   {
    "duration": 22,
    "start_time": "2022-01-30T17:41:35.870Z"
   },
   {
    "duration": 14,
    "start_time": "2022-01-30T17:41:35.893Z"
   },
   {
    "duration": 18,
    "start_time": "2022-01-30T17:41:35.910Z"
   },
   {
    "duration": 36,
    "start_time": "2022-01-30T17:41:35.930Z"
   },
   {
    "duration": 16,
    "start_time": "2022-01-30T17:41:35.968Z"
   },
   {
    "duration": 14,
    "start_time": "2022-01-30T17:41:35.986Z"
   },
   {
    "duration": 8,
    "start_time": "2022-01-30T17:41:36.002Z"
   },
   {
    "duration": 14,
    "start_time": "2022-01-30T17:41:36.012Z"
   },
   {
    "duration": 38,
    "start_time": "2022-01-30T17:41:36.027Z"
   },
   {
    "duration": 3,
    "start_time": "2022-01-30T17:41:36.067Z"
   },
   {
    "duration": 9,
    "start_time": "2022-01-30T17:41:36.072Z"
   },
   {
    "duration": 26,
    "start_time": "2022-01-30T17:41:36.082Z"
   },
   {
    "duration": 13,
    "start_time": "2022-01-30T17:41:36.111Z"
   },
   {
    "duration": 40,
    "start_time": "2022-01-30T17:41:36.126Z"
   },
   {
    "duration": 15,
    "start_time": "2022-01-30T17:41:36.168Z"
   },
   {
    "duration": 10,
    "start_time": "2022-01-30T17:41:36.185Z"
   },
   {
    "duration": 5,
    "start_time": "2022-01-30T17:41:36.197Z"
   },
   {
    "duration": 9,
    "start_time": "2022-01-30T17:41:36.204Z"
   },
   {
    "duration": 7,
    "start_time": "2022-01-30T17:41:36.215Z"
   },
   {
    "duration": 608,
    "start_time": "2022-01-30T17:42:07.233Z"
   },
   {
    "duration": 127,
    "start_time": "2022-01-30T17:42:07.843Z"
   },
   {
    "duration": 89,
    "start_time": "2022-01-30T17:42:07.972Z"
   },
   {
    "duration": -161,
    "start_time": "2022-01-30T17:42:08.225Z"
   },
   {
    "duration": -163,
    "start_time": "2022-01-30T17:42:08.228Z"
   },
   {
    "duration": -164,
    "start_time": "2022-01-30T17:42:08.230Z"
   },
   {
    "duration": -169,
    "start_time": "2022-01-30T17:42:08.236Z"
   },
   {
    "duration": -170,
    "start_time": "2022-01-30T17:42:08.238Z"
   },
   {
    "duration": -172,
    "start_time": "2022-01-30T17:42:08.241Z"
   },
   {
    "duration": -173,
    "start_time": "2022-01-30T17:42:08.243Z"
   },
   {
    "duration": -176,
    "start_time": "2022-01-30T17:42:08.247Z"
   },
   {
    "duration": -178,
    "start_time": "2022-01-30T17:42:08.250Z"
   },
   {
    "duration": -179,
    "start_time": "2022-01-30T17:42:08.252Z"
   },
   {
    "duration": -181,
    "start_time": "2022-01-30T17:42:08.255Z"
   },
   {
    "duration": -182,
    "start_time": "2022-01-30T17:42:08.257Z"
   },
   {
    "duration": -184,
    "start_time": "2022-01-30T17:42:08.260Z"
   },
   {
    "duration": -185,
    "start_time": "2022-01-30T17:42:08.262Z"
   },
   {
    "duration": -188,
    "start_time": "2022-01-30T17:42:08.266Z"
   },
   {
    "duration": -189,
    "start_time": "2022-01-30T17:42:08.268Z"
   },
   {
    "duration": -191,
    "start_time": "2022-01-30T17:42:08.271Z"
   },
   {
    "duration": -192,
    "start_time": "2022-01-30T17:42:08.273Z"
   },
   {
    "duration": -193,
    "start_time": "2022-01-30T17:42:08.275Z"
   },
   {
    "duration": -194,
    "start_time": "2022-01-30T17:42:08.277Z"
   },
   {
    "duration": -195,
    "start_time": "2022-01-30T17:42:08.279Z"
   },
   {
    "duration": -196,
    "start_time": "2022-01-30T17:42:08.281Z"
   },
   {
    "duration": -197,
    "start_time": "2022-01-30T17:42:08.283Z"
   },
   {
    "duration": -199,
    "start_time": "2022-01-30T17:42:08.286Z"
   },
   {
    "duration": -200,
    "start_time": "2022-01-30T17:42:08.288Z"
   },
   {
    "duration": -201,
    "start_time": "2022-01-30T17:42:08.290Z"
   },
   {
    "duration": -202,
    "start_time": "2022-01-30T17:42:08.292Z"
   },
   {
    "duration": -204,
    "start_time": "2022-01-30T17:42:08.295Z"
   },
   {
    "duration": -205,
    "start_time": "2022-01-30T17:42:08.297Z"
   },
   {
    "duration": -206,
    "start_time": "2022-01-30T17:42:08.299Z"
   },
   {
    "duration": -207,
    "start_time": "2022-01-30T17:42:08.301Z"
   },
   {
    "duration": -209,
    "start_time": "2022-01-30T17:42:08.304Z"
   },
   {
    "duration": -210,
    "start_time": "2022-01-30T17:42:08.306Z"
   },
   {
    "duration": -212,
    "start_time": "2022-01-30T17:42:08.309Z"
   },
   {
    "duration": -219,
    "start_time": "2022-01-30T17:42:08.317Z"
   },
   {
    "duration": -221,
    "start_time": "2022-01-30T17:42:08.321Z"
   },
   {
    "duration": 17,
    "start_time": "2022-01-30T17:47:52.843Z"
   },
   {
    "duration": 600,
    "start_time": "2022-01-30T17:48:03.356Z"
   },
   {
    "duration": 142,
    "start_time": "2022-01-30T17:48:03.958Z"
   },
   {
    "duration": 25,
    "start_time": "2022-01-30T17:48:04.103Z"
   },
   {
    "duration": 50,
    "start_time": "2022-01-30T17:48:04.131Z"
   },
   {
    "duration": 4,
    "start_time": "2022-01-30T17:48:04.183Z"
   },
   {
    "duration": 26,
    "start_time": "2022-01-30T17:48:04.188Z"
   },
   {
    "duration": 12,
    "start_time": "2022-01-30T17:48:04.215Z"
   },
   {
    "duration": 37,
    "start_time": "2022-01-30T17:48:04.230Z"
   },
   {
    "duration": 19,
    "start_time": "2022-01-30T17:48:04.270Z"
   },
   {
    "duration": 23,
    "start_time": "2022-01-30T17:48:04.291Z"
   },
   {
    "duration": 84,
    "start_time": "2022-01-30T17:48:04.315Z"
   },
   {
    "duration": 88,
    "start_time": "2022-01-30T17:48:04.401Z"
   },
   {
    "duration": 51,
    "start_time": "2022-01-30T17:48:04.491Z"
   },
   {
    "duration": 50,
    "start_time": "2022-01-30T17:48:04.544Z"
   },
   {
    "duration": 2,
    "start_time": "2022-01-30T17:48:04.596Z"
   },
   {
    "duration": 14,
    "start_time": "2022-01-30T17:48:04.600Z"
   },
   {
    "duration": 6,
    "start_time": "2022-01-30T17:48:04.615Z"
   },
   {
    "duration": 11,
    "start_time": "2022-01-30T17:48:04.622Z"
   },
   {
    "duration": 30,
    "start_time": "2022-01-30T17:48:04.635Z"
   },
   {
    "duration": 4,
    "start_time": "2022-01-30T17:48:04.666Z"
   },
   {
    "duration": 26,
    "start_time": "2022-01-30T17:48:04.672Z"
   },
   {
    "duration": 18,
    "start_time": "2022-01-30T17:48:04.700Z"
   },
   {
    "duration": 15,
    "start_time": "2022-01-30T17:48:04.721Z"
   },
   {
    "duration": 33,
    "start_time": "2022-01-30T17:48:04.737Z"
   },
   {
    "duration": 15,
    "start_time": "2022-01-30T17:48:04.772Z"
   },
   {
    "duration": 14,
    "start_time": "2022-01-30T17:48:04.789Z"
   },
   {
    "duration": 8,
    "start_time": "2022-01-30T17:48:04.804Z"
   },
   {
    "duration": 14,
    "start_time": "2022-01-30T17:48:04.814Z"
   },
   {
    "duration": 39,
    "start_time": "2022-01-30T17:48:04.830Z"
   },
   {
    "duration": 2,
    "start_time": "2022-01-30T17:48:04.871Z"
   },
   {
    "duration": 8,
    "start_time": "2022-01-30T17:48:04.875Z"
   },
   {
    "duration": 22,
    "start_time": "2022-01-30T17:48:04.885Z"
   },
   {
    "duration": 11,
    "start_time": "2022-01-30T17:48:04.909Z"
   },
   {
    "duration": 17,
    "start_time": "2022-01-30T17:48:04.921Z"
   },
   {
    "duration": 13,
    "start_time": "2022-01-30T17:48:04.961Z"
   },
   {
    "duration": 12,
    "start_time": "2022-01-30T17:48:04.975Z"
   },
   {
    "duration": 4,
    "start_time": "2022-01-30T17:48:04.988Z"
   },
   {
    "duration": 10,
    "start_time": "2022-01-30T17:48:04.993Z"
   },
   {
    "duration": 8,
    "start_time": "2022-01-30T17:48:05.005Z"
   }
  ],
  "colab": {
   "collapsed_sections": [
    "E0vqbgi9ay0H",
    "VUC88oWjTJw2"
   ],
   "name": "yandex_music_project_2021.2.ipynb",
   "provenance": []
  },
  "kernelspec": {
   "display_name": "Python 3 (ipykernel)",
   "language": "python",
   "name": "python3"
  },
  "language_info": {
   "codemirror_mode": {
    "name": "ipython",
    "version": 3
   },
   "file_extension": ".py",
   "mimetype": "text/x-python",
   "name": "python",
   "nbconvert_exporter": "python",
   "pygments_lexer": "ipython3",
   "version": "3.9.7"
  },
  "toc": {
   "base_numbering": 1,
   "nav_menu": {},
   "number_sections": true,
   "sideBar": true,
   "skip_h1_title": true,
   "title_cell": "Table of Contents",
   "title_sidebar": "Contents",
   "toc_cell": true,
   "toc_position": {},
   "toc_section_display": true,
   "toc_window_display": true
  }
 },
 "nbformat": 4,
 "nbformat_minor": 1
}
