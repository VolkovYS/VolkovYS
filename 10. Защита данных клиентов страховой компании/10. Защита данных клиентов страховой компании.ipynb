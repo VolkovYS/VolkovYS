{
 "cells": [
  {
   "cell_type": "markdown",
   "metadata": {
    "toc": true
   },
   "source": [
    "<h1>Содержание<span class=\"tocSkip\"></span></h1>\n",
    "<div class=\"toc\"><ul class=\"toc-item\"><li><span><a href=\"#Загрузка-данных\" data-toc-modified-id=\"Загрузка-данных-1\"><span class=\"toc-item-num\">1&nbsp;&nbsp;</span>Загрузка данных</a></span><ul class=\"toc-item\"><li><span><a href=\"#Вывод\" data-toc-modified-id=\"Вывод-1.1\"><span class=\"toc-item-num\">1.1&nbsp;&nbsp;</span>Вывод</a></span></li></ul></li><li><span><a href=\"#Умножение-матриц\" data-toc-modified-id=\"Умножение-матриц-2\"><span class=\"toc-item-num\">2&nbsp;&nbsp;</span>Умножение матриц</a></span><ul class=\"toc-item\"><li><span><a href=\"#Вывод\" data-toc-modified-id=\"Вывод-2.1\"><span class=\"toc-item-num\">2.1&nbsp;&nbsp;</span>Вывод</a></span></li></ul></li><li><span><a href=\"#Алгоритм-преобразования\" data-toc-modified-id=\"Алгоритм-преобразования-3\"><span class=\"toc-item-num\">3&nbsp;&nbsp;</span>Алгоритм преобразования</a></span></li><li><span><a href=\"#Проверка-алгоритма\" data-toc-modified-id=\"Проверка-алгоритма-4\"><span class=\"toc-item-num\">4&nbsp;&nbsp;</span>Проверка алгоритма</a></span><ul class=\"toc-item\"><li><span><a href=\"#Реализация-алгоритма-преобразования\" data-toc-modified-id=\"Реализация-алгоритма-преобразования-4.1\"><span class=\"toc-item-num\">4.1&nbsp;&nbsp;</span>Реализация алгоритма преобразования</a></span></li><li><span><a href=\"#Вывод\" data-toc-modified-id=\"Вывод-4.2\"><span class=\"toc-item-num\">4.2&nbsp;&nbsp;</span>Вывод</a></span></li></ul></li><li><span><a href=\"#Общий-вывод\" data-toc-modified-id=\"Общий-вывод-5\"><span class=\"toc-item-num\">5&nbsp;&nbsp;</span>Общий вывод</a></span></li><li><span><a href=\"#Чек-лист-проверки\" data-toc-modified-id=\"Чек-лист-проверки-6\"><span class=\"toc-item-num\">6&nbsp;&nbsp;</span>Чек-лист проверки</a></span></li></ul></div>"
   ]
  },
  {
   "cell_type": "markdown",
   "metadata": {},
   "source": [
    "# Защита персональных данных клиентов"
   ]
  },
  {
   "cell_type": "markdown",
   "metadata": {},
   "source": [
    "Вам нужно защитить данные клиентов страховой компании «Хоть потоп». Разработайте такой метод преобразования данных, чтобы по ним было сложно восстановить персональную информацию. Обоснуйте корректность его работы.\n",
    "\n",
    "Нужно защитить данные, чтобы при преобразовании качество моделей машинного обучения не ухудшилось. Подбирать наилучшую модель не требуется."
   ]
  },
  {
   "cell_type": "markdown",
   "metadata": {},
   "source": [
    "### Описание данных <a class=\"tocSkip\">"
   ]
  },
  {
   "cell_type": "markdown",
   "metadata": {},
   "source": [
    "<div style=\"border:solid green 5px; padding: 16px; border-radius: 10px\"> \n",
    "<br>Признаки: пол, возраст и зарплата застрахованного, количество членов его семьи.\n",
    "<br>Целевой признак: количество страховых выплат клиенту за последние 5 лет."
   ]
  },
  {
   "cell_type": "markdown",
   "metadata": {},
   "source": [
    "## Загрузка данных"
   ]
  },
  {
   "cell_type": "code",
   "execution_count": 1,
   "metadata": {},
   "outputs": [],
   "source": [
    "import pandas as pd\n",
    "pd.set_option('display.max_columns', None)\n",
    "pd.set_option('display.max_rows', None)\n",
    "import numpy as np\n",
    "import seaborn as sns\n",
    "import matplotlib.pyplot as plt\n",
    "from sklearn.metrics import r2_score"
   ]
  },
  {
   "cell_type": "code",
   "execution_count": 2,
   "metadata": {},
   "outputs": [],
   "source": [
    "df = pd.read_csv(\"/datasets/insurance.csv\")"
   ]
  },
  {
   "cell_type": "code",
   "execution_count": 3,
   "metadata": {},
   "outputs": [
    {
     "data": {
      "text/html": [
       "<div>\n",
       "<style scoped>\n",
       "    .dataframe tbody tr th:only-of-type {\n",
       "        vertical-align: middle;\n",
       "    }\n",
       "\n",
       "    .dataframe tbody tr th {\n",
       "        vertical-align: top;\n",
       "    }\n",
       "\n",
       "    .dataframe thead th {\n",
       "        text-align: right;\n",
       "    }\n",
       "</style>\n",
       "<table border=\"1\" class=\"dataframe\">\n",
       "  <thead>\n",
       "    <tr style=\"text-align: right;\">\n",
       "      <th></th>\n",
       "      <th>Пол</th>\n",
       "      <th>Возраст</th>\n",
       "      <th>Зарплата</th>\n",
       "      <th>Члены семьи</th>\n",
       "      <th>Страховые выплаты</th>\n",
       "    </tr>\n",
       "  </thead>\n",
       "  <tbody>\n",
       "    <tr>\n",
       "      <th>0</th>\n",
       "      <td>1</td>\n",
       "      <td>41.0</td>\n",
       "      <td>49600.0</td>\n",
       "      <td>1</td>\n",
       "      <td>0</td>\n",
       "    </tr>\n",
       "    <tr>\n",
       "      <th>1</th>\n",
       "      <td>0</td>\n",
       "      <td>46.0</td>\n",
       "      <td>38000.0</td>\n",
       "      <td>1</td>\n",
       "      <td>1</td>\n",
       "    </tr>\n",
       "    <tr>\n",
       "      <th>2</th>\n",
       "      <td>0</td>\n",
       "      <td>29.0</td>\n",
       "      <td>21000.0</td>\n",
       "      <td>0</td>\n",
       "      <td>0</td>\n",
       "    </tr>\n",
       "    <tr>\n",
       "      <th>3</th>\n",
       "      <td>0</td>\n",
       "      <td>21.0</td>\n",
       "      <td>41700.0</td>\n",
       "      <td>2</td>\n",
       "      <td>0</td>\n",
       "    </tr>\n",
       "    <tr>\n",
       "      <th>4</th>\n",
       "      <td>1</td>\n",
       "      <td>28.0</td>\n",
       "      <td>26100.0</td>\n",
       "      <td>0</td>\n",
       "      <td>0</td>\n",
       "    </tr>\n",
       "  </tbody>\n",
       "</table>\n",
       "</div>"
      ],
      "text/plain": [
       "   Пол  Возраст  Зарплата  Члены семьи  Страховые выплаты\n",
       "0    1     41.0   49600.0            1                  0\n",
       "1    0     46.0   38000.0            1                  1\n",
       "2    0     29.0   21000.0            0                  0\n",
       "3    0     21.0   41700.0            2                  0\n",
       "4    1     28.0   26100.0            0                  0"
      ]
     },
     "execution_count": 3,
     "metadata": {},
     "output_type": "execute_result"
    }
   ],
   "source": [
    "df.head() # Загрузим данные"
   ]
  },
  {
   "cell_type": "code",
   "execution_count": 4,
   "metadata": {
    "scrolled": true
   },
   "outputs": [
    {
     "name": "stdout",
     "output_type": "stream",
     "text": [
      "<class 'pandas.core.frame.DataFrame'>\n",
      "RangeIndex: 5000 entries, 0 to 4999\n",
      "Data columns (total 5 columns):\n",
      " #   Column             Non-Null Count  Dtype  \n",
      "---  ------             --------------  -----  \n",
      " 0   Пол                5000 non-null   int64  \n",
      " 1   Возраст            5000 non-null   float64\n",
      " 2   Зарплата           5000 non-null   float64\n",
      " 3   Члены семьи        5000 non-null   int64  \n",
      " 4   Страховые выплаты  5000 non-null   int64  \n",
      "dtypes: float64(2), int64(3)\n",
      "memory usage: 195.4 KB\n"
     ]
    }
   ],
   "source": [
    "df.info(memory_usage='deep') #Выведем информацию о таблице"
   ]
  },
  {
   "cell_type": "code",
   "execution_count": 5,
   "metadata": {},
   "outputs": [
    {
     "data": {
      "text/plain": [
       "Пол                  0.0\n",
       "Возраст              0.0\n",
       "Зарплата             0.0\n",
       "Члены семьи          0.0\n",
       "Страховые выплаты    0.0\n",
       "dtype: float64"
      ]
     },
     "execution_count": 5,
     "metadata": {},
     "output_type": "execute_result"
    }
   ],
   "source": [
    "df.isna().mean() # Посмотрим пропущенные значения"
   ]
  },
  {
   "cell_type": "code",
   "execution_count": 6,
   "metadata": {},
   "outputs": [
    {
     "data": {
      "text/html": [
       "<div>\n",
       "<style scoped>\n",
       "    .dataframe tbody tr th:only-of-type {\n",
       "        vertical-align: middle;\n",
       "    }\n",
       "\n",
       "    .dataframe tbody tr th {\n",
       "        vertical-align: top;\n",
       "    }\n",
       "\n",
       "    .dataframe thead th {\n",
       "        text-align: right;\n",
       "    }\n",
       "</style>\n",
       "<table border=\"1\" class=\"dataframe\">\n",
       "  <thead>\n",
       "    <tr style=\"text-align: right;\">\n",
       "      <th></th>\n",
       "      <th>count</th>\n",
       "      <th>mean</th>\n",
       "      <th>std</th>\n",
       "      <th>min</th>\n",
       "      <th>25%</th>\n",
       "      <th>50%</th>\n",
       "      <th>75%</th>\n",
       "      <th>max</th>\n",
       "    </tr>\n",
       "  </thead>\n",
       "  <tbody>\n",
       "    <tr>\n",
       "      <th>Пол</th>\n",
       "      <td>5000.0</td>\n",
       "      <td>0.4990</td>\n",
       "      <td>0.500049</td>\n",
       "      <td>0.0</td>\n",
       "      <td>0.0</td>\n",
       "      <td>0.0</td>\n",
       "      <td>1.0</td>\n",
       "      <td>1.0</td>\n",
       "    </tr>\n",
       "    <tr>\n",
       "      <th>Возраст</th>\n",
       "      <td>5000.0</td>\n",
       "      <td>30.9528</td>\n",
       "      <td>8.440807</td>\n",
       "      <td>18.0</td>\n",
       "      <td>24.0</td>\n",
       "      <td>30.0</td>\n",
       "      <td>37.0</td>\n",
       "      <td>65.0</td>\n",
       "    </tr>\n",
       "    <tr>\n",
       "      <th>Зарплата</th>\n",
       "      <td>5000.0</td>\n",
       "      <td>39916.3600</td>\n",
       "      <td>9900.083569</td>\n",
       "      <td>5300.0</td>\n",
       "      <td>33300.0</td>\n",
       "      <td>40200.0</td>\n",
       "      <td>46600.0</td>\n",
       "      <td>79000.0</td>\n",
       "    </tr>\n",
       "    <tr>\n",
       "      <th>Члены семьи</th>\n",
       "      <td>5000.0</td>\n",
       "      <td>1.1942</td>\n",
       "      <td>1.091387</td>\n",
       "      <td>0.0</td>\n",
       "      <td>0.0</td>\n",
       "      <td>1.0</td>\n",
       "      <td>2.0</td>\n",
       "      <td>6.0</td>\n",
       "    </tr>\n",
       "    <tr>\n",
       "      <th>Страховые выплаты</th>\n",
       "      <td>5000.0</td>\n",
       "      <td>0.1480</td>\n",
       "      <td>0.463183</td>\n",
       "      <td>0.0</td>\n",
       "      <td>0.0</td>\n",
       "      <td>0.0</td>\n",
       "      <td>0.0</td>\n",
       "      <td>5.0</td>\n",
       "    </tr>\n",
       "  </tbody>\n",
       "</table>\n",
       "</div>"
      ],
      "text/plain": [
       "                    count        mean          std     min      25%      50%  \\\n",
       "Пол                5000.0      0.4990     0.500049     0.0      0.0      0.0   \n",
       "Возраст            5000.0     30.9528     8.440807    18.0     24.0     30.0   \n",
       "Зарплата           5000.0  39916.3600  9900.083569  5300.0  33300.0  40200.0   \n",
       "Члены семьи        5000.0      1.1942     1.091387     0.0      0.0      1.0   \n",
       "Страховые выплаты  5000.0      0.1480     0.463183     0.0      0.0      0.0   \n",
       "\n",
       "                       75%      max  \n",
       "Пол                    1.0      1.0  \n",
       "Возраст               37.0     65.0  \n",
       "Зарплата           46600.0  79000.0  \n",
       "Члены семьи            2.0      6.0  \n",
       "Страховые выплаты      0.0      5.0  "
      ]
     },
     "execution_count": 6,
     "metadata": {},
     "output_type": "execute_result"
    }
   ],
   "source": [
    "df.describe().T # выведем стат данные"
   ]
  },
  {
   "cell_type": "code",
   "execution_count": 7,
   "metadata": {},
   "outputs": [
    {
     "data": {
      "text/plain": [
       "153"
      ]
     },
     "execution_count": 7,
     "metadata": {},
     "output_type": "execute_result"
    }
   ],
   "source": [
    "df.duplicated().sum() # Проверим количество дубликатов"
   ]
  },
  {
   "cell_type": "code",
   "execution_count": 8,
   "metadata": {
    "scrolled": false
   },
   "outputs": [
    {
     "data": {
      "text/html": [
       "<div>\n",
       "<style scoped>\n",
       "    .dataframe tbody tr th:only-of-type {\n",
       "        vertical-align: middle;\n",
       "    }\n",
       "\n",
       "    .dataframe tbody tr th {\n",
       "        vertical-align: top;\n",
       "    }\n",
       "\n",
       "    .dataframe thead th {\n",
       "        text-align: right;\n",
       "    }\n",
       "</style>\n",
       "<table border=\"1\" class=\"dataframe\">\n",
       "  <thead>\n",
       "    <tr style=\"text-align: right;\">\n",
       "      <th></th>\n",
       "      <th>Пол</th>\n",
       "      <th>Возраст</th>\n",
       "      <th>Зарплата</th>\n",
       "      <th>Члены семьи</th>\n",
       "      <th>Страховые выплаты</th>\n",
       "    </tr>\n",
       "  </thead>\n",
       "  <tbody>\n",
       "    <tr>\n",
       "      <th>281</th>\n",
       "      <td>1</td>\n",
       "      <td>39.0</td>\n",
       "      <td>48100.0</td>\n",
       "      <td>1</td>\n",
       "      <td>0</td>\n",
       "    </tr>\n",
       "    <tr>\n",
       "      <th>488</th>\n",
       "      <td>1</td>\n",
       "      <td>24.0</td>\n",
       "      <td>32900.0</td>\n",
       "      <td>1</td>\n",
       "      <td>0</td>\n",
       "    </tr>\n",
       "    <tr>\n",
       "      <th>513</th>\n",
       "      <td>0</td>\n",
       "      <td>31.0</td>\n",
       "      <td>37400.0</td>\n",
       "      <td>2</td>\n",
       "      <td>0</td>\n",
       "    </tr>\n",
       "    <tr>\n",
       "      <th>718</th>\n",
       "      <td>1</td>\n",
       "      <td>22.0</td>\n",
       "      <td>32600.0</td>\n",
       "      <td>1</td>\n",
       "      <td>0</td>\n",
       "    </tr>\n",
       "    <tr>\n",
       "      <th>785</th>\n",
       "      <td>0</td>\n",
       "      <td>20.0</td>\n",
       "      <td>35800.0</td>\n",
       "      <td>0</td>\n",
       "      <td>0</td>\n",
       "    </tr>\n",
       "  </tbody>\n",
       "</table>\n",
       "</div>"
      ],
      "text/plain": [
       "     Пол  Возраст  Зарплата  Члены семьи  Страховые выплаты\n",
       "281    1     39.0   48100.0            1                  0\n",
       "488    1     24.0   32900.0            1                  0\n",
       "513    0     31.0   37400.0            2                  0\n",
       "718    1     22.0   32600.0            1                  0\n",
       "785    0     20.0   35800.0            0                  0"
      ]
     },
     "execution_count": 8,
     "metadata": {},
     "output_type": "execute_result"
    }
   ],
   "source": [
    "df[df.duplicated()].head() #Выведем первые 5 дубликатов на экран"
   ]
  },
  {
   "cell_type": "code",
   "execution_count": 9,
   "metadata": {},
   "outputs": [],
   "source": [
    "df.drop_duplicates(inplace = True)"
   ]
  },
  {
   "cell_type": "code",
   "execution_count": 10,
   "metadata": {},
   "outputs": [
    {
     "data": {
      "text/plain": [
       "0"
      ]
     },
     "execution_count": 10,
     "metadata": {},
     "output_type": "execute_result"
    }
   ],
   "source": [
    "df.duplicated().sum()"
   ]
  },
  {
   "cell_type": "code",
   "execution_count": 11,
   "metadata": {},
   "outputs": [
    {
     "data": {
      "image/png": "[encoded data removed]",
      "text/plain": [
       "<Figure size 432x288 with 2 Axes>"
      ]
     },
     "metadata": {
      "needs_background": "light"
     },
     "output_type": "display_data"
    }
   ],
   "source": [
    "sns.heatmap(df.corr());"
   ]
  },
  {
   "cell_type": "markdown",
   "metadata": {},
   "source": [
    "### Вывод"
   ]
  },
  {
   "cell_type": "markdown",
   "metadata": {},
   "source": [
    "В таблице 5 колонок и 5000 строк. Типы данных соответствуют условиям, пропусков нет. Выявили 153 дубликата, на мой взгляд нет необходимости их удалять. Во-первых, это менее 3% от всех данных, а, во-вторых, это не повлияет на результат исследования."
   ]
  },
  {
   "cell_type": "markdown",
   "metadata": {},
   "source": [
    "## Умножение матриц"
   ]
  },
  {
   "cell_type": "markdown",
   "metadata": {},
   "source": [
    "В этом задании вы можете записывать формулы в *Jupyter Notebook.*\n",
    "\n",
    "Чтобы записать формулу внутри текста, окружите её символами доллара \\\\$; если снаружи —  двойными символами \\\\$\\\\$. Эти формулы записываются на языке вёрстки *LaTeX.* \n",
    "\n",
    "Для примера мы записали формулы линейной регрессии. Можете их скопировать и отредактировать, чтобы решить задачу.\n",
    "\n",
    "Работать в *LaTeX* необязательно."
   ]
  },
  {
   "cell_type": "markdown",
   "metadata": {},
   "source": [
    "Обозначения:\n",
    "\n",
    "- $X$ — матрица признаков (нулевой столбец состоит из единиц)\n",
    "\n",
    "- $y$ — вектор целевого признака\n",
    "\n",
    "- $P$ — матрица, на которую умножаются признаки\n",
    "\n",
    "- $w$ — вектор весов линейной регрессии (нулевой элемент равен сдвигу)"
   ]
  },
  {
   "cell_type": "markdown",
   "metadata": {},
   "source": [
    "Предсказания:\n",
    "\n",
    "$$\n",
    "a = Xw\n",
    "$$\n",
    "\n",
    "Задача обучения:\n",
    "\n",
    "$$\n",
    "w = \\arg\\min_w MSE(Xw, y)\n",
    "$$\n",
    "\n",
    "Формула обучения:\n",
    "\n",
    "$$\n",
    "w = (X^T X)^{-1} X^T y\n",
    "$$"
   ]
  },
  {
   "cell_type": "markdown",
   "metadata": {},
   "source": [
    "Пусть P обратимая квадратная матрица, размер которой равен ширине Х, тогда:\n",
    "$$ X'=XP $$\n",
    "\n",
    "Преобразуем формулу:\n",
    "\n",
    "\n",
    "$$ w' = ((XP)^T XP)^{-1} (XP)^T y =$$\n",
    "$$  = (P^T (X^T X) P)^{-1} P^T X^T y =$$\n",
    "$$  = P^{-1} (X^T X)^{-1} (P^T)^{-1} P^T X^T y =$$\n",
    "\n",
    "\n",
    "$$  = P^{-1} (X^T X)^{-1} X^T y =$$\n",
    "$$  = P^{-1} w =$$\n",
    "\n",
    "Тогда:\n",
    "\n",
    "$$  a' = X'P^{-1}w= ХPP^{-1}w=Xw= a $$"
   ]
  },
  {
   "cell_type": "code",
   "execution_count": 12,
   "metadata": {},
   "outputs": [],
   "source": [
    "# Готовим целевой признак и признаки\n",
    "features=df.drop(['Страховые выплаты'],axis=1)\n",
    "target=df['Страховые выплаты']"
   ]
  },
  {
   "cell_type": "code",
   "execution_count": 13,
   "metadata": {},
   "outputs": [
    {
     "name": "stdout",
     "output_type": "stream",
     "text": [
      "(4847, 4)\n",
      "(4847,)\n"
     ]
    }
   ],
   "source": [
    "print(features.shape)\n",
    "print(target.shape)"
   ]
  },
  {
   "cell_type": "code",
   "execution_count": 27,
   "metadata": {},
   "outputs": [
    {
     "data": {
      "text/plain": [
       "(4, 4)"
      ]
     },
     "execution_count": 27,
     "metadata": {},
     "output_type": "execute_result"
    }
   ],
   "source": [
    "# Формирую случайными равномерно распределнными значениями обратимую матрицу 4х4\n",
    "rand_matrix=np.random.normal(size=(features.shape[1],features.shape[1]))\n",
    "rand_matrix.shape"
   ]
  },
  {
   "cell_type": "code",
   "execution_count": 28,
   "metadata": {
    "scrolled": true
   },
   "outputs": [
    {
     "data": {
      "text/plain": [
       "array([[ 0.37337843, -2.83052191,  1.06673899,  0.58519173],\n",
       "       [-0.19387098,  0.79709834, -1.24721541, -1.25474598],\n",
       "       [-0.75259556,  0.52868859,  1.0450657 , -0.54743914],\n",
       "       [ 1.02414075, -0.08529785, -2.23301932, -1.3149847 ]])"
      ]
     },
     "execution_count": 28,
     "metadata": {},
     "output_type": "execute_result"
    }
   ],
   "source": [
    "rand_matrix "
   ]
  },
  {
   "cell_type": "code",
   "execution_count": 29,
   "metadata": {},
   "outputs": [
    {
     "data": {
      "text/plain": [
       "array([[-0.47672727, -2.20016423,  1.00201632,  1.47007598],\n",
       "       [-0.49009546, -0.66456032,  0.31545486,  0.28468943],\n",
       "       [-0.14459392, -1.12369422,  1.01451442,  0.58552069],\n",
       "       [-0.09395601,  0.23775077, -0.96284935, -0.62829452]])"
      ]
     },
     "execution_count": 29,
     "metadata": {},
     "output_type": "execute_result"
    }
   ],
   "source": [
    "# Проверка матрицы на обратимость. В случае, если матрица не обратима - функция выдаст ошибку.\n",
    "P_inv=np.linalg.inv(rand_matrix)\n",
    "P_inv"
   ]
  },
  {
   "cell_type": "code",
   "execution_count": 30,
   "metadata": {
    "scrolled": false
   },
   "outputs": [
    {
     "name": "stdout",
     "output_type": "stream",
     "text": [
      "              0             1             2             3\n",
      "0 -37335.290852  26252.719468  51782.956809 -27205.155616\n",
      "1 -28606.525116  20126.747793  39652.891826 -20861.720538\n",
      "2 -15810.128970  11125.576323  21910.210538 -11532.609528\n",
      "3 -31385.257764  22062.882834  43548.582296 -22857.191683\n",
      "4 -19647.799065  13818.260532  27242.359583 -14322.709194\n",
      "5 -30862.332657  21707.506460  42790.664304 -22501.003507\n",
      "6 -29883.182948  21017.022894  41437.067750 -21784.313644\n",
      "7 -29050.565360  20424.135468  40300.490453 -21167.194118\n",
      "8 -37409.581053  26301.602836  51893.699456 -27253.625799\n",
      "9 -38913.996684  27355.791630  53988.819726 -28343.485091\n",
      "(4847, 4)\n"
     ]
    }
   ],
   "source": [
    "# Новая кодированная матрица \n",
    "crypt_features=features.dot(rand_matrix)\n",
    "print(crypt_features.head(10))\n",
    "print(crypt_features.shape)"
   ]
  },
  {
   "cell_type": "code",
   "execution_count": 18,
   "metadata": {},
   "outputs": [
    {
     "data": {
      "text/html": [
       "<div>\n",
       "<style scoped>\n",
       "    .dataframe tbody tr th:only-of-type {\n",
       "        vertical-align: middle;\n",
       "    }\n",
       "\n",
       "    .dataframe tbody tr th {\n",
       "        vertical-align: top;\n",
       "    }\n",
       "\n",
       "    .dataframe thead th {\n",
       "        text-align: right;\n",
       "    }\n",
       "</style>\n",
       "<table border=\"1\" class=\"dataframe\">\n",
       "  <thead>\n",
       "    <tr style=\"text-align: right;\">\n",
       "      <th></th>\n",
       "      <th>Пол</th>\n",
       "      <th>Возраст</th>\n",
       "      <th>Зарплата</th>\n",
       "      <th>Члены семьи</th>\n",
       "    </tr>\n",
       "  </thead>\n",
       "  <tbody>\n",
       "    <tr>\n",
       "      <th>0</th>\n",
       "      <td>1</td>\n",
       "      <td>41.0</td>\n",
       "      <td>49600.0</td>\n",
       "      <td>1</td>\n",
       "    </tr>\n",
       "    <tr>\n",
       "      <th>1</th>\n",
       "      <td>0</td>\n",
       "      <td>46.0</td>\n",
       "      <td>38000.0</td>\n",
       "      <td>1</td>\n",
       "    </tr>\n",
       "    <tr>\n",
       "      <th>2</th>\n",
       "      <td>0</td>\n",
       "      <td>29.0</td>\n",
       "      <td>21000.0</td>\n",
       "      <td>0</td>\n",
       "    </tr>\n",
       "    <tr>\n",
       "      <th>3</th>\n",
       "      <td>0</td>\n",
       "      <td>21.0</td>\n",
       "      <td>41700.0</td>\n",
       "      <td>2</td>\n",
       "    </tr>\n",
       "    <tr>\n",
       "      <th>4</th>\n",
       "      <td>1</td>\n",
       "      <td>28.0</td>\n",
       "      <td>26100.0</td>\n",
       "      <td>0</td>\n",
       "    </tr>\n",
       "    <tr>\n",
       "      <th>5</th>\n",
       "      <td>1</td>\n",
       "      <td>43.0</td>\n",
       "      <td>41000.0</td>\n",
       "      <td>2</td>\n",
       "    </tr>\n",
       "    <tr>\n",
       "      <th>6</th>\n",
       "      <td>1</td>\n",
       "      <td>39.0</td>\n",
       "      <td>39700.0</td>\n",
       "      <td>2</td>\n",
       "    </tr>\n",
       "    <tr>\n",
       "      <th>7</th>\n",
       "      <td>1</td>\n",
       "      <td>25.0</td>\n",
       "      <td>38600.0</td>\n",
       "      <td>4</td>\n",
       "    </tr>\n",
       "    <tr>\n",
       "      <th>8</th>\n",
       "      <td>1</td>\n",
       "      <td>36.0</td>\n",
       "      <td>49700.0</td>\n",
       "      <td>1</td>\n",
       "    </tr>\n",
       "    <tr>\n",
       "      <th>9</th>\n",
       "      <td>1</td>\n",
       "      <td>32.0</td>\n",
       "      <td>51700.0</td>\n",
       "      <td>1</td>\n",
       "    </tr>\n",
       "  </tbody>\n",
       "</table>\n",
       "</div>"
      ],
      "text/plain": [
       "   Пол  Возраст  Зарплата  Члены семьи\n",
       "0    1     41.0   49600.0            1\n",
       "1    0     46.0   38000.0            1\n",
       "2    0     29.0   21000.0            0\n",
       "3    0     21.0   41700.0            2\n",
       "4    1     28.0   26100.0            0\n",
       "5    1     43.0   41000.0            2\n",
       "6    1     39.0   39700.0            2\n",
       "7    1     25.0   38600.0            4\n",
       "8    1     36.0   49700.0            1\n",
       "9    1     32.0   51700.0            1"
      ]
     },
     "execution_count": 18,
     "metadata": {},
     "output_type": "execute_result"
    }
   ],
   "source": [
    "# пример матрицы признаков X\n",
    "features.head(10)"
   ]
  },
  {
   "cell_type": "markdown",
   "metadata": {},
   "source": [
    "### Вывод"
   ]
  },
  {
   "cell_type": "markdown",
   "metadata": {},
   "source": [
    "Умножая значения одних и тех же весов на признаки разных матриц мы получим значения отличные друг от друга\n",
    "\n",
    "**Ответ:** при умножении признаков $X$ на обратимую матрицу $P$  мы имеем новую матрицу признаков $B$. Качество линейной регрессии после проверки $B$  измениться, т.е метрика качества $R^2$ будет сильно другой. А точнее будет хуже. Но если принять матрицу признаков $B$, как обучающую, то модель обучится и покажет тот же результат $R^2$, что и для признаков $X$.\n",
    "\n",
    "**Обоснование:** в нашей задаче мы предсказываем целевой признак: $$y=W1*X1+W2*X2...Wn*Xn+W0$$ где n-количество признаков. А если мы подставим вместо значений $X$ значения новой матрицы $B$, то получим значения новых предсказаний $y':y'=W1*B1+W2*B2...Wn*Bn+W0$, и при старых весах  $W$ значения $y!=y'$. Для того чтобы получить $y=y'$ надо получить новые веса $W'$, т.е обучить матрицу признаков $B$ заново!"
   ]
  },
  {
   "cell_type": "markdown",
   "metadata": {},
   "source": [
    "## Алгоритм преобразования"
   ]
  },
  {
   "cell_type": "markdown",
   "metadata": {},
   "source": [
    "**Алгоритм**\n",
    "\n",
    "После получения новой матрицы $B$, перед процессом функцией predict выполним действие: $$X = P^{-1}*B$$"
   ]
  },
  {
   "cell_type": "markdown",
   "metadata": {},
   "source": [
    "**Обоснование**\n",
    "\n",
    "Кодирование признаков происходит умножением $X*P=B$, где $X$ -матрица признаков, $P$-матрица, на которую умножаются признаки (обратимая матрица),$B$-новая матрица. Умножим обе части уравнения на $Р^{-1}$ (обратную матрицу $P$). Получим $X*P^{-1}*P=B*P^{-1}$. Зная свойство обратных матриц $P^{-1}*P=E$, где $Е$- это единичная матрица и зная свойство единичной матрицы $E*X=X$, получаем $X=P^{-1}*B$"
   ]
  },
  {
   "cell_type": "markdown",
   "metadata": {},
   "source": [
    "## Проверка алгоритма"
   ]
  },
  {
   "cell_type": "code",
   "execution_count": 19,
   "metadata": {},
   "outputs": [],
   "source": [
    "# Класс модели линейной регрессии\n",
    "class LineRegression():\n",
    "    #Функция обучения\n",
    "    def fit(self,train_features,train_target):\n",
    "       \n",
    "        X = np.concatenate((np.ones((train_features.shape[0], 1)), train_features), axis=1) # Добавляем столбец с 1\n",
    "        y=train_target \n",
    "        w=np.linalg.inv(X.T.dot(X)).dot(X.T).dot(y) # сама формула ЛР\n",
    "       \n",
    "        self.w=w[1:] # веса признаков\n",
    "        self.w0=w[0] # регрессор константа\n",
    "    \n",
    "    #Функция предсказания    \n",
    "    def predict(self,test_features):\n",
    "        return test_features.dot(self.w)+self.w0 # признак "
   ]
  },
  {
   "cell_type": "code",
   "execution_count": 20,
   "metadata": {},
   "outputs": [
    {
     "name": "stdout",
     "output_type": "stream",
     "text": [
      "0.4302010044852067\n"
     ]
    }
   ],
   "source": [
    "# Модель линейной регрессии для features без кодирования\n",
    "model=LineRegression()\n",
    "model.fit(features,target)\n",
    "prediction=model.predict(features)\n",
    "\n",
    "MSE=r2_score(target,prediction)\n",
    "print(MSE)"
   ]
  },
  {
   "cell_type": "code",
   "execution_count": 21,
   "metadata": {},
   "outputs": [
    {
     "name": "stdout",
     "output_type": "stream",
     "text": [
      "-934641.6461218816\n"
     ]
    }
   ],
   "source": [
    "# Модель линейной регрессии для crypt_features (кодированная) без обучения \n",
    "model=LineRegression()\n",
    "model.fit(features,target)\n",
    "prediction_crypt_1=model.predict(crypt_features)\n",
    "MSE_crypt_1=r2_score(target,prediction_crypt_1)\n",
    "print(MSE_crypt_1)"
   ]
  },
  {
   "cell_type": "code",
   "execution_count": 22,
   "metadata": {},
   "outputs": [
    {
     "name": "stdout",
     "output_type": "stream",
     "text": [
      "0.4302010044852098\n"
     ]
    }
   ],
   "source": [
    "# Модель линейной регрессии для crypt_features (кодированная) с обучением \n",
    "model=LineRegression()\n",
    "model.fit(crypt_features,target)\n",
    "prediction_crypt_2=model.predict(crypt_features)\n",
    "MSE_crypt_2=r2_score(target,prediction_crypt_2)\n",
    "print(MSE_crypt_2)"
   ]
  },
  {
   "cell_type": "markdown",
   "metadata": {},
   "source": [
    "### Реализация алгоритма преобразования"
   ]
  },
  {
   "cell_type": "code",
   "execution_count": 31,
   "metadata": {},
   "outputs": [
    {
     "data": {
      "text/plain": [
       "array([[ 1.00000000e+00,  1.55698811e-16, -6.82768729e-17,\n",
       "         9.68666103e-18],\n",
       "       [-1.86958764e-17,  1.00000000e+00, -4.86929768e-17,\n",
       "         2.08887538e-17],\n",
       "       [ 3.14236463e-17,  1.80427911e-16,  1.00000000e+00,\n",
       "        -2.47280577e-16],\n",
       "       [-1.56624350e-17, -1.73854798e-16,  3.11881003e-16,\n",
       "         1.00000000e+00]])"
      ]
     },
     "execution_count": 31,
     "metadata": {},
     "output_type": "execute_result"
    }
   ],
   "source": [
    "E_matrix=rand_matrix.dot(P_inv) # проверяем, что при умножении P на P^{-1} будет единичная матрица\n",
    "E_matrix"
   ]
  },
  {
   "cell_type": "code",
   "execution_count": 24,
   "metadata": {},
   "outputs": [],
   "source": [
    "decrypt_features=crypt_features.dot(P_inv) # сам алгоритм преобразования"
   ]
  },
  {
   "cell_type": "code",
   "execution_count": 25,
   "metadata": {},
   "outputs": [
    {
     "name": "stdout",
     "output_type": "stream",
     "text": [
      "0.4302010044852216\n"
     ]
    }
   ],
   "source": [
    "model=LineRegression()\n",
    "model.fit(features,target)\n",
    "prediction_decrypt=model.predict(decrypt_features)\n",
    "MSE_decrypt=r2_score(target,prediction_decrypt)\n",
    "print(MSE_decrypt)"
   ]
  },
  {
   "cell_type": "code",
   "execution_count": 26,
   "metadata": {},
   "outputs": [
    {
     "data": {
      "text/html": [
       "<div>\n",
       "<style scoped>\n",
       "    .dataframe tbody tr th:only-of-type {\n",
       "        vertical-align: middle;\n",
       "    }\n",
       "\n",
       "    .dataframe tbody tr th {\n",
       "        vertical-align: top;\n",
       "    }\n",
       "\n",
       "    .dataframe thead th {\n",
       "        text-align: right;\n",
       "    }\n",
       "</style>\n",
       "<table border=\"1\" class=\"dataframe\">\n",
       "  <thead>\n",
       "    <tr style=\"text-align: right;\">\n",
       "      <th></th>\n",
       "      <th>MSE</th>\n",
       "    </tr>\n",
       "  </thead>\n",
       "  <tbody>\n",
       "    <tr>\n",
       "      <th>Без кодирования</th>\n",
       "      <td>0.430201</td>\n",
       "    </tr>\n",
       "    <tr>\n",
       "      <th>С кодированием и без переобучения</th>\n",
       "      <td>-934641.646122</td>\n",
       "    </tr>\n",
       "    <tr>\n",
       "      <th>С кодированием и переобучением</th>\n",
       "      <td>0.430201</td>\n",
       "    </tr>\n",
       "    <tr>\n",
       "      <th>С преобразованием</th>\n",
       "      <td>0.430201</td>\n",
       "    </tr>\n",
       "  </tbody>\n",
       "</table>\n",
       "</div>"
      ],
      "text/plain": [
       "                                             MSE\n",
       "Без кодирования                         0.430201\n",
       "С кодированием и без переобучения -934641.646122\n",
       "С кодированием и переобучением          0.430201\n",
       "С преобразованием                       0.430201"
      ]
     },
     "execution_count": 26,
     "metadata": {},
     "output_type": "execute_result"
    }
   ],
   "source": [
    "rezume=[MSE,MSE_crypt_1,MSE_crypt_2,MSE_decrypt]\n",
    "df_rezume=pd.DataFrame(rezume,index=['Без кодирования','С кодированием и без переобучения','С кодированием и переобучением','С преобразованием'])\n",
    "df_rezume.set_axis(['MSE'],axis='columns',inplace=True)\n",
    "df_rezume"
   ]
  },
  {
   "cell_type": "markdown",
   "metadata": {},
   "source": [
    "### Вывод"
   ]
  },
  {
   "cell_type": "markdown",
   "metadata": {},
   "source": [
    "Модели \"Без кодирования\",\"С кодированием и переобучением\" и \"С преобразованием \" дали одинаковый результат. Алгоритм преобразования работает!"
   ]
  },
  {
   "cell_type": "markdown",
   "metadata": {},
   "source": [
    "## Общий вывод"
   ]
  },
  {
   "cell_type": "markdown",
   "metadata": {},
   "source": [
    "<div style=\"border:solid green 5px; padding: 20px\">\n",
    "    \n",
    "**<font color=\"green\">Загрузка данных</font>**    \n",
    "<br>В таблице 5 колонок и 5000 строк. Типы данных соответствуют условиям, пропусков нет. Выявили 153 дубликата, решили их не удалять. Во-первых, это менее 3% от всех данных, а, во-вторых, это не повлияет на результат исследования.\n",
    "    \n",
    "**<font color=\"green\">Умножение матриц</font>**   \n",
    "<br>Умножая значения одних и тех же весов на признаки разных матриц мы получим значения отличные друг от друга\n",
    "    \n",
    "**<font color=\"green\">Проверка алгоритма</font>**   \n",
    "<br>Модели \"Без кодирования\",\"С кодированием и переобучением\" и \"С преобразованием \" дали одинаковый результат. Алгоритм преобразования работает!"
   ]
  }
 ],
 "metadata": {
  "ExecuteTimeLog": [
   {
    "duration": 769,
    "start_time": "2022-05-28T20:49:27.058Z"
   },
   {
    "duration": 75,
    "start_time": "2022-05-28T20:50:06.251Z"
   },
   {
    "duration": 84,
    "start_time": "2022-05-28T20:50:10.116Z"
   },
   {
    "duration": 24,
    "start_time": "2022-05-28T20:50:13.044Z"
   },
   {
    "duration": 17,
    "start_time": "2022-05-28T20:51:05.678Z"
   },
   {
    "duration": 11,
    "start_time": "2022-05-28T20:51:27.281Z"
   },
   {
    "duration": 36,
    "start_time": "2022-05-28T20:51:52.157Z"
   },
   {
    "duration": 7,
    "start_time": "2022-05-28T21:29:25.097Z"
   },
   {
    "duration": 9,
    "start_time": "2022-05-28T21:29:47.386Z"
   },
   {
    "duration": 19,
    "start_time": "2022-05-28T21:31:52.330Z"
   },
   {
    "duration": 6,
    "start_time": "2022-05-28T21:33:27.865Z"
   },
   {
    "duration": 14,
    "start_time": "2022-05-28T21:33:52.629Z"
   },
   {
    "duration": 22,
    "start_time": "2022-05-28T21:34:16.185Z"
   },
   {
    "duration": 10,
    "start_time": "2022-05-28T21:40:08.500Z"
   },
   {
    "duration": 3,
    "start_time": "2022-05-28T21:41:40.851Z"
   },
   {
    "duration": 42,
    "start_time": "2022-05-28T21:41:47.313Z"
   },
   {
    "duration": 14,
    "start_time": "2022-05-28T21:44:56.934Z"
   },
   {
    "duration": 8,
    "start_time": "2022-05-28T21:45:35.629Z"
   },
   {
    "duration": 7,
    "start_time": "2022-05-28T21:45:43.566Z"
   },
   {
    "duration": 8,
    "start_time": "2022-05-28T21:47:20.019Z"
   },
   {
    "duration": 406,
    "start_time": "2022-05-29T13:44:24.390Z"
   },
   {
    "duration": 87,
    "start_time": "2022-05-29T13:44:24.798Z"
   },
   {
    "duration": 16,
    "start_time": "2022-05-29T13:44:24.887Z"
   },
   {
    "duration": 20,
    "start_time": "2022-05-29T13:44:24.905Z"
   },
   {
    "duration": 8,
    "start_time": "2022-05-29T13:44:24.926Z"
   },
   {
    "duration": 33,
    "start_time": "2022-05-29T13:44:24.936Z"
   },
   {
    "duration": 7,
    "start_time": "2022-05-29T13:44:24.971Z"
   },
   {
    "duration": 15,
    "start_time": "2022-05-29T13:44:24.980Z"
   },
   {
    "duration": 4,
    "start_time": "2022-05-29T13:44:24.997Z"
   },
   {
    "duration": 4,
    "start_time": "2022-05-29T13:44:41.989Z"
   },
   {
    "duration": 4,
    "start_time": "2022-05-29T13:45:02.221Z"
   },
   {
    "duration": 71,
    "start_time": "2022-05-29T13:46:05.376Z"
   },
   {
    "duration": 578,
    "start_time": "2022-05-29T13:46:40.770Z"
   },
   {
    "duration": 4,
    "start_time": "2022-05-29T13:46:46.253Z"
   },
   {
    "duration": 4,
    "start_time": "2022-05-29T13:47:29.051Z"
   },
   {
    "duration": 4,
    "start_time": "2022-05-29T13:47:29.944Z"
   },
   {
    "duration": 4,
    "start_time": "2022-05-29T13:47:33.277Z"
   },
   {
    "duration": 4,
    "start_time": "2022-05-29T13:47:35.630Z"
   },
   {
    "duration": 4,
    "start_time": "2022-05-29T13:48:47.864Z"
   },
   {
    "duration": 4,
    "start_time": "2022-05-29T13:53:10.450Z"
   },
   {
    "duration": 449,
    "start_time": "2022-05-29T13:53:18.527Z"
   },
   {
    "duration": 9,
    "start_time": "2022-05-29T13:53:37.130Z"
   },
   {
    "duration": 34,
    "start_time": "2022-05-29T13:54:00.670Z"
   },
   {
    "duration": 4,
    "start_time": "2022-05-29T13:54:03.452Z"
   },
   {
    "duration": 6,
    "start_time": "2022-05-29T13:54:20.619Z"
   },
   {
    "duration": 600,
    "start_time": "2022-05-29T13:55:40.329Z"
   },
   {
    "duration": 8,
    "start_time": "2022-05-29T13:55:50.721Z"
   },
   {
    "duration": 8,
    "start_time": "2022-05-29T13:56:00.483Z"
   },
   {
    "duration": 10,
    "start_time": "2022-05-29T14:01:42.469Z"
   },
   {
    "duration": 5,
    "start_time": "2022-05-29T14:02:12.143Z"
   },
   {
    "duration": 4,
    "start_time": "2022-05-29T15:13:13.112Z"
   },
   {
    "duration": 302,
    "start_time": "2022-05-29T15:13:20.698Z"
   },
   {
    "duration": 8,
    "start_time": "2022-05-29T15:14:26.207Z"
   },
   {
    "duration": 9,
    "start_time": "2022-05-29T15:14:49.137Z"
   },
   {
    "duration": 4,
    "start_time": "2022-05-29T15:15:38.243Z"
   },
   {
    "duration": 5,
    "start_time": "2022-05-29T15:19:14.604Z"
   },
   {
    "duration": 4,
    "start_time": "2022-05-29T15:19:31.851Z"
   },
   {
    "duration": 15,
    "start_time": "2022-05-29T15:19:40.179Z"
   },
   {
    "duration": 9,
    "start_time": "2022-05-29T15:19:53.170Z"
   },
   {
    "duration": 814,
    "start_time": "2022-05-30T19:24:22.370Z"
   },
   {
    "duration": 32,
    "start_time": "2022-05-30T19:24:23.187Z"
   },
   {
    "duration": 16,
    "start_time": "2022-05-30T19:24:23.221Z"
   },
   {
    "duration": 10,
    "start_time": "2022-05-30T19:24:23.239Z"
   },
   {
    "duration": 9,
    "start_time": "2022-05-30T19:24:23.251Z"
   },
   {
    "duration": 36,
    "start_time": "2022-05-30T19:24:23.261Z"
   },
   {
    "duration": 6,
    "start_time": "2022-05-30T19:24:23.299Z"
   },
   {
    "duration": 10,
    "start_time": "2022-05-30T19:24:23.307Z"
   },
   {
    "duration": 108,
    "start_time": "2022-05-30T19:24:23.319Z"
   },
   {
    "duration": 0,
    "start_time": "2022-05-30T19:24:23.429Z"
   },
   {
    "duration": 0,
    "start_time": "2022-05-30T19:24:23.431Z"
   },
   {
    "duration": 0,
    "start_time": "2022-05-30T19:24:23.433Z"
   },
   {
    "duration": 0,
    "start_time": "2022-05-30T19:24:23.434Z"
   },
   {
    "duration": 0,
    "start_time": "2022-05-30T19:24:23.435Z"
   },
   {
    "duration": 0,
    "start_time": "2022-05-30T19:24:23.436Z"
   },
   {
    "duration": 0,
    "start_time": "2022-05-30T19:24:23.438Z"
   },
   {
    "duration": 0,
    "start_time": "2022-05-30T19:24:23.455Z"
   },
   {
    "duration": 0,
    "start_time": "2022-05-30T19:24:23.456Z"
   },
   {
    "duration": 0,
    "start_time": "2022-05-30T19:24:23.458Z"
   },
   {
    "duration": 0,
    "start_time": "2022-05-30T19:24:23.459Z"
   },
   {
    "duration": 0,
    "start_time": "2022-05-30T19:24:23.460Z"
   },
   {
    "duration": 0,
    "start_time": "2022-05-30T19:24:23.462Z"
   },
   {
    "duration": 0,
    "start_time": "2022-05-30T19:24:23.463Z"
   },
   {
    "duration": 0,
    "start_time": "2022-05-30T19:24:23.464Z"
   },
   {
    "duration": 0,
    "start_time": "2022-05-30T19:24:23.466Z"
   },
   {
    "duration": 0,
    "start_time": "2022-05-30T19:24:23.467Z"
   },
   {
    "duration": 852,
    "start_time": "2022-05-30T19:25:19.306Z"
   },
   {
    "duration": 31,
    "start_time": "2022-05-30T19:25:20.160Z"
   },
   {
    "duration": 16,
    "start_time": "2022-05-30T19:25:20.193Z"
   },
   {
    "duration": 8,
    "start_time": "2022-05-30T19:25:20.211Z"
   },
   {
    "duration": 13,
    "start_time": "2022-05-30T19:25:20.221Z"
   },
   {
    "duration": 39,
    "start_time": "2022-05-30T19:25:20.236Z"
   },
   {
    "duration": 5,
    "start_time": "2022-05-30T19:25:20.278Z"
   },
   {
    "duration": 12,
    "start_time": "2022-05-30T19:25:20.284Z"
   },
   {
    "duration": 5,
    "start_time": "2022-05-30T19:25:20.297Z"
   },
   {
    "duration": 7,
    "start_time": "2022-05-30T19:25:20.304Z"
   },
   {
    "duration": 107,
    "start_time": "2022-05-30T19:25:20.313Z"
   },
   {
    "duration": 0,
    "start_time": "2022-05-30T19:25:20.422Z"
   },
   {
    "duration": 0,
    "start_time": "2022-05-30T19:25:20.423Z"
   },
   {
    "duration": 0,
    "start_time": "2022-05-30T19:25:20.424Z"
   },
   {
    "duration": 0,
    "start_time": "2022-05-30T19:25:20.425Z"
   },
   {
    "duration": 0,
    "start_time": "2022-05-30T19:25:20.426Z"
   },
   {
    "duration": 0,
    "start_time": "2022-05-30T19:25:20.427Z"
   },
   {
    "duration": 0,
    "start_time": "2022-05-30T19:25:20.427Z"
   },
   {
    "duration": 0,
    "start_time": "2022-05-30T19:25:20.429Z"
   },
   {
    "duration": 1,
    "start_time": "2022-05-30T19:25:20.429Z"
   },
   {
    "duration": 0,
    "start_time": "2022-05-30T19:25:20.430Z"
   },
   {
    "duration": 0,
    "start_time": "2022-05-30T19:25:20.431Z"
   },
   {
    "duration": 0,
    "start_time": "2022-05-30T19:25:20.432Z"
   },
   {
    "duration": 0,
    "start_time": "2022-05-30T19:25:20.433Z"
   },
   {
    "duration": 0,
    "start_time": "2022-05-30T19:25:20.455Z"
   },
   {
    "duration": 0,
    "start_time": "2022-05-30T19:25:20.456Z"
   },
   {
    "duration": 1442,
    "start_time": "2022-05-31T19:22:29.036Z"
   },
   {
    "duration": 1201,
    "start_time": "2022-05-31T19:22:36.613Z"
   },
   {
    "duration": 83,
    "start_time": "2022-05-31T19:22:37.816Z"
   },
   {
    "duration": 12,
    "start_time": "2022-05-31T19:22:37.901Z"
   },
   {
    "duration": 10,
    "start_time": "2022-05-31T19:22:37.915Z"
   },
   {
    "duration": 21,
    "start_time": "2022-05-31T19:22:37.926Z"
   },
   {
    "duration": 113,
    "start_time": "2022-05-31T19:22:37.949Z"
   },
   {
    "duration": 6,
    "start_time": "2022-05-31T19:22:38.063Z"
   },
   {
    "duration": 12,
    "start_time": "2022-05-31T19:22:38.070Z"
   },
   {
    "duration": 5,
    "start_time": "2022-05-31T19:22:38.083Z"
   },
   {
    "duration": 6,
    "start_time": "2022-05-31T19:22:38.091Z"
   },
   {
    "duration": 352,
    "start_time": "2022-05-31T19:22:38.098Z"
   },
   {
    "duration": 4,
    "start_time": "2022-05-31T19:22:38.451Z"
   },
   {
    "duration": 8,
    "start_time": "2022-05-31T19:22:38.456Z"
   },
   {
    "duration": 8,
    "start_time": "2022-05-31T19:22:38.465Z"
   },
   {
    "duration": 7,
    "start_time": "2022-05-31T19:22:38.474Z"
   },
   {
    "duration": 7,
    "start_time": "2022-05-31T19:22:38.482Z"
   },
   {
    "duration": 43,
    "start_time": "2022-05-31T19:22:38.491Z"
   },
   {
    "duration": 96,
    "start_time": "2022-05-31T19:22:38.536Z"
   },
   {
    "duration": 14,
    "start_time": "2022-05-31T19:22:38.634Z"
   },
   {
    "duration": 13,
    "start_time": "2022-05-31T19:22:38.650Z"
   },
   {
    "duration": 115,
    "start_time": "2022-05-31T19:22:38.725Z"
   },
   {
    "duration": 97,
    "start_time": "2022-05-31T19:22:38.842Z"
   },
   {
    "duration": 81,
    "start_time": "2022-05-31T19:22:38.945Z"
   },
   {
    "duration": 100,
    "start_time": "2022-05-31T19:22:39.028Z"
   },
   {
    "duration": 22,
    "start_time": "2022-05-31T19:22:39.130Z"
   },
   {
    "duration": 112,
    "start_time": "2022-05-31T19:22:39.227Z"
   },
   {
    "duration": 6,
    "start_time": "2022-05-31T19:56:22.628Z"
   },
   {
    "duration": 5,
    "start_time": "2022-05-31T19:56:23.337Z"
   },
   {
    "duration": 6,
    "start_time": "2022-05-31T19:56:31.004Z"
   },
   {
    "duration": 7,
    "start_time": "2022-05-31T19:56:40.746Z"
   },
   {
    "duration": 4,
    "start_time": "2022-05-31T19:57:08.850Z"
   }
  ],
  "kernelspec": {
   "display_name": "Python 3 (ipykernel)",
   "language": "python",
   "name": "python3"
  },
  "language_info": {
   "codemirror_mode": {
    "name": "ipython",
    "version": 3
   },
   "file_extension": ".py",
   "mimetype": "text/x-python",
   "name": "python",
   "nbconvert_exporter": "python",
   "pygments_lexer": "ipython3",
   "version": "3.9.7"
  },
  "toc": {
   "base_numbering": 1,
   "nav_menu": {},
   "number_sections": true,
   "sideBar": true,
   "skip_h1_title": true,
   "title_cell": "Содержание",
   "title_sidebar": "Contents",
   "toc_cell": true,
   "toc_position": {
    "height": "calc(100% - 180px)",
    "left": "10px",
    "top": "150px",
    "width": "167.6px"
   },
   "toc_section_display": true,
   "toc_window_display": true
  }
 },
 "nbformat": 4,
 "nbformat_minor": 2
}
