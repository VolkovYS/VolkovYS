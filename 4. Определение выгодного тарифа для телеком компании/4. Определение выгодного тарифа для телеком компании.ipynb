{
 "cells": [
  {
   "cell_type": "markdown",
   "metadata": {
    "toc": true
   },
   "source": [
    "<h1>Оглавление<span class=\"tocSkip\"></span></h1>\n",
    "<div class=\"toc\"><ul class=\"toc-item\"><li><span><a href=\"#Изучение-данных-из-файла\" data-toc-modified-id=\"Изучение-данных-из-файла-1\"><span class=\"toc-item-num\">1&nbsp;&nbsp;</span>Изучение данных из файла</a></span><ul class=\"toc-item\"><li><span><a href=\"#Вывод\" data-toc-modified-id=\"Вывод-1.1\"><span class=\"toc-item-num\">1.1&nbsp;&nbsp;</span>Вывод</a></span></li></ul></li><li><span><a href=\"#Предобработка-данных\" data-toc-modified-id=\"Предобработка-данных-2\"><span class=\"toc-item-num\">2&nbsp;&nbsp;</span>Предобработка данных</a></span><ul class=\"toc-item\"><li><span><a href=\"#Вывод\" data-toc-modified-id=\"Вывод-2.1\"><span class=\"toc-item-num\">2.1&nbsp;&nbsp;</span>Вывод</a></span></li></ul></li><li><span><a href=\"#Расчёты-и-добавление-результатов-в-таблицу\" data-toc-modified-id=\"Расчёты-и-добавление-результатов-в-таблицу-3\"><span class=\"toc-item-num\">3&nbsp;&nbsp;</span>Расчёты и добавление результатов в таблицу</a></span><ul class=\"toc-item\"><li><span><a href=\"#Вывод\" data-toc-modified-id=\"Вывод-3.1\"><span class=\"toc-item-num\">3.1&nbsp;&nbsp;</span>Вывод</a></span></li></ul></li><li><span><a href=\"#Исследовательский-анализ-данных\" data-toc-modified-id=\"Исследовательский-анализ-данных-4\"><span class=\"toc-item-num\">4&nbsp;&nbsp;</span>Исследовательский анализ данных</a></span></li><li><span><a href=\"#Среднее-количество,-дисперсия-и-стандартное-отклонение.\" data-toc-modified-id=\"Среднее-количество,-дисперсия-и-стандартное-отклонение.-5\"><span class=\"toc-item-num\">5&nbsp;&nbsp;</span>Среднее количество, дисперсия и стандартное отклонение.</a></span></li><li><span><a href=\"#Проверка-гипотез\" data-toc-modified-id=\"Проверка-гипотез-6\"><span class=\"toc-item-num\">6&nbsp;&nbsp;</span>Проверка гипотез</a></span><ul class=\"toc-item\"><li><ul class=\"toc-item\"><li><span><a href=\"#Средняя-выручка-пользователей-тарифов-&quot;Ультра&quot;-и-&quot;Смарт&quot;-различаются\" data-toc-modified-id=\"Средняя-выручка-пользователей-тарифов-&quot;Ультра&quot;-и-&quot;Смарт&quot;-различаются-6.0.1\"><span class=\"toc-item-num\">6.0.1&nbsp;&nbsp;</span>Средняя выручка пользователей тарифов \"Ультра\" и \"Смарт\" различаются</a></span></li><li><span><a href=\"#Средняя-выручка-пользователей-из-Москвы-отличается-от-выручки-пользователей-из-других-регионов\" data-toc-modified-id=\"Средняя-выручка-пользователей-из-Москвы-отличается-от-выручки-пользователей-из-других-регионов-6.0.2\"><span class=\"toc-item-num\">6.0.2&nbsp;&nbsp;</span>Средняя выручка пользователей из Москвы отличается от выручки пользователей из других регионов</a></span></li></ul></li></ul></li><li><span><a href=\"#Общий-вывод\" data-toc-modified-id=\"Общий-вывод-7\"><span class=\"toc-item-num\">7&nbsp;&nbsp;</span>Общий вывод</a></span></li><li><span><a href=\"#Чек-лист-готовности-проекта\" data-toc-modified-id=\"Чек-лист-готовности-проекта-8\"><span class=\"toc-item-num\">8&nbsp;&nbsp;</span>Чек-лист готовности проекта</a></span></li></ul></div>"
   ]
  },
  {
   "cell_type": "markdown",
   "metadata": {},
   "source": [
    "# Определение перспективного тарифа для телеком-компании\n",
    "\n",
    "Вы аналитик компании «Мегалайн» — федерального оператора сотовой связи. Клиентам предлагают два тарифных плана: «Смарт» и «Ультра». Чтобы скорректировать рекламный бюджет, коммерческий департамент хочет понять, какой тариф приносит больше денег.\n",
    "Вам предстоит сделать предварительный анализ тарифов на небольшой выборке клиентов. В вашем распоряжении данные 500 пользователей «Мегалайна»: кто они, откуда, каким тарифом пользуются, сколько звонков и сообщений каждый отправил за 2018 год. Нужно проанализировать поведение клиентов и сделать вывод — какой тариф лучше."
   ]
  },
  {
   "cell_type": "markdown",
   "metadata": {},
   "source": [
    "# Описание тарифов"
   ]
  },
  {
   "cell_type": "markdown",
   "metadata": {},
   "source": [
    "### Тариф «Смарт» <a class=\"tocSkip\">\n",
    "Ежемесячная плата: 550 рублей\n",
    "<br>Включено 500 минут разговора, 50 сообщений и 15 Гб интернет-трафика\n",
    "<br>Стоимость услуг сверх тарифного пакета:\n",
    "<br>минута разговора: 3 рубля\n",
    "<br>сообщение: 3 рубля\n",
    "<br>1 Гб интернет-трафика: 200 рублей"
   ]
  },
  {
   "cell_type": "markdown",
   "metadata": {},
   "source": [
    "### Тариф «Ультра» <a class=\"tocSkip\">\n",
    "Ежемесячная плата: 1950 рублей\n",
    "<br>Включено 3000 минут разговора, 1000 сообщений и 30 Гб интернет-трафика\n",
    "<br>Стоимость услуг сверх тарифного пакета:\n",
    "<br>минута разговора: 1 рубль\n",
    "<br>сообщение: 1 рубль\n",
    "<br>1 Гб интернет-трафика: 150 рублей"
   ]
  },
  {
   "cell_type": "markdown",
   "metadata": {},
   "source": [
    "<div style=\"border:solid green 5px; padding: 20px\">\n",
    "    \n",
    "**<font>Примечание:</font>**\n",
    "<br>«Мегалайн» всегда округляет секунды до минут, а мегабайты — до гигабайт. Каждый звонок округляется отдельно: даже если он длился всего 1 секунду, будет засчитан как 1 минута.\n",
    "Для веб-трафика отдельные сессии не считаются. Вместо этого общая сумма за месяц округляется в бо́льшую сторону. Если абонент использует 1025 мегабайт в этом месяце, с него возьмут плату за 2 гигабайта."
   ]
  },
  {
   "cell_type": "markdown",
   "metadata": {},
   "source": [
    "### Описание данных <a class=\"tocSkip\">"
   ]
  },
  {
   "cell_type": "markdown",
   "metadata": {},
   "source": [
    "<div style=\"border:solid green 5px; padding: 20px\">\n",
    "    \n",
    "**<font>Таблица users (информация о пользователях):</font>** \n",
    "<br>user_id — уникальный идентификатор пользователя\n",
    "<br>first_name — имя пользователя\n",
    "<br>last_name — фамилия пользователя\n",
    "<br>age — возраст пользователя (годы)\n",
    "<br>reg_date — дата подключения тарифа (день, месяц, год)\n",
    "<br>churn_date — дата прекращения пользования тарифом (если значение пропущено, то тариф ещё действовал на момент выгрузки данных)\n",
    "<br>city — город проживания пользователя\n",
    "<br>tarif — название тарифного плана"
   ]
  },
  {
   "cell_type": "markdown",
   "metadata": {},
   "source": [
    "<div style=\"border:solid green 5px; padding: 20px\">\n",
    "    \n",
    "**<font>Таблица calls (информация о звонках):</font>**\n",
    "<br>id — уникальный номер звонка\n",
    "<br>call_date — дата звонка\n",
    "<br>duration — длительность звонка в минутах\n",
    "<br>user_id — идентификатор пользователя, сделавшего звонок"
   ]
  },
  {
   "cell_type": "markdown",
   "metadata": {},
   "source": [
    "<div style=\"border:solid green 5px; padding: 20px\">\n",
    "    \n",
    "**<font>Таблица messages (информация о сообщениях):</font>**  \n",
    "<br>id — уникальный номер сообщения\n",
    "<br>message_date — дата сообщения\n",
    "<br>user_id — идентификатор пользователя, отправившего сообщение"
   ]
  },
  {
   "cell_type": "markdown",
   "metadata": {},
   "source": [
    "<div style=\"border:solid green 5px; padding: 20px\">\n",
    "    \n",
    "**<font>Таблица internet (информация об интернет-сессиях):</font>** \n",
    "<br>id — уникальный номер сессии\n",
    "<br>mb_used — объём потраченного за сессию интернет-трафика (в мегабайтах)\n",
    "<br>session_date — дата интернет-сессии\n",
    "<br>user_id — идентификатор пользователя"
   ]
  },
  {
   "cell_type": "markdown",
   "metadata": {},
   "source": [
    "<div style=\"border:solid green 5px; padding: 20px\">\n",
    "    \n",
    "**<font>Таблица tariffs (информация о тарифах):</font>**  \n",
    "<br>tariff_name — название тарифа\n",
    "<br>rub_monthly_fee — ежемесячная абонентская плата в рублях\n",
    "<br>minutes_included — количество минут разговора в месяц, включённых в абонентскую плату\n",
    "<br>messages_included — количество сообщений в месяц, включённых в абонентскую плату\n",
    "<br>mb_per_month_included — объём интернет-трафика, включённого в абонентскую плату (в мегабайтах)\n",
    "<br>rub_per_minute — стоимость минуты разговора сверх тарифного пакета (например, если в тарифе 100 минут разговора в месяц, то со 101 минуты будет взиматься плата)\n",
    "<br>rub_per_message — стоимость отправки сообщения сверх тарифного пакета\n",
    "<br>rub_per_gb — стоимость дополнительного гигабайта интернет-трафика сверх тарифного пакета (1 гигабайт = 1024 мегабайта)"
   ]
  },
  {
   "cell_type": "markdown",
   "metadata": {},
   "source": [
    "## Изучение данных из файла"
   ]
  },
  {
   "cell_type": "code",
   "execution_count": 1,
   "metadata": {},
   "outputs": [],
   "source": [
    "import numpy as np\n",
    "import pandas as pd\n",
    "import matplotlib.pyplot as plt\n",
    "from scipy import stats as st"
   ]
  },
  {
   "cell_type": "code",
   "execution_count": 2,
   "metadata": {},
   "outputs": [],
   "source": [
    "data_calls=pd.read_csv('/datasets/calls.csv')\n",
    "data_internet = pd.read_csv('/datasets/internet.csv')\n",
    "data_messages = pd.read_csv('/datasets/messages.csv')\n",
    "data_tariffs = pd.read_csv('/datasets/tariffs.csv')\n",
    "data_users = pd.read_csv('/datasets/users.csv')\n",
    "pd.set_option('display.max_columns', None) #выведем все столбцы таблицы на экран"
   ]
  },
  {
   "cell_type": "code",
   "execution_count": 3,
   "metadata": {},
   "outputs": [],
   "source": [
    "#Дадим название таблицам\n",
    "data_calls.name='calls'\n",
    "data_internet.name = 'internet'\n",
    "data_messages.name = 'messages'\n",
    "data_tariffs.name = 'tariffs'\n",
    "data_users.name = 'users'"
   ]
  },
  {
   "cell_type": "code",
   "execution_count": 4,
   "metadata": {},
   "outputs": [],
   "source": [
    "#Создадим функцию для отображения общей информации о таблице\n",
    "def describe_data(df):\n",
    "    print('Первые 10 строк таблицы:', df.name)\n",
    "    print(df.head(10))\n",
    "    print('Информация о таблице:', df.name)\n",
    "    print(df.info(memory_usage='deep'))\n",
    "    print('Количество пропусков в таблице:', df.name)\n",
    "    print(df.isna().mean())\n",
    "    print('Получение сводки по таблице:', df.name)\n",
    "    print(df.describe().T)"
   ]
  },
  {
   "cell_type": "code",
   "execution_count": 5,
   "metadata": {},
   "outputs": [
    {
     "name": "stdout",
     "output_type": "stream",
     "text": [
      "Первые 10 строк таблицы: calls\n",
      "       id   call_date  duration  user_id\n",
      "0  1000_0  2018-07-25      0.00     1000\n",
      "1  1000_1  2018-08-17      0.00     1000\n",
      "2  1000_2  2018-06-11      2.85     1000\n",
      "3  1000_3  2018-09-21     13.80     1000\n",
      "4  1000_4  2018-12-15      5.18     1000\n",
      "5  1000_5  2018-11-02      0.00     1000\n",
      "6  1000_6  2018-10-18      0.00     1000\n",
      "7  1000_7  2018-08-22     18.31     1000\n",
      "8  1000_8  2018-09-15     18.44     1000\n",
      "9  1000_9  2018-08-15      0.00     1000\n",
      "Информация о таблице: calls\n",
      "<class 'pandas.core.frame.DataFrame'>\n",
      "RangeIndex: 202607 entries, 0 to 202606\n",
      "Data columns (total 4 columns):\n",
      " #   Column     Non-Null Count   Dtype  \n",
      "---  ------     --------------   -----  \n",
      " 0   id         202607 non-null  object \n",
      " 1   call_date  202607 non-null  object \n",
      " 2   duration   202607 non-null  float64\n",
      " 3   user_id    202607 non-null  int64  \n",
      "dtypes: float64(1), int64(1), object(2)\n",
      "memory usage: 28.6 MB\n",
      "None\n",
      "Количество пропусков в таблице: calls\n",
      "id           0.0\n",
      "call_date    0.0\n",
      "duration     0.0\n",
      "user_id      0.0\n",
      "dtype: float64\n",
      "Получение сводки по таблице: calls\n",
      "             count         mean         std     min     25%     50%     75%  \\\n",
      "duration  202607.0     6.755887    5.843365     0.0     1.3     6.0    10.7   \n",
      "user_id   202607.0  1253.940619  144.722751  1000.0  1126.0  1260.0  1379.0   \n",
      "\n",
      "             max  \n",
      "duration    38.0  \n",
      "user_id   1499.0  \n"
     ]
    }
   ],
   "source": [
    "describe_data(data_calls)"
   ]
  },
  {
   "cell_type": "markdown",
   "metadata": {},
   "source": [
    "<div style=\"border:solid green 5px; padding: 5px\">   \n",
    "<br> 202607 строк\n",
    "<br> call_date нужно перевести в формат даты\n",
    "<br>Пропусков в таблице нет\n",
    "<br>id пользователя от 1000 до 1499\n",
    "<br>К сводке о числовых наборах значений в наборе данных вопросов нет (describe()) \n",
    "<br> Длительность разговора от 0 минут (те кто не дозвонился) до 38 минут. Похоже на правду."
   ]
  },
  {
   "cell_type": "code",
   "execution_count": 6,
   "metadata": {},
   "outputs": [
    {
     "name": "stdout",
     "output_type": "stream",
     "text": [
      "Первые 10 строк таблицы: internet\n",
      "   Unnamed: 0      id  mb_used session_date  user_id\n",
      "0           0  1000_0   112.95   2018-11-25     1000\n",
      "1           1  1000_1  1052.81   2018-09-07     1000\n",
      "2           2  1000_2  1197.26   2018-06-25     1000\n",
      "3           3  1000_3   550.27   2018-08-22     1000\n",
      "4           4  1000_4   302.56   2018-09-24     1000\n",
      "5           5  1000_5   399.97   2018-10-02     1000\n",
      "6           6  1000_6   540.08   2018-09-07     1000\n",
      "7           7  1000_7   415.70   2018-07-11     1000\n",
      "8           8  1000_8   505.40   2018-10-08     1000\n",
      "9           9  1000_9   345.54   2018-09-03     1000\n",
      "Информация о таблице: internet\n",
      "<class 'pandas.core.frame.DataFrame'>\n",
      "RangeIndex: 149396 entries, 0 to 149395\n",
      "Data columns (total 5 columns):\n",
      " #   Column        Non-Null Count   Dtype  \n",
      "---  ------        --------------   -----  \n",
      " 0   Unnamed: 0    149396 non-null  int64  \n",
      " 1   id            149396 non-null  object \n",
      " 2   mb_used       149396 non-null  float64\n",
      " 3   session_date  149396 non-null  object \n",
      " 4   user_id       149396 non-null  int64  \n",
      "dtypes: float64(1), int64(2), object(2)\n",
      "memory usage: 22.2 MB\n",
      "None\n",
      "Количество пропусков в таблице: internet\n",
      "Unnamed: 0      0.0\n",
      "id              0.0\n",
      "mb_used         0.0\n",
      "session_date    0.0\n",
      "user_id         0.0\n",
      "dtype: float64\n",
      "Получение сводки по таблице: internet\n",
      "               count          mean           std     min         25%  \\\n",
      "Unnamed: 0  149396.0  74697.500000  43127.054745     0.0  37348.7500   \n",
      "mb_used     149396.0    370.192426    278.300951     0.0    138.1875   \n",
      "user_id     149396.0   1252.099842    144.050823  1000.0   1130.0000   \n",
      "\n",
      "                  50%          75%        max  \n",
      "Unnamed: 0  74697.500  112046.2500  149395.00  \n",
      "mb_used       348.015     559.5525    1724.83  \n",
      "user_id      1251.000    1380.0000    1499.00  \n"
     ]
    }
   ],
   "source": [
    "describe_data(data_internet)"
   ]
  },
  {
   "cell_type": "markdown",
   "metadata": {},
   "source": [
    "<div style=\"border:solid green 5px; padding: 5px\">   \n",
    "<br> 149396 строк\n",
    "<br> Убрать столбец Unnamed: 0\n",
    "<br> session_date перевести в формат даты\n",
    "<br>Пропусков в таблице нет\n",
    "<br>К сводке о числовых наборах значений в наборе данных вопросов нет (describe()) \n",
    "<br> Потреблено трафика от 0 до 149Гб. Вполне похоже на правду."
   ]
  },
  {
   "cell_type": "code",
   "execution_count": 7,
   "metadata": {},
   "outputs": [
    {
     "name": "stdout",
     "output_type": "stream",
     "text": [
      "Первые 10 строк таблицы: messages\n",
      "       id message_date  user_id\n",
      "0  1000_0   2018-06-27     1000\n",
      "1  1000_1   2018-10-08     1000\n",
      "2  1000_2   2018-08-04     1000\n",
      "3  1000_3   2018-06-16     1000\n",
      "4  1000_4   2018-12-05     1000\n",
      "5  1000_5   2018-06-20     1000\n",
      "6  1000_6   2018-11-19     1000\n",
      "7  1000_7   2018-10-29     1000\n",
      "8  1000_8   2018-06-25     1000\n",
      "9  1000_9   2018-12-18     1000\n",
      "Информация о таблице: messages\n",
      "<class 'pandas.core.frame.DataFrame'>\n",
      "RangeIndex: 123036 entries, 0 to 123035\n",
      "Data columns (total 3 columns):\n",
      " #   Column        Non-Null Count   Dtype \n",
      "---  ------        --------------   ----- \n",
      " 0   id            123036 non-null  object\n",
      " 1   message_date  123036 non-null  object\n",
      " 2   user_id       123036 non-null  int64 \n",
      "dtypes: int64(1), object(2)\n",
      "memory usage: 16.4 MB\n",
      "None\n",
      "Количество пропусков в таблице: messages\n",
      "id              0.0\n",
      "message_date    0.0\n",
      "user_id         0.0\n",
      "dtype: float64\n",
      "Получение сводки по таблице: messages\n",
      "            count        mean         std     min     25%     50%     75%  \\\n",
      "user_id  123036.0  1256.98941  143.523967  1000.0  1134.0  1271.0  1381.0   \n",
      "\n",
      "            max  \n",
      "user_id  1499.0  \n"
     ]
    }
   ],
   "source": [
    "describe_data(data_messages)"
   ]
  },
  {
   "cell_type": "markdown",
   "metadata": {},
   "source": [
    "<div style=\"border:solid green 5px; padding: 5px\">   \n",
    "<br> 123036 строк\n",
    "<br> message_date перевести в формат даты\n",
    "<br> Пропусков в таблице нет\n",
    "<br> К сводке о числовых наборах значений в наборе данных вопросов нет (describe()) "
   ]
  },
  {
   "cell_type": "code",
   "execution_count": 8,
   "metadata": {
    "scrolled": true
   },
   "outputs": [
    {
     "name": "stdout",
     "output_type": "stream",
     "text": [
      "Первые 10 строк таблицы: tariffs\n",
      "   messages_included  mb_per_month_included  minutes_included  \\\n",
      "0                 50                  15360               500   \n",
      "1               1000                  30720              3000   \n",
      "\n",
      "   rub_monthly_fee  rub_per_gb  rub_per_message  rub_per_minute tariff_name  \n",
      "0              550         200                3               3       smart  \n",
      "1             1950         150                1               1       ultra  \n",
      "Информация о таблице: tariffs\n",
      "<class 'pandas.core.frame.DataFrame'>\n",
      "RangeIndex: 2 entries, 0 to 1\n",
      "Data columns (total 8 columns):\n",
      " #   Column                 Non-Null Count  Dtype \n",
      "---  ------                 --------------  ----- \n",
      " 0   messages_included      2 non-null      int64 \n",
      " 1   mb_per_month_included  2 non-null      int64 \n",
      " 2   minutes_included       2 non-null      int64 \n",
      " 3   rub_monthly_fee        2 non-null      int64 \n",
      " 4   rub_per_gb             2 non-null      int64 \n",
      " 5   rub_per_message        2 non-null      int64 \n",
      " 6   rub_per_minute         2 non-null      int64 \n",
      " 7   tariff_name            2 non-null      object\n",
      "dtypes: int64(7), object(1)\n",
      "memory usage: 364.0 bytes\n",
      "None\n",
      "Количество пропусков в таблице: tariffs\n",
      "messages_included        0.0\n",
      "mb_per_month_included    0.0\n",
      "minutes_included         0.0\n",
      "rub_monthly_fee          0.0\n",
      "rub_per_gb               0.0\n",
      "rub_per_message          0.0\n",
      "rub_per_minute           0.0\n",
      "tariff_name              0.0\n",
      "dtype: float64\n",
      "Получение сводки по таблице: tariffs\n",
      "                       count     mean           std      min      25%  \\\n",
      "messages_included        2.0    525.0    671.751442     50.0    287.5   \n",
      "mb_per_month_included    2.0  23040.0  10861.160159  15360.0  19200.0   \n",
      "minutes_included         2.0   1750.0   1767.766953    500.0   1125.0   \n",
      "rub_monthly_fee          2.0   1250.0    989.949494    550.0    900.0   \n",
      "rub_per_gb               2.0    175.0     35.355339    150.0    162.5   \n",
      "rub_per_message          2.0      2.0      1.414214      1.0      1.5   \n",
      "rub_per_minute           2.0      2.0      1.414214      1.0      1.5   \n",
      "\n",
      "                           50%      75%      max  \n",
      "messages_included        525.0    762.5   1000.0  \n",
      "mb_per_month_included  23040.0  26880.0  30720.0  \n",
      "minutes_included        1750.0   2375.0   3000.0  \n",
      "rub_monthly_fee         1250.0   1600.0   1950.0  \n",
      "rub_per_gb               175.0    187.5    200.0  \n",
      "rub_per_message            2.0      2.5      3.0  \n",
      "rub_per_minute             2.0      2.5      3.0  \n"
     ]
    }
   ],
   "source": [
    "describe_data(data_tariffs)"
   ]
  },
  {
   "cell_type": "markdown",
   "metadata": {},
   "source": [
    "<div style=\"border:solid green 5px; padding: 5px\">   \n",
    "<br> 2 строки. Замечаний к таблице нет."
   ]
  },
  {
   "cell_type": "code",
   "execution_count": 9,
   "metadata": {},
   "outputs": [
    {
     "name": "stdout",
     "output_type": "stream",
     "text": [
      "Первые 10 строк таблицы: users\n",
      "   user_id  age churn_date              city first_name  last_name  \\\n",
      "0     1000   52        NaN         Краснодар     Рафаил  Верещагин   \n",
      "1     1001   41        NaN            Москва       Иван       Ежов   \n",
      "2     1002   59        NaN       Стерлитамак    Евгений  Абрамович   \n",
      "3     1003   23        NaN            Москва      Белла   Белякова   \n",
      "4     1004   68        NaN       Новокузнецк    Татьяна   Авдеенко   \n",
      "5     1005   67        NaN  Набережные Челны   Афанасий     Горлов   \n",
      "6     1006   21        NaN         Ульяновск     Леонид   Ермолаев   \n",
      "7     1007   65        NaN            Москва        Юна   Березина   \n",
      "8     1008   63        NaN         Челябинск     Рустэм  Пономарёв   \n",
      "9     1009   24        NaN             Пермь   Василиса    Блинова   \n",
      "\n",
      "     reg_date tariff  \n",
      "0  2018-05-25  ultra  \n",
      "1  2018-11-01  smart  \n",
      "2  2018-06-17  smart  \n",
      "3  2018-08-17  ultra  \n",
      "4  2018-05-14  ultra  \n",
      "5  2018-01-25  smart  \n",
      "6  2018-02-26  smart  \n",
      "7  2018-04-19  smart  \n",
      "8  2018-12-19  smart  \n",
      "9  2018-03-22  smart  \n",
      "Информация о таблице: users\n",
      "<class 'pandas.core.frame.DataFrame'>\n",
      "RangeIndex: 500 entries, 0 to 499\n",
      "Data columns (total 8 columns):\n",
      " #   Column      Non-Null Count  Dtype \n",
      "---  ------      --------------  ----- \n",
      " 0   user_id     500 non-null    int64 \n",
      " 1   age         500 non-null    int64 \n",
      " 2   churn_date  38 non-null     object\n",
      " 3   city        500 non-null    object\n",
      " 4   first_name  500 non-null    object\n",
      " 5   last_name   500 non-null    object\n",
      " 6   reg_date    500 non-null    object\n",
      " 7   tariff      500 non-null    object\n",
      "dtypes: int64(2), object(6)\n",
      "memory usage: 229.6 KB\n",
      "None\n",
      "Количество пропусков в таблице: users\n",
      "user_id       0.000\n",
      "age           0.000\n",
      "churn_date    0.924\n",
      "city          0.000\n",
      "first_name    0.000\n",
      "last_name     0.000\n",
      "reg_date      0.000\n",
      "tariff        0.000\n",
      "dtype: float64\n",
      "Получение сводки по таблице: users\n",
      "         count      mean         std     min      25%     50%      75%     max\n",
      "user_id  500.0  1249.500  144.481833  1000.0  1124.75  1249.5  1374.25  1499.0\n",
      "age      500.0    46.588   16.667630    18.0    32.00    46.0    62.00    75.0\n"
     ]
    }
   ],
   "source": [
    "describe_data(data_users)"
   ]
  },
  {
   "cell_type": "markdown",
   "metadata": {},
   "source": [
    "<div style=\"border:solid green 5px; padding: 5px\">   \n",
    "<br> 500 строк\n",
    "<br> churn_date перевести в тип datetime64\n",
    "<br> reg_date перевести в формат даты\n",
    "<br> В churn_date 92,4% пропусков. Значит у 92% пользователей тариф еще действовал на момент выгрузки данных.\n",
    "<br> К сводке о числовых наборах значений в наборе данных вопросов нет (describe())\n",
    "<br> Возраст клиентов от 18 до 75 лет.    "
   ]
  },
  {
   "cell_type": "markdown",
   "metadata": {},
   "source": [
    "### Вывод\n",
    "\n",
    "<br>Данные переданы в отличном виде. Особых замечаний нет. Нужно удалить один столбец в data_internet и перевести некоторые стобцы в формат даты.\n",
    "<br>Поскольку \"Мегалайн\" округляет секунды до минут, а мегабайты до гигабайт - нужно перевести округленные значения в минуты и гигабайты."
   ]
  },
  {
   "cell_type": "markdown",
   "metadata": {},
   "source": [
    "## Предобработка данных"
   ]
  },
  {
   "cell_type": "markdown",
   "metadata": {},
   "source": [
    "def round_up(fl): # Функция округления вверх. Принимает число, возвращает оклугленное вверх\n",
    "    if int(fl)==fl:\n",
    "        return fl\n",
    "    else:\n",
    "        return int(fl)+1\n",
    "\n",
    "calls['duration'] = calls['duration'].apply(round_up).astype(int)\n",
    "display(calls['duration'])"
   ]
  },
  {
   "cell_type": "code",
   "execution_count": 10,
   "metadata": {
    "scrolled": true
   },
   "outputs": [
    {
     "name": "stdout",
     "output_type": "stream",
     "text": [
      "<class 'pandas.core.frame.DataFrame'>\n",
      "RangeIndex: 202607 entries, 0 to 202606\n",
      "Data columns (total 4 columns):\n",
      " #   Column     Non-Null Count   Dtype         \n",
      "---  ------     --------------   -----         \n",
      " 0   id         202607 non-null  object        \n",
      " 1   call_date  202607 non-null  datetime64[ns]\n",
      " 2   duration   202607 non-null  float64       \n",
      " 3   user_id    202607 non-null  int64         \n",
      "dtypes: datetime64[ns](1), float64(1), int64(1), object(1)\n",
      "memory usage: 6.2+ MB\n"
     ]
    }
   ],
   "source": [
    "#data_calls\n",
    "# call_date нужно перевести в формат даты\n",
    "data_calls['call_date']=pd.to_datetime(data_calls['call_date'],format='%Y-%m-%d')\n",
    "data_calls.info()"
   ]
  },
  {
   "cell_type": "code",
   "execution_count": 11,
   "metadata": {},
   "outputs": [
    {
     "name": "stdout",
     "output_type": "stream",
     "text": [
      "<class 'pandas.core.frame.DataFrame'>\n",
      "RangeIndex: 149396 entries, 0 to 149395\n",
      "Data columns (total 4 columns):\n",
      " #   Column        Non-Null Count   Dtype         \n",
      "---  ------        --------------   -----         \n",
      " 0   id            149396 non-null  object        \n",
      " 1   mb_used       149396 non-null  float64       \n",
      " 2   session_date  149396 non-null  datetime64[ns]\n",
      " 3   user_id       149396 non-null  int64         \n",
      "dtypes: datetime64[ns](1), float64(1), int64(1), object(1)\n",
      "memory usage: 4.6+ MB\n"
     ]
    }
   ],
   "source": [
    "#data_internet\n",
    "#Убрать столбец Unnamed: 0\n",
    "data_internet.drop('Unnamed: 0', axis=1, inplace=True)\n",
    "#session_date перевести в формат даты\n",
    "data_internet['session_date']=pd.to_datetime(data_internet['session_date'],format='%Y-%m-%d')\n",
    "data_internet.info()"
   ]
  },
  {
   "cell_type": "code",
   "execution_count": 12,
   "metadata": {},
   "outputs": [
    {
     "name": "stdout",
     "output_type": "stream",
     "text": [
      "<class 'pandas.core.frame.DataFrame'>\n",
      "RangeIndex: 123036 entries, 0 to 123035\n",
      "Data columns (total 3 columns):\n",
      " #   Column        Non-Null Count   Dtype         \n",
      "---  ------        --------------   -----         \n",
      " 0   id            123036 non-null  object        \n",
      " 1   message_date  123036 non-null  datetime64[ns]\n",
      " 2   user_id       123036 non-null  int64         \n",
      "dtypes: datetime64[ns](1), int64(1), object(1)\n",
      "memory usage: 2.8+ MB\n"
     ]
    }
   ],
   "source": [
    "#data_messages\n",
    "#message_date перевести в формат даты\n",
    "data_messages['message_date'] = pd.to_datetime(data_messages['message_date'],format='%Y-%m-%d')\n",
    "data_messages.info()"
   ]
  },
  {
   "cell_type": "code",
   "execution_count": 13,
   "metadata": {},
   "outputs": [
    {
     "name": "stdout",
     "output_type": "stream",
     "text": [
      "<class 'pandas.core.frame.DataFrame'>\n",
      "RangeIndex: 500 entries, 0 to 499\n",
      "Data columns (total 8 columns):\n",
      " #   Column      Non-Null Count  Dtype         \n",
      "---  ------      --------------  -----         \n",
      " 0   user_id     500 non-null    int64         \n",
      " 1   age         500 non-null    int64         \n",
      " 2   churn_date  38 non-null     datetime64[ns]\n",
      " 3   city        500 non-null    object        \n",
      " 4   first_name  500 non-null    object        \n",
      " 5   last_name   500 non-null    object        \n",
      " 6   reg_date    500 non-null    datetime64[ns]\n",
      " 7   tariff      500 non-null    object        \n",
      "dtypes: datetime64[ns](2), int64(2), object(4)\n",
      "memory usage: 31.4+ KB\n"
     ]
    }
   ],
   "source": [
    "#data_users\n",
    "#churn_date перевести в тип datetime64\n",
    "data_users['churn_date']=data_users['churn_date'].astype('datetime64')\n",
    "#reg_date перевести в формат даты\n",
    "data_users['reg_date']=pd.to_datetime(data_users['reg_date'],format='%Y-%m-%d')\n",
    "data_users.info()"
   ]
  },
  {
   "cell_type": "code",
   "execution_count": 14,
   "metadata": {},
   "outputs": [
    {
     "name": "stdout",
     "output_type": "stream",
     "text": [
      "0\n",
      "0\n",
      "0\n",
      "0\n",
      "0\n"
     ]
    }
   ],
   "source": [
    "# Посмотрим количество дубликатов и при необходимости удалим их.\n",
    "print(data_calls.duplicated().sum())\n",
    "print(data_internet.duplicated().sum())\n",
    "print(data_messages.duplicated().sum())\n",
    "print(data_tariffs.duplicated().sum())\n",
    "print(data_users.duplicated().sum())\n",
    "\n",
    "#Дубликатов нет."
   ]
  },
  {
   "cell_type": "markdown",
   "metadata": {},
   "source": [
    "### Вывод\n",
    "Подготовили таблицу для дальнейших вычислений и анализа. В результате предобработки заменили ти п данных в столбцах call_date, session_date, message_date, churn_date, reg_date. Удалили лишний столбец в data_internet. Дубликатов в таблицах нет."
   ]
  },
  {
   "cell_type": "markdown",
   "metadata": {},
   "source": [
    "## Расчёты и добавление результатов в таблицу"
   ]
  },
  {
   "cell_type": "code",
   "execution_count": 15,
   "metadata": {},
   "outputs": [
    {
     "data": {
      "text/html": [
       "<div>\n",
       "<style scoped>\n",
       "    .dataframe tbody tr th:only-of-type {\n",
       "        vertical-align: middle;\n",
       "    }\n",
       "\n",
       "    .dataframe tbody tr th {\n",
       "        vertical-align: top;\n",
       "    }\n",
       "\n",
       "    .dataframe thead th {\n",
       "        text-align: right;\n",
       "    }\n",
       "</style>\n",
       "<table border=\"1\" class=\"dataframe\">\n",
       "  <thead>\n",
       "    <tr style=\"text-align: right;\">\n",
       "      <th></th>\n",
       "      <th></th>\n",
       "      <th>duration</th>\n",
       "    </tr>\n",
       "    <tr>\n",
       "      <th>month</th>\n",
       "      <th>user_id</th>\n",
       "      <th></th>\n",
       "    </tr>\n",
       "  </thead>\n",
       "  <tbody>\n",
       "    <tr>\n",
       "      <th rowspan=\"5\" valign=\"top\">1</th>\n",
       "      <th>1005</th>\n",
       "      <td>95.0</td>\n",
       "    </tr>\n",
       "    <tr>\n",
       "      <th>1032</th>\n",
       "      <td>380.0</td>\n",
       "    </tr>\n",
       "    <tr>\n",
       "      <th>1045</th>\n",
       "      <td>9.0</td>\n",
       "    </tr>\n",
       "    <tr>\n",
       "      <th>1055</th>\n",
       "      <td>551.0</td>\n",
       "    </tr>\n",
       "    <tr>\n",
       "      <th>1071</th>\n",
       "      <td>194.0</td>\n",
       "    </tr>\n",
       "    <tr>\n",
       "      <th>...</th>\n",
       "      <th>...</th>\n",
       "      <td>...</td>\n",
       "    </tr>\n",
       "    <tr>\n",
       "      <th rowspan=\"5\" valign=\"top\">12</th>\n",
       "      <th>1494</th>\n",
       "      <td>418.0</td>\n",
       "    </tr>\n",
       "    <tr>\n",
       "      <th>1495</th>\n",
       "      <td>1031.0</td>\n",
       "    </tr>\n",
       "    <tr>\n",
       "      <th>1496</th>\n",
       "      <td>518.0</td>\n",
       "    </tr>\n",
       "    <tr>\n",
       "      <th>1497</th>\n",
       "      <td>545.0</td>\n",
       "    </tr>\n",
       "    <tr>\n",
       "      <th>1499</th>\n",
       "      <td>492.0</td>\n",
       "    </tr>\n",
       "  </tbody>\n",
       "</table>\n",
       "<p>3174 rows × 1 columns</p>\n",
       "</div>"
      ],
      "text/plain": [
       "               duration\n",
       "month user_id          \n",
       "1     1005         95.0\n",
       "      1032        380.0\n",
       "      1045          9.0\n",
       "      1055        551.0\n",
       "      1071        194.0\n",
       "...                 ...\n",
       "12    1494        418.0\n",
       "      1495       1031.0\n",
       "      1496        518.0\n",
       "      1497        545.0\n",
       "      1499        492.0\n",
       "\n",
       "[3174 rows x 1 columns]"
      ]
     },
     "execution_count": 15,
     "metadata": {},
     "output_type": "execute_result"
    }
   ],
   "source": [
    "#Выясним количество сделанных звонков и израсходованных минут разговора по месяцам для каждого пользователя\n",
    "data_calls['month']=data_calls['call_date'].dt.month # Добаввим информацию о месяце разговоров\n",
    "data_calls['duration']=np.ceil(data_calls['duration']) #Округлим минуты в большую сторону\n",
    "calls=data_calls.pivot_table(index=['month','user_id'],values='duration',aggfunc=('sum'))\n",
    "#calls['duration'] = np.ceil(calls['duration']) #Округлим минуты в большую сторону\n",
    "calls"
   ]
  },
  {
   "cell_type": "code",
   "execution_count": 16,
   "metadata": {},
   "outputs": [
    {
     "data": {
      "text/html": [
       "<div>\n",
       "<style scoped>\n",
       "    .dataframe tbody tr th:only-of-type {\n",
       "        vertical-align: middle;\n",
       "    }\n",
       "\n",
       "    .dataframe tbody tr th {\n",
       "        vertical-align: top;\n",
       "    }\n",
       "\n",
       "    .dataframe thead th {\n",
       "        text-align: right;\n",
       "    }\n",
       "</style>\n",
       "<table border=\"1\" class=\"dataframe\">\n",
       "  <thead>\n",
       "    <tr style=\"text-align: right;\">\n",
       "      <th></th>\n",
       "      <th></th>\n",
       "      <th>message_count</th>\n",
       "    </tr>\n",
       "    <tr>\n",
       "      <th>month</th>\n",
       "      <th>user_id</th>\n",
       "      <th></th>\n",
       "    </tr>\n",
       "  </thead>\n",
       "  <tbody>\n",
       "    <tr>\n",
       "      <th rowspan=\"5\" valign=\"top\">1</th>\n",
       "      <th>1005</th>\n",
       "      <td>7</td>\n",
       "    </tr>\n",
       "    <tr>\n",
       "      <th>1032</th>\n",
       "      <td>38</td>\n",
       "    </tr>\n",
       "    <tr>\n",
       "      <th>1045</th>\n",
       "      <td>5</td>\n",
       "    </tr>\n",
       "    <tr>\n",
       "      <th>1055</th>\n",
       "      <td>30</td>\n",
       "    </tr>\n",
       "    <tr>\n",
       "      <th>1071</th>\n",
       "      <td>16</td>\n",
       "    </tr>\n",
       "    <tr>\n",
       "      <th>...</th>\n",
       "      <th>...</th>\n",
       "      <td>...</td>\n",
       "    </tr>\n",
       "    <tr>\n",
       "      <th rowspan=\"5\" valign=\"top\">12</th>\n",
       "      <th>1493</th>\n",
       "      <td>78</td>\n",
       "    </tr>\n",
       "    <tr>\n",
       "      <th>1495</th>\n",
       "      <td>84</td>\n",
       "    </tr>\n",
       "    <tr>\n",
       "      <th>1496</th>\n",
       "      <td>51</td>\n",
       "    </tr>\n",
       "    <tr>\n",
       "      <th>1497</th>\n",
       "      <td>17</td>\n",
       "    </tr>\n",
       "    <tr>\n",
       "      <th>1499</th>\n",
       "      <td>66</td>\n",
       "    </tr>\n",
       "  </tbody>\n",
       "</table>\n",
       "<p>2717 rows × 1 columns</p>\n",
       "</div>"
      ],
      "text/plain": [
       "               message_count\n",
       "month user_id               \n",
       "1     1005                 7\n",
       "      1032                38\n",
       "      1045                 5\n",
       "      1055                30\n",
       "      1071                16\n",
       "...                      ...\n",
       "12    1493                78\n",
       "      1495                84\n",
       "      1496                51\n",
       "      1497                17\n",
       "      1499                66\n",
       "\n",
       "[2717 rows x 1 columns]"
      ]
     },
     "execution_count": 16,
     "metadata": {},
     "output_type": "execute_result"
    }
   ],
   "source": [
    "#Выясним количество отправленных сообщений по месяцам для каждого пользователя\n",
    "data_messages['month']=data_messages['message_date'].dt.month # Добаввим информацию о месяце сообщения\n",
    "messages=data_messages.pivot_table(index=['month','user_id'],values='message_date',aggfunc=('count'))\n",
    "messages.rename(columns = {'message_date' : 'message_count'}, inplace = True) # Заменим название столбца\n",
    "messages"
   ]
  },
  {
   "cell_type": "code",
   "execution_count": 17,
   "metadata": {
    "scrolled": true
   },
   "outputs": [
    {
     "data": {
      "text/html": [
       "<div>\n",
       "<style scoped>\n",
       "    .dataframe tbody tr th:only-of-type {\n",
       "        vertical-align: middle;\n",
       "    }\n",
       "\n",
       "    .dataframe tbody tr th {\n",
       "        vertical-align: top;\n",
       "    }\n",
       "\n",
       "    .dataframe thead th {\n",
       "        text-align: right;\n",
       "    }\n",
       "</style>\n",
       "<table border=\"1\" class=\"dataframe\">\n",
       "  <thead>\n",
       "    <tr style=\"text-align: right;\">\n",
       "      <th></th>\n",
       "      <th></th>\n",
       "      <th>mb_used</th>\n",
       "    </tr>\n",
       "    <tr>\n",
       "      <th>month</th>\n",
       "      <th>user_id</th>\n",
       "      <th></th>\n",
       "    </tr>\n",
       "  </thead>\n",
       "  <tbody>\n",
       "    <tr>\n",
       "      <th rowspan=\"5\" valign=\"top\">1</th>\n",
       "      <th>1005</th>\n",
       "      <td>2727.97</td>\n",
       "    </tr>\n",
       "    <tr>\n",
       "      <th>1032</th>\n",
       "      <td>24127.69</td>\n",
       "    </tr>\n",
       "    <tr>\n",
       "      <th>1045</th>\n",
       "      <td>2346.71</td>\n",
       "    </tr>\n",
       "    <tr>\n",
       "      <th>1055</th>\n",
       "      <td>17090.88</td>\n",
       "    </tr>\n",
       "    <tr>\n",
       "      <th>1071</th>\n",
       "      <td>15604.34</td>\n",
       "    </tr>\n",
       "    <tr>\n",
       "      <th>...</th>\n",
       "      <th>...</th>\n",
       "      <td>...</td>\n",
       "    </tr>\n",
       "    <tr>\n",
       "      <th rowspan=\"5\" valign=\"top\">12</th>\n",
       "      <th>1494</th>\n",
       "      <td>17621.21</td>\n",
       "    </tr>\n",
       "    <tr>\n",
       "      <th>1495</th>\n",
       "      <td>23426.76</td>\n",
       "    </tr>\n",
       "    <tr>\n",
       "      <th>1496</th>\n",
       "      <td>20736.15</td>\n",
       "    </tr>\n",
       "    <tr>\n",
       "      <th>1497</th>\n",
       "      <td>19918.60</td>\n",
       "    </tr>\n",
       "    <tr>\n",
       "      <th>1499</th>\n",
       "      <td>13055.58</td>\n",
       "    </tr>\n",
       "  </tbody>\n",
       "</table>\n",
       "<p>3203 rows × 1 columns</p>\n",
       "</div>"
      ],
      "text/plain": [
       "                mb_used\n",
       "month user_id          \n",
       "1     1005      2727.97\n",
       "      1032     24127.69\n",
       "      1045      2346.71\n",
       "      1055     17090.88\n",
       "      1071     15604.34\n",
       "...                 ...\n",
       "12    1494     17621.21\n",
       "      1495     23426.76\n",
       "      1496     20736.15\n",
       "      1497     19918.60\n",
       "      1499     13055.58\n",
       "\n",
       "[3203 rows x 1 columns]"
      ]
     },
     "execution_count": 17,
     "metadata": {},
     "output_type": "execute_result"
    }
   ],
   "source": [
    "#Выясним объем израсходованного интернет трафика по месяцам для каждого пользователя\n",
    "data_internet['month']=data_internet['session_date'].dt.month # Добаввим информацию о месяце трафика\n",
    "internet=data_internet.pivot_table(index=['month','user_id'],values='mb_used',aggfunc=('sum'))\n",
    "internet"
   ]
  },
  {
   "cell_type": "code",
   "execution_count": 18,
   "metadata": {},
   "outputs": [
    {
     "data": {
      "text/html": [
       "<div>\n",
       "<style scoped>\n",
       "    .dataframe tbody tr th:only-of-type {\n",
       "        vertical-align: middle;\n",
       "    }\n",
       "\n",
       "    .dataframe tbody tr th {\n",
       "        vertical-align: top;\n",
       "    }\n",
       "\n",
       "    .dataframe thead th {\n",
       "        text-align: right;\n",
       "    }\n",
       "</style>\n",
       "<table border=\"1\" class=\"dataframe\">\n",
       "  <thead>\n",
       "    <tr style=\"text-align: right;\">\n",
       "      <th></th>\n",
       "      <th>mb_used</th>\n",
       "      <th>gb_used</th>\n",
       "    </tr>\n",
       "  </thead>\n",
       "  <tbody>\n",
       "    <tr>\n",
       "      <th>count</th>\n",
       "      <td>3203.000000</td>\n",
       "      <td>3203.000000</td>\n",
       "    </tr>\n",
       "    <tr>\n",
       "      <th>mean</th>\n",
       "      <td>17266.708626</td>\n",
       "      <td>17.358414</td>\n",
       "    </tr>\n",
       "    <tr>\n",
       "      <th>std</th>\n",
       "      <td>7516.356902</td>\n",
       "      <td>7.343379</td>\n",
       "    </tr>\n",
       "    <tr>\n",
       "      <th>min</th>\n",
       "      <td>0.000000</td>\n",
       "      <td>0.000000</td>\n",
       "    </tr>\n",
       "    <tr>\n",
       "      <th>25%</th>\n",
       "      <td>12526.905000</td>\n",
       "      <td>13.000000</td>\n",
       "    </tr>\n",
       "    <tr>\n",
       "      <th>50%</th>\n",
       "      <td>16963.110000</td>\n",
       "      <td>17.000000</td>\n",
       "    </tr>\n",
       "    <tr>\n",
       "      <th>75%</th>\n",
       "      <td>21432.175000</td>\n",
       "      <td>21.000000</td>\n",
       "    </tr>\n",
       "    <tr>\n",
       "      <th>max</th>\n",
       "      <td>49745.690000</td>\n",
       "      <td>49.000000</td>\n",
       "    </tr>\n",
       "  </tbody>\n",
       "</table>\n",
       "</div>"
      ],
      "text/plain": [
       "            mb_used      gb_used\n",
       "count   3203.000000  3203.000000\n",
       "mean   17266.708626    17.358414\n",
       "std     7516.356902     7.343379\n",
       "min        0.000000     0.000000\n",
       "25%    12526.905000    13.000000\n",
       "50%    16963.110000    17.000000\n",
       "75%    21432.175000    21.000000\n",
       "max    49745.690000    49.000000"
      ]
     },
     "execution_count": 18,
     "metadata": {},
     "output_type": "execute_result"
    }
   ],
   "source": [
    "#Округлим все значения mb_used и переведем в гигабайты\n",
    "gb_used = []\n",
    "for i in internet['mb_used']:\n",
    "    gb_used.append(np.ceil((i)/1024))\n",
    "internet['gb_used']=gb_used\n",
    "internet.describe()"
   ]
  },
  {
   "cell_type": "code",
   "execution_count": 19,
   "metadata": {},
   "outputs": [
    {
     "data": {
      "text/html": [
       "<div>\n",
       "<style scoped>\n",
       "    .dataframe tbody tr th:only-of-type {\n",
       "        vertical-align: middle;\n",
       "    }\n",
       "\n",
       "    .dataframe tbody tr th {\n",
       "        vertical-align: top;\n",
       "    }\n",
       "\n",
       "    .dataframe thead th {\n",
       "        text-align: right;\n",
       "    }\n",
       "</style>\n",
       "<table border=\"1\" class=\"dataframe\">\n",
       "  <thead>\n",
       "    <tr style=\"text-align: right;\">\n",
       "      <th></th>\n",
       "      <th></th>\n",
       "      <th>gb_used</th>\n",
       "    </tr>\n",
       "    <tr>\n",
       "      <th>month</th>\n",
       "      <th>user_id</th>\n",
       "      <th></th>\n",
       "    </tr>\n",
       "  </thead>\n",
       "  <tbody>\n",
       "    <tr>\n",
       "      <th rowspan=\"5\" valign=\"top\">1</th>\n",
       "      <th>1005</th>\n",
       "      <td>3.0</td>\n",
       "    </tr>\n",
       "    <tr>\n",
       "      <th>1032</th>\n",
       "      <td>24.0</td>\n",
       "    </tr>\n",
       "    <tr>\n",
       "      <th>1045</th>\n",
       "      <td>3.0</td>\n",
       "    </tr>\n",
       "    <tr>\n",
       "      <th>1055</th>\n",
       "      <td>17.0</td>\n",
       "    </tr>\n",
       "    <tr>\n",
       "      <th>1071</th>\n",
       "      <td>16.0</td>\n",
       "    </tr>\n",
       "    <tr>\n",
       "      <th>...</th>\n",
       "      <th>...</th>\n",
       "      <td>...</td>\n",
       "    </tr>\n",
       "    <tr>\n",
       "      <th rowspan=\"5\" valign=\"top\">12</th>\n",
       "      <th>1494</th>\n",
       "      <td>18.0</td>\n",
       "    </tr>\n",
       "    <tr>\n",
       "      <th>1495</th>\n",
       "      <td>23.0</td>\n",
       "    </tr>\n",
       "    <tr>\n",
       "      <th>1496</th>\n",
       "      <td>21.0</td>\n",
       "    </tr>\n",
       "    <tr>\n",
       "      <th>1497</th>\n",
       "      <td>20.0</td>\n",
       "    </tr>\n",
       "    <tr>\n",
       "      <th>1499</th>\n",
       "      <td>13.0</td>\n",
       "    </tr>\n",
       "  </tbody>\n",
       "</table>\n",
       "<p>3203 rows × 1 columns</p>\n",
       "</div>"
      ],
      "text/plain": [
       "               gb_used\n",
       "month user_id         \n",
       "1     1005         3.0\n",
       "      1032        24.0\n",
       "      1045         3.0\n",
       "      1055        17.0\n",
       "      1071        16.0\n",
       "...                ...\n",
       "12    1494        18.0\n",
       "      1495        23.0\n",
       "      1496        21.0\n",
       "      1497        20.0\n",
       "      1499        13.0\n",
       "\n",
       "[3203 rows x 1 columns]"
      ]
     },
     "execution_count": 19,
     "metadata": {},
     "output_type": "execute_result"
    }
   ],
   "source": [
    "#Уберем столбец mb_used\n",
    "internet.drop('mb_used', axis=1, inplace=True)\n",
    "internet"
   ]
  },
  {
   "cell_type": "markdown",
   "metadata": {},
   "source": [
    "<div style=\"border:solid green 5px; padding: 20px\">\n",
    "Объединим таблицы и узнаем помесячную вырчку с каждого пользователя (вычтите бесплатный лимит из суммарного количества звонков, сообщений и интернет-трафика; остаток умножьте на значение из тарифного плана; прибавьте абонентскую плату, соответствующую тарифному плану)."
   ]
  },
  {
   "cell_type": "code",
   "execution_count": 20,
   "metadata": {
    "scrolled": true
   },
   "outputs": [
    {
     "data": {
      "text/html": [
       "<div>\n",
       "<style scoped>\n",
       "    .dataframe tbody tr th:only-of-type {\n",
       "        vertical-align: middle;\n",
       "    }\n",
       "\n",
       "    .dataframe tbody tr th {\n",
       "        vertical-align: top;\n",
       "    }\n",
       "\n",
       "    .dataframe thead th {\n",
       "        text-align: right;\n",
       "    }\n",
       "</style>\n",
       "<table border=\"1\" class=\"dataframe\">\n",
       "  <thead>\n",
       "    <tr style=\"text-align: right;\">\n",
       "      <th></th>\n",
       "      <th></th>\n",
       "      <th>duration</th>\n",
       "      <th>message_count</th>\n",
       "    </tr>\n",
       "    <tr>\n",
       "      <th>user_id</th>\n",
       "      <th>month</th>\n",
       "      <th></th>\n",
       "      <th></th>\n",
       "    </tr>\n",
       "  </thead>\n",
       "  <tbody>\n",
       "    <tr>\n",
       "      <th>1005</th>\n",
       "      <th>1</th>\n",
       "      <td>95.0</td>\n",
       "      <td>7.0</td>\n",
       "    </tr>\n",
       "    <tr>\n",
       "      <th>1032</th>\n",
       "      <th>1</th>\n",
       "      <td>380.0</td>\n",
       "      <td>38.0</td>\n",
       "    </tr>\n",
       "    <tr>\n",
       "      <th>1045</th>\n",
       "      <th>1</th>\n",
       "      <td>9.0</td>\n",
       "      <td>5.0</td>\n",
       "    </tr>\n",
       "    <tr>\n",
       "      <th>1055</th>\n",
       "      <th>1</th>\n",
       "      <td>551.0</td>\n",
       "      <td>30.0</td>\n",
       "    </tr>\n",
       "    <tr>\n",
       "      <th>1071</th>\n",
       "      <th>1</th>\n",
       "      <td>194.0</td>\n",
       "      <td>16.0</td>\n",
       "    </tr>\n",
       "    <tr>\n",
       "      <th>...</th>\n",
       "      <th>...</th>\n",
       "      <td>...</td>\n",
       "      <td>...</td>\n",
       "    </tr>\n",
       "    <tr>\n",
       "      <th>1106</th>\n",
       "      <th>12</th>\n",
       "      <td>NaN</td>\n",
       "      <td>24.0</td>\n",
       "    </tr>\n",
       "    <tr>\n",
       "      <th>1231</th>\n",
       "      <th>12</th>\n",
       "      <td>NaN</td>\n",
       "      <td>191.0</td>\n",
       "    </tr>\n",
       "    <tr>\n",
       "      <th>1328</th>\n",
       "      <th>12</th>\n",
       "      <td>NaN</td>\n",
       "      <td>7.0</td>\n",
       "    </tr>\n",
       "    <tr>\n",
       "      <th>1473</th>\n",
       "      <th>12</th>\n",
       "      <td>NaN</td>\n",
       "      <td>20.0</td>\n",
       "    </tr>\n",
       "    <tr>\n",
       "      <th>1489</th>\n",
       "      <th>12</th>\n",
       "      <td>NaN</td>\n",
       "      <td>35.0</td>\n",
       "    </tr>\n",
       "  </tbody>\n",
       "</table>\n",
       "<p>3213 rows × 2 columns</p>\n",
       "</div>"
      ],
      "text/plain": [
       "               duration  message_count\n",
       "user_id month                         \n",
       "1005    1          95.0            7.0\n",
       "1032    1         380.0           38.0\n",
       "1045    1           9.0            5.0\n",
       "1055    1         551.0           30.0\n",
       "1071    1         194.0           16.0\n",
       "...                 ...            ...\n",
       "1106    12          NaN           24.0\n",
       "1231    12          NaN          191.0\n",
       "1328    12          NaN            7.0\n",
       "1473    12          NaN           20.0\n",
       "1489    12          NaN           35.0\n",
       "\n",
       "[3213 rows x 2 columns]"
      ]
     },
     "execution_count": 20,
     "metadata": {},
     "output_type": "execute_result"
    }
   ],
   "source": [
    "#Объединим calls и messages\n",
    "calls_messages=calls.merge(messages, on=['user_id','month'], how='outer') \n",
    "calls_messages"
   ]
  },
  {
   "cell_type": "code",
   "execution_count": 21,
   "metadata": {},
   "outputs": [
    {
     "data": {
      "text/html": [
       "<div>\n",
       "<style scoped>\n",
       "    .dataframe tbody tr th:only-of-type {\n",
       "        vertical-align: middle;\n",
       "    }\n",
       "\n",
       "    .dataframe tbody tr th {\n",
       "        vertical-align: top;\n",
       "    }\n",
       "\n",
       "    .dataframe thead th {\n",
       "        text-align: right;\n",
       "    }\n",
       "</style>\n",
       "<table border=\"1\" class=\"dataframe\">\n",
       "  <thead>\n",
       "    <tr style=\"text-align: right;\">\n",
       "      <th></th>\n",
       "      <th>user_id</th>\n",
       "      <th>month</th>\n",
       "      <th>duration</th>\n",
       "      <th>message_count</th>\n",
       "      <th>gb_used</th>\n",
       "    </tr>\n",
       "  </thead>\n",
       "  <tbody>\n",
       "    <tr>\n",
       "      <th>0</th>\n",
       "      <td>1005</td>\n",
       "      <td>1</td>\n",
       "      <td>95.0</td>\n",
       "      <td>7.0</td>\n",
       "      <td>3.0</td>\n",
       "    </tr>\n",
       "    <tr>\n",
       "      <th>1</th>\n",
       "      <td>1032</td>\n",
       "      <td>1</td>\n",
       "      <td>380.0</td>\n",
       "      <td>38.0</td>\n",
       "      <td>24.0</td>\n",
       "    </tr>\n",
       "    <tr>\n",
       "      <th>2</th>\n",
       "      <td>1045</td>\n",
       "      <td>1</td>\n",
       "      <td>9.0</td>\n",
       "      <td>5.0</td>\n",
       "      <td>3.0</td>\n",
       "    </tr>\n",
       "    <tr>\n",
       "      <th>3</th>\n",
       "      <td>1055</td>\n",
       "      <td>1</td>\n",
       "      <td>551.0</td>\n",
       "      <td>30.0</td>\n",
       "      <td>17.0</td>\n",
       "    </tr>\n",
       "    <tr>\n",
       "      <th>4</th>\n",
       "      <td>1071</td>\n",
       "      <td>1</td>\n",
       "      <td>194.0</td>\n",
       "      <td>16.0</td>\n",
       "      <td>16.0</td>\n",
       "    </tr>\n",
       "    <tr>\n",
       "      <th>...</th>\n",
       "      <td>...</td>\n",
       "      <td>...</td>\n",
       "      <td>...</td>\n",
       "      <td>...</td>\n",
       "      <td>...</td>\n",
       "    </tr>\n",
       "    <tr>\n",
       "      <th>3209</th>\n",
       "      <td>1231</td>\n",
       "      <td>12</td>\n",
       "      <td>NaN</td>\n",
       "      <td>191.0</td>\n",
       "      <td>32.0</td>\n",
       "    </tr>\n",
       "    <tr>\n",
       "      <th>3210</th>\n",
       "      <td>1328</td>\n",
       "      <td>12</td>\n",
       "      <td>NaN</td>\n",
       "      <td>7.0</td>\n",
       "      <td>39.0</td>\n",
       "    </tr>\n",
       "    <tr>\n",
       "      <th>3211</th>\n",
       "      <td>1473</td>\n",
       "      <td>12</td>\n",
       "      <td>NaN</td>\n",
       "      <td>20.0</td>\n",
       "      <td>18.0</td>\n",
       "    </tr>\n",
       "    <tr>\n",
       "      <th>3212</th>\n",
       "      <td>1489</td>\n",
       "      <td>12</td>\n",
       "      <td>NaN</td>\n",
       "      <td>35.0</td>\n",
       "      <td>17.0</td>\n",
       "    </tr>\n",
       "    <tr>\n",
       "      <th>3213</th>\n",
       "      <td>1476</td>\n",
       "      <td>4</td>\n",
       "      <td>NaN</td>\n",
       "      <td>NaN</td>\n",
       "      <td>1.0</td>\n",
       "    </tr>\n",
       "  </tbody>\n",
       "</table>\n",
       "<p>3214 rows × 5 columns</p>\n",
       "</div>"
      ],
      "text/plain": [
       "      user_id  month  duration  message_count  gb_used\n",
       "0        1005      1      95.0            7.0      3.0\n",
       "1        1032      1     380.0           38.0     24.0\n",
       "2        1045      1       9.0            5.0      3.0\n",
       "3        1055      1     551.0           30.0     17.0\n",
       "4        1071      1     194.0           16.0     16.0\n",
       "...       ...    ...       ...            ...      ...\n",
       "3209     1231     12       NaN          191.0     32.0\n",
       "3210     1328     12       NaN            7.0     39.0\n",
       "3211     1473     12       NaN           20.0     18.0\n",
       "3212     1489     12       NaN           35.0     17.0\n",
       "3213     1476      4       NaN            NaN      1.0\n",
       "\n",
       "[3214 rows x 5 columns]"
      ]
     },
     "execution_count": 21,
     "metadata": {},
     "output_type": "execute_result"
    }
   ],
   "source": [
    "#Добавим internet\n",
    "internet_calls_messages=calls_messages.merge(internet, on=['user_id','month'], how='outer').reset_index() \n",
    "internet_calls_messages"
   ]
  },
  {
   "cell_type": "code",
   "execution_count": 22,
   "metadata": {
    "scrolled": true
   },
   "outputs": [
    {
     "data": {
      "text/html": [
       "<div>\n",
       "<style scoped>\n",
       "    .dataframe tbody tr th:only-of-type {\n",
       "        vertical-align: middle;\n",
       "    }\n",
       "\n",
       "    .dataframe tbody tr th {\n",
       "        vertical-align: top;\n",
       "    }\n",
       "\n",
       "    .dataframe thead th {\n",
       "        text-align: right;\n",
       "    }\n",
       "</style>\n",
       "<table border=\"1\" class=\"dataframe\">\n",
       "  <thead>\n",
       "    <tr style=\"text-align: right;\">\n",
       "      <th></th>\n",
       "      <th>user_id</th>\n",
       "      <th>month</th>\n",
       "      <th>duration</th>\n",
       "      <th>message_count</th>\n",
       "      <th>gb_used</th>\n",
       "      <th>age</th>\n",
       "      <th>churn_date</th>\n",
       "      <th>city</th>\n",
       "      <th>first_name</th>\n",
       "      <th>last_name</th>\n",
       "      <th>reg_date</th>\n",
       "      <th>tariff</th>\n",
       "    </tr>\n",
       "  </thead>\n",
       "  <tbody>\n",
       "    <tr>\n",
       "      <th>0</th>\n",
       "      <td>1005</td>\n",
       "      <td>1.0</td>\n",
       "      <td>95.0</td>\n",
       "      <td>7.0</td>\n",
       "      <td>3.0</td>\n",
       "      <td>67</td>\n",
       "      <td>NaT</td>\n",
       "      <td>Набережные Челны</td>\n",
       "      <td>Афанасий</td>\n",
       "      <td>Горлов</td>\n",
       "      <td>2018-01-25</td>\n",
       "      <td>smart</td>\n",
       "    </tr>\n",
       "    <tr>\n",
       "      <th>1</th>\n",
       "      <td>1005</td>\n",
       "      <td>2.0</td>\n",
       "      <td>456.0</td>\n",
       "      <td>38.0</td>\n",
       "      <td>8.0</td>\n",
       "      <td>67</td>\n",
       "      <td>NaT</td>\n",
       "      <td>Набережные Челны</td>\n",
       "      <td>Афанасий</td>\n",
       "      <td>Горлов</td>\n",
       "      <td>2018-01-25</td>\n",
       "      <td>smart</td>\n",
       "    </tr>\n",
       "    <tr>\n",
       "      <th>2</th>\n",
       "      <td>1005</td>\n",
       "      <td>3.0</td>\n",
       "      <td>606.0</td>\n",
       "      <td>56.0</td>\n",
       "      <td>11.0</td>\n",
       "      <td>67</td>\n",
       "      <td>NaT</td>\n",
       "      <td>Набережные Челны</td>\n",
       "      <td>Афанасий</td>\n",
       "      <td>Горлов</td>\n",
       "      <td>2018-01-25</td>\n",
       "      <td>smart</td>\n",
       "    </tr>\n",
       "    <tr>\n",
       "      <th>3</th>\n",
       "      <td>1005</td>\n",
       "      <td>4.0</td>\n",
       "      <td>712.0</td>\n",
       "      <td>41.0</td>\n",
       "      <td>10.0</td>\n",
       "      <td>67</td>\n",
       "      <td>NaT</td>\n",
       "      <td>Набережные Челны</td>\n",
       "      <td>Афанасий</td>\n",
       "      <td>Горлов</td>\n",
       "      <td>2018-01-25</td>\n",
       "      <td>smart</td>\n",
       "    </tr>\n",
       "    <tr>\n",
       "      <th>4</th>\n",
       "      <td>1005</td>\n",
       "      <td>5.0</td>\n",
       "      <td>595.0</td>\n",
       "      <td>42.0</td>\n",
       "      <td>8.0</td>\n",
       "      <td>67</td>\n",
       "      <td>NaT</td>\n",
       "      <td>Набережные Челны</td>\n",
       "      <td>Афанасий</td>\n",
       "      <td>Горлов</td>\n",
       "      <td>2018-01-25</td>\n",
       "      <td>smart</td>\n",
       "    </tr>\n",
       "    <tr>\n",
       "      <th>...</th>\n",
       "      <td>...</td>\n",
       "      <td>...</td>\n",
       "      <td>...</td>\n",
       "      <td>...</td>\n",
       "      <td>...</td>\n",
       "      <td>...</td>\n",
       "      <td>...</td>\n",
       "      <td>...</td>\n",
       "      <td>...</td>\n",
       "      <td>...</td>\n",
       "      <td>...</td>\n",
       "      <td>...</td>\n",
       "    </tr>\n",
       "    <tr>\n",
       "      <th>3211</th>\n",
       "      <td>1328</td>\n",
       "      <td>10.0</td>\n",
       "      <td>NaN</td>\n",
       "      <td>6.0</td>\n",
       "      <td>22.0</td>\n",
       "      <td>44</td>\n",
       "      <td>NaT</td>\n",
       "      <td>Мурманск</td>\n",
       "      <td>Рауль</td>\n",
       "      <td>Аркадьев</td>\n",
       "      <td>2018-10-16</td>\n",
       "      <td>ultra</td>\n",
       "    </tr>\n",
       "    <tr>\n",
       "      <th>3212</th>\n",
       "      <td>1328</td>\n",
       "      <td>11.0</td>\n",
       "      <td>NaN</td>\n",
       "      <td>8.0</td>\n",
       "      <td>35.0</td>\n",
       "      <td>44</td>\n",
       "      <td>NaT</td>\n",
       "      <td>Мурманск</td>\n",
       "      <td>Рауль</td>\n",
       "      <td>Аркадьев</td>\n",
       "      <td>2018-10-16</td>\n",
       "      <td>ultra</td>\n",
       "    </tr>\n",
       "    <tr>\n",
       "      <th>3213</th>\n",
       "      <td>1328</td>\n",
       "      <td>12.0</td>\n",
       "      <td>NaN</td>\n",
       "      <td>7.0</td>\n",
       "      <td>39.0</td>\n",
       "      <td>44</td>\n",
       "      <td>NaT</td>\n",
       "      <td>Мурманск</td>\n",
       "      <td>Рауль</td>\n",
       "      <td>Аркадьев</td>\n",
       "      <td>2018-10-16</td>\n",
       "      <td>ultra</td>\n",
       "    </tr>\n",
       "    <tr>\n",
       "      <th>3214</th>\n",
       "      <td>1128</td>\n",
       "      <td>NaN</td>\n",
       "      <td>NaN</td>\n",
       "      <td>NaN</td>\n",
       "      <td>NaN</td>\n",
       "      <td>51</td>\n",
       "      <td>2018-12-23</td>\n",
       "      <td>Волжский</td>\n",
       "      <td>Ксения</td>\n",
       "      <td>Агаева</td>\n",
       "      <td>2018-12-15</td>\n",
       "      <td>ultra</td>\n",
       "    </tr>\n",
       "    <tr>\n",
       "      <th>3215</th>\n",
       "      <td>1371</td>\n",
       "      <td>NaN</td>\n",
       "      <td>NaN</td>\n",
       "      <td>NaN</td>\n",
       "      <td>NaN</td>\n",
       "      <td>50</td>\n",
       "      <td>2018-12-30</td>\n",
       "      <td>Омск</td>\n",
       "      <td>Ириней</td>\n",
       "      <td>Трофимов</td>\n",
       "      <td>2018-12-25</td>\n",
       "      <td>smart</td>\n",
       "    </tr>\n",
       "  </tbody>\n",
       "</table>\n",
       "<p>3216 rows × 12 columns</p>\n",
       "</div>"
      ],
      "text/plain": [
       "      user_id  month  duration  message_count  gb_used  age churn_date  \\\n",
       "0        1005    1.0      95.0            7.0      3.0   67        NaT   \n",
       "1        1005    2.0     456.0           38.0      8.0   67        NaT   \n",
       "2        1005    3.0     606.0           56.0     11.0   67        NaT   \n",
       "3        1005    4.0     712.0           41.0     10.0   67        NaT   \n",
       "4        1005    5.0     595.0           42.0      8.0   67        NaT   \n",
       "...       ...    ...       ...            ...      ...  ...        ...   \n",
       "3211     1328   10.0       NaN            6.0     22.0   44        NaT   \n",
       "3212     1328   11.0       NaN            8.0     35.0   44        NaT   \n",
       "3213     1328   12.0       NaN            7.0     39.0   44        NaT   \n",
       "3214     1128    NaN       NaN            NaN      NaN   51 2018-12-23   \n",
       "3215     1371    NaN       NaN            NaN      NaN   50 2018-12-30   \n",
       "\n",
       "                  city first_name last_name   reg_date tariff  \n",
       "0     Набережные Челны   Афанасий    Горлов 2018-01-25  smart  \n",
       "1     Набережные Челны   Афанасий    Горлов 2018-01-25  smart  \n",
       "2     Набережные Челны   Афанасий    Горлов 2018-01-25  smart  \n",
       "3     Набережные Челны   Афанасий    Горлов 2018-01-25  smart  \n",
       "4     Набережные Челны   Афанасий    Горлов 2018-01-25  smart  \n",
       "...                ...        ...       ...        ...    ...  \n",
       "3211          Мурманск      Рауль  Аркадьев 2018-10-16  ultra  \n",
       "3212          Мурманск      Рауль  Аркадьев 2018-10-16  ultra  \n",
       "3213          Мурманск      Рауль  Аркадьев 2018-10-16  ultra  \n",
       "3214          Волжский     Ксения    Агаева 2018-12-15  ultra  \n",
       "3215              Омск     Ириней  Трофимов 2018-12-25  smart  \n",
       "\n",
       "[3216 rows x 12 columns]"
      ]
     },
     "execution_count": 22,
     "metadata": {},
     "output_type": "execute_result"
    }
   ],
   "source": [
    "#Добавим data_users\n",
    "data=internet_calls_messages.merge(data_users, on=['user_id'], how='outer') \n",
    "data\n",
    "#data_users"
   ]
  },
  {
   "cell_type": "code",
   "execution_count": 23,
   "metadata": {},
   "outputs": [
    {
     "data": {
      "text/plain": [
       "0.0"
      ]
     },
     "execution_count": 23,
     "metadata": {},
     "output_type": "execute_result"
    }
   ],
   "source": [
    "data['gb_used'].sum()-internet['gb_used'].sum()"
   ]
  },
  {
   "cell_type": "code",
   "execution_count": 24,
   "metadata": {},
   "outputs": [
    {
     "data": {
      "text/html": [
       "<div>\n",
       "<style scoped>\n",
       "    .dataframe tbody tr th:only-of-type {\n",
       "        vertical-align: middle;\n",
       "    }\n",
       "\n",
       "    .dataframe tbody tr th {\n",
       "        vertical-align: top;\n",
       "    }\n",
       "\n",
       "    .dataframe thead th {\n",
       "        text-align: right;\n",
       "    }\n",
       "</style>\n",
       "<table border=\"1\" class=\"dataframe\">\n",
       "  <thead>\n",
       "    <tr style=\"text-align: right;\">\n",
       "      <th></th>\n",
       "      <th>messages_included</th>\n",
       "      <th>mb_per_month_included</th>\n",
       "      <th>minutes_included</th>\n",
       "      <th>rub_monthly_fee</th>\n",
       "      <th>rub_per_gb</th>\n",
       "      <th>rub_per_message</th>\n",
       "      <th>rub_per_minute</th>\n",
       "      <th>tariff_name</th>\n",
       "    </tr>\n",
       "  </thead>\n",
       "  <tbody>\n",
       "    <tr>\n",
       "      <th>0</th>\n",
       "      <td>50</td>\n",
       "      <td>15360</td>\n",
       "      <td>500</td>\n",
       "      <td>550</td>\n",
       "      <td>200</td>\n",
       "      <td>3</td>\n",
       "      <td>3</td>\n",
       "      <td>smart</td>\n",
       "    </tr>\n",
       "    <tr>\n",
       "      <th>1</th>\n",
       "      <td>1000</td>\n",
       "      <td>30720</td>\n",
       "      <td>3000</td>\n",
       "      <td>1950</td>\n",
       "      <td>150</td>\n",
       "      <td>1</td>\n",
       "      <td>1</td>\n",
       "      <td>ultra</td>\n",
       "    </tr>\n",
       "  </tbody>\n",
       "</table>\n",
       "</div>"
      ],
      "text/plain": [
       "   messages_included  mb_per_month_included  minutes_included  \\\n",
       "0                 50                  15360               500   \n",
       "1               1000                  30720              3000   \n",
       "\n",
       "   rub_monthly_fee  rub_per_gb  rub_per_message  rub_per_minute tariff_name  \n",
       "0              550         200                3               3       smart  \n",
       "1             1950         150                1               1       ultra  "
      ]
     },
     "execution_count": 24,
     "metadata": {},
     "output_type": "execute_result"
    }
   ],
   "source": [
    "data_tariffs"
   ]
  },
  {
   "cell_type": "code",
   "execution_count": 25,
   "metadata": {},
   "outputs": [],
   "source": [
    "#Создадим функцию, чтобы узнать ежемесячную выручку с каждого пользователя\n",
    "def price_for_month(data):\n",
    "    if data['tariff']=='smart':\n",
    "        i = 0\n",
    "    else:\n",
    "        i = 1\n",
    "\n",
    "    diff_message = data['message_count'] - data_tariffs['messages_included'][i]\n",
    "    diff_internet = data['gb_used'] - (data_tariffs['mb_per_month_included'][i]/1024)\n",
    "    diff_calls = data['duration'] - data_tariffs['minutes_included'][i]\n",
    "\n",
    "    if diff_message > 0:\n",
    "        message_price = (data['message_count']-data_tariffs['messages_included'][i])*data_tariffs['rub_per_message'][i]\n",
    "    else:\n",
    "        message_price = 0\n",
    "\n",
    "    if diff_internet > 0:\n",
    "        internet_price = (data['gb_used']-(data_tariffs['mb_per_month_included'][i]/1024))*data_tariffs['rub_per_gb'][i]\n",
    "    else:\n",
    "        internet_price = 0\n",
    "\n",
    "    if diff_calls > 0:\n",
    "        calls_price = (data['duration']-data_tariffs['minutes_included'][i])*data_tariffs['rub_per_minute'][i]\n",
    "    else:\n",
    "        calls_price = 0\n",
    "    price = message_price + internet_price + calls_price + data_tariffs['rub_monthly_fee'][i]\n",
    "    return price"
   ]
  },
  {
   "cell_type": "code",
   "execution_count": 26,
   "metadata": {
    "scrolled": true
   },
   "outputs": [
    {
     "data": {
      "text/html": [
       "<div>\n",
       "<style scoped>\n",
       "    .dataframe tbody tr th:only-of-type {\n",
       "        vertical-align: middle;\n",
       "    }\n",
       "\n",
       "    .dataframe tbody tr th {\n",
       "        vertical-align: top;\n",
       "    }\n",
       "\n",
       "    .dataframe thead th {\n",
       "        text-align: right;\n",
       "    }\n",
       "</style>\n",
       "<table border=\"1\" class=\"dataframe\">\n",
       "  <thead>\n",
       "    <tr style=\"text-align: right;\">\n",
       "      <th></th>\n",
       "      <th>user_id</th>\n",
       "      <th>month</th>\n",
       "      <th>duration</th>\n",
       "      <th>message_count</th>\n",
       "      <th>gb_used</th>\n",
       "      <th>age</th>\n",
       "      <th>churn_date</th>\n",
       "      <th>city</th>\n",
       "      <th>first_name</th>\n",
       "      <th>last_name</th>\n",
       "      <th>reg_date</th>\n",
       "      <th>tariff</th>\n",
       "      <th>price</th>\n",
       "    </tr>\n",
       "  </thead>\n",
       "  <tbody>\n",
       "    <tr>\n",
       "      <th>0</th>\n",
       "      <td>1005</td>\n",
       "      <td>1.0</td>\n",
       "      <td>95.0</td>\n",
       "      <td>7.0</td>\n",
       "      <td>3.0</td>\n",
       "      <td>67</td>\n",
       "      <td>NaT</td>\n",
       "      <td>Набережные Челны</td>\n",
       "      <td>Афанасий</td>\n",
       "      <td>Горлов</td>\n",
       "      <td>2018-01-25</td>\n",
       "      <td>smart</td>\n",
       "      <td>550.0</td>\n",
       "    </tr>\n",
       "    <tr>\n",
       "      <th>1</th>\n",
       "      <td>1005</td>\n",
       "      <td>2.0</td>\n",
       "      <td>456.0</td>\n",
       "      <td>38.0</td>\n",
       "      <td>8.0</td>\n",
       "      <td>67</td>\n",
       "      <td>NaT</td>\n",
       "      <td>Набережные Челны</td>\n",
       "      <td>Афанасий</td>\n",
       "      <td>Горлов</td>\n",
       "      <td>2018-01-25</td>\n",
       "      <td>smart</td>\n",
       "      <td>550.0</td>\n",
       "    </tr>\n",
       "    <tr>\n",
       "      <th>2</th>\n",
       "      <td>1005</td>\n",
       "      <td>3.0</td>\n",
       "      <td>606.0</td>\n",
       "      <td>56.0</td>\n",
       "      <td>11.0</td>\n",
       "      <td>67</td>\n",
       "      <td>NaT</td>\n",
       "      <td>Набережные Челны</td>\n",
       "      <td>Афанасий</td>\n",
       "      <td>Горлов</td>\n",
       "      <td>2018-01-25</td>\n",
       "      <td>smart</td>\n",
       "      <td>886.0</td>\n",
       "    </tr>\n",
       "    <tr>\n",
       "      <th>3</th>\n",
       "      <td>1005</td>\n",
       "      <td>4.0</td>\n",
       "      <td>712.0</td>\n",
       "      <td>41.0</td>\n",
       "      <td>10.0</td>\n",
       "      <td>67</td>\n",
       "      <td>NaT</td>\n",
       "      <td>Набережные Челны</td>\n",
       "      <td>Афанасий</td>\n",
       "      <td>Горлов</td>\n",
       "      <td>2018-01-25</td>\n",
       "      <td>smart</td>\n",
       "      <td>1186.0</td>\n",
       "    </tr>\n",
       "    <tr>\n",
       "      <th>4</th>\n",
       "      <td>1005</td>\n",
       "      <td>5.0</td>\n",
       "      <td>595.0</td>\n",
       "      <td>42.0</td>\n",
       "      <td>8.0</td>\n",
       "      <td>67</td>\n",
       "      <td>NaT</td>\n",
       "      <td>Набережные Челны</td>\n",
       "      <td>Афанасий</td>\n",
       "      <td>Горлов</td>\n",
       "      <td>2018-01-25</td>\n",
       "      <td>smart</td>\n",
       "      <td>835.0</td>\n",
       "    </tr>\n",
       "    <tr>\n",
       "      <th>...</th>\n",
       "      <td>...</td>\n",
       "      <td>...</td>\n",
       "      <td>...</td>\n",
       "      <td>...</td>\n",
       "      <td>...</td>\n",
       "      <td>...</td>\n",
       "      <td>...</td>\n",
       "      <td>...</td>\n",
       "      <td>...</td>\n",
       "      <td>...</td>\n",
       "      <td>...</td>\n",
       "      <td>...</td>\n",
       "      <td>...</td>\n",
       "    </tr>\n",
       "    <tr>\n",
       "      <th>3211</th>\n",
       "      <td>1328</td>\n",
       "      <td>10.0</td>\n",
       "      <td>0.0</td>\n",
       "      <td>6.0</td>\n",
       "      <td>22.0</td>\n",
       "      <td>44</td>\n",
       "      <td>NaT</td>\n",
       "      <td>Мурманск</td>\n",
       "      <td>Рауль</td>\n",
       "      <td>Аркадьев</td>\n",
       "      <td>2018-10-16</td>\n",
       "      <td>ultra</td>\n",
       "      <td>1950.0</td>\n",
       "    </tr>\n",
       "    <tr>\n",
       "      <th>3212</th>\n",
       "      <td>1328</td>\n",
       "      <td>11.0</td>\n",
       "      <td>0.0</td>\n",
       "      <td>8.0</td>\n",
       "      <td>35.0</td>\n",
       "      <td>44</td>\n",
       "      <td>NaT</td>\n",
       "      <td>Мурманск</td>\n",
       "      <td>Рауль</td>\n",
       "      <td>Аркадьев</td>\n",
       "      <td>2018-10-16</td>\n",
       "      <td>ultra</td>\n",
       "      <td>2700.0</td>\n",
       "    </tr>\n",
       "    <tr>\n",
       "      <th>3213</th>\n",
       "      <td>1328</td>\n",
       "      <td>12.0</td>\n",
       "      <td>0.0</td>\n",
       "      <td>7.0</td>\n",
       "      <td>39.0</td>\n",
       "      <td>44</td>\n",
       "      <td>NaT</td>\n",
       "      <td>Мурманск</td>\n",
       "      <td>Рауль</td>\n",
       "      <td>Аркадьев</td>\n",
       "      <td>2018-10-16</td>\n",
       "      <td>ultra</td>\n",
       "      <td>3300.0</td>\n",
       "    </tr>\n",
       "    <tr>\n",
       "      <th>3214</th>\n",
       "      <td>1128</td>\n",
       "      <td>NaN</td>\n",
       "      <td>0.0</td>\n",
       "      <td>0.0</td>\n",
       "      <td>0.0</td>\n",
       "      <td>51</td>\n",
       "      <td>2018-12-23</td>\n",
       "      <td>Волжский</td>\n",
       "      <td>Ксения</td>\n",
       "      <td>Агаева</td>\n",
       "      <td>2018-12-15</td>\n",
       "      <td>ultra</td>\n",
       "      <td>1950.0</td>\n",
       "    </tr>\n",
       "    <tr>\n",
       "      <th>3215</th>\n",
       "      <td>1371</td>\n",
       "      <td>NaN</td>\n",
       "      <td>0.0</td>\n",
       "      <td>0.0</td>\n",
       "      <td>0.0</td>\n",
       "      <td>50</td>\n",
       "      <td>2018-12-30</td>\n",
       "      <td>Омск</td>\n",
       "      <td>Ириней</td>\n",
       "      <td>Трофимов</td>\n",
       "      <td>2018-12-25</td>\n",
       "      <td>smart</td>\n",
       "      <td>550.0</td>\n",
       "    </tr>\n",
       "  </tbody>\n",
       "</table>\n",
       "<p>3216 rows × 13 columns</p>\n",
       "</div>"
      ],
      "text/plain": [
       "      user_id  month  duration  message_count  gb_used  age churn_date  \\\n",
       "0        1005    1.0      95.0            7.0      3.0   67        NaT   \n",
       "1        1005    2.0     456.0           38.0      8.0   67        NaT   \n",
       "2        1005    3.0     606.0           56.0     11.0   67        NaT   \n",
       "3        1005    4.0     712.0           41.0     10.0   67        NaT   \n",
       "4        1005    5.0     595.0           42.0      8.0   67        NaT   \n",
       "...       ...    ...       ...            ...      ...  ...        ...   \n",
       "3211     1328   10.0       0.0            6.0     22.0   44        NaT   \n",
       "3212     1328   11.0       0.0            8.0     35.0   44        NaT   \n",
       "3213     1328   12.0       0.0            7.0     39.0   44        NaT   \n",
       "3214     1128    NaN       0.0            0.0      0.0   51 2018-12-23   \n",
       "3215     1371    NaN       0.0            0.0      0.0   50 2018-12-30   \n",
       "\n",
       "                  city first_name last_name   reg_date tariff   price  \n",
       "0     Набережные Челны   Афанасий    Горлов 2018-01-25  smart   550.0  \n",
       "1     Набережные Челны   Афанасий    Горлов 2018-01-25  smart   550.0  \n",
       "2     Набережные Челны   Афанасий    Горлов 2018-01-25  smart   886.0  \n",
       "3     Набережные Челны   Афанасий    Горлов 2018-01-25  smart  1186.0  \n",
       "4     Набережные Челны   Афанасий    Горлов 2018-01-25  smart   835.0  \n",
       "...                ...        ...       ...        ...    ...     ...  \n",
       "3211          Мурманск      Рауль  Аркадьев 2018-10-16  ultra  1950.0  \n",
       "3212          Мурманск      Рауль  Аркадьев 2018-10-16  ultra  2700.0  \n",
       "3213          Мурманск      Рауль  Аркадьев 2018-10-16  ultra  3300.0  \n",
       "3214          Волжский     Ксения    Агаева 2018-12-15  ultra  1950.0  \n",
       "3215              Омск     Ириней  Трофимов 2018-12-25  smart   550.0  \n",
       "\n",
       "[3216 rows x 13 columns]"
      ]
     },
     "metadata": {},
     "output_type": "display_data"
    },
    {
     "data": {
      "text/html": [
       "<div>\n",
       "<style scoped>\n",
       "    .dataframe tbody tr th:only-of-type {\n",
       "        vertical-align: middle;\n",
       "    }\n",
       "\n",
       "    .dataframe tbody tr th {\n",
       "        vertical-align: top;\n",
       "    }\n",
       "\n",
       "    .dataframe thead th {\n",
       "        text-align: right;\n",
       "    }\n",
       "</style>\n",
       "<table border=\"1\" class=\"dataframe\">\n",
       "  <thead>\n",
       "    <tr style=\"text-align: right;\">\n",
       "      <th></th>\n",
       "      <th>count</th>\n",
       "      <th>mean</th>\n",
       "      <th>std</th>\n",
       "      <th>min</th>\n",
       "      <th>25%</th>\n",
       "      <th>50%</th>\n",
       "      <th>75%</th>\n",
       "      <th>max</th>\n",
       "    </tr>\n",
       "  </thead>\n",
       "  <tbody>\n",
       "    <tr>\n",
       "      <th>user_id</th>\n",
       "      <td>3216.0</td>\n",
       "      <td>1251.588930</td>\n",
       "      <td>144.645928</td>\n",
       "      <td>1000.0</td>\n",
       "      <td>1125.0</td>\n",
       "      <td>1253.0</td>\n",
       "      <td>1378.25</td>\n",
       "      <td>1499.0</td>\n",
       "    </tr>\n",
       "    <tr>\n",
       "      <th>month</th>\n",
       "      <td>3214.0</td>\n",
       "      <td>8.317362</td>\n",
       "      <td>2.905413</td>\n",
       "      <td>1.0</td>\n",
       "      <td>6.0</td>\n",
       "      <td>9.0</td>\n",
       "      <td>11.00</td>\n",
       "      <td>12.0</td>\n",
       "    </tr>\n",
       "    <tr>\n",
       "      <th>duration</th>\n",
       "      <td>3216.0</td>\n",
       "      <td>450.964241</td>\n",
       "      <td>242.096312</td>\n",
       "      <td>0.0</td>\n",
       "      <td>282.0</td>\n",
       "      <td>443.0</td>\n",
       "      <td>589.00</td>\n",
       "      <td>1673.0</td>\n",
       "    </tr>\n",
       "    <tr>\n",
       "      <th>message_count</th>\n",
       "      <td>3216.0</td>\n",
       "      <td>38.257463</td>\n",
       "      <td>36.149684</td>\n",
       "      <td>0.0</td>\n",
       "      <td>9.0</td>\n",
       "      <td>30.0</td>\n",
       "      <td>57.00</td>\n",
       "      <td>224.0</td>\n",
       "    </tr>\n",
       "    <tr>\n",
       "      <th>gb_used</th>\n",
       "      <td>3216.0</td>\n",
       "      <td>17.288246</td>\n",
       "      <td>7.410845</td>\n",
       "      <td>0.0</td>\n",
       "      <td>13.0</td>\n",
       "      <td>17.0</td>\n",
       "      <td>21.00</td>\n",
       "      <td>49.0</td>\n",
       "    </tr>\n",
       "    <tr>\n",
       "      <th>age</th>\n",
       "      <td>3216.0</td>\n",
       "      <td>46.643968</td>\n",
       "      <td>16.581233</td>\n",
       "      <td>18.0</td>\n",
       "      <td>32.0</td>\n",
       "      <td>46.0</td>\n",
       "      <td>62.00</td>\n",
       "      <td>75.0</td>\n",
       "    </tr>\n",
       "    <tr>\n",
       "      <th>price</th>\n",
       "      <td>3216.0</td>\n",
       "      <td>1528.902674</td>\n",
       "      <td>798.224060</td>\n",
       "      <td>550.0</td>\n",
       "      <td>750.0</td>\n",
       "      <td>1653.5</td>\n",
       "      <td>1950.00</td>\n",
       "      <td>6770.0</td>\n",
       "    </tr>\n",
       "  </tbody>\n",
       "</table>\n",
       "</div>"
      ],
      "text/plain": [
       "                count         mean         std     min     25%     50%  \\\n",
       "user_id        3216.0  1251.588930  144.645928  1000.0  1125.0  1253.0   \n",
       "month          3214.0     8.317362    2.905413     1.0     6.0     9.0   \n",
       "duration       3216.0   450.964241  242.096312     0.0   282.0   443.0   \n",
       "message_count  3216.0    38.257463   36.149684     0.0     9.0    30.0   \n",
       "gb_used        3216.0    17.288246    7.410845     0.0    13.0    17.0   \n",
       "age            3216.0    46.643968   16.581233    18.0    32.0    46.0   \n",
       "price          3216.0  1528.902674  798.224060   550.0   750.0  1653.5   \n",
       "\n",
       "                   75%     max  \n",
       "user_id        1378.25  1499.0  \n",
       "month            11.00    12.0  \n",
       "duration        589.00  1673.0  \n",
       "message_count    57.00   224.0  \n",
       "gb_used          21.00    49.0  \n",
       "age              62.00    75.0  \n",
       "price          1950.00  6770.0  "
      ]
     },
     "metadata": {},
     "output_type": "display_data"
    },
    {
     "data": {
      "image/png": "[encoded data removed]",
      "text/plain": [
       "<Figure size 1440x288 with 1 Axes>"
      ]
     },
     "metadata": {
      "needs_background": "light"
     },
     "output_type": "display_data"
    }
   ],
   "source": [
    "#Добавим столбец price с информацией о стоимости тарифа за месяц\n",
    "data['price']=data.apply(price_for_month,axis=1)\n",
    "#заменим пропуски в сообщениях, звонках и интернете на 0.\n",
    "data['duration']=data['duration'].fillna(0)\n",
    "data['message_count']=data['message_count'].fillna(0)\n",
    "data['gb_used']=data['gb_used'].fillna(0)\n",
    "display(data)\n",
    "display(data.describe().T)\n",
    "ax = data['price'].hist(bins=100,figsize=(20,4));\n",
    "ax.set_title('Оплата услуг сотовой связи за 2018 год')\n",
    "ax.set_xlabel('Стоимость тарифа')\n",
    "ax.set_ylabel('Количество оплат');"
   ]
  },
  {
   "cell_type": "markdown",
   "metadata": {},
   "source": [
    "### Вывод\n",
    "\n",
    "<br>Объединили таблицы, провели расчеты и добавили стоимость использования тарифа за каждый месяц. По гистограмме видно, что больше всего клиентов укладываются в рамки своего тарифа 1950 рублей ( около 900 оплат) и 550 рублей (около 700 оплат). В среднем стоимость 1506,67 рублей в месяц (медианное значение 1567 рублей)."
   ]
  },
  {
   "cell_type": "markdown",
   "metadata": {},
   "source": [
    "## Исследовательский анализ данных"
   ]
  },
  {
   "cell_type": "code",
   "execution_count": 27,
   "metadata": {},
   "outputs": [
    {
     "name": "stderr",
     "output_type": "stream",
     "text": [
      "/tmp/ipykernel_178/1526279285.py:2: FutureWarning: Indexing with multiple keys (implicitly converted to a tuple of keys) will be deprecated, use a list instead.\n",
      "  sum_clients_month = data.groupby(['month','tariff'])['duration', 'message_count', 'gb_used','price'].sum().reset_index()\n"
     ]
    },
    {
     "data": {
      "text/html": [
       "<div>\n",
       "<style scoped>\n",
       "    .dataframe tbody tr th:only-of-type {\n",
       "        vertical-align: middle;\n",
       "    }\n",
       "\n",
       "    .dataframe tbody tr th {\n",
       "        vertical-align: top;\n",
       "    }\n",
       "\n",
       "    .dataframe thead th {\n",
       "        text-align: right;\n",
       "    }\n",
       "</style>\n",
       "<table border=\"1\" class=\"dataframe\">\n",
       "  <thead>\n",
       "    <tr style=\"text-align: right;\">\n",
       "      <th></th>\n",
       "      <th>month</th>\n",
       "      <th>tariff</th>\n",
       "      <th>duration</th>\n",
       "      <th>message_count</th>\n",
       "      <th>gb_used</th>\n",
       "      <th>price</th>\n",
       "    </tr>\n",
       "  </thead>\n",
       "  <tbody>\n",
       "    <tr>\n",
       "      <th>0</th>\n",
       "      <td>1.0</td>\n",
       "      <td>smart</td>\n",
       "      <td>6931.0</td>\n",
       "      <td>620.0</td>\n",
       "      <td>297.0</td>\n",
       "      <td>24525.0</td>\n",
       "    </tr>\n",
       "    <tr>\n",
       "      <th>1</th>\n",
       "      <td>1.0</td>\n",
       "      <td>ultra</td>\n",
       "      <td>3853.0</td>\n",
       "      <td>304.0</td>\n",
       "      <td>119.0</td>\n",
       "      <td>17550.0</td>\n",
       "    </tr>\n",
       "    <tr>\n",
       "      <th>2</th>\n",
       "      <td>2.0</td>\n",
       "      <td>smart</td>\n",
       "      <td>17324.0</td>\n",
       "      <td>1397.0</td>\n",
       "      <td>687.0</td>\n",
       "      <td>48001.0</td>\n",
       "    </tr>\n",
       "    <tr>\n",
       "      <th>3</th>\n",
       "      <td>2.0</td>\n",
       "      <td>ultra</td>\n",
       "      <td>7131.0</td>\n",
       "      <td>527.0</td>\n",
       "      <td>288.0</td>\n",
       "      <td>47400.0</td>\n",
       "    </tr>\n",
       "    <tr>\n",
       "      <th>4</th>\n",
       "      <td>3.0</td>\n",
       "      <td>smart</td>\n",
       "      <td>30034.0</td>\n",
       "      <td>2453.0</td>\n",
       "      <td>1173.0</td>\n",
       "      <td>89676.0</td>\n",
       "    </tr>\n",
       "    <tr>\n",
       "      <th>5</th>\n",
       "      <td>3.0</td>\n",
       "      <td>ultra</td>\n",
       "      <td>18117.0</td>\n",
       "      <td>1195.0</td>\n",
       "      <td>653.0</td>\n",
       "      <td>74550.0</td>\n",
       "    </tr>\n",
       "    <tr>\n",
       "      <th>6</th>\n",
       "      <td>4.0</td>\n",
       "      <td>smart</td>\n",
       "      <td>41119.0</td>\n",
       "      <td>3443.0</td>\n",
       "      <td>1526.0</td>\n",
       "      <td>107866.0</td>\n",
       "    </tr>\n",
       "    <tr>\n",
       "      <th>7</th>\n",
       "      <td>4.0</td>\n",
       "      <td>ultra</td>\n",
       "      <td>25191.0</td>\n",
       "      <td>1736.0</td>\n",
       "      <td>933.0</td>\n",
       "      <td>110100.0</td>\n",
       "    </tr>\n",
       "    <tr>\n",
       "      <th>8</th>\n",
       "      <td>5.0</td>\n",
       "      <td>smart</td>\n",
       "      <td>54618.0</td>\n",
       "      <td>4762.0</td>\n",
       "      <td>2243.0</td>\n",
       "      <td>168849.0</td>\n",
       "    </tr>\n",
       "    <tr>\n",
       "      <th>9</th>\n",
       "      <td>5.0</td>\n",
       "      <td>ultra</td>\n",
       "      <td>34192.0</td>\n",
       "      <td>2536.0</td>\n",
       "      <td>1298.0</td>\n",
       "      <td>138000.0</td>\n",
       "    </tr>\n",
       "    <tr>\n",
       "      <th>10</th>\n",
       "      <td>6.0</td>\n",
       "      <td>smart</td>\n",
       "      <td>64885.0</td>\n",
       "      <td>5478.0</td>\n",
       "      <td>2616.0</td>\n",
       "      <td>197459.0</td>\n",
       "    </tr>\n",
       "    <tr>\n",
       "      <th>11</th>\n",
       "      <td>6.0</td>\n",
       "      <td>ultra</td>\n",
       "      <td>40295.0</td>\n",
       "      <td>3505.0</td>\n",
       "      <td>1591.0</td>\n",
       "      <td>171300.0</td>\n",
       "    </tr>\n",
       "    <tr>\n",
       "      <th>12</th>\n",
       "      <td>7.0</td>\n",
       "      <td>smart</td>\n",
       "      <td>82079.0</td>\n",
       "      <td>6784.0</td>\n",
       "      <td>3191.0</td>\n",
       "      <td>246014.0</td>\n",
       "    </tr>\n",
       "    <tr>\n",
       "      <th>13</th>\n",
       "      <td>7.0</td>\n",
       "      <td>ultra</td>\n",
       "      <td>49667.0</td>\n",
       "      <td>4536.0</td>\n",
       "      <td>1866.0</td>\n",
       "      <td>192750.0</td>\n",
       "    </tr>\n",
       "    <tr>\n",
       "      <th>14</th>\n",
       "      <td>8.0</td>\n",
       "      <td>smart</td>\n",
       "      <td>99045.0</td>\n",
       "      <td>7905.0</td>\n",
       "      <td>3933.0</td>\n",
       "      <td>310340.0</td>\n",
       "    </tr>\n",
       "    <tr>\n",
       "      <th>15</th>\n",
       "      <td>8.0</td>\n",
       "      <td>ultra</td>\n",
       "      <td>54653.0</td>\n",
       "      <td>5183.0</td>\n",
       "      <td>2097.0</td>\n",
       "      <td>222900.0</td>\n",
       "    </tr>\n",
       "    <tr>\n",
       "      <th>16</th>\n",
       "      <td>9.0</td>\n",
       "      <td>smart</td>\n",
       "      <td>111439.0</td>\n",
       "      <td>8746.0</td>\n",
       "      <td>4262.0</td>\n",
       "      <td>324986.0</td>\n",
       "    </tr>\n",
       "    <tr>\n",
       "      <th>17</th>\n",
       "      <td>9.0</td>\n",
       "      <td>ultra</td>\n",
       "      <td>62036.0</td>\n",
       "      <td>6013.0</td>\n",
       "      <td>2213.0</td>\n",
       "      <td>232800.0</td>\n",
       "    </tr>\n",
       "    <tr>\n",
       "      <th>18</th>\n",
       "      <td>10.0</td>\n",
       "      <td>smart</td>\n",
       "      <td>125284.0</td>\n",
       "      <td>9927.0</td>\n",
       "      <td>4963.0</td>\n",
       "      <td>401267.0</td>\n",
       "    </tr>\n",
       "    <tr>\n",
       "      <th>19</th>\n",
       "      <td>10.0</td>\n",
       "      <td>ultra</td>\n",
       "      <td>68644.0</td>\n",
       "      <td>7187.0</td>\n",
       "      <td>2468.0</td>\n",
       "      <td>254100.0</td>\n",
       "    </tr>\n",
       "    <tr>\n",
       "      <th>20</th>\n",
       "      <td>11.0</td>\n",
       "      <td>smart</td>\n",
       "      <td>137544.0</td>\n",
       "      <td>10768.0</td>\n",
       "      <td>5372.0</td>\n",
       "      <td>424403.0</td>\n",
       "    </tr>\n",
       "    <tr>\n",
       "      <th>21</th>\n",
       "      <td>11.0</td>\n",
       "      <td>ultra</td>\n",
       "      <td>72545.0</td>\n",
       "      <td>7476.0</td>\n",
       "      <td>2654.0</td>\n",
       "      <td>280350.0</td>\n",
       "    </tr>\n",
       "    <tr>\n",
       "      <th>22</th>\n",
       "      <td>12.0</td>\n",
       "      <td>smart</td>\n",
       "      <td>161275.0</td>\n",
       "      <td>12130.0</td>\n",
       "      <td>6134.0</td>\n",
       "      <td>531965.0</td>\n",
       "    </tr>\n",
       "    <tr>\n",
       "      <th>23</th>\n",
       "      <td>12.0</td>\n",
       "      <td>ultra</td>\n",
       "      <td>82400.0</td>\n",
       "      <td>8425.0</td>\n",
       "      <td>3022.0</td>\n",
       "      <td>297300.0</td>\n",
       "    </tr>\n",
       "  </tbody>\n",
       "</table>\n",
       "</div>"
      ],
      "text/plain": [
       "    month tariff  duration  message_count  gb_used     price\n",
       "0     1.0  smart    6931.0          620.0    297.0   24525.0\n",
       "1     1.0  ultra    3853.0          304.0    119.0   17550.0\n",
       "2     2.0  smart   17324.0         1397.0    687.0   48001.0\n",
       "3     2.0  ultra    7131.0          527.0    288.0   47400.0\n",
       "4     3.0  smart   30034.0         2453.0   1173.0   89676.0\n",
       "5     3.0  ultra   18117.0         1195.0    653.0   74550.0\n",
       "6     4.0  smart   41119.0         3443.0   1526.0  107866.0\n",
       "7     4.0  ultra   25191.0         1736.0    933.0  110100.0\n",
       "8     5.0  smart   54618.0         4762.0   2243.0  168849.0\n",
       "9     5.0  ultra   34192.0         2536.0   1298.0  138000.0\n",
       "10    6.0  smart   64885.0         5478.0   2616.0  197459.0\n",
       "11    6.0  ultra   40295.0         3505.0   1591.0  171300.0\n",
       "12    7.0  smart   82079.0         6784.0   3191.0  246014.0\n",
       "13    7.0  ultra   49667.0         4536.0   1866.0  192750.0\n",
       "14    8.0  smart   99045.0         7905.0   3933.0  310340.0\n",
       "15    8.0  ultra   54653.0         5183.0   2097.0  222900.0\n",
       "16    9.0  smart  111439.0         8746.0   4262.0  324986.0\n",
       "17    9.0  ultra   62036.0         6013.0   2213.0  232800.0\n",
       "18   10.0  smart  125284.0         9927.0   4963.0  401267.0\n",
       "19   10.0  ultra   68644.0         7187.0   2468.0  254100.0\n",
       "20   11.0  smart  137544.0        10768.0   5372.0  424403.0\n",
       "21   11.0  ultra   72545.0         7476.0   2654.0  280350.0\n",
       "22   12.0  smart  161275.0        12130.0   6134.0  531965.0\n",
       "23   12.0  ultra   82400.0         8425.0   3022.0  297300.0"
      ]
     },
     "execution_count": 27,
     "metadata": {},
     "output_type": "execute_result"
    }
   ],
   "source": [
    "#Посмотрим показатели клиентов по месяцам\n",
    "sum_clients_month = data.groupby(['month','tariff'])['duration', 'message_count', 'gb_used','price'].sum().reset_index()\n",
    "sum_clients_month"
   ]
  },
  {
   "cell_type": "code",
   "execution_count": 28,
   "metadata": {},
   "outputs": [],
   "source": [
    "#Посмотрим показатели клиентов по тарифам в месяц\n",
    "smart_clients_month = sum_clients_month.query(' tariff==\"smart\" ').reset_index(drop=True)\n",
    "ultra_clients_month = sum_clients_month.query(' tariff==\"ultra\" ').reset_index(drop=True)"
   ]
  },
  {
   "cell_type": "code",
   "execution_count": 29,
   "metadata": {},
   "outputs": [
    {
     "data": {
      "image/png": "[encoded data removed]",
      "text/plain": [
       "<Figure size 864x360 with 1 Axes>"
      ]
     },
     "metadata": {
      "needs_background": "light"
     },
     "output_type": "display_data"
    },
    {
     "data": {
      "image/png": "[encoded data removed]",
      "text/plain": [
       "<Figure size 864x360 with 1 Axes>"
      ]
     },
     "metadata": {
      "needs_background": "light"
     },
     "output_type": "display_data"
    },
    {
     "data": {
      "image/png": "[encoded data removed]",
      "text/plain": [
       "<Figure size 864x360 with 1 Axes>"
      ]
     },
     "metadata": {
      "needs_background": "light"
     },
     "output_type": "display_data"
    },
    {
     "data": {
      "image/png": "[encoded data removed]",
      "text/plain": [
       "<Figure size 864x360 with 1 Axes>"
      ]
     },
     "metadata": {
      "needs_background": "light"
     },
     "output_type": "display_data"
    }
   ],
   "source": [
    "for param in ['duration', 'message_count', 'gb_used','price']:\n",
    "    plt.figure(figsize=(12, 5))\n",
    "    plt.bar(ultra_clients_month['month'], ultra_clients_month[param], label='ultra', color='g', alpha=0.5)\n",
    "    plt.bar(smart_clients_month['month'], smart_clients_month[param], label='smart', color='b', alpha=0.5, width=0.5)\n",
    "    \n",
    "\n",
    "    plt.xlabel('month')\n",
    "    plt.ylabel(param)\n",
    "    plt.grid()\n",
    "    plt.title(f'Кол-во {param} всех клиентов по месяцам для 2 тарифов')\n",
    "    plt.legend()\n",
    "    plt.show();"
   ]
  },
  {
   "cell_type": "markdown",
   "metadata": {},
   "source": [
    "<div style=\"border:solid green 5px; padding: 20px\">\n",
    "Проанализировав графики\n",
    "    суммарных значений, мы видим, что все показатели увеличиваются от месяца к месяцу. Показатели тарифа smart с каждым месяцем все больше преобладают над ultra. Но пользователей тарифом smart больше. Теперь нужно проанализировать средние показатели."
   ]
  },
  {
   "cell_type": "code",
   "execution_count": 30,
   "metadata": {},
   "outputs": [
    {
     "data": {
      "image/png": "[encoded data removed]",
      "text/plain": [
       "<Figure size 432x288 with 1 Axes>"
      ]
     },
     "metadata": {
      "needs_background": "light"
     },
     "output_type": "display_data"
    },
    {
     "data": {
      "image/png": "[encoded data removed]",
      "text/plain": [
       "<Figure size 432x288 with 1 Axes>"
      ]
     },
     "metadata": {
      "needs_background": "light"
     },
     "output_type": "display_data"
    },
    {
     "data": {
      "image/png": "[encoded data removed]",
      "text/plain": [
       "<Figure size 432x288 with 1 Axes>"
      ]
     },
     "metadata": {
      "needs_background": "light"
     },
     "output_type": "display_data"
    },
    {
     "data": {
      "image/png": "[encoded data removed]",
      "text/plain": [
       "<Figure size 432x288 with 1 Axes>"
      ]
     },
     "metadata": {
      "needs_background": "light"
     },
     "output_type": "display_data"
    }
   ],
   "source": [
    "for param in ['duration', 'message_count', 'gb_used','price']:\n",
    "    bx = data.boxplot(column=param) \n",
    "    plt.show();"
   ]
  },
  {
   "cell_type": "markdown",
   "metadata": {},
   "source": [
    "<div style=\"border:solid green 5px; padding: 20px\">\n",
    "Сильных выбросов нет поэтому для вычисления усредненных значений можно использовать и среднее и медиану. Возьмем медиану."
   ]
  },
  {
   "cell_type": "code",
   "execution_count": 31,
   "metadata": {},
   "outputs": [
    {
     "name": "stderr",
     "output_type": "stream",
     "text": [
      "/tmp/ipykernel_178/2309884229.py:2: FutureWarning: Indexing with multiple keys (implicitly converted to a tuple of keys) will be deprecated, use a list instead.\n",
      "  median_clients_month = data.groupby(['month','tariff'])['duration', 'message_count', 'gb_used','price'].median().reset_index()\n"
     ]
    },
    {
     "data": {
      "text/html": [
       "<div>\n",
       "<style scoped>\n",
       "    .dataframe tbody tr th:only-of-type {\n",
       "        vertical-align: middle;\n",
       "    }\n",
       "\n",
       "    .dataframe tbody tr th {\n",
       "        vertical-align: top;\n",
       "    }\n",
       "\n",
       "    .dataframe thead th {\n",
       "        text-align: right;\n",
       "    }\n",
       "</style>\n",
       "<table border=\"1\" class=\"dataframe\">\n",
       "  <thead>\n",
       "    <tr style=\"text-align: right;\">\n",
       "      <th></th>\n",
       "      <th>month</th>\n",
       "      <th>tariff</th>\n",
       "      <th>duration</th>\n",
       "      <th>message_count</th>\n",
       "      <th>gb_used</th>\n",
       "      <th>price</th>\n",
       "    </tr>\n",
       "  </thead>\n",
       "  <tbody>\n",
       "    <tr>\n",
       "      <th>0</th>\n",
       "      <td>1.0</td>\n",
       "      <td>smart</td>\n",
       "      <td>162.5</td>\n",
       "      <td>15.0</td>\n",
       "      <td>7.0</td>\n",
       "      <td>550.0</td>\n",
       "    </tr>\n",
       "    <tr>\n",
       "      <th>1</th>\n",
       "      <td>1.0</td>\n",
       "      <td>ultra</td>\n",
       "      <td>382.0</td>\n",
       "      <td>32.0</td>\n",
       "      <td>15.0</td>\n",
       "      <td>1950.0</td>\n",
       "    </tr>\n",
       "    <tr>\n",
       "      <th>2</th>\n",
       "      <td>2.0</td>\n",
       "      <td>smart</td>\n",
       "      <td>258.0</td>\n",
       "      <td>20.0</td>\n",
       "      <td>13.0</td>\n",
       "      <td>550.0</td>\n",
       "    </tr>\n",
       "    <tr>\n",
       "      <th>3</th>\n",
       "      <td>2.0</td>\n",
       "      <td>ultra</td>\n",
       "      <td>168.0</td>\n",
       "      <td>5.5</td>\n",
       "      <td>7.5</td>\n",
       "      <td>1950.0</td>\n",
       "    </tr>\n",
       "    <tr>\n",
       "      <th>4</th>\n",
       "      <td>3.0</td>\n",
       "      <td>smart</td>\n",
       "      <td>409.0</td>\n",
       "      <td>23.0</td>\n",
       "      <td>16.0</td>\n",
       "      <td>886.0</td>\n",
       "    </tr>\n",
       "    <tr>\n",
       "      <th>5</th>\n",
       "      <td>3.0</td>\n",
       "      <td>ultra</td>\n",
       "      <td>403.0</td>\n",
       "      <td>20.0</td>\n",
       "      <td>18.0</td>\n",
       "      <td>1950.0</td>\n",
       "    </tr>\n",
       "    <tr>\n",
       "      <th>6</th>\n",
       "      <td>4.0</td>\n",
       "      <td>smart</td>\n",
       "      <td>368.5</td>\n",
       "      <td>28.0</td>\n",
       "      <td>14.0</td>\n",
       "      <td>620.5</td>\n",
       "    </tr>\n",
       "    <tr>\n",
       "      <th>7</th>\n",
       "      <td>4.0</td>\n",
       "      <td>ultra</td>\n",
       "      <td>453.0</td>\n",
       "      <td>17.0</td>\n",
       "      <td>17.0</td>\n",
       "      <td>1950.0</td>\n",
       "    </tr>\n",
       "    <tr>\n",
       "      <th>8</th>\n",
       "      <td>5.0</td>\n",
       "      <td>smart</td>\n",
       "      <td>433.0</td>\n",
       "      <td>30.0</td>\n",
       "      <td>16.0</td>\n",
       "      <td>986.0</td>\n",
       "    </tr>\n",
       "    <tr>\n",
       "      <th>9</th>\n",
       "      <td>5.0</td>\n",
       "      <td>ultra</td>\n",
       "      <td>519.0</td>\n",
       "      <td>25.0</td>\n",
       "      <td>19.0</td>\n",
       "      <td>1950.0</td>\n",
       "    </tr>\n",
       "    <tr>\n",
       "      <th>10</th>\n",
       "      <td>6.0</td>\n",
       "      <td>smart</td>\n",
       "      <td>400.0</td>\n",
       "      <td>28.0</td>\n",
       "      <td>16.0</td>\n",
       "      <td>950.0</td>\n",
       "    </tr>\n",
       "    <tr>\n",
       "      <th>11</th>\n",
       "      <td>6.0</td>\n",
       "      <td>ultra</td>\n",
       "      <td>479.0</td>\n",
       "      <td>27.5</td>\n",
       "      <td>19.5</td>\n",
       "      <td>1950.0</td>\n",
       "    </tr>\n",
       "    <tr>\n",
       "      <th>12</th>\n",
       "      <td>7.0</td>\n",
       "      <td>smart</td>\n",
       "      <td>414.0</td>\n",
       "      <td>29.0</td>\n",
       "      <td>16.0</td>\n",
       "      <td>981.0</td>\n",
       "    </tr>\n",
       "    <tr>\n",
       "      <th>13</th>\n",
       "      <td>7.0</td>\n",
       "      <td>ultra</td>\n",
       "      <td>542.0</td>\n",
       "      <td>38.0</td>\n",
       "      <td>20.0</td>\n",
       "      <td>1950.0</td>\n",
       "    </tr>\n",
       "    <tr>\n",
       "      <th>14</th>\n",
       "      <td>8.0</td>\n",
       "      <td>smart</td>\n",
       "      <td>432.0</td>\n",
       "      <td>27.0</td>\n",
       "      <td>17.0</td>\n",
       "      <td>1079.0</td>\n",
       "    </tr>\n",
       "    <tr>\n",
       "      <th>15</th>\n",
       "      <td>8.0</td>\n",
       "      <td>ultra</td>\n",
       "      <td>500.0</td>\n",
       "      <td>40.0</td>\n",
       "      <td>19.0</td>\n",
       "      <td>1950.0</td>\n",
       "    </tr>\n",
       "    <tr>\n",
       "      <th>16</th>\n",
       "      <td>9.0</td>\n",
       "      <td>smart</td>\n",
       "      <td>435.0</td>\n",
       "      <td>30.0</td>\n",
       "      <td>16.0</td>\n",
       "      <td>958.5</td>\n",
       "    </tr>\n",
       "    <tr>\n",
       "      <th>17</th>\n",
       "      <td>9.0</td>\n",
       "      <td>ultra</td>\n",
       "      <td>520.0</td>\n",
       "      <td>43.0</td>\n",
       "      <td>20.0</td>\n",
       "      <td>1950.0</td>\n",
       "    </tr>\n",
       "    <tr>\n",
       "      <th>18</th>\n",
       "      <td>10.0</td>\n",
       "      <td>smart</td>\n",
       "      <td>427.5</td>\n",
       "      <td>30.0</td>\n",
       "      <td>17.0</td>\n",
       "      <td>1150.0</td>\n",
       "    </tr>\n",
       "    <tr>\n",
       "      <th>19</th>\n",
       "      <td>10.0</td>\n",
       "      <td>ultra</td>\n",
       "      <td>533.0</td>\n",
       "      <td>49.0</td>\n",
       "      <td>20.0</td>\n",
       "      <td>1950.0</td>\n",
       "    </tr>\n",
       "    <tr>\n",
       "      <th>20</th>\n",
       "      <td>11.0</td>\n",
       "      <td>smart</td>\n",
       "      <td>428.5</td>\n",
       "      <td>28.0</td>\n",
       "      <td>17.0</td>\n",
       "      <td>1150.0</td>\n",
       "    </tr>\n",
       "    <tr>\n",
       "      <th>21</th>\n",
       "      <td>11.0</td>\n",
       "      <td>ultra</td>\n",
       "      <td>546.0</td>\n",
       "      <td>43.0</td>\n",
       "      <td>18.5</td>\n",
       "      <td>1950.0</td>\n",
       "    </tr>\n",
       "    <tr>\n",
       "      <th>22</th>\n",
       "      <td>12.0</td>\n",
       "      <td>smart</td>\n",
       "      <td>471.0</td>\n",
       "      <td>29.0</td>\n",
       "      <td>18.0</td>\n",
       "      <td>1277.0</td>\n",
       "    </tr>\n",
       "    <tr>\n",
       "      <th>23</th>\n",
       "      <td>12.0</td>\n",
       "      <td>ultra</td>\n",
       "      <td>584.0</td>\n",
       "      <td>51.0</td>\n",
       "      <td>22.0</td>\n",
       "      <td>1950.0</td>\n",
       "    </tr>\n",
       "  </tbody>\n",
       "</table>\n",
       "</div>"
      ],
      "text/plain": [
       "    month tariff  duration  message_count  gb_used   price\n",
       "0     1.0  smart     162.5           15.0      7.0   550.0\n",
       "1     1.0  ultra     382.0           32.0     15.0  1950.0\n",
       "2     2.0  smart     258.0           20.0     13.0   550.0\n",
       "3     2.0  ultra     168.0            5.5      7.5  1950.0\n",
       "4     3.0  smart     409.0           23.0     16.0   886.0\n",
       "5     3.0  ultra     403.0           20.0     18.0  1950.0\n",
       "6     4.0  smart     368.5           28.0     14.0   620.5\n",
       "7     4.0  ultra     453.0           17.0     17.0  1950.0\n",
       "8     5.0  smart     433.0           30.0     16.0   986.0\n",
       "9     5.0  ultra     519.0           25.0     19.0  1950.0\n",
       "10    6.0  smart     400.0           28.0     16.0   950.0\n",
       "11    6.0  ultra     479.0           27.5     19.5  1950.0\n",
       "12    7.0  smart     414.0           29.0     16.0   981.0\n",
       "13    7.0  ultra     542.0           38.0     20.0  1950.0\n",
       "14    8.0  smart     432.0           27.0     17.0  1079.0\n",
       "15    8.0  ultra     500.0           40.0     19.0  1950.0\n",
       "16    9.0  smart     435.0           30.0     16.0   958.5\n",
       "17    9.0  ultra     520.0           43.0     20.0  1950.0\n",
       "18   10.0  smart     427.5           30.0     17.0  1150.0\n",
       "19   10.0  ultra     533.0           49.0     20.0  1950.0\n",
       "20   11.0  smart     428.5           28.0     17.0  1150.0\n",
       "21   11.0  ultra     546.0           43.0     18.5  1950.0\n",
       "22   12.0  smart     471.0           29.0     18.0  1277.0\n",
       "23   12.0  ultra     584.0           51.0     22.0  1950.0"
      ]
     },
     "execution_count": 31,
     "metadata": {},
     "output_type": "execute_result"
    }
   ],
   "source": [
    "#Посмотрим медианные показатели клиентов по месяцам\n",
    "median_clients_month = data.groupby(['month','tariff'])['duration', 'message_count', 'gb_used','price'].median().reset_index()\n",
    "median_clients_month"
   ]
  },
  {
   "cell_type": "code",
   "execution_count": 32,
   "metadata": {},
   "outputs": [],
   "source": [
    "#Посмотрим медианные показатели клиентов по тарифам\n",
    "smart_median_month = median_clients_month.query(' tariff==\"smart\" ').reset_index(drop=True)\n",
    "ultra_median_month = median_clients_month.query(' tariff==\"ultra\" ').reset_index(drop=True)"
   ]
  },
  {
   "cell_type": "code",
   "execution_count": 33,
   "metadata": {},
   "outputs": [
    {
     "data": {
      "image/png": "[encoded data removed]",
      "text/plain": [
       "<Figure size 864x360 with 1 Axes>"
      ]
     },
     "metadata": {
      "needs_background": "light"
     },
     "output_type": "display_data"
    },
    {
     "data": {
      "image/png": "[encoded data removed]",
      "text/plain": [
       "<Figure size 864x360 with 1 Axes>"
      ]
     },
     "metadata": {
      "needs_background": "light"
     },
     "output_type": "display_data"
    },
    {
     "data": {
      "image/png": "[encoded data removed]",
      "text/plain": [
       "<Figure size 864x360 with 1 Axes>"
      ]
     },
     "metadata": {
      "needs_background": "light"
     },
     "output_type": "display_data"
    },
    {
     "data": {
      "image/png": "[encoded data removed]",
      "text/plain": [
       "<Figure size 864x360 with 1 Axes>"
      ]
     },
     "metadata": {
      "needs_background": "light"
     },
     "output_type": "display_data"
    }
   ],
   "source": [
    "for param in ['duration', 'message_count', 'gb_used','price']:\n",
    "    plt.figure(figsize=(12, 5))\n",
    "    plt.bar(ultra_median_month['month'], ultra_median_month[param], label='ultra', color='g', alpha=0.5, width=0.5)\n",
    "    plt.bar(smart_median_month['month'], smart_median_month[param], label='smart', color='b', alpha=0.5)\n",
    "    \n",
    "    if param == 'duration':\n",
    "        porog1 = 500 \n",
    "        porog2=3000\n",
    "    elif param == 'message_count':\n",
    "        porog1 = 50 \n",
    "        porog2=1000\n",
    "    elif param == 'gb_used':\n",
    "        porog1 = 15 \n",
    "        porog2=30\n",
    "    else:\n",
    "        porog1 = 550 \n",
    "        porog2=1950\n",
    "    plt.axhline(y=porog1, label='Порог для smart', color='red')\n",
    "#    plt.axhline(y=porog2, label='Порог для ultra', color='blue')\n",
    "\n",
    "    plt.xlabel('month')\n",
    "    plt.ylabel(param)\n",
    "    plt.grid()\n",
    "    plt.title(f'Кол-во {param} всех клиентов по месяцам для 2 тарифов')\n",
    "    plt.legend()\n",
    "    plt.show();"
   ]
  },
  {
   "cell_type": "markdown",
   "metadata": {},
   "source": [
    "<div style=\"border:solid green 5px; padding: 20px\">\n",
    "Проанализировав графики медианных значений, мы видим, что клиенты тарифов ultra пользуются услугами в пределах пакета. Клиенты тарифов smart чаще переплачивают, в основном за счет превышения использования интернет-трафика."
   ]
  },
  {
   "cell_type": "code",
   "execution_count": 34,
   "metadata": {},
   "outputs": [
    {
     "data": {
      "image/png": "[encoded data removed]",
      "text/plain": [
       "<Figure size 864x360 with 1 Axes>"
      ]
     },
     "metadata": {
      "needs_background": "light"
     },
     "output_type": "display_data"
    },
    {
     "data": {
      "image/png": "[encoded data removed]",
      "text/plain": [
       "<Figure size 864x360 with 1 Axes>"
      ]
     },
     "metadata": {
      "needs_background": "light"
     },
     "output_type": "display_data"
    },
    {
     "data": {
      "image/png": "[encoded data removed]",
      "text/plain": [
       "<Figure size 864x360 with 1 Axes>"
      ]
     },
     "metadata": {
      "needs_background": "light"
     },
     "output_type": "display_data"
    },
    {
     "data": {
      "image/png": "[encoded data removed]",
      "text/plain": [
       "<Figure size 864x360 with 1 Axes>"
      ]
     },
     "metadata": {
      "needs_background": "light"
     },
     "output_type": "display_data"
    }
   ],
   "source": [
    "#Посмотрим распеределение услуг клиентов по их объему\n",
    "for param in ['duration', 'message_count', 'gb_used','price']:\n",
    "    plt.figure(figsize=(12, 5))\n",
    "    plt.hist(data.loc[data['tariff'] == \"smart\", param], label='smart', color='b', alpha=0.5, bins= 50)\n",
    "    plt.hist(data.loc[data['tariff'] == \"ultra\", param], label='ultra', color='g', alpha=0.9,  bins= 50)\n",
    " \n",
    "    plt.xlabel(param)\n",
    "    plt.ylabel('количество')\n",
    "    plt.grid()\n",
    "    plt.title(f'Распеределение услуг {param} клиентов по их объему для 2 тарифов')\n",
    "    plt.legend()\n",
    "    plt.show();"
   ]
  },
  {
   "cell_type": "markdown",
   "metadata": {},
   "source": [
    "<div style=\"border:solid green 5px; padding: 20px\">\n",
    "Проанализировав гистограммы распределения объема услуг, мы видим, что:\n",
    "<br>Клиенты smart разговаривают в основном 150-600 минут в месяц (лимит 500 минут), а клиенты ultra разговаривают от 0 до 800 минут (лимит 3000 минут) в месяц.\n",
    "<br>Клиенты smart отправляют в основном до 50 смс в месяц (лимит 50 сообщений), а клиенты ultra отправляют около 100 сообщений в месяц (лимит 1000 сообщений).\n",
    "<br>Клиенты smart используют в основном 15-30 Гб интернета в месяц (лимит 15 Гб), а клиенты ultra используют от 12 до 23 Гб в месяц (лимит 30 Гб).\n",
    "<br>Клиенты smart платят в основном 550 рублей в месяц, но также иногда переплачивают до 2000 рублей в месяц (лимит 550 рублей), а клиенты ultra почти всегда платят 1950 рублей в месяц (лимит 1950 рублей)."
   ]
  },
  {
   "cell_type": "markdown",
   "metadata": {},
   "source": [
    "## Среднее количество, дисперсия и стандартное отклонение."
   ]
  },
  {
   "cell_type": "markdown",
   "metadata": {},
   "source": [
    "Создадим новый DataFrame stat_data и запишем в него все расчитываемые статистические значения"
   ]
  },
  {
   "cell_type": "markdown",
   "metadata": {},
   "source": [
    "Таблица stat_frame - статистика для выборки. Столбцы:\n",
    "<br>parameter - (duration-минуты, message_count-СМС, gb_used-трафик, price - цена)\n",
    "<br>mean - среднее\n",
    "<br>var - дисперсия\n",
    "<br>std - стандартное отклонение\n",
    "<br>tariff - тариф (smart, ultra, all-по обоим тарифам)"
   ]
  },
  {
   "cell_type": "code",
   "execution_count": 35,
   "metadata": {},
   "outputs": [
    {
     "data": {
      "text/html": [
       "<div>\n",
       "<style scoped>\n",
       "    .dataframe tbody tr th:only-of-type {\n",
       "        vertical-align: middle;\n",
       "    }\n",
       "\n",
       "    .dataframe tbody tr th {\n",
       "        vertical-align: top;\n",
       "    }\n",
       "\n",
       "    .dataframe thead th {\n",
       "        text-align: right;\n",
       "    }\n",
       "</style>\n",
       "<table border=\"1\" class=\"dataframe\">\n",
       "  <thead>\n",
       "    <tr style=\"text-align: right;\">\n",
       "      <th></th>\n",
       "      <th>parameter</th>\n",
       "      <th>mean</th>\n",
       "      <th>var</th>\n",
       "      <th>std</th>\n",
       "      <th>tariff</th>\n",
       "    </tr>\n",
       "  </thead>\n",
       "  <tbody>\n",
       "    <tr>\n",
       "      <th>0</th>\n",
       "      <td>duration</td>\n",
       "      <td>386.6</td>\n",
       "      <td>7784.3</td>\n",
       "      <td>88.2</td>\n",
       "      <td>smart</td>\n",
       "    </tr>\n",
       "    <tr>\n",
       "      <th>1</th>\n",
       "      <td>duration</td>\n",
       "      <td>469.1</td>\n",
       "      <td>12502.1</td>\n",
       "      <td>111.8</td>\n",
       "      <td>ultra</td>\n",
       "    </tr>\n",
       "    <tr>\n",
       "      <th>2</th>\n",
       "      <td>duration</td>\n",
       "      <td>427.8</td>\n",
       "      <td>11477.7</td>\n",
       "      <td>107.1</td>\n",
       "      <td>all</td>\n",
       "    </tr>\n",
       "    <tr>\n",
       "      <th>3</th>\n",
       "      <td>message_count</td>\n",
       "      <td>26.4</td>\n",
       "      <td>22.1</td>\n",
       "      <td>4.7</td>\n",
       "      <td>smart</td>\n",
       "    </tr>\n",
       "    <tr>\n",
       "      <th>4</th>\n",
       "      <td>message_count</td>\n",
       "      <td>32.6</td>\n",
       "      <td>193.5</td>\n",
       "      <td>13.9</td>\n",
       "      <td>ultra</td>\n",
       "    </tr>\n",
       "    <tr>\n",
       "      <th>5</th>\n",
       "      <td>message_count</td>\n",
       "      <td>29.5</td>\n",
       "      <td>113.0</td>\n",
       "      <td>10.6</td>\n",
       "      <td>all</td>\n",
       "    </tr>\n",
       "    <tr>\n",
       "      <th>6</th>\n",
       "      <td>gb_used</td>\n",
       "      <td>15.2</td>\n",
       "      <td>8.6</td>\n",
       "      <td>2.9</td>\n",
       "      <td>smart</td>\n",
       "    </tr>\n",
       "    <tr>\n",
       "      <th>7</th>\n",
       "      <td>gb_used</td>\n",
       "      <td>18.0</td>\n",
       "      <td>13.9</td>\n",
       "      <td>3.7</td>\n",
       "      <td>ultra</td>\n",
       "    </tr>\n",
       "    <tr>\n",
       "      <th>8</th>\n",
       "      <td>gb_used</td>\n",
       "      <td>16.6</td>\n",
       "      <td>12.7</td>\n",
       "      <td>3.6</td>\n",
       "      <td>all</td>\n",
       "    </tr>\n",
       "    <tr>\n",
       "      <th>9</th>\n",
       "      <td>price</td>\n",
       "      <td>928.2</td>\n",
       "      <td>57531.4</td>\n",
       "      <td>239.9</td>\n",
       "      <td>smart</td>\n",
       "    </tr>\n",
       "    <tr>\n",
       "      <th>10</th>\n",
       "      <td>price</td>\n",
       "      <td>1950.0</td>\n",
       "      <td>0.0</td>\n",
       "      <td>0.0</td>\n",
       "      <td>ultra</td>\n",
       "    </tr>\n",
       "    <tr>\n",
       "      <th>11</th>\n",
       "      <td>price</td>\n",
       "      <td>1439.1</td>\n",
       "      <td>299900.2</td>\n",
       "      <td>547.6</td>\n",
       "      <td>all</td>\n",
       "    </tr>\n",
       "  </tbody>\n",
       "</table>\n",
       "</div>"
      ],
      "text/plain": [
       "        parameter    mean       var    std tariff\n",
       "0        duration   386.6    7784.3   88.2  smart\n",
       "1        duration   469.1   12502.1  111.8  ultra\n",
       "2        duration   427.8   11477.7  107.1    all\n",
       "3   message_count    26.4      22.1    4.7  smart\n",
       "4   message_count    32.6     193.5   13.9  ultra\n",
       "5   message_count    29.5     113.0   10.6    all\n",
       "6         gb_used    15.2       8.6    2.9  smart\n",
       "7         gb_used    18.0      13.9    3.7  ultra\n",
       "8         gb_used    16.6      12.7    3.6    all\n",
       "9           price   928.2   57531.4  239.9  smart\n",
       "10          price  1950.0       0.0    0.0  ultra\n",
       "11          price  1439.1  299900.2  547.6    all"
      ]
     },
     "execution_count": 35,
     "metadata": {},
     "output_type": "execute_result"
    }
   ],
   "source": [
    "stat_data = pd.DataFrame(columns = ['parameter', 'mean', 'var', 'std', 'tariff'])\n",
    "\n",
    "ind = 0\n",
    "t = ['smart', 'ultra', 'all']\n",
    "for param in ['duration', 'message_count', 'gb_used','price']:\n",
    "    tariff_ind = 0\n",
    "    for df in [smart_median_month, ultra_median_month, median_clients_month]:\n",
    "        stat_data.loc[ind, 'parameter'] = param\n",
    "        stat_data.loc[ind, 'mean'] = round(df[param].mean(),1)\n",
    "        stat_data.loc[ind, 'var'] = round(np.var(df[param], ddof=1),1) \n",
    "        stat_data.loc[ind, 'std'] = round(np.std(df[param], ddof=1),1) \n",
    "        stat_data.loc[ind, 'tariff'] = t[tariff_ind]\n",
    "        ind +=1\n",
    "        tariff_ind +=1\n",
    "stat_data"
   ]
  },
  {
   "cell_type": "code",
   "execution_count": 36,
   "metadata": {
    "scrolled": true
   },
   "outputs": [
    {
     "data": {
      "text/html": [
       "<div>\n",
       "<style scoped>\n",
       "    .dataframe tbody tr th:only-of-type {\n",
       "        vertical-align: middle;\n",
       "    }\n",
       "\n",
       "    .dataframe tbody tr th {\n",
       "        vertical-align: top;\n",
       "    }\n",
       "\n",
       "    .dataframe thead th {\n",
       "        text-align: right;\n",
       "    }\n",
       "</style>\n",
       "<table border=\"1\" class=\"dataframe\">\n",
       "  <thead>\n",
       "    <tr style=\"text-align: right;\">\n",
       "      <th></th>\n",
       "      <th>mean_duration</th>\n",
       "      <th>var_duration</th>\n",
       "      <th>sigma_duration</th>\n",
       "      <th>mean_message</th>\n",
       "      <th>var_message</th>\n",
       "      <th>sigma_message</th>\n",
       "      <th>mean_gb</th>\n",
       "      <th>var_gb</th>\n",
       "      <th>sigma_gb</th>\n",
       "      <th>mean_price</th>\n",
       "      <th>var_price</th>\n",
       "      <th>sigma_price</th>\n",
       "    </tr>\n",
       "    <tr>\n",
       "      <th>month</th>\n",
       "      <th></th>\n",
       "      <th></th>\n",
       "      <th></th>\n",
       "      <th></th>\n",
       "      <th></th>\n",
       "      <th></th>\n",
       "      <th></th>\n",
       "      <th></th>\n",
       "      <th></th>\n",
       "      <th></th>\n",
       "      <th></th>\n",
       "      <th></th>\n",
       "    </tr>\n",
       "  </thead>\n",
       "  <tbody>\n",
       "    <tr>\n",
       "      <th>1.0</th>\n",
       "      <td>250.790698</td>\n",
       "      <td>41072.074197</td>\n",
       "      <td>202.662464</td>\n",
       "      <td>9.674419</td>\n",
       "      <td>42.843854</td>\n",
       "      <td>6.545522</td>\n",
       "      <td>21.488372</td>\n",
       "      <td>426.255814</td>\n",
       "      <td>20.645964</td>\n",
       "      <td>978.488372</td>\n",
       "      <td>407049.874862</td>\n",
       "      <td>638.004604</td>\n",
       "    </tr>\n",
       "    <tr>\n",
       "      <th>2.0</th>\n",
       "      <td>298.231707</td>\n",
       "      <td>50588.822192</td>\n",
       "      <td>224.919591</td>\n",
       "      <td>11.890244</td>\n",
       "      <td>57.135953</td>\n",
       "      <td>7.558833</td>\n",
       "      <td>23.463415</td>\n",
       "      <td>537.412225</td>\n",
       "      <td>23.182153</td>\n",
       "      <td>1163.426829</td>\n",
       "      <td>483680.914333</td>\n",
       "      <td>695.471721</td>\n",
       "    </tr>\n",
       "    <tr>\n",
       "      <th>3.0</th>\n",
       "      <td>422.377193</td>\n",
       "      <td>62445.281245</td>\n",
       "      <td>249.890539</td>\n",
       "      <td>16.017544</td>\n",
       "      <td>59.610309</td>\n",
       "      <td>7.720771</td>\n",
       "      <td>32.000000</td>\n",
       "      <td>1035.185841</td>\n",
       "      <td>32.174304</td>\n",
       "      <td>1440.578947</td>\n",
       "      <td>501335.520261</td>\n",
       "      <td>708.050507</td>\n",
       "    </tr>\n",
       "    <tr>\n",
       "      <th>4.0</th>\n",
       "      <td>397.065868</td>\n",
       "      <td>48399.808888</td>\n",
       "      <td>219.999566</td>\n",
       "      <td>14.724551</td>\n",
       "      <td>52.501984</td>\n",
       "      <td>7.245825</td>\n",
       "      <td>31.011976</td>\n",
       "      <td>860.578169</td>\n",
       "      <td>29.335613</td>\n",
       "      <td>1305.185629</td>\n",
       "      <td>463525.513527</td>\n",
       "      <td>680.827080</td>\n",
       "    </tr>\n",
       "    <tr>\n",
       "      <th>5.0</th>\n",
       "      <td>426.971154</td>\n",
       "      <td>53608.704478</td>\n",
       "      <td>231.535536</td>\n",
       "      <td>17.024038</td>\n",
       "      <td>56.371400</td>\n",
       "      <td>7.508089</td>\n",
       "      <td>35.086538</td>\n",
       "      <td>1016.040784</td>\n",
       "      <td>31.875395</td>\n",
       "      <td>1475.235577</td>\n",
       "      <td>568480.857279</td>\n",
       "      <td>753.976695</td>\n",
       "    </tr>\n",
       "    <tr>\n",
       "      <th>6.0</th>\n",
       "      <td>424.112903</td>\n",
       "      <td>52636.068173</td>\n",
       "      <td>229.425518</td>\n",
       "      <td>16.963710</td>\n",
       "      <td>50.755763</td>\n",
       "      <td>7.124308</td>\n",
       "      <td>36.221774</td>\n",
       "      <td>1215.468836</td>\n",
       "      <td>34.863575</td>\n",
       "      <td>1486.931452</td>\n",
       "      <td>557442.493258</td>\n",
       "      <td>746.620716</td>\n",
       "    </tr>\n",
       "    <tr>\n",
       "      <th>7.0</th>\n",
       "      <td>451.184932</td>\n",
       "      <td>55403.044721</td>\n",
       "      <td>235.378514</td>\n",
       "      <td>17.318493</td>\n",
       "      <td>57.406805</td>\n",
       "      <td>7.576728</td>\n",
       "      <td>38.767123</td>\n",
       "      <td>1339.134586</td>\n",
       "      <td>36.594188</td>\n",
       "      <td>1502.616438</td>\n",
       "      <td>608436.587770</td>\n",
       "      <td>780.023453</td>\n",
       "    </tr>\n",
       "    <tr>\n",
       "      <th>8.0</th>\n",
       "      <td>449.409357</td>\n",
       "      <td>56045.450704</td>\n",
       "      <td>236.739204</td>\n",
       "      <td>17.631579</td>\n",
       "      <td>55.066214</td>\n",
       "      <td>7.420661</td>\n",
       "      <td>38.269006</td>\n",
       "      <td>1297.546192</td>\n",
       "      <td>36.021468</td>\n",
       "      <td>1559.181287</td>\n",
       "      <td>605729.579942</td>\n",
       "      <td>778.286310</td>\n",
       "    </tr>\n",
       "    <tr>\n",
       "      <th>9.0</th>\n",
       "      <td>462.600000</td>\n",
       "      <td>58066.278075</td>\n",
       "      <td>240.969455</td>\n",
       "      <td>17.266667</td>\n",
       "      <td>45.950089</td>\n",
       "      <td>6.778650</td>\n",
       "      <td>39.357333</td>\n",
       "      <td>1277.871971</td>\n",
       "      <td>35.747335</td>\n",
       "      <td>1487.429333</td>\n",
       "      <td>518088.400742</td>\n",
       "      <td>719.783579</td>\n",
       "    </tr>\n",
       "    <tr>\n",
       "      <th>10.0</th>\n",
       "      <td>465.055156</td>\n",
       "      <td>59779.758970</td>\n",
       "      <td>244.498996</td>\n",
       "      <td>17.820144</td>\n",
       "      <td>52.046901</td>\n",
       "      <td>7.214354</td>\n",
       "      <td>41.040767</td>\n",
       "      <td>1492.635353</td>\n",
       "      <td>38.634639</td>\n",
       "      <td>1571.623501</td>\n",
       "      <td>646595.288196</td>\n",
       "      <td>804.111490</td>\n",
       "    </tr>\n",
       "    <tr>\n",
       "      <th>11.0</th>\n",
       "      <td>466.864444</td>\n",
       "      <td>53138.175348</td>\n",
       "      <td>230.517191</td>\n",
       "      <td>17.835556</td>\n",
       "      <td>48.502965</td>\n",
       "      <td>6.964407</td>\n",
       "      <td>40.542222</td>\n",
       "      <td>1397.941420</td>\n",
       "      <td>37.389055</td>\n",
       "      <td>1566.117778</td>\n",
       "      <td>611465.921510</td>\n",
       "      <td>781.962865</td>\n",
       "    </tr>\n",
       "    <tr>\n",
       "      <th>12.0</th>\n",
       "      <td>511.922269</td>\n",
       "      <td>64857.482366</td>\n",
       "      <td>254.671322</td>\n",
       "      <td>19.235294</td>\n",
       "      <td>53.658204</td>\n",
       "      <td>7.325176</td>\n",
       "      <td>43.182773</td>\n",
       "      <td>1566.094945</td>\n",
       "      <td>39.573917</td>\n",
       "      <td>1742.153361</td>\n",
       "      <td>889988.403799</td>\n",
       "      <td>943.391967</td>\n",
       "    </tr>\n",
       "  </tbody>\n",
       "</table>\n",
       "</div>"
      ],
      "text/plain": [
       "       mean_duration  var_duration  sigma_duration  mean_message  var_message  \\\n",
       "month                                                                           \n",
       "1.0       250.790698  41072.074197      202.662464      9.674419    42.843854   \n",
       "2.0       298.231707  50588.822192      224.919591     11.890244    57.135953   \n",
       "3.0       422.377193  62445.281245      249.890539     16.017544    59.610309   \n",
       "4.0       397.065868  48399.808888      219.999566     14.724551    52.501984   \n",
       "5.0       426.971154  53608.704478      231.535536     17.024038    56.371400   \n",
       "6.0       424.112903  52636.068173      229.425518     16.963710    50.755763   \n",
       "7.0       451.184932  55403.044721      235.378514     17.318493    57.406805   \n",
       "8.0       449.409357  56045.450704      236.739204     17.631579    55.066214   \n",
       "9.0       462.600000  58066.278075      240.969455     17.266667    45.950089   \n",
       "10.0      465.055156  59779.758970      244.498996     17.820144    52.046901   \n",
       "11.0      466.864444  53138.175348      230.517191     17.835556    48.502965   \n",
       "12.0      511.922269  64857.482366      254.671322     19.235294    53.658204   \n",
       "\n",
       "       sigma_message    mean_gb       var_gb   sigma_gb   mean_price  \\\n",
       "month                                                                  \n",
       "1.0         6.545522  21.488372   426.255814  20.645964   978.488372   \n",
       "2.0         7.558833  23.463415   537.412225  23.182153  1163.426829   \n",
       "3.0         7.720771  32.000000  1035.185841  32.174304  1440.578947   \n",
       "4.0         7.245825  31.011976   860.578169  29.335613  1305.185629   \n",
       "5.0         7.508089  35.086538  1016.040784  31.875395  1475.235577   \n",
       "6.0         7.124308  36.221774  1215.468836  34.863575  1486.931452   \n",
       "7.0         7.576728  38.767123  1339.134586  36.594188  1502.616438   \n",
       "8.0         7.420661  38.269006  1297.546192  36.021468  1559.181287   \n",
       "9.0         6.778650  39.357333  1277.871971  35.747335  1487.429333   \n",
       "10.0        7.214354  41.040767  1492.635353  38.634639  1571.623501   \n",
       "11.0        6.964407  40.542222  1397.941420  37.389055  1566.117778   \n",
       "12.0        7.325176  43.182773  1566.094945  39.573917  1742.153361   \n",
       "\n",
       "           var_price  sigma_price  \n",
       "month                              \n",
       "1.0    407049.874862   638.004604  \n",
       "2.0    483680.914333   695.471721  \n",
       "3.0    501335.520261   708.050507  \n",
       "4.0    463525.513527   680.827080  \n",
       "5.0    568480.857279   753.976695  \n",
       "6.0    557442.493258   746.620716  \n",
       "7.0    608436.587770   780.023453  \n",
       "8.0    605729.579942   778.286310  \n",
       "9.0    518088.400742   719.783579  \n",
       "10.0   646595.288196   804.111490  \n",
       "11.0   611465.921510   781.962865  \n",
       "12.0   889988.403799   943.391967  "
      ]
     },
     "execution_count": 36,
     "metadata": {},
     "output_type": "execute_result"
    }
   ],
   "source": [
    "#Посчитаем среднее значение и дисперсию в каждом месяце по минутам, сообщениям, интернету и расходам\n",
    "t_data=(data.pivot_table(index='month',values=('duration', 'message_count', 'gb_used','price'),aggfunc=('mean', np.var)))\n",
    "t_data.set_axis(['mean_duration', 'var_duration', 'mean_message', 'var_message', 'mean_gb', 'var_gb', 'mean_price', \n",
    "                 'var_price'],axis='columns',inplace=True)\n",
    "\n",
    "#Посчитаем стандартное отклонение для каждого столбца и добавим в таблицу\n",
    "t_data['sigma_duration']=t_data['var_duration'].apply(np.sqrt)\n",
    "t_data['sigma_message']=t_data['var_message'].apply(np.sqrt)\n",
    "t_data['sigma_gb']=t_data['var_gb'].apply(np.sqrt)\n",
    "t_data['sigma_price']=t_data['var_price'].apply(np.sqrt)\n",
    "\n",
    "#Поменяем столбцы местами \n",
    "t_data=t_data[['mean_duration', 'var_duration', 'sigma_duration', 'mean_message', 'var_message', 'sigma_message',\n",
    "       'mean_gb', 'var_gb', 'sigma_gb', 'mean_price', 'var_price', 'sigma_price']]\n",
    "\n",
    "t_data"
   ]
  },
  {
   "cell_type": "code",
   "execution_count": 37,
   "metadata": {},
   "outputs": [],
   "source": [
    "#Отберем клиентов по тарифам смарт и ультра\n",
    "smart_clients = data.query(' tariff==\"smart\" ').reset_index(drop=True)\n",
    "ultra_clients = data.query(' tariff==\"ultra\" ').reset_index(drop=True)"
   ]
  },
  {
   "cell_type": "code",
   "execution_count": 48,
   "metadata": {},
   "outputs": [
    {
     "data": {
      "text/html": [
       "<div>\n",
       "<style scoped>\n",
       "    .dataframe tbody tr th:only-of-type {\n",
       "        vertical-align: middle;\n",
       "    }\n",
       "\n",
       "    .dataframe tbody tr th {\n",
       "        vertical-align: top;\n",
       "    }\n",
       "\n",
       "    .dataframe thead th {\n",
       "        text-align: right;\n",
       "    }\n",
       "</style>\n",
       "<table border=\"1\" class=\"dataframe\">\n",
       "  <thead>\n",
       "    <tr style=\"text-align: right;\">\n",
       "      <th></th>\n",
       "      <th>parameter</th>\n",
       "      <th>mean</th>\n",
       "      <th>var</th>\n",
       "      <th>std</th>\n",
       "      <th>tariff</th>\n",
       "    </tr>\n",
       "  </thead>\n",
       "  <tbody>\n",
       "    <tr>\n",
       "      <th>0</th>\n",
       "      <td>duration</td>\n",
       "      <td>417.7</td>\n",
       "      <td>36281.4</td>\n",
       "      <td>190.5</td>\n",
       "      <td>smart</td>\n",
       "    </tr>\n",
       "    <tr>\n",
       "      <th>1</th>\n",
       "      <td>duration</td>\n",
       "      <td>526.1</td>\n",
       "      <td>101052.5</td>\n",
       "      <td>317.9</td>\n",
       "      <td>ultra</td>\n",
       "    </tr>\n",
       "    <tr>\n",
       "      <th>2</th>\n",
       "      <td>message_count</td>\n",
       "      <td>33.4</td>\n",
       "      <td>797.0</td>\n",
       "      <td>28.2</td>\n",
       "      <td>smart</td>\n",
       "    </tr>\n",
       "    <tr>\n",
       "      <th>3</th>\n",
       "      <td>message_count</td>\n",
       "      <td>49.3</td>\n",
       "      <td>2285.4</td>\n",
       "      <td>47.8</td>\n",
       "      <td>ultra</td>\n",
       "    </tr>\n",
       "    <tr>\n",
       "      <th>4</th>\n",
       "      <td>gb_used</td>\n",
       "      <td>16.3</td>\n",
       "      <td>33.1</td>\n",
       "      <td>5.8</td>\n",
       "      <td>smart</td>\n",
       "    </tr>\n",
       "    <tr>\n",
       "      <th>5</th>\n",
       "      <td>gb_used</td>\n",
       "      <td>19.5</td>\n",
       "      <td>97.4</td>\n",
       "      <td>9.9</td>\n",
       "      <td>ultra</td>\n",
       "    </tr>\n",
       "    <tr>\n",
       "      <th>6</th>\n",
       "      <td>price</td>\n",
       "      <td>1289.6</td>\n",
       "      <td>669730.8</td>\n",
       "      <td>818.4</td>\n",
       "      <td>smart</td>\n",
       "    </tr>\n",
       "    <tr>\n",
       "      <th>7</th>\n",
       "      <td>price</td>\n",
       "      <td>2070.0</td>\n",
       "      <td>141387.7</td>\n",
       "      <td>376.0</td>\n",
       "      <td>ultra</td>\n",
       "    </tr>\n",
       "  </tbody>\n",
       "</table>\n",
       "</div>"
      ],
      "text/plain": [
       "       parameter    mean       var    std tariff\n",
       "0       duration   417.7   36281.4  190.5  smart\n",
       "1       duration   526.1  101052.5  317.9  ultra\n",
       "2  message_count    33.4     797.0   28.2  smart\n",
       "3  message_count    49.3    2285.4   47.8  ultra\n",
       "4        gb_used    16.3      33.1    5.8  smart\n",
       "5        gb_used    19.5      97.4    9.9  ultra\n",
       "6          price  1289.6  669730.8  818.4  smart\n",
       "7          price  2070.0  141387.7  376.0  ultra"
      ]
     },
     "execution_count": 48,
     "metadata": {},
     "output_type": "execute_result"
    }
   ],
   "source": [
    "#Создадим таблицу с статистическими данными параметрам ['duration', 'message_count', 'gb_used','price'] \n",
    "#пользователей с разбивкой по тарифам смарт и ультра\n",
    "stat_data = pd.DataFrame(columns = ['parameter', 'mean', 'var', 'std', 'tariff'])\n",
    "\n",
    "ind = 0\n",
    "t = ['smart', 'ultra']\n",
    "for param in ['duration', 'message_count', 'gb_used','price']:\n",
    "    tariff_ind = 0\n",
    "    for df in [smart_clients, ultra_clients]:\n",
    "        stat_data.loc[ind, 'parameter'] = param\n",
    "        stat_data.loc[ind, 'mean'] = round(df[param].mean(),1)\n",
    "        stat_data.loc[ind, 'var'] = round(np.var(df[param], ddof=1),1) \n",
    "        stat_data.loc[ind, 'std'] = round(np.std(df[param], ddof=1),1) \n",
    "        stat_data.loc[ind, 'tariff'] = t[tariff_ind]\n",
    "        ind +=1\n",
    "        tariff_ind +=1\n",
    "stat_data"
   ]
  },
  {
   "cell_type": "markdown",
   "metadata": {},
   "source": [
    "## Проверка гипотез"
   ]
  },
  {
   "cell_type": "markdown",
   "metadata": {},
   "source": [
    "#### Средняя выручка пользователей тарифов \"Ультра\" и \"Смарт\" различаются\n",
    "Поскольку нулевая гипотеза всегда ставится так , чтобы использовать знак равенства, то она будет звучать так: Средняя выручка пользователей \"Ультра\" равна \"Смарт\". Соответственно алтернативная гипотеза будет: Средняя выручка пользователей \"Ультра\" не равна \"Смарт\""
   ]
  },
  {
   "cell_type": "code",
   "execution_count": 39,
   "metadata": {},
   "outputs": [
    {
     "data": {
      "text/html": [
       "<div>\n",
       "<style scoped>\n",
       "    .dataframe tbody tr th:only-of-type {\n",
       "        vertical-align: middle;\n",
       "    }\n",
       "\n",
       "    .dataframe tbody tr th {\n",
       "        vertical-align: top;\n",
       "    }\n",
       "\n",
       "    .dataframe thead th {\n",
       "        text-align: right;\n",
       "    }\n",
       "</style>\n",
       "<table border=\"1\" class=\"dataframe\">\n",
       "  <thead>\n",
       "    <tr style=\"text-align: right;\">\n",
       "      <th></th>\n",
       "      <th>user_id</th>\n",
       "      <th>month</th>\n",
       "      <th>duration</th>\n",
       "      <th>message_count</th>\n",
       "      <th>gb_used</th>\n",
       "      <th>age</th>\n",
       "      <th>churn_date</th>\n",
       "      <th>city</th>\n",
       "      <th>first_name</th>\n",
       "      <th>last_name</th>\n",
       "      <th>reg_date</th>\n",
       "      <th>tariff</th>\n",
       "      <th>price</th>\n",
       "    </tr>\n",
       "  </thead>\n",
       "  <tbody>\n",
       "    <tr>\n",
       "      <th>0</th>\n",
       "      <td>1005</td>\n",
       "      <td>1.0</td>\n",
       "      <td>95.0</td>\n",
       "      <td>7.0</td>\n",
       "      <td>3.0</td>\n",
       "      <td>67</td>\n",
       "      <td>NaT</td>\n",
       "      <td>Набережные Челны</td>\n",
       "      <td>Афанасий</td>\n",
       "      <td>Горлов</td>\n",
       "      <td>2018-01-25</td>\n",
       "      <td>smart</td>\n",
       "      <td>550.0</td>\n",
       "    </tr>\n",
       "    <tr>\n",
       "      <th>1</th>\n",
       "      <td>1005</td>\n",
       "      <td>2.0</td>\n",
       "      <td>456.0</td>\n",
       "      <td>38.0</td>\n",
       "      <td>8.0</td>\n",
       "      <td>67</td>\n",
       "      <td>NaT</td>\n",
       "      <td>Набережные Челны</td>\n",
       "      <td>Афанасий</td>\n",
       "      <td>Горлов</td>\n",
       "      <td>2018-01-25</td>\n",
       "      <td>smart</td>\n",
       "      <td>550.0</td>\n",
       "    </tr>\n",
       "    <tr>\n",
       "      <th>2</th>\n",
       "      <td>1005</td>\n",
       "      <td>3.0</td>\n",
       "      <td>606.0</td>\n",
       "      <td>56.0</td>\n",
       "      <td>11.0</td>\n",
       "      <td>67</td>\n",
       "      <td>NaT</td>\n",
       "      <td>Набережные Челны</td>\n",
       "      <td>Афанасий</td>\n",
       "      <td>Горлов</td>\n",
       "      <td>2018-01-25</td>\n",
       "      <td>smart</td>\n",
       "      <td>886.0</td>\n",
       "    </tr>\n",
       "    <tr>\n",
       "      <th>3</th>\n",
       "      <td>1005</td>\n",
       "      <td>4.0</td>\n",
       "      <td>712.0</td>\n",
       "      <td>41.0</td>\n",
       "      <td>10.0</td>\n",
       "      <td>67</td>\n",
       "      <td>NaT</td>\n",
       "      <td>Набережные Челны</td>\n",
       "      <td>Афанасий</td>\n",
       "      <td>Горлов</td>\n",
       "      <td>2018-01-25</td>\n",
       "      <td>smart</td>\n",
       "      <td>1186.0</td>\n",
       "    </tr>\n",
       "    <tr>\n",
       "      <th>4</th>\n",
       "      <td>1005</td>\n",
       "      <td>5.0</td>\n",
       "      <td>595.0</td>\n",
       "      <td>42.0</td>\n",
       "      <td>8.0</td>\n",
       "      <td>67</td>\n",
       "      <td>NaT</td>\n",
       "      <td>Набережные Челны</td>\n",
       "      <td>Афанасий</td>\n",
       "      <td>Горлов</td>\n",
       "      <td>2018-01-25</td>\n",
       "      <td>smart</td>\n",
       "      <td>835.0</td>\n",
       "    </tr>\n",
       "    <tr>\n",
       "      <th>...</th>\n",
       "      <td>...</td>\n",
       "      <td>...</td>\n",
       "      <td>...</td>\n",
       "      <td>...</td>\n",
       "      <td>...</td>\n",
       "      <td>...</td>\n",
       "      <td>...</td>\n",
       "      <td>...</td>\n",
       "      <td>...</td>\n",
       "      <td>...</td>\n",
       "      <td>...</td>\n",
       "      <td>...</td>\n",
       "      <td>...</td>\n",
       "    </tr>\n",
       "    <tr>\n",
       "      <th>3211</th>\n",
       "      <td>1328</td>\n",
       "      <td>10.0</td>\n",
       "      <td>0.0</td>\n",
       "      <td>6.0</td>\n",
       "      <td>22.0</td>\n",
       "      <td>44</td>\n",
       "      <td>NaT</td>\n",
       "      <td>Мурманск</td>\n",
       "      <td>Рауль</td>\n",
       "      <td>Аркадьев</td>\n",
       "      <td>2018-10-16</td>\n",
       "      <td>ultra</td>\n",
       "      <td>1950.0</td>\n",
       "    </tr>\n",
       "    <tr>\n",
       "      <th>3212</th>\n",
       "      <td>1328</td>\n",
       "      <td>11.0</td>\n",
       "      <td>0.0</td>\n",
       "      <td>8.0</td>\n",
       "      <td>35.0</td>\n",
       "      <td>44</td>\n",
       "      <td>NaT</td>\n",
       "      <td>Мурманск</td>\n",
       "      <td>Рауль</td>\n",
       "      <td>Аркадьев</td>\n",
       "      <td>2018-10-16</td>\n",
       "      <td>ultra</td>\n",
       "      <td>2700.0</td>\n",
       "    </tr>\n",
       "    <tr>\n",
       "      <th>3213</th>\n",
       "      <td>1328</td>\n",
       "      <td>12.0</td>\n",
       "      <td>0.0</td>\n",
       "      <td>7.0</td>\n",
       "      <td>39.0</td>\n",
       "      <td>44</td>\n",
       "      <td>NaT</td>\n",
       "      <td>Мурманск</td>\n",
       "      <td>Рауль</td>\n",
       "      <td>Аркадьев</td>\n",
       "      <td>2018-10-16</td>\n",
       "      <td>ultra</td>\n",
       "      <td>3300.0</td>\n",
       "    </tr>\n",
       "    <tr>\n",
       "      <th>3214</th>\n",
       "      <td>1128</td>\n",
       "      <td>NaN</td>\n",
       "      <td>0.0</td>\n",
       "      <td>0.0</td>\n",
       "      <td>0.0</td>\n",
       "      <td>51</td>\n",
       "      <td>2018-12-23</td>\n",
       "      <td>Волжский</td>\n",
       "      <td>Ксения</td>\n",
       "      <td>Агаева</td>\n",
       "      <td>2018-12-15</td>\n",
       "      <td>ultra</td>\n",
       "      <td>1950.0</td>\n",
       "    </tr>\n",
       "    <tr>\n",
       "      <th>3215</th>\n",
       "      <td>1371</td>\n",
       "      <td>NaN</td>\n",
       "      <td>0.0</td>\n",
       "      <td>0.0</td>\n",
       "      <td>0.0</td>\n",
       "      <td>50</td>\n",
       "      <td>2018-12-30</td>\n",
       "      <td>Омск</td>\n",
       "      <td>Ириней</td>\n",
       "      <td>Трофимов</td>\n",
       "      <td>2018-12-25</td>\n",
       "      <td>smart</td>\n",
       "      <td>550.0</td>\n",
       "    </tr>\n",
       "  </tbody>\n",
       "</table>\n",
       "<p>3216 rows × 13 columns</p>\n",
       "</div>"
      ],
      "text/plain": [
       "      user_id  month  duration  message_count  gb_used  age churn_date  \\\n",
       "0        1005    1.0      95.0            7.0      3.0   67        NaT   \n",
       "1        1005    2.0     456.0           38.0      8.0   67        NaT   \n",
       "2        1005    3.0     606.0           56.0     11.0   67        NaT   \n",
       "3        1005    4.0     712.0           41.0     10.0   67        NaT   \n",
       "4        1005    5.0     595.0           42.0      8.0   67        NaT   \n",
       "...       ...    ...       ...            ...      ...  ...        ...   \n",
       "3211     1328   10.0       0.0            6.0     22.0   44        NaT   \n",
       "3212     1328   11.0       0.0            8.0     35.0   44        NaT   \n",
       "3213     1328   12.0       0.0            7.0     39.0   44        NaT   \n",
       "3214     1128    NaN       0.0            0.0      0.0   51 2018-12-23   \n",
       "3215     1371    NaN       0.0            0.0      0.0   50 2018-12-30   \n",
       "\n",
       "                  city first_name last_name   reg_date tariff   price  \n",
       "0     Набережные Челны   Афанасий    Горлов 2018-01-25  smart   550.0  \n",
       "1     Набережные Челны   Афанасий    Горлов 2018-01-25  smart   550.0  \n",
       "2     Набережные Челны   Афанасий    Горлов 2018-01-25  smart   886.0  \n",
       "3     Набережные Челны   Афанасий    Горлов 2018-01-25  smart  1186.0  \n",
       "4     Набережные Челны   Афанасий    Горлов 2018-01-25  smart   835.0  \n",
       "...                ...        ...       ...        ...    ...     ...  \n",
       "3211          Мурманск      Рауль  Аркадьев 2018-10-16  ultra  1950.0  \n",
       "3212          Мурманск      Рауль  Аркадьев 2018-10-16  ultra  2700.0  \n",
       "3213          Мурманск      Рауль  Аркадьев 2018-10-16  ultra  3300.0  \n",
       "3214          Волжский     Ксения    Агаева 2018-12-15  ultra  1950.0  \n",
       "3215              Омск     Ириней  Трофимов 2018-12-25  smart   550.0  \n",
       "\n",
       "[3216 rows x 13 columns]"
      ]
     },
     "execution_count": 39,
     "metadata": {},
     "output_type": "execute_result"
    }
   ],
   "source": [
    "data #Выведем основную таблицу на экран"
   ]
  },
  {
   "cell_type": "code",
   "execution_count": 40,
   "metadata": {},
   "outputs": [],
   "source": [
    "#Запишем выборки тарифов\n",
    "ultra_income_mean = data.query('tariff ==\"ultra\"')['price'].values\n",
    "smart_income_mean = data.query('tariff ==\"smart\"')['price'].values"
   ]
  },
  {
   "cell_type": "code",
   "execution_count": 41,
   "metadata": {},
   "outputs": [
    {
     "name": "stdout",
     "output_type": "stream",
     "text": [
      "2875901.0\n",
      "2041050.0\n"
     ]
    }
   ],
   "source": [
    "#Посчитаем суммы \n",
    "print(smart_income_mean.sum())\n",
    "print(ultra_income_mean.sum())"
   ]
  },
  {
   "cell_type": "code",
   "execution_count": 42,
   "metadata": {},
   "outputs": [
    {
     "name": "stdout",
     "output_type": "stream",
     "text": [
      "1289.6417040358745\n",
      "2070.030425963489\n"
     ]
    }
   ],
   "source": [
    "#Посчитаем среднее \n",
    "print(smart_income_mean.mean())\n",
    "print(ultra_income_mean.mean())"
   ]
  },
  {
   "cell_type": "code",
   "execution_count": 43,
   "metadata": {
    "scrolled": false
   },
   "outputs": [
    {
     "name": "stdout",
     "output_type": "stream",
     "text": [
      "669430.436197993 141244.31956107615\n"
     ]
    }
   ],
   "source": [
    "#Посчитаем их диспресии\n",
    "print( np.var(smart_income_mean), np.var(ultra_income_mean))"
   ]
  },
  {
   "cell_type": "code",
   "execution_count": 44,
   "metadata": {},
   "outputs": [
    {
     "name": "stdout",
     "output_type": "stream",
     "text": [
      "p-значение: 1.9270113944198435e-250\n",
      "Отвергаем нулевую гипотезу\n"
     ]
    }
   ],
   "source": [
    "alpha = 0.05 #Зададим значение альфа в 5% так как большая точность нам здесь не важна\n",
    "\n",
    "results = st.ttest_ind(smart_income_mean, ultra_income_mean, equal_var = False)\n",
    "#equal_var = False поскольку диспресии не равны\n",
    "print('p-значение:', results.pvalue)\n",
    "\n",
    "if (results.pvalue < alpha):\n",
    "    print(\"Отвергаем нулевую гипотезу\")\n",
    "else:\n",
    "    print(\"Не получилось отвергнуть нулевую гипотезу\")"
   ]
  },
  {
   "cell_type": "markdown",
   "metadata": {},
   "source": [
    "<div style=\"border:solid green 5px; padding: 20px\">\n",
    "Нулевая гипотеза (Средняя выручка пользователей \"Ультра\" равна \"Смарт\") отвергается в пользу альтернативной (Средняя выручка пользователей \"Ультра\" не равна \"Смарт\"). Значит наша гипотеза о том что \"Средняя выручка пользователей тарифов \"Ультра\" и \"Смарт\" различаются\" принимается."
   ]
  },
  {
   "cell_type": "markdown",
   "metadata": {},
   "source": [
    "#### Средняя выручка пользователей из Москвы отличается от выручки пользователей из других регионов\n",
    "Поскольку нулевая гипотеза всегда ставится так , чтобы использовать знак равенства, то она будет звучать так: Средняя выручка пользователей из Москвы и регионов равна. Соответственно алтернативная гипотеза будет:  Средняя выручка пользователей из Москвы и регионов не равна."
   ]
  },
  {
   "cell_type": "code",
   "execution_count": 45,
   "metadata": {},
   "outputs": [],
   "source": [
    "#Запишем выборки тарифов\n",
    "moscow_income_mean = data.query('city == \"Москва\"')['price'].values\n",
    "region_income_mean = data.query('city != \"Москва\"')['price'].values"
   ]
  },
  {
   "cell_type": "code",
   "execution_count": 46,
   "metadata": {},
   "outputs": [
    {
     "name": "stdout",
     "output_type": "stream",
     "text": [
      "564710.7117467273 653818.4925923498\n"
     ]
    }
   ],
   "source": [
    "#Посчитаем их диспресии\n",
    "print( np.var(moscow_income_mean), np.var(region_income_mean))"
   ]
  },
  {
   "cell_type": "code",
   "execution_count": 47,
   "metadata": {},
   "outputs": [
    {
     "name": "stdout",
     "output_type": "stream",
     "text": [
      "p-значение: 0.5400751614511182\n",
      "Не получилось отвергнуть нулевую гипотезу\n"
     ]
    }
   ],
   "source": [
    "alpha = 0.05 #Зададим значение альфа в 5% так как большая точность нам здесь не важна\n",
    "\n",
    "results = st.ttest_ind(moscow_income_mean, region_income_mean, equal_var = True)\n",
    "#equal_var = True поскольку диспресии практически одинаковы\n",
    "print('p-значение:', results.pvalue)\n",
    "\n",
    "if (results.pvalue < alpha):\n",
    "    print(\"Отвергаем нулевую гипотезу\")\n",
    "else:\n",
    "    print(\"Не получилось отвергнуть нулевую гипотезу\")"
   ]
  },
  {
   "cell_type": "markdown",
   "metadata": {},
   "source": [
    "<div style=\"border:solid green 5px; padding: 20px\">\n",
    "Нулевая гипотеза (Средняя выручка пользователей из Москвы и регионов равна) не отвергается в пользу альтернативной (Средняя выручка пользователей из Москвы и регионов не равна). Значит наша гипотеза о том что \"Средняя выручка пользователей из Москвы отличается от выручки пользователей из других регионов\" не принимается. "
   ]
  },
  {
   "cell_type": "markdown",
   "metadata": {},
   "source": [
    "## Общий вывод"
   ]
  },
  {
   "cell_type": "markdown",
   "metadata": {},
   "source": [
    "<div style=\"border:solid green 5px; padding: 20px\">\n",
    "    \n",
    "**<font color=\"green\">Общий анализ данных датасета</font>**\n",
    "<br><br>Данные переданы в отличном виде, особых замечаний к ним не было. Поскольку \"Мегалайн\" округляет секунды до минут, а мегабайты до гигабайт - нужно было перевести округленные значения в минуты и гигабайты.\n",
    "    \n",
    "**<font color=\"green\">Анализ данных после предобработки данных</font>**   \n",
    "<br>Подготовили таблицу для дальнейших вычислений и анализа. В результате предобработки заменили тип данных в столбцах call_date, session_date, message_date, churn_date, reg_date. Удалили лишний столбец в data_internet. Дубликатов в таблицах нет.\n",
    "    \n",
    "**<font color=\"green\">Расчёты и добавление результатов в таблицу</font>**   \n",
    "<br>Объединили таблицы, провели расчеты и добавили стоимость использования тарифа за каждый месяц. По проведенным расчетам видно, что больше всего клиентов укладываются в рамки своего тарифа 1950 рублей ( около 900 оплат) и 550 рублей (около 700 оплат). В среднем стоимость 1506,67 рублей в месяц (медианное значение 1567 рублей).\n",
    " \n",
    "**<font color=\"green\">Исследовательский анализ данных</font>**          \n",
    "<br>Проанализировав графики суммарных значений, увидели, что все показатели увеличиваются от месяца к месяцу. Показатели тарифа smart с каждым месяцем все больше преобладают над ultra, но пользователей тарифа smart значительно больше. Сильных выбросов не было и для вычисления усредненных значений использовали медиану. \n",
    "<br>Проанализировав графики медианных значений, увидели, что клиенты тарифов ultra пользуются услугами в пределах пакета. Клиенты тарифов smart чаще переплачивают, в основном за счет превышения использования интернет-трафика.\n",
    "<br> Проанализировав гистограммы распределения объема услуг, увидели, что:\n",
    "<br>1. Клиенты smart разговаривают в основном 150-600 минут в месяц (лимит 500 минут), а клиенты ultra разговаривают от 0 до 800 минут (лимит 3000 минут) в месяц.\n",
    "<br>2. Клиенты smart отправляют в основном до 50 смс в месяц (лимит 50 сообщений), а клиенты ultra отправляют около 100 сообщений в месяц (лимит 1000 сообщений).\n",
    "<br>3. Клиенты smart используют в основном 15-30 Гб интернета в месяц (лимит 15 Гб), а клиенты ultra используют от 12 до 23 Гб в месяц (лимит 30 Гб).\n",
    "<br>4. Клиенты smart платят в основном 550 рублей в месяц, но также иногда переплачивают до 2000 рублей в месяц (лимит 550 рублей), а клиенты ultra почти всегда платят 1950 рублей в месяц (лимит 1950 рублей).\n",
    "    \n",
    "**<font color=\"green\">Среднее количество, дисперсия и стандартное отклонение</font>** \n",
    "<br>Была создана таблица stat_data куда были записаны среднее количество, дисперсия и стандартное отклонение по двум тарифам за весь рассматриваемый период.\n",
    "    \n",
    "**<font color=\"green\">Проверка гипотез</font>** \n",
    "    <br>Гипотеза 1. \"Средняя выручка пользователей тарифов \"Ультра\" и \"Смарт\" различаются\" принимается.\n",
    "    <br>Гипотеза 2. \"Средняя выручка пользователей из Москвы отличается от выручки пользователей из других регионов\" не принимается.\n",
    "    \n",
    "**<font color=\"green\">Итог</font>** \n",
    "    <br>При всех имеющихся данных, самый популярный и  самый доходный тариф Смарт. В среднем пользователи Ультра тратят 2070 рублей (при ежемесячной плате 1950 рублей) и при этом большая часть не полностью расходуют имеющиеся пакеты в тарифе. Тарифом Смарт пользуется гораздо больше клиентов, которые часто выходят за лимиты по пакетам услуг, что и делает тариф более доходным для компании. "
   ]
  }
 ],
 "metadata": {
  "ExecuteTimeLog": [
   {
    "duration": 2758,
    "start_time": "2022-03-07T21:09:05.013Z"
   },
   {
    "duration": -2489,
    "start_time": "2022-03-07T21:09:10.262Z"
   },
   {
    "duration": -2489,
    "start_time": "2022-03-07T21:09:10.264Z"
   },
   {
    "duration": 497,
    "start_time": "2022-03-07T21:09:51.871Z"
   },
   {
    "duration": 5,
    "start_time": "2022-03-07T21:09:53.918Z"
   },
   {
    "duration": 84,
    "start_time": "2022-03-07T21:09:54.812Z"
   },
   {
    "duration": 72,
    "start_time": "2022-03-07T21:09:56.523Z"
   },
   {
    "duration": 49,
    "start_time": "2022-03-07T21:09:57.099Z"
   },
   {
    "duration": 49,
    "start_time": "2022-03-07T21:10:00.013Z"
   },
   {
    "duration": 34,
    "start_time": "2022-03-07T21:10:01.679Z"
   },
   {
    "duration": 501,
    "start_time": "2022-03-07T21:11:19.336Z"
   },
   {
    "duration": 4,
    "start_time": "2022-03-07T21:11:20.011Z"
   },
   {
    "duration": 81,
    "start_time": "2022-03-07T21:11:20.860Z"
   },
   {
    "duration": 73,
    "start_time": "2022-03-07T21:11:22.452Z"
   },
   {
    "duration": 50,
    "start_time": "2022-03-07T21:11:22.998Z"
   },
   {
    "duration": 48,
    "start_time": "2022-03-07T21:11:23.629Z"
   },
   {
    "duration": 35,
    "start_time": "2022-03-07T21:11:24.203Z"
   },
   {
    "duration": 79,
    "start_time": "2022-03-07T21:14:26.564Z"
   },
   {
    "duration": 5,
    "start_time": "2022-03-07T21:14:29.268Z"
   },
   {
    "duration": 83,
    "start_time": "2022-03-07T21:14:30.499Z"
   },
   {
    "duration": 79,
    "start_time": "2022-03-07T21:14:50.483Z"
   },
   {
    "duration": 6,
    "start_time": "2022-03-07T21:14:51.951Z"
   },
   {
    "duration": 84,
    "start_time": "2022-03-07T21:14:54.397Z"
   },
   {
    "duration": 4,
    "start_time": "2022-03-07T21:15:42.772Z"
   },
   {
    "duration": 80,
    "start_time": "2022-03-07T21:15:43.364Z"
   },
   {
    "duration": 4,
    "start_time": "2022-03-07T21:24:25.555Z"
   },
   {
    "duration": 365,
    "start_time": "2022-03-07T21:24:27.046Z"
   },
   {
    "duration": 280,
    "start_time": "2022-03-07T21:24:40.075Z"
   },
   {
    "duration": 224,
    "start_time": "2022-03-07T21:24:40.539Z"
   },
   {
    "duration": 44,
    "start_time": "2022-03-07T21:24:41.370Z"
   },
   {
    "duration": 35,
    "start_time": "2022-03-07T21:24:55.131Z"
   },
   {
    "duration": 4,
    "start_time": "2022-03-07T21:29:37.402Z"
   },
   {
    "duration": 379,
    "start_time": "2022-03-07T21:29:38.127Z"
   },
   {
    "duration": 6,
    "start_time": "2022-03-07T21:36:30.469Z"
   },
   {
    "duration": 473,
    "start_time": "2022-03-07T21:36:33.379Z"
   },
   {
    "duration": 487,
    "start_time": "2022-03-07T21:38:31.922Z"
   },
   {
    "duration": 5,
    "start_time": "2022-03-07T21:38:32.574Z"
   },
   {
    "duration": 5,
    "start_time": "2022-03-07T21:38:34.474Z"
   },
   {
    "duration": 363,
    "start_time": "2022-03-07T21:38:35.201Z"
   },
   {
    "duration": 1227,
    "start_time": "2022-03-07T21:39:19.132Z"
   },
   {
    "duration": 5,
    "start_time": "2022-03-07T21:39:20.362Z"
   },
   {
    "duration": 5,
    "start_time": "2022-03-07T21:39:20.373Z"
   },
   {
    "duration": 395,
    "start_time": "2022-03-07T21:39:20.380Z"
   },
   {
    "duration": 304,
    "start_time": "2022-03-07T21:39:20.777Z"
   },
   {
    "duration": 240,
    "start_time": "2022-03-07T21:39:21.084Z"
   },
   {
    "duration": 57,
    "start_time": "2022-03-07T21:39:21.327Z"
   },
   {
    "duration": 36,
    "start_time": "2022-03-07T21:39:21.387Z"
   },
   {
    "duration": 4,
    "start_time": "2022-03-07T21:45:31.831Z"
   },
   {
    "duration": 48,
    "start_time": "2022-03-07T22:02:38.515Z"
   },
   {
    "duration": 308,
    "start_time": "2022-03-08T11:28:26.805Z"
   },
   {
    "duration": 1215,
    "start_time": "2022-03-08T11:28:52.078Z"
   },
   {
    "duration": 5,
    "start_time": "2022-03-08T11:28:53.297Z"
   },
   {
    "duration": 8,
    "start_time": "2022-03-08T11:28:53.305Z"
   },
   {
    "duration": 407,
    "start_time": "2022-03-08T11:28:53.316Z"
   },
   {
    "duration": 310,
    "start_time": "2022-03-08T11:28:53.726Z"
   },
   {
    "duration": 255,
    "start_time": "2022-03-08T11:28:54.038Z"
   },
   {
    "duration": 50,
    "start_time": "2022-03-08T11:28:54.296Z"
   },
   {
    "duration": 69,
    "start_time": "2022-03-08T11:28:54.349Z"
   },
   {
    "duration": 24,
    "start_time": "2022-03-08T11:28:54.420Z"
   },
   {
    "duration": 474,
    "start_time": "2022-03-08T11:40:11.599Z"
   },
   {
    "duration": 256,
    "start_time": "2022-03-08T11:41:06.309Z"
   },
   {
    "duration": 1271,
    "start_time": "2022-03-08T11:41:23.596Z"
   },
   {
    "duration": 4,
    "start_time": "2022-03-08T11:41:24.870Z"
   },
   {
    "duration": 8,
    "start_time": "2022-03-08T11:41:24.877Z"
   },
   {
    "duration": 391,
    "start_time": "2022-03-08T11:41:24.887Z"
   },
   {
    "duration": 310,
    "start_time": "2022-03-08T11:41:25.284Z"
   },
   {
    "duration": 238,
    "start_time": "2022-03-08T11:41:25.598Z"
   },
   {
    "duration": 65,
    "start_time": "2022-03-08T11:41:25.838Z"
   },
   {
    "duration": 36,
    "start_time": "2022-03-08T11:41:25.905Z"
   },
   {
    "duration": 366,
    "start_time": "2022-03-08T11:41:25.945Z"
   },
   {
    "duration": 24,
    "start_time": "2022-03-08T11:42:25.094Z"
   },
   {
    "duration": 59,
    "start_time": "2022-03-08T11:43:18.130Z"
   },
   {
    "duration": 27,
    "start_time": "2022-03-08T11:43:27.248Z"
   },
   {
    "duration": 26,
    "start_time": "2022-03-08T11:45:42.156Z"
   },
   {
    "duration": 257,
    "start_time": "2022-03-08T11:46:15.185Z"
   },
   {
    "duration": 1177,
    "start_time": "2022-03-08T11:46:30.903Z"
   },
   {
    "duration": 5,
    "start_time": "2022-03-08T11:46:32.084Z"
   },
   {
    "duration": 16,
    "start_time": "2022-03-08T11:46:32.092Z"
   },
   {
    "duration": 405,
    "start_time": "2022-03-08T11:46:32.111Z"
   },
   {
    "duration": 355,
    "start_time": "2022-03-08T11:46:32.519Z"
   },
   {
    "duration": 296,
    "start_time": "2022-03-08T11:46:32.876Z"
   },
   {
    "duration": 57,
    "start_time": "2022-03-08T11:46:33.175Z"
   },
   {
    "duration": 58,
    "start_time": "2022-03-08T11:46:33.234Z"
   },
   {
    "duration": 58,
    "start_time": "2022-03-08T11:46:33.296Z"
   },
   {
    "duration": 61,
    "start_time": "2022-03-08T11:46:33.357Z"
   },
   {
    "duration": 26,
    "start_time": "2022-03-08T11:46:45.706Z"
   },
   {
    "duration": 350,
    "start_time": "2022-03-08T11:47:00.997Z"
   },
   {
    "duration": 1162,
    "start_time": "2022-03-08T11:47:13.220Z"
   },
   {
    "duration": 4,
    "start_time": "2022-03-08T11:47:14.384Z"
   },
   {
    "duration": 8,
    "start_time": "2022-03-08T11:47:14.391Z"
   },
   {
    "duration": 401,
    "start_time": "2022-03-08T11:47:14.401Z"
   },
   {
    "duration": 295,
    "start_time": "2022-03-08T11:47:14.805Z"
   },
   {
    "duration": 220,
    "start_time": "2022-03-08T11:47:15.103Z"
   },
   {
    "duration": 64,
    "start_time": "2022-03-08T11:47:15.326Z"
   },
   {
    "duration": 37,
    "start_time": "2022-03-08T11:47:15.394Z"
   },
   {
    "duration": 87,
    "start_time": "2022-03-08T11:47:15.433Z"
   },
   {
    "duration": 64,
    "start_time": "2022-03-08T11:47:15.522Z"
   },
   {
    "duration": 23,
    "start_time": "2022-03-08T11:49:02.317Z"
   },
   {
    "duration": 37,
    "start_time": "2022-03-08T11:49:46.557Z"
   },
   {
    "duration": 19,
    "start_time": "2022-03-08T11:51:10.232Z"
   },
   {
    "duration": 345,
    "start_time": "2022-03-08T11:52:39.028Z"
   },
   {
    "duration": 15,
    "start_time": "2022-03-08T11:53:42.448Z"
   },
   {
    "duration": 27,
    "start_time": "2022-03-08T11:53:56.750Z"
   },
   {
    "duration": 12,
    "start_time": "2022-03-08T11:54:22.458Z"
   },
   {
    "duration": 4,
    "start_time": "2022-03-08T12:10:13.292Z"
   },
   {
    "duration": 4,
    "start_time": "2022-03-08T12:10:24.895Z"
   },
   {
    "duration": 4,
    "start_time": "2022-03-08T12:10:32.538Z"
   },
   {
    "duration": 5,
    "start_time": "2022-03-08T12:10:36.938Z"
   },
   {
    "duration": 5,
    "start_time": "2022-03-08T12:10:42.610Z"
   },
   {
    "duration": 5,
    "start_time": "2022-03-08T12:11:01.836Z"
   },
   {
    "duration": 4,
    "start_time": "2022-03-08T12:11:15.392Z"
   },
   {
    "duration": 5,
    "start_time": "2022-03-08T12:11:20.139Z"
   },
   {
    "duration": 5,
    "start_time": "2022-03-08T12:11:23.329Z"
   },
   {
    "duration": 5,
    "start_time": "2022-03-08T12:11:39.477Z"
   },
   {
    "duration": 4,
    "start_time": "2022-03-08T12:12:29.413Z"
   },
   {
    "duration": 5,
    "start_time": "2022-03-08T12:12:35.488Z"
   },
   {
    "duration": 6,
    "start_time": "2022-03-08T12:12:38.571Z"
   },
   {
    "duration": 5,
    "start_time": "2022-03-08T12:13:09.592Z"
   },
   {
    "duration": 4,
    "start_time": "2022-03-08T12:13:12.731Z"
   },
   {
    "duration": 115,
    "start_time": "2022-03-08T12:36:09.127Z"
   },
   {
    "duration": 206,
    "start_time": "2022-03-08T12:37:03.306Z"
   },
   {
    "duration": 62,
    "start_time": "2022-03-08T12:47:20.213Z"
   },
   {
    "duration": 72,
    "start_time": "2022-03-08T12:47:27.272Z"
   },
   {
    "duration": 94,
    "start_time": "2022-03-08T12:48:14.330Z"
   },
   {
    "duration": 67,
    "start_time": "2022-03-08T12:48:35.416Z"
   },
   {
    "duration": 64,
    "start_time": "2022-03-08T12:49:55.939Z"
   },
   {
    "duration": 76,
    "start_time": "2022-03-08T12:50:03.798Z"
   },
   {
    "duration": 83,
    "start_time": "2022-03-08T12:50:30.039Z"
   },
   {
    "duration": 79,
    "start_time": "2022-03-08T12:50:56.352Z"
   },
   {
    "duration": 64,
    "start_time": "2022-03-08T12:54:37.861Z"
   },
   {
    "duration": 266,
    "start_time": "2022-03-08T12:55:07.413Z"
   },
   {
    "duration": 277,
    "start_time": "2022-03-08T12:55:47.225Z"
   },
   {
    "duration": 76,
    "start_time": "2022-03-08T12:55:57.079Z"
   },
   {
    "duration": 53,
    "start_time": "2022-03-08T12:56:04.306Z"
   },
   {
    "duration": 299,
    "start_time": "2022-03-08T12:56:51.638Z"
   },
   {
    "duration": 39,
    "start_time": "2022-03-08T12:56:54.105Z"
   },
   {
    "duration": 51,
    "start_time": "2022-03-08T12:58:19.671Z"
   },
   {
    "duration": 50,
    "start_time": "2022-03-08T12:59:05.740Z"
   },
   {
    "duration": 37,
    "start_time": "2022-03-08T13:02:16.635Z"
   },
   {
    "duration": 52,
    "start_time": "2022-03-08T13:03:10.248Z"
   },
   {
    "duration": 60,
    "start_time": "2022-03-08T13:03:17.860Z"
   },
   {
    "duration": 234,
    "start_time": "2022-03-08T13:04:59.105Z"
   },
   {
    "duration": 256,
    "start_time": "2022-03-08T13:05:08.268Z"
   },
   {
    "duration": 235,
    "start_time": "2022-03-08T13:05:21.235Z"
   },
   {
    "duration": 6,
    "start_time": "2022-03-08T13:05:33.303Z"
   },
   {
    "duration": 518,
    "start_time": "2022-03-08T13:08:51.795Z"
   },
   {
    "duration": 84,
    "start_time": "2022-03-08T13:21:01.749Z"
   },
   {
    "duration": 82,
    "start_time": "2022-03-08T13:21:27.938Z"
   },
   {
    "duration": 7,
    "start_time": "2022-03-08T13:21:53.900Z"
   },
   {
    "duration": 4,
    "start_time": "2022-03-08T13:22:16.867Z"
   },
   {
    "duration": 6,
    "start_time": "2022-03-08T13:22:21.396Z"
   },
   {
    "duration": 5,
    "start_time": "2022-03-08T13:22:34.228Z"
   },
   {
    "duration": 5,
    "start_time": "2022-03-08T13:22:42.630Z"
   },
   {
    "duration": 5,
    "start_time": "2022-03-08T13:22:51.763Z"
   },
   {
    "duration": 5,
    "start_time": "2022-03-08T13:22:56.565Z"
   },
   {
    "duration": 5,
    "start_time": "2022-03-08T13:23:04.927Z"
   },
   {
    "duration": 6,
    "start_time": "2022-03-08T13:23:22.223Z"
   },
   {
    "duration": 6,
    "start_time": "2022-03-08T13:23:28.232Z"
   },
   {
    "duration": 5,
    "start_time": "2022-03-08T13:23:46.992Z"
   },
   {
    "duration": 5,
    "start_time": "2022-03-08T13:24:05.482Z"
   },
   {
    "duration": 25,
    "start_time": "2022-03-08T13:24:50.128Z"
   },
   {
    "duration": 262,
    "start_time": "2022-03-08T13:25:56.958Z"
   },
   {
    "duration": 304,
    "start_time": "2022-03-08T13:26:09.805Z"
   },
   {
    "duration": 27,
    "start_time": "2022-03-08T13:27:15.787Z"
   },
   {
    "duration": 18,
    "start_time": "2022-03-08T13:27:29.144Z"
   },
   {
    "duration": 26,
    "start_time": "2022-03-08T13:27:37.751Z"
   },
   {
    "duration": 26,
    "start_time": "2022-03-08T13:28:48.058Z"
   },
   {
    "duration": 12,
    "start_time": "2022-03-08T13:38:51.167Z"
   },
   {
    "duration": 258,
    "start_time": "2022-03-08T13:38:58.938Z"
   },
   {
    "duration": 1235,
    "start_time": "2022-03-08T13:39:09.088Z"
   },
   {
    "duration": 4,
    "start_time": "2022-03-08T13:39:10.325Z"
   },
   {
    "duration": 5,
    "start_time": "2022-03-08T13:39:10.333Z"
   },
   {
    "duration": 430,
    "start_time": "2022-03-08T13:39:10.342Z"
   },
   {
    "duration": 314,
    "start_time": "2022-03-08T13:39:10.774Z"
   },
   {
    "duration": 359,
    "start_time": "2022-03-08T13:39:11.091Z"
   },
   {
    "duration": 66,
    "start_time": "2022-03-08T13:39:11.453Z"
   },
   {
    "duration": 36,
    "start_time": "2022-03-08T13:39:11.522Z"
   },
   {
    "duration": 67,
    "start_time": "2022-03-08T13:39:11.586Z"
   },
   {
    "duration": 76,
    "start_time": "2022-03-08T13:39:11.655Z"
   },
   {
    "duration": 56,
    "start_time": "2022-03-08T13:39:11.733Z"
   },
   {
    "duration": 20,
    "start_time": "2022-03-08T13:39:11.792Z"
   },
   {
    "duration": 284,
    "start_time": "2022-03-08T13:39:11.815Z"
   },
   {
    "duration": 105,
    "start_time": "2022-03-08T13:39:12.102Z"
   },
   {
    "duration": 72,
    "start_time": "2022-03-08T13:39:12.210Z"
   },
   {
    "duration": 71,
    "start_time": "2022-03-08T13:39:12.285Z"
   },
   {
    "duration": 43,
    "start_time": "2022-03-08T13:39:12.358Z"
   },
   {
    "duration": 28,
    "start_time": "2022-03-08T13:39:12.404Z"
   },
   {
    "duration": 23,
    "start_time": "2022-03-08T13:55:11.168Z"
   },
   {
    "duration": 22,
    "start_time": "2022-03-08T13:55:39.794Z"
   },
   {
    "duration": 29,
    "start_time": "2022-03-08T13:56:17.162Z"
   },
   {
    "duration": 24,
    "start_time": "2022-03-08T13:56:53.319Z"
   },
   {
    "duration": 23,
    "start_time": "2022-03-08T13:56:58.156Z"
   },
   {
    "duration": 30,
    "start_time": "2022-03-08T13:57:04.169Z"
   },
   {
    "duration": 32,
    "start_time": "2022-03-08T13:59:14.390Z"
   },
   {
    "duration": 25,
    "start_time": "2022-03-08T14:01:41.385Z"
   },
   {
    "duration": 440,
    "start_time": "2022-03-08T14:03:03.843Z"
   },
   {
    "duration": 23,
    "start_time": "2022-03-08T14:04:18.256Z"
   },
   {
    "duration": 31,
    "start_time": "2022-03-08T14:14:00.394Z"
   },
   {
    "duration": 27,
    "start_time": "2022-03-08T14:14:58.626Z"
   },
   {
    "duration": 36,
    "start_time": "2022-03-08T14:15:48.388Z"
   },
   {
    "duration": 38,
    "start_time": "2022-03-08T14:16:21.971Z"
   },
   {
    "duration": 39,
    "start_time": "2022-03-08T14:16:31.984Z"
   },
   {
    "duration": 36,
    "start_time": "2022-03-08T14:16:48.407Z"
   },
   {
    "duration": 44,
    "start_time": "2022-03-08T14:16:55.808Z"
   },
   {
    "duration": 53,
    "start_time": "2022-03-08T14:18:25.544Z"
   },
   {
    "duration": 49,
    "start_time": "2022-03-08T14:18:45.914Z"
   },
   {
    "duration": 51,
    "start_time": "2022-03-08T14:19:09.092Z"
   },
   {
    "duration": 47,
    "start_time": "2022-03-08T14:19:37.779Z"
   },
   {
    "duration": 52,
    "start_time": "2022-03-08T14:20:11.537Z"
   },
   {
    "duration": 45,
    "start_time": "2022-03-08T14:21:07.769Z"
   },
   {
    "duration": 41,
    "start_time": "2022-03-08T14:21:17.444Z"
   },
   {
    "duration": 339,
    "start_time": "2022-03-08T14:22:42.322Z"
   },
   {
    "duration": 16,
    "start_time": "2022-03-08T14:22:46.400Z"
   },
   {
    "duration": 41,
    "start_time": "2022-03-08T14:30:30.184Z"
   },
   {
    "duration": 41,
    "start_time": "2022-03-08T14:31:56.449Z"
   },
   {
    "duration": 43,
    "start_time": "2022-03-08T14:33:20.906Z"
   },
   {
    "duration": 45,
    "start_time": "2022-03-08T14:37:55.003Z"
   },
   {
    "duration": 45,
    "start_time": "2022-03-08T14:38:32.648Z"
   },
   {
    "duration": 48,
    "start_time": "2022-03-08T14:39:09.272Z"
   },
   {
    "duration": 51,
    "start_time": "2022-03-08T14:40:11.352Z"
   },
   {
    "duration": 50,
    "start_time": "2022-03-08T14:40:33.549Z"
   },
   {
    "duration": 53,
    "start_time": "2022-03-08T14:41:00.096Z"
   },
   {
    "duration": 50,
    "start_time": "2022-03-08T14:41:38.817Z"
   },
   {
    "duration": 43,
    "start_time": "2022-03-08T14:42:01.055Z"
   },
   {
    "duration": 11,
    "start_time": "2022-03-08T14:42:22.608Z"
   },
   {
    "duration": 385,
    "start_time": "2022-03-08T14:43:12.950Z"
   },
   {
    "duration": 81,
    "start_time": "2022-03-08T14:43:17.107Z"
   },
   {
    "duration": 72,
    "start_time": "2022-03-08T14:44:10.756Z"
   },
   {
    "duration": 69,
    "start_time": "2022-03-08T14:44:22.225Z"
   },
   {
    "duration": 35,
    "start_time": "2022-03-08T14:50:30.542Z"
   },
   {
    "duration": 38,
    "start_time": "2022-03-08T14:50:54.713Z"
   },
   {
    "duration": 40,
    "start_time": "2022-03-08T14:51:38.174Z"
   },
   {
    "duration": 34,
    "start_time": "2022-03-08T14:52:36.975Z"
   },
   {
    "duration": 35,
    "start_time": "2022-03-08T14:53:57.652Z"
   },
   {
    "duration": 41,
    "start_time": "2022-03-08T14:54:37.160Z"
   },
   {
    "duration": 336,
    "start_time": "2022-03-08T14:55:02.296Z"
   },
   {
    "duration": 41,
    "start_time": "2022-03-08T14:55:17.767Z"
   },
   {
    "duration": 64,
    "start_time": "2022-03-08T14:57:07.736Z"
   },
   {
    "duration": 302,
    "start_time": "2022-03-08T14:57:17.073Z"
   },
   {
    "duration": 277,
    "start_time": "2022-03-08T14:57:20.358Z"
   },
   {
    "duration": 40,
    "start_time": "2022-03-08T14:57:24.779Z"
   },
   {
    "duration": 34,
    "start_time": "2022-03-08T14:58:03.390Z"
   },
   {
    "duration": 35,
    "start_time": "2022-03-08T14:58:50.131Z"
   },
   {
    "duration": 42,
    "start_time": "2022-03-08T14:58:58.920Z"
   },
   {
    "duration": 429,
    "start_time": "2022-03-08T15:04:39.935Z"
   },
   {
    "duration": 91,
    "start_time": "2022-03-08T15:04:48.157Z"
   },
   {
    "duration": 13,
    "start_time": "2022-03-08T15:06:40.089Z"
   },
   {
    "duration": 13,
    "start_time": "2022-03-08T15:07:11.360Z"
   },
   {
    "duration": 13,
    "start_time": "2022-03-08T15:07:31.690Z"
   },
   {
    "duration": 13,
    "start_time": "2022-03-08T15:07:39.913Z"
   },
   {
    "duration": 12,
    "start_time": "2022-03-08T15:07:49.878Z"
   },
   {
    "duration": 16,
    "start_time": "2022-03-08T15:07:55.042Z"
   },
   {
    "duration": 13,
    "start_time": "2022-03-08T15:08:05.086Z"
   },
   {
    "duration": 13,
    "start_time": "2022-03-08T15:08:23.242Z"
   },
   {
    "duration": 18,
    "start_time": "2022-03-08T15:08:36.664Z"
   },
   {
    "duration": 18,
    "start_time": "2022-03-08T15:08:49.606Z"
   },
   {
    "duration": 15,
    "start_time": "2022-03-08T15:09:16.042Z"
   },
   {
    "duration": 21,
    "start_time": "2022-03-08T15:09:24.981Z"
   },
   {
    "duration": 42,
    "start_time": "2022-03-08T15:11:06.740Z"
   },
   {
    "duration": 41,
    "start_time": "2022-03-08T15:12:27.499Z"
   },
   {
    "duration": 96,
    "start_time": "2022-03-08T15:16:54.733Z"
   },
   {
    "duration": 105,
    "start_time": "2022-03-08T15:18:23.746Z"
   },
   {
    "duration": 33,
    "start_time": "2022-03-08T15:19:04.742Z"
   },
   {
    "duration": 104,
    "start_time": "2022-03-08T15:52:17.830Z"
   },
   {
    "duration": 8,
    "start_time": "2022-03-08T15:52:37.922Z"
   },
   {
    "duration": 752,
    "start_time": "2022-03-08T15:54:08.340Z"
   },
   {
    "duration": 8,
    "start_time": "2022-03-08T15:58:38.210Z"
   },
   {
    "duration": 613,
    "start_time": "2022-03-08T15:58:39.876Z"
   },
   {
    "duration": 623,
    "start_time": "2022-03-08T15:58:58.721Z"
   },
   {
    "duration": 602,
    "start_time": "2022-03-08T16:00:56.903Z"
   },
   {
    "duration": 83,
    "start_time": "2022-03-08T16:01:17.075Z"
   },
   {
    "duration": 858,
    "start_time": "2022-03-08T16:01:21.812Z"
   },
   {
    "duration": 798,
    "start_time": "2022-03-08T16:01:47.803Z"
   },
   {
    "duration": 607,
    "start_time": "2022-03-08T16:01:55.098Z"
   },
   {
    "duration": 624,
    "start_time": "2022-03-08T16:02:11.347Z"
   },
   {
    "duration": 622,
    "start_time": "2022-03-08T16:02:22.980Z"
   },
   {
    "duration": 1162,
    "start_time": "2022-03-08T16:06:20.908Z"
   },
   {
    "duration": 1137,
    "start_time": "2022-03-08T16:06:28.808Z"
   },
   {
    "duration": 1132,
    "start_time": "2022-03-08T16:10:21.586Z"
   },
   {
    "duration": 2320,
    "start_time": "2022-03-08T16:11:11.984Z"
   },
   {
    "duration": 1308,
    "start_time": "2022-03-08T16:11:27.648Z"
   },
   {
    "duration": 1323,
    "start_time": "2022-03-08T16:15:07.801Z"
   },
   {
    "duration": 1619,
    "start_time": "2022-03-08T16:17:41.985Z"
   },
   {
    "duration": 65,
    "start_time": "2022-03-08T17:00:49.284Z"
   },
   {
    "duration": 25,
    "start_time": "2022-03-08T17:01:12.112Z"
   },
   {
    "duration": 41,
    "start_time": "2022-03-08T17:01:23.971Z"
   },
   {
    "duration": 60,
    "start_time": "2022-03-08T17:01:57.891Z"
   },
   {
    "duration": 40,
    "start_time": "2022-03-08T17:02:09.907Z"
   },
   {
    "duration": 242,
    "start_time": "2022-03-08T17:02:22.413Z"
   },
   {
    "duration": 241,
    "start_time": "2022-03-08T17:02:34.144Z"
   },
   {
    "duration": 40,
    "start_time": "2022-03-08T17:02:38.714Z"
   },
   {
    "duration": 82,
    "start_time": "2022-03-08T17:02:46.550Z"
   },
   {
    "duration": 128,
    "start_time": "2022-03-08T17:02:54.280Z"
   },
   {
    "duration": 40,
    "start_time": "2022-03-08T17:03:02.880Z"
   },
   {
    "duration": 18,
    "start_time": "2022-03-08T17:03:08.127Z"
   },
   {
    "duration": 41,
    "start_time": "2022-03-08T17:03:18.371Z"
   },
   {
    "duration": 39,
    "start_time": "2022-03-08T17:03:54.258Z"
   },
   {
    "duration": 90,
    "start_time": "2022-03-08T17:24:56.609Z"
   },
   {
    "duration": 260,
    "start_time": "2022-03-08T17:25:00.091Z"
   },
   {
    "duration": 9,
    "start_time": "2022-03-08T17:25:29.556Z"
   },
   {
    "duration": 11,
    "start_time": "2022-03-08T17:31:49.646Z"
   },
   {
    "duration": 35,
    "start_time": "2022-03-08T17:31:54.772Z"
   },
   {
    "duration": 33,
    "start_time": "2022-03-08T17:32:03.346Z"
   },
   {
    "duration": 13,
    "start_time": "2022-03-08T17:32:11.455Z"
   },
   {
    "duration": 478,
    "start_time": "2022-03-08T17:33:19.913Z"
   },
   {
    "duration": 49648,
    "start_time": "2022-03-08T17:35:29.333Z"
   },
   {
    "duration": 1279,
    "start_time": "2022-03-08T17:38:52.566Z"
   },
   {
    "duration": 4,
    "start_time": "2022-03-08T17:38:53.849Z"
   },
   {
    "duration": 9,
    "start_time": "2022-03-08T17:38:53.856Z"
   },
   {
    "duration": 375,
    "start_time": "2022-03-08T17:38:53.867Z"
   },
   {
    "duration": 305,
    "start_time": "2022-03-08T17:38:54.244Z"
   },
   {
    "duration": 237,
    "start_time": "2022-03-08T17:38:54.552Z"
   },
   {
    "duration": 46,
    "start_time": "2022-03-08T17:38:54.792Z"
   },
   {
    "duration": 63,
    "start_time": "2022-03-08T17:38:54.841Z"
   },
   {
    "duration": 56,
    "start_time": "2022-03-08T17:38:54.906Z"
   },
   {
    "duration": 68,
    "start_time": "2022-03-08T17:38:54.965Z"
   },
   {
    "duration": 49,
    "start_time": "2022-03-08T17:38:55.035Z"
   },
   {
    "duration": 15,
    "start_time": "2022-03-08T17:38:55.087Z"
   },
   {
    "duration": 221,
    "start_time": "2022-03-08T17:38:55.104Z"
   },
   {
    "duration": 94,
    "start_time": "2022-03-08T17:38:55.327Z"
   },
   {
    "duration": 60,
    "start_time": "2022-03-08T17:38:55.423Z"
   },
   {
    "duration": 61,
    "start_time": "2022-03-08T17:38:55.486Z"
   },
   {
    "duration": 45,
    "start_time": "2022-03-08T17:38:55.550Z"
   },
   {
    "duration": 25,
    "start_time": "2022-03-08T17:38:55.597Z"
   },
   {
    "duration": 28,
    "start_time": "2022-03-08T17:38:55.624Z"
   },
   {
    "duration": 56,
    "start_time": "2022-03-08T17:38:55.654Z"
   },
   {
    "duration": 39,
    "start_time": "2022-03-08T17:38:55.712Z"
   },
   {
    "duration": 118,
    "start_time": "2022-03-08T17:38:55.753Z"
   },
   {
    "duration": 23,
    "start_time": "2022-03-08T17:38:55.875Z"
   },
   {
    "duration": 39,
    "start_time": "2022-03-08T17:38:55.901Z"
   },
   {
    "duration": 11,
    "start_time": "2022-03-08T17:38:55.942Z"
   },
   {
    "duration": 117,
    "start_time": "2022-03-08T17:38:55.955Z"
   },
   {
    "duration": -2889,
    "start_time": "2022-03-08T17:38:58.964Z"
   },
   {
    "duration": -2888,
    "start_time": "2022-03-08T17:38:58.965Z"
   },
   {
    "duration": -2891,
    "start_time": "2022-03-08T17:38:58.969Z"
   },
   {
    "duration": -2892,
    "start_time": "2022-03-08T17:38:58.971Z"
   },
   {
    "duration": -2892,
    "start_time": "2022-03-08T17:38:58.973Z"
   },
   {
    "duration": -2893,
    "start_time": "2022-03-08T17:38:58.975Z"
   },
   {
    "duration": -2897,
    "start_time": "2022-03-08T17:38:58.981Z"
   },
   {
    "duration": -2897,
    "start_time": "2022-03-08T17:38:58.983Z"
   },
   {
    "duration": 82,
    "start_time": "2022-03-08T17:41:13.671Z"
   },
   {
    "duration": 330,
    "start_time": "2022-03-08T17:41:36.123Z"
   },
   {
    "duration": 8,
    "start_time": "2022-03-08T17:41:54.875Z"
   },
   {
    "duration": 1250,
    "start_time": "2022-03-08T17:41:56.548Z"
   },
   {
    "duration": 9,
    "start_time": "2022-03-08T17:42:01.538Z"
   },
   {
    "duration": 264,
    "start_time": "2022-03-08T17:42:03.096Z"
   },
   {
    "duration": 261,
    "start_time": "2022-03-08T17:43:20.705Z"
   },
   {
    "duration": 1354,
    "start_time": "2022-03-08T17:43:39.444Z"
   },
   {
    "duration": 4,
    "start_time": "2022-03-08T17:43:40.801Z"
   },
   {
    "duration": 5,
    "start_time": "2022-03-08T17:43:40.809Z"
   },
   {
    "duration": 387,
    "start_time": "2022-03-08T17:43:40.817Z"
   },
   {
    "duration": 291,
    "start_time": "2022-03-08T17:43:41.206Z"
   },
   {
    "duration": 235,
    "start_time": "2022-03-08T17:43:41.500Z"
   },
   {
    "duration": 66,
    "start_time": "2022-03-08T17:43:41.737Z"
   },
   {
    "duration": 37,
    "start_time": "2022-03-08T17:43:41.806Z"
   },
   {
    "duration": 88,
    "start_time": "2022-03-08T17:43:41.849Z"
   },
   {
    "duration": 72,
    "start_time": "2022-03-08T17:43:41.941Z"
   },
   {
    "duration": 34,
    "start_time": "2022-03-08T17:43:42.015Z"
   },
   {
    "duration": 35,
    "start_time": "2022-03-08T17:43:42.051Z"
   },
   {
    "duration": 221,
    "start_time": "2022-03-08T17:43:42.088Z"
   },
   {
    "duration": 100,
    "start_time": "2022-03-08T17:43:42.311Z"
   },
   {
    "duration": 53,
    "start_time": "2022-03-08T17:43:42.414Z"
   },
   {
    "duration": 70,
    "start_time": "2022-03-08T17:43:42.469Z"
   },
   {
    "duration": 46,
    "start_time": "2022-03-08T17:43:42.542Z"
   },
   {
    "duration": 24,
    "start_time": "2022-03-08T17:43:42.591Z"
   },
   {
    "duration": 49,
    "start_time": "2022-03-08T17:43:42.618Z"
   },
   {
    "duration": 40,
    "start_time": "2022-03-08T17:43:42.670Z"
   },
   {
    "duration": 38,
    "start_time": "2022-03-08T17:43:42.713Z"
   },
   {
    "duration": 117,
    "start_time": "2022-03-08T17:43:42.754Z"
   },
   {
    "duration": 19,
    "start_time": "2022-03-08T17:43:42.881Z"
   },
   {
    "duration": 45,
    "start_time": "2022-03-08T17:43:42.903Z"
   },
   {
    "duration": 19,
    "start_time": "2022-03-08T17:43:42.951Z"
   },
   {
    "duration": 25,
    "start_time": "2022-03-08T17:43:42.983Z"
   },
   {
    "duration": 1329,
    "start_time": "2022-03-08T17:43:43.013Z"
   },
   {
    "duration": 9,
    "start_time": "2022-03-08T17:43:44.344Z"
   },
   {
    "duration": 362,
    "start_time": "2022-03-08T17:43:44.355Z"
   },
   {
    "duration": -2911,
    "start_time": "2022-03-08T17:43:47.630Z"
   },
   {
    "duration": -2919,
    "start_time": "2022-03-08T17:43:47.640Z"
   },
   {
    "duration": -2921,
    "start_time": "2022-03-08T17:43:47.643Z"
   },
   {
    "duration": -2922,
    "start_time": "2022-03-08T17:43:47.646Z"
   },
   {
    "duration": 272,
    "start_time": "2022-03-08T17:45:11.056Z"
   },
   {
    "duration": 40,
    "start_time": "2022-03-08T17:45:18.290Z"
   },
   {
    "duration": 42,
    "start_time": "2022-03-08T17:45:35.163Z"
   },
   {
    "duration": 41,
    "start_time": "2022-03-08T17:46:05.279Z"
   },
   {
    "duration": 34,
    "start_time": "2022-03-08T17:46:55.809Z"
   },
   {
    "duration": 37,
    "start_time": "2022-03-08T17:49:44.812Z"
   },
   {
    "duration": 39,
    "start_time": "2022-03-08T17:52:06.193Z"
   },
   {
    "duration": 31,
    "start_time": "2022-03-08T17:53:14.444Z"
   },
   {
    "duration": 41,
    "start_time": "2022-03-08T17:53:19.654Z"
   },
   {
    "duration": 47,
    "start_time": "2022-03-08T17:54:33.509Z"
   },
   {
    "duration": 1357,
    "start_time": "2022-03-08T17:55:07.277Z"
   },
   {
    "duration": 5,
    "start_time": "2022-03-08T17:55:08.637Z"
   },
   {
    "duration": 12,
    "start_time": "2022-03-08T17:55:08.645Z"
   },
   {
    "duration": 381,
    "start_time": "2022-03-08T17:55:08.660Z"
   },
   {
    "duration": 311,
    "start_time": "2022-03-08T17:55:09.044Z"
   },
   {
    "duration": 272,
    "start_time": "2022-03-08T17:55:09.357Z"
   },
   {
    "duration": 62,
    "start_time": "2022-03-08T17:55:09.631Z"
   },
   {
    "duration": 39,
    "start_time": "2022-03-08T17:55:09.699Z"
   },
   {
    "duration": 85,
    "start_time": "2022-03-08T17:55:09.742Z"
   },
   {
    "duration": 72,
    "start_time": "2022-03-08T17:55:09.830Z"
   },
   {
    "duration": 36,
    "start_time": "2022-03-08T17:55:09.905Z"
   },
   {
    "duration": 40,
    "start_time": "2022-03-08T17:55:09.943Z"
   },
   {
    "duration": 237,
    "start_time": "2022-03-08T17:55:09.985Z"
   },
   {
    "duration": 103,
    "start_time": "2022-03-08T17:55:10.224Z"
   },
   {
    "duration": 54,
    "start_time": "2022-03-08T17:55:10.329Z"
   },
   {
    "duration": 64,
    "start_time": "2022-03-08T17:55:10.386Z"
   },
   {
    "duration": 31,
    "start_time": "2022-03-08T17:55:10.452Z"
   },
   {
    "duration": 18,
    "start_time": "2022-03-08T17:55:10.486Z"
   },
   {
    "duration": 33,
    "start_time": "2022-03-08T17:55:10.507Z"
   },
   {
    "duration": 40,
    "start_time": "2022-03-08T17:55:10.542Z"
   },
   {
    "duration": 53,
    "start_time": "2022-03-08T17:55:10.585Z"
   },
   {
    "duration": 94,
    "start_time": "2022-03-08T17:55:10.640Z"
   },
   {
    "duration": 18,
    "start_time": "2022-03-08T17:55:10.739Z"
   },
   {
    "duration": 39,
    "start_time": "2022-03-08T17:55:10.759Z"
   },
   {
    "duration": 11,
    "start_time": "2022-03-08T17:55:10.800Z"
   },
   {
    "duration": 9,
    "start_time": "2022-03-08T17:55:10.814Z"
   },
   {
    "duration": 1483,
    "start_time": "2022-03-08T17:55:10.825Z"
   },
   {
    "duration": 8,
    "start_time": "2022-03-08T17:55:12.311Z"
   },
   {
    "duration": 36,
    "start_time": "2022-03-08T17:55:12.321Z"
   },
   {
    "duration": 30,
    "start_time": "2022-03-08T17:55:12.360Z"
   },
   {
    "duration": 32,
    "start_time": "2022-03-08T17:55:12.392Z"
   },
   {
    "duration": 64,
    "start_time": "2022-03-08T17:55:12.426Z"
   },
   {
    "duration": 52067,
    "start_time": "2022-03-08T17:55:12.493Z"
   },
   {
    "duration": 45,
    "start_time": "2022-03-08T17:56:49.035Z"
   },
   {
    "duration": 421,
    "start_time": "2022-03-08T17:58:18.499Z"
   },
   {
    "duration": 343,
    "start_time": "2022-03-08T17:58:26.104Z"
   },
   {
    "duration": 1456,
    "start_time": "2022-03-08T17:58:46.728Z"
   },
   {
    "duration": 7,
    "start_time": "2022-03-08T17:58:48.187Z"
   },
   {
    "duration": 7,
    "start_time": "2022-03-08T17:58:48.198Z"
   },
   {
    "duration": 421,
    "start_time": "2022-03-08T17:58:48.208Z"
   },
   {
    "duration": 310,
    "start_time": "2022-03-08T17:58:48.632Z"
   },
   {
    "duration": 253,
    "start_time": "2022-03-08T17:58:48.946Z"
   },
   {
    "duration": 50,
    "start_time": "2022-03-08T17:58:49.202Z"
   },
   {
    "duration": 58,
    "start_time": "2022-03-08T17:58:49.255Z"
   },
   {
    "duration": 136,
    "start_time": "2022-03-08T17:58:49.316Z"
   },
   {
    "duration": 95,
    "start_time": "2022-03-08T17:58:49.456Z"
   },
   {
    "duration": 65,
    "start_time": "2022-03-08T17:58:49.554Z"
   },
   {
    "duration": 21,
    "start_time": "2022-03-08T17:58:49.622Z"
   },
   {
    "duration": 316,
    "start_time": "2022-03-08T17:58:49.647Z"
   },
   {
    "duration": 128,
    "start_time": "2022-03-08T17:58:49.966Z"
   },
   {
    "duration": 87,
    "start_time": "2022-03-08T17:58:50.098Z"
   },
   {
    "duration": 72,
    "start_time": "2022-03-08T17:58:50.187Z"
   },
   {
    "duration": 44,
    "start_time": "2022-03-08T17:58:50.262Z"
   },
   {
    "duration": 19,
    "start_time": "2022-03-08T17:58:50.311Z"
   },
   {
    "duration": 69,
    "start_time": "2022-03-08T17:58:50.333Z"
   },
   {
    "duration": 34,
    "start_time": "2022-03-08T17:58:50.405Z"
   },
   {
    "duration": 72,
    "start_time": "2022-03-08T17:58:50.441Z"
   },
   {
    "duration": 14,
    "start_time": "2022-03-08T17:58:50.516Z"
   },
   {
    "duration": 10,
    "start_time": "2022-03-08T17:58:50.533Z"
   },
   {
    "duration": 1460,
    "start_time": "2022-03-08T17:58:50.546Z"
   },
   {
    "duration": 10,
    "start_time": "2022-03-08T17:58:52.009Z"
   },
   {
    "duration": 24,
    "start_time": "2022-03-08T17:58:52.022Z"
   },
   {
    "duration": 13,
    "start_time": "2022-03-08T17:58:52.048Z"
   },
   {
    "duration": 53,
    "start_time": "2022-03-08T17:58:52.064Z"
   },
   {
    "duration": 61,
    "start_time": "2022-03-08T17:58:52.120Z"
   },
   {
    "duration": 53287,
    "start_time": "2022-03-08T17:58:52.184Z"
   },
   {
    "duration": 32,
    "start_time": "2022-03-08T17:59:45.474Z"
   },
   {
    "duration": 52266,
    "start_time": "2022-03-08T18:01:58.399Z"
   },
   {
    "duration": 10,
    "start_time": "2022-03-08T18:05:29.271Z"
   },
   {
    "duration": 795,
    "start_time": "2022-03-08T18:05:35.404Z"
   },
   {
    "duration": 473,
    "start_time": "2022-03-08T18:05:36.202Z"
   },
   {
    "duration": 4,
    "start_time": "2022-03-08T18:05:36.678Z"
   },
   {
    "duration": 8,
    "start_time": "2022-03-08T18:05:36.684Z"
   },
   {
    "duration": 393,
    "start_time": "2022-03-08T18:05:36.694Z"
   },
   {
    "duration": 299,
    "start_time": "2022-03-08T18:05:37.090Z"
   },
   {
    "duration": 235,
    "start_time": "2022-03-08T18:05:37.392Z"
   },
   {
    "duration": 70,
    "start_time": "2022-03-08T18:05:37.631Z"
   },
   {
    "duration": 38,
    "start_time": "2022-03-08T18:05:37.704Z"
   },
   {
    "duration": 81,
    "start_time": "2022-03-08T18:05:37.745Z"
   },
   {
    "duration": 66,
    "start_time": "2022-03-08T18:05:37.829Z"
   },
   {
    "duration": 36,
    "start_time": "2022-03-08T18:05:37.898Z"
   },
   {
    "duration": 14,
    "start_time": "2022-03-08T18:05:37.937Z"
   },
   {
    "duration": 247,
    "start_time": "2022-03-08T18:05:37.954Z"
   },
   {
    "duration": 93,
    "start_time": "2022-03-08T18:05:38.203Z"
   },
   {
    "duration": 55,
    "start_time": "2022-03-08T18:05:38.299Z"
   },
   {
    "duration": 82,
    "start_time": "2022-03-08T18:05:38.356Z"
   },
   {
    "duration": 48,
    "start_time": "2022-03-08T18:05:38.441Z"
   },
   {
    "duration": 19,
    "start_time": "2022-03-08T18:05:38.493Z"
   },
   {
    "duration": 30,
    "start_time": "2022-03-08T18:05:38.516Z"
   },
   {
    "duration": 59,
    "start_time": "2022-03-08T18:05:38.549Z"
   },
   {
    "duration": 41,
    "start_time": "2022-03-08T18:05:38.610Z"
   },
   {
    "duration": 11,
    "start_time": "2022-03-08T18:05:38.683Z"
   },
   {
    "duration": 8,
    "start_time": "2022-03-08T18:05:38.697Z"
   },
   {
    "duration": 1240,
    "start_time": "2022-03-08T18:05:38.708Z"
   },
   {
    "duration": 39,
    "start_time": "2022-03-08T18:05:39.951Z"
   },
   {
    "duration": 12,
    "start_time": "2022-03-08T18:05:39.992Z"
   },
   {
    "duration": 38,
    "start_time": "2022-03-08T18:05:40.006Z"
   },
   {
    "duration": 54,
    "start_time": "2022-03-08T18:05:40.047Z"
   },
   {
    "duration": 51646,
    "start_time": "2022-03-08T18:05:40.103Z"
   },
   {
    "duration": 4,
    "start_time": "2022-03-08T18:07:51.744Z"
   },
   {
    "duration": 772,
    "start_time": "2022-03-08T18:07:56.932Z"
   },
   {
    "duration": 477,
    "start_time": "2022-03-08T18:07:57.707Z"
   },
   {
    "duration": 4,
    "start_time": "2022-03-08T18:07:58.187Z"
   },
   {
    "duration": 14,
    "start_time": "2022-03-08T18:07:58.193Z"
   },
   {
    "duration": 373,
    "start_time": "2022-03-08T18:07:58.209Z"
   },
   {
    "duration": 323,
    "start_time": "2022-03-08T18:07:58.584Z"
   },
   {
    "duration": 235,
    "start_time": "2022-03-08T18:07:58.910Z"
   },
   {
    "duration": 63,
    "start_time": "2022-03-08T18:07:59.149Z"
   },
   {
    "duration": 37,
    "start_time": "2022-03-08T18:07:59.215Z"
   },
   {
    "duration": 84,
    "start_time": "2022-03-08T18:07:59.255Z"
   },
   {
    "duration": 74,
    "start_time": "2022-03-08T18:07:59.341Z"
   },
   {
    "duration": 35,
    "start_time": "2022-03-08T18:07:59.418Z"
   },
   {
    "duration": 33,
    "start_time": "2022-03-08T18:07:59.455Z"
   },
   {
    "duration": 234,
    "start_time": "2022-03-08T18:07:59.490Z"
   },
   {
    "duration": 100,
    "start_time": "2022-03-08T18:07:59.727Z"
   },
   {
    "duration": 61,
    "start_time": "2022-03-08T18:07:59.830Z"
   },
   {
    "duration": 61,
    "start_time": "2022-03-08T18:07:59.894Z"
   },
   {
    "duration": 44,
    "start_time": "2022-03-08T18:07:59.957Z"
   },
   {
    "duration": 19,
    "start_time": "2022-03-08T18:08:00.003Z"
   },
   {
    "duration": 36,
    "start_time": "2022-03-08T18:08:00.024Z"
   },
   {
    "duration": 31,
    "start_time": "2022-03-08T18:08:00.082Z"
   },
   {
    "duration": 68,
    "start_time": "2022-03-08T18:08:00.116Z"
   },
   {
    "duration": 11,
    "start_time": "2022-03-08T18:08:00.188Z"
   },
   {
    "duration": 16,
    "start_time": "2022-03-08T18:08:00.202Z"
   },
   {
    "duration": 1301,
    "start_time": "2022-03-08T18:08:00.221Z"
   },
   {
    "duration": 28,
    "start_time": "2022-03-08T18:08:01.525Z"
   },
   {
    "duration": 33,
    "start_time": "2022-03-08T18:08:01.556Z"
   },
   {
    "duration": 34,
    "start_time": "2022-03-08T18:08:01.591Z"
   },
   {
    "duration": 57,
    "start_time": "2022-03-08T18:08:01.627Z"
   },
   {
    "duration": 51165,
    "start_time": "2022-03-08T18:08:01.687Z"
   },
   {
    "duration": 96,
    "start_time": "2022-03-08T18:10:15.855Z"
   },
   {
    "duration": 96,
    "start_time": "2022-03-08T18:12:00.505Z"
   },
   {
    "duration": 216,
    "start_time": "2022-03-08T18:12:16.334Z"
   },
   {
    "duration": 38946,
    "start_time": "2022-03-08T18:13:29.369Z"
   },
   {
    "duration": 90,
    "start_time": "2022-03-08T18:15:15.611Z"
   },
   {
    "duration": 376,
    "start_time": "2022-03-08T18:15:26.751Z"
   },
   {
    "duration": 12,
    "start_time": "2022-03-08T18:16:42.380Z"
   },
   {
    "duration": 24,
    "start_time": "2022-03-08T18:16:49.286Z"
   },
   {
    "duration": 15,
    "start_time": "2022-03-08T18:16:51.356Z"
   },
   {
    "duration": 3169,
    "start_time": "2022-03-08T18:17:05.678Z"
   },
   {
    "duration": 363,
    "start_time": "2022-03-08T18:33:51.410Z"
   },
   {
    "duration": 933,
    "start_time": "2022-03-08T18:34:16.571Z"
   },
   {
    "duration": 882,
    "start_time": "2022-03-08T18:34:42.266Z"
   },
   {
    "duration": 827,
    "start_time": "2022-03-08T18:35:18.396Z"
   },
   {
    "duration": 812,
    "start_time": "2022-03-08T18:35:36.240Z"
   },
   {
    "duration": 35,
    "start_time": "2022-03-08T18:40:25.073Z"
   },
   {
    "duration": 234,
    "start_time": "2022-03-08T18:40:44.012Z"
   },
   {
    "duration": 16,
    "start_time": "2022-03-08T18:41:28.886Z"
   },
   {
    "duration": 17,
    "start_time": "2022-03-08T18:41:44.079Z"
   },
   {
    "duration": 15,
    "start_time": "2022-03-08T18:41:46.457Z"
   },
   {
    "duration": 823,
    "start_time": "2022-03-08T18:49:44.421Z"
   },
   {
    "duration": 717,
    "start_time": "2022-03-08T18:50:07.226Z"
   },
   {
    "duration": 776,
    "start_time": "2022-03-08T18:50:27.806Z"
   },
   {
    "duration": 2258,
    "start_time": "2022-03-08T18:50:34.940Z"
   },
   {
    "duration": 2313,
    "start_time": "2022-03-08T18:50:59.018Z"
   },
   {
    "duration": 2246,
    "start_time": "2022-03-08T18:51:35.102Z"
   },
   {
    "duration": 2326,
    "start_time": "2022-03-08T18:52:35.828Z"
   },
   {
    "duration": 2390,
    "start_time": "2022-03-08T18:52:44.658Z"
   },
   {
    "duration": 2231,
    "start_time": "2022-03-08T18:53:18.060Z"
   },
   {
    "duration": 1903,
    "start_time": "2022-03-08T18:55:08.964Z"
   },
   {
    "duration": 912,
    "start_time": "2022-03-08T18:55:22.697Z"
   },
   {
    "duration": 486,
    "start_time": "2022-03-08T18:55:23.612Z"
   },
   {
    "duration": 5,
    "start_time": "2022-03-08T18:55:24.101Z"
   },
   {
    "duration": 10,
    "start_time": "2022-03-08T18:55:24.109Z"
   },
   {
    "duration": 389,
    "start_time": "2022-03-08T18:55:24.121Z"
   },
   {
    "duration": 309,
    "start_time": "2022-03-08T18:55:24.513Z"
   },
   {
    "duration": 236,
    "start_time": "2022-03-08T18:55:24.825Z"
   },
   {
    "duration": 60,
    "start_time": "2022-03-08T18:55:25.065Z"
   },
   {
    "duration": 61,
    "start_time": "2022-03-08T18:55:25.129Z"
   },
   {
    "duration": 103,
    "start_time": "2022-03-08T18:55:25.194Z"
   },
   {
    "duration": 96,
    "start_time": "2022-03-08T18:55:25.300Z"
   },
   {
    "duration": 56,
    "start_time": "2022-03-08T18:55:25.399Z"
   },
   {
    "duration": 42,
    "start_time": "2022-03-08T18:55:25.459Z"
   },
   {
    "duration": 322,
    "start_time": "2022-03-08T18:55:25.505Z"
   },
   {
    "duration": 129,
    "start_time": "2022-03-08T18:55:25.831Z"
   },
   {
    "duration": 65,
    "start_time": "2022-03-08T18:55:25.963Z"
   },
   {
    "duration": 85,
    "start_time": "2022-03-08T18:55:26.031Z"
   },
   {
    "duration": 27,
    "start_time": "2022-03-08T18:55:26.118Z"
   },
   {
    "duration": 40,
    "start_time": "2022-03-08T18:55:26.148Z"
   },
   {
    "duration": 30,
    "start_time": "2022-03-08T18:55:26.190Z"
   },
   {
    "duration": 27,
    "start_time": "2022-03-08T18:55:26.222Z"
   },
   {
    "duration": 68,
    "start_time": "2022-03-08T18:55:26.252Z"
   },
   {
    "duration": 16,
    "start_time": "2022-03-08T18:55:26.328Z"
   },
   {
    "duration": 36,
    "start_time": "2022-03-08T18:55:26.347Z"
   },
   {
    "duration": 1291,
    "start_time": "2022-03-08T18:55:26.386Z"
   },
   {
    "duration": 28,
    "start_time": "2022-03-08T18:55:27.683Z"
   },
   {
    "duration": 13,
    "start_time": "2022-03-08T18:55:27.714Z"
   },
   {
    "duration": 1958,
    "start_time": "2022-03-08T18:55:27.730Z"
   },
   {
    "duration": 941,
    "start_time": "2022-03-08T18:55:29.692Z"
   },
   {
    "duration": 28,
    "start_time": "2022-03-08T18:55:30.635Z"
   },
   {
    "duration": 25,
    "start_time": "2022-03-08T18:55:30.681Z"
   },
   {
    "duration": 2295,
    "start_time": "2022-03-08T18:55:30.709Z"
   },
   {
    "duration": 357,
    "start_time": "2022-03-08T19:24:26.691Z"
   },
   {
    "duration": 2871,
    "start_time": "2022-03-08T19:25:00.842Z"
   },
   {
    "duration": 2813,
    "start_time": "2022-03-08T19:25:15.781Z"
   },
   {
    "duration": 3518,
    "start_time": "2022-03-08T19:25:35.188Z"
   },
   {
    "duration": 2882,
    "start_time": "2022-03-08T19:25:44.484Z"
   },
   {
    "duration": 2756,
    "start_time": "2022-03-08T19:25:56.279Z"
   },
   {
    "duration": 2785,
    "start_time": "2022-03-08T19:27:00.156Z"
   },
   {
    "duration": 2836,
    "start_time": "2022-03-08T19:27:46.131Z"
   },
   {
    "duration": 2751,
    "start_time": "2022-03-08T19:29:01.431Z"
   },
   {
    "duration": 301,
    "start_time": "2022-03-08T20:02:00.898Z"
   },
   {
    "duration": 258,
    "start_time": "2022-03-08T20:05:51.983Z"
   },
   {
    "duration": 445,
    "start_time": "2022-03-08T20:06:46.128Z"
   },
   {
    "duration": 70,
    "start_time": "2022-03-08T20:07:09.552Z"
   },
   {
    "duration": 35,
    "start_time": "2022-03-08T20:24:02.192Z"
   },
   {
    "duration": 36,
    "start_time": "2022-03-08T20:24:27.665Z"
   },
   {
    "duration": 11,
    "start_time": "2022-03-08T20:25:47.781Z"
   },
   {
    "duration": 18,
    "start_time": "2022-03-08T20:25:53.355Z"
   },
   {
    "duration": 14,
    "start_time": "2022-03-08T20:26:53.088Z"
   },
   {
    "duration": 5,
    "start_time": "2022-03-08T20:28:43.568Z"
   },
   {
    "duration": 458,
    "start_time": "2022-03-08T20:29:45.118Z"
   },
   {
    "duration": 7,
    "start_time": "2022-03-08T20:31:31.268Z"
   },
   {
    "duration": 12,
    "start_time": "2022-03-08T20:39:50.050Z"
   },
   {
    "duration": 6,
    "start_time": "2022-03-08T20:39:59.201Z"
   },
   {
    "duration": 14,
    "start_time": "2022-03-08T20:40:05.187Z"
   },
   {
    "duration": 14,
    "start_time": "2022-03-08T20:40:06.559Z"
   },
   {
    "duration": 6,
    "start_time": "2022-03-08T20:40:23.382Z"
   },
   {
    "duration": 5,
    "start_time": "2022-03-08T20:40:44.504Z"
   },
   {
    "duration": 7,
    "start_time": "2022-03-08T20:41:50.600Z"
   },
   {
    "duration": 1333,
    "start_time": "2022-03-08T21:22:48.748Z"
   },
   {
    "duration": 514,
    "start_time": "2022-03-08T21:22:50.084Z"
   },
   {
    "duration": 5,
    "start_time": "2022-03-08T21:22:50.600Z"
   },
   {
    "duration": 12,
    "start_time": "2022-03-08T21:22:50.608Z"
   },
   {
    "duration": 375,
    "start_time": "2022-03-08T21:22:50.622Z"
   },
   {
    "duration": 311,
    "start_time": "2022-03-08T21:22:51.000Z"
   },
   {
    "duration": 233,
    "start_time": "2022-03-08T21:22:51.314Z"
   },
   {
    "duration": 63,
    "start_time": "2022-03-08T21:22:51.551Z"
   },
   {
    "duration": 38,
    "start_time": "2022-03-08T21:22:51.617Z"
   },
   {
    "duration": 59,
    "start_time": "2022-03-08T21:22:51.683Z"
   },
   {
    "duration": 66,
    "start_time": "2022-03-08T21:22:51.744Z"
   },
   {
    "duration": 33,
    "start_time": "2022-03-08T21:22:51.812Z"
   },
   {
    "duration": 41,
    "start_time": "2022-03-08T21:22:51.847Z"
   },
   {
    "duration": 222,
    "start_time": "2022-03-08T21:22:51.891Z"
   },
   {
    "duration": 109,
    "start_time": "2022-03-08T21:22:52.116Z"
   },
   {
    "duration": 61,
    "start_time": "2022-03-08T21:22:52.227Z"
   },
   {
    "duration": 61,
    "start_time": "2022-03-08T21:22:52.291Z"
   },
   {
    "duration": 42,
    "start_time": "2022-03-08T21:22:52.355Z"
   },
   {
    "duration": 18,
    "start_time": "2022-03-08T21:22:52.400Z"
   },
   {
    "duration": 65,
    "start_time": "2022-03-08T21:22:52.421Z"
   },
   {
    "duration": 30,
    "start_time": "2022-03-08T21:22:52.488Z"
   },
   {
    "duration": 62,
    "start_time": "2022-03-08T21:22:52.521Z"
   },
   {
    "duration": 11,
    "start_time": "2022-03-08T21:22:52.588Z"
   },
   {
    "duration": 8,
    "start_time": "2022-03-08T21:22:52.601Z"
   },
   {
    "duration": 1279,
    "start_time": "2022-03-08T21:22:52.612Z"
   },
   {
    "duration": 27,
    "start_time": "2022-03-08T21:22:53.893Z"
   },
   {
    "duration": 10,
    "start_time": "2022-03-08T21:22:53.923Z"
   },
   {
    "duration": 1778,
    "start_time": "2022-03-08T21:22:53.936Z"
   },
   {
    "duration": 900,
    "start_time": "2022-03-08T21:22:55.716Z"
   },
   {
    "duration": 26,
    "start_time": "2022-03-08T21:22:56.618Z"
   },
   {
    "duration": 11,
    "start_time": "2022-03-08T21:22:56.647Z"
   },
   {
    "duration": 2290,
    "start_time": "2022-03-08T21:22:56.682Z"
   },
   {
    "duration": 2970,
    "start_time": "2022-03-08T21:22:58.975Z"
   },
   {
    "duration": 81,
    "start_time": "2022-03-08T21:23:01.947Z"
   },
   {
    "duration": 57,
    "start_time": "2022-03-08T21:23:02.031Z"
   },
   {
    "duration": 12,
    "start_time": "2022-03-08T21:23:02.090Z"
   },
   {
    "duration": 7,
    "start_time": "2022-03-08T21:23:02.104Z"
   },
   {
    "duration": 16,
    "start_time": "2022-03-08T21:23:02.114Z"
   },
   {
    "duration": 20,
    "start_time": "2022-03-08T21:23:02.133Z"
   },
   {
    "duration": 7,
    "start_time": "2022-03-08T21:23:02.156Z"
   },
   {
    "duration": 30,
    "start_time": "2022-03-08T21:23:02.183Z"
   },
   {
    "duration": 1367,
    "start_time": "2022-03-17T11:00:28.429Z"
   },
   {
    "duration": 493,
    "start_time": "2022-03-17T11:00:29.799Z"
   },
   {
    "duration": 5,
    "start_time": "2022-03-17T11:00:30.294Z"
   },
   {
    "duration": 24,
    "start_time": "2022-03-17T11:00:30.302Z"
   },
   {
    "duration": 172,
    "start_time": "2022-03-17T11:00:30.328Z"
   },
   {
    "duration": 131,
    "start_time": "2022-03-17T11:00:30.502Z"
   },
   {
    "duration": 107,
    "start_time": "2022-03-17T11:00:30.635Z"
   },
   {
    "duration": 66,
    "start_time": "2022-03-17T11:00:30.744Z"
   },
   {
    "duration": 44,
    "start_time": "2022-03-17T11:00:30.812Z"
   },
   {
    "duration": 72,
    "start_time": "2022-03-17T11:00:30.876Z"
   },
   {
    "duration": 85,
    "start_time": "2022-03-17T11:00:30.950Z"
   },
   {
    "duration": 61,
    "start_time": "2022-03-17T11:00:31.037Z"
   },
   {
    "duration": 21,
    "start_time": "2022-03-17T11:00:31.100Z"
   },
   {
    "duration": 271,
    "start_time": "2022-03-17T11:00:31.123Z"
   },
   {
    "duration": 100,
    "start_time": "2022-03-17T11:00:31.397Z"
   },
   {
    "duration": 54,
    "start_time": "2022-03-17T11:00:31.500Z"
   },
   {
    "duration": 80,
    "start_time": "2022-03-17T11:00:31.556Z"
   },
   {
    "duration": 45,
    "start_time": "2022-03-17T11:00:31.638Z"
   },
   {
    "duration": 20,
    "start_time": "2022-03-17T11:00:31.688Z"
   },
   {
    "duration": 30,
    "start_time": "2022-03-17T11:00:31.710Z"
   },
   {
    "duration": 55,
    "start_time": "2022-03-17T11:00:31.743Z"
   },
   {
    "duration": 42,
    "start_time": "2022-03-17T11:00:31.800Z"
   },
   {
    "duration": 32,
    "start_time": "2022-03-17T11:00:31.844Z"
   },
   {
    "duration": 11,
    "start_time": "2022-03-17T11:00:31.878Z"
   },
   {
    "duration": 856,
    "start_time": "2022-03-17T11:00:31.892Z"
   },
   {
    "duration": 46,
    "start_time": "2022-03-17T11:00:32.750Z"
   },
   {
    "duration": 10,
    "start_time": "2022-03-17T11:00:32.798Z"
   },
   {
    "duration": 1560,
    "start_time": "2022-03-17T11:00:32.813Z"
   },
   {
    "duration": 857,
    "start_time": "2022-03-17T11:00:34.376Z"
   },
   {
    "duration": 44,
    "start_time": "2022-03-17T11:00:35.236Z"
   },
   {
    "duration": 12,
    "start_time": "2022-03-17T11:00:35.282Z"
   },
   {
    "duration": 1914,
    "start_time": "2022-03-17T11:00:35.296Z"
   },
   {
    "duration": 2224,
    "start_time": "2022-03-17T11:00:37.212Z"
   },
   {
    "duration": 63,
    "start_time": "2022-03-17T11:00:39.439Z"
   },
   {
    "duration": 38,
    "start_time": "2022-03-17T11:00:39.504Z"
   },
   {
    "duration": 37,
    "start_time": "2022-03-17T11:00:39.545Z"
   },
   {
    "duration": 8,
    "start_time": "2022-03-17T11:00:39.584Z"
   },
   {
    "duration": 8,
    "start_time": "2022-03-17T11:00:39.594Z"
   },
   {
    "duration": 12,
    "start_time": "2022-03-17T11:00:39.604Z"
   },
   {
    "duration": 6,
    "start_time": "2022-03-17T11:00:39.618Z"
   },
   {
    "duration": 50,
    "start_time": "2022-03-17T11:00:39.626Z"
   },
   {
    "duration": 5,
    "start_time": "2022-03-17T11:07:06.165Z"
   },
   {
    "duration": 6,
    "start_time": "2022-03-17T11:07:15.937Z"
   },
   {
    "duration": 6,
    "start_time": "2022-03-17T11:08:33.422Z"
   },
   {
    "duration": 6,
    "start_time": "2022-03-17T11:08:37.657Z"
   },
   {
    "duration": 6,
    "start_time": "2022-03-17T11:08:55.910Z"
   },
   {
    "duration": 6,
    "start_time": "2022-03-17T11:08:58.617Z"
   },
   {
    "duration": 7,
    "start_time": "2022-03-17T11:09:00.818Z"
   },
   {
    "duration": 5,
    "start_time": "2022-03-17T11:09:07.890Z"
   },
   {
    "duration": 5,
    "start_time": "2022-03-17T11:10:34.006Z"
   },
   {
    "duration": 6,
    "start_time": "2022-03-17T11:10:39.915Z"
   },
   {
    "duration": 6,
    "start_time": "2022-03-17T11:10:43.995Z"
   },
   {
    "duration": 6,
    "start_time": "2022-03-17T11:10:46.738Z"
   },
   {
    "duration": 1209,
    "start_time": "2022-03-17T18:45:53.163Z"
   },
   {
    "duration": 385,
    "start_time": "2022-03-17T18:45:54.374Z"
   },
   {
    "duration": 3,
    "start_time": "2022-03-17T18:45:54.761Z"
   },
   {
    "duration": 3,
    "start_time": "2022-03-17T18:45:56.518Z"
   },
   {
    "duration": 101,
    "start_time": "2022-03-17T18:45:58.708Z"
   },
   {
    "duration": 81,
    "start_time": "2022-03-17T18:46:02.719Z"
   },
   {
    "duration": 58,
    "start_time": "2022-03-17T18:46:05.391Z"
   },
   {
    "duration": 31,
    "start_time": "2022-03-17T18:46:07.522Z"
   },
   {
    "duration": 24,
    "start_time": "2022-03-17T18:46:09.267Z"
   },
   {
    "duration": 51,
    "start_time": "2022-03-17T18:46:15.935Z"
   },
   {
    "duration": 49,
    "start_time": "2022-03-17T18:46:17.478Z"
   },
   {
    "duration": 31,
    "start_time": "2022-03-17T18:46:22.834Z"
   },
   {
    "duration": 14,
    "start_time": "2022-03-17T18:47:04.921Z"
   },
   {
    "duration": 180,
    "start_time": "2022-03-17T18:47:06.539Z"
   },
   {
    "duration": 14,
    "start_time": "2022-03-17T18:47:54.778Z"
   },
   {
    "duration": 21,
    "start_time": "2022-03-17T18:48:23.223Z"
   },
   {
    "duration": 31,
    "start_time": "2022-03-17T18:48:32.292Z"
   },
   {
    "duration": 55,
    "start_time": "2022-03-17T18:50:44.248Z"
   },
   {
    "duration": 13,
    "start_time": "2022-03-17T18:51:15.700Z"
   },
   {
    "duration": 14,
    "start_time": "2022-03-17T18:52:52.601Z"
   },
   {
    "duration": 39,
    "start_time": "2022-03-17T18:54:57.157Z"
   },
   {
    "duration": 42,
    "start_time": "2022-03-17T18:54:58.071Z"
   },
   {
    "duration": 104,
    "start_time": "2022-03-17T18:55:35.099Z"
   },
   {
    "duration": 4,
    "start_time": "2022-03-17T18:56:01.970Z"
   },
   {
    "duration": 4,
    "start_time": "2022-03-17T18:57:00.042Z"
   },
   {
    "duration": 4,
    "start_time": "2022-03-17T18:57:07.481Z"
   },
   {
    "duration": 4,
    "start_time": "2022-03-17T18:57:59.117Z"
   },
   {
    "duration": 4,
    "start_time": "2022-03-17T18:58:12.354Z"
   },
   {
    "duration": 5,
    "start_time": "2022-03-17T18:58:37.212Z"
   },
   {
    "duration": 3,
    "start_time": "2022-03-17T19:00:32.092Z"
   },
   {
    "duration": 4,
    "start_time": "2022-03-17T19:00:43.313Z"
   },
   {
    "duration": 19,
    "start_time": "2022-03-17T19:01:18.960Z"
   },
   {
    "duration": 13,
    "start_time": "2022-03-17T19:01:47.062Z"
   },
   {
    "duration": 19,
    "start_time": "2022-03-17T19:01:49.631Z"
   },
   {
    "duration": 19,
    "start_time": "2022-03-17T19:01:51.246Z"
   },
   {
    "duration": 26,
    "start_time": "2022-03-17T19:01:52.652Z"
   },
   {
    "duration": 6,
    "start_time": "2022-03-17T19:02:57.508Z"
   },
   {
    "duration": 4,
    "start_time": "2022-03-17T19:03:02.388Z"
   },
   {
    "duration": 6,
    "start_time": "2022-03-17T19:03:46.239Z"
   },
   {
    "duration": 5,
    "start_time": "2022-03-17T19:04:18.762Z"
   },
   {
    "duration": 8,
    "start_time": "2022-03-17T19:04:41.563Z"
   },
   {
    "duration": 5,
    "start_time": "2022-03-17T19:04:44.254Z"
   },
   {
    "duration": 439,
    "start_time": "2022-03-17T19:05:22.989Z"
   },
   {
    "duration": 4,
    "start_time": "2022-03-17T19:10:34.001Z"
   },
   {
    "duration": 6,
    "start_time": "2022-03-17T19:11:07.422Z"
   },
   {
    "duration": 422,
    "start_time": "2022-03-17T19:12:21.717Z"
   },
   {
    "duration": 22,
    "start_time": "2022-03-17T19:16:48.097Z"
   },
   {
    "duration": 9,
    "start_time": "2022-03-17T19:16:50.942Z"
   },
   {
    "duration": 758,
    "start_time": "2022-03-17T19:16:53.247Z"
   },
   {
    "duration": 447,
    "start_time": "2022-03-17T19:17:47.252Z"
   },
   {
    "duration": 19,
    "start_time": "2022-03-17T19:17:52.992Z"
   },
   {
    "duration": 8,
    "start_time": "2022-03-17T19:17:57.224Z"
   },
   {
    "duration": 1428,
    "start_time": "2022-03-17T19:18:05.210Z"
   },
   {
    "duration": 1239,
    "start_time": "2022-03-17T19:18:43.362Z"
   },
   {
    "duration": 31,
    "start_time": "2022-03-17T19:21:35.928Z"
   },
   {
    "duration": 32,
    "start_time": "2022-03-17T19:27:41.403Z"
   },
   {
    "duration": 90,
    "start_time": "2022-03-17T19:32:49.972Z"
   },
   {
    "duration": 10,
    "start_time": "2022-03-17T19:33:21.590Z"
   },
   {
    "duration": 18,
    "start_time": "2022-03-17T19:33:40.057Z"
   },
   {
    "duration": 4,
    "start_time": "2022-03-17T19:36:49.215Z"
   },
   {
    "duration": 11,
    "start_time": "2022-03-17T19:36:55.756Z"
   },
   {
    "duration": 17,
    "start_time": "2022-03-17T19:42:08.742Z"
   },
   {
    "duration": 585,
    "start_time": "2022-03-17T19:48:43.181Z"
   },
   {
    "duration": 28,
    "start_time": "2022-03-17T19:49:07.576Z"
   },
   {
    "duration": 24,
    "start_time": "2022-03-17T19:50:04.294Z"
   },
   {
    "duration": 30,
    "start_time": "2022-03-17T19:50:38.613Z"
   },
   {
    "duration": 30,
    "start_time": "2022-03-17T19:51:13.931Z"
   },
   {
    "duration": 16,
    "start_time": "2022-03-17T19:51:46.006Z"
   },
   {
    "duration": 20,
    "start_time": "2022-03-17T19:52:03.734Z"
   },
   {
    "duration": 29,
    "start_time": "2022-03-17T19:59:32.280Z"
   },
   {
    "duration": 29,
    "start_time": "2022-03-17T20:01:10.018Z"
   },
   {
    "duration": 29,
    "start_time": "2022-03-17T20:03:07.777Z"
   },
   {
    "duration": 36,
    "start_time": "2022-03-17T20:05:18.713Z"
   },
   {
    "duration": 31,
    "start_time": "2022-03-17T20:06:44.350Z"
   },
   {
    "duration": 26,
    "start_time": "2022-03-17T20:10:26.779Z"
   },
   {
    "duration": 25,
    "start_time": "2022-03-17T20:10:41.534Z"
   },
   {
    "duration": 25,
    "start_time": "2022-03-17T20:10:47.924Z"
   },
   {
    "duration": 27,
    "start_time": "2022-03-17T20:10:58.002Z"
   },
   {
    "duration": 23,
    "start_time": "2022-03-17T20:11:01.719Z"
   },
   {
    "duration": 23,
    "start_time": "2022-03-17T20:12:53.512Z"
   },
   {
    "duration": 35,
    "start_time": "2022-03-17T20:13:02.680Z"
   },
   {
    "duration": 35,
    "start_time": "2022-03-17T20:16:19.310Z"
   },
   {
    "duration": 22,
    "start_time": "2022-03-17T20:16:22.421Z"
   },
   {
    "duration": 8,
    "start_time": "2022-03-17T20:16:23.911Z"
   },
   {
    "duration": 3,
    "start_time": "2022-03-17T20:16:24.269Z"
   },
   {
    "duration": 5,
    "start_time": "2022-03-17T20:16:24.913Z"
   },
   {
    "duration": 8,
    "start_time": "2022-03-17T20:16:27.583Z"
   },
   {
    "duration": 3,
    "start_time": "2022-03-17T20:16:27.918Z"
   },
   {
    "duration": 5,
    "start_time": "2022-03-17T20:16:28.406Z"
   },
   {
    "duration": 3,
    "start_time": "2022-03-17T20:54:01.597Z"
   },
   {
    "duration": 5,
    "start_time": "2022-03-17T20:54:14.910Z"
   },
   {
    "duration": 9,
    "start_time": "2022-03-17T20:54:31.755Z"
   },
   {
    "duration": 3,
    "start_time": "2022-03-17T20:54:40.121Z"
   },
   {
    "duration": 3,
    "start_time": "2022-03-17T20:57:29.738Z"
   },
   {
    "duration": 3,
    "start_time": "2022-03-17T20:58:29.549Z"
   },
   {
    "duration": 4,
    "start_time": "2022-03-17T21:11:14.441Z"
   },
   {
    "duration": 1193,
    "start_time": "2022-03-18T09:31:12.317Z"
   },
   {
    "duration": 358,
    "start_time": "2022-03-18T09:31:13.512Z"
   },
   {
    "duration": 3,
    "start_time": "2022-03-18T09:31:13.872Z"
   },
   {
    "duration": 7,
    "start_time": "2022-03-18T09:31:13.877Z"
   },
   {
    "duration": 101,
    "start_time": "2022-03-18T09:31:13.886Z"
   },
   {
    "duration": 97,
    "start_time": "2022-03-18T09:31:13.989Z"
   },
   {
    "duration": 57,
    "start_time": "2022-03-18T09:31:14.089Z"
   },
   {
    "duration": 44,
    "start_time": "2022-03-18T09:31:14.147Z"
   },
   {
    "duration": 24,
    "start_time": "2022-03-18T09:31:14.192Z"
   },
   {
    "duration": 75,
    "start_time": "2022-03-18T09:31:14.218Z"
   },
   {
    "duration": 49,
    "start_time": "2022-03-18T09:31:14.295Z"
   },
   {
    "duration": 44,
    "start_time": "2022-03-18T09:31:14.346Z"
   },
   {
    "duration": 15,
    "start_time": "2022-03-18T09:31:14.391Z"
   },
   {
    "duration": 207,
    "start_time": "2022-03-18T09:31:14.408Z"
   },
   {
    "duration": 67,
    "start_time": "2022-03-18T09:31:14.617Z"
   },
   {
    "duration": 40,
    "start_time": "2022-03-18T09:31:14.686Z"
   },
   {
    "duration": 57,
    "start_time": "2022-03-18T09:31:14.728Z"
   },
   {
    "duration": 17,
    "start_time": "2022-03-18T09:31:14.787Z"
   },
   {
    "duration": 13,
    "start_time": "2022-03-18T09:31:14.806Z"
   },
   {
    "duration": 44,
    "start_time": "2022-03-18T09:31:14.821Z"
   },
   {
    "duration": 17,
    "start_time": "2022-03-18T09:31:14.867Z"
   },
   {
    "duration": 24,
    "start_time": "2022-03-18T09:31:14.886Z"
   },
   {
    "duration": 5,
    "start_time": "2022-03-18T09:31:14.911Z"
   },
   {
    "duration": 9,
    "start_time": "2022-03-18T09:31:14.917Z"
   },
   {
    "duration": 8,
    "start_time": "2022-03-18T09:31:14.927Z"
   },
   {
    "duration": 482,
    "start_time": "2022-03-18T09:31:14.963Z"
   },
   {
    "duration": 34,
    "start_time": "2022-03-18T09:31:15.447Z"
   },
   {
    "duration": 8,
    "start_time": "2022-03-18T09:31:15.486Z"
   },
   {
    "duration": 751,
    "start_time": "2022-03-18T09:31:15.496Z"
   },
   {
    "duration": 466,
    "start_time": "2022-03-18T09:31:16.249Z"
   },
   {
    "duration": 21,
    "start_time": "2022-03-18T09:31:16.717Z"
   },
   {
    "duration": 6,
    "start_time": "2022-03-18T09:31:16.740Z"
   },
   {
    "duration": 1341,
    "start_time": "2022-03-18T09:31:16.763Z"
   },
   {
    "duration": 1286,
    "start_time": "2022-03-18T09:31:18.105Z"
   },
   {
    "duration": 32,
    "start_time": "2022-03-18T09:31:19.392Z"
   },
   {
    "duration": 50,
    "start_time": "2022-03-18T09:31:19.426Z"
   },
   {
    "duration": 23,
    "start_time": "2022-03-18T09:31:19.477Z"
   },
   {
    "duration": 8,
    "start_time": "2022-03-18T09:31:19.501Z"
   },
   {
    "duration": 3,
    "start_time": "2022-03-18T09:31:19.511Z"
   },
   {
    "duration": 12,
    "start_time": "2022-03-18T09:31:19.516Z"
   },
   {
    "duration": 7,
    "start_time": "2022-03-18T09:31:19.530Z"
   },
   {
    "duration": 26,
    "start_time": "2022-03-18T09:31:19.539Z"
   },
   {
    "duration": 11,
    "start_time": "2022-03-18T09:31:19.567Z"
   },
   {
    "duration": 4,
    "start_time": "2022-03-18T09:31:19.580Z"
   },
   {
    "duration": 6,
    "start_time": "2022-03-18T09:31:19.586Z"
   },
   {
    "duration": 1134,
    "start_time": "2022-03-18T09:31:48.041Z"
   },
   {
    "duration": 379,
    "start_time": "2022-03-18T09:31:49.177Z"
   },
   {
    "duration": 3,
    "start_time": "2022-03-18T09:31:49.558Z"
   },
   {
    "duration": 4,
    "start_time": "2022-03-18T09:31:50.398Z"
   },
   {
    "duration": 102,
    "start_time": "2022-03-18T09:31:51.575Z"
   },
   {
    "duration": 84,
    "start_time": "2022-03-18T09:31:53.590Z"
   },
   {
    "duration": 61,
    "start_time": "2022-03-18T09:31:55.590Z"
   },
   {
    "duration": 31,
    "start_time": "2022-03-18T09:31:57.296Z"
   },
   {
    "duration": 23,
    "start_time": "2022-03-18T09:31:59.313Z"
   },
   {
    "duration": 50,
    "start_time": "2022-03-18T09:32:05.272Z"
   },
   {
    "duration": 45,
    "start_time": "2022-03-18T09:32:05.953Z"
   },
   {
    "duration": 33,
    "start_time": "2022-03-18T09:32:07.661Z"
   },
   {
    "duration": 14,
    "start_time": "2022-03-18T09:32:09.879Z"
   },
   {
    "duration": 166,
    "start_time": "2022-03-18T09:32:11.199Z"
   },
   {
    "duration": 14,
    "start_time": "2022-03-18T09:32:25.953Z"
   },
   {
    "duration": 24,
    "start_time": "2022-03-18T09:32:38.162Z"
   },
   {
    "duration": 31,
    "start_time": "2022-03-18T09:32:46.917Z"
   },
   {
    "duration": 34,
    "start_time": "2022-03-18T09:33:59.147Z"
   },
   {
    "duration": 59,
    "start_time": "2022-03-18T09:34:44.836Z"
   },
   {
    "duration": 1068,
    "start_time": "2022-03-18T09:45:57.211Z"
   },
   {
    "duration": 358,
    "start_time": "2022-03-18T09:45:58.281Z"
   },
   {
    "duration": 3,
    "start_time": "2022-03-18T09:45:58.641Z"
   },
   {
    "duration": 4,
    "start_time": "2022-03-18T09:45:58.647Z"
   },
   {
    "duration": 110,
    "start_time": "2022-03-18T09:45:58.653Z"
   },
   {
    "duration": 85,
    "start_time": "2022-03-18T09:45:58.765Z"
   },
   {
    "duration": 67,
    "start_time": "2022-03-18T09:45:58.852Z"
   },
   {
    "duration": 51,
    "start_time": "2022-03-18T09:45:58.921Z"
   },
   {
    "duration": 25,
    "start_time": "2022-03-18T09:45:58.974Z"
   },
   {
    "duration": 72,
    "start_time": "2022-03-18T09:45:59.001Z"
   },
   {
    "duration": 48,
    "start_time": "2022-03-18T09:45:59.075Z"
   },
   {
    "duration": 45,
    "start_time": "2022-03-18T09:45:59.125Z"
   },
   {
    "duration": 14,
    "start_time": "2022-03-18T09:45:59.172Z"
   },
   {
    "duration": 191,
    "start_time": "2022-03-18T09:45:59.187Z"
   },
   {
    "duration": 59,
    "start_time": "2022-03-18T09:45:59.380Z"
   },
   {
    "duration": 52,
    "start_time": "2022-03-18T09:45:59.441Z"
   },
   {
    "duration": 42,
    "start_time": "2022-03-18T09:45:59.495Z"
   },
   {
    "duration": 33,
    "start_time": "2022-03-18T09:45:59.539Z"
   },
   {
    "duration": 11,
    "start_time": "2022-03-18T09:45:59.574Z"
   },
   {
    "duration": 17,
    "start_time": "2022-03-18T09:45:59.587Z"
   },
   {
    "duration": 17,
    "start_time": "2022-03-18T09:45:59.605Z"
   },
   {
    "duration": 54,
    "start_time": "2022-03-18T09:45:59.624Z"
   },
   {
    "duration": 4,
    "start_time": "2022-03-18T09:45:59.680Z"
   },
   {
    "duration": 9,
    "start_time": "2022-03-18T09:45:59.686Z"
   },
   {
    "duration": 6,
    "start_time": "2022-03-18T09:45:59.696Z"
   },
   {
    "duration": 492,
    "start_time": "2022-03-18T09:45:59.704Z"
   },
   {
    "duration": 22,
    "start_time": "2022-03-18T09:46:00.197Z"
   },
   {
    "duration": 8,
    "start_time": "2022-03-18T09:46:00.222Z"
   },
   {
    "duration": 739,
    "start_time": "2022-03-18T09:46:00.231Z"
   },
   {
    "duration": 462,
    "start_time": "2022-03-18T09:46:00.971Z"
   },
   {
    "duration": 36,
    "start_time": "2022-03-18T09:46:01.435Z"
   },
   {
    "duration": 9,
    "start_time": "2022-03-18T09:46:01.473Z"
   },
   {
    "duration": 1207,
    "start_time": "2022-03-18T09:46:01.484Z"
   },
   {
    "duration": 1355,
    "start_time": "2022-03-18T09:46:02.692Z"
   },
   {
    "duration": 35,
    "start_time": "2022-03-18T09:46:04.049Z"
   },
   {
    "duration": 34,
    "start_time": "2022-03-18T09:46:04.085Z"
   },
   {
    "duration": 47,
    "start_time": "2022-03-18T09:46:04.120Z"
   },
   {
    "duration": 10,
    "start_time": "2022-03-18T09:46:04.169Z"
   },
   {
    "duration": 6,
    "start_time": "2022-03-18T09:46:04.180Z"
   },
   {
    "duration": 8,
    "start_time": "2022-03-18T09:46:04.188Z"
   },
   {
    "duration": 5,
    "start_time": "2022-03-18T09:46:04.198Z"
   },
   {
    "duration": 6,
    "start_time": "2022-03-18T09:46:04.205Z"
   },
   {
    "duration": 9,
    "start_time": "2022-03-18T09:46:04.213Z"
   },
   {
    "duration": 3,
    "start_time": "2022-03-18T09:46:04.224Z"
   },
   {
    "duration": 35,
    "start_time": "2022-03-18T09:46:04.228Z"
   },
   {
    "duration": 28,
    "start_time": "2022-03-18T09:51:10.180Z"
   },
   {
    "duration": 27,
    "start_time": "2022-03-18T09:52:35.515Z"
   },
   {
    "duration": 1146,
    "start_time": "2022-03-18T09:54:26.496Z"
   },
   {
    "duration": 393,
    "start_time": "2022-03-18T09:54:27.643Z"
   },
   {
    "duration": 4,
    "start_time": "2022-03-18T09:54:28.038Z"
   },
   {
    "duration": 7,
    "start_time": "2022-03-18T09:54:28.045Z"
   },
   {
    "duration": 119,
    "start_time": "2022-03-18T09:54:28.054Z"
   },
   {
    "duration": 93,
    "start_time": "2022-03-18T09:54:28.175Z"
   },
   {
    "duration": 68,
    "start_time": "2022-03-18T09:54:28.270Z"
   },
   {
    "duration": 53,
    "start_time": "2022-03-18T09:54:28.340Z"
   },
   {
    "duration": 27,
    "start_time": "2022-03-18T09:54:28.395Z"
   },
   {
    "duration": 85,
    "start_time": "2022-03-18T09:54:28.425Z"
   },
   {
    "duration": 64,
    "start_time": "2022-03-18T09:54:28.512Z"
   },
   {
    "duration": 51,
    "start_time": "2022-03-18T09:54:28.578Z"
   },
   {
    "duration": 14,
    "start_time": "2022-03-18T09:54:28.630Z"
   },
   {
    "duration": 236,
    "start_time": "2022-03-18T09:54:28.646Z"
   },
   {
    "duration": 59,
    "start_time": "2022-03-18T09:54:28.884Z"
   },
   {
    "duration": 65,
    "start_time": "2022-03-18T09:54:28.945Z"
   },
   {
    "duration": 52,
    "start_time": "2022-03-18T09:54:29.012Z"
   },
   {
    "duration": 26,
    "start_time": "2022-03-18T09:54:29.068Z"
   },
   {
    "duration": 11,
    "start_time": "2022-03-18T09:54:29.096Z"
   },
   {
    "duration": 21,
    "start_time": "2022-03-18T09:54:29.109Z"
   },
   {
    "duration": 55,
    "start_time": "2022-03-18T09:54:29.132Z"
   },
   {
    "duration": 25,
    "start_time": "2022-03-18T09:54:29.189Z"
   },
   {
    "duration": 5,
    "start_time": "2022-03-18T09:54:29.216Z"
   },
   {
    "duration": 14,
    "start_time": "2022-03-18T09:54:29.223Z"
   },
   {
    "duration": 9,
    "start_time": "2022-03-18T09:54:29.239Z"
   },
   {
    "duration": 502,
    "start_time": "2022-03-18T09:54:29.249Z"
   },
   {
    "duration": 31,
    "start_time": "2022-03-18T09:54:29.752Z"
   },
   {
    "duration": 8,
    "start_time": "2022-03-18T09:54:29.788Z"
   },
   {
    "duration": 796,
    "start_time": "2022-03-18T09:54:29.798Z"
   },
   {
    "duration": 479,
    "start_time": "2022-03-18T09:54:30.596Z"
   },
   {
    "duration": 22,
    "start_time": "2022-03-18T09:54:31.078Z"
   },
   {
    "duration": 7,
    "start_time": "2022-03-18T09:54:31.102Z"
   },
   {
    "duration": 1394,
    "start_time": "2022-03-18T09:54:31.111Z"
   },
   {
    "duration": 1352,
    "start_time": "2022-03-18T09:54:32.506Z"
   },
   {
    "duration": 36,
    "start_time": "2022-03-18T09:54:33.863Z"
   },
   {
    "duration": 36,
    "start_time": "2022-03-18T09:54:33.901Z"
   },
   {
    "duration": 37,
    "start_time": "2022-03-18T09:54:33.939Z"
   },
   {
    "duration": 30,
    "start_time": "2022-03-18T09:54:33.978Z"
   },
   {
    "duration": 26,
    "start_time": "2022-03-18T09:54:34.010Z"
   },
   {
    "duration": 30,
    "start_time": "2022-03-18T09:54:34.037Z"
   },
   {
    "duration": 5,
    "start_time": "2022-03-18T09:54:34.068Z"
   },
   {
    "duration": 14,
    "start_time": "2022-03-18T09:54:34.075Z"
   },
   {
    "duration": 5,
    "start_time": "2022-03-18T09:54:34.091Z"
   },
   {
    "duration": 5,
    "start_time": "2022-03-18T09:54:34.098Z"
   },
   {
    "duration": 8,
    "start_time": "2022-03-18T09:54:34.105Z"
   },
   {
    "duration": 4,
    "start_time": "2022-03-18T09:54:34.115Z"
   },
   {
    "duration": 10,
    "start_time": "2022-03-18T09:54:34.120Z"
   },
   {
    "duration": 1115,
    "start_time": "2022-03-18T09:55:47.972Z"
   },
   {
    "duration": 368,
    "start_time": "2022-03-18T09:55:49.089Z"
   },
   {
    "duration": 3,
    "start_time": "2022-03-18T09:55:49.459Z"
   },
   {
    "duration": 5,
    "start_time": "2022-03-18T09:55:49.464Z"
   },
   {
    "duration": 107,
    "start_time": "2022-03-18T09:55:49.471Z"
   },
   {
    "duration": 91,
    "start_time": "2022-03-18T09:55:49.579Z"
   },
   {
    "duration": 59,
    "start_time": "2022-03-18T09:55:49.672Z"
   },
   {
    "duration": 50,
    "start_time": "2022-03-18T09:55:49.733Z"
   },
   {
    "duration": 26,
    "start_time": "2022-03-18T09:55:49.785Z"
   },
   {
    "duration": 69,
    "start_time": "2022-03-18T09:55:49.814Z"
   },
   {
    "duration": 49,
    "start_time": "2022-03-18T09:55:49.884Z"
   },
   {
    "duration": 50,
    "start_time": "2022-03-18T09:55:49.935Z"
   },
   {
    "duration": 15,
    "start_time": "2022-03-18T09:55:49.987Z"
   },
   {
    "duration": 202,
    "start_time": "2022-03-18T09:55:50.004Z"
   },
   {
    "duration": 72,
    "start_time": "2022-03-18T09:55:50.208Z"
   },
   {
    "duration": 37,
    "start_time": "2022-03-18T09:55:50.281Z"
   },
   {
    "duration": 72,
    "start_time": "2022-03-18T09:55:50.319Z"
   },
   {
    "duration": 20,
    "start_time": "2022-03-18T09:55:50.393Z"
   },
   {
    "duration": 11,
    "start_time": "2022-03-18T09:55:50.415Z"
   },
   {
    "duration": 21,
    "start_time": "2022-03-18T09:55:50.427Z"
   },
   {
    "duration": 27,
    "start_time": "2022-03-18T09:55:50.450Z"
   },
   {
    "duration": 25,
    "start_time": "2022-03-18T09:55:50.478Z"
   },
   {
    "duration": 5,
    "start_time": "2022-03-18T09:55:50.504Z"
   },
   {
    "duration": 14,
    "start_time": "2022-03-18T09:55:50.510Z"
   },
   {
    "duration": 8,
    "start_time": "2022-03-18T09:55:50.525Z"
   },
   {
    "duration": 487,
    "start_time": "2022-03-18T09:55:50.534Z"
   },
   {
    "duration": 24,
    "start_time": "2022-03-18T09:55:51.022Z"
   },
   {
    "duration": 9,
    "start_time": "2022-03-18T09:55:51.066Z"
   },
   {
    "duration": 737,
    "start_time": "2022-03-18T09:55:51.076Z"
   },
   {
    "duration": 437,
    "start_time": "2022-03-18T09:55:51.815Z"
   },
   {
    "duration": 27,
    "start_time": "2022-03-18T09:55:52.254Z"
   },
   {
    "duration": 7,
    "start_time": "2022-03-18T09:55:52.283Z"
   },
   {
    "duration": 1193,
    "start_time": "2022-03-18T09:55:52.292Z"
   },
   {
    "duration": 1303,
    "start_time": "2022-03-18T09:55:53.487Z"
   },
   {
    "duration": 34,
    "start_time": "2022-03-18T09:55:54.791Z"
   },
   {
    "duration": 54,
    "start_time": "2022-03-18T09:55:54.827Z"
   },
   {
    "duration": 8,
    "start_time": "2022-03-18T09:55:54.883Z"
   },
   {
    "duration": 25,
    "start_time": "2022-03-18T09:55:54.892Z"
   },
   {
    "duration": 45,
    "start_time": "2022-03-18T09:55:54.919Z"
   },
   {
    "duration": 12,
    "start_time": "2022-03-18T09:55:54.966Z"
   },
   {
    "duration": 12,
    "start_time": "2022-03-18T09:55:54.980Z"
   },
   {
    "duration": 12,
    "start_time": "2022-03-18T09:55:54.994Z"
   },
   {
    "duration": 7,
    "start_time": "2022-03-18T09:55:55.008Z"
   },
   {
    "duration": 14,
    "start_time": "2022-03-18T09:55:55.017Z"
   },
   {
    "duration": 13,
    "start_time": "2022-03-18T09:55:55.033Z"
   },
   {
    "duration": 15,
    "start_time": "2022-03-18T09:55:55.048Z"
   },
   {
    "duration": 14,
    "start_time": "2022-03-18T09:55:55.065Z"
   },
   {
    "duration": 28,
    "start_time": "2022-03-18T09:57:49.754Z"
   }
  ],
  "kernelspec": {
   "display_name": "Python 3 (ipykernel)",
   "language": "python",
   "name": "python3"
  },
  "language_info": {
   "codemirror_mode": {
    "name": "ipython",
    "version": 3
   },
   "file_extension": ".py",
   "mimetype": "text/x-python",
   "name": "python",
   "nbconvert_exporter": "python",
   "pygments_lexer": "ipython3",
   "version": "3.9.7"
  },
  "toc": {
   "base_numbering": 1,
   "nav_menu": {},
   "number_sections": true,
   "sideBar": true,
   "skip_h1_title": true,
   "title_cell": "Оглавление",
   "title_sidebar": "Contents",
   "toc_cell": true,
   "toc_position": {
    "height": "calc(100% - 180px)",
    "left": "10px",
    "top": "150px",
    "width": "409.08px"
   },
   "toc_section_display": true,
   "toc_window_display": false
  }
 },
 "nbformat": 4,
 "nbformat_minor": 2
}
