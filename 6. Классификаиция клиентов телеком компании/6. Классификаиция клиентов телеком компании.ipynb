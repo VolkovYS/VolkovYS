{
 "cells": [
  {
   "cell_type": "markdown",
   "metadata": {
    "toc": true
   },
   "source": [
    "<h1>Оглавление<span class=\"tocSkip\"></span></h1>\n",
    "<div class=\"toc\"><ul class=\"toc-item\"><li><span><a href=\"#Откройте-и-изучите-файл\" data-toc-modified-id=\"Откройте-и-изучите-файл-1\"><span class=\"toc-item-num\">1&nbsp;&nbsp;</span>Откройте и изучите файл</a></span><ul class=\"toc-item\"><li><span><a href=\"#Вывод\" data-toc-modified-id=\"Вывод-1.1\"><span class=\"toc-item-num\">1.1&nbsp;&nbsp;</span>Вывод</a></span></li></ul></li><li><span><a href=\"#Разбейте-данные-на-выборки\" data-toc-modified-id=\"Разбейте-данные-на-выборки-2\"><span class=\"toc-item-num\">2&nbsp;&nbsp;</span>Разбейте данные на выборки</a></span></li><li><span><a href=\"#Исследуйте-модели\" data-toc-modified-id=\"Исследуйте-модели-3\"><span class=\"toc-item-num\">3&nbsp;&nbsp;</span>Исследуйте модели</a></span><ul class=\"toc-item\"><li><span><a href=\"#Модель:-Дерево-решений\" data-toc-modified-id=\"Модель:-Дерево-решений-3.1\"><span class=\"toc-item-num\">3.1&nbsp;&nbsp;</span>Модель: Дерево решений</a></span></li><li><span><a href=\"#Модель:-Случайный-лес\" data-toc-modified-id=\"Модель:-Случайный-лес-3.2\"><span class=\"toc-item-num\">3.2&nbsp;&nbsp;</span>Модель: Случайный лес</a></span></li><li><span><a href=\"#Модель:-Логистическая-регрессия\" data-toc-modified-id=\"Модель:-Логистическая-регрессия-3.3\"><span class=\"toc-item-num\">3.3&nbsp;&nbsp;</span>Модель: Логистическая регрессия</a></span></li><li><span><a href=\"#Вывод\" data-toc-modified-id=\"Вывод-3.4\"><span class=\"toc-item-num\">3.4&nbsp;&nbsp;</span>Вывод</a></span></li></ul></li><li><span><a href=\"#Проверьте-модель-на-тестовой-выборке\" data-toc-modified-id=\"Проверьте-модель-на-тестовой-выборке-4\"><span class=\"toc-item-num\">4&nbsp;&nbsp;</span>Проверьте модель на тестовой выборке</a></span><ul class=\"toc-item\"><li><span><a href=\"#Модель:-Дерево-решений\" data-toc-modified-id=\"Модель:-Дерево-решений-4.1\"><span class=\"toc-item-num\">4.1&nbsp;&nbsp;</span>Модель: Дерево решений</a></span></li><li><span><a href=\"#Модель:-Случайный-лес\" data-toc-modified-id=\"Модель:-Случайный-лес-4.2\"><span class=\"toc-item-num\">4.2&nbsp;&nbsp;</span>Модель: Случайный лес</a></span></li><li><span><a href=\"#Модель:-Логистическая-регрессия\" data-toc-modified-id=\"Модель:-Логистическая-регрессия-4.3\"><span class=\"toc-item-num\">4.3&nbsp;&nbsp;</span>Модель: Логистическая регрессия</a></span></li><li><span><a href=\"#Модель:-Случайный-лес-(валидация+обучение)\" data-toc-modified-id=\"Модель:-Случайный-лес-(валидация+обучение)-4.4\"><span class=\"toc-item-num\">4.4&nbsp;&nbsp;</span>Модель: Случайный лес (валидация+обучение)</a></span></li><li><span><a href=\"#Вывод\" data-toc-modified-id=\"Вывод-4.5\"><span class=\"toc-item-num\">4.5&nbsp;&nbsp;</span>Вывод</a></span></li></ul></li><li><span><a href=\"#(бонус)-Проверьте-модели-на-адекватность\" data-toc-modified-id=\"(бонус)-Проверьте-модели-на-адекватность-5\"><span class=\"toc-item-num\">5&nbsp;&nbsp;</span>(бонус) Проверьте модели на адекватность</a></span><ul class=\"toc-item\"><li><span><a href=\"#Вывод\" data-toc-modified-id=\"Вывод-5.1\"><span class=\"toc-item-num\">5.1&nbsp;&nbsp;</span>Вывод</a></span></li></ul></li><li><span><a href=\"#Общий-вывод\" data-toc-modified-id=\"Общий-вывод-6\"><span class=\"toc-item-num\">6&nbsp;&nbsp;</span>Общий вывод</a></span></li><li><span><a href=\"#Чек-лист-готовности-проекта\" data-toc-modified-id=\"Чек-лист-готовности-проекта-7\"><span class=\"toc-item-num\">7&nbsp;&nbsp;</span>Чек-лист готовности проекта</a></span></li></ul></div>"
   ]
  },
  {
   "cell_type": "markdown",
   "metadata": {},
   "source": [
    "# Рекомендация тарифов"
   ]
  },
  {
   "cell_type": "markdown",
   "metadata": {},
   "source": [
    "В вашем распоряжении данные о поведении клиентов, которые уже перешли на эти тарифы (из проекта курса «Статистический анализ данных»). Нужно построить модель для задачи классификации, которая выберет подходящий тариф. Предобработка данных не понадобится — вы её уже сделали.\n",
    "\n",
    "Постройте модель с максимально большим значением *accuracy*. Чтобы сдать проект успешно, нужно довести долю правильных ответов по крайней мере до 0.75. Проверьте *accuracy* на тестовой выборке самостоятельно.\n",
    "\n",
    "Оператор мобильной связи «Мегалайн» выяснил: многие клиенты пользуются архивными тарифами. Они хотят построить систему, способную проанализировать поведение клиентов и предложить пользователям новый тариф: «Смарт» или «Ультра».\n",
    "В вашем распоряжении данные о поведении клиентов, которые уже перешли на эти тарифы (из проекта курса «Статистический анализ данных»). Нужно построить модель для задачи классификации, которая выберет подходящий тариф. Предобработка данных не понадобится — вы её уже сделали.\n",
    "Постройте модель с максимально большим значением accuracy. Чтобы сдать проект успешно, нужно довести долю правильных ответов по крайней мере до 0.75. Проверьте accuracy на тестовой выборке самостоятельно."
   ]
  },
  {
   "cell_type": "markdown",
   "metadata": {},
   "source": [
    "### Описание данных <a class=\"tocSkip\">"
   ]
  },
  {
   "cell_type": "markdown",
   "metadata": {},
   "source": [
    "<div style=\"border:solid green 5px; padding: 16px; border-radius: 10px\">\n",
    "<br>сalls — количество звонков,\n",
    "<br>minutes — суммарная длительность звонков в минутах,\n",
    "<br>messages — количество sms-сообщений,\n",
    "<br>mb_used — израсходованный интернет-трафик в Мб,\n",
    "<br>is_ultra — каким тарифом пользовался в течение месяца («Ультра» — 1, «Смарт» — 0).\n",
    "</div>"
   ]
  },
  {
   "cell_type": "markdown",
   "metadata": {},
   "source": [
    "## Откройте и изучите файл"
   ]
  },
  {
   "cell_type": "code",
   "execution_count": 1,
   "metadata": {},
   "outputs": [],
   "source": [
    "import pandas as pd\n",
    "from sklearn.tree import DecisionTreeClassifier\n",
    "from sklearn.ensemble import RandomForestClassifier\n",
    "from sklearn.linear_model import LogisticRegression\n",
    "from sklearn.model_selection import train_test_split\n",
    "from sklearn.metrics import accuracy_score\n",
    "from tqdm import tqdm\n",
    "from sklearn.dummy import DummyClassifier\n",
    "pd.set_option('display.max_columns', None) #выведем все столбцы таблицы на экран"
   ]
  },
  {
   "cell_type": "code",
   "execution_count": 2,
   "metadata": {},
   "outputs": [
    {
     "data": {
      "text/html": [
       "<div>\n",
       "<style scoped>\n",
       "    .dataframe tbody tr th:only-of-type {\n",
       "        vertical-align: middle;\n",
       "    }\n",
       "\n",
       "    .dataframe tbody tr th {\n",
       "        vertical-align: top;\n",
       "    }\n",
       "\n",
       "    .dataframe thead th {\n",
       "        text-align: right;\n",
       "    }\n",
       "</style>\n",
       "<table border=\"1\" class=\"dataframe\">\n",
       "  <thead>\n",
       "    <tr style=\"text-align: right;\">\n",
       "      <th></th>\n",
       "      <th>calls</th>\n",
       "      <th>minutes</th>\n",
       "      <th>messages</th>\n",
       "      <th>mb_used</th>\n",
       "      <th>is_ultra</th>\n",
       "    </tr>\n",
       "  </thead>\n",
       "  <tbody>\n",
       "    <tr>\n",
       "      <th>0</th>\n",
       "      <td>40.0</td>\n",
       "      <td>311.90</td>\n",
       "      <td>83.0</td>\n",
       "      <td>19915.42</td>\n",
       "      <td>0</td>\n",
       "    </tr>\n",
       "    <tr>\n",
       "      <th>1</th>\n",
       "      <td>85.0</td>\n",
       "      <td>516.75</td>\n",
       "      <td>56.0</td>\n",
       "      <td>22696.96</td>\n",
       "      <td>0</td>\n",
       "    </tr>\n",
       "    <tr>\n",
       "      <th>2</th>\n",
       "      <td>77.0</td>\n",
       "      <td>467.66</td>\n",
       "      <td>86.0</td>\n",
       "      <td>21060.45</td>\n",
       "      <td>0</td>\n",
       "    </tr>\n",
       "    <tr>\n",
       "      <th>3</th>\n",
       "      <td>106.0</td>\n",
       "      <td>745.53</td>\n",
       "      <td>81.0</td>\n",
       "      <td>8437.39</td>\n",
       "      <td>1</td>\n",
       "    </tr>\n",
       "    <tr>\n",
       "      <th>4</th>\n",
       "      <td>66.0</td>\n",
       "      <td>418.74</td>\n",
       "      <td>1.0</td>\n",
       "      <td>14502.75</td>\n",
       "      <td>0</td>\n",
       "    </tr>\n",
       "    <tr>\n",
       "      <th>...</th>\n",
       "      <td>...</td>\n",
       "      <td>...</td>\n",
       "      <td>...</td>\n",
       "      <td>...</td>\n",
       "      <td>...</td>\n",
       "    </tr>\n",
       "    <tr>\n",
       "      <th>3209</th>\n",
       "      <td>122.0</td>\n",
       "      <td>910.98</td>\n",
       "      <td>20.0</td>\n",
       "      <td>35124.90</td>\n",
       "      <td>1</td>\n",
       "    </tr>\n",
       "    <tr>\n",
       "      <th>3210</th>\n",
       "      <td>25.0</td>\n",
       "      <td>190.36</td>\n",
       "      <td>0.0</td>\n",
       "      <td>3275.61</td>\n",
       "      <td>0</td>\n",
       "    </tr>\n",
       "    <tr>\n",
       "      <th>3211</th>\n",
       "      <td>97.0</td>\n",
       "      <td>634.44</td>\n",
       "      <td>70.0</td>\n",
       "      <td>13974.06</td>\n",
       "      <td>0</td>\n",
       "    </tr>\n",
       "    <tr>\n",
       "      <th>3212</th>\n",
       "      <td>64.0</td>\n",
       "      <td>462.32</td>\n",
       "      <td>90.0</td>\n",
       "      <td>31239.78</td>\n",
       "      <td>0</td>\n",
       "    </tr>\n",
       "    <tr>\n",
       "      <th>3213</th>\n",
       "      <td>80.0</td>\n",
       "      <td>566.09</td>\n",
       "      <td>6.0</td>\n",
       "      <td>29480.52</td>\n",
       "      <td>1</td>\n",
       "    </tr>\n",
       "  </tbody>\n",
       "</table>\n",
       "<p>3214 rows × 5 columns</p>\n",
       "</div>"
      ],
      "text/plain": [
       "      calls  minutes  messages   mb_used  is_ultra\n",
       "0      40.0   311.90      83.0  19915.42         0\n",
       "1      85.0   516.75      56.0  22696.96         0\n",
       "2      77.0   467.66      86.0  21060.45         0\n",
       "3     106.0   745.53      81.0   8437.39         1\n",
       "4      66.0   418.74       1.0  14502.75         0\n",
       "...     ...      ...       ...       ...       ...\n",
       "3209  122.0   910.98      20.0  35124.90         1\n",
       "3210   25.0   190.36       0.0   3275.61         0\n",
       "3211   97.0   634.44      70.0  13974.06         0\n",
       "3212   64.0   462.32      90.0  31239.78         0\n",
       "3213   80.0   566.09       6.0  29480.52         1\n",
       "\n",
       "[3214 rows x 5 columns]"
      ]
     },
     "execution_count": 2,
     "metadata": {},
     "output_type": "execute_result"
    }
   ],
   "source": [
    "data = pd.read_csv(\"/datasets/users_behavior.csv\") #Выведем таблицу на экран\n",
    "data"
   ]
  },
  {
   "cell_type": "code",
   "execution_count": 3,
   "metadata": {},
   "outputs": [
    {
     "name": "stdout",
     "output_type": "stream",
     "text": [
      "<class 'pandas.core.frame.DataFrame'>\n",
      "RangeIndex: 3214 entries, 0 to 3213\n",
      "Data columns (total 5 columns):\n",
      " #   Column    Non-Null Count  Dtype  \n",
      "---  ------    --------------  -----  \n",
      " 0   calls     3214 non-null   float64\n",
      " 1   minutes   3214 non-null   float64\n",
      " 2   messages  3214 non-null   float64\n",
      " 3   mb_used   3214 non-null   float64\n",
      " 4   is_ultra  3214 non-null   int64  \n",
      "dtypes: float64(4), int64(1)\n",
      "memory usage: 125.7 KB\n"
     ]
    }
   ],
   "source": [
    "data.info(memory_usage='deep') #Посмотрим информацию о таблице"
   ]
  },
  {
   "cell_type": "code",
   "execution_count": 4,
   "metadata": {},
   "outputs": [
    {
     "data": {
      "text/html": [
       "<div>\n",
       "<style scoped>\n",
       "    .dataframe tbody tr th:only-of-type {\n",
       "        vertical-align: middle;\n",
       "    }\n",
       "\n",
       "    .dataframe tbody tr th {\n",
       "        vertical-align: top;\n",
       "    }\n",
       "\n",
       "    .dataframe thead th {\n",
       "        text-align: right;\n",
       "    }\n",
       "</style>\n",
       "<table border=\"1\" class=\"dataframe\">\n",
       "  <thead>\n",
       "    <tr style=\"text-align: right;\">\n",
       "      <th></th>\n",
       "      <th>count</th>\n",
       "      <th>mean</th>\n",
       "      <th>std</th>\n",
       "      <th>min</th>\n",
       "      <th>25%</th>\n",
       "      <th>50%</th>\n",
       "      <th>75%</th>\n",
       "      <th>max</th>\n",
       "    </tr>\n",
       "  </thead>\n",
       "  <tbody>\n",
       "    <tr>\n",
       "      <th>calls</th>\n",
       "      <td>3214.0</td>\n",
       "      <td>63.038892</td>\n",
       "      <td>33.236368</td>\n",
       "      <td>0.0</td>\n",
       "      <td>40.0000</td>\n",
       "      <td>62.000</td>\n",
       "      <td>82.0000</td>\n",
       "      <td>244.00</td>\n",
       "    </tr>\n",
       "    <tr>\n",
       "      <th>minutes</th>\n",
       "      <td>3214.0</td>\n",
       "      <td>438.208787</td>\n",
       "      <td>234.569872</td>\n",
       "      <td>0.0</td>\n",
       "      <td>274.5750</td>\n",
       "      <td>430.600</td>\n",
       "      <td>571.9275</td>\n",
       "      <td>1632.06</td>\n",
       "    </tr>\n",
       "    <tr>\n",
       "      <th>messages</th>\n",
       "      <td>3214.0</td>\n",
       "      <td>38.281269</td>\n",
       "      <td>36.148326</td>\n",
       "      <td>0.0</td>\n",
       "      <td>9.0000</td>\n",
       "      <td>30.000</td>\n",
       "      <td>57.0000</td>\n",
       "      <td>224.00</td>\n",
       "    </tr>\n",
       "    <tr>\n",
       "      <th>mb_used</th>\n",
       "      <td>3214.0</td>\n",
       "      <td>17207.673836</td>\n",
       "      <td>7570.968246</td>\n",
       "      <td>0.0</td>\n",
       "      <td>12491.9025</td>\n",
       "      <td>16943.235</td>\n",
       "      <td>21424.7000</td>\n",
       "      <td>49745.73</td>\n",
       "    </tr>\n",
       "    <tr>\n",
       "      <th>is_ultra</th>\n",
       "      <td>3214.0</td>\n",
       "      <td>0.306472</td>\n",
       "      <td>0.461100</td>\n",
       "      <td>0.0</td>\n",
       "      <td>0.0000</td>\n",
       "      <td>0.000</td>\n",
       "      <td>1.0000</td>\n",
       "      <td>1.00</td>\n",
       "    </tr>\n",
       "  </tbody>\n",
       "</table>\n",
       "</div>"
      ],
      "text/plain": [
       "           count          mean          std  min         25%        50%  \\\n",
       "calls     3214.0     63.038892    33.236368  0.0     40.0000     62.000   \n",
       "minutes   3214.0    438.208787   234.569872  0.0    274.5750    430.600   \n",
       "messages  3214.0     38.281269    36.148326  0.0      9.0000     30.000   \n",
       "mb_used   3214.0  17207.673836  7570.968246  0.0  12491.9025  16943.235   \n",
       "is_ultra  3214.0      0.306472     0.461100  0.0      0.0000      0.000   \n",
       "\n",
       "                 75%       max  \n",
       "calls        82.0000    244.00  \n",
       "minutes     571.9275   1632.06  \n",
       "messages     57.0000    224.00  \n",
       "mb_used   21424.7000  49745.73  \n",
       "is_ultra      1.0000      1.00  "
      ]
     },
     "execution_count": 4,
     "metadata": {},
     "output_type": "execute_result"
    }
   ],
   "source": [
    "data.describe().T #Выведем стат данные о таблице"
   ]
  },
  {
   "cell_type": "code",
   "execution_count": 5,
   "metadata": {},
   "outputs": [
    {
     "data": {
      "text/plain": [
       "0"
      ]
     },
     "execution_count": 5,
     "metadata": {},
     "output_type": "execute_result"
    }
   ],
   "source": [
    "data.duplicated().sum() #Посмотрим количество дубликатов"
   ]
  },
  {
   "cell_type": "markdown",
   "metadata": {},
   "source": [
    "### Вывод"
   ]
  },
  {
   "cell_type": "markdown",
   "metadata": {},
   "source": [
    "По представленныым данным замечаний нет. Таблица имеет 5 столбцов и 3214 строк. Пропусков нет, дубликатов нет, тип данных менять не нужно."
   ]
  },
  {
   "cell_type": "markdown",
   "metadata": {},
   "source": [
    "## Разбейте данные на выборки"
   ]
  },
  {
   "cell_type": "code",
   "execution_count": 6,
   "metadata": {},
   "outputs": [],
   "source": [
    "# Разбиваю датасет на 3 выборки:обучающую, валидационную, тестовую\n",
    "df_train, df_test=train_test_split(data,test_size=0.4,random_state=1234)\n",
    "df_valid,df_test=train_test_split(df_valid_test,test_size=0.5,random_state=1234)"
   ]
  },
  {
   "cell_type": "code",
   "execution_count": 7,
   "metadata": {
    "scrolled": true
   },
   "outputs": [
    {
     "name": "stdout",
     "output_type": "stream",
     "text": [
      "Количество строк в обучающей выборке: 1928\n",
      "Количество строк в валидационной выборке: 643\n",
      "Количество строк в тестовой выборке: 643\n"
     ]
    }
   ],
   "source": [
    "#Посмотрим количество строк в выборках\n",
    "print('Количество строк в обучающей выборке:', len(df_train))\n",
    "print('Количество строк в валидационной выборке:', len(df_valid))\n",
    "print('Количество строк в тестовой выборке:', len(df_test))"
   ]
  },
  {
   "cell_type": "markdown",
   "metadata": {},
   "source": [
    "## Исследуйте модели"
   ]
  },
  {
   "cell_type": "code",
   "execution_count": 8,
   "metadata": {},
   "outputs": [],
   "source": [
    "#В обучающей выборке извлечем целевой признак в переменную target_train, а остальные — в features_train\n",
    "features_train=df_train.drop(['is_ultra'],axis=1)\n",
    "target_train=df_train['is_ultra']"
   ]
  },
  {
   "cell_type": "code",
   "execution_count": 9,
   "metadata": {
    "scrolled": true
   },
   "outputs": [
    {
     "data": {
      "text/html": [
       "<div>\n",
       "<style scoped>\n",
       "    .dataframe tbody tr th:only-of-type {\n",
       "        vertical-align: middle;\n",
       "    }\n",
       "\n",
       "    .dataframe tbody tr th {\n",
       "        vertical-align: top;\n",
       "    }\n",
       "\n",
       "    .dataframe thead th {\n",
       "        text-align: right;\n",
       "    }\n",
       "</style>\n",
       "<table border=\"1\" class=\"dataframe\">\n",
       "  <thead>\n",
       "    <tr style=\"text-align: right;\">\n",
       "      <th></th>\n",
       "      <th>calls</th>\n",
       "      <th>minutes</th>\n",
       "      <th>messages</th>\n",
       "      <th>mb_used</th>\n",
       "    </tr>\n",
       "  </thead>\n",
       "  <tbody>\n",
       "    <tr>\n",
       "      <th>265</th>\n",
       "      <td>60.0</td>\n",
       "      <td>442.02</td>\n",
       "      <td>16.0</td>\n",
       "      <td>18306.45</td>\n",
       "    </tr>\n",
       "    <tr>\n",
       "      <th>1410</th>\n",
       "      <td>42.0</td>\n",
       "      <td>333.36</td>\n",
       "      <td>48.0</td>\n",
       "      <td>14566.34</td>\n",
       "    </tr>\n",
       "    <tr>\n",
       "      <th>728</th>\n",
       "      <td>43.0</td>\n",
       "      <td>298.42</td>\n",
       "      <td>12.0</td>\n",
       "      <td>18311.24</td>\n",
       "    </tr>\n",
       "    <tr>\n",
       "      <th>552</th>\n",
       "      <td>16.0</td>\n",
       "      <td>132.80</td>\n",
       "      <td>107.0</td>\n",
       "      <td>21893.35</td>\n",
       "    </tr>\n",
       "    <tr>\n",
       "      <th>3117</th>\n",
       "      <td>46.0</td>\n",
       "      <td>336.76</td>\n",
       "      <td>49.0</td>\n",
       "      <td>10710.72</td>\n",
       "    </tr>\n",
       "  </tbody>\n",
       "</table>\n",
       "</div>"
      ],
      "text/plain": [
       "      calls  minutes  messages   mb_used\n",
       "265    60.0   442.02      16.0  18306.45\n",
       "1410   42.0   333.36      48.0  14566.34\n",
       "728    43.0   298.42      12.0  18311.24\n",
       "552    16.0   132.80     107.0  21893.35\n",
       "3117   46.0   336.76      49.0  10710.72"
      ]
     },
     "metadata": {},
     "output_type": "display_data"
    },
    {
     "data": {
      "text/plain": [
       "265     1\n",
       "1410    0\n",
       "728     0\n",
       "552     1\n",
       "3117    0\n",
       "Name: is_ultra, dtype: int64"
      ]
     },
     "execution_count": 9,
     "metadata": {},
     "output_type": "execute_result"
    }
   ],
   "source": [
    "display(features_train.head(5)) # Признаки \n",
    "target_train.head(5) # целевой признак"
   ]
  },
  {
   "cell_type": "code",
   "execution_count": 10,
   "metadata": {},
   "outputs": [],
   "source": [
    "#В валидационной выборке извлечем целевой признак в переменную target_valid, а остальные — в features_valid\n",
    "features_valid=df_valid.drop(['is_ultra'],axis=1) # Признаки \n",
    "target_valid=df_valid['is_ultra'] # целевой признак"
   ]
  },
  {
   "cell_type": "code",
   "execution_count": 11,
   "metadata": {},
   "outputs": [],
   "source": [
    "#В тестовой выборке извлечем целевой признак в переменную target_test, а остальные — в features_test\n",
    "features_test=df_valid.drop(['is_ultra'],axis=1) # Признаки \n",
    "target_test=df_valid['is_ultra'] # целевой признак"
   ]
  },
  {
   "cell_type": "markdown",
   "metadata": {},
   "source": [
    "### Модель: Дерево решений"
   ]
  },
  {
   "cell_type": "code",
   "execution_count": 12,
   "metadata": {},
   "outputs": [
    {
     "name": "stdout",
     "output_type": "stream",
     "text": [
      "max_depth: 1 accuracy: 0.776049766718507\n",
      "max_depth: 3 accuracy: 0.8118195956454122\n",
      "max_depth: 5 accuracy: 0.8087091757387247\n",
      "max_depth: 7 accuracy: 0.8320373250388803\n",
      "max_depth: 9 accuracy: 0.8180404354587869\n",
      "max_depth: 11 accuracy: 0.8180404354587869\n",
      "max_depth: 13 accuracy: 0.8040435458786936\n",
      "max_depth: 15 accuracy: 0.7744945567651633\n",
      "max_depth: 17 accuracy: 0.7480559875583204\n",
      "max_depth: 19 accuracy: 0.744945567651633\n",
      "max_depth: 21 accuracy: 0.7620528771384136\n",
      "max_depth: 23 accuracy: 0.7387247278382582\n",
      "max_depth: 25 accuracy: 0.7542768273716952\n",
      "max_depth: 27 accuracy: 0.7542768273716952\n",
      "max_depth: 29 accuracy: 0.7402799377916018\n"
     ]
    }
   ],
   "source": [
    "for depth in range(1,30,2):\n",
    "    model_tree=DecisionTreeClassifier(random_state=1234, max_depth=depth) # инициализируем модель DecisionTreeRegressor \n",
    "    #с параметром random_state=12345 и max_depth=depth\n",
    "    model_tree.fit(features_train,target_train) # обучаем модель на тренировочной выборке\n",
    "    prediction_tree=model_tree.predict(features_valid) # получаем предсказания модели на валидационной выборке\n",
    "    print('max_depth:',depth,end='')\n",
    "    print(' accuracy:',accuracy_score(prediction_tree,target_valid))"
   ]
  },
  {
   "cell_type": "markdown",
   "metadata": {},
   "source": [
    "<div style=\"border:solid green 5px; padding: 16px; border-radius: 10px\">   \n",
    "    <br> Самый лучший исход (Модель: Дерево решений):\n",
    "<br>Доля правильных решений (accuracy) = 0.8320373250388803, при макисмальной глубине (max_depth) = 7 "
   ]
  },
  {
   "cell_type": "markdown",
   "metadata": {},
   "source": [
    "### Модель: Случайный лес"
   ]
  },
  {
   "cell_type": "code",
   "execution_count": 13,
   "metadata": {
    "scrolled": true
   },
   "outputs": [
    {
     "name": "stderr",
     "output_type": "stream",
     "text": [
      "100%|██████████| 25/25 [00:13<00:00,  1.85it/s]"
     ]
    },
    {
     "name": "stdout",
     "output_type": "stream",
     "text": [
      "accuracy: 0.8429237947122862 Количество деревьев: 15 Максимальная глубина: 10\n"
     ]
    },
    {
     "name": "stderr",
     "output_type": "stream",
     "text": [
      "\n"
     ]
    }
   ],
   "source": [
    "best_model = None\n",
    "best_result = 0\n",
    "best_est = 0\n",
    "best_depth = 0\n",
    "for est in tqdm(range (1, 50, 2)):\n",
    "    for depth in range (1, 11):\n",
    "        model = RandomForestClassifier(random_state=12345, n_estimators=est, max_depth=depth)\n",
    "        # инициализируем модель RandomForestClassifier с параметрами random_state=12345, n_estimators=est и max_depth=depth\n",
    "        model.fit(features_train, target_train) # обучим модель на тренировочной выборке\n",
    "        predictions_valid = model.predict(features_valid) # получим предсказания модели на валидационной выборке\n",
    "        result = accuracy_score(predictions_valid,target_valid) # посчитайте значение метрики rmse на валидационной выборке\n",
    "        if result > best_result:\n",
    "            best_model = model\n",
    "            best_result = result\n",
    "            best_est = est\n",
    "            best_depth = depth\n",
    "\n",
    "print(\"accuracy:\", best_result, \"Количество деревьев:\", best_est, \"Максимальная глубина:\", depth)"
   ]
  },
  {
   "cell_type": "markdown",
   "metadata": {},
   "source": [
    "<div style=\"border:solid green 5px; padding: 16px; border-radius: 10px\">   \n",
    "    <br> Самый лучший исход (Модель: Случайный лес):\n",
    "<br> Доля правильных решений (accuracy) = 0.8429237947122862, При макисмальной глубине (max_depth) = 10 и количеством деревьев = 15"
   ]
  },
  {
   "cell_type": "markdown",
   "metadata": {},
   "source": [
    "### Модель: Логистическая регрессия"
   ]
  },
  {
   "cell_type": "code",
   "execution_count": 14,
   "metadata": {},
   "outputs": [
    {
     "name": "stdout",
     "output_type": "stream",
     "text": [
      "accuracy: 0.7589424572317263\n"
     ]
    }
   ],
   "source": [
    "model_logistic_Reg=LogisticRegression() # инициализируем модель LogisticRegression\n",
    "model_logistic_Reg.fit(features_train,target_train) # обучим модель на тренировочной выборке\n",
    "predict_LogisticReg=model_logistic_Reg.predict(features_valid) # получим предсказания модели на валидационной выборке\n",
    "print('accuracy:',accuracy_score(predict_LogisticReg,target_valid))"
   ]
  },
  {
   "cell_type": "markdown",
   "metadata": {},
   "source": [
    "### Вывод"
   ]
  },
  {
   "cell_type": "markdown",
   "metadata": {},
   "source": [
    "Наилучшие показатели доли правильных решений (accuracy) для моделей:\n",
    "1. Дерево решений - 0.8320373250388803\n",
    "2. Случайный лес - 0.8429237947122862\n",
    "3. Логистическая регрессия - 0.7589424572317263\n",
    "\n",
    "Лучшая модель по результатам валидации - Случайный лес (0,8429)"
   ]
  },
  {
   "cell_type": "markdown",
   "metadata": {},
   "source": [
    "## Проверьте модель на тестовой выборке"
   ]
  },
  {
   "cell_type": "markdown",
   "metadata": {},
   "source": [
    "### Модель: Дерево решений"
   ]
  },
  {
   "cell_type": "code",
   "execution_count": 15,
   "metadata": {},
   "outputs": [
    {
     "name": "stdout",
     "output_type": "stream",
     "text": [
      "Доля правильных решений (Дерево решений): 0.8320373250388803\n"
     ]
    }
   ],
   "source": [
    "model_tree=DecisionTreeClassifier(random_state=1234, max_depth=7)\n",
    "model_tree.fit(features_train,target_train)\n",
    "prediction_tree=model_tree.predict(features_test)\n",
    "print('Доля правильных решений (Дерево решений):',accuracy_score(prediction_tree,target_test))"
   ]
  },
  {
   "cell_type": "markdown",
   "metadata": {},
   "source": [
    "### Модель: Случайный лес"
   ]
  },
  {
   "cell_type": "code",
   "execution_count": 16,
   "metadata": {},
   "outputs": [
    {
     "name": "stdout",
     "output_type": "stream",
     "text": [
      "Доля правильных решений (Случайный лес): 0.8429237947122862\n"
     ]
    }
   ],
   "source": [
    "model = RandomForestClassifier(random_state=12345, n_estimators=15, max_depth=10)\n",
    "model.fit(features_train, target_train)\n",
    "prediction_valid=model.predict(features_test)\n",
    "print('Доля правильных решений (Случайный лес):',accuracy_score(prediction_valid,target_test))"
   ]
  },
  {
   "cell_type": "markdown",
   "metadata": {},
   "source": [
    "### Модель: Логистическая регрессия"
   ]
  },
  {
   "cell_type": "code",
   "execution_count": 21,
   "metadata": {
    "scrolled": true
   },
   "outputs": [
    {
     "name": "stdout",
     "output_type": "stream",
     "text": [
      "Доля правильных решений (Логистическая регрессия): 0.7589424572317263\n"
     ]
    }
   ],
   "source": [
    "model_logistic_Reg=LogisticRegression(random_state=12345) \n",
    "model_logistic_Reg.fit(features_train,target_train)\n",
    "predict_LogisticReg=model_logistic_Reg.predict(features_test) \n",
    "print('Доля правильных решений (Логистическая регрессия):',accuracy_score(predict_LogisticReg,target_test))"
   ]
  },
  {
   "cell_type": "markdown",
   "metadata": {},
   "source": [
    "### Модель: Случайный лес (валидация+обучение)"
   ]
  },
  {
   "cell_type": "code",
   "execution_count": 18,
   "metadata": {},
   "outputs": [],
   "source": [
    "#Объединим признаки из валидации и обучения\n",
    "features_df = features_train.append(features_valid)\n",
    "target_df = target_train.append(target_valid)"
   ]
  },
  {
   "cell_type": "code",
   "execution_count": 19,
   "metadata": {},
   "outputs": [
    {
     "name": "stdout",
     "output_type": "stream",
     "text": [
      "Доля правильных решений (Случайный лес): 0.9066874027993779\n"
     ]
    }
   ],
   "source": [
    "model = RandomForestClassifier(random_state=12345, n_estimators=15, max_depth=10)\n",
    "model.fit(features_df, target_df)\n",
    "prediction_valid=model.predict(features_test)\n",
    "print('Доля правильных решений (Случайный лес):',accuracy_score(prediction_valid,target_test))"
   ]
  },
  {
   "cell_type": "markdown",
   "metadata": {},
   "source": [
    "### Вывод"
   ]
  },
  {
   "cell_type": "markdown",
   "metadata": {},
   "source": [
    "При проверке по тестовой выборке, метрики качества тестовой выборки=метрикам качества валидационной модели:\n",
    "1. Дерево решений - 0.8320373250388803\n",
    "2. Случайный лес - 0.8429237947122862\n",
    "3. Логистическая регрессия - 0.7589424572317263"
   ]
  },
  {
   "cell_type": "markdown",
   "metadata": {},
   "source": [
    "## (бонус) Проверьте модели на адекватность"
   ]
  },
  {
   "cell_type": "code",
   "execution_count": 20,
   "metadata": {},
   "outputs": [
    {
     "name": "stdout",
     "output_type": "stream",
     "text": [
      "Доля правильных решений (Простейшая модель): 0.6877593360995851\n"
     ]
    }
   ],
   "source": [
    "#Построим простейшую (dummy) модель, которая всегда предсказывает наиболее часто встречающийся класс.\n",
    "dummy_clf = DummyClassifier(strategy=\"most_frequent\", random_state=0)\n",
    "dummy_clf.fit(features_train, target_train)\n",
    "print('Доля правильных решений (Простейшая модель):',dummy_clf.score(features_train, target_train))"
   ]
  },
  {
   "cell_type": "markdown",
   "metadata": {},
   "source": [
    "### Вывод"
   ]
  },
  {
   "cell_type": "markdown",
   "metadata": {},
   "source": [
    "Поскольку показатель доли правльных решений у базовой (простейшей модели) значительно меньше (0,68), мы можем говорить об адекватности наших моделей."
   ]
  },
  {
   "cell_type": "markdown",
   "metadata": {},
   "source": [
    "## Общий вывод"
   ]
  },
  {
   "cell_type": "markdown",
   "metadata": {},
   "source": [
    "<div style=\"border:solid green 5px; padding: 20px\">\n",
    "    \n",
    "**<font color=\"green\">Общий анализ данных датасета</font>**\n",
    "<br>По представленныым данным замечаний нет. Таблица имеет 5 столбцов и 3214 строк. Пропусков нет, дубликатов нет, тип данных менять не нужно.\n",
    "    \n",
    "**<font color=\"green\">Исследование моделей</font>**   \n",
    "<br>Наилучшие показатели доли правильных решений (accuracy) для моделей:\n",
    "<br>1. Дерево решений - 0.8320373250388803\n",
    "<br>2. Случайный лес - 0.8429237947122862\n",
    "<br>3. Логистическая регрессия - 0.7589424572317263\n",
    "  \n",
    "**<font color=\"green\">Проверка моделей на тестовой выборке</font>**     \n",
    "<br>При проверке по тестовой выборке, получили следующие показатели доли правильных решений (accuracy) для моделей:\n",
    "<br>1. Дерево решений - 0.7402799377916018\n",
    "<br>2. Случайный лес - 0.8398133748055988\n",
    "<br>3. Логистическая регрессия - 0.7589424572317263    \n",
    "    \n",
    "**<font color=\"green\">Проверка моделей на адекватность</font>**  \n",
    "<br>Поскольку показатель доли правльных решений у базовой (простейшей модели) значительно меньше (0,68), мы можем говорить об адекватности наших моделей.\n",
    "\n",
    "**<font color=\"green\">Итог</font>** \n",
    "<br>Наилучшая модель - Случайный лес со следующими показателями доли правильных решений (accuracy):\n",
    "<br>0.8429237947122862 - при проверке на валидационной выборке\n",
    "<br>0.8398133748055988 - при проверке на тестовой выборке "
   ]
  }
 ],
 "metadata": {
  "ExecuteTimeLog": [
   {
    "duration": 1585,
    "start_time": "2022-04-10T10:28:57.789Z"
   },
   {
    "duration": 22,
    "start_time": "2022-04-10T10:34:49.232Z"
   },
   {
    "duration": 29,
    "start_time": "2022-04-10T10:34:55.404Z"
   },
   {
    "duration": 7,
    "start_time": "2022-04-10T10:35:16.737Z"
   },
   {
    "duration": 35,
    "start_time": "2022-04-10T10:35:21.427Z"
   },
   {
    "duration": 17,
    "start_time": "2022-04-10T10:57:02.259Z"
   },
   {
    "duration": 35,
    "start_time": "2022-04-10T10:57:30.995Z"
   },
   {
    "duration": 4,
    "start_time": "2022-04-10T11:07:37.718Z"
   },
   {
    "duration": 8,
    "start_time": "2022-04-10T11:11:08.496Z"
   },
   {
    "duration": 8,
    "start_time": "2022-04-10T11:11:24.668Z"
   },
   {
    "duration": 12,
    "start_time": "2022-04-10T11:12:03.773Z"
   },
   {
    "duration": 37,
    "start_time": "2022-04-10T11:12:25.348Z"
   },
   {
    "duration": 11,
    "start_time": "2022-04-10T11:22:56.961Z"
   },
   {
    "duration": 6,
    "start_time": "2022-04-10T11:25:02.096Z"
   },
   {
    "duration": 6,
    "start_time": "2022-04-10T11:25:23.098Z"
   },
   {
    "duration": 6,
    "start_time": "2022-04-10T11:26:22.587Z"
   },
   {
    "duration": 7,
    "start_time": "2022-04-10T11:26:28.841Z"
   },
   {
    "duration": 5,
    "start_time": "2022-04-10T11:28:37.923Z"
   },
   {
    "duration": 144,
    "start_time": "2022-04-10T11:28:59.889Z"
   },
   {
    "duration": 19,
    "start_time": "2022-04-10T11:29:19.922Z"
   },
   {
    "duration": 7,
    "start_time": "2022-04-10T11:30:14.544Z"
   },
   {
    "duration": 14,
    "start_time": "2022-04-10T11:30:29.859Z"
   },
   {
    "duration": 6,
    "start_time": "2022-04-10T11:31:51.917Z"
   },
   {
    "duration": 6,
    "start_time": "2022-04-10T11:32:28.701Z"
   },
   {
    "duration": 5,
    "start_time": "2022-04-10T11:32:44.418Z"
   },
   {
    "duration": 12,
    "start_time": "2022-04-10T11:34:29.039Z"
   },
   {
    "duration": 12,
    "start_time": "2022-04-10T11:34:40.188Z"
   },
   {
    "duration": 284,
    "start_time": "2022-04-10T11:36:04.175Z"
   },
   {
    "duration": 513,
    "start_time": "2022-04-10T11:39:30.241Z"
   },
   {
    "duration": 300,
    "start_time": "2022-04-10T11:39:48.826Z"
   },
   {
    "duration": 2902,
    "start_time": "2022-04-10T11:53:03.606Z"
   },
   {
    "duration": 233,
    "start_time": "2022-04-10T11:53:35.981Z"
   },
   {
    "duration": 3266,
    "start_time": "2022-04-10T11:59:11.627Z"
   },
   {
    "duration": 3308,
    "start_time": "2022-04-10T11:59:25.086Z"
   },
   {
    "duration": 3355,
    "start_time": "2022-04-10T11:59:42.630Z"
   },
   {
    "duration": 3218,
    "start_time": "2022-04-10T11:59:56.460Z"
   },
   {
    "duration": 4219,
    "start_time": "2022-04-10T12:00:35.303Z"
   },
   {
    "duration": 3188,
    "start_time": "2022-04-10T12:00:45.491Z"
   },
   {
    "duration": 3159,
    "start_time": "2022-04-10T12:00:59.022Z"
   },
   {
    "duration": 3959,
    "start_time": "2022-04-10T12:01:07.439Z"
   },
   {
    "duration": 4260,
    "start_time": "2022-04-10T12:03:04.169Z"
   },
   {
    "duration": 2481,
    "start_time": "2022-04-10T12:03:19.235Z"
   },
   {
    "duration": 3267,
    "start_time": "2022-04-10T12:03:42.237Z"
   },
   {
    "duration": 38,
    "start_time": "2022-04-10T12:11:56.206Z"
   },
   {
    "duration": 150628,
    "start_time": "2022-04-10T12:15:26.600Z"
   },
   {
    "duration": 6,
    "start_time": "2022-04-10T12:21:14.442Z"
   },
   {
    "duration": 160275,
    "start_time": "2022-04-10T12:22:04.309Z"
   },
   {
    "duration": 12,
    "start_time": "2022-04-10T12:27:26.697Z"
   },
   {
    "duration": 94822,
    "start_time": "2022-04-10T12:27:34.714Z"
   },
   {
    "duration": 4061,
    "start_time": "2022-04-10T12:29:59.493Z"
   },
   {
    "duration": 5752,
    "start_time": "2022-04-10T12:30:20.122Z"
   },
   {
    "duration": 6234,
    "start_time": "2022-04-10T12:30:48.592Z"
   },
   {
    "duration": 3749,
    "start_time": "2022-04-10T12:31:09.782Z"
   },
   {
    "duration": 50300,
    "start_time": "2022-04-10T12:31:20.380Z"
   },
   {
    "duration": 46870,
    "start_time": "2022-04-10T12:34:55.279Z"
   },
   {
    "duration": 6357,
    "start_time": "2022-04-10T12:36:05.979Z"
   },
   {
    "duration": 5779,
    "start_time": "2022-04-10T12:36:39.899Z"
   },
   {
    "duration": 256,
    "start_time": "2022-04-10T12:37:09.973Z"
   },
   {
    "duration": 18002,
    "start_time": "2022-04-10T12:37:19.532Z"
   },
   {
    "duration": 18397,
    "start_time": "2022-04-10T12:38:37.429Z"
   },
   {
    "duration": 27243,
    "start_time": "2022-04-10T12:39:58.862Z"
   },
   {
    "duration": 25643,
    "start_time": "2022-04-10T12:45:41.193Z"
   },
   {
    "duration": 1688,
    "start_time": "2022-04-10T12:46:38.101Z"
   },
   {
    "duration": 5,
    "start_time": "2022-04-10T12:47:25.011Z"
   },
   {
    "duration": 1656,
    "start_time": "2022-04-10T12:48:34.542Z"
   },
   {
    "duration": 268,
    "start_time": "2022-04-10T12:50:00.939Z"
   },
   {
    "duration": 3045,
    "start_time": "2022-04-10T12:50:10.788Z"
   },
   {
    "duration": 28121,
    "start_time": "2022-04-10T12:50:50.248Z"
   },
   {
    "duration": 235,
    "start_time": "2022-04-10T12:53:27.379Z"
   },
   {
    "duration": 66,
    "start_time": "2022-04-10T13:00:40.602Z"
   },
   {
    "duration": 42,
    "start_time": "2022-04-10T13:04:45.498Z"
   },
   {
    "duration": 3,
    "start_time": "2022-04-10T14:10:33.967Z"
   },
   {
    "duration": 3,
    "start_time": "2022-04-10T14:10:44.766Z"
   },
   {
    "duration": 16,
    "start_time": "2022-04-10T14:11:34.708Z"
   },
   {
    "duration": 16,
    "start_time": "2022-04-10T14:13:53.207Z"
   },
   {
    "duration": 239,
    "start_time": "2022-04-10T14:15:18.019Z"
   },
   {
    "duration": 206,
    "start_time": "2022-04-10T14:15:38.946Z"
   },
   {
    "duration": 85,
    "start_time": "2022-04-10T14:16:35.864Z"
   },
   {
    "duration": 75,
    "start_time": "2022-04-10T14:18:14.409Z"
   },
   {
    "duration": 40,
    "start_time": "2022-04-10T14:19:10.805Z"
   },
   {
    "duration": 12,
    "start_time": "2022-04-10T14:23:53.513Z"
   },
   {
    "duration": 1650,
    "start_time": "2022-04-10T14:24:20.325Z"
   },
   {
    "duration": 51,
    "start_time": "2022-04-10T14:24:21.978Z"
   },
   {
    "duration": 15,
    "start_time": "2022-04-10T14:24:22.032Z"
   },
   {
    "duration": 38,
    "start_time": "2022-04-10T14:24:22.051Z"
   },
   {
    "duration": 8,
    "start_time": "2022-04-10T14:24:22.091Z"
   },
   {
    "duration": 45,
    "start_time": "2022-04-10T14:24:22.101Z"
   },
   {
    "duration": 8,
    "start_time": "2022-04-10T14:24:22.148Z"
   },
   {
    "duration": 7,
    "start_time": "2022-04-10T14:24:22.158Z"
   },
   {
    "duration": 16,
    "start_time": "2022-04-10T14:24:22.167Z"
   },
   {
    "duration": 5,
    "start_time": "2022-04-10T14:24:22.187Z"
   },
   {
    "duration": 5,
    "start_time": "2022-04-10T14:24:22.195Z"
   },
   {
    "duration": 256,
    "start_time": "2022-04-10T14:24:22.203Z"
   },
   {
    "duration": 21713,
    "start_time": "2022-04-10T14:24:22.462Z"
   },
   {
    "duration": 41,
    "start_time": "2022-04-10T14:24:44.177Z"
   },
   {
    "duration": 32,
    "start_time": "2022-04-10T14:24:44.220Z"
   },
   {
    "duration": 7,
    "start_time": "2022-04-10T14:26:03.484Z"
   },
   {
    "duration": 8,
    "start_time": "2022-04-10T14:31:42.084Z"
   },
   {
    "duration": 22,
    "start_time": "2022-04-10T14:32:04.743Z"
   },
   {
    "duration": 8,
    "start_time": "2022-04-10T14:32:53.683Z"
   },
   {
    "duration": 7,
    "start_time": "2022-04-10T14:34:22.909Z"
   },
   {
    "duration": 193,
    "start_time": "2022-04-10T14:38:55.828Z"
   },
   {
    "duration": 212,
    "start_time": "2022-04-10T14:38:57.488Z"
   },
   {
    "duration": 1622,
    "start_time": "2022-04-10T14:39:10.590Z"
   },
   {
    "duration": 62,
    "start_time": "2022-04-10T14:39:12.215Z"
   },
   {
    "duration": 12,
    "start_time": "2022-04-10T14:39:12.280Z"
   },
   {
    "duration": 50,
    "start_time": "2022-04-10T14:39:12.295Z"
   },
   {
    "duration": 10,
    "start_time": "2022-04-10T14:39:12.347Z"
   },
   {
    "duration": 10,
    "start_time": "2022-04-10T14:39:12.359Z"
   },
   {
    "duration": 6,
    "start_time": "2022-04-10T14:39:12.372Z"
   },
   {
    "duration": 7,
    "start_time": "2022-04-10T14:39:12.380Z"
   },
   {
    "duration": 12,
    "start_time": "2022-04-10T14:39:12.389Z"
   },
   {
    "duration": 7,
    "start_time": "2022-04-10T14:39:12.444Z"
   },
   {
    "duration": 7,
    "start_time": "2022-04-10T14:39:12.454Z"
   },
   {
    "duration": 257,
    "start_time": "2022-04-10T14:39:12.464Z"
   },
   {
    "duration": 30490,
    "start_time": "2022-04-10T14:39:12.723Z"
   },
   {
    "duration": 70,
    "start_time": "2022-04-10T14:39:43.216Z"
   },
   {
    "duration": 9,
    "start_time": "2022-04-10T14:39:43.288Z"
   },
   {
    "duration": 49,
    "start_time": "2022-04-10T14:39:43.299Z"
   },
   {
    "duration": 9,
    "start_time": "2022-04-10T14:39:43.350Z"
   },
   {
    "duration": 8,
    "start_time": "2022-04-10T14:47:04.035Z"
   },
   {
    "duration": 6,
    "start_time": "2022-04-10T14:48:29.310Z"
   },
   {
    "duration": 240,
    "start_time": "2022-04-10T14:49:06.273Z"
   },
   {
    "duration": 26,
    "start_time": "2022-04-10T14:49:23.012Z"
   },
   {
    "duration": 25,
    "start_time": "2022-04-10T14:49:28.357Z"
   },
   {
    "duration": 20,
    "start_time": "2022-04-10T14:50:15.430Z"
   },
   {
    "duration": 6,
    "start_time": "2022-04-10T14:52:18.115Z"
   },
   {
    "duration": 9,
    "start_time": "2022-04-10T14:52:20.354Z"
   },
   {
    "duration": 20,
    "start_time": "2022-04-10T14:52:47.017Z"
   },
   {
    "duration": 9,
    "start_time": "2022-04-10T14:55:31.248Z"
   },
   {
    "duration": 1536,
    "start_time": "2022-04-10T14:55:38.190Z"
   },
   {
    "duration": 48,
    "start_time": "2022-04-10T14:55:39.729Z"
   },
   {
    "duration": 14,
    "start_time": "2022-04-10T14:55:39.780Z"
   },
   {
    "duration": 51,
    "start_time": "2022-04-10T14:55:39.797Z"
   },
   {
    "duration": 9,
    "start_time": "2022-04-10T14:55:39.850Z"
   },
   {
    "duration": 9,
    "start_time": "2022-04-10T14:55:39.860Z"
   },
   {
    "duration": 9,
    "start_time": "2022-04-10T14:55:39.871Z"
   },
   {
    "duration": 10,
    "start_time": "2022-04-10T14:55:39.883Z"
   },
   {
    "duration": 48,
    "start_time": "2022-04-10T14:55:39.895Z"
   },
   {
    "duration": 5,
    "start_time": "2022-04-10T14:55:39.947Z"
   },
   {
    "duration": 7,
    "start_time": "2022-04-10T14:55:39.954Z"
   },
   {
    "duration": 244,
    "start_time": "2022-04-10T14:55:39.963Z"
   },
   {
    "duration": 21599,
    "start_time": "2022-04-10T14:55:40.209Z"
   },
   {
    "duration": 63,
    "start_time": "2022-04-10T14:56:01.811Z"
   },
   {
    "duration": 9,
    "start_time": "2022-04-10T14:56:01.877Z"
   },
   {
    "duration": 36,
    "start_time": "2022-04-10T14:56:01.889Z"
   },
   {
    "duration": 21,
    "start_time": "2022-04-10T14:56:01.927Z"
   },
   {
    "duration": 29,
    "start_time": "2022-04-10T14:56:01.950Z"
   },
   {
    "duration": 8,
    "start_time": "2022-04-10T14:59:21.829Z"
   },
   {
    "duration": 1271,
    "start_time": "2022-04-10T16:34:36.132Z"
   },
   {
    "duration": 204,
    "start_time": "2022-04-10T16:34:37.405Z"
   },
   {
    "duration": 9,
    "start_time": "2022-04-10T16:34:37.611Z"
   },
   {
    "duration": 26,
    "start_time": "2022-04-10T16:34:37.623Z"
   },
   {
    "duration": 6,
    "start_time": "2022-04-10T16:34:37.651Z"
   },
   {
    "duration": 7,
    "start_time": "2022-04-10T16:34:37.659Z"
   },
   {
    "duration": 5,
    "start_time": "2022-04-10T16:34:37.669Z"
   },
   {
    "duration": 6,
    "start_time": "2022-04-10T16:34:37.676Z"
   },
   {
    "duration": 11,
    "start_time": "2022-04-10T16:34:37.684Z"
   },
   {
    "duration": 35,
    "start_time": "2022-04-10T16:34:37.698Z"
   },
   {
    "duration": 4,
    "start_time": "2022-04-10T16:34:37.735Z"
   },
   {
    "duration": 208,
    "start_time": "2022-04-10T16:34:37.741Z"
   },
   {
    "duration": 16692,
    "start_time": "2022-04-10T16:34:37.951Z"
   },
   {
    "duration": 33,
    "start_time": "2022-04-10T16:34:54.645Z"
   },
   {
    "duration": 6,
    "start_time": "2022-04-10T16:34:54.679Z"
   },
   {
    "duration": 18,
    "start_time": "2022-04-10T16:34:54.687Z"
   },
   {
    "duration": 30,
    "start_time": "2022-04-10T16:34:54.706Z"
   },
   {
    "duration": 13,
    "start_time": "2022-04-10T16:34:54.737Z"
   },
   {
    "duration": 5,
    "start_time": "2022-04-10T16:49:27.078Z"
   },
   {
    "duration": 5,
    "start_time": "2022-04-10T16:49:39.070Z"
   },
   {
    "duration": 73,
    "start_time": "2022-04-11T19:57:37.955Z"
   },
   {
    "duration": 1906,
    "start_time": "2022-04-11T19:57:50.676Z"
   },
   {
    "duration": 42,
    "start_time": "2022-04-11T19:57:52.585Z"
   },
   {
    "duration": 14,
    "start_time": "2022-04-11T19:57:52.629Z"
   },
   {
    "duration": 57,
    "start_time": "2022-04-11T19:57:52.646Z"
   },
   {
    "duration": 9,
    "start_time": "2022-04-11T19:57:52.705Z"
   },
   {
    "duration": 14,
    "start_time": "2022-04-11T19:57:52.716Z"
   },
   {
    "duration": 8,
    "start_time": "2022-04-11T19:57:52.733Z"
   },
   {
    "duration": 43,
    "start_time": "2022-04-11T19:57:52.743Z"
   },
   {
    "duration": 19,
    "start_time": "2022-04-11T19:57:52.789Z"
   },
   {
    "duration": 6,
    "start_time": "2022-04-11T19:57:52.813Z"
   },
   {
    "duration": 12,
    "start_time": "2022-04-11T19:57:52.821Z"
   },
   {
    "duration": 263,
    "start_time": "2022-04-11T19:57:52.835Z"
   },
   {
    "duration": 25416,
    "start_time": "2022-04-11T19:57:53.100Z"
   },
   {
    "duration": 41,
    "start_time": "2022-04-11T19:58:18.518Z"
   },
   {
    "duration": 29,
    "start_time": "2022-04-11T19:58:18.561Z"
   },
   {
    "duration": 31,
    "start_time": "2022-04-11T19:58:18.592Z"
   },
   {
    "duration": 10,
    "start_time": "2022-04-11T19:58:18.625Z"
   },
   {
    "duration": 17,
    "start_time": "2022-04-11T19:58:18.637Z"
   },
   {
    "duration": 168,
    "start_time": "2022-04-11T20:21:28.779Z"
   },
   {
    "duration": 17,
    "start_time": "2022-04-11T20:21:56.379Z"
   },
   {
    "duration": 106,
    "start_time": "2022-04-11T20:26:03.329Z"
   },
   {
    "duration": 40,
    "start_time": "2022-04-11T20:28:40.871Z"
   },
   {
    "duration": 19,
    "start_time": "2022-04-11T20:34:25.515Z"
   },
   {
    "duration": 5,
    "start_time": "2022-04-11T20:36:52.823Z"
   },
   {
    "duration": 10,
    "start_time": "2022-04-11T20:37:01.090Z"
   },
   {
    "duration": 5,
    "start_time": "2022-04-11T20:38:20.114Z"
   },
   {
    "duration": 99,
    "start_time": "2022-04-11T20:40:03.082Z"
   },
   {
    "duration": 43,
    "start_time": "2022-04-12T08:24:26.188Z"
   },
   {
    "duration": 1070,
    "start_time": "2022-04-12T08:24:37.078Z"
   },
   {
    "duration": 31,
    "start_time": "2022-04-12T08:24:38.150Z"
   },
   {
    "duration": 8,
    "start_time": "2022-04-12T08:24:38.183Z"
   },
   {
    "duration": 22,
    "start_time": "2022-04-12T08:24:38.192Z"
   },
   {
    "duration": 5,
    "start_time": "2022-04-12T08:24:38.216Z"
   },
   {
    "duration": 5,
    "start_time": "2022-04-12T08:24:38.223Z"
   },
   {
    "duration": 4,
    "start_time": "2022-04-12T08:24:38.229Z"
   },
   {
    "duration": 3,
    "start_time": "2022-04-12T08:24:38.235Z"
   },
   {
    "duration": 13,
    "start_time": "2022-04-12T08:24:38.240Z"
   },
   {
    "duration": 4,
    "start_time": "2022-04-12T08:24:38.255Z"
   },
   {
    "duration": 8,
    "start_time": "2022-04-12T08:24:38.260Z"
   },
   {
    "duration": 165,
    "start_time": "2022-04-12T08:24:38.270Z"
   },
   {
    "duration": 13854,
    "start_time": "2022-04-12T08:24:38.437Z"
   },
   {
    "duration": 39,
    "start_time": "2022-04-12T08:24:52.292Z"
   },
   {
    "duration": 11,
    "start_time": "2022-04-12T08:24:52.332Z"
   },
   {
    "duration": 50,
    "start_time": "2022-04-12T08:24:52.344Z"
   },
   {
    "duration": 41,
    "start_time": "2022-04-12T08:24:52.395Z"
   },
   {
    "duration": 10,
    "start_time": "2022-04-12T08:24:52.437Z"
   },
   {
    "duration": 99,
    "start_time": "2022-04-12T08:24:52.449Z"
   },
   {
    "duration": 0,
    "start_time": "2022-04-12T08:24:52.549Z"
   },
   {
    "duration": 0,
    "start_time": "2022-04-12T08:24:52.550Z"
   },
   {
    "duration": 0,
    "start_time": "2022-04-12T08:24:52.551Z"
   },
   {
    "duration": 4,
    "start_time": "2022-04-12T08:25:15.147Z"
   },
   {
    "duration": 10,
    "start_time": "2022-04-12T08:25:18.282Z"
   },
   {
    "duration": 42,
    "start_time": "2022-04-13T17:48:08.382Z"
   },
   {
    "duration": 1072,
    "start_time": "2022-04-13T17:48:29.677Z"
   },
   {
    "duration": 32,
    "start_time": "2022-04-13T17:48:30.751Z"
   },
   {
    "duration": 9,
    "start_time": "2022-04-13T17:48:30.785Z"
   },
   {
    "duration": 23,
    "start_time": "2022-04-13T17:48:30.796Z"
   },
   {
    "duration": 6,
    "start_time": "2022-04-13T17:48:30.821Z"
   },
   {
    "duration": 24,
    "start_time": "2022-04-13T17:48:30.829Z"
   },
   {
    "duration": 16,
    "start_time": "2022-04-13T17:48:30.855Z"
   },
   {
    "duration": 10,
    "start_time": "2022-04-13T17:48:30.872Z"
   },
   {
    "duration": 26,
    "start_time": "2022-04-13T17:48:30.883Z"
   },
   {
    "duration": 25,
    "start_time": "2022-04-13T17:48:30.911Z"
   },
   {
    "duration": 10,
    "start_time": "2022-04-13T17:48:30.938Z"
   },
   {
    "duration": 140,
    "start_time": "2022-04-13T17:48:30.950Z"
   },
   {
    "duration": 13538,
    "start_time": "2022-04-13T17:48:31.092Z"
   },
   {
    "duration": 26,
    "start_time": "2022-04-13T17:48:44.632Z"
   },
   {
    "duration": 11,
    "start_time": "2022-04-13T17:48:44.659Z"
   },
   {
    "duration": 78,
    "start_time": "2022-04-13T17:48:44.672Z"
   },
   {
    "duration": 26,
    "start_time": "2022-04-13T17:48:44.752Z"
   },
   {
    "duration": 5,
    "start_time": "2022-04-13T17:48:44.779Z"
   },
   {
    "duration": 80,
    "start_time": "2022-04-13T17:48:44.785Z"
   },
   {
    "duration": 5,
    "start_time": "2022-04-13T17:48:44.867Z"
   },
   {
    "duration": 26,
    "start_time": "2022-04-13T17:48:59.352Z"
   }
  ],
  "kernelspec": {
   "display_name": "Python 3 (ipykernel)",
   "language": "python",
   "name": "python3"
  },
  "language_info": {
   "codemirror_mode": {
    "name": "ipython",
    "version": 3
   },
   "file_extension": ".py",
   "mimetype": "text/x-python",
   "name": "python",
   "nbconvert_exporter": "python",
   "pygments_lexer": "ipython3",
   "version": "3.9.7"
  },
  "toc": {
   "base_numbering": 1,
   "nav_menu": {},
   "number_sections": true,
   "sideBar": true,
   "skip_h1_title": true,
   "title_cell": "Оглавление",
   "title_sidebar": "Contents",
   "toc_cell": true,
   "toc_position": {},
   "toc_section_display": true,
   "toc_window_display": true
  }
 },
 "nbformat": 4,
 "nbformat_minor": 2
}
